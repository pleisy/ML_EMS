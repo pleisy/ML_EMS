{
 "cells": [
  {
   "cell_type": "markdown",
   "metadata": {
    "slideshow": {
     "slide_type": "slide"
    }
   },
   "source": [
    "# PREPARATION"
   ]
  },
  {
   "cell_type": "markdown",
   "metadata": {
    "cell_style": "split"
   },
   "source": [
    "## import librairies"
   ]
  },
  {
   "cell_type": "code",
   "execution_count": 1,
   "metadata": {
    "ExecuteTime": {
     "end_time": "2020-03-09T20:43:38.996942Z",
     "start_time": "2020-03-09T20:43:32.003827Z"
    },
    "slideshow": {
     "slide_type": "skip"
    }
   },
   "outputs": [
    {
     "name": "stdout",
     "output_type": "stream",
     "text": [
      "Panda version: 0.25.1\n",
      "Numpy version: 1.17.2\n",
      "posix \n",
      " Darwin \n",
      " 18.0.0\n",
      "MATPLOTLIB version: 3.2.0\n",
      "Seaborn version: 0.9.0\n"
     ]
    }
   ],
   "source": [
    "# Indispensables\n",
    "import pandas as pd\n",
    "import numpy as np\n",
    "#import geopandas as gpd\n",
    "#import math\n",
    "print('Panda version: %s' % pd.__version__)\n",
    "print('Numpy version: %s' % np.__version__)\n",
    "\n",
    "# general\n",
    "import os\n",
    "from os import listdir\n",
    "#from os.path import isfile, join\n",
    "#from os import walk\n",
    "import sys\n",
    "import io\n",
    "import glob\n",
    "import platform\n",
    "#\n",
    "print(os.name, \"\\n\", platform.system(), \"\\n\", platform.release())\n",
    "#\n",
    "import argparse\n",
    "#from datetime import datetime\n",
    "#import h5py\n",
    "#import importlib\n",
    "\n",
    "# VISU\n",
    "import seaborn as sns\n",
    "import matplotlib\n",
    "import matplotlib.pyplot as plt\n",
    "#import matplotlib.colors as mcolors\n",
    "#from matplotlib.colors import LogNorm\n",
    "\n",
    "# IMAGES\n",
    "#from IPython.display import Image, IFrame\n",
    "#from PIL import Image\n",
    "#import rasterio\n",
    "import imageio\n",
    "\n",
    "import colorsys\n",
    "\n",
    "print('MATPLOTLIB version: %s' % matplotlib.__version__)\n",
    "print('Seaborn version: %s' % sns.__version__)\n",
    "#print('Geo Panda version: %s' % gpd.__version__)\n",
    "\n",
    "%matplotlib inline\n"
   ]
  },
  {
   "cell_type": "code",
   "execution_count": 2,
   "metadata": {
    "ExecuteTime": {
     "end_time": "2020-03-09T20:44:04.672163Z",
     "start_time": "2020-03-09T20:43:45.162033Z"
    },
    "slideshow": {
     "slide_type": "subslide"
    }
   },
   "outputs": [
    {
     "name": "stderr",
     "output_type": "stream",
     "text": [
      "/Users/pl/anaconda3/lib/python3.7/site-packages/tensorflow/python/framework/dtypes.py:526: FutureWarning:\n",
      "\n",
      "Passing (type, 1) or '1type' as a synonym of type is deprecated; in a future version of numpy, it will be understood as (type, (1,)) / '(1,)type'.\n",
      "\n",
      "/Users/pl/anaconda3/lib/python3.7/site-packages/tensorflow/python/framework/dtypes.py:527: FutureWarning:\n",
      "\n",
      "Passing (type, 1) or '1type' as a synonym of type is deprecated; in a future version of numpy, it will be understood as (type, (1,)) / '(1,)type'.\n",
      "\n",
      "/Users/pl/anaconda3/lib/python3.7/site-packages/tensorflow/python/framework/dtypes.py:528: FutureWarning:\n",
      "\n",
      "Passing (type, 1) or '1type' as a synonym of type is deprecated; in a future version of numpy, it will be understood as (type, (1,)) / '(1,)type'.\n",
      "\n",
      "/Users/pl/anaconda3/lib/python3.7/site-packages/tensorflow/python/framework/dtypes.py:529: FutureWarning:\n",
      "\n",
      "Passing (type, 1) or '1type' as a synonym of type is deprecated; in a future version of numpy, it will be understood as (type, (1,)) / '(1,)type'.\n",
      "\n",
      "/Users/pl/anaconda3/lib/python3.7/site-packages/tensorflow/python/framework/dtypes.py:530: FutureWarning:\n",
      "\n",
      "Passing (type, 1) or '1type' as a synonym of type is deprecated; in a future version of numpy, it will be understood as (type, (1,)) / '(1,)type'.\n",
      "\n",
      "/Users/pl/anaconda3/lib/python3.7/site-packages/tensorflow/python/framework/dtypes.py:535: FutureWarning:\n",
      "\n",
      "Passing (type, 1) or '1type' as a synonym of type is deprecated; in a future version of numpy, it will be understood as (type, (1,)) / '(1,)type'.\n",
      "\n",
      "/Users/pl/anaconda3/lib/python3.7/importlib/_bootstrap.py:219: RuntimeWarning:\n",
      "\n",
      "compiletime version 3.6 of module 'tensorflow.python.framework.fast_tensor_util' does not match runtime version 3.7\n",
      "\n"
     ]
    },
    {
     "name": "stdout",
     "output_type": "stream",
     "text": [
      "TensorFlow: 1.13.1\n",
      "Keras: 2.3.1\n"
     ]
    },
    {
     "name": "stderr",
     "output_type": "stream",
     "text": [
      "Using TensorFlow backend.\n"
     ]
    }
   ],
   "source": [
    "from __future__ import print_function\n",
    "\n",
    "# Machine Lerning\n",
    "import tensorflow as tf\n",
    "import keras\n",
    "\n",
    "from keras.models import Sequential\n",
    "from keras.layers import Dense, Dropout, Flatten, Activation     #LSTM\n",
    "from keras.layers import Conv1D, Conv2D, MaxPooling1D, MaxPooling2D\n",
    "from keras import backend as K\n",
    "from keras.callbacks import History\n",
    "\n",
    "from keras.optimizers import SGD\n",
    "from keras.regularizers import l2\n",
    "\n",
    "print('TensorFlow: %s' % tf.__version__)\n",
    "print('Keras: %s' % keras.__version__)"
   ]
  },
  {
   "cell_type": "markdown",
   "metadata": {
    "slideshow": {
     "slide_type": "skip"
    }
   },
   "source": [
    "## Déclaration des directories et variables"
   ]
  },
  {
   "cell_type": "code",
   "execution_count": 3,
   "metadata": {
    "ExecuteTime": {
     "end_time": "2020-03-09T20:44:16.164570Z",
     "start_time": "2020-03-09T20:44:16.087185Z"
    },
    "slideshow": {
     "slide_type": "skip"
    }
   },
   "outputs": [
    {
     "name": "stdout",
     "output_type": "stream",
     "text": [
      "Working directory: /Users/pl/Desktop/DATA_SCIENCE/NOTEBOOK\n",
      "Data ROOT directory: /Users/pl/Desktop/DATA_SCIENCE/NOTEBOOK/EMS/DATA1/\n"
     ]
    },
    {
     "data": {
      "text/plain": [
       "['/Users/pl/Desktop/DATA_SCIENCE/NOTEBOOK',\n",
       " '/Users/pl/anaconda3/lib/python37.zip',\n",
       " '/Users/pl/anaconda3/lib/python3.7',\n",
       " '/Users/pl/anaconda3/lib/python3.7/lib-dynload',\n",
       " '',\n",
       " '/Users/pl/anaconda3/lib/python3.7/site-packages',\n",
       " '/Users/pl/anaconda3/lib/python3.7/site-packages/IPython/extensions',\n",
       " '/Users/pl/.ipython',\n",
       " '/Users/pl/Desktop/DATA_SCIENCE/NOTEBOOK/EMS/DATA1/',\n",
       " '/Users/pl/Desktop/DATA_SCIENCE/NOTEBOOK/EMS/DATA1/DallesNumPoints5m\\\\']"
      ]
     },
     "execution_count": 3,
     "metadata": {},
     "output_type": "execute_result"
    }
   ],
   "source": [
    "BASE_DIR = os.getcwd()\n",
    "\n",
    "separe = \"/\"\n",
    "# Laptop\n",
    "if platform.system() == 'Darwin' and platform.release() == '18.7.0':\n",
    "    DATA_DIR  = \"/Users/pierreleisy/Data_Science/NOTEBOOK/STAGE/DATA1/\"\n",
    "    DATA_DIR2 = \"/Users/pierreleisy/Data_Science/NOTEBOOK/STAGE/DATA2/\"\n",
    "    DATA_DIR3 = \"/Users/pierreleisy/Data_Science/NOTEBOOK/STAGE/\"\n",
    "# sur IMAC\n",
    "else:   #if platform.system() == 'Darwin' and platform.release() == '18.0.0':\n",
    "    DATA_DIR  = \"/Users/pl/Desktop/DATA_SCIENCE/NOTEBOOK/EMS/DATA1/\"\n",
    "    DATA_DIR2 = \"/Users/pl/Desktop/DATA_SCIENCE/NOTEBOOK/EMS/DATA2/\"\n",
    "    DATA_DIR3 = \"/Users/pl/Desktop/DATA_SCIENCE/NOTEBOOK/EMS/\"\n",
    "## Eurométropole\n",
    "if platform.system() == 'Windows':\n",
    "    DATA_DIR  = \"S:\\\\Commun\\\\SIG3D\\\\2020\\\\PROJETS_2020\\\\20039_MachineLearning\\\\DATA\\\\\"\n",
    "    DATA_DIR2 = \"S:\\\\Commun\\\\SIG3D\\\\2020\\\\PROJETS_2020\\\\20039_MachineLearning\\\\DATA2\\\\\"\n",
    "    DATA_DIR3 = \"C:\\\\Users\\\\STG3841\\\\Mes Documents (local)\\\\travail\\\\\"\n",
    "    separe = \"\\\\\"   \n",
    "    \n",
    "DALLE_NUM = DATA_DIR + \"DallesNumPoints5m\" + separe\n",
    "DALLE_ECA = DATA_DIR + \"DallesEcartZ5m\" + separe\n",
    "DALLE_POS = DATA_DIR + \"DallesPosition5m\" + separe\n",
    "print(\"Working directory:\",BASE_DIR)\n",
    "print(\"Data ROOT directory:\",DATA_DIR)\n",
    "\n",
    "sys.path.append(DATA_DIR)\n",
    "sys.path.append(os.path.join(DATA_DIR,'DallesNumPoints5m\\\\'))\n",
    "sys.path"
   ]
  },
  {
   "cell_type": "markdown",
   "metadata": {
    "slideshow": {
     "slide_type": "skip"
    }
   },
   "source": [
    "## création des listes d'images"
   ]
  },
  {
   "cell_type": "code",
   "execution_count": 4,
   "metadata": {
    "ExecuteTime": {
     "end_time": "2020-03-09T20:44:25.662429Z",
     "start_time": "2020-03-09T20:44:22.386997Z"
    },
    "slideshow": {
     "slide_type": "skip"
    }
   },
   "outputs": [
    {
     "name": "stdout",
     "output_type": "stream",
     "text": [
      "58771 29384 29384 29384\n",
      "58771 58773 58768\n"
     ]
    }
   ],
   "source": [
    "#liste1 = [f for f in listdir(DALLE_NUM) if isfile(join(DALLE_NUM, f))]\n",
    "liste_1 = [f for f in glob.glob(DALLE_NUM + separe + \"*.tif\", recursive=True)]#   #only first N for test\n",
    "liste_2 = [f for f in glob.glob(DALLE_ECA + separe + \"*.tif\", recursive=True)]#\n",
    "liste_3 = [f for f in glob.glob(DALLE_POS + separe + \"*.tif\", recursive=True)]#\n",
    "print(len(listdir(DALLE_NUM)), len(liste_1), len(liste_2), len(liste_3))\n",
    "\n",
    "liste_NUM = os.listdir(DALLE_NUM)\n",
    "liste_ECA = os.listdir(DALLE_ECA)\n",
    "liste_POS = os.listdir(DALLE_POS)\n",
    "print(len(liste_NUM), len(liste_ECA), len(liste_POS))"
   ]
  },
  {
   "cell_type": "markdown",
   "metadata": {
    "slideshow": {
     "slide_type": "skip"
    }
   },
   "source": [
    "# DONNEES"
   ]
  },
  {
   "cell_type": "markdown",
   "metadata": {
    "slideshow": {
     "slide_type": "skip"
    }
   },
   "source": [
    "## TEST:  Lecture des images"
   ]
  },
  {
   "cell_type": "markdown",
   "metadata": {
    "slideshow": {
     "slide_type": "skip"
    }
   },
   "source": [
    "## lecture/creation fichier/dataframe lampes des lampadaires présents dans la dalle 1x1 km"
   ]
  },
  {
   "cell_type": "code",
   "execution_count": 5,
   "metadata": {
    "ExecuteTime": {
     "end_time": "2020-03-09T20:44:32.067327Z",
     "start_time": "2020-03-09T20:44:31.052358Z"
    },
    "slideshow": {
     "slide_type": "skip"
    }
   },
   "outputs": [
    {
     "name": "stdout",
     "output_type": "stream",
     "text": [
      "Bord inférieur gauche: 2042500 7272000 200 200 5\n",
      "0    3.0\n",
      "1    4.0\n",
      "2    6.0\n",
      "3    2.0\n",
      "4    1.0\n",
      "dtype: float64\n",
      "mean       1.79\n",
      "count    200.00\n",
      "sum      358.00\n",
      "dtype: float64\n",
      "(200, 200) (40000, 1) (355, 5)\n",
      "357.0\n"
     ]
    },
    {
     "data": {
      "text/html": [
       "<div>\n",
       "<style scoped>\n",
       "    .dataframe tbody tr th:only-of-type {\n",
       "        vertical-align: middle;\n",
       "    }\n",
       "\n",
       "    .dataframe tbody tr th {\n",
       "        vertical-align: top;\n",
       "    }\n",
       "\n",
       "    .dataframe thead th {\n",
       "        text-align: right;\n",
       "    }\n",
       "</style>\n",
       "<table border=\"1\" class=\"dataframe\">\n",
       "  <thead>\n",
       "    <tr style=\"text-align: right;\">\n",
       "      <th></th>\n",
       "      <th>_column</th>\n",
       "      <th>_row</th>\n",
       "      <th>_overlaps</th>\n",
       "      <th>posX</th>\n",
       "      <th>posY</th>\n",
       "    </tr>\n",
       "  </thead>\n",
       "  <tbody>\n",
       "    <tr>\n",
       "      <td>0</td>\n",
       "      <td>0</td>\n",
       "      <td>80</td>\n",
       "      <td>1</td>\n",
       "      <td>2042502</td>\n",
       "      <td>7272402</td>\n",
       "    </tr>\n",
       "    <tr>\n",
       "      <td>1</td>\n",
       "      <td>0</td>\n",
       "      <td>92</td>\n",
       "      <td>1</td>\n",
       "      <td>2042502</td>\n",
       "      <td>7272462</td>\n",
       "    </tr>\n",
       "    <tr>\n",
       "      <td>2</td>\n",
       "      <td>0</td>\n",
       "      <td>102</td>\n",
       "      <td>1</td>\n",
       "      <td>2042502</td>\n",
       "      <td>7272512</td>\n",
       "    </tr>\n",
       "    <tr>\n",
       "      <td>3</td>\n",
       "      <td>0</td>\n",
       "      <td>106</td>\n",
       "      <td>1</td>\n",
       "      <td>2042502</td>\n",
       "      <td>7272532</td>\n",
       "    </tr>\n",
       "    <tr>\n",
       "      <td>4</td>\n",
       "      <td>0</td>\n",
       "      <td>169</td>\n",
       "      <td>1</td>\n",
       "      <td>2042502</td>\n",
       "      <td>7272847</td>\n",
       "    </tr>\n",
       "  </tbody>\n",
       "</table>\n",
       "</div>"
      ],
      "text/plain": [
       "   _column  _row  _overlaps     posX     posY\n",
       "0        0    80          1  2042502  7272402\n",
       "1        0    92          1  2042502  7272462\n",
       "2        0   102          1  2042502  7272512\n",
       "3        0   106          1  2042502  7272532\n",
       "4        0   169          1  2042502  7272847"
      ]
     },
     "execution_count": 5,
     "metadata": {},
     "output_type": "execute_result"
    }
   ],
   "source": [
    "# Intialisation des variables de la dalle\n",
    "fich_lamp  = DATA_DIR  + \"LampadairePresence_0_1_5m.asc\"\n",
    "fich_lamp2 = DATA_DIR2 + \"listepositif.xlsx\"\n",
    "\n",
    "header = pd.read_csv(fich_lamp, sep=\" \", header=None, skiprows=0, nrows=5, names=[\"noms\",\"valeurs\"])\n",
    "n_row =  header['valeurs'][0]\n",
    "n_col =  header['valeurs'][1]\n",
    "xlow = header['valeurs'][2]\n",
    "ylow = header['valeurs'][3]\n",
    "cell_size = header['valeurs'][4]\n",
    "print(\"Bord inférieur gauche:\", xlow, ylow, n_row, n_col, cell_size)\n",
    "\n",
    "lampadaires = pd.read_csv(fich_lamp, sep=\" \", header=None, skiprows=6)\n",
    "print(lampadaires.sum().head(5))\n",
    "print(lampadaires.nunique().agg(['mean','count','sum']))\n",
    "##################################\n",
    "# reconstruit le tableau dans le bon schéma usuel\n",
    "# calcule la transposee\n",
    "lampadaires = lampadaires.T\n",
    "# inversion des colonnes (nombre pair de colonnes, mais pas nécessaire)\n",
    "lampadaires = lampadaires[lampadaires.columns[::-1]]\n",
    "##################################\n",
    "lampes0 = pd.DataFrame(np.reshape(lampadaires.to_numpy(), n_row*n_col))\n",
    "\n",
    "lampes2 = pd.read_excel(fich_lamp2, header=0, skiprows=0)\n",
    "print(lampadaires.shape, lampes0.shape, lampes2.shape)\n",
    "#print(lampadaires.describe())\n",
    "print(lampadaires.sum().sum())\n",
    "lampes2.head(5)"
   ]
  },
  {
   "cell_type": "markdown",
   "metadata": {
    "slideshow": {
     "slide_type": "skip"
    }
   },
   "source": [
    "## rempli le dataframe lampes0 et lampes1"
   ]
  },
  {
   "cell_type": "code",
   "execution_count": 6,
   "metadata": {
    "ExecuteTime": {
     "end_time": "2020-03-09T20:44:39.461262Z",
     "start_time": "2020-03-09T20:44:39.149558Z"
    },
    "slideshow": {
     "slide_type": "skip"
    }
   },
   "outputs": [
    {
     "name": "stdout",
     "output_type": "stream",
     "text": [
      "present     int8\n",
      "NumI       int32\n",
      "NumY       int32\n",
      "NumX       int32\n",
      "dtype: object\n",
      "Dalle: (40000, 9) Nbre lampadaires: (357, 9)\n"
     ]
    },
    {
     "data": {
      "text/html": [
       "<div>\n",
       "<style scoped>\n",
       "    .dataframe tbody tr th:only-of-type {\n",
       "        vertical-align: middle;\n",
       "    }\n",
       "\n",
       "    .dataframe tbody tr th {\n",
       "        vertical-align: top;\n",
       "    }\n",
       "\n",
       "    .dataframe thead th {\n",
       "        text-align: right;\n",
       "    }\n",
       "</style>\n",
       "<table border=\"1\" class=\"dataframe\">\n",
       "  <thead>\n",
       "    <tr style=\"text-align: right;\">\n",
       "      <th></th>\n",
       "      <th>present</th>\n",
       "      <th>NumI</th>\n",
       "      <th>NumY</th>\n",
       "      <th>NumX</th>\n",
       "      <th>X</th>\n",
       "      <th>Y</th>\n",
       "      <th>nom_NUM</th>\n",
       "      <th>nom_ECA</th>\n",
       "      <th>nom_POS</th>\n",
       "    </tr>\n",
       "  </thead>\n",
       "  <tbody>\n",
       "    <tr>\n",
       "      <td>0</td>\n",
       "      <td>0</td>\n",
       "      <td>0</td>\n",
       "      <td>0</td>\n",
       "      <td>0</td>\n",
       "      <td>2042500</td>\n",
       "      <td>7272000</td>\n",
       "      <td>2042500_7272000_NumPoints5m.tif</td>\n",
       "      <td>2042500_7272000_EcartZ5m.tif</td>\n",
       "      <td>2042500_7272000_Position5m.tif</td>\n",
       "    </tr>\n",
       "    <tr>\n",
       "      <td>1</td>\n",
       "      <td>0</td>\n",
       "      <td>1</td>\n",
       "      <td>1</td>\n",
       "      <td>0</td>\n",
       "      <td>2042500</td>\n",
       "      <td>7272005</td>\n",
       "      <td>2042500_7272005_NumPoints5m.tif</td>\n",
       "      <td>2042500_7272005_EcartZ5m.tif</td>\n",
       "      <td>2042500_7272005_Position5m.tif</td>\n",
       "    </tr>\n",
       "    <tr>\n",
       "      <td>2</td>\n",
       "      <td>0</td>\n",
       "      <td>2</td>\n",
       "      <td>2</td>\n",
       "      <td>0</td>\n",
       "      <td>2042500</td>\n",
       "      <td>7272010</td>\n",
       "      <td>2042500_7272010_NumPoints5m.tif</td>\n",
       "      <td>2042500_7272010_EcartZ5m.tif</td>\n",
       "      <td>2042500_7272010_Position5m.tif</td>\n",
       "    </tr>\n",
       "    <tr>\n",
       "      <td>3</td>\n",
       "      <td>0</td>\n",
       "      <td>3</td>\n",
       "      <td>3</td>\n",
       "      <td>0</td>\n",
       "      <td>2042500</td>\n",
       "      <td>7272015</td>\n",
       "      <td>2042500_7272015_NumPoints5m.tif</td>\n",
       "      <td>2042500_7272015_EcartZ5m.tif</td>\n",
       "      <td>2042500_7272015_Position5m.tif</td>\n",
       "    </tr>\n",
       "    <tr>\n",
       "      <td>4</td>\n",
       "      <td>0</td>\n",
       "      <td>4</td>\n",
       "      <td>4</td>\n",
       "      <td>0</td>\n",
       "      <td>2042500</td>\n",
       "      <td>7272020</td>\n",
       "      <td>2042500_7272020_NumPoints5m.tif</td>\n",
       "      <td>2042500_7272020_EcartZ5m.tif</td>\n",
       "      <td>2042500_7272020_Position5m.tif</td>\n",
       "    </tr>\n",
       "  </tbody>\n",
       "</table>\n",
       "</div>"
      ],
      "text/plain": [
       "   present  NumI  NumY  NumX        X        Y  \\\n",
       "0        0     0     0     0  2042500  7272000   \n",
       "1        0     1     1     0  2042500  7272005   \n",
       "2        0     2     2     0  2042500  7272010   \n",
       "3        0     3     3     0  2042500  7272015   \n",
       "4        0     4     4     0  2042500  7272020   \n",
       "\n",
       "                           nom_NUM                       nom_ECA  \\\n",
       "0  2042500_7272000_NumPoints5m.tif  2042500_7272000_EcartZ5m.tif   \n",
       "1  2042500_7272005_NumPoints5m.tif  2042500_7272005_EcartZ5m.tif   \n",
       "2  2042500_7272010_NumPoints5m.tif  2042500_7272010_EcartZ5m.tif   \n",
       "3  2042500_7272015_NumPoints5m.tif  2042500_7272015_EcartZ5m.tif   \n",
       "4  2042500_7272020_NumPoints5m.tif  2042500_7272020_EcartZ5m.tif   \n",
       "\n",
       "                          nom_POS  \n",
       "0  2042500_7272000_Position5m.tif  \n",
       "1  2042500_7272005_Position5m.tif  \n",
       "2  2042500_7272010_Position5m.tif  \n",
       "3  2042500_7272015_Position5m.tif  \n",
       "4  2042500_7272020_Position5m.tif  "
      ]
     },
     "execution_count": 6,
     "metadata": {},
     "output_type": "execute_result"
    }
   ],
   "source": [
    "lampes0['NumI'] = lampes0.index\n",
    "lampes0['NumY'] = lampes0['NumI'].mod(other=n_col)\n",
    "lampes0['NumX'] = ((lampes0['NumI'] - n_row + 1) / n_row).apply(np.ceil)\n",
    "#lampes = lampes.drop(['Num'], axis=1)\n",
    "lampes0.rename(columns={0: 'present'}, inplace=True)\n",
    "lampes0 = lampes0.astype({'present': 'int8'}, copy=False)\n",
    "lampes0 = lampes0.astype({'NumY': 'int32'}, copy=False)\n",
    "lampes0 = lampes0.astype({'NumI': 'int32'}, copy=False)\n",
    "lampes0 = lampes0.astype({'NumX': 'int32'}, copy=False)\n",
    "print(lampes0.dtypes)\n",
    "#print(lampes.describe(include='all'))\n",
    "lampes0['X'] = xlow + lampes0['NumX'] * cell_size\n",
    "lampes0['Y'] = ylow + lampes0['NumY'] * cell_size\n",
    "lampes0['nom_NUM'] = lampes0['X'].map(str) + \"_\" + lampes0['Y'].map(str) +  \"_NumPoints5m.tif\"\n",
    "lampes0['nom_ECA'] = lampes0['X'].map(str) + \"_\" + lampes0['Y'].map(str) + \"_EcartZ5m.tif\"\n",
    "lampes0['nom_POS'] = lampes0['X'].map(str) + \"_\" + lampes0['Y'].map(str) +  \"_Position5m.tif\"\n",
    "# extraction des lampadaires\n",
    "lampes1 = lampes0[lampes0['present'] > 0]\n",
    "print(\"Dalle:\", lampes0.shape, \"Nbre lampadaires:\", lampes1.shape)\n",
    "lampes0.head()"
   ]
  },
  {
   "cell_type": "code",
   "execution_count": 7,
   "metadata": {
    "ExecuteTime": {
     "end_time": "2020-03-09T20:44:41.125109Z",
     "start_time": "2020-03-09T20:44:41.050615Z"
    },
    "slideshow": {
     "slide_type": "skip"
    }
   },
   "outputs": [
    {
     "data": {
      "text/html": [
       "<div>\n",
       "<style scoped>\n",
       "    .dataframe tbody tr th:only-of-type {\n",
       "        vertical-align: middle;\n",
       "    }\n",
       "\n",
       "    .dataframe tbody tr th {\n",
       "        vertical-align: top;\n",
       "    }\n",
       "\n",
       "    .dataframe thead th {\n",
       "        text-align: right;\n",
       "    }\n",
       "</style>\n",
       "<table border=\"1\" class=\"dataframe\">\n",
       "  <thead>\n",
       "    <tr style=\"text-align: right;\">\n",
       "      <th></th>\n",
       "      <th>present</th>\n",
       "      <th>NumI</th>\n",
       "      <th>NumY</th>\n",
       "      <th>NumX</th>\n",
       "      <th>X</th>\n",
       "      <th>Y</th>\n",
       "      <th>nom_NUM</th>\n",
       "      <th>nom_ECA</th>\n",
       "      <th>nom_POS</th>\n",
       "    </tr>\n",
       "  </thead>\n",
       "  <tbody>\n",
       "    <tr>\n",
       "      <td>39336</td>\n",
       "      <td>1</td>\n",
       "      <td>39336</td>\n",
       "      <td>136</td>\n",
       "      <td>196</td>\n",
       "      <td>2043480</td>\n",
       "      <td>7272680</td>\n",
       "      <td>2043480_7272680_NumPoints5m.tif</td>\n",
       "      <td>2043480_7272680_EcartZ5m.tif</td>\n",
       "      <td>2043480_7272680_Position5m.tif</td>\n",
       "    </tr>\n",
       "    <tr>\n",
       "      <td>39384</td>\n",
       "      <td>1</td>\n",
       "      <td>39384</td>\n",
       "      <td>184</td>\n",
       "      <td>196</td>\n",
       "      <td>2043480</td>\n",
       "      <td>7272920</td>\n",
       "      <td>2043480_7272920_NumPoints5m.tif</td>\n",
       "      <td>2043480_7272920_EcartZ5m.tif</td>\n",
       "      <td>2043480_7272920_Position5m.tif</td>\n",
       "    </tr>\n",
       "    <tr>\n",
       "      <td>39520</td>\n",
       "      <td>1</td>\n",
       "      <td>39520</td>\n",
       "      <td>120</td>\n",
       "      <td>197</td>\n",
       "      <td>2043485</td>\n",
       "      <td>7272600</td>\n",
       "      <td>2043485_7272600_NumPoints5m.tif</td>\n",
       "      <td>2043485_7272600_EcartZ5m.tif</td>\n",
       "      <td>2043485_7272600_Position5m.tif</td>\n",
       "    </tr>\n",
       "    <tr>\n",
       "      <td>39570</td>\n",
       "      <td>1</td>\n",
       "      <td>39570</td>\n",
       "      <td>170</td>\n",
       "      <td>197</td>\n",
       "      <td>2043485</td>\n",
       "      <td>7272850</td>\n",
       "      <td>2043485_7272850_NumPoints5m.tif</td>\n",
       "      <td>2043485_7272850_EcartZ5m.tif</td>\n",
       "      <td>2043485_7272850_Position5m.tif</td>\n",
       "    </tr>\n",
       "    <tr>\n",
       "      <td>39577</td>\n",
       "      <td>1</td>\n",
       "      <td>39577</td>\n",
       "      <td>177</td>\n",
       "      <td>197</td>\n",
       "      <td>2043485</td>\n",
       "      <td>7272885</td>\n",
       "      <td>2043485_7272885_NumPoints5m.tif</td>\n",
       "      <td>2043485_7272885_EcartZ5m.tif</td>\n",
       "      <td>2043485_7272885_Position5m.tif</td>\n",
       "    </tr>\n",
       "    <tr>\n",
       "      <td>39685</td>\n",
       "      <td>1</td>\n",
       "      <td>39685</td>\n",
       "      <td>85</td>\n",
       "      <td>198</td>\n",
       "      <td>2043490</td>\n",
       "      <td>7272425</td>\n",
       "      <td>2043490_7272425_NumPoints5m.tif</td>\n",
       "      <td>2043490_7272425_EcartZ5m.tif</td>\n",
       "      <td>2043490_7272425_Position5m.tif</td>\n",
       "    </tr>\n",
       "    <tr>\n",
       "      <td>39756</td>\n",
       "      <td>1</td>\n",
       "      <td>39756</td>\n",
       "      <td>156</td>\n",
       "      <td>198</td>\n",
       "      <td>2043490</td>\n",
       "      <td>7272780</td>\n",
       "      <td>2043490_7272780_NumPoints5m.tif</td>\n",
       "      <td>2043490_7272780_EcartZ5m.tif</td>\n",
       "      <td>2043490_7272780_Position5m.tif</td>\n",
       "    </tr>\n",
       "    <tr>\n",
       "      <td>39763</td>\n",
       "      <td>1</td>\n",
       "      <td>39763</td>\n",
       "      <td>163</td>\n",
       "      <td>198</td>\n",
       "      <td>2043490</td>\n",
       "      <td>7272815</td>\n",
       "      <td>2043490_7272815_NumPoints5m.tif</td>\n",
       "      <td>2043490_7272815_EcartZ5m.tif</td>\n",
       "      <td>2043490_7272815_Position5m.tif</td>\n",
       "    </tr>\n",
       "  </tbody>\n",
       "</table>\n",
       "</div>"
      ],
      "text/plain": [
       "       present   NumI  NumY  NumX        X        Y  \\\n",
       "39336        1  39336   136   196  2043480  7272680   \n",
       "39384        1  39384   184   196  2043480  7272920   \n",
       "39520        1  39520   120   197  2043485  7272600   \n",
       "39570        1  39570   170   197  2043485  7272850   \n",
       "39577        1  39577   177   197  2043485  7272885   \n",
       "39685        1  39685    85   198  2043490  7272425   \n",
       "39756        1  39756   156   198  2043490  7272780   \n",
       "39763        1  39763   163   198  2043490  7272815   \n",
       "\n",
       "                               nom_NUM                       nom_ECA  \\\n",
       "39336  2043480_7272680_NumPoints5m.tif  2043480_7272680_EcartZ5m.tif   \n",
       "39384  2043480_7272920_NumPoints5m.tif  2043480_7272920_EcartZ5m.tif   \n",
       "39520  2043485_7272600_NumPoints5m.tif  2043485_7272600_EcartZ5m.tif   \n",
       "39570  2043485_7272850_NumPoints5m.tif  2043485_7272850_EcartZ5m.tif   \n",
       "39577  2043485_7272885_NumPoints5m.tif  2043485_7272885_EcartZ5m.tif   \n",
       "39685  2043490_7272425_NumPoints5m.tif  2043490_7272425_EcartZ5m.tif   \n",
       "39756  2043490_7272780_NumPoints5m.tif  2043490_7272780_EcartZ5m.tif   \n",
       "39763  2043490_7272815_NumPoints5m.tif  2043490_7272815_EcartZ5m.tif   \n",
       "\n",
       "                              nom_POS  \n",
       "39336  2043480_7272680_Position5m.tif  \n",
       "39384  2043480_7272920_Position5m.tif  \n",
       "39520  2043485_7272600_Position5m.tif  \n",
       "39570  2043485_7272850_Position5m.tif  \n",
       "39577  2043485_7272885_Position5m.tif  \n",
       "39685  2043490_7272425_Position5m.tif  \n",
       "39756  2043490_7272780_Position5m.tif  \n",
       "39763  2043490_7272815_Position5m.tif  "
      ]
     },
     "execution_count": 7,
     "metadata": {},
     "output_type": "execute_result"
    }
   ],
   "source": [
    "lampes1.tail(8)"
   ]
  },
  {
   "cell_type": "code",
   "execution_count": 8,
   "metadata": {
    "ExecuteTime": {
     "end_time": "2020-03-09T20:44:43.506619Z",
     "start_time": "2020-03-09T20:44:43.424871Z"
    },
    "slideshow": {
     "slide_type": "skip"
    }
   },
   "outputs": [
    {
     "name": "stdout",
     "output_type": "stream",
     "text": [
      "(357, 9) (40000, 9)\n"
     ]
    },
    {
     "data": {
      "text/html": [
       "<div>\n",
       "<style scoped>\n",
       "    .dataframe tbody tr th:only-of-type {\n",
       "        vertical-align: middle;\n",
       "    }\n",
       "\n",
       "    .dataframe tbody tr th {\n",
       "        vertical-align: top;\n",
       "    }\n",
       "\n",
       "    .dataframe thead th {\n",
       "        text-align: right;\n",
       "    }\n",
       "</style>\n",
       "<table border=\"1\" class=\"dataframe\">\n",
       "  <thead>\n",
       "    <tr style=\"text-align: right;\">\n",
       "      <th></th>\n",
       "      <th>present</th>\n",
       "      <th>NumI</th>\n",
       "      <th>NumY</th>\n",
       "      <th>NumX</th>\n",
       "      <th>X</th>\n",
       "      <th>Y</th>\n",
       "      <th>nom_NUM</th>\n",
       "      <th>nom_ECA</th>\n",
       "      <th>nom_POS</th>\n",
       "    </tr>\n",
       "  </thead>\n",
       "  <tbody>\n",
       "    <tr>\n",
       "      <td>27731</td>\n",
       "      <td>1</td>\n",
       "      <td>27731</td>\n",
       "      <td>131</td>\n",
       "      <td>138</td>\n",
       "      <td>2043190</td>\n",
       "      <td>7272655</td>\n",
       "      <td>2043190_7272655_NumPoints5m.tif</td>\n",
       "      <td>2043190_7272655_EcartZ5m.tif</td>\n",
       "      <td>2043190_7272655_Position5m.tif</td>\n",
       "    </tr>\n",
       "    <tr>\n",
       "      <td>27747</td>\n",
       "      <td>1</td>\n",
       "      <td>27747</td>\n",
       "      <td>147</td>\n",
       "      <td>138</td>\n",
       "      <td>2043190</td>\n",
       "      <td>7272735</td>\n",
       "      <td>2043190_7272735_NumPoints5m.tif</td>\n",
       "      <td>2043190_7272735_EcartZ5m.tif</td>\n",
       "      <td>2043190_7272735_Position5m.tif</td>\n",
       "    </tr>\n",
       "    <tr>\n",
       "      <td>28103</td>\n",
       "      <td>1</td>\n",
       "      <td>28103</td>\n",
       "      <td>103</td>\n",
       "      <td>140</td>\n",
       "      <td>2043200</td>\n",
       "      <td>7272515</td>\n",
       "      <td>2043200_7272515_NumPoints5m.tif</td>\n",
       "      <td>2043200_7272515_EcartZ5m.tif</td>\n",
       "      <td>2043200_7272515_Position5m.tif</td>\n",
       "    </tr>\n",
       "    <tr>\n",
       "      <td>28125</td>\n",
       "      <td>1</td>\n",
       "      <td>28125</td>\n",
       "      <td>125</td>\n",
       "      <td>140</td>\n",
       "      <td>2043200</td>\n",
       "      <td>7272625</td>\n",
       "      <td>2043200_7272625_NumPoints5m.tif</td>\n",
       "      <td>2043200_7272625_EcartZ5m.tif</td>\n",
       "      <td>2043200_7272625_Position5m.tif</td>\n",
       "    </tr>\n",
       "    <tr>\n",
       "      <td>28131</td>\n",
       "      <td>1</td>\n",
       "      <td>28131</td>\n",
       "      <td>131</td>\n",
       "      <td>140</td>\n",
       "      <td>2043200</td>\n",
       "      <td>7272655</td>\n",
       "      <td>2043200_7272655_NumPoints5m.tif</td>\n",
       "      <td>2043200_7272655_EcartZ5m.tif</td>\n",
       "      <td>2043200_7272655_Position5m.tif</td>\n",
       "    </tr>\n",
       "    <tr>\n",
       "      <td>28193</td>\n",
       "      <td>1</td>\n",
       "      <td>28193</td>\n",
       "      <td>193</td>\n",
       "      <td>140</td>\n",
       "      <td>2043200</td>\n",
       "      <td>7272965</td>\n",
       "      <td>2043200_7272965_NumPoints5m.tif</td>\n",
       "      <td>2043200_7272965_EcartZ5m.tif</td>\n",
       "      <td>2043200_7272965_Position5m.tif</td>\n",
       "    </tr>\n",
       "    <tr>\n",
       "      <td>28256</td>\n",
       "      <td>1</td>\n",
       "      <td>28256</td>\n",
       "      <td>56</td>\n",
       "      <td>141</td>\n",
       "      <td>2043205</td>\n",
       "      <td>7272280</td>\n",
       "      <td>2043205_7272280_NumPoints5m.tif</td>\n",
       "      <td>2043205_7272280_EcartZ5m.tif</td>\n",
       "      <td>2043205_7272280_Position5m.tif</td>\n",
       "    </tr>\n",
       "    <tr>\n",
       "      <td>28393</td>\n",
       "      <td>1</td>\n",
       "      <td>28393</td>\n",
       "      <td>193</td>\n",
       "      <td>141</td>\n",
       "      <td>2043205</td>\n",
       "      <td>7272965</td>\n",
       "      <td>2043205_7272965_NumPoints5m.tif</td>\n",
       "      <td>2043205_7272965_EcartZ5m.tif</td>\n",
       "      <td>2043205_7272965_Position5m.tif</td>\n",
       "    </tr>\n",
       "    <tr>\n",
       "      <td>28463</td>\n",
       "      <td>1</td>\n",
       "      <td>28463</td>\n",
       "      <td>63</td>\n",
       "      <td>142</td>\n",
       "      <td>2043210</td>\n",
       "      <td>7272315</td>\n",
       "      <td>2043210_7272315_NumPoints5m.tif</td>\n",
       "      <td>2043210_7272315_EcartZ5m.tif</td>\n",
       "      <td>2043210_7272315_Position5m.tif</td>\n",
       "    </tr>\n",
       "    <tr>\n",
       "      <td>28464</td>\n",
       "      <td>1</td>\n",
       "      <td>28464</td>\n",
       "      <td>64</td>\n",
       "      <td>142</td>\n",
       "      <td>2043210</td>\n",
       "      <td>7272320</td>\n",
       "      <td>2043210_7272320_NumPoints5m.tif</td>\n",
       "      <td>2043210_7272320_EcartZ5m.tif</td>\n",
       "      <td>2043210_7272320_Position5m.tif</td>\n",
       "    </tr>\n",
       "    <tr>\n",
       "      <td>28662</td>\n",
       "      <td>1</td>\n",
       "      <td>28662</td>\n",
       "      <td>62</td>\n",
       "      <td>143</td>\n",
       "      <td>2043215</td>\n",
       "      <td>7272310</td>\n",
       "      <td>2043215_7272310_NumPoints5m.tif</td>\n",
       "      <td>2043215_7272310_EcartZ5m.tif</td>\n",
       "      <td>2043215_7272310_Position5m.tif</td>\n",
       "    </tr>\n",
       "    <tr>\n",
       "      <td>28665</td>\n",
       "      <td>1</td>\n",
       "      <td>28665</td>\n",
       "      <td>65</td>\n",
       "      <td>143</td>\n",
       "      <td>2043215</td>\n",
       "      <td>7272325</td>\n",
       "      <td>2043215_7272325_NumPoints5m.tif</td>\n",
       "      <td>2043215_7272325_EcartZ5m.tif</td>\n",
       "      <td>2043215_7272325_Position5m.tif</td>\n",
       "    </tr>\n",
       "    <tr>\n",
       "      <td>28717</td>\n",
       "      <td>1</td>\n",
       "      <td>28717</td>\n",
       "      <td>117</td>\n",
       "      <td>143</td>\n",
       "      <td>2043215</td>\n",
       "      <td>7272585</td>\n",
       "      <td>2043215_7272585_NumPoints5m.tif</td>\n",
       "      <td>2043215_7272585_EcartZ5m.tif</td>\n",
       "      <td>2043215_7272585_Position5m.tif</td>\n",
       "    </tr>\n",
       "    <tr>\n",
       "      <td>28762</td>\n",
       "      <td>1</td>\n",
       "      <td>28762</td>\n",
       "      <td>162</td>\n",
       "      <td>143</td>\n",
       "      <td>2043215</td>\n",
       "      <td>7272810</td>\n",
       "      <td>2043215_7272810_NumPoints5m.tif</td>\n",
       "      <td>2043215_7272810_EcartZ5m.tif</td>\n",
       "      <td>2043215_7272810_Position5m.tif</td>\n",
       "    </tr>\n",
       "    <tr>\n",
       "      <td>28794</td>\n",
       "      <td>1</td>\n",
       "      <td>28794</td>\n",
       "      <td>194</td>\n",
       "      <td>143</td>\n",
       "      <td>2043215</td>\n",
       "      <td>7272970</td>\n",
       "      <td>2043215_7272970_NumPoints5m.tif</td>\n",
       "      <td>2043215_7272970_EcartZ5m.tif</td>\n",
       "      <td>2043215_7272970_Position5m.tif</td>\n",
       "    </tr>\n",
       "    <tr>\n",
       "      <td>28858</td>\n",
       "      <td>1</td>\n",
       "      <td>28858</td>\n",
       "      <td>58</td>\n",
       "      <td>144</td>\n",
       "      <td>2043220</td>\n",
       "      <td>7272290</td>\n",
       "      <td>2043220_7272290_NumPoints5m.tif</td>\n",
       "      <td>2043220_7272290_EcartZ5m.tif</td>\n",
       "      <td>2043220_7272290_Position5m.tif</td>\n",
       "    </tr>\n",
       "    <tr>\n",
       "      <td>28859</td>\n",
       "      <td>1</td>\n",
       "      <td>28859</td>\n",
       "      <td>59</td>\n",
       "      <td>144</td>\n",
       "      <td>2043220</td>\n",
       "      <td>7272295</td>\n",
       "      <td>2043220_7272295_NumPoints5m.tif</td>\n",
       "      <td>2043220_7272295_EcartZ5m.tif</td>\n",
       "      <td>2043220_7272295_Position5m.tif</td>\n",
       "    </tr>\n",
       "    <tr>\n",
       "      <td>28867</td>\n",
       "      <td>1</td>\n",
       "      <td>28867</td>\n",
       "      <td>67</td>\n",
       "      <td>144</td>\n",
       "      <td>2043220</td>\n",
       "      <td>7272335</td>\n",
       "      <td>2043220_7272335_NumPoints5m.tif</td>\n",
       "      <td>2043220_7272335_EcartZ5m.tif</td>\n",
       "      <td>2043220_7272335_Position5m.tif</td>\n",
       "    </tr>\n",
       "    <tr>\n",
       "      <td>28871</td>\n",
       "      <td>1</td>\n",
       "      <td>28871</td>\n",
       "      <td>71</td>\n",
       "      <td>144</td>\n",
       "      <td>2043220</td>\n",
       "      <td>7272355</td>\n",
       "      <td>2043220_7272355_NumPoints5m.tif</td>\n",
       "      <td>2043220_7272355_EcartZ5m.tif</td>\n",
       "      <td>2043220_7272355_Position5m.tif</td>\n",
       "    </tr>\n",
       "    <tr>\n",
       "      <td>28873</td>\n",
       "      <td>1</td>\n",
       "      <td>28873</td>\n",
       "      <td>73</td>\n",
       "      <td>144</td>\n",
       "      <td>2043220</td>\n",
       "      <td>7272365</td>\n",
       "      <td>2043220_7272365_NumPoints5m.tif</td>\n",
       "      <td>2043220_7272365_EcartZ5m.tif</td>\n",
       "      <td>2043220_7272365_Position5m.tif</td>\n",
       "    </tr>\n",
       "  </tbody>\n",
       "</table>\n",
       "</div>"
      ],
      "text/plain": [
       "       present   NumI  NumY  NumX        X        Y  \\\n",
       "27731        1  27731   131   138  2043190  7272655   \n",
       "27747        1  27747   147   138  2043190  7272735   \n",
       "28103        1  28103   103   140  2043200  7272515   \n",
       "28125        1  28125   125   140  2043200  7272625   \n",
       "28131        1  28131   131   140  2043200  7272655   \n",
       "28193        1  28193   193   140  2043200  7272965   \n",
       "28256        1  28256    56   141  2043205  7272280   \n",
       "28393        1  28393   193   141  2043205  7272965   \n",
       "28463        1  28463    63   142  2043210  7272315   \n",
       "28464        1  28464    64   142  2043210  7272320   \n",
       "28662        1  28662    62   143  2043215  7272310   \n",
       "28665        1  28665    65   143  2043215  7272325   \n",
       "28717        1  28717   117   143  2043215  7272585   \n",
       "28762        1  28762   162   143  2043215  7272810   \n",
       "28794        1  28794   194   143  2043215  7272970   \n",
       "28858        1  28858    58   144  2043220  7272290   \n",
       "28859        1  28859    59   144  2043220  7272295   \n",
       "28867        1  28867    67   144  2043220  7272335   \n",
       "28871        1  28871    71   144  2043220  7272355   \n",
       "28873        1  28873    73   144  2043220  7272365   \n",
       "\n",
       "                               nom_NUM                       nom_ECA  \\\n",
       "27731  2043190_7272655_NumPoints5m.tif  2043190_7272655_EcartZ5m.tif   \n",
       "27747  2043190_7272735_NumPoints5m.tif  2043190_7272735_EcartZ5m.tif   \n",
       "28103  2043200_7272515_NumPoints5m.tif  2043200_7272515_EcartZ5m.tif   \n",
       "28125  2043200_7272625_NumPoints5m.tif  2043200_7272625_EcartZ5m.tif   \n",
       "28131  2043200_7272655_NumPoints5m.tif  2043200_7272655_EcartZ5m.tif   \n",
       "28193  2043200_7272965_NumPoints5m.tif  2043200_7272965_EcartZ5m.tif   \n",
       "28256  2043205_7272280_NumPoints5m.tif  2043205_7272280_EcartZ5m.tif   \n",
       "28393  2043205_7272965_NumPoints5m.tif  2043205_7272965_EcartZ5m.tif   \n",
       "28463  2043210_7272315_NumPoints5m.tif  2043210_7272315_EcartZ5m.tif   \n",
       "28464  2043210_7272320_NumPoints5m.tif  2043210_7272320_EcartZ5m.tif   \n",
       "28662  2043215_7272310_NumPoints5m.tif  2043215_7272310_EcartZ5m.tif   \n",
       "28665  2043215_7272325_NumPoints5m.tif  2043215_7272325_EcartZ5m.tif   \n",
       "28717  2043215_7272585_NumPoints5m.tif  2043215_7272585_EcartZ5m.tif   \n",
       "28762  2043215_7272810_NumPoints5m.tif  2043215_7272810_EcartZ5m.tif   \n",
       "28794  2043215_7272970_NumPoints5m.tif  2043215_7272970_EcartZ5m.tif   \n",
       "28858  2043220_7272290_NumPoints5m.tif  2043220_7272290_EcartZ5m.tif   \n",
       "28859  2043220_7272295_NumPoints5m.tif  2043220_7272295_EcartZ5m.tif   \n",
       "28867  2043220_7272335_NumPoints5m.tif  2043220_7272335_EcartZ5m.tif   \n",
       "28871  2043220_7272355_NumPoints5m.tif  2043220_7272355_EcartZ5m.tif   \n",
       "28873  2043220_7272365_NumPoints5m.tif  2043220_7272365_EcartZ5m.tif   \n",
       "\n",
       "                              nom_POS  \n",
       "27731  2043190_7272655_Position5m.tif  \n",
       "27747  2043190_7272735_Position5m.tif  \n",
       "28103  2043200_7272515_Position5m.tif  \n",
       "28125  2043200_7272625_Position5m.tif  \n",
       "28131  2043200_7272655_Position5m.tif  \n",
       "28193  2043200_7272965_Position5m.tif  \n",
       "28256  2043205_7272280_Position5m.tif  \n",
       "28393  2043205_7272965_Position5m.tif  \n",
       "28463  2043210_7272315_Position5m.tif  \n",
       "28464  2043210_7272320_Position5m.tif  \n",
       "28662  2043215_7272310_Position5m.tif  \n",
       "28665  2043215_7272325_Position5m.tif  \n",
       "28717  2043215_7272585_Position5m.tif  \n",
       "28762  2043215_7272810_Position5m.tif  \n",
       "28794  2043215_7272970_Position5m.tif  \n",
       "28858  2043220_7272290_Position5m.tif  \n",
       "28859  2043220_7272295_Position5m.tif  \n",
       "28867  2043220_7272335_Position5m.tif  \n",
       "28871  2043220_7272355_Position5m.tif  \n",
       "28873  2043220_7272365_Position5m.tif  "
      ]
     },
     "execution_count": 8,
     "metadata": {},
     "output_type": "execute_result"
    }
   ],
   "source": [
    "print(lampes1.shape, lampes0.shape)\n",
    "lampes1.head(240).tail(20)\n"
   ]
  },
  {
   "cell_type": "markdown",
   "metadata": {
    "slideshow": {
     "slide_type": "skip"
    }
   },
   "source": [
    "## Extraction de(s) image(s) dans un dataframe unique (à partir de imageio)"
   ]
  },
  {
   "cell_type": "code",
   "execution_count": null,
   "metadata": {
    "slideshow": {
     "slide_type": "skip"
    }
   },
   "outputs": [],
   "source": []
  },
  {
   "cell_type": "code",
   "execution_count": 9,
   "metadata": {
    "ExecuteTime": {
     "end_time": "2020-03-09T21:01:20.157525Z",
     "start_time": "2020-03-09T20:45:07.445014Z"
    },
    "slideshow": {
     "slide_type": "skip"
    }
   },
   "outputs": [
    {
     "name": "stdout",
     "output_type": "stream",
     "text": [
      "M: 1\n",
      "357 352 29032 29384 29384 30 39592\n"
     ]
    },
    {
     "data": {
      "text/plain": [
       "(39592, 10, 10)"
      ]
     },
     "execution_count": 9,
     "metadata": {},
     "output_type": "execute_result"
    },
    {
     "name": "stdout",
     "output_type": "stream",
     "text": [
      "29032 10560 39592\n",
      "M: 2\n",
      "357 352 29032 29384 29384 30 39592\n"
     ]
    },
    {
     "data": {
      "text/plain": [
       "(39592, 10, 10)"
      ]
     },
     "execution_count": 9,
     "metadata": {},
     "output_type": "execute_result"
    },
    {
     "name": "stdout",
     "output_type": "stream",
     "text": [
      "29032 10560 39592\n",
      "M: 3\n",
      "357 352 29032 29384 29384 30 39592\n"
     ]
    },
    {
     "data": {
      "text/plain": [
       "(39592, 10, 10)"
      ]
     },
     "execution_count": 9,
     "metadata": {},
     "output_type": "execute_result"
    },
    {
     "name": "stdout",
     "output_type": "stream",
     "text": [
      "29032 10560 39592\n"
     ]
    }
   ],
   "source": [
    "from keras.preprocessing.image import load_img, save_img\n",
    "from keras.preprocessing.image import img_to_array\n",
    "from keras.preprocessing.image import array_to_img\n",
    "\n",
    "off = 200000\n",
    "if off > 40000:\n",
    "    off = len(liste_1)\n",
    "NN = 0\n",
    "NM = NN + off\n",
    "\n",
    "dal1 = ['nom_NUM', 'nom_ECA', 'nom_POS']\n",
    "dal2 = [DALLE_NUM, DALLE_ECA, DALLE_POS]\n",
    "listes = [liste_1, liste_2, liste_3]\n",
    "data = ['data1', 'data12', 'data3']\n",
    "#### Pour eviter les fichiers manquants\n",
    "# Compare les deux SETS (impossible avec des listes)\n",
    "for m in range(1,4):\n",
    "    print(\"M:\", m)\n",
    "    set_A = set(dal2[m-1] + lampes1[dal1[m-1]])\n",
    "    set_B = set(listes[m-1])\n",
    "    set_C1 = set_A & set_B\n",
    "    set_C2 = set_B - set_A\n",
    "    liste_C = list(set_C2)\n",
    "    liste_extraite0 = list(liste_C[NN:NM]) + list(set_C1)\n",
    "    mult = int(len(liste_extraite0)/len(set_C1))\n",
    "    mult = 30\n",
    "    liste_extraite  = list(liste_C[NN:NM]) + mult * list(set_C1)\n",
    "    #liste_extraite = list(set(list(liste_1[NN:NM]) + list(set_C1)))\n",
    "    print(len(set_A), len(set_C1), len(set_C2), len(liste_1), len(liste_extraite0), mult, len(liste_extraite))\n",
    "    test = True\n",
    "    #test = False\n",
    "    # creation du tenseur resultant ... merge tous les fichiers images\n",
    "    if test:\n",
    "    #  Ne fonctionne pas np.array(load_img(fname)) for fname in list_lamp0\n",
    "        data[m-1] = np.array([np.array(imageio.imread(fname)) for fname in liste_extraite])\n",
    "        data[m-1].shape\n",
    "        fichier = DATA_DIR3 + \"data_LAS_\" + str(dal1[m-1]) + \"_\" + str(off) + \".npy\"\n",
    "        np.save(fichier, data[m-1])\n",
    "\n",
    "    liste_y1 = [ 0 for x in range(len(liste_C[NN:NM]))]\n",
    "    liste_y2 = [ 1 for x in range(mult * len(list(set_C1)))]\n",
    "    liste_y = liste_y1 + liste_y2\n",
    "    print(len(liste_y1), len(liste_y2), len(liste_y))"
   ]
  },
  {
   "cell_type": "markdown",
   "metadata": {
    "slideshow": {
     "slide_type": "skip"
    }
   },
   "source": [
    "### Lecture de TOUS les fichiers\n",
    "5s pour 100 fichiers\n",
    "\n",
    "~45-60mn ? pour 40000 fichiers\n",
    "\n",
    "création de la table de 200-300 colonnes"
   ]
  },
  {
   "cell_type": "code",
   "execution_count": 11,
   "metadata": {
    "ExecuteTime": {
     "end_time": "2020-03-09T21:26:05.671246Z",
     "start_time": "2020-03-09T21:06:25.507974Z"
    },
    "slideshow": {
     "slide_type": "skip"
    }
   },
   "outputs": [
    {
     "name": "stdout",
     "output_type": "stream",
     "text": [
      "40357 40357 40000 40000\n",
      "0 0\n",
      "500 389\n",
      "1000 808\n",
      "1225 1000 1000 1000 0\n",
      "1500 1228\n",
      "2000 1638\n",
      "2437 2000 2000 2000 0\n",
      "2500 2057\n",
      "3000 2424\n",
      "3500 2846\n",
      "3680 3000 3000 3000 0\n",
      "4000 3269\n",
      "4500 3700\n",
      "4868 4000 4000 4000 0\n",
      "5000 4113\n",
      "5500 4543\n",
      "6000 4972\n",
      "6041 5000 5000 5000 0\n",
      "6500 5414\n",
      "7000 5858\n",
      "7161 6000 6000 6000 0\n",
      "7500 6302\n",
      "8000 6750\n",
      "8265 7000 7000 7000 0\n",
      "8500 7219\n",
      "9000 7698\n",
      "9331 8000 8000 8000 0\n",
      "9500 8152\n",
      "10000 8611\n",
      "10443 9000 9000 9000 0\n",
      "10500 9056\n",
      "11000 9491\n",
      "11500 9898\n",
      "11635 10000 10000 10000 0\n",
      "12000 10310\n",
      "12500 10697\n",
      "12906 11000 11000 11000 0\n",
      "13000 11072\n",
      "13500 11480\n",
      "14000 11877\n",
      "14171 12000 12000 12000 0\n",
      "14500 12243\n",
      "15000 12596\n",
      "15500 12930\n",
      "15599 13000 13000 13000 0\n",
      "16000 13219\n",
      "16500 13550\n",
      "17000 13869\n",
      "17206 14000 14000 14000 0\n",
      "17500 14188\n",
      "18000 14491\n",
      "18500 14863\n",
      "18688 15000 15000 15000 0\n",
      "19000 15256\n",
      "19500 15665\n",
      "19935 16000 16000 16000 0\n",
      "20000 16037\n",
      "20500 16424\n",
      "21000 16778\n",
      "21297 17000 17000 17000 0\n",
      "21500 17144\n",
      "22000 17476\n",
      "22500 17780\n",
      "22865 18000 18000 18000 0\n",
      "23000 18086\n",
      "23500 18423\n",
      "24000 18732\n",
      "24421 19000 19000 19000 0\n",
      "24500 19057\n",
      "25000 19393\n",
      "25500 19733\n",
      "25903 20000 20000 20000 0\n",
      "26000 20053\n",
      "26500 20395\n",
      "27000 20753\n",
      "27322 21000 21000 21000 0\n",
      "27500 21151\n",
      "28000 21536\n",
      "28500 21913\n",
      "28611 22000 22000 22000 0\n",
      "29000 22303\n",
      "29500 22661\n",
      "30000 22991\n",
      "30009 23000 23000 23000 0\n",
      "30500 23333\n",
      "31000 23625\n",
      "31500 23866\n",
      "31783 24000 24000 24000 0\n",
      "32000 24122\n",
      "32500 24420\n",
      "33000 24727\n",
      "33427 25000 25000 25000 0\n",
      "33500 25040\n",
      "34000 25345\n",
      "34500 25709\n",
      "34890 26000 26000 26000 0\n",
      "35000 26069\n",
      "35500 26436\n",
      "36000 26764\n",
      "36337 27000 27000 27000 0\n",
      "36500 27111\n",
      "37000 27425\n",
      "37500 27755\n",
      "37878 28000 28000 28000 0\n",
      "38000 28072\n",
      "38500 28407\n",
      "39000 28728\n",
      "39416 29000 29000 29000 0\n",
      "39500 29059\n",
      "40000 29384\n",
      "40357 29736 29736 29736 10621 (29736, 201) 1.0\n"
     ]
    },
    {
     "data": {
      "text/html": [
       "<div>\n",
       "<style scoped>\n",
       "    .dataframe tbody tr th:only-of-type {\n",
       "        vertical-align: middle;\n",
       "    }\n",
       "\n",
       "    .dataframe tbody tr th {\n",
       "        vertical-align: top;\n",
       "    }\n",
       "\n",
       "    .dataframe thead th {\n",
       "        text-align: right;\n",
       "    }\n",
       "</style>\n",
       "<table border=\"1\" class=\"dataframe\">\n",
       "  <thead>\n",
       "    <tr style=\"text-align: right;\">\n",
       "      <th></th>\n",
       "      <th>0_num</th>\n",
       "      <th>1_num</th>\n",
       "      <th>2_num</th>\n",
       "      <th>3_num</th>\n",
       "      <th>4_num</th>\n",
       "      <th>5_num</th>\n",
       "      <th>6_num</th>\n",
       "      <th>7_num</th>\n",
       "      <th>8_num</th>\n",
       "      <th>9_num</th>\n",
       "      <th>10_num</th>\n",
       "      <th>11_num</th>\n",
       "      <th>12_num</th>\n",
       "      <th>13_num</th>\n",
       "      <th>14_num</th>\n",
       "      <th>...</th>\n",
       "      <th>86_h</th>\n",
       "      <th>87_h</th>\n",
       "      <th>88_h</th>\n",
       "      <th>89_h</th>\n",
       "      <th>90_h</th>\n",
       "      <th>91_h</th>\n",
       "      <th>92_h</th>\n",
       "      <th>93_h</th>\n",
       "      <th>94_h</th>\n",
       "      <th>95_h</th>\n",
       "      <th>96_h</th>\n",
       "      <th>97_h</th>\n",
       "      <th>98_h</th>\n",
       "      <th>99_h</th>\n",
       "      <th>label</th>\n",
       "    </tr>\n",
       "  </thead>\n",
       "  <tbody>\n",
       "    <tr>\n",
       "      <td>1</td>\n",
       "      <td>0</td>\n",
       "      <td>0</td>\n",
       "      <td>0</td>\n",
       "      <td>0</td>\n",
       "      <td>0</td>\n",
       "      <td>0</td>\n",
       "      <td>0</td>\n",
       "      <td>6</td>\n",
       "      <td>3</td>\n",
       "      <td>1</td>\n",
       "      <td>0</td>\n",
       "      <td>0</td>\n",
       "      <td>0</td>\n",
       "      <td>0</td>\n",
       "      <td>0</td>\n",
       "      <td>...</td>\n",
       "      <td>0.00</td>\n",
       "      <td>0.00</td>\n",
       "      <td>0.00</td>\n",
       "      <td>0.00</td>\n",
       "      <td>0.00</td>\n",
       "      <td>0.55</td>\n",
       "      <td>0.00</td>\n",
       "      <td>0.00</td>\n",
       "      <td>0.00</td>\n",
       "      <td>0.00</td>\n",
       "      <td>0.00</td>\n",
       "      <td>0.0</td>\n",
       "      <td>0.00</td>\n",
       "      <td>0.00</td>\n",
       "      <td>0</td>\n",
       "    </tr>\n",
       "    <tr>\n",
       "      <td>2</td>\n",
       "      <td>0</td>\n",
       "      <td>0</td>\n",
       "      <td>0</td>\n",
       "      <td>0</td>\n",
       "      <td>4</td>\n",
       "      <td>3</td>\n",
       "      <td>0</td>\n",
       "      <td>0</td>\n",
       "      <td>0</td>\n",
       "      <td>0</td>\n",
       "      <td>0</td>\n",
       "      <td>0</td>\n",
       "      <td>0</td>\n",
       "      <td>0</td>\n",
       "      <td>3</td>\n",
       "      <td>...</td>\n",
       "      <td>0.17</td>\n",
       "      <td>0.46</td>\n",
       "      <td>0.21</td>\n",
       "      <td>0.00</td>\n",
       "      <td>0.00</td>\n",
       "      <td>0.00</td>\n",
       "      <td>0.00</td>\n",
       "      <td>0.00</td>\n",
       "      <td>0.00</td>\n",
       "      <td>0.00</td>\n",
       "      <td>0.00</td>\n",
       "      <td>0.0</td>\n",
       "      <td>0.30</td>\n",
       "      <td>0.00</td>\n",
       "      <td>0</td>\n",
       "    </tr>\n",
       "    <tr>\n",
       "      <td>3</td>\n",
       "      <td>1</td>\n",
       "      <td>2</td>\n",
       "      <td>1</td>\n",
       "      <td>1</td>\n",
       "      <td>0</td>\n",
       "      <td>1</td>\n",
       "      <td>0</td>\n",
       "      <td>0</td>\n",
       "      <td>0</td>\n",
       "      <td>0</td>\n",
       "      <td>0</td>\n",
       "      <td>0</td>\n",
       "      <td>0</td>\n",
       "      <td>0</td>\n",
       "      <td>1</td>\n",
       "      <td>...</td>\n",
       "      <td>0.94</td>\n",
       "      <td>0.00</td>\n",
       "      <td>0.00</td>\n",
       "      <td>0.00</td>\n",
       "      <td>0.00</td>\n",
       "      <td>0.00</td>\n",
       "      <td>0.00</td>\n",
       "      <td>0.00</td>\n",
       "      <td>0.67</td>\n",
       "      <td>0.17</td>\n",
       "      <td>0.58</td>\n",
       "      <td>0.0</td>\n",
       "      <td>0.00</td>\n",
       "      <td>0.00</td>\n",
       "      <td>0</td>\n",
       "    </tr>\n",
       "    <tr>\n",
       "      <td>4</td>\n",
       "      <td>0</td>\n",
       "      <td>0</td>\n",
       "      <td>0</td>\n",
       "      <td>0</td>\n",
       "      <td>0</td>\n",
       "      <td>0</td>\n",
       "      <td>0</td>\n",
       "      <td>0</td>\n",
       "      <td>0</td>\n",
       "      <td>0</td>\n",
       "      <td>0</td>\n",
       "      <td>0</td>\n",
       "      <td>0</td>\n",
       "      <td>0</td>\n",
       "      <td>0</td>\n",
       "      <td>...</td>\n",
       "      <td>0.00</td>\n",
       "      <td>0.00</td>\n",
       "      <td>0.00</td>\n",
       "      <td>0.00</td>\n",
       "      <td>0.00</td>\n",
       "      <td>0.17</td>\n",
       "      <td>0.35</td>\n",
       "      <td>0.77</td>\n",
       "      <td>0.00</td>\n",
       "      <td>0.00</td>\n",
       "      <td>0.00</td>\n",
       "      <td>0.0</td>\n",
       "      <td>0.00</td>\n",
       "      <td>0.00</td>\n",
       "      <td>0</td>\n",
       "    </tr>\n",
       "    <tr>\n",
       "      <td>5</td>\n",
       "      <td>0</td>\n",
       "      <td>0</td>\n",
       "      <td>0</td>\n",
       "      <td>0</td>\n",
       "      <td>0</td>\n",
       "      <td>0</td>\n",
       "      <td>0</td>\n",
       "      <td>0</td>\n",
       "      <td>0</td>\n",
       "      <td>0</td>\n",
       "      <td>0</td>\n",
       "      <td>0</td>\n",
       "      <td>0</td>\n",
       "      <td>0</td>\n",
       "      <td>0</td>\n",
       "      <td>...</td>\n",
       "      <td>0.00</td>\n",
       "      <td>0.00</td>\n",
       "      <td>0.00</td>\n",
       "      <td>0.00</td>\n",
       "      <td>0.00</td>\n",
       "      <td>0.00</td>\n",
       "      <td>0.00</td>\n",
       "      <td>0.00</td>\n",
       "      <td>0.00</td>\n",
       "      <td>0.00</td>\n",
       "      <td>0.00</td>\n",
       "      <td>0.0</td>\n",
       "      <td>0.00</td>\n",
       "      <td>0.00</td>\n",
       "      <td>0</td>\n",
       "    </tr>\n",
       "    <tr>\n",
       "      <td>...</td>\n",
       "      <td>...</td>\n",
       "      <td>...</td>\n",
       "      <td>...</td>\n",
       "      <td>...</td>\n",
       "      <td>...</td>\n",
       "      <td>...</td>\n",
       "      <td>...</td>\n",
       "      <td>...</td>\n",
       "      <td>...</td>\n",
       "      <td>...</td>\n",
       "      <td>...</td>\n",
       "      <td>...</td>\n",
       "      <td>...</td>\n",
       "      <td>...</td>\n",
       "      <td>...</td>\n",
       "      <td>...</td>\n",
       "      <td>...</td>\n",
       "      <td>...</td>\n",
       "      <td>...</td>\n",
       "      <td>...</td>\n",
       "      <td>...</td>\n",
       "      <td>...</td>\n",
       "      <td>...</td>\n",
       "      <td>...</td>\n",
       "      <td>...</td>\n",
       "      <td>...</td>\n",
       "      <td>...</td>\n",
       "      <td>...</td>\n",
       "      <td>...</td>\n",
       "      <td>...</td>\n",
       "      <td>...</td>\n",
       "    </tr>\n",
       "    <tr>\n",
       "      <td>29732</td>\n",
       "      <td>1</td>\n",
       "      <td>2</td>\n",
       "      <td>1</td>\n",
       "      <td>1</td>\n",
       "      <td>0</td>\n",
       "      <td>0</td>\n",
       "      <td>0</td>\n",
       "      <td>0</td>\n",
       "      <td>0</td>\n",
       "      <td>1</td>\n",
       "      <td>2</td>\n",
       "      <td>3</td>\n",
       "      <td>0</td>\n",
       "      <td>2</td>\n",
       "      <td>0</td>\n",
       "      <td>...</td>\n",
       "      <td>0.00</td>\n",
       "      <td>0.00</td>\n",
       "      <td>0.00</td>\n",
       "      <td>0.00</td>\n",
       "      <td>0.00</td>\n",
       "      <td>0.00</td>\n",
       "      <td>0.00</td>\n",
       "      <td>0.00</td>\n",
       "      <td>0.00</td>\n",
       "      <td>0.00</td>\n",
       "      <td>0.00</td>\n",
       "      <td>0.0</td>\n",
       "      <td>0.00</td>\n",
       "      <td>0.00</td>\n",
       "      <td>1</td>\n",
       "    </tr>\n",
       "    <tr>\n",
       "      <td>29733</td>\n",
       "      <td>0</td>\n",
       "      <td>0</td>\n",
       "      <td>0</td>\n",
       "      <td>0</td>\n",
       "      <td>0</td>\n",
       "      <td>0</td>\n",
       "      <td>0</td>\n",
       "      <td>0</td>\n",
       "      <td>0</td>\n",
       "      <td>0</td>\n",
       "      <td>0</td>\n",
       "      <td>0</td>\n",
       "      <td>0</td>\n",
       "      <td>0</td>\n",
       "      <td>1</td>\n",
       "      <td>...</td>\n",
       "      <td>0.00</td>\n",
       "      <td>0.00</td>\n",
       "      <td>0.00</td>\n",
       "      <td>0.00</td>\n",
       "      <td>0.00</td>\n",
       "      <td>0.00</td>\n",
       "      <td>0.00</td>\n",
       "      <td>0.00</td>\n",
       "      <td>0.00</td>\n",
       "      <td>0.00</td>\n",
       "      <td>0.00</td>\n",
       "      <td>0.0</td>\n",
       "      <td>0.00</td>\n",
       "      <td>0.00</td>\n",
       "      <td>1</td>\n",
       "    </tr>\n",
       "    <tr>\n",
       "      <td>29734</td>\n",
       "      <td>5</td>\n",
       "      <td>4</td>\n",
       "      <td>3</td>\n",
       "      <td>8</td>\n",
       "      <td>0</td>\n",
       "      <td>0</td>\n",
       "      <td>0</td>\n",
       "      <td>0</td>\n",
       "      <td>0</td>\n",
       "      <td>3</td>\n",
       "      <td>5</td>\n",
       "      <td>4</td>\n",
       "      <td>6</td>\n",
       "      <td>5</td>\n",
       "      <td>0</td>\n",
       "      <td>...</td>\n",
       "      <td>0.00</td>\n",
       "      <td>0.00</td>\n",
       "      <td>0.00</td>\n",
       "      <td>0.14</td>\n",
       "      <td>0.05</td>\n",
       "      <td>0.71</td>\n",
       "      <td>0.00</td>\n",
       "      <td>0.05</td>\n",
       "      <td>0.27</td>\n",
       "      <td>0.00</td>\n",
       "      <td>0.00</td>\n",
       "      <td>0.0</td>\n",
       "      <td>0.07</td>\n",
       "      <td>0.03</td>\n",
       "      <td>1</td>\n",
       "    </tr>\n",
       "    <tr>\n",
       "      <td>29735</td>\n",
       "      <td>0</td>\n",
       "      <td>0</td>\n",
       "      <td>1</td>\n",
       "      <td>0</td>\n",
       "      <td>0</td>\n",
       "      <td>0</td>\n",
       "      <td>1</td>\n",
       "      <td>0</td>\n",
       "      <td>5</td>\n",
       "      <td>1</td>\n",
       "      <td>0</td>\n",
       "      <td>0</td>\n",
       "      <td>0</td>\n",
       "      <td>0</td>\n",
       "      <td>0</td>\n",
       "      <td>...</td>\n",
       "      <td>0.00</td>\n",
       "      <td>0.00</td>\n",
       "      <td>0.00</td>\n",
       "      <td>0.00</td>\n",
       "      <td>0.00</td>\n",
       "      <td>0.00</td>\n",
       "      <td>0.00</td>\n",
       "      <td>0.00</td>\n",
       "      <td>0.00</td>\n",
       "      <td>0.00</td>\n",
       "      <td>0.00</td>\n",
       "      <td>0.0</td>\n",
       "      <td>0.00</td>\n",
       "      <td>0.00</td>\n",
       "      <td>1</td>\n",
       "    </tr>\n",
       "    <tr>\n",
       "      <td>29736</td>\n",
       "      <td>0</td>\n",
       "      <td>0</td>\n",
       "      <td>0</td>\n",
       "      <td>0</td>\n",
       "      <td>0</td>\n",
       "      <td>0</td>\n",
       "      <td>0</td>\n",
       "      <td>0</td>\n",
       "      <td>0</td>\n",
       "      <td>0</td>\n",
       "      <td>0</td>\n",
       "      <td>0</td>\n",
       "      <td>0</td>\n",
       "      <td>0</td>\n",
       "      <td>0</td>\n",
       "      <td>...</td>\n",
       "      <td>0.00</td>\n",
       "      <td>0.00</td>\n",
       "      <td>0.00</td>\n",
       "      <td>0.00</td>\n",
       "      <td>0.00</td>\n",
       "      <td>0.00</td>\n",
       "      <td>0.00</td>\n",
       "      <td>0.00</td>\n",
       "      <td>0.00</td>\n",
       "      <td>0.00</td>\n",
       "      <td>0.00</td>\n",
       "      <td>0.0</td>\n",
       "      <td>0.00</td>\n",
       "      <td>0.01</td>\n",
       "      <td>1</td>\n",
       "    </tr>\n",
       "  </tbody>\n",
       "</table>\n",
       "<p>29736 rows × 201 columns</p>\n",
       "</div>"
      ],
      "text/plain": [
       "       0_num  1_num  2_num  3_num  4_num  5_num  6_num  7_num  8_num  9_num  \\\n",
       "1          0      0      0      0      0      0      0      6      3      1   \n",
       "2          0      0      0      0      4      3      0      0      0      0   \n",
       "3          1      2      1      1      0      1      0      0      0      0   \n",
       "4          0      0      0      0      0      0      0      0      0      0   \n",
       "5          0      0      0      0      0      0      0      0      0      0   \n",
       "...      ...    ...    ...    ...    ...    ...    ...    ...    ...    ...   \n",
       "29732      1      2      1      1      0      0      0      0      0      1   \n",
       "29733      0      0      0      0      0      0      0      0      0      0   \n",
       "29734      5      4      3      8      0      0      0      0      0      3   \n",
       "29735      0      0      1      0      0      0      1      0      5      1   \n",
       "29736      0      0      0      0      0      0      0      0      0      0   \n",
       "\n",
       "       10_num  11_num  12_num  13_num  14_num  ...  86_h  87_h  88_h  89_h  \\\n",
       "1           0       0       0       0       0  ...  0.00  0.00  0.00  0.00   \n",
       "2           0       0       0       0       3  ...  0.17  0.46  0.21  0.00   \n",
       "3           0       0       0       0       1  ...  0.94  0.00  0.00  0.00   \n",
       "4           0       0       0       0       0  ...  0.00  0.00  0.00  0.00   \n",
       "5           0       0       0       0       0  ...  0.00  0.00  0.00  0.00   \n",
       "...       ...     ...     ...     ...     ...  ...   ...   ...   ...   ...   \n",
       "29732       2       3       0       2       0  ...  0.00  0.00  0.00  0.00   \n",
       "29733       0       0       0       0       1  ...  0.00  0.00  0.00  0.00   \n",
       "29734       5       4       6       5       0  ...  0.00  0.00  0.00  0.14   \n",
       "29735       0       0       0       0       0  ...  0.00  0.00  0.00  0.00   \n",
       "29736       0       0       0       0       0  ...  0.00  0.00  0.00  0.00   \n",
       "\n",
       "       90_h  91_h  92_h  93_h  94_h  95_h  96_h  97_h  98_h  99_h  label  \n",
       "1      0.00  0.55  0.00  0.00  0.00  0.00  0.00   0.0  0.00  0.00      0  \n",
       "2      0.00  0.00  0.00  0.00  0.00  0.00  0.00   0.0  0.30  0.00      0  \n",
       "3      0.00  0.00  0.00  0.00  0.67  0.17  0.58   0.0  0.00  0.00      0  \n",
       "4      0.00  0.17  0.35  0.77  0.00  0.00  0.00   0.0  0.00  0.00      0  \n",
       "5      0.00  0.00  0.00  0.00  0.00  0.00  0.00   0.0  0.00  0.00      0  \n",
       "...     ...   ...   ...   ...   ...   ...   ...   ...   ...   ...    ...  \n",
       "29732  0.00  0.00  0.00  0.00  0.00  0.00  0.00   0.0  0.00  0.00      1  \n",
       "29733  0.00  0.00  0.00  0.00  0.00  0.00  0.00   0.0  0.00  0.00      1  \n",
       "29734  0.05  0.71  0.00  0.05  0.27  0.00  0.00   0.0  0.07  0.03      1  \n",
       "29735  0.00  0.00  0.00  0.00  0.00  0.00  0.00   0.0  0.00  0.00      1  \n",
       "29736  0.00  0.00  0.00  0.00  0.00  0.00  0.00   0.0  0.00  0.01      1  \n",
       "\n",
       "[29736 rows x 201 columns]"
      ]
     },
     "execution_count": 11,
     "metadata": {},
     "output_type": "execute_result"
    }
   ],
   "source": [
    "#  limitation à XXX valeurs\n",
    "\n",
    "NN = 0\n",
    "NM = NN + off\n",
    "\n",
    "n_row2 =  10   #TODO mettre le produit des dimension de la matrice image\n",
    "n_col2 =  10\n",
    "N2 = n_row2*n_col2  # N=100\n",
    "\n",
    "#################################################\n",
    "#################################################\n",
    "###   TODO ... regarder l'unicité des 2 listes\n",
    "#################################################\n",
    "#################################################\n",
    "\n",
    "### assemble 2 listes (lampadaires totale + NM * valeurs au hazard ... fichiers unique)\n",
    "#list_lamp0 = list(set(lampes0['nom_NUM'][NN:NM] + list(DALLE_NUM + list_lamp1)))\n",
    "list_lamp0 = list(DALLE_NUM + lampes0['nom_NUM']) + list(DALLE_NUM + lampes1['nom_NUM'])\n",
    "list_lamp1 = list(DALLE_NUM + lampes0['nom_POS'])\n",
    "list_lamp2 = list(DALLE_ECA + lampes0['nom_ECA'])\n",
    "list_lamp0b = list(lampes0['present']) + list(lampes1['present'])\n",
    "print(len(list_lamp0), len(list_lamp0b), len(list_lamp1), len(list_lamp2))\n",
    "\n",
    "if exist(df3):\n",
    "    test = False\n",
    "else:\n",
    "    test = True\n",
    "# si df3 existe déjà  ... MAIS verifier si bon fichier \n",
    "if (df3.shape[0] != off_tot) and test:\n",
    "    (i, j, k) = (0,0,0)\n",
    "    for n,fich1 in enumerate(list_lamp0):\n",
    "        if n%500 == 0:\n",
    "            print(n, i)\n",
    "        fich2 = fich1.replace(\"NumPoints5m\", \"EcartZ5m\")\n",
    "        fich3 = fich1.replace(\"NumPoints5m\", \"Position5m\")\n",
    "        #fiche3 = DALLE_POS+fich3  \n",
    "# fichiers dalles manquantes ???? ... pourquoi ?????\n",
    "        if os.path.exists(fich2):    # \n",
    "            j += 1\n",
    "        if os.path.exists(fich3):    # \n",
    "            k += 1\n",
    "        if os.path.exists(fich1):    # Manque des fichiers sur les 40000\n",
    "            i += 1\n",
    "            if i%1000 == 0:\n",
    "                print(n+1, i, j, k, list_lamp0b[n])\n",
    "            data1 = np.reshape(imageio.imread(fich1), N2) #.flatten()\n",
    "            data1T = np.expand_dims(data1, axis=0)\n",
    "            data2 = np.reshape(imageio.imread(fich2), N2)\n",
    "            data2T = np.expand_dims(data2, axis=0)\n",
    "            #data3 = np.reshape(imageio.imread(fiche3), N2)\n",
    "            #data3T = np.expand_dims(data3, axis=0)\n",
    "            #print(i, data1T.shape, data2T.shape, data3T.shape)\n",
    "            df_int1 = pd.DataFrame(data1T, index=[i])  #, index=indices)\n",
    "            df_int2 = pd.DataFrame(data2T, index=[i])  \n",
    "            #df_int3 = pd.DataFrame(data3T, index=[i])\n",
    "            # MERGE \n",
    "            #df_inta = df_int1.merge(df_int2, left_index=True, right_index=True, suffixes=('_num', '_h'))\n",
    "            #df_int = df_inta.merge(df_int3, left_index=True, right_index=True)\n",
    "            df_int = df_int1.merge(df_int2, left_index=True, right_index=True, suffixes=('_num', '_h'))\n",
    "            df_int['label'] = list_lamp0b[n]    #\n",
    "            if i == 1:\n",
    "                #print(dataT)\n",
    "                df3 = df_int\n",
    "            else:\n",
    "                df3 = pd.concat([df3, df_int])\n",
    "        else:\n",
    "            pass     #print(fiche1, fich2)\n",
    "    if i > 0:\n",
    "        print(n+1, i,j,k, n+1-i, df3.shape, df3.shape[0]/i)\n",
    "    \n",
    "    # change pour des entiers et pas des nombres flottant \n",
    "    for n in range(0,N2):\n",
    "        df3 = df3.astype({str(n)+'_num': 'int8'}, copy=False)\n",
    "    #print(df3.dtypes)\n",
    "df3\n",
    "\n",
    "#  TODO rajouter une colonne de présence ( comparer avec SORTIE :  0 ou 1)\n",
    "#####################################################\n",
    "#  remplir une colonne de zéro\n",
    "#  puis boucler sur les N=357 valeurs pour indiquer la présence d'un lampadaire\n",
    "#####################################################\n",
    "#  puis faire 100 sorties 0-1 pour  les 100 positions"
   ]
  },
  {
   "cell_type": "code",
   "execution_count": 12,
   "metadata": {
    "ExecuteTime": {
     "end_time": "2020-03-09T21:26:27.672822Z",
     "start_time": "2020-03-09T21:26:27.079475Z"
    },
    "slideshow": {
     "slide_type": "skip"
    }
   },
   "outputs": [
    {
     "data": {
      "text/html": [
       "<div>\n",
       "<style scoped>\n",
       "    .dataframe tbody tr th:only-of-type {\n",
       "        vertical-align: middle;\n",
       "    }\n",
       "\n",
       "    .dataframe tbody tr th {\n",
       "        vertical-align: top;\n",
       "    }\n",
       "\n",
       "    .dataframe thead th {\n",
       "        text-align: right;\n",
       "    }\n",
       "</style>\n",
       "<table border=\"1\" class=\"dataframe\">\n",
       "  <thead>\n",
       "    <tr style=\"text-align: right;\">\n",
       "      <th></th>\n",
       "      <th>count</th>\n",
       "      <th>mean</th>\n",
       "      <th>std</th>\n",
       "      <th>val</th>\n",
       "    </tr>\n",
       "  </thead>\n",
       "  <tbody>\n",
       "    <tr>\n",
       "      <td>0_num</td>\n",
       "      <td>29736.0</td>\n",
       "      <td>0.875874</td>\n",
       "      <td>1.766939</td>\n",
       "      <td>26045.00</td>\n",
       "    </tr>\n",
       "    <tr>\n",
       "      <td>1_num</td>\n",
       "      <td>29736.0</td>\n",
       "      <td>0.875000</td>\n",
       "      <td>1.753925</td>\n",
       "      <td>26019.00</td>\n",
       "    </tr>\n",
       "    <tr>\n",
       "      <td>2_num</td>\n",
       "      <td>29736.0</td>\n",
       "      <td>0.862355</td>\n",
       "      <td>1.735122</td>\n",
       "      <td>25643.00</td>\n",
       "    </tr>\n",
       "    <tr>\n",
       "      <td>3_num</td>\n",
       "      <td>29736.0</td>\n",
       "      <td>0.868510</td>\n",
       "      <td>1.753690</td>\n",
       "      <td>25826.00</td>\n",
       "    </tr>\n",
       "    <tr>\n",
       "      <td>4_num</td>\n",
       "      <td>29736.0</td>\n",
       "      <td>0.863499</td>\n",
       "      <td>1.744741</td>\n",
       "      <td>25677.00</td>\n",
       "    </tr>\n",
       "    <tr>\n",
       "      <td>...</td>\n",
       "      <td>...</td>\n",
       "      <td>...</td>\n",
       "      <td>...</td>\n",
       "      <td>...</td>\n",
       "    </tr>\n",
       "    <tr>\n",
       "      <td>96_h</td>\n",
       "      <td>29736.0</td>\n",
       "      <td>0.127799</td>\n",
       "      <td>0.624246</td>\n",
       "      <td>3800.24</td>\n",
       "    </tr>\n",
       "    <tr>\n",
       "      <td>97_h</td>\n",
       "      <td>29736.0</td>\n",
       "      <td>0.129080</td>\n",
       "      <td>0.611349</td>\n",
       "      <td>3838.33</td>\n",
       "    </tr>\n",
       "    <tr>\n",
       "      <td>98_h</td>\n",
       "      <td>29736.0</td>\n",
       "      <td>0.130893</td>\n",
       "      <td>0.617141</td>\n",
       "      <td>3892.23</td>\n",
       "    </tr>\n",
       "    <tr>\n",
       "      <td>99_h</td>\n",
       "      <td>29736.0</td>\n",
       "      <td>0.124229</td>\n",
       "      <td>0.594682</td>\n",
       "      <td>3694.08</td>\n",
       "    </tr>\n",
       "    <tr>\n",
       "      <td>label</td>\n",
       "      <td>29736.0</td>\n",
       "      <td>0.023675</td>\n",
       "      <td>0.152037</td>\n",
       "      <td>704.00</td>\n",
       "    </tr>\n",
       "  </tbody>\n",
       "</table>\n",
       "<p>201 rows × 4 columns</p>\n",
       "</div>"
      ],
      "text/plain": [
       "         count      mean       std       val\n",
       "0_num  29736.0  0.875874  1.766939  26045.00\n",
       "1_num  29736.0  0.875000  1.753925  26019.00\n",
       "2_num  29736.0  0.862355  1.735122  25643.00\n",
       "3_num  29736.0  0.868510  1.753690  25826.00\n",
       "4_num  29736.0  0.863499  1.744741  25677.00\n",
       "...        ...       ...       ...       ...\n",
       "96_h   29736.0  0.127799  0.624246   3800.24\n",
       "97_h   29736.0  0.129080  0.611349   3838.33\n",
       "98_h   29736.0  0.130893  0.617141   3892.23\n",
       "99_h   29736.0  0.124229  0.594682   3694.08\n",
       "label  29736.0  0.023675  0.152037    704.00\n",
       "\n",
       "[201 rows x 4 columns]"
      ]
     },
     "execution_count": 12,
     "metadata": {},
     "output_type": "execute_result"
    }
   ],
   "source": [
    "df3_total = df3.copy()\n",
    "\n",
    "testD = df3_total.describe()[:3].T\n",
    "testD['val'] = (testD['count'] * testD['mean'])\n",
    "testD"
   ]
  },
  {
   "cell_type": "code",
   "execution_count": 13,
   "metadata": {
    "ExecuteTime": {
     "end_time": "2020-03-09T21:26:33.784414Z",
     "start_time": "2020-03-09T21:26:29.046854Z"
    },
    "slideshow": {
     "slide_type": "skip"
    }
   },
   "outputs": [
    {
     "name": "stdout",
     "output_type": "stream",
     "text": [
      "(29736, 201)\n"
     ]
    }
   ],
   "source": [
    "test = True\n",
    "#test = False\n",
    "\n",
    "# Sauvegarde du fichier total \n",
    "\n",
    "if test:\n",
    "    fileSAVE = DATA_DIR3 + \"donnees_LAS_1k_1k.csv\"\n",
    "    #fileSAVE = DATA_DIR3 + \"donnees_IMAC_LAS_1k_1k.csv\"\n",
    "    df3.to_csv(fileSAVE, index=False)\n",
    "\n",
    "print(df3_total.shape)"
   ]
  },
  {
   "cell_type": "code",
   "execution_count": null,
   "metadata": {
    "slideshow": {
     "slide_type": "skip"
    }
   },
   "outputs": [],
   "source": []
  },
  {
   "cell_type": "markdown",
   "metadata": {
    "slideshow": {
     "slide_type": "skip"
    }
   },
   "source": [
    "# KERAS - TENSORFLOW"
   ]
  },
  {
   "cell_type": "markdown",
   "metadata": {
    "slideshow": {
     "slide_type": "skip"
    }
   },
   "source": [
    "## Lecture du fichier de données"
   ]
  },
  {
   "cell_type": "code",
   "execution_count": 14,
   "metadata": {
    "ExecuteTime": {
     "end_time": "2020-03-09T21:26:40.560505Z",
     "start_time": "2020-03-09T21:26:39.756470Z"
    },
    "slideshow": {
     "slide_type": "skip"
    }
   },
   "outputs": [
    {
     "name": "stdout",
     "output_type": "stream",
     "text": [
      "<module 'tensorflow._api.v1.keras.datasets' from '/Users/pl/anaconda3/lib/python3.7/site-packages/tensorflow/_api/v1/keras/datasets/__init__.py'>\n"
     ]
    },
    {
     "data": {
      "text/html": [
       "<div>\n",
       "<style scoped>\n",
       "    .dataframe tbody tr th:only-of-type {\n",
       "        vertical-align: middle;\n",
       "    }\n",
       "\n",
       "    .dataframe tbody tr th {\n",
       "        vertical-align: top;\n",
       "    }\n",
       "\n",
       "    .dataframe thead th {\n",
       "        text-align: right;\n",
       "    }\n",
       "</style>\n",
       "<table border=\"1\" class=\"dataframe\">\n",
       "  <thead>\n",
       "    <tr style=\"text-align: right;\">\n",
       "      <th></th>\n",
       "      <th>0_num</th>\n",
       "      <th>1_num</th>\n",
       "      <th>2_num</th>\n",
       "      <th>3_num</th>\n",
       "      <th>4_num</th>\n",
       "      <th>5_num</th>\n",
       "      <th>6_num</th>\n",
       "      <th>7_num</th>\n",
       "      <th>8_num</th>\n",
       "      <th>9_num</th>\n",
       "      <th>10_num</th>\n",
       "      <th>11_num</th>\n",
       "      <th>12_num</th>\n",
       "      <th>13_num</th>\n",
       "      <th>14_num</th>\n",
       "      <th>...</th>\n",
       "      <th>86_h</th>\n",
       "      <th>87_h</th>\n",
       "      <th>88_h</th>\n",
       "      <th>89_h</th>\n",
       "      <th>90_h</th>\n",
       "      <th>91_h</th>\n",
       "      <th>92_h</th>\n",
       "      <th>93_h</th>\n",
       "      <th>94_h</th>\n",
       "      <th>95_h</th>\n",
       "      <th>96_h</th>\n",
       "      <th>97_h</th>\n",
       "      <th>98_h</th>\n",
       "      <th>99_h</th>\n",
       "      <th>label</th>\n",
       "    </tr>\n",
       "  </thead>\n",
       "  <tbody>\n",
       "    <tr>\n",
       "      <td>0</td>\n",
       "      <td>0</td>\n",
       "      <td>0</td>\n",
       "      <td>0</td>\n",
       "      <td>0</td>\n",
       "      <td>0</td>\n",
       "      <td>0</td>\n",
       "      <td>0</td>\n",
       "      <td>6</td>\n",
       "      <td>3</td>\n",
       "      <td>1</td>\n",
       "      <td>0</td>\n",
       "      <td>0</td>\n",
       "      <td>0</td>\n",
       "      <td>0</td>\n",
       "      <td>0</td>\n",
       "      <td>...</td>\n",
       "      <td>0.00</td>\n",
       "      <td>0.00</td>\n",
       "      <td>0.00</td>\n",
       "      <td>0.0</td>\n",
       "      <td>0.0</td>\n",
       "      <td>0.55</td>\n",
       "      <td>0.0</td>\n",
       "      <td>0.0</td>\n",
       "      <td>0.0</td>\n",
       "      <td>0.0</td>\n",
       "      <td>0.0</td>\n",
       "      <td>0.0</td>\n",
       "      <td>0.0</td>\n",
       "      <td>0.0</td>\n",
       "      <td>0</td>\n",
       "    </tr>\n",
       "    <tr>\n",
       "      <td>1</td>\n",
       "      <td>0</td>\n",
       "      <td>0</td>\n",
       "      <td>0</td>\n",
       "      <td>0</td>\n",
       "      <td>4</td>\n",
       "      <td>3</td>\n",
       "      <td>0</td>\n",
       "      <td>0</td>\n",
       "      <td>0</td>\n",
       "      <td>0</td>\n",
       "      <td>0</td>\n",
       "      <td>0</td>\n",
       "      <td>0</td>\n",
       "      <td>0</td>\n",
       "      <td>3</td>\n",
       "      <td>...</td>\n",
       "      <td>0.17</td>\n",
       "      <td>0.46</td>\n",
       "      <td>0.21</td>\n",
       "      <td>0.0</td>\n",
       "      <td>0.0</td>\n",
       "      <td>0.00</td>\n",
       "      <td>0.0</td>\n",
       "      <td>0.0</td>\n",
       "      <td>0.0</td>\n",
       "      <td>0.0</td>\n",
       "      <td>0.0</td>\n",
       "      <td>0.0</td>\n",
       "      <td>0.3</td>\n",
       "      <td>0.0</td>\n",
       "      <td>0</td>\n",
       "    </tr>\n",
       "  </tbody>\n",
       "</table>\n",
       "<p>2 rows × 201 columns</p>\n",
       "</div>"
      ],
      "text/plain": [
       "   0_num  1_num  2_num  3_num  4_num  5_num  6_num  7_num  8_num  9_num  \\\n",
       "0      0      0      0      0      0      0      0      6      3      1   \n",
       "1      0      0      0      0      4      3      0      0      0      0   \n",
       "\n",
       "   10_num  11_num  12_num  13_num  14_num  ...  86_h  87_h  88_h  89_h  90_h  \\\n",
       "0       0       0       0       0       0  ...  0.00  0.00  0.00   0.0   0.0   \n",
       "1       0       0       0       0       3  ...  0.17  0.46  0.21   0.0   0.0   \n",
       "\n",
       "   91_h  92_h  93_h  94_h  95_h  96_h  97_h  98_h  99_h  label  \n",
       "0  0.55   0.0   0.0   0.0   0.0   0.0   0.0   0.0   0.0      0  \n",
       "1  0.00   0.0   0.0   0.0   0.0   0.0   0.0   0.3   0.0      0  \n",
       "\n",
       "[2 rows x 201 columns]"
      ]
     },
     "execution_count": 14,
     "metadata": {},
     "output_type": "execute_result"
    }
   ],
   "source": [
    "print(tf.keras.datasets)\n",
    "if platform.system() == 'Darwin' and platform.release() == '18.0.0':\n",
    "    df4 = pd.read_csv(DATA_DIR3 + \"donnees_IMAC_LAS_1k_1k.csv\")\n",
    "else:\n",
    "    df4 = pd.read_csv(DATA_DIR3 + \"donnees_LAS_1k_1k.csv\")\n",
    "df4.head(2)"
   ]
  },
  {
   "cell_type": "markdown",
   "metadata": {
    "slideshow": {
     "slide_type": "skip"
    }
   },
   "source": [
    "### Rajouter des lampadaires pour améliorer l'entrainement"
   ]
  },
  {
   "cell_type": "code",
   "execution_count": 15,
   "metadata": {
    "ExecuteTime": {
     "end_time": "2020-03-09T21:26:43.017147Z",
     "start_time": "2020-03-09T21:26:42.726613Z"
    },
    "slideshow": {
     "slide_type": "skip"
    }
   },
   "outputs": [
    {
     "name": "stdout",
     "output_type": "stream",
     "text": [
      "(29736, 201) 29736 704 42\n",
      "(59304, 201)\n"
     ]
    },
    {
     "data": {
      "text/html": [
       "<div>\n",
       "<style scoped>\n",
       "    .dataframe tbody tr th:only-of-type {\n",
       "        vertical-align: middle;\n",
       "    }\n",
       "\n",
       "    .dataframe tbody tr th {\n",
       "        vertical-align: top;\n",
       "    }\n",
       "\n",
       "    .dataframe thead th {\n",
       "        text-align: right;\n",
       "    }\n",
       "</style>\n",
       "<table border=\"1\" class=\"dataframe\">\n",
       "  <thead>\n",
       "    <tr style=\"text-align: right;\">\n",
       "      <th></th>\n",
       "      <th>0_num</th>\n",
       "      <th>1_num</th>\n",
       "      <th>2_num</th>\n",
       "      <th>3_num</th>\n",
       "      <th>4_num</th>\n",
       "      <th>5_num</th>\n",
       "      <th>6_num</th>\n",
       "      <th>7_num</th>\n",
       "      <th>8_num</th>\n",
       "      <th>9_num</th>\n",
       "      <th>10_num</th>\n",
       "      <th>11_num</th>\n",
       "      <th>12_num</th>\n",
       "      <th>13_num</th>\n",
       "      <th>14_num</th>\n",
       "      <th>...</th>\n",
       "      <th>86_h</th>\n",
       "      <th>87_h</th>\n",
       "      <th>88_h</th>\n",
       "      <th>89_h</th>\n",
       "      <th>90_h</th>\n",
       "      <th>91_h</th>\n",
       "      <th>92_h</th>\n",
       "      <th>93_h</th>\n",
       "      <th>94_h</th>\n",
       "      <th>95_h</th>\n",
       "      <th>96_h</th>\n",
       "      <th>97_h</th>\n",
       "      <th>98_h</th>\n",
       "      <th>99_h</th>\n",
       "      <th>label</th>\n",
       "    </tr>\n",
       "  </thead>\n",
       "  <tbody>\n",
       "    <tr>\n",
       "      <td>0</td>\n",
       "      <td>0</td>\n",
       "      <td>0</td>\n",
       "      <td>0</td>\n",
       "      <td>0</td>\n",
       "      <td>0</td>\n",
       "      <td>0</td>\n",
       "      <td>0</td>\n",
       "      <td>0</td>\n",
       "      <td>0</td>\n",
       "      <td>0</td>\n",
       "      <td>0</td>\n",
       "      <td>0</td>\n",
       "      <td>0</td>\n",
       "      <td>0</td>\n",
       "      <td>0</td>\n",
       "      <td>...</td>\n",
       "      <td>0.0</td>\n",
       "      <td>0.0</td>\n",
       "      <td>0.0</td>\n",
       "      <td>0.0</td>\n",
       "      <td>0.0</td>\n",
       "      <td>0.0</td>\n",
       "      <td>0.0</td>\n",
       "      <td>0.0</td>\n",
       "      <td>0.0</td>\n",
       "      <td>0.0</td>\n",
       "      <td>0.0</td>\n",
       "      <td>0.0</td>\n",
       "      <td>0.0</td>\n",
       "      <td>0.0</td>\n",
       "      <td>0</td>\n",
       "    </tr>\n",
       "    <tr>\n",
       "      <td>1</td>\n",
       "      <td>0</td>\n",
       "      <td>0</td>\n",
       "      <td>0</td>\n",
       "      <td>0</td>\n",
       "      <td>0</td>\n",
       "      <td>0</td>\n",
       "      <td>0</td>\n",
       "      <td>0</td>\n",
       "      <td>0</td>\n",
       "      <td>0</td>\n",
       "      <td>0</td>\n",
       "      <td>0</td>\n",
       "      <td>0</td>\n",
       "      <td>0</td>\n",
       "      <td>0</td>\n",
       "      <td>...</td>\n",
       "      <td>0.0</td>\n",
       "      <td>0.0</td>\n",
       "      <td>0.0</td>\n",
       "      <td>0.0</td>\n",
       "      <td>0.0</td>\n",
       "      <td>0.0</td>\n",
       "      <td>0.0</td>\n",
       "      <td>0.0</td>\n",
       "      <td>0.0</td>\n",
       "      <td>0.0</td>\n",
       "      <td>0.0</td>\n",
       "      <td>0.0</td>\n",
       "      <td>0.0</td>\n",
       "      <td>0.0</td>\n",
       "      <td>0</td>\n",
       "    </tr>\n",
       "    <tr>\n",
       "      <td>2</td>\n",
       "      <td>0</td>\n",
       "      <td>0</td>\n",
       "      <td>0</td>\n",
       "      <td>0</td>\n",
       "      <td>0</td>\n",
       "      <td>0</td>\n",
       "      <td>0</td>\n",
       "      <td>0</td>\n",
       "      <td>0</td>\n",
       "      <td>0</td>\n",
       "      <td>0</td>\n",
       "      <td>0</td>\n",
       "      <td>0</td>\n",
       "      <td>0</td>\n",
       "      <td>1</td>\n",
       "      <td>...</td>\n",
       "      <td>0.0</td>\n",
       "      <td>0.0</td>\n",
       "      <td>0.0</td>\n",
       "      <td>0.0</td>\n",
       "      <td>0.0</td>\n",
       "      <td>0.0</td>\n",
       "      <td>0.0</td>\n",
       "      <td>0.0</td>\n",
       "      <td>0.0</td>\n",
       "      <td>0.0</td>\n",
       "      <td>0.0</td>\n",
       "      <td>0.0</td>\n",
       "      <td>0.0</td>\n",
       "      <td>0.0</td>\n",
       "      <td>0</td>\n",
       "    </tr>\n",
       "  </tbody>\n",
       "</table>\n",
       "<p>3 rows × 201 columns</p>\n",
       "</div>"
      ],
      "text/plain": [
       "   0_num  1_num  2_num  3_num  4_num  5_num  6_num  7_num  8_num  9_num  \\\n",
       "0      0      0      0      0      0      0      0      0      0      0   \n",
       "1      0      0      0      0      0      0      0      0      0      0   \n",
       "2      0      0      0      0      0      0      0      0      0      0   \n",
       "\n",
       "   10_num  11_num  12_num  13_num  14_num  ...  86_h  87_h  88_h  89_h  90_h  \\\n",
       "0       0       0       0       0       0  ...   0.0   0.0   0.0   0.0   0.0   \n",
       "1       0       0       0       0       0  ...   0.0   0.0   0.0   0.0   0.0   \n",
       "2       0       0       0       0       1  ...   0.0   0.0   0.0   0.0   0.0   \n",
       "\n",
       "   91_h  92_h  93_h  94_h  95_h  96_h  97_h  98_h  99_h  label  \n",
       "0   0.0   0.0   0.0   0.0   0.0   0.0   0.0   0.0   0.0      0  \n",
       "1   0.0   0.0   0.0   0.0   0.0   0.0   0.0   0.0   0.0      0  \n",
       "2   0.0   0.0   0.0   0.0   0.0   0.0   0.0   0.0   0.0      0  \n",
       "\n",
       "[3 rows x 201 columns]"
      ]
     },
     "execution_count": 15,
     "metadata": {},
     "output_type": "execute_result"
    }
   ],
   "source": [
    "df4b = df4[df4['label'] != 0]\n",
    "\n",
    "mult = int(df4.shape[0] / df4b.shape[0])\n",
    "print(df4.shape, df4.shape[0], df4b.shape[0], mult)\n",
    "\n",
    "#df = pd.concat([df] * a + [df.iloc[[-1]]] * b).sort_values('col1').reset_index(drop=True)\n",
    "\n",
    "df5 = pd.concat([df4b] * mult + [df4]).sort_values('label').reset_index(drop=True)\n",
    "print(df5.shape)\n",
    "df5.head(3)"
   ]
  },
  {
   "cell_type": "markdown",
   "metadata": {
    "slideshow": {
     "slide_type": "skip"
    }
   },
   "source": [
    "### Changement de la classe en categorial"
   ]
  },
  {
   "cell_type": "code",
   "execution_count": 16,
   "metadata": {
    "ExecuteTime": {
     "end_time": "2020-03-09T21:26:48.277870Z",
     "start_time": "2020-03-09T21:26:46.101168Z"
    },
    "slideshow": {
     "slide_type": "skip"
    }
   },
   "outputs": [],
   "source": [
    "from sklearn.model_selection import train_test_split \n",
    "from keras.utils import to_categorical\n",
    "\n",
    "# Charge et split les données\n",
    "X = df5.iloc[:,:-1]\n",
    "y = df5.iloc[:,-1]\n",
    "y_binary = to_categorical(y)"
   ]
  },
  {
   "cell_type": "markdown",
   "metadata": {
    "slideshow": {
     "slide_type": "skip"
    }
   },
   "source": [
    "### Séparation Train - Test"
   ]
  },
  {
   "cell_type": "code",
   "execution_count": 17,
   "metadata": {
    "ExecuteTime": {
     "end_time": "2020-03-09T21:26:51.006570Z",
     "start_time": "2020-03-09T21:26:50.579178Z"
    },
    "slideshow": {
     "slide_type": "skip"
    }
   },
   "outputs": [
    {
     "name": "stdout",
     "output_type": "stream",
     "text": [
      "(47443, 200) (47443, 2) (11861, 200) (11861, 2) (59304, 2) (59304,)\n"
     ]
    }
   ],
   "source": [
    "train_data, test_data, train_labels, test_labels = train_test_split(\n",
    "    X, y_binary, test_size=0.2, random_state=42, stratify=y_binary)\n",
    "#    X, y, test_size=0.2, random_state=42, stratify=y)\n",
    "\n",
    "print(train_data.shape, train_labels.shape, test_data.shape, test_labels.shape, y_binary.shape, y.shape)"
   ]
  },
  {
   "cell_type": "code",
   "execution_count": null,
   "metadata": {},
   "outputs": [],
   "source": []
  },
  {
   "cell_type": "markdown",
   "metadata": {
    "ExecuteTime": {
     "end_time": "2020-02-27T11:18:54.716836Z",
     "start_time": "2020-02-27T11:18:54.653211Z"
    },
    "slideshow": {
     "slide_type": "skip"
    }
   },
   "source": [
    "## Création d'un Modèle Réseau de Neurone \"SIMPLE\""
   ]
  },
  {
   "cell_type": "raw",
   "metadata": {
    "ExecuteTime": {
     "end_time": "2020-03-03T08:46:00.479683Z",
     "start_time": "2020-03-03T08:45:24.419540Z"
    },
    "slideshow": {
     "slide_type": "skip"
    }
   },
   "source": [
    "Nomb_Input = 200\n",
    "\n",
    "M = 64    # 512-256-128-64-32 ? \n",
    "epochs = 20\n",
    "batch_size = 64\n",
    "num_class = 2\n",
    "\n",
    "# ou model = Sequential() + model.add(Dense(N)) + model.add(Dropout(0.5)) + model.add(Activation('softmax'))\n",
    "model0 = Sequential([\n",
    "    Dense(M, activation='relu', input_shape=(Nomb_Input,train_data.shape(1))),\n",
    "    Dropout(0.5),\n",
    "    Dense(M, activation='relu'),\n",
    "    Dense(M, activation='relu'), #model.add(Dropout(0.2))\n",
    "    Dropout(0.2),\n",
    "#    Dense(num_class, activation='softmax')   #  ou sigmoid\n",
    "    Dense(num_class, activation='sigmoid')  #, output_dim=1)\n",
    "])\n",
    "\n",
    "#    https://keras.io/losses \n",
    "#  loss fonctions: categorical_crossentropy, sparse_categorical_crossentropy, mean_squared_error ... etc\n",
    "#  optimizer: 'sgd', 'adam', keras.optimizers.SGD(lr=0.01, momentum=0.9, nesterov=True)\n",
    "\n",
    "model0.compile(loss=\"binary_crossentropy\", optimizer='adam',\n",
    " metrics=['msle', 'accuracy', 'mean_squared_error', 'binary_accuracy', 'categorical_accuracy'])\n",
    "# NOT loss=\"categorical_crossentropy\",'mean_squared_error'\n",
    "# NOT optimizer='sgd' \n",
    "# NOT metrics=['accuracy', 'mse', 'acc', 'categorical_accuracy',\n",
    "# 'sparse_categorical_accuracy', 'top_k_categorical_accuracy',\n",
    "# 'sparse_top_k_categorical_accuracy', 'cosine_proximity', 'clone_metric','clone_metrics']\n",
    "# ['binary_accuracy', 'fmeasure', 'precision', 'recall'])\n",
    "# Print with verbose=2 ???\n",
    "\n",
    "model0.summary()\n",
    "\n",
    "history0 = model0.fit(train_data, train_labels, validation_split=0.33, verbose=2, epochs=epochs, batch_size=batch_size)\n"
   ]
  },
  {
   "cell_type": "code",
   "execution_count": 18,
   "metadata": {
    "ExecuteTime": {
     "end_time": "2020-03-09T21:26:55.933663Z",
     "start_time": "2020-03-09T21:26:55.866571Z"
    },
    "slideshow": {
     "slide_type": "skip"
    }
   },
   "outputs": [
    {
     "name": "stdout",
     "output_type": "stream",
     "text": [
      "train (47443, 200) (11861, 200)\n",
      "(47443, 2)\n"
     ]
    }
   ],
   "source": [
    "print(\"train\", train_data.shape, test_data.shape)\n",
    "print(train_labels.shape)"
   ]
  },
  {
   "cell_type": "code",
   "execution_count": 19,
   "metadata": {
    "ExecuteTime": {
     "end_time": "2020-03-09T21:30:35.984616Z",
     "start_time": "2020-03-09T21:27:05.935705Z"
    },
    "slideshow": {
     "slide_type": ""
    }
   },
   "outputs": [
    {
     "name": "stdout",
     "output_type": "stream",
     "text": [
      "WARNING:tensorflow:From /Users/pl/anaconda3/lib/python3.7/site-packages/tensorflow/python/ops/resource_variable_ops.py:435: colocate_with (from tensorflow.python.framework.ops) is deprecated and will be removed in a future version.\n",
      "Instructions for updating:\n",
      "Colocations handled automatically by placer.\n",
      "Model: \"sequential_1\"\n",
      "_________________________________________________________________\n",
      "Layer (type)                 Output Shape              Param #   \n",
      "=================================================================\n",
      "conv1d_1 (Conv1D)            (None, 198, 32)           128       \n",
      "_________________________________________________________________\n",
      "max_pooling1d_1 (MaxPooling1 (None, 99, 32)            0         \n",
      "_________________________________________________________________\n",
      "conv1d_2 (Conv1D)            (None, 97, 64)            6208      \n",
      "_________________________________________________________________\n",
      "max_pooling1d_2 (MaxPooling1 (None, 48, 64)            0         \n",
      "_________________________________________________________________\n",
      "flatten_1 (Flatten)          (None, 3072)              0         \n",
      "_________________________________________________________________\n",
      "dense_1 (Dense)              (None, 50)                153650    \n",
      "_________________________________________________________________\n",
      "dense_2 (Dense)              (None, 2)                 102       \n",
      "=================================================================\n",
      "Total params: 160,088\n",
      "Trainable params: 160,088\n",
      "Non-trainable params: 0\n",
      "_________________________________________________________________\n",
      "WARNING:tensorflow:From /Users/pl/anaconda3/lib/python3.7/site-packages/tensorflow/python/ops/math_ops.py:3066: to_int32 (from tensorflow.python.ops.math_ops) is deprecated and will be removed in a future version.\n",
      "Instructions for updating:\n",
      "Use tf.cast instead.\n",
      "Train on 31786 samples, validate on 15657 samples\n",
      "Epoch 1/30\n",
      " - 8s - loss: 0.3022 - accuracy: 0.8699 - val_loss: 0.1206 - val_accuracy: 0.9578\n",
      "Epoch 2/30\n",
      " - 7s - loss: 0.0613 - accuracy: 0.9822 - val_loss: 0.0569 - val_accuracy: 0.9841\n",
      "Epoch 3/30\n",
      " - 7s - loss: 0.0288 - accuracy: 0.9930 - val_loss: 0.0568 - val_accuracy: 0.9892\n",
      "Epoch 4/30\n",
      " - 7s - loss: 0.0395 - accuracy: 0.9934 - val_loss: 0.0936 - val_accuracy: 0.9786\n",
      "Epoch 5/30\n",
      " - 7s - loss: 0.0346 - accuracy: 0.9956 - val_loss: 0.0946 - val_accuracy: 0.9771\n",
      "Epoch 6/30\n",
      " - 7s - loss: 0.0139 - accuracy: 0.9964 - val_loss: 0.0265 - val_accuracy: 0.9930\n",
      "Epoch 7/30\n",
      " - 7s - loss: 0.0221 - accuracy: 0.9960 - val_loss: 0.0571 - val_accuracy: 0.9899\n",
      "Epoch 8/30\n",
      " - 7s - loss: 0.0296 - accuracy: 0.9963 - val_loss: 0.0627 - val_accuracy: 0.9896\n",
      "Epoch 9/30\n",
      " - 7s - loss: 0.0301 - accuracy: 0.9963 - val_loss: 0.0757 - val_accuracy: 0.9869\n",
      "Epoch 10/30\n",
      " - 7s - loss: 0.0324 - accuracy: 0.9958 - val_loss: 0.0538 - val_accuracy: 0.9917\n",
      "Epoch 11/30\n",
      " - 7s - loss: 0.0300 - accuracy: 0.9968 - val_loss: 0.0522 - val_accuracy: 0.9917\n",
      "Epoch 12/30\n",
      " - 7s - loss: 0.0249 - accuracy: 0.9980 - val_loss: 0.0481 - val_accuracy: 0.9935\n",
      "Epoch 13/30\n",
      " - 7s - loss: 0.0235 - accuracy: 0.9982 - val_loss: 0.0477 - val_accuracy: 0.9933\n",
      "Epoch 14/30\n",
      " - 7s - loss: 0.0234 - accuracy: 0.9982 - val_loss: 0.0461 - val_accuracy: 0.9936\n",
      "Epoch 15/30\n",
      " - 7s - loss: 0.0356 - accuracy: 0.9951 - val_loss: 0.0536 - val_accuracy: 0.9924\n",
      "Epoch 16/30\n",
      " - 7s - loss: 0.0283 - accuracy: 0.9969 - val_loss: 0.0481 - val_accuracy: 0.9935\n",
      "Epoch 17/30\n",
      " - 7s - loss: 0.0256 - accuracy: 0.9977 - val_loss: 0.0463 - val_accuracy: 0.9937\n",
      "Epoch 18/30\n",
      " - 7s - loss: 0.0233 - accuracy: 0.9983 - val_loss: 0.0456 - val_accuracy: 0.9939\n",
      "Epoch 19/30\n",
      " - 7s - loss: 0.0231 - accuracy: 0.9983 - val_loss: 0.0483 - val_accuracy: 0.9937\n",
      "Epoch 20/30\n",
      " - 7s - loss: 0.0232 - accuracy: 0.9983 - val_loss: 0.0488 - val_accuracy: 0.9931\n",
      "Epoch 21/30\n",
      " - 7s - loss: 0.0323 - accuracy: 0.9962 - val_loss: 0.1016 - val_accuracy: 0.9847\n",
      "Epoch 22/30\n",
      " - 7s - loss: 0.0285 - accuracy: 0.9972 - val_loss: 0.0465 - val_accuracy: 0.9946\n",
      "Epoch 23/30\n",
      " - 7s - loss: 0.0233 - accuracy: 0.9983 - val_loss: 0.0492 - val_accuracy: 0.9943\n",
      "Epoch 24/30\n",
      " - 7s - loss: 0.0231 - accuracy: 0.9983 - val_loss: 0.0506 - val_accuracy: 0.9943\n",
      "Epoch 25/30\n",
      " - 7s - loss: 0.0233 - accuracy: 0.9982 - val_loss: 0.0479 - val_accuracy: 0.9938\n",
      "Epoch 26/30\n",
      " - 7s - loss: 0.0234 - accuracy: 0.9983 - val_loss: 0.0492 - val_accuracy: 0.9943\n",
      "Epoch 27/30\n",
      " - 7s - loss: 0.0211 - accuracy: 0.9963 - val_loss: 0.0230 - val_accuracy: 0.9952\n",
      "Epoch 28/30\n",
      " - 7s - loss: 0.0074 - accuracy: 0.9991 - val_loss: 0.0442 - val_accuracy: 0.9943\n",
      "Epoch 29/30\n",
      " - 7s - loss: 0.0249 - accuracy: 0.9980 - val_loss: 0.0515 - val_accuracy: 0.9938\n",
      "Epoch 30/30\n",
      " - 7s - loss: 0.0228 - accuracy: 0.9972 - val_loss: 0.0415 - val_accuracy: 0.9920\n"
     ]
    }
   ],
   "source": [
    "#Nomb_Input = 200\n",
    "#fil_M = 32    # 512-256-128-64-32 ?\n",
    "kernel = 3\n",
    "epochs = 30   #. 10-20-30-50\n",
    "batch_size = 32\n",
    "n_dens = 50  # 100 ou 200?\n",
    "\n",
    "num_class = 2   # ou ce\n",
    "\n",
    "# redimensionnement nécesaire pour la convolution\n",
    "train_data2 = np.expand_dims(train_data, axis=2)\n",
    "#   ou  ?  train_data.reshape(train_data.shape[0], train_data.shape[1], 1)  et input_shape=(train_data.shape[1], 1)\n",
    "test_data2 = np.expand_dims(test_data, axis=2)\n",
    "\n",
    "model0 = Sequential()\n",
    "model0.add(Conv1D(32, kernel, activation='relu', input_shape=(train_data2.shape[1],train_data2.shape[2])))\n",
    "#model0.add(Dropout(0.5))\n",
    "model0.add(MaxPooling1D(pool_size=(2)))\n",
    "###### PLUS\n",
    "model0.add(Conv1D(64, kernel, activation='relu'))\n",
    "model0.add(MaxPooling1D(pool_size=(2)))\n",
    "############\n",
    "# model0.add(BatchNormalization())\n",
    "model0.add(Flatten())        \n",
    "model0.add(Dense(n_dens, activation='relu'))\n",
    "model0.add(Dense(num_class, activation='sigmoid'))\n",
    "\n",
    "model0.compile(loss=\"binary_crossentropy\", optimizer='adam', metrics=['accuracy'])\n",
    "\n",
    "model0.summary()\n",
    "\n",
    "history0 = model0.fit(train_data2, train_labels, validation_split=0.33, verbose=2, epochs=epochs, batch_size=batch_size)\n"
   ]
  },
  {
   "cell_type": "code",
   "execution_count": 20,
   "metadata": {
    "ExecuteTime": {
     "end_time": "2020-03-09T21:31:06.473575Z",
     "start_time": "2020-03-09T21:31:05.722468Z"
    },
    "slideshow": {
     "slide_type": "slide"
    }
   },
   "outputs": [
    {
     "data": {
      "image/png": "[encoded data removed]",
      "text/plain": [
       "<Figure size 432x288 with 1 Axes>"
      ]
     },
     "metadata": {
      "needs_background": "light"
     },
     "output_type": "display_data"
    }
   ],
   "source": [
    "#history0 = history0b\n",
    "#history0.history\n",
    "# plot metrics\n",
    "test = False\n",
    "if test:\n",
    "    _ = plt.plot(history0.history['msle'])\n",
    "    _ = plt.plot(history0.history['mean_squared_error'])\n",
    "    _ = plt.plot(history0.history['binary_accuracy'])\n",
    "    _ = plt.plot(history0.history['categorical_accuracy'])\n",
    "_ = plt.plot(history0.history['accuracy'])\n",
    "_ = plt.show()"
   ]
  },
  {
   "cell_type": "code",
   "execution_count": 21,
   "metadata": {
    "ExecuteTime": {
     "end_time": "2020-03-09T21:31:49.539713Z",
     "start_time": "2020-03-09T21:31:49.463863Z"
    },
    "slideshow": {
     "slide_type": "skip"
    }
   },
   "outputs": [
    {
     "name": "stdout",
     "output_type": "stream",
     "text": [
      "Model: \"sequential_1\"\n",
      "_________________________________________________________________\n",
      "Layer (type)                 Output Shape              Param #   \n",
      "=================================================================\n",
      "conv1d_1 (Conv1D)            (None, 198, 32)           128       \n",
      "_________________________________________________________________\n",
      "max_pooling1d_1 (MaxPooling1 (None, 99, 32)            0         \n",
      "_________________________________________________________________\n",
      "conv1d_2 (Conv1D)            (None, 97, 64)            6208      \n",
      "_________________________________________________________________\n",
      "max_pooling1d_2 (MaxPooling1 (None, 48, 64)            0         \n",
      "_________________________________________________________________\n",
      "flatten_1 (Flatten)          (None, 3072)              0         \n",
      "_________________________________________________________________\n",
      "dense_1 (Dense)              (None, 50)                153650    \n",
      "_________________________________________________________________\n",
      "dense_2 (Dense)              (None, 2)                 102       \n",
      "=================================================================\n",
      "Total params: 160,088\n",
      "Trainable params: 160,088\n",
      "Non-trainable params: 0\n",
      "_________________________________________________________________\n"
     ]
    }
   ],
   "source": [
    "model0.summary()\n",
    "\n",
    "# model.save_weights('file.h5')\n",
    "\n",
    "# avec le model construit + les poids\n",
    "# model.load_weights('file.h5')\n"
   ]
  },
  {
   "cell_type": "markdown",
   "metadata": {
    "slideshow": {
     "slide_type": "skip"
    }
   },
   "source": [
    "### Figures"
   ]
  },
  {
   "cell_type": "code",
   "execution_count": 22,
   "metadata": {
    "ExecuteTime": {
     "end_time": "2020-03-09T21:31:54.599010Z",
     "start_time": "2020-03-09T21:31:54.299522Z"
    },
    "slideshow": {
     "slide_type": "slide"
    }
   },
   "outputs": [
    {
     "name": "stdout",
     "output_type": "stream",
     "text": [
      "dict_keys(['val_loss', 'val_accuracy', 'loss', 'accuracy'])\n"
     ]
    },
    {
     "data": {
      "image/png": "[encoded data removed]",
      "text/plain": [
       "<Figure size 1440x288 with 2 Axes>"
      ]
     },
     "metadata": {
      "needs_background": "light"
     },
     "output_type": "display_data"
    }
   ],
   "source": [
    "print(history0.history.keys())\n",
    "coul = [\"blue\", \"lightblue\", \"orange\", \"red\"]\n",
    "\n",
    "fig = plt.figure(figsize=(20,4))\n",
    "_ = plt.subplot(1,2,1)\n",
    "for i in range(0,4,2):\n",
    "    _ = plt.plot(list(history0.history.values())[i],'k-o', color=coul[i])\n",
    "_ = plt.subplot(1,2,2)\n",
    "for j in range(1,4,2):\n",
    "    _ = plt.plot(list(history0.history.values())[j],'k-o', color=coul[j])"
   ]
  },
  {
   "cell_type": "code",
   "execution_count": 23,
   "metadata": {
    "ExecuteTime": {
     "end_time": "2020-03-09T21:31:56.048182Z",
     "start_time": "2020-03-09T21:31:55.976031Z"
    },
    "slideshow": {
     "slide_type": "skip"
    }
   },
   "outputs": [
    {
     "name": "stdout",
     "output_type": "stream",
     "text": [
      "dict_keys(['val_loss', 'val_accuracy', 'loss', 'accuracy'])\n",
      "0.9920163750648499\n",
      "0.9972\n",
      "0.04148303028122087\n",
      "0.022822579936500928\n"
     ]
    }
   ],
   "source": [
    "print(history0.history.keys())\n",
    "print(history0.history['val_accuracy'][-1])\n",
    "print(history0.history['accuracy'][-1])\n",
    "print(history0.history['val_loss'][-1])\n",
    "print(history0.history['loss'][-1])\n"
   ]
  },
  {
   "cell_type": "code",
   "execution_count": 24,
   "metadata": {
    "ExecuteTime": {
     "end_time": "2020-03-09T21:31:59.845402Z",
     "start_time": "2020-03-09T21:31:57.809744Z"
    },
    "slideshow": {
     "slide_type": "slide"
    }
   },
   "outputs": [
    {
     "name": "stdout",
     "output_type": "stream",
     "text": [
      "Test loss: 0.04579962311220426\n",
      "Test accuracy: 0.9924542903900146\n",
      "[0 1 1 0 1 0 0 1 1 0]\n",
      "[0. 1. 0. 0. 1. 0. 0. 1. 1. 0.]\n"
     ]
    },
    {
     "data": {
      "image/png": "[encoded data removed]",
      "text/plain": [
       "<Figure size 864x432 with 2 Axes>"
      ]
     },
     "metadata": {
      "needs_background": "light"
     },
     "output_type": "display_data"
    }
   ],
   "source": [
    "# RESULTATS\n",
    "score = model0.evaluate(test_data2, test_labels, verbose=0, batch_size=batch_size)\n",
    "print('Test loss:', score[0])\n",
    "print('Test accuracy:', score[1])\n",
    "\n",
    "# predictions\n",
    "classes = model0.predict(test_data2, batch_size=batch_size)\n",
    "predictions = model0.predict(test_data2[:10])\n",
    "print(np.argmax(predictions, axis=1))\n",
    "print(test_labels[:10,1])\n",
    "\n",
    "# PLOTS\n",
    "fig = plt.figure(figsize=(12,6))\n",
    "_ = plt.subplot(2,1,1)\n",
    "_ = plt.plot(history0.history['accuracy'])\n",
    "_ = plt.plot(history0.history['val_accuracy'])\n",
    "_ = plt.title('model accuracy')\n",
    "_ = plt.xlabel('epoch')\n",
    "_ = plt.ylabel('accuracy')\n",
    "_ = plt.legend(['train','test'], loc='lower right')\n",
    "\n",
    "_ = plt.subplot(2,1,2)\n",
    "_ = plt.plot(history0.history['loss'])\n",
    "_ = plt.plot(history0.history['val_loss'])\n",
    "_ = plt.title('model loss')\n",
    "_ = plt.xlabel('epoch')\n",
    "_ = plt.ylabel('loss')\n",
    "_ = plt.legend(['train','test'], loc='upper right')\n",
    "\n",
    "_ = plt.tight_layout()\n",
    "_ = fig"
   ]
  },
  {
   "cell_type": "markdown",
   "metadata": {
    "slideshow": {
     "slide_type": "skip"
    }
   },
   "source": [
    "### Matrice de Confusion"
   ]
  },
  {
   "cell_type": "code",
   "execution_count": 25,
   "metadata": {
    "ExecuteTime": {
     "end_time": "2020-03-09T21:32:07.117496Z",
     "start_time": "2020-03-09T21:32:02.118523Z"
    },
    "slideshow": {
     "slide_type": "skip"
    }
   },
   "outputs": [
    {
     "name": "stdout",
     "output_type": "stream",
     "text": [
      "\n",
      " Echantillon Test: 11861\n",
      "[[5715    0]\n",
      " [  91 6055]]\n",
      "\n",
      " Echantillon Train: 47443\n",
      "[[23064     0]\n",
      " [  162 24217]]\n",
      "\n",
      " Normalisé:\n",
      "Prédit       0.0       1.0\n",
      "Reel                      \n",
      "0.0     0.984327  0.015029\n",
      "1.0     0.000000  1.000000\n",
      "\n",
      " testing1:\n",
      "Predit   0.0   1.0    All\n",
      "Reel                     \n",
      "0.0     5715    91   5806\n",
      "1.0        0  6055   6055\n",
      "All     5715  6146  11861\n"
     ]
    },
    {
     "data": {
      "image/png": "[encoded data removed]",
      "text/plain": [
       "<Figure size 432x288 with 2 Axes>"
      ]
     },
     "metadata": {
      "needs_background": "light"
     },
     "output_type": "display_data"
    },
    {
     "name": "stdout",
     "output_type": "stream",
     "text": [
      "\n",
      " testing2:\n",
      "Predit       0.0       1.0  All\n",
      "Reel                           \n",
      "0.0     0.492163  0.007837  0.5\n",
      "1.0     0.000000  0.500000  0.5\n",
      "All     0.240916  0.259084  0.5\n"
     ]
    },
    {
     "data": {
      "image/png": "[encoded data removed]",
      "text/plain": [
       "<Figure size 432x288 with 2 Axes>"
      ]
     },
     "metadata": {
      "needs_background": "light"
     },
     "output_type": "display_data"
    },
    {
     "data": {
      "text/plain": [
       "<matplotlib.axes._subplots.AxesSubplot at 0x157aae550>"
      ]
     },
     "execution_count": 25,
     "metadata": {},
     "output_type": "execute_result"
    },
    {
     "data": {
      "image/png": "[encoded data removed]",
      "text/plain": [
       "<Figure size 360x360 with 2 Axes>"
      ]
     },
     "metadata": {
      "needs_background": "light"
     },
     "output_type": "display_data"
    }
   ],
   "source": [
    "from sklearn.metrics import confusion_matrix\n",
    "#       pip install scikit-plot\n",
    "import scikitplot as skplt\n",
    "\n",
    "# transforme les matrice en listes d'entiers binaires (0 ou 1)\n",
    "Y11 = pd.DataFrame(model0.predict(test_data2)[:,1:])[0].round(0).tolist()\n",
    "Y10 = pd.DataFrame(test_labels[:,1:])[0].tolist()\n",
    "print(\"\\n Echantillon Test:\", len(Y11))\n",
    "print(confusion_matrix(Y11, Y10))\n",
    "\n",
    "Y01 = pd.DataFrame(model0.predict(train_data2)[:,1:])[0].round(0).tolist()\n",
    "Y00 = pd.DataFrame(train_labels[:,1:])[0].tolist()\n",
    "print(\"\\n Echantillon Train:\", len(Y01))\n",
    "print(confusion_matrix(Y01, Y00))\n",
    "\n",
    "y_reel = pd.Series(Y10, name='Reel')\n",
    "y_pred = pd.Series(Y11, name='Prédit')\n",
    "\n",
    "df_confusion = pd.crosstab(y_reel, y_pred)\n",
    "\n",
    "df_conf_norm = df_confusion / df_confusion.sum(axis=1)\n",
    "print(\"\\n Normalisé:\")\n",
    "print(df_conf_norm)\n",
    "print(\"\\n testing1:\")\n",
    "df_confusion = pd.crosstab(y_reel, y_pred, rownames=['Reel'], colnames=['Predit'], margins=True)\n",
    "print(df_confusion)\n",
    "_ = sns.heatmap(df_confusion, annot=True)\n",
    "plt.show()\n",
    "\n",
    "df_conf_norm = df_confusion.div(df_confusion.sum(axis=1), axis=0)\n",
    "print(\"\\n testing2:\")\n",
    "print(df_conf_norm)\n",
    "_ = sns.heatmap(df_conf_norm, annot=True)\n",
    "plt.show()\n",
    "\n",
    "######### NOT WORKING ???\n",
    "#from pandas_ml import ConfusionMatrix\n",
    "#confusion_matrix = ConfusionMatrix(y_reel, y_pred)\n",
    "#confusion_matrix.plot()\n",
    "#plt.show()\n",
    "#confusion_matrix.plot(normalized=True)\n",
    "#plt.show()\n",
    "\n",
    "#binary_confusion_matrix = ConfusionMatrix(y_true, y_pred)\n",
    "#print(\"Binary confusion matrix:\\n%s\" % binary_confusion_matrix)\n",
    "#print(binary_confusion_matrix.TP) # TN, FP, FN, ...\n",
    "#binary_confusion_matrix.plot(normalized=False)\n",
    "#binary_confusion_matrix.plot(normalized=True, backend='seaborn')\n",
    "#plt.show()\n",
    "#confusion_matrix.print_stats()\n",
    "#confusion_matrix.stats()\n",
    "##########\n",
    "\n",
    "\n",
    "skplt.metrics.plot_confusion_matrix(y_reel, y_pred, figsize=(5,5))"
   ]
  },
  {
   "cell_type": "code",
   "execution_count": 26,
   "metadata": {
    "ExecuteTime": {
     "end_time": "2020-03-09T21:32:27.345470Z",
     "start_time": "2020-03-09T21:32:23.482998Z"
    },
    "slideshow": {
     "slide_type": "slide"
    }
   },
   "outputs": [
    {
     "data": {
      "text/html": [
       "<div>\n",
       "<style scoped>\n",
       "    .dataframe tbody tr th:only-of-type {\n",
       "        vertical-align: middle;\n",
       "    }\n",
       "\n",
       "    .dataframe tbody tr th {\n",
       "        vertical-align: top;\n",
       "    }\n",
       "\n",
       "    .dataframe thead th {\n",
       "        text-align: right;\n",
       "    }\n",
       "</style>\n",
       "<table border=\"1\" class=\"dataframe\">\n",
       "  <thead>\n",
       "    <tr style=\"text-align: right;\">\n",
       "      <th></th>\n",
       "      <th>0_true</th>\n",
       "      <th>0_pred</th>\n",
       "      <th>0_pred2</th>\n",
       "      <th>diff</th>\n",
       "    </tr>\n",
       "  </thead>\n",
       "  <tbody>\n",
       "    <tr>\n",
       "      <td>0</td>\n",
       "      <td>0</td>\n",
       "      <td>0.000000</td>\n",
       "      <td>0.0</td>\n",
       "      <td>0.0</td>\n",
       "    </tr>\n",
       "    <tr>\n",
       "      <td>1</td>\n",
       "      <td>1</td>\n",
       "      <td>0.996377</td>\n",
       "      <td>1.0</td>\n",
       "      <td>0.0</td>\n",
       "    </tr>\n",
       "  </tbody>\n",
       "</table>\n",
       "</div>"
      ],
      "text/plain": [
       "   0_true    0_pred  0_pred2  diff\n",
       "0       0  0.000000      0.0   0.0\n",
       "1       1  0.996377      1.0   0.0"
      ]
     },
     "execution_count": 26,
     "metadata": {},
     "output_type": "execute_result"
    },
    {
     "data": {
      "text/html": [
       "<div>\n",
       "<style scoped>\n",
       "    .dataframe tbody tr th:only-of-type {\n",
       "        vertical-align: middle;\n",
       "    }\n",
       "\n",
       "    .dataframe tbody tr th {\n",
       "        vertical-align: top;\n",
       "    }\n",
       "\n",
       "    .dataframe thead th {\n",
       "        text-align: right;\n",
       "    }\n",
       "</style>\n",
       "<table border=\"1\" class=\"dataframe\">\n",
       "  <thead>\n",
       "    <tr style=\"text-align: right;\">\n",
       "      <th></th>\n",
       "      <th>0_true</th>\n",
       "      <th>0_pred</th>\n",
       "      <th>0_pred2</th>\n",
       "      <th>diff</th>\n",
       "    </tr>\n",
       "  </thead>\n",
       "  <tbody>\n",
       "    <tr>\n",
       "      <td>0</td>\n",
       "      <td>0</td>\n",
       "      <td>0.0</td>\n",
       "      <td>0.0</td>\n",
       "      <td>0.0</td>\n",
       "    </tr>\n",
       "    <tr>\n",
       "      <td>1</td>\n",
       "      <td>0</td>\n",
       "      <td>0.0</td>\n",
       "      <td>0.0</td>\n",
       "      <td>0.0</td>\n",
       "    </tr>\n",
       "  </tbody>\n",
       "</table>\n",
       "</div>"
      ],
      "text/plain": [
       "   0_true  0_pred  0_pred2  diff\n",
       "0       0     0.0      0.0   0.0\n",
       "1       0     0.0      0.0   0.0"
      ]
     },
     "execution_count": 26,
     "metadata": {},
     "output_type": "execute_result"
    },
    {
     "name": "stdout",
     "output_type": "stream",
     "text": [
      "(11861, 4) (47443, 4)\n",
      "(5806, 4) (6055, 4) (23226, 4) (24217, 4)\n",
      "\n",
      " ERREURS: 0_true     0.0\n",
      "0_pred     0.0\n",
      "0_pred2    0.0\n",
      "diff       0.0\n",
      "dtype: float64 0_true      0.000000\n",
      "0_pred     80.473645\n",
      "0_pred2    91.000000\n",
      "diff      -91.000000\n",
      "dtype: float64 0_true     0.0\n",
      "0_pred     0.0\n",
      "0_pred2    0.0\n",
      "diff       0.0\n",
      "dtype: float64 0_true      0.000000\n",
      "0_pred     13.947973\n",
      "0_pred2     0.000000\n",
      "diff        0.000000\n",
      "dtype: float64\n",
      "\n",
      " LOSS 0.007672203018295253\n"
     ]
    },
    {
     "data": {
      "image/png": "[encoded data removed]",
      "text/plain": [
       "<Figure size 288x288 with 2 Axes>"
      ]
     },
     "metadata": {
      "needs_background": "light"
     },
     "output_type": "display_data"
    },
    {
     "data": {
      "image/png": "[encoded data removed]",
      "text/plain": [
       "<Figure size 360x360 with 2 Axes>"
      ]
     },
     "metadata": {
      "needs_background": "light"
     },
     "output_type": "display_data"
    },
    {
     "data": {
      "text/plain": [
       "array([[5715,   91],\n",
       "       [   0, 6055]])"
      ]
     },
     "execution_count": 26,
     "metadata": {},
     "output_type": "execute_result"
    },
    {
     "data": {
      "text/plain": [
       "<matplotlib.axes._subplots.AxesSubplot at 0x1403be4a8>"
      ]
     },
     "execution_count": 26,
     "metadata": {},
     "output_type": "execute_result"
    },
    {
     "data": {
      "image/png": "[encoded data removed]",
      "text/plain": [
       "<Figure size 432x288 with 2 Axes>"
      ]
     },
     "metadata": {
      "needs_background": "light"
     },
     "output_type": "display_data"
    }
   ],
   "source": [
    "def mse_loss(y_true, y_pred):\n",
    "    # y_true and y_pred are numpy arrays of the same length.\n",
    "    return ((y_true - y_pred) ** 2).mean()\n",
    "\n",
    "def tab_result(df_a, df_b):\n",
    "    # Extrait les matrices binaires en 1 seule colonne\n",
    "    y_pred = pd.DataFrame(model0.predict(df_b)[:,1:])\n",
    "    y_true = pd.DataFrame(df_a[:,1:])\n",
    "    # création de la table\n",
    "    dy = y_true.merge(y_pred, left_index=True, right_index=True, suffixes=('_true', '_pred'))\n",
    "    dy['0_true'] = dy['0_true'].astype(int)\n",
    "    dy['0_pred2'] = dy['0_pred'].round(0)   #arrondi à l'entier le + proche\n",
    "    dy['diff'] = dy['0_true'] - dy['0_pred2']\n",
    "    return dy\n",
    "\n",
    "def lampe_results(df1, df2):\n",
    "    df_10 = df1[df1['0_true'] == 0]\n",
    "    df_11 = dy1[dy1['0_true'] == 1]\n",
    "    df_20 = df2[df2['0_true'] == 0]\n",
    "    df_21 = dy2[dy2['0_true'] == 1]\n",
    "    return (df_10, df_11, df_20, df_21)\n",
    "\n",
    "dy1 = tab_result(test_labels, test_data2)\n",
    "dy2 = tab_result(train_labels, train_data2)\n",
    "dy1.head(2)\n",
    "dy2.head(2)\n",
    "df_test_1, df_test_0, df_train_1, df_train_0 = lampe_results(dy1, dy2)\n",
    "\n",
    "print(dy1.shape, dy2.shape)\n",
    "print(df_test_1.shape, df_test_0.shape, df_train_1.shape, df_train_0.shape)\n",
    "#print(df_test_0.describe())\n",
    "true_pos1 = df_test_1[(df_test_1['0_pred2'] == 1) & (df_test_1['0_true'] == 1)].sum()\n",
    "fals_pos1 = df_test_1[(df_test_1['0_pred2'] == 1) & (df_test_1['0_true'] == 0)].sum()\n",
    "fals_neg1 = df_test_1[(df_test_1['0_pred2'] == 0) & (df_test_1['0_true'] == 1)].sum()\n",
    "true_neg1 = df_test_1[(df_test_1['0_pred2'] == 0) & (df_test_1['0_true'] == 0)].sum()\n",
    "print(\"\\n ERREURS:\", true_pos1, fals_pos1, fals_neg1, true_neg1)\n",
    "#####################################\n",
    "# sensitivity-recall : TPR = TP/P = TP / (TP + FN)\n",
    "# specificity-select : TNR = TN/N = TN / (TN + FP)\n",
    "# balance : = (TPR + TNR) / 2\n",
    "# precision          : TP / (TP + FP)\n",
    "\n",
    "# accuracy    : ACC = (TP + TN) / total\n",
    "# FI score    :  2 * TP / (2 TP + FP + FN) == 2 / (1/precision + 1/recall)\n",
    "#####################################\n",
    "\n",
    "\n",
    "# calcul pour LOSS du Mean Squared Error\n",
    "print(\"\\n LOSS\", mse_loss(y_reel, y_pred))\n",
    "\n",
    "######################################################################\n",
    "#### Essai pour obtenir une belle matrice de confusion \n",
    "#cm_fig = interp.plot_confusion_matrix(return_fig=True)\n",
    "#ax = cm_fig.gca()\n",
    "#ax.set_ylim(interp.data.c - .5, - .5)\n",
    "######################################################################\n",
    "\n",
    "_ = skplt.metrics.plot_confusion_matrix(y_reel, y_pred, figsize=(4,4), normalize=True)\n",
    "plt.tight_layout()\n",
    "plt.show()\n",
    "_ = skplt.metrics.plot_confusion_matrix(y_reel, y_pred, figsize=(5,5))\n",
    "plt.show()\n",
    "\n",
    "confusion_matrix(dy1['0_true'], dy1['0_pred2'])\n",
    "sns.heatmap(df_confusion, annot=True)\n",
    "plt.tight_layout()\n",
    "plt.show()\n",
    "\n"
   ]
  },
  {
   "cell_type": "code",
   "execution_count": null,
   "metadata": {
    "slideshow": {
     "slide_type": "skip"
    }
   },
   "outputs": [],
   "source": []
  },
  {
   "cell_type": "raw",
   "metadata": {
    "ExecuteTime": {
     "end_time": "2020-03-08T23:04:52.113364Z",
     "start_time": "2020-03-08T23:04:52.073265Z"
    },
    "slideshow": {
     "slide_type": "skip"
    }
   },
   "source": [
    "y_true2 = [x for x in test_labels if x != 0]\n",
    "y_pred2 = model0.predict(test_data)\n",
    "print(len(y_true2), len(y_pred2))\n",
    "print(mse_loss(y_true2, y_pred2))\n",
    "\n",
    "egaux = [(a,b) for a in np.ndarray.tolist(y_true2) for b in np.ndarray.tolist(y_pred2) if a == b]\n",
    "differents = [(a,b) for a in np.ndarray.tolist(y_true2) for b in np.ndarray.tolist(y_pred2) if a == b]\n",
    "print(len(y_true2), len(egaux), len(differents))\n",
    "\n",
    "from scipy import stats\n",
    "stats.describe(y_true2)"
   ]
  },
  {
   "cell_type": "code",
   "execution_count": null,
   "metadata": {
    "slideshow": {
     "slide_type": "skip"
    }
   },
   "outputs": [],
   "source": []
  },
  {
   "cell_type": "markdown",
   "metadata": {
    "slideshow": {
     "slide_type": "skip"
    }
   },
   "source": [
    "# KERAS :  images bi-dimensionelles"
   ]
  },
  {
   "cell_type": "markdown",
   "metadata": {
    "slideshow": {
     "slide_type": "skip"
    }
   },
   "source": [
    "### test séparation "
   ]
  },
  {
   "cell_type": "raw",
   "metadata": {
    "ExecuteTime": {
     "end_time": "2020-03-04T09:58:42.234733Z",
     "start_time": "2020-03-04T09:58:42.226727Z"
    },
    "slideshow": {
     "slide_type": "skip"
    }
   },
   "source": [
    "import torch\n",
    "from torch.utils.data import Dataset\n",
    "\n",
    "class MyDataset(Dataset):\n",
    "    \n",
    "    def __init__(self, x, y):\n",
    "        self.x = x\n",
    "        self.y = y\n",
    "    \n",
    "    def __getitem__(self, index):\n",
    "        sample = {\n",
    "            'feature': torch.tensor([self.x[index]], dtype=torch.float32), \n",
    "            'label': torch.tensor([self.y[index]], dtype=torch.long)}\n",
    "        return sample\n",
    "    \n",
    "    def __len__(self):\n",
    "        return len(self.x)"
   ]
  },
  {
   "cell_type": "raw",
   "metadata": {
    "ExecuteTime": {
     "end_time": "2020-03-03T16:30:08.035402Z",
     "start_time": "2020-03-03T16:30:07.964357Z"
    },
    "slideshow": {
     "slide_type": "skip"
    }
   },
   "source": [
    "dataset = MyDataset(data , data_y)\n",
    "sample = len(dataset)\n",
    "print('length: ', sample)\n",
    "pour = 75\n",
    "X1 = int(pour/100 * sample)\n",
    "X2 = sample - X1\n",
    "for i in range(len(dataset)):\n",
    "    #pp.pprint(dataset[i])\n",
    "    pass\n",
    "\n",
    "from torch.utils.data import random_split\n",
    "train, test = random_split(dataset, [X1, X2])\n",
    "\n",
    "x_train = np.empty((2, len(train)))\n",
    "y_train = np.empty((len(train)))\n",
    "for i in range(len(train)):\n",
    "    #pp.pprint(train[i])\n",
    "    x_train[:,i] = train[i]['feature'].numpy().reshape(2)\n",
    "    y_train[i] = train[i]['label'][0].numpy()\n",
    "\n",
    "print('test length: ', len(test))    \n",
    "x_test = np.empty((2, len(test)))\n",
    "y_test = np.empty((len(test)))\n",
    "for i in range(len(test)):\n",
    "    #pp.pprint(test[i])\n",
    "    x_test[:,i] = test[i]['feature'].numpy().reshape(2)\n",
    "    y_test[i] = test[i]['label'][0].numpy()\n",
    "    \n",
    "plt.scatter(x_train[0,:], x_train[1,:], c=y_train, cmap=cm.bwr, alpha=0.4)\n",
    "plt.scatter(x_test[0,:], x_test[1,:], c=y_test, cmap=cm.PiYG, alpha=0.4)\n",
    "plt.xlabel('$x_1$')\n",
    "plt.ylabel('$x_2$')\n",
    "plt.xlim(-3,10)\n",
    "plt.ylim(-3,10)"
   ]
  },
  {
   "cell_type": "markdown",
   "metadata": {
    "slideshow": {
     "slide_type": "skip"
    }
   },
   "source": [
    "### tests"
   ]
  },
  {
   "cell_type": "raw",
   "metadata": {
    "ExecuteTime": {
     "end_time": "2020-03-03T13:19:31.879677Z",
     "start_time": "2020-03-03T13:14:22.169214Z"
    },
    "slideshow": {
     "slide_type": "skip"
    }
   },
   "source": [
    "# TROP gourmant en ressources et trop lent \n",
    "\n",
    "print(data.shape)\n",
    "df = pd.DataFrame(tf.reshape(data, [data.shape[0],data.shape[1]*data.shape[2]]))\n",
    "#df = pd.DataFrame(tf.reshape(data, [552,200]))\n",
    "print(df.shape)\n",
    "# sns.pairplot(df)\n",
    "# sns.heatmap(df.coor(), annot=True)\n",
    "df.head()\n",
    "data[118:120,:2,0:]"
   ]
  },
  {
   "cell_type": "code",
   "execution_count": null,
   "metadata": {
    "slideshow": {
     "slide_type": "skip"
    }
   },
   "outputs": [],
   "source": []
  },
  {
   "cell_type": "markdown",
   "metadata": {
    "slideshow": {
     "slide_type": "skip"
    }
   },
   "source": [
    "## Lecture des 3 fichiers de données"
   ]
  },
  {
   "cell_type": "code",
   "execution_count": 27,
   "metadata": {
    "ExecuteTime": {
     "end_time": "2020-03-09T21:35:28.856708Z",
     "start_time": "2020-03-09T21:35:22.396334Z"
    },
    "slideshow": {
     "slide_type": "skip"
    }
   },
   "outputs": [
    {
     "name": "stdout",
     "output_type": "stream",
     "text": [
      "(39592, 10, 10)\n",
      "(39592, 10, 10, 1)\n",
      "(39592, 10, 10, 2) 39592\n",
      "\n",
      " Fichiers utilisés:\n",
      " /Users/pl/Desktop/DATA_SCIENCE/NOTEBOOK/EMS/data_LAS_nom_NUM_29384.npy \n",
      " /Users/pl/Desktop/DATA_SCIENCE/NOTEBOOK/EMS/data_LAS_nom_ECA_29384.npy \n",
      " /Users/pl/Desktop/DATA_SCIENCE/NOTEBOOK/EMS/data_LAS_nom_POS_29384.npy\n",
      "Classification utiliseé:\n",
      " /Users/pl/Desktop/DATA_SCIENCE/NOTEBOOK/EMS/data_LAS_nom_POS_29384.npy \n",
      "\n",
      "(39592, 10, 10, 2) (39592, 100)\n"
     ]
    }
   ],
   "source": [
    "\n",
    "fichier1  = DATA_DIR3 + \"data_LAS_nom_NUM_\" + str(off) + \".npy\"\n",
    "data1     = np.load(fichier1)\n",
    "fichier2  = DATA_DIR3 + \"data_LAS_nom_ECA_\" + str(off) + \".npy\"\n",
    "data2     = np.load(fichier2)\n",
    "fichierY = DATA_DIR3 + \"data_LAS_nom_POS_\" + str(off) + \".npy\"\n",
    "data3    = np.load(fichierY)\n",
    "#print(type(data1), type(data2))\n",
    "print(data1.shape)\n",
    "if (data1.shape[0] - data2.shape[0] != 0):\n",
    "    print(data1.shape, data2.shape, data3.shape)\n",
    "\n",
    "# concatenation de NUM et POS\n",
    "data14 = tf.expand_dims(data1, 3)\n",
    "data24 = tf.expand_dims(data2, 3)\n",
    "data34 = tf.expand_dims(data1, 3)\n",
    "print(data14.shape) #, data24.shape, data34.shape)\n",
    "\n",
    "data_x = tf.concat([data14, data24], 3)\n",
    "#data_x = tf.concat([data14, data24, data34], 3)\n",
    "#data_x = data1\n",
    "taille = data_x.shape[0]\n",
    "print(data_x.shape, taille)\n",
    "data_y   = np.load(fichierY).reshape(taille,100)\n",
    "Nomb_Input = data_x.shape\n",
    "\n",
    "print(\"\\n Fichiers utilisés:\\n\", fichier1, \"\\n\", fichier2, \"\\n\", fichierY)\n",
    "print(\"Classification utiliseé:\\n\", fichierY, \"\\n\")\n",
    "print(data_x.shape, data_y.shape)"
   ]
  },
  {
   "cell_type": "code",
   "execution_count": 28,
   "metadata": {
    "ExecuteTime": {
     "end_time": "2020-03-09T21:35:32.061512Z",
     "start_time": "2020-03-09T21:35:31.766663Z"
    },
    "slideshow": {
     "slide_type": "skip"
    }
   },
   "outputs": [
    {
     "name": "stdout",
     "output_type": "stream",
     "text": [
      "(39592, 102) 10620.0\n",
      "39592 29062 10440 90\n",
      "39592 29062 10530 0\n"
     ]
    }
   ],
   "source": [
    "# somme sur toutes les rangées ou colonnes   \n",
    "# présence de valeurs SUPERIEURES A 1 (3 valeurs à 2 ! pourquoi ?????)\n",
    "df_Y = pd.DataFrame(data_y)\n",
    "df_Y['lamp'] = df_Y.sum(axis=1)\n",
    "df_Y['lamp2'] = df_Y[:-1].sum(axis=0)\n",
    "print(df_Y.shape, df_Y['lamp'].sum())\n",
    "print(df_Y.shape[0], len(df_Y[df_Y['lamp'] == 0]), df_Y[df_Y['lamp'] == 1].shape[0], df_Y[df_Y['lamp'] > 1].shape[0])\n",
    "#  Ecrase les valeurs de 2  ... pour avoir des 0 ou des 1\n",
    "df_Y.loc[df_Y['lamp'] > 1] = 1\n",
    "print(df_Y.shape[0], len(df_Y[df_Y['lamp'] == 0]), df_Y[df_Y['lamp'] == 1].shape[0], df_Y[df_Y['lamp'] > 1].shape[0])\n",
    "#df_Y[df_Y['lamp'] == 2]"
   ]
  },
  {
   "cell_type": "code",
   "execution_count": 29,
   "metadata": {
    "ExecuteTime": {
     "end_time": "2020-03-09T21:35:33.634971Z",
     "start_time": "2020-03-09T21:35:33.532736Z"
    },
    "slideshow": {
     "slide_type": "skip"
    }
   },
   "outputs": [
    {
     "name": "stdout",
     "output_type": "stream",
     "text": [
      "(39592, 112) (40000, 9) (39592, 102)\n"
     ]
    },
    {
     "data": {
      "text/plain": [
       "count    39592.000000\n",
       "mean        -0.257022\n",
       "std          0.450655\n",
       "min         -1.000000\n",
       "25%         -1.000000\n",
       "50%          0.000000\n",
       "75%          0.000000\n",
       "max          1.000000\n",
       "Name: diff, dtype: float64"
      ]
     },
     "execution_count": 29,
     "metadata": {},
     "output_type": "execute_result"
    }
   ],
   "source": [
    "# lampes0 autre DataFrame avec les indice de présence des lampadaires ... CORRECTS ? ... pas cohérent\n",
    "df_tot = df_Y.merge(lampes0, left_index=True, right_index=True)\n",
    "df_tot['diff'] = df_tot['present'] - df_tot['lamp']\n",
    "print(df_tot.shape, lampes0.shape,df_Y.shape )\n",
    "\n",
    "test = False\n",
    "#test = True\n",
    "if test:\n",
    "    print(df_tot[df_tot['diff'] == 2].count(axis=0))\n",
    "    print(df_tot[df_tot['diff'] == 1].count(axis=0))\n",
    "    print(df_tot[df_tot['diff'] == 0].count(axis=0))\n",
    "    print(df_tot[df_tot['diff'] == -1].count(axis=0))\n",
    "    print(df_tot[df_tot['diff'] == -2].count(axis=0))\n",
    "df_tot['diff'].describe()\n"
   ]
  },
  {
   "cell_type": "code",
   "execution_count": 30,
   "metadata": {
    "ExecuteTime": {
     "end_time": "2020-03-09T21:35:34.979909Z",
     "start_time": "2020-03-09T21:35:34.833110Z"
    },
    "slideshow": {
     "slide_type": "skip"
    }
   },
   "outputs": [
    {
     "data": {
      "text/html": [
       "<div>\n",
       "<style scoped>\n",
       "    .dataframe tbody tr th:only-of-type {\n",
       "        vertical-align: middle;\n",
       "    }\n",
       "\n",
       "    .dataframe tbody tr th {\n",
       "        vertical-align: top;\n",
       "    }\n",
       "\n",
       "    .dataframe thead th {\n",
       "        text-align: right;\n",
       "    }\n",
       "</style>\n",
       "<table border=\"1\" class=\"dataframe\">\n",
       "  <thead>\n",
       "    <tr style=\"text-align: right;\">\n",
       "      <th></th>\n",
       "      <th>0</th>\n",
       "      <th>1</th>\n",
       "      <th>2</th>\n",
       "      <th>3</th>\n",
       "      <th>4</th>\n",
       "      <th>5</th>\n",
       "      <th>6</th>\n",
       "      <th>7</th>\n",
       "      <th>8</th>\n",
       "      <th>9</th>\n",
       "      <th>10</th>\n",
       "      <th>11</th>\n",
       "      <th>12</th>\n",
       "      <th>13</th>\n",
       "      <th>14</th>\n",
       "      <th>...</th>\n",
       "      <th>97</th>\n",
       "      <th>98</th>\n",
       "      <th>99</th>\n",
       "      <th>lamp</th>\n",
       "      <th>lamp2</th>\n",
       "      <th>present</th>\n",
       "      <th>NumI</th>\n",
       "      <th>NumY</th>\n",
       "      <th>NumX</th>\n",
       "      <th>X</th>\n",
       "      <th>Y</th>\n",
       "      <th>nom_NUM</th>\n",
       "      <th>nom_ECA</th>\n",
       "      <th>nom_POS</th>\n",
       "      <th>diff</th>\n",
       "    </tr>\n",
       "  </thead>\n",
       "  <tbody>\n",
       "    <tr>\n",
       "      <td>29032</td>\n",
       "      <td>0.0</td>\n",
       "      <td>0.0</td>\n",
       "      <td>0.0</td>\n",
       "      <td>0.0</td>\n",
       "      <td>0.0</td>\n",
       "      <td>0.0</td>\n",
       "      <td>0.0</td>\n",
       "      <td>0.0</td>\n",
       "      <td>0.0</td>\n",
       "      <td>0.0</td>\n",
       "      <td>0.0</td>\n",
       "      <td>0.0</td>\n",
       "      <td>0.0</td>\n",
       "      <td>0.0</td>\n",
       "      <td>0.0</td>\n",
       "      <td>...</td>\n",
       "      <td>0.0</td>\n",
       "      <td>0.0</td>\n",
       "      <td>0.0</td>\n",
       "      <td>1.0</td>\n",
       "      <td>NaN</td>\n",
       "      <td>0</td>\n",
       "      <td>29032</td>\n",
       "      <td>32</td>\n",
       "      <td>145</td>\n",
       "      <td>2043225</td>\n",
       "      <td>7272160</td>\n",
       "      <td>2043225_7272160_NumPoints5m.tif</td>\n",
       "      <td>2043225_7272160_EcartZ5m.tif</td>\n",
       "      <td>2043225_7272160_Position5m.tif</td>\n",
       "      <td>-1.0</td>\n",
       "    </tr>\n",
       "    <tr>\n",
       "      <td>29033</td>\n",
       "      <td>0.0</td>\n",
       "      <td>0.0</td>\n",
       "      <td>0.0</td>\n",
       "      <td>0.0</td>\n",
       "      <td>0.0</td>\n",
       "      <td>0.0</td>\n",
       "      <td>0.0</td>\n",
       "      <td>0.0</td>\n",
       "      <td>0.0</td>\n",
       "      <td>0.0</td>\n",
       "      <td>0.0</td>\n",
       "      <td>0.0</td>\n",
       "      <td>0.0</td>\n",
       "      <td>0.0</td>\n",
       "      <td>0.0</td>\n",
       "      <td>...</td>\n",
       "      <td>1.0</td>\n",
       "      <td>0.0</td>\n",
       "      <td>0.0</td>\n",
       "      <td>1.0</td>\n",
       "      <td>NaN</td>\n",
       "      <td>0</td>\n",
       "      <td>29033</td>\n",
       "      <td>33</td>\n",
       "      <td>145</td>\n",
       "      <td>2043225</td>\n",
       "      <td>7272165</td>\n",
       "      <td>2043225_7272165_NumPoints5m.tif</td>\n",
       "      <td>2043225_7272165_EcartZ5m.tif</td>\n",
       "      <td>2043225_7272165_Position5m.tif</td>\n",
       "      <td>-1.0</td>\n",
       "    </tr>\n",
       "    <tr>\n",
       "      <td>29034</td>\n",
       "      <td>0.0</td>\n",
       "      <td>0.0</td>\n",
       "      <td>0.0</td>\n",
       "      <td>0.0</td>\n",
       "      <td>0.0</td>\n",
       "      <td>0.0</td>\n",
       "      <td>0.0</td>\n",
       "      <td>0.0</td>\n",
       "      <td>0.0</td>\n",
       "      <td>0.0</td>\n",
       "      <td>0.0</td>\n",
       "      <td>0.0</td>\n",
       "      <td>0.0</td>\n",
       "      <td>0.0</td>\n",
       "      <td>0.0</td>\n",
       "      <td>...</td>\n",
       "      <td>0.0</td>\n",
       "      <td>0.0</td>\n",
       "      <td>0.0</td>\n",
       "      <td>1.0</td>\n",
       "      <td>NaN</td>\n",
       "      <td>0</td>\n",
       "      <td>29034</td>\n",
       "      <td>34</td>\n",
       "      <td>145</td>\n",
       "      <td>2043225</td>\n",
       "      <td>7272170</td>\n",
       "      <td>2043225_7272170_NumPoints5m.tif</td>\n",
       "      <td>2043225_7272170_EcartZ5m.tif</td>\n",
       "      <td>2043225_7272170_Position5m.tif</td>\n",
       "      <td>-1.0</td>\n",
       "    </tr>\n",
       "    <tr>\n",
       "      <td>29035</td>\n",
       "      <td>0.0</td>\n",
       "      <td>0.0</td>\n",
       "      <td>0.0</td>\n",
       "      <td>0.0</td>\n",
       "      <td>0.0</td>\n",
       "      <td>0.0</td>\n",
       "      <td>0.0</td>\n",
       "      <td>0.0</td>\n",
       "      <td>0.0</td>\n",
       "      <td>0.0</td>\n",
       "      <td>0.0</td>\n",
       "      <td>0.0</td>\n",
       "      <td>0.0</td>\n",
       "      <td>0.0</td>\n",
       "      <td>0.0</td>\n",
       "      <td>...</td>\n",
       "      <td>0.0</td>\n",
       "      <td>1.0</td>\n",
       "      <td>0.0</td>\n",
       "      <td>1.0</td>\n",
       "      <td>NaN</td>\n",
       "      <td>0</td>\n",
       "      <td>29035</td>\n",
       "      <td>35</td>\n",
       "      <td>145</td>\n",
       "      <td>2043225</td>\n",
       "      <td>7272175</td>\n",
       "      <td>2043225_7272175_NumPoints5m.tif</td>\n",
       "      <td>2043225_7272175_EcartZ5m.tif</td>\n",
       "      <td>2043225_7272175_Position5m.tif</td>\n",
       "      <td>-1.0</td>\n",
       "    </tr>\n",
       "    <tr>\n",
       "      <td>29036</td>\n",
       "      <td>0.0</td>\n",
       "      <td>0.0</td>\n",
       "      <td>0.0</td>\n",
       "      <td>0.0</td>\n",
       "      <td>0.0</td>\n",
       "      <td>0.0</td>\n",
       "      <td>0.0</td>\n",
       "      <td>0.0</td>\n",
       "      <td>0.0</td>\n",
       "      <td>0.0</td>\n",
       "      <td>0.0</td>\n",
       "      <td>0.0</td>\n",
       "      <td>0.0</td>\n",
       "      <td>0.0</td>\n",
       "      <td>0.0</td>\n",
       "      <td>...</td>\n",
       "      <td>0.0</td>\n",
       "      <td>0.0</td>\n",
       "      <td>0.0</td>\n",
       "      <td>1.0</td>\n",
       "      <td>NaN</td>\n",
       "      <td>0</td>\n",
       "      <td>29036</td>\n",
       "      <td>36</td>\n",
       "      <td>145</td>\n",
       "      <td>2043225</td>\n",
       "      <td>7272180</td>\n",
       "      <td>2043225_7272180_NumPoints5m.tif</td>\n",
       "      <td>2043225_7272180_EcartZ5m.tif</td>\n",
       "      <td>2043225_7272180_Position5m.tif</td>\n",
       "      <td>-1.0</td>\n",
       "    </tr>\n",
       "    <tr>\n",
       "      <td>...</td>\n",
       "      <td>...</td>\n",
       "      <td>...</td>\n",
       "      <td>...</td>\n",
       "      <td>...</td>\n",
       "      <td>...</td>\n",
       "      <td>...</td>\n",
       "      <td>...</td>\n",
       "      <td>...</td>\n",
       "      <td>...</td>\n",
       "      <td>...</td>\n",
       "      <td>...</td>\n",
       "      <td>...</td>\n",
       "      <td>...</td>\n",
       "      <td>...</td>\n",
       "      <td>...</td>\n",
       "      <td>...</td>\n",
       "      <td>...</td>\n",
       "      <td>...</td>\n",
       "      <td>...</td>\n",
       "      <td>...</td>\n",
       "      <td>...</td>\n",
       "      <td>...</td>\n",
       "      <td>...</td>\n",
       "      <td>...</td>\n",
       "      <td>...</td>\n",
       "      <td>...</td>\n",
       "      <td>...</td>\n",
       "      <td>...</td>\n",
       "      <td>...</td>\n",
       "      <td>...</td>\n",
       "      <td>...</td>\n",
       "    </tr>\n",
       "    <tr>\n",
       "      <td>39587</td>\n",
       "      <td>0.0</td>\n",
       "      <td>0.0</td>\n",
       "      <td>0.0</td>\n",
       "      <td>0.0</td>\n",
       "      <td>0.0</td>\n",
       "      <td>0.0</td>\n",
       "      <td>0.0</td>\n",
       "      <td>0.0</td>\n",
       "      <td>0.0</td>\n",
       "      <td>0.0</td>\n",
       "      <td>0.0</td>\n",
       "      <td>0.0</td>\n",
       "      <td>0.0</td>\n",
       "      <td>0.0</td>\n",
       "      <td>0.0</td>\n",
       "      <td>...</td>\n",
       "      <td>0.0</td>\n",
       "      <td>0.0</td>\n",
       "      <td>0.0</td>\n",
       "      <td>1.0</td>\n",
       "      <td>NaN</td>\n",
       "      <td>0</td>\n",
       "      <td>39587</td>\n",
       "      <td>187</td>\n",
       "      <td>197</td>\n",
       "      <td>2043485</td>\n",
       "      <td>7272935</td>\n",
       "      <td>2043485_7272935_NumPoints5m.tif</td>\n",
       "      <td>2043485_7272935_EcartZ5m.tif</td>\n",
       "      <td>2043485_7272935_Position5m.tif</td>\n",
       "      <td>-1.0</td>\n",
       "    </tr>\n",
       "    <tr>\n",
       "      <td>39588</td>\n",
       "      <td>0.0</td>\n",
       "      <td>0.0</td>\n",
       "      <td>0.0</td>\n",
       "      <td>0.0</td>\n",
       "      <td>0.0</td>\n",
       "      <td>0.0</td>\n",
       "      <td>0.0</td>\n",
       "      <td>0.0</td>\n",
       "      <td>0.0</td>\n",
       "      <td>0.0</td>\n",
       "      <td>0.0</td>\n",
       "      <td>0.0</td>\n",
       "      <td>0.0</td>\n",
       "      <td>0.0</td>\n",
       "      <td>0.0</td>\n",
       "      <td>...</td>\n",
       "      <td>0.0</td>\n",
       "      <td>0.0</td>\n",
       "      <td>0.0</td>\n",
       "      <td>1.0</td>\n",
       "      <td>NaN</td>\n",
       "      <td>0</td>\n",
       "      <td>39588</td>\n",
       "      <td>188</td>\n",
       "      <td>197</td>\n",
       "      <td>2043485</td>\n",
       "      <td>7272940</td>\n",
       "      <td>2043485_7272940_NumPoints5m.tif</td>\n",
       "      <td>2043485_7272940_EcartZ5m.tif</td>\n",
       "      <td>2043485_7272940_Position5m.tif</td>\n",
       "      <td>-1.0</td>\n",
       "    </tr>\n",
       "    <tr>\n",
       "      <td>39589</td>\n",
       "      <td>0.0</td>\n",
       "      <td>0.0</td>\n",
       "      <td>0.0</td>\n",
       "      <td>0.0</td>\n",
       "      <td>0.0</td>\n",
       "      <td>0.0</td>\n",
       "      <td>0.0</td>\n",
       "      <td>0.0</td>\n",
       "      <td>0.0</td>\n",
       "      <td>0.0</td>\n",
       "      <td>0.0</td>\n",
       "      <td>0.0</td>\n",
       "      <td>0.0</td>\n",
       "      <td>0.0</td>\n",
       "      <td>0.0</td>\n",
       "      <td>...</td>\n",
       "      <td>0.0</td>\n",
       "      <td>0.0</td>\n",
       "      <td>0.0</td>\n",
       "      <td>1.0</td>\n",
       "      <td>NaN</td>\n",
       "      <td>0</td>\n",
       "      <td>39589</td>\n",
       "      <td>189</td>\n",
       "      <td>197</td>\n",
       "      <td>2043485</td>\n",
       "      <td>7272945</td>\n",
       "      <td>2043485_7272945_NumPoints5m.tif</td>\n",
       "      <td>2043485_7272945_EcartZ5m.tif</td>\n",
       "      <td>2043485_7272945_Position5m.tif</td>\n",
       "      <td>-1.0</td>\n",
       "    </tr>\n",
       "    <tr>\n",
       "      <td>39590</td>\n",
       "      <td>0.0</td>\n",
       "      <td>0.0</td>\n",
       "      <td>0.0</td>\n",
       "      <td>0.0</td>\n",
       "      <td>0.0</td>\n",
       "      <td>0.0</td>\n",
       "      <td>0.0</td>\n",
       "      <td>0.0</td>\n",
       "      <td>0.0</td>\n",
       "      <td>1.0</td>\n",
       "      <td>0.0</td>\n",
       "      <td>0.0</td>\n",
       "      <td>0.0</td>\n",
       "      <td>0.0</td>\n",
       "      <td>0.0</td>\n",
       "      <td>...</td>\n",
       "      <td>0.0</td>\n",
       "      <td>0.0</td>\n",
       "      <td>0.0</td>\n",
       "      <td>1.0</td>\n",
       "      <td>NaN</td>\n",
       "      <td>0</td>\n",
       "      <td>39590</td>\n",
       "      <td>190</td>\n",
       "      <td>197</td>\n",
       "      <td>2043485</td>\n",
       "      <td>7272950</td>\n",
       "      <td>2043485_7272950_NumPoints5m.tif</td>\n",
       "      <td>2043485_7272950_EcartZ5m.tif</td>\n",
       "      <td>2043485_7272950_Position5m.tif</td>\n",
       "      <td>-1.0</td>\n",
       "    </tr>\n",
       "    <tr>\n",
       "      <td>39591</td>\n",
       "      <td>0.0</td>\n",
       "      <td>0.0</td>\n",
       "      <td>0.0</td>\n",
       "      <td>0.0</td>\n",
       "      <td>0.0</td>\n",
       "      <td>0.0</td>\n",
       "      <td>0.0</td>\n",
       "      <td>0.0</td>\n",
       "      <td>0.0</td>\n",
       "      <td>0.0</td>\n",
       "      <td>0.0</td>\n",
       "      <td>0.0</td>\n",
       "      <td>0.0</td>\n",
       "      <td>0.0</td>\n",
       "      <td>0.0</td>\n",
       "      <td>...</td>\n",
       "      <td>0.0</td>\n",
       "      <td>0.0</td>\n",
       "      <td>0.0</td>\n",
       "      <td>1.0</td>\n",
       "      <td>NaN</td>\n",
       "      <td>0</td>\n",
       "      <td>39591</td>\n",
       "      <td>191</td>\n",
       "      <td>197</td>\n",
       "      <td>2043485</td>\n",
       "      <td>7272955</td>\n",
       "      <td>2043485_7272955_NumPoints5m.tif</td>\n",
       "      <td>2043485_7272955_EcartZ5m.tif</td>\n",
       "      <td>2043485_7272955_Position5m.tif</td>\n",
       "      <td>-1.0</td>\n",
       "    </tr>\n",
       "  </tbody>\n",
       "</table>\n",
       "<p>10416 rows × 112 columns</p>\n",
       "</div>"
      ],
      "text/plain": [
       "         0    1    2    3    4    5    6    7    8    9   10   11   12   13  \\\n",
       "29032  0.0  0.0  0.0  0.0  0.0  0.0  0.0  0.0  0.0  0.0  0.0  0.0  0.0  0.0   \n",
       "29033  0.0  0.0  0.0  0.0  0.0  0.0  0.0  0.0  0.0  0.0  0.0  0.0  0.0  0.0   \n",
       "29034  0.0  0.0  0.0  0.0  0.0  0.0  0.0  0.0  0.0  0.0  0.0  0.0  0.0  0.0   \n",
       "29035  0.0  0.0  0.0  0.0  0.0  0.0  0.0  0.0  0.0  0.0  0.0  0.0  0.0  0.0   \n",
       "29036  0.0  0.0  0.0  0.0  0.0  0.0  0.0  0.0  0.0  0.0  0.0  0.0  0.0  0.0   \n",
       "...    ...  ...  ...  ...  ...  ...  ...  ...  ...  ...  ...  ...  ...  ...   \n",
       "39587  0.0  0.0  0.0  0.0  0.0  0.0  0.0  0.0  0.0  0.0  0.0  0.0  0.0  0.0   \n",
       "39588  0.0  0.0  0.0  0.0  0.0  0.0  0.0  0.0  0.0  0.0  0.0  0.0  0.0  0.0   \n",
       "39589  0.0  0.0  0.0  0.0  0.0  0.0  0.0  0.0  0.0  0.0  0.0  0.0  0.0  0.0   \n",
       "39590  0.0  0.0  0.0  0.0  0.0  0.0  0.0  0.0  0.0  1.0  0.0  0.0  0.0  0.0   \n",
       "39591  0.0  0.0  0.0  0.0  0.0  0.0  0.0  0.0  0.0  0.0  0.0  0.0  0.0  0.0   \n",
       "\n",
       "        14  ...   97   98   99  lamp  lamp2  present   NumI  NumY  NumX  \\\n",
       "29032  0.0  ...  0.0  0.0  0.0   1.0    NaN        0  29032    32   145   \n",
       "29033  0.0  ...  1.0  0.0  0.0   1.0    NaN        0  29033    33   145   \n",
       "29034  0.0  ...  0.0  0.0  0.0   1.0    NaN        0  29034    34   145   \n",
       "29035  0.0  ...  0.0  1.0  0.0   1.0    NaN        0  29035    35   145   \n",
       "29036  0.0  ...  0.0  0.0  0.0   1.0    NaN        0  29036    36   145   \n",
       "...    ...  ...  ...  ...  ...   ...    ...      ...    ...   ...   ...   \n",
       "39587  0.0  ...  0.0  0.0  0.0   1.0    NaN        0  39587   187   197   \n",
       "39588  0.0  ...  0.0  0.0  0.0   1.0    NaN        0  39588   188   197   \n",
       "39589  0.0  ...  0.0  0.0  0.0   1.0    NaN        0  39589   189   197   \n",
       "39590  0.0  ...  0.0  0.0  0.0   1.0    NaN        0  39590   190   197   \n",
       "39591  0.0  ...  0.0  0.0  0.0   1.0    NaN        0  39591   191   197   \n",
       "\n",
       "             X        Y                          nom_NUM  \\\n",
       "29032  2043225  7272160  2043225_7272160_NumPoints5m.tif   \n",
       "29033  2043225  7272165  2043225_7272165_NumPoints5m.tif   \n",
       "29034  2043225  7272170  2043225_7272170_NumPoints5m.tif   \n",
       "29035  2043225  7272175  2043225_7272175_NumPoints5m.tif   \n",
       "29036  2043225  7272180  2043225_7272180_NumPoints5m.tif   \n",
       "...        ...      ...                              ...   \n",
       "39587  2043485  7272935  2043485_7272935_NumPoints5m.tif   \n",
       "39588  2043485  7272940  2043485_7272940_NumPoints5m.tif   \n",
       "39589  2043485  7272945  2043485_7272945_NumPoints5m.tif   \n",
       "39590  2043485  7272950  2043485_7272950_NumPoints5m.tif   \n",
       "39591  2043485  7272955  2043485_7272955_NumPoints5m.tif   \n",
       "\n",
       "                            nom_ECA                         nom_POS  diff  \n",
       "29032  2043225_7272160_EcartZ5m.tif  2043225_7272160_Position5m.tif  -1.0  \n",
       "29033  2043225_7272165_EcartZ5m.tif  2043225_7272165_Position5m.tif  -1.0  \n",
       "29034  2043225_7272170_EcartZ5m.tif  2043225_7272170_Position5m.tif  -1.0  \n",
       "29035  2043225_7272175_EcartZ5m.tif  2043225_7272175_Position5m.tif  -1.0  \n",
       "29036  2043225_7272180_EcartZ5m.tif  2043225_7272180_Position5m.tif  -1.0  \n",
       "...                             ...                             ...   ...  \n",
       "39587  2043485_7272935_EcartZ5m.tif  2043485_7272935_Position5m.tif  -1.0  \n",
       "39588  2043485_7272940_EcartZ5m.tif  2043485_7272940_Position5m.tif  -1.0  \n",
       "39589  2043485_7272945_EcartZ5m.tif  2043485_7272945_Position5m.tif  -1.0  \n",
       "39590  2043485_7272950_EcartZ5m.tif  2043485_7272950_Position5m.tif  -1.0  \n",
       "39591  2043485_7272955_EcartZ5m.tif  2043485_7272955_Position5m.tif  -1.0  \n",
       "\n",
       "[10416 rows x 112 columns]"
      ]
     },
     "execution_count": 30,
     "metadata": {},
     "output_type": "execute_result"
    }
   ],
   "source": [
    "df_tot[df_tot['diff'] == -1]"
   ]
  },
  {
   "cell_type": "code",
   "execution_count": null,
   "metadata": {
    "slideshow": {
     "slide_type": "skip"
    }
   },
   "outputs": [],
   "source": []
  },
  {
   "cell_type": "code",
   "execution_count": 31,
   "metadata": {
    "ExecuteTime": {
     "end_time": "2020-03-09T21:35:37.706536Z",
     "start_time": "2020-03-09T21:35:37.369429Z"
    },
    "slideshow": {
     "slide_type": "skip"
    }
   },
   "outputs": [
    {
     "data": {
      "text/html": [
       "<div>\n",
       "<style scoped>\n",
       "    .dataframe tbody tr th:only-of-type {\n",
       "        vertical-align: middle;\n",
       "    }\n",
       "\n",
       "    .dataframe tbody tr th {\n",
       "        vertical-align: top;\n",
       "    }\n",
       "\n",
       "    .dataframe thead th {\n",
       "        text-align: right;\n",
       "    }\n",
       "</style>\n",
       "<table border=\"1\" class=\"dataframe\">\n",
       "  <thead>\n",
       "    <tr style=\"text-align: right;\">\n",
       "      <th></th>\n",
       "      <th>0</th>\n",
       "      <th>1</th>\n",
       "      <th>2</th>\n",
       "      <th>3</th>\n",
       "      <th>4</th>\n",
       "      <th>5</th>\n",
       "      <th>6</th>\n",
       "      <th>7</th>\n",
       "      <th>8</th>\n",
       "      <th>9</th>\n",
       "      <th>10</th>\n",
       "      <th>11</th>\n",
       "      <th>12</th>\n",
       "      <th>13</th>\n",
       "      <th>14</th>\n",
       "      <th>...</th>\n",
       "      <th>87</th>\n",
       "      <th>88</th>\n",
       "      <th>89</th>\n",
       "      <th>90</th>\n",
       "      <th>91</th>\n",
       "      <th>92</th>\n",
       "      <th>93</th>\n",
       "      <th>94</th>\n",
       "      <th>95</th>\n",
       "      <th>96</th>\n",
       "      <th>97</th>\n",
       "      <th>98</th>\n",
       "      <th>99</th>\n",
       "      <th>lamp</th>\n",
       "      <th>lamp2</th>\n",
       "    </tr>\n",
       "  </thead>\n",
       "  <tbody>\n",
       "    <tr>\n",
       "      <td>count</td>\n",
       "      <td>39592.000000</td>\n",
       "      <td>39592.000000</td>\n",
       "      <td>39592.00000</td>\n",
       "      <td>39592.000000</td>\n",
       "      <td>39592.000000</td>\n",
       "      <td>39592.000000</td>\n",
       "      <td>39592.000000</td>\n",
       "      <td>39592.000000</td>\n",
       "      <td>39592.00000</td>\n",
       "      <td>39592.00000</td>\n",
       "      <td>39592.000000</td>\n",
       "      <td>39592.000000</td>\n",
       "      <td>39592.000000</td>\n",
       "      <td>39592.000000</td>\n",
       "      <td>39592.000000</td>\n",
       "      <td>...</td>\n",
       "      <td>39592.000000</td>\n",
       "      <td>39592.000000</td>\n",
       "      <td>39592.000000</td>\n",
       "      <td>39592.000000</td>\n",
       "      <td>39592.000000</td>\n",
       "      <td>39592.000000</td>\n",
       "      <td>39592.000000</td>\n",
       "      <td>39592.00000</td>\n",
       "      <td>39592.000000</td>\n",
       "      <td>39592.00000</td>\n",
       "      <td>39592.000000</td>\n",
       "      <td>39592.00000</td>\n",
       "      <td>39592.000000</td>\n",
       "      <td>39592.000000</td>\n",
       "      <td>190.000000</td>\n",
       "    </tr>\n",
       "    <tr>\n",
       "      <td>mean</td>\n",
       "      <td>0.007577</td>\n",
       "      <td>0.004546</td>\n",
       "      <td>0.00682</td>\n",
       "      <td>0.004546</td>\n",
       "      <td>0.002273</td>\n",
       "      <td>0.003031</td>\n",
       "      <td>0.003789</td>\n",
       "      <td>0.006062</td>\n",
       "      <td>0.00682</td>\n",
       "      <td>0.00682</td>\n",
       "      <td>0.004546</td>\n",
       "      <td>0.006062</td>\n",
       "      <td>0.004546</td>\n",
       "      <td>0.003789</td>\n",
       "      <td>0.003031</td>\n",
       "      <td>...</td>\n",
       "      <td>0.004546</td>\n",
       "      <td>0.003789</td>\n",
       "      <td>0.007577</td>\n",
       "      <td>0.006062</td>\n",
       "      <td>0.005304</td>\n",
       "      <td>0.005304</td>\n",
       "      <td>0.005304</td>\n",
       "      <td>0.00682</td>\n",
       "      <td>0.003789</td>\n",
       "      <td>0.00682</td>\n",
       "      <td>0.004546</td>\n",
       "      <td>0.00682</td>\n",
       "      <td>0.003031</td>\n",
       "      <td>0.265963</td>\n",
       "      <td>56.363158</td>\n",
       "    </tr>\n",
       "    <tr>\n",
       "      <td>std</td>\n",
       "      <td>0.086718</td>\n",
       "      <td>0.067274</td>\n",
       "      <td>0.08230</td>\n",
       "      <td>0.067274</td>\n",
       "      <td>0.047624</td>\n",
       "      <td>0.054971</td>\n",
       "      <td>0.061436</td>\n",
       "      <td>0.077622</td>\n",
       "      <td>0.08230</td>\n",
       "      <td>0.08230</td>\n",
       "      <td>0.067274</td>\n",
       "      <td>0.077622</td>\n",
       "      <td>0.067274</td>\n",
       "      <td>0.061436</td>\n",
       "      <td>0.054971</td>\n",
       "      <td>...</td>\n",
       "      <td>0.067274</td>\n",
       "      <td>0.061436</td>\n",
       "      <td>0.086718</td>\n",
       "      <td>0.077622</td>\n",
       "      <td>0.072637</td>\n",
       "      <td>0.072637</td>\n",
       "      <td>0.072637</td>\n",
       "      <td>0.08230</td>\n",
       "      <td>0.061436</td>\n",
       "      <td>0.08230</td>\n",
       "      <td>0.067274</td>\n",
       "      <td>0.08230</td>\n",
       "      <td>0.054971</td>\n",
       "      <td>0.441850</td>\n",
       "      <td>67.083536</td>\n",
       "    </tr>\n",
       "    <tr>\n",
       "      <td>min</td>\n",
       "      <td>0.000000</td>\n",
       "      <td>0.000000</td>\n",
       "      <td>0.00000</td>\n",
       "      <td>0.000000</td>\n",
       "      <td>0.000000</td>\n",
       "      <td>0.000000</td>\n",
       "      <td>0.000000</td>\n",
       "      <td>0.000000</td>\n",
       "      <td>0.00000</td>\n",
       "      <td>0.00000</td>\n",
       "      <td>0.000000</td>\n",
       "      <td>0.000000</td>\n",
       "      <td>0.000000</td>\n",
       "      <td>0.000000</td>\n",
       "      <td>0.000000</td>\n",
       "      <td>...</td>\n",
       "      <td>0.000000</td>\n",
       "      <td>0.000000</td>\n",
       "      <td>0.000000</td>\n",
       "      <td>0.000000</td>\n",
       "      <td>0.000000</td>\n",
       "      <td>0.000000</td>\n",
       "      <td>0.000000</td>\n",
       "      <td>0.00000</td>\n",
       "      <td>0.000000</td>\n",
       "      <td>0.00000</td>\n",
       "      <td>0.000000</td>\n",
       "      <td>0.00000</td>\n",
       "      <td>0.000000</td>\n",
       "      <td>0.000000</td>\n",
       "      <td>0.000000</td>\n",
       "    </tr>\n",
       "    <tr>\n",
       "      <td>25%</td>\n",
       "      <td>0.000000</td>\n",
       "      <td>0.000000</td>\n",
       "      <td>0.00000</td>\n",
       "      <td>0.000000</td>\n",
       "      <td>0.000000</td>\n",
       "      <td>0.000000</td>\n",
       "      <td>0.000000</td>\n",
       "      <td>0.000000</td>\n",
       "      <td>0.00000</td>\n",
       "      <td>0.00000</td>\n",
       "      <td>0.000000</td>\n",
       "      <td>0.000000</td>\n",
       "      <td>0.000000</td>\n",
       "      <td>0.000000</td>\n",
       "      <td>0.000000</td>\n",
       "      <td>...</td>\n",
       "      <td>0.000000</td>\n",
       "      <td>0.000000</td>\n",
       "      <td>0.000000</td>\n",
       "      <td>0.000000</td>\n",
       "      <td>0.000000</td>\n",
       "      <td>0.000000</td>\n",
       "      <td>0.000000</td>\n",
       "      <td>0.00000</td>\n",
       "      <td>0.000000</td>\n",
       "      <td>0.00000</td>\n",
       "      <td>0.000000</td>\n",
       "      <td>0.00000</td>\n",
       "      <td>0.000000</td>\n",
       "      <td>0.000000</td>\n",
       "      <td>1.000000</td>\n",
       "    </tr>\n",
       "    <tr>\n",
       "      <td>50%</td>\n",
       "      <td>0.000000</td>\n",
       "      <td>0.000000</td>\n",
       "      <td>0.00000</td>\n",
       "      <td>0.000000</td>\n",
       "      <td>0.000000</td>\n",
       "      <td>0.000000</td>\n",
       "      <td>0.000000</td>\n",
       "      <td>0.000000</td>\n",
       "      <td>0.00000</td>\n",
       "      <td>0.00000</td>\n",
       "      <td>0.000000</td>\n",
       "      <td>0.000000</td>\n",
       "      <td>0.000000</td>\n",
       "      <td>0.000000</td>\n",
       "      <td>0.000000</td>\n",
       "      <td>...</td>\n",
       "      <td>0.000000</td>\n",
       "      <td>0.000000</td>\n",
       "      <td>0.000000</td>\n",
       "      <td>0.000000</td>\n",
       "      <td>0.000000</td>\n",
       "      <td>0.000000</td>\n",
       "      <td>0.000000</td>\n",
       "      <td>0.00000</td>\n",
       "      <td>0.000000</td>\n",
       "      <td>0.00000</td>\n",
       "      <td>0.000000</td>\n",
       "      <td>0.00000</td>\n",
       "      <td>0.000000</td>\n",
       "      <td>0.000000</td>\n",
       "      <td>30.000000</td>\n",
       "    </tr>\n",
       "    <tr>\n",
       "      <td>75%</td>\n",
       "      <td>0.000000</td>\n",
       "      <td>0.000000</td>\n",
       "      <td>0.00000</td>\n",
       "      <td>0.000000</td>\n",
       "      <td>0.000000</td>\n",
       "      <td>0.000000</td>\n",
       "      <td>0.000000</td>\n",
       "      <td>0.000000</td>\n",
       "      <td>0.00000</td>\n",
       "      <td>0.00000</td>\n",
       "      <td>0.000000</td>\n",
       "      <td>0.000000</td>\n",
       "      <td>0.000000</td>\n",
       "      <td>0.000000</td>\n",
       "      <td>0.000000</td>\n",
       "      <td>...</td>\n",
       "      <td>0.000000</td>\n",
       "      <td>0.000000</td>\n",
       "      <td>0.000000</td>\n",
       "      <td>0.000000</td>\n",
       "      <td>0.000000</td>\n",
       "      <td>0.000000</td>\n",
       "      <td>0.000000</td>\n",
       "      <td>0.00000</td>\n",
       "      <td>0.000000</td>\n",
       "      <td>0.00000</td>\n",
       "      <td>0.000000</td>\n",
       "      <td>0.00000</td>\n",
       "      <td>0.000000</td>\n",
       "      <td>1.000000</td>\n",
       "      <td>90.000000</td>\n",
       "    </tr>\n",
       "    <tr>\n",
       "      <td>max</td>\n",
       "      <td>1.000000</td>\n",
       "      <td>1.000000</td>\n",
       "      <td>1.00000</td>\n",
       "      <td>1.000000</td>\n",
       "      <td>1.000000</td>\n",
       "      <td>1.000000</td>\n",
       "      <td>1.000000</td>\n",
       "      <td>1.000000</td>\n",
       "      <td>1.00000</td>\n",
       "      <td>1.00000</td>\n",
       "      <td>1.000000</td>\n",
       "      <td>1.000000</td>\n",
       "      <td>1.000000</td>\n",
       "      <td>1.000000</td>\n",
       "      <td>1.000000</td>\n",
       "      <td>...</td>\n",
       "      <td>1.000000</td>\n",
       "      <td>1.000000</td>\n",
       "      <td>1.000000</td>\n",
       "      <td>1.000000</td>\n",
       "      <td>1.000000</td>\n",
       "      <td>1.000000</td>\n",
       "      <td>1.000000</td>\n",
       "      <td>1.00000</td>\n",
       "      <td>1.000000</td>\n",
       "      <td>1.00000</td>\n",
       "      <td>1.000000</td>\n",
       "      <td>1.00000</td>\n",
       "      <td>1.000000</td>\n",
       "      <td>1.000000</td>\n",
       "      <td>240.000000</td>\n",
       "    </tr>\n",
       "  </tbody>\n",
       "</table>\n",
       "<p>8 rows × 102 columns</p>\n",
       "</div>"
      ],
      "text/plain": [
       "                  0             1            2             3             4  \\\n",
       "count  39592.000000  39592.000000  39592.00000  39592.000000  39592.000000   \n",
       "mean       0.007577      0.004546      0.00682      0.004546      0.002273   \n",
       "std        0.086718      0.067274      0.08230      0.067274      0.047624   \n",
       "min        0.000000      0.000000      0.00000      0.000000      0.000000   \n",
       "25%        0.000000      0.000000      0.00000      0.000000      0.000000   \n",
       "50%        0.000000      0.000000      0.00000      0.000000      0.000000   \n",
       "75%        0.000000      0.000000      0.00000      0.000000      0.000000   \n",
       "max        1.000000      1.000000      1.00000      1.000000      1.000000   \n",
       "\n",
       "                  5             6             7            8            9  \\\n",
       "count  39592.000000  39592.000000  39592.000000  39592.00000  39592.00000   \n",
       "mean       0.003031      0.003789      0.006062      0.00682      0.00682   \n",
       "std        0.054971      0.061436      0.077622      0.08230      0.08230   \n",
       "min        0.000000      0.000000      0.000000      0.00000      0.00000   \n",
       "25%        0.000000      0.000000      0.000000      0.00000      0.00000   \n",
       "50%        0.000000      0.000000      0.000000      0.00000      0.00000   \n",
       "75%        0.000000      0.000000      0.000000      0.00000      0.00000   \n",
       "max        1.000000      1.000000      1.000000      1.00000      1.00000   \n",
       "\n",
       "                 10            11            12            13            14  \\\n",
       "count  39592.000000  39592.000000  39592.000000  39592.000000  39592.000000   \n",
       "mean       0.004546      0.006062      0.004546      0.003789      0.003031   \n",
       "std        0.067274      0.077622      0.067274      0.061436      0.054971   \n",
       "min        0.000000      0.000000      0.000000      0.000000      0.000000   \n",
       "25%        0.000000      0.000000      0.000000      0.000000      0.000000   \n",
       "50%        0.000000      0.000000      0.000000      0.000000      0.000000   \n",
       "75%        0.000000      0.000000      0.000000      0.000000      0.000000   \n",
       "max        1.000000      1.000000      1.000000      1.000000      1.000000   \n",
       "\n",
       "       ...            87            88            89            90  \\\n",
       "count  ...  39592.000000  39592.000000  39592.000000  39592.000000   \n",
       "mean   ...      0.004546      0.003789      0.007577      0.006062   \n",
       "std    ...      0.067274      0.061436      0.086718      0.077622   \n",
       "min    ...      0.000000      0.000000      0.000000      0.000000   \n",
       "25%    ...      0.000000      0.000000      0.000000      0.000000   \n",
       "50%    ...      0.000000      0.000000      0.000000      0.000000   \n",
       "75%    ...      0.000000      0.000000      0.000000      0.000000   \n",
       "max    ...      1.000000      1.000000      1.000000      1.000000   \n",
       "\n",
       "                 91            92            93           94            95  \\\n",
       "count  39592.000000  39592.000000  39592.000000  39592.00000  39592.000000   \n",
       "mean       0.005304      0.005304      0.005304      0.00682      0.003789   \n",
       "std        0.072637      0.072637      0.072637      0.08230      0.061436   \n",
       "min        0.000000      0.000000      0.000000      0.00000      0.000000   \n",
       "25%        0.000000      0.000000      0.000000      0.00000      0.000000   \n",
       "50%        0.000000      0.000000      0.000000      0.00000      0.000000   \n",
       "75%        0.000000      0.000000      0.000000      0.00000      0.000000   \n",
       "max        1.000000      1.000000      1.000000      1.00000      1.000000   \n",
       "\n",
       "                96            97           98            99          lamp  \\\n",
       "count  39592.00000  39592.000000  39592.00000  39592.000000  39592.000000   \n",
       "mean       0.00682      0.004546      0.00682      0.003031      0.265963   \n",
       "std        0.08230      0.067274      0.08230      0.054971      0.441850   \n",
       "min        0.00000      0.000000      0.00000      0.000000      0.000000   \n",
       "25%        0.00000      0.000000      0.00000      0.000000      0.000000   \n",
       "50%        0.00000      0.000000      0.00000      0.000000      0.000000   \n",
       "75%        0.00000      0.000000      0.00000      0.000000      1.000000   \n",
       "max        1.00000      1.000000      1.00000      1.000000      1.000000   \n",
       "\n",
       "            lamp2  \n",
       "count  190.000000  \n",
       "mean    56.363158  \n",
       "std     67.083536  \n",
       "min      0.000000  \n",
       "25%      1.000000  \n",
       "50%     30.000000  \n",
       "75%     90.000000  \n",
       "max    240.000000  \n",
       "\n",
       "[8 rows x 102 columns]"
      ]
     },
     "execution_count": 31,
     "metadata": {},
     "output_type": "execute_result"
    }
   ],
   "source": [
    "df_Y.describe()"
   ]
  },
  {
   "cell_type": "code",
   "execution_count": 32,
   "metadata": {
    "ExecuteTime": {
     "end_time": "2020-03-09T21:35:39.505943Z",
     "start_time": "2020-03-09T21:35:39.411722Z"
    },
    "slideshow": {
     "slide_type": "skip"
    }
   },
   "outputs": [
    {
     "name": "stdout",
     "output_type": "stream",
     "text": [
      "29062 10530\n",
      "(59304, 2) 29062 37486 23249 8424 (31673, 2) (7919, 2)\n"
     ]
    }
   ],
   "source": [
    "len0 = df_Y[df_Y['lamp'] == 0].shape[0]\n",
    "len1 = df_Y.shape[0] - len0\n",
    "print(len0, len1)\n",
    "\n",
    "df_test = pd.DataFrame(y_binary)\n",
    "\n",
    "test1 = df_test.loc[np.r_[:int(len0*0.8),len0:len0+int(len1*0.8)]]\n",
    "test2 = df_test.loc[np.r_[int(len0*0.8):len0,len0+int(len1*0.8):len0+len1]]\n",
    "                    \n",
    "print(df_test.shape, len0, len0+int(len1*0.8), int(len0*0.8), int(len1*0.8), test1.shape, test2.shape)"
   ]
  },
  {
   "cell_type": "code",
   "execution_count": 33,
   "metadata": {
    "ExecuteTime": {
     "end_time": "2020-03-09T21:35:40.761389Z",
     "start_time": "2020-03-09T21:35:40.678300Z"
    },
    "slideshow": {
     "slide_type": "skip"
    }
   },
   "outputs": [
    {
     "name": "stdout",
     "output_type": "stream",
     "text": [
      "(23249, 10, 10, 2) (8424, 10, 10, 2) (5813, 10, 10, 2) (2106, 10, 10, 2)\n",
      "(31673, 10, 10, 2) (7919, 10, 10, 2)\n"
     ]
    }
   ],
   "source": [
    "data_x0a = data_x[:int(len0*0.8)]\n",
    "data_x0b = data_x[len0:len0+int(len1*0.8)]\n",
    "data_x1a = data_x[int(len0*0.8):len0]\n",
    "data_x1b = data_x[len0+int(len1*0.8):]\n",
    "print(data_x0a.shape, data_x0b.shape,data_x1a.shape, data_x1b.shape)\n",
    "\n",
    "#data_x0 = np.concatenate(data_x0a, data_x0b, axis=1)\n",
    "data_x0 = tf.keras.backend.concatenate((data_x0a, data_x0b), axis=0)\n",
    "data_x1 = tf.keras.backend.concatenate((data_x1a, data_x1b), axis=0)\n",
    "print(data_x0.shape,data_x1.shape)"
   ]
  },
  {
   "cell_type": "code",
   "execution_count": null,
   "metadata": {
    "slideshow": {
     "slide_type": "skip"
    }
   },
   "outputs": [],
   "source": []
  },
  {
   "cell_type": "markdown",
   "metadata": {
    "slideshow": {
     "slide_type": "skip"
    }
   },
   "source": [
    "### Séparation Train - Test "
   ]
  },
  {
   "cell_type": "code",
   "execution_count": 34,
   "metadata": {
    "ExecuteTime": {
     "end_time": "2020-03-09T21:35:43.868483Z",
     "start_time": "2020-03-09T21:35:43.782189Z"
    },
    "slideshow": {
     "slide_type": "skip"
    }
   },
   "outputs": [
    {
     "name": "stdout",
     "output_type": "stream",
     "text": [
      "(31673, 2) (7919, 2)\n",
      "(23249, 10, 10, 2) (8424, 10, 10, 2) (5813, 10, 10, 2) (2106, 10, 10, 2)\n",
      "(31673, 10, 10, 2) (7919, 10, 10, 2)\n"
     ]
    }
   ],
   "source": [
    "\n",
    "#########   problemes d'arrondis   ????  #######\n",
    "#### pas le meme nombre de lignes pour les 2 manières différentes d'extraire les lignes  ????\n",
    "df_testY = pd.DataFrame(y_binary)\n",
    "y0 = df_testY.loc[np.r_[:int(len0*0.8),len0:len0+int(len1*0.8)],:]\n",
    "y1 = df_testY.loc[np.r_[int(len0*0.8):len0,len0+int(len1*0.8):len0+len1],:]\n",
    "print(y0.shape, y1.shape)\n",
    "\n",
    "data_x0a = data_x[:int(len0*0.8)]\n",
    "data_x0b = data_x[len0:len0+int(len1*0.8)]\n",
    "data_x1a = data_x[int(len0*0.8):len0]\n",
    "data_x1b = data_x[len0+int(len1*0.8):]\n",
    "print(data_x0a.shape, data_x0b.shape,data_x1a.shape, data_x1b.shape)\n",
    "\n",
    "#data_x0 = np.concatenate(data_x0a, data_x0b, axis=1)\n",
    "data_x0 = tf.keras.backend.concatenate((data_x0a, data_x0b), axis=0)\n",
    "data_x1 = tf.keras.backend.concatenate((data_x1a, data_x1b), axis=0)\n",
    "print(data_x0.shape,data_x1.shape)\n",
    "\n",
    "#X10, X11 = tf.split(X1, [:], 0)\n",
    "#Y10, Y11 = tf.split(y_binary, [[len0 * 0.8:len0,len0+len1*0.8:]], 0)\n",
    "\n",
    "#print(X10.shape, Y10.shape, X11.shape)"
   ]
  },
  {
   "cell_type": "code",
   "execution_count": 35,
   "metadata": {
    "ExecuteTime": {
     "end_time": "2020-03-09T21:35:46.212388Z",
     "start_time": "2020-03-09T21:35:46.110020Z"
    },
    "slideshow": {
     "slide_type": "slide"
    }
   },
   "outputs": [
    {
     "name": "stdout",
     "output_type": "stream",
     "text": [
      "Dimensions X: (39592, 10, 10, 2)\n",
      "Dimensions Y: (39592, 2) 39592\n",
      "Train et Test: (31673, 10, 10, 2) 31673 (7919, 10, 10, 2) 7919\n",
      "(31673, 10, 10, 2) 31673 (7919, 10, 10, 2) 7919\n",
      "(31673, 2) (31673, 2) (7919, 2)\n"
     ]
    }
   ],
   "source": [
    "from sklearn.model_selection import train_test_split \n",
    "from keras.utils import to_categorical\n",
    "\n",
    "# Charge et split les données\n",
    "###############   TODO      ###############\n",
    "####### fonctionne avec les 2 cubes/images \n",
    "X = data_x\n",
    "####### Si ne fonctionne pas avec les 2 cubes/images \n",
    "# X = data1\n",
    "print(\"Dimensions X:\", X.shape)\n",
    "##############################################\n",
    "#####   calcul de la position de la lampe dans le carré N\n",
    "###  Passage mode binaire à une liste de 100\n",
    "############\n",
    "# Manière 1 de \n",
    "y = liste_y\n",
    "# Manière 2 ... directe à partir des 3 mêmes fichiers 10x10\n",
    "y = df_Y['lamp']\n",
    "\n",
    "y_binary = to_categorical(y)\n",
    "print(\"Dimensions Y:\", y_binary.shape, len(y))\n",
    "#\n",
    "# y = data_y\n",
    "# print(y.shape)\n",
    "#############################\n",
    "\n",
    "# tfds   tensorflow dataset splitting\n",
    "# test_split, valid_split, train_split = tfds.Split.TRAIN.subsplit([10, 15, 75])\n",
    "# PYTORCH   torchtext.data.Dataset\n",
    "# split(split_ratio=0.7, stratified=False, strata_field='label', random_state=None\n",
    "\n",
    "methode = 'test3'\n",
    "#methode = 'SKLEARN'\n",
    "\n",
    "if methode == 'test':\n",
    "    all = tf.data.Dataset.from_tensor_slices(X).shuffle(10, reshuffle_each_iteration=False)\n",
    "    n_row = int(X.shape[0] * 0.8)\n",
    "    train_data, test_data     = X[:n_row,:,:,:], X[n_row:,:,:,:]\n",
    "    train_labels, test_labels = y_binary[:n_row,:], y_binary[n_row:,:]\n",
    "    \n",
    "if methode == 'test2':\n",
    "    len0 = df_Y[df_Y['lamp'] == 0].shape[0]\n",
    "    len1 = df_Y.shape[0] - len0\n",
    "    \n",
    "    train_data, test_data = tf.split(X, [n_row1, n_row2], 0)\n",
    "    train_labels, test_labels = tf.split(y_binary, [n_row1, n_row2], 0)\n",
    "    \n",
    "if methode == 'test3':\n",
    "    train_data, test_data     = (data_x0, data_x1)\n",
    "    train_labels, test_labels = (y0, y1)\n",
    "\n",
    "if methode == 'shuffle':\n",
    "    fraction = 20\n",
    "    #all = tf.data.Dataset.from_tensor_slices(list(range(1, 21))).shuffle(10, reshuffle_each_iteration=False)\n",
    "    #test_data = all.enumerate().filter(lambda x,y: x % int(100/fraction) == 0).map(lambda x,y: y)\n",
    "    \n",
    "# dim = len(keras.backend.int_shape(X))\n",
    "# if dim = 2:\n",
    "# Avec SKLEARN\n",
    "if methode == 'SKLEARN':\n",
    "    train_data, test_data, train_labels, test_labels = train_test_split(\n",
    "        X, y_binary, test_size=0.2, random_state=42, stratify=y_binary)\n",
    "#        X, y, test_size=0.2, random_state=42, stratify=y)\n",
    "\n",
    "#print(train_data.shape, train_labels.shape, test_data.shape, test_labels.shape)\n",
    "print(\"Train et Test:\", train_data.shape, len(train_labels), test_data.shape, len(test_labels))\n",
    "\n",
    "#train_data = np.expand_dims(train_data, axis=3)\n",
    "#test_data = np.expand_dims(test_data, axis=3)\n",
    "\n",
    "#### Ce n'est plus nécessaire si X est un Tenseur 4D\n",
    "#train_data = train_data.reshape(train_data.shape[0], 10, 10, 1)\n",
    "#test_data  = test_data.reshape(test_data.shape[0], 10, 10, 1)\n",
    "\n",
    "#print(train_data.shape, train_labels.shape, test_data.shape, test_labels.shape)\n",
    "print(train_data.shape, len(train_labels), test_data.shape, len(test_labels))\n",
    "print(y0.shape, y0[:].shape, y1.shape)"
   ]
  },
  {
   "cell_type": "code",
   "execution_count": 36,
   "metadata": {
    "ExecuteTime": {
     "end_time": "2020-03-09T21:35:47.674276Z",
     "start_time": "2020-03-09T21:35:47.606144Z"
    },
    "slideshow": {
     "slide_type": "skip"
    }
   },
   "outputs": [],
   "source": [
    "#print(pd.DataFrame(train_labels).describe())\n",
    "#print(pd.DataFrame(test_labels).describe())"
   ]
  },
  {
   "cell_type": "markdown",
   "metadata": {
    "slideshow": {
     "slide_type": "skip"
    }
   },
   "source": [
    "## Modèles CNN 2D"
   ]
  },
  {
   "cell_type": "raw",
   "metadata": {
    "slideshow": {
     "slide_type": "skip"
    }
   },
   "source": [
    "keras.layers.Conv2D(\n",
    "    filters,               #  32\n",
    "    kernel_size,           # (3,3)\n",
    "    strides=(1, 1),        # nombre impair\n",
    "    padding='valid',       # or \"same\"\n",
    "    data_format=None, \n",
    "    dilation_rate=(1, 1),\n",
    "    activation=None,       # \"relu\"\n",
    "    activity_regularizer=None, kernel_regularizer=None , bias_regularizer=None\n",
    "    kernel_initializer='glorot_uniform', kernel_constraint=None,     #  ou 'he_normal'\n",
    "    use_bias=True, bias_initializer='zeros', bias_constraint=None)   "
   ]
  },
  {
   "cell_type": "raw",
   "metadata": {
    "ExecuteTime": {
     "end_time": "2020-03-02T14:53:59.729537Z",
     "start_time": "2020-03-02T14:52:55.448153Z"
    },
    "slideshow": {
     "slide_type": "skip"
    }
   },
   "source": [
    "# 0)Trains a simplet CONVNET on the MNIST dataset\n",
    "\n",
    "input_shape = (10, 10, 1)     #input_shape = (10, 10, 2)\n",
    "num_classes = 2\n",
    "epochs = 15\n",
    "batch_sise=len(test_labels)/10\n",
    "activ1  = \"relu\"\n",
    "activ2  = \"sigmoid\"\n",
    "activ2b = \"softmax\"\n",
    "\n",
    "from sklearn.utils import class_weight\n",
    "ratio = 401 / 70\n",
    "poids_class = {0: 1., 1: ratio}\n",
    "#poids_class = class_weight.compute_class_weight(np.unique(train_labels), train_labels, y=? [0,1])\n",
    "\n",
    "model2 = Sequential()\n",
    "model2.add(Conv2D(filters=32, kernel_size=(3, 3), padding=\"same\", strides=(1,1), \n",
    "                  activation=activ1, kernel_regularizer = \"l2\", input_shape=input_shape))\n",
    "model2.add(Conv2D(32, (3, 3), padding=\"same\", strides=(1,1), activation=activ1, kernel_regularizer = \"l2\"))\n",
    "# , kernel_regularizer = l2 (0.0005)\n",
    "\n",
    "#model2.add(MaxPooling2D(pool_size=(2, 2)))\n",
    "model2.add(Dropout(1/4))\n",
    "\n",
    "model2.add(Conv2D(64, (3, 3), padding=\"same\", strides=(1,1), activation=activ1, kernel_regularizer = \"l2\"))\n",
    "model2.add(Conv2D(64, (3, 3), padding=\"same\", strides=(1,1), activation=activ1, kernel_regularizer = \"l2\"))\n",
    "#model2.add(MaxPooling2D(pool_size=(2, 2)))\n",
    "model2.add(Dropout(1/4))\n",
    "\n",
    "model2.add(Flatten())\n",
    "model2.add(Dense(128, activation=activ1))\n",
    "model2.add(Dropout(0.5))\n",
    "model2.add(Dense(num_classes, activation=activ2))\n",
    "\n",
    "# optimizerA  sgd=SGD(lr=1e-5, decay=1e-6, momentum=0.9, nesterov=True)\n",
    "# optimizerB  adam=Adam(lr=1e-3, beta_1=0.9, beta_2=0.999, epsilon=1e-8, decay=0.0)\n",
    "#optim = keras.optimizers.Adadelta()\n",
    "optim = SGD(lr=1e-4, decay=1e-6, momentum=0.9, nesterov=True)\n",
    "# bianry or categorical\n",
    "\n",
    "model2.compile(loss=keras.losses.binary_crossentropy, optimizer=optim, metrics=['accuracy'])\n",
    "\n",
    "# poids_class, 'balanced', 'balanced_subsample'\n",
    "history2 = model2.fit(train_data, train_labels, batch_size=batch_size, epochs=epochs,\n",
    "            class_weight='balanced',\n",
    "            verbose=1, validation_data=(test_data, test_labels))\n",
    "\n",
    "score = model2.evaluate(test_data, test_labels, batch_size=batch_size, verbose=2)\n",
    "print('Test loss:', score[0])\n",
    "print('Test accuracy:', score[1])\n"
   ]
  },
  {
   "cell_type": "raw",
   "metadata": {
    "ExecuteTime": {
     "end_time": "2020-03-02T09:23:11.049089Z",
     "start_time": "2020-03-02T09:23:07.724793Z"
    },
    "slideshow": {
     "slide_type": "skip"
    }
   },
   "source": [
    "# 1) Trains a simplet CONVNET on the MNIST dataset\n",
    "\n",
    "input_shape = (10, 10, 1)     #input_shape = (10, 10, 2)\n",
    "\n",
    "epochs = 11\n",
    "batch_size = 64\n",
    "\n",
    "num_filters = 8\n",
    "filter_size = 3\n",
    "pool_size = 2\n",
    "\n",
    "num_classes = 2   #  1 ou 2\n",
    "\n",
    "model2 = Sequential([\n",
    "    Conv2D(num_filters, filter_size, padding=\"same\", strides=(1,1), input_shape=input_shape),\n",
    "    Conv2D(num_filters, filter_size, padding=\"same\", strides=(1,1)),\n",
    "    #Conv2D(num_filters, filter_size, padding=\"same\", strides=(1,1)),\n",
    "    #Conv2D(num_filters, filter_size),\n",
    "    #MaxPooling2D(pool_size=pool_size),\n",
    "    Flatten(),\n",
    "    Dense(num_classes, activation='softmax'),\n",
    "])\n",
    "\n",
    "#model2.compile(loss=keras.losses.categorical_crossentropy, optimizer=keras.optimizers.Adadelta(),\n",
    "#              metrics=['accuracy'])\n",
    "model2.compile(loss=keras.losses.binary_crossentropy, optimizer=keras.optimizers.Adadelta(),\n",
    "              metrics=['accuracy'])\n",
    "\n",
    "\n",
    "history2 = model2.fit(train_data, train_labels, batch_size=batch_size, epochs=epochs,\n",
    "          verbose=1, validation_data=(test_data, test_labels))\n",
    "\n",
    "score = model2.evaluate(test_data, test_labels, verbose=0)\n",
    "print('Test loss:', score[0])\n",
    "print('Test accuracy:', score[1])\n",
    "\n"
   ]
  },
  {
   "cell_type": "code",
   "execution_count": null,
   "metadata": {
    "slideshow": {
     "slide_type": "skip"
    }
   },
   "outputs": [],
   "source": []
  },
  {
   "cell_type": "code",
   "execution_count": 42,
   "metadata": {
    "ExecuteTime": {
     "end_time": "2020-03-09T21:51:13.125517Z",
     "start_time": "2020-03-09T21:42:31.072437Z"
    },
    "slideshow": {
     "slide_type": "slide"
    }
   },
   "outputs": [
    {
     "name": "stdout",
     "output_type": "stream",
     "text": [
      "(31673, 10, 10, 2) (31673, 2) (39592, 102) (39592, 2) 39592\n",
      "Epoch 1/200\n",
      "2/2 [==============================] - 5s 2s/step - loss: 0.7389 - accuracy: 0.4249\n",
      "Epoch 2/200\n",
      "2/2 [==============================] - 2s 1s/step - loss: 0.6428 - accuracy: 0.7170\n",
      "Epoch 3/200\n",
      "2/2 [==============================] - 3s 1s/step - loss: 0.6251 - accuracy: 0.7335\n",
      "Epoch 4/200\n",
      "2/2 [==============================] - 3s 1s/step - loss: 0.6191 - accuracy: 0.7335\n",
      "Epoch 5/200\n",
      "2/2 [==============================] - 2s 1s/step - loss: 0.6136 - accuracy: 0.7343\n",
      "Epoch 6/200\n",
      "2/2 [==============================] - 2s 1s/step - loss: 0.6080 - accuracy: 0.7342\n",
      "Epoch 7/200\n",
      "2/2 [==============================] - 3s 1s/step - loss: 0.6023 - accuracy: 0.7349\n",
      "Epoch 8/200\n",
      "2/2 [==============================] - 2s 1s/step - loss: 0.5964 - accuracy: 0.7366\n",
      "Epoch 9/200\n",
      "2/2 [==============================] - 2s 1s/step - loss: 0.5898 - accuracy: 0.7384\n",
      "Epoch 10/200\n",
      "2/2 [==============================] - 3s 2s/step - loss: 0.5827 - accuracy: 0.7414\n",
      "Epoch 11/200\n",
      "2/2 [==============================] - 3s 1s/step - loss: 0.5776 - accuracy: 0.7470\n",
      "Epoch 12/200\n",
      "2/2 [==============================] - 3s 1s/step - loss: 0.5870 - accuracy: 0.7474\n",
      "Epoch 13/200\n",
      "2/2 [==============================] - 3s 1s/step - loss: 0.5871 - accuracy: 0.7493\n",
      "Epoch 14/200\n",
      "2/2 [==============================] - 3s 1s/step - loss: 0.5756 - accuracy: 0.7508\n",
      "Epoch 15/200\n",
      "2/2 [==============================] - 3s 2s/step - loss: 0.5675 - accuracy: 0.7517\n",
      "Epoch 16/200\n",
      "2/2 [==============================] - 3s 1s/step - loss: 0.5662 - accuracy: 0.7536\n",
      "Epoch 17/200\n",
      "2/2 [==============================] - 3s 2s/step - loss: 0.5686 - accuracy: 0.7539\n",
      "Epoch 18/200\n",
      "2/2 [==============================] - 3s 1s/step - loss: 0.5632 - accuracy: 0.7545\n",
      "Epoch 19/200\n",
      "2/2 [==============================] - 3s 1s/step - loss: 0.5529 - accuracy: 0.7586\n",
      "Epoch 20/200\n",
      "2/2 [==============================] - 3s 1s/step - loss: 0.5503 - accuracy: 0.7585\n",
      "Epoch 21/200\n",
      "2/2 [==============================] - 3s 1s/step - loss: 0.5543 - accuracy: 0.7578\n",
      "Epoch 22/200\n",
      "2/2 [==============================] - 3s 1s/step - loss: 0.5478 - accuracy: 0.7591\n",
      "Epoch 23/200\n",
      "2/2 [==============================] - 2s 1s/step - loss: 0.5353 - accuracy: 0.7633\n",
      "Epoch 24/200\n",
      "2/2 [==============================] - 2s 1s/step - loss: 0.5331 - accuracy: 0.7641\n",
      "Epoch 25/200\n",
      "2/2 [==============================] - 2s 1s/step - loss: 0.5402 - accuracy: 0.7623\n",
      "Epoch 26/200\n",
      "2/2 [==============================] - 2s 1s/step - loss: 0.5318 - accuracy: 0.7645\n",
      "Epoch 27/200\n",
      "2/2 [==============================] - 2s 1s/step - loss: 0.5156 - accuracy: 0.7711\n",
      "Epoch 28/200\n",
      "2/2 [==============================] - 2s 1s/step - loss: 0.5144 - accuracy: 0.7725\n",
      "Epoch 29/200\n",
      "2/2 [==============================] - 3s 1s/step - loss: 0.5272 - accuracy: 0.7643\n",
      "Epoch 30/200\n",
      "2/2 [==============================] - 2s 1s/step - loss: 0.5134 - accuracy: 0.7722\n",
      "Epoch 31/200\n",
      "2/2 [==============================] - 2s 1s/step - loss: 0.4946 - accuracy: 0.7783\n",
      "Epoch 32/200\n",
      "2/2 [==============================] - 2s 1s/step - loss: 0.4982 - accuracy: 0.7755\n",
      "Epoch 33/200\n",
      "2/2 [==============================] - 2s 1s/step - loss: 0.5162 - accuracy: 0.7698\n",
      "Epoch 34/200\n",
      "2/2 [==============================] - 3s 1s/step - loss: 0.4899 - accuracy: 0.7800\n",
      "Epoch 35/200\n",
      "2/2 [==============================] - 4s 2s/step - loss: 0.4736 - accuracy: 0.7832\n",
      "Epoch 36/200\n",
      "2/2 [==============================] - 4s 2s/step - loss: 0.4892 - accuracy: 0.7771\n",
      "Epoch 37/200\n",
      "2/2 [==============================] - 3s 1s/step - loss: 0.4978 - accuracy: 0.7775\n",
      "Epoch 38/200\n",
      "2/2 [==============================] - 2s 1s/step - loss: 0.4633 - accuracy: 0.7866\n",
      "Epoch 39/200\n",
      "2/2 [==============================] - 2s 1s/step - loss: 0.4569 - accuracy: 0.7909\n",
      "Epoch 40/200\n",
      "2/2 [==============================] - 2s 1s/step - loss: 0.4868 - accuracy: 0.7736\n",
      "Epoch 41/200\n",
      "2/2 [==============================] - 3s 1s/step - loss: 0.4666 - accuracy: 0.7894\n",
      "Epoch 42/200\n",
      "2/2 [==============================] - 2s 1s/step - loss: 0.4413 - accuracy: 0.7981\n",
      "Epoch 43/200\n",
      "2/2 [==============================] - 2s 1s/step - loss: 0.4572 - accuracy: 0.7919\n",
      "Epoch 44/200\n",
      "2/2 [==============================] - 2s 1s/step - loss: 0.4625 - accuracy: 0.7899\n",
      "Epoch 45/200\n",
      "2/2 [==============================] - 2s 1s/step - loss: 0.4353 - accuracy: 0.8007\n",
      "Epoch 46/200\n",
      "2/2 [==============================] - 2s 1s/step - loss: 0.4364 - accuracy: 0.8027\n",
      "Epoch 47/200\n",
      "2/2 [==============================] - 2s 1s/step - loss: 0.4485 - accuracy: 0.7955\n",
      "Epoch 48/200\n",
      "2/2 [==============================] - 3s 1s/step - loss: 0.4270 - accuracy: 0.8068\n",
      "Epoch 49/200\n",
      "2/2 [==============================] - 2s 1s/step - loss: 0.4238 - accuracy: 0.8087\n",
      "Epoch 50/200\n",
      "2/2 [==============================] - 3s 1s/step - loss: 0.4293 - accuracy: 0.8054\n",
      "Epoch 51/200\n",
      "2/2 [==============================] - 2s 1s/step - loss: 0.4206 - accuracy: 0.8098\n",
      "Epoch 52/200\n",
      "2/2 [==============================] - 3s 1s/step - loss: 0.4141 - accuracy: 0.8128\n",
      "Epoch 53/200\n",
      "2/2 [==============================] - 2s 1s/step - loss: 0.4117 - accuracy: 0.8144\n",
      "Epoch 54/200\n",
      "2/2 [==============================] - 2s 1s/step - loss: 0.4121 - accuracy: 0.8140\n",
      "Epoch 55/200\n",
      "2/2 [==============================] - 2s 1s/step - loss: 0.4004 - accuracy: 0.8185\n",
      "Epoch 56/200\n",
      "2/2 [==============================] - 2s 1s/step - loss: 0.4077 - accuracy: 0.8177\n",
      "Epoch 57/200\n",
      "2/2 [==============================] - 2s 1s/step - loss: 0.3886 - accuracy: 0.8230\n",
      "Epoch 58/200\n",
      "2/2 [==============================] - 2s 1s/step - loss: 0.4015 - accuracy: 0.8220\n",
      "Epoch 59/200\n",
      "2/2 [==============================] - 2s 1s/step - loss: 0.3853 - accuracy: 0.8246\n",
      "Epoch 60/200\n",
      "2/2 [==============================] - 3s 1s/step - loss: 0.3941 - accuracy: 0.8274\n",
      "Epoch 61/200\n",
      "2/2 [==============================] - 2s 1s/step - loss: 0.3756 - accuracy: 0.8277\n",
      "Epoch 62/200\n",
      "2/2 [==============================] - 3s 1s/step - loss: 0.3864 - accuracy: 0.8310\n",
      "Epoch 63/200\n",
      "2/2 [==============================] - 2s 1s/step - loss: 0.3684 - accuracy: 0.8307\n",
      "Epoch 64/200\n",
      "2/2 [==============================] - 2s 1s/step - loss: 0.3794 - accuracy: 0.8351\n",
      "Epoch 65/200\n",
      "2/2 [==============================] - 3s 1s/step - loss: 0.3598 - accuracy: 0.8331\n",
      "Epoch 66/200\n",
      "2/2 [==============================] - 3s 1s/step - loss: 0.3717 - accuracy: 0.8401\n",
      "Epoch 67/200\n",
      "2/2 [==============================] - 2s 1s/step - loss: 0.3531 - accuracy: 0.8376\n",
      "Epoch 68/200\n",
      "2/2 [==============================] - 2s 1s/step - loss: 0.3639 - accuracy: 0.8441\n",
      "Epoch 69/200\n",
      "2/2 [==============================] - 2s 1s/step - loss: 0.3450 - accuracy: 0.8437\n",
      "Epoch 70/200\n",
      "2/2 [==============================] - 2s 1s/step - loss: 0.3549 - accuracy: 0.8487\n",
      "Epoch 71/200\n",
      "2/2 [==============================] - 2s 1s/step - loss: 0.3354 - accuracy: 0.8485\n",
      "Epoch 72/200\n",
      "2/2 [==============================] - 3s 1s/step - loss: 0.3473 - accuracy: 0.8531\n",
      "Epoch 73/200\n",
      "2/2 [==============================] - 2s 1s/step - loss: 0.3281 - accuracy: 0.8517\n",
      "Epoch 74/200\n",
      "2/2 [==============================] - 2s 1s/step - loss: 0.3416 - accuracy: 0.8550\n",
      "Epoch 75/200\n",
      "2/2 [==============================] - 2s 1s/step - loss: 0.3188 - accuracy: 0.8561\n",
      "Epoch 76/200\n",
      "2/2 [==============================] - 2s 1s/step - loss: 0.3351 - accuracy: 0.8592\n",
      "Epoch 77/200\n",
      "2/2 [==============================] - 2s 1s/step - loss: 0.3140 - accuracy: 0.8588\n",
      "Epoch 78/200\n",
      "2/2 [==============================] - 2s 1s/step - loss: 0.3258 - accuracy: 0.8641\n",
      "Epoch 79/200\n",
      "2/2 [==============================] - 2s 1s/step - loss: 0.3050 - accuracy: 0.8648\n",
      "Epoch 80/200\n",
      "2/2 [==============================] - 3s 1s/step - loss: 0.3128 - accuracy: 0.8719\n",
      "Epoch 81/200\n",
      "2/2 [==============================] - 2s 1s/step - loss: 0.2985 - accuracy: 0.8709\n",
      "Epoch 82/200\n",
      "2/2 [==============================] - 2s 1s/step - loss: 0.3001 - accuracy: 0.8768\n",
      "Epoch 83/200\n",
      "2/2 [==============================] - 2s 1s/step - loss: 0.2872 - accuracy: 0.8770\n",
      "Epoch 84/200\n",
      "2/2 [==============================] - 2s 1s/step - loss: 0.2931 - accuracy: 0.8773\n",
      "Epoch 85/200\n",
      "2/2 [==============================] - 3s 1s/step - loss: 0.2815 - accuracy: 0.8774\n",
      "Epoch 86/200\n",
      "2/2 [==============================] - 2s 1s/step - loss: 0.2919 - accuracy: 0.8780\n",
      "Epoch 87/200\n",
      "2/2 [==============================] - 2s 1s/step - loss: 0.2716 - accuracy: 0.8800\n",
      "Epoch 88/200\n",
      "2/2 [==============================] - 2s 1s/step - loss: 0.2835 - accuracy: 0.8833\n",
      "Epoch 89/200\n",
      "2/2 [==============================] - 2s 1s/step - loss: 0.2647 - accuracy: 0.8832\n",
      "Epoch 90/200\n",
      "2/2 [==============================] - 2s 1s/step - loss: 0.2764 - accuracy: 0.8845\n",
      "Epoch 91/200\n",
      "2/2 [==============================] - 3s 1s/step - loss: 0.2588 - accuracy: 0.8849\n",
      "Epoch 92/200\n",
      "2/2 [==============================] - 2s 1s/step - loss: 0.2643 - accuracy: 0.8898\n",
      "Epoch 93/200\n",
      "2/2 [==============================] - 2s 1s/step - loss: 0.2464 - accuracy: 0.8918\n",
      "Epoch 94/200\n",
      "2/2 [==============================] - 2s 1s/step - loss: 0.2481 - accuracy: 0.8956\n",
      "Epoch 95/200\n",
      "2/2 [==============================] - 2s 1s/step - loss: 0.2368 - accuracy: 0.8980\n",
      "Epoch 96/200\n",
      "2/2 [==============================] - 4s 2s/step - loss: 0.2418 - accuracy: 0.8974\n",
      "Epoch 97/200\n",
      "2/2 [==============================] - 5s 2s/step - loss: 0.2327 - accuracy: 0.8984\n",
      "Epoch 98/200\n",
      "2/2 [==============================] - 3s 1s/step - loss: 0.2370 - accuracy: 0.8997\n",
      "Epoch 99/200\n",
      "2/2 [==============================] - 2s 1s/step - loss: 0.2216 - accuracy: 0.9055\n",
      "Epoch 100/200\n",
      "2/2 [==============================] - 2s 1s/step - loss: 0.2287 - accuracy: 0.9033\n",
      "Epoch 101/200\n",
      "2/2 [==============================] - 2s 1s/step - loss: 0.2169 - accuracy: 0.9072\n",
      "Epoch 102/200\n",
      "2/2 [==============================] - 2s 1s/step - loss: 0.2278 - accuracy: 0.9025\n",
      "Epoch 103/200\n",
      "2/2 [==============================] - 3s 1s/step - loss: 0.2139 - accuracy: 0.9079\n",
      "Epoch 104/200\n",
      "2/2 [==============================] - 2s 1s/step - loss: 0.2199 - accuracy: 0.9060\n",
      "Epoch 105/200\n",
      "2/2 [==============================] - 2s 1s/step - loss: 0.1984 - accuracy: 0.9187\n",
      "Epoch 106/200\n",
      "2/2 [==============================] - 2s 1s/step - loss: 0.1883 - accuracy: 0.9267\n",
      "Epoch 107/200\n",
      "2/2 [==============================] - 2s 1s/step - loss: 0.1757 - accuracy: 0.9343\n",
      "Epoch 108/200\n",
      "2/2 [==============================] - 2s 1s/step - loss: 0.1736 - accuracy: 0.9356\n",
      "Epoch 109/200\n",
      "2/2 [==============================] - 3s 1s/step - loss: 0.1764 - accuracy: 0.9315\n",
      "Epoch 110/200\n",
      "2/2 [==============================] - 2s 1s/step - loss: 0.1900 - accuracy: 0.9223\n",
      "Epoch 111/200\n",
      "2/2 [==============================] - 2s 1s/step - loss: 0.1957 - accuracy: 0.9177\n",
      "Epoch 112/200\n",
      "2/2 [==============================] - 2s 1s/step - loss: 0.1987 - accuracy: 0.9145\n",
      "Epoch 113/200\n",
      "2/2 [==============================] - 2s 1s/step - loss: 0.1737 - accuracy: 0.9324\n",
      "Epoch 114/200\n",
      "2/2 [==============================] - 2s 1s/step - loss: 0.1643 - accuracy: 0.9371\n",
      "Epoch 115/200\n",
      "2/2 [==============================] - 3s 1s/step - loss: 0.1412 - accuracy: 0.9534\n",
      "Epoch 116/200\n",
      "2/2 [==============================] - 2s 1s/step - loss: 0.1290 - accuracy: 0.9590\n",
      "Epoch 117/200\n",
      "2/2 [==============================] - 2s 1s/step - loss: 0.1239 - accuracy: 0.9616\n",
      "Epoch 118/200\n",
      "2/2 [==============================] - 2s 1s/step - loss: 0.1260 - accuracy: 0.9603\n",
      "Epoch 119/200\n",
      "2/2 [==============================] - 2s 1s/step - loss: 0.1408 - accuracy: 0.9521\n",
      "Epoch 120/200\n",
      "2/2 [==============================] - 2s 1s/step - loss: 0.1826 - accuracy: 0.9269\n",
      "Epoch 121/200\n",
      "2/2 [==============================] - 2s 1s/step - loss: 0.2412 - accuracy: 0.8919\n",
      "Epoch 122/200\n",
      "2/2 [==============================] - 2s 1s/step - loss: 0.2025 - accuracy: 0.9093\n",
      "Epoch 123/200\n",
      "2/2 [==============================] - 3s 1s/step - loss: 0.1505 - accuracy: 0.9418\n",
      "Epoch 124/200\n",
      "2/2 [==============================] - 2s 1s/step - loss: 0.1076 - accuracy: 0.9698\n",
      "Epoch 125/200\n",
      "2/2 [==============================] - 2s 1s/step - loss: 0.0959 - accuracy: 0.9742\n",
      "Epoch 126/200\n",
      "2/2 [==============================] - 2s 1s/step - loss: 0.0905 - accuracy: 0.9758\n",
      "Epoch 127/200\n",
      "2/2 [==============================] - 2s 1s/step - loss: 0.0865 - accuracy: 0.9772\n",
      "Epoch 128/200\n",
      "2/2 [==============================] - 2s 1s/step - loss: 0.0833 - accuracy: 0.9785\n",
      "Epoch 129/200\n",
      "2/2 [==============================] - 2s 1s/step - loss: 0.0813 - accuracy: 0.9790\n",
      "Epoch 130/200\n",
      "2/2 [==============================] - 2s 1s/step - loss: 0.0823 - accuracy: 0.9783\n",
      "Epoch 131/200\n",
      "2/2 [==============================] - 2s 1s/step - loss: 0.0910 - accuracy: 0.9747\n",
      "Epoch 132/200\n",
      "2/2 [==============================] - 3s 1s/step - loss: 0.1151 - accuracy: 0.9642\n",
      "Epoch 133/200\n",
      "2/2 [==============================] - 2s 1s/step - loss: 0.1686 - accuracy: 0.9341\n",
      "Epoch 134/200\n",
      "2/2 [==============================] - 2s 1s/step - loss: 0.2270 - accuracy: 0.9045\n",
      "Epoch 135/200\n",
      "2/2 [==============================] - 2s 1s/step - loss: 0.1815 - accuracy: 0.9213\n",
      "Epoch 136/200\n",
      "2/2 [==============================] - 2s 1s/step - loss: 0.1087 - accuracy: 0.9648\n",
      "Epoch 137/200\n",
      "2/2 [==============================] - 2s 1s/step - loss: 0.0774 - accuracy: 0.9807\n",
      "Epoch 138/200\n",
      "2/2 [==============================] - 3s 1s/step - loss: 0.0704 - accuracy: 0.9832\n",
      "Epoch 139/200\n",
      "2/2 [==============================] - 2s 1s/step - loss: 0.0666 - accuracy: 0.9845\n",
      "Epoch 140/200\n",
      "2/2 [==============================] - 2s 1s/step - loss: 0.0636 - accuracy: 0.9857\n",
      "Epoch 141/200\n",
      "2/2 [==============================] - 2s 1s/step - loss: 0.0610 - accuracy: 0.9864\n",
      "Epoch 142/200\n",
      "2/2 [==============================] - 2s 1s/step - loss: 0.0587 - accuracy: 0.9869\n",
      "Epoch 143/200\n",
      "2/2 [==============================] - 3s 1s/step - loss: 0.0567 - accuracy: 0.9874\n",
      "Epoch 144/200\n",
      "2/2 [==============================] - 4s 2s/step - loss: 0.0550 - accuracy: 0.9877\n",
      "Epoch 145/200\n",
      "2/2 [==============================] - 4s 2s/step - loss: 0.0536 - accuracy: 0.9884\n",
      "Epoch 146/200\n",
      "2/2 [==============================] - 2s 1s/step - loss: 0.0528 - accuracy: 0.9885\n",
      "Epoch 147/200\n",
      "2/2 [==============================] - 2s 1s/step - loss: 0.0534 - accuracy: 0.9877\n",
      "Epoch 148/200\n",
      "2/2 [==============================] - 2s 1s/step - loss: 0.0561 - accuracy: 0.9865\n",
      "Epoch 149/200\n",
      "2/2 [==============================] - 2s 1s/step - loss: 0.0617 - accuracy: 0.9844\n",
      "Epoch 150/200\n",
      "2/2 [==============================] - 3s 1s/step - loss: 0.0682 - accuracy: 0.9814\n",
      "Epoch 151/200\n",
      "2/2 [==============================] - 2s 1s/step - loss: 0.0724 - accuracy: 0.9800\n",
      "Epoch 152/200\n",
      "2/2 [==============================] - 2s 1s/step - loss: 0.0706 - accuracy: 0.9810\n",
      "Epoch 153/200\n",
      "2/2 [==============================] - 2s 1s/step - loss: 0.0624 - accuracy: 0.9838\n",
      "Epoch 154/200\n",
      "2/2 [==============================] - 2s 1s/step - loss: 0.0524 - accuracy: 0.9880\n",
      "Epoch 155/200\n",
      "2/2 [==============================] - 2s 1s/step - loss: 0.0460 - accuracy: 0.9900\n",
      "Epoch 156/200\n",
      "2/2 [==============================] - 3s 1s/step - loss: 0.0426 - accuracy: 0.9907\n",
      "Epoch 157/200\n",
      "2/2 [==============================] - 3s 2s/step - loss: 0.0406 - accuracy: 0.9915\n",
      "Epoch 158/200\n",
      "2/2 [==============================] - 3s 2s/step - loss: 0.0394 - accuracy: 0.9916\n",
      "Epoch 159/200\n",
      "2/2 [==============================] - 3s 1s/step - loss: 0.0386 - accuracy: 0.9918\n",
      "Epoch 160/200\n",
      "2/2 [==============================] - 3s 1s/step - loss: 0.0384 - accuracy: 0.9919\n",
      "Epoch 161/200\n",
      "2/2 [==============================] - 3s 1s/step - loss: 0.0389 - accuracy: 0.9916\n",
      "Epoch 162/200\n",
      "2/2 [==============================] - 3s 1s/step - loss: 0.0402 - accuracy: 0.9910\n",
      "Epoch 163/200\n",
      "2/2 [==============================] - 3s 1s/step - loss: 0.0426 - accuracy: 0.9903\n",
      "Epoch 164/200\n",
      "2/2 [==============================] - 3s 1s/step - loss: 0.0460 - accuracy: 0.9889\n",
      "Epoch 165/200\n",
      "2/2 [==============================] - 3s 1s/step - loss: 0.0515 - accuracy: 0.9871\n",
      "Epoch 166/200\n",
      "2/2 [==============================] - 3s 1s/step - loss: 0.0604 - accuracy: 0.9842\n",
      "Epoch 167/200\n"
     ]
    },
    {
     "name": "stdout",
     "output_type": "stream",
     "text": [
      "2/2 [==============================] - 3s 1s/step - loss: 0.0749 - accuracy: 0.9801\n",
      "Epoch 168/200\n",
      "2/2 [==============================] - 2s 1s/step - loss: 0.1071 - accuracy: 0.9668\n",
      "Epoch 169/200\n",
      "2/2 [==============================] - 3s 1s/step - loss: 0.1822 - accuracy: 0.9370\n",
      "Epoch 170/200\n",
      "2/2 [==============================] - 3s 1s/step - loss: 0.2620 - accuracy: 0.8924\n",
      "Epoch 171/200\n",
      "2/2 [==============================] - 3s 1s/step - loss: 0.1881 - accuracy: 0.9264\n",
      "Epoch 172/200\n",
      "2/2 [==============================] - 3s 1s/step - loss: 0.0456 - accuracy: 0.9891\n",
      "Epoch 173/200\n",
      "2/2 [==============================] - 3s 1s/step - loss: 0.0389 - accuracy: 0.9920\n",
      "Epoch 174/200\n",
      "2/2 [==============================] - 3s 1s/step - loss: 0.0363 - accuracy: 0.9926\n",
      "Epoch 175/200\n",
      "2/2 [==============================] - 3s 1s/step - loss: 0.0345 - accuracy: 0.9935\n",
      "Epoch 176/200\n",
      "2/2 [==============================] - 2s 1s/step - loss: 0.0330 - accuracy: 0.9938\n",
      "Epoch 177/200\n",
      "2/2 [==============================] - 2s 1s/step - loss: 0.0318 - accuracy: 0.9941\n",
      "Epoch 178/200\n",
      "2/2 [==============================] - 3s 1s/step - loss: 0.0307 - accuracy: 0.9943\n",
      "Epoch 179/200\n",
      "2/2 [==============================] - 3s 1s/step - loss: 0.0297 - accuracy: 0.9945\n",
      "Epoch 180/200\n",
      "2/2 [==============================] - 3s 1s/step - loss: 0.0289 - accuracy: 0.9947\n",
      "Epoch 181/200\n",
      "2/2 [==============================] - 3s 1s/step - loss: 0.0281 - accuracy: 0.9949\n",
      "Epoch 182/200\n",
      "2/2 [==============================] - 2s 1s/step - loss: 0.0274 - accuracy: 0.9950\n",
      "Epoch 183/200\n",
      "2/2 [==============================] - 2s 1s/step - loss: 0.0267 - accuracy: 0.9952\n",
      "Epoch 184/200\n",
      "2/2 [==============================] - 3s 1s/step - loss: 0.0260 - accuracy: 0.9952\n",
      "Epoch 185/200\n",
      "2/2 [==============================] - 2s 1s/step - loss: 0.0254 - accuracy: 0.9953\n",
      "Epoch 186/200\n",
      "2/2 [==============================] - 2s 1s/step - loss: 0.0249 - accuracy: 0.9954\n",
      "Epoch 187/200\n",
      "2/2 [==============================] - 2s 1s/step - loss: 0.0243 - accuracy: 0.9955\n",
      "Epoch 188/200\n",
      "2/2 [==============================] - 2s 1s/step - loss: 0.0238 - accuracy: 0.9956\n",
      "Epoch 189/200\n",
      "2/2 [==============================] - 2s 1s/step - loss: 0.0233 - accuracy: 0.9957\n",
      "Epoch 190/200\n",
      "2/2 [==============================] - 2s 1s/step - loss: 0.0228 - accuracy: 0.9958\n",
      "Epoch 191/200\n",
      "2/2 [==============================] - 2s 1s/step - loss: 0.0223 - accuracy: 0.9958\n",
      "Epoch 192/200\n",
      "2/2 [==============================] - 2s 1s/step - loss: 0.0218 - accuracy: 0.9959\n",
      "Epoch 193/200\n",
      "2/2 [==============================] - 2s 1s/step - loss: 0.0214 - accuracy: 0.9959\n",
      "Epoch 194/200\n",
      "2/2 [==============================] - 3s 1s/step - loss: 0.0209 - accuracy: 0.9960\n",
      "Epoch 195/200\n",
      "2/2 [==============================] - 2s 1s/step - loss: 0.0205 - accuracy: 0.9962\n",
      "Epoch 196/200\n",
      "2/2 [==============================] - 2s 1s/step - loss: 0.0201 - accuracy: 0.9962\n",
      "Epoch 197/200\n",
      "2/2 [==============================] - 3s 1s/step - loss: 0.0197 - accuracy: 0.9964\n",
      "Epoch 198/200\n",
      "2/2 [==============================] - 3s 1s/step - loss: 0.0193 - accuracy: 0.9965\n",
      "Epoch 199/200\n",
      "2/2 [==============================] - 3s 1s/step - loss: 0.0189 - accuracy: 0.9966\n",
      "Epoch 200/200\n",
      "2/2 [==============================] - 3s 2s/step - loss: 0.0185 - accuracy: 0.9967\n",
      "Test loss: 0.017474943151076634\n",
      "Test accuracy: 2.957949221134186\n"
     ]
    }
   ],
   "source": [
    "print(train_data.shape, train_labels.shape,df_Y.shape, y_binary.shape, len(y))\n",
    "\n",
    "# 2) Train CONVNET on the MNIST dataset\n",
    "dim = len(keras.backend.int_shape(train_data))\n",
    "\n",
    "epochs = 200   # 30 à 50 ou 120-150-200 ???\n",
    "#  steps PROBLEMES si différent de 1 pour les derniers plots\n",
    "batch_size = 1    # 64 \n",
    "#ratio = 10 * 401 / 70\n",
    "ratio = 10 * 20000 / 70\n",
    "poids_class = {0: 1., 1: ratio}\n",
    "if dim == 2:\n",
    "    input_shape = (10, 10)\n",
    "if dim == 4:\n",
    "    input_shape = (10, 10, 2)\n",
    "    #input_shape = (10, 10, 1)\n",
    "\n",
    "filters = (5,5)\n",
    "strides=(1,1)\n",
    "pool_size=(2,2)\n",
    "\n",
    "model2 = Sequential([\n",
    "    Conv2D(6, filters, padding=\"same\", strides=strides, input_shape=input_shape),\n",
    "    MaxPooling2D(pool_size=pool_size),\n",
    "    Conv2D(16, filters, padding=\"same\", strides=strides),\n",
    "    MaxPooling2D(pool_size=pool_size),\n",
    "    Flatten(),\n",
    "    Dense(120, activation='relu'),\n",
    "    #Dropout(0.1),\n",
    "    Dense(100, activation='relu'),\n",
    "    #Dropout(0.1),\n",
    "    Dense(2, activation='sigmoid')   #  'softmax'\n",
    "    #Dense(2, activation='softmax')\n",
    "])\n",
    "\n",
    "#model2.compile(loss=keras.losses.categorical_crossentropy, optimizer=keras.optimizers.Adadelta(),\n",
    "#              metrics=['accuracy'])\n",
    "model2.compile(loss=keras.losses.binary_crossentropy, optimizer=keras.optimizers.Adadelta(),\n",
    "#model2.compile(loss=keras.losses.mse, optimizer=keras.optimizers.Adadelta(),\n",
    "              metrics=['accuracy'])\n",
    "\n",
    "#  si TENSOR = 2D\n",
    "if dim == 2:\n",
    "    history2 = model2.fit(train_data, train_labels, batch_size=batch_size, epochs=epochs, \n",
    "                          class_weight=poids_class,  # ou   'balanced'\n",
    "          verbose=1, validation_data=(test_data, test_labels))\n",
    "    score = model2.evaluate(test_data, test_labels, verbose=0)\n",
    "elif dim == 4:\n",
    "#    history2 = model2.fit_generator(train_data, train_labels, verbose=1)      \n",
    "    history2 = model2.fit(train_data, train_labels, epochs=epochs, verbose=1, \n",
    "#                          # class_weight=poids_class,   #  ValueError:  NOT supported for 3+ dimensional targets\n",
    "                        validation_freq=.33, steps_per_epoch=2)\n",
    "    score = model2.evaluate(test_data, test_labels, steps=3, verbose=0)\n",
    "else:\n",
    "    print(\"WRONG tensor dimension inputs ....\")\n",
    "\n",
    "print('Test loss:', score[0])\n",
    "print('Test accuracy:', score[1])"
   ]
  },
  {
   "cell_type": "markdown",
   "metadata": {
    "slideshow": {
     "slide_type": "skip"
    }
   },
   "source": [
    "### Sommaire"
   ]
  },
  {
   "cell_type": "code",
   "execution_count": 43,
   "metadata": {
    "ExecuteTime": {
     "end_time": "2020-03-09T21:51:26.503645Z",
     "start_time": "2020-03-09T21:51:26.429304Z"
    },
    "slideshow": {
     "slide_type": "slide"
    }
   },
   "outputs": [
    {
     "name": "stdout",
     "output_type": "stream",
     "text": [
      "Model: \"sequential_3\"\n",
      "_________________________________________________________________\n",
      "Layer (type)                 Output Shape              Param #   \n",
      "=================================================================\n",
      "conv2d_3 (Conv2D)            (None, 10, 10, 6)         306       \n",
      "_________________________________________________________________\n",
      "max_pooling2d_3 (MaxPooling2 (None, 5, 5, 6)           0         \n",
      "_________________________________________________________________\n",
      "conv2d_4 (Conv2D)            (None, 5, 5, 16)          2416      \n",
      "_________________________________________________________________\n",
      "max_pooling2d_4 (MaxPooling2 (None, 2, 2, 16)          0         \n",
      "_________________________________________________________________\n",
      "flatten_3 (Flatten)          (None, 64)                0         \n",
      "_________________________________________________________________\n",
      "dense_6 (Dense)              (None, 120)               7800      \n",
      "_________________________________________________________________\n",
      "dense_7 (Dense)              (None, 100)               12100     \n",
      "_________________________________________________________________\n",
      "dense_8 (Dense)              (None, 2)                 202       \n",
      "=================================================================\n",
      "Total params: 22,824\n",
      "Trainable params: 22,824\n",
      "Non-trainable params: 0\n",
      "_________________________________________________________________\n"
     ]
    }
   ],
   "source": [
    "model2.summary()\n",
    "\n",
    "# model.save_weights('file.h5')\n",
    "# avec le model construit + les poids\n",
    "# model.load_weights('file.h5')"
   ]
  },
  {
   "cell_type": "markdown",
   "metadata": {
    "slideshow": {
     "slide_type": "skip"
    }
   },
   "source": [
    "### Figures"
   ]
  },
  {
   "cell_type": "code",
   "execution_count": 44,
   "metadata": {
    "ExecuteTime": {
     "end_time": "2020-03-09T21:51:27.834015Z",
     "start_time": "2020-03-09T21:51:27.638026Z"
    },
    "slideshow": {
     "slide_type": "skip"
    }
   },
   "outputs": [
    {
     "data": {
      "image/png": "[encoded data removed]",
      "text/plain": [
       "<Figure size 432x288 with 1 Axes>"
      ]
     },
     "metadata": {
      "needs_background": "light"
     },
     "output_type": "display_data"
    }
   ],
   "source": [
    "#history0.history\n",
    "# plot metrics\n",
    "#_ = plt.plot(history2.history['binary_accuracy'])\n",
    "_ = plt.plot(history2.history['accuracy'])\n",
    "_ = plt.show()"
   ]
  },
  {
   "cell_type": "code",
   "execution_count": 45,
   "metadata": {
    "ExecuteTime": {
     "end_time": "2020-03-09T21:51:29.304646Z",
     "start_time": "2020-03-09T21:51:28.978389Z"
    },
    "slideshow": {
     "slide_type": "slide"
    }
   },
   "outputs": [
    {
     "name": "stdout",
     "output_type": "stream",
     "text": [
      "dict_keys(['loss', 'accuracy'])\n",
      "0 blue [[0.7388794124126434, 0.642792284488678, 0.6251162886619568, 0.6191471219062805, 0.6135624945163727, 0.6080006062984467, 0.6023383438587189, 0.5963922142982483, 0.5898460447788239, 0.5826933085918427, 0.5775826573371887, 0.586963027715683, 0.5871330797672272, 0.5755890011787415, 0.5674674808979034, 0.5661685466766357, 0.5685579180717468, 0.5631634294986725, 0.5528501272201538, 0.5502910912036896, 0.5542631447315216, 0.5478408634662628, 0.5352708101272583, 0.5330693125724792, 0.5401856005191803, 0.5318248569965363, 0.5156054794788361, 0.5144153535366058, 0.5271701216697693, 0.5133866965770721, 0.49461711943149567, 0.4982014298439026, 0.5162004828453064, 0.48993130028247833, 0.4736313819885254, 0.48924797773361206, 0.49780498445034027, 0.4633221924304962, 0.4568691551685333, 0.48678237199783325, 0.4665971100330353, 0.4413093775510788, 0.4572004973888397, 0.4625203013420105, 0.43532392382621765, 0.4363737106323242, 0.44845345616340637, 0.42700715363025665, 0.4238082021474838, 0.42929552495479584, 0.42061324417591095, 0.4141305983066559, 0.41169677674770355, 0.41214078664779663, 0.40042443573474884, 0.4076824337244034, 0.38864515721797943, 0.40152496099472046, 0.38525331020355225, 0.39405979216098785, 0.3756256252527237, 0.38635480403900146, 0.36836300790309906, 0.3793925344944, 0.35984858870506287, 0.3717391937971115, 0.3530625253915787, 0.36385543644428253, 0.34503211081027985, 0.35485896468162537, 0.3354438543319702, 0.3472769111394882, 0.3281283527612686, 0.3416350781917572, 0.3187835216522217, 0.3351137638092041, 0.31400932371616364, 0.32576969265937805, 0.3049633800983429, 0.31277184188365936, 0.2985436022281647, 0.3001420348882675, 0.287166491150856, 0.2931404262781143, 0.28146472573280334, 0.29187455773353577, 0.27161502838134766, 0.28348156809806824, 0.2646685689687729, 0.27642354369163513, 0.25877976417541504, 0.26434293389320374, 0.24638506770133972, 0.2480669915676117, 0.2367628663778305, 0.24176204949617386, 0.2327212616801262, 0.23697881400585175, 0.22160471230745316, 0.22870106250047684, 0.21686796844005585, 0.22784371674060822, 0.21388895064592361, 0.21991685777902603, 0.1983775794506073, 0.1882784515619278, 0.17566541582345963, 0.17357078939676285, 0.17637167870998383, 0.18998025357723236, 0.19567667692899704, 0.19868764281272888, 0.17369479686021805, 0.16430361568927765, 0.14115627110004425, 0.1289801374077797, 0.12388523668050766, 0.12602867931127548, 0.14082402735948563, 0.18255680054426193, 0.24115446209907532, 0.2024911493062973, 0.15050724148750305, 0.10756457597017288, 0.09594016894698143, 0.0905347503721714, 0.08647283911705017, 0.08327511325478554, 0.08134690672159195, 0.08230537548661232, 0.09100968763232231, 0.11506779864430428, 0.16862810775637627, 0.22703131288290024, 0.18146096169948578, 0.10870698466897011, 0.07740280032157898, 0.07043018937110901, 0.06658376380801201, 0.06355948001146317, 0.06097861938178539, 0.05872997082769871, 0.056749045848846436, 0.05501222983002663, 0.05362161807715893, 0.05282958783209324, 0.053378380835056305, 0.05608702450990677, 0.061720626428723335, 0.06818054802715778, 0.07244716212153435, 0.07063267007470131, 0.06243658810853958, 0.05243646912276745, 0.04600880667567253, 0.042577506974339485, 0.04062526300549507, 0.03939870744943619, 0.038635384291410446, 0.0384491141885519, 0.038898782804608345, 0.04021179676055908, 0.042626963928341866, 0.0460330992937088, 0.05149929039180279, 0.06037898361682892, 0.07491067051887512, 0.10713189840316772, 0.18218562006950378, 0.2619697079062462, 0.18811390548944473, 0.04557492583990097, 0.0388738252222538, 0.03632470779120922, 0.034460779279470444, 0.0329908337444067, 0.031759241595864296, 0.030691523104906082, 0.029748184606432915, 0.02889285236597061, 0.028102373704314232, 0.02736886404454708, 0.026683831587433815, 0.026040351949632168, 0.025433399714529514, 0.02485768310725689, 0.024305119179189205, 0.02377501782029867, 0.023265746422111988, 0.022772186435759068, 0.022295658476650715, 0.02183052059262991, 0.0213809572160244, 0.020942112430930138, 0.02051492128521204, 0.020098225213587284, 0.0196893448010087, 0.019290151074528694, 0.018898109905421734, 0.01851445809006691], [0.4248808, 0.7170461, 0.7335112, 0.73354274, 0.73433995, 0.7342216, 0.73491615, 0.7366369, 0.7384049, 0.7414122, 0.7470401, 0.7473795, 0.7493133, 0.7507814, 0.7516655, 0.75360715, 0.75389135, 0.7545386, 0.7585878, 0.7584615, 0.7578221, 0.7590929, 0.76330787, 0.7640577, 0.76228964, 0.7645392, 0.7710905, 0.7725034, 0.7643103, 0.7722429, 0.7783049, 0.7754554, 0.76978815, 0.7800177, 0.78315914, 0.7770893, 0.77751553, 0.7866164, 0.7909181, 0.7735532, 0.7893553, 0.79805356, 0.79192847, 0.7899236, 0.80068195, 0.80275, 0.7954804, 0.8067992, 0.80866987, 0.80543363, 0.8097591, 0.8128374, 0.81441605, 0.81401354, 0.8185442, 0.817747, 0.8230433, 0.82204086, 0.8245903, 0.8273924, 0.8276529, 0.8310391, 0.83066016, 0.8350646, 0.83307546, 0.8401083, 0.8375588, 0.84408647, 0.84366024, 0.84871185, 0.8484829, 0.85310835, 0.85167176, 0.8550185, 0.85614717, 0.8592097, 0.8587598, 0.8640719, 0.86478233, 0.87189406, 0.8709469, 0.8768115, 0.87695354, 0.87733245, 0.8773956, 0.8780112, 0.8800477, 0.8832602, 0.8831813, 0.88448364, 0.88490194, 0.8898194, 0.89175326, 0.8956051, 0.8979967, 0.8974205, 0.89842296, 0.8996937, 0.90545577, 0.9033404, 0.90719223, 0.9025432, 0.90787894, 0.9059846, 0.91868466, 0.9266726, 0.9342658, 0.9356155, 0.9314795, 0.92233133, 0.91770595, 0.9144539, 0.9324425, 0.9370994, 0.9533593, 0.9589556, 0.96164715, 0.96025795, 0.95213586, 0.9269251, 0.89193475, 0.9093392, 0.94181955, 0.96981657, 0.9741815, 0.9757601, 0.977173, 0.97847533, 0.9790121, 0.97832537, 0.974734, 0.96417296, 0.93407637, 0.90451646, 0.92125785, 0.964836, 0.980717, 0.98320335, 0.98448205, 0.9856976, 0.986408, 0.986921, 0.9874262, 0.98767877, 0.9883892, 0.98849964, 0.98774195, 0.9864869, 0.98437154, 0.98138005, 0.9800382, 0.98101693, 0.9838348, 0.9880024, 0.98999935, 0.99074924, 0.9914833, 0.99161744, 0.99182266, 0.9918622, 0.99163324, 0.9910018, 0.99026775, 0.98891014, 0.987071, 0.98424524, 0.9801092, 0.9667856, 0.93697315, 0.8923768, 0.92635685, 0.98909956, 0.99199635, 0.9926199, 0.9935197, 0.9938275, 0.9940959, 0.9943485, 0.9944985, 0.9947037, 0.9948537, 0.99500364, 0.9951536, 0.99520886, 0.9952799, 0.9953904, 0.99551666, 0.9956114, 0.995714, 0.99575347, 0.99581665, 0.99587977, 0.99591136, 0.99602187, 0.99615604, 0.99623495, 0.9963691, 0.99647176, 0.99660593, 0.99668485]]\n",
      "2 orange [[0.7388794124126434, 0.642792284488678, 0.6251162886619568, 0.6191471219062805, 0.6135624945163727, 0.6080006062984467, 0.6023383438587189, 0.5963922142982483, 0.5898460447788239, 0.5826933085918427, 0.5775826573371887, 0.586963027715683, 0.5871330797672272, 0.5755890011787415, 0.5674674808979034, 0.5661685466766357, 0.5685579180717468, 0.5631634294986725, 0.5528501272201538, 0.5502910912036896, 0.5542631447315216, 0.5478408634662628, 0.5352708101272583, 0.5330693125724792, 0.5401856005191803, 0.5318248569965363, 0.5156054794788361, 0.5144153535366058, 0.5271701216697693, 0.5133866965770721, 0.49461711943149567, 0.4982014298439026, 0.5162004828453064, 0.48993130028247833, 0.4736313819885254, 0.48924797773361206, 0.49780498445034027, 0.4633221924304962, 0.4568691551685333, 0.48678237199783325, 0.4665971100330353, 0.4413093775510788, 0.4572004973888397, 0.4625203013420105, 0.43532392382621765, 0.4363737106323242, 0.44845345616340637, 0.42700715363025665, 0.4238082021474838, 0.42929552495479584, 0.42061324417591095, 0.4141305983066559, 0.41169677674770355, 0.41214078664779663, 0.40042443573474884, 0.4076824337244034, 0.38864515721797943, 0.40152496099472046, 0.38525331020355225, 0.39405979216098785, 0.3756256252527237, 0.38635480403900146, 0.36836300790309906, 0.3793925344944, 0.35984858870506287, 0.3717391937971115, 0.3530625253915787, 0.36385543644428253, 0.34503211081027985, 0.35485896468162537, 0.3354438543319702, 0.3472769111394882, 0.3281283527612686, 0.3416350781917572, 0.3187835216522217, 0.3351137638092041, 0.31400932371616364, 0.32576969265937805, 0.3049633800983429, 0.31277184188365936, 0.2985436022281647, 0.3001420348882675, 0.287166491150856, 0.2931404262781143, 0.28146472573280334, 0.29187455773353577, 0.27161502838134766, 0.28348156809806824, 0.2646685689687729, 0.27642354369163513, 0.25877976417541504, 0.26434293389320374, 0.24638506770133972, 0.2480669915676117, 0.2367628663778305, 0.24176204949617386, 0.2327212616801262, 0.23697881400585175, 0.22160471230745316, 0.22870106250047684, 0.21686796844005585, 0.22784371674060822, 0.21388895064592361, 0.21991685777902603, 0.1983775794506073, 0.1882784515619278, 0.17566541582345963, 0.17357078939676285, 0.17637167870998383, 0.18998025357723236, 0.19567667692899704, 0.19868764281272888, 0.17369479686021805, 0.16430361568927765, 0.14115627110004425, 0.1289801374077797, 0.12388523668050766, 0.12602867931127548, 0.14082402735948563, 0.18255680054426193, 0.24115446209907532, 0.2024911493062973, 0.15050724148750305, 0.10756457597017288, 0.09594016894698143, 0.0905347503721714, 0.08647283911705017, 0.08327511325478554, 0.08134690672159195, 0.08230537548661232, 0.09100968763232231, 0.11506779864430428, 0.16862810775637627, 0.22703131288290024, 0.18146096169948578, 0.10870698466897011, 0.07740280032157898, 0.07043018937110901, 0.06658376380801201, 0.06355948001146317, 0.06097861938178539, 0.05872997082769871, 0.056749045848846436, 0.05501222983002663, 0.05362161807715893, 0.05282958783209324, 0.053378380835056305, 0.05608702450990677, 0.061720626428723335, 0.06818054802715778, 0.07244716212153435, 0.07063267007470131, 0.06243658810853958, 0.05243646912276745, 0.04600880667567253, 0.042577506974339485, 0.04062526300549507, 0.03939870744943619, 0.038635384291410446, 0.0384491141885519, 0.038898782804608345, 0.04021179676055908, 0.042626963928341866, 0.0460330992937088, 0.05149929039180279, 0.06037898361682892, 0.07491067051887512, 0.10713189840316772, 0.18218562006950378, 0.2619697079062462, 0.18811390548944473, 0.04557492583990097, 0.0388738252222538, 0.03632470779120922, 0.034460779279470444, 0.0329908337444067, 0.031759241595864296, 0.030691523104906082, 0.029748184606432915, 0.02889285236597061, 0.028102373704314232, 0.02736886404454708, 0.026683831587433815, 0.026040351949632168, 0.025433399714529514, 0.02485768310725689, 0.024305119179189205, 0.02377501782029867, 0.023265746422111988, 0.022772186435759068, 0.022295658476650715, 0.02183052059262991, 0.0213809572160244, 0.020942112430930138, 0.02051492128521204, 0.020098225213587284, 0.0196893448010087, 0.019290151074528694, 0.018898109905421734, 0.01851445809006691], [0.4248808, 0.7170461, 0.7335112, 0.73354274, 0.73433995, 0.7342216, 0.73491615, 0.7366369, 0.7384049, 0.7414122, 0.7470401, 0.7473795, 0.7493133, 0.7507814, 0.7516655, 0.75360715, 0.75389135, 0.7545386, 0.7585878, 0.7584615, 0.7578221, 0.7590929, 0.76330787, 0.7640577, 0.76228964, 0.7645392, 0.7710905, 0.7725034, 0.7643103, 0.7722429, 0.7783049, 0.7754554, 0.76978815, 0.7800177, 0.78315914, 0.7770893, 0.77751553, 0.7866164, 0.7909181, 0.7735532, 0.7893553, 0.79805356, 0.79192847, 0.7899236, 0.80068195, 0.80275, 0.7954804, 0.8067992, 0.80866987, 0.80543363, 0.8097591, 0.8128374, 0.81441605, 0.81401354, 0.8185442, 0.817747, 0.8230433, 0.82204086, 0.8245903, 0.8273924, 0.8276529, 0.8310391, 0.83066016, 0.8350646, 0.83307546, 0.8401083, 0.8375588, 0.84408647, 0.84366024, 0.84871185, 0.8484829, 0.85310835, 0.85167176, 0.8550185, 0.85614717, 0.8592097, 0.8587598, 0.8640719, 0.86478233, 0.87189406, 0.8709469, 0.8768115, 0.87695354, 0.87733245, 0.8773956, 0.8780112, 0.8800477, 0.8832602, 0.8831813, 0.88448364, 0.88490194, 0.8898194, 0.89175326, 0.8956051, 0.8979967, 0.8974205, 0.89842296, 0.8996937, 0.90545577, 0.9033404, 0.90719223, 0.9025432, 0.90787894, 0.9059846, 0.91868466, 0.9266726, 0.9342658, 0.9356155, 0.9314795, 0.92233133, 0.91770595, 0.9144539, 0.9324425, 0.9370994, 0.9533593, 0.9589556, 0.96164715, 0.96025795, 0.95213586, 0.9269251, 0.89193475, 0.9093392, 0.94181955, 0.96981657, 0.9741815, 0.9757601, 0.977173, 0.97847533, 0.9790121, 0.97832537, 0.974734, 0.96417296, 0.93407637, 0.90451646, 0.92125785, 0.964836, 0.980717, 0.98320335, 0.98448205, 0.9856976, 0.986408, 0.986921, 0.9874262, 0.98767877, 0.9883892, 0.98849964, 0.98774195, 0.9864869, 0.98437154, 0.98138005, 0.9800382, 0.98101693, 0.9838348, 0.9880024, 0.98999935, 0.99074924, 0.9914833, 0.99161744, 0.99182266, 0.9918622, 0.99163324, 0.9910018, 0.99026775, 0.98891014, 0.987071, 0.98424524, 0.9801092, 0.9667856, 0.93697315, 0.8923768, 0.92635685, 0.98909956, 0.99199635, 0.9926199, 0.9935197, 0.9938275, 0.9940959, 0.9943485, 0.9944985, 0.9947037, 0.9948537, 0.99500364, 0.9951536, 0.99520886, 0.9952799, 0.9953904, 0.99551666, 0.9956114, 0.995714, 0.99575347, 0.99581665, 0.99587977, 0.99591136, 0.99602187, 0.99615604, 0.99623495, 0.9963691, 0.99647176, 0.99660593, 0.99668485]]\n"
     ]
    },
    {
     "data": {
      "image/png": "[encoded data removed]",
      "text/plain": [
       "<Figure size 1440x288 with 2 Axes>"
      ]
     },
     "metadata": {
      "needs_background": "light"
     },
     "output_type": "display_data"
    }
   ],
   "source": [
    "print(history2.history.keys())\n",
    "coul = [\"blue\", \"lightblue\", \"orange\", \"red\"]\n",
    "\n",
    "fig = plt.figure(figsize=(20,4))\n",
    "_ = plt.subplot(1,2,1)\n",
    "for i in range(0,4,2):\n",
    "    print(i,coul[i], list(history2.history.values()))\n",
    "    #_ = plt.plot(list(history2.history.values())[i],'k-o', color=coul[i])\n",
    "    _ = plt.plot(list(history2.history.values())[0],'k-o', color=coul[i])\n",
    "_ = plt.subplot(1,2,2)\n",
    "for j in range(1,4,2):\n",
    "    _ = plt.plot(list(history2.history.values())[1],'k-o', color=coul[j])"
   ]
  },
  {
   "cell_type": "code",
   "execution_count": 46,
   "metadata": {
    "ExecuteTime": {
     "end_time": "2020-03-09T21:51:34.523601Z",
     "start_time": "2020-03-09T21:51:30.380829Z"
    },
    "slideshow": {
     "slide_type": "skip"
    }
   },
   "outputs": [
    {
     "name": "stdout",
     "output_type": "stream",
     "text": [
      "Test loss: 0.052424829453229904\n",
      "Test accuracy: 0.9859830737113953\n",
      "[0 0 0 0 0 0 0 0 0 0 0 0 0 0 0 0 0 0 0 0 0 0 0 0 0 0 0 0 0 0 0 0 0 0 0 0 0\n",
      " 0 0 0 0 0 0 0 0 0 0 0 0 0 0 0 0 0 0 0 0 0 0 0 0 0 0 0 0 0 0 0 0 0 0 0 0 0\n",
      " 0 0 0 0 0 0 0 0 0 0 0 0 0 0 0 0 0 0 0 0 0 0 0 0 0 0]\n",
      "(7919, 2) <class 'pandas.core.frame.DataFrame'>\n"
     ]
    },
    {
     "data": {
      "image/png": "[encoded data removed]",
      "text/plain": [
       "<Figure size 864x432 with 2 Axes>"
      ]
     },
     "metadata": {
      "needs_background": "light"
     },
     "output_type": "display_data"
    }
   ],
   "source": [
    "# RESULTATS\n",
    "\n",
    "if dim == 2:\n",
    "    score = model2.evaluate(test_data, test_labels, verbose=0, batch_size=batch_size)\n",
    "    classes = model2.predict(test_data, batch_size=batch_size)\n",
    "    predictions = model2.predict(test_data[:10])\n",
    "if dim == 4:\n",
    "    score = model2.evaluate(test_data, test_labels, verbose=0, steps=batch_size)\n",
    "    classes = model2.predict(test_data, steps=batch_size)\n",
    "    predictions = model2.predict(test_data[:100], steps=batch_size)\n",
    "    \n",
    "print('Test loss:', score[0])\n",
    "print('Test accuracy:', score[1])\n",
    "\n",
    "# predictions\n",
    " #predictions = model2.predict_classes(test_data[:10])\n",
    "print(np.argmax(predictions, axis=1))\n",
    "print(test_labels.shape, type(test_labels))\n",
    "\n",
    "######## TypeError: '(slice(None, 100, None), slice(0, 1, None))' is an invalid key\n",
    "#print(test_labels[:100,0:1])\n",
    "\n",
    "# PLOTS\n",
    "fig = plt.figure(figsize=(12,6))\n",
    "_ = plt.subplot(2,1,1)\n",
    "_ = plt.plot(history2.history['accuracy'])\n",
    "if dim == 2:\n",
    "    _ = plt.plot(history2.history['val_accuracy'])\n",
    "_ = plt.title('model accuracy')\n",
    "_ = plt.xlabel('epoch')\n",
    "_ = plt.ylabel('accuracy')\n",
    "_ = plt.legend(['train','test'], loc='lower right')\n",
    "\n",
    "_ = plt.subplot(2,1,2)\n",
    "_ = plt.plot(history2.history['loss'])\n",
    "if dim == 2:\n",
    "    _ = plt.plot(history2.history['val_loss'])\n",
    "_ = plt.title('model loss')\n",
    "_ = plt.xlabel('epoch')\n",
    "_ = plt.ylabel('loss')\n",
    "_ = plt.legend(['train','test'], loc='upper right')\n",
    "\n",
    "_ = plt.tight_layout()\n",
    "_ = fig"
   ]
  },
  {
   "cell_type": "markdown",
   "metadata": {
    "slideshow": {
     "slide_type": "skip"
    }
   },
   "source": [
    "### Matrice de confusion"
   ]
  },
  {
   "cell_type": "code",
   "execution_count": 47,
   "metadata": {
    "ExecuteTime": {
     "end_time": "2020-03-09T21:51:35.747641Z",
     "start_time": "2020-03-09T21:51:35.672476Z"
    },
    "slideshow": {
     "slide_type": "skip"
    }
   },
   "outputs": [
    {
     "name": "stdout",
     "output_type": "stream",
     "text": [
      "(31673, 10, 10, 2) (31673, 2) (31672, 2)\n"
     ]
    },
    {
     "data": {
      "text/html": [
       "<div>\n",
       "<style scoped>\n",
       "    .dataframe tbody tr th:only-of-type {\n",
       "        vertical-align: middle;\n",
       "    }\n",
       "\n",
       "    .dataframe tbody tr th {\n",
       "        vertical-align: top;\n",
       "    }\n",
       "\n",
       "    .dataframe thead th {\n",
       "        text-align: right;\n",
       "    }\n",
       "</style>\n",
       "<table border=\"1\" class=\"dataframe\">\n",
       "  <thead>\n",
       "    <tr style=\"text-align: right;\">\n",
       "      <th></th>\n",
       "      <th>0</th>\n",
       "      <th>1</th>\n",
       "    </tr>\n",
       "  </thead>\n",
       "  <tbody>\n",
       "    <tr>\n",
       "      <td>0</td>\n",
       "      <td>1.0</td>\n",
       "      <td>0.0</td>\n",
       "    </tr>\n",
       "    <tr>\n",
       "      <td>1</td>\n",
       "      <td>1.0</td>\n",
       "      <td>0.0</td>\n",
       "    </tr>\n",
       "    <tr>\n",
       "      <td>2</td>\n",
       "      <td>1.0</td>\n",
       "      <td>0.0</td>\n",
       "    </tr>\n",
       "    <tr>\n",
       "      <td>3</td>\n",
       "      <td>1.0</td>\n",
       "      <td>0.0</td>\n",
       "    </tr>\n",
       "    <tr>\n",
       "      <td>4</td>\n",
       "      <td>1.0</td>\n",
       "      <td>0.0</td>\n",
       "    </tr>\n",
       "    <tr>\n",
       "      <td>...</td>\n",
       "      <td>...</td>\n",
       "      <td>...</td>\n",
       "    </tr>\n",
       "    <tr>\n",
       "      <td>37481</td>\n",
       "      <td>0.0</td>\n",
       "      <td>1.0</td>\n",
       "    </tr>\n",
       "    <tr>\n",
       "      <td>37482</td>\n",
       "      <td>0.0</td>\n",
       "      <td>1.0</td>\n",
       "    </tr>\n",
       "    <tr>\n",
       "      <td>37483</td>\n",
       "      <td>0.0</td>\n",
       "      <td>1.0</td>\n",
       "    </tr>\n",
       "    <tr>\n",
       "      <td>37484</td>\n",
       "      <td>0.0</td>\n",
       "      <td>1.0</td>\n",
       "    </tr>\n",
       "    <tr>\n",
       "      <td>37485</td>\n",
       "      <td>0.0</td>\n",
       "      <td>1.0</td>\n",
       "    </tr>\n",
       "  </tbody>\n",
       "</table>\n",
       "<p>31673 rows × 2 columns</p>\n",
       "</div>"
      ],
      "text/plain": [
       "         0    1\n",
       "0      1.0  0.0\n",
       "1      1.0  0.0\n",
       "2      1.0  0.0\n",
       "3      1.0  0.0\n",
       "4      1.0  0.0\n",
       "...    ...  ...\n",
       "37481  0.0  1.0\n",
       "37482  0.0  1.0\n",
       "37483  0.0  1.0\n",
       "37484  0.0  1.0\n",
       "37485  0.0  1.0\n",
       "\n",
       "[31673 rows x 2 columns]"
      ]
     },
     "execution_count": 47,
     "metadata": {},
     "output_type": "execute_result"
    }
   ],
   "source": [
    "print(data_x0.shape, y0[:].shape, y0[1:].shape)\n",
    "y0[:]"
   ]
  },
  {
   "cell_type": "code",
   "execution_count": 48,
   "metadata": {
    "ExecuteTime": {
     "end_time": "2020-03-09T21:51:36.910991Z",
     "start_time": "2020-03-09T21:51:36.836177Z"
    },
    "slideshow": {
     "slide_type": "skip"
    }
   },
   "outputs": [
    {
     "name": "stdout",
     "output_type": "stream",
     "text": [
      "(7919, 10, 10, 2) (7918, 2)\n"
     ]
    }
   ],
   "source": [
    "print(test_data.shape, test_labels[1:].shape)"
   ]
  },
  {
   "cell_type": "code",
   "execution_count": 49,
   "metadata": {
    "ExecuteTime": {
     "end_time": "2020-03-09T21:51:47.467341Z",
     "start_time": "2020-03-09T21:51:37.979036Z"
    },
    "slideshow": {
     "slide_type": "slide"
    }
   },
   "outputs": [
    {
     "name": "stdout",
     "output_type": "stream",
     "text": [
      "start tensor 4D\n",
      "Echantillon Train: (31673, 10, 10, 2) 31673 31673\n",
      "Echantillon Test: 7919 7919\n",
      "(31673,) (31673, 1) (7919,) (7919, 1)\n",
      "SOMME réelle:  8424.0 2136.0\n",
      "SOMME prédite: 8529.0 2248.0\n",
      "Pourcentages:\n",
      "Train: 101.25 %\n",
      "Test: 105.24 %\n"
     ]
    },
    {
     "data": {
      "image/png": "[encoded data removed]",
      "text/plain": [
       "<Figure size 360x360 with 2 Axes>"
      ]
     },
     "metadata": {
      "needs_background": "light"
     },
     "output_type": "display_data"
    }
   ],
   "source": [
    "from sklearn.metrics import confusion_matrix\n",
    "#       pip install scikit-plot\n",
    "import scikitplot as skplt\n",
    "\n",
    "# transforme les matrice en listes d'entiers binaires (0 ou 1)\n",
    "if dim == 2:\n",
    "    print(\"start matrice 2D\")\n",
    "    Y01 = pd.DataFrame(model2.predict(train_data, steps=batch_size)[:,1:])[0].round(0).tolist()\n",
    "    Y11 = pd.DataFrame(model2.predict(test_data, steps=batch_size)[:,1:])[0].round(0).tolist()\n",
    "    Y00 = pd.DataFrame(train_labels[:,1:])[0].tolist()\n",
    "    Y10 = pd.DataFrame(test_labels[:,1:])[0].tolist()\n",
    "    \n",
    "if dim == 4:\n",
    "    print(\"start tensor 4D\")\n",
    "    Y01 = model2.predict(train_data, steps=batch_size)[:].round(0).tolist()\n",
    "    Y11 = model2.predict(test_data, steps=batch_size)[:].round(0).tolist()\n",
    "    Y00 = train_labels[:]\n",
    "    Y10 = test_labels[:]\n",
    "#    Y10 = test_labels[1:].numpy().tolist()\n",
    "\n",
    "print(\"Echantillon Train:\", train_data.shape, len(Y00), len(Y01))\n",
    "#confusion_matrix(Y01, Y00)\n",
    "\n",
    "print(\"Echantillon Test:\", len(Y10), len(Y11))\n",
    "#confusion_matrix(Y11, Y10)\n",
    "if dim == 2:\n",
    "    y_reel = pd.Series(Y10, name='Reel_test')\n",
    "    y_pred = pd.Series(Y11, name='Prédit_test')\n",
    "if dim == 4:\n",
    "#    y_reel = test_labels[1:].numpy()\n",
    "    y_reel0 = train_labels[1]\n",
    "    y_pred0 = model2.predict(train_data, steps=batch_size).round(0)[:,1:]\n",
    "    y_reel = test_labels[1]\n",
    "    y_pred = model2.predict(test_data, steps=batch_size).round(0)[:,1:]\n",
    "\n",
    "if dim == 2:\n",
    "   #df_confusion = pd.crosstab(y_reel, y_pred, rownames=['Reel_test'], colnames=['Predit_test'], margins=True)\n",
    "   print(\"\\n\", df_confusion)\n",
    "\n",
    "print(y_reel0.shape, y_pred0.shape, y_reel.shape, y_pred.shape,)\n",
    "print(\"SOMME réelle: \", y_reel0.sum(), y_reel.sum())\n",
    "print(\"SOMME prédite:\", y_pred0.sum(), y_pred.sum())\n",
    "\n",
    "print(\"Pourcentages:\")\n",
    "print(\"Train:\", round(y_pred0.sum() / y_reel0.sum()* 100, 2),\"%\")\n",
    "print(\"Test:\", round(y_pred.sum() / y_reel.sum()* 100, 2),\"%\")\n",
    "#\n",
    "_ = skplt.metrics.plot_confusion_matrix(y_reel, y_pred, figsize=(5,5))\n",
    "plt.show()\n",
    "#\n",
    "#df_conf_norm = df_confusion / df_confusion.sum(axis=1)\n",
    "#print(\"\\n\", df_conf_norm)\n",
    "#df_conf_norm = df_confusion.div(df_confusion.sum(axis=1), axis=0)\n",
    "#print(\"\\n\", df_conf_norm)\n",
    "\n",
    "#_ = sns.heatmap(df_confusion, annot=True)\n",
    "#plt.show()\n",
    "#_ = sns.heatmap(df_conf_norm, annot=True)\n",
    "#plt.show()"
   ]
  },
  {
   "cell_type": "code",
   "execution_count": 50,
   "metadata": {
    "ExecuteTime": {
     "end_time": "2020-03-09T21:55:57.909342Z",
     "start_time": "2020-03-09T21:55:54.477882Z"
    },
    "slideshow": {
     "slide_type": "skip"
    }
   },
   "outputs": [
    {
     "name": "stdout",
     "output_type": "stream",
     "text": [
      "(31673,) (31673, 1) (7919,) (7919, 1)\n",
      "SOMME réelle:  8424.0 2136.0\n",
      "SOMME prédite: 8529.0 2248.0\n",
      "Pourcentages:\n",
      "Train: 101.25 %\n",
      "Test: 105.24 %\n",
      "\n",
      " Pourcentages:\n",
      "Valeurs: 23144 0 105 8424\n",
      "Train 0: 99.55 %\n",
      "Train 1:  100.0 %\n",
      "Pourcentages:\n",
      "Valeurs: 5671 0 112 2136\n",
      "Test 0: 98.06 %\n",
      "Test 1:  100.0 %\n"
     ]
    }
   ],
   "source": [
    "#print(y_reel)\n",
    "print(y_reel0.shape, y_pred0.shape, y_reel.shape, y_pred.shape,)\n",
    "print(\"SOMME réelle: \", y_reel0.sum(), y_reel.sum())\n",
    "print(\"SOMME prédite:\", y_pred0.sum(), y_pred.sum())\n",
    "\n",
    "print(\"Pourcentages:\")\n",
    "print(\"Train:\", round(y_pred0.sum() / y_reel0.sum()* 100, 2),\"%\")\n",
    "print(\"Test:\", round(y_pred.sum() / y_reel.sum()* 100, 2),\"%\")\n",
    "\n",
    "df_res0 = pd.DataFrame(y_reel0).reset_index().rename(columns={1: \"reel\"})\n",
    "df_res0['pred'] = pd.DataFrame(y_pred0)\n",
    "df_res0['diff'] = df_res0['pred'] - df_res0['reel']\n",
    "val0_00 = len(df_res0[(df_res0['pred'] == 0) & (df_res0['reel'] == 0)])\n",
    "val0_01 = len(df_res0[(df_res0['pred'] == 0) & (df_res0['reel'] == 1)])\n",
    "val0_10 = len(df_res0[(df_res0['pred'] == 1) & (df_res0['reel'] == 0)])\n",
    "val0_11 = len(df_res0[(df_res0['pred'] == 1) & (df_res0['reel'] == 1)])\n",
    "\n",
    "print(\"\\n Pourcentages:\")\n",
    "print('Valeurs:', val0_00, val0_01, val0_10, val0_11)\n",
    "print(\"Train 0:\", round(val0_00 / (val0_00+val0_10)* 100, 2),\"%\")\n",
    "print(\"Train 1: \", round(val0_11 / (val0_01+val0_11)* 100, 2),\"%\")\n",
    "\n",
    "df_res = pd.DataFrame(y_reel).reset_index().rename(columns={1: \"reel\"})\n",
    "df_res['pred'] = pd.DataFrame(y_pred)\n",
    "df_res['diff'] = df_res['pred'] - df_res['reel']\n",
    "val_00 = len(df_res[(df_res['pred'] == 0) & (df_res['reel'] == 0)])\n",
    "val_01 = len(df_res[(df_res['pred'] == 0) & (df_res['reel'] == 1)])\n",
    "val_10 = len(df_res[(df_res['pred'] == 1) & (df_res['reel'] == 0)])\n",
    "val_11 = len(df_res[(df_res['pred'] == 1) & (df_res['reel'] == 1)])\n",
    "\n",
    "print(\"Pourcentages:\")\n",
    "print('Valeurs:', val_00, val_01, val_10, val_11)\n",
    "print(\"Test 0:\", round(val_00 / (val_00+val_10)* 100, 2),\"%\")\n",
    "print(\"Test 1: \", round(val_11 / (val_01+val_11)* 100, 2),\"%\")"
   ]
  },
  {
   "cell_type": "code",
   "execution_count": null,
   "metadata": {
    "slideshow": {
     "slide_type": "skip"
    }
   },
   "outputs": [],
   "source": []
  },
  {
   "cell_type": "markdown",
   "metadata": {
    "slideshow": {
     "slide_type": "skip"
    }
   },
   "source": [
    "# KERAS hyperparametres"
   ]
  },
  {
   "cell_type": "code",
   "execution_count": 301,
   "metadata": {
    "ExecuteTime": {
     "end_time": "2020-03-02T15:53:14.554788Z",
     "start_time": "2020-03-02T15:53:14.542780Z"
    },
    "slideshow": {
     "slide_type": "skip"
    }
   },
   "outputs": [
    {
     "ename": "SyntaxError",
     "evalue": "invalid syntax (<ipython-input-301-ded477e1019e>, line 19)",
     "output_type": "error",
     "traceback": [
      "\u001b[1;36m  File \u001b[1;32m\"<ipython-input-301-ded477e1019e>\"\u001b[1;36m, line \u001b[1;32m19\u001b[0m\n\u001b[1;33m    dataset =\u001b[0m\n\u001b[1;37m              ^\u001b[0m\n\u001b[1;31mSyntaxError\u001b[0m\u001b[1;31m:\u001b[0m invalid syntax\n"
     ]
    }
   ],
   "source": [
    "from sklearn.model_selection import GridSearchCV\n",
    "\n",
    "from keras.wrappers.scikit_learn import KerasClassifier, KerasRegressor\n",
    "\n",
    "def create_model(neurons=1, optimizer='adam', dropout_rate=0.0, learn_rate=0.01, momentum=0, \n",
    "                 init_mode='uniform', activation='relu', dropout_rate=0.0, weight_constraint=0):\n",
    "    # create model\n",
    "    model = Sequential()\n",
    "    model.add(Dense(neurons, kernel_initializer=init_mode, input_dim=8, activation=activation)'))\n",
    "    model.add(Dropout(dropout_rate))\n",
    "    model.add(Dense(1, kernel_initializer=init_mode, activation='sigmoid'))\n",
    "    # Compile model\n",
    "    optimizer = SGD(lr=learn_rate, momentum=momentum)\n",
    "    model.compile(loss='binary_crossentropy', optimizer=optimizer, metrics=['accuracy'])\n",
    "    return model\n",
    "\n",
    "# fix random seed for reproducibility\n",
    "seed = 42\n",
    "numpy.random.seed(seed)\n",
    "# load dataset\n",
    "\n",
    "dataset = \n",
    "# split into input (X) and output (Y) variables\n",
    "X = dataset\n",
    "Y = dataset\n",
    "\n",
    "# create model\n",
    "model = KerasClassifier(build_fn=create_model, epochs=100, batch_size=10, dropout_rate=0.2, verbose=0)\n",
    "\n",
    "              \n",
    "# define the grid search parameters\n",
    "learn_rate = [0.001, 0.01, 0.1, 0.2, 0.3]\n",
    "momentum = [0.0, 0.2, 0.4, 0.6, 0.8, 0.9]\n",
    "batch_size = [10, 20, 40, 60, 80, 100]\n",
    "epochs = [10, 50, 100]\n",
    "optimizer = ['SGD', 'RMSprop', 'Adagrad', 'Adadelta', 'Adam', 'Adamax', 'Nadam']\n",
    "init_mode = ['uniform', 'lecun_uniform', 'normal', 'zero', 'glorot_normal', 'glorot_uniform', 'he_normal', 'he_uniform']\n",
    "activation = ['softmax', 'softplus', 'softsign', 'relu', 'tanh', 'sigmoid', 'hard_sigmoid', 'linear']\n",
    "weight_constraint = [i for i in range (1, 6, 1)]\n",
    "dropout_rate = [i/10 for i in range (0, 10, 1)]\n",
    "neurons = [1, 5, 10, 15, 20, 25, 30]\n",
    "\n",
    "param_grid = dict(neurons=neurons, learn_rate=learn_rate, momentum=momentum, optimizer=optimizer, \n",
    "                init_mode=init_mode, batch_size=batch_size, epochs=epochs, activation=activation,\n",
    "                dropout_rate=dropout_rate, weight_constraint=weight_constraint)\n",
    "#  score = ???\n",
    "grid = GridSearchCV(estimator=model, param_grid=param_grid, n_jobs=-1, cv=5)   # n_jobs=-1  parallisation\n",
    "grid_result = grid.fit(X, Y)\n",
    "\n",
    "# summarize results ==>  best_score et best_params_\n",
    "print(\"Best: %f using %s\" % (grid_result.best_score_, grid_result.best_params_))\n",
    "means = grid_result.cv_results_['mean_test_score']\n",
    "stds = grid_result.cv_results_['std_test_score']\n",
    "params = grid_result.cv_results_['params']\n",
    "for mean, stdev, param in zip(means, stds, params):\n",
    "    print(\"%f (%f) with: %r\" % (mean, stdev, param))"
   ]
  },
  {
   "cell_type": "code",
   "execution_count": null,
   "metadata": {
    "slideshow": {
     "slide_type": "skip"
    }
   },
   "outputs": [],
   "source": []
  },
  {
   "cell_type": "code",
   "execution_count": null,
   "metadata": {
    "slideshow": {
     "slide_type": "skip"
    }
   },
   "outputs": [],
   "source": []
  },
  {
   "cell_type": "code",
   "execution_count": null,
   "metadata": {
    "slideshow": {
     "slide_type": "skip"
    }
   },
   "outputs": [],
   "source": []
  }
 ],
 "metadata": {
  "anaconda-cloud": {},
  "celltoolbar": "Diaporama",
  "kernelspec": {
   "display_name": "Python 3",
   "language": "python",
   "name": "python3"
  },
  "language_info": {
   "codemirror_mode": {
    "name": "ipython",
    "version": 3
   },
   "file_extension": ".py",
   "mimetype": "text/x-python",
   "name": "python",
   "nbconvert_exporter": "python",
   "pygments_lexer": "ipython3",
   "version": "3.7.6"
  },
  "toc": {
   "base_numbering": 1,
   "nav_menu": {},
   "number_sections": true,
   "sideBar": true,
   "skip_h1_title": false,
   "title_cell": "Table of Contents",
   "title_sidebar": "Contents",
   "toc_cell": false,
   "toc_position": {
    "height": "calc(100% - 180px)",
    "left": "10px",
    "top": "150px",
    "width": "265.547px"
   },
   "toc_section_display": true,
   "toc_window_display": true
  },
  "varInspector": {
   "cols": {
    "lenName": 16,
    "lenType": 16,
    "lenVar": 40
   },
   "kernels_config": {
    "python": {
     "delete_cmd_postfix": "",
     "delete_cmd_prefix": "del ",
     "library": "var_list.py",
     "varRefreshCmd": "print(var_dic_list())"
    },
    "r": {
     "delete_cmd_postfix": ") ",
     "delete_cmd_prefix": "rm(",
     "library": "var_list.r",
     "varRefreshCmd": "cat(var_dic_list()) "
    }
   },
   "position": {
    "height": "543px",
    "left": "978px",
    "right": "20px",
    "top": "112px",
    "width": "479px"
   },
   "types_to_exclude": [
    "module",
    "function",
    "builtin_function_or_method",
    "instance",
    "_Feature"
   ],
   "window_display": false
  }
 },
 "nbformat": 4,
 "nbformat_minor": 2
}
