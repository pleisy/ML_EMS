{
 "cells": [
  {
   "cell_type": "markdown",
   "metadata": {
    "slideshow": {
     "slide_type": "slide"
    }
   },
   "source": [
    "# PREPARATION"
   ]
  },
  {
   "cell_type": "markdown",
   "metadata": {
    "cell_style": "split"
   },
   "source": [
    "## import librairies"
   ]
  },
  {
   "cell_type": "code",
   "execution_count": 1,
   "metadata": {
    "ExecuteTime": {
     "end_time": "2020-03-09T20:43:38.996942Z",
     "start_time": "2020-03-09T20:43:32.003827Z"
    },
    "slideshow": {
     "slide_type": "skip"
    }
   },
   "outputs": [
    {
     "name": "stdout",
     "output_type": "stream",
     "text": [
      "Panda version: 0.25.1\n",
      "Numpy version: 1.17.2\n",
      "posix \n",
      " Darwin \n",
      " 18.0.0\n",
      "MATPLOTLIB version: 3.2.0\n",
      "Seaborn version: 0.9.0\n"
     ]
    }
   ],
   "source": [
    "# Indispensables\n",
    "import pandas as pd\n",
    "import numpy as np\n",
    "#import geopandas as gpd\n",
    "#import math\n",
    "print('Panda version: %s' % pd.__version__)\n",
    "print('Numpy version: %s' % np.__version__)\n",
    "\n",
    "# general\n",
    "import os\n",
    "from os import listdir\n",
    "#from os.path import isfile, join\n",
    "#from os import walk\n",
    "import sys\n",
    "import io\n",
    "import glob\n",
    "import platform\n",
    "#\n",
    "print(os.name, \"\\n\", platform.system(), \"\\n\", platform.release())\n",
    "#\n",
    "import argparse\n",
    "#from datetime import datetime\n",
    "#import h5py\n",
    "#import importlib\n",
    "\n",
    "# VISU\n",
    "import seaborn as sns\n",
    "import matplotlib\n",
    "import matplotlib.pyplot as plt\n",
    "#import matplotlib.colors as mcolors\n",
    "#from matplotlib.colors import LogNorm\n",
    "\n",
    "# IMAGES\n",
    "#from IPython.display import Image, IFrame\n",
    "#from PIL import Image\n",
    "#import rasterio\n",
    "import imageio\n",
    "\n",
    "import colorsys\n",
    "\n",
    "print('MATPLOTLIB version: %s' % matplotlib.__version__)\n",
    "print('Seaborn version: %s' % sns.__version__)\n",
    "#print('Geo Panda version: %s' % gpd.__version__)\n",
    "\n",
    "%matplotlib inline\n"
   ]
  },
  {
   "cell_type": "code",
   "execution_count": 2,
   "metadata": {
    "ExecuteTime": {
     "end_time": "2020-03-09T20:44:04.672163Z",
     "start_time": "2020-03-09T20:43:45.162033Z"
    },
    "slideshow": {
     "slide_type": "subslide"
    }
   },
   "outputs": [
    {
     "name": "stderr",
     "output_type": "stream",
     "text": [
      "/Users/pl/anaconda3/lib/python3.7/site-packages/tensorflow/python/framework/dtypes.py:526: FutureWarning:\n",
      "\n",
      "Passing (type, 1) or '1type' as a synonym of type is deprecated; in a future version of numpy, it will be understood as (type, (1,)) / '(1,)type'.\n",
      "\n",
      "/Users/pl/anaconda3/lib/python3.7/site-packages/tensorflow/python/framework/dtypes.py:527: FutureWarning:\n",
      "\n",
      "Passing (type, 1) or '1type' as a synonym of type is deprecated; in a future version of numpy, it will be understood as (type, (1,)) / '(1,)type'.\n",
      "\n",
      "/Users/pl/anaconda3/lib/python3.7/site-packages/tensorflow/python/framework/dtypes.py:528: FutureWarning:\n",
      "\n",
      "Passing (type, 1) or '1type' as a synonym of type is deprecated; in a future version of numpy, it will be understood as (type, (1,)) / '(1,)type'.\n",
      "\n",
      "/Users/pl/anaconda3/lib/python3.7/site-packages/tensorflow/python/framework/dtypes.py:529: FutureWarning:\n",
      "\n",
      "Passing (type, 1) or '1type' as a synonym of type is deprecated; in a future version of numpy, it will be understood as (type, (1,)) / '(1,)type'.\n",
      "\n",
      "/Users/pl/anaconda3/lib/python3.7/site-packages/tensorflow/python/framework/dtypes.py:530: FutureWarning:\n",
      "\n",
      "Passing (type, 1) or '1type' as a synonym of type is deprecated; in a future version of numpy, it will be understood as (type, (1,)) / '(1,)type'.\n",
      "\n",
      "/Users/pl/anaconda3/lib/python3.7/site-packages/tensorflow/python/framework/dtypes.py:535: FutureWarning:\n",
      "\n",
      "Passing (type, 1) or '1type' as a synonym of type is deprecated; in a future version of numpy, it will be understood as (type, (1,)) / '(1,)type'.\n",
      "\n",
      "/Users/pl/anaconda3/lib/python3.7/importlib/_bootstrap.py:219: RuntimeWarning:\n",
      "\n",
      "compiletime version 3.6 of module 'tensorflow.python.framework.fast_tensor_util' does not match runtime version 3.7\n",
      "\n"
     ]
    },
    {
     "name": "stdout",
     "output_type": "stream",
     "text": [
      "TensorFlow: 1.13.1\n",
      "Keras: 2.3.1\n"
     ]
    },
    {
     "name": "stderr",
     "output_type": "stream",
     "text": [
      "Using TensorFlow backend.\n"
     ]
    }
   ],
   "source": [
    "from __future__ import print_function\n",
    "\n",
    "# Machine Lerning\n",
    "import tensorflow as tf\n",
    "import keras\n",
    "\n",
    "from keras.models import Sequential\n",
    "from keras.layers import Dense, Dropout, Flatten, Activation     #LSTM\n",
    "from keras.layers import Conv1D, Conv2D, MaxPooling1D, MaxPooling2D\n",
    "from keras import backend as K\n",
    "from keras.callbacks import History\n",
    "\n",
    "from keras.optimizers import SGD\n",
    "from keras.regularizers import l2\n",
    "\n",
    "print('TensorFlow: %s' % tf.__version__)\n",
    "print('Keras: %s' % keras.__version__)"
   ]
  },
  {
   "cell_type": "markdown",
   "metadata": {
    "slideshow": {
     "slide_type": "skip"
    }
   },
   "source": [
    "## Déclaration des directories et variables"
   ]
  },
  {
   "cell_type": "code",
   "execution_count": 3,
   "metadata": {
    "ExecuteTime": {
     "end_time": "2020-03-09T20:44:16.164570Z",
     "start_time": "2020-03-09T20:44:16.087185Z"
    },
    "slideshow": {
     "slide_type": "skip"
    }
   },
   "outputs": [
    {
     "name": "stdout",
     "output_type": "stream",
     "text": [
      "Working directory: /Users/pl/Desktop/DATA_SCIENCE/NOTEBOOK\n",
      "Data ROOT directory: /Users/pl/Desktop/DATA_SCIENCE/NOTEBOOK/EMS/DATA1/\n"
     ]
    },
    {
     "data": {
      "text/plain": [
       "['/Users/pl/Desktop/DATA_SCIENCE/NOTEBOOK',\n",
       " '/Users/pl/anaconda3/lib/python37.zip',\n",
       " '/Users/pl/anaconda3/lib/python3.7',\n",
       " '/Users/pl/anaconda3/lib/python3.7/lib-dynload',\n",
       " '',\n",
       " '/Users/pl/anaconda3/lib/python3.7/site-packages',\n",
       " '/Users/pl/anaconda3/lib/python3.7/site-packages/IPython/extensions',\n",
       " '/Users/pl/.ipython',\n",
       " '/Users/pl/Desktop/DATA_SCIENCE/NOTEBOOK/EMS/DATA1/',\n",
       " '/Users/pl/Desktop/DATA_SCIENCE/NOTEBOOK/EMS/DATA1/DallesNumPoints5m\\\\']"
      ]
     },
     "execution_count": 3,
     "metadata": {},
     "output_type": "execute_result"
    }
   ],
   "source": [
    "BASE_DIR = os.getcwd()\n",
    "\n",
    "separe = \"/\"\n",
    "# Laptop\n",
    "if platform.system() == 'Darwin' and platform.release() == '18.7.0':\n",
    "    DATA_DIR  = \"/Users/pierreleisy/Data_Science/NOTEBOOK/STAGE/DATA1/\"\n",
    "    DATA_DIR2 = \"/Users/pierreleisy/Data_Science/NOTEBOOK/STAGE/DATA2/\"\n",
    "    DATA_DIR3 = \"/Users/pierreleisy/Data_Science/NOTEBOOK/STAGE/\"\n",
    "# sur IMAC\n",
    "else:   #if platform.system() == 'Darwin' and platform.release() == '18.0.0':\n",
    "    DATA_DIR  = \"/Users/pl/Desktop/DATA_SCIENCE/NOTEBOOK/EMS/DATA1/\"\n",
    "    DATA_DIR2 = \"/Users/pl/Desktop/DATA_SCIENCE/NOTEBOOK/EMS/DATA2/\"\n",
    "    DATA_DIR3 = \"/Users/pl/Desktop/DATA_SCIENCE/NOTEBOOK/EMS/\"\n",
    "## Eurométropole\n",
    "if platform.system() == 'Windows':\n",
    "    DATA_DIR  = \"S:\\\\Commun\\\\SIG3D\\\\2020\\\\PROJETS_2020\\\\20039_MachineLearning\\\\DATA\\\\\"\n",
    "    DATA_DIR2 = \"S:\\\\Commun\\\\SIG3D\\\\2020\\\\PROJETS_2020\\\\20039_MachineLearning\\\\DATA2\\\\\"\n",
    "    DATA_DIR3 = \"C:\\\\Users\\\\STG3841\\\\Mes Documents (local)\\\\travail\\\\\"\n",
    "    separe = \"\\\\\"   \n",
    "    \n",
    "DALLE_NUM = DATA_DIR + \"DallesNumPoints5m\" + separe\n",
    "DALLE_ECA = DATA_DIR + \"DallesEcartZ5m\" + separe\n",
    "DALLE_POS = DATA_DIR + \"DallesPosition5m\" + separe\n",
    "print(\"Working directory:\",BASE_DIR)\n",
    "print(\"Data ROOT directory:\",DATA_DIR)\n",
    "\n",
    "sys.path.append(DATA_DIR)\n",
    "sys.path.append(os.path.join(DATA_DIR,'DallesNumPoints5m\\\\'))\n",
    "sys.path"
   ]
  },
  {
   "cell_type": "markdown",
   "metadata": {
    "slideshow": {
     "slide_type": "skip"
    }
   },
   "source": [
    "## création des listes d'images"
   ]
  },
  {
   "cell_type": "code",
   "execution_count": 4,
   "metadata": {
    "ExecuteTime": {
     "end_time": "2020-03-09T20:44:25.662429Z",
     "start_time": "2020-03-09T20:44:22.386997Z"
    },
    "slideshow": {
     "slide_type": "skip"
    }
   },
   "outputs": [
    {
     "name": "stdout",
     "output_type": "stream",
     "text": [
      "58771 29384 29384 29384\n",
      "58771 58773 58768\n"
     ]
    }
   ],
   "source": [
    "#liste1 = [f for f in listdir(DALLE_NUM) if isfile(join(DALLE_NUM, f))]\n",
    "liste_1 = [f for f in glob.glob(DALLE_NUM + separe + \"*.tif\", recursive=True)]#   #only first N for test\n",
    "liste_2 = [f for f in glob.glob(DALLE_ECA + separe + \"*.tif\", recursive=True)]#\n",
    "liste_3 = [f for f in glob.glob(DALLE_POS + separe + \"*.tif\", recursive=True)]#\n",
    "print(len(listdir(DALLE_NUM)), len(liste_1), len(liste_2), len(liste_3))\n",
    "\n",
    "liste_NUM = os.listdir(DALLE_NUM)\n",
    "liste_ECA = os.listdir(DALLE_ECA)\n",
    "liste_POS = os.listdir(DALLE_POS)\n",
    "print(len(liste_NUM), len(liste_ECA), len(liste_POS))"
   ]
  },
  {
   "cell_type": "markdown",
   "metadata": {
    "slideshow": {
     "slide_type": "skip"
    }
   },
   "source": [
    "# DONNEES"
   ]
  },
  {
   "cell_type": "markdown",
   "metadata": {
    "slideshow": {
     "slide_type": "skip"
    }
   },
   "source": [
    "## TEST:  Lecture des images"
   ]
  },
  {
   "cell_type": "markdown",
   "metadata": {
    "slideshow": {
     "slide_type": "skip"
    }
   },
   "source": [
    "## lecture/creation fichier/dataframe lampes des lampadaires présents dans la dalle 1x1 km"
   ]
  },
  {
   "cell_type": "code",
   "execution_count": 5,
   "metadata": {
    "ExecuteTime": {
     "end_time": "2020-03-09T20:44:32.067327Z",
     "start_time": "2020-03-09T20:44:31.052358Z"
    },
    "slideshow": {
     "slide_type": "skip"
    }
   },
   "outputs": [
    {
     "name": "stdout",
     "output_type": "stream",
     "text": [
      "Bord inférieur gauche: 2042500 7272000 200 200 5\n",
      "0    3.0\n",
      "1    4.0\n",
      "2    6.0\n",
      "3    2.0\n",
      "4    1.0\n",
      "dtype: float64\n",
      "mean       1.79\n",
      "count    200.00\n",
      "sum      358.00\n",
      "dtype: float64\n",
      "(200, 200) (40000, 1) (355, 5)\n",
      "357.0\n"
     ]
    },
    {
     "data": {
      "text/html": [
       "<div>\n",
       "<style scoped>\n",
       "    .dataframe tbody tr th:only-of-type {\n",
       "        vertical-align: middle;\n",
       "    }\n",
       "\n",
       "    .dataframe tbody tr th {\n",
       "        vertical-align: top;\n",
       "    }\n",
       "\n",
       "    .dataframe thead th {\n",
       "        text-align: right;\n",
       "    }\n",
       "</style>\n",
       "<table border=\"1\" class=\"dataframe\">\n",
       "  <thead>\n",
       "    <tr style=\"text-align: right;\">\n",
       "      <th></th>\n",
       "      <th>_column</th>\n",
       "      <th>_row</th>\n",
       "      <th>_overlaps</th>\n",
       "      <th>posX</th>\n",
       "      <th>posY</th>\n",
       "    </tr>\n",
       "  </thead>\n",
       "  <tbody>\n",
       "    <tr>\n",
       "      <td>0</td>\n",
       "      <td>0</td>\n",
       "      <td>80</td>\n",
       "      <td>1</td>\n",
       "      <td>2042502</td>\n",
       "      <td>7272402</td>\n",
       "    </tr>\n",
       "    <tr>\n",
       "      <td>1</td>\n",
       "      <td>0</td>\n",
       "      <td>92</td>\n",
       "      <td>1</td>\n",
       "      <td>2042502</td>\n",
       "      <td>7272462</td>\n",
       "    </tr>\n",
       "    <tr>\n",
       "      <td>2</td>\n",
       "      <td>0</td>\n",
       "      <td>102</td>\n",
       "      <td>1</td>\n",
       "      <td>2042502</td>\n",
       "      <td>7272512</td>\n",
       "    </tr>\n",
       "    <tr>\n",
       "      <td>3</td>\n",
       "      <td>0</td>\n",
       "      <td>106</td>\n",
       "      <td>1</td>\n",
       "      <td>2042502</td>\n",
       "      <td>7272532</td>\n",
       "    </tr>\n",
       "    <tr>\n",
       "      <td>4</td>\n",
       "      <td>0</td>\n",
       "      <td>169</td>\n",
       "      <td>1</td>\n",
       "      <td>2042502</td>\n",
       "      <td>7272847</td>\n",
       "    </tr>\n",
       "  </tbody>\n",
       "</table>\n",
       "</div>"
      ],
      "text/plain": [
       "   _column  _row  _overlaps     posX     posY\n",
       "0        0    80          1  2042502  7272402\n",
       "1        0    92          1  2042502  7272462\n",
       "2        0   102          1  2042502  7272512\n",
       "3        0   106          1  2042502  7272532\n",
       "4        0   169          1  2042502  7272847"
      ]
     },
     "execution_count": 5,
     "metadata": {},
     "output_type": "execute_result"
    }
   ],
   "source": [
    "# Intialisation des variables de la dalle\n",
    "fich_lamp  = DATA_DIR  + \"LampadairePresence_0_1_5m.asc\"\n",
    "fich_lamp2 = DATA_DIR2 + \"listepositif.xlsx\"\n",
    "\n",
    "header = pd.read_csv(fich_lamp, sep=\" \", header=None, skiprows=0, nrows=5, names=[\"noms\",\"valeurs\"])\n",
    "n_row =  header['valeurs'][0]\n",
    "n_col =  header['valeurs'][1]\n",
    "xlow = header['valeurs'][2]\n",
    "ylow = header['valeurs'][3]\n",
    "cell_size = header['valeurs'][4]\n",
    "print(\"Bord inférieur gauche:\", xlow, ylow, n_row, n_col, cell_size)\n",
    "\n",
    "lampadaires = pd.read_csv(fich_lamp, sep=\" \", header=None, skiprows=6)\n",
    "print(lampadaires.sum().head(5))\n",
    "print(lampadaires.nunique().agg(['mean','count','sum']))\n",
    "##################################\n",
    "# reconstruit le tableau dans le bon schéma usuel\n",
    "# calcule la transposee\n",
    "lampadaires = lampadaires.T\n",
    "# inversion des colonnes (nombre pair de colonnes, mais pas nécessaire)\n",
    "lampadaires = lampadaires[lampadaires.columns[::-1]]\n",
    "##################################\n",
    "lampes0 = pd.DataFrame(np.reshape(lampadaires.to_numpy(), n_row*n_col))\n",
    "\n",
    "lampes2 = pd.read_excel(fich_lamp2, header=0, skiprows=0)\n",
    "print(lampadaires.shape, lampes0.shape, lampes2.shape)\n",
    "#print(lampadaires.describe())\n",
    "print(lampadaires.sum().sum())\n",
    "lampes2.head(5)"
   ]
  },
  {
   "cell_type": "markdown",
   "metadata": {
    "slideshow": {
     "slide_type": "skip"
    }
   },
   "source": [
    "## rempli le dataframe lampes0 et lampes1"
   ]
  },
  {
   "cell_type": "code",
   "execution_count": 6,
   "metadata": {
    "ExecuteTime": {
     "end_time": "2020-03-09T20:44:39.461262Z",
     "start_time": "2020-03-09T20:44:39.149558Z"
    },
    "slideshow": {
     "slide_type": "skip"
    }
   },
   "outputs": [
    {
     "name": "stdout",
     "output_type": "stream",
     "text": [
      "present     int8\n",
      "NumI       int32\n",
      "NumY       int32\n",
      "NumX       int32\n",
      "dtype: object\n",
      "Dalle: (40000, 9) Nbre lampadaires: (357, 9)\n"
     ]
    },
    {
     "data": {
      "text/html": [
       "<div>\n",
       "<style scoped>\n",
       "    .dataframe tbody tr th:only-of-type {\n",
       "        vertical-align: middle;\n",
       "    }\n",
       "\n",
       "    .dataframe tbody tr th {\n",
       "        vertical-align: top;\n",
       "    }\n",
       "\n",
       "    .dataframe thead th {\n",
       "        text-align: right;\n",
       "    }\n",
       "</style>\n",
       "<table border=\"1\" class=\"dataframe\">\n",
       "  <thead>\n",
       "    <tr style=\"text-align: right;\">\n",
       "      <th></th>\n",
       "      <th>present</th>\n",
       "      <th>NumI</th>\n",
       "      <th>NumY</th>\n",
       "      <th>NumX</th>\n",
       "      <th>X</th>\n",
       "      <th>Y</th>\n",
       "      <th>nom_NUM</th>\n",
       "      <th>nom_ECA</th>\n",
       "      <th>nom_POS</th>\n",
       "    </tr>\n",
       "  </thead>\n",
       "  <tbody>\n",
       "    <tr>\n",
       "      <td>0</td>\n",
       "      <td>0</td>\n",
       "      <td>0</td>\n",
       "      <td>0</td>\n",
       "      <td>0</td>\n",
       "      <td>2042500</td>\n",
       "      <td>7272000</td>\n",
       "      <td>2042500_7272000_NumPoints5m.tif</td>\n",
       "      <td>2042500_7272000_EcartZ5m.tif</td>\n",
       "      <td>2042500_7272000_Position5m.tif</td>\n",
       "    </tr>\n",
       "    <tr>\n",
       "      <td>1</td>\n",
       "      <td>0</td>\n",
       "      <td>1</td>\n",
       "      <td>1</td>\n",
       "      <td>0</td>\n",
       "      <td>2042500</td>\n",
       "      <td>7272005</td>\n",
       "      <td>2042500_7272005_NumPoints5m.tif</td>\n",
       "      <td>2042500_7272005_EcartZ5m.tif</td>\n",
       "      <td>2042500_7272005_Position5m.tif</td>\n",
       "    </tr>\n",
       "    <tr>\n",
       "      <td>2</td>\n",
       "      <td>0</td>\n",
       "      <td>2</td>\n",
       "      <td>2</td>\n",
       "      <td>0</td>\n",
       "      <td>2042500</td>\n",
       "      <td>7272010</td>\n",
       "      <td>2042500_7272010_NumPoints5m.tif</td>\n",
       "      <td>2042500_7272010_EcartZ5m.tif</td>\n",
       "      <td>2042500_7272010_Position5m.tif</td>\n",
       "    </tr>\n",
       "    <tr>\n",
       "      <td>3</td>\n",
       "      <td>0</td>\n",
       "      <td>3</td>\n",
       "      <td>3</td>\n",
       "      <td>0</td>\n",
       "      <td>2042500</td>\n",
       "      <td>7272015</td>\n",
       "      <td>2042500_7272015_NumPoints5m.tif</td>\n",
       "      <td>2042500_7272015_EcartZ5m.tif</td>\n",
       "      <td>2042500_7272015_Position5m.tif</td>\n",
       "    </tr>\n",
       "    <tr>\n",
       "      <td>4</td>\n",
       "      <td>0</td>\n",
       "      <td>4</td>\n",
       "      <td>4</td>\n",
       "      <td>0</td>\n",
       "      <td>2042500</td>\n",
       "      <td>7272020</td>\n",
       "      <td>2042500_7272020_NumPoints5m.tif</td>\n",
       "      <td>2042500_7272020_EcartZ5m.tif</td>\n",
       "      <td>2042500_7272020_Position5m.tif</td>\n",
       "    </tr>\n",
       "  </tbody>\n",
       "</table>\n",
       "</div>"
      ],
      "text/plain": [
       "   present  NumI  NumY  NumX        X        Y  \\\n",
       "0        0     0     0     0  2042500  7272000   \n",
       "1        0     1     1     0  2042500  7272005   \n",
       "2        0     2     2     0  2042500  7272010   \n",
       "3        0     3     3     0  2042500  7272015   \n",
       "4        0     4     4     0  2042500  7272020   \n",
       "\n",
       "                           nom_NUM                       nom_ECA  \\\n",
       "0  2042500_7272000_NumPoints5m.tif  2042500_7272000_EcartZ5m.tif   \n",
       "1  2042500_7272005_NumPoints5m.tif  2042500_7272005_EcartZ5m.tif   \n",
       "2  2042500_7272010_NumPoints5m.tif  2042500_7272010_EcartZ5m.tif   \n",
       "3  2042500_7272015_NumPoints5m.tif  2042500_7272015_EcartZ5m.tif   \n",
       "4  2042500_7272020_NumPoints5m.tif  2042500_7272020_EcartZ5m.tif   \n",
       "\n",
       "                          nom_POS  \n",
       "0  2042500_7272000_Position5m.tif  \n",
       "1  2042500_7272005_Position5m.tif  \n",
       "2  2042500_7272010_Position5m.tif  \n",
       "3  2042500_7272015_Position5m.tif  \n",
       "4  2042500_7272020_Position5m.tif  "
      ]
     },
     "execution_count": 6,
     "metadata": {},
     "output_type": "execute_result"
    }
   ],
   "source": [
    "lampes0['NumI'] = lampes0.index\n",
    "lampes0['NumY'] = lampes0['NumI'].mod(other=n_col)\n",
    "lampes0['NumX'] = ((lampes0['NumI'] - n_row + 1) / n_row).apply(np.ceil)\n",
    "#lampes = lampes.drop(['Num'], axis=1)\n",
    "lampes0.rename(columns={0: 'present'}, inplace=True)\n",
    "lampes0 = lampes0.astype({'present': 'int8'}, copy=False)\n",
    "lampes0 = lampes0.astype({'NumY': 'int32'}, copy=False)\n",
    "lampes0 = lampes0.astype({'NumI': 'int32'}, copy=False)\n",
    "lampes0 = lampes0.astype({'NumX': 'int32'}, copy=False)\n",
    "print(lampes0.dtypes)\n",
    "#print(lampes.describe(include='all'))\n",
    "lampes0['X'] = xlow + lampes0['NumX'] * cell_size\n",
    "lampes0['Y'] = ylow + lampes0['NumY'] * cell_size\n",
    "lampes0['nom_NUM'] = lampes0['X'].map(str) + \"_\" + lampes0['Y'].map(str) +  \"_NumPoints5m.tif\"\n",
    "lampes0['nom_ECA'] = lampes0['X'].map(str) + \"_\" + lampes0['Y'].map(str) + \"_EcartZ5m.tif\"\n",
    "lampes0['nom_POS'] = lampes0['X'].map(str) + \"_\" + lampes0['Y'].map(str) +  \"_Position5m.tif\"\n",
    "# extraction des lampadaires\n",
    "lampes1 = lampes0[lampes0['present'] > 0]\n",
    "print(\"Dalle:\", lampes0.shape, \"Nbre lampadaires:\", lampes1.shape)\n",
    "lampes0.head()"
   ]
  },
  {
   "cell_type": "code",
   "execution_count": 7,
   "metadata": {
    "ExecuteTime": {
     "end_time": "2020-03-09T20:44:41.125109Z",
     "start_time": "2020-03-09T20:44:41.050615Z"
    },
    "slideshow": {
     "slide_type": "skip"
    }
   },
   "outputs": [
    {
     "data": {
      "text/html": [
       "<div>\n",
       "<style scoped>\n",
       "    .dataframe tbody tr th:only-of-type {\n",
       "        vertical-align: middle;\n",
       "    }\n",
       "\n",
       "    .dataframe tbody tr th {\n",
       "        vertical-align: top;\n",
       "    }\n",
       "\n",
       "    .dataframe thead th {\n",
       "        text-align: right;\n",
       "    }\n",
       "</style>\n",
       "<table border=\"1\" class=\"dataframe\">\n",
       "  <thead>\n",
       "    <tr style=\"text-align: right;\">\n",
       "      <th></th>\n",
       "      <th>present</th>\n",
       "      <th>NumI</th>\n",
       "      <th>NumY</th>\n",
       "      <th>NumX</th>\n",
       "      <th>X</th>\n",
       "      <th>Y</th>\n",
       "      <th>nom_NUM</th>\n",
       "      <th>nom_ECA</th>\n",
       "      <th>nom_POS</th>\n",
       "    </tr>\n",
       "  </thead>\n",
       "  <tbody>\n",
       "    <tr>\n",
       "      <td>39336</td>\n",
       "      <td>1</td>\n",
       "      <td>39336</td>\n",
       "      <td>136</td>\n",
       "      <td>196</td>\n",
       "      <td>2043480</td>\n",
       "      <td>7272680</td>\n",
       "      <td>2043480_7272680_NumPoints5m.tif</td>\n",
       "      <td>2043480_7272680_EcartZ5m.tif</td>\n",
       "      <td>2043480_7272680_Position5m.tif</td>\n",
       "    </tr>\n",
       "    <tr>\n",
       "      <td>39384</td>\n",
       "      <td>1</td>\n",
       "      <td>39384</td>\n",
       "      <td>184</td>\n",
       "      <td>196</td>\n",
       "      <td>2043480</td>\n",
       "      <td>7272920</td>\n",
       "      <td>2043480_7272920_NumPoints5m.tif</td>\n",
       "      <td>2043480_7272920_EcartZ5m.tif</td>\n",
       "      <td>2043480_7272920_Position5m.tif</td>\n",
       "    </tr>\n",
       "    <tr>\n",
       "      <td>39520</td>\n",
       "      <td>1</td>\n",
       "      <td>39520</td>\n",
       "      <td>120</td>\n",
       "      <td>197</td>\n",
       "      <td>2043485</td>\n",
       "      <td>7272600</td>\n",
       "      <td>2043485_7272600_NumPoints5m.tif</td>\n",
       "      <td>2043485_7272600_EcartZ5m.tif</td>\n",
       "      <td>2043485_7272600_Position5m.tif</td>\n",
       "    </tr>\n",
       "    <tr>\n",
       "      <td>39570</td>\n",
       "      <td>1</td>\n",
       "      <td>39570</td>\n",
       "      <td>170</td>\n",
       "      <td>197</td>\n",
       "      <td>2043485</td>\n",
       "      <td>7272850</td>\n",
       "      <td>2043485_7272850_NumPoints5m.tif</td>\n",
       "      <td>2043485_7272850_EcartZ5m.tif</td>\n",
       "      <td>2043485_7272850_Position5m.tif</td>\n",
       "    </tr>\n",
       "    <tr>\n",
       "      <td>39577</td>\n",
       "      <td>1</td>\n",
       "      <td>39577</td>\n",
       "      <td>177</td>\n",
       "      <td>197</td>\n",
       "      <td>2043485</td>\n",
       "      <td>7272885</td>\n",
       "      <td>2043485_7272885_NumPoints5m.tif</td>\n",
       "      <td>2043485_7272885_EcartZ5m.tif</td>\n",
       "      <td>2043485_7272885_Position5m.tif</td>\n",
       "    </tr>\n",
       "    <tr>\n",
       "      <td>39685</td>\n",
       "      <td>1</td>\n",
       "      <td>39685</td>\n",
       "      <td>85</td>\n",
       "      <td>198</td>\n",
       "      <td>2043490</td>\n",
       "      <td>7272425</td>\n",
       "      <td>2043490_7272425_NumPoints5m.tif</td>\n",
       "      <td>2043490_7272425_EcartZ5m.tif</td>\n",
       "      <td>2043490_7272425_Position5m.tif</td>\n",
       "    </tr>\n",
       "    <tr>\n",
       "      <td>39756</td>\n",
       "      <td>1</td>\n",
       "      <td>39756</td>\n",
       "      <td>156</td>\n",
       "      <td>198</td>\n",
       "      <td>2043490</td>\n",
       "      <td>7272780</td>\n",
       "      <td>2043490_7272780_NumPoints5m.tif</td>\n",
       "      <td>2043490_7272780_EcartZ5m.tif</td>\n",
       "      <td>2043490_7272780_Position5m.tif</td>\n",
       "    </tr>\n",
       "    <tr>\n",
       "      <td>39763</td>\n",
       "      <td>1</td>\n",
       "      <td>39763</td>\n",
       "      <td>163</td>\n",
       "      <td>198</td>\n",
       "      <td>2043490</td>\n",
       "      <td>7272815</td>\n",
       "      <td>2043490_7272815_NumPoints5m.tif</td>\n",
       "      <td>2043490_7272815_EcartZ5m.tif</td>\n",
       "      <td>2043490_7272815_Position5m.tif</td>\n",
       "    </tr>\n",
       "  </tbody>\n",
       "</table>\n",
       "</div>"
      ],
      "text/plain": [
       "       present   NumI  NumY  NumX        X        Y  \\\n",
       "39336        1  39336   136   196  2043480  7272680   \n",
       "39384        1  39384   184   196  2043480  7272920   \n",
       "39520        1  39520   120   197  2043485  7272600   \n",
       "39570        1  39570   170   197  2043485  7272850   \n",
       "39577        1  39577   177   197  2043485  7272885   \n",
       "39685        1  39685    85   198  2043490  7272425   \n",
       "39756        1  39756   156   198  2043490  7272780   \n",
       "39763        1  39763   163   198  2043490  7272815   \n",
       "\n",
       "                               nom_NUM                       nom_ECA  \\\n",
       "39336  2043480_7272680_NumPoints5m.tif  2043480_7272680_EcartZ5m.tif   \n",
       "39384  2043480_7272920_NumPoints5m.tif  2043480_7272920_EcartZ5m.tif   \n",
       "39520  2043485_7272600_NumPoints5m.tif  2043485_7272600_EcartZ5m.tif   \n",
       "39570  2043485_7272850_NumPoints5m.tif  2043485_7272850_EcartZ5m.tif   \n",
       "39577  2043485_7272885_NumPoints5m.tif  2043485_7272885_EcartZ5m.tif   \n",
       "39685  2043490_7272425_NumPoints5m.tif  2043490_7272425_EcartZ5m.tif   \n",
       "39756  2043490_7272780_NumPoints5m.tif  2043490_7272780_EcartZ5m.tif   \n",
       "39763  2043490_7272815_NumPoints5m.tif  2043490_7272815_EcartZ5m.tif   \n",
       "\n",
       "                              nom_POS  \n",
       "39336  2043480_7272680_Position5m.tif  \n",
       "39384  2043480_7272920_Position5m.tif  \n",
       "39520  2043485_7272600_Position5m.tif  \n",
       "39570  2043485_7272850_Position5m.tif  \n",
       "39577  2043485_7272885_Position5m.tif  \n",
       "39685  2043490_7272425_Position5m.tif  \n",
       "39756  2043490_7272780_Position5m.tif  \n",
       "39763  2043490_7272815_Position5m.tif  "
      ]
     },
     "execution_count": 7,
     "metadata": {},
     "output_type": "execute_result"
    }
   ],
   "source": [
    "lampes1.tail(8)"
   ]
  },
  {
   "cell_type": "code",
   "execution_count": 8,
   "metadata": {
    "ExecuteTime": {
     "end_time": "2020-03-09T20:44:43.506619Z",
     "start_time": "2020-03-09T20:44:43.424871Z"
    },
    "slideshow": {
     "slide_type": "skip"
    }
   },
   "outputs": [
    {
     "name": "stdout",
     "output_type": "stream",
     "text": [
      "(357, 9) (40000, 9)\n"
     ]
    },
    {
     "data": {
      "text/html": [
       "<div>\n",
       "<style scoped>\n",
       "    .dataframe tbody tr th:only-of-type {\n",
       "        vertical-align: middle;\n",
       "    }\n",
       "\n",
       "    .dataframe tbody tr th {\n",
       "        vertical-align: top;\n",
       "    }\n",
       "\n",
       "    .dataframe thead th {\n",
       "        text-align: right;\n",
       "    }\n",
       "</style>\n",
       "<table border=\"1\" class=\"dataframe\">\n",
       "  <thead>\n",
       "    <tr style=\"text-align: right;\">\n",
       "      <th></th>\n",
       "      <th>present</th>\n",
       "      <th>NumI</th>\n",
       "      <th>NumY</th>\n",
       "      <th>NumX</th>\n",
       "      <th>X</th>\n",
       "      <th>Y</th>\n",
       "      <th>nom_NUM</th>\n",
       "      <th>nom_ECA</th>\n",
       "      <th>nom_POS</th>\n",
       "    </tr>\n",
       "  </thead>\n",
       "  <tbody>\n",
       "    <tr>\n",
       "      <td>27731</td>\n",
       "      <td>1</td>\n",
       "      <td>27731</td>\n",
       "      <td>131</td>\n",
       "      <td>138</td>\n",
       "      <td>2043190</td>\n",
       "      <td>7272655</td>\n",
       "      <td>2043190_7272655_NumPoints5m.tif</td>\n",
       "      <td>2043190_7272655_EcartZ5m.tif</td>\n",
       "      <td>2043190_7272655_Position5m.tif</td>\n",
       "    </tr>\n",
       "    <tr>\n",
       "      <td>27747</td>\n",
       "      <td>1</td>\n",
       "      <td>27747</td>\n",
       "      <td>147</td>\n",
       "      <td>138</td>\n",
       "      <td>2043190</td>\n",
       "      <td>7272735</td>\n",
       "      <td>2043190_7272735_NumPoints5m.tif</td>\n",
       "      <td>2043190_7272735_EcartZ5m.tif</td>\n",
       "      <td>2043190_7272735_Position5m.tif</td>\n",
       "    </tr>\n",
       "    <tr>\n",
       "      <td>28103</td>\n",
       "      <td>1</td>\n",
       "      <td>28103</td>\n",
       "      <td>103</td>\n",
       "      <td>140</td>\n",
       "      <td>2043200</td>\n",
       "      <td>7272515</td>\n",
       "      <td>2043200_7272515_NumPoints5m.tif</td>\n",
       "      <td>2043200_7272515_EcartZ5m.tif</td>\n",
       "      <td>2043200_7272515_Position5m.tif</td>\n",
       "    </tr>\n",
       "    <tr>\n",
       "      <td>28125</td>\n",
       "      <td>1</td>\n",
       "      <td>28125</td>\n",
       "      <td>125</td>\n",
       "      <td>140</td>\n",
       "      <td>2043200</td>\n",
       "      <td>7272625</td>\n",
       "      <td>2043200_7272625_NumPoints5m.tif</td>\n",
       "      <td>2043200_7272625_EcartZ5m.tif</td>\n",
       "      <td>2043200_7272625_Position5m.tif</td>\n",
       "    </tr>\n",
       "    <tr>\n",
       "      <td>28131</td>\n",
       "      <td>1</td>\n",
       "      <td>28131</td>\n",
       "      <td>131</td>\n",
       "      <td>140</td>\n",
       "      <td>2043200</td>\n",
       "      <td>7272655</td>\n",
       "      <td>2043200_7272655_NumPoints5m.tif</td>\n",
       "      <td>2043200_7272655_EcartZ5m.tif</td>\n",
       "      <td>2043200_7272655_Position5m.tif</td>\n",
       "    </tr>\n",
       "    <tr>\n",
       "      <td>28193</td>\n",
       "      <td>1</td>\n",
       "      <td>28193</td>\n",
       "      <td>193</td>\n",
       "      <td>140</td>\n",
       "      <td>2043200</td>\n",
       "      <td>7272965</td>\n",
       "      <td>2043200_7272965_NumPoints5m.tif</td>\n",
       "      <td>2043200_7272965_EcartZ5m.tif</td>\n",
       "      <td>2043200_7272965_Position5m.tif</td>\n",
       "    </tr>\n",
       "    <tr>\n",
       "      <td>28256</td>\n",
       "      <td>1</td>\n",
       "      <td>28256</td>\n",
       "      <td>56</td>\n",
       "      <td>141</td>\n",
       "      <td>2043205</td>\n",
       "      <td>7272280</td>\n",
       "      <td>2043205_7272280_NumPoints5m.tif</td>\n",
       "      <td>2043205_7272280_EcartZ5m.tif</td>\n",
       "      <td>2043205_7272280_Position5m.tif</td>\n",
       "    </tr>\n",
       "    <tr>\n",
       "      <td>28393</td>\n",
       "      <td>1</td>\n",
       "      <td>28393</td>\n",
       "      <td>193</td>\n",
       "      <td>141</td>\n",
       "      <td>2043205</td>\n",
       "      <td>7272965</td>\n",
       "      <td>2043205_7272965_NumPoints5m.tif</td>\n",
       "      <td>2043205_7272965_EcartZ5m.tif</td>\n",
       "      <td>2043205_7272965_Position5m.tif</td>\n",
       "    </tr>\n",
       "    <tr>\n",
       "      <td>28463</td>\n",
       "      <td>1</td>\n",
       "      <td>28463</td>\n",
       "      <td>63</td>\n",
       "      <td>142</td>\n",
       "      <td>2043210</td>\n",
       "      <td>7272315</td>\n",
       "      <td>2043210_7272315_NumPoints5m.tif</td>\n",
       "      <td>2043210_7272315_EcartZ5m.tif</td>\n",
       "      <td>2043210_7272315_Position5m.tif</td>\n",
       "    </tr>\n",
       "    <tr>\n",
       "      <td>28464</td>\n",
       "      <td>1</td>\n",
       "      <td>28464</td>\n",
       "      <td>64</td>\n",
       "      <td>142</td>\n",
       "      <td>2043210</td>\n",
       "      <td>7272320</td>\n",
       "      <td>2043210_7272320_NumPoints5m.tif</td>\n",
       "      <td>2043210_7272320_EcartZ5m.tif</td>\n",
       "      <td>2043210_7272320_Position5m.tif</td>\n",
       "    </tr>\n",
       "    <tr>\n",
       "      <td>28662</td>\n",
       "      <td>1</td>\n",
       "      <td>28662</td>\n",
       "      <td>62</td>\n",
       "      <td>143</td>\n",
       "      <td>2043215</td>\n",
       "      <td>7272310</td>\n",
       "      <td>2043215_7272310_NumPoints5m.tif</td>\n",
       "      <td>2043215_7272310_EcartZ5m.tif</td>\n",
       "      <td>2043215_7272310_Position5m.tif</td>\n",
       "    </tr>\n",
       "    <tr>\n",
       "      <td>28665</td>\n",
       "      <td>1</td>\n",
       "      <td>28665</td>\n",
       "      <td>65</td>\n",
       "      <td>143</td>\n",
       "      <td>2043215</td>\n",
       "      <td>7272325</td>\n",
       "      <td>2043215_7272325_NumPoints5m.tif</td>\n",
       "      <td>2043215_7272325_EcartZ5m.tif</td>\n",
       "      <td>2043215_7272325_Position5m.tif</td>\n",
       "    </tr>\n",
       "    <tr>\n",
       "      <td>28717</td>\n",
       "      <td>1</td>\n",
       "      <td>28717</td>\n",
       "      <td>117</td>\n",
       "      <td>143</td>\n",
       "      <td>2043215</td>\n",
       "      <td>7272585</td>\n",
       "      <td>2043215_7272585_NumPoints5m.tif</td>\n",
       "      <td>2043215_7272585_EcartZ5m.tif</td>\n",
       "      <td>2043215_7272585_Position5m.tif</td>\n",
       "    </tr>\n",
       "    <tr>\n",
       "      <td>28762</td>\n",
       "      <td>1</td>\n",
       "      <td>28762</td>\n",
       "      <td>162</td>\n",
       "      <td>143</td>\n",
       "      <td>2043215</td>\n",
       "      <td>7272810</td>\n",
       "      <td>2043215_7272810_NumPoints5m.tif</td>\n",
       "      <td>2043215_7272810_EcartZ5m.tif</td>\n",
       "      <td>2043215_7272810_Position5m.tif</td>\n",
       "    </tr>\n",
       "    <tr>\n",
       "      <td>28794</td>\n",
       "      <td>1</td>\n",
       "      <td>28794</td>\n",
       "      <td>194</td>\n",
       "      <td>143</td>\n",
       "      <td>2043215</td>\n",
       "      <td>7272970</td>\n",
       "      <td>2043215_7272970_NumPoints5m.tif</td>\n",
       "      <td>2043215_7272970_EcartZ5m.tif</td>\n",
       "      <td>2043215_7272970_Position5m.tif</td>\n",
       "    </tr>\n",
       "    <tr>\n",
       "      <td>28858</td>\n",
       "      <td>1</td>\n",
       "      <td>28858</td>\n",
       "      <td>58</td>\n",
       "      <td>144</td>\n",
       "      <td>2043220</td>\n",
       "      <td>7272290</td>\n",
       "      <td>2043220_7272290_NumPoints5m.tif</td>\n",
       "      <td>2043220_7272290_EcartZ5m.tif</td>\n",
       "      <td>2043220_7272290_Position5m.tif</td>\n",
       "    </tr>\n",
       "    <tr>\n",
       "      <td>28859</td>\n",
       "      <td>1</td>\n",
       "      <td>28859</td>\n",
       "      <td>59</td>\n",
       "      <td>144</td>\n",
       "      <td>2043220</td>\n",
       "      <td>7272295</td>\n",
       "      <td>2043220_7272295_NumPoints5m.tif</td>\n",
       "      <td>2043220_7272295_EcartZ5m.tif</td>\n",
       "      <td>2043220_7272295_Position5m.tif</td>\n",
       "    </tr>\n",
       "    <tr>\n",
       "      <td>28867</td>\n",
       "      <td>1</td>\n",
       "      <td>28867</td>\n",
       "      <td>67</td>\n",
       "      <td>144</td>\n",
       "      <td>2043220</td>\n",
       "      <td>7272335</td>\n",
       "      <td>2043220_7272335_NumPoints5m.tif</td>\n",
       "      <td>2043220_7272335_EcartZ5m.tif</td>\n",
       "      <td>2043220_7272335_Position5m.tif</td>\n",
       "    </tr>\n",
       "    <tr>\n",
       "      <td>28871</td>\n",
       "      <td>1</td>\n",
       "      <td>28871</td>\n",
       "      <td>71</td>\n",
       "      <td>144</td>\n",
       "      <td>2043220</td>\n",
       "      <td>7272355</td>\n",
       "      <td>2043220_7272355_NumPoints5m.tif</td>\n",
       "      <td>2043220_7272355_EcartZ5m.tif</td>\n",
       "      <td>2043220_7272355_Position5m.tif</td>\n",
       "    </tr>\n",
       "    <tr>\n",
       "      <td>28873</td>\n",
       "      <td>1</td>\n",
       "      <td>28873</td>\n",
       "      <td>73</td>\n",
       "      <td>144</td>\n",
       "      <td>2043220</td>\n",
       "      <td>7272365</td>\n",
       "      <td>2043220_7272365_NumPoints5m.tif</td>\n",
       "      <td>2043220_7272365_EcartZ5m.tif</td>\n",
       "      <td>2043220_7272365_Position5m.tif</td>\n",
       "    </tr>\n",
       "  </tbody>\n",
       "</table>\n",
       "</div>"
      ],
      "text/plain": [
       "       present   NumI  NumY  NumX        X        Y  \\\n",
       "27731        1  27731   131   138  2043190  7272655   \n",
       "27747        1  27747   147   138  2043190  7272735   \n",
       "28103        1  28103   103   140  2043200  7272515   \n",
       "28125        1  28125   125   140  2043200  7272625   \n",
       "28131        1  28131   131   140  2043200  7272655   \n",
       "28193        1  28193   193   140  2043200  7272965   \n",
       "28256        1  28256    56   141  2043205  7272280   \n",
       "28393        1  28393   193   141  2043205  7272965   \n",
       "28463        1  28463    63   142  2043210  7272315   \n",
       "28464        1  28464    64   142  2043210  7272320   \n",
       "28662        1  28662    62   143  2043215  7272310   \n",
       "28665        1  28665    65   143  2043215  7272325   \n",
       "28717        1  28717   117   143  2043215  7272585   \n",
       "28762        1  28762   162   143  2043215  7272810   \n",
       "28794        1  28794   194   143  2043215  7272970   \n",
       "28858        1  28858    58   144  2043220  7272290   \n",
       "28859        1  28859    59   144  2043220  7272295   \n",
       "28867        1  28867    67   144  2043220  7272335   \n",
       "28871        1  28871    71   144  2043220  7272355   \n",
       "28873        1  28873    73   144  2043220  7272365   \n",
       "\n",
       "                               nom_NUM                       nom_ECA  \\\n",
       "27731  2043190_7272655_NumPoints5m.tif  2043190_7272655_EcartZ5m.tif   \n",
       "27747  2043190_7272735_NumPoints5m.tif  2043190_7272735_EcartZ5m.tif   \n",
       "28103  2043200_7272515_NumPoints5m.tif  2043200_7272515_EcartZ5m.tif   \n",
       "28125  2043200_7272625_NumPoints5m.tif  2043200_7272625_EcartZ5m.tif   \n",
       "28131  2043200_7272655_NumPoints5m.tif  2043200_7272655_EcartZ5m.tif   \n",
       "28193  2043200_7272965_NumPoints5m.tif  2043200_7272965_EcartZ5m.tif   \n",
       "28256  2043205_7272280_NumPoints5m.tif  2043205_7272280_EcartZ5m.tif   \n",
       "28393  2043205_7272965_NumPoints5m.tif  2043205_7272965_EcartZ5m.tif   \n",
       "28463  2043210_7272315_NumPoints5m.tif  2043210_7272315_EcartZ5m.tif   \n",
       "28464  2043210_7272320_NumPoints5m.tif  2043210_7272320_EcartZ5m.tif   \n",
       "28662  2043215_7272310_NumPoints5m.tif  2043215_7272310_EcartZ5m.tif   \n",
       "28665  2043215_7272325_NumPoints5m.tif  2043215_7272325_EcartZ5m.tif   \n",
       "28717  2043215_7272585_NumPoints5m.tif  2043215_7272585_EcartZ5m.tif   \n",
       "28762  2043215_7272810_NumPoints5m.tif  2043215_7272810_EcartZ5m.tif   \n",
       "28794  2043215_7272970_NumPoints5m.tif  2043215_7272970_EcartZ5m.tif   \n",
       "28858  2043220_7272290_NumPoints5m.tif  2043220_7272290_EcartZ5m.tif   \n",
       "28859  2043220_7272295_NumPoints5m.tif  2043220_7272295_EcartZ5m.tif   \n",
       "28867  2043220_7272335_NumPoints5m.tif  2043220_7272335_EcartZ5m.tif   \n",
       "28871  2043220_7272355_NumPoints5m.tif  2043220_7272355_EcartZ5m.tif   \n",
       "28873  2043220_7272365_NumPoints5m.tif  2043220_7272365_EcartZ5m.tif   \n",
       "\n",
       "                              nom_POS  \n",
       "27731  2043190_7272655_Position5m.tif  \n",
       "27747  2043190_7272735_Position5m.tif  \n",
       "28103  2043200_7272515_Position5m.tif  \n",
       "28125  2043200_7272625_Position5m.tif  \n",
       "28131  2043200_7272655_Position5m.tif  \n",
       "28193  2043200_7272965_Position5m.tif  \n",
       "28256  2043205_7272280_Position5m.tif  \n",
       "28393  2043205_7272965_Position5m.tif  \n",
       "28463  2043210_7272315_Position5m.tif  \n",
       "28464  2043210_7272320_Position5m.tif  \n",
       "28662  2043215_7272310_Position5m.tif  \n",
       "28665  2043215_7272325_Position5m.tif  \n",
       "28717  2043215_7272585_Position5m.tif  \n",
       "28762  2043215_7272810_Position5m.tif  \n",
       "28794  2043215_7272970_Position5m.tif  \n",
       "28858  2043220_7272290_Position5m.tif  \n",
       "28859  2043220_7272295_Position5m.tif  \n",
       "28867  2043220_7272335_Position5m.tif  \n",
       "28871  2043220_7272355_Position5m.tif  \n",
       "28873  2043220_7272365_Position5m.tif  "
      ]
     },
     "execution_count": 8,
     "metadata": {},
     "output_type": "execute_result"
    }
   ],
   "source": [
    "print(lampes1.shape, lampes0.shape)\n",
    "lampes1.head(240).tail(20)\n"
   ]
  },
  {
   "cell_type": "markdown",
   "metadata": {
    "slideshow": {
     "slide_type": "skip"
    }
   },
   "source": [
    "## Extraction de(s) image(s) dans un dataframe unique (à partir de imageio)"
   ]
  },
  {
   "cell_type": "code",
   "execution_count": null,
   "metadata": {
    "slideshow": {
     "slide_type": "skip"
    }
   },
   "outputs": [],
   "source": []
  },
  {
   "cell_type": "code",
   "execution_count": 51,
   "metadata": {
    "ExecuteTime": {
     "end_time": "2020-03-09T22:46:43.360805Z",
     "start_time": "2020-03-09T22:34:11.312907Z"
    },
    "slideshow": {
     "slide_type": "skip"
    }
   },
   "outputs": [
    {
     "name": "stdout",
     "output_type": "stream",
     "text": [
      "M: 1\n",
      "357 352 29032 29384 29384 20 36072\n"
     ]
    },
    {
     "data": {
      "text/plain": [
       "(36072, 10, 10)"
      ]
     },
     "execution_count": 51,
     "metadata": {},
     "output_type": "execute_result"
    },
    {
     "name": "stdout",
     "output_type": "stream",
     "text": [
      "29032 7040 36072\n",
      "M: 2\n",
      "357 352 29032 29384 29384 20 36072\n"
     ]
    },
    {
     "data": {
      "text/plain": [
       "(36072, 10, 10)"
      ]
     },
     "execution_count": 51,
     "metadata": {},
     "output_type": "execute_result"
    },
    {
     "name": "stdout",
     "output_type": "stream",
     "text": [
      "29032 7040 36072\n",
      "M: 3\n",
      "357 352 29032 29384 29384 20 36072\n"
     ]
    },
    {
     "data": {
      "text/plain": [
       "(36072, 10, 10)"
      ]
     },
     "execution_count": 51,
     "metadata": {},
     "output_type": "execute_result"
    },
    {
     "name": "stdout",
     "output_type": "stream",
     "text": [
      "29032 7040 36072\n"
     ]
    }
   ],
   "source": [
    "from keras.preprocessing.image import load_img, save_img\n",
    "from keras.preprocessing.image import img_to_array\n",
    "from keras.preprocessing.image import array_to_img\n",
    "\n",
    "off = 200000\n",
    "if off > 40000:\n",
    "    off = len(liste_1)\n",
    "NN = 0\n",
    "NM = NN + off\n",
    "\n",
    "dal1 = ['nom_NUM', 'nom_ECA', 'nom_POS']\n",
    "dal2 = [DALLE_NUM, DALLE_ECA, DALLE_POS]\n",
    "listes = [liste_1, liste_2, liste_3]\n",
    "data = ['data1', 'data12', 'data3']\n",
    "#### Pour eviter les fichiers manquants\n",
    "# Compare les deux SETS (impossible avec des listes)\n",
    "for m in range(1,4):\n",
    "    print(\"M:\", m)\n",
    "    set_A = set(dal2[m-1] + lampes1[dal1[m-1]])\n",
    "    set_B = set(listes[m-1])\n",
    "    set_C1 = set_A & set_B\n",
    "    set_C2 = set_B - set_A\n",
    "    liste_C = list(set_C2)\n",
    "    liste_extraite0 = list(liste_C[NN:NM]) + list(set_C1)\n",
    "    mult = int(len(liste_extraite0)/len(set_C1))\n",
    "    mult = 20\n",
    "    liste_extraite  = list(liste_C[NN:NM]) + mult * list(set_C1)\n",
    "    #liste_extraite = list(set(list(liste_1[NN:NM]) + list(set_C1)))\n",
    "    print(len(set_A), len(set_C1), len(set_C2), len(liste_1), len(liste_extraite0), mult, len(liste_extraite))\n",
    "    test = True\n",
    "    #test = False\n",
    "    # creation du tenseur resultant ... merge tous les fichiers images\n",
    "    if test:\n",
    "    #  Ne fonctionne pas np.array(load_img(fname)) for fname in list_lamp0\n",
    "        data[m-1] = np.array([np.array(imageio.imread(fname)) for fname in liste_extraite])\n",
    "        data[m-1].shape\n",
    "        fichier = DATA_DIR3 + \"data_LAS_\" + str(dal1[m-1]) + \"_\" + str(off) + \".npy\"\n",
    "        np.save(fichier, data[m-1])\n",
    "\n",
    "    liste_y1 = [ 0 for x in range(len(liste_C[NN:NM]))]\n",
    "    liste_y2 = [ 1 for x in range(mult * len(list(set_C1)))]\n",
    "    liste_y = liste_y1 + liste_y2\n",
    "    print(len(liste_y1), len(liste_y2), len(liste_y))"
   ]
  },
  {
   "cell_type": "markdown",
   "metadata": {
    "slideshow": {
     "slide_type": "skip"
    }
   },
   "source": [
    "### Lecture de TOUS les fichiers\n",
    "5s pour 100 fichiers\n",
    "\n",
    "~45-60mn ? pour 40000 fichiers\n",
    "\n",
    "création de la table de 200-300 colonnes"
   ]
  },
  {
   "cell_type": "code",
   "execution_count": 11,
   "metadata": {
    "ExecuteTime": {
     "end_time": "2020-03-09T21:26:05.671246Z",
     "start_time": "2020-03-09T21:06:25.507974Z"
    },
    "slideshow": {
     "slide_type": "skip"
    }
   },
   "outputs": [
    {
     "name": "stdout",
     "output_type": "stream",
     "text": [
      "40357 40357 40000 40000\n",
      "0 0\n",
      "500 389\n",
      "1000 808\n",
      "1225 1000 1000 1000 0\n",
      "1500 1228\n",
      "2000 1638\n",
      "2437 2000 2000 2000 0\n",
      "2500 2057\n",
      "3000 2424\n",
      "3500 2846\n",
      "3680 3000 3000 3000 0\n",
      "4000 3269\n",
      "4500 3700\n",
      "4868 4000 4000 4000 0\n",
      "5000 4113\n",
      "5500 4543\n",
      "6000 4972\n",
      "6041 5000 5000 5000 0\n",
      "6500 5414\n",
      "7000 5858\n",
      "7161 6000 6000 6000 0\n",
      "7500 6302\n",
      "8000 6750\n",
      "8265 7000 7000 7000 0\n",
      "8500 7219\n",
      "9000 7698\n",
      "9331 8000 8000 8000 0\n",
      "9500 8152\n",
      "10000 8611\n",
      "10443 9000 9000 9000 0\n",
      "10500 9056\n",
      "11000 9491\n",
      "11500 9898\n",
      "11635 10000 10000 10000 0\n",
      "12000 10310\n",
      "12500 10697\n",
      "12906 11000 11000 11000 0\n",
      "13000 11072\n",
      "13500 11480\n",
      "14000 11877\n",
      "14171 12000 12000 12000 0\n",
      "14500 12243\n",
      "15000 12596\n",
      "15500 12930\n",
      "15599 13000 13000 13000 0\n",
      "16000 13219\n",
      "16500 13550\n",
      "17000 13869\n",
      "17206 14000 14000 14000 0\n",
      "17500 14188\n",
      "18000 14491\n",
      "18500 14863\n",
      "18688 15000 15000 15000 0\n",
      "19000 15256\n",
      "19500 15665\n",
      "19935 16000 16000 16000 0\n",
      "20000 16037\n",
      "20500 16424\n",
      "21000 16778\n",
      "21297 17000 17000 17000 0\n",
      "21500 17144\n",
      "22000 17476\n",
      "22500 17780\n",
      "22865 18000 18000 18000 0\n",
      "23000 18086\n",
      "23500 18423\n",
      "24000 18732\n",
      "24421 19000 19000 19000 0\n",
      "24500 19057\n",
      "25000 19393\n",
      "25500 19733\n",
      "25903 20000 20000 20000 0\n",
      "26000 20053\n",
      "26500 20395\n",
      "27000 20753\n",
      "27322 21000 21000 21000 0\n",
      "27500 21151\n",
      "28000 21536\n",
      "28500 21913\n",
      "28611 22000 22000 22000 0\n",
      "29000 22303\n",
      "29500 22661\n",
      "30000 22991\n",
      "30009 23000 23000 23000 0\n",
      "30500 23333\n",
      "31000 23625\n",
      "31500 23866\n",
      "31783 24000 24000 24000 0\n",
      "32000 24122\n",
      "32500 24420\n",
      "33000 24727\n",
      "33427 25000 25000 25000 0\n",
      "33500 25040\n",
      "34000 25345\n",
      "34500 25709\n",
      "34890 26000 26000 26000 0\n",
      "35000 26069\n",
      "35500 26436\n",
      "36000 26764\n",
      "36337 27000 27000 27000 0\n",
      "36500 27111\n",
      "37000 27425\n",
      "37500 27755\n",
      "37878 28000 28000 28000 0\n",
      "38000 28072\n",
      "38500 28407\n",
      "39000 28728\n",
      "39416 29000 29000 29000 0\n",
      "39500 29059\n",
      "40000 29384\n",
      "40357 29736 29736 29736 10621 (29736, 201) 1.0\n"
     ]
    },
    {
     "data": {
      "text/html": [
       "<div>\n",
       "<style scoped>\n",
       "    .dataframe tbody tr th:only-of-type {\n",
       "        vertical-align: middle;\n",
       "    }\n",
       "\n",
       "    .dataframe tbody tr th {\n",
       "        vertical-align: top;\n",
       "    }\n",
       "\n",
       "    .dataframe thead th {\n",
       "        text-align: right;\n",
       "    }\n",
       "</style>\n",
       "<table border=\"1\" class=\"dataframe\">\n",
       "  <thead>\n",
       "    <tr style=\"text-align: right;\">\n",
       "      <th></th>\n",
       "      <th>0_num</th>\n",
       "      <th>1_num</th>\n",
       "      <th>2_num</th>\n",
       "      <th>3_num</th>\n",
       "      <th>4_num</th>\n",
       "      <th>5_num</th>\n",
       "      <th>6_num</th>\n",
       "      <th>7_num</th>\n",
       "      <th>8_num</th>\n",
       "      <th>9_num</th>\n",
       "      <th>10_num</th>\n",
       "      <th>11_num</th>\n",
       "      <th>12_num</th>\n",
       "      <th>13_num</th>\n",
       "      <th>14_num</th>\n",
       "      <th>...</th>\n",
       "      <th>86_h</th>\n",
       "      <th>87_h</th>\n",
       "      <th>88_h</th>\n",
       "      <th>89_h</th>\n",
       "      <th>90_h</th>\n",
       "      <th>91_h</th>\n",
       "      <th>92_h</th>\n",
       "      <th>93_h</th>\n",
       "      <th>94_h</th>\n",
       "      <th>95_h</th>\n",
       "      <th>96_h</th>\n",
       "      <th>97_h</th>\n",
       "      <th>98_h</th>\n",
       "      <th>99_h</th>\n",
       "      <th>label</th>\n",
       "    </tr>\n",
       "  </thead>\n",
       "  <tbody>\n",
       "    <tr>\n",
       "      <td>1</td>\n",
       "      <td>0</td>\n",
       "      <td>0</td>\n",
       "      <td>0</td>\n",
       "      <td>0</td>\n",
       "      <td>0</td>\n",
       "      <td>0</td>\n",
       "      <td>0</td>\n",
       "      <td>6</td>\n",
       "      <td>3</td>\n",
       "      <td>1</td>\n",
       "      <td>0</td>\n",
       "      <td>0</td>\n",
       "      <td>0</td>\n",
       "      <td>0</td>\n",
       "      <td>0</td>\n",
       "      <td>...</td>\n",
       "      <td>0.00</td>\n",
       "      <td>0.00</td>\n",
       "      <td>0.00</td>\n",
       "      <td>0.00</td>\n",
       "      <td>0.00</td>\n",
       "      <td>0.55</td>\n",
       "      <td>0.00</td>\n",
       "      <td>0.00</td>\n",
       "      <td>0.00</td>\n",
       "      <td>0.00</td>\n",
       "      <td>0.00</td>\n",
       "      <td>0.0</td>\n",
       "      <td>0.00</td>\n",
       "      <td>0.00</td>\n",
       "      <td>0</td>\n",
       "    </tr>\n",
       "    <tr>\n",
       "      <td>2</td>\n",
       "      <td>0</td>\n",
       "      <td>0</td>\n",
       "      <td>0</td>\n",
       "      <td>0</td>\n",
       "      <td>4</td>\n",
       "      <td>3</td>\n",
       "      <td>0</td>\n",
       "      <td>0</td>\n",
       "      <td>0</td>\n",
       "      <td>0</td>\n",
       "      <td>0</td>\n",
       "      <td>0</td>\n",
       "      <td>0</td>\n",
       "      <td>0</td>\n",
       "      <td>3</td>\n",
       "      <td>...</td>\n",
       "      <td>0.17</td>\n",
       "      <td>0.46</td>\n",
       "      <td>0.21</td>\n",
       "      <td>0.00</td>\n",
       "      <td>0.00</td>\n",
       "      <td>0.00</td>\n",
       "      <td>0.00</td>\n",
       "      <td>0.00</td>\n",
       "      <td>0.00</td>\n",
       "      <td>0.00</td>\n",
       "      <td>0.00</td>\n",
       "      <td>0.0</td>\n",
       "      <td>0.30</td>\n",
       "      <td>0.00</td>\n",
       "      <td>0</td>\n",
       "    </tr>\n",
       "    <tr>\n",
       "      <td>3</td>\n",
       "      <td>1</td>\n",
       "      <td>2</td>\n",
       "      <td>1</td>\n",
       "      <td>1</td>\n",
       "      <td>0</td>\n",
       "      <td>1</td>\n",
       "      <td>0</td>\n",
       "      <td>0</td>\n",
       "      <td>0</td>\n",
       "      <td>0</td>\n",
       "      <td>0</td>\n",
       "      <td>0</td>\n",
       "      <td>0</td>\n",
       "      <td>0</td>\n",
       "      <td>1</td>\n",
       "      <td>...</td>\n",
       "      <td>0.94</td>\n",
       "      <td>0.00</td>\n",
       "      <td>0.00</td>\n",
       "      <td>0.00</td>\n",
       "      <td>0.00</td>\n",
       "      <td>0.00</td>\n",
       "      <td>0.00</td>\n",
       "      <td>0.00</td>\n",
       "      <td>0.67</td>\n",
       "      <td>0.17</td>\n",
       "      <td>0.58</td>\n",
       "      <td>0.0</td>\n",
       "      <td>0.00</td>\n",
       "      <td>0.00</td>\n",
       "      <td>0</td>\n",
       "    </tr>\n",
       "    <tr>\n",
       "      <td>4</td>\n",
       "      <td>0</td>\n",
       "      <td>0</td>\n",
       "      <td>0</td>\n",
       "      <td>0</td>\n",
       "      <td>0</td>\n",
       "      <td>0</td>\n",
       "      <td>0</td>\n",
       "      <td>0</td>\n",
       "      <td>0</td>\n",
       "      <td>0</td>\n",
       "      <td>0</td>\n",
       "      <td>0</td>\n",
       "      <td>0</td>\n",
       "      <td>0</td>\n",
       "      <td>0</td>\n",
       "      <td>...</td>\n",
       "      <td>0.00</td>\n",
       "      <td>0.00</td>\n",
       "      <td>0.00</td>\n",
       "      <td>0.00</td>\n",
       "      <td>0.00</td>\n",
       "      <td>0.17</td>\n",
       "      <td>0.35</td>\n",
       "      <td>0.77</td>\n",
       "      <td>0.00</td>\n",
       "      <td>0.00</td>\n",
       "      <td>0.00</td>\n",
       "      <td>0.0</td>\n",
       "      <td>0.00</td>\n",
       "      <td>0.00</td>\n",
       "      <td>0</td>\n",
       "    </tr>\n",
       "    <tr>\n",
       "      <td>5</td>\n",
       "      <td>0</td>\n",
       "      <td>0</td>\n",
       "      <td>0</td>\n",
       "      <td>0</td>\n",
       "      <td>0</td>\n",
       "      <td>0</td>\n",
       "      <td>0</td>\n",
       "      <td>0</td>\n",
       "      <td>0</td>\n",
       "      <td>0</td>\n",
       "      <td>0</td>\n",
       "      <td>0</td>\n",
       "      <td>0</td>\n",
       "      <td>0</td>\n",
       "      <td>0</td>\n",
       "      <td>...</td>\n",
       "      <td>0.00</td>\n",
       "      <td>0.00</td>\n",
       "      <td>0.00</td>\n",
       "      <td>0.00</td>\n",
       "      <td>0.00</td>\n",
       "      <td>0.00</td>\n",
       "      <td>0.00</td>\n",
       "      <td>0.00</td>\n",
       "      <td>0.00</td>\n",
       "      <td>0.00</td>\n",
       "      <td>0.00</td>\n",
       "      <td>0.0</td>\n",
       "      <td>0.00</td>\n",
       "      <td>0.00</td>\n",
       "      <td>0</td>\n",
       "    </tr>\n",
       "    <tr>\n",
       "      <td>...</td>\n",
       "      <td>...</td>\n",
       "      <td>...</td>\n",
       "      <td>...</td>\n",
       "      <td>...</td>\n",
       "      <td>...</td>\n",
       "      <td>...</td>\n",
       "      <td>...</td>\n",
       "      <td>...</td>\n",
       "      <td>...</td>\n",
       "      <td>...</td>\n",
       "      <td>...</td>\n",
       "      <td>...</td>\n",
       "      <td>...</td>\n",
       "      <td>...</td>\n",
       "      <td>...</td>\n",
       "      <td>...</td>\n",
       "      <td>...</td>\n",
       "      <td>...</td>\n",
       "      <td>...</td>\n",
       "      <td>...</td>\n",
       "      <td>...</td>\n",
       "      <td>...</td>\n",
       "      <td>...</td>\n",
       "      <td>...</td>\n",
       "      <td>...</td>\n",
       "      <td>...</td>\n",
       "      <td>...</td>\n",
       "      <td>...</td>\n",
       "      <td>...</td>\n",
       "      <td>...</td>\n",
       "      <td>...</td>\n",
       "    </tr>\n",
       "    <tr>\n",
       "      <td>29732</td>\n",
       "      <td>1</td>\n",
       "      <td>2</td>\n",
       "      <td>1</td>\n",
       "      <td>1</td>\n",
       "      <td>0</td>\n",
       "      <td>0</td>\n",
       "      <td>0</td>\n",
       "      <td>0</td>\n",
       "      <td>0</td>\n",
       "      <td>1</td>\n",
       "      <td>2</td>\n",
       "      <td>3</td>\n",
       "      <td>0</td>\n",
       "      <td>2</td>\n",
       "      <td>0</td>\n",
       "      <td>...</td>\n",
       "      <td>0.00</td>\n",
       "      <td>0.00</td>\n",
       "      <td>0.00</td>\n",
       "      <td>0.00</td>\n",
       "      <td>0.00</td>\n",
       "      <td>0.00</td>\n",
       "      <td>0.00</td>\n",
       "      <td>0.00</td>\n",
       "      <td>0.00</td>\n",
       "      <td>0.00</td>\n",
       "      <td>0.00</td>\n",
       "      <td>0.0</td>\n",
       "      <td>0.00</td>\n",
       "      <td>0.00</td>\n",
       "      <td>1</td>\n",
       "    </tr>\n",
       "    <tr>\n",
       "      <td>29733</td>\n",
       "      <td>0</td>\n",
       "      <td>0</td>\n",
       "      <td>0</td>\n",
       "      <td>0</td>\n",
       "      <td>0</td>\n",
       "      <td>0</td>\n",
       "      <td>0</td>\n",
       "      <td>0</td>\n",
       "      <td>0</td>\n",
       "      <td>0</td>\n",
       "      <td>0</td>\n",
       "      <td>0</td>\n",
       "      <td>0</td>\n",
       "      <td>0</td>\n",
       "      <td>1</td>\n",
       "      <td>...</td>\n",
       "      <td>0.00</td>\n",
       "      <td>0.00</td>\n",
       "      <td>0.00</td>\n",
       "      <td>0.00</td>\n",
       "      <td>0.00</td>\n",
       "      <td>0.00</td>\n",
       "      <td>0.00</td>\n",
       "      <td>0.00</td>\n",
       "      <td>0.00</td>\n",
       "      <td>0.00</td>\n",
       "      <td>0.00</td>\n",
       "      <td>0.0</td>\n",
       "      <td>0.00</td>\n",
       "      <td>0.00</td>\n",
       "      <td>1</td>\n",
       "    </tr>\n",
       "    <tr>\n",
       "      <td>29734</td>\n",
       "      <td>5</td>\n",
       "      <td>4</td>\n",
       "      <td>3</td>\n",
       "      <td>8</td>\n",
       "      <td>0</td>\n",
       "      <td>0</td>\n",
       "      <td>0</td>\n",
       "      <td>0</td>\n",
       "      <td>0</td>\n",
       "      <td>3</td>\n",
       "      <td>5</td>\n",
       "      <td>4</td>\n",
       "      <td>6</td>\n",
       "      <td>5</td>\n",
       "      <td>0</td>\n",
       "      <td>...</td>\n",
       "      <td>0.00</td>\n",
       "      <td>0.00</td>\n",
       "      <td>0.00</td>\n",
       "      <td>0.14</td>\n",
       "      <td>0.05</td>\n",
       "      <td>0.71</td>\n",
       "      <td>0.00</td>\n",
       "      <td>0.05</td>\n",
       "      <td>0.27</td>\n",
       "      <td>0.00</td>\n",
       "      <td>0.00</td>\n",
       "      <td>0.0</td>\n",
       "      <td>0.07</td>\n",
       "      <td>0.03</td>\n",
       "      <td>1</td>\n",
       "    </tr>\n",
       "    <tr>\n",
       "      <td>29735</td>\n",
       "      <td>0</td>\n",
       "      <td>0</td>\n",
       "      <td>1</td>\n",
       "      <td>0</td>\n",
       "      <td>0</td>\n",
       "      <td>0</td>\n",
       "      <td>1</td>\n",
       "      <td>0</td>\n",
       "      <td>5</td>\n",
       "      <td>1</td>\n",
       "      <td>0</td>\n",
       "      <td>0</td>\n",
       "      <td>0</td>\n",
       "      <td>0</td>\n",
       "      <td>0</td>\n",
       "      <td>...</td>\n",
       "      <td>0.00</td>\n",
       "      <td>0.00</td>\n",
       "      <td>0.00</td>\n",
       "      <td>0.00</td>\n",
       "      <td>0.00</td>\n",
       "      <td>0.00</td>\n",
       "      <td>0.00</td>\n",
       "      <td>0.00</td>\n",
       "      <td>0.00</td>\n",
       "      <td>0.00</td>\n",
       "      <td>0.00</td>\n",
       "      <td>0.0</td>\n",
       "      <td>0.00</td>\n",
       "      <td>0.00</td>\n",
       "      <td>1</td>\n",
       "    </tr>\n",
       "    <tr>\n",
       "      <td>29736</td>\n",
       "      <td>0</td>\n",
       "      <td>0</td>\n",
       "      <td>0</td>\n",
       "      <td>0</td>\n",
       "      <td>0</td>\n",
       "      <td>0</td>\n",
       "      <td>0</td>\n",
       "      <td>0</td>\n",
       "      <td>0</td>\n",
       "      <td>0</td>\n",
       "      <td>0</td>\n",
       "      <td>0</td>\n",
       "      <td>0</td>\n",
       "      <td>0</td>\n",
       "      <td>0</td>\n",
       "      <td>...</td>\n",
       "      <td>0.00</td>\n",
       "      <td>0.00</td>\n",
       "      <td>0.00</td>\n",
       "      <td>0.00</td>\n",
       "      <td>0.00</td>\n",
       "      <td>0.00</td>\n",
       "      <td>0.00</td>\n",
       "      <td>0.00</td>\n",
       "      <td>0.00</td>\n",
       "      <td>0.00</td>\n",
       "      <td>0.00</td>\n",
       "      <td>0.0</td>\n",
       "      <td>0.00</td>\n",
       "      <td>0.01</td>\n",
       "      <td>1</td>\n",
       "    </tr>\n",
       "  </tbody>\n",
       "</table>\n",
       "<p>29736 rows × 201 columns</p>\n",
       "</div>"
      ],
      "text/plain": [
       "       0_num  1_num  2_num  3_num  4_num  5_num  6_num  7_num  8_num  9_num  \\\n",
       "1          0      0      0      0      0      0      0      6      3      1   \n",
       "2          0      0      0      0      4      3      0      0      0      0   \n",
       "3          1      2      1      1      0      1      0      0      0      0   \n",
       "4          0      0      0      0      0      0      0      0      0      0   \n",
       "5          0      0      0      0      0      0      0      0      0      0   \n",
       "...      ...    ...    ...    ...    ...    ...    ...    ...    ...    ...   \n",
       "29732      1      2      1      1      0      0      0      0      0      1   \n",
       "29733      0      0      0      0      0      0      0      0      0      0   \n",
       "29734      5      4      3      8      0      0      0      0      0      3   \n",
       "29735      0      0      1      0      0      0      1      0      5      1   \n",
       "29736      0      0      0      0      0      0      0      0      0      0   \n",
       "\n",
       "       10_num  11_num  12_num  13_num  14_num  ...  86_h  87_h  88_h  89_h  \\\n",
       "1           0       0       0       0       0  ...  0.00  0.00  0.00  0.00   \n",
       "2           0       0       0       0       3  ...  0.17  0.46  0.21  0.00   \n",
       "3           0       0       0       0       1  ...  0.94  0.00  0.00  0.00   \n",
       "4           0       0       0       0       0  ...  0.00  0.00  0.00  0.00   \n",
       "5           0       0       0       0       0  ...  0.00  0.00  0.00  0.00   \n",
       "...       ...     ...     ...     ...     ...  ...   ...   ...   ...   ...   \n",
       "29732       2       3       0       2       0  ...  0.00  0.00  0.00  0.00   \n",
       "29733       0       0       0       0       1  ...  0.00  0.00  0.00  0.00   \n",
       "29734       5       4       6       5       0  ...  0.00  0.00  0.00  0.14   \n",
       "29735       0       0       0       0       0  ...  0.00  0.00  0.00  0.00   \n",
       "29736       0       0       0       0       0  ...  0.00  0.00  0.00  0.00   \n",
       "\n",
       "       90_h  91_h  92_h  93_h  94_h  95_h  96_h  97_h  98_h  99_h  label  \n",
       "1      0.00  0.55  0.00  0.00  0.00  0.00  0.00   0.0  0.00  0.00      0  \n",
       "2      0.00  0.00  0.00  0.00  0.00  0.00  0.00   0.0  0.30  0.00      0  \n",
       "3      0.00  0.00  0.00  0.00  0.67  0.17  0.58   0.0  0.00  0.00      0  \n",
       "4      0.00  0.17  0.35  0.77  0.00  0.00  0.00   0.0  0.00  0.00      0  \n",
       "5      0.00  0.00  0.00  0.00  0.00  0.00  0.00   0.0  0.00  0.00      0  \n",
       "...     ...   ...   ...   ...   ...   ...   ...   ...   ...   ...    ...  \n",
       "29732  0.00  0.00  0.00  0.00  0.00  0.00  0.00   0.0  0.00  0.00      1  \n",
       "29733  0.00  0.00  0.00  0.00  0.00  0.00  0.00   0.0  0.00  0.00      1  \n",
       "29734  0.05  0.71  0.00  0.05  0.27  0.00  0.00   0.0  0.07  0.03      1  \n",
       "29735  0.00  0.00  0.00  0.00  0.00  0.00  0.00   0.0  0.00  0.00      1  \n",
       "29736  0.00  0.00  0.00  0.00  0.00  0.00  0.00   0.0  0.00  0.01      1  \n",
       "\n",
       "[29736 rows x 201 columns]"
      ]
     },
     "execution_count": 11,
     "metadata": {},
     "output_type": "execute_result"
    }
   ],
   "source": [
    "#  limitation à XXX valeurs\n",
    "\n",
    "NN = 0\n",
    "NM = NN + off\n",
    "\n",
    "n_row2 =  10   #TODO mettre le produit des dimension de la matrice image\n",
    "n_col2 =  10\n",
    "N2 = n_row2*n_col2  # N=100\n",
    "\n",
    "#################################################\n",
    "#################################################\n",
    "###   TODO ... regarder l'unicité des 2 listes\n",
    "#################################################\n",
    "#################################################\n",
    "\n",
    "### assemble 2 listes (lampadaires totale + NM * valeurs au hazard ... fichiers unique)\n",
    "#list_lamp0 = list(set(lampes0['nom_NUM'][NN:NM] + list(DALLE_NUM + list_lamp1)))\n",
    "list_lamp0 = list(DALLE_NUM + lampes0['nom_NUM']) + list(DALLE_NUM + lampes1['nom_NUM'])\n",
    "list_lamp1 = list(DALLE_NUM + lampes0['nom_POS'])\n",
    "list_lamp2 = list(DALLE_ECA + lampes0['nom_ECA'])\n",
    "list_lamp0b = list(lampes0['present']) + list(lampes1['present'])\n",
    "print(len(list_lamp0), len(list_lamp0b), len(list_lamp1), len(list_lamp2))\n",
    "\n",
    "if exist(df3):\n",
    "    test = False\n",
    "else:\n",
    "    test = True\n",
    "# si df3 existe déjà  ... MAIS verifier si bon fichier \n",
    "if (df3.shape[0] != off_tot) and test:\n",
    "    (i, j, k) = (0,0,0)\n",
    "    for n,fich1 in enumerate(list_lamp0):\n",
    "        if n%500 == 0:\n",
    "            print(n, i)\n",
    "        fich2 = fich1.replace(\"NumPoints5m\", \"EcartZ5m\")\n",
    "        fich3 = fich1.replace(\"NumPoints5m\", \"Position5m\")\n",
    "        #fiche3 = DALLE_POS+fich3  \n",
    "# fichiers dalles manquantes ???? ... pourquoi ?????\n",
    "        if os.path.exists(fich2):    # \n",
    "            j += 1\n",
    "        if os.path.exists(fich3):    # \n",
    "            k += 1\n",
    "        if os.path.exists(fich1):    # Manque des fichiers sur les 40000\n",
    "            i += 1\n",
    "            if i%1000 == 0:\n",
    "                print(n+1, i, j, k, list_lamp0b[n])\n",
    "            data1 = np.reshape(imageio.imread(fich1), N2) #.flatten()\n",
    "            data1T = np.expand_dims(data1, axis=0)\n",
    "            data2 = np.reshape(imageio.imread(fich2), N2)\n",
    "            data2T = np.expand_dims(data2, axis=0)\n",
    "            #data3 = np.reshape(imageio.imread(fiche3), N2)\n",
    "            #data3T = np.expand_dims(data3, axis=0)\n",
    "            #print(i, data1T.shape, data2T.shape, data3T.shape)\n",
    "            df_int1 = pd.DataFrame(data1T, index=[i])  #, index=indices)\n",
    "            df_int2 = pd.DataFrame(data2T, index=[i])  \n",
    "            #df_int3 = pd.DataFrame(data3T, index=[i])\n",
    "            # MERGE \n",
    "            #df_inta = df_int1.merge(df_int2, left_index=True, right_index=True, suffixes=('_num', '_h'))\n",
    "            #df_int = df_inta.merge(df_int3, left_index=True, right_index=True)\n",
    "            df_int = df_int1.merge(df_int2, left_index=True, right_index=True, suffixes=('_num', '_h'))\n",
    "            df_int['label'] = list_lamp0b[n]    #\n",
    "            if i == 1:\n",
    "                #print(dataT)\n",
    "                df3 = df_int\n",
    "            else:\n",
    "                df3 = pd.concat([df3, df_int])\n",
    "        else:\n",
    "            pass     #print(fiche1, fich2)\n",
    "    if i > 0:\n",
    "        print(n+1, i,j,k, n+1-i, df3.shape, df3.shape[0]/i)\n",
    "    \n",
    "    # change pour des entiers et pas des nombres flottant \n",
    "    for n in range(0,N2):\n",
    "        df3 = df3.astype({str(n)+'_num': 'int8'}, copy=False)\n",
    "    #print(df3.dtypes)\n",
    "df3\n",
    "\n",
    "#  TODO rajouter une colonne de présence ( comparer avec SORTIE :  0 ou 1)\n",
    "#####################################################\n",
    "#  remplir une colonne de zéro\n",
    "#  puis boucler sur les N=357 valeurs pour indiquer la présence d'un lampadaire\n",
    "#####################################################\n",
    "#  puis faire 100 sorties 0-1 pour  les 100 positions"
   ]
  },
  {
   "cell_type": "code",
   "execution_count": 12,
   "metadata": {
    "ExecuteTime": {
     "end_time": "2020-03-09T21:26:27.672822Z",
     "start_time": "2020-03-09T21:26:27.079475Z"
    },
    "slideshow": {
     "slide_type": "skip"
    }
   },
   "outputs": [
    {
     "data": {
      "text/html": [
       "<div>\n",
       "<style scoped>\n",
       "    .dataframe tbody tr th:only-of-type {\n",
       "        vertical-align: middle;\n",
       "    }\n",
       "\n",
       "    .dataframe tbody tr th {\n",
       "        vertical-align: top;\n",
       "    }\n",
       "\n",
       "    .dataframe thead th {\n",
       "        text-align: right;\n",
       "    }\n",
       "</style>\n",
       "<table border=\"1\" class=\"dataframe\">\n",
       "  <thead>\n",
       "    <tr style=\"text-align: right;\">\n",
       "      <th></th>\n",
       "      <th>count</th>\n",
       "      <th>mean</th>\n",
       "      <th>std</th>\n",
       "      <th>val</th>\n",
       "    </tr>\n",
       "  </thead>\n",
       "  <tbody>\n",
       "    <tr>\n",
       "      <td>0_num</td>\n",
       "      <td>29736.0</td>\n",
       "      <td>0.875874</td>\n",
       "      <td>1.766939</td>\n",
       "      <td>26045.00</td>\n",
       "    </tr>\n",
       "    <tr>\n",
       "      <td>1_num</td>\n",
       "      <td>29736.0</td>\n",
       "      <td>0.875000</td>\n",
       "      <td>1.753925</td>\n",
       "      <td>26019.00</td>\n",
       "    </tr>\n",
       "    <tr>\n",
       "      <td>2_num</td>\n",
       "      <td>29736.0</td>\n",
       "      <td>0.862355</td>\n",
       "      <td>1.735122</td>\n",
       "      <td>25643.00</td>\n",
       "    </tr>\n",
       "    <tr>\n",
       "      <td>3_num</td>\n",
       "      <td>29736.0</td>\n",
       "      <td>0.868510</td>\n",
       "      <td>1.753690</td>\n",
       "      <td>25826.00</td>\n",
       "    </tr>\n",
       "    <tr>\n",
       "      <td>4_num</td>\n",
       "      <td>29736.0</td>\n",
       "      <td>0.863499</td>\n",
       "      <td>1.744741</td>\n",
       "      <td>25677.00</td>\n",
       "    </tr>\n",
       "    <tr>\n",
       "      <td>...</td>\n",
       "      <td>...</td>\n",
       "      <td>...</td>\n",
       "      <td>...</td>\n",
       "      <td>...</td>\n",
       "    </tr>\n",
       "    <tr>\n",
       "      <td>96_h</td>\n",
       "      <td>29736.0</td>\n",
       "      <td>0.127799</td>\n",
       "      <td>0.624246</td>\n",
       "      <td>3800.24</td>\n",
       "    </tr>\n",
       "    <tr>\n",
       "      <td>97_h</td>\n",
       "      <td>29736.0</td>\n",
       "      <td>0.129080</td>\n",
       "      <td>0.611349</td>\n",
       "      <td>3838.33</td>\n",
       "    </tr>\n",
       "    <tr>\n",
       "      <td>98_h</td>\n",
       "      <td>29736.0</td>\n",
       "      <td>0.130893</td>\n",
       "      <td>0.617141</td>\n",
       "      <td>3892.23</td>\n",
       "    </tr>\n",
       "    <tr>\n",
       "      <td>99_h</td>\n",
       "      <td>29736.0</td>\n",
       "      <td>0.124229</td>\n",
       "      <td>0.594682</td>\n",
       "      <td>3694.08</td>\n",
       "    </tr>\n",
       "    <tr>\n",
       "      <td>label</td>\n",
       "      <td>29736.0</td>\n",
       "      <td>0.023675</td>\n",
       "      <td>0.152037</td>\n",
       "      <td>704.00</td>\n",
       "    </tr>\n",
       "  </tbody>\n",
       "</table>\n",
       "<p>201 rows × 4 columns</p>\n",
       "</div>"
      ],
      "text/plain": [
       "         count      mean       std       val\n",
       "0_num  29736.0  0.875874  1.766939  26045.00\n",
       "1_num  29736.0  0.875000  1.753925  26019.00\n",
       "2_num  29736.0  0.862355  1.735122  25643.00\n",
       "3_num  29736.0  0.868510  1.753690  25826.00\n",
       "4_num  29736.0  0.863499  1.744741  25677.00\n",
       "...        ...       ...       ...       ...\n",
       "96_h   29736.0  0.127799  0.624246   3800.24\n",
       "97_h   29736.0  0.129080  0.611349   3838.33\n",
       "98_h   29736.0  0.130893  0.617141   3892.23\n",
       "99_h   29736.0  0.124229  0.594682   3694.08\n",
       "label  29736.0  0.023675  0.152037    704.00\n",
       "\n",
       "[201 rows x 4 columns]"
      ]
     },
     "execution_count": 12,
     "metadata": {},
     "output_type": "execute_result"
    }
   ],
   "source": [
    "df3_total = df3.copy()\n",
    "\n",
    "testD = df3_total.describe()[:3].T\n",
    "testD['val'] = (testD['count'] * testD['mean'])\n",
    "testD"
   ]
  },
  {
   "cell_type": "code",
   "execution_count": 13,
   "metadata": {
    "ExecuteTime": {
     "end_time": "2020-03-09T21:26:33.784414Z",
     "start_time": "2020-03-09T21:26:29.046854Z"
    },
    "slideshow": {
     "slide_type": "skip"
    }
   },
   "outputs": [
    {
     "name": "stdout",
     "output_type": "stream",
     "text": [
      "(29736, 201)\n"
     ]
    }
   ],
   "source": [
    "test = True\n",
    "#test = False\n",
    "\n",
    "# Sauvegarde du fichier total \n",
    "\n",
    "if test:\n",
    "    fileSAVE = DATA_DIR3 + \"donnees_LAS_1k_1k.csv\"\n",
    "    #fileSAVE = DATA_DIR3 + \"donnees_IMAC_LAS_1k_1k.csv\"\n",
    "    df3.to_csv(fileSAVE, index=False)\n",
    "\n",
    "print(df3_total.shape)"
   ]
  },
  {
   "cell_type": "code",
   "execution_count": null,
   "metadata": {
    "slideshow": {
     "slide_type": "skip"
    }
   },
   "outputs": [],
   "source": []
  },
  {
   "cell_type": "markdown",
   "metadata": {
    "slideshow": {
     "slide_type": "skip"
    }
   },
   "source": [
    "# KERAS - TENSORFLOW"
   ]
  },
  {
   "cell_type": "markdown",
   "metadata": {
    "slideshow": {
     "slide_type": "skip"
    }
   },
   "source": [
    "## Lecture du fichier de données"
   ]
  },
  {
   "cell_type": "code",
   "execution_count": 14,
   "metadata": {
    "ExecuteTime": {
     "end_time": "2020-03-09T21:26:40.560505Z",
     "start_time": "2020-03-09T21:26:39.756470Z"
    },
    "slideshow": {
     "slide_type": "skip"
    }
   },
   "outputs": [
    {
     "name": "stdout",
     "output_type": "stream",
     "text": [
      "<module 'tensorflow._api.v1.keras.datasets' from '/Users/pl/anaconda3/lib/python3.7/site-packages/tensorflow/_api/v1/keras/datasets/__init__.py'>\n"
     ]
    },
    {
     "data": {
      "text/html": [
       "<div>\n",
       "<style scoped>\n",
       "    .dataframe tbody tr th:only-of-type {\n",
       "        vertical-align: middle;\n",
       "    }\n",
       "\n",
       "    .dataframe tbody tr th {\n",
       "        vertical-align: top;\n",
       "    }\n",
       "\n",
       "    .dataframe thead th {\n",
       "        text-align: right;\n",
       "    }\n",
       "</style>\n",
       "<table border=\"1\" class=\"dataframe\">\n",
       "  <thead>\n",
       "    <tr style=\"text-align: right;\">\n",
       "      <th></th>\n",
       "      <th>0_num</th>\n",
       "      <th>1_num</th>\n",
       "      <th>2_num</th>\n",
       "      <th>3_num</th>\n",
       "      <th>4_num</th>\n",
       "      <th>5_num</th>\n",
       "      <th>6_num</th>\n",
       "      <th>7_num</th>\n",
       "      <th>8_num</th>\n",
       "      <th>9_num</th>\n",
       "      <th>10_num</th>\n",
       "      <th>11_num</th>\n",
       "      <th>12_num</th>\n",
       "      <th>13_num</th>\n",
       "      <th>14_num</th>\n",
       "      <th>...</th>\n",
       "      <th>86_h</th>\n",
       "      <th>87_h</th>\n",
       "      <th>88_h</th>\n",
       "      <th>89_h</th>\n",
       "      <th>90_h</th>\n",
       "      <th>91_h</th>\n",
       "      <th>92_h</th>\n",
       "      <th>93_h</th>\n",
       "      <th>94_h</th>\n",
       "      <th>95_h</th>\n",
       "      <th>96_h</th>\n",
       "      <th>97_h</th>\n",
       "      <th>98_h</th>\n",
       "      <th>99_h</th>\n",
       "      <th>label</th>\n",
       "    </tr>\n",
       "  </thead>\n",
       "  <tbody>\n",
       "    <tr>\n",
       "      <td>0</td>\n",
       "      <td>0</td>\n",
       "      <td>0</td>\n",
       "      <td>0</td>\n",
       "      <td>0</td>\n",
       "      <td>0</td>\n",
       "      <td>0</td>\n",
       "      <td>0</td>\n",
       "      <td>6</td>\n",
       "      <td>3</td>\n",
       "      <td>1</td>\n",
       "      <td>0</td>\n",
       "      <td>0</td>\n",
       "      <td>0</td>\n",
       "      <td>0</td>\n",
       "      <td>0</td>\n",
       "      <td>...</td>\n",
       "      <td>0.00</td>\n",
       "      <td>0.00</td>\n",
       "      <td>0.00</td>\n",
       "      <td>0.0</td>\n",
       "      <td>0.0</td>\n",
       "      <td>0.55</td>\n",
       "      <td>0.0</td>\n",
       "      <td>0.0</td>\n",
       "      <td>0.0</td>\n",
       "      <td>0.0</td>\n",
       "      <td>0.0</td>\n",
       "      <td>0.0</td>\n",
       "      <td>0.0</td>\n",
       "      <td>0.0</td>\n",
       "      <td>0</td>\n",
       "    </tr>\n",
       "    <tr>\n",
       "      <td>1</td>\n",
       "      <td>0</td>\n",
       "      <td>0</td>\n",
       "      <td>0</td>\n",
       "      <td>0</td>\n",
       "      <td>4</td>\n",
       "      <td>3</td>\n",
       "      <td>0</td>\n",
       "      <td>0</td>\n",
       "      <td>0</td>\n",
       "      <td>0</td>\n",
       "      <td>0</td>\n",
       "      <td>0</td>\n",
       "      <td>0</td>\n",
       "      <td>0</td>\n",
       "      <td>3</td>\n",
       "      <td>...</td>\n",
       "      <td>0.17</td>\n",
       "      <td>0.46</td>\n",
       "      <td>0.21</td>\n",
       "      <td>0.0</td>\n",
       "      <td>0.0</td>\n",
       "      <td>0.00</td>\n",
       "      <td>0.0</td>\n",
       "      <td>0.0</td>\n",
       "      <td>0.0</td>\n",
       "      <td>0.0</td>\n",
       "      <td>0.0</td>\n",
       "      <td>0.0</td>\n",
       "      <td>0.3</td>\n",
       "      <td>0.0</td>\n",
       "      <td>0</td>\n",
       "    </tr>\n",
       "  </tbody>\n",
       "</table>\n",
       "<p>2 rows × 201 columns</p>\n",
       "</div>"
      ],
      "text/plain": [
       "   0_num  1_num  2_num  3_num  4_num  5_num  6_num  7_num  8_num  9_num  \\\n",
       "0      0      0      0      0      0      0      0      6      3      1   \n",
       "1      0      0      0      0      4      3      0      0      0      0   \n",
       "\n",
       "   10_num  11_num  12_num  13_num  14_num  ...  86_h  87_h  88_h  89_h  90_h  \\\n",
       "0       0       0       0       0       0  ...  0.00  0.00  0.00   0.0   0.0   \n",
       "1       0       0       0       0       3  ...  0.17  0.46  0.21   0.0   0.0   \n",
       "\n",
       "   91_h  92_h  93_h  94_h  95_h  96_h  97_h  98_h  99_h  label  \n",
       "0  0.55   0.0   0.0   0.0   0.0   0.0   0.0   0.0   0.0      0  \n",
       "1  0.00   0.0   0.0   0.0   0.0   0.0   0.0   0.3   0.0      0  \n",
       "\n",
       "[2 rows x 201 columns]"
      ]
     },
     "execution_count": 14,
     "metadata": {},
     "output_type": "execute_result"
    }
   ],
   "source": [
    "print(tf.keras.datasets)\n",
    "if platform.system() == 'Darwin' and platform.release() == '18.0.0':\n",
    "    df4 = pd.read_csv(DATA_DIR3 + \"donnees_IMAC_LAS_1k_1k.csv\")\n",
    "else:\n",
    "    df4 = pd.read_csv(DATA_DIR3 + \"donnees_LAS_1k_1k.csv\")\n",
    "df4.head(2)"
   ]
  },
  {
   "cell_type": "markdown",
   "metadata": {
    "slideshow": {
     "slide_type": "skip"
    }
   },
   "source": [
    "### Rajouter des lampadaires pour améliorer l'entrainement"
   ]
  },
  {
   "cell_type": "code",
   "execution_count": 15,
   "metadata": {
    "ExecuteTime": {
     "end_time": "2020-03-09T21:26:43.017147Z",
     "start_time": "2020-03-09T21:26:42.726613Z"
    },
    "slideshow": {
     "slide_type": "skip"
    }
   },
   "outputs": [
    {
     "name": "stdout",
     "output_type": "stream",
     "text": [
      "(29736, 201) 29736 704 42\n",
      "(59304, 201)\n"
     ]
    },
    {
     "data": {
      "text/html": [
       "<div>\n",
       "<style scoped>\n",
       "    .dataframe tbody tr th:only-of-type {\n",
       "        vertical-align: middle;\n",
       "    }\n",
       "\n",
       "    .dataframe tbody tr th {\n",
       "        vertical-align: top;\n",
       "    }\n",
       "\n",
       "    .dataframe thead th {\n",
       "        text-align: right;\n",
       "    }\n",
       "</style>\n",
       "<table border=\"1\" class=\"dataframe\">\n",
       "  <thead>\n",
       "    <tr style=\"text-align: right;\">\n",
       "      <th></th>\n",
       "      <th>0_num</th>\n",
       "      <th>1_num</th>\n",
       "      <th>2_num</th>\n",
       "      <th>3_num</th>\n",
       "      <th>4_num</th>\n",
       "      <th>5_num</th>\n",
       "      <th>6_num</th>\n",
       "      <th>7_num</th>\n",
       "      <th>8_num</th>\n",
       "      <th>9_num</th>\n",
       "      <th>10_num</th>\n",
       "      <th>11_num</th>\n",
       "      <th>12_num</th>\n",
       "      <th>13_num</th>\n",
       "      <th>14_num</th>\n",
       "      <th>...</th>\n",
       "      <th>86_h</th>\n",
       "      <th>87_h</th>\n",
       "      <th>88_h</th>\n",
       "      <th>89_h</th>\n",
       "      <th>90_h</th>\n",
       "      <th>91_h</th>\n",
       "      <th>92_h</th>\n",
       "      <th>93_h</th>\n",
       "      <th>94_h</th>\n",
       "      <th>95_h</th>\n",
       "      <th>96_h</th>\n",
       "      <th>97_h</th>\n",
       "      <th>98_h</th>\n",
       "      <th>99_h</th>\n",
       "      <th>label</th>\n",
       "    </tr>\n",
       "  </thead>\n",
       "  <tbody>\n",
       "    <tr>\n",
       "      <td>0</td>\n",
       "      <td>0</td>\n",
       "      <td>0</td>\n",
       "      <td>0</td>\n",
       "      <td>0</td>\n",
       "      <td>0</td>\n",
       "      <td>0</td>\n",
       "      <td>0</td>\n",
       "      <td>0</td>\n",
       "      <td>0</td>\n",
       "      <td>0</td>\n",
       "      <td>0</td>\n",
       "      <td>0</td>\n",
       "      <td>0</td>\n",
       "      <td>0</td>\n",
       "      <td>0</td>\n",
       "      <td>...</td>\n",
       "      <td>0.0</td>\n",
       "      <td>0.0</td>\n",
       "      <td>0.0</td>\n",
       "      <td>0.0</td>\n",
       "      <td>0.0</td>\n",
       "      <td>0.0</td>\n",
       "      <td>0.0</td>\n",
       "      <td>0.0</td>\n",
       "      <td>0.0</td>\n",
       "      <td>0.0</td>\n",
       "      <td>0.0</td>\n",
       "      <td>0.0</td>\n",
       "      <td>0.0</td>\n",
       "      <td>0.0</td>\n",
       "      <td>0</td>\n",
       "    </tr>\n",
       "    <tr>\n",
       "      <td>1</td>\n",
       "      <td>0</td>\n",
       "      <td>0</td>\n",
       "      <td>0</td>\n",
       "      <td>0</td>\n",
       "      <td>0</td>\n",
       "      <td>0</td>\n",
       "      <td>0</td>\n",
       "      <td>0</td>\n",
       "      <td>0</td>\n",
       "      <td>0</td>\n",
       "      <td>0</td>\n",
       "      <td>0</td>\n",
       "      <td>0</td>\n",
       "      <td>0</td>\n",
       "      <td>0</td>\n",
       "      <td>...</td>\n",
       "      <td>0.0</td>\n",
       "      <td>0.0</td>\n",
       "      <td>0.0</td>\n",
       "      <td>0.0</td>\n",
       "      <td>0.0</td>\n",
       "      <td>0.0</td>\n",
       "      <td>0.0</td>\n",
       "      <td>0.0</td>\n",
       "      <td>0.0</td>\n",
       "      <td>0.0</td>\n",
       "      <td>0.0</td>\n",
       "      <td>0.0</td>\n",
       "      <td>0.0</td>\n",
       "      <td>0.0</td>\n",
       "      <td>0</td>\n",
       "    </tr>\n",
       "    <tr>\n",
       "      <td>2</td>\n",
       "      <td>0</td>\n",
       "      <td>0</td>\n",
       "      <td>0</td>\n",
       "      <td>0</td>\n",
       "      <td>0</td>\n",
       "      <td>0</td>\n",
       "      <td>0</td>\n",
       "      <td>0</td>\n",
       "      <td>0</td>\n",
       "      <td>0</td>\n",
       "      <td>0</td>\n",
       "      <td>0</td>\n",
       "      <td>0</td>\n",
       "      <td>0</td>\n",
       "      <td>1</td>\n",
       "      <td>...</td>\n",
       "      <td>0.0</td>\n",
       "      <td>0.0</td>\n",
       "      <td>0.0</td>\n",
       "      <td>0.0</td>\n",
       "      <td>0.0</td>\n",
       "      <td>0.0</td>\n",
       "      <td>0.0</td>\n",
       "      <td>0.0</td>\n",
       "      <td>0.0</td>\n",
       "      <td>0.0</td>\n",
       "      <td>0.0</td>\n",
       "      <td>0.0</td>\n",
       "      <td>0.0</td>\n",
       "      <td>0.0</td>\n",
       "      <td>0</td>\n",
       "    </tr>\n",
       "  </tbody>\n",
       "</table>\n",
       "<p>3 rows × 201 columns</p>\n",
       "</div>"
      ],
      "text/plain": [
       "   0_num  1_num  2_num  3_num  4_num  5_num  6_num  7_num  8_num  9_num  \\\n",
       "0      0      0      0      0      0      0      0      0      0      0   \n",
       "1      0      0      0      0      0      0      0      0      0      0   \n",
       "2      0      0      0      0      0      0      0      0      0      0   \n",
       "\n",
       "   10_num  11_num  12_num  13_num  14_num  ...  86_h  87_h  88_h  89_h  90_h  \\\n",
       "0       0       0       0       0       0  ...   0.0   0.0   0.0   0.0   0.0   \n",
       "1       0       0       0       0       0  ...   0.0   0.0   0.0   0.0   0.0   \n",
       "2       0       0       0       0       1  ...   0.0   0.0   0.0   0.0   0.0   \n",
       "\n",
       "   91_h  92_h  93_h  94_h  95_h  96_h  97_h  98_h  99_h  label  \n",
       "0   0.0   0.0   0.0   0.0   0.0   0.0   0.0   0.0   0.0      0  \n",
       "1   0.0   0.0   0.0   0.0   0.0   0.0   0.0   0.0   0.0      0  \n",
       "2   0.0   0.0   0.0   0.0   0.0   0.0   0.0   0.0   0.0      0  \n",
       "\n",
       "[3 rows x 201 columns]"
      ]
     },
     "execution_count": 15,
     "metadata": {},
     "output_type": "execute_result"
    }
   ],
   "source": [
    "df4b = df4[df4['label'] != 0]\n",
    "\n",
    "mult = int(df4.shape[0] / df4b.shape[0])\n",
    "print(df4.shape, df4.shape[0], df4b.shape[0], mult)\n",
    "\n",
    "#df = pd.concat([df] * a + [df.iloc[[-1]]] * b).sort_values('col1').reset_index(drop=True)\n",
    "\n",
    "df5 = pd.concat([df4b] * mult + [df4]).sort_values('label').reset_index(drop=True)\n",
    "print(df5.shape)\n",
    "df5.head(3)"
   ]
  },
  {
   "cell_type": "markdown",
   "metadata": {
    "slideshow": {
     "slide_type": "skip"
    }
   },
   "source": [
    "### Changement de la classe en categorial"
   ]
  },
  {
   "cell_type": "code",
   "execution_count": 16,
   "metadata": {
    "ExecuteTime": {
     "end_time": "2020-03-09T21:26:48.277870Z",
     "start_time": "2020-03-09T21:26:46.101168Z"
    },
    "slideshow": {
     "slide_type": "skip"
    }
   },
   "outputs": [],
   "source": [
    "from sklearn.model_selection import train_test_split \n",
    "from keras.utils import to_categorical\n",
    "\n",
    "# Charge et split les données\n",
    "X = df5.iloc[:,:-1]\n",
    "y = df5.iloc[:,-1]\n",
    "y_binary = to_categorical(y)"
   ]
  },
  {
   "cell_type": "markdown",
   "metadata": {
    "slideshow": {
     "slide_type": "skip"
    }
   },
   "source": [
    "### Séparation Train - Test"
   ]
  },
  {
   "cell_type": "code",
   "execution_count": 17,
   "metadata": {
    "ExecuteTime": {
     "end_time": "2020-03-09T21:26:51.006570Z",
     "start_time": "2020-03-09T21:26:50.579178Z"
    },
    "slideshow": {
     "slide_type": "skip"
    }
   },
   "outputs": [
    {
     "name": "stdout",
     "output_type": "stream",
     "text": [
      "(47443, 200) (47443, 2) (11861, 200) (11861, 2) (59304, 2) (59304,)\n"
     ]
    }
   ],
   "source": [
    "train_data, test_data, train_labels, test_labels = train_test_split(\n",
    "    X, y_binary, test_size=0.2, random_state=42, stratify=y_binary)\n",
    "#    X, y, test_size=0.2, random_state=42, stratify=y)\n",
    "\n",
    "print(train_data.shape, train_labels.shape, test_data.shape, test_labels.shape, y_binary.shape, y.shape)"
   ]
  },
  {
   "cell_type": "code",
   "execution_count": null,
   "metadata": {},
   "outputs": [],
   "source": []
  },
  {
   "cell_type": "markdown",
   "metadata": {
    "ExecuteTime": {
     "end_time": "2020-02-27T11:18:54.716836Z",
     "start_time": "2020-02-27T11:18:54.653211Z"
    },
    "slideshow": {
     "slide_type": "skip"
    }
   },
   "source": [
    "## Création d'un Modèle Réseau de Neurone \"SIMPLE\""
   ]
  },
  {
   "cell_type": "raw",
   "metadata": {
    "ExecuteTime": {
     "end_time": "2020-03-03T08:46:00.479683Z",
     "start_time": "2020-03-03T08:45:24.419540Z"
    },
    "slideshow": {
     "slide_type": "skip"
    }
   },
   "source": [
    "Nomb_Input = 200\n",
    "\n",
    "M = 64    # 512-256-128-64-32 ? \n",
    "epochs = 20\n",
    "batch_size = 64\n",
    "num_class = 2\n",
    "\n",
    "# ou model = Sequential() + model.add(Dense(N)) + model.add(Dropout(0.5)) + model.add(Activation('softmax'))\n",
    "model0 = Sequential([\n",
    "    Dense(M, activation='relu', input_shape=(Nomb_Input,train_data.shape(1))),\n",
    "    Dropout(0.5),\n",
    "    Dense(M, activation='relu'),\n",
    "    Dense(M, activation='relu'), #model.add(Dropout(0.2))\n",
    "    Dropout(0.2),\n",
    "#    Dense(num_class, activation='softmax')   #  ou sigmoid\n",
    "    Dense(num_class, activation='sigmoid')  #, output_dim=1)\n",
    "])\n",
    "\n",
    "#    https://keras.io/losses \n",
    "#  loss fonctions: categorical_crossentropy, sparse_categorical_crossentropy, mean_squared_error ... etc\n",
    "#  optimizer: 'sgd', 'adam', keras.optimizers.SGD(lr=0.01, momentum=0.9, nesterov=True)\n",
    "\n",
    "model0.compile(loss=\"binary_crossentropy\", optimizer='adam',\n",
    " metrics=['msle', 'accuracy', 'mean_squared_error', 'binary_accuracy', 'categorical_accuracy'])\n",
    "# NOT loss=\"categorical_crossentropy\",'mean_squared_error'\n",
    "# NOT optimizer='sgd' \n",
    "# NOT metrics=['accuracy', 'mse', 'acc', 'categorical_accuracy',\n",
    "# 'sparse_categorical_accuracy', 'top_k_categorical_accuracy',\n",
    "# 'sparse_top_k_categorical_accuracy', 'cosine_proximity', 'clone_metric','clone_metrics']\n",
    "# ['binary_accuracy', 'fmeasure', 'precision', 'recall'])\n",
    "# Print with verbose=2 ???\n",
    "\n",
    "model0.summary()\n",
    "\n",
    "history0 = model0.fit(train_data, train_labels, validation_split=0.33, verbose=2, epochs=epochs, batch_size=batch_size)\n"
   ]
  },
  {
   "cell_type": "code",
   "execution_count": 18,
   "metadata": {
    "ExecuteTime": {
     "end_time": "2020-03-09T21:26:55.933663Z",
     "start_time": "2020-03-09T21:26:55.866571Z"
    },
    "slideshow": {
     "slide_type": "skip"
    }
   },
   "outputs": [
    {
     "name": "stdout",
     "output_type": "stream",
     "text": [
      "train (47443, 200) (11861, 200)\n",
      "(47443, 2)\n"
     ]
    }
   ],
   "source": [
    "print(\"train\", train_data.shape, test_data.shape)\n",
    "print(train_labels.shape)"
   ]
  },
  {
   "cell_type": "code",
   "execution_count": 19,
   "metadata": {
    "ExecuteTime": {
     "end_time": "2020-03-09T21:30:35.984616Z",
     "start_time": "2020-03-09T21:27:05.935705Z"
    },
    "slideshow": {
     "slide_type": ""
    }
   },
   "outputs": [
    {
     "name": "stdout",
     "output_type": "stream",
     "text": [
      "WARNING:tensorflow:From /Users/pl/anaconda3/lib/python3.7/site-packages/tensorflow/python/ops/resource_variable_ops.py:435: colocate_with (from tensorflow.python.framework.ops) is deprecated and will be removed in a future version.\n",
      "Instructions for updating:\n",
      "Colocations handled automatically by placer.\n",
      "Model: \"sequential_1\"\n",
      "_________________________________________________________________\n",
      "Layer (type)                 Output Shape              Param #   \n",
      "=================================================================\n",
      "conv1d_1 (Conv1D)            (None, 198, 32)           128       \n",
      "_________________________________________________________________\n",
      "max_pooling1d_1 (MaxPooling1 (None, 99, 32)            0         \n",
      "_________________________________________________________________\n",
      "conv1d_2 (Conv1D)            (None, 97, 64)            6208      \n",
      "_________________________________________________________________\n",
      "max_pooling1d_2 (MaxPooling1 (None, 48, 64)            0         \n",
      "_________________________________________________________________\n",
      "flatten_1 (Flatten)          (None, 3072)              0         \n",
      "_________________________________________________________________\n",
      "dense_1 (Dense)              (None, 50)                153650    \n",
      "_________________________________________________________________\n",
      "dense_2 (Dense)              (None, 2)                 102       \n",
      "=================================================================\n",
      "Total params: 160,088\n",
      "Trainable params: 160,088\n",
      "Non-trainable params: 0\n",
      "_________________________________________________________________\n",
      "WARNING:tensorflow:From /Users/pl/anaconda3/lib/python3.7/site-packages/tensorflow/python/ops/math_ops.py:3066: to_int32 (from tensorflow.python.ops.math_ops) is deprecated and will be removed in a future version.\n",
      "Instructions for updating:\n",
      "Use tf.cast instead.\n",
      "Train on 31786 samples, validate on 15657 samples\n",
      "Epoch 1/30\n",
      " - 8s - loss: 0.3022 - accuracy: 0.8699 - val_loss: 0.1206 - val_accuracy: 0.9578\n",
      "Epoch 2/30\n",
      " - 7s - loss: 0.0613 - accuracy: 0.9822 - val_loss: 0.0569 - val_accuracy: 0.9841\n",
      "Epoch 3/30\n",
      " - 7s - loss: 0.0288 - accuracy: 0.9930 - val_loss: 0.0568 - val_accuracy: 0.9892\n",
      "Epoch 4/30\n",
      " - 7s - loss: 0.0395 - accuracy: 0.9934 - val_loss: 0.0936 - val_accuracy: 0.9786\n",
      "Epoch 5/30\n",
      " - 7s - loss: 0.0346 - accuracy: 0.9956 - val_loss: 0.0946 - val_accuracy: 0.9771\n",
      "Epoch 6/30\n",
      " - 7s - loss: 0.0139 - accuracy: 0.9964 - val_loss: 0.0265 - val_accuracy: 0.9930\n",
      "Epoch 7/30\n",
      " - 7s - loss: 0.0221 - accuracy: 0.9960 - val_loss: 0.0571 - val_accuracy: 0.9899\n",
      "Epoch 8/30\n",
      " - 7s - loss: 0.0296 - accuracy: 0.9963 - val_loss: 0.0627 - val_accuracy: 0.9896\n",
      "Epoch 9/30\n",
      " - 7s - loss: 0.0301 - accuracy: 0.9963 - val_loss: 0.0757 - val_accuracy: 0.9869\n",
      "Epoch 10/30\n",
      " - 7s - loss: 0.0324 - accuracy: 0.9958 - val_loss: 0.0538 - val_accuracy: 0.9917\n",
      "Epoch 11/30\n",
      " - 7s - loss: 0.0300 - accuracy: 0.9968 - val_loss: 0.0522 - val_accuracy: 0.9917\n",
      "Epoch 12/30\n",
      " - 7s - loss: 0.0249 - accuracy: 0.9980 - val_loss: 0.0481 - val_accuracy: 0.9935\n",
      "Epoch 13/30\n",
      " - 7s - loss: 0.0235 - accuracy: 0.9982 - val_loss: 0.0477 - val_accuracy: 0.9933\n",
      "Epoch 14/30\n",
      " - 7s - loss: 0.0234 - accuracy: 0.9982 - val_loss: 0.0461 - val_accuracy: 0.9936\n",
      "Epoch 15/30\n",
      " - 7s - loss: 0.0356 - accuracy: 0.9951 - val_loss: 0.0536 - val_accuracy: 0.9924\n",
      "Epoch 16/30\n",
      " - 7s - loss: 0.0283 - accuracy: 0.9969 - val_loss: 0.0481 - val_accuracy: 0.9935\n",
      "Epoch 17/30\n",
      " - 7s - loss: 0.0256 - accuracy: 0.9977 - val_loss: 0.0463 - val_accuracy: 0.9937\n",
      "Epoch 18/30\n",
      " - 7s - loss: 0.0233 - accuracy: 0.9983 - val_loss: 0.0456 - val_accuracy: 0.9939\n",
      "Epoch 19/30\n",
      " - 7s - loss: 0.0231 - accuracy: 0.9983 - val_loss: 0.0483 - val_accuracy: 0.9937\n",
      "Epoch 20/30\n",
      " - 7s - loss: 0.0232 - accuracy: 0.9983 - val_loss: 0.0488 - val_accuracy: 0.9931\n",
      "Epoch 21/30\n",
      " - 7s - loss: 0.0323 - accuracy: 0.9962 - val_loss: 0.1016 - val_accuracy: 0.9847\n",
      "Epoch 22/30\n",
      " - 7s - loss: 0.0285 - accuracy: 0.9972 - val_loss: 0.0465 - val_accuracy: 0.9946\n",
      "Epoch 23/30\n",
      " - 7s - loss: 0.0233 - accuracy: 0.9983 - val_loss: 0.0492 - val_accuracy: 0.9943\n",
      "Epoch 24/30\n",
      " - 7s - loss: 0.0231 - accuracy: 0.9983 - val_loss: 0.0506 - val_accuracy: 0.9943\n",
      "Epoch 25/30\n",
      " - 7s - loss: 0.0233 - accuracy: 0.9982 - val_loss: 0.0479 - val_accuracy: 0.9938\n",
      "Epoch 26/30\n",
      " - 7s - loss: 0.0234 - accuracy: 0.9983 - val_loss: 0.0492 - val_accuracy: 0.9943\n",
      "Epoch 27/30\n",
      " - 7s - loss: 0.0211 - accuracy: 0.9963 - val_loss: 0.0230 - val_accuracy: 0.9952\n",
      "Epoch 28/30\n",
      " - 7s - loss: 0.0074 - accuracy: 0.9991 - val_loss: 0.0442 - val_accuracy: 0.9943\n",
      "Epoch 29/30\n",
      " - 7s - loss: 0.0249 - accuracy: 0.9980 - val_loss: 0.0515 - val_accuracy: 0.9938\n",
      "Epoch 30/30\n",
      " - 7s - loss: 0.0228 - accuracy: 0.9972 - val_loss: 0.0415 - val_accuracy: 0.9920\n"
     ]
    }
   ],
   "source": [
    "#Nomb_Input = 200\n",
    "#fil_M = 32    # 512-256-128-64-32 ?\n",
    "kernel = 3\n",
    "epochs = 30   #. 10-20-30-50\n",
    "batch_size = 32\n",
    "n_dens = 50  # 100 ou 200?\n",
    "\n",
    "num_class = 2   # ou ce\n",
    "\n",
    "# redimensionnement nécesaire pour la convolution\n",
    "train_data2 = np.expand_dims(train_data, axis=2)\n",
    "#   ou  ?  train_data.reshape(train_data.shape[0], train_data.shape[1], 1)  et input_shape=(train_data.shape[1], 1)\n",
    "test_data2 = np.expand_dims(test_data, axis=2)\n",
    "\n",
    "model0 = Sequential()\n",
    "model0.add(Conv1D(32, kernel, activation='relu', input_shape=(train_data2.shape[1],train_data2.shape[2])))\n",
    "#model0.add(Dropout(0.5))\n",
    "model0.add(MaxPooling1D(pool_size=(2)))\n",
    "###### PLUS\n",
    "model0.add(Conv1D(64, kernel, activation='relu'))\n",
    "model0.add(MaxPooling1D(pool_size=(2)))\n",
    "############\n",
    "# model0.add(BatchNormalization())\n",
    "model0.add(Flatten())        \n",
    "model0.add(Dense(n_dens, activation='relu'))\n",
    "model0.add(Dense(num_class, activation='sigmoid'))\n",
    "\n",
    "model0.compile(loss=\"binary_crossentropy\", optimizer='adam', metrics=['accuracy'])\n",
    "\n",
    "model0.summary()\n",
    "\n",
    "history0 = model0.fit(train_data2, train_labels, validation_split=0.33, verbose=2, epochs=epochs, batch_size=batch_size)\n"
   ]
  },
  {
   "cell_type": "code",
   "execution_count": 20,
   "metadata": {
    "ExecuteTime": {
     "end_time": "2020-03-09T21:31:06.473575Z",
     "start_time": "2020-03-09T21:31:05.722468Z"
    },
    "slideshow": {
     "slide_type": "slide"
    }
   },
   "outputs": [
    {
     "data": {
      "image/png": "[encoded data removed]",
      "text/plain": [
       "<Figure size 432x288 with 1 Axes>"
      ]
     },
     "metadata": {
      "needs_background": "light"
     },
     "output_type": "display_data"
    }
   ],
   "source": [
    "#history0 = history0b\n",
    "#history0.history\n",
    "# plot metrics\n",
    "test = False\n",
    "if test:\n",
    "    _ = plt.plot(history0.history['msle'])\n",
    "    _ = plt.plot(history0.history['mean_squared_error'])\n",
    "    _ = plt.plot(history0.history['binary_accuracy'])\n",
    "    _ = plt.plot(history0.history['categorical_accuracy'])\n",
    "_ = plt.plot(history0.history['accuracy'])\n",
    "_ = plt.show()"
   ]
  },
  {
   "cell_type": "code",
   "execution_count": 21,
   "metadata": {
    "ExecuteTime": {
     "end_time": "2020-03-09T21:31:49.539713Z",
     "start_time": "2020-03-09T21:31:49.463863Z"
    },
    "slideshow": {
     "slide_type": "skip"
    }
   },
   "outputs": [
    {
     "name": "stdout",
     "output_type": "stream",
     "text": [
      "Model: \"sequential_1\"\n",
      "_________________________________________________________________\n",
      "Layer (type)                 Output Shape              Param #   \n",
      "=================================================================\n",
      "conv1d_1 (Conv1D)            (None, 198, 32)           128       \n",
      "_________________________________________________________________\n",
      "max_pooling1d_1 (MaxPooling1 (None, 99, 32)            0         \n",
      "_________________________________________________________________\n",
      "conv1d_2 (Conv1D)            (None, 97, 64)            6208      \n",
      "_________________________________________________________________\n",
      "max_pooling1d_2 (MaxPooling1 (None, 48, 64)            0         \n",
      "_________________________________________________________________\n",
      "flatten_1 (Flatten)          (None, 3072)              0         \n",
      "_________________________________________________________________\n",
      "dense_1 (Dense)              (None, 50)                153650    \n",
      "_________________________________________________________________\n",
      "dense_2 (Dense)              (None, 2)                 102       \n",
      "=================================================================\n",
      "Total params: 160,088\n",
      "Trainable params: 160,088\n",
      "Non-trainable params: 0\n",
      "_________________________________________________________________\n"
     ]
    }
   ],
   "source": [
    "model0.summary()\n",
    "\n",
    "# model.save_weights('file.h5')\n",
    "\n",
    "# avec le model construit + les poids\n",
    "# model.load_weights('file.h5')\n"
   ]
  },
  {
   "cell_type": "markdown",
   "metadata": {
    "slideshow": {
     "slide_type": "skip"
    }
   },
   "source": [
    "### Figures"
   ]
  },
  {
   "cell_type": "code",
   "execution_count": 22,
   "metadata": {
    "ExecuteTime": {
     "end_time": "2020-03-09T21:31:54.599010Z",
     "start_time": "2020-03-09T21:31:54.299522Z"
    },
    "slideshow": {
     "slide_type": "slide"
    }
   },
   "outputs": [
    {
     "name": "stdout",
     "output_type": "stream",
     "text": [
      "dict_keys(['val_loss', 'val_accuracy', 'loss', 'accuracy'])\n"
     ]
    },
    {
     "data": {
      "image/png": "[encoded data removed]",
      "text/plain": [
       "<Figure size 1440x288 with 2 Axes>"
      ]
     },
     "metadata": {
      "needs_background": "light"
     },
     "output_type": "display_data"
    }
   ],
   "source": [
    "print(history0.history.keys())\n",
    "coul = [\"blue\", \"lightblue\", \"orange\", \"red\"]\n",
    "\n",
    "fig = plt.figure(figsize=(20,4))\n",
    "_ = plt.subplot(1,2,1)\n",
    "for i in range(0,4,2):\n",
    "    _ = plt.plot(list(history0.history.values())[i],'k-o', color=coul[i])\n",
    "_ = plt.subplot(1,2,2)\n",
    "for j in range(1,4,2):\n",
    "    _ = plt.plot(list(history0.history.values())[j],'k-o', color=coul[j])"
   ]
  },
  {
   "cell_type": "code",
   "execution_count": 23,
   "metadata": {
    "ExecuteTime": {
     "end_time": "2020-03-09T21:31:56.048182Z",
     "start_time": "2020-03-09T21:31:55.976031Z"
    },
    "slideshow": {
     "slide_type": "skip"
    }
   },
   "outputs": [
    {
     "name": "stdout",
     "output_type": "stream",
     "text": [
      "dict_keys(['val_loss', 'val_accuracy', 'loss', 'accuracy'])\n",
      "0.9920163750648499\n",
      "0.9972\n",
      "0.04148303028122087\n",
      "0.022822579936500928\n"
     ]
    }
   ],
   "source": [
    "print(history0.history.keys())\n",
    "print(history0.history['val_accuracy'][-1])\n",
    "print(history0.history['accuracy'][-1])\n",
    "print(history0.history['val_loss'][-1])\n",
    "print(history0.history['loss'][-1])\n"
   ]
  },
  {
   "cell_type": "code",
   "execution_count": 24,
   "metadata": {
    "ExecuteTime": {
     "end_time": "2020-03-09T21:31:59.845402Z",
     "start_time": "2020-03-09T21:31:57.809744Z"
    },
    "slideshow": {
     "slide_type": "slide"
    }
   },
   "outputs": [
    {
     "name": "stdout",
     "output_type": "stream",
     "text": [
      "Test loss: 0.04579962311220426\n",
      "Test accuracy: 0.9924542903900146\n",
      "[0 1 1 0 1 0 0 1 1 0]\n",
      "[0. 1. 0. 0. 1. 0. 0. 1. 1. 0.]\n"
     ]
    },
    {
     "data": {
      "image/png": "[encoded data removed]",
      "text/plain": [
       "<Figure size 864x432 with 2 Axes>"
      ]
     },
     "metadata": {
      "needs_background": "light"
     },
     "output_type": "display_data"
    }
   ],
   "source": [
    "# RESULTATS\n",
    "score = model0.evaluate(test_data2, test_labels, verbose=0, batch_size=batch_size)\n",
    "print('Test loss:', score[0])\n",
    "print('Test accuracy:', score[1])\n",
    "\n",
    "# predictions\n",
    "classes = model0.predict(test_data2, batch_size=batch_size)\n",
    "predictions = model0.predict(test_data2[:10])\n",
    "print(np.argmax(predictions, axis=1))\n",
    "print(test_labels[:10,1])\n",
    "\n",
    "# PLOTS\n",
    "fig = plt.figure(figsize=(12,6))\n",
    "_ = plt.subplot(2,1,1)\n",
    "_ = plt.plot(history0.history['accuracy'])\n",
    "_ = plt.plot(history0.history['val_accuracy'])\n",
    "_ = plt.title('model accuracy')\n",
    "_ = plt.xlabel('epoch')\n",
    "_ = plt.ylabel('accuracy')\n",
    "_ = plt.legend(['train','test'], loc='lower right')\n",
    "\n",
    "_ = plt.subplot(2,1,2)\n",
    "_ = plt.plot(history0.history['loss'])\n",
    "_ = plt.plot(history0.history['val_loss'])\n",
    "_ = plt.title('model loss')\n",
    "_ = plt.xlabel('epoch')\n",
    "_ = plt.ylabel('loss')\n",
    "_ = plt.legend(['train','test'], loc='upper right')\n",
    "\n",
    "_ = plt.tight_layout()\n",
    "_ = fig"
   ]
  },
  {
   "cell_type": "markdown",
   "metadata": {
    "slideshow": {
     "slide_type": "skip"
    }
   },
   "source": [
    "### Matrice de Confusion"
   ]
  },
  {
   "cell_type": "code",
   "execution_count": 25,
   "metadata": {
    "ExecuteTime": {
     "end_time": "2020-03-09T21:32:07.117496Z",
     "start_time": "2020-03-09T21:32:02.118523Z"
    },
    "slideshow": {
     "slide_type": "skip"
    }
   },
   "outputs": [
    {
     "name": "stdout",
     "output_type": "stream",
     "text": [
      "\n",
      " Echantillon Test: 11861\n",
      "[[5715    0]\n",
      " [  91 6055]]\n",
      "\n",
      " Echantillon Train: 47443\n",
      "[[23064     0]\n",
      " [  162 24217]]\n",
      "\n",
      " Normalisé:\n",
      "Prédit       0.0       1.0\n",
      "Reel                      \n",
      "0.0     0.984327  0.015029\n",
      "1.0     0.000000  1.000000\n",
      "\n",
      " testing1:\n",
      "Predit   0.0   1.0    All\n",
      "Reel                     \n",
      "0.0     5715    91   5806\n",
      "1.0        0  6055   6055\n",
      "All     5715  6146  11861\n"
     ]
    },
    {
     "data": {
      "image/png": "[encoded data removed]",
      "text/plain": [
       "<Figure size 432x288 with 2 Axes>"
      ]
     },
     "metadata": {
      "needs_background": "light"
     },
     "output_type": "display_data"
    },
    {
     "name": "stdout",
     "output_type": "stream",
     "text": [
      "\n",
      " testing2:\n",
      "Predit       0.0       1.0  All\n",
      "Reel                           \n",
      "0.0     0.492163  0.007837  0.5\n",
      "1.0     0.000000  0.500000  0.5\n",
      "All     0.240916  0.259084  0.5\n"
     ]
    },
    {
     "data": {
      "image/png": "[encoded data removed]",
      "text/plain": [
       "<Figure size 432x288 with 2 Axes>"
      ]
     },
     "metadata": {
      "needs_background": "light"
     },
     "output_type": "display_data"
    },
    {
     "data": {
      "text/plain": [
       "<matplotlib.axes._subplots.AxesSubplot at 0x157aae550>"
      ]
     },
     "execution_count": 25,
     "metadata": {},
     "output_type": "execute_result"
    },
    {
     "data": {
      "image/png": "[encoded data removed]",
      "text/plain": [
       "<Figure size 360x360 with 2 Axes>"
      ]
     },
     "metadata": {
      "needs_background": "light"
     },
     "output_type": "display_data"
    }
   ],
   "source": [
    "from sklearn.metrics import confusion_matrix\n",
    "#       pip install scikit-plot\n",
    "import scikitplot as skplt\n",
    "\n",
    "# transforme les matrice en listes d'entiers binaires (0 ou 1)\n",
    "Y11 = pd.DataFrame(model0.predict(test_data2)[:,1:])[0].round(0).tolist()\n",
    "Y10 = pd.DataFrame(test_labels[:,1:])[0].tolist()\n",
    "print(\"\\n Echantillon Test:\", len(Y11))\n",
    "print(confusion_matrix(Y11, Y10))\n",
    "\n",
    "Y01 = pd.DataFrame(model0.predict(train_data2)[:,1:])[0].round(0).tolist()\n",
    "Y00 = pd.DataFrame(train_labels[:,1:])[0].tolist()\n",
    "print(\"\\n Echantillon Train:\", len(Y01))\n",
    "print(confusion_matrix(Y01, Y00))\n",
    "\n",
    "y_reel = pd.Series(Y10, name='Reel')\n",
    "y_pred = pd.Series(Y11, name='Prédit')\n",
    "\n",
    "df_confusion = pd.crosstab(y_reel, y_pred)\n",
    "\n",
    "df_conf_norm = df_confusion / df_confusion.sum(axis=1)\n",
    "print(\"\\n Normalisé:\")\n",
    "print(df_conf_norm)\n",
    "print(\"\\n testing1:\")\n",
    "df_confusion = pd.crosstab(y_reel, y_pred, rownames=['Reel'], colnames=['Predit'], margins=True)\n",
    "print(df_confusion)\n",
    "_ = sns.heatmap(df_confusion, annot=True)\n",
    "plt.show()\n",
    "\n",
    "df_conf_norm = df_confusion.div(df_confusion.sum(axis=1), axis=0)\n",
    "print(\"\\n testing2:\")\n",
    "print(df_conf_norm)\n",
    "_ = sns.heatmap(df_conf_norm, annot=True)\n",
    "plt.show()\n",
    "\n",
    "######### NOT WORKING ???\n",
    "#from pandas_ml import ConfusionMatrix\n",
    "#confusion_matrix = ConfusionMatrix(y_reel, y_pred)\n",
    "#confusion_matrix.plot()\n",
    "#plt.show()\n",
    "#confusion_matrix.plot(normalized=True)\n",
    "#plt.show()\n",
    "\n",
    "#binary_confusion_matrix = ConfusionMatrix(y_true, y_pred)\n",
    "#print(\"Binary confusion matrix:\\n%s\" % binary_confusion_matrix)\n",
    "#print(binary_confusion_matrix.TP) # TN, FP, FN, ...\n",
    "#binary_confusion_matrix.plot(normalized=False)\n",
    "#binary_confusion_matrix.plot(normalized=True, backend='seaborn')\n",
    "#plt.show()\n",
    "#confusion_matrix.print_stats()\n",
    "#confusion_matrix.stats()\n",
    "##########\n",
    "\n",
    "\n",
    "skplt.metrics.plot_confusion_matrix(y_reel, y_pred, figsize=(5,5))"
   ]
  },
  {
   "cell_type": "code",
   "execution_count": 26,
   "metadata": {
    "ExecuteTime": {
     "end_time": "2020-03-09T21:32:27.345470Z",
     "start_time": "2020-03-09T21:32:23.482998Z"
    },
    "slideshow": {
     "slide_type": "slide"
    }
   },
   "outputs": [
    {
     "data": {
      "text/html": [
       "<div>\n",
       "<style scoped>\n",
       "    .dataframe tbody tr th:only-of-type {\n",
       "        vertical-align: middle;\n",
       "    }\n",
       "\n",
       "    .dataframe tbody tr th {\n",
       "        vertical-align: top;\n",
       "    }\n",
       "\n",
       "    .dataframe thead th {\n",
       "        text-align: right;\n",
       "    }\n",
       "</style>\n",
       "<table border=\"1\" class=\"dataframe\">\n",
       "  <thead>\n",
       "    <tr style=\"text-align: right;\">\n",
       "      <th></th>\n",
       "      <th>0_true</th>\n",
       "      <th>0_pred</th>\n",
       "      <th>0_pred2</th>\n",
       "      <th>diff</th>\n",
       "    </tr>\n",
       "  </thead>\n",
       "  <tbody>\n",
       "    <tr>\n",
       "      <td>0</td>\n",
       "      <td>0</td>\n",
       "      <td>0.000000</td>\n",
       "      <td>0.0</td>\n",
       "      <td>0.0</td>\n",
       "    </tr>\n",
       "    <tr>\n",
       "      <td>1</td>\n",
       "      <td>1</td>\n",
       "      <td>0.996377</td>\n",
       "      <td>1.0</td>\n",
       "      <td>0.0</td>\n",
       "    </tr>\n",
       "  </tbody>\n",
       "</table>\n",
       "</div>"
      ],
      "text/plain": [
       "   0_true    0_pred  0_pred2  diff\n",
       "0       0  0.000000      0.0   0.0\n",
       "1       1  0.996377      1.0   0.0"
      ]
     },
     "execution_count": 26,
     "metadata": {},
     "output_type": "execute_result"
    },
    {
     "data": {
      "text/html": [
       "<div>\n",
       "<style scoped>\n",
       "    .dataframe tbody tr th:only-of-type {\n",
       "        vertical-align: middle;\n",
       "    }\n",
       "\n",
       "    .dataframe tbody tr th {\n",
       "        vertical-align: top;\n",
       "    }\n",
       "\n",
       "    .dataframe thead th {\n",
       "        text-align: right;\n",
       "    }\n",
       "</style>\n",
       "<table border=\"1\" class=\"dataframe\">\n",
       "  <thead>\n",
       "    <tr style=\"text-align: right;\">\n",
       "      <th></th>\n",
       "      <th>0_true</th>\n",
       "      <th>0_pred</th>\n",
       "      <th>0_pred2</th>\n",
       "      <th>diff</th>\n",
       "    </tr>\n",
       "  </thead>\n",
       "  <tbody>\n",
       "    <tr>\n",
       "      <td>0</td>\n",
       "      <td>0</td>\n",
       "      <td>0.0</td>\n",
       "      <td>0.0</td>\n",
       "      <td>0.0</td>\n",
       "    </tr>\n",
       "    <tr>\n",
       "      <td>1</td>\n",
       "      <td>0</td>\n",
       "      <td>0.0</td>\n",
       "      <td>0.0</td>\n",
       "      <td>0.0</td>\n",
       "    </tr>\n",
       "  </tbody>\n",
       "</table>\n",
       "</div>"
      ],
      "text/plain": [
       "   0_true  0_pred  0_pred2  diff\n",
       "0       0     0.0      0.0   0.0\n",
       "1       0     0.0      0.0   0.0"
      ]
     },
     "execution_count": 26,
     "metadata": {},
     "output_type": "execute_result"
    },
    {
     "name": "stdout",
     "output_type": "stream",
     "text": [
      "(11861, 4) (47443, 4)\n",
      "(5806, 4) (6055, 4) (23226, 4) (24217, 4)\n",
      "\n",
      " ERREURS: 0_true     0.0\n",
      "0_pred     0.0\n",
      "0_pred2    0.0\n",
      "diff       0.0\n",
      "dtype: float64 0_true      0.000000\n",
      "0_pred     80.473645\n",
      "0_pred2    91.000000\n",
      "diff      -91.000000\n",
      "dtype: float64 0_true     0.0\n",
      "0_pred     0.0\n",
      "0_pred2    0.0\n",
      "diff       0.0\n",
      "dtype: float64 0_true      0.000000\n",
      "0_pred     13.947973\n",
      "0_pred2     0.000000\n",
      "diff        0.000000\n",
      "dtype: float64\n",
      "\n",
      " LOSS 0.007672203018295253\n"
     ]
    },
    {
     "data": {
      "image/png": "[encoded data removed]",
      "text/plain": [
       "<Figure size 288x288 with 2 Axes>"
      ]
     },
     "metadata": {
      "needs_background": "light"
     },
     "output_type": "display_data"
    },
    {
     "data": {
      "image/png": "[encoded data removed]",
      "text/plain": [
       "<Figure size 360x360 with 2 Axes>"
      ]
     },
     "metadata": {
      "needs_background": "light"
     },
     "output_type": "display_data"
    },
    {
     "data": {
      "text/plain": [
       "array([[5715,   91],\n",
       "       [   0, 6055]])"
      ]
     },
     "execution_count": 26,
     "metadata": {},
     "output_type": "execute_result"
    },
    {
     "data": {
      "text/plain": [
       "<matplotlib.axes._subplots.AxesSubplot at 0x1403be4a8>"
      ]
     },
     "execution_count": 26,
     "metadata": {},
     "output_type": "execute_result"
    },
    {
     "data": {
      "image/png": "[encoded data removed]",
      "text/plain": [
       "<Figure size 432x288 with 2 Axes>"
      ]
     },
     "metadata": {
      "needs_background": "light"
     },
     "output_type": "display_data"
    }
   ],
   "source": [
    "def mse_loss(y_true, y_pred):\n",
    "    # y_true and y_pred are numpy arrays of the same length.\n",
    "    return ((y_true - y_pred) ** 2).mean()\n",
    "\n",
    "def tab_result(df_a, df_b):\n",
    "    # Extrait les matrices binaires en 1 seule colonne\n",
    "    y_pred = pd.DataFrame(model0.predict(df_b)[:,1:])\n",
    "    y_true = pd.DataFrame(df_a[:,1:])\n",
    "    # création de la table\n",
    "    dy = y_true.merge(y_pred, left_index=True, right_index=True, suffixes=('_true', '_pred'))\n",
    "    dy['0_true'] = dy['0_true'].astype(int)\n",
    "    dy['0_pred2'] = dy['0_pred'].round(0)   #arrondi à l'entier le + proche\n",
    "    dy['diff'] = dy['0_true'] - dy['0_pred2']\n",
    "    return dy\n",
    "\n",
    "def lampe_results(df1, df2):\n",
    "    df_10 = df1[df1['0_true'] == 0]\n",
    "    df_11 = dy1[dy1['0_true'] == 1]\n",
    "    df_20 = df2[df2['0_true'] == 0]\n",
    "    df_21 = dy2[dy2['0_true'] == 1]\n",
    "    return (df_10, df_11, df_20, df_21)\n",
    "\n",
    "dy1 = tab_result(test_labels, test_data2)\n",
    "dy2 = tab_result(train_labels, train_data2)\n",
    "dy1.head(2)\n",
    "dy2.head(2)\n",
    "df_test_1, df_test_0, df_train_1, df_train_0 = lampe_results(dy1, dy2)\n",
    "\n",
    "print(dy1.shape, dy2.shape)\n",
    "print(df_test_1.shape, df_test_0.shape, df_train_1.shape, df_train_0.shape)\n",
    "#print(df_test_0.describe())\n",
    "true_pos1 = df_test_1[(df_test_1['0_pred2'] == 1) & (df_test_1['0_true'] == 1)].sum()\n",
    "fals_pos1 = df_test_1[(df_test_1['0_pred2'] == 1) & (df_test_1['0_true'] == 0)].sum()\n",
    "fals_neg1 = df_test_1[(df_test_1['0_pred2'] == 0) & (df_test_1['0_true'] == 1)].sum()\n",
    "true_neg1 = df_test_1[(df_test_1['0_pred2'] == 0) & (df_test_1['0_true'] == 0)].sum()\n",
    "print(\"\\n ERREURS:\", true_pos1, fals_pos1, fals_neg1, true_neg1)\n",
    "#####################################\n",
    "# sensitivity-recall : TPR = TP/P = TP / (TP + FN)\n",
    "# specificity-select : TNR = TN/N = TN / (TN + FP)\n",
    "# balance : = (TPR + TNR) / 2\n",
    "# precision          : TP / (TP + FP)\n",
    "\n",
    "# accuracy    : ACC = (TP + TN) / total\n",
    "# FI score    :  2 * TP / (2 TP + FP + FN) == 2 / (1/precision + 1/recall)\n",
    "#####################################\n",
    "\n",
    "\n",
    "# calcul pour LOSS du Mean Squared Error\n",
    "print(\"\\n LOSS\", mse_loss(y_reel, y_pred))\n",
    "\n",
    "######################################################################\n",
    "#### Essai pour obtenir une belle matrice de confusion \n",
    "#cm_fig = interp.plot_confusion_matrix(return_fig=True)\n",
    "#ax = cm_fig.gca()\n",
    "#ax.set_ylim(interp.data.c - .5, - .5)\n",
    "######################################################################\n",
    "\n",
    "_ = skplt.metrics.plot_confusion_matrix(y_reel, y_pred, figsize=(4,4), normalize=True)\n",
    "plt.tight_layout()\n",
    "plt.show()\n",
    "_ = skplt.metrics.plot_confusion_matrix(y_reel, y_pred, figsize=(5,5))\n",
    "plt.show()\n",
    "\n",
    "confusion_matrix(dy1['0_true'], dy1['0_pred2'])\n",
    "sns.heatmap(df_confusion, annot=True)\n",
    "plt.tight_layout()\n",
    "plt.show()\n",
    "\n"
   ]
  },
  {
   "cell_type": "code",
   "execution_count": null,
   "metadata": {
    "slideshow": {
     "slide_type": "skip"
    }
   },
   "outputs": [],
   "source": []
  },
  {
   "cell_type": "raw",
   "metadata": {
    "ExecuteTime": {
     "end_time": "2020-03-08T23:04:52.113364Z",
     "start_time": "2020-03-08T23:04:52.073265Z"
    },
    "slideshow": {
     "slide_type": "skip"
    }
   },
   "source": [
    "y_true2 = [x for x in test_labels if x != 0]\n",
    "y_pred2 = model0.predict(test_data)\n",
    "print(len(y_true2), len(y_pred2))\n",
    "print(mse_loss(y_true2, y_pred2))\n",
    "\n",
    "egaux = [(a,b) for a in np.ndarray.tolist(y_true2) for b in np.ndarray.tolist(y_pred2) if a == b]\n",
    "differents = [(a,b) for a in np.ndarray.tolist(y_true2) for b in np.ndarray.tolist(y_pred2) if a == b]\n",
    "print(len(y_true2), len(egaux), len(differents))\n",
    "\n",
    "from scipy import stats\n",
    "stats.describe(y_true2)"
   ]
  },
  {
   "cell_type": "code",
   "execution_count": null,
   "metadata": {
    "slideshow": {
     "slide_type": "skip"
    }
   },
   "outputs": [],
   "source": []
  },
  {
   "cell_type": "markdown",
   "metadata": {
    "slideshow": {
     "slide_type": "skip"
    }
   },
   "source": [
    "# KERAS :  images bi-dimensionelles"
   ]
  },
  {
   "cell_type": "markdown",
   "metadata": {
    "slideshow": {
     "slide_type": "skip"
    }
   },
   "source": [
    "### test séparation "
   ]
  },
  {
   "cell_type": "raw",
   "metadata": {
    "ExecuteTime": {
     "end_time": "2020-03-04T09:58:42.234733Z",
     "start_time": "2020-03-04T09:58:42.226727Z"
    },
    "slideshow": {
     "slide_type": "skip"
    }
   },
   "source": [
    "import torch\n",
    "from torch.utils.data import Dataset\n",
    "\n",
    "class MyDataset(Dataset):\n",
    "    \n",
    "    def __init__(self, x, y):\n",
    "        self.x = x\n",
    "        self.y = y\n",
    "    \n",
    "    def __getitem__(self, index):\n",
    "        sample = {\n",
    "            'feature': torch.tensor([self.x[index]], dtype=torch.float32), \n",
    "            'label': torch.tensor([self.y[index]], dtype=torch.long)}\n",
    "        return sample\n",
    "    \n",
    "    def __len__(self):\n",
    "        return len(self.x)"
   ]
  },
  {
   "cell_type": "raw",
   "metadata": {
    "ExecuteTime": {
     "end_time": "2020-03-03T16:30:08.035402Z",
     "start_time": "2020-03-03T16:30:07.964357Z"
    },
    "slideshow": {
     "slide_type": "skip"
    }
   },
   "source": [
    "dataset = MyDataset(data , data_y)\n",
    "sample = len(dataset)\n",
    "print('length: ', sample)\n",
    "pour = 75\n",
    "X1 = int(pour/100 * sample)\n",
    "X2 = sample - X1\n",
    "for i in range(len(dataset)):\n",
    "    #pp.pprint(dataset[i])\n",
    "    pass\n",
    "\n",
    "from torch.utils.data import random_split\n",
    "train, test = random_split(dataset, [X1, X2])\n",
    "\n",
    "x_train = np.empty((2, len(train)))\n",
    "y_train = np.empty((len(train)))\n",
    "for i in range(len(train)):\n",
    "    #pp.pprint(train[i])\n",
    "    x_train[:,i] = train[i]['feature'].numpy().reshape(2)\n",
    "    y_train[i] = train[i]['label'][0].numpy()\n",
    "\n",
    "print('test length: ', len(test))    \n",
    "x_test = np.empty((2, len(test)))\n",
    "y_test = np.empty((len(test)))\n",
    "for i in range(len(test)):\n",
    "    #pp.pprint(test[i])\n",
    "    x_test[:,i] = test[i]['feature'].numpy().reshape(2)\n",
    "    y_test[i] = test[i]['label'][0].numpy()\n",
    "    \n",
    "plt.scatter(x_train[0,:], x_train[1,:], c=y_train, cmap=cm.bwr, alpha=0.4)\n",
    "plt.scatter(x_test[0,:], x_test[1,:], c=y_test, cmap=cm.PiYG, alpha=0.4)\n",
    "plt.xlabel('$x_1$')\n",
    "plt.ylabel('$x_2$')\n",
    "plt.xlim(-3,10)\n",
    "plt.ylim(-3,10)"
   ]
  },
  {
   "cell_type": "markdown",
   "metadata": {
    "slideshow": {
     "slide_type": "skip"
    }
   },
   "source": [
    "### tests"
   ]
  },
  {
   "cell_type": "raw",
   "metadata": {
    "ExecuteTime": {
     "end_time": "2020-03-03T13:19:31.879677Z",
     "start_time": "2020-03-03T13:14:22.169214Z"
    },
    "slideshow": {
     "slide_type": "skip"
    }
   },
   "source": [
    "# TROP gourmant en ressources et trop lent \n",
    "\n",
    "print(data.shape)\n",
    "df = pd.DataFrame(tf.reshape(data, [data.shape[0],data.shape[1]*data.shape[2]]))\n",
    "#df = pd.DataFrame(tf.reshape(data, [552,200]))\n",
    "print(df.shape)\n",
    "# sns.pairplot(df)\n",
    "# sns.heatmap(df.coor(), annot=True)\n",
    "df.head()\n",
    "data[118:120,:2,0:]"
   ]
  },
  {
   "cell_type": "code",
   "execution_count": null,
   "metadata": {
    "slideshow": {
     "slide_type": "skip"
    }
   },
   "outputs": [],
   "source": []
  },
  {
   "cell_type": "markdown",
   "metadata": {
    "slideshow": {
     "slide_type": "skip"
    }
   },
   "source": [
    "## Lecture des 3 fichiers de données"
   ]
  },
  {
   "cell_type": "code",
   "execution_count": 52,
   "metadata": {
    "ExecuteTime": {
     "end_time": "2020-03-09T22:46:45.771981Z",
     "start_time": "2020-03-09T22:46:45.372497Z"
    },
    "slideshow": {
     "slide_type": "skip"
    }
   },
   "outputs": [
    {
     "name": "stdout",
     "output_type": "stream",
     "text": [
      "(36072, 10, 10)\n",
      "(36072, 10, 10, 1)\n",
      "(36072, 10, 10, 2) 36072\n",
      "\n",
      " Fichiers utilisés:\n",
      " /Users/pl/Desktop/DATA_SCIENCE/NOTEBOOK/EMS/data_LAS_nom_NUM_29384.npy \n",
      " /Users/pl/Desktop/DATA_SCIENCE/NOTEBOOK/EMS/data_LAS_nom_ECA_29384.npy \n",
      " /Users/pl/Desktop/DATA_SCIENCE/NOTEBOOK/EMS/data_LAS_nom_POS_29384.npy\n",
      "Classification utiliseé:\n",
      " /Users/pl/Desktop/DATA_SCIENCE/NOTEBOOK/EMS/data_LAS_nom_POS_29384.npy \n",
      "\n",
      "(36072, 10, 10, 2) (36072, 100)\n"
     ]
    }
   ],
   "source": [
    "\n",
    "fichier1  = DATA_DIR3 + \"data_LAS_nom_NUM_\" + str(off) + \".npy\"\n",
    "data1     = np.load(fichier1)\n",
    "fichier2  = DATA_DIR3 + \"data_LAS_nom_ECA_\" + str(off) + \".npy\"\n",
    "data2     = np.load(fichier2)\n",
    "fichierY = DATA_DIR3 + \"data_LAS_nom_POS_\" + str(off) + \".npy\"\n",
    "data3    = np.load(fichierY)\n",
    "#print(type(data1), type(data2))\n",
    "print(data1.shape)\n",
    "if (data1.shape[0] - data2.shape[0] != 0):\n",
    "    print(data1.shape, data2.shape, data3.shape)\n",
    "\n",
    "# concatenation de NUM et POS\n",
    "data14 = tf.expand_dims(data1, 3)\n",
    "data24 = tf.expand_dims(data2, 3)\n",
    "data34 = tf.expand_dims(data1, 3)\n",
    "print(data14.shape) #, data24.shape, data34.shape)\n",
    "\n",
    "data_x = tf.concat([data14, data24], 3)\n",
    "#data_x = tf.concat([data14, data24, data34], 3)\n",
    "#data_x = data1\n",
    "taille = data_x.shape[0]\n",
    "print(data_x.shape, taille)\n",
    "data_y   = np.load(fichierY).reshape(taille,100)\n",
    "Nomb_Input = data_x.shape\n",
    "\n",
    "print(\"\\n Fichiers utilisés:\\n\", fichier1, \"\\n\", fichier2, \"\\n\", fichierY)\n",
    "print(\"Classification utiliseé:\\n\", fichierY, \"\\n\")\n",
    "print(data_x.shape, data_y.shape)"
   ]
  },
  {
   "cell_type": "code",
   "execution_count": 53,
   "metadata": {
    "ExecuteTime": {
     "end_time": "2020-03-09T22:46:47.266016Z",
     "start_time": "2020-03-09T22:46:46.991436Z"
    },
    "slideshow": {
     "slide_type": "skip"
    }
   },
   "outputs": [
    {
     "name": "stdout",
     "output_type": "stream",
     "text": [
      "(36072, 102) 7080.0\n",
      "36072 29052 6960 60\n",
      "36072 29052 7020 0\n"
     ]
    }
   ],
   "source": [
    "# somme sur toutes les rangées ou colonnes   \n",
    "# présence de valeurs SUPERIEURES A 1 (3 valeurs à 2 ! pourquoi ?????)\n",
    "df_Y = pd.DataFrame(data_y)\n",
    "df_Y['lamp'] = df_Y.sum(axis=1)\n",
    "df_Y['lamp2'] = df_Y[:-1].sum(axis=0)\n",
    "print(df_Y.shape, df_Y['lamp'].sum())\n",
    "print(df_Y.shape[0], len(df_Y[df_Y['lamp'] == 0]), df_Y[df_Y['lamp'] == 1].shape[0], df_Y[df_Y['lamp'] > 1].shape[0])\n",
    "#  Ecrase les valeurs de 2  ... pour avoir des 0 ou des 1\n",
    "df_Y.loc[df_Y['lamp'] > 1] = 1\n",
    "print(df_Y.shape[0], len(df_Y[df_Y['lamp'] == 0]), df_Y[df_Y['lamp'] == 1].shape[0], df_Y[df_Y['lamp'] > 1].shape[0])\n",
    "#df_Y[df_Y['lamp'] == 2]"
   ]
  },
  {
   "cell_type": "code",
   "execution_count": 54,
   "metadata": {
    "ExecuteTime": {
     "end_time": "2020-03-09T22:46:48.515862Z",
     "start_time": "2020-03-09T22:46:48.410227Z"
    },
    "slideshow": {
     "slide_type": "skip"
    }
   },
   "outputs": [
    {
     "name": "stdout",
     "output_type": "stream",
     "text": [
      "(36072, 112) (40000, 9) (36072, 102)\n"
     ]
    },
    {
     "data": {
      "text/plain": [
       "count    36072.000000\n",
       "mean        -0.185601\n",
       "std          0.405542\n",
       "min         -1.000000\n",
       "25%          0.000000\n",
       "50%          0.000000\n",
       "75%          0.000000\n",
       "max          1.000000\n",
       "Name: diff, dtype: float64"
      ]
     },
     "execution_count": 54,
     "metadata": {},
     "output_type": "execute_result"
    }
   ],
   "source": [
    "# lampes0 autre DataFrame avec les indice de présence des lampadaires ... CORRECTS ? ... pas cohérent\n",
    "df_tot = df_Y.merge(lampes0, left_index=True, right_index=True)\n",
    "df_tot['diff'] = df_tot['present'] - df_tot['lamp']\n",
    "print(df_tot.shape, lampes0.shape,df_Y.shape )\n",
    "\n",
    "test = False\n",
    "#test = True\n",
    "if test:\n",
    "    print(df_tot[df_tot['diff'] == 2].count(axis=0))\n",
    "    print(df_tot[df_tot['diff'] == 1].count(axis=0))\n",
    "    print(df_tot[df_tot['diff'] == 0].count(axis=0))\n",
    "    print(df_tot[df_tot['diff'] == -1].count(axis=0))\n",
    "    print(df_tot[df_tot['diff'] == -2].count(axis=0))\n",
    "df_tot['diff'].describe()\n"
   ]
  },
  {
   "cell_type": "code",
   "execution_count": 55,
   "metadata": {
    "ExecuteTime": {
     "end_time": "2020-03-09T22:46:49.831209Z",
     "start_time": "2020-03-09T22:46:49.688449Z"
    },
    "slideshow": {
     "slide_type": "skip"
    }
   },
   "outputs": [
    {
     "data": {
      "text/html": [
       "<div>\n",
       "<style scoped>\n",
       "    .dataframe tbody tr th:only-of-type {\n",
       "        vertical-align: middle;\n",
       "    }\n",
       "\n",
       "    .dataframe tbody tr th {\n",
       "        vertical-align: top;\n",
       "    }\n",
       "\n",
       "    .dataframe thead th {\n",
       "        text-align: right;\n",
       "    }\n",
       "</style>\n",
       "<table border=\"1\" class=\"dataframe\">\n",
       "  <thead>\n",
       "    <tr style=\"text-align: right;\">\n",
       "      <th></th>\n",
       "      <th>0</th>\n",
       "      <th>1</th>\n",
       "      <th>2</th>\n",
       "      <th>3</th>\n",
       "      <th>4</th>\n",
       "      <th>5</th>\n",
       "      <th>6</th>\n",
       "      <th>7</th>\n",
       "      <th>8</th>\n",
       "      <th>9</th>\n",
       "      <th>10</th>\n",
       "      <th>11</th>\n",
       "      <th>12</th>\n",
       "      <th>13</th>\n",
       "      <th>14</th>\n",
       "      <th>...</th>\n",
       "      <th>97</th>\n",
       "      <th>98</th>\n",
       "      <th>99</th>\n",
       "      <th>lamp</th>\n",
       "      <th>lamp2</th>\n",
       "      <th>present</th>\n",
       "      <th>NumI</th>\n",
       "      <th>NumY</th>\n",
       "      <th>NumX</th>\n",
       "      <th>X</th>\n",
       "      <th>Y</th>\n",
       "      <th>nom_NUM</th>\n",
       "      <th>nom_ECA</th>\n",
       "      <th>nom_POS</th>\n",
       "      <th>diff</th>\n",
       "    </tr>\n",
       "  </thead>\n",
       "  <tbody>\n",
       "    <tr>\n",
       "      <td>29032</td>\n",
       "      <td>0.0</td>\n",
       "      <td>0.0</td>\n",
       "      <td>0.0</td>\n",
       "      <td>0.0</td>\n",
       "      <td>0.0</td>\n",
       "      <td>0.0</td>\n",
       "      <td>0.0</td>\n",
       "      <td>0.0</td>\n",
       "      <td>0.0</td>\n",
       "      <td>0.0</td>\n",
       "      <td>0.0</td>\n",
       "      <td>0.0</td>\n",
       "      <td>0.0</td>\n",
       "      <td>0.0</td>\n",
       "      <td>0.0</td>\n",
       "      <td>...</td>\n",
       "      <td>0.0</td>\n",
       "      <td>0.0</td>\n",
       "      <td>0.0</td>\n",
       "      <td>1.0</td>\n",
       "      <td>NaN</td>\n",
       "      <td>0</td>\n",
       "      <td>29032</td>\n",
       "      <td>32</td>\n",
       "      <td>145</td>\n",
       "      <td>2043225</td>\n",
       "      <td>7272160</td>\n",
       "      <td>2043225_7272160_NumPoints5m.tif</td>\n",
       "      <td>2043225_7272160_EcartZ5m.tif</td>\n",
       "      <td>2043225_7272160_Position5m.tif</td>\n",
       "      <td>-1.0</td>\n",
       "    </tr>\n",
       "    <tr>\n",
       "      <td>29033</td>\n",
       "      <td>0.0</td>\n",
       "      <td>0.0</td>\n",
       "      <td>0.0</td>\n",
       "      <td>0.0</td>\n",
       "      <td>0.0</td>\n",
       "      <td>0.0</td>\n",
       "      <td>0.0</td>\n",
       "      <td>0.0</td>\n",
       "      <td>0.0</td>\n",
       "      <td>0.0</td>\n",
       "      <td>0.0</td>\n",
       "      <td>0.0</td>\n",
       "      <td>0.0</td>\n",
       "      <td>0.0</td>\n",
       "      <td>0.0</td>\n",
       "      <td>...</td>\n",
       "      <td>1.0</td>\n",
       "      <td>0.0</td>\n",
       "      <td>0.0</td>\n",
       "      <td>1.0</td>\n",
       "      <td>NaN</td>\n",
       "      <td>0</td>\n",
       "      <td>29033</td>\n",
       "      <td>33</td>\n",
       "      <td>145</td>\n",
       "      <td>2043225</td>\n",
       "      <td>7272165</td>\n",
       "      <td>2043225_7272165_NumPoints5m.tif</td>\n",
       "      <td>2043225_7272165_EcartZ5m.tif</td>\n",
       "      <td>2043225_7272165_Position5m.tif</td>\n",
       "      <td>-1.0</td>\n",
       "    </tr>\n",
       "    <tr>\n",
       "      <td>29034</td>\n",
       "      <td>0.0</td>\n",
       "      <td>0.0</td>\n",
       "      <td>0.0</td>\n",
       "      <td>0.0</td>\n",
       "      <td>0.0</td>\n",
       "      <td>0.0</td>\n",
       "      <td>0.0</td>\n",
       "      <td>0.0</td>\n",
       "      <td>0.0</td>\n",
       "      <td>0.0</td>\n",
       "      <td>0.0</td>\n",
       "      <td>0.0</td>\n",
       "      <td>0.0</td>\n",
       "      <td>0.0</td>\n",
       "      <td>0.0</td>\n",
       "      <td>...</td>\n",
       "      <td>0.0</td>\n",
       "      <td>0.0</td>\n",
       "      <td>0.0</td>\n",
       "      <td>1.0</td>\n",
       "      <td>NaN</td>\n",
       "      <td>0</td>\n",
       "      <td>29034</td>\n",
       "      <td>34</td>\n",
       "      <td>145</td>\n",
       "      <td>2043225</td>\n",
       "      <td>7272170</td>\n",
       "      <td>2043225_7272170_NumPoints5m.tif</td>\n",
       "      <td>2043225_7272170_EcartZ5m.tif</td>\n",
       "      <td>2043225_7272170_Position5m.tif</td>\n",
       "      <td>-1.0</td>\n",
       "    </tr>\n",
       "    <tr>\n",
       "      <td>29035</td>\n",
       "      <td>0.0</td>\n",
       "      <td>0.0</td>\n",
       "      <td>0.0</td>\n",
       "      <td>0.0</td>\n",
       "      <td>0.0</td>\n",
       "      <td>0.0</td>\n",
       "      <td>0.0</td>\n",
       "      <td>0.0</td>\n",
       "      <td>0.0</td>\n",
       "      <td>0.0</td>\n",
       "      <td>0.0</td>\n",
       "      <td>0.0</td>\n",
       "      <td>0.0</td>\n",
       "      <td>0.0</td>\n",
       "      <td>0.0</td>\n",
       "      <td>...</td>\n",
       "      <td>0.0</td>\n",
       "      <td>1.0</td>\n",
       "      <td>0.0</td>\n",
       "      <td>1.0</td>\n",
       "      <td>NaN</td>\n",
       "      <td>0</td>\n",
       "      <td>29035</td>\n",
       "      <td>35</td>\n",
       "      <td>145</td>\n",
       "      <td>2043225</td>\n",
       "      <td>7272175</td>\n",
       "      <td>2043225_7272175_NumPoints5m.tif</td>\n",
       "      <td>2043225_7272175_EcartZ5m.tif</td>\n",
       "      <td>2043225_7272175_Position5m.tif</td>\n",
       "      <td>-1.0</td>\n",
       "    </tr>\n",
       "    <tr>\n",
       "      <td>29036</td>\n",
       "      <td>0.0</td>\n",
       "      <td>0.0</td>\n",
       "      <td>0.0</td>\n",
       "      <td>0.0</td>\n",
       "      <td>0.0</td>\n",
       "      <td>0.0</td>\n",
       "      <td>0.0</td>\n",
       "      <td>0.0</td>\n",
       "      <td>0.0</td>\n",
       "      <td>0.0</td>\n",
       "      <td>0.0</td>\n",
       "      <td>0.0</td>\n",
       "      <td>0.0</td>\n",
       "      <td>0.0</td>\n",
       "      <td>0.0</td>\n",
       "      <td>...</td>\n",
       "      <td>0.0</td>\n",
       "      <td>0.0</td>\n",
       "      <td>0.0</td>\n",
       "      <td>1.0</td>\n",
       "      <td>NaN</td>\n",
       "      <td>0</td>\n",
       "      <td>29036</td>\n",
       "      <td>36</td>\n",
       "      <td>145</td>\n",
       "      <td>2043225</td>\n",
       "      <td>7272180</td>\n",
       "      <td>2043225_7272180_NumPoints5m.tif</td>\n",
       "      <td>2043225_7272180_EcartZ5m.tif</td>\n",
       "      <td>2043225_7272180_Position5m.tif</td>\n",
       "      <td>-1.0</td>\n",
       "    </tr>\n",
       "    <tr>\n",
       "      <td>...</td>\n",
       "      <td>...</td>\n",
       "      <td>...</td>\n",
       "      <td>...</td>\n",
       "      <td>...</td>\n",
       "      <td>...</td>\n",
       "      <td>...</td>\n",
       "      <td>...</td>\n",
       "      <td>...</td>\n",
       "      <td>...</td>\n",
       "      <td>...</td>\n",
       "      <td>...</td>\n",
       "      <td>...</td>\n",
       "      <td>...</td>\n",
       "      <td>...</td>\n",
       "      <td>...</td>\n",
       "      <td>...</td>\n",
       "      <td>...</td>\n",
       "      <td>...</td>\n",
       "      <td>...</td>\n",
       "      <td>...</td>\n",
       "      <td>...</td>\n",
       "      <td>...</td>\n",
       "      <td>...</td>\n",
       "      <td>...</td>\n",
       "      <td>...</td>\n",
       "      <td>...</td>\n",
       "      <td>...</td>\n",
       "      <td>...</td>\n",
       "      <td>...</td>\n",
       "      <td>...</td>\n",
       "      <td>...</td>\n",
       "    </tr>\n",
       "    <tr>\n",
       "      <td>36067</td>\n",
       "      <td>0.0</td>\n",
       "      <td>0.0</td>\n",
       "      <td>0.0</td>\n",
       "      <td>0.0</td>\n",
       "      <td>0.0</td>\n",
       "      <td>0.0</td>\n",
       "      <td>0.0</td>\n",
       "      <td>0.0</td>\n",
       "      <td>0.0</td>\n",
       "      <td>0.0</td>\n",
       "      <td>0.0</td>\n",
       "      <td>0.0</td>\n",
       "      <td>0.0</td>\n",
       "      <td>0.0</td>\n",
       "      <td>0.0</td>\n",
       "      <td>...</td>\n",
       "      <td>0.0</td>\n",
       "      <td>0.0</td>\n",
       "      <td>0.0</td>\n",
       "      <td>1.0</td>\n",
       "      <td>NaN</td>\n",
       "      <td>0</td>\n",
       "      <td>36067</td>\n",
       "      <td>67</td>\n",
       "      <td>180</td>\n",
       "      <td>2043400</td>\n",
       "      <td>7272335</td>\n",
       "      <td>2043400_7272335_NumPoints5m.tif</td>\n",
       "      <td>2043400_7272335_EcartZ5m.tif</td>\n",
       "      <td>2043400_7272335_Position5m.tif</td>\n",
       "      <td>-1.0</td>\n",
       "    </tr>\n",
       "    <tr>\n",
       "      <td>36068</td>\n",
       "      <td>0.0</td>\n",
       "      <td>0.0</td>\n",
       "      <td>0.0</td>\n",
       "      <td>0.0</td>\n",
       "      <td>0.0</td>\n",
       "      <td>0.0</td>\n",
       "      <td>0.0</td>\n",
       "      <td>0.0</td>\n",
       "      <td>0.0</td>\n",
       "      <td>0.0</td>\n",
       "      <td>0.0</td>\n",
       "      <td>0.0</td>\n",
       "      <td>0.0</td>\n",
       "      <td>0.0</td>\n",
       "      <td>0.0</td>\n",
       "      <td>...</td>\n",
       "      <td>0.0</td>\n",
       "      <td>0.0</td>\n",
       "      <td>0.0</td>\n",
       "      <td>1.0</td>\n",
       "      <td>NaN</td>\n",
       "      <td>0</td>\n",
       "      <td>36068</td>\n",
       "      <td>68</td>\n",
       "      <td>180</td>\n",
       "      <td>2043400</td>\n",
       "      <td>7272340</td>\n",
       "      <td>2043400_7272340_NumPoints5m.tif</td>\n",
       "      <td>2043400_7272340_EcartZ5m.tif</td>\n",
       "      <td>2043400_7272340_Position5m.tif</td>\n",
       "      <td>-1.0</td>\n",
       "    </tr>\n",
       "    <tr>\n",
       "      <td>36069</td>\n",
       "      <td>0.0</td>\n",
       "      <td>0.0</td>\n",
       "      <td>0.0</td>\n",
       "      <td>0.0</td>\n",
       "      <td>0.0</td>\n",
       "      <td>0.0</td>\n",
       "      <td>0.0</td>\n",
       "      <td>0.0</td>\n",
       "      <td>0.0</td>\n",
       "      <td>0.0</td>\n",
       "      <td>0.0</td>\n",
       "      <td>0.0</td>\n",
       "      <td>0.0</td>\n",
       "      <td>0.0</td>\n",
       "      <td>0.0</td>\n",
       "      <td>...</td>\n",
       "      <td>0.0</td>\n",
       "      <td>0.0</td>\n",
       "      <td>0.0</td>\n",
       "      <td>1.0</td>\n",
       "      <td>NaN</td>\n",
       "      <td>0</td>\n",
       "      <td>36069</td>\n",
       "      <td>69</td>\n",
       "      <td>180</td>\n",
       "      <td>2043400</td>\n",
       "      <td>7272345</td>\n",
       "      <td>2043400_7272345_NumPoints5m.tif</td>\n",
       "      <td>2043400_7272345_EcartZ5m.tif</td>\n",
       "      <td>2043400_7272345_Position5m.tif</td>\n",
       "      <td>-1.0</td>\n",
       "    </tr>\n",
       "    <tr>\n",
       "      <td>36070</td>\n",
       "      <td>0.0</td>\n",
       "      <td>0.0</td>\n",
       "      <td>0.0</td>\n",
       "      <td>0.0</td>\n",
       "      <td>0.0</td>\n",
       "      <td>0.0</td>\n",
       "      <td>0.0</td>\n",
       "      <td>0.0</td>\n",
       "      <td>0.0</td>\n",
       "      <td>1.0</td>\n",
       "      <td>0.0</td>\n",
       "      <td>0.0</td>\n",
       "      <td>0.0</td>\n",
       "      <td>0.0</td>\n",
       "      <td>0.0</td>\n",
       "      <td>...</td>\n",
       "      <td>0.0</td>\n",
       "      <td>0.0</td>\n",
       "      <td>0.0</td>\n",
       "      <td>1.0</td>\n",
       "      <td>NaN</td>\n",
       "      <td>0</td>\n",
       "      <td>36070</td>\n",
       "      <td>70</td>\n",
       "      <td>180</td>\n",
       "      <td>2043400</td>\n",
       "      <td>7272350</td>\n",
       "      <td>2043400_7272350_NumPoints5m.tif</td>\n",
       "      <td>2043400_7272350_EcartZ5m.tif</td>\n",
       "      <td>2043400_7272350_Position5m.tif</td>\n",
       "      <td>-1.0</td>\n",
       "    </tr>\n",
       "    <tr>\n",
       "      <td>36071</td>\n",
       "      <td>0.0</td>\n",
       "      <td>0.0</td>\n",
       "      <td>0.0</td>\n",
       "      <td>0.0</td>\n",
       "      <td>0.0</td>\n",
       "      <td>0.0</td>\n",
       "      <td>0.0</td>\n",
       "      <td>0.0</td>\n",
       "      <td>0.0</td>\n",
       "      <td>0.0</td>\n",
       "      <td>0.0</td>\n",
       "      <td>0.0</td>\n",
       "      <td>0.0</td>\n",
       "      <td>0.0</td>\n",
       "      <td>0.0</td>\n",
       "      <td>...</td>\n",
       "      <td>0.0</td>\n",
       "      <td>0.0</td>\n",
       "      <td>0.0</td>\n",
       "      <td>1.0</td>\n",
       "      <td>NaN</td>\n",
       "      <td>0</td>\n",
       "      <td>36071</td>\n",
       "      <td>71</td>\n",
       "      <td>180</td>\n",
       "      <td>2043400</td>\n",
       "      <td>7272355</td>\n",
       "      <td>2043400_7272355_NumPoints5m.tif</td>\n",
       "      <td>2043400_7272355_EcartZ5m.tif</td>\n",
       "      <td>2043400_7272355_Position5m.tif</td>\n",
       "      <td>-1.0</td>\n",
       "    </tr>\n",
       "  </tbody>\n",
       "</table>\n",
       "<p>6935 rows × 112 columns</p>\n",
       "</div>"
      ],
      "text/plain": [
       "         0    1    2    3    4    5    6    7    8    9   10   11   12   13  \\\n",
       "29032  0.0  0.0  0.0  0.0  0.0  0.0  0.0  0.0  0.0  0.0  0.0  0.0  0.0  0.0   \n",
       "29033  0.0  0.0  0.0  0.0  0.0  0.0  0.0  0.0  0.0  0.0  0.0  0.0  0.0  0.0   \n",
       "29034  0.0  0.0  0.0  0.0  0.0  0.0  0.0  0.0  0.0  0.0  0.0  0.0  0.0  0.0   \n",
       "29035  0.0  0.0  0.0  0.0  0.0  0.0  0.0  0.0  0.0  0.0  0.0  0.0  0.0  0.0   \n",
       "29036  0.0  0.0  0.0  0.0  0.0  0.0  0.0  0.0  0.0  0.0  0.0  0.0  0.0  0.0   \n",
       "...    ...  ...  ...  ...  ...  ...  ...  ...  ...  ...  ...  ...  ...  ...   \n",
       "36067  0.0  0.0  0.0  0.0  0.0  0.0  0.0  0.0  0.0  0.0  0.0  0.0  0.0  0.0   \n",
       "36068  0.0  0.0  0.0  0.0  0.0  0.0  0.0  0.0  0.0  0.0  0.0  0.0  0.0  0.0   \n",
       "36069  0.0  0.0  0.0  0.0  0.0  0.0  0.0  0.0  0.0  0.0  0.0  0.0  0.0  0.0   \n",
       "36070  0.0  0.0  0.0  0.0  0.0  0.0  0.0  0.0  0.0  1.0  0.0  0.0  0.0  0.0   \n",
       "36071  0.0  0.0  0.0  0.0  0.0  0.0  0.0  0.0  0.0  0.0  0.0  0.0  0.0  0.0   \n",
       "\n",
       "        14  ...   97   98   99  lamp  lamp2  present   NumI  NumY  NumX  \\\n",
       "29032  0.0  ...  0.0  0.0  0.0   1.0    NaN        0  29032    32   145   \n",
       "29033  0.0  ...  1.0  0.0  0.0   1.0    NaN        0  29033    33   145   \n",
       "29034  0.0  ...  0.0  0.0  0.0   1.0    NaN        0  29034    34   145   \n",
       "29035  0.0  ...  0.0  1.0  0.0   1.0    NaN        0  29035    35   145   \n",
       "29036  0.0  ...  0.0  0.0  0.0   1.0    NaN        0  29036    36   145   \n",
       "...    ...  ...  ...  ...  ...   ...    ...      ...    ...   ...   ...   \n",
       "36067  0.0  ...  0.0  0.0  0.0   1.0    NaN        0  36067    67   180   \n",
       "36068  0.0  ...  0.0  0.0  0.0   1.0    NaN        0  36068    68   180   \n",
       "36069  0.0  ...  0.0  0.0  0.0   1.0    NaN        0  36069    69   180   \n",
       "36070  0.0  ...  0.0  0.0  0.0   1.0    NaN        0  36070    70   180   \n",
       "36071  0.0  ...  0.0  0.0  0.0   1.0    NaN        0  36071    71   180   \n",
       "\n",
       "             X        Y                          nom_NUM  \\\n",
       "29032  2043225  7272160  2043225_7272160_NumPoints5m.tif   \n",
       "29033  2043225  7272165  2043225_7272165_NumPoints5m.tif   \n",
       "29034  2043225  7272170  2043225_7272170_NumPoints5m.tif   \n",
       "29035  2043225  7272175  2043225_7272175_NumPoints5m.tif   \n",
       "29036  2043225  7272180  2043225_7272180_NumPoints5m.tif   \n",
       "...        ...      ...                              ...   \n",
       "36067  2043400  7272335  2043400_7272335_NumPoints5m.tif   \n",
       "36068  2043400  7272340  2043400_7272340_NumPoints5m.tif   \n",
       "36069  2043400  7272345  2043400_7272345_NumPoints5m.tif   \n",
       "36070  2043400  7272350  2043400_7272350_NumPoints5m.tif   \n",
       "36071  2043400  7272355  2043400_7272355_NumPoints5m.tif   \n",
       "\n",
       "                            nom_ECA                         nom_POS  diff  \n",
       "29032  2043225_7272160_EcartZ5m.tif  2043225_7272160_Position5m.tif  -1.0  \n",
       "29033  2043225_7272165_EcartZ5m.tif  2043225_7272165_Position5m.tif  -1.0  \n",
       "29034  2043225_7272170_EcartZ5m.tif  2043225_7272170_Position5m.tif  -1.0  \n",
       "29035  2043225_7272175_EcartZ5m.tif  2043225_7272175_Position5m.tif  -1.0  \n",
       "29036  2043225_7272180_EcartZ5m.tif  2043225_7272180_Position5m.tif  -1.0  \n",
       "...                             ...                             ...   ...  \n",
       "36067  2043400_7272335_EcartZ5m.tif  2043400_7272335_Position5m.tif  -1.0  \n",
       "36068  2043400_7272340_EcartZ5m.tif  2043400_7272340_Position5m.tif  -1.0  \n",
       "36069  2043400_7272345_EcartZ5m.tif  2043400_7272345_Position5m.tif  -1.0  \n",
       "36070  2043400_7272350_EcartZ5m.tif  2043400_7272350_Position5m.tif  -1.0  \n",
       "36071  2043400_7272355_EcartZ5m.tif  2043400_7272355_Position5m.tif  -1.0  \n",
       "\n",
       "[6935 rows x 112 columns]"
      ]
     },
     "execution_count": 55,
     "metadata": {},
     "output_type": "execute_result"
    }
   ],
   "source": [
    "df_tot[df_tot['diff'] == -1]"
   ]
  },
  {
   "cell_type": "code",
   "execution_count": null,
   "metadata": {
    "slideshow": {
     "slide_type": "skip"
    }
   },
   "outputs": [],
   "source": []
  },
  {
   "cell_type": "code",
   "execution_count": 56,
   "metadata": {
    "ExecuteTime": {
     "end_time": "2020-03-09T22:46:51.358325Z",
     "start_time": "2020-03-09T22:46:50.979247Z"
    },
    "slideshow": {
     "slide_type": "skip"
    }
   },
   "outputs": [
    {
     "data": {
      "text/html": [
       "<div>\n",
       "<style scoped>\n",
       "    .dataframe tbody tr th:only-of-type {\n",
       "        vertical-align: middle;\n",
       "    }\n",
       "\n",
       "    .dataframe tbody tr th {\n",
       "        vertical-align: top;\n",
       "    }\n",
       "\n",
       "    .dataframe thead th {\n",
       "        text-align: right;\n",
       "    }\n",
       "</style>\n",
       "<table border=\"1\" class=\"dataframe\">\n",
       "  <thead>\n",
       "    <tr style=\"text-align: right;\">\n",
       "      <th></th>\n",
       "      <th>0</th>\n",
       "      <th>1</th>\n",
       "      <th>2</th>\n",
       "      <th>3</th>\n",
       "      <th>4</th>\n",
       "      <th>5</th>\n",
       "      <th>6</th>\n",
       "      <th>7</th>\n",
       "      <th>8</th>\n",
       "      <th>9</th>\n",
       "      <th>10</th>\n",
       "      <th>11</th>\n",
       "      <th>12</th>\n",
       "      <th>13</th>\n",
       "      <th>14</th>\n",
       "      <th>...</th>\n",
       "      <th>87</th>\n",
       "      <th>88</th>\n",
       "      <th>89</th>\n",
       "      <th>90</th>\n",
       "      <th>91</th>\n",
       "      <th>92</th>\n",
       "      <th>93</th>\n",
       "      <th>94</th>\n",
       "      <th>95</th>\n",
       "      <th>96</th>\n",
       "      <th>97</th>\n",
       "      <th>98</th>\n",
       "      <th>99</th>\n",
       "      <th>lamp</th>\n",
       "      <th>lamp2</th>\n",
       "    </tr>\n",
       "  </thead>\n",
       "  <tbody>\n",
       "    <tr>\n",
       "      <td>count</td>\n",
       "      <td>36072.000000</td>\n",
       "      <td>36072.000000</td>\n",
       "      <td>36072.000000</td>\n",
       "      <td>36072.000000</td>\n",
       "      <td>36072.000000</td>\n",
       "      <td>36072.000000</td>\n",
       "      <td>36072.000000</td>\n",
       "      <td>36072.000000</td>\n",
       "      <td>36072.000000</td>\n",
       "      <td>36072.000000</td>\n",
       "      <td>36072.000000</td>\n",
       "      <td>36072.000000</td>\n",
       "      <td>36072.000000</td>\n",
       "      <td>36072.000000</td>\n",
       "      <td>36072.000000</td>\n",
       "      <td>...</td>\n",
       "      <td>36072.000000</td>\n",
       "      <td>36072.000000</td>\n",
       "      <td>36072.000000</td>\n",
       "      <td>36072.000000</td>\n",
       "      <td>36072.000000</td>\n",
       "      <td>36072.000000</td>\n",
       "      <td>36072.000000</td>\n",
       "      <td>36072.000000</td>\n",
       "      <td>36072.000000</td>\n",
       "      <td>36072.000000</td>\n",
       "      <td>36072.000000</td>\n",
       "      <td>36072.000000</td>\n",
       "      <td>36072.000000</td>\n",
       "      <td>36072.000000</td>\n",
       "      <td>160.000000</td>\n",
       "    </tr>\n",
       "    <tr>\n",
       "      <td>mean</td>\n",
       "      <td>0.005544</td>\n",
       "      <td>0.003327</td>\n",
       "      <td>0.004990</td>\n",
       "      <td>0.003327</td>\n",
       "      <td>0.001663</td>\n",
       "      <td>0.002218</td>\n",
       "      <td>0.002772</td>\n",
       "      <td>0.004436</td>\n",
       "      <td>0.004990</td>\n",
       "      <td>0.004990</td>\n",
       "      <td>0.003327</td>\n",
       "      <td>0.004436</td>\n",
       "      <td>0.003327</td>\n",
       "      <td>0.002772</td>\n",
       "      <td>0.002218</td>\n",
       "      <td>...</td>\n",
       "      <td>0.003327</td>\n",
       "      <td>0.002772</td>\n",
       "      <td>0.005544</td>\n",
       "      <td>0.004436</td>\n",
       "      <td>0.003881</td>\n",
       "      <td>0.003881</td>\n",
       "      <td>0.003881</td>\n",
       "      <td>0.004990</td>\n",
       "      <td>0.002772</td>\n",
       "      <td>0.004990</td>\n",
       "      <td>0.003327</td>\n",
       "      <td>0.004990</td>\n",
       "      <td>0.002218</td>\n",
       "      <td>0.194611</td>\n",
       "      <td>44.618750</td>\n",
       "    </tr>\n",
       "    <tr>\n",
       "      <td>std</td>\n",
       "      <td>0.074255</td>\n",
       "      <td>0.057582</td>\n",
       "      <td>0.070465</td>\n",
       "      <td>0.057582</td>\n",
       "      <td>0.040751</td>\n",
       "      <td>0.047042</td>\n",
       "      <td>0.052580</td>\n",
       "      <td>0.066453</td>\n",
       "      <td>0.070465</td>\n",
       "      <td>0.070465</td>\n",
       "      <td>0.057582</td>\n",
       "      <td>0.066453</td>\n",
       "      <td>0.057582</td>\n",
       "      <td>0.052580</td>\n",
       "      <td>0.047042</td>\n",
       "      <td>...</td>\n",
       "      <td>0.057582</td>\n",
       "      <td>0.052580</td>\n",
       "      <td>0.074255</td>\n",
       "      <td>0.066453</td>\n",
       "      <td>0.062179</td>\n",
       "      <td>0.062179</td>\n",
       "      <td>0.062179</td>\n",
       "      <td>0.070465</td>\n",
       "      <td>0.052580</td>\n",
       "      <td>0.070465</td>\n",
       "      <td>0.057582</td>\n",
       "      <td>0.070465</td>\n",
       "      <td>0.047042</td>\n",
       "      <td>0.395906</td>\n",
       "      <td>45.397458</td>\n",
       "    </tr>\n",
       "    <tr>\n",
       "      <td>min</td>\n",
       "      <td>0.000000</td>\n",
       "      <td>0.000000</td>\n",
       "      <td>0.000000</td>\n",
       "      <td>0.000000</td>\n",
       "      <td>0.000000</td>\n",
       "      <td>0.000000</td>\n",
       "      <td>0.000000</td>\n",
       "      <td>0.000000</td>\n",
       "      <td>0.000000</td>\n",
       "      <td>0.000000</td>\n",
       "      <td>0.000000</td>\n",
       "      <td>0.000000</td>\n",
       "      <td>0.000000</td>\n",
       "      <td>0.000000</td>\n",
       "      <td>0.000000</td>\n",
       "      <td>...</td>\n",
       "      <td>0.000000</td>\n",
       "      <td>0.000000</td>\n",
       "      <td>0.000000</td>\n",
       "      <td>0.000000</td>\n",
       "      <td>0.000000</td>\n",
       "      <td>0.000000</td>\n",
       "      <td>0.000000</td>\n",
       "      <td>0.000000</td>\n",
       "      <td>0.000000</td>\n",
       "      <td>0.000000</td>\n",
       "      <td>0.000000</td>\n",
       "      <td>0.000000</td>\n",
       "      <td>0.000000</td>\n",
       "      <td>0.000000</td>\n",
       "      <td>0.000000</td>\n",
       "    </tr>\n",
       "    <tr>\n",
       "      <td>25%</td>\n",
       "      <td>0.000000</td>\n",
       "      <td>0.000000</td>\n",
       "      <td>0.000000</td>\n",
       "      <td>0.000000</td>\n",
       "      <td>0.000000</td>\n",
       "      <td>0.000000</td>\n",
       "      <td>0.000000</td>\n",
       "      <td>0.000000</td>\n",
       "      <td>0.000000</td>\n",
       "      <td>0.000000</td>\n",
       "      <td>0.000000</td>\n",
       "      <td>0.000000</td>\n",
       "      <td>0.000000</td>\n",
       "      <td>0.000000</td>\n",
       "      <td>0.000000</td>\n",
       "      <td>...</td>\n",
       "      <td>0.000000</td>\n",
       "      <td>0.000000</td>\n",
       "      <td>0.000000</td>\n",
       "      <td>0.000000</td>\n",
       "      <td>0.000000</td>\n",
       "      <td>0.000000</td>\n",
       "      <td>0.000000</td>\n",
       "      <td>0.000000</td>\n",
       "      <td>0.000000</td>\n",
       "      <td>0.000000</td>\n",
       "      <td>0.000000</td>\n",
       "      <td>0.000000</td>\n",
       "      <td>0.000000</td>\n",
       "      <td>0.000000</td>\n",
       "      <td>1.000000</td>\n",
       "    </tr>\n",
       "    <tr>\n",
       "      <td>50%</td>\n",
       "      <td>0.000000</td>\n",
       "      <td>0.000000</td>\n",
       "      <td>0.000000</td>\n",
       "      <td>0.000000</td>\n",
       "      <td>0.000000</td>\n",
       "      <td>0.000000</td>\n",
       "      <td>0.000000</td>\n",
       "      <td>0.000000</td>\n",
       "      <td>0.000000</td>\n",
       "      <td>0.000000</td>\n",
       "      <td>0.000000</td>\n",
       "      <td>0.000000</td>\n",
       "      <td>0.000000</td>\n",
       "      <td>0.000000</td>\n",
       "      <td>0.000000</td>\n",
       "      <td>...</td>\n",
       "      <td>0.000000</td>\n",
       "      <td>0.000000</td>\n",
       "      <td>0.000000</td>\n",
       "      <td>0.000000</td>\n",
       "      <td>0.000000</td>\n",
       "      <td>0.000000</td>\n",
       "      <td>0.000000</td>\n",
       "      <td>0.000000</td>\n",
       "      <td>0.000000</td>\n",
       "      <td>0.000000</td>\n",
       "      <td>0.000000</td>\n",
       "      <td>0.000000</td>\n",
       "      <td>0.000000</td>\n",
       "      <td>0.000000</td>\n",
       "      <td>40.000000</td>\n",
       "    </tr>\n",
       "    <tr>\n",
       "      <td>75%</td>\n",
       "      <td>0.000000</td>\n",
       "      <td>0.000000</td>\n",
       "      <td>0.000000</td>\n",
       "      <td>0.000000</td>\n",
       "      <td>0.000000</td>\n",
       "      <td>0.000000</td>\n",
       "      <td>0.000000</td>\n",
       "      <td>0.000000</td>\n",
       "      <td>0.000000</td>\n",
       "      <td>0.000000</td>\n",
       "      <td>0.000000</td>\n",
       "      <td>0.000000</td>\n",
       "      <td>0.000000</td>\n",
       "      <td>0.000000</td>\n",
       "      <td>0.000000</td>\n",
       "      <td>...</td>\n",
       "      <td>0.000000</td>\n",
       "      <td>0.000000</td>\n",
       "      <td>0.000000</td>\n",
       "      <td>0.000000</td>\n",
       "      <td>0.000000</td>\n",
       "      <td>0.000000</td>\n",
       "      <td>0.000000</td>\n",
       "      <td>0.000000</td>\n",
       "      <td>0.000000</td>\n",
       "      <td>0.000000</td>\n",
       "      <td>0.000000</td>\n",
       "      <td>0.000000</td>\n",
       "      <td>0.000000</td>\n",
       "      <td>0.000000</td>\n",
       "      <td>80.000000</td>\n",
       "    </tr>\n",
       "    <tr>\n",
       "      <td>max</td>\n",
       "      <td>1.000000</td>\n",
       "      <td>1.000000</td>\n",
       "      <td>1.000000</td>\n",
       "      <td>1.000000</td>\n",
       "      <td>1.000000</td>\n",
       "      <td>1.000000</td>\n",
       "      <td>1.000000</td>\n",
       "      <td>1.000000</td>\n",
       "      <td>1.000000</td>\n",
       "      <td>1.000000</td>\n",
       "      <td>1.000000</td>\n",
       "      <td>1.000000</td>\n",
       "      <td>1.000000</td>\n",
       "      <td>1.000000</td>\n",
       "      <td>1.000000</td>\n",
       "      <td>...</td>\n",
       "      <td>1.000000</td>\n",
       "      <td>1.000000</td>\n",
       "      <td>1.000000</td>\n",
       "      <td>1.000000</td>\n",
       "      <td>1.000000</td>\n",
       "      <td>1.000000</td>\n",
       "      <td>1.000000</td>\n",
       "      <td>1.000000</td>\n",
       "      <td>1.000000</td>\n",
       "      <td>1.000000</td>\n",
       "      <td>1.000000</td>\n",
       "      <td>1.000000</td>\n",
       "      <td>1.000000</td>\n",
       "      <td>1.000000</td>\n",
       "      <td>160.000000</td>\n",
       "    </tr>\n",
       "  </tbody>\n",
       "</table>\n",
       "<p>8 rows × 102 columns</p>\n",
       "</div>"
      ],
      "text/plain": [
       "                  0             1             2             3             4  \\\n",
       "count  36072.000000  36072.000000  36072.000000  36072.000000  36072.000000   \n",
       "mean       0.005544      0.003327      0.004990      0.003327      0.001663   \n",
       "std        0.074255      0.057582      0.070465      0.057582      0.040751   \n",
       "min        0.000000      0.000000      0.000000      0.000000      0.000000   \n",
       "25%        0.000000      0.000000      0.000000      0.000000      0.000000   \n",
       "50%        0.000000      0.000000      0.000000      0.000000      0.000000   \n",
       "75%        0.000000      0.000000      0.000000      0.000000      0.000000   \n",
       "max        1.000000      1.000000      1.000000      1.000000      1.000000   \n",
       "\n",
       "                  5             6             7             8             9  \\\n",
       "count  36072.000000  36072.000000  36072.000000  36072.000000  36072.000000   \n",
       "mean       0.002218      0.002772      0.004436      0.004990      0.004990   \n",
       "std        0.047042      0.052580      0.066453      0.070465      0.070465   \n",
       "min        0.000000      0.000000      0.000000      0.000000      0.000000   \n",
       "25%        0.000000      0.000000      0.000000      0.000000      0.000000   \n",
       "50%        0.000000      0.000000      0.000000      0.000000      0.000000   \n",
       "75%        0.000000      0.000000      0.000000      0.000000      0.000000   \n",
       "max        1.000000      1.000000      1.000000      1.000000      1.000000   \n",
       "\n",
       "                 10            11            12            13            14  \\\n",
       "count  36072.000000  36072.000000  36072.000000  36072.000000  36072.000000   \n",
       "mean       0.003327      0.004436      0.003327      0.002772      0.002218   \n",
       "std        0.057582      0.066453      0.057582      0.052580      0.047042   \n",
       "min        0.000000      0.000000      0.000000      0.000000      0.000000   \n",
       "25%        0.000000      0.000000      0.000000      0.000000      0.000000   \n",
       "50%        0.000000      0.000000      0.000000      0.000000      0.000000   \n",
       "75%        0.000000      0.000000      0.000000      0.000000      0.000000   \n",
       "max        1.000000      1.000000      1.000000      1.000000      1.000000   \n",
       "\n",
       "       ...            87            88            89            90  \\\n",
       "count  ...  36072.000000  36072.000000  36072.000000  36072.000000   \n",
       "mean   ...      0.003327      0.002772      0.005544      0.004436   \n",
       "std    ...      0.057582      0.052580      0.074255      0.066453   \n",
       "min    ...      0.000000      0.000000      0.000000      0.000000   \n",
       "25%    ...      0.000000      0.000000      0.000000      0.000000   \n",
       "50%    ...      0.000000      0.000000      0.000000      0.000000   \n",
       "75%    ...      0.000000      0.000000      0.000000      0.000000   \n",
       "max    ...      1.000000      1.000000      1.000000      1.000000   \n",
       "\n",
       "                 91            92            93            94            95  \\\n",
       "count  36072.000000  36072.000000  36072.000000  36072.000000  36072.000000   \n",
       "mean       0.003881      0.003881      0.003881      0.004990      0.002772   \n",
       "std        0.062179      0.062179      0.062179      0.070465      0.052580   \n",
       "min        0.000000      0.000000      0.000000      0.000000      0.000000   \n",
       "25%        0.000000      0.000000      0.000000      0.000000      0.000000   \n",
       "50%        0.000000      0.000000      0.000000      0.000000      0.000000   \n",
       "75%        0.000000      0.000000      0.000000      0.000000      0.000000   \n",
       "max        1.000000      1.000000      1.000000      1.000000      1.000000   \n",
       "\n",
       "                 96            97            98            99          lamp  \\\n",
       "count  36072.000000  36072.000000  36072.000000  36072.000000  36072.000000   \n",
       "mean       0.004990      0.003327      0.004990      0.002218      0.194611   \n",
       "std        0.070465      0.057582      0.070465      0.047042      0.395906   \n",
       "min        0.000000      0.000000      0.000000      0.000000      0.000000   \n",
       "25%        0.000000      0.000000      0.000000      0.000000      0.000000   \n",
       "50%        0.000000      0.000000      0.000000      0.000000      0.000000   \n",
       "75%        0.000000      0.000000      0.000000      0.000000      0.000000   \n",
       "max        1.000000      1.000000      1.000000      1.000000      1.000000   \n",
       "\n",
       "            lamp2  \n",
       "count  160.000000  \n",
       "mean    44.618750  \n",
       "std     45.397458  \n",
       "min      0.000000  \n",
       "25%      1.000000  \n",
       "50%     40.000000  \n",
       "75%     80.000000  \n",
       "max    160.000000  \n",
       "\n",
       "[8 rows x 102 columns]"
      ]
     },
     "execution_count": 56,
     "metadata": {},
     "output_type": "execute_result"
    }
   ],
   "source": [
    "df_Y.describe()"
   ]
  },
  {
   "cell_type": "code",
   "execution_count": 57,
   "metadata": {
    "ExecuteTime": {
     "end_time": "2020-03-09T22:46:52.602160Z",
     "start_time": "2020-03-09T22:46:52.503370Z"
    },
    "slideshow": {
     "slide_type": "skip"
    }
   },
   "outputs": [
    {
     "name": "stdout",
     "output_type": "stream",
     "text": [
      "29052 7020\n",
      "(39592, 2) 29052 34668 23241 5616 (28857, 2) (7215, 2)\n"
     ]
    }
   ],
   "source": [
    "len0 = df_Y[df_Y['lamp'] == 0].shape[0]\n",
    "len1 = df_Y.shape[0] - len0\n",
    "print(len0, len1)\n",
    "\n",
    "df_test = pd.DataFrame(y_binary)\n",
    "\n",
    "test1 = df_test.loc[np.r_[:int(len0*0.8),len0:len0+int(len1*0.8)]]\n",
    "test2 = df_test.loc[np.r_[int(len0*0.8):len0,len0+int(len1*0.8):len0+len1]]\n",
    "                    \n",
    "print(df_test.shape, len0, len0+int(len1*0.8), int(len0*0.8), int(len1*0.8), test1.shape, test2.shape)"
   ]
  },
  {
   "cell_type": "code",
   "execution_count": 58,
   "metadata": {
    "ExecuteTime": {
     "end_time": "2020-03-09T22:46:53.907901Z",
     "start_time": "2020-03-09T22:46:53.819376Z"
    },
    "slideshow": {
     "slide_type": "skip"
    }
   },
   "outputs": [
    {
     "name": "stdout",
     "output_type": "stream",
     "text": [
      "(23241, 10, 10, 2) (5616, 10, 10, 2) (5811, 10, 10, 2) (1404, 10, 10, 2)\n",
      "(28857, 10, 10, 2) (7215, 10, 10, 2)\n"
     ]
    }
   ],
   "source": [
    "data_x0a = data_x[:int(len0*0.8)]\n",
    "data_x0b = data_x[len0:len0+int(len1*0.8)]\n",
    "data_x1a = data_x[int(len0*0.8):len0]\n",
    "data_x1b = data_x[len0+int(len1*0.8):]\n",
    "print(data_x0a.shape, data_x0b.shape,data_x1a.shape, data_x1b.shape)\n",
    "\n",
    "#data_x0 = np.concatenate(data_x0a, data_x0b, axis=1)\n",
    "data_x0 = tf.keras.backend.concatenate((data_x0a, data_x0b), axis=0)\n",
    "data_x1 = tf.keras.backend.concatenate((data_x1a, data_x1b), axis=0)\n",
    "print(data_x0.shape,data_x1.shape)"
   ]
  },
  {
   "cell_type": "code",
   "execution_count": null,
   "metadata": {
    "slideshow": {
     "slide_type": "skip"
    }
   },
   "outputs": [],
   "source": []
  },
  {
   "cell_type": "markdown",
   "metadata": {
    "slideshow": {
     "slide_type": "skip"
    }
   },
   "source": [
    "### Séparation Train - Test "
   ]
  },
  {
   "cell_type": "code",
   "execution_count": 59,
   "metadata": {
    "ExecuteTime": {
     "end_time": "2020-03-09T22:46:55.143355Z",
     "start_time": "2020-03-09T22:46:55.053128Z"
    },
    "slideshow": {
     "slide_type": "skip"
    }
   },
   "outputs": [
    {
     "name": "stdout",
     "output_type": "stream",
     "text": [
      "(28857, 2) (7215, 2)\n",
      "(23241, 10, 10, 2) (5616, 10, 10, 2) (5811, 10, 10, 2) (1404, 10, 10, 2)\n",
      "(28857, 10, 10, 2) (7215, 10, 10, 2)\n"
     ]
    }
   ],
   "source": [
    "\n",
    "#########   problemes d'arrondis   ????  #######\n",
    "#### pas le meme nombre de lignes pour les 2 manières différentes d'extraire les lignes  ????\n",
    "df_testY = pd.DataFrame(y_binary)\n",
    "y0 = df_testY.loc[np.r_[:int(len0*0.8),len0:len0+int(len1*0.8)],:]\n",
    "y1 = df_testY.loc[np.r_[int(len0*0.8):len0,len0+int(len1*0.8):len0+len1],:]\n",
    "print(y0.shape, y1.shape)\n",
    "\n",
    "data_x0a = data_x[:int(len0*0.8)]\n",
    "data_x0b = data_x[len0:len0+int(len1*0.8)]\n",
    "data_x1a = data_x[int(len0*0.8):len0]\n",
    "data_x1b = data_x[len0+int(len1*0.8):]\n",
    "print(data_x0a.shape, data_x0b.shape,data_x1a.shape, data_x1b.shape)\n",
    "\n",
    "#data_x0 = np.concatenate(data_x0a, data_x0b, axis=1)\n",
    "data_x0 = tf.keras.backend.concatenate((data_x0a, data_x0b), axis=0)\n",
    "data_x1 = tf.keras.backend.concatenate((data_x1a, data_x1b), axis=0)\n",
    "print(data_x0.shape,data_x1.shape)\n",
    "\n",
    "#X10, X11 = tf.split(X1, [:], 0)\n",
    "#Y10, Y11 = tf.split(y_binary, [[len0 * 0.8:len0,len0+len1*0.8:]], 0)\n",
    "\n",
    "#print(X10.shape, Y10.shape, X11.shape)"
   ]
  },
  {
   "cell_type": "code",
   "execution_count": 60,
   "metadata": {
    "ExecuteTime": {
     "end_time": "2020-03-09T22:46:56.363226Z",
     "start_time": "2020-03-09T22:46:56.273306Z"
    },
    "slideshow": {
     "slide_type": "slide"
    }
   },
   "outputs": [
    {
     "name": "stdout",
     "output_type": "stream",
     "text": [
      "Dimensions X: (36072, 10, 10, 2)\n",
      "Dimensions Y: (36072, 2) 36072\n",
      "Train et Test: (28857, 10, 10, 2) 28857 (7215, 10, 10, 2) 7215\n",
      "(28857, 10, 10, 2) 28857 (7215, 10, 10, 2) 7215\n",
      "(28857, 2) (28857, 2) (7215, 2)\n"
     ]
    }
   ],
   "source": [
    "from sklearn.model_selection import train_test_split \n",
    "from keras.utils import to_categorical\n",
    "\n",
    "# Charge et split les données\n",
    "###############   TODO      ###############\n",
    "####### fonctionne avec les 2 cubes/images \n",
    "X = data_x\n",
    "####### Si ne fonctionne pas avec les 2 cubes/images \n",
    "# X = data1\n",
    "print(\"Dimensions X:\", X.shape)\n",
    "##############################################\n",
    "#####   calcul de la position de la lampe dans le carré N\n",
    "###  Passage mode binaire à une liste de 100\n",
    "############\n",
    "# Manière 1 de \n",
    "y = liste_y\n",
    "# Manière 2 ... directe à partir des 3 mêmes fichiers 10x10\n",
    "y = df_Y['lamp']\n",
    "\n",
    "y_binary = to_categorical(y)\n",
    "print(\"Dimensions Y:\", y_binary.shape, len(y))\n",
    "#\n",
    "# y = data_y\n",
    "# print(y.shape)\n",
    "#############################\n",
    "\n",
    "# tfds   tensorflow dataset splitting\n",
    "# test_split, valid_split, train_split = tfds.Split.TRAIN.subsplit([10, 15, 75])\n",
    "# PYTORCH   torchtext.data.Dataset\n",
    "# split(split_ratio=0.7, stratified=False, strata_field='label', random_state=None\n",
    "\n",
    "methode = 'test3'\n",
    "#methode = 'SKLEARN'\n",
    "\n",
    "if methode == 'test':\n",
    "    all = tf.data.Dataset.from_tensor_slices(X).shuffle(10, reshuffle_each_iteration=False)\n",
    "    n_row = int(X.shape[0] * 0.8)\n",
    "    train_data, test_data     = X[:n_row,:,:,:], X[n_row:,:,:,:]\n",
    "    train_labels, test_labels = y_binary[:n_row,:], y_binary[n_row:,:]\n",
    "    \n",
    "if methode == 'test2':\n",
    "    len0 = df_Y[df_Y['lamp'] == 0].shape[0]\n",
    "    len1 = df_Y.shape[0] - len0\n",
    "    \n",
    "    train_data, test_data = tf.split(X, [n_row1, n_row2], 0)\n",
    "    train_labels, test_labels = tf.split(y_binary, [n_row1, n_row2], 0)\n",
    "    \n",
    "if methode == 'test3':\n",
    "    train_data, test_data     = (data_x0, data_x1)\n",
    "    train_labels, test_labels = (y0, y1)\n",
    "\n",
    "if methode == 'shuffle':\n",
    "    fraction = 20\n",
    "    #all = tf.data.Dataset.from_tensor_slices(list(range(1, 21))).shuffle(10, reshuffle_each_iteration=False)\n",
    "    #test_data = all.enumerate().filter(lambda x,y: x % int(100/fraction) == 0).map(lambda x,y: y)\n",
    "    \n",
    "# dim = len(keras.backend.int_shape(X))\n",
    "# if dim = 2:\n",
    "# Avec SKLEARN\n",
    "if methode == 'SKLEARN':\n",
    "    train_data, test_data, train_labels, test_labels = train_test_split(\n",
    "        X, y_binary, test_size=0.2, random_state=42, stratify=y_binary)\n",
    "#        X, y, test_size=0.2, random_state=42, stratify=y)\n",
    "\n",
    "#print(train_data.shape, train_labels.shape, test_data.shape, test_labels.shape)\n",
    "print(\"Train et Test:\", train_data.shape, len(train_labels), test_data.shape, len(test_labels))\n",
    "\n",
    "#train_data = np.expand_dims(train_data, axis=3)\n",
    "#test_data = np.expand_dims(test_data, axis=3)\n",
    "\n",
    "#### Ce n'est plus nécessaire si X est un Tenseur 4D\n",
    "#train_data = train_data.reshape(train_data.shape[0], 10, 10, 1)\n",
    "#test_data  = test_data.reshape(test_data.shape[0], 10, 10, 1)\n",
    "\n",
    "#print(train_data.shape, train_labels.shape, test_data.shape, test_labels.shape)\n",
    "print(train_data.shape, len(train_labels), test_data.shape, len(test_labels))\n",
    "print(y0.shape, y0[:].shape, y1.shape)"
   ]
  },
  {
   "cell_type": "code",
   "execution_count": 61,
   "metadata": {
    "ExecuteTime": {
     "end_time": "2020-03-09T22:46:57.528784Z",
     "start_time": "2020-03-09T22:46:57.457016Z"
    },
    "slideshow": {
     "slide_type": "skip"
    }
   },
   "outputs": [],
   "source": [
    "#print(pd.DataFrame(train_labels).describe())\n",
    "#print(pd.DataFrame(test_labels).describe())"
   ]
  },
  {
   "cell_type": "markdown",
   "metadata": {
    "slideshow": {
     "slide_type": "skip"
    }
   },
   "source": [
    "## Modèles CNN 2D"
   ]
  },
  {
   "cell_type": "raw",
   "metadata": {
    "slideshow": {
     "slide_type": "skip"
    }
   },
   "source": [
    "keras.layers.Conv2D(\n",
    "    filters,               #  32\n",
    "    kernel_size,           # (3,3)\n",
    "    strides=(1, 1),        # nombre impair\n",
    "    padding='valid',       # or \"same\"\n",
    "    data_format=None, \n",
    "    dilation_rate=(1, 1),\n",
    "    activation=None,       # \"relu\"\n",
    "    activity_regularizer=None, kernel_regularizer=None , bias_regularizer=None\n",
    "    kernel_initializer='glorot_uniform', kernel_constraint=None,     #  ou 'he_normal'\n",
    "    use_bias=True, bias_initializer='zeros', bias_constraint=None)   "
   ]
  },
  {
   "cell_type": "raw",
   "metadata": {
    "ExecuteTime": {
     "end_time": "2020-03-02T14:53:59.729537Z",
     "start_time": "2020-03-02T14:52:55.448153Z"
    },
    "slideshow": {
     "slide_type": "skip"
    }
   },
   "source": [
    "# 0)Trains a simplet CONVNET on the MNIST dataset\n",
    "\n",
    "input_shape = (10, 10, 1)     #input_shape = (10, 10, 2)\n",
    "num_classes = 2\n",
    "epochs = 15\n",
    "batch_sise=len(test_labels)/10\n",
    "activ1  = \"relu\"\n",
    "activ2  = \"sigmoid\"\n",
    "activ2b = \"softmax\"\n",
    "\n",
    "from sklearn.utils import class_weight\n",
    "ratio = 401 / 70\n",
    "poids_class = {0: 1., 1: ratio}\n",
    "#poids_class = class_weight.compute_class_weight(np.unique(train_labels), train_labels, y=? [0,1])\n",
    "\n",
    "model2 = Sequential()\n",
    "model2.add(Conv2D(filters=32, kernel_size=(3, 3), padding=\"same\", strides=(1,1), \n",
    "                  activation=activ1, kernel_regularizer = \"l2\", input_shape=input_shape))\n",
    "model2.add(Conv2D(32, (3, 3), padding=\"same\", strides=(1,1), activation=activ1, kernel_regularizer = \"l2\"))\n",
    "# , kernel_regularizer = l2 (0.0005)\n",
    "\n",
    "#model2.add(MaxPooling2D(pool_size=(2, 2)))\n",
    "model2.add(Dropout(1/4))\n",
    "\n",
    "model2.add(Conv2D(64, (3, 3), padding=\"same\", strides=(1,1), activation=activ1, kernel_regularizer = \"l2\"))\n",
    "model2.add(Conv2D(64, (3, 3), padding=\"same\", strides=(1,1), activation=activ1, kernel_regularizer = \"l2\"))\n",
    "#model2.add(MaxPooling2D(pool_size=(2, 2)))\n",
    "model2.add(Dropout(1/4))\n",
    "\n",
    "model2.add(Flatten())\n",
    "model2.add(Dense(128, activation=activ1))\n",
    "model2.add(Dropout(0.5))\n",
    "model2.add(Dense(num_classes, activation=activ2))\n",
    "\n",
    "# optimizerA  sgd=SGD(lr=1e-5, decay=1e-6, momentum=0.9, nesterov=True)\n",
    "# optimizerB  adam=Adam(lr=1e-3, beta_1=0.9, beta_2=0.999, epsilon=1e-8, decay=0.0)\n",
    "#optim = keras.optimizers.Adadelta()\n",
    "optim = SGD(lr=1e-4, decay=1e-6, momentum=0.9, nesterov=True)\n",
    "# bianry or categorical\n",
    "\n",
    "model2.compile(loss=keras.losses.binary_crossentropy, optimizer=optim, metrics=['accuracy'])\n",
    "\n",
    "# poids_class, 'balanced', 'balanced_subsample'\n",
    "history2 = model2.fit(train_data, train_labels, batch_size=batch_size, epochs=epochs,\n",
    "            class_weight='balanced',\n",
    "            verbose=1, validation_data=(test_data, test_labels))\n",
    "\n",
    "score = model2.evaluate(test_data, test_labels, batch_size=batch_size, verbose=2)\n",
    "print('Test loss:', score[0])\n",
    "print('Test accuracy:', score[1])\n"
   ]
  },
  {
   "cell_type": "raw",
   "metadata": {
    "ExecuteTime": {
     "end_time": "2020-03-02T09:23:11.049089Z",
     "start_time": "2020-03-02T09:23:07.724793Z"
    },
    "slideshow": {
     "slide_type": "skip"
    }
   },
   "source": [
    "# 1) Trains a simplet CONVNET on the MNIST dataset\n",
    "\n",
    "input_shape = (10, 10, 1)     #input_shape = (10, 10, 2)\n",
    "\n",
    "epochs = 11\n",
    "batch_size = 64\n",
    "\n",
    "num_filters = 8\n",
    "filter_size = 3\n",
    "pool_size = 2\n",
    "\n",
    "num_classes = 2   #  1 ou 2\n",
    "\n",
    "model2 = Sequential([\n",
    "    Conv2D(num_filters, filter_size, padding=\"same\", strides=(1,1), input_shape=input_shape),\n",
    "    Conv2D(num_filters, filter_size, padding=\"same\", strides=(1,1)),\n",
    "    #Conv2D(num_filters, filter_size, padding=\"same\", strides=(1,1)),\n",
    "    #Conv2D(num_filters, filter_size),\n",
    "    #MaxPooling2D(pool_size=pool_size),\n",
    "    Flatten(),\n",
    "    Dense(num_classes, activation='softmax'),\n",
    "])\n",
    "\n",
    "#model2.compile(loss=keras.losses.categorical_crossentropy, optimizer=keras.optimizers.Adadelta(),\n",
    "#              metrics=['accuracy'])\n",
    "model2.compile(loss=keras.losses.binary_crossentropy, optimizer=keras.optimizers.Adadelta(),\n",
    "              metrics=['accuracy'])\n",
    "\n",
    "\n",
    "history2 = model2.fit(train_data, train_labels, batch_size=batch_size, epochs=epochs,\n",
    "          verbose=1, validation_data=(test_data, test_labels))\n",
    "\n",
    "score = model2.evaluate(test_data, test_labels, verbose=0)\n",
    "print('Test loss:', score[0])\n",
    "print('Test accuracy:', score[1])\n",
    "\n"
   ]
  },
  {
   "cell_type": "code",
   "execution_count": null,
   "metadata": {
    "slideshow": {
     "slide_type": "skip"
    }
   },
   "outputs": [],
   "source": []
  },
  {
   "cell_type": "code",
   "execution_count": 65,
   "metadata": {
    "ExecuteTime": {
     "end_time": "2020-03-09T23:00:21.008117Z",
     "start_time": "2020-03-09T22:52:08.823809Z"
    },
    "slideshow": {
     "slide_type": "slide"
    }
   },
   "outputs": [
    {
     "name": "stdout",
     "output_type": "stream",
     "text": [
      "(28857, 10, 10, 2) (28857, 2) (36072, 102) (36072, 2) 36072\n",
      "Epoch 1/200\n",
      "2/2 [==============================] - 5s 3s/step - loss: 0.7148 - accuracy: 0.4587\n",
      "Epoch 2/200\n",
      "2/2 [==============================] - 2s 1s/step - loss: 0.5943 - accuracy: 0.7852\n",
      "Epoch 3/200\n",
      "2/2 [==============================] - 3s 1s/step - loss: 0.5687 - accuracy: 0.8045\n",
      "Epoch 4/200\n",
      "2/2 [==============================] - 3s 1s/step - loss: 0.5619 - accuracy: 0.8058\n",
      "Epoch 5/200\n",
      "2/2 [==============================] - 2s 1s/step - loss: 0.5557 - accuracy: 0.8060\n",
      "Epoch 6/200\n",
      "2/2 [==============================] - 2s 1s/step - loss: 0.5496 - accuracy: 0.8062\n",
      "Epoch 7/200\n",
      "2/2 [==============================] - 2s 1s/step - loss: 0.5433 - accuracy: 0.8059\n",
      "Epoch 8/200\n",
      "2/2 [==============================] - 3s 1s/step - loss: 0.5366 - accuracy: 0.8059\n",
      "Epoch 9/200\n",
      "2/2 [==============================] - 2s 1s/step - loss: 0.5293 - accuracy: 0.8059\n",
      "Epoch 10/200\n",
      "2/2 [==============================] - 2s 1s/step - loss: 0.5211 - accuracy: 0.8059\n",
      "Epoch 11/200\n",
      "2/2 [==============================] - 2s 1s/step - loss: 0.5116 - accuracy: 0.8058\n",
      "Epoch 12/200\n",
      "2/2 [==============================] - 3s 1s/step - loss: 0.5007 - accuracy: 0.8066\n",
      "Epoch 13/200\n",
      "2/2 [==============================] - 3s 1s/step - loss: 0.4881 - accuracy: 0.8072\n",
      "Epoch 14/200\n",
      "2/2 [==============================] - 3s 1s/step - loss: 0.4752 - accuracy: 0.8107\n",
      "Epoch 15/200\n",
      "2/2 [==============================] - 3s 1s/step - loss: 0.4892 - accuracy: 0.8117\n",
      "Epoch 16/200\n",
      "2/2 [==============================] - 3s 1s/step - loss: 0.4962 - accuracy: 0.8116\n",
      "Epoch 17/200\n",
      "2/2 [==============================] - 2s 1s/step - loss: 0.4804 - accuracy: 0.8125\n",
      "Epoch 18/200\n",
      "2/2 [==============================] - 3s 1s/step - loss: 0.4682 - accuracy: 0.8137\n",
      "Epoch 19/200\n",
      "2/2 [==============================] - 3s 1s/step - loss: 0.4628 - accuracy: 0.8142\n",
      "Epoch 20/200\n",
      "2/2 [==============================] - 2s 1s/step - loss: 0.4612 - accuracy: 0.8150\n",
      "Epoch 21/200\n",
      "2/2 [==============================] - 2s 1s/step - loss: 0.4558 - accuracy: 0.8155\n",
      "Epoch 22/200\n",
      "2/2 [==============================] - 2s 1s/step - loss: 0.4466 - accuracy: 0.8168\n",
      "Epoch 23/200\n",
      "2/2 [==============================] - 2s 1s/step - loss: 0.4395 - accuracy: 0.8179\n",
      "Epoch 24/200\n",
      "2/2 [==============================] - 2s 1s/step - loss: 0.4351 - accuracy: 0.8190\n",
      "Epoch 25/200\n",
      "2/2 [==============================] - 2s 1s/step - loss: 0.4310 - accuracy: 0.8197\n",
      "Epoch 26/200\n",
      "2/2 [==============================] - 2s 1s/step - loss: 0.4252 - accuracy: 0.8203\n",
      "Epoch 27/200\n",
      "2/2 [==============================] - 2s 1s/step - loss: 0.4196 - accuracy: 0.8213\n",
      "Epoch 28/200\n",
      "2/2 [==============================] - 2s 1s/step - loss: 0.4155 - accuracy: 0.8227\n",
      "Epoch 29/200\n",
      "2/2 [==============================] - 3s 1s/step - loss: 0.4126 - accuracy: 0.8239\n",
      "Epoch 30/200\n",
      "2/2 [==============================] - 3s 1s/step - loss: 0.4081 - accuracy: 0.8253\n",
      "Epoch 31/200\n",
      "2/2 [==============================] - 3s 1s/step - loss: 0.4034 - accuracy: 0.8267\n",
      "Epoch 32/200\n",
      "2/2 [==============================] - 2s 1s/step - loss: 0.3997 - accuracy: 0.8282\n",
      "Epoch 33/200\n",
      "2/2 [==============================] - 2s 1s/step - loss: 0.3977 - accuracy: 0.8290\n",
      "Epoch 34/200\n",
      "2/2 [==============================] - 3s 1s/step - loss: 0.3955 - accuracy: 0.8297\n",
      "Epoch 35/200\n",
      "2/2 [==============================] - 2s 1s/step - loss: 0.3918 - accuracy: 0.8308\n",
      "Epoch 36/200\n",
      "2/2 [==============================] - 2s 1s/step - loss: 0.3880 - accuracy: 0.8325\n",
      "Epoch 37/200\n",
      "2/2 [==============================] - 2s 1s/step - loss: 0.3857 - accuracy: 0.8342\n",
      "Epoch 38/200\n",
      "2/2 [==============================] - 2s 1s/step - loss: 0.3840 - accuracy: 0.8348\n",
      "Epoch 39/200\n",
      "2/2 [==============================] - 2s 1s/step - loss: 0.3818 - accuracy: 0.8356\n",
      "Epoch 40/200\n",
      "2/2 [==============================] - 3s 1s/step - loss: 0.3785 - accuracy: 0.8366\n",
      "Epoch 41/200\n",
      "2/2 [==============================] - 4s 2s/step - loss: 0.3757 - accuracy: 0.8379\n",
      "Epoch 42/200\n",
      "2/2 [==============================] - 4s 2s/step - loss: 0.3741 - accuracy: 0.8382\n",
      "Epoch 43/200\n",
      "2/2 [==============================] - 3s 1s/step - loss: 0.3728 - accuracy: 0.8383\n",
      "Epoch 44/200\n",
      "2/2 [==============================] - 3s 1s/step - loss: 0.3700 - accuracy: 0.8391\n",
      "Epoch 45/200\n",
      "2/2 [==============================] - 3s 1s/step - loss: 0.3669 - accuracy: 0.8404\n",
      "Epoch 46/200\n",
      "2/2 [==============================] - 2s 1s/step - loss: 0.3651 - accuracy: 0.8420\n",
      "Epoch 47/200\n",
      "2/2 [==============================] - 2s 1s/step - loss: 0.3648 - accuracy: 0.8426\n",
      "Epoch 48/200\n",
      "2/2 [==============================] - 2s 1s/step - loss: 0.3622 - accuracy: 0.8437\n",
      "Epoch 49/200\n",
      "2/2 [==============================] - 2s 1s/step - loss: 0.3602 - accuracy: 0.8454\n",
      "Epoch 50/200\n",
      "2/2 [==============================] - 2s 1s/step - loss: 0.3580 - accuracy: 0.8460\n",
      "Epoch 51/200\n",
      "2/2 [==============================] - 2s 1s/step - loss: 0.3561 - accuracy: 0.8472\n",
      "Epoch 52/200\n",
      "2/2 [==============================] - 2s 1s/step - loss: 0.3540 - accuracy: 0.8480\n",
      "Epoch 53/200\n",
      "2/2 [==============================] - 2s 1s/step - loss: 0.3528 - accuracy: 0.8485\n",
      "Epoch 54/200\n",
      "2/2 [==============================] - 2s 1s/step - loss: 0.3506 - accuracy: 0.8494\n",
      "Epoch 55/200\n",
      "2/2 [==============================] - 2s 1s/step - loss: 0.3496 - accuracy: 0.8498\n",
      "Epoch 56/200\n",
      "2/2 [==============================] - 3s 1s/step - loss: 0.3469 - accuracy: 0.8507\n",
      "Epoch 57/200\n",
      "2/2 [==============================] - 3s 1s/step - loss: 0.3441 - accuracy: 0.8517\n",
      "Epoch 58/200\n",
      "2/2 [==============================] - 2s 1s/step - loss: 0.3430 - accuracy: 0.8524\n",
      "Epoch 59/200\n",
      "2/2 [==============================] - 2s 1s/step - loss: 0.3411 - accuracy: 0.8536\n",
      "Epoch 60/200\n",
      "2/2 [==============================] - 2s 1s/step - loss: 0.3393 - accuracy: 0.8554\n",
      "Epoch 61/200\n",
      "2/2 [==============================] - 2s 1s/step - loss: 0.3375 - accuracy: 0.8566\n",
      "Epoch 62/200\n",
      "2/2 [==============================] - 2s 1s/step - loss: 0.3358 - accuracy: 0.8568\n",
      "Epoch 63/200\n",
      "2/2 [==============================] - 3s 1s/step - loss: 0.3333 - accuracy: 0.8580\n",
      "Epoch 64/200\n",
      "2/2 [==============================] - 2s 1s/step - loss: 0.3327 - accuracy: 0.8595\n",
      "Epoch 65/200\n",
      "2/2 [==============================] - 2s 1s/step - loss: 0.3300 - accuracy: 0.8595\n",
      "Epoch 66/200\n",
      "2/2 [==============================] - 2s 1s/step - loss: 0.3292 - accuracy: 0.8605\n",
      "Epoch 67/200\n",
      "2/2 [==============================] - 2s 1s/step - loss: 0.3283 - accuracy: 0.8612\n",
      "Epoch 68/200\n",
      "2/2 [==============================] - 2s 1s/step - loss: 0.3244 - accuracy: 0.8621\n",
      "Epoch 69/200\n",
      "2/2 [==============================] - 2s 1s/step - loss: 0.3225 - accuracy: 0.8638\n",
      "Epoch 70/200\n",
      "2/2 [==============================] - 2s 1s/step - loss: 0.3213 - accuracy: 0.8646\n",
      "Epoch 71/200\n",
      "2/2 [==============================] - 2s 1s/step - loss: 0.3198 - accuracy: 0.8652\n",
      "Epoch 72/200\n",
      "2/2 [==============================] - 2s 1s/step - loss: 0.3176 - accuracy: 0.8656\n",
      "Epoch 73/200\n",
      "2/2 [==============================] - 2s 1s/step - loss: 0.3156 - accuracy: 0.8658\n",
      "Epoch 74/200\n",
      "2/2 [==============================] - 2s 1s/step - loss: 0.3135 - accuracy: 0.8671\n",
      "Epoch 75/200\n",
      "2/2 [==============================] - 2s 1s/step - loss: 0.3132 - accuracy: 0.8682\n",
      "Epoch 76/200\n",
      "2/2 [==============================] - 2s 1s/step - loss: 0.3104 - accuracy: 0.8688\n",
      "Epoch 77/200\n",
      "2/2 [==============================] - 2s 1s/step - loss: 0.3083 - accuracy: 0.8701\n",
      "Epoch 78/200\n",
      "2/2 [==============================] - 2s 1s/step - loss: 0.3055 - accuracy: 0.8709\n",
      "Epoch 79/200\n",
      "2/2 [==============================] - 2s 1s/step - loss: 0.3036 - accuracy: 0.8714\n",
      "Epoch 80/200\n",
      "2/2 [==============================] - 2s 1s/step - loss: 0.3022 - accuracy: 0.8723\n",
      "Epoch 81/200\n",
      "2/2 [==============================] - 2s 1s/step - loss: 0.3014 - accuracy: 0.8719\n",
      "Epoch 82/200\n",
      "2/2 [==============================] - 3s 1s/step - loss: 0.2993 - accuracy: 0.8733\n",
      "Epoch 83/200\n",
      "2/2 [==============================] - 2s 1s/step - loss: 0.2971 - accuracy: 0.8745\n",
      "Epoch 84/200\n",
      "2/2 [==============================] - 2s 1s/step - loss: 0.2935 - accuracy: 0.8755\n",
      "Epoch 85/200\n",
      "2/2 [==============================] - 3s 1s/step - loss: 0.2932 - accuracy: 0.8770\n",
      "Epoch 86/200\n",
      "2/2 [==============================] - 2s 1s/step - loss: 0.2910 - accuracy: 0.8776\n",
      "Epoch 87/200\n",
      "2/2 [==============================] - 2s 1s/step - loss: 0.2886 - accuracy: 0.8792\n",
      "Epoch 88/200\n",
      "2/2 [==============================] - 2s 1s/step - loss: 0.2865 - accuracy: 0.8798\n",
      "Epoch 89/200\n",
      "2/2 [==============================] - 2s 1s/step - loss: 0.2854 - accuracy: 0.8795\n",
      "Epoch 90/200\n",
      "2/2 [==============================] - 2s 1s/step - loss: 0.2821 - accuracy: 0.8812\n",
      "Epoch 91/200\n",
      "2/2 [==============================] - 2s 1s/step - loss: 0.2791 - accuracy: 0.8827\n",
      "Epoch 92/200\n",
      "2/2 [==============================] - 2s 1s/step - loss: 0.2764 - accuracy: 0.8833\n",
      "Epoch 93/200\n",
      "2/2 [==============================] - 2s 1s/step - loss: 0.2772 - accuracy: 0.8826\n",
      "Epoch 94/200\n",
      "2/2 [==============================] - 2s 1s/step - loss: 0.2757 - accuracy: 0.8826\n",
      "Epoch 95/200\n",
      "2/2 [==============================] - 2s 1s/step - loss: 0.2748 - accuracy: 0.8837\n",
      "Epoch 96/200\n",
      "2/2 [==============================] - 3s 1s/step - loss: 0.2684 - accuracy: 0.8855\n",
      "Epoch 97/200\n",
      "2/2 [==============================] - 2s 1s/step - loss: 0.2655 - accuracy: 0.8881\n",
      "Epoch 98/200\n",
      "2/2 [==============================] - 2s 1s/step - loss: 0.2626 - accuracy: 0.8884\n",
      "Epoch 99/200\n",
      "2/2 [==============================] - 2s 1s/step - loss: 0.2648 - accuracy: 0.8888\n",
      "Epoch 100/200\n",
      "2/2 [==============================] - 2s 1s/step - loss: 0.2621 - accuracy: 0.8885\n",
      "Epoch 101/200\n",
      "2/2 [==============================] - 2s 1s/step - loss: 0.2617 - accuracy: 0.8907\n",
      "Epoch 102/200\n",
      "2/2 [==============================] - 2s 1s/step - loss: 0.2543 - accuracy: 0.8933\n",
      "Epoch 103/200\n",
      "2/2 [==============================] - 2s 1s/step - loss: 0.2512 - accuracy: 0.8952\n",
      "Epoch 104/200\n",
      "2/2 [==============================] - 2s 1s/step - loss: 0.2471 - accuracy: 0.8970\n",
      "Epoch 105/200\n",
      "2/2 [==============================] - 3s 1s/step - loss: 0.2497 - accuracy: 0.8952\n",
      "Epoch 106/200\n",
      "2/2 [==============================] - 3s 1s/step - loss: 0.2510 - accuracy: 0.8933\n",
      "Epoch 107/200\n",
      "2/2 [==============================] - 3s 1s/step - loss: 0.2535 - accuracy: 0.8917\n",
      "Epoch 108/200\n",
      "2/2 [==============================] - 2s 1s/step - loss: 0.2433 - accuracy: 0.8970\n",
      "Epoch 109/200\n",
      "2/2 [==============================] - 3s 1s/step - loss: 0.2362 - accuracy: 0.9025\n",
      "Epoch 110/200\n",
      "2/2 [==============================] - 4s 2s/step - loss: 0.2301 - accuracy: 0.9055\n",
      "Epoch 111/200\n",
      "2/2 [==============================] - 4s 2s/step - loss: 0.2273 - accuracy: 0.9079\n",
      "Epoch 112/200\n",
      "2/2 [==============================] - 2s 1s/step - loss: 0.2304 - accuracy: 0.9041\n",
      "Epoch 113/200\n",
      "2/2 [==============================] - 2s 1s/step - loss: 0.2522 - accuracy: 0.8881\n",
      "Epoch 114/200\n",
      "2/2 [==============================] - 2s 1s/step - loss: 0.2451 - accuracy: 0.8923\n",
      "Epoch 115/200\n",
      "2/2 [==============================] - 2s 1s/step - loss: 0.2284 - accuracy: 0.9040\n",
      "Epoch 116/200\n",
      "2/2 [==============================] - 2s 1s/step - loss: 0.2192 - accuracy: 0.9138\n",
      "Epoch 117/200\n",
      "2/2 [==============================] - 2s 1s/step - loss: 0.2061 - accuracy: 0.9193\n",
      "Epoch 118/200\n",
      "2/2 [==============================] - 3s 1s/step - loss: 0.1995 - accuracy: 0.9211\n",
      "Epoch 119/200\n",
      "2/2 [==============================] - 3s 1s/step - loss: 0.2088 - accuracy: 0.9145\n",
      "Epoch 120/200\n",
      "2/2 [==============================] - 2s 1s/step - loss: 0.2440 - accuracy: 0.8891\n",
      "Epoch 121/200\n",
      "2/2 [==============================] - 2s 1s/step - loss: 0.2548 - accuracy: 0.8829\n",
      "Epoch 122/200\n",
      "2/2 [==============================] - 2s 1s/step - loss: 0.2233 - accuracy: 0.9055\n",
      "Epoch 123/200\n",
      "2/2 [==============================] - 2s 1s/step - loss: 0.2030 - accuracy: 0.9199\n",
      "Epoch 124/200\n",
      "2/2 [==============================] - 3s 1s/step - loss: 0.1855 - accuracy: 0.9287\n",
      "Epoch 125/200\n",
      "2/2 [==============================] - 3s 1s/step - loss: 0.1754 - accuracy: 0.9334\n",
      "Epoch 126/200\n",
      "2/2 [==============================] - 3s 1s/step - loss: 0.1756 - accuracy: 0.9328\n",
      "Epoch 127/200\n",
      "2/2 [==============================] - 3s 1s/step - loss: 0.1947 - accuracy: 0.9190\n",
      "Epoch 128/200\n",
      "2/2 [==============================] - 3s 1s/step - loss: 0.2496 - accuracy: 0.8850\n",
      "Epoch 129/200\n",
      "2/2 [==============================] - 3s 2s/step - loss: 0.2525 - accuracy: 0.8807\n",
      "Epoch 130/200\n",
      "2/2 [==============================] - 2s 1s/step - loss: 0.2017 - accuracy: 0.9138\n",
      "Epoch 131/200\n",
      "2/2 [==============================] - 3s 1s/step - loss: 0.1785 - accuracy: 0.9305\n",
      "Epoch 132/200\n",
      "2/2 [==============================] - 2s 1s/step - loss: 0.1625 - accuracy: 0.9390\n",
      "Epoch 133/200\n",
      "2/2 [==============================] - 2s 1s/step - loss: 0.1545 - accuracy: 0.9444\n",
      "Epoch 134/200\n",
      "2/2 [==============================] - 2s 1s/step - loss: 0.1530 - accuracy: 0.9443\n",
      "Epoch 135/200\n",
      "2/2 [==============================] - 2s 1s/step - loss: 0.1622 - accuracy: 0.9375\n",
      "Epoch 136/200\n",
      "2/2 [==============================] - 2s 1s/step - loss: 0.2013 - accuracy: 0.9116\n",
      "Epoch 137/200\n",
      "2/2 [==============================] - 3s 1s/step - loss: 0.2585 - accuracy: 0.8765\n",
      "Epoch 138/200\n",
      "2/2 [==============================] - 2s 1s/step - loss: 0.2153 - accuracy: 0.8974\n",
      "Epoch 139/200\n",
      "2/2 [==============================] - 2s 1s/step - loss: 0.1604 - accuracy: 0.9378\n",
      "Epoch 140/200\n",
      "2/2 [==============================] - 2s 1s/step - loss: 0.1464 - accuracy: 0.9478\n",
      "Epoch 141/200\n",
      "2/2 [==============================] - 2s 1s/step - loss: 0.1415 - accuracy: 0.9497\n",
      "Epoch 142/200\n",
      "2/2 [==============================] - 2s 1s/step - loss: 0.1420 - accuracy: 0.9488\n",
      "Epoch 143/200\n",
      "2/2 [==============================] - 2s 1s/step - loss: 0.1505 - accuracy: 0.9432\n",
      "Epoch 144/200\n",
      "2/2 [==============================] - 2s 1s/step - loss: 0.1680 - accuracy: 0.9307\n",
      "Epoch 145/200\n",
      "2/2 [==============================] - 2s 1s/step - loss: 0.1716 - accuracy: 0.9266\n",
      "Epoch 146/200\n",
      "2/2 [==============================] - 3s 1s/step - loss: 0.1809 - accuracy: 0.9200\n",
      "Epoch 147/200\n",
      "2/2 [==============================] - 2s 1s/step - loss: 0.2178 - accuracy: 0.9036\n",
      "Epoch 148/200\n",
      "2/2 [==============================] - 2s 1s/step - loss: 0.1481 - accuracy: 0.9425\n",
      "Epoch 149/200\n",
      "2/2 [==============================] - 3s 1s/step - loss: 0.1310 - accuracy: 0.9542\n",
      "Epoch 150/200\n",
      "2/2 [==============================] - 3s 1s/step - loss: 0.1314 - accuracy: 0.9536\n",
      "Epoch 151/200\n",
      "2/2 [==============================] - 2s 1s/step - loss: 0.1403 - accuracy: 0.9468\n",
      "Epoch 152/200\n",
      "2/2 [==============================] - 2s 1s/step - loss: 0.1508 - accuracy: 0.9391\n",
      "Epoch 153/200\n",
      "2/2 [==============================] - 2s 1s/step - loss: 0.1465 - accuracy: 0.9397\n",
      "Epoch 154/200\n",
      "2/2 [==============================] - 2s 1s/step - loss: 0.1326 - accuracy: 0.9503\n",
      "Epoch 155/200\n",
      "2/2 [==============================] - 2s 1s/step - loss: 0.1291 - accuracy: 0.9535\n",
      "Epoch 156/200\n",
      "2/2 [==============================] - 2s 1s/step - loss: 0.1294 - accuracy: 0.9528\n",
      "Epoch 157/200\n",
      "2/2 [==============================] - 2s 1s/step - loss: 0.1283 - accuracy: 0.9528\n",
      "Epoch 158/200\n",
      "2/2 [==============================] - 2s 1s/step - loss: 0.1276 - accuracy: 0.9530\n",
      "Epoch 159/200\n",
      "2/2 [==============================] - 2s 1s/step - loss: 0.1296 - accuracy: 0.9513\n",
      "Epoch 160/200\n",
      "2/2 [==============================] - 2s 1s/step - loss: 0.1332 - accuracy: 0.9491\n",
      "Epoch 161/200\n",
      "2/2 [==============================] - 2s 1s/step - loss: 0.1351 - accuracy: 0.9468\n",
      "Epoch 162/200\n",
      "2/2 [==============================] - 2s 1s/step - loss: 0.1267 - accuracy: 0.9521\n",
      "Epoch 163/200\n",
      "2/2 [==============================] - 2s 1s/step - loss: 0.1222 - accuracy: 0.9535\n",
      "Epoch 164/200\n",
      "2/2 [==============================] - 2s 1s/step - loss: 0.1241 - accuracy: 0.9558\n",
      "Epoch 165/200\n",
      "2/2 [==============================] - 2s 1s/step - loss: 0.1312 - accuracy: 0.9505\n",
      "Epoch 166/200\n",
      "2/2 [==============================] - 2s 1s/step - loss: 0.1255 - accuracy: 0.9522\n",
      "Epoch 167/200\n"
     ]
    },
    {
     "name": "stdout",
     "output_type": "stream",
     "text": [
      "2/2 [==============================] - 2s 1s/step - loss: 0.1105 - accuracy: 0.9606\n",
      "Epoch 168/200\n",
      "2/2 [==============================] - 3s 2s/step - loss: 0.1087 - accuracy: 0.9616\n",
      "Epoch 169/200\n",
      "2/2 [==============================] - 4s 2s/step - loss: 0.1219 - accuracy: 0.9532\n",
      "Epoch 170/200\n",
      "2/2 [==============================] - 3s 2s/step - loss: 0.1231 - accuracy: 0.9532\n",
      "Epoch 171/200\n",
      "2/2 [==============================] - 2s 1s/step - loss: 0.1282 - accuracy: 0.9460\n",
      "Epoch 172/200\n",
      "2/2 [==============================] - 2s 1s/step - loss: 0.1158 - accuracy: 0.9591\n",
      "Epoch 173/200\n",
      "2/2 [==============================] - 2s 1s/step - loss: 0.1421 - accuracy: 0.9441\n",
      "Epoch 174/200\n",
      "2/2 [==============================] - 2s 1s/step - loss: 0.1519 - accuracy: 0.9349\n",
      "Epoch 175/200\n",
      "2/2 [==============================] - 2s 1s/step - loss: 0.1061 - accuracy: 0.9608\n",
      "Epoch 176/200\n",
      "2/2 [==============================] - 2s 1s/step - loss: 0.0866 - accuracy: 0.9723\n",
      "Epoch 177/200\n",
      "2/2 [==============================] - 2s 1s/step - loss: 0.0781 - accuracy: 0.9757\n",
      "Epoch 178/200\n",
      "2/2 [==============================] - 2s 1s/step - loss: 0.0733 - accuracy: 0.9779\n",
      "Epoch 179/200\n",
      "2/2 [==============================] - 2s 1s/step - loss: 0.0707 - accuracy: 0.9792\n",
      "Epoch 180/200\n",
      "2/2 [==============================] - 2s 1s/step - loss: 0.0696 - accuracy: 0.9795\n",
      "Epoch 181/200\n",
      "2/2 [==============================] - 3s 1s/step - loss: 0.0708 - accuracy: 0.9781\n",
      "Epoch 182/200\n",
      "2/2 [==============================] - 2s 1s/step - loss: 0.0773 - accuracy: 0.9748\n",
      "Epoch 183/200\n",
      "2/2 [==============================] - 2s 1s/step - loss: 0.0977 - accuracy: 0.9658\n",
      "Epoch 184/200\n",
      "2/2 [==============================] - 2s 1s/step - loss: 0.1400 - accuracy: 0.9416\n",
      "Epoch 185/200\n",
      "2/2 [==============================] - 2s 1s/step - loss: 0.1649 - accuracy: 0.9304\n",
      "Epoch 186/200\n",
      "2/2 [==============================] - 2s 1s/step - loss: 0.1113 - accuracy: 0.9559\n",
      "Epoch 187/200\n",
      "2/2 [==============================] - 2s 1s/step - loss: 0.0788 - accuracy: 0.9749\n",
      "Epoch 188/200\n",
      "2/2 [==============================] - 2s 1s/step - loss: 0.0653 - accuracy: 0.9820\n",
      "Epoch 189/200\n",
      "2/2 [==============================] - 2s 1s/step - loss: 0.0600 - accuracy: 0.9835\n",
      "Epoch 190/200\n",
      "2/2 [==============================] - 2s 1s/step - loss: 0.0571 - accuracy: 0.9852\n",
      "Epoch 191/200\n",
      "2/2 [==============================] - 2s 1s/step - loss: 0.0551 - accuracy: 0.9859\n",
      "Epoch 192/200\n",
      "2/2 [==============================] - 2s 1s/step - loss: 0.0535 - accuracy: 0.9859\n",
      "Epoch 193/200\n",
      "2/2 [==============================] - 2s 1s/step - loss: 0.0524 - accuracy: 0.9864\n",
      "Epoch 194/200\n",
      "2/2 [==============================] - 3s 1s/step - loss: 0.0522 - accuracy: 0.9864\n",
      "Epoch 195/200\n",
      "2/2 [==============================] - 2s 1s/step - loss: 0.0547 - accuracy: 0.9855\n",
      "Epoch 196/200\n",
      "2/2 [==============================] - 2s 1s/step - loss: 0.0637 - accuracy: 0.9811\n",
      "Epoch 197/200\n",
      "2/2 [==============================] - 2s 1s/step - loss: 0.0911 - accuracy: 0.9707\n",
      "Epoch 198/200\n",
      "2/2 [==============================] - 2s 1s/step - loss: 0.1425 - accuracy: 0.9425\n",
      "Epoch 199/200\n",
      "2/2 [==============================] - 2s 1s/step - loss: 0.1280 - accuracy: 0.9448\n",
      "Epoch 200/200\n",
      "2/2 [==============================] - 2s 1s/step - loss: 0.0735 - accuracy: 0.9757\n",
      "Test loss: 0.024589185913403828\n",
      "Test accuracy: 2.9380457997322083\n"
     ]
    }
   ],
   "source": [
    "print(train_data.shape, train_labels.shape,df_Y.shape, y_binary.shape, len(y))\n",
    "\n",
    "# 2) Train CONVNET on the MNIST dataset\n",
    "dim = len(keras.backend.int_shape(train_data))\n",
    "\n",
    "epochs = 200   # 30 à 50 ou 120-150-200 ???\n",
    "#  steps PROBLEMES si différent de 1 pour les derniers plots\n",
    "batch_size = 1    # 64 \n",
    "#ratio = 10 * 401 / 70\n",
    "ratio = 10 * 20000 / 70\n",
    "poids_class = {0: 1., 1: ratio}\n",
    "if dim == 2:\n",
    "    input_shape = (10, 10)\n",
    "if dim == 4:\n",
    "    input_shape = (10, 10, 2)\n",
    "    #input_shape = (10, 10, 1)\n",
    "\n",
    "filters = (5,5)\n",
    "strides=(1,1)\n",
    "pool_size=(2,2)\n",
    "\n",
    "model2 = Sequential([\n",
    "    Conv2D(6, filters, padding=\"same\", strides=strides, input_shape=input_shape),\n",
    "    MaxPooling2D(pool_size=pool_size),\n",
    "    Conv2D(16, filters, padding=\"same\", strides=strides),\n",
    "    MaxPooling2D(pool_size=pool_size),\n",
    "    Flatten(),\n",
    "    Dense(120, activation='relu'),\n",
    "    #Dropout(0.1),\n",
    "    Dense(100, activation='relu'),\n",
    "    #Dropout(0.1),\n",
    "    Dense(2, activation='sigmoid')   #  'softmax'\n",
    "    #Dense(2, activation='softmax')\n",
    "])\n",
    "\n",
    "#model2.compile(loss=keras.losses.categorical_crossentropy, optimizer=keras.optimizers.Adadelta(),\n",
    "#              metrics=['accuracy'])\n",
    "model2.compile(loss=keras.losses.binary_crossentropy, optimizer=keras.optimizers.Adadelta(),\n",
    "#model2.compile(loss=keras.losses.mse, optimizer=keras.optimizers.Adadelta(),\n",
    "              metrics=['accuracy'])\n",
    "\n",
    "#  si TENSOR = 2D\n",
    "if dim == 2:\n",
    "    history2 = model2.fit(train_data, train_labels, batch_size=batch_size, epochs=epochs, \n",
    "                          class_weight=poids_class,  # ou   'balanced'\n",
    "          verbose=1, validation_data=(test_data, test_labels))\n",
    "    score = model2.evaluate(test_data, test_labels, verbose=0)\n",
    "elif dim == 4:\n",
    "#    history2 = model2.fit_generator(train_data, train_labels, verbose=1)      \n",
    "    history2 = model2.fit(train_data, train_labels, epochs=epochs, verbose=1, \n",
    "#                          # class_weight=poids_class,   #  ValueError:  NOT supported for 3+ dimensional targets\n",
    "                        validation_freq=.33, steps_per_epoch=2)\n",
    "    score = model2.evaluate(test_data, test_labels, steps=3, verbose=0)\n",
    "else:\n",
    "    print(\"WRONG tensor dimension inputs ....\")\n",
    "\n",
    "print('Test loss:', score[0])\n",
    "print('Test accuracy:', score[1])"
   ]
  },
  {
   "cell_type": "markdown",
   "metadata": {
    "slideshow": {
     "slide_type": "skip"
    }
   },
   "source": [
    "### Sommaire"
   ]
  },
  {
   "cell_type": "code",
   "execution_count": 63,
   "metadata": {
    "ExecuteTime": {
     "end_time": "2020-03-09T22:51:04.930134Z",
     "start_time": "2020-03-09T22:51:04.863680Z"
    },
    "slideshow": {
     "slide_type": "slide"
    }
   },
   "outputs": [
    {
     "name": "stdout",
     "output_type": "stream",
     "text": [
      "Model: \"sequential_4\"\n",
      "_________________________________________________________________\n",
      "Layer (type)                 Output Shape              Param #   \n",
      "=================================================================\n",
      "conv2d_5 (Conv2D)            (None, 10, 10, 6)         306       \n",
      "_________________________________________________________________\n",
      "max_pooling2d_5 (MaxPooling2 (None, 5, 5, 6)           0         \n",
      "_________________________________________________________________\n",
      "conv2d_6 (Conv2D)            (None, 5, 5, 16)          2416      \n",
      "_________________________________________________________________\n",
      "max_pooling2d_6 (MaxPooling2 (None, 2, 2, 16)          0         \n",
      "_________________________________________________________________\n",
      "flatten_4 (Flatten)          (None, 64)                0         \n",
      "_________________________________________________________________\n",
      "dense_9 (Dense)              (None, 120)               7800      \n",
      "_________________________________________________________________\n",
      "dense_10 (Dense)             (None, 100)               12100     \n",
      "_________________________________________________________________\n",
      "dense_11 (Dense)             (None, 2)                 202       \n",
      "=================================================================\n",
      "Total params: 22,824\n",
      "Trainable params: 22,824\n",
      "Non-trainable params: 0\n",
      "_________________________________________________________________\n"
     ]
    }
   ],
   "source": [
    "model2.summary()\n",
    "\n",
    "# model.save_weights('file.h5')\n",
    "# avec le model construit + les poids\n",
    "# model.load_weights('file.h5')"
   ]
  },
  {
   "cell_type": "markdown",
   "metadata": {
    "slideshow": {
     "slide_type": "skip"
    }
   },
   "source": [
    "### Figures"
   ]
  },
  {
   "cell_type": "code",
   "execution_count": 66,
   "metadata": {
    "ExecuteTime": {
     "end_time": "2020-03-09T23:00:27.340239Z",
     "start_time": "2020-03-09T23:00:27.139060Z"
    },
    "slideshow": {
     "slide_type": "skip"
    }
   },
   "outputs": [
    {
     "data": {
      "image/png": "[encoded data removed]",
      "text/plain": [
       "<Figure size 432x288 with 1 Axes>"
      ]
     },
     "metadata": {
      "needs_background": "light"
     },
     "output_type": "display_data"
    }
   ],
   "source": [
    "#history0.history\n",
    "# plot metrics\n",
    "#_ = plt.plot(history2.history['binary_accuracy'])\n",
    "_ = plt.plot(history2.history['accuracy'])\n",
    "_ = plt.show()"
   ]
  },
  {
   "cell_type": "code",
   "execution_count": 67,
   "metadata": {
    "ExecuteTime": {
     "end_time": "2020-03-09T23:00:41.195729Z",
     "start_time": "2020-03-09T23:00:40.863557Z"
    },
    "slideshow": {
     "slide_type": "slide"
    }
   },
   "outputs": [
    {
     "name": "stdout",
     "output_type": "stream",
     "text": [
      "dict_keys(['loss', 'accuracy'])\n",
      "0 blue [[0.7148138880729675, 0.5942616760730743, 0.5686941146850586, 0.5618957281112671, 0.555746465921402, 0.549613744020462, 0.5433064699172974, 0.5366248190402985, 0.5293034613132477, 0.5210654437541962, 0.5115886330604553, 0.5006916522979736, 0.48809005320072174, 0.4752045273780823, 0.4892459660768509, 0.49616625905036926, 0.4803543835878372, 0.46819598972797394, 0.46281495690345764, 0.4612121433019638, 0.45577843487262726, 0.44662410020828247, 0.4395226538181305, 0.4351407140493393, 0.43096496164798737, 0.42515386641025543, 0.41955655813217163, 0.41548527777194977, 0.4125721901655197, 0.40807032585144043, 0.40343281626701355, 0.39972665905952454, 0.39772483706474304, 0.3954586088657379, 0.3917960226535797, 0.38803572952747345, 0.3856844902038574, 0.3840041160583496, 0.38181862235069275, 0.378531277179718, 0.37573909759521484, 0.3741486072540283, 0.37281833589076996, 0.3699808269739151, 0.36687375605106354, 0.3651357591152191, 0.36483925580978394, 0.36224472522735596, 0.3601793199777603, 0.35801176726818085, 0.35608285665512085, 0.354041263461113, 0.352836474776268, 0.35061171650886536, 0.3496079742908478, 0.3469282239675522, 0.3440648168325424, 0.34300175309181213, 0.3410694897174835, 0.33928723633289337, 0.3374596834182739, 0.33579063415527344, 0.33329975605010986, 0.33266858756542206, 0.33001723885536194, 0.3291531056165695, 0.32825252413749695, 0.3243945837020874, 0.3224997818470001, 0.3212614059448242, 0.31979095935821533, 0.31758809089660645, 0.31556953489780426, 0.3134715259075165, 0.3132362514734268, 0.31042203307151794, 0.30827467143535614, 0.3055349141359329, 0.30364516377449036, 0.3021991103887558, 0.30142298340797424, 0.2992958277463913, 0.297135591506958, 0.2935086339712143, 0.2932416498661041, 0.29099905490875244, 0.288606733083725, 0.286491259932518, 0.28541550040245056, 0.2820742279291153, 0.2790503352880478, 0.27641661465168, 0.27719584107398987, 0.2757462412118912, 0.2747501879930496, 0.2684202343225479, 0.2654758095741272, 0.2625860273838043, 0.26480622589588165, 0.2621251046657562, 0.26168105006217957, 0.25431229174137115, 0.25123661011457443, 0.24705632030963898, 0.24971679598093033, 0.2509869486093521, 0.2535001114010811, 0.24328060448169708, 0.2361859828233719, 0.23005544394254684, 0.22731082886457443, 0.23043150454759598, 0.25221390277147293, 0.24510254710912704, 0.22835032641887665, 0.21920164674520493, 0.20612625777721405, 0.1995241343975067, 0.20883060991764069, 0.24402842670679092, 0.25481218844652176, 0.22331466525793076, 0.20298362523317337, 0.18549229204654694, 0.1754104197025299, 0.17563462257385254, 0.1947299838066101, 0.24960259348154068, 0.2525240629911423, 0.20167338848114014, 0.17849765717983246, 0.1624854952096939, 0.1545080542564392, 0.1530311331152916, 0.1621614471077919, 0.20130840688943863, 0.2584936395287514, 0.2152981460094452, 0.16039296239614487, 0.14641469717025757, 0.14150425791740417, 0.1420198157429695, 0.15050511062145233, 0.1679806411266327, 0.17156102508306503, 0.1809190735220909, 0.21776390820741653, 0.1481323167681694, 0.1309552788734436, 0.1313738226890564, 0.14029990136623383, 0.1507531702518463, 0.14654512703418732, 0.13264050334692, 0.1291130632162094, 0.12940997257828712, 0.12831208482384682, 0.1275574080646038, 0.12962451577186584, 0.1331780031323433, 0.1350991651415825, 0.12666182219982147, 0.12222617492079735, 0.12408008426427841, 0.1311662718653679, 0.12553171440958977, 0.11052754893898964, 0.10873512923717499, 0.12190096080303192, 0.12308716028928757, 0.12817979604005814, 0.11575591936707497, 0.14211681485176086, 0.15194033831357956, 0.10607534646987915, 0.08662138134241104, 0.07809790223836899, 0.0733257308602333, 0.07070881500840187, 0.0695684477686882, 0.0707608237862587, 0.07727828249335289, 0.09769457206130028, 0.1400403417646885, 0.16494768112897873, 0.11128496378660202, 0.07878657430410385, 0.06527047231793404, 0.059967100620269775, 0.05714466609060764, 0.05510273203253746, 0.05349908582866192, 0.052378835156559944, 0.05220027454197407, 0.05467323213815689, 0.06372500211000443, 0.09111449122428894, 0.14251292124390602, 0.12796375527977943, 0.07346898317337036], [0.45865822, 0.78522545, 0.8044842, 0.805827, 0.80598295, 0.8061562, 0.805905, 0.805905, 0.80588764, 0.805879, 0.805827, 0.8065634, 0.8072305, 0.8106958, 0.8116921, 0.8115622, 0.81247187, 0.8136847, 0.8141872, 0.8149582, 0.81546074, 0.8168382, 0.8178691, 0.8190214, 0.81969714, 0.8202689, 0.8212565, 0.82269466, 0.82387286, 0.82530236, 0.8266712, 0.8281959, 0.8290363, 0.82974666, 0.83079493, 0.83250165, 0.834243, 0.8348494, 0.83557713, 0.83662546, 0.83789897, 0.8381762, 0.8383061, 0.8391378, 0.84043735, 0.84197074, 0.84258586, 0.84367746, 0.84540147, 0.8460166, 0.84717745, 0.8480178, 0.8484943, 0.84938663, 0.8498025, 0.85068613, 0.8517431, 0.85239285, 0.8536057, 0.85541636, 0.8565859, 0.8567852, 0.8580327, 0.8594622, 0.8594535, 0.86053646, 0.86122954, 0.8621305, 0.86382854, 0.8646342, 0.86518, 0.86557853, 0.86582977, 0.8671206, 0.8682122, 0.86881, 0.87006617, 0.8709239, 0.871383, 0.8723273, 0.87191147, 0.8732543, 0.87451917, 0.8755328, 0.8769796, 0.87757736, 0.8791541, 0.87980384, 0.87954396, 0.88123333, 0.88265413, 0.88326055, 0.88262814, 0.88259345, 0.88365906, 0.8855217, 0.88807744, 0.88844126, 0.88877916, 0.8884846, 0.8906938, 0.8933361, 0.8952334, 0.89700073, 0.89521605, 0.89325815, 0.89174205, 0.8969574, 0.902476, 0.9055255, 0.907856, 0.90409607, 0.88807744, 0.89227915, 0.9039748, 0.9137558, 0.9192917, 0.92106766, 0.9145441, 0.8890737, 0.88294, 0.9054995, 0.9199414, 0.9286915, 0.9333784, 0.9327719, 0.91895384, 0.88498455, 0.8807395, 0.9138251, 0.9305021, 0.93901825, 0.94435495, 0.94428563, 0.9374502, 0.9115812, 0.87648576, 0.89737326, 0.9377707, 0.9477943, 0.9497176, 0.9487559, 0.9431854, 0.9307447, 0.9266036, 0.92001075, 0.90362823, 0.9425183, 0.9541619, 0.9536334, 0.946824, 0.9390962, 0.93974596, 0.95028067, 0.95346016, 0.9528364, 0.9528364, 0.953027, 0.9513203, 0.9491198, 0.9467547, 0.952126, 0.95351213, 0.9558079, 0.95045394, 0.9522386, 0.9605901, 0.96162975, 0.95321757, 0.95318294, 0.9460356, 0.9590827, 0.944121, 0.93490314, 0.9608241, 0.9722511, 0.97574246, 0.97791696, 0.9791992, 0.979537, 0.9781422, 0.9748068, 0.96577084, 0.9416086, 0.93036354, 0.95585126, 0.9749021, 0.9819628, 0.9834962, 0.9851596, 0.9858613, 0.9859306, 0.98642445, 0.9864418, 0.9854628, 0.98107046, 0.97068304, 0.9425096, 0.94475347, 0.9757251]]\n",
      "2 orange [[0.7148138880729675, 0.5942616760730743, 0.5686941146850586, 0.5618957281112671, 0.555746465921402, 0.549613744020462, 0.5433064699172974, 0.5366248190402985, 0.5293034613132477, 0.5210654437541962, 0.5115886330604553, 0.5006916522979736, 0.48809005320072174, 0.4752045273780823, 0.4892459660768509, 0.49616625905036926, 0.4803543835878372, 0.46819598972797394, 0.46281495690345764, 0.4612121433019638, 0.45577843487262726, 0.44662410020828247, 0.4395226538181305, 0.4351407140493393, 0.43096496164798737, 0.42515386641025543, 0.41955655813217163, 0.41548527777194977, 0.4125721901655197, 0.40807032585144043, 0.40343281626701355, 0.39972665905952454, 0.39772483706474304, 0.3954586088657379, 0.3917960226535797, 0.38803572952747345, 0.3856844902038574, 0.3840041160583496, 0.38181862235069275, 0.378531277179718, 0.37573909759521484, 0.3741486072540283, 0.37281833589076996, 0.3699808269739151, 0.36687375605106354, 0.3651357591152191, 0.36483925580978394, 0.36224472522735596, 0.3601793199777603, 0.35801176726818085, 0.35608285665512085, 0.354041263461113, 0.352836474776268, 0.35061171650886536, 0.3496079742908478, 0.3469282239675522, 0.3440648168325424, 0.34300175309181213, 0.3410694897174835, 0.33928723633289337, 0.3374596834182739, 0.33579063415527344, 0.33329975605010986, 0.33266858756542206, 0.33001723885536194, 0.3291531056165695, 0.32825252413749695, 0.3243945837020874, 0.3224997818470001, 0.3212614059448242, 0.31979095935821533, 0.31758809089660645, 0.31556953489780426, 0.3134715259075165, 0.3132362514734268, 0.31042203307151794, 0.30827467143535614, 0.3055349141359329, 0.30364516377449036, 0.3021991103887558, 0.30142298340797424, 0.2992958277463913, 0.297135591506958, 0.2935086339712143, 0.2932416498661041, 0.29099905490875244, 0.288606733083725, 0.286491259932518, 0.28541550040245056, 0.2820742279291153, 0.2790503352880478, 0.27641661465168, 0.27719584107398987, 0.2757462412118912, 0.2747501879930496, 0.2684202343225479, 0.2654758095741272, 0.2625860273838043, 0.26480622589588165, 0.2621251046657562, 0.26168105006217957, 0.25431229174137115, 0.25123661011457443, 0.24705632030963898, 0.24971679598093033, 0.2509869486093521, 0.2535001114010811, 0.24328060448169708, 0.2361859828233719, 0.23005544394254684, 0.22731082886457443, 0.23043150454759598, 0.25221390277147293, 0.24510254710912704, 0.22835032641887665, 0.21920164674520493, 0.20612625777721405, 0.1995241343975067, 0.20883060991764069, 0.24402842670679092, 0.25481218844652176, 0.22331466525793076, 0.20298362523317337, 0.18549229204654694, 0.1754104197025299, 0.17563462257385254, 0.1947299838066101, 0.24960259348154068, 0.2525240629911423, 0.20167338848114014, 0.17849765717983246, 0.1624854952096939, 0.1545080542564392, 0.1530311331152916, 0.1621614471077919, 0.20130840688943863, 0.2584936395287514, 0.2152981460094452, 0.16039296239614487, 0.14641469717025757, 0.14150425791740417, 0.1420198157429695, 0.15050511062145233, 0.1679806411266327, 0.17156102508306503, 0.1809190735220909, 0.21776390820741653, 0.1481323167681694, 0.1309552788734436, 0.1313738226890564, 0.14029990136623383, 0.1507531702518463, 0.14654512703418732, 0.13264050334692, 0.1291130632162094, 0.12940997257828712, 0.12831208482384682, 0.1275574080646038, 0.12962451577186584, 0.1331780031323433, 0.1350991651415825, 0.12666182219982147, 0.12222617492079735, 0.12408008426427841, 0.1311662718653679, 0.12553171440958977, 0.11052754893898964, 0.10873512923717499, 0.12190096080303192, 0.12308716028928757, 0.12817979604005814, 0.11575591936707497, 0.14211681485176086, 0.15194033831357956, 0.10607534646987915, 0.08662138134241104, 0.07809790223836899, 0.0733257308602333, 0.07070881500840187, 0.0695684477686882, 0.0707608237862587, 0.07727828249335289, 0.09769457206130028, 0.1400403417646885, 0.16494768112897873, 0.11128496378660202, 0.07878657430410385, 0.06527047231793404, 0.059967100620269775, 0.05714466609060764, 0.05510273203253746, 0.05349908582866192, 0.052378835156559944, 0.05220027454197407, 0.05467323213815689, 0.06372500211000443, 0.09111449122428894, 0.14251292124390602, 0.12796375527977943, 0.07346898317337036], [0.45865822, 0.78522545, 0.8044842, 0.805827, 0.80598295, 0.8061562, 0.805905, 0.805905, 0.80588764, 0.805879, 0.805827, 0.8065634, 0.8072305, 0.8106958, 0.8116921, 0.8115622, 0.81247187, 0.8136847, 0.8141872, 0.8149582, 0.81546074, 0.8168382, 0.8178691, 0.8190214, 0.81969714, 0.8202689, 0.8212565, 0.82269466, 0.82387286, 0.82530236, 0.8266712, 0.8281959, 0.8290363, 0.82974666, 0.83079493, 0.83250165, 0.834243, 0.8348494, 0.83557713, 0.83662546, 0.83789897, 0.8381762, 0.8383061, 0.8391378, 0.84043735, 0.84197074, 0.84258586, 0.84367746, 0.84540147, 0.8460166, 0.84717745, 0.8480178, 0.8484943, 0.84938663, 0.8498025, 0.85068613, 0.8517431, 0.85239285, 0.8536057, 0.85541636, 0.8565859, 0.8567852, 0.8580327, 0.8594622, 0.8594535, 0.86053646, 0.86122954, 0.8621305, 0.86382854, 0.8646342, 0.86518, 0.86557853, 0.86582977, 0.8671206, 0.8682122, 0.86881, 0.87006617, 0.8709239, 0.871383, 0.8723273, 0.87191147, 0.8732543, 0.87451917, 0.8755328, 0.8769796, 0.87757736, 0.8791541, 0.87980384, 0.87954396, 0.88123333, 0.88265413, 0.88326055, 0.88262814, 0.88259345, 0.88365906, 0.8855217, 0.88807744, 0.88844126, 0.88877916, 0.8884846, 0.8906938, 0.8933361, 0.8952334, 0.89700073, 0.89521605, 0.89325815, 0.89174205, 0.8969574, 0.902476, 0.9055255, 0.907856, 0.90409607, 0.88807744, 0.89227915, 0.9039748, 0.9137558, 0.9192917, 0.92106766, 0.9145441, 0.8890737, 0.88294, 0.9054995, 0.9199414, 0.9286915, 0.9333784, 0.9327719, 0.91895384, 0.88498455, 0.8807395, 0.9138251, 0.9305021, 0.93901825, 0.94435495, 0.94428563, 0.9374502, 0.9115812, 0.87648576, 0.89737326, 0.9377707, 0.9477943, 0.9497176, 0.9487559, 0.9431854, 0.9307447, 0.9266036, 0.92001075, 0.90362823, 0.9425183, 0.9541619, 0.9536334, 0.946824, 0.9390962, 0.93974596, 0.95028067, 0.95346016, 0.9528364, 0.9528364, 0.953027, 0.9513203, 0.9491198, 0.9467547, 0.952126, 0.95351213, 0.9558079, 0.95045394, 0.9522386, 0.9605901, 0.96162975, 0.95321757, 0.95318294, 0.9460356, 0.9590827, 0.944121, 0.93490314, 0.9608241, 0.9722511, 0.97574246, 0.97791696, 0.9791992, 0.979537, 0.9781422, 0.9748068, 0.96577084, 0.9416086, 0.93036354, 0.95585126, 0.9749021, 0.9819628, 0.9834962, 0.9851596, 0.9858613, 0.9859306, 0.98642445, 0.9864418, 0.9854628, 0.98107046, 0.97068304, 0.9425096, 0.94475347, 0.9757251]]\n"
     ]
    },
    {
     "data": {
      "image/png": "[encoded data removed]",
      "text/plain": [
       "<Figure size 1440x288 with 2 Axes>"
      ]
     },
     "metadata": {
      "needs_background": "light"
     },
     "output_type": "display_data"
    }
   ],
   "source": [
    "print(history2.history.keys())\n",
    "coul = [\"blue\", \"lightblue\", \"orange\", \"red\"]\n",
    "\n",
    "fig = plt.figure(figsize=(20,4))\n",
    "_ = plt.subplot(1,2,1)\n",
    "for i in range(0,4,2):\n",
    "    print(i,coul[i], list(history2.history.values()))\n",
    "    #_ = plt.plot(list(history2.history.values())[i],'k-o', color=coul[i])\n",
    "    _ = plt.plot(list(history2.history.values())[0],'k-o', color=coul[i])\n",
    "_ = plt.subplot(1,2,2)\n",
    "for j in range(1,4,2):\n",
    "    _ = plt.plot(list(history2.history.values())[1],'k-o', color=coul[j])"
   ]
  },
  {
   "cell_type": "code",
   "execution_count": 68,
   "metadata": {
    "ExecuteTime": {
     "end_time": "2020-03-09T23:00:58.715617Z",
     "start_time": "2020-03-09T23:00:54.465457Z"
    },
    "slideshow": {
     "slide_type": "skip"
    }
   },
   "outputs": [
    {
     "name": "stdout",
     "output_type": "stream",
     "text": [
      "Test loss: 0.07376755774021149\n",
      "Test accuracy: 0.9793485999107361\n",
      "[0 0 0 0 0 0 0 0 0 0 0 0 0 0 0 0 0 0 0 0 0 0 0 0 0 0 0 0 0 0 0 1 0 0 0 0 0\n",
      " 0 0 0 0 0 0 0 0 0 0 0 0 0 0 0 0 0 0 0 0 0 0 0 0 0 0 0 0 0 0 0 0 0 0 0 0 0\n",
      " 0 0 0 0 0 0 0 0 0 0 0 0 0 0 0 0 0 0 0 0 0 0 0 0 0 0]\n",
      "(7215, 2) <class 'pandas.core.frame.DataFrame'>\n"
     ]
    },
    {
     "data": {
      "image/png": "[encoded data removed]",
      "text/plain": [
       "<Figure size 864x432 with 2 Axes>"
      ]
     },
     "metadata": {
      "needs_background": "light"
     },
     "output_type": "display_data"
    }
   ],
   "source": [
    "# RESULTATS\n",
    "\n",
    "if dim == 2:\n",
    "    score = model2.evaluate(test_data, test_labels, verbose=0, batch_size=batch_size)\n",
    "    classes = model2.predict(test_data, batch_size=batch_size)\n",
    "    predictions = model2.predict(test_data[:10])\n",
    "if dim == 4:\n",
    "    score = model2.evaluate(test_data, test_labels, verbose=0, steps=batch_size)\n",
    "    classes = model2.predict(test_data, steps=batch_size)\n",
    "    predictions = model2.predict(test_data[:100], steps=batch_size)\n",
    "    \n",
    "print('Test loss:', score[0])\n",
    "print('Test accuracy:', score[1])\n",
    "\n",
    "# predictions\n",
    " #predictions = model2.predict_classes(test_data[:10])\n",
    "print(np.argmax(predictions, axis=1))\n",
    "print(test_labels.shape, type(test_labels))\n",
    "\n",
    "######## TypeError: '(slice(None, 100, None), slice(0, 1, None))' is an invalid key\n",
    "#print(test_labels[:100,0:1])\n",
    "\n",
    "# PLOTS\n",
    "fig = plt.figure(figsize=(12,6))\n",
    "_ = plt.subplot(2,1,1)\n",
    "_ = plt.plot(history2.history['accuracy'])\n",
    "if dim == 2:\n",
    "    _ = plt.plot(history2.history['val_accuracy'])\n",
    "_ = plt.title('model accuracy')\n",
    "_ = plt.xlabel('epoch')\n",
    "_ = plt.ylabel('accuracy')\n",
    "_ = plt.legend(['train','test'], loc='lower right')\n",
    "\n",
    "_ = plt.subplot(2,1,2)\n",
    "_ = plt.plot(history2.history['loss'])\n",
    "if dim == 2:\n",
    "    _ = plt.plot(history2.history['val_loss'])\n",
    "_ = plt.title('model loss')\n",
    "_ = plt.xlabel('epoch')\n",
    "_ = plt.ylabel('loss')\n",
    "_ = plt.legend(['train','test'], loc='upper right')\n",
    "\n",
    "_ = plt.tight_layout()\n",
    "_ = fig"
   ]
  },
  {
   "cell_type": "markdown",
   "metadata": {
    "slideshow": {
     "slide_type": "skip"
    }
   },
   "source": [
    "### Matrice de confusion"
   ]
  },
  {
   "cell_type": "code",
   "execution_count": 69,
   "metadata": {
    "ExecuteTime": {
     "end_time": "2020-03-09T23:01:10.165143Z",
     "start_time": "2020-03-09T23:01:10.091449Z"
    },
    "slideshow": {
     "slide_type": "skip"
    }
   },
   "outputs": [
    {
     "name": "stdout",
     "output_type": "stream",
     "text": [
      "(28857, 10, 10, 2) (28857, 2) (28856, 2)\n"
     ]
    },
    {
     "data": {
      "text/html": [
       "<div>\n",
       "<style scoped>\n",
       "    .dataframe tbody tr th:only-of-type {\n",
       "        vertical-align: middle;\n",
       "    }\n",
       "\n",
       "    .dataframe tbody tr th {\n",
       "        vertical-align: top;\n",
       "    }\n",
       "\n",
       "    .dataframe thead th {\n",
       "        text-align: right;\n",
       "    }\n",
       "</style>\n",
       "<table border=\"1\" class=\"dataframe\">\n",
       "  <thead>\n",
       "    <tr style=\"text-align: right;\">\n",
       "      <th></th>\n",
       "      <th>0</th>\n",
       "      <th>1</th>\n",
       "    </tr>\n",
       "  </thead>\n",
       "  <tbody>\n",
       "    <tr>\n",
       "      <td>0</td>\n",
       "      <td>1.0</td>\n",
       "      <td>0.0</td>\n",
       "    </tr>\n",
       "    <tr>\n",
       "      <td>1</td>\n",
       "      <td>1.0</td>\n",
       "      <td>0.0</td>\n",
       "    </tr>\n",
       "    <tr>\n",
       "      <td>2</td>\n",
       "      <td>1.0</td>\n",
       "      <td>0.0</td>\n",
       "    </tr>\n",
       "    <tr>\n",
       "      <td>3</td>\n",
       "      <td>1.0</td>\n",
       "      <td>0.0</td>\n",
       "    </tr>\n",
       "    <tr>\n",
       "      <td>4</td>\n",
       "      <td>1.0</td>\n",
       "      <td>0.0</td>\n",
       "    </tr>\n",
       "    <tr>\n",
       "      <td>...</td>\n",
       "      <td>...</td>\n",
       "      <td>...</td>\n",
       "    </tr>\n",
       "    <tr>\n",
       "      <td>34663</td>\n",
       "      <td>0.0</td>\n",
       "      <td>1.0</td>\n",
       "    </tr>\n",
       "    <tr>\n",
       "      <td>34664</td>\n",
       "      <td>0.0</td>\n",
       "      <td>1.0</td>\n",
       "    </tr>\n",
       "    <tr>\n",
       "      <td>34665</td>\n",
       "      <td>0.0</td>\n",
       "      <td>1.0</td>\n",
       "    </tr>\n",
       "    <tr>\n",
       "      <td>34666</td>\n",
       "      <td>0.0</td>\n",
       "      <td>1.0</td>\n",
       "    </tr>\n",
       "    <tr>\n",
       "      <td>34667</td>\n",
       "      <td>0.0</td>\n",
       "      <td>1.0</td>\n",
       "    </tr>\n",
       "  </tbody>\n",
       "</table>\n",
       "<p>28857 rows × 2 columns</p>\n",
       "</div>"
      ],
      "text/plain": [
       "         0    1\n",
       "0      1.0  0.0\n",
       "1      1.0  0.0\n",
       "2      1.0  0.0\n",
       "3      1.0  0.0\n",
       "4      1.0  0.0\n",
       "...    ...  ...\n",
       "34663  0.0  1.0\n",
       "34664  0.0  1.0\n",
       "34665  0.0  1.0\n",
       "34666  0.0  1.0\n",
       "34667  0.0  1.0\n",
       "\n",
       "[28857 rows x 2 columns]"
      ]
     },
     "execution_count": 69,
     "metadata": {},
     "output_type": "execute_result"
    }
   ],
   "source": [
    "print(data_x0.shape, y0[:].shape, y0[1:].shape)\n",
    "y0[:]"
   ]
  },
  {
   "cell_type": "code",
   "execution_count": 70,
   "metadata": {
    "ExecuteTime": {
     "end_time": "2020-03-09T23:01:22.692734Z",
     "start_time": "2020-03-09T23:01:22.623834Z"
    },
    "slideshow": {
     "slide_type": "skip"
    }
   },
   "outputs": [
    {
     "name": "stdout",
     "output_type": "stream",
     "text": [
      "(7215, 10, 10, 2) (7214, 2)\n"
     ]
    }
   ],
   "source": [
    "print(test_data.shape, test_labels[1:].shape)"
   ]
  },
  {
   "cell_type": "code",
   "execution_count": 71,
   "metadata": {
    "ExecuteTime": {
     "end_time": "2020-03-09T23:01:51.135152Z",
     "start_time": "2020-03-09T23:01:41.974160Z"
    },
    "slideshow": {
     "slide_type": "slide"
    }
   },
   "outputs": [
    {
     "name": "stdout",
     "output_type": "stream",
     "text": [
      "start tensor 4D\n",
      "Echantillon Train: (28857, 10, 10, 2) 28857 28857\n",
      "Echantillon Test: 7215 7215\n",
      "(28857,) (28857, 1) (7215,) (7215, 1)\n",
      "SOMME réelle:  5600.0 1420.0\n",
      "SOMME prédite: 5609.0 1469.0\n",
      "Pourcentages:\n",
      "Train: 100.16 %\n",
      "Test: 103.45 %\n"
     ]
    },
    {
     "data": {
      "image/png": "[encoded data removed]",
      "text/plain": [
       "<Figure size 360x360 with 2 Axes>"
      ]
     },
     "metadata": {
      "needs_background": "light"
     },
     "output_type": "display_data"
    }
   ],
   "source": [
    "from sklearn.metrics import confusion_matrix\n",
    "#       pip install scikit-plot\n",
    "import scikitplot as skplt\n",
    "\n",
    "# transforme les matrice en listes d'entiers binaires (0 ou 1)\n",
    "if dim == 2:\n",
    "    print(\"start matrice 2D\")\n",
    "    Y01 = pd.DataFrame(model2.predict(train_data, steps=batch_size)[:,1:])[0].round(0).tolist()\n",
    "    Y11 = pd.DataFrame(model2.predict(test_data, steps=batch_size)[:,1:])[0].round(0).tolist()\n",
    "    Y00 = pd.DataFrame(train_labels[:,1:])[0].tolist()\n",
    "    Y10 = pd.DataFrame(test_labels[:,1:])[0].tolist()\n",
    "    \n",
    "if dim == 4:\n",
    "    print(\"start tensor 4D\")\n",
    "    Y01 = model2.predict(train_data, steps=batch_size)[:].round(0).tolist()\n",
    "    Y11 = model2.predict(test_data, steps=batch_size)[:].round(0).tolist()\n",
    "    Y00 = train_labels[:]\n",
    "    Y10 = test_labels[:]\n",
    "#    Y10 = test_labels[1:].numpy().tolist()\n",
    "\n",
    "print(\"Echantillon Train:\", train_data.shape, len(Y00), len(Y01))\n",
    "#confusion_matrix(Y01, Y00)\n",
    "\n",
    "print(\"Echantillon Test:\", len(Y10), len(Y11))\n",
    "#confusion_matrix(Y11, Y10)\n",
    "if dim == 2:\n",
    "    y_reel = pd.Series(Y10, name='Reel_test')\n",
    "    y_pred = pd.Series(Y11, name='Prédit_test')\n",
    "if dim == 4:\n",
    "#    y_reel = test_labels[1:].numpy()\n",
    "    y_reel0 = train_labels[1]\n",
    "    y_pred0 = model2.predict(train_data, steps=batch_size).round(0)[:,1:]\n",
    "    y_reel = test_labels[1]\n",
    "    y_pred = model2.predict(test_data, steps=batch_size).round(0)[:,1:]\n",
    "\n",
    "if dim == 2:\n",
    "   #df_confusion = pd.crosstab(y_reel, y_pred, rownames=['Reel_test'], colnames=['Predit_test'], margins=True)\n",
    "   print(\"\\n\", df_confusion)\n",
    "\n",
    "print(y_reel0.shape, y_pred0.shape, y_reel.shape, y_pred.shape,)\n",
    "print(\"SOMME réelle: \", y_reel0.sum(), y_reel.sum())\n",
    "print(\"SOMME prédite:\", y_pred0.sum(), y_pred.sum())\n",
    "\n",
    "print(\"Pourcentages:\")\n",
    "print(\"Train:\", round(y_pred0.sum() / y_reel0.sum()* 100, 2),\"%\")\n",
    "print(\"Test:\", round(y_pred.sum() / y_reel.sum()* 100, 2),\"%\")\n",
    "#\n",
    "_ = skplt.metrics.plot_confusion_matrix(y_reel, y_pred, figsize=(5,5))\n",
    "plt.show()\n",
    "#\n",
    "#df_conf_norm = df_confusion / df_confusion.sum(axis=1)\n",
    "#print(\"\\n\", df_conf_norm)\n",
    "#df_conf_norm = df_confusion.div(df_confusion.sum(axis=1), axis=0)\n",
    "#print(\"\\n\", df_conf_norm)\n",
    "\n",
    "#_ = sns.heatmap(df_confusion, annot=True)\n",
    "#plt.show()\n",
    "#_ = sns.heatmap(df_conf_norm, annot=True)\n",
    "#plt.show()"
   ]
  },
  {
   "cell_type": "code",
   "execution_count": 1,
   "metadata": {
    "ExecuteTime": {
     "end_time": "2020-03-10T08:15:52.231959Z",
     "start_time": "2020-03-10T08:15:52.069188Z"
    },
    "slideshow": {
     "slide_type": "skip"
    }
   },
   "outputs": [
    {
     "ename": "NameError",
     "evalue": "name 'y_reel0' is not defined",
     "output_type": "error",
     "traceback": [
      "\u001b[0;31m---------------------------------------------------------------------------\u001b[0m",
      "\u001b[0;31mNameError\u001b[0m                                 Traceback (most recent call last)",
      "\u001b[0;32m<ipython-input-1-a001b59cadf0>\u001b[0m in \u001b[0;36m<module>\u001b[0;34m\u001b[0m\n\u001b[1;32m      1\u001b[0m \u001b[0;31m#print(y_reel)\u001b[0m\u001b[0;34m\u001b[0m\u001b[0;34m\u001b[0m\u001b[0;34m\u001b[0m\u001b[0m\n\u001b[0;32m----> 2\u001b[0;31m \u001b[0mprint\u001b[0m\u001b[0;34m(\u001b[0m\u001b[0my_reel0\u001b[0m\u001b[0;34m.\u001b[0m\u001b[0mshape\u001b[0m\u001b[0;34m,\u001b[0m \u001b[0my_pred0\u001b[0m\u001b[0;34m.\u001b[0m\u001b[0mshape\u001b[0m\u001b[0;34m,\u001b[0m \u001b[0my_reel\u001b[0m\u001b[0;34m.\u001b[0m\u001b[0mshape\u001b[0m\u001b[0;34m,\u001b[0m \u001b[0my_pred\u001b[0m\u001b[0;34m.\u001b[0m\u001b[0mshape\u001b[0m\u001b[0;34m,\u001b[0m\u001b[0;34m)\u001b[0m\u001b[0;34m\u001b[0m\u001b[0;34m\u001b[0m\u001b[0m\n\u001b[0m\u001b[1;32m      3\u001b[0m \u001b[0mprint\u001b[0m\u001b[0;34m(\u001b[0m\u001b[0;34m\"SOMME réelle: \"\u001b[0m\u001b[0;34m,\u001b[0m \u001b[0my_reel0\u001b[0m\u001b[0;34m.\u001b[0m\u001b[0msum\u001b[0m\u001b[0;34m(\u001b[0m\u001b[0;34m)\u001b[0m\u001b[0;34m,\u001b[0m \u001b[0my_reel\u001b[0m\u001b[0;34m.\u001b[0m\u001b[0msum\u001b[0m\u001b[0;34m(\u001b[0m\u001b[0;34m)\u001b[0m\u001b[0;34m)\u001b[0m\u001b[0;34m\u001b[0m\u001b[0;34m\u001b[0m\u001b[0m\n\u001b[1;32m      4\u001b[0m \u001b[0mprint\u001b[0m\u001b[0;34m(\u001b[0m\u001b[0;34m\"SOMME prédite:\"\u001b[0m\u001b[0;34m,\u001b[0m \u001b[0my_pred0\u001b[0m\u001b[0;34m.\u001b[0m\u001b[0msum\u001b[0m\u001b[0;34m(\u001b[0m\u001b[0;34m)\u001b[0m\u001b[0;34m,\u001b[0m \u001b[0my_pred\u001b[0m\u001b[0;34m.\u001b[0m\u001b[0msum\u001b[0m\u001b[0;34m(\u001b[0m\u001b[0;34m)\u001b[0m\u001b[0;34m)\u001b[0m\u001b[0;34m\u001b[0m\u001b[0;34m\u001b[0m\u001b[0m\n\u001b[1;32m      5\u001b[0m \u001b[0;34m\u001b[0m\u001b[0m\n",
      "\u001b[0;31mNameError\u001b[0m: name 'y_reel0' is not defined"
     ]
    }
   ],
   "source": [
    "#print(y_reel)\n",
    "print(y_reel0.shape, y_pred0.shape, y_reel.shape, y_pred.shape,)\n",
    "print(\"SOMME réelle: \", y_reel0.sum(), y_reel.sum())\n",
    "print(\"SOMME prédite:\", y_pred0.sum(), y_pred.sum())\n",
    "\n",
    "print(\"Pourcentages:\")\n",
    "print(\"Train:\", round(y_pred0.sum() / y_reel0.sum()* 100, 2),\"%\")\n",
    "print(\"Test:\", round(y_pred.sum() / y_reel.sum()* 100, 2),\"%\")\n",
    "\n",
    "df_res0 = pd.DataFrame(y_reel0).reset_index().rename(columns={1: \"reel\"})\n",
    "df_res0['pred'] = pd.DataFrame(y_pred0)\n",
    "df_res0['diff'] = df_res0['pred'] - df_res0['reel']\n",
    "val0_00 = len(df_res0[(df_res0['pred'] == 0) & (df_res0['reel'] == 0)])\n",
    "val0_01 = len(df_res0[(df_res0['pred'] == 0) & (df_res0['reel'] == 1)])\n",
    "val0_10 = len(df_res0[(df_res0['pred'] == 1) & (df_res0['reel'] == 0)])\n",
    "val0_11 = len(df_res0[(df_res0['pred'] == 1) & (df_res0['reel'] == 1)])\n",
    "\n",
    "print(\"\\n Pourcentages:\")\n",
    "print('Valeurs:', val0_00, val0_01, val0_10, val0_11)\n",
    "print(\"Train 0:\", round(val0_00 / (val0_00+val0_10)* 100, 2),\"%\")\n",
    "print(\"Train 1: \", round(val0_11 / (val0_01+val0_11)* 100, 2),\"%\")\n",
    "\n",
    "df_res = pd.DataFrame(y_reel).reset_index().rename(columns={1: \"reel\"})\n",
    "df_res['pred'] = pd.DataFrame(y_pred)\n",
    "df_res['diff'] = df_res['pred'] - df_res['reel']\n",
    "val_00 = len(df_res[(df_res['pred'] == 0) & (df_res['reel'] == 0)])\n",
    "val_01 = len(df_res[(df_res['pred'] == 0) & (df_res['reel'] == 1)])\n",
    "val_10 = len(df_res[(df_res['pred'] == 1) & (df_res['reel'] == 0)])\n",
    "val_11 = len(df_res[(df_res['pred'] == 1) & (df_res['reel'] == 1)])\n",
    "\n",
    "print(\"Pourcentages:\")\n",
    "print('Valeurs:', val_00, val_01, val_10, val_11)\n",
    "print(\"Test 0:\", round(val_00 / (val_00+val_10)* 100, 2),\"%\")\n",
    "print(\"Test 1: \", round(val_11 / (val_01+val_11)* 100, 2),\"%\")"
   ]
  },
  {
   "cell_type": "code",
   "execution_count": null,
   "metadata": {
    "slideshow": {
     "slide_type": "skip"
    }
   },
   "outputs": [],
   "source": []
  },
  {
   "cell_type": "markdown",
   "metadata": {
    "slideshow": {
     "slide_type": "skip"
    }
   },
   "source": [
    "# KERAS hyperparametres"
   ]
  },
  {
   "cell_type": "code",
   "execution_count": 301,
   "metadata": {
    "ExecuteTime": {
     "end_time": "2020-03-02T15:53:14.554788Z",
     "start_time": "2020-03-02T15:53:14.542780Z"
    },
    "slideshow": {
     "slide_type": "skip"
    }
   },
   "outputs": [
    {
     "ename": "SyntaxError",
     "evalue": "invalid syntax (<ipython-input-301-ded477e1019e>, line 19)",
     "output_type": "error",
     "traceback": [
      "\u001b[1;36m  File \u001b[1;32m\"<ipython-input-301-ded477e1019e>\"\u001b[1;36m, line \u001b[1;32m19\u001b[0m\n\u001b[1;33m    dataset =\u001b[0m\n\u001b[1;37m              ^\u001b[0m\n\u001b[1;31mSyntaxError\u001b[0m\u001b[1;31m:\u001b[0m invalid syntax\n"
     ]
    }
   ],
   "source": [
    "from sklearn.model_selection import GridSearchCV\n",
    "\n",
    "from keras.wrappers.scikit_learn import KerasClassifier, KerasRegressor\n",
    "\n",
    "def create_model(neurons=1, optimizer='adam', dropout_rate=0.0, learn_rate=0.01, momentum=0, \n",
    "                 init_mode='uniform', activation='relu', dropout_rate=0.0, weight_constraint=0):\n",
    "    # create model\n",
    "    model = Sequential()\n",
    "    model.add(Dense(neurons, kernel_initializer=init_mode, input_dim=8, activation=activation)'))\n",
    "    model.add(Dropout(dropout_rate))\n",
    "    model.add(Dense(1, kernel_initializer=init_mode, activation='sigmoid'))\n",
    "    # Compile model\n",
    "    optimizer = SGD(lr=learn_rate, momentum=momentum)\n",
    "    model.compile(loss='binary_crossentropy', optimizer=optimizer, metrics=['accuracy'])\n",
    "    return model\n",
    "\n",
    "# fix random seed for reproducibility\n",
    "seed = 42\n",
    "numpy.random.seed(seed)\n",
    "# load dataset\n",
    "\n",
    "dataset = \n",
    "# split into input (X) and output (Y) variables\n",
    "X = dataset\n",
    "Y = dataset\n",
    "\n",
    "# create model\n",
    "model = KerasClassifier(build_fn=create_model, epochs=100, batch_size=10, dropout_rate=0.2, verbose=0)\n",
    "\n",
    "              \n",
    "# define the grid search parameters\n",
    "learn_rate = [0.001, 0.01, 0.1, 0.2, 0.3]\n",
    "momentum = [0.0, 0.2, 0.4, 0.6, 0.8, 0.9]\n",
    "batch_size = [10, 20, 40, 60, 80, 100]\n",
    "epochs = [10, 50, 100]\n",
    "optimizer = ['SGD', 'RMSprop', 'Adagrad', 'Adadelta', 'Adam', 'Adamax', 'Nadam']\n",
    "init_mode = ['uniform', 'lecun_uniform', 'normal', 'zero', 'glorot_normal', 'glorot_uniform', 'he_normal', 'he_uniform']\n",
    "activation = ['softmax', 'softplus', 'softsign', 'relu', 'tanh', 'sigmoid', 'hard_sigmoid', 'linear']\n",
    "weight_constraint = [i for i in range (1, 6, 1)]\n",
    "dropout_rate = [i/10 for i in range (0, 10, 1)]\n",
    "neurons = [1, 5, 10, 15, 20, 25, 30]\n",
    "\n",
    "param_grid = dict(neurons=neurons, learn_rate=learn_rate, momentum=momentum, optimizer=optimizer, \n",
    "                init_mode=init_mode, batch_size=batch_size, epochs=epochs, activation=activation,\n",
    "                dropout_rate=dropout_rate, weight_constraint=weight_constraint)\n",
    "#  score = ???\n",
    "grid = GridSearchCV(estimator=model, param_grid=param_grid, n_jobs=-1, cv=5)   # n_jobs=-1  parallisation\n",
    "grid_result = grid.fit(X, Y)\n",
    "\n",
    "# summarize results ==>  best_score et best_params_\n",
    "print(\"Best: %f using %s\" % (grid_result.best_score_, grid_result.best_params_))\n",
    "means = grid_result.cv_results_['mean_test_score']\n",
    "stds = grid_result.cv_results_['std_test_score']\n",
    "params = grid_result.cv_results_['params']\n",
    "for mean, stdev, param in zip(means, stds, params):\n",
    "    print(\"%f (%f) with: %r\" % (mean, stdev, param))"
   ]
  },
  {
   "cell_type": "code",
   "execution_count": null,
   "metadata": {
    "slideshow": {
     "slide_type": "skip"
    }
   },
   "outputs": [],
   "source": []
  },
  {
   "cell_type": "code",
   "execution_count": null,
   "metadata": {
    "slideshow": {
     "slide_type": "skip"
    }
   },
   "outputs": [],
   "source": []
  },
  {
   "cell_type": "code",
   "execution_count": null,
   "metadata": {
    "slideshow": {
     "slide_type": "skip"
    }
   },
   "outputs": [],
   "source": []
  }
 ],
 "metadata": {
  "anaconda-cloud": {},
  "celltoolbar": "Diaporama",
  "kernelspec": {
   "display_name": "Python 3",
   "language": "python",
   "name": "python3"
  },
  "language_info": {
   "codemirror_mode": {
    "name": "ipython",
    "version": 3
   },
   "file_extension": ".py",
   "mimetype": "text/x-python",
   "name": "python",
   "nbconvert_exporter": "python",
   "pygments_lexer": "ipython3",
   "version": "3.7.3"
  },
  "toc": {
   "base_numbering": 1,
   "nav_menu": {},
   "number_sections": true,
   "sideBar": true,
   "skip_h1_title": false,
   "title_cell": "Table of Contents",
   "title_sidebar": "Contents",
   "toc_cell": false,
   "toc_position": {
    "height": "calc(100% - 180px)",
    "left": "10px",
    "top": "150px",
    "width": "265.547px"
   },
   "toc_section_display": true,
   "toc_window_display": true
  },
  "varInspector": {
   "cols": {
    "lenName": 16,
    "lenType": 16,
    "lenVar": 40
   },
   "kernels_config": {
    "python": {
     "delete_cmd_postfix": "",
     "delete_cmd_prefix": "del ",
     "library": "var_list.py",
     "varRefreshCmd": "print(var_dic_list())"
    },
    "r": {
     "delete_cmd_postfix": ") ",
     "delete_cmd_prefix": "rm(",
     "library": "var_list.r",
     "varRefreshCmd": "cat(var_dic_list()) "
    }
   },
   "position": {
    "height": "543px",
    "left": "978px",
    "right": "20px",
    "top": "112px",
    "width": "479px"
   },
   "types_to_exclude": [
    "module",
    "function",
    "builtin_function_or_method",
    "instance",
    "_Feature"
   ],
   "window_display": false
  }
 },
 "nbformat": 4,
 "nbformat_minor": 2
}
