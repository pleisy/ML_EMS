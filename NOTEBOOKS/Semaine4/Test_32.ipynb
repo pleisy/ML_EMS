{
 "cells": [
  {
   "cell_type": "markdown",
   "metadata": {
    "slideshow": {
     "slide_type": "slide"
    }
   },
   "source": [
    "# PREPARATION"
   ]
  },
  {
   "cell_type": "markdown",
   "metadata": {
    "cell_style": "split"
   },
   "source": [
    "## import librairies"
   ]
  },
  {
   "cell_type": "code",
   "execution_count": 1,
   "metadata": {
    "ExecuteTime": {
     "end_time": "2020-03-10T13:31:35.641926Z",
     "start_time": "2020-03-10T13:31:34.084446Z"
    },
    "slideshow": {
     "slide_type": "skip"
    }
   },
   "outputs": [
    {
     "name": "stdout",
     "output_type": "stream",
     "text": [
      "Panda version: 1.0.1\n",
      "Numpy version: 1.18.1\n",
      "SCIKIT LEARN version: 0.22.1\n",
      "SCIKIT PLOT version: 0.3.7\n",
      "posix \n",
      " Darwin \n",
      " 18.7.0\n",
      "MATPLOTLIB version: 3.1.3\n",
      "Seaborn version: 0.10.0\n"
     ]
    }
   ],
   "source": [
    "%load_ext autoreload\n",
    "%autoreload 2\n",
    "\n",
    "# Indispensables\n",
    "import pandas as pd\n",
    "import numpy as np\n",
    "#import math\n",
    "print('Panda version: %s' % pd.__version__)\n",
    "print('Numpy version: %s' % np.__version__)\n",
    "\n",
    "import sklearn\n",
    "print('SCIKIT LEARN version: %s' % sklearn.__version__)\n",
    "# pip install scikit-plot\n",
    "import scikitplot as skplt\n",
    "print('SCIKIT PLOT version: %s' % skplt.__version__)\n",
    "\n",
    "\n",
    "# general\n",
    "import os\n",
    "from os import listdir\n",
    "#from os.path import isfile, join\n",
    "#from os import walk\n",
    "import sys\n",
    "import io\n",
    "import glob\n",
    "import platform\n",
    "#\n",
    "print(os.name, \"\\n\", platform.system(), \"\\n\", platform.release())\n",
    "#\n",
    "import argparse\n",
    "#from datetime import datetime\n",
    "#import h5py\n",
    "#import importlib\n",
    "\n",
    "# VISU\n",
    "import seaborn as sns\n",
    "import matplotlib\n",
    "import matplotlib.pyplot as plt\n",
    "#import matplotlib.colors as mcolors\n",
    "#from matplotlib.colors import LogNorm\n",
    "\n",
    "# IMAGES\n",
    "#from IPython.display import Image, IFrame\n",
    "#from PIL import Image\n",
    "#import rasterio\n",
    "import imageio\n",
    "\n",
    "import colorsys\n",
    "\n",
    "print('MATPLOTLIB version: %s' % matplotlib.__version__)\n",
    "print('Seaborn version: %s' % sns.__version__)\n",
    "#print('Geo Panda version: %s' % gpd.__version__)\n",
    "\n",
    "%matplotlib inline\n"
   ]
  },
  {
   "cell_type": "code",
   "execution_count": 2,
   "metadata": {
    "ExecuteTime": {
     "end_time": "2020-03-10T13:31:51.196928Z",
     "start_time": "2020-03-10T13:31:48.466683Z"
    },
    "slideshow": {
     "slide_type": "subslide"
    }
   },
   "outputs": [
    {
     "name": "stdout",
     "output_type": "stream",
     "text": [
      "TensorFlow: 2.0.0\n",
      "Keras: 2.3.1\n"
     ]
    },
    {
     "name": "stderr",
     "output_type": "stream",
     "text": [
      "Using TensorFlow backend.\n"
     ]
    }
   ],
   "source": [
    "from __future__ import print_function\n",
    "\n",
    "# Machine Lerning\n",
    "import tensorflow as tf\n",
    "import keras\n",
    "\n",
    "from keras.models import Sequential\n",
    "from keras.layers import Dense, Dropout, Flatten, Activation     #LSTM\n",
    "from keras.layers import Conv1D, Conv2D, MaxPooling1D, MaxPooling2D\n",
    "from keras import backend as K\n",
    "from keras.callbacks import History\n",
    "\n",
    "from keras.optimizers import SGD\n",
    "from keras.regularizers import l2\n",
    "\n",
    "print('TensorFlow: %s' % tf.__version__)\n",
    "print('Keras: %s' % keras.__version__)"
   ]
  },
  {
   "cell_type": "markdown",
   "metadata": {
    "slideshow": {
     "slide_type": "skip"
    }
   },
   "source": [
    "## Déclaration des directories et variables"
   ]
  },
  {
   "cell_type": "code",
   "execution_count": 3,
   "metadata": {
    "ExecuteTime": {
     "end_time": "2020-03-10T13:31:53.650601Z",
     "start_time": "2020-03-10T13:31:53.570257Z"
    },
    "slideshow": {
     "slide_type": "skip"
    }
   },
   "outputs": [
    {
     "name": "stdout",
     "output_type": "stream",
     "text": [
      "Working directory: /Users/pierreleisy/C-PYTHON/training-Python/NOTEBOOK\n",
      "Data ROOT directory: /Users/pierreleisy/Data_Science/NOTEBOOK/STAGE/DATA1/\n"
     ]
    },
    {
     "data": {
      "text/plain": [
       "['/Users/pierreleisy/C-PYTHON/training-Python/NOTEBOOK',\n",
       " '/Users/pierreleisy/Data_Science/anaconda3/envs/geo_env/lib/python37.zip',\n",
       " '/Users/pierreleisy/Data_Science/anaconda3/envs/geo_env/lib/python3.7',\n",
       " '/Users/pierreleisy/Data_Science/anaconda3/envs/geo_env/lib/python3.7/lib-dynload',\n",
       " '',\n",
       " '/Users/pierreleisy/.local/lib/python3.7/site-packages',\n",
       " '/Users/pierreleisy/Data_Science/anaconda3/envs/geo_env/lib/python3.7/site-packages',\n",
       " '/Users/pierreleisy/Data_Science/anaconda3/envs/geo_env/lib/python3.7/site-packages/IPython/extensions',\n",
       " '/Users/pierreleisy/.ipython',\n",
       " '/Users/pierreleisy/Data_Science/NOTEBOOK/STAGE/DATA1/',\n",
       " '/Users/pierreleisy/Data_Science/NOTEBOOK/STAGE/DATA1/DallesNumPoints5m\\\\']"
      ]
     },
     "execution_count": 3,
     "metadata": {},
     "output_type": "execute_result"
    }
   ],
   "source": [
    "BASE_DIR = os.getcwd()\n",
    "\n",
    "separe = \"/\"\n",
    "# Laptop\n",
    "if platform.system() == 'Darwin' and platform.release() == '18.7.0':\n",
    "    DATA_DIR  = \"/Users/pierreleisy/Data_Science/NOTEBOOK/STAGE/DATA1/\"\n",
    "    DATA_DIR2 = \"/Users/pierreleisy/Data_Science/NOTEBOOK/STAGE/DATA2/\"\n",
    "    DATA_DIR3 = \"/Users/pierreleisy/Data_Science/NOTEBOOK/STAGE/\"\n",
    "# sur IMAC\n",
    "else:   #if platform.system() == 'Darwin' and platform.release() == '18.0.0':\n",
    "    DATA_DIR  = \"/Users/pl/Desktop/DATA_SCIENCE/NOTEBOOK/EMS/DATA1/\"\n",
    "    DATA_DIR2 = \"/Users/pl/Desktop/DATA_SCIENCE/NOTEBOOK/EMS/DATA2/\"\n",
    "    DATA_DIR3 = \"/Users/pl/Desktop/DATA_SCIENCE/NOTEBOOK/EMS/\"\n",
    "## Eurométropole\n",
    "if platform.system() == 'Windows':\n",
    "    DATA_DIR  = \"S:\\\\Commun\\\\SIG3D\\\\2020\\\\PROJETS_2020\\\\20039_MachineLearning\\\\DATA\\\\\"\n",
    "    DATA_DIR2 = \"S:\\\\Commun\\\\SIG3D\\\\2020\\\\PROJETS_2020\\\\20039_MachineLearning\\\\DATA2\\\\\"\n",
    "    DATA_DIR3 = \"C:\\\\Users\\\\STG3841\\\\Mes Documents (local)\\\\travail\\\\\"\n",
    "    separe = \"\\\\\"   \n",
    "    \n",
    "DALLE_NUM = DATA_DIR + \"DallesNumPoints5m\" + separe\n",
    "DALLE_ECA = DATA_DIR + \"DallesEcartZ5m\" + separe\n",
    "DALLE_POS = DATA_DIR + \"DallesPosition5m\" + separe\n",
    "print(\"Working directory:\",BASE_DIR)\n",
    "print(\"Data ROOT directory:\",DATA_DIR)\n",
    "\n",
    "sys.path.append(DATA_DIR)\n",
    "sys.path.append(os.path.join(DATA_DIR,'DallesNumPoints5m\\\\'))\n",
    "sys.path"
   ]
  },
  {
   "cell_type": "markdown",
   "metadata": {
    "slideshow": {
     "slide_type": "skip"
    }
   },
   "source": [
    "## création des listes d'images"
   ]
  },
  {
   "cell_type": "code",
   "execution_count": 4,
   "metadata": {
    "ExecuteTime": {
     "end_time": "2020-03-10T13:31:58.024838Z",
     "start_time": "2020-03-10T13:31:55.961471Z"
    },
    "slideshow": {
     "slide_type": "skip"
    }
   },
   "outputs": [
    {
     "name": "stdout",
     "output_type": "stream",
     "text": [
      "58771 29384 29384 29384\n",
      "58771 58775 58768\n"
     ]
    }
   ],
   "source": [
    "#liste1 = [f for f in listdir(DALLE_NUM) if isfile(join(DALLE_NUM, f))]\n",
    "liste_1 = [f for f in glob.glob(DALLE_NUM + separe + \"*.tif\", recursive=True)]#   #only first N for test\n",
    "liste_2 = [f for f in glob.glob(DALLE_ECA + separe + \"*.tif\", recursive=True)]#\n",
    "liste_3 = [f for f in glob.glob(DALLE_POS + separe + \"*.tif\", recursive=True)]#\n",
    "print(len(listdir(DALLE_NUM)), len(liste_1), len(liste_2), len(liste_3))\n",
    "\n",
    "liste_NUM = os.listdir(DALLE_NUM)\n",
    "liste_ECA = os.listdir(DALLE_ECA)\n",
    "liste_POS = os.listdir(DALLE_POS)\n",
    "print(len(liste_NUM), len(liste_ECA), len(liste_POS))"
   ]
  },
  {
   "cell_type": "markdown",
   "metadata": {
    "slideshow": {
     "slide_type": "skip"
    }
   },
   "source": [
    "# DONNEES"
   ]
  },
  {
   "cell_type": "markdown",
   "metadata": {
    "slideshow": {
     "slide_type": "skip"
    }
   },
   "source": [
    "## TEST:  Lecture autres fichiers"
   ]
  },
  {
   "cell_type": "code",
   "execution_count": 125,
   "metadata": {
    "ExecuteTime": {
     "end_time": "2020-03-11T14:52:57.422310Z",
     "start_time": "2020-03-11T14:52:57.338877Z"
    }
   },
   "outputs": [
    {
     "name": "stdout",
     "output_type": "stream",
     "text": [
      "(24848, 15)\n",
      "(10184, 15)\n"
     ]
    },
    {
     "data": {
      "text/html": [
       "<div>\n",
       "<style scoped>\n",
       "    .dataframe tbody tr th:only-of-type {\n",
       "        vertical-align: middle;\n",
       "    }\n",
       "\n",
       "    .dataframe tbody tr th {\n",
       "        vertical-align: top;\n",
       "    }\n",
       "\n",
       "    .dataframe thead th {\n",
       "        text-align: right;\n",
       "    }\n",
       "</style>\n",
       "<table border=\"1\" class=\"dataframe\">\n",
       "  <thead>\n",
       "    <tr style=\"text-align: right;\">\n",
       "      <th></th>\n",
       "      <th>gid</th>\n",
       "      <th>ident_gy</th>\n",
       "      <th>code_precision</th>\n",
       "      <th>date_leve</th>\n",
       "      <th>auteur</th>\n",
       "      <th>observ_autre</th>\n",
       "      <th>date_reco</th>\n",
       "      <th>date_modif</th>\n",
       "      <th>type_entite</th>\n",
       "      <th>z_sol</th>\n",
       "      <th>orientation</th>\n",
       "      <th>echelle_x</th>\n",
       "      <th>echelle_y</th>\n",
       "      <th>date_creation</th>\n",
       "      <th>date_maj</th>\n",
       "    </tr>\n",
       "  </thead>\n",
       "  <tbody>\n",
       "    <tr>\n",
       "      <th>0</th>\n",
       "      <td>40074</td>\n",
       "      <td>NaN</td>\n",
       "      <td>rattache</td>\n",
       "      <td>2018/11/17 00:00:00</td>\n",
       "      <td>Clauss</td>\n",
       "      <td>NaN</td>\n",
       "      <td>2018/10/01 00:00:00</td>\n",
       "      <td>NaN</td>\n",
       "      <td>banc_public</td>\n",
       "      <td>139.26</td>\n",
       "      <td>NaN</td>\n",
       "      <td>NaN</td>\n",
       "      <td>NaN</td>\n",
       "      <td>2018/11/30 09:34:12</td>\n",
       "      <td>2019/05/09 16:17:16</td>\n",
       "    </tr>\n",
       "    <tr>\n",
       "      <th>1</th>\n",
       "      <td>192</td>\n",
       "      <td>54449499.0</td>\n",
       "      <td>rattache</td>\n",
       "      <td>2011/12/02 00:00:00</td>\n",
       "      <td>Brundaller</td>\n",
       "      <td>NaN</td>\n",
       "      <td>2019/09/01 00:00:00</td>\n",
       "      <td>NaN</td>\n",
       "      <td>banc_public</td>\n",
       "      <td>147.25</td>\n",
       "      <td>NaN</td>\n",
       "      <td>NaN</td>\n",
       "      <td>NaN</td>\n",
       "      <td>2014/01/18 14:15:10</td>\n",
       "      <td>2020/02/20 10:24:48</td>\n",
       "    </tr>\n",
       "    <tr>\n",
       "      <th>4</th>\n",
       "      <td>31635</td>\n",
       "      <td>NaN</td>\n",
       "      <td>rattache</td>\n",
       "      <td>2016/05/05 00:00:00</td>\n",
       "      <td>Clauss</td>\n",
       "      <td>NaN</td>\n",
       "      <td>2019/05/07 00:00:00</td>\n",
       "      <td>NaN</td>\n",
       "      <td>banc_public</td>\n",
       "      <td>141.16</td>\n",
       "      <td>NaN</td>\n",
       "      <td>NaN</td>\n",
       "      <td>NaN</td>\n",
       "      <td>2016/11/15 10:57:00</td>\n",
       "      <td>2019/10/28 15:15:04</td>\n",
       "    </tr>\n",
       "  </tbody>\n",
       "</table>\n",
       "</div>"
      ],
      "text/plain": [
       "     gid    ident_gy code_precision            date_leve      auteur  \\\n",
       "0  40074         NaN       rattache  2018/11/17 00:00:00      Clauss   \n",
       "1    192  54449499.0       rattache  2011/12/02 00:00:00  Brundaller   \n",
       "4  31635         NaN       rattache  2016/05/05 00:00:00      Clauss   \n",
       "\n",
       "  observ_autre            date_reco date_modif  type_entite   z_sol  \\\n",
       "0          NaN  2018/10/01 00:00:00        NaN  banc_public  139.26   \n",
       "1          NaN  2019/09/01 00:00:00        NaN  banc_public  147.25   \n",
       "4          NaN  2019/05/07 00:00:00        NaN  banc_public  141.16   \n",
       "\n",
       "   orientation  echelle_x  echelle_y        date_creation             date_maj  \n",
       "0          NaN        NaN        NaN  2018/11/30 09:34:12  2019/05/09 16:17:16  \n",
       "1          NaN        NaN        NaN  2014/01/18 14:15:10  2020/02/20 10:24:48  \n",
       "4          NaN        NaN        NaN  2016/11/15 10:57:00  2019/10/28 15:15:04  "
      ]
     },
     "execution_count": 125,
     "metadata": {},
     "output_type": "execute_result"
    }
   ],
   "source": [
    "f_lamp = DATA_DIR  + \"lampadaires2.csv\"\n",
    "f_mobi = DATA_DIR  + \"mobilier_amenagement2.csv\"\n",
    "\n",
    "lampad = pd.read_csv(f_lamp, sep=\",\",header=0, encoding = \"utf-8\")\n",
    "#print(lampad.head(3))\n",
    "\n",
    "mobilier = pd.read_csv(f_mobi, sep=\",\", header=0, encoding = \"utf-8\")\n",
    "print(mobilier.shape)\n",
    "mobilier2 = mobilier[mobilier['type_entite'] == 'banc_public']\n",
    "print(mobilier2.shape)\n",
    "mobilier2.head(3)"
   ]
  },
  {
   "cell_type": "code",
   "execution_count": 134,
   "metadata": {
    "ExecuteTime": {
     "end_time": "2020-03-11T16:33:22.636462Z",
     "start_time": "2020-03-11T16:33:19.221936Z"
    }
   },
   "outputs": [
    {
     "data": {
      "text/html": [
       "<div>\n",
       "<style scoped>\n",
       "    .dataframe tbody tr th:only-of-type {\n",
       "        vertical-align: middle;\n",
       "    }\n",
       "\n",
       "    .dataframe tbody tr th {\n",
       "        vertical-align: top;\n",
       "    }\n",
       "\n",
       "    .dataframe thead th {\n",
       "        text-align: right;\n",
       "    }\n",
       "</style>\n",
       "<table border=\"1\" class=\"dataframe\">\n",
       "  <thead>\n",
       "    <tr style=\"text-align: right;\">\n",
       "      <th></th>\n",
       "      <th>gid</th>\n",
       "      <th>ident_gy</th>\n",
       "      <th>code_preci</th>\n",
       "      <th>date_leve</th>\n",
       "      <th>auteur</th>\n",
       "      <th>date_reco</th>\n",
       "      <th>angle_g</th>\n",
       "      <th>z_sol</th>\n",
       "      <th>date_creat</th>\n",
       "      <th>date_maj</th>\n",
       "      <th>geometry</th>\n",
       "    </tr>\n",
       "  </thead>\n",
       "  <tbody>\n",
       "    <tr>\n",
       "      <th>0</th>\n",
       "      <td>151</td>\n",
       "      <td>69204241.0</td>\n",
       "      <td>rattache</td>\n",
       "      <td>1998/09/01 00:00:00.000</td>\n",
       "      <td>Muller C</td>\n",
       "      <td>2017/10/23 00:00:00.000</td>\n",
       "      <td>-42.4</td>\n",
       "      <td>158.56</td>\n",
       "      <td>2014/01/18 13:58:37.000</td>\n",
       "      <td>2018/02/12 14:08:52.000</td>\n",
       "      <td>POINT (2046319.603 7283270.659)</td>\n",
       "    </tr>\n",
       "    <tr>\n",
       "      <th>1</th>\n",
       "      <td>152</td>\n",
       "      <td>69204199.0</td>\n",
       "      <td>rattache</td>\n",
       "      <td>1998/09/01 00:00:00.000</td>\n",
       "      <td>Muller C</td>\n",
       "      <td>2017/10/23 00:00:00.000</td>\n",
       "      <td>-57.6</td>\n",
       "      <td>157.94</td>\n",
       "      <td>2014/01/18 13:58:37.000</td>\n",
       "      <td>2018/02/12 14:09:00.000</td>\n",
       "      <td>POINT (2045855.457 7283330.024)</td>\n",
       "    </tr>\n",
       "    <tr>\n",
       "      <th>2</th>\n",
       "      <td>153</td>\n",
       "      <td>69204198.0</td>\n",
       "      <td>rattache</td>\n",
       "      <td>1998/09/01 00:00:00.000</td>\n",
       "      <td>Muller C</td>\n",
       "      <td>2017/10/23 00:00:00.000</td>\n",
       "      <td>0.0</td>\n",
       "      <td>160.34</td>\n",
       "      <td>2014/01/18 13:58:37.000</td>\n",
       "      <td>2018/02/12 14:09:00.000</td>\n",
       "      <td>POINT (2046065.952 7283614.279)</td>\n",
       "    </tr>\n",
       "    <tr>\n",
       "      <th>3</th>\n",
       "      <td>154</td>\n",
       "      <td>69204197.0</td>\n",
       "      <td>rattache</td>\n",
       "      <td>1998/09/01 00:00:00.000</td>\n",
       "      <td>Muller C</td>\n",
       "      <td>2017/10/23 00:00:00.000</td>\n",
       "      <td>-58.9</td>\n",
       "      <td>157.95</td>\n",
       "      <td>2014/01/18 13:58:37.000</td>\n",
       "      <td>2018/02/12 14:09:00.000</td>\n",
       "      <td>POINT (2046062.432 7283583.205)</td>\n",
       "    </tr>\n",
       "    <tr>\n",
       "      <th>4</th>\n",
       "      <td>155</td>\n",
       "      <td>69204071.0</td>\n",
       "      <td>rattache</td>\n",
       "      <td>1998/09/01 00:00:00.000</td>\n",
       "      <td>Muller C</td>\n",
       "      <td>2017/10/23 00:00:00.000</td>\n",
       "      <td>-163.4</td>\n",
       "      <td>149.73</td>\n",
       "      <td>2014/01/18 13:58:37.000</td>\n",
       "      <td>2018/02/12 14:09:24.000</td>\n",
       "      <td>POINT (2045854.604 7282886.637)</td>\n",
       "    </tr>\n",
       "  </tbody>\n",
       "</table>\n",
       "</div>"
      ],
      "text/plain": [
       "   gid    ident_gy code_preci                date_leve    auteur  \\\n",
       "0  151  69204241.0   rattache  1998/09/01 00:00:00.000  Muller C   \n",
       "1  152  69204199.0   rattache  1998/09/01 00:00:00.000  Muller C   \n",
       "2  153  69204198.0   rattache  1998/09/01 00:00:00.000  Muller C   \n",
       "3  154  69204197.0   rattache  1998/09/01 00:00:00.000  Muller C   \n",
       "4  155  69204071.0   rattache  1998/09/01 00:00:00.000  Muller C   \n",
       "\n",
       "                 date_reco  angle_g   z_sol               date_creat  \\\n",
       "0  2017/10/23 00:00:00.000    -42.4  158.56  2014/01/18 13:58:37.000   \n",
       "1  2017/10/23 00:00:00.000    -57.6  157.94  2014/01/18 13:58:37.000   \n",
       "2  2017/10/23 00:00:00.000      0.0  160.34  2014/01/18 13:58:37.000   \n",
       "3  2017/10/23 00:00:00.000    -58.9  157.95  2014/01/18 13:58:37.000   \n",
       "4  2017/10/23 00:00:00.000   -163.4  149.73  2014/01/18 13:58:37.000   \n",
       "\n",
       "                  date_maj                         geometry  \n",
       "0  2018/02/12 14:08:52.000  POINT (2046319.603 7283270.659)  \n",
       "1  2018/02/12 14:09:00.000  POINT (2045855.457 7283330.024)  \n",
       "2  2018/02/12 14:09:00.000  POINT (2046065.952 7283614.279)  \n",
       "3  2018/02/12 14:09:00.000  POINT (2046062.432 7283583.205)  \n",
       "4  2018/02/12 14:09:24.000  POINT (2045854.604 7282886.637)  "
      ]
     },
     "execution_count": 134,
     "metadata": {},
     "output_type": "execute_result"
    }
   ],
   "source": [
    "import geopandas as gpd\n",
    "\n",
    "gdf_lamp = gpd.read_file(DATA_DIR  + \"lampadaires.shp\")                           \n",
    "gdf_lamp.head()\n"
   ]
  },
  {
   "cell_type": "code",
   "execution_count": 137,
   "metadata": {
    "ExecuteTime": {
     "end_time": "2020-03-11T16:44:05.126601Z",
     "start_time": "2020-03-11T16:44:04.847918Z"
    }
   },
   "outputs": [
    {
     "name": "stdout",
     "output_type": "stream",
     "text": [
      "(10184, 16)\n"
     ]
    },
    {
     "ename": "NotImplementedError",
     "evalue": "Multi-part geometries do not provide a coordinate sequence",
     "output_type": "error",
     "traceback": [
      "\u001b[0;31m---------------------------------------------------------------------------\u001b[0m",
      "\u001b[0;31mNotImplementedError\u001b[0m                       Traceback (most recent call last)",
      "\u001b[0;32m<ipython-input-137-e30b66ce44cd>\u001b[0m in \u001b[0;36m<module>\u001b[0;34m\u001b[0m\n\u001b[1;32m      5\u001b[0m \u001b[0mprint\u001b[0m\u001b[0;34m(\u001b[0m\u001b[0mgdf_mobi2\u001b[0m\u001b[0;34m.\u001b[0m\u001b[0mshape\u001b[0m\u001b[0;34m)\u001b[0m\u001b[0;34m\u001b[0m\u001b[0;34m\u001b[0m\u001b[0m\n\u001b[1;32m      6\u001b[0m \u001b[0;34m\u001b[0m\u001b[0m\n\u001b[0;32m----> 7\u001b[0;31m \u001b[0mgdf_mobi2\u001b[0m\u001b[0;34m[\u001b[0m\u001b[0;34m'points'\u001b[0m\u001b[0;34m]\u001b[0m \u001b[0;34m=\u001b[0m \u001b[0mgdf_mobi2\u001b[0m\u001b[0;34m.\u001b[0m\u001b[0mapply\u001b[0m\u001b[0;34m(\u001b[0m\u001b[0;32mlambda\u001b[0m \u001b[0mx\u001b[0m\u001b[0;34m:\u001b[0m \u001b[0;34m[\u001b[0m\u001b[0my\u001b[0m \u001b[0;32mfor\u001b[0m \u001b[0my\u001b[0m \u001b[0;32min\u001b[0m \u001b[0mx\u001b[0m\u001b[0;34m[\u001b[0m\u001b[0;34m'geometry'\u001b[0m\u001b[0;34m]\u001b[0m\u001b[0;34m.\u001b[0m\u001b[0mcoords\u001b[0m\u001b[0;34m]\u001b[0m\u001b[0;34m,\u001b[0m \u001b[0maxis\u001b[0m\u001b[0;34m=\u001b[0m\u001b[0;36m1\u001b[0m\u001b[0;34m)\u001b[0m\u001b[0;34m\u001b[0m\u001b[0;34m\u001b[0m\u001b[0m\n\u001b[0m\u001b[1;32m      8\u001b[0m \u001b[0;34m\u001b[0m\u001b[0m\n\u001b[1;32m      9\u001b[0m \u001b[0mgdf\u001b[0m\u001b[0;34m.\u001b[0m\u001b[0mto_dict\u001b[0m\u001b[0;34m(\u001b[0m\u001b[0;34m'records'\u001b[0m\u001b[0;34m)\u001b[0m\u001b[0;34m\u001b[0m\u001b[0;34m\u001b[0m\u001b[0m\n",
      "\u001b[0;32m~/Data_Science/anaconda3/envs/geo_env/lib/python3.7/site-packages/pandas/core/frame.py\u001b[0m in \u001b[0;36mapply\u001b[0;34m(self, func, axis, raw, result_type, args, **kwds)\u001b[0m\n\u001b[1;32m   6876\u001b[0m             \u001b[0mkwds\u001b[0m\u001b[0;34m=\u001b[0m\u001b[0mkwds\u001b[0m\u001b[0;34m,\u001b[0m\u001b[0;34m\u001b[0m\u001b[0;34m\u001b[0m\u001b[0m\n\u001b[1;32m   6877\u001b[0m         )\n\u001b[0;32m-> 6878\u001b[0;31m         \u001b[0;32mreturn\u001b[0m \u001b[0mop\u001b[0m\u001b[0;34m.\u001b[0m\u001b[0mget_result\u001b[0m\u001b[0;34m(\u001b[0m\u001b[0;34m)\u001b[0m\u001b[0;34m\u001b[0m\u001b[0;34m\u001b[0m\u001b[0m\n\u001b[0m\u001b[1;32m   6879\u001b[0m \u001b[0;34m\u001b[0m\u001b[0m\n\u001b[1;32m   6880\u001b[0m     \u001b[0;32mdef\u001b[0m \u001b[0mapplymap\u001b[0m\u001b[0;34m(\u001b[0m\u001b[0mself\u001b[0m\u001b[0;34m,\u001b[0m \u001b[0mfunc\u001b[0m\u001b[0;34m)\u001b[0m \u001b[0;34m->\u001b[0m \u001b[0;34m\"DataFrame\"\u001b[0m\u001b[0;34m:\u001b[0m\u001b[0;34m\u001b[0m\u001b[0;34m\u001b[0m\u001b[0m\n",
      "\u001b[0;32m~/Data_Science/anaconda3/envs/geo_env/lib/python3.7/site-packages/pandas/core/apply.py\u001b[0m in \u001b[0;36mget_result\u001b[0;34m(self)\u001b[0m\n\u001b[1;32m    184\u001b[0m             \u001b[0;32mreturn\u001b[0m \u001b[0mself\u001b[0m\u001b[0;34m.\u001b[0m\u001b[0mapply_raw\u001b[0m\u001b[0;34m(\u001b[0m\u001b[0;34m)\u001b[0m\u001b[0;34m\u001b[0m\u001b[0;34m\u001b[0m\u001b[0m\n\u001b[1;32m    185\u001b[0m \u001b[0;34m\u001b[0m\u001b[0m\n\u001b[0;32m--> 186\u001b[0;31m         \u001b[0;32mreturn\u001b[0m \u001b[0mself\u001b[0m\u001b[0;34m.\u001b[0m\u001b[0mapply_standard\u001b[0m\u001b[0;34m(\u001b[0m\u001b[0;34m)\u001b[0m\u001b[0;34m\u001b[0m\u001b[0;34m\u001b[0m\u001b[0m\n\u001b[0m\u001b[1;32m    187\u001b[0m \u001b[0;34m\u001b[0m\u001b[0m\n\u001b[1;32m    188\u001b[0m     \u001b[0;32mdef\u001b[0m \u001b[0mapply_empty_result\u001b[0m\u001b[0;34m(\u001b[0m\u001b[0mself\u001b[0m\u001b[0;34m)\u001b[0m\u001b[0;34m:\u001b[0m\u001b[0;34m\u001b[0m\u001b[0;34m\u001b[0m\u001b[0m\n",
      "\u001b[0;32m~/Data_Science/anaconda3/envs/geo_env/lib/python3.7/site-packages/pandas/core/apply.py\u001b[0m in \u001b[0;36mapply_standard\u001b[0;34m(self)\u001b[0m\n\u001b[1;32m    311\u001b[0m \u001b[0;34m\u001b[0m\u001b[0m\n\u001b[1;32m    312\u001b[0m         \u001b[0;31m# compute the result using the series generator\u001b[0m\u001b[0;34m\u001b[0m\u001b[0;34m\u001b[0m\u001b[0;34m\u001b[0m\u001b[0m\n\u001b[0;32m--> 313\u001b[0;31m         \u001b[0mresults\u001b[0m\u001b[0;34m,\u001b[0m \u001b[0mres_index\u001b[0m \u001b[0;34m=\u001b[0m \u001b[0mself\u001b[0m\u001b[0;34m.\u001b[0m\u001b[0mapply_series_generator\u001b[0m\u001b[0;34m(\u001b[0m\u001b[0;34m)\u001b[0m\u001b[0;34m\u001b[0m\u001b[0;34m\u001b[0m\u001b[0m\n\u001b[0m\u001b[1;32m    314\u001b[0m \u001b[0;34m\u001b[0m\u001b[0m\n\u001b[1;32m    315\u001b[0m         \u001b[0;31m# wrap results\u001b[0m\u001b[0;34m\u001b[0m\u001b[0;34m\u001b[0m\u001b[0;34m\u001b[0m\u001b[0m\n",
      "\u001b[0;32m~/Data_Science/anaconda3/envs/geo_env/lib/python3.7/site-packages/pandas/core/apply.py\u001b[0m in \u001b[0;36mapply_series_generator\u001b[0;34m(self)\u001b[0m\n\u001b[1;32m    339\u001b[0m         \u001b[0;32melse\u001b[0m\u001b[0;34m:\u001b[0m\u001b[0;34m\u001b[0m\u001b[0;34m\u001b[0m\u001b[0m\n\u001b[1;32m    340\u001b[0m             \u001b[0;32mfor\u001b[0m \u001b[0mi\u001b[0m\u001b[0;34m,\u001b[0m \u001b[0mv\u001b[0m \u001b[0;32min\u001b[0m \u001b[0menumerate\u001b[0m\u001b[0;34m(\u001b[0m\u001b[0mseries_gen\u001b[0m\u001b[0;34m)\u001b[0m\u001b[0;34m:\u001b[0m\u001b[0;34m\u001b[0m\u001b[0;34m\u001b[0m\u001b[0m\n\u001b[0;32m--> 341\u001b[0;31m                 \u001b[0mresults\u001b[0m\u001b[0;34m[\u001b[0m\u001b[0mi\u001b[0m\u001b[0;34m]\u001b[0m \u001b[0;34m=\u001b[0m \u001b[0mself\u001b[0m\u001b[0;34m.\u001b[0m\u001b[0mf\u001b[0m\u001b[0;34m(\u001b[0m\u001b[0mv\u001b[0m\u001b[0;34m)\u001b[0m\u001b[0;34m\u001b[0m\u001b[0;34m\u001b[0m\u001b[0m\n\u001b[0m\u001b[1;32m    342\u001b[0m                 \u001b[0mkeys\u001b[0m\u001b[0;34m.\u001b[0m\u001b[0mappend\u001b[0m\u001b[0;34m(\u001b[0m\u001b[0mv\u001b[0m\u001b[0;34m.\u001b[0m\u001b[0mname\u001b[0m\u001b[0;34m)\u001b[0m\u001b[0;34m\u001b[0m\u001b[0;34m\u001b[0m\u001b[0m\n\u001b[1;32m    343\u001b[0m \u001b[0;34m\u001b[0m\u001b[0m\n",
      "\u001b[0;32m<ipython-input-137-e30b66ce44cd>\u001b[0m in \u001b[0;36m<lambda>\u001b[0;34m(x)\u001b[0m\n\u001b[1;32m      5\u001b[0m \u001b[0mprint\u001b[0m\u001b[0;34m(\u001b[0m\u001b[0mgdf_mobi2\u001b[0m\u001b[0;34m.\u001b[0m\u001b[0mshape\u001b[0m\u001b[0;34m)\u001b[0m\u001b[0;34m\u001b[0m\u001b[0;34m\u001b[0m\u001b[0m\n\u001b[1;32m      6\u001b[0m \u001b[0;34m\u001b[0m\u001b[0m\n\u001b[0;32m----> 7\u001b[0;31m \u001b[0mgdf_mobi2\u001b[0m\u001b[0;34m[\u001b[0m\u001b[0;34m'points'\u001b[0m\u001b[0;34m]\u001b[0m \u001b[0;34m=\u001b[0m \u001b[0mgdf_mobi2\u001b[0m\u001b[0;34m.\u001b[0m\u001b[0mapply\u001b[0m\u001b[0;34m(\u001b[0m\u001b[0;32mlambda\u001b[0m \u001b[0mx\u001b[0m\u001b[0;34m:\u001b[0m \u001b[0;34m[\u001b[0m\u001b[0my\u001b[0m \u001b[0;32mfor\u001b[0m \u001b[0my\u001b[0m \u001b[0;32min\u001b[0m \u001b[0mx\u001b[0m\u001b[0;34m[\u001b[0m\u001b[0;34m'geometry'\u001b[0m\u001b[0;34m]\u001b[0m\u001b[0;34m.\u001b[0m\u001b[0mcoords\u001b[0m\u001b[0;34m]\u001b[0m\u001b[0;34m,\u001b[0m \u001b[0maxis\u001b[0m\u001b[0;34m=\u001b[0m\u001b[0;36m1\u001b[0m\u001b[0;34m)\u001b[0m\u001b[0;34m\u001b[0m\u001b[0;34m\u001b[0m\u001b[0m\n\u001b[0m\u001b[1;32m      8\u001b[0m \u001b[0;34m\u001b[0m\u001b[0m\n\u001b[1;32m      9\u001b[0m \u001b[0mgdf\u001b[0m\u001b[0;34m.\u001b[0m\u001b[0mto_dict\u001b[0m\u001b[0;34m(\u001b[0m\u001b[0;34m'records'\u001b[0m\u001b[0;34m)\u001b[0m\u001b[0;34m\u001b[0m\u001b[0;34m\u001b[0m\u001b[0m\n",
      "\u001b[0;32m~/Data_Science/anaconda3/envs/geo_env/lib/python3.7/site-packages/shapely/geometry/base.py\u001b[0m in \u001b[0;36mcoords\u001b[0;34m(self)\u001b[0m\n\u001b[1;32m    806\u001b[0m     \u001b[0;32mdef\u001b[0m \u001b[0mcoords\u001b[0m\u001b[0;34m(\u001b[0m\u001b[0mself\u001b[0m\u001b[0;34m)\u001b[0m\u001b[0;34m:\u001b[0m\u001b[0;34m\u001b[0m\u001b[0;34m\u001b[0m\u001b[0m\n\u001b[1;32m    807\u001b[0m         raise NotImplementedError(\n\u001b[0;32m--> 808\u001b[0;31m             \"Multi-part geometries do not provide a coordinate sequence\")\n\u001b[0m\u001b[1;32m    809\u001b[0m \u001b[0;34m\u001b[0m\u001b[0m\n\u001b[1;32m    810\u001b[0m     \u001b[0;34m@\u001b[0m\u001b[0mproperty\u001b[0m\u001b[0;34m\u001b[0m\u001b[0;34m\u001b[0m\u001b[0m\n",
      "\u001b[0;31mNotImplementedError\u001b[0m: Multi-part geometries do not provide a coordinate sequence"
     ]
    }
   ],
   "source": [
    "#import geopandas as gpd\n",
    "#gdf_mobi = gpd.read_file(DATA_DIR  + \"mobilier_amenagement.shp\")\n",
    "gdf_mobi2 = gdf_mobi[gdf_mobi['type_entit'] == 'banc_public']\n",
    "gdf_mobi2.head()\n",
    "print(gdf_mobi2.shape)\n",
    "\n",
    "gdf_mobi2['points'] = gdf_mobi2.apply(lambda x: [y for y in x['geometry'].coords], axis=1)\n",
    "\n",
    "gdf.to_dict('records')\n"
   ]
  },
  {
   "cell_type": "code",
   "execution_count": 133,
   "metadata": {
    "ExecuteTime": {
     "end_time": "2020-03-11T15:33:55.159736Z",
     "start_time": "2020-03-11T15:33:55.063250Z"
    }
   },
   "outputs": [
    {
     "data": {
      "text/html": [
       "<div>\n",
       "<style scoped>\n",
       "    .dataframe tbody tr th:only-of-type {\n",
       "        vertical-align: middle;\n",
       "    }\n",
       "\n",
       "    .dataframe tbody tr th {\n",
       "        vertical-align: top;\n",
       "    }\n",
       "\n",
       "    .dataframe thead th {\n",
       "        text-align: right;\n",
       "    }\n",
       "</style>\n",
       "<table border=\"1\" class=\"dataframe\">\n",
       "  <thead>\n",
       "    <tr style=\"text-align: right;\">\n",
       "      <th></th>\n",
       "      <th>gid</th>\n",
       "      <th>ident_gy</th>\n",
       "      <th>code_preci</th>\n",
       "      <th>date_leve</th>\n",
       "      <th>auteur</th>\n",
       "      <th>observ_aut</th>\n",
       "      <th>date_reco</th>\n",
       "      <th>date_modif</th>\n",
       "      <th>type_entit</th>\n",
       "      <th>z_sol</th>\n",
       "      <th>orientatio</th>\n",
       "      <th>echelle_x</th>\n",
       "      <th>echelle_y</th>\n",
       "      <th>date_creat</th>\n",
       "      <th>date_maj</th>\n",
       "      <th>geometry</th>\n",
       "    </tr>\n",
       "  </thead>\n",
       "  <tbody>\n",
       "    <tr>\n",
       "      <th>0</th>\n",
       "      <td>40074</td>\n",
       "      <td>NaN</td>\n",
       "      <td>rattache</td>\n",
       "      <td>2018/11/17 00:00:00.000</td>\n",
       "      <td>Clauss</td>\n",
       "      <td>None</td>\n",
       "      <td>2018/10/01 00:00:00.000</td>\n",
       "      <td>None</td>\n",
       "      <td>banc_public</td>\n",
       "      <td>139.26</td>\n",
       "      <td>None</td>\n",
       "      <td>None</td>\n",
       "      <td>None</td>\n",
       "      <td>2018/11/30 09:34:12.000</td>\n",
       "      <td>2019/05/09 16:17:16.000</td>\n",
       "      <td>LINESTRING (2051288.423 7275080.683, 2051286.9...</td>\n",
       "    </tr>\n",
       "    <tr>\n",
       "      <th>1</th>\n",
       "      <td>192</td>\n",
       "      <td>54449499.0</td>\n",
       "      <td>rattache</td>\n",
       "      <td>2011/12/02 00:00:00.000</td>\n",
       "      <td>Brundaller</td>\n",
       "      <td>None</td>\n",
       "      <td>2019/09/01 00:00:00.000</td>\n",
       "      <td>None</td>\n",
       "      <td>banc_public</td>\n",
       "      <td>147.25</td>\n",
       "      <td>None</td>\n",
       "      <td>None</td>\n",
       "      <td>None</td>\n",
       "      <td>2014/01/18 14:15:10.000</td>\n",
       "      <td>2020/02/20 10:24:48.000</td>\n",
       "      <td>LINESTRING (2042622.445 7267568.482, 2042625.3...</td>\n",
       "    </tr>\n",
       "    <tr>\n",
       "      <th>4</th>\n",
       "      <td>31635</td>\n",
       "      <td>NaN</td>\n",
       "      <td>rattache</td>\n",
       "      <td>2016/05/05 00:00:00.000</td>\n",
       "      <td>Clauss</td>\n",
       "      <td>None</td>\n",
       "      <td>2019/05/07 00:00:00.000</td>\n",
       "      <td>None</td>\n",
       "      <td>banc_public</td>\n",
       "      <td>141.16</td>\n",
       "      <td>None</td>\n",
       "      <td>None</td>\n",
       "      <td>None</td>\n",
       "      <td>2016/11/15 10:57:00.000</td>\n",
       "      <td>2019/10/28 15:15:04.000</td>\n",
       "      <td>LINESTRING (2052386.296 7271344.658, 2052386.8...</td>\n",
       "    </tr>\n",
       "    <tr>\n",
       "      <th>6</th>\n",
       "      <td>26586</td>\n",
       "      <td>NaN</td>\n",
       "      <td>rattache</td>\n",
       "      <td>2015/04/30 00:00:00.000</td>\n",
       "      <td>Martinis</td>\n",
       "      <td>None</td>\n",
       "      <td>2018/04/24 00:00:00.000</td>\n",
       "      <td>None</td>\n",
       "      <td>banc_public</td>\n",
       "      <td>140.31</td>\n",
       "      <td>None</td>\n",
       "      <td>None</td>\n",
       "      <td>None</td>\n",
       "      <td>2015/06/22 09:27:24.000</td>\n",
       "      <td>2019/02/18 09:28:20.000</td>\n",
       "      <td>LINESTRING (2049878.454 7275254.542, 2049878.0...</td>\n",
       "    </tr>\n",
       "    <tr>\n",
       "      <th>7</th>\n",
       "      <td>430</td>\n",
       "      <td>54313365.0</td>\n",
       "      <td>rattache</td>\n",
       "      <td>2009/09/15 00:00:00.000</td>\n",
       "      <td>Clauss</td>\n",
       "      <td>None</td>\n",
       "      <td>2018/10/01 00:00:00.000</td>\n",
       "      <td>None</td>\n",
       "      <td>banc_public</td>\n",
       "      <td>139.37</td>\n",
       "      <td>None</td>\n",
       "      <td>None</td>\n",
       "      <td>None</td>\n",
       "      <td>2014/01/18 14:15:10.000</td>\n",
       "      <td>2019/05/09 16:16:48.000</td>\n",
       "      <td>LINESTRING (2051814.325 7275446.368, 2051814.2...</td>\n",
       "    </tr>\n",
       "  </tbody>\n",
       "</table>\n",
       "</div>"
      ],
      "text/plain": [
       "     gid    ident_gy code_preci                date_leve      auteur  \\\n",
       "0  40074         NaN   rattache  2018/11/17 00:00:00.000      Clauss   \n",
       "1    192  54449499.0   rattache  2011/12/02 00:00:00.000  Brundaller   \n",
       "4  31635         NaN   rattache  2016/05/05 00:00:00.000      Clauss   \n",
       "6  26586         NaN   rattache  2015/04/30 00:00:00.000    Martinis   \n",
       "7    430  54313365.0   rattache  2009/09/15 00:00:00.000      Clauss   \n",
       "\n",
       "  observ_aut                date_reco date_modif   type_entit   z_sol  \\\n",
       "0       None  2018/10/01 00:00:00.000       None  banc_public  139.26   \n",
       "1       None  2019/09/01 00:00:00.000       None  banc_public  147.25   \n",
       "4       None  2019/05/07 00:00:00.000       None  banc_public  141.16   \n",
       "6       None  2018/04/24 00:00:00.000       None  banc_public  140.31   \n",
       "7       None  2018/10/01 00:00:00.000       None  banc_public  139.37   \n",
       "\n",
       "  orientatio echelle_x echelle_y               date_creat  \\\n",
       "0       None      None      None  2018/11/30 09:34:12.000   \n",
       "1       None      None      None  2014/01/18 14:15:10.000   \n",
       "4       None      None      None  2016/11/15 10:57:00.000   \n",
       "6       None      None      None  2015/06/22 09:27:24.000   \n",
       "7       None      None      None  2014/01/18 14:15:10.000   \n",
       "\n",
       "                  date_maj                                           geometry  \n",
       "0  2019/05/09 16:17:16.000  LINESTRING (2051288.423 7275080.683, 2051286.9...  \n",
       "1  2020/02/20 10:24:48.000  LINESTRING (2042622.445 7267568.482, 2042625.3...  \n",
       "4  2019/10/28 15:15:04.000  LINESTRING (2052386.296 7271344.658, 2052386.8...  \n",
       "6  2019/02/18 09:28:20.000  LINESTRING (2049878.454 7275254.542, 2049878.0...  \n",
       "7  2019/05/09 16:16:48.000  LINESTRING (2051814.325 7275446.368, 2051814.2...  "
      ]
     },
     "execution_count": 133,
     "metadata": {},
     "output_type": "execute_result"
    }
   ],
   "source": [
    "\n"
   ]
  },
  {
   "cell_type": "markdown",
   "metadata": {
    "slideshow": {
     "slide_type": "skip"
    }
   },
   "source": [
    "## lecture/creation fichier/dataframe lampes des lampadaires présents dans la dalle 1x1 km"
   ]
  },
  {
   "cell_type": "code",
   "execution_count": 5,
   "metadata": {
    "ExecuteTime": {
     "end_time": "2020-03-10T13:32:06.900369Z",
     "start_time": "2020-03-10T13:32:06.592321Z"
    },
    "slideshow": {
     "slide_type": "skip"
    }
   },
   "outputs": [
    {
     "name": "stdout",
     "output_type": "stream",
     "text": [
      "Bord inférieur gauche: 2042500 7272000 200 200 5\n",
      "0    3.0\n",
      "1    4.0\n",
      "2    6.0\n",
      "3    2.0\n",
      "4    1.0\n",
      "dtype: float64\n",
      "mean       1.79\n",
      "count    200.00\n",
      "sum      358.00\n",
      "dtype: float64\n",
      "(200, 200) (40000, 1) (355, 5)\n",
      "357.0\n"
     ]
    },
    {
     "data": {
      "text/html": [
       "<div>\n",
       "<style scoped>\n",
       "    .dataframe tbody tr th:only-of-type {\n",
       "        vertical-align: middle;\n",
       "    }\n",
       "\n",
       "    .dataframe tbody tr th {\n",
       "        vertical-align: top;\n",
       "    }\n",
       "\n",
       "    .dataframe thead th {\n",
       "        text-align: right;\n",
       "    }\n",
       "</style>\n",
       "<table border=\"1\" class=\"dataframe\">\n",
       "  <thead>\n",
       "    <tr style=\"text-align: right;\">\n",
       "      <th></th>\n",
       "      <th>_column</th>\n",
       "      <th>_row</th>\n",
       "      <th>_overlaps</th>\n",
       "      <th>posX</th>\n",
       "      <th>posY</th>\n",
       "    </tr>\n",
       "  </thead>\n",
       "  <tbody>\n",
       "    <tr>\n",
       "      <th>0</th>\n",
       "      <td>0</td>\n",
       "      <td>80</td>\n",
       "      <td>1</td>\n",
       "      <td>2042502</td>\n",
       "      <td>7272402</td>\n",
       "    </tr>\n",
       "    <tr>\n",
       "      <th>1</th>\n",
       "      <td>0</td>\n",
       "      <td>92</td>\n",
       "      <td>1</td>\n",
       "      <td>2042502</td>\n",
       "      <td>7272462</td>\n",
       "    </tr>\n",
       "    <tr>\n",
       "      <th>2</th>\n",
       "      <td>0</td>\n",
       "      <td>102</td>\n",
       "      <td>1</td>\n",
       "      <td>2042502</td>\n",
       "      <td>7272512</td>\n",
       "    </tr>\n",
       "    <tr>\n",
       "      <th>3</th>\n",
       "      <td>0</td>\n",
       "      <td>106</td>\n",
       "      <td>1</td>\n",
       "      <td>2042502</td>\n",
       "      <td>7272532</td>\n",
       "    </tr>\n",
       "    <tr>\n",
       "      <th>4</th>\n",
       "      <td>0</td>\n",
       "      <td>169</td>\n",
       "      <td>1</td>\n",
       "      <td>2042502</td>\n",
       "      <td>7272847</td>\n",
       "    </tr>\n",
       "  </tbody>\n",
       "</table>\n",
       "</div>"
      ],
      "text/plain": [
       "   _column  _row  _overlaps     posX     posY\n",
       "0        0    80          1  2042502  7272402\n",
       "1        0    92          1  2042502  7272462\n",
       "2        0   102          1  2042502  7272512\n",
       "3        0   106          1  2042502  7272532\n",
       "4        0   169          1  2042502  7272847"
      ]
     },
     "execution_count": 5,
     "metadata": {},
     "output_type": "execute_result"
    }
   ],
   "source": [
    "# Intialisation des variables de la dalle\n",
    "fich_lamp  = DATA_DIR  + \"LampadairePresence_0_1_5m.asc\"\n",
    "fich_lamp2 = DATA_DIR2 + \"listepositif.xlsx\"\n",
    "\n",
    "header = pd.read_csv(fich_lamp, sep=\" \", header=None, skiprows=0, nrows=5, names=[\"noms\",\"valeurs\"])\n",
    "n_row =  header['valeurs'][0]\n",
    "n_col =  header['valeurs'][1]\n",
    "xlow = header['valeurs'][2]\n",
    "ylow = header['valeurs'][3]\n",
    "cell_size = header['valeurs'][4]\n",
    "print(\"Bord inférieur gauche:\", xlow, ylow, n_row, n_col, cell_size)\n",
    "\n",
    "lampadaires = pd.read_csv(fich_lamp, sep=\" \", header=None, skiprows=6)\n",
    "print(lampadaires.sum().head(5))\n",
    "print(lampadaires.nunique().agg(['mean','count','sum']))\n",
    "##################################\n",
    "# reconstruit le tableau dans le bon schéma usuel\n",
    "# calcule la transposee\n",
    "lampadaires = lampadaires.T\n",
    "# inversion des colonnes (nombre pair de colonnes, mais pas nécessaire)\n",
    "lampadaires = lampadaires[lampadaires.columns[::-1]]\n",
    "##################################\n",
    "lampes0 = pd.DataFrame(np.reshape(lampadaires.to_numpy(), n_row*n_col))\n",
    "\n",
    "lampes2 = pd.read_excel(fich_lamp2, header=0, skiprows=0)\n",
    "print(lampadaires.shape, lampes0.shape, lampes2.shape)\n",
    "#print(lampadaires.describe())\n",
    "print(lampadaires.sum().sum())\n",
    "lampes2.head(5)"
   ]
  },
  {
   "cell_type": "markdown",
   "metadata": {
    "slideshow": {
     "slide_type": "skip"
    }
   },
   "source": [
    "## rempli le dataframe lampes0 et lampes1"
   ]
  },
  {
   "cell_type": "code",
   "execution_count": 6,
   "metadata": {
    "ExecuteTime": {
     "end_time": "2020-03-10T13:32:11.084790Z",
     "start_time": "2020-03-10T13:32:10.820092Z"
    },
    "slideshow": {
     "slide_type": "skip"
    }
   },
   "outputs": [
    {
     "name": "stdout",
     "output_type": "stream",
     "text": [
      "present     int8\n",
      "NumI       int32\n",
      "NumY       int32\n",
      "NumX       int32\n",
      "dtype: object\n",
      "Dalle: (40000, 9) Nbre lampadaires: (357, 9)\n"
     ]
    },
    {
     "data": {
      "text/html": [
       "<div>\n",
       "<style scoped>\n",
       "    .dataframe tbody tr th:only-of-type {\n",
       "        vertical-align: middle;\n",
       "    }\n",
       "\n",
       "    .dataframe tbody tr th {\n",
       "        vertical-align: top;\n",
       "    }\n",
       "\n",
       "    .dataframe thead th {\n",
       "        text-align: right;\n",
       "    }\n",
       "</style>\n",
       "<table border=\"1\" class=\"dataframe\">\n",
       "  <thead>\n",
       "    <tr style=\"text-align: right;\">\n",
       "      <th></th>\n",
       "      <th>present</th>\n",
       "      <th>NumI</th>\n",
       "      <th>NumY</th>\n",
       "      <th>NumX</th>\n",
       "      <th>X</th>\n",
       "      <th>Y</th>\n",
       "      <th>nom_NUM</th>\n",
       "      <th>nom_ECA</th>\n",
       "      <th>nom_POS</th>\n",
       "    </tr>\n",
       "  </thead>\n",
       "  <tbody>\n",
       "    <tr>\n",
       "      <th>0</th>\n",
       "      <td>0</td>\n",
       "      <td>0</td>\n",
       "      <td>0</td>\n",
       "      <td>0</td>\n",
       "      <td>2042500</td>\n",
       "      <td>7272000</td>\n",
       "      <td>2042500_7272000_NumPoints5m.tif</td>\n",
       "      <td>2042500_7272000_EcartZ5m.tif</td>\n",
       "      <td>2042500_7272000_Position5m.tif</td>\n",
       "    </tr>\n",
       "    <tr>\n",
       "      <th>1</th>\n",
       "      <td>0</td>\n",
       "      <td>1</td>\n",
       "      <td>1</td>\n",
       "      <td>0</td>\n",
       "      <td>2042500</td>\n",
       "      <td>7272005</td>\n",
       "      <td>2042500_7272005_NumPoints5m.tif</td>\n",
       "      <td>2042500_7272005_EcartZ5m.tif</td>\n",
       "      <td>2042500_7272005_Position5m.tif</td>\n",
       "    </tr>\n",
       "    <tr>\n",
       "      <th>2</th>\n",
       "      <td>0</td>\n",
       "      <td>2</td>\n",
       "      <td>2</td>\n",
       "      <td>0</td>\n",
       "      <td>2042500</td>\n",
       "      <td>7272010</td>\n",
       "      <td>2042500_7272010_NumPoints5m.tif</td>\n",
       "      <td>2042500_7272010_EcartZ5m.tif</td>\n",
       "      <td>2042500_7272010_Position5m.tif</td>\n",
       "    </tr>\n",
       "    <tr>\n",
       "      <th>3</th>\n",
       "      <td>0</td>\n",
       "      <td>3</td>\n",
       "      <td>3</td>\n",
       "      <td>0</td>\n",
       "      <td>2042500</td>\n",
       "      <td>7272015</td>\n",
       "      <td>2042500_7272015_NumPoints5m.tif</td>\n",
       "      <td>2042500_7272015_EcartZ5m.tif</td>\n",
       "      <td>2042500_7272015_Position5m.tif</td>\n",
       "    </tr>\n",
       "    <tr>\n",
       "      <th>4</th>\n",
       "      <td>0</td>\n",
       "      <td>4</td>\n",
       "      <td>4</td>\n",
       "      <td>0</td>\n",
       "      <td>2042500</td>\n",
       "      <td>7272020</td>\n",
       "      <td>2042500_7272020_NumPoints5m.tif</td>\n",
       "      <td>2042500_7272020_EcartZ5m.tif</td>\n",
       "      <td>2042500_7272020_Position5m.tif</td>\n",
       "    </tr>\n",
       "  </tbody>\n",
       "</table>\n",
       "</div>"
      ],
      "text/plain": [
       "   present  NumI  NumY  NumX        X        Y  \\\n",
       "0        0     0     0     0  2042500  7272000   \n",
       "1        0     1     1     0  2042500  7272005   \n",
       "2        0     2     2     0  2042500  7272010   \n",
       "3        0     3     3     0  2042500  7272015   \n",
       "4        0     4     4     0  2042500  7272020   \n",
       "\n",
       "                           nom_NUM                       nom_ECA  \\\n",
       "0  2042500_7272000_NumPoints5m.tif  2042500_7272000_EcartZ5m.tif   \n",
       "1  2042500_7272005_NumPoints5m.tif  2042500_7272005_EcartZ5m.tif   \n",
       "2  2042500_7272010_NumPoints5m.tif  2042500_7272010_EcartZ5m.tif   \n",
       "3  2042500_7272015_NumPoints5m.tif  2042500_7272015_EcartZ5m.tif   \n",
       "4  2042500_7272020_NumPoints5m.tif  2042500_7272020_EcartZ5m.tif   \n",
       "\n",
       "                          nom_POS  \n",
       "0  2042500_7272000_Position5m.tif  \n",
       "1  2042500_7272005_Position5m.tif  \n",
       "2  2042500_7272010_Position5m.tif  \n",
       "3  2042500_7272015_Position5m.tif  \n",
       "4  2042500_7272020_Position5m.tif  "
      ]
     },
     "execution_count": 6,
     "metadata": {},
     "output_type": "execute_result"
    }
   ],
   "source": [
    "lampes0['NumI'] = lampes0.index\n",
    "lampes0['NumY'] = lampes0['NumI'].mod(other=n_col)\n",
    "lampes0['NumX'] = ((lampes0['NumI'] - n_row + 1) / n_row).apply(np.ceil)\n",
    "#lampes = lampes.drop(['Num'], axis=1)\n",
    "lampes0.rename(columns={0: 'present'}, inplace=True)\n",
    "lampes0 = lampes0.astype({'present': 'int8'}, copy=False)\n",
    "lampes0 = lampes0.astype({'NumY': 'int32'}, copy=False)\n",
    "lampes0 = lampes0.astype({'NumI': 'int32'}, copy=False)\n",
    "lampes0 = lampes0.astype({'NumX': 'int32'}, copy=False)\n",
    "print(lampes0.dtypes)\n",
    "#print(lampes.describe(include='all'))\n",
    "lampes0['X'] = xlow + lampes0['NumX'] * cell_size\n",
    "lampes0['Y'] = ylow + lampes0['NumY'] * cell_size\n",
    "lampes0['nom_NUM'] = lampes0['X'].map(str) + \"_\" + lampes0['Y'].map(str) +  \"_NumPoints5m.tif\"\n",
    "lampes0['nom_ECA'] = lampes0['X'].map(str) + \"_\" + lampes0['Y'].map(str) + \"_EcartZ5m.tif\"\n",
    "lampes0['nom_POS'] = lampes0['X'].map(str) + \"_\" + lampes0['Y'].map(str) +  \"_Position5m.tif\"\n",
    "# extraction des lampadaires\n",
    "lampes1 = lampes0[lampes0['present'] > 0]\n",
    "print(\"Dalle:\", lampes0.shape, \"Nbre lampadaires:\", lampes1.shape)\n",
    "lampes0.head()"
   ]
  },
  {
   "cell_type": "code",
   "execution_count": 7,
   "metadata": {
    "ExecuteTime": {
     "end_time": "2020-03-10T13:32:15.149754Z",
     "start_time": "2020-03-10T13:32:15.060837Z"
    },
    "slideshow": {
     "slide_type": "skip"
    }
   },
   "outputs": [
    {
     "data": {
      "text/html": [
       "<div>\n",
       "<style scoped>\n",
       "    .dataframe tbody tr th:only-of-type {\n",
       "        vertical-align: middle;\n",
       "    }\n",
       "\n",
       "    .dataframe tbody tr th {\n",
       "        vertical-align: top;\n",
       "    }\n",
       "\n",
       "    .dataframe thead th {\n",
       "        text-align: right;\n",
       "    }\n",
       "</style>\n",
       "<table border=\"1\" class=\"dataframe\">\n",
       "  <thead>\n",
       "    <tr style=\"text-align: right;\">\n",
       "      <th></th>\n",
       "      <th>present</th>\n",
       "      <th>NumI</th>\n",
       "      <th>NumY</th>\n",
       "      <th>NumX</th>\n",
       "      <th>X</th>\n",
       "      <th>Y</th>\n",
       "      <th>nom_NUM</th>\n",
       "      <th>nom_ECA</th>\n",
       "      <th>nom_POS</th>\n",
       "    </tr>\n",
       "  </thead>\n",
       "  <tbody>\n",
       "    <tr>\n",
       "      <th>39336</th>\n",
       "      <td>1</td>\n",
       "      <td>39336</td>\n",
       "      <td>136</td>\n",
       "      <td>196</td>\n",
       "      <td>2043480</td>\n",
       "      <td>7272680</td>\n",
       "      <td>2043480_7272680_NumPoints5m.tif</td>\n",
       "      <td>2043480_7272680_EcartZ5m.tif</td>\n",
       "      <td>2043480_7272680_Position5m.tif</td>\n",
       "    </tr>\n",
       "    <tr>\n",
       "      <th>39384</th>\n",
       "      <td>1</td>\n",
       "      <td>39384</td>\n",
       "      <td>184</td>\n",
       "      <td>196</td>\n",
       "      <td>2043480</td>\n",
       "      <td>7272920</td>\n",
       "      <td>2043480_7272920_NumPoints5m.tif</td>\n",
       "      <td>2043480_7272920_EcartZ5m.tif</td>\n",
       "      <td>2043480_7272920_Position5m.tif</td>\n",
       "    </tr>\n",
       "    <tr>\n",
       "      <th>39520</th>\n",
       "      <td>1</td>\n",
       "      <td>39520</td>\n",
       "      <td>120</td>\n",
       "      <td>197</td>\n",
       "      <td>2043485</td>\n",
       "      <td>7272600</td>\n",
       "      <td>2043485_7272600_NumPoints5m.tif</td>\n",
       "      <td>2043485_7272600_EcartZ5m.tif</td>\n",
       "      <td>2043485_7272600_Position5m.tif</td>\n",
       "    </tr>\n",
       "    <tr>\n",
       "      <th>39570</th>\n",
       "      <td>1</td>\n",
       "      <td>39570</td>\n",
       "      <td>170</td>\n",
       "      <td>197</td>\n",
       "      <td>2043485</td>\n",
       "      <td>7272850</td>\n",
       "      <td>2043485_7272850_NumPoints5m.tif</td>\n",
       "      <td>2043485_7272850_EcartZ5m.tif</td>\n",
       "      <td>2043485_7272850_Position5m.tif</td>\n",
       "    </tr>\n",
       "    <tr>\n",
       "      <th>39577</th>\n",
       "      <td>1</td>\n",
       "      <td>39577</td>\n",
       "      <td>177</td>\n",
       "      <td>197</td>\n",
       "      <td>2043485</td>\n",
       "      <td>7272885</td>\n",
       "      <td>2043485_7272885_NumPoints5m.tif</td>\n",
       "      <td>2043485_7272885_EcartZ5m.tif</td>\n",
       "      <td>2043485_7272885_Position5m.tif</td>\n",
       "    </tr>\n",
       "    <tr>\n",
       "      <th>39685</th>\n",
       "      <td>1</td>\n",
       "      <td>39685</td>\n",
       "      <td>85</td>\n",
       "      <td>198</td>\n",
       "      <td>2043490</td>\n",
       "      <td>7272425</td>\n",
       "      <td>2043490_7272425_NumPoints5m.tif</td>\n",
       "      <td>2043490_7272425_EcartZ5m.tif</td>\n",
       "      <td>2043490_7272425_Position5m.tif</td>\n",
       "    </tr>\n",
       "    <tr>\n",
       "      <th>39756</th>\n",
       "      <td>1</td>\n",
       "      <td>39756</td>\n",
       "      <td>156</td>\n",
       "      <td>198</td>\n",
       "      <td>2043490</td>\n",
       "      <td>7272780</td>\n",
       "      <td>2043490_7272780_NumPoints5m.tif</td>\n",
       "      <td>2043490_7272780_EcartZ5m.tif</td>\n",
       "      <td>2043490_7272780_Position5m.tif</td>\n",
       "    </tr>\n",
       "    <tr>\n",
       "      <th>39763</th>\n",
       "      <td>1</td>\n",
       "      <td>39763</td>\n",
       "      <td>163</td>\n",
       "      <td>198</td>\n",
       "      <td>2043490</td>\n",
       "      <td>7272815</td>\n",
       "      <td>2043490_7272815_NumPoints5m.tif</td>\n",
       "      <td>2043490_7272815_EcartZ5m.tif</td>\n",
       "      <td>2043490_7272815_Position5m.tif</td>\n",
       "    </tr>\n",
       "  </tbody>\n",
       "</table>\n",
       "</div>"
      ],
      "text/plain": [
       "       present   NumI  NumY  NumX        X        Y  \\\n",
       "39336        1  39336   136   196  2043480  7272680   \n",
       "39384        1  39384   184   196  2043480  7272920   \n",
       "39520        1  39520   120   197  2043485  7272600   \n",
       "39570        1  39570   170   197  2043485  7272850   \n",
       "39577        1  39577   177   197  2043485  7272885   \n",
       "39685        1  39685    85   198  2043490  7272425   \n",
       "39756        1  39756   156   198  2043490  7272780   \n",
       "39763        1  39763   163   198  2043490  7272815   \n",
       "\n",
       "                               nom_NUM                       nom_ECA  \\\n",
       "39336  2043480_7272680_NumPoints5m.tif  2043480_7272680_EcartZ5m.tif   \n",
       "39384  2043480_7272920_NumPoints5m.tif  2043480_7272920_EcartZ5m.tif   \n",
       "39520  2043485_7272600_NumPoints5m.tif  2043485_7272600_EcartZ5m.tif   \n",
       "39570  2043485_7272850_NumPoints5m.tif  2043485_7272850_EcartZ5m.tif   \n",
       "39577  2043485_7272885_NumPoints5m.tif  2043485_7272885_EcartZ5m.tif   \n",
       "39685  2043490_7272425_NumPoints5m.tif  2043490_7272425_EcartZ5m.tif   \n",
       "39756  2043490_7272780_NumPoints5m.tif  2043490_7272780_EcartZ5m.tif   \n",
       "39763  2043490_7272815_NumPoints5m.tif  2043490_7272815_EcartZ5m.tif   \n",
       "\n",
       "                              nom_POS  \n",
       "39336  2043480_7272680_Position5m.tif  \n",
       "39384  2043480_7272920_Position5m.tif  \n",
       "39520  2043485_7272600_Position5m.tif  \n",
       "39570  2043485_7272850_Position5m.tif  \n",
       "39577  2043485_7272885_Position5m.tif  \n",
       "39685  2043490_7272425_Position5m.tif  \n",
       "39756  2043490_7272780_Position5m.tif  \n",
       "39763  2043490_7272815_Position5m.tif  "
      ]
     },
     "execution_count": 7,
     "metadata": {},
     "output_type": "execute_result"
    }
   ],
   "source": [
    "lampes1.tail(8)"
   ]
  },
  {
   "cell_type": "code",
   "execution_count": 8,
   "metadata": {
    "ExecuteTime": {
     "end_time": "2020-03-10T13:32:18.953446Z",
     "start_time": "2020-03-10T13:32:18.858408Z"
    },
    "slideshow": {
     "slide_type": "skip"
    }
   },
   "outputs": [
    {
     "name": "stdout",
     "output_type": "stream",
     "text": [
      "(357, 9) (40000, 9)\n"
     ]
    },
    {
     "data": {
      "text/html": [
       "<div>\n",
       "<style scoped>\n",
       "    .dataframe tbody tr th:only-of-type {\n",
       "        vertical-align: middle;\n",
       "    }\n",
       "\n",
       "    .dataframe tbody tr th {\n",
       "        vertical-align: top;\n",
       "    }\n",
       "\n",
       "    .dataframe thead th {\n",
       "        text-align: right;\n",
       "    }\n",
       "</style>\n",
       "<table border=\"1\" class=\"dataframe\">\n",
       "  <thead>\n",
       "    <tr style=\"text-align: right;\">\n",
       "      <th></th>\n",
       "      <th>present</th>\n",
       "      <th>NumI</th>\n",
       "      <th>NumY</th>\n",
       "      <th>NumX</th>\n",
       "      <th>X</th>\n",
       "      <th>Y</th>\n",
       "      <th>nom_NUM</th>\n",
       "      <th>nom_ECA</th>\n",
       "      <th>nom_POS</th>\n",
       "    </tr>\n",
       "  </thead>\n",
       "  <tbody>\n",
       "    <tr>\n",
       "      <th>27731</th>\n",
       "      <td>1</td>\n",
       "      <td>27731</td>\n",
       "      <td>131</td>\n",
       "      <td>138</td>\n",
       "      <td>2043190</td>\n",
       "      <td>7272655</td>\n",
       "      <td>2043190_7272655_NumPoints5m.tif</td>\n",
       "      <td>2043190_7272655_EcartZ5m.tif</td>\n",
       "      <td>2043190_7272655_Position5m.tif</td>\n",
       "    </tr>\n",
       "    <tr>\n",
       "      <th>27747</th>\n",
       "      <td>1</td>\n",
       "      <td>27747</td>\n",
       "      <td>147</td>\n",
       "      <td>138</td>\n",
       "      <td>2043190</td>\n",
       "      <td>7272735</td>\n",
       "      <td>2043190_7272735_NumPoints5m.tif</td>\n",
       "      <td>2043190_7272735_EcartZ5m.tif</td>\n",
       "      <td>2043190_7272735_Position5m.tif</td>\n",
       "    </tr>\n",
       "    <tr>\n",
       "      <th>28103</th>\n",
       "      <td>1</td>\n",
       "      <td>28103</td>\n",
       "      <td>103</td>\n",
       "      <td>140</td>\n",
       "      <td>2043200</td>\n",
       "      <td>7272515</td>\n",
       "      <td>2043200_7272515_NumPoints5m.tif</td>\n",
       "      <td>2043200_7272515_EcartZ5m.tif</td>\n",
       "      <td>2043200_7272515_Position5m.tif</td>\n",
       "    </tr>\n",
       "    <tr>\n",
       "      <th>28125</th>\n",
       "      <td>1</td>\n",
       "      <td>28125</td>\n",
       "      <td>125</td>\n",
       "      <td>140</td>\n",
       "      <td>2043200</td>\n",
       "      <td>7272625</td>\n",
       "      <td>2043200_7272625_NumPoints5m.tif</td>\n",
       "      <td>2043200_7272625_EcartZ5m.tif</td>\n",
       "      <td>2043200_7272625_Position5m.tif</td>\n",
       "    </tr>\n",
       "    <tr>\n",
       "      <th>28131</th>\n",
       "      <td>1</td>\n",
       "      <td>28131</td>\n",
       "      <td>131</td>\n",
       "      <td>140</td>\n",
       "      <td>2043200</td>\n",
       "      <td>7272655</td>\n",
       "      <td>2043200_7272655_NumPoints5m.tif</td>\n",
       "      <td>2043200_7272655_EcartZ5m.tif</td>\n",
       "      <td>2043200_7272655_Position5m.tif</td>\n",
       "    </tr>\n",
       "    <tr>\n",
       "      <th>28193</th>\n",
       "      <td>1</td>\n",
       "      <td>28193</td>\n",
       "      <td>193</td>\n",
       "      <td>140</td>\n",
       "      <td>2043200</td>\n",
       "      <td>7272965</td>\n",
       "      <td>2043200_7272965_NumPoints5m.tif</td>\n",
       "      <td>2043200_7272965_EcartZ5m.tif</td>\n",
       "      <td>2043200_7272965_Position5m.tif</td>\n",
       "    </tr>\n",
       "    <tr>\n",
       "      <th>28256</th>\n",
       "      <td>1</td>\n",
       "      <td>28256</td>\n",
       "      <td>56</td>\n",
       "      <td>141</td>\n",
       "      <td>2043205</td>\n",
       "      <td>7272280</td>\n",
       "      <td>2043205_7272280_NumPoints5m.tif</td>\n",
       "      <td>2043205_7272280_EcartZ5m.tif</td>\n",
       "      <td>2043205_7272280_Position5m.tif</td>\n",
       "    </tr>\n",
       "    <tr>\n",
       "      <th>28393</th>\n",
       "      <td>1</td>\n",
       "      <td>28393</td>\n",
       "      <td>193</td>\n",
       "      <td>141</td>\n",
       "      <td>2043205</td>\n",
       "      <td>7272965</td>\n",
       "      <td>2043205_7272965_NumPoints5m.tif</td>\n",
       "      <td>2043205_7272965_EcartZ5m.tif</td>\n",
       "      <td>2043205_7272965_Position5m.tif</td>\n",
       "    </tr>\n",
       "    <tr>\n",
       "      <th>28463</th>\n",
       "      <td>1</td>\n",
       "      <td>28463</td>\n",
       "      <td>63</td>\n",
       "      <td>142</td>\n",
       "      <td>2043210</td>\n",
       "      <td>7272315</td>\n",
       "      <td>2043210_7272315_NumPoints5m.tif</td>\n",
       "      <td>2043210_7272315_EcartZ5m.tif</td>\n",
       "      <td>2043210_7272315_Position5m.tif</td>\n",
       "    </tr>\n",
       "    <tr>\n",
       "      <th>28464</th>\n",
       "      <td>1</td>\n",
       "      <td>28464</td>\n",
       "      <td>64</td>\n",
       "      <td>142</td>\n",
       "      <td>2043210</td>\n",
       "      <td>7272320</td>\n",
       "      <td>2043210_7272320_NumPoints5m.tif</td>\n",
       "      <td>2043210_7272320_EcartZ5m.tif</td>\n",
       "      <td>2043210_7272320_Position5m.tif</td>\n",
       "    </tr>\n",
       "    <tr>\n",
       "      <th>28662</th>\n",
       "      <td>1</td>\n",
       "      <td>28662</td>\n",
       "      <td>62</td>\n",
       "      <td>143</td>\n",
       "      <td>2043215</td>\n",
       "      <td>7272310</td>\n",
       "      <td>2043215_7272310_NumPoints5m.tif</td>\n",
       "      <td>2043215_7272310_EcartZ5m.tif</td>\n",
       "      <td>2043215_7272310_Position5m.tif</td>\n",
       "    </tr>\n",
       "    <tr>\n",
       "      <th>28665</th>\n",
       "      <td>1</td>\n",
       "      <td>28665</td>\n",
       "      <td>65</td>\n",
       "      <td>143</td>\n",
       "      <td>2043215</td>\n",
       "      <td>7272325</td>\n",
       "      <td>2043215_7272325_NumPoints5m.tif</td>\n",
       "      <td>2043215_7272325_EcartZ5m.tif</td>\n",
       "      <td>2043215_7272325_Position5m.tif</td>\n",
       "    </tr>\n",
       "    <tr>\n",
       "      <th>28717</th>\n",
       "      <td>1</td>\n",
       "      <td>28717</td>\n",
       "      <td>117</td>\n",
       "      <td>143</td>\n",
       "      <td>2043215</td>\n",
       "      <td>7272585</td>\n",
       "      <td>2043215_7272585_NumPoints5m.tif</td>\n",
       "      <td>2043215_7272585_EcartZ5m.tif</td>\n",
       "      <td>2043215_7272585_Position5m.tif</td>\n",
       "    </tr>\n",
       "    <tr>\n",
       "      <th>28762</th>\n",
       "      <td>1</td>\n",
       "      <td>28762</td>\n",
       "      <td>162</td>\n",
       "      <td>143</td>\n",
       "      <td>2043215</td>\n",
       "      <td>7272810</td>\n",
       "      <td>2043215_7272810_NumPoints5m.tif</td>\n",
       "      <td>2043215_7272810_EcartZ5m.tif</td>\n",
       "      <td>2043215_7272810_Position5m.tif</td>\n",
       "    </tr>\n",
       "    <tr>\n",
       "      <th>28794</th>\n",
       "      <td>1</td>\n",
       "      <td>28794</td>\n",
       "      <td>194</td>\n",
       "      <td>143</td>\n",
       "      <td>2043215</td>\n",
       "      <td>7272970</td>\n",
       "      <td>2043215_7272970_NumPoints5m.tif</td>\n",
       "      <td>2043215_7272970_EcartZ5m.tif</td>\n",
       "      <td>2043215_7272970_Position5m.tif</td>\n",
       "    </tr>\n",
       "    <tr>\n",
       "      <th>28858</th>\n",
       "      <td>1</td>\n",
       "      <td>28858</td>\n",
       "      <td>58</td>\n",
       "      <td>144</td>\n",
       "      <td>2043220</td>\n",
       "      <td>7272290</td>\n",
       "      <td>2043220_7272290_NumPoints5m.tif</td>\n",
       "      <td>2043220_7272290_EcartZ5m.tif</td>\n",
       "      <td>2043220_7272290_Position5m.tif</td>\n",
       "    </tr>\n",
       "    <tr>\n",
       "      <th>28859</th>\n",
       "      <td>1</td>\n",
       "      <td>28859</td>\n",
       "      <td>59</td>\n",
       "      <td>144</td>\n",
       "      <td>2043220</td>\n",
       "      <td>7272295</td>\n",
       "      <td>2043220_7272295_NumPoints5m.tif</td>\n",
       "      <td>2043220_7272295_EcartZ5m.tif</td>\n",
       "      <td>2043220_7272295_Position5m.tif</td>\n",
       "    </tr>\n",
       "    <tr>\n",
       "      <th>28867</th>\n",
       "      <td>1</td>\n",
       "      <td>28867</td>\n",
       "      <td>67</td>\n",
       "      <td>144</td>\n",
       "      <td>2043220</td>\n",
       "      <td>7272335</td>\n",
       "      <td>2043220_7272335_NumPoints5m.tif</td>\n",
       "      <td>2043220_7272335_EcartZ5m.tif</td>\n",
       "      <td>2043220_7272335_Position5m.tif</td>\n",
       "    </tr>\n",
       "    <tr>\n",
       "      <th>28871</th>\n",
       "      <td>1</td>\n",
       "      <td>28871</td>\n",
       "      <td>71</td>\n",
       "      <td>144</td>\n",
       "      <td>2043220</td>\n",
       "      <td>7272355</td>\n",
       "      <td>2043220_7272355_NumPoints5m.tif</td>\n",
       "      <td>2043220_7272355_EcartZ5m.tif</td>\n",
       "      <td>2043220_7272355_Position5m.tif</td>\n",
       "    </tr>\n",
       "    <tr>\n",
       "      <th>28873</th>\n",
       "      <td>1</td>\n",
       "      <td>28873</td>\n",
       "      <td>73</td>\n",
       "      <td>144</td>\n",
       "      <td>2043220</td>\n",
       "      <td>7272365</td>\n",
       "      <td>2043220_7272365_NumPoints5m.tif</td>\n",
       "      <td>2043220_7272365_EcartZ5m.tif</td>\n",
       "      <td>2043220_7272365_Position5m.tif</td>\n",
       "    </tr>\n",
       "  </tbody>\n",
       "</table>\n",
       "</div>"
      ],
      "text/plain": [
       "       present   NumI  NumY  NumX        X        Y  \\\n",
       "27731        1  27731   131   138  2043190  7272655   \n",
       "27747        1  27747   147   138  2043190  7272735   \n",
       "28103        1  28103   103   140  2043200  7272515   \n",
       "28125        1  28125   125   140  2043200  7272625   \n",
       "28131        1  28131   131   140  2043200  7272655   \n",
       "28193        1  28193   193   140  2043200  7272965   \n",
       "28256        1  28256    56   141  2043205  7272280   \n",
       "28393        1  28393   193   141  2043205  7272965   \n",
       "28463        1  28463    63   142  2043210  7272315   \n",
       "28464        1  28464    64   142  2043210  7272320   \n",
       "28662        1  28662    62   143  2043215  7272310   \n",
       "28665        1  28665    65   143  2043215  7272325   \n",
       "28717        1  28717   117   143  2043215  7272585   \n",
       "28762        1  28762   162   143  2043215  7272810   \n",
       "28794        1  28794   194   143  2043215  7272970   \n",
       "28858        1  28858    58   144  2043220  7272290   \n",
       "28859        1  28859    59   144  2043220  7272295   \n",
       "28867        1  28867    67   144  2043220  7272335   \n",
       "28871        1  28871    71   144  2043220  7272355   \n",
       "28873        1  28873    73   144  2043220  7272365   \n",
       "\n",
       "                               nom_NUM                       nom_ECA  \\\n",
       "27731  2043190_7272655_NumPoints5m.tif  2043190_7272655_EcartZ5m.tif   \n",
       "27747  2043190_7272735_NumPoints5m.tif  2043190_7272735_EcartZ5m.tif   \n",
       "28103  2043200_7272515_NumPoints5m.tif  2043200_7272515_EcartZ5m.tif   \n",
       "28125  2043200_7272625_NumPoints5m.tif  2043200_7272625_EcartZ5m.tif   \n",
       "28131  2043200_7272655_NumPoints5m.tif  2043200_7272655_EcartZ5m.tif   \n",
       "28193  2043200_7272965_NumPoints5m.tif  2043200_7272965_EcartZ5m.tif   \n",
       "28256  2043205_7272280_NumPoints5m.tif  2043205_7272280_EcartZ5m.tif   \n",
       "28393  2043205_7272965_NumPoints5m.tif  2043205_7272965_EcartZ5m.tif   \n",
       "28463  2043210_7272315_NumPoints5m.tif  2043210_7272315_EcartZ5m.tif   \n",
       "28464  2043210_7272320_NumPoints5m.tif  2043210_7272320_EcartZ5m.tif   \n",
       "28662  2043215_7272310_NumPoints5m.tif  2043215_7272310_EcartZ5m.tif   \n",
       "28665  2043215_7272325_NumPoints5m.tif  2043215_7272325_EcartZ5m.tif   \n",
       "28717  2043215_7272585_NumPoints5m.tif  2043215_7272585_EcartZ5m.tif   \n",
       "28762  2043215_7272810_NumPoints5m.tif  2043215_7272810_EcartZ5m.tif   \n",
       "28794  2043215_7272970_NumPoints5m.tif  2043215_7272970_EcartZ5m.tif   \n",
       "28858  2043220_7272290_NumPoints5m.tif  2043220_7272290_EcartZ5m.tif   \n",
       "28859  2043220_7272295_NumPoints5m.tif  2043220_7272295_EcartZ5m.tif   \n",
       "28867  2043220_7272335_NumPoints5m.tif  2043220_7272335_EcartZ5m.tif   \n",
       "28871  2043220_7272355_NumPoints5m.tif  2043220_7272355_EcartZ5m.tif   \n",
       "28873  2043220_7272365_NumPoints5m.tif  2043220_7272365_EcartZ5m.tif   \n",
       "\n",
       "                              nom_POS  \n",
       "27731  2043190_7272655_Position5m.tif  \n",
       "27747  2043190_7272735_Position5m.tif  \n",
       "28103  2043200_7272515_Position5m.tif  \n",
       "28125  2043200_7272625_Position5m.tif  \n",
       "28131  2043200_7272655_Position5m.tif  \n",
       "28193  2043200_7272965_Position5m.tif  \n",
       "28256  2043205_7272280_Position5m.tif  \n",
       "28393  2043205_7272965_Position5m.tif  \n",
       "28463  2043210_7272315_Position5m.tif  \n",
       "28464  2043210_7272320_Position5m.tif  \n",
       "28662  2043215_7272310_Position5m.tif  \n",
       "28665  2043215_7272325_Position5m.tif  \n",
       "28717  2043215_7272585_Position5m.tif  \n",
       "28762  2043215_7272810_Position5m.tif  \n",
       "28794  2043215_7272970_Position5m.tif  \n",
       "28858  2043220_7272290_Position5m.tif  \n",
       "28859  2043220_7272295_Position5m.tif  \n",
       "28867  2043220_7272335_Position5m.tif  \n",
       "28871  2043220_7272355_Position5m.tif  \n",
       "28873  2043220_7272365_Position5m.tif  "
      ]
     },
     "execution_count": 8,
     "metadata": {},
     "output_type": "execute_result"
    }
   ],
   "source": [
    "print(lampes1.shape, lampes0.shape)\n",
    "lampes1.head(240).tail(20)\n"
   ]
  },
  {
   "cell_type": "markdown",
   "metadata": {
    "slideshow": {
     "slide_type": "skip"
    }
   },
   "source": [
    "## Extraction de(s) image(s) dans un dataframe unique (à partir de imageio)"
   ]
  },
  {
   "cell_type": "code",
   "execution_count": null,
   "metadata": {
    "slideshow": {
     "slide_type": "skip"
    }
   },
   "outputs": [],
   "source": []
  },
  {
   "cell_type": "code",
   "execution_count": 48,
   "metadata": {
    "ExecuteTime": {
     "end_time": "2020-03-10T16:40:02.049217Z",
     "start_time": "2020-03-10T16:40:01.794781Z"
    },
    "slideshow": {
     "slide_type": "skip"
    }
   },
   "outputs": [
    {
     "name": "stdout",
     "output_type": "stream",
     "text": [
      "M: 1\n",
      "357 352 29032 29384 29384 30 39592\n",
      "29032 10560 39592\n",
      "M: 2\n",
      "357 352 29032 29384 29384 30 39592\n",
      "29032 10560 39592\n",
      "M: 3\n",
      "357 352 29032 29384 29384 30 39592\n",
      "29032 10560 39592\n"
     ]
    }
   ],
   "source": [
    "from keras.preprocessing.image import load_img, save_img\n",
    "from keras.preprocessing.image import img_to_array\n",
    "from keras.preprocessing.image import array_to_img\n",
    "\n",
    "off = 200000\n",
    "if off > 40000:\n",
    "    off = len(liste_1)\n",
    "NN = 0\n",
    "NM = NN + off\n",
    "\n",
    "dal1 = ['nom_NUM', 'nom_ECA', 'nom_POS']\n",
    "dal2 = [DALLE_NUM, DALLE_ECA, DALLE_POS]\n",
    "listes = [liste_1, liste_2, liste_3]\n",
    "data = ['data1', 'data12', 'data3']\n",
    "#### Pour eviter les fichiers manquants\n",
    "# Compare les deux SETS (impossible avec des listes)\n",
    "for m in range(1,4):\n",
    "    print(\"M:\", m)\n",
    "    set_A = set(dal2[m-1] + lampes1[dal1[m-1]])\n",
    "    set_B = set(listes[m-1])\n",
    "    set_C1 = set_A & set_B\n",
    "    set_C2 = set_B - set_A\n",
    "    liste_C = list(set_C2)\n",
    "    liste_extraite0 = list(liste_C[NN:NM]) + list(set_C1)\n",
    "    mult = int(len(liste_extraite0)/len(set_C1))\n",
    "    mult = 30\n",
    "    liste_extraite  = list(liste_C[NN:NM]) + mult * list(set_C1)\n",
    "    #liste_extraite = list(set(list(liste_1[NN:NM]) + list(set_C1)))\n",
    "    print(len(set_A), len(set_C1), len(set_C2), len(liste_1), len(liste_extraite0), mult, len(liste_extraite))\n",
    "\n",
    "    # creation du tenseur resultant ... merge tous les fichiers images\n",
    "    fichier = DATA_DIR3 + \"data_LAS_\" + str(dal1[m-1]) + \"_\" + str(off) + \"_\" + str(mult) + \".npy\"\n",
    "    test = False\n",
    "    if not(os.path.exists(fichier)):\n",
    "    #if test:\n",
    "    #  Ne fonctionne pas np.array(load_img(fname)) for fname in list_lamp0\n",
    "        data[m-1] = np.array([np.array(imageio.imread(fname)) for fname in liste_extraite])\n",
    "        data[m-1].shape\n",
    "        np.save(fichier, data[m-1])\n",
    "\n",
    "    liste_y1 = [ 0 for x in range(len(liste_C[NN:NM]))]\n",
    "    liste_y2 = [ 1 for x in range(mult * len(list(set_C1)))]\n",
    "    liste_y = liste_y1 + liste_y2\n",
    "    print(len(liste_y1), len(liste_y2), len(liste_y))\n",
    "    \n",
    "    "
   ]
  },
  {
   "cell_type": "markdown",
   "metadata": {
    "slideshow": {
     "slide_type": "skip"
    }
   },
   "source": [
    "### Lecture de TOUS les fichiers\n",
    "5s pour 100 fichiers\n",
    "\n",
    "~45-60mn ? pour 40000 fichiers\n",
    "\n",
    "création de la table de 200-300 colonnes"
   ]
  },
  {
   "cell_type": "code",
   "execution_count": 10,
   "metadata": {
    "ExecuteTime": {
     "end_time": "2020-03-10T13:42:17.396076Z",
     "start_time": "2020-03-10T13:32:35.533802Z"
    },
    "slideshow": {
     "slide_type": "skip"
    }
   },
   "outputs": [
    {
     "name": "stdout",
     "output_type": "stream",
     "text": [
      "40357 40357 40000 40000\n",
      "(0, 0)\n",
      "0 0\n",
      "500 389\n",
      "1000 808\n",
      "1225 1000 1000 1000 0\n",
      "1500 1228\n",
      "2000 1638\n",
      "2437 2000 2000 2000 0\n",
      "2500 2057\n",
      "3000 2424\n",
      "3500 2846\n",
      "3680 3000 3000 3000 0\n",
      "4000 3269\n",
      "4500 3700\n",
      "4868 4000 4000 4000 0\n",
      "5000 4113\n",
      "5500 4543\n",
      "6000 4972\n",
      "6041 5000 5000 5000 0\n",
      "6500 5414\n",
      "7000 5858\n",
      "7161 6000 6000 6000 0\n",
      "7500 6302\n",
      "8000 6750\n",
      "8265 7000 7000 7000 0\n",
      "8500 7219\n",
      "9000 7698\n",
      "9331 8000 8000 8000 0\n",
      "9500 8152\n",
      "10000 8611\n",
      "10443 9000 9000 9000 0\n",
      "10500 9056\n",
      "11000 9491\n",
      "11500 9898\n",
      "11635 10000 10000 10000 0\n",
      "12000 10310\n",
      "12500 10697\n",
      "12906 11000 11000 11000 0\n",
      "13000 11072\n",
      "13500 11480\n",
      "14000 11877\n",
      "14171 12000 12000 12000 0\n",
      "14500 12243\n",
      "15000 12596\n",
      "15500 12930\n",
      "15599 13000 13000 13000 0\n",
      "16000 13219\n",
      "16500 13550\n",
      "17000 13869\n",
      "17206 14000 14000 14000 0\n",
      "17500 14188\n",
      "18000 14491\n",
      "18500 14863\n",
      "18688 15000 15000 15000 0\n",
      "19000 15256\n",
      "19500 15665\n",
      "19935 16000 16000 16000 0\n",
      "20000 16037\n",
      "20500 16424\n",
      "21000 16778\n",
      "21297 17000 17000 17000 0\n",
      "21500 17144\n",
      "22000 17476\n",
      "22500 17780\n",
      "22865 18000 18000 18000 0\n",
      "23000 18086\n",
      "23500 18423\n",
      "24000 18732\n",
      "24421 19000 19000 19000 0\n",
      "24500 19057\n",
      "25000 19393\n",
      "25500 19733\n",
      "25903 20000 20000 20000 0\n",
      "26000 20053\n",
      "26500 20395\n",
      "27000 20753\n",
      "27322 21000 21000 21000 0\n",
      "27500 21151\n",
      "28000 21536\n",
      "28500 21913\n",
      "28611 22000 22000 22000 0\n",
      "29000 22303\n",
      "29500 22661\n",
      "30000 22991\n",
      "30009 23000 23000 23000 0\n",
      "30500 23333\n",
      "31000 23625\n",
      "31500 23866\n",
      "31783 24000 24000 24000 0\n",
      "32000 24122\n",
      "32500 24420\n",
      "33000 24727\n",
      "33427 25000 25000 25000 0\n",
      "33500 25040\n",
      "34000 25345\n",
      "34500 25709\n",
      "34890 26000 26000 26000 0\n",
      "35000 26069\n",
      "35500 26436\n",
      "36000 26764\n",
      "36337 27000 27000 27000 0\n",
      "36500 27111\n",
      "37000 27425\n",
      "37500 27755\n",
      "37878 28000 28000 28000 0\n",
      "38000 28072\n",
      "38500 28407\n",
      "39000 28728\n",
      "39416 29000 29000 29000 0\n",
      "39500 29059\n",
      "40000 29384\n",
      "40357 29736 29736 29736 10621 (29736, 201) 1.0\n"
     ]
    },
    {
     "data": {
      "text/html": [
       "<div>\n",
       "<style scoped>\n",
       "    .dataframe tbody tr th:only-of-type {\n",
       "        vertical-align: middle;\n",
       "    }\n",
       "\n",
       "    .dataframe tbody tr th {\n",
       "        vertical-align: top;\n",
       "    }\n",
       "\n",
       "    .dataframe thead th {\n",
       "        text-align: right;\n",
       "    }\n",
       "</style>\n",
       "<table border=\"1\" class=\"dataframe\">\n",
       "  <thead>\n",
       "    <tr style=\"text-align: right;\">\n",
       "      <th></th>\n",
       "      <th>0_num</th>\n",
       "      <th>1_num</th>\n",
       "      <th>2_num</th>\n",
       "      <th>3_num</th>\n",
       "      <th>4_num</th>\n",
       "      <th>5_num</th>\n",
       "      <th>6_num</th>\n",
       "      <th>7_num</th>\n",
       "      <th>8_num</th>\n",
       "      <th>9_num</th>\n",
       "      <th>...</th>\n",
       "      <th>91_h</th>\n",
       "      <th>92_h</th>\n",
       "      <th>93_h</th>\n",
       "      <th>94_h</th>\n",
       "      <th>95_h</th>\n",
       "      <th>96_h</th>\n",
       "      <th>97_h</th>\n",
       "      <th>98_h</th>\n",
       "      <th>99_h</th>\n",
       "      <th>label</th>\n",
       "    </tr>\n",
       "  </thead>\n",
       "  <tbody>\n",
       "    <tr>\n",
       "      <th>1</th>\n",
       "      <td>0</td>\n",
       "      <td>0</td>\n",
       "      <td>0</td>\n",
       "      <td>0</td>\n",
       "      <td>0</td>\n",
       "      <td>0</td>\n",
       "      <td>0</td>\n",
       "      <td>6</td>\n",
       "      <td>3</td>\n",
       "      <td>1</td>\n",
       "      <td>...</td>\n",
       "      <td>0.55</td>\n",
       "      <td>0.00</td>\n",
       "      <td>0.00</td>\n",
       "      <td>0.00</td>\n",
       "      <td>0.00</td>\n",
       "      <td>0.00</td>\n",
       "      <td>0.0</td>\n",
       "      <td>0.00</td>\n",
       "      <td>0.00</td>\n",
       "      <td>0</td>\n",
       "    </tr>\n",
       "    <tr>\n",
       "      <th>2</th>\n",
       "      <td>0</td>\n",
       "      <td>0</td>\n",
       "      <td>0</td>\n",
       "      <td>0</td>\n",
       "      <td>4</td>\n",
       "      <td>3</td>\n",
       "      <td>0</td>\n",
       "      <td>0</td>\n",
       "      <td>0</td>\n",
       "      <td>0</td>\n",
       "      <td>...</td>\n",
       "      <td>0.00</td>\n",
       "      <td>0.00</td>\n",
       "      <td>0.00</td>\n",
       "      <td>0.00</td>\n",
       "      <td>0.00</td>\n",
       "      <td>0.00</td>\n",
       "      <td>0.0</td>\n",
       "      <td>0.30</td>\n",
       "      <td>0.00</td>\n",
       "      <td>0</td>\n",
       "    </tr>\n",
       "    <tr>\n",
       "      <th>3</th>\n",
       "      <td>1</td>\n",
       "      <td>2</td>\n",
       "      <td>1</td>\n",
       "      <td>1</td>\n",
       "      <td>0</td>\n",
       "      <td>1</td>\n",
       "      <td>0</td>\n",
       "      <td>0</td>\n",
       "      <td>0</td>\n",
       "      <td>0</td>\n",
       "      <td>...</td>\n",
       "      <td>0.00</td>\n",
       "      <td>0.00</td>\n",
       "      <td>0.00</td>\n",
       "      <td>0.67</td>\n",
       "      <td>0.17</td>\n",
       "      <td>0.58</td>\n",
       "      <td>0.0</td>\n",
       "      <td>0.00</td>\n",
       "      <td>0.00</td>\n",
       "      <td>0</td>\n",
       "    </tr>\n",
       "    <tr>\n",
       "      <th>4</th>\n",
       "      <td>0</td>\n",
       "      <td>0</td>\n",
       "      <td>0</td>\n",
       "      <td>0</td>\n",
       "      <td>0</td>\n",
       "      <td>0</td>\n",
       "      <td>0</td>\n",
       "      <td>0</td>\n",
       "      <td>0</td>\n",
       "      <td>0</td>\n",
       "      <td>...</td>\n",
       "      <td>0.17</td>\n",
       "      <td>0.35</td>\n",
       "      <td>0.77</td>\n",
       "      <td>0.00</td>\n",
       "      <td>0.00</td>\n",
       "      <td>0.00</td>\n",
       "      <td>0.0</td>\n",
       "      <td>0.00</td>\n",
       "      <td>0.00</td>\n",
       "      <td>0</td>\n",
       "    </tr>\n",
       "    <tr>\n",
       "      <th>5</th>\n",
       "      <td>0</td>\n",
       "      <td>0</td>\n",
       "      <td>0</td>\n",
       "      <td>0</td>\n",
       "      <td>0</td>\n",
       "      <td>0</td>\n",
       "      <td>0</td>\n",
       "      <td>0</td>\n",
       "      <td>0</td>\n",
       "      <td>0</td>\n",
       "      <td>...</td>\n",
       "      <td>0.00</td>\n",
       "      <td>0.00</td>\n",
       "      <td>0.00</td>\n",
       "      <td>0.00</td>\n",
       "      <td>0.00</td>\n",
       "      <td>0.00</td>\n",
       "      <td>0.0</td>\n",
       "      <td>0.00</td>\n",
       "      <td>0.00</td>\n",
       "      <td>0</td>\n",
       "    </tr>\n",
       "    <tr>\n",
       "      <th>...</th>\n",
       "      <td>...</td>\n",
       "      <td>...</td>\n",
       "      <td>...</td>\n",
       "      <td>...</td>\n",
       "      <td>...</td>\n",
       "      <td>...</td>\n",
       "      <td>...</td>\n",
       "      <td>...</td>\n",
       "      <td>...</td>\n",
       "      <td>...</td>\n",
       "      <td>...</td>\n",
       "      <td>...</td>\n",
       "      <td>...</td>\n",
       "      <td>...</td>\n",
       "      <td>...</td>\n",
       "      <td>...</td>\n",
       "      <td>...</td>\n",
       "      <td>...</td>\n",
       "      <td>...</td>\n",
       "      <td>...</td>\n",
       "      <td>...</td>\n",
       "    </tr>\n",
       "    <tr>\n",
       "      <th>29732</th>\n",
       "      <td>1</td>\n",
       "      <td>2</td>\n",
       "      <td>1</td>\n",
       "      <td>1</td>\n",
       "      <td>0</td>\n",
       "      <td>0</td>\n",
       "      <td>0</td>\n",
       "      <td>0</td>\n",
       "      <td>0</td>\n",
       "      <td>1</td>\n",
       "      <td>...</td>\n",
       "      <td>0.00</td>\n",
       "      <td>0.00</td>\n",
       "      <td>0.00</td>\n",
       "      <td>0.00</td>\n",
       "      <td>0.00</td>\n",
       "      <td>0.00</td>\n",
       "      <td>0.0</td>\n",
       "      <td>0.00</td>\n",
       "      <td>0.00</td>\n",
       "      <td>1</td>\n",
       "    </tr>\n",
       "    <tr>\n",
       "      <th>29733</th>\n",
       "      <td>0</td>\n",
       "      <td>0</td>\n",
       "      <td>0</td>\n",
       "      <td>0</td>\n",
       "      <td>0</td>\n",
       "      <td>0</td>\n",
       "      <td>0</td>\n",
       "      <td>0</td>\n",
       "      <td>0</td>\n",
       "      <td>0</td>\n",
       "      <td>...</td>\n",
       "      <td>0.00</td>\n",
       "      <td>0.00</td>\n",
       "      <td>0.00</td>\n",
       "      <td>0.00</td>\n",
       "      <td>0.00</td>\n",
       "      <td>0.00</td>\n",
       "      <td>0.0</td>\n",
       "      <td>0.00</td>\n",
       "      <td>0.00</td>\n",
       "      <td>1</td>\n",
       "    </tr>\n",
       "    <tr>\n",
       "      <th>29734</th>\n",
       "      <td>5</td>\n",
       "      <td>4</td>\n",
       "      <td>3</td>\n",
       "      <td>8</td>\n",
       "      <td>0</td>\n",
       "      <td>0</td>\n",
       "      <td>0</td>\n",
       "      <td>0</td>\n",
       "      <td>0</td>\n",
       "      <td>3</td>\n",
       "      <td>...</td>\n",
       "      <td>0.71</td>\n",
       "      <td>0.00</td>\n",
       "      <td>0.05</td>\n",
       "      <td>0.27</td>\n",
       "      <td>0.00</td>\n",
       "      <td>0.00</td>\n",
       "      <td>0.0</td>\n",
       "      <td>0.07</td>\n",
       "      <td>0.03</td>\n",
       "      <td>1</td>\n",
       "    </tr>\n",
       "    <tr>\n",
       "      <th>29735</th>\n",
       "      <td>0</td>\n",
       "      <td>0</td>\n",
       "      <td>1</td>\n",
       "      <td>0</td>\n",
       "      <td>0</td>\n",
       "      <td>0</td>\n",
       "      <td>1</td>\n",
       "      <td>0</td>\n",
       "      <td>5</td>\n",
       "      <td>1</td>\n",
       "      <td>...</td>\n",
       "      <td>0.00</td>\n",
       "      <td>0.00</td>\n",
       "      <td>0.00</td>\n",
       "      <td>0.00</td>\n",
       "      <td>0.00</td>\n",
       "      <td>0.00</td>\n",
       "      <td>0.0</td>\n",
       "      <td>0.00</td>\n",
       "      <td>0.00</td>\n",
       "      <td>1</td>\n",
       "    </tr>\n",
       "    <tr>\n",
       "      <th>29736</th>\n",
       "      <td>0</td>\n",
       "      <td>0</td>\n",
       "      <td>0</td>\n",
       "      <td>0</td>\n",
       "      <td>0</td>\n",
       "      <td>0</td>\n",
       "      <td>0</td>\n",
       "      <td>0</td>\n",
       "      <td>0</td>\n",
       "      <td>0</td>\n",
       "      <td>...</td>\n",
       "      <td>0.00</td>\n",
       "      <td>0.00</td>\n",
       "      <td>0.00</td>\n",
       "      <td>0.00</td>\n",
       "      <td>0.00</td>\n",
       "      <td>0.00</td>\n",
       "      <td>0.0</td>\n",
       "      <td>0.00</td>\n",
       "      <td>0.01</td>\n",
       "      <td>1</td>\n",
       "    </tr>\n",
       "  </tbody>\n",
       "</table>\n",
       "<p>29736 rows × 201 columns</p>\n",
       "</div>"
      ],
      "text/plain": [
       "       0_num  1_num  2_num  3_num  4_num  5_num  6_num  7_num  8_num  9_num  \\\n",
       "1          0      0      0      0      0      0      0      6      3      1   \n",
       "2          0      0      0      0      4      3      0      0      0      0   \n",
       "3          1      2      1      1      0      1      0      0      0      0   \n",
       "4          0      0      0      0      0      0      0      0      0      0   \n",
       "5          0      0      0      0      0      0      0      0      0      0   \n",
       "...      ...    ...    ...    ...    ...    ...    ...    ...    ...    ...   \n",
       "29732      1      2      1      1      0      0      0      0      0      1   \n",
       "29733      0      0      0      0      0      0      0      0      0      0   \n",
       "29734      5      4      3      8      0      0      0      0      0      3   \n",
       "29735      0      0      1      0      0      0      1      0      5      1   \n",
       "29736      0      0      0      0      0      0      0      0      0      0   \n",
       "\n",
       "       ...  91_h  92_h  93_h  94_h  95_h  96_h  97_h  98_h  99_h  label  \n",
       "1      ...  0.55  0.00  0.00  0.00  0.00  0.00   0.0  0.00  0.00      0  \n",
       "2      ...  0.00  0.00  0.00  0.00  0.00  0.00   0.0  0.30  0.00      0  \n",
       "3      ...  0.00  0.00  0.00  0.67  0.17  0.58   0.0  0.00  0.00      0  \n",
       "4      ...  0.17  0.35  0.77  0.00  0.00  0.00   0.0  0.00  0.00      0  \n",
       "5      ...  0.00  0.00  0.00  0.00  0.00  0.00   0.0  0.00  0.00      0  \n",
       "...    ...   ...   ...   ...   ...   ...   ...   ...   ...   ...    ...  \n",
       "29732  ...  0.00  0.00  0.00  0.00  0.00  0.00   0.0  0.00  0.00      1  \n",
       "29733  ...  0.00  0.00  0.00  0.00  0.00  0.00   0.0  0.00  0.00      1  \n",
       "29734  ...  0.71  0.00  0.05  0.27  0.00  0.00   0.0  0.07  0.03      1  \n",
       "29735  ...  0.00  0.00  0.00  0.00  0.00  0.00   0.0  0.00  0.00      1  \n",
       "29736  ...  0.00  0.00  0.00  0.00  0.00  0.00   0.0  0.00  0.01      1  \n",
       "\n",
       "[29736 rows x 201 columns]"
      ]
     },
     "execution_count": 10,
     "metadata": {},
     "output_type": "execute_result"
    }
   ],
   "source": [
    "#  limitation à XXX valeurs\n",
    "\n",
    "NN = 0\n",
    "NM = NN + off\n",
    "\n",
    "n_row2 =  10   #TODO mettre le produit des dimension de la matrice image\n",
    "n_col2 =  10\n",
    "N2 = n_row2*n_col2  # N=100\n",
    "\n",
    "#################################################\n",
    "#################################################\n",
    "###   TODO ... regarder l'unicité des 2 listes\n",
    "#################################################\n",
    "#################################################\n",
    "\n",
    "### assemble 2 listes (lampadaires totale + NM * valeurs au hazard ... fichiers unique)\n",
    "#list_lamp0 = list(set(lampes0['nom_NUM'][NN:NM] + list(DALLE_NUM + list_lamp1)))\n",
    "list_lamp0 = list(DALLE_NUM + lampes0['nom_NUM']) + list(DALLE_NUM + lampes1['nom_NUM'])\n",
    "list_lamp1 = list(DALLE_NUM + lampes0['nom_POS'])\n",
    "list_lamp2 = list(DALLE_ECA + lampes0['nom_ECA'])\n",
    "list_lamp0b = list(lampes0['present']) + list(lampes1['present'])\n",
    "print(len(list_lamp0), len(list_lamp0b), len(list_lamp1), len(list_lamp2))\n",
    "\n",
    "\n",
    "# si df3 existe déjà  ... MAIS verifier si bon fichier \n",
    "df3 = pd.DataFrame()\n",
    "print(df3.shape)\n",
    "test = True\n",
    "if df3.shape[0] == off:\n",
    "        test = False\n",
    "if test:\n",
    "    (i, j, k) = (0,0,0)\n",
    "    for n,fich1 in enumerate(list_lamp0):\n",
    "        if n%500 == 0:\n",
    "            print(n, i)\n",
    "        fich2 = fich1.replace(\"NumPoints5m\", \"EcartZ5m\")\n",
    "        fich3 = fich1.replace(\"NumPoints5m\", \"Position5m\")\n",
    "        #fiche3 = DALLE_POS+fich3  \n",
    "# fichiers dalles manquantes ???? ... pourquoi ?????\n",
    "        if os.path.exists(fich2):    # \n",
    "            j += 1\n",
    "        if os.path.exists(fich3):    # \n",
    "            k += 1\n",
    "        if os.path.exists(fich1):    # Manque des fichiers sur les 40000\n",
    "            i += 1\n",
    "            if i%1000 == 0:\n",
    "                print(n+1, i, j, k, list_lamp0b[n])\n",
    "            data1 = np.reshape(imageio.imread(fich1), N2) #.flatten()\n",
    "            data1T = np.expand_dims(data1, axis=0)\n",
    "            data2 = np.reshape(imageio.imread(fich2), N2)\n",
    "            data2T = np.expand_dims(data2, axis=0)\n",
    "            #data3 = np.reshape(imageio.imread(fiche3), N2)\n",
    "            #data3T = np.expand_dims(data3, axis=0)\n",
    "            #print(i, data1T.shape, data2T.shape, data3T.shape)\n",
    "            df_int1 = pd.DataFrame(data1T, index=[i])  #, index=indices)\n",
    "            df_int2 = pd.DataFrame(data2T, index=[i])  \n",
    "            #df_int3 = pd.DataFrame(data3T, index=[i])\n",
    "            # MERGE \n",
    "            #df_inta = df_int1.merge(df_int2, left_index=True, right_index=True, suffixes=('_num', '_h'))\n",
    "            #df_int = df_inta.merge(df_int3, left_index=True, right_index=True)\n",
    "            df_int = df_int1.merge(df_int2, left_index=True, right_index=True, suffixes=('_num', '_h'))\n",
    "            df_int['label'] = list_lamp0b[n]    #\n",
    "            if i == 1:\n",
    "                #print(dataT)\n",
    "                df3 = df_int\n",
    "            else:\n",
    "                df3 = pd.concat([df3, df_int])\n",
    "        else:\n",
    "            pass     #print(fiche1, fich2)\n",
    "    if i > 0:\n",
    "        print(n+1, i,j,k, n+1-i, df3.shape, df3.shape[0]/i)\n",
    "    \n",
    "    # change pour des entiers et pas des nombres flottant \n",
    "    for n in range(0,N2):\n",
    "        df3 = df3.astype({str(n)+'_num': 'int8'}, copy=False)\n",
    "    #print(df3.dtypes)\n",
    "df3\n",
    "\n",
    "#  TODO rajouter une colonne de présence ( comparer avec SORTIE :  0 ou 1)\n",
    "#####################################################\n",
    "#  remplir une colonne de zéro\n",
    "#  puis boucler sur les N=357 valeurs pour indiquer la présence d'un lampadaire\n",
    "#####################################################\n",
    "#  puis faire 100 sorties 0-1 pour  les 100 positions"
   ]
  },
  {
   "cell_type": "code",
   "execution_count": 11,
   "metadata": {
    "ExecuteTime": {
     "end_time": "2020-03-10T13:42:25.671684Z",
     "start_time": "2020-03-10T13:42:25.074262Z"
    },
    "slideshow": {
     "slide_type": "skip"
    }
   },
   "outputs": [
    {
     "data": {
      "text/html": [
       "<div>\n",
       "<style scoped>\n",
       "    .dataframe tbody tr th:only-of-type {\n",
       "        vertical-align: middle;\n",
       "    }\n",
       "\n",
       "    .dataframe tbody tr th {\n",
       "        vertical-align: top;\n",
       "    }\n",
       "\n",
       "    .dataframe thead th {\n",
       "        text-align: right;\n",
       "    }\n",
       "</style>\n",
       "<table border=\"1\" class=\"dataframe\">\n",
       "  <thead>\n",
       "    <tr style=\"text-align: right;\">\n",
       "      <th></th>\n",
       "      <th>count</th>\n",
       "      <th>mean</th>\n",
       "      <th>std</th>\n",
       "      <th>val</th>\n",
       "    </tr>\n",
       "  </thead>\n",
       "  <tbody>\n",
       "    <tr>\n",
       "      <th>0_num</th>\n",
       "      <td>29736.0</td>\n",
       "      <td>0.875874</td>\n",
       "      <td>1.766939</td>\n",
       "      <td>26045.00</td>\n",
       "    </tr>\n",
       "    <tr>\n",
       "      <th>1_num</th>\n",
       "      <td>29736.0</td>\n",
       "      <td>0.875000</td>\n",
       "      <td>1.753925</td>\n",
       "      <td>26019.00</td>\n",
       "    </tr>\n",
       "    <tr>\n",
       "      <th>2_num</th>\n",
       "      <td>29736.0</td>\n",
       "      <td>0.862355</td>\n",
       "      <td>1.735122</td>\n",
       "      <td>25643.00</td>\n",
       "    </tr>\n",
       "    <tr>\n",
       "      <th>3_num</th>\n",
       "      <td>29736.0</td>\n",
       "      <td>0.868510</td>\n",
       "      <td>1.753690</td>\n",
       "      <td>25826.00</td>\n",
       "    </tr>\n",
       "    <tr>\n",
       "      <th>4_num</th>\n",
       "      <td>29736.0</td>\n",
       "      <td>0.863499</td>\n",
       "      <td>1.744741</td>\n",
       "      <td>25677.00</td>\n",
       "    </tr>\n",
       "    <tr>\n",
       "      <th>...</th>\n",
       "      <td>...</td>\n",
       "      <td>...</td>\n",
       "      <td>...</td>\n",
       "      <td>...</td>\n",
       "    </tr>\n",
       "    <tr>\n",
       "      <th>96_h</th>\n",
       "      <td>29736.0</td>\n",
       "      <td>0.127799</td>\n",
       "      <td>0.624246</td>\n",
       "      <td>3800.24</td>\n",
       "    </tr>\n",
       "    <tr>\n",
       "      <th>97_h</th>\n",
       "      <td>29736.0</td>\n",
       "      <td>0.129080</td>\n",
       "      <td>0.611349</td>\n",
       "      <td>3838.33</td>\n",
       "    </tr>\n",
       "    <tr>\n",
       "      <th>98_h</th>\n",
       "      <td>29736.0</td>\n",
       "      <td>0.130893</td>\n",
       "      <td>0.617141</td>\n",
       "      <td>3892.23</td>\n",
       "    </tr>\n",
       "    <tr>\n",
       "      <th>99_h</th>\n",
       "      <td>29736.0</td>\n",
       "      <td>0.124229</td>\n",
       "      <td>0.594682</td>\n",
       "      <td>3694.08</td>\n",
       "    </tr>\n",
       "    <tr>\n",
       "      <th>label</th>\n",
       "      <td>29736.0</td>\n",
       "      <td>0.023675</td>\n",
       "      <td>0.152037</td>\n",
       "      <td>704.00</td>\n",
       "    </tr>\n",
       "  </tbody>\n",
       "</table>\n",
       "<p>201 rows × 4 columns</p>\n",
       "</div>"
      ],
      "text/plain": [
       "         count      mean       std       val\n",
       "0_num  29736.0  0.875874  1.766939  26045.00\n",
       "1_num  29736.0  0.875000  1.753925  26019.00\n",
       "2_num  29736.0  0.862355  1.735122  25643.00\n",
       "3_num  29736.0  0.868510  1.753690  25826.00\n",
       "4_num  29736.0  0.863499  1.744741  25677.00\n",
       "...        ...       ...       ...       ...\n",
       "96_h   29736.0  0.127799  0.624246   3800.24\n",
       "97_h   29736.0  0.129080  0.611349   3838.33\n",
       "98_h   29736.0  0.130893  0.617141   3892.23\n",
       "99_h   29736.0  0.124229  0.594682   3694.08\n",
       "label  29736.0  0.023675  0.152037    704.00\n",
       "\n",
       "[201 rows x 4 columns]"
      ]
     },
     "execution_count": 11,
     "metadata": {},
     "output_type": "execute_result"
    }
   ],
   "source": [
    "df3_total = df3.copy()\n",
    "\n",
    "testD = df3_total.describe()[:3].T\n",
    "testD['val'] = (testD['count'] * testD['mean'])\n",
    "testD"
   ]
  },
  {
   "cell_type": "code",
   "execution_count": 12,
   "metadata": {
    "ExecuteTime": {
     "end_time": "2020-03-10T13:42:36.521959Z",
     "start_time": "2020-03-10T13:42:33.592022Z"
    },
    "slideshow": {
     "slide_type": "skip"
    }
   },
   "outputs": [
    {
     "name": "stdout",
     "output_type": "stream",
     "text": [
      "(29736, 201)\n"
     ]
    }
   ],
   "source": [
    "# Sauvegarde du fichier total \n",
    "test = True\n",
    "if test:\n",
    "    fileSAVE = DATA_DIR3 + \"donnees_LAS_1k_1k.csv\"\n",
    "    #fileSAVE = DATA_DIR3 + \"donnees_IMAC_LAS_1k_1k.csv\"\n",
    "    df3.to_csv(fileSAVE, index=False)\n",
    "print(df3_total.shape)"
   ]
  },
  {
   "cell_type": "code",
   "execution_count": null,
   "metadata": {
    "slideshow": {
     "slide_type": "skip"
    }
   },
   "outputs": [],
   "source": []
  },
  {
   "cell_type": "markdown",
   "metadata": {
    "slideshow": {
     "slide_type": "skip"
    }
   },
   "source": [
    "# KERAS - TENSORFLOW"
   ]
  },
  {
   "cell_type": "markdown",
   "metadata": {
    "slideshow": {
     "slide_type": "skip"
    }
   },
   "source": [
    "## Lecture du fichier de données"
   ]
  },
  {
   "cell_type": "code",
   "execution_count": 13,
   "metadata": {
    "ExecuteTime": {
     "end_time": "2020-03-10T13:45:08.333445Z",
     "start_time": "2020-03-10T13:45:07.685499Z"
    },
    "slideshow": {
     "slide_type": "skip"
    }
   },
   "outputs": [
    {
     "name": "stdout",
     "output_type": "stream",
     "text": [
      "<module 'tensorflow_core.keras.datasets' from '/Users/pierreleisy/Data_Science/anaconda3/envs/geo_env/lib/python3.7/site-packages/tensorflow_core/python/keras/api/_v2/keras/datasets/__init__.py'>\n"
     ]
    },
    {
     "data": {
      "text/html": [
       "<div>\n",
       "<style scoped>\n",
       "    .dataframe tbody tr th:only-of-type {\n",
       "        vertical-align: middle;\n",
       "    }\n",
       "\n",
       "    .dataframe tbody tr th {\n",
       "        vertical-align: top;\n",
       "    }\n",
       "\n",
       "    .dataframe thead th {\n",
       "        text-align: right;\n",
       "    }\n",
       "</style>\n",
       "<table border=\"1\" class=\"dataframe\">\n",
       "  <thead>\n",
       "    <tr style=\"text-align: right;\">\n",
       "      <th></th>\n",
       "      <th>0_num</th>\n",
       "      <th>1_num</th>\n",
       "      <th>2_num</th>\n",
       "      <th>3_num</th>\n",
       "      <th>4_num</th>\n",
       "      <th>5_num</th>\n",
       "      <th>6_num</th>\n",
       "      <th>7_num</th>\n",
       "      <th>8_num</th>\n",
       "      <th>9_num</th>\n",
       "      <th>...</th>\n",
       "      <th>91_h</th>\n",
       "      <th>92_h</th>\n",
       "      <th>93_h</th>\n",
       "      <th>94_h</th>\n",
       "      <th>95_h</th>\n",
       "      <th>96_h</th>\n",
       "      <th>97_h</th>\n",
       "      <th>98_h</th>\n",
       "      <th>99_h</th>\n",
       "      <th>label</th>\n",
       "    </tr>\n",
       "  </thead>\n",
       "  <tbody>\n",
       "    <tr>\n",
       "      <th>0</th>\n",
       "      <td>0</td>\n",
       "      <td>0</td>\n",
       "      <td>0</td>\n",
       "      <td>0</td>\n",
       "      <td>0</td>\n",
       "      <td>0</td>\n",
       "      <td>0</td>\n",
       "      <td>6</td>\n",
       "      <td>3</td>\n",
       "      <td>1</td>\n",
       "      <td>...</td>\n",
       "      <td>0.55</td>\n",
       "      <td>0.0</td>\n",
       "      <td>0.0</td>\n",
       "      <td>0.0</td>\n",
       "      <td>0.0</td>\n",
       "      <td>0.0</td>\n",
       "      <td>0.0</td>\n",
       "      <td>0.0</td>\n",
       "      <td>0.0</td>\n",
       "      <td>0</td>\n",
       "    </tr>\n",
       "    <tr>\n",
       "      <th>1</th>\n",
       "      <td>0</td>\n",
       "      <td>0</td>\n",
       "      <td>0</td>\n",
       "      <td>0</td>\n",
       "      <td>4</td>\n",
       "      <td>3</td>\n",
       "      <td>0</td>\n",
       "      <td>0</td>\n",
       "      <td>0</td>\n",
       "      <td>0</td>\n",
       "      <td>...</td>\n",
       "      <td>0.00</td>\n",
       "      <td>0.0</td>\n",
       "      <td>0.0</td>\n",
       "      <td>0.0</td>\n",
       "      <td>0.0</td>\n",
       "      <td>0.0</td>\n",
       "      <td>0.0</td>\n",
       "      <td>0.3</td>\n",
       "      <td>0.0</td>\n",
       "      <td>0</td>\n",
       "    </tr>\n",
       "  </tbody>\n",
       "</table>\n",
       "<p>2 rows × 201 columns</p>\n",
       "</div>"
      ],
      "text/plain": [
       "   0_num  1_num  2_num  3_num  4_num  5_num  6_num  7_num  8_num  9_num  ...  \\\n",
       "0      0      0      0      0      0      0      0      6      3      1  ...   \n",
       "1      0      0      0      0      4      3      0      0      0      0  ...   \n",
       "\n",
       "   91_h  92_h  93_h  94_h  95_h  96_h  97_h  98_h  99_h  label  \n",
       "0  0.55   0.0   0.0   0.0   0.0   0.0   0.0   0.0   0.0      0  \n",
       "1  0.00   0.0   0.0   0.0   0.0   0.0   0.0   0.3   0.0      0  \n",
       "\n",
       "[2 rows x 201 columns]"
      ]
     },
     "execution_count": 13,
     "metadata": {},
     "output_type": "execute_result"
    }
   ],
   "source": [
    "print(tf.keras.datasets)\n",
    "if platform.system() == 'Darwin' and platform.release() == '18.0.0':\n",
    "    df4 = pd.read_csv(DATA_DIR3 + \"donnees_IMAC_LAS_1k_1k.csv\")\n",
    "else:\n",
    "    df4 = pd.read_csv(DATA_DIR3 + \"donnees_LAS_1k_1k.csv\")\n",
    "df4.head(2)"
   ]
  },
  {
   "cell_type": "markdown",
   "metadata": {
    "slideshow": {
     "slide_type": "skip"
    }
   },
   "source": [
    "### Rajouter des lampadaires pour améliorer l'entrainement"
   ]
  },
  {
   "cell_type": "code",
   "execution_count": 33,
   "metadata": {
    "ExecuteTime": {
     "end_time": "2020-03-10T14:29:55.333391Z",
     "start_time": "2020-03-10T14:29:55.152885Z"
    },
    "slideshow": {
     "slide_type": "skip"
    }
   },
   "outputs": [
    {
     "name": "stdout",
     "output_type": "stream",
     "text": [
      "On rajoute:  0  fois 704  nombre de lampadaires ( 0 )\n",
      "(29736, 201) 29736 704 0\n",
      "(29736, 201)\n"
     ]
    },
    {
     "data": {
      "text/html": [
       "<div>\n",
       "<style scoped>\n",
       "    .dataframe tbody tr th:only-of-type {\n",
       "        vertical-align: middle;\n",
       "    }\n",
       "\n",
       "    .dataframe tbody tr th {\n",
       "        vertical-align: top;\n",
       "    }\n",
       "\n",
       "    .dataframe thead th {\n",
       "        text-align: right;\n",
       "    }\n",
       "</style>\n",
       "<table border=\"1\" class=\"dataframe\">\n",
       "  <thead>\n",
       "    <tr style=\"text-align: right;\">\n",
       "      <th></th>\n",
       "      <th>0_num</th>\n",
       "      <th>1_num</th>\n",
       "      <th>2_num</th>\n",
       "      <th>3_num</th>\n",
       "      <th>4_num</th>\n",
       "      <th>5_num</th>\n",
       "      <th>6_num</th>\n",
       "      <th>7_num</th>\n",
       "      <th>8_num</th>\n",
       "      <th>9_num</th>\n",
       "      <th>...</th>\n",
       "      <th>91_h</th>\n",
       "      <th>92_h</th>\n",
       "      <th>93_h</th>\n",
       "      <th>94_h</th>\n",
       "      <th>95_h</th>\n",
       "      <th>96_h</th>\n",
       "      <th>97_h</th>\n",
       "      <th>98_h</th>\n",
       "      <th>99_h</th>\n",
       "      <th>label</th>\n",
       "    </tr>\n",
       "  </thead>\n",
       "  <tbody>\n",
       "    <tr>\n",
       "      <th>0</th>\n",
       "      <td>0</td>\n",
       "      <td>0</td>\n",
       "      <td>0</td>\n",
       "      <td>0</td>\n",
       "      <td>0</td>\n",
       "      <td>0</td>\n",
       "      <td>0</td>\n",
       "      <td>6</td>\n",
       "      <td>3</td>\n",
       "      <td>1</td>\n",
       "      <td>...</td>\n",
       "      <td>0.55</td>\n",
       "      <td>0.0</td>\n",
       "      <td>0.0</td>\n",
       "      <td>0.0</td>\n",
       "      <td>0.0</td>\n",
       "      <td>0.00</td>\n",
       "      <td>0.00</td>\n",
       "      <td>0.00</td>\n",
       "      <td>0.0</td>\n",
       "      <td>0</td>\n",
       "    </tr>\n",
       "    <tr>\n",
       "      <th>1</th>\n",
       "      <td>0</td>\n",
       "      <td>0</td>\n",
       "      <td>0</td>\n",
       "      <td>0</td>\n",
       "      <td>0</td>\n",
       "      <td>0</td>\n",
       "      <td>0</td>\n",
       "      <td>0</td>\n",
       "      <td>0</td>\n",
       "      <td>0</td>\n",
       "      <td>...</td>\n",
       "      <td>0.00</td>\n",
       "      <td>0.0</td>\n",
       "      <td>0.0</td>\n",
       "      <td>0.0</td>\n",
       "      <td>0.0</td>\n",
       "      <td>0.00</td>\n",
       "      <td>0.00</td>\n",
       "      <td>0.00</td>\n",
       "      <td>0.0</td>\n",
       "      <td>0</td>\n",
       "    </tr>\n",
       "    <tr>\n",
       "      <th>2</th>\n",
       "      <td>0</td>\n",
       "      <td>0</td>\n",
       "      <td>0</td>\n",
       "      <td>0</td>\n",
       "      <td>0</td>\n",
       "      <td>3</td>\n",
       "      <td>4</td>\n",
       "      <td>8</td>\n",
       "      <td>11</td>\n",
       "      <td>1</td>\n",
       "      <td>...</td>\n",
       "      <td>0.00</td>\n",
       "      <td>0.0</td>\n",
       "      <td>0.0</td>\n",
       "      <td>0.0</td>\n",
       "      <td>0.0</td>\n",
       "      <td>6.33</td>\n",
       "      <td>0.41</td>\n",
       "      <td>0.14</td>\n",
       "      <td>0.0</td>\n",
       "      <td>0</td>\n",
       "    </tr>\n",
       "  </tbody>\n",
       "</table>\n",
       "<p>3 rows × 201 columns</p>\n",
       "</div>"
      ],
      "text/plain": [
       "   0_num  1_num  2_num  3_num  4_num  5_num  6_num  7_num  8_num  9_num  ...  \\\n",
       "0      0      0      0      0      0      0      0      6      3      1  ...   \n",
       "1      0      0      0      0      0      0      0      0      0      0  ...   \n",
       "2      0      0      0      0      0      3      4      8     11      1  ...   \n",
       "\n",
       "   91_h  92_h  93_h  94_h  95_h  96_h  97_h  98_h  99_h  label  \n",
       "0  0.55   0.0   0.0   0.0   0.0  0.00  0.00  0.00   0.0      0  \n",
       "1  0.00   0.0   0.0   0.0   0.0  0.00  0.00  0.00   0.0      0  \n",
       "2  0.00   0.0   0.0   0.0   0.0  6.33  0.41  0.14   0.0      0  \n",
       "\n",
       "[3 rows x 201 columns]"
      ]
     },
     "execution_count": 33,
     "metadata": {},
     "output_type": "execute_result"
    }
   ],
   "source": [
    "df4b = df4[df4['label'] != 0]\n",
    "\n",
    "mult2 = int(df4.shape[0] / df4b.shape[0])\n",
    "mult2 = 0\n",
    "\n",
    "print(\"On rajoute: \", mult2, \" fois\", df4b.shape[0], \" nombre de lampadaires (\", mult2*df4b.shape[0], \")\")\n",
    "print(df4.shape, df4.shape[0], df4b.shape[0], mult2)\n",
    "\n",
    "#df = pd.concat([df] * a + [df.iloc[[-1]]] * b).sort_values('col1').reset_index(drop=True)\n",
    "\n",
    "df5 = pd.concat([df4b] * mult2 + [df4]).sort_values('label').reset_index(drop=True)\n",
    "print(df5.shape)\n",
    "df5.head(3)"
   ]
  },
  {
   "cell_type": "markdown",
   "metadata": {
    "slideshow": {
     "slide_type": "skip"
    }
   },
   "source": [
    "### Changement de la classe en categorial"
   ]
  },
  {
   "cell_type": "code",
   "execution_count": 34,
   "metadata": {
    "ExecuteTime": {
     "end_time": "2020-03-10T14:30:06.669145Z",
     "start_time": "2020-03-10T14:30:06.569506Z"
    },
    "slideshow": {
     "slide_type": "skip"
    }
   },
   "outputs": [],
   "source": [
    "from sklearn.model_selection import train_test_split \n",
    "from keras.utils import to_categorical\n",
    "\n",
    "# Charge et split les données\n",
    "X = df5.iloc[:,:-1]\n",
    "y = df5.iloc[:,-1]\n",
    "y_binary = to_categorical(y)"
   ]
  },
  {
   "cell_type": "markdown",
   "metadata": {
    "slideshow": {
     "slide_type": "skip"
    }
   },
   "source": [
    "### Séparation Train - Test"
   ]
  },
  {
   "cell_type": "code",
   "execution_count": 35,
   "metadata": {
    "ExecuteTime": {
     "end_time": "2020-03-10T14:30:17.908644Z",
     "start_time": "2020-03-10T14:30:17.681639Z"
    },
    "slideshow": {
     "slide_type": "skip"
    }
   },
   "outputs": [
    {
     "name": "stdout",
     "output_type": "stream",
     "text": [
      "(23788, 200) (23788, 2) (5948, 200) (5948, 2) (29736, 2) (29736,)\n"
     ]
    }
   ],
   "source": [
    "train_data, test_data, train_labels, test_labels = train_test_split(\n",
    "    X, y_binary, test_size=0.2, random_state=42, stratify=y_binary)\n",
    "#    X, y, test_size=0.2, random_state=42, stratify=y)\n",
    "\n",
    "print(train_data.shape, train_labels.shape, test_data.shape, test_labels.shape, y_binary.shape, y.shape)"
   ]
  },
  {
   "cell_type": "code",
   "execution_count": null,
   "metadata": {},
   "outputs": [],
   "source": []
  },
  {
   "cell_type": "markdown",
   "metadata": {
    "ExecuteTime": {
     "end_time": "2020-02-27T11:18:54.716836Z",
     "start_time": "2020-02-27T11:18:54.653211Z"
    },
    "slideshow": {
     "slide_type": "skip"
    }
   },
   "source": [
    "## Création d'un Modèle Réseau de Neurone \"SIMPLE\""
   ]
  },
  {
   "cell_type": "raw",
   "metadata": {
    "ExecuteTime": {
     "end_time": "2020-03-03T08:46:00.479683Z",
     "start_time": "2020-03-03T08:45:24.419540Z"
    },
    "slideshow": {
     "slide_type": "skip"
    }
   },
   "source": [
    "Nomb_Input = 200\n",
    "\n",
    "M = 64    # 512-256-128-64-32 ? \n",
    "epochs = 20\n",
    "batch_size = 64\n",
    "num_class = 2\n",
    "\n",
    "# ou model = Sequential() + model.add(Dense(N)) + model.add(Dropout(0.5)) + model.add(Activation('softmax'))\n",
    "model0 = Sequential([\n",
    "    Dense(M, activation='relu', input_shape=(Nomb_Input,train_data.shape(1))),\n",
    "    Dropout(0.5),\n",
    "    Dense(M, activation='relu'),\n",
    "    Dense(M, activation='relu'), #model.add(Dropout(0.2))\n",
    "    Dropout(0.2),\n",
    "#    Dense(num_class, activation='softmax')   #  ou sigmoid\n",
    "    Dense(num_class, activation='sigmoid')  #, output_dim=1)\n",
    "])\n",
    "\n",
    "#    https://keras.io/losses \n",
    "#  loss fonctions: categorical_crossentropy, sparse_categorical_crossentropy, mean_squared_error ... etc\n",
    "#  optimizer: 'sgd', 'adam', keras.optimizers.SGD(lr=0.01, momentum=0.9, nesterov=True)\n",
    "\n",
    "model0.compile(loss=\"binary_crossentropy\", optimizer='adam',\n",
    " metrics=['msle', 'accuracy', 'mean_squared_error', 'binary_accuracy', 'categorical_accuracy'])\n",
    "# NOT loss=\"categorical_crossentropy\",'mean_squared_error'\n",
    "# NOT optimizer='sgd' \n",
    "# NOT metrics=['accuracy', 'mse', 'acc', 'categorical_accuracy',\n",
    "# 'sparse_categorical_accuracy', 'top_k_categorical_accuracy',\n",
    "# 'sparse_top_k_categorical_accuracy', 'cosine_proximity', 'clone_metric','clone_metrics']\n",
    "# ['binary_accuracy', 'fmeasure', 'precision', 'recall'])\n",
    "# Print with verbose=2 ???\n",
    "\n",
    "model0.summary()\n",
    "\n",
    "history0 = model0.fit(train_data, train_labels, validation_split=0.33, verbose=2, epochs=epochs, batch_size=batch_size)\n"
   ]
  },
  {
   "cell_type": "code",
   "execution_count": 36,
   "metadata": {
    "ExecuteTime": {
     "end_time": "2020-03-10T14:30:28.131707Z",
     "start_time": "2020-03-10T14:30:28.054505Z"
    },
    "slideshow": {
     "slide_type": "skip"
    }
   },
   "outputs": [
    {
     "name": "stdout",
     "output_type": "stream",
     "text": [
      "train (23788, 200) (5948, 200)\n",
      "(23788, 2)\n"
     ]
    }
   ],
   "source": [
    "print(\"train\", train_data.shape, test_data.shape)\n",
    "print(train_labels.shape)"
   ]
  },
  {
   "cell_type": "code",
   "execution_count": 38,
   "metadata": {
    "ExecuteTime": {
     "end_time": "2020-03-10T14:38:48.271674Z",
     "start_time": "2020-03-10T14:32:25.206172Z"
    },
    "slideshow": {
     "slide_type": ""
    }
   },
   "outputs": [
    {
     "name": "stdout",
     "output_type": "stream",
     "text": [
      "Model: \"sequential_3\"\n",
      "_________________________________________________________________\n",
      "Layer (type)                 Output Shape              Param #   \n",
      "=================================================================\n",
      "conv1d_5 (Conv1D)            (None, 198, 32)           128       \n",
      "_________________________________________________________________\n",
      "max_pooling1d_5 (MaxPooling1 (None, 99, 32)            0         \n",
      "_________________________________________________________________\n",
      "flatten_3 (Flatten)          (None, 3168)              0         \n",
      "_________________________________________________________________\n",
      "dense_5 (Dense)              (None, 50)                158450    \n",
      "_________________________________________________________________\n",
      "dense_6 (Dense)              (None, 2)                 102       \n",
      "=================================================================\n",
      "Total params: 158,680\n",
      "Trainable params: 158,680\n",
      "Non-trainable params: 0\n",
      "_________________________________________________________________\n",
      "Train on 15937 samples, validate on 7851 samples\n",
      "Epoch 1/50\n",
      " - 8s - loss: 0.1297 - accuracy: 0.9749 - val_loss: 0.1037 - val_accuracy: 0.9773\n",
      "Epoch 2/50\n",
      " - 7s - loss: 0.1034 - accuracy: 0.9759 - val_loss: 0.1001 - val_accuracy: 0.9774\n",
      "Epoch 3/50\n",
      " - 8s - loss: 0.0939 - accuracy: 0.9763 - val_loss: 0.0998 - val_accuracy: 0.9778\n",
      "Epoch 4/50\n",
      " - 8s - loss: 0.0833 - accuracy: 0.9773 - val_loss: 0.0995 - val_accuracy: 0.9781\n",
      "Epoch 5/50\n",
      " - 8s - loss: 0.0756 - accuracy: 0.9786 - val_loss: 0.0997 - val_accuracy: 0.9774\n",
      "Epoch 6/50\n",
      " - 7s - loss: 0.0643 - accuracy: 0.9802 - val_loss: 0.1028 - val_accuracy: 0.9785\n",
      "Epoch 7/50\n",
      " - 8s - loss: 0.0561 - accuracy: 0.9815 - val_loss: 0.0981 - val_accuracy: 0.9789\n",
      "Epoch 8/50\n",
      " - 8s - loss: 0.0467 - accuracy: 0.9839 - val_loss: 0.1013 - val_accuracy: 0.9796\n",
      "Epoch 9/50\n",
      " - 8s - loss: 0.0410 - accuracy: 0.9860 - val_loss: 0.0989 - val_accuracy: 0.9803\n",
      "Epoch 10/50\n",
      " - 8s - loss: 0.0350 - accuracy: 0.9880 - val_loss: 0.1011 - val_accuracy: 0.9801\n",
      "Epoch 11/50\n",
      " - 8s - loss: 0.0304 - accuracy: 0.9897 - val_loss: 0.1095 - val_accuracy: 0.9808\n",
      "Epoch 12/50\n",
      " - 8s - loss: 0.0264 - accuracy: 0.9908 - val_loss: 0.1171 - val_accuracy: 0.9807\n",
      "Epoch 13/50\n",
      " - 7s - loss: 0.0210 - accuracy: 0.9934 - val_loss: 0.1184 - val_accuracy: 0.9822\n",
      "Epoch 14/50\n",
      " - 7s - loss: 0.0212 - accuracy: 0.9934 - val_loss: 0.1251 - val_accuracy: 0.9825\n",
      "Epoch 15/50\n",
      " - 8s - loss: 0.0179 - accuracy: 0.9946 - val_loss: 0.1327 - val_accuracy: 0.9827\n",
      "Epoch 16/50\n",
      " - 8s - loss: 0.0155 - accuracy: 0.9952 - val_loss: 0.1366 - val_accuracy: 0.9811\n",
      "Epoch 17/50\n",
      " - 7s - loss: 0.0143 - accuracy: 0.9961 - val_loss: 0.1420 - val_accuracy: 0.9822\n",
      "Epoch 18/50\n",
      " - 8s - loss: 0.0140 - accuracy: 0.9961 - val_loss: 0.1495 - val_accuracy: 0.9825\n",
      "Epoch 19/50\n",
      " - 8s - loss: 0.0113 - accuracy: 0.9972 - val_loss: 0.1566 - val_accuracy: 0.9824\n",
      "Epoch 20/50\n",
      " - 8s - loss: 0.0095 - accuracy: 0.9979 - val_loss: 0.1620 - val_accuracy: 0.9836\n",
      "Epoch 21/50\n",
      " - 7s - loss: 0.0089 - accuracy: 0.9983 - val_loss: 0.1755 - val_accuracy: 0.9847\n",
      "Epoch 22/50\n",
      " - 8s - loss: 0.0094 - accuracy: 0.9980 - val_loss: 0.1639 - val_accuracy: 0.9804\n",
      "Epoch 23/50\n",
      " - 8s - loss: 0.0096 - accuracy: 0.9976 - val_loss: 0.1815 - val_accuracy: 0.9820\n",
      "Epoch 24/50\n",
      " - 7s - loss: 0.0085 - accuracy: 0.9979 - val_loss: 0.1767 - val_accuracy: 0.9811\n",
      "Epoch 25/50\n",
      " - 8s - loss: 0.0070 - accuracy: 0.9988 - val_loss: 0.1867 - val_accuracy: 0.9836\n",
      "Epoch 26/50\n",
      " - 8s - loss: 0.0057 - accuracy: 0.9989 - val_loss: 0.1954 - val_accuracy: 0.9794\n",
      "Epoch 27/50\n",
      " - 7s - loss: 0.0048 - accuracy: 0.9992 - val_loss: 0.2113 - val_accuracy: 0.9844\n",
      "Epoch 28/50\n",
      " - 8s - loss: 0.0067 - accuracy: 0.9985 - val_loss: 0.2114 - val_accuracy: 0.9832\n",
      "Epoch 29/50\n",
      " - 8s - loss: 0.0062 - accuracy: 0.9984 - val_loss: 0.2162 - val_accuracy: 0.9810\n",
      "Epoch 30/50\n",
      " - 8s - loss: 0.0068 - accuracy: 0.9981 - val_loss: 0.2135 - val_accuracy: 0.9775\n",
      "Epoch 31/50\n",
      " - 7s - loss: 0.0064 - accuracy: 0.9987 - val_loss: 0.2208 - val_accuracy: 0.9813\n",
      "Epoch 32/50\n",
      " - 8s - loss: 0.0039 - accuracy: 0.9993 - val_loss: 0.2271 - val_accuracy: 0.9842\n",
      "Epoch 33/50\n",
      " - 8s - loss: 0.0040 - accuracy: 0.9994 - val_loss: 0.2343 - val_accuracy: 0.9785\n",
      "Epoch 34/50\n",
      " - 8s - loss: 0.0043 - accuracy: 0.9990 - val_loss: 0.2376 - val_accuracy: 0.9826\n",
      "Epoch 35/50\n",
      " - 7s - loss: 0.0027 - accuracy: 0.9995 - val_loss: 0.2389 - val_accuracy: 0.9819\n",
      "Epoch 36/50\n",
      " - 8s - loss: 0.0093 - accuracy: 0.9976 - val_loss: 0.2614 - val_accuracy: 0.9826\n",
      "Epoch 37/50\n",
      " - 8s - loss: 0.0056 - accuracy: 0.9984 - val_loss: 0.2494 - val_accuracy: 0.9845\n",
      "Epoch 38/50\n",
      " - 7s - loss: 0.0022 - accuracy: 0.9997 - val_loss: 0.2508 - val_accuracy: 0.9809\n",
      "Epoch 39/50\n",
      " - 7s - loss: 0.0018 - accuracy: 0.9998 - val_loss: 0.2606 - val_accuracy: 0.9818\n",
      "Epoch 40/50\n",
      " - 8s - loss: 0.0019 - accuracy: 0.9997 - val_loss: 0.2682 - val_accuracy: 0.9817\n",
      "Epoch 41/50\n",
      " - 8s - loss: 0.0018 - accuracy: 0.9997 - val_loss: 0.2780 - val_accuracy: 0.9835\n",
      "Epoch 42/50\n",
      " - 7s - loss: 0.0012 - accuracy: 0.9997 - val_loss: 0.2896 - val_accuracy: 0.9825\n",
      "Epoch 43/50\n",
      " - 8s - loss: 0.0014 - accuracy: 0.9998 - val_loss: 0.2939 - val_accuracy: 0.9824\n",
      "Epoch 44/50\n",
      " - 8s - loss: 9.6340e-04 - accuracy: 0.9998 - val_loss: 0.3118 - val_accuracy: 0.9840\n",
      "Epoch 45/50\n",
      " - 9s - loss: 0.0060 - accuracy: 0.9986 - val_loss: 0.3218 - val_accuracy: 0.9734\n",
      "Epoch 46/50\n",
      " - 7s - loss: 0.0089 - accuracy: 0.9971 - val_loss: 0.2879 - val_accuracy: 0.9789\n",
      "Epoch 47/50\n",
      " - 8s - loss: 0.0025 - accuracy: 0.9993 - val_loss: 0.2994 - val_accuracy: 0.9792\n",
      "Epoch 48/50\n",
      " - 8s - loss: 0.0035 - accuracy: 0.9991 - val_loss: 0.2989 - val_accuracy: 0.9817\n",
      "Epoch 49/50\n",
      " - 8s - loss: 0.0016 - accuracy: 0.9997 - val_loss: 0.3049 - val_accuracy: 0.9829\n",
      "Epoch 50/50\n",
      " - 7s - loss: 9.4400e-04 - accuracy: 0.9998 - val_loss: 0.3100 - val_accuracy: 0.9841\n"
     ]
    }
   ],
   "source": [
    "#Nomb_Input = 200\n",
    "#fil_M = 32    # 512-256-128-64-32 ?\n",
    "kernel = 3\n",
    "epochs = 50   #. 10-20-30-50\n",
    "batch_size = 32\n",
    "n_dens = 50  # 100 ou 200?\n",
    "\n",
    "num_class = 2   # ou ce\n",
    "\n",
    "# redimensionnement nécesaire pour la convolution\n",
    "train_data2 = np.expand_dims(train_data, axis=2)\n",
    "#   ou  ?  train_data.reshape(train_data.shape[0], train_data.shape[1], 1)  et input_shape=(train_data.shape[1], 1)\n",
    "test_data2 = np.expand_dims(test_data, axis=2)\n",
    "\n",
    "model0 = Sequential()\n",
    "model0.add(Conv1D(32, kernel, activation='relu', input_shape=(train_data2.shape[1],train_data2.shape[2])))\n",
    "#model0.add(Dropout(0.5))\n",
    "model0.add(MaxPooling1D(pool_size=(2)))\n",
    "###### PLUS\n",
    "#model0.add(Conv1D(64, kernel, activation='relu'))\n",
    "#model0.add(MaxPooling1D(pool_size=(2)))\n",
    "############\n",
    "# model0.add(BatchNormalization())\n",
    "model0.add(Flatten())        \n",
    "model0.add(Dense(n_dens, activation='relu'))\n",
    "model0.add(Dense(num_class, activation='sigmoid'))\n",
    "\n",
    "model0.compile(loss=\"binary_crossentropy\", optimizer='adam', metrics=['accuracy'])\n",
    "\n",
    "model0.summary()\n",
    "# model.save_weights('file.h5')\n",
    "# avec le model construit + les poids\n",
    "# model.load_weights('file.h5')\n",
    "\n",
    "history0 = model0.fit(train_data2, train_labels, validation_split=0.33, verbose=2, epochs=epochs, batch_size=batch_size)\n"
   ]
  },
  {
   "cell_type": "code",
   "execution_count": 39,
   "metadata": {
    "ExecuteTime": {
     "end_time": "2020-03-10T14:48:05.814397Z",
     "start_time": "2020-03-10T14:48:05.596053Z"
    },
    "slideshow": {
     "slide_type": "slide"
    }
   },
   "outputs": [
    {
     "data": {
      "image/png": "[encoded data removed]",
      "text/plain": [
       "<Figure size 432x288 with 1 Axes>"
      ]
     },
     "metadata": {
      "needs_background": "light"
     },
     "output_type": "display_data"
    }
   ],
   "source": [
    "#history0 = history0b\n",
    "#history0.history\n",
    "# plot metrics\n",
    "test = False\n",
    "if test:\n",
    "    _ = plt.plot(history0.history['msle'])\n",
    "    _ = plt.plot(history0.history['mean_squared_error'])\n",
    "    _ = plt.plot(history0.history['binary_accuracy'])\n",
    "    _ = plt.plot(history0.history['categorical_accuracy'])\n",
    "_ = plt.plot(history0.history['accuracy'])\n",
    "_ = plt.show()"
   ]
  },
  {
   "cell_type": "markdown",
   "metadata": {
    "slideshow": {
     "slide_type": "skip"
    }
   },
   "source": [
    "### Figures"
   ]
  },
  {
   "cell_type": "code",
   "execution_count": 46,
   "metadata": {
    "ExecuteTime": {
     "end_time": "2020-03-10T14:51:37.831720Z",
     "start_time": "2020-03-10T14:51:37.484670Z"
    },
    "slideshow": {
     "slide_type": "slide"
    }
   },
   "outputs": [
    {
     "name": "stdout",
     "output_type": "stream",
     "text": [
      "dict_keys(['val_loss', 'val_accuracy', 'loss', 'accuracy'])\n"
     ]
    },
    {
     "data": {
      "image/png": "[encoded data removed]",
      "text/plain": [
       "<Figure size 1440x288 with 2 Axes>"
      ]
     },
     "metadata": {
      "needs_background": "light"
     },
     "output_type": "display_data"
    }
   ],
   "source": [
    "print(history0.history.keys())\n",
    "#coul = [\"blue\", \"lightblue\", \"orange\", \"red\"]\n",
    "coul = [\"orange\", \"orange\", \"blue\", \"blue\"]\n",
    "\n",
    "fig = plt.figure(figsize=(20,4))\n",
    "_ = plt.subplot(1,2,1)\n",
    "for i in range(0,4,2):\n",
    "    _ = plt.plot(list(history0.history.values())[i],'k-o', color=coul[i])\n",
    "_ = plt.subplot(1,2,2)\n",
    "for j in range(1,4,2):\n",
    "    _ = plt.plot(list(history0.history.values())[j],'k-o', color=coul[j])"
   ]
  },
  {
   "cell_type": "code",
   "execution_count": 42,
   "metadata": {
    "ExecuteTime": {
     "end_time": "2020-03-10T14:50:27.044949Z",
     "start_time": "2020-03-10T14:50:26.937232Z"
    },
    "slideshow": {
     "slide_type": "skip"
    }
   },
   "outputs": [
    {
     "name": "stdout",
     "output_type": "stream",
     "text": [
      "dict_keys(['val_loss', 'val_accuracy', 'loss', 'accuracy'])\n",
      "0.9841421246528625\n",
      "0.99981177\n",
      "0.3100479723542455\n",
      "0.0009439984665172922\n"
     ]
    }
   ],
   "source": [
    "print(history0.history.keys())\n",
    "print(history0.history['val_accuracy'][-1])\n",
    "print(history0.history['accuracy'][-1])\n",
    "print(history0.history['val_loss'][-1])\n",
    "print(history0.history['loss'][-1])\n"
   ]
  },
  {
   "cell_type": "code",
   "execution_count": 43,
   "metadata": {
    "ExecuteTime": {
     "end_time": "2020-03-10T14:50:40.238040Z",
     "start_time": "2020-03-10T14:50:37.717125Z"
    },
    "slideshow": {
     "slide_type": "slide"
    }
   },
   "outputs": [
    {
     "name": "stdout",
     "output_type": "stream",
     "text": [
      "Test loss: 0.3331248938737443\n",
      "Test accuracy: 0.9815064072608948\n",
      "[0 0 0 0 0 0 0 0 0 0]\n",
      "[0. 0. 0. 0. 0. 0. 0. 0. 0. 0.]\n"
     ]
    },
    {
     "data": {
      "image/png": "[encoded data removed]",
      "text/plain": [
       "<Figure size 864x432 with 2 Axes>"
      ]
     },
     "metadata": {
      "needs_background": "light"
     },
     "output_type": "display_data"
    }
   ],
   "source": [
    "# RESULTATS\n",
    "score = model0.evaluate(test_data2, test_labels, verbose=0, batch_size=batch_size)\n",
    "print('Test loss:', score[0])\n",
    "print('Test accuracy:', score[1])\n",
    "\n",
    "# predictions\n",
    "classes = model0.predict(test_data2, batch_size=batch_size)\n",
    "predictions = model0.predict(test_data2[:10])\n",
    "print(np.argmax(predictions, axis=1))\n",
    "print(test_labels[:10,1])\n",
    "\n",
    "# PLOTS\n",
    "fig = plt.figure(figsize=(12,6))\n",
    "_ = plt.subplot(2,1,1)\n",
    "_ = plt.plot(history0.history['accuracy'])\n",
    "_ = plt.plot(history0.history['val_accuracy'])\n",
    "_ = plt.title('model accuracy')\n",
    "_ = plt.xlabel('epoch')\n",
    "_ = plt.ylabel('accuracy')\n",
    "_ = plt.legend(['train','test'], loc='lower right')\n",
    "\n",
    "_ = plt.subplot(2,1,2)\n",
    "_ = plt.plot(history0.history['loss'])\n",
    "_ = plt.plot(history0.history['val_loss'])\n",
    "_ = plt.title('model loss')\n",
    "_ = plt.xlabel('epoch')\n",
    "_ = plt.ylabel('loss')\n",
    "_ = plt.legend(['train','test'], loc='upper right')\n",
    "\n",
    "_ = plt.tight_layout()\n",
    "_ = fig"
   ]
  },
  {
   "cell_type": "markdown",
   "metadata": {
    "slideshow": {
     "slide_type": "skip"
    }
   },
   "source": [
    "### Matrice de Confusion"
   ]
  },
  {
   "cell_type": "code",
   "execution_count": 47,
   "metadata": {
    "ExecuteTime": {
     "end_time": "2020-03-10T16:15:18.412103Z",
     "start_time": "2020-03-10T16:15:12.072578Z"
    },
    "slideshow": {
     "slide_type": "skip"
    }
   },
   "outputs": [
    {
     "name": "stdout",
     "output_type": "stream",
     "text": [
      "\n",
      " Echantillon Test: 5948\n",
      "[[5765   68]\n",
      " [  42   73]]\n",
      "\n",
      " Echantillon Train: 23788\n",
      "[[23176    80]\n",
      " [   49   483]]\n",
      "\n",
      " Normalisé:\n",
      "Prédit       0.0       1.0\n",
      "Reel                      \n",
      "0.0     0.992767  0.297872\n",
      "1.0     0.011710  0.517730\n",
      "\n",
      " testing1:\n",
      "Predit   0.0  1.0   All\n",
      "Reel                   \n",
      "0.0     5765   42  5807\n",
      "1.0       68   73   141\n",
      "All     5833  115  5948\n"
     ]
    },
    {
     "data": {
      "image/png": "[encoded data removed]",
      "text/plain": [
       "<Figure size 432x288 with 2 Axes>"
      ]
     },
     "metadata": {
      "needs_background": "light"
     },
     "output_type": "display_data"
    },
    {
     "name": "stdout",
     "output_type": "stream",
     "text": [
      "\n",
      " testing2:\n",
      "Predit       0.0       1.0  All\n",
      "Reel                           \n",
      "0.0     0.496384  0.003616  0.5\n",
      "1.0     0.241135  0.258865  0.5\n",
      "All     0.490333  0.009667  0.5\n"
     ]
    },
    {
     "data": {
      "image/png": "[encoded data removed]",
      "text/plain": [
       "<Figure size 432x288 with 2 Axes>"
      ]
     },
     "metadata": {
      "needs_background": "light"
     },
     "output_type": "display_data"
    },
    {
     "data": {
      "text/plain": [
       "<matplotlib.axes._subplots.AxesSubplot at 0x1a59656e90>"
      ]
     },
     "execution_count": 47,
     "metadata": {},
     "output_type": "execute_result"
    },
    {
     "data": {
      "image/png": "[encoded data removed]",
      "text/plain": [
       "<Figure size 360x360 with 2 Axes>"
      ]
     },
     "metadata": {
      "needs_background": "light"
     },
     "output_type": "display_data"
    }
   ],
   "source": [
    "from sklearn.metrics import confusion_matrix\n",
    "\n",
    "# transforme les matrice en listes d'entiers binaires (0 ou 1)\n",
    "Y11 = pd.DataFrame(model0.predict(test_data2)[:,1:])[0].round(0).tolist()\n",
    "Y10 = pd.DataFrame(test_labels[:,1:])[0].tolist()\n",
    "print(\"\\n Echantillon Test:\", len(Y11))\n",
    "print(confusion_matrix(Y11, Y10))\n",
    "\n",
    "Y01 = pd.DataFrame(model0.predict(train_data2)[:,1:])[0].round(0).tolist()\n",
    "Y00 = pd.DataFrame(train_labels[:,1:])[0].tolist()\n",
    "print(\"\\n Echantillon Train:\", len(Y01))\n",
    "print(confusion_matrix(Y01, Y00))\n",
    "\n",
    "y_reel = pd.Series(Y10, name='Reel')\n",
    "y_pred = pd.Series(Y11, name='Prédit')\n",
    "\n",
    "df_confusion = pd.crosstab(y_reel, y_pred)\n",
    "\n",
    "df_conf_norm = df_confusion / df_confusion.sum(axis=1)\n",
    "print(\"\\n Normalisé:\")\n",
    "print(df_conf_norm)\n",
    "print(\"\\n testing1:\")\n",
    "df_confusion = pd.crosstab(y_reel, y_pred, rownames=['Reel'], colnames=['Predit'], margins=True)\n",
    "print(df_confusion)\n",
    "_ = sns.heatmap(df_confusion, annot=True)\n",
    "plt.show()\n",
    "\n",
    "df_conf_norm = df_confusion.div(df_confusion.sum(axis=1), axis=0)\n",
    "print(\"\\n testing2:\")\n",
    "print(df_conf_norm)\n",
    "_ = sns.heatmap(df_conf_norm, annot=True)\n",
    "plt.show()\n",
    "\n",
    "######### NOT WORKING ???\n",
    "#from pandas_ml import ConfusionMatrix\n",
    "#confusion_matrix = ConfusionMatrix(y_reel, y_pred)\n",
    "#confusion_matrix.plot()\n",
    "#plt.show()\n",
    "#confusion_matrix.plot(normalized=True)\n",
    "#plt.show()\n",
    "\n",
    "#binary_confusion_matrix = ConfusionMatrix(y_true, y_pred)\n",
    "#print(\"Binary confusion matrix:\\n%s\" % binary_confusion_matrix)\n",
    "#print(binary_confusion_matrix.TP) # TN, FP, FN, ...\n",
    "#binary_confusion_matrix.plot(normalized=False)\n",
    "#binary_confusion_matrix.plot(normalized=True, backend='seaborn')\n",
    "#plt.show()\n",
    "#confusion_matrix.print_stats()\n",
    "#confusion_matrix.stats()\n",
    "##########\n",
    "\n",
    "\n",
    "skplt.metrics.plot_confusion_matrix(y_reel, y_pred, figsize=(5,5))"
   ]
  },
  {
   "cell_type": "code",
   "execution_count": 45,
   "metadata": {
    "ExecuteTime": {
     "end_time": "2020-03-10T14:51:11.087521Z",
     "start_time": "2020-03-10T14:51:06.143437Z"
    },
    "slideshow": {
     "slide_type": "slide"
    }
   },
   "outputs": [
    {
     "name": "stdout",
     "output_type": "stream",
     "text": [
      "(5948, 4) (23788, 4)\n",
      "(5807, 4) (141, 4) (23225, 4) (563, 4)\n",
      "\n",
      " ERREURS: 0_true     0.0\n",
      "0_pred     0.0\n",
      "0_pred2    0.0\n",
      "diff       0.0\n",
      "dtype: float64 0_true      0.000000\n",
      "0_pred     35.571707\n",
      "0_pred2    42.000000\n",
      "diff      -42.000000\n",
      "dtype: float64 0_true     0.0\n",
      "0_pred     0.0\n",
      "0_pred2    0.0\n",
      "diff       0.0\n",
      "dtype: float64 0_true      0.000000\n",
      "0_pred     12.392503\n",
      "0_pred2     0.000000\n",
      "diff        0.000000\n",
      "dtype: float64\n",
      "\n",
      " LOSS 0.018493611297915265\n"
     ]
    },
    {
     "data": {
      "image/png": "[encoded data removed]",
      "text/plain": [
       "<Figure size 288x288 with 2 Axes>"
      ]
     },
     "metadata": {
      "needs_background": "light"
     },
     "output_type": "display_data"
    },
    {
     "data": {
      "image/png": "[encoded data removed]",
      "text/plain": [
       "<Figure size 360x360 with 2 Axes>"
      ]
     },
     "metadata": {
      "needs_background": "light"
     },
     "output_type": "display_data"
    },
    {
     "data": {
      "image/png": "[encoded data removed]",
      "text/plain": [
       "<Figure size 432x288 with 2 Axes>"
      ]
     },
     "metadata": {
      "needs_background": "light"
     },
     "output_type": "display_data"
    }
   ],
   "source": [
    "def mse_loss(y_true, y_pred):\n",
    "    # y_true and y_pred are numpy arrays of the same length.\n",
    "    return ((y_true - y_pred) ** 2).mean()\n",
    "\n",
    "def tab_result(df_a, df_b):\n",
    "    # Extrait les matrices binaires en 1 seule colonne\n",
    "    y_pred = pd.DataFrame(model0.predict(df_b)[:,1:])\n",
    "    y_true = pd.DataFrame(df_a[:,1:])\n",
    "    # création de la table\n",
    "    dy = y_true.merge(y_pred, left_index=True, right_index=True, suffixes=('_true', '_pred'))\n",
    "    dy['0_true'] = dy['0_true'].astype(int)\n",
    "    dy['0_pred2'] = dy['0_pred'].round(0)   #arrondi à l'entier le + proche\n",
    "    dy['diff'] = dy['0_true'] - dy['0_pred2']\n",
    "    return dy\n",
    "\n",
    "def lampe_results(df1, df2):\n",
    "    df_10 = df1[df1['0_true'] == 0]\n",
    "    df_11 = dy1[dy1['0_true'] == 1]\n",
    "    df_20 = df2[df2['0_true'] == 0]\n",
    "    df_21 = dy2[dy2['0_true'] == 1]\n",
    "    return (df_10, df_11, df_20, df_21)\n",
    "\n",
    "dy1 = tab_result(test_labels, test_data2)\n",
    "dy2 = tab_result(train_labels, train_data2)\n",
    "dy1.head(2)\n",
    "dy2.head(2)\n",
    "df_test_1, df_test_0, df_train_1, df_train_0 = lampe_results(dy1, dy2)\n",
    "\n",
    "print(dy1.shape, dy2.shape)\n",
    "print(df_test_1.shape, df_test_0.shape, df_train_1.shape, df_train_0.shape)\n",
    "#print(df_test_0.describe())\n",
    "true_pos1 = df_test_1[(df_test_1['0_pred2'] == 1) & (df_test_1['0_true'] == 1)].sum()\n",
    "fals_pos1 = df_test_1[(df_test_1['0_pred2'] == 1) & (df_test_1['0_true'] == 0)].sum()\n",
    "fals_neg1 = df_test_1[(df_test_1['0_pred2'] == 0) & (df_test_1['0_true'] == 1)].sum()\n",
    "true_neg1 = df_test_1[(df_test_1['0_pred2'] == 0) & (df_test_1['0_true'] == 0)].sum()\n",
    "print(\"\\n ERREURS:\", true_pos1, fals_pos1, fals_neg1, true_neg1)\n",
    "#####################################\n",
    "# sensitivity-recall : TPR = TP/P = TP / (TP + FN)\n",
    "# specificity-select : TNR = TN/N = TN / (TN + FP)\n",
    "# balance : = (TPR + TNR) / 2\n",
    "# precision          : TP / (TP + FP)\n",
    "\n",
    "# accuracy    : ACC = (TP + TN) / total\n",
    "# FI score    :  2 * TP / (2 TP + FP + FN) == 2 / (1/precision + 1/recall)\n",
    "#####################################\n",
    "\n",
    "\n",
    "# calcul pour LOSS du Mean Squared Error\n",
    "print(\"\\n LOSS\", mse_loss(y_reel, y_pred))\n",
    "\n",
    "######################################################################\n",
    "#### Essai pour obtenir une belle matrice de confusion \n",
    "#cm_fig = interp.plot_confusion_matrix(return_fig=True)\n",
    "#ax = cm_fig.gca()\n",
    "#ax.set_ylim(interp.data.c - .5, - .5)\n",
    "######################################################################\n",
    "\n",
    "_ = skplt.metrics.plot_confusion_matrix(y_reel, y_pred, figsize=(4,4), normalize=True)\n",
    "plt.tight_layout()\n",
    "plt.show()\n",
    "_ = skplt.metrics.plot_confusion_matrix(y_reel, y_pred, figsize=(5,5))\n",
    "plt.show()\n",
    "\n",
    "confusion_matrix(dy1['0_true'], dy1['0_pred2'])\n",
    "sns.heatmap(df_confusion, annot=True)\n",
    "plt.tight_layout()\n",
    "plt.show()\n",
    "\n"
   ]
  },
  {
   "cell_type": "code",
   "execution_count": null,
   "metadata": {
    "slideshow": {
     "slide_type": "skip"
    }
   },
   "outputs": [],
   "source": []
  },
  {
   "cell_type": "markdown",
   "metadata": {
    "ExecuteTime": {
     "end_time": "2020-03-08T23:04:52.113364Z",
     "start_time": "2020-03-08T23:04:52.073265Z"
    },
    "slideshow": {
     "slide_type": "skip"
    }
   },
   "source": [
    "y_true2 = [x for x in test_labels if x != 0]\n",
    "y_pred2 = model0.predict(test_data)\n",
    "print(len(y_true2), len(y_pred2))\n",
    "print(mse_loss(y_true2, y_pred2))\n",
    "\n",
    "egaux = [(a,b) for a in np.ndarray.tolist(y_true2) for b in np.ndarray.tolist(y_pred2) if a == b]\n",
    "differents = [(a,b) for a in np.ndarray.tolist(y_true2) for b in np.ndarray.tolist(y_pred2) if a == b]\n",
    "print(len(y_true2), len(egaux), len(differents))\n",
    "\n",
    "from scipy import stats\n",
    "stats.describe(y_true2)"
   ]
  },
  {
   "cell_type": "code",
   "execution_count": null,
   "metadata": {
    "slideshow": {
     "slide_type": "skip"
    }
   },
   "outputs": [],
   "source": []
  },
  {
   "cell_type": "markdown",
   "metadata": {
    "slideshow": {
     "slide_type": "skip"
    }
   },
   "source": [
    "# KERAS :  images bi-dimensionelles"
   ]
  },
  {
   "cell_type": "markdown",
   "metadata": {
    "slideshow": {
     "slide_type": "skip"
    }
   },
   "source": [
    "### test séparation "
   ]
  },
  {
   "cell_type": "raw",
   "metadata": {
    "ExecuteTime": {
     "end_time": "2020-03-04T09:58:42.234733Z",
     "start_time": "2020-03-04T09:58:42.226727Z"
    },
    "slideshow": {
     "slide_type": "skip"
    }
   },
   "source": [
    "import torch\n",
    "from torch.utils.data import Dataset\n",
    "\n",
    "class MyDataset(Dataset):\n",
    "    \n",
    "    def __init__(self, x, y):\n",
    "        self.x = x\n",
    "        self.y = y\n",
    "    \n",
    "    def __getitem__(self, index):\n",
    "        sample = {\n",
    "            'feature': torch.tensor([self.x[index]], dtype=torch.float32), \n",
    "            'label': torch.tensor([self.y[index]], dtype=torch.long)}\n",
    "        return sample\n",
    "    \n",
    "    def __len__(self):\n",
    "        return len(self.x)"
   ]
  },
  {
   "cell_type": "raw",
   "metadata": {
    "ExecuteTime": {
     "end_time": "2020-03-03T16:30:08.035402Z",
     "start_time": "2020-03-03T16:30:07.964357Z"
    },
    "slideshow": {
     "slide_type": "skip"
    }
   },
   "source": [
    "dataset = MyDataset(data , data_y)\n",
    "sample = len(dataset)\n",
    "print('length: ', sample)\n",
    "pour = 75\n",
    "X1 = int(pour/100 * sample)\n",
    "X2 = sample - X1\n",
    "for i in range(len(dataset)):\n",
    "    #pp.pprint(dataset[i])\n",
    "    pass\n",
    "\n",
    "from torch.utils.data import random_split\n",
    "train, test = random_split(dataset, [X1, X2])\n",
    "\n",
    "x_train = np.empty((2, len(train)))\n",
    "y_train = np.empty((len(train)))\n",
    "for i in range(len(train)):\n",
    "    #pp.pprint(train[i])\n",
    "    x_train[:,i] = train[i]['feature'].numpy().reshape(2)\n",
    "    y_train[i] = train[i]['label'][0].numpy()\n",
    "\n",
    "print('test length: ', len(test))    \n",
    "x_test = np.empty((2, len(test)))\n",
    "y_test = np.empty((len(test)))\n",
    "for i in range(len(test)):\n",
    "    #pp.pprint(test[i])\n",
    "    x_test[:,i] = test[i]['feature'].numpy().reshape(2)\n",
    "    y_test[i] = test[i]['label'][0].numpy()\n",
    "    \n",
    "plt.scatter(x_train[0,:], x_train[1,:], c=y_train, cmap=cm.bwr, alpha=0.4)\n",
    "plt.scatter(x_test[0,:], x_test[1,:], c=y_test, cmap=cm.PiYG, alpha=0.4)\n",
    "plt.xlabel('$x_1$')\n",
    "plt.ylabel('$x_2$')\n",
    "plt.xlim(-3,10)\n",
    "plt.ylim(-3,10)"
   ]
  },
  {
   "cell_type": "markdown",
   "metadata": {
    "slideshow": {
     "slide_type": "skip"
    }
   },
   "source": [
    "### tests"
   ]
  },
  {
   "cell_type": "raw",
   "metadata": {
    "ExecuteTime": {
     "end_time": "2020-03-03T13:19:31.879677Z",
     "start_time": "2020-03-03T13:14:22.169214Z"
    },
    "slideshow": {
     "slide_type": "skip"
    }
   },
   "source": [
    "# TROP gourmant en ressources et trop lent \n",
    "\n",
    "print(data.shape)\n",
    "df = pd.DataFrame(tf.reshape(data, [data.shape[0],data.shape[1]*data.shape[2]]))\n",
    "#df = pd.DataFrame(tf.reshape(data, [552,200]))\n",
    "print(df.shape)\n",
    "# sns.pairplot(df)\n",
    "# sns.heatmap(df.coor(), annot=True)\n",
    "df.head()\n",
    "data[118:120,:2,0:]"
   ]
  },
  {
   "cell_type": "code",
   "execution_count": null,
   "metadata": {
    "slideshow": {
     "slide_type": "skip"
    }
   },
   "outputs": [],
   "source": []
  },
  {
   "cell_type": "markdown",
   "metadata": {
    "slideshow": {
     "slide_type": "skip"
    }
   },
   "source": [
    "## Lecture des 3 fichiers de données"
   ]
  },
  {
   "cell_type": "code",
   "execution_count": 81,
   "metadata": {
    "ExecuteTime": {
     "end_time": "2020-03-11T09:33:55.465159Z",
     "start_time": "2020-03-11T09:33:54.653722Z"
    },
    "slideshow": {
     "slide_type": "skip"
    }
   },
   "outputs": [
    {
     "name": "stdout",
     "output_type": "stream",
     "text": [
      "(39592, 10, 10)\n",
      "(39592, 10, 10, 1)\n",
      "(39592, 10, 10, 2) 39592\n",
      "\n",
      " Fichiers utilisés:\n",
      " /Users/pierreleisy/Data_Science/NOTEBOOK/STAGE/data_LAS_nom_NUM_29384_30.npy \n",
      " /Users/pierreleisy/Data_Science/NOTEBOOK/STAGE/data_LAS_nom_ECA_29384_30.npy \n",
      " /Users/pierreleisy/Data_Science/NOTEBOOK/STAGE/data_LAS_nom_POS_29384_30.npy\n",
      "Classification utiliseé:\n",
      " /Users/pierreleisy/Data_Science/NOTEBOOK/STAGE/data_LAS_nom_POS_29384_30.npy \n",
      "\n",
      "(39592, 10, 10, 2) (39592, 100)\n"
     ]
    }
   ],
   "source": [
    "fichier1  = DATA_DIR3 + \"data_LAS_nom_NUM_\" + str(off) + \"_\" + str(mult) + \".npy\"\n",
    "data1     = np.load(fichier1)\n",
    "fichier2  = DATA_DIR3 + \"data_LAS_nom_ECA_\" + str(off) + \"_\" + str(mult) + \".npy\"\n",
    "data2     = np.load(fichier2)\n",
    "fichierY = DATA_DIR3 + \"data_LAS_nom_POS_\" + str(off) + \"_\" + str(mult) + \".npy\"\n",
    "data3    = np.load(fichierY)\n",
    "#print(type(data1), type(data2))\n",
    "print(data1.shape)\n",
    "if (data1.shape[0] - data2.shape[0] != 0):\n",
    "    print(data1.shape, data2.shape, data3.shape)\n",
    "\n",
    "# concatenation de NUM et POS\n",
    "data14 = tf.expand_dims(data1, 3)\n",
    "data24 = tf.expand_dims(data2, 3)\n",
    "data34 = tf.expand_dims(data1, 3)\n",
    "print(data14.shape) #, data24.shape, data34.shape)\n",
    "\n",
    "data_x = tf.concat([data14, data24], 3)\n",
    "#data_x = tf.concat([data14, data24, data34], 3)\n",
    "#data_x = data1\n",
    "taille = data_x.shape[0]\n",
    "print(data_x.shape, taille)\n",
    "data_y   = np.load(fichierY).reshape(taille,100)\n",
    "Nomb_Input = data_x.shape\n",
    "\n",
    "print(\"\\n Fichiers utilisés:\\n\", fichier1, \"\\n\", fichier2, \"\\n\", fichierY)\n",
    "print(\"Classification utiliseé:\\n\", fichierY, \"\\n\")\n",
    "print(data_x.shape, data_y.shape)"
   ]
  },
  {
   "cell_type": "code",
   "execution_count": 82,
   "metadata": {
    "ExecuteTime": {
     "end_time": "2020-03-11T09:34:15.153166Z",
     "start_time": "2020-03-11T09:34:14.855022Z"
    },
    "slideshow": {
     "slide_type": "skip"
    }
   },
   "outputs": [
    {
     "name": "stdout",
     "output_type": "stream",
     "text": [
      "(39592, 102) 10620.0\n",
      "39592 29062 10440 90\n",
      "39592 29062 10530 0\n"
     ]
    }
   ],
   "source": [
    "# somme sur toutes les rangées ou colonnes   \n",
    "# présence de valeurs SUPERIEURES A 1 (3 valeurs à 2 ! pourquoi ?????)\n",
    "df_Y = pd.DataFrame(data_y)\n",
    "df_Y['lamp'] = df_Y.sum(axis=1)\n",
    "df_Y['lamp2'] = df_Y[:-1].sum(axis=0)\n",
    "print(df_Y.shape, df_Y['lamp'].sum())\n",
    "print(df_Y.shape[0], len(df_Y[df_Y['lamp'] == 0]), df_Y[df_Y['lamp'] == 1].shape[0], df_Y[df_Y['lamp'] > 1].shape[0])\n",
    "#  Ecrase les valeurs de 2  ... pour avoir des 0 ou des 1\n",
    "df_Y.loc[df_Y['lamp'] > 1] = 1\n",
    "print(df_Y.shape[0], len(df_Y[df_Y['lamp'] == 0]), df_Y[df_Y['lamp'] == 1].shape[0], df_Y[df_Y['lamp'] > 1].shape[0])\n",
    "#df_Y[df_Y['lamp'] == 2]"
   ]
  },
  {
   "cell_type": "code",
   "execution_count": 83,
   "metadata": {
    "ExecuteTime": {
     "end_time": "2020-03-11T09:34:34.327854Z",
     "start_time": "2020-03-11T09:34:34.225258Z"
    },
    "slideshow": {
     "slide_type": "skip"
    }
   },
   "outputs": [
    {
     "name": "stdout",
     "output_type": "stream",
     "text": [
      "(39592, 112) (40000, 9) (39592, 102)\n"
     ]
    },
    {
     "data": {
      "text/plain": [
       "count    39592.000000\n",
       "mean        -0.257022\n",
       "std          0.450655\n",
       "min         -1.000000\n",
       "25%         -1.000000\n",
       "50%          0.000000\n",
       "75%          0.000000\n",
       "max          1.000000\n",
       "Name: diff, dtype: float64"
      ]
     },
     "execution_count": 83,
     "metadata": {},
     "output_type": "execute_result"
    }
   ],
   "source": [
    "# lampes0 autre DataFrame avec les indice de présence des lampadaires ... CORRECTS ? ... pas cohérent\n",
    "df_tot = df_Y.merge(lampes0, left_index=True, right_index=True)\n",
    "df_tot['diff'] = df_tot['present'] - df_tot['lamp']\n",
    "print(df_tot.shape, lampes0.shape,df_Y.shape )\n",
    "\n",
    "test = False\n",
    "#test = True\n",
    "if test:\n",
    "    print(df_tot[df_tot['diff'] == 2].count(axis=0))\n",
    "    print(df_tot[df_tot['diff'] == 1].count(axis=0))\n",
    "    print(df_tot[df_tot['diff'] == 0].count(axis=0))\n",
    "    print(df_tot[df_tot['diff'] == -1].count(axis=0))\n",
    "    print(df_tot[df_tot['diff'] == -2].count(axis=0))\n",
    "df_tot['diff'].describe()\n"
   ]
  },
  {
   "cell_type": "code",
   "execution_count": 84,
   "metadata": {
    "ExecuteTime": {
     "end_time": "2020-03-11T09:34:56.912876Z",
     "start_time": "2020-03-11T09:34:56.726812Z"
    },
    "slideshow": {
     "slide_type": "skip"
    }
   },
   "outputs": [
    {
     "data": {
      "text/html": [
       "<div>\n",
       "<style scoped>\n",
       "    .dataframe tbody tr th:only-of-type {\n",
       "        vertical-align: middle;\n",
       "    }\n",
       "\n",
       "    .dataframe tbody tr th {\n",
       "        vertical-align: top;\n",
       "    }\n",
       "\n",
       "    .dataframe thead th {\n",
       "        text-align: right;\n",
       "    }\n",
       "</style>\n",
       "<table border=\"1\" class=\"dataframe\">\n",
       "  <thead>\n",
       "    <tr style=\"text-align: right;\">\n",
       "      <th></th>\n",
       "      <th>0</th>\n",
       "      <th>1</th>\n",
       "      <th>2</th>\n",
       "      <th>3</th>\n",
       "      <th>4</th>\n",
       "      <th>5</th>\n",
       "      <th>6</th>\n",
       "      <th>7</th>\n",
       "      <th>8</th>\n",
       "      <th>9</th>\n",
       "      <th>...</th>\n",
       "      <th>present</th>\n",
       "      <th>NumI</th>\n",
       "      <th>NumY</th>\n",
       "      <th>NumX</th>\n",
       "      <th>X</th>\n",
       "      <th>Y</th>\n",
       "      <th>nom_NUM</th>\n",
       "      <th>nom_ECA</th>\n",
       "      <th>nom_POS</th>\n",
       "      <th>diff</th>\n",
       "    </tr>\n",
       "  </thead>\n",
       "  <tbody>\n",
       "    <tr>\n",
       "      <th>29032</th>\n",
       "      <td>0.0</td>\n",
       "      <td>0.0</td>\n",
       "      <td>0.0</td>\n",
       "      <td>0.0</td>\n",
       "      <td>0.0</td>\n",
       "      <td>0.0</td>\n",
       "      <td>0.0</td>\n",
       "      <td>0.0</td>\n",
       "      <td>0.0</td>\n",
       "      <td>0.0</td>\n",
       "      <td>...</td>\n",
       "      <td>0</td>\n",
       "      <td>29032</td>\n",
       "      <td>32</td>\n",
       "      <td>145</td>\n",
       "      <td>2043225</td>\n",
       "      <td>7272160</td>\n",
       "      <td>2043225_7272160_NumPoints5m.tif</td>\n",
       "      <td>2043225_7272160_EcartZ5m.tif</td>\n",
       "      <td>2043225_7272160_Position5m.tif</td>\n",
       "      <td>-1.0</td>\n",
       "    </tr>\n",
       "    <tr>\n",
       "      <th>29033</th>\n",
       "      <td>0.0</td>\n",
       "      <td>0.0</td>\n",
       "      <td>0.0</td>\n",
       "      <td>0.0</td>\n",
       "      <td>0.0</td>\n",
       "      <td>0.0</td>\n",
       "      <td>0.0</td>\n",
       "      <td>0.0</td>\n",
       "      <td>0.0</td>\n",
       "      <td>0.0</td>\n",
       "      <td>...</td>\n",
       "      <td>0</td>\n",
       "      <td>29033</td>\n",
       "      <td>33</td>\n",
       "      <td>145</td>\n",
       "      <td>2043225</td>\n",
       "      <td>7272165</td>\n",
       "      <td>2043225_7272165_NumPoints5m.tif</td>\n",
       "      <td>2043225_7272165_EcartZ5m.tif</td>\n",
       "      <td>2043225_7272165_Position5m.tif</td>\n",
       "      <td>-1.0</td>\n",
       "    </tr>\n",
       "    <tr>\n",
       "      <th>29034</th>\n",
       "      <td>0.0</td>\n",
       "      <td>0.0</td>\n",
       "      <td>0.0</td>\n",
       "      <td>0.0</td>\n",
       "      <td>0.0</td>\n",
       "      <td>0.0</td>\n",
       "      <td>0.0</td>\n",
       "      <td>0.0</td>\n",
       "      <td>0.0</td>\n",
       "      <td>0.0</td>\n",
       "      <td>...</td>\n",
       "      <td>0</td>\n",
       "      <td>29034</td>\n",
       "      <td>34</td>\n",
       "      <td>145</td>\n",
       "      <td>2043225</td>\n",
       "      <td>7272170</td>\n",
       "      <td>2043225_7272170_NumPoints5m.tif</td>\n",
       "      <td>2043225_7272170_EcartZ5m.tif</td>\n",
       "      <td>2043225_7272170_Position5m.tif</td>\n",
       "      <td>-1.0</td>\n",
       "    </tr>\n",
       "    <tr>\n",
       "      <th>29035</th>\n",
       "      <td>0.0</td>\n",
       "      <td>0.0</td>\n",
       "      <td>0.0</td>\n",
       "      <td>0.0</td>\n",
       "      <td>0.0</td>\n",
       "      <td>0.0</td>\n",
       "      <td>0.0</td>\n",
       "      <td>0.0</td>\n",
       "      <td>0.0</td>\n",
       "      <td>0.0</td>\n",
       "      <td>...</td>\n",
       "      <td>0</td>\n",
       "      <td>29035</td>\n",
       "      <td>35</td>\n",
       "      <td>145</td>\n",
       "      <td>2043225</td>\n",
       "      <td>7272175</td>\n",
       "      <td>2043225_7272175_NumPoints5m.tif</td>\n",
       "      <td>2043225_7272175_EcartZ5m.tif</td>\n",
       "      <td>2043225_7272175_Position5m.tif</td>\n",
       "      <td>-1.0</td>\n",
       "    </tr>\n",
       "    <tr>\n",
       "      <th>29036</th>\n",
       "      <td>0.0</td>\n",
       "      <td>0.0</td>\n",
       "      <td>0.0</td>\n",
       "      <td>0.0</td>\n",
       "      <td>0.0</td>\n",
       "      <td>0.0</td>\n",
       "      <td>0.0</td>\n",
       "      <td>0.0</td>\n",
       "      <td>0.0</td>\n",
       "      <td>0.0</td>\n",
       "      <td>...</td>\n",
       "      <td>0</td>\n",
       "      <td>29036</td>\n",
       "      <td>36</td>\n",
       "      <td>145</td>\n",
       "      <td>2043225</td>\n",
       "      <td>7272180</td>\n",
       "      <td>2043225_7272180_NumPoints5m.tif</td>\n",
       "      <td>2043225_7272180_EcartZ5m.tif</td>\n",
       "      <td>2043225_7272180_Position5m.tif</td>\n",
       "      <td>-1.0</td>\n",
       "    </tr>\n",
       "    <tr>\n",
       "      <th>...</th>\n",
       "      <td>...</td>\n",
       "      <td>...</td>\n",
       "      <td>...</td>\n",
       "      <td>...</td>\n",
       "      <td>...</td>\n",
       "      <td>...</td>\n",
       "      <td>...</td>\n",
       "      <td>...</td>\n",
       "      <td>...</td>\n",
       "      <td>...</td>\n",
       "      <td>...</td>\n",
       "      <td>...</td>\n",
       "      <td>...</td>\n",
       "      <td>...</td>\n",
       "      <td>...</td>\n",
       "      <td>...</td>\n",
       "      <td>...</td>\n",
       "      <td>...</td>\n",
       "      <td>...</td>\n",
       "      <td>...</td>\n",
       "      <td>...</td>\n",
       "    </tr>\n",
       "    <tr>\n",
       "      <th>39587</th>\n",
       "      <td>0.0</td>\n",
       "      <td>0.0</td>\n",
       "      <td>0.0</td>\n",
       "      <td>0.0</td>\n",
       "      <td>0.0</td>\n",
       "      <td>0.0</td>\n",
       "      <td>0.0</td>\n",
       "      <td>0.0</td>\n",
       "      <td>0.0</td>\n",
       "      <td>0.0</td>\n",
       "      <td>...</td>\n",
       "      <td>0</td>\n",
       "      <td>39587</td>\n",
       "      <td>187</td>\n",
       "      <td>197</td>\n",
       "      <td>2043485</td>\n",
       "      <td>7272935</td>\n",
       "      <td>2043485_7272935_NumPoints5m.tif</td>\n",
       "      <td>2043485_7272935_EcartZ5m.tif</td>\n",
       "      <td>2043485_7272935_Position5m.tif</td>\n",
       "      <td>-1.0</td>\n",
       "    </tr>\n",
       "    <tr>\n",
       "      <th>39588</th>\n",
       "      <td>0.0</td>\n",
       "      <td>0.0</td>\n",
       "      <td>0.0</td>\n",
       "      <td>0.0</td>\n",
       "      <td>0.0</td>\n",
       "      <td>0.0</td>\n",
       "      <td>0.0</td>\n",
       "      <td>0.0</td>\n",
       "      <td>0.0</td>\n",
       "      <td>0.0</td>\n",
       "      <td>...</td>\n",
       "      <td>0</td>\n",
       "      <td>39588</td>\n",
       "      <td>188</td>\n",
       "      <td>197</td>\n",
       "      <td>2043485</td>\n",
       "      <td>7272940</td>\n",
       "      <td>2043485_7272940_NumPoints5m.tif</td>\n",
       "      <td>2043485_7272940_EcartZ5m.tif</td>\n",
       "      <td>2043485_7272940_Position5m.tif</td>\n",
       "      <td>-1.0</td>\n",
       "    </tr>\n",
       "    <tr>\n",
       "      <th>39589</th>\n",
       "      <td>0.0</td>\n",
       "      <td>0.0</td>\n",
       "      <td>0.0</td>\n",
       "      <td>0.0</td>\n",
       "      <td>0.0</td>\n",
       "      <td>0.0</td>\n",
       "      <td>0.0</td>\n",
       "      <td>0.0</td>\n",
       "      <td>0.0</td>\n",
       "      <td>0.0</td>\n",
       "      <td>...</td>\n",
       "      <td>0</td>\n",
       "      <td>39589</td>\n",
       "      <td>189</td>\n",
       "      <td>197</td>\n",
       "      <td>2043485</td>\n",
       "      <td>7272945</td>\n",
       "      <td>2043485_7272945_NumPoints5m.tif</td>\n",
       "      <td>2043485_7272945_EcartZ5m.tif</td>\n",
       "      <td>2043485_7272945_Position5m.tif</td>\n",
       "      <td>-1.0</td>\n",
       "    </tr>\n",
       "    <tr>\n",
       "      <th>39590</th>\n",
       "      <td>0.0</td>\n",
       "      <td>0.0</td>\n",
       "      <td>0.0</td>\n",
       "      <td>0.0</td>\n",
       "      <td>0.0</td>\n",
       "      <td>0.0</td>\n",
       "      <td>0.0</td>\n",
       "      <td>0.0</td>\n",
       "      <td>0.0</td>\n",
       "      <td>0.0</td>\n",
       "      <td>...</td>\n",
       "      <td>0</td>\n",
       "      <td>39590</td>\n",
       "      <td>190</td>\n",
       "      <td>197</td>\n",
       "      <td>2043485</td>\n",
       "      <td>7272950</td>\n",
       "      <td>2043485_7272950_NumPoints5m.tif</td>\n",
       "      <td>2043485_7272950_EcartZ5m.tif</td>\n",
       "      <td>2043485_7272950_Position5m.tif</td>\n",
       "      <td>-1.0</td>\n",
       "    </tr>\n",
       "    <tr>\n",
       "      <th>39591</th>\n",
       "      <td>0.0</td>\n",
       "      <td>0.0</td>\n",
       "      <td>0.0</td>\n",
       "      <td>0.0</td>\n",
       "      <td>0.0</td>\n",
       "      <td>0.0</td>\n",
       "      <td>0.0</td>\n",
       "      <td>0.0</td>\n",
       "      <td>0.0</td>\n",
       "      <td>0.0</td>\n",
       "      <td>...</td>\n",
       "      <td>0</td>\n",
       "      <td>39591</td>\n",
       "      <td>191</td>\n",
       "      <td>197</td>\n",
       "      <td>2043485</td>\n",
       "      <td>7272955</td>\n",
       "      <td>2043485_7272955_NumPoints5m.tif</td>\n",
       "      <td>2043485_7272955_EcartZ5m.tif</td>\n",
       "      <td>2043485_7272955_Position5m.tif</td>\n",
       "      <td>-1.0</td>\n",
       "    </tr>\n",
       "  </tbody>\n",
       "</table>\n",
       "<p>10416 rows × 112 columns</p>\n",
       "</div>"
      ],
      "text/plain": [
       "         0    1    2    3    4    5    6    7    8    9  ...  present   NumI  \\\n",
       "29032  0.0  0.0  0.0  0.0  0.0  0.0  0.0  0.0  0.0  0.0  ...        0  29032   \n",
       "29033  0.0  0.0  0.0  0.0  0.0  0.0  0.0  0.0  0.0  0.0  ...        0  29033   \n",
       "29034  0.0  0.0  0.0  0.0  0.0  0.0  0.0  0.0  0.0  0.0  ...        0  29034   \n",
       "29035  0.0  0.0  0.0  0.0  0.0  0.0  0.0  0.0  0.0  0.0  ...        0  29035   \n",
       "29036  0.0  0.0  0.0  0.0  0.0  0.0  0.0  0.0  0.0  0.0  ...        0  29036   \n",
       "...    ...  ...  ...  ...  ...  ...  ...  ...  ...  ...  ...      ...    ...   \n",
       "39587  0.0  0.0  0.0  0.0  0.0  0.0  0.0  0.0  0.0  0.0  ...        0  39587   \n",
       "39588  0.0  0.0  0.0  0.0  0.0  0.0  0.0  0.0  0.0  0.0  ...        0  39588   \n",
       "39589  0.0  0.0  0.0  0.0  0.0  0.0  0.0  0.0  0.0  0.0  ...        0  39589   \n",
       "39590  0.0  0.0  0.0  0.0  0.0  0.0  0.0  0.0  0.0  0.0  ...        0  39590   \n",
       "39591  0.0  0.0  0.0  0.0  0.0  0.0  0.0  0.0  0.0  0.0  ...        0  39591   \n",
       "\n",
       "       NumY  NumX        X        Y                          nom_NUM  \\\n",
       "29032    32   145  2043225  7272160  2043225_7272160_NumPoints5m.tif   \n",
       "29033    33   145  2043225  7272165  2043225_7272165_NumPoints5m.tif   \n",
       "29034    34   145  2043225  7272170  2043225_7272170_NumPoints5m.tif   \n",
       "29035    35   145  2043225  7272175  2043225_7272175_NumPoints5m.tif   \n",
       "29036    36   145  2043225  7272180  2043225_7272180_NumPoints5m.tif   \n",
       "...     ...   ...      ...      ...                              ...   \n",
       "39587   187   197  2043485  7272935  2043485_7272935_NumPoints5m.tif   \n",
       "39588   188   197  2043485  7272940  2043485_7272940_NumPoints5m.tif   \n",
       "39589   189   197  2043485  7272945  2043485_7272945_NumPoints5m.tif   \n",
       "39590   190   197  2043485  7272950  2043485_7272950_NumPoints5m.tif   \n",
       "39591   191   197  2043485  7272955  2043485_7272955_NumPoints5m.tif   \n",
       "\n",
       "                            nom_ECA                         nom_POS  diff  \n",
       "29032  2043225_7272160_EcartZ5m.tif  2043225_7272160_Position5m.tif  -1.0  \n",
       "29033  2043225_7272165_EcartZ5m.tif  2043225_7272165_Position5m.tif  -1.0  \n",
       "29034  2043225_7272170_EcartZ5m.tif  2043225_7272170_Position5m.tif  -1.0  \n",
       "29035  2043225_7272175_EcartZ5m.tif  2043225_7272175_Position5m.tif  -1.0  \n",
       "29036  2043225_7272180_EcartZ5m.tif  2043225_7272180_Position5m.tif  -1.0  \n",
       "...                             ...                             ...   ...  \n",
       "39587  2043485_7272935_EcartZ5m.tif  2043485_7272935_Position5m.tif  -1.0  \n",
       "39588  2043485_7272940_EcartZ5m.tif  2043485_7272940_Position5m.tif  -1.0  \n",
       "39589  2043485_7272945_EcartZ5m.tif  2043485_7272945_Position5m.tif  -1.0  \n",
       "39590  2043485_7272950_EcartZ5m.tif  2043485_7272950_Position5m.tif  -1.0  \n",
       "39591  2043485_7272955_EcartZ5m.tif  2043485_7272955_Position5m.tif  -1.0  \n",
       "\n",
       "[10416 rows x 112 columns]"
      ]
     },
     "execution_count": 84,
     "metadata": {},
     "output_type": "execute_result"
    }
   ],
   "source": [
    "df_tot[df_tot['diff'] == -1]"
   ]
  },
  {
   "cell_type": "code",
   "execution_count": null,
   "metadata": {
    "slideshow": {
     "slide_type": "skip"
    }
   },
   "outputs": [],
   "source": []
  },
  {
   "cell_type": "code",
   "execution_count": 85,
   "metadata": {
    "ExecuteTime": {
     "end_time": "2020-03-11T09:35:16.944925Z",
     "start_time": "2020-03-11T09:35:16.523133Z"
    },
    "slideshow": {
     "slide_type": "skip"
    }
   },
   "outputs": [
    {
     "data": {
      "text/html": [
       "<div>\n",
       "<style scoped>\n",
       "    .dataframe tbody tr th:only-of-type {\n",
       "        vertical-align: middle;\n",
       "    }\n",
       "\n",
       "    .dataframe tbody tr th {\n",
       "        vertical-align: top;\n",
       "    }\n",
       "\n",
       "    .dataframe thead th {\n",
       "        text-align: right;\n",
       "    }\n",
       "</style>\n",
       "<table border=\"1\" class=\"dataframe\">\n",
       "  <thead>\n",
       "    <tr style=\"text-align: right;\">\n",
       "      <th></th>\n",
       "      <th>0</th>\n",
       "      <th>1</th>\n",
       "      <th>2</th>\n",
       "      <th>3</th>\n",
       "      <th>4</th>\n",
       "      <th>5</th>\n",
       "      <th>6</th>\n",
       "      <th>7</th>\n",
       "      <th>8</th>\n",
       "      <th>9</th>\n",
       "      <th>...</th>\n",
       "      <th>92</th>\n",
       "      <th>93</th>\n",
       "      <th>94</th>\n",
       "      <th>95</th>\n",
       "      <th>96</th>\n",
       "      <th>97</th>\n",
       "      <th>98</th>\n",
       "      <th>99</th>\n",
       "      <th>lamp</th>\n",
       "      <th>lamp2</th>\n",
       "    </tr>\n",
       "  </thead>\n",
       "  <tbody>\n",
       "    <tr>\n",
       "      <th>count</th>\n",
       "      <td>39592.000000</td>\n",
       "      <td>39592.000000</td>\n",
       "      <td>39592.00000</td>\n",
       "      <td>39592.000000</td>\n",
       "      <td>39592.000000</td>\n",
       "      <td>39592.000000</td>\n",
       "      <td>39592.000000</td>\n",
       "      <td>39592.000000</td>\n",
       "      <td>39592.00000</td>\n",
       "      <td>39592.00000</td>\n",
       "      <td>...</td>\n",
       "      <td>39592.000000</td>\n",
       "      <td>39592.000000</td>\n",
       "      <td>39592.00000</td>\n",
       "      <td>39592.000000</td>\n",
       "      <td>39592.00000</td>\n",
       "      <td>39592.000000</td>\n",
       "      <td>39592.00000</td>\n",
       "      <td>39592.000000</td>\n",
       "      <td>39592.000000</td>\n",
       "      <td>190.000000</td>\n",
       "    </tr>\n",
       "    <tr>\n",
       "      <th>mean</th>\n",
       "      <td>0.007577</td>\n",
       "      <td>0.004546</td>\n",
       "      <td>0.00682</td>\n",
       "      <td>0.004546</td>\n",
       "      <td>0.002273</td>\n",
       "      <td>0.003031</td>\n",
       "      <td>0.003789</td>\n",
       "      <td>0.006062</td>\n",
       "      <td>0.00682</td>\n",
       "      <td>0.00682</td>\n",
       "      <td>...</td>\n",
       "      <td>0.005304</td>\n",
       "      <td>0.005304</td>\n",
       "      <td>0.00682</td>\n",
       "      <td>0.003789</td>\n",
       "      <td>0.00682</td>\n",
       "      <td>0.004546</td>\n",
       "      <td>0.00682</td>\n",
       "      <td>0.003031</td>\n",
       "      <td>0.265963</td>\n",
       "      <td>56.363158</td>\n",
       "    </tr>\n",
       "    <tr>\n",
       "      <th>std</th>\n",
       "      <td>0.086718</td>\n",
       "      <td>0.067274</td>\n",
       "      <td>0.08230</td>\n",
       "      <td>0.067274</td>\n",
       "      <td>0.047624</td>\n",
       "      <td>0.054971</td>\n",
       "      <td>0.061436</td>\n",
       "      <td>0.077622</td>\n",
       "      <td>0.08230</td>\n",
       "      <td>0.08230</td>\n",
       "      <td>...</td>\n",
       "      <td>0.072637</td>\n",
       "      <td>0.072637</td>\n",
       "      <td>0.08230</td>\n",
       "      <td>0.061436</td>\n",
       "      <td>0.08230</td>\n",
       "      <td>0.067274</td>\n",
       "      <td>0.08230</td>\n",
       "      <td>0.054971</td>\n",
       "      <td>0.441850</td>\n",
       "      <td>67.088268</td>\n",
       "    </tr>\n",
       "    <tr>\n",
       "      <th>min</th>\n",
       "      <td>0.000000</td>\n",
       "      <td>0.000000</td>\n",
       "      <td>0.00000</td>\n",
       "      <td>0.000000</td>\n",
       "      <td>0.000000</td>\n",
       "      <td>0.000000</td>\n",
       "      <td>0.000000</td>\n",
       "      <td>0.000000</td>\n",
       "      <td>0.00000</td>\n",
       "      <td>0.00000</td>\n",
       "      <td>...</td>\n",
       "      <td>0.000000</td>\n",
       "      <td>0.000000</td>\n",
       "      <td>0.00000</td>\n",
       "      <td>0.000000</td>\n",
       "      <td>0.00000</td>\n",
       "      <td>0.000000</td>\n",
       "      <td>0.00000</td>\n",
       "      <td>0.000000</td>\n",
       "      <td>0.000000</td>\n",
       "      <td>0.000000</td>\n",
       "    </tr>\n",
       "    <tr>\n",
       "      <th>25%</th>\n",
       "      <td>0.000000</td>\n",
       "      <td>0.000000</td>\n",
       "      <td>0.00000</td>\n",
       "      <td>0.000000</td>\n",
       "      <td>0.000000</td>\n",
       "      <td>0.000000</td>\n",
       "      <td>0.000000</td>\n",
       "      <td>0.000000</td>\n",
       "      <td>0.00000</td>\n",
       "      <td>0.00000</td>\n",
       "      <td>...</td>\n",
       "      <td>0.000000</td>\n",
       "      <td>0.000000</td>\n",
       "      <td>0.00000</td>\n",
       "      <td>0.000000</td>\n",
       "      <td>0.00000</td>\n",
       "      <td>0.000000</td>\n",
       "      <td>0.00000</td>\n",
       "      <td>0.000000</td>\n",
       "      <td>0.000000</td>\n",
       "      <td>1.000000</td>\n",
       "    </tr>\n",
       "    <tr>\n",
       "      <th>50%</th>\n",
       "      <td>0.000000</td>\n",
       "      <td>0.000000</td>\n",
       "      <td>0.00000</td>\n",
       "      <td>0.000000</td>\n",
       "      <td>0.000000</td>\n",
       "      <td>0.000000</td>\n",
       "      <td>0.000000</td>\n",
       "      <td>0.000000</td>\n",
       "      <td>0.00000</td>\n",
       "      <td>0.00000</td>\n",
       "      <td>...</td>\n",
       "      <td>0.000000</td>\n",
       "      <td>0.000000</td>\n",
       "      <td>0.00000</td>\n",
       "      <td>0.000000</td>\n",
       "      <td>0.00000</td>\n",
       "      <td>0.000000</td>\n",
       "      <td>0.00000</td>\n",
       "      <td>0.000000</td>\n",
       "      <td>0.000000</td>\n",
       "      <td>30.000000</td>\n",
       "    </tr>\n",
       "    <tr>\n",
       "      <th>75%</th>\n",
       "      <td>0.000000</td>\n",
       "      <td>0.000000</td>\n",
       "      <td>0.00000</td>\n",
       "      <td>0.000000</td>\n",
       "      <td>0.000000</td>\n",
       "      <td>0.000000</td>\n",
       "      <td>0.000000</td>\n",
       "      <td>0.000000</td>\n",
       "      <td>0.00000</td>\n",
       "      <td>0.00000</td>\n",
       "      <td>...</td>\n",
       "      <td>0.000000</td>\n",
       "      <td>0.000000</td>\n",
       "      <td>0.00000</td>\n",
       "      <td>0.000000</td>\n",
       "      <td>0.00000</td>\n",
       "      <td>0.000000</td>\n",
       "      <td>0.00000</td>\n",
       "      <td>0.000000</td>\n",
       "      <td>1.000000</td>\n",
       "      <td>90.000000</td>\n",
       "    </tr>\n",
       "    <tr>\n",
       "      <th>max</th>\n",
       "      <td>1.000000</td>\n",
       "      <td>1.000000</td>\n",
       "      <td>1.00000</td>\n",
       "      <td>1.000000</td>\n",
       "      <td>1.000000</td>\n",
       "      <td>1.000000</td>\n",
       "      <td>1.000000</td>\n",
       "      <td>1.000000</td>\n",
       "      <td>1.00000</td>\n",
       "      <td>1.00000</td>\n",
       "      <td>...</td>\n",
       "      <td>1.000000</td>\n",
       "      <td>1.000000</td>\n",
       "      <td>1.00000</td>\n",
       "      <td>1.000000</td>\n",
       "      <td>1.00000</td>\n",
       "      <td>1.000000</td>\n",
       "      <td>1.00000</td>\n",
       "      <td>1.000000</td>\n",
       "      <td>1.000000</td>\n",
       "      <td>240.000000</td>\n",
       "    </tr>\n",
       "  </tbody>\n",
       "</table>\n",
       "<p>8 rows × 102 columns</p>\n",
       "</div>"
      ],
      "text/plain": [
       "                  0             1            2             3             4  \\\n",
       "count  39592.000000  39592.000000  39592.00000  39592.000000  39592.000000   \n",
       "mean       0.007577      0.004546      0.00682      0.004546      0.002273   \n",
       "std        0.086718      0.067274      0.08230      0.067274      0.047624   \n",
       "min        0.000000      0.000000      0.00000      0.000000      0.000000   \n",
       "25%        0.000000      0.000000      0.00000      0.000000      0.000000   \n",
       "50%        0.000000      0.000000      0.00000      0.000000      0.000000   \n",
       "75%        0.000000      0.000000      0.00000      0.000000      0.000000   \n",
       "max        1.000000      1.000000      1.00000      1.000000      1.000000   \n",
       "\n",
       "                  5             6             7            8            9  \\\n",
       "count  39592.000000  39592.000000  39592.000000  39592.00000  39592.00000   \n",
       "mean       0.003031      0.003789      0.006062      0.00682      0.00682   \n",
       "std        0.054971      0.061436      0.077622      0.08230      0.08230   \n",
       "min        0.000000      0.000000      0.000000      0.00000      0.00000   \n",
       "25%        0.000000      0.000000      0.000000      0.00000      0.00000   \n",
       "50%        0.000000      0.000000      0.000000      0.00000      0.00000   \n",
       "75%        0.000000      0.000000      0.000000      0.00000      0.00000   \n",
       "max        1.000000      1.000000      1.000000      1.00000      1.00000   \n",
       "\n",
       "       ...            92            93           94            95  \\\n",
       "count  ...  39592.000000  39592.000000  39592.00000  39592.000000   \n",
       "mean   ...      0.005304      0.005304      0.00682      0.003789   \n",
       "std    ...      0.072637      0.072637      0.08230      0.061436   \n",
       "min    ...      0.000000      0.000000      0.00000      0.000000   \n",
       "25%    ...      0.000000      0.000000      0.00000      0.000000   \n",
       "50%    ...      0.000000      0.000000      0.00000      0.000000   \n",
       "75%    ...      0.000000      0.000000      0.00000      0.000000   \n",
       "max    ...      1.000000      1.000000      1.00000      1.000000   \n",
       "\n",
       "                96            97           98            99          lamp  \\\n",
       "count  39592.00000  39592.000000  39592.00000  39592.000000  39592.000000   \n",
       "mean       0.00682      0.004546      0.00682      0.003031      0.265963   \n",
       "std        0.08230      0.067274      0.08230      0.054971      0.441850   \n",
       "min        0.00000      0.000000      0.00000      0.000000      0.000000   \n",
       "25%        0.00000      0.000000      0.00000      0.000000      0.000000   \n",
       "50%        0.00000      0.000000      0.00000      0.000000      0.000000   \n",
       "75%        0.00000      0.000000      0.00000      0.000000      1.000000   \n",
       "max        1.00000      1.000000      1.00000      1.000000      1.000000   \n",
       "\n",
       "            lamp2  \n",
       "count  190.000000  \n",
       "mean    56.363158  \n",
       "std     67.088268  \n",
       "min      0.000000  \n",
       "25%      1.000000  \n",
       "50%     30.000000  \n",
       "75%     90.000000  \n",
       "max    240.000000  \n",
       "\n",
       "[8 rows x 102 columns]"
      ]
     },
     "execution_count": 85,
     "metadata": {},
     "output_type": "execute_result"
    }
   ],
   "source": [
    "df_Y.describe()"
   ]
  },
  {
   "cell_type": "code",
   "execution_count": 86,
   "metadata": {
    "ExecuteTime": {
     "end_time": "2020-03-11T09:35:37.502118Z",
     "start_time": "2020-03-11T09:35:37.400176Z"
    },
    "slideshow": {
     "slide_type": "skip"
    }
   },
   "outputs": [
    {
     "name": "stdout",
     "output_type": "stream",
     "text": [
      "29062 10530\n",
      "(39592, 2) 29062 37486 23249 8424 (31673, 2) (7919, 2)\n"
     ]
    }
   ],
   "source": [
    "len0 = df_Y[df_Y['lamp'] == 0].shape[0]\n",
    "len1 = df_Y.shape[0] - len0\n",
    "print(len0, len1)\n",
    "\n",
    "df_test = pd.DataFrame(y_binary)\n",
    "\n",
    "test1 = df_test.loc[np.r_[:int(len0*0.8),len0:len0+int(len1*0.8)]]\n",
    "test2 = df_test.loc[np.r_[int(len0*0.8):len0,len0+int(len1*0.8):len0+len1]]\n",
    "                    \n",
    "print(df_test.shape, len0, len0+int(len1*0.8), int(len0*0.8), int(len1*0.8), test1.shape, test2.shape)"
   ]
  },
  {
   "cell_type": "code",
   "execution_count": 87,
   "metadata": {
    "ExecuteTime": {
     "end_time": "2020-03-11T09:35:58.543610Z",
     "start_time": "2020-03-11T09:35:58.422635Z"
    },
    "slideshow": {
     "slide_type": "skip"
    }
   },
   "outputs": [
    {
     "name": "stdout",
     "output_type": "stream",
     "text": [
      "(23249, 10, 10, 2) (8424, 10, 10, 2) (5813, 10, 10, 2) (2106, 10, 10, 2)\n",
      "(31673, 10, 10, 2) (7919, 10, 10, 2)\n"
     ]
    }
   ],
   "source": [
    "data_x0a = data_x[:int(len0*0.8)]\n",
    "data_x0b = data_x[len0:len0+int(len1*0.8)]\n",
    "data_x1a = data_x[int(len0*0.8):len0]\n",
    "data_x1b = data_x[len0+int(len1*0.8):]\n",
    "print(data_x0a.shape, data_x0b.shape,data_x1a.shape, data_x1b.shape)\n",
    "\n",
    "#data_x0 = np.concatenate(data_x0a, data_x0b, axis=1)\n",
    "data_x0 = tf.keras.backend.concatenate((data_x0a, data_x0b), axis=0)\n",
    "data_x1 = tf.keras.backend.concatenate((data_x1a, data_x1b), axis=0)\n",
    "print(data_x0.shape,data_x1.shape)"
   ]
  },
  {
   "cell_type": "code",
   "execution_count": null,
   "metadata": {
    "slideshow": {
     "slide_type": "skip"
    }
   },
   "outputs": [],
   "source": []
  },
  {
   "cell_type": "markdown",
   "metadata": {
    "slideshow": {
     "slide_type": "skip"
    }
   },
   "source": [
    "### Séparation Train - Test "
   ]
  },
  {
   "cell_type": "code",
   "execution_count": 88,
   "metadata": {
    "ExecuteTime": {
     "end_time": "2020-03-11T09:36:19.543289Z",
     "start_time": "2020-03-11T09:36:19.399640Z"
    },
    "slideshow": {
     "slide_type": "skip"
    }
   },
   "outputs": [
    {
     "name": "stdout",
     "output_type": "stream",
     "text": [
      "(31673, 2) (7919, 2)\n",
      "(23249, 10, 10, 2) (8424, 10, 10, 2) (5813, 10, 10, 2) (2106, 10, 10, 2)\n",
      "(31673, 10, 10, 2) (7919, 10, 10, 2)\n"
     ]
    }
   ],
   "source": [
    "\n",
    "#########   problemes d'arrondis   ????  #######\n",
    "#### pas le meme nombre de lignes pour les 2 manières différentes d'extraire les lignes  ????\n",
    "df_testY = pd.DataFrame(y_binary)\n",
    "y0 = df_testY.loc[np.r_[:int(len0*0.8),len0:len0+int(len1*0.8)],:]\n",
    "y1 = df_testY.loc[np.r_[int(len0*0.8):len0,len0+int(len1*0.8):len0+len1],:]\n",
    "print(y0.shape, y1.shape)\n",
    "\n",
    "data_x0a = data_x[:int(len0*0.8)]\n",
    "data_x0b = data_x[len0:len0+int(len1*0.8)]\n",
    "data_x1a = data_x[int(len0*0.8):len0]\n",
    "data_x1b = data_x[len0+int(len1*0.8):]\n",
    "print(data_x0a.shape, data_x0b.shape,data_x1a.shape, data_x1b.shape)\n",
    "\n",
    "#data_x0 = np.concatenate(data_x0a, data_x0b, axis=1)\n",
    "data_x0 = tf.keras.backend.concatenate((data_x0a, data_x0b), axis=0)\n",
    "data_x1 = tf.keras.backend.concatenate((data_x1a, data_x1b), axis=0)\n",
    "print(data_x0.shape,data_x1.shape)\n",
    "\n",
    "#X10, X11 = tf.split(X1, [:], 0)\n",
    "#Y10, Y11 = tf.split(y_binary, [[len0 * 0.8:len0,len0+len1*0.8:]], 0)\n",
    "\n",
    "#print(X10.shape, Y10.shape, X11.shape)"
   ]
  },
  {
   "cell_type": "code",
   "execution_count": 89,
   "metadata": {
    "ExecuteTime": {
     "end_time": "2020-03-11T09:36:40.138168Z",
     "start_time": "2020-03-11T09:36:40.055631Z"
    },
    "slideshow": {
     "slide_type": "slide"
    }
   },
   "outputs": [
    {
     "name": "stdout",
     "output_type": "stream",
     "text": [
      "Dimensions X: (39592, 10, 10, 2)\n",
      "Dimensions Y: (39592, 2) 39592\n",
      "Train et Test: (31673, 10, 10, 2) 31673 (7919, 10, 10, 2) 7919\n",
      "(31673, 10, 10, 2) 31673 (7919, 10, 10, 2) 7919\n",
      "(31673, 2) (31673, 2) (7919, 2)\n"
     ]
    }
   ],
   "source": [
    "from sklearn.model_selection import train_test_split \n",
    "from keras.utils import to_categorical\n",
    "\n",
    "# Charge et split les données\n",
    "###############   TODO      ###############\n",
    "####### fonctionne avec les 2 cubes/images \n",
    "X = data_x\n",
    "####### Si ne fonctionne pas avec les 2 cubes/images \n",
    "# X = data1\n",
    "print(\"Dimensions X:\", X.shape)\n",
    "##############################################\n",
    "#####   calcul de la position de la lampe dans le carré N\n",
    "###  Passage mode binaire à une liste de 100\n",
    "############\n",
    "# Manière 1 de \n",
    "y = liste_y\n",
    "# Manière 2 ... directe à partir des 3 mêmes fichiers 10x10\n",
    "y = df_Y['lamp']\n",
    "\n",
    "y_binary = to_categorical(y)\n",
    "print(\"Dimensions Y:\", y_binary.shape, len(y))\n",
    "#\n",
    "# y = data_y\n",
    "# print(y.shape)\n",
    "#############################\n",
    "\n",
    "# tfds   tensorflow dataset splitting\n",
    "# test_split, valid_split, train_split = tfds.Split.TRAIN.subsplit([10, 15, 75])\n",
    "# PYTORCH   torchtext.data.Dataset\n",
    "# split(split_ratio=0.7, stratified=False, strata_field='label', random_state=None\n",
    "\n",
    "methode = 'test3'\n",
    "#methode = 'SKLEARN'\n",
    "\n",
    "if methode == 'test':\n",
    "    all = tf.data.Dataset.from_tensor_slices(X).shuffle(10, reshuffle_each_iteration=False)\n",
    "    n_row = int(X.shape[0] * 0.8)\n",
    "    train_data, test_data     = X[:n_row,:,:,:], X[n_row:,:,:,:]\n",
    "    train_labels, test_labels = y_binary[:n_row,:], y_binary[n_row:,:]\n",
    "    \n",
    "if methode == 'test2':\n",
    "    len0 = df_Y[df_Y['lamp'] == 0].shape[0]\n",
    "    len1 = df_Y.shape[0] - len0\n",
    "    \n",
    "    train_data, test_data = tf.split(X, [n_row1, n_row2], 0)\n",
    "    train_labels, test_labels = tf.split(y_binary, [n_row1, n_row2], 0)\n",
    "    \n",
    "if methode == 'test3':\n",
    "    train_data, test_data     = (data_x0, data_x1)\n",
    "    train_labels, test_labels = (y0, y1)\n",
    "\n",
    "if methode == 'shuffle':\n",
    "    fraction = 20\n",
    "    #all = tf.data.Dataset.from_tensor_slices(list(range(1, 21))).shuffle(10, reshuffle_each_iteration=False)\n",
    "    #test_data = all.enumerate().filter(lambda x,y: x % int(100/fraction) == 0).map(lambda x,y: y)\n",
    "    \n",
    "# dim = len(keras.backend.int_shape(X))\n",
    "# if dim = 2:\n",
    "# Avec SKLEARN\n",
    "if methode == 'SKLEARN':\n",
    "    train_data, test_data, train_labels, test_labels = train_test_split(\n",
    "        X, y_binary, test_size=0.2, random_state=42, stratify=y_binary)\n",
    "#        X, y, test_size=0.2, random_state=42, stratify=y)\n",
    "\n",
    "#print(train_data.shape, train_labels.shape, test_data.shape, test_labels.shape)\n",
    "print(\"Train et Test:\", train_data.shape, len(train_labels), test_data.shape, len(test_labels))\n",
    "\n",
    "#train_data = np.expand_dims(train_data, axis=3)\n",
    "#test_data = np.expand_dims(test_data, axis=3)\n",
    "\n",
    "#### Ce n'est plus nécessaire si X est un Tenseur 4D\n",
    "#train_data = train_data.reshape(train_data.shape[0], 10, 10, 1)\n",
    "#test_data  = test_data.reshape(test_data.shape[0], 10, 10, 1)\n",
    "\n",
    "#print(train_data.shape, train_labels.shape, test_data.shape, test_labels.shape)\n",
    "print(train_data.shape, len(train_labels), test_data.shape, len(test_labels))\n",
    "print(y0.shape, y0[:].shape, y1.shape)"
   ]
  },
  {
   "cell_type": "markdown",
   "metadata": {
    "slideshow": {
     "slide_type": "skip"
    }
   },
   "source": [
    "## Modèles CNN 2D"
   ]
  },
  {
   "cell_type": "raw",
   "metadata": {
    "slideshow": {
     "slide_type": "skip"
    }
   },
   "source": [
    "keras.layers.Conv2D(\n",
    "    filters,               #  32\n",
    "    kernel_size,           # (3,3)\n",
    "    strides=(1, 1),        # nombre impair\n",
    "    padding='valid',       # or \"same\"\n",
    "    data_format=None, \n",
    "    dilation_rate=(1, 1),\n",
    "    activation=None,       # \"relu\"\n",
    "    activity_regularizer=None, kernel_regularizer=None , bias_regularizer=None\n",
    "    kernel_initializer='glorot_uniform', kernel_constraint=None,     #  ou 'he_normal'\n",
    "    use_bias=True, bias_initializer='zeros', bias_constraint=None)   "
   ]
  },
  {
   "cell_type": "raw",
   "metadata": {
    "ExecuteTime": {
     "end_time": "2020-03-02T14:53:59.729537Z",
     "start_time": "2020-03-02T14:52:55.448153Z"
    },
    "slideshow": {
     "slide_type": "skip"
    }
   },
   "source": [
    "# 0)Trains a simplet CONVNET on the MNIST dataset\n",
    "\n",
    "input_shape = (10, 10, 1)     #input_shape = (10, 10, 2)\n",
    "num_classes = 2\n",
    "epochs = 15\n",
    "batch_sise=len(test_labels)/10\n",
    "activ1  = \"relu\"\n",
    "activ2  = \"sigmoid\"\n",
    "activ2b = \"softmax\"\n",
    "\n",
    "from sklearn.utils import class_weight\n",
    "ratio = 401 / 70\n",
    "poids_class = {0: 1., 1: ratio}\n",
    "#poids_class = class_weight.compute_class_weight(np.unique(train_labels), train_labels, y=? [0,1])\n",
    "\n",
    "model2 = Sequential()\n",
    "model2.add(Conv2D(filters=32, kernel_size=(3, 3), padding=\"same\", strides=(1,1), \n",
    "                  activation=activ1, kernel_regularizer = \"l2\", input_shape=input_shape))\n",
    "model2.add(Conv2D(32, (3, 3), padding=\"same\", strides=(1,1), activation=activ1, kernel_regularizer = \"l2\"))\n",
    "# , kernel_regularizer = l2 (0.0005)\n",
    "\n",
    "#model2.add(MaxPooling2D(pool_size=(2, 2)))\n",
    "model2.add(Dropout(1/4))\n",
    "\n",
    "model2.add(Conv2D(64, (3, 3), padding=\"same\", strides=(1,1), activation=activ1, kernel_regularizer = \"l2\"))\n",
    "model2.add(Conv2D(64, (3, 3), padding=\"same\", strides=(1,1), activation=activ1, kernel_regularizer = \"l2\"))\n",
    "#model2.add(MaxPooling2D(pool_size=(2, 2)))\n",
    "model2.add(Dropout(1/4))\n",
    "\n",
    "model2.add(Flatten())\n",
    "model2.add(Dense(128, activation=activ1))\n",
    "model2.add(Dropout(0.5))\n",
    "model2.add(Dense(num_classes, activation=activ2))\n",
    "\n",
    "# optimizerA  sgd=SGD(lr=1e-5, decay=1e-6, momentum=0.9, nesterov=True)\n",
    "# optimizerB  adam=Adam(lr=1e-3, beta_1=0.9, beta_2=0.999, epsilon=1e-8, decay=0.0)\n",
    "#optim = keras.optimizers.Adadelta()\n",
    "optim = SGD(lr=1e-4, decay=1e-6, momentum=0.9, nesterov=True)\n",
    "# bianry or categorical\n",
    "\n",
    "model2.compile(loss=keras.losses.binary_crossentropy, optimizer=optim, metrics=['accuracy'])\n",
    "\n",
    "# poids_class, 'balanced', 'balanced_subsample'\n",
    "history2 = model2.fit(train_data, train_labels, batch_size=batch_size, epochs=epochs,\n",
    "            class_weight='balanced',\n",
    "            verbose=1, validation_data=(test_data, test_labels))\n",
    "\n",
    "score = model2.evaluate(test_data, test_labels, batch_size=batch_size, verbose=2)\n",
    "print('Test loss:', score[0])\n",
    "print('Test accuracy:', score[1])\n"
   ]
  },
  {
   "cell_type": "raw",
   "metadata": {
    "ExecuteTime": {
     "end_time": "2020-03-02T09:23:11.049089Z",
     "start_time": "2020-03-02T09:23:07.724793Z"
    },
    "slideshow": {
     "slide_type": "skip"
    }
   },
   "source": [
    "# 1) Trains a simplet CONVNET on the MNIST dataset\n",
    "\n",
    "input_shape = (10, 10, 1)     #input_shape = (10, 10, 2)\n",
    "\n",
    "epochs = 11\n",
    "batch_size = 64\n",
    "\n",
    "num_filters = 8\n",
    "filter_size = 3\n",
    "pool_size = 2\n",
    "\n",
    "num_classes = 2   #  1 ou 2\n",
    "\n",
    "model2 = Sequential([\n",
    "    Conv2D(num_filters, filter_size, padding=\"same\", strides=(1,1), input_shape=input_shape),\n",
    "    Conv2D(num_filters, filter_size, padding=\"same\", strides=(1,1)),\n",
    "    #Conv2D(num_filters, filter_size, padding=\"same\", strides=(1,1)),\n",
    "    #Conv2D(num_filters, filter_size),\n",
    "    #MaxPooling2D(pool_size=pool_size),\n",
    "    Flatten(),\n",
    "    Dense(num_classes, activation='softmax'),\n",
    "])\n",
    "\n",
    "#model2.compile(loss=keras.losses.categorical_crossentropy, optimizer=keras.optimizers.Adadelta(),\n",
    "#              metrics=['accuracy'])\n",
    "model2.compile(loss=keras.losses.binary_crossentropy, optimizer=keras.optimizers.Adadelta(),\n",
    "              metrics=['accuracy'])\n",
    "\n",
    "\n",
    "history2 = model2.fit(train_data, train_labels, batch_size=batch_size, epochs=epochs,\n",
    "          verbose=1, validation_data=(test_data, test_labels))\n",
    "\n",
    "score = model2.evaluate(test_data, test_labels, verbose=0)\n",
    "print('Test loss:', score[0])\n",
    "print('Test accuracy:', score[1])\n",
    "\n"
   ]
  },
  {
   "cell_type": "markdown",
   "metadata": {
    "slideshow": {
     "slide_type": "skip"
    }
   },
   "source": [
    "### tensorboard plot diagramme\n",
    "\n",
    "### ou tikz in latex"
   ]
  },
  {
   "cell_type": "code",
   "execution_count": 100,
   "metadata": {
    "ExecuteTime": {
     "end_time": "2020-03-11T10:01:18.555193Z",
     "start_time": "2020-03-11T09:46:46.550449Z"
    },
    "slideshow": {
     "slide_type": "slide"
    }
   },
   "outputs": [
    {
     "name": "stdout",
     "output_type": "stream",
     "text": [
      "(31673, 10, 10, 2) (31673, 2) (39592, 102) (39592, 2) 39592\n",
      "Epoch 1/200\n",
      "2/2 [==============================] - 6s 3s/step - loss: 0.7198 - accuracy: 0.5446\n",
      "Epoch 2/200\n",
      "2/2 [==============================] - 4s 2s/step - loss: 0.6718 - accuracy: 0.6617\n",
      "Epoch 3/200\n",
      "2/2 [==============================] - 4s 2s/step - loss: 0.6582 - accuracy: 0.6884\n",
      "Epoch 4/200\n",
      "2/2 [==============================] - 4s 2s/step - loss: 0.6465 - accuracy: 0.7065\n",
      "Epoch 5/200\n",
      "2/2 [==============================] - 5s 2s/step - loss: 0.6359 - accuracy: 0.7170\n",
      "Epoch 6/200\n",
      "2/2 [==============================] - 5s 2s/step - loss: 0.6270 - accuracy: 0.7231\n",
      "Epoch 7/200\n",
      "2/2 [==============================] - 4s 2s/step - loss: 0.6198 - accuracy: 0.7271\n",
      "Epoch 8/200\n",
      "2/2 [==============================] - 5s 2s/step - loss: 0.6118 - accuracy: 0.7308\n",
      "Epoch 9/200\n",
      "2/2 [==============================] - 4s 2s/step - loss: 0.6034 - accuracy: 0.7341\n",
      "Epoch 10/200\n",
      "2/2 [==============================] - 5s 2s/step - loss: 0.5964 - accuracy: 0.7373\n",
      "Epoch 11/200\n",
      "2/2 [==============================] - 4s 2s/step - loss: 0.5909 - accuracy: 0.7398\n",
      "Epoch 12/200\n",
      "2/2 [==============================] - 4s 2s/step - loss: 0.5863 - accuracy: 0.7413\n",
      "Epoch 13/200\n",
      "2/2 [==============================] - 4s 2s/step - loss: 0.5818 - accuracy: 0.7403\n",
      "Epoch 14/200\n",
      "2/2 [==============================] - 4s 2s/step - loss: 0.5777 - accuracy: 0.7422\n",
      "Epoch 15/200\n",
      "2/2 [==============================] - 4s 2s/step - loss: 0.5695 - accuracy: 0.7445\n",
      "Epoch 16/200\n",
      "2/2 [==============================] - 5s 2s/step - loss: 0.5671 - accuracy: 0.7450\n",
      "Epoch 17/200\n",
      "2/2 [==============================] - 5s 2s/step - loss: 0.5596 - accuracy: 0.7464\n",
      "Epoch 18/200\n",
      "2/2 [==============================] - 4s 2s/step - loss: 0.5543 - accuracy: 0.7492\n",
      "Epoch 19/200\n",
      "2/2 [==============================] - 4s 2s/step - loss: 0.5485 - accuracy: 0.7491\n",
      "Epoch 20/200\n",
      "2/2 [==============================] - 4s 2s/step - loss: 0.5454 - accuracy: 0.7503\n",
      "Epoch 21/200\n",
      "2/2 [==============================] - 4s 2s/step - loss: 0.5368 - accuracy: 0.7541\n",
      "Epoch 22/200\n",
      "2/2 [==============================] - 4s 2s/step - loss: 0.5325 - accuracy: 0.7544\n",
      "Epoch 23/200\n",
      "2/2 [==============================] - 4s 2s/step - loss: 0.5304 - accuracy: 0.7545\n",
      "Epoch 24/200\n",
      "2/2 [==============================] - 4s 2s/step - loss: 0.5204 - accuracy: 0.7593\n",
      "Epoch 25/200\n",
      "2/2 [==============================] - 5s 2s/step - loss: 0.5201 - accuracy: 0.7589\n",
      "Epoch 26/200\n",
      "2/2 [==============================] - 4s 2s/step - loss: 0.5108 - accuracy: 0.7621\n",
      "Epoch 27/200\n",
      "2/2 [==============================] - 5s 2s/step - loss: 0.5069 - accuracy: 0.7643\n",
      "Epoch 28/200\n",
      "2/2 [==============================] - 4s 2s/step - loss: 0.5014 - accuracy: 0.7669\n",
      "Epoch 29/200\n",
      "2/2 [==============================] - 5s 2s/step - loss: 0.4939 - accuracy: 0.7701\n",
      "Epoch 30/200\n",
      "2/2 [==============================] - 4s 2s/step - loss: 0.4932 - accuracy: 0.7704\n",
      "Epoch 31/200\n",
      "2/2 [==============================] - 5s 2s/step - loss: 0.4879 - accuracy: 0.7726\n",
      "Epoch 32/200\n",
      "2/2 [==============================] - 5s 2s/step - loss: 0.4848 - accuracy: 0.7747\n",
      "Epoch 33/200\n",
      "2/2 [==============================] - 5s 2s/step - loss: 0.4780 - accuracy: 0.7773\n",
      "Epoch 34/200\n",
      "2/2 [==============================] - 5s 3s/step - loss: 0.4747 - accuracy: 0.7802\n",
      "Epoch 35/200\n",
      "2/2 [==============================] - 4s 2s/step - loss: 0.4726 - accuracy: 0.7810\n",
      "Epoch 36/200\n",
      "2/2 [==============================] - 4s 2s/step - loss: 0.4655 - accuracy: 0.7839\n",
      "Epoch 37/200\n",
      "2/2 [==============================] - 4s 2s/step - loss: 0.4574 - accuracy: 0.7876\n",
      "Epoch 38/200\n",
      "2/2 [==============================] - 4s 2s/step - loss: 0.4556 - accuracy: 0.7902\n",
      "Epoch 39/200\n",
      "2/2 [==============================] - 4s 2s/step - loss: 0.4592 - accuracy: 0.7872\n",
      "Epoch 40/200\n",
      "2/2 [==============================] - 4s 2s/step - loss: 0.4445 - accuracy: 0.7955\n",
      "Epoch 41/200\n",
      "2/2 [==============================] - 5s 2s/step - loss: 0.4424 - accuracy: 0.7985\n",
      "Epoch 42/200\n",
      "2/2 [==============================] - 4s 2s/step - loss: 0.4420 - accuracy: 0.7981\n",
      "Epoch 43/200\n",
      "2/2 [==============================] - 4s 2s/step - loss: 0.4390 - accuracy: 0.8000\n",
      "Epoch 44/200\n",
      "2/2 [==============================] - 4s 2s/step - loss: 0.4266 - accuracy: 0.8045\n",
      "Epoch 45/200\n",
      "2/2 [==============================] - 4s 2s/step - loss: 0.4263 - accuracy: 0.8060\n",
      "Epoch 46/200\n",
      "2/2 [==============================] - 4s 2s/step - loss: 0.4238 - accuracy: 0.8076\n",
      "Epoch 47/200\n",
      "2/2 [==============================] - 4s 2s/step - loss: 0.4196 - accuracy: 0.8102\n",
      "Epoch 48/200\n",
      "2/2 [==============================] - 4s 2s/step - loss: 0.4113 - accuracy: 0.8152\n",
      "Epoch 49/200\n",
      "2/2 [==============================] - 4s 2s/step - loss: 0.4118 - accuracy: 0.8152\n",
      "Epoch 50/200\n",
      "2/2 [==============================] - 4s 2s/step - loss: 0.4039 - accuracy: 0.8192\n",
      "Epoch 51/200\n",
      "2/2 [==============================] - 4s 2s/step - loss: 0.4010 - accuracy: 0.8207\n",
      "Epoch 52/200\n",
      "2/2 [==============================] - 4s 2s/step - loss: 0.3953 - accuracy: 0.8239\n",
      "Epoch 53/200\n",
      "2/2 [==============================] - 4s 2s/step - loss: 0.3915 - accuracy: 0.8261\n",
      "Epoch 54/200\n",
      "2/2 [==============================] - 5s 2s/step - loss: 0.3857 - accuracy: 0.8293\n",
      "Epoch 55/200\n",
      "2/2 [==============================] - 4s 2s/step - loss: 0.3852 - accuracy: 0.8308\n",
      "Epoch 56/200\n",
      "2/2 [==============================] - 5s 2s/step - loss: 0.3786 - accuracy: 0.8333\n",
      "Epoch 57/200\n",
      "2/2 [==============================] - 4s 2s/step - loss: 0.3739 - accuracy: 0.8357\n",
      "Epoch 58/200\n",
      "2/2 [==============================] - 4s 2s/step - loss: 0.3680 - accuracy: 0.8403\n",
      "Epoch 59/200\n",
      "2/2 [==============================] - 4s 2s/step - loss: 0.3614 - accuracy: 0.8422\n",
      "Epoch 60/200\n",
      "2/2 [==============================] - 4s 2s/step - loss: 0.3641 - accuracy: 0.8406\n",
      "Epoch 61/200\n",
      "2/2 [==============================] - 4s 2s/step - loss: 0.3558 - accuracy: 0.8451\n",
      "Epoch 62/200\n",
      "2/2 [==============================] - 4s 2s/step - loss: 0.3495 - accuracy: 0.8491\n",
      "Epoch 63/200\n",
      "2/2 [==============================] - 4s 2s/step - loss: 0.3472 - accuracy: 0.8498\n",
      "Epoch 64/200\n",
      "2/2 [==============================] - 4s 2s/step - loss: 0.3426 - accuracy: 0.8528\n",
      "Epoch 65/200\n",
      "2/2 [==============================] - 5s 2s/step - loss: 0.3420 - accuracy: 0.8531\n",
      "Epoch 66/200\n",
      "2/2 [==============================] - 4s 2s/step - loss: 0.3348 - accuracy: 0.8557\n",
      "Epoch 67/200\n",
      "2/2 [==============================] - 4s 2s/step - loss: 0.3323 - accuracy: 0.8573\n",
      "Epoch 68/200\n",
      "2/2 [==============================] - 4s 2s/step - loss: 0.3195 - accuracy: 0.8626\n",
      "Epoch 69/200\n",
      "2/2 [==============================] - 4s 2s/step - loss: 0.3187 - accuracy: 0.8639\n",
      "Epoch 70/200\n",
      "2/2 [==============================] - 4s 2s/step - loss: 0.3194 - accuracy: 0.8638\n",
      "Epoch 71/200\n",
      "2/2 [==============================] - 5s 2s/step - loss: 0.3175 - accuracy: 0.8633\n",
      "Epoch 72/200\n",
      "2/2 [==============================] - 4s 2s/step - loss: 0.3079 - accuracy: 0.8689\n",
      "Epoch 73/200\n",
      "2/2 [==============================] - 4s 2s/step - loss: 0.3046 - accuracy: 0.8702\n",
      "Epoch 74/200\n",
      "2/2 [==============================] - 4s 2s/step - loss: 0.3004 - accuracy: 0.8740\n",
      "Epoch 75/200\n",
      "2/2 [==============================] - 5s 2s/step - loss: 0.3018 - accuracy: 0.8714\n",
      "Epoch 76/200\n",
      "2/2 [==============================] - 4s 2s/step - loss: 0.2935 - accuracy: 0.8758\n",
      "Epoch 77/200\n",
      "2/2 [==============================] - 4s 2s/step - loss: 0.2906 - accuracy: 0.8781\n",
      "Epoch 78/200\n",
      "2/2 [==============================] - 4s 2s/step - loss: 0.2823 - accuracy: 0.8812\n",
      "Epoch 79/200\n",
      "2/2 [==============================] - 4s 2s/step - loss: 0.2788 - accuracy: 0.8844\n",
      "Epoch 80/200\n",
      "2/2 [==============================] - 4s 2s/step - loss: 0.2774 - accuracy: 0.8844\n",
      "Epoch 81/200\n",
      "2/2 [==============================] - 4s 2s/step - loss: 0.2820 - accuracy: 0.8794\n",
      "Epoch 82/200\n",
      "2/2 [==============================] - 4s 2s/step - loss: 0.2650 - accuracy: 0.8909\n",
      "Epoch 83/200\n",
      "2/2 [==============================] - 4s 2s/step - loss: 0.2596 - accuracy: 0.8939\n",
      "Epoch 84/200\n"
     ]
    },
    {
     "name": "stdout",
     "output_type": "stream",
     "text": [
      "2/2 [==============================] - 4s 2s/step - loss: 0.2654 - accuracy: 0.8908\n",
      "Epoch 85/200\n",
      "2/2 [==============================] - 4s 2s/step - loss: 0.2745 - accuracy: 0.8837\n",
      "Epoch 86/200\n",
      "2/2 [==============================] - 4s 2s/step - loss: 0.2756 - accuracy: 0.8803\n",
      "Epoch 87/200\n",
      "2/2 [==============================] - 4s 2s/step - loss: 0.2617 - accuracy: 0.8891\n",
      "Epoch 88/200\n",
      "2/2 [==============================] - 4s 2s/step - loss: 0.2250 - accuracy: 0.9137\n",
      "Epoch 89/200\n",
      "2/2 [==============================] - 4s 2s/step - loss: 0.2108 - accuracy: 0.9228\n",
      "Epoch 90/200\n",
      "2/2 [==============================] - 4s 2s/step - loss: 0.2152 - accuracy: 0.9179\n",
      "Epoch 91/200\n",
      "2/2 [==============================] - 4s 2s/step - loss: 0.2809 - accuracy: 0.8830\n",
      "Epoch 92/200\n",
      "2/2 [==============================] - 4s 2s/step - loss: 0.2710 - accuracy: 0.8981\n",
      "Epoch 93/200\n",
      "2/2 [==============================] - 5s 2s/step - loss: 0.3772 - accuracy: 0.8320\n",
      "Epoch 94/200\n",
      "2/2 [==============================] - 4s 2s/step - loss: 0.2406 - accuracy: 0.9068\n",
      "Epoch 95/200\n",
      "2/2 [==============================] - 4s 2s/step - loss: 0.2069 - accuracy: 0.9261\n",
      "Epoch 96/200\n",
      "2/2 [==============================] - 4s 2s/step - loss: 0.1876 - accuracy: 0.9354\n",
      "Epoch 97/200\n",
      "2/2 [==============================] - 4s 2s/step - loss: 0.1813 - accuracy: 0.9381\n",
      "Epoch 98/200\n",
      "2/2 [==============================] - 4s 2s/step - loss: 0.1750 - accuracy: 0.9410\n",
      "Epoch 99/200\n",
      "2/2 [==============================] - 4s 2s/step - loss: 0.1762 - accuracy: 0.9382\n",
      "Epoch 100/200\n",
      "2/2 [==============================] - 4s 2s/step - loss: 0.2022 - accuracy: 0.9210\n",
      "Epoch 101/200\n",
      "2/2 [==============================] - 4s 2s/step - loss: 0.2648 - accuracy: 0.8842\n",
      "Epoch 102/200\n",
      "2/2 [==============================] - 5s 2s/step - loss: 0.2350 - accuracy: 0.9003\n",
      "Epoch 103/200\n",
      "2/2 [==============================] - 4s 2s/step - loss: 0.1827 - accuracy: 0.9329\n",
      "Epoch 104/200\n",
      "2/2 [==============================] - 4s 2s/step - loss: 0.1675 - accuracy: 0.9424\n",
      "Epoch 105/200\n",
      "2/2 [==============================] - 4s 2s/step - loss: 0.1667 - accuracy: 0.9425\n",
      "Epoch 106/200\n",
      "2/2 [==============================] - 4s 2s/step - loss: 0.1716 - accuracy: 0.9384\n",
      "Epoch 107/200\n",
      "2/2 [==============================] - 5s 3s/step - loss: 0.1782 - accuracy: 0.9328\n",
      "Epoch 108/200\n",
      "2/2 [==============================] - 4s 2s/step - loss: 0.1776 - accuracy: 0.9323\n",
      "Epoch 109/200\n",
      "2/2 [==============================] - 5s 2s/step - loss: 0.1655 - accuracy: 0.9399\n",
      "Epoch 110/200\n",
      "2/2 [==============================] - 4s 2s/step - loss: 0.1718 - accuracy: 0.9369\n",
      "Epoch 111/200\n",
      "2/2 [==============================] - 5s 2s/step - loss: 0.2249 - accuracy: 0.9116\n",
      "Epoch 112/200\n",
      "2/2 [==============================] - 4s 2s/step - loss: 0.1932 - accuracy: 0.9334\n",
      "Epoch 113/200\n",
      "2/2 [==============================] - 4s 2s/step - loss: 0.2252 - accuracy: 0.9078\n",
      "Epoch 114/200\n",
      "2/2 [==============================] - 4s 2s/step - loss: 0.2104 - accuracy: 0.9097\n",
      "Epoch 115/200\n",
      "2/2 [==============================] - 4s 2s/step - loss: 0.1441 - accuracy: 0.9549\n",
      "Epoch 116/200\n",
      "2/2 [==============================] - 4s 2s/step - loss: 0.1321 - accuracy: 0.9601\n",
      "Epoch 117/200\n",
      "2/2 [==============================] - 4s 2s/step - loss: 0.1248 - accuracy: 0.9630\n",
      "Epoch 118/200\n",
      "2/2 [==============================] - 4s 2s/step - loss: 0.1197 - accuracy: 0.9645\n",
      "Epoch 119/200\n",
      "2/2 [==============================] - 4s 2s/step - loss: 0.1172 - accuracy: 0.9650\n",
      "Epoch 120/200\n",
      "2/2 [==============================] - 4s 2s/step - loss: 0.1171 - accuracy: 0.9653\n",
      "Epoch 121/200\n",
      "2/2 [==============================] - 4s 2s/step - loss: 0.1294 - accuracy: 0.9575\n",
      "Epoch 122/200\n",
      "2/2 [==============================] - 4s 2s/step - loss: 0.1667 - accuracy: 0.9363\n",
      "Epoch 123/200\n",
      "2/2 [==============================] - 4s 2s/step - loss: 0.1834 - accuracy: 0.9273\n",
      "Epoch 124/200\n",
      "2/2 [==============================] - 4s 2s/step - loss: 0.1520 - accuracy: 0.9437\n",
      "Epoch 125/200\n",
      "2/2 [==============================] - 4s 2s/step - loss: 0.1570 - accuracy: 0.9454\n",
      "Epoch 126/200\n",
      "2/2 [==============================] - 4s 2s/step - loss: 0.1325 - accuracy: 0.9563\n",
      "Epoch 127/200\n",
      "2/2 [==============================] - 4s 2s/step - loss: 0.1075 - accuracy: 0.9696\n",
      "Epoch 128/200\n",
      "2/2 [==============================] - 4s 2s/step - loss: 0.1039 - accuracy: 0.9709\n",
      "Epoch 129/200\n",
      "2/2 [==============================] - 4s 2s/step - loss: 0.1091 - accuracy: 0.9669\n",
      "Epoch 130/200\n",
      "2/2 [==============================] - 4s 2s/step - loss: 0.1528 - accuracy: 0.9447\n",
      "Epoch 131/200\n",
      "2/2 [==============================] - 4s 2s/step - loss: 0.1791 - accuracy: 0.9290\n",
      "Epoch 132/200\n",
      "2/2 [==============================] - 4s 2s/step - loss: 0.1196 - accuracy: 0.9606\n",
      "Epoch 133/200\n",
      "2/2 [==============================] - 4s 2s/step - loss: 0.1018 - accuracy: 0.9716\n",
      "Epoch 134/200\n",
      "2/2 [==============================] - 4s 2s/step - loss: 0.0964 - accuracy: 0.9735\n",
      "Epoch 135/200\n",
      "2/2 [==============================] - 4s 2s/step - loss: 0.0918 - accuracy: 0.9749\n",
      "Epoch 136/200\n",
      "2/2 [==============================] - 4s 2s/step - loss: 0.0896 - accuracy: 0.9754\n",
      "Epoch 137/200\n",
      "2/2 [==============================] - 4s 2s/step - loss: 0.0917 - accuracy: 0.9735\n",
      "Epoch 138/200\n",
      "2/2 [==============================] - 4s 2s/step - loss: 0.1001 - accuracy: 0.9681\n",
      "Epoch 139/200\n",
      "2/2 [==============================] - 4s 2s/step - loss: 0.1101 - accuracy: 0.9627\n",
      "Epoch 140/200\n",
      "2/2 [==============================] - 4s 2s/step - loss: 0.1264 - accuracy: 0.9546\n",
      "Epoch 141/200\n",
      "2/2 [==============================] - 4s 2s/step - loss: 0.1109 - accuracy: 0.9621\n",
      "Epoch 142/200\n",
      "2/2 [==============================] - 4s 2s/step - loss: 0.0944 - accuracy: 0.9715\n",
      "Epoch 143/200\n",
      "2/2 [==============================] - 4s 2s/step - loss: 0.0873 - accuracy: 0.9744\n",
      "Epoch 144/200\n",
      "2/2 [==============================] - 4s 2s/step - loss: 0.0848 - accuracy: 0.9762\n",
      "Epoch 145/200\n",
      "2/2 [==============================] - 4s 2s/step - loss: 0.0831 - accuracy: 0.9765\n",
      "Epoch 146/200\n",
      "2/2 [==============================] - 5s 2s/step - loss: 0.0848 - accuracy: 0.9749\n",
      "Epoch 147/200\n",
      "2/2 [==============================] - 5s 2s/step - loss: 0.0858 - accuracy: 0.9746\n",
      "Epoch 148/200\n",
      "2/2 [==============================] - 4s 2s/step - loss: 0.0861 - accuracy: 0.9742\n",
      "Epoch 149/200\n",
      "2/2 [==============================] - 4s 2s/step - loss: 0.0866 - accuracy: 0.9738\n",
      "Epoch 150/200\n",
      "2/2 [==============================] - 4s 2s/step - loss: 0.0840 - accuracy: 0.9749\n",
      "Epoch 151/200\n",
      "2/2 [==============================] - 5s 2s/step - loss: 0.0827 - accuracy: 0.9749\n",
      "Epoch 152/200\n",
      "2/2 [==============================] - 4s 2s/step - loss: 0.0839 - accuracy: 0.9743\n",
      "Epoch 153/200\n",
      "2/2 [==============================] - 4s 2s/step - loss: 0.0934 - accuracy: 0.9711\n",
      "Epoch 154/200\n",
      "2/2 [==============================] - 4s 2s/step - loss: 0.1198 - accuracy: 0.9596\n",
      "Epoch 155/200\n",
      "2/2 [==============================] - 4s 2s/step - loss: 0.1172 - accuracy: 0.9640\n",
      "Epoch 156/200\n",
      "2/2 [==============================] - 4s 2s/step - loss: 0.0726 - accuracy: 0.9812\n",
      "Epoch 157/200\n",
      "2/2 [==============================] - 4s 2s/step - loss: 0.0675 - accuracy: 0.9829\n",
      "Epoch 158/200\n",
      "2/2 [==============================] - 4s 2s/step - loss: 0.0792 - accuracy: 0.9757\n",
      "Epoch 159/200\n",
      "2/2 [==============================] - 4s 2s/step - loss: 0.1361 - accuracy: 0.9493\n",
      "Epoch 160/200\n",
      "2/2 [==============================] - 4s 2s/step - loss: 0.1571 - accuracy: 0.9466\n",
      "Epoch 161/200\n",
      "2/2 [==============================] - 4s 2s/step - loss: 0.0745 - accuracy: 0.9797\n",
      "Epoch 162/200\n",
      "2/2 [==============================] - 4s 2s/step - loss: 0.0631 - accuracy: 0.9854\n",
      "Epoch 163/200\n",
      "2/2 [==============================] - 5s 2s/step - loss: 0.0611 - accuracy: 0.9859\n",
      "Epoch 164/200\n",
      "2/2 [==============================] - 4s 2s/step - loss: 0.0593 - accuracy: 0.9858\n",
      "Epoch 165/200\n",
      "2/2 [==============================] - 5s 2s/step - loss: 0.0573 - accuracy: 0.9866\n",
      "Epoch 166/200\n",
      "2/2 [==============================] - 4s 2s/step - loss: 0.0565 - accuracy: 0.9868\n",
      "Epoch 167/200\n"
     ]
    },
    {
     "name": "stdout",
     "output_type": "stream",
     "text": [
      "2/2 [==============================] - 4s 2s/step - loss: 0.0559 - accuracy: 0.9866\n",
      "Epoch 168/200\n",
      "2/2 [==============================] - 4s 2s/step - loss: 0.0546 - accuracy: 0.9873\n",
      "Epoch 169/200\n",
      "2/2 [==============================] - 4s 2s/step - loss: 0.0536 - accuracy: 0.9869\n",
      "Epoch 170/200\n",
      "2/2 [==============================] - 4s 2s/step - loss: 0.0548 - accuracy: 0.9866\n",
      "Epoch 171/200\n",
      "2/2 [==============================] - 4s 2s/step - loss: 0.0540 - accuracy: 0.9870\n",
      "Epoch 172/200\n",
      "2/2 [==============================] - 4s 2s/step - loss: 0.0545 - accuracy: 0.9863\n",
      "Epoch 173/200\n",
      "2/2 [==============================] - 4s 2s/step - loss: 0.0591 - accuracy: 0.9831\n",
      "Epoch 174/200\n",
      "2/2 [==============================] - 4s 2s/step - loss: 0.0637 - accuracy: 0.9815\n",
      "Epoch 175/200\n",
      "2/2 [==============================] - 4s 2s/step - loss: 0.0599 - accuracy: 0.9835\n",
      "Epoch 176/200\n",
      "2/2 [==============================] - 4s 2s/step - loss: 0.0583 - accuracy: 0.9844\n",
      "Epoch 177/200\n",
      "2/2 [==============================] - 4s 2s/step - loss: 0.0547 - accuracy: 0.9857\n",
      "Epoch 178/200\n",
      "2/2 [==============================] - 4s 2s/step - loss: 0.0515 - accuracy: 0.9869\n",
      "Epoch 179/200\n",
      "2/2 [==============================] - 4s 2s/step - loss: 0.0508 - accuracy: 0.9873\n",
      "Epoch 180/200\n",
      "2/2 [==============================] - 4s 2s/step - loss: 0.0492 - accuracy: 0.9878\n",
      "Epoch 181/200\n",
      "2/2 [==============================] - 4s 2s/step - loss: 0.0489 - accuracy: 0.9878\n",
      "Epoch 182/200\n",
      "2/2 [==============================] - 4s 2s/step - loss: 0.0488 - accuracy: 0.9875\n",
      "Epoch 183/200\n",
      "2/2 [==============================] - 4s 2s/step - loss: 0.0492 - accuracy: 0.9875\n",
      "Epoch 184/200\n",
      "2/2 [==============================] - 4s 2s/step - loss: 0.0497 - accuracy: 0.9870\n",
      "Epoch 185/200\n",
      "2/2 [==============================] - 4s 2s/step - loss: 0.0511 - accuracy: 0.9862\n",
      "Epoch 186/200\n",
      "2/2 [==============================] - 4s 2s/step - loss: 0.0552 - accuracy: 0.9845\n",
      "Epoch 187/200\n",
      "2/2 [==============================] - 4s 2s/step - loss: 0.0534 - accuracy: 0.9861\n",
      "Epoch 188/200\n",
      "2/2 [==============================] - 4s 2s/step - loss: 0.0517 - accuracy: 0.9865\n",
      "Epoch 189/200\n",
      "2/2 [==============================] - 4s 2s/step - loss: 0.0471 - accuracy: 0.9882\n",
      "Epoch 190/200\n",
      "2/2 [==============================] - 4s 2s/step - loss: 0.0450 - accuracy: 0.9886\n",
      "Epoch 191/200\n",
      "2/2 [==============================] - 4s 2s/step - loss: 0.0445 - accuracy: 0.9889\n",
      "Epoch 192/200\n",
      "2/2 [==============================] - 4s 2s/step - loss: 0.0448 - accuracy: 0.9886\n",
      "Epoch 193/200\n",
      "2/2 [==============================] - 5s 2s/step - loss: 0.0443 - accuracy: 0.9884\n",
      "Epoch 194/200\n",
      "2/2 [==============================] - 4s 2s/step - loss: 0.0466 - accuracy: 0.9879\n",
      "Epoch 195/200\n",
      "2/2 [==============================] - 5s 2s/step - loss: 0.0494 - accuracy: 0.9863\n",
      "Epoch 196/200\n",
      "2/2 [==============================] - 4s 2s/step - loss: 0.0484 - accuracy: 0.9869\n",
      "Epoch 197/200\n",
      "2/2 [==============================] - 4s 2s/step - loss: 0.0470 - accuracy: 0.9881\n",
      "Epoch 198/200\n",
      "2/2 [==============================] - 4s 2s/step - loss: 0.0449 - accuracy: 0.9883\n",
      "Epoch 199/200\n",
      "2/2 [==============================] - 4s 2s/step - loss: 0.0427 - accuracy: 0.9889\n",
      "Epoch 200/200\n",
      "2/2 [==============================] - 4s 2s/step - loss: 0.0389 - accuracy: 0.9907\n",
      "Test loss: 0.012506388127803802\n",
      "Test accuracy: 2.971587359905243\n"
     ]
    }
   ],
   "source": [
    "print(train_data.shape, train_labels.shape,df_Y.shape, y_binary.shape, len(y))\n",
    "\n",
    "# 2) Train CONVNET on the MNIST dataset\n",
    "dim = len(keras.backend.int_shape(train_data))\n",
    "\n",
    "epochs = 200   # 30 à 50 ou 120-150-200 ???\n",
    "#  steps PROBLEMES si différent de 1 pour les derniers plots\n",
    "batch_size = 1    # 64 \n",
    "#ratio = 10 * 401 / 70\n",
    "ratio = 10 * 20000 / 70\n",
    "poids_class = {0: 1., 1: ratio}\n",
    "if dim == 2:\n",
    "    input_shape = (10, 10)\n",
    "if dim == 4:\n",
    "    input_shape = (10, 10, 2)\n",
    "    #input_shape = (10, 10, 1)\n",
    "\n",
    "filters = (5,5)\n",
    "strides=(1,1)\n",
    "pool_size=(2,2)\n",
    "\n",
    "model2 = Sequential([\n",
    "    Conv2D(6, filters, padding=\"same\", strides=strides, input_shape=input_shape),\n",
    "    MaxPooling2D(pool_size=pool_size),\n",
    "    Conv2D(16, filters, padding=\"same\", strides=strides),\n",
    "    MaxPooling2D(pool_size=pool_size),\n",
    "    Flatten(),\n",
    "    Dense(120, activation='relu'),\n",
    "    Dropout(0.5),\n",
    "    Dense(100, activation='relu'),\n",
    "    Dropout(0.5),\n",
    "    Dense(2, activation='sigmoid')   #  'softmax'\n",
    "    #Dense(2, activation='softmax')\n",
    "])\n",
    "\n",
    "#model2.compile(loss=keras.losses.categorical_crossentropy, optimizer=keras.optimizers.Adadelta(),\n",
    "#              metrics=['accuracy'])\n",
    "model2.compile(loss=keras.losses.binary_crossentropy, optimizer=keras.optimizers.Adadelta(),\n",
    "#model2.compile(loss=keras.losses.mse, optimizer=keras.optimizers.Adadelta(),\n",
    "              metrics=['accuracy'])\n",
    "\n",
    "#  si TENSOR = 2D\n",
    "if dim == 2:\n",
    "    history2 = model2.fit(train_data, train_labels, batch_size=batch_size, epochs=epochs, \n",
    "                          class_weight=poids_class,  # ou   'balanced'\n",
    "          verbose=1, validation_data=(test_data, test_labels))\n",
    "    score = model2.evaluate(test_data, test_labels, verbose=0)\n",
    "elif dim == 4:\n",
    "#    history2 = model2.fit_generator(train_data, train_labels, verbose=1)      \n",
    "    history2 = model2.fit(train_data, train_labels, epochs=epochs, verbose=1, \n",
    "#                          # class_weight=poids_class,   #  ValueError:  NOT supported for 3+ dimensional targets\n",
    "                        validation_freq=.33, steps_per_epoch=2)\n",
    "    score = model2.evaluate(test_data, test_labels, steps=3, verbose=0)\n",
    "else:\n",
    "    print(\"WRONG tensor dimension inputs ....\")\n",
    "\n",
    "print('Test loss:', score[0])\n",
    "print('Test accuracy:', score[1])"
   ]
  },
  {
   "cell_type": "markdown",
   "metadata": {
    "slideshow": {
     "slide_type": "skip"
    }
   },
   "source": [
    "### Sommaire"
   ]
  },
  {
   "cell_type": "code",
   "execution_count": 101,
   "metadata": {
    "ExecuteTime": {
     "end_time": "2020-03-11T10:01:49.952369Z",
     "start_time": "2020-03-11T10:01:49.881652Z"
    },
    "slideshow": {
     "slide_type": "slide"
    }
   },
   "outputs": [
    {
     "name": "stdout",
     "output_type": "stream",
     "text": [
      "Model: \"sequential_7\"\n",
      "_________________________________________________________________\n",
      "Layer (type)                 Output Shape              Param #   \n",
      "=================================================================\n",
      "conv2d_7 (Conv2D)            (None, 10, 10, 6)         306       \n",
      "_________________________________________________________________\n",
      "max_pooling2d_7 (MaxPooling2 (None, 5, 5, 6)           0         \n",
      "_________________________________________________________________\n",
      "conv2d_8 (Conv2D)            (None, 5, 5, 16)          2416      \n",
      "_________________________________________________________________\n",
      "max_pooling2d_8 (MaxPooling2 (None, 2, 2, 16)          0         \n",
      "_________________________________________________________________\n",
      "flatten_7 (Flatten)          (None, 64)                0         \n",
      "_________________________________________________________________\n",
      "dense_16 (Dense)             (None, 120)               7800      \n",
      "_________________________________________________________________\n",
      "dropout_3 (Dropout)          (None, 120)               0         \n",
      "_________________________________________________________________\n",
      "dense_17 (Dense)             (None, 100)               12100     \n",
      "_________________________________________________________________\n",
      "dropout_4 (Dropout)          (None, 100)               0         \n",
      "_________________________________________________________________\n",
      "dense_18 (Dense)             (None, 2)                 202       \n",
      "=================================================================\n",
      "Total params: 22,824\n",
      "Trainable params: 22,824\n",
      "Non-trainable params: 0\n",
      "_________________________________________________________________\n"
     ]
    }
   ],
   "source": [
    "model2.summary()\n",
    "\n",
    "# model.save_weights('file.h5')\n",
    "# avec le model construit + les poids\n",
    "# model.load_weights('file.h5')"
   ]
  },
  {
   "cell_type": "markdown",
   "metadata": {
    "slideshow": {
     "slide_type": "skip"
    }
   },
   "source": [
    "### Figures"
   ]
  },
  {
   "cell_type": "code",
   "execution_count": 102,
   "metadata": {
    "ExecuteTime": {
     "end_time": "2020-03-11T10:02:09.523331Z",
     "start_time": "2020-03-11T10:02:09.352728Z"
    },
    "slideshow": {
     "slide_type": "skip"
    }
   },
   "outputs": [
    {
     "data": {
      "image/png": "[encoded data removed]",
      "text/plain": [
       "<Figure size 432x288 with 1 Axes>"
      ]
     },
     "metadata": {
      "needs_background": "light"
     },
     "output_type": "display_data"
    }
   ],
   "source": [
    "#history0.history\n",
    "# plot metrics\n",
    "#_ = plt.plot(history2.history['binary_accuracy'])\n",
    "_ = plt.plot(history2.history['accuracy'])\n",
    "_ = plt.show()"
   ]
  },
  {
   "cell_type": "code",
   "execution_count": 103,
   "metadata": {
    "ExecuteTime": {
     "end_time": "2020-03-11T10:02:29.268181Z",
     "start_time": "2020-03-11T10:02:28.757449Z"
    },
    "slideshow": {
     "slide_type": "slide"
    }
   },
   "outputs": [
    {
     "name": "stdout",
     "output_type": "stream",
     "text": [
      "dict_keys(['loss', 'accuracy'])\n",
      "0 blue [[0.7198423147201538, 0.6717919409275055, 0.6581777632236481, 0.6464913189411163, 0.6358821094036102, 0.6270178556442261, 0.619814932346344, 0.6117706000804901, 0.6033799350261688, 0.5964411795139313, 0.5908936858177185, 0.586310863494873, 0.5818118453025818, 0.5777356922626495, 0.5695298910140991, 0.5671112239360809, 0.5596465766429901, 0.554264098405838, 0.5485323667526245, 0.5453949868679047, 0.5367975831031799, 0.5325320065021515, 0.5304178595542908, 0.5204495191574097, 0.5201415717601776, 0.5108474493026733, 0.5069474875926971, 0.5013720840215683, 0.4938766062259674, 0.493233785033226, 0.4879470020532608, 0.4847692549228668, 0.47804634273052216, 0.4747178852558136, 0.47259949147701263, 0.4654879570007324, 0.45742084085941315, 0.4555619806051254, 0.45924775302410126, 0.4444998502731323, 0.44236284494400024, 0.4419616609811783, 0.43898193538188934, 0.4265533685684204, 0.42632001638412476, 0.4238023906946182, 0.41962820291519165, 0.41130800545215607, 0.41180582344532013, 0.4038747102022171, 0.40100137889385223, 0.39526720345020294, 0.3915131539106369, 0.3857000321149826, 0.3852328211069107, 0.37855497002601624, 0.37390246987342834, 0.3680182695388794, 0.36141064763069153, 0.36410215497016907, 0.35581745207309723, 0.34952498972415924, 0.34720343351364136, 0.34262634813785553, 0.3420005142688751, 0.33477674424648285, 0.3322650194168091, 0.31950873136520386, 0.318737730383873, 0.31935037672519684, 0.3175210654735565, 0.3078949451446533, 0.3046422153711319, 0.3003634810447693, 0.3018009066581726, 0.29350443184375763, 0.2906471788883209, 0.2823319733142853, 0.2787545621395111, 0.2774147242307663, 0.2819998860359192, 0.2650076895952225, 0.2595569044351578, 0.26540999114513397, 0.2744816541671753, 0.27561579644680023, 0.26168929040431976, 0.22502563893795013, 0.21081478893756866, 0.2152220979332924, 0.2809249088168144, 0.270964652299881, 0.37723469734191895, 0.24063532799482346, 0.20685980468988419, 0.18762913346290588, 0.1812509447336197, 0.17502805590629578, 0.17621184885501862, 0.2022230103611946, 0.2648005336523056, 0.23498275876045227, 0.1826678365468979, 0.16751208901405334, 0.16668705642223358, 0.1715657338500023, 0.17818599194288254, 0.1775747686624527, 0.1654655933380127, 0.17178083211183548, 0.22488000243902206, 0.19322612136602402, 0.22519583255052567, 0.21036256104707718, 0.14406240731477737, 0.13209917396306992, 0.12483614683151245, 0.11972696706652641, 0.11721043288707733, 0.11712589114904404, 0.1293790377676487, 0.16672221571207047, 0.18344537168741226, 0.15199082344770432, 0.15698718279600143, 0.1325019858777523, 0.10751976072788239, 0.10387405380606651, 0.1090923584997654, 0.15281085297465324, 0.17906562238931656, 0.11959053948521614, 0.10181188210844994, 0.09636559709906578, 0.0917886272072792, 0.08959641307592392, 0.09174102544784546, 0.1000898890197277, 0.11006315052509308, 0.12636637687683105, 0.1108512319624424, 0.09442802518606186, 0.08733383193612099, 0.08475493267178535, 0.083102997392416, 0.08478401228785515, 0.08575025200843811, 0.08610159158706665, 0.08664705231785774, 0.0840197205543518, 0.08269597962498665, 0.0839221403002739, 0.0934094525873661, 0.11981124058365822, 0.11718694865703583, 0.07258467748761177, 0.06754060834646225, 0.0791923999786377, 0.13613786920905113, 0.15707648918032646, 0.07450264692306519, 0.06312062405049801, 0.06108567677438259, 0.059306029230356216, 0.05727501958608627, 0.05653229169547558, 0.05587705038487911, 0.05464154668152332, 0.05361946113407612, 0.054791947826743126, 0.05395771376788616, 0.05451532453298569, 0.0591188445687294, 0.06365245580673218, 0.059865791350603104, 0.05830538086593151, 0.054655879735946655, 0.051458174362778664, 0.050763845443725586, 0.04917200282216072, 0.04888278618454933, 0.04883202910423279, 0.04917616955935955, 0.049706825986504555, 0.05109066516160965, 0.055210089311003685, 0.053364530205726624, 0.051715146750211716, 0.04705136828124523, 0.04503798298537731, 0.04451620578765869, 0.0448308140039444, 0.04426640458405018, 0.04658588953316212, 0.049442727118730545, 0.048361361026763916, 0.04702083021402359, 0.04485098272562027, 0.042699042707681656, 0.038873158395290375], [0.54463583, 0.66169137, 0.6884018, 0.7064771, 0.7170145, 0.72306854, 0.72714144, 0.73081964, 0.7340716, 0.7373394, 0.73978627, 0.741286, 0.74025196, 0.7422252, 0.74449056, 0.74498785, 0.74636126, 0.74924225, 0.7490765, 0.7502605, 0.7540571, 0.75435704, 0.75446755, 0.75932974, 0.75892717, 0.7621081, 0.7643024, 0.7668835, 0.7700565, 0.77036434, 0.7725586, 0.7746898, 0.7772788, 0.7802387, 0.78096485, 0.7839169, 0.78755563, 0.7902472, 0.7872241, 0.7954804, 0.7984798, 0.7981483, 0.8000347, 0.80451804, 0.8059941, 0.8076122, 0.8102485, 0.8152212, 0.8152054, 0.819223, 0.8207385, 0.8239431, 0.8261374, 0.82928675, 0.8308259, 0.8332807, 0.83574337, 0.8403056, 0.84224737, 0.840645, 0.84509677, 0.84911436, 0.8497774, 0.8527689, 0.8531399, 0.85574466, 0.85725224, 0.86262745, 0.8638904, 0.86381143, 0.86325103, 0.8689183, 0.8702444, 0.8740173, 0.87143624, 0.8758248, 0.87812966, 0.8812001, 0.88435733, 0.8844126, 0.87940043, 0.8908692, 0.8939396, 0.89082974, 0.8836864, 0.88027656, 0.88911694, 0.91368043, 0.9228049, 0.91791904, 0.8829839, 0.898052, 0.83198625, 0.9067818, 0.9260964, 0.93541026, 0.9380861, 0.94097495, 0.9382439, 0.9209895, 0.8841916, 0.9002857, 0.9329082, 0.94237995, 0.94252205, 0.9384255, 0.93278974, 0.9322846, 0.9399252, 0.9368863, 0.91155714, 0.93338174, 0.90776056, 0.90973383, 0.9549143, 0.960108, 0.96301264, 0.9645203, 0.96498597, 0.9652701, 0.95748746, 0.9363101, 0.9273277, 0.94374543, 0.94537145, 0.9562719, 0.969635, 0.97087425, 0.96691185, 0.9447321, 0.9290168, 0.96058154, 0.9716004, 0.9734869, 0.97489184, 0.9754207, 0.9734632, 0.9681353, 0.9626654, 0.9545512, 0.9620576, 0.9714741, 0.9744499, 0.97615474, 0.97648627, 0.9748603, 0.97459984, 0.9741736, 0.9737789, 0.97489184, 0.97490764, 0.9742762, 0.97111106, 0.9596423, 0.9640388, 0.98123795, 0.9829429, 0.9756575, 0.9493259, 0.94657123, 0.9797225, 0.98538184, 0.9859423, 0.9858476, 0.986629, 0.98679477, 0.9866211, 0.9873315, 0.9869368, 0.98657376, 0.9870473, 0.98630536, 0.9831481, 0.98145896, 0.9834954, 0.98435575, 0.9857055, 0.98694474, 0.9873315, 0.9877735, 0.98780507, 0.98752093, 0.987513, 0.9869526, 0.98624223, 0.9845057, 0.98610014, 0.9865185, 0.98820764, 0.9885707, 0.98891014, 0.9885628, 0.98842865, 0.987884, 0.9862817, 0.98692894, 0.9880734, 0.98830235, 0.988918, 0.9907413]]\n",
      "2 orange [[0.7198423147201538, 0.6717919409275055, 0.6581777632236481, 0.6464913189411163, 0.6358821094036102, 0.6270178556442261, 0.619814932346344, 0.6117706000804901, 0.6033799350261688, 0.5964411795139313, 0.5908936858177185, 0.586310863494873, 0.5818118453025818, 0.5777356922626495, 0.5695298910140991, 0.5671112239360809, 0.5596465766429901, 0.554264098405838, 0.5485323667526245, 0.5453949868679047, 0.5367975831031799, 0.5325320065021515, 0.5304178595542908, 0.5204495191574097, 0.5201415717601776, 0.5108474493026733, 0.5069474875926971, 0.5013720840215683, 0.4938766062259674, 0.493233785033226, 0.4879470020532608, 0.4847692549228668, 0.47804634273052216, 0.4747178852558136, 0.47259949147701263, 0.4654879570007324, 0.45742084085941315, 0.4555619806051254, 0.45924775302410126, 0.4444998502731323, 0.44236284494400024, 0.4419616609811783, 0.43898193538188934, 0.4265533685684204, 0.42632001638412476, 0.4238023906946182, 0.41962820291519165, 0.41130800545215607, 0.41180582344532013, 0.4038747102022171, 0.40100137889385223, 0.39526720345020294, 0.3915131539106369, 0.3857000321149826, 0.3852328211069107, 0.37855497002601624, 0.37390246987342834, 0.3680182695388794, 0.36141064763069153, 0.36410215497016907, 0.35581745207309723, 0.34952498972415924, 0.34720343351364136, 0.34262634813785553, 0.3420005142688751, 0.33477674424648285, 0.3322650194168091, 0.31950873136520386, 0.318737730383873, 0.31935037672519684, 0.3175210654735565, 0.3078949451446533, 0.3046422153711319, 0.3003634810447693, 0.3018009066581726, 0.29350443184375763, 0.2906471788883209, 0.2823319733142853, 0.2787545621395111, 0.2774147242307663, 0.2819998860359192, 0.2650076895952225, 0.2595569044351578, 0.26540999114513397, 0.2744816541671753, 0.27561579644680023, 0.26168929040431976, 0.22502563893795013, 0.21081478893756866, 0.2152220979332924, 0.2809249088168144, 0.270964652299881, 0.37723469734191895, 0.24063532799482346, 0.20685980468988419, 0.18762913346290588, 0.1812509447336197, 0.17502805590629578, 0.17621184885501862, 0.2022230103611946, 0.2648005336523056, 0.23498275876045227, 0.1826678365468979, 0.16751208901405334, 0.16668705642223358, 0.1715657338500023, 0.17818599194288254, 0.1775747686624527, 0.1654655933380127, 0.17178083211183548, 0.22488000243902206, 0.19322612136602402, 0.22519583255052567, 0.21036256104707718, 0.14406240731477737, 0.13209917396306992, 0.12483614683151245, 0.11972696706652641, 0.11721043288707733, 0.11712589114904404, 0.1293790377676487, 0.16672221571207047, 0.18344537168741226, 0.15199082344770432, 0.15698718279600143, 0.1325019858777523, 0.10751976072788239, 0.10387405380606651, 0.1090923584997654, 0.15281085297465324, 0.17906562238931656, 0.11959053948521614, 0.10181188210844994, 0.09636559709906578, 0.0917886272072792, 0.08959641307592392, 0.09174102544784546, 0.1000898890197277, 0.11006315052509308, 0.12636637687683105, 0.1108512319624424, 0.09442802518606186, 0.08733383193612099, 0.08475493267178535, 0.083102997392416, 0.08478401228785515, 0.08575025200843811, 0.08610159158706665, 0.08664705231785774, 0.0840197205543518, 0.08269597962498665, 0.0839221403002739, 0.0934094525873661, 0.11981124058365822, 0.11718694865703583, 0.07258467748761177, 0.06754060834646225, 0.0791923999786377, 0.13613786920905113, 0.15707648918032646, 0.07450264692306519, 0.06312062405049801, 0.06108567677438259, 0.059306029230356216, 0.05727501958608627, 0.05653229169547558, 0.05587705038487911, 0.05464154668152332, 0.05361946113407612, 0.054791947826743126, 0.05395771376788616, 0.05451532453298569, 0.0591188445687294, 0.06365245580673218, 0.059865791350603104, 0.05830538086593151, 0.054655879735946655, 0.051458174362778664, 0.050763845443725586, 0.04917200282216072, 0.04888278618454933, 0.04883202910423279, 0.04917616955935955, 0.049706825986504555, 0.05109066516160965, 0.055210089311003685, 0.053364530205726624, 0.051715146750211716, 0.04705136828124523, 0.04503798298537731, 0.04451620578765869, 0.0448308140039444, 0.04426640458405018, 0.04658588953316212, 0.049442727118730545, 0.048361361026763916, 0.04702083021402359, 0.04485098272562027, 0.042699042707681656, 0.038873158395290375], [0.54463583, 0.66169137, 0.6884018, 0.7064771, 0.7170145, 0.72306854, 0.72714144, 0.73081964, 0.7340716, 0.7373394, 0.73978627, 0.741286, 0.74025196, 0.7422252, 0.74449056, 0.74498785, 0.74636126, 0.74924225, 0.7490765, 0.7502605, 0.7540571, 0.75435704, 0.75446755, 0.75932974, 0.75892717, 0.7621081, 0.7643024, 0.7668835, 0.7700565, 0.77036434, 0.7725586, 0.7746898, 0.7772788, 0.7802387, 0.78096485, 0.7839169, 0.78755563, 0.7902472, 0.7872241, 0.7954804, 0.7984798, 0.7981483, 0.8000347, 0.80451804, 0.8059941, 0.8076122, 0.8102485, 0.8152212, 0.8152054, 0.819223, 0.8207385, 0.8239431, 0.8261374, 0.82928675, 0.8308259, 0.8332807, 0.83574337, 0.8403056, 0.84224737, 0.840645, 0.84509677, 0.84911436, 0.8497774, 0.8527689, 0.8531399, 0.85574466, 0.85725224, 0.86262745, 0.8638904, 0.86381143, 0.86325103, 0.8689183, 0.8702444, 0.8740173, 0.87143624, 0.8758248, 0.87812966, 0.8812001, 0.88435733, 0.8844126, 0.87940043, 0.8908692, 0.8939396, 0.89082974, 0.8836864, 0.88027656, 0.88911694, 0.91368043, 0.9228049, 0.91791904, 0.8829839, 0.898052, 0.83198625, 0.9067818, 0.9260964, 0.93541026, 0.9380861, 0.94097495, 0.9382439, 0.9209895, 0.8841916, 0.9002857, 0.9329082, 0.94237995, 0.94252205, 0.9384255, 0.93278974, 0.9322846, 0.9399252, 0.9368863, 0.91155714, 0.93338174, 0.90776056, 0.90973383, 0.9549143, 0.960108, 0.96301264, 0.9645203, 0.96498597, 0.9652701, 0.95748746, 0.9363101, 0.9273277, 0.94374543, 0.94537145, 0.9562719, 0.969635, 0.97087425, 0.96691185, 0.9447321, 0.9290168, 0.96058154, 0.9716004, 0.9734869, 0.97489184, 0.9754207, 0.9734632, 0.9681353, 0.9626654, 0.9545512, 0.9620576, 0.9714741, 0.9744499, 0.97615474, 0.97648627, 0.9748603, 0.97459984, 0.9741736, 0.9737789, 0.97489184, 0.97490764, 0.9742762, 0.97111106, 0.9596423, 0.9640388, 0.98123795, 0.9829429, 0.9756575, 0.9493259, 0.94657123, 0.9797225, 0.98538184, 0.9859423, 0.9858476, 0.986629, 0.98679477, 0.9866211, 0.9873315, 0.9869368, 0.98657376, 0.9870473, 0.98630536, 0.9831481, 0.98145896, 0.9834954, 0.98435575, 0.9857055, 0.98694474, 0.9873315, 0.9877735, 0.98780507, 0.98752093, 0.987513, 0.9869526, 0.98624223, 0.9845057, 0.98610014, 0.9865185, 0.98820764, 0.9885707, 0.98891014, 0.9885628, 0.98842865, 0.987884, 0.9862817, 0.98692894, 0.9880734, 0.98830235, 0.988918, 0.9907413]]\n"
     ]
    },
    {
     "data": {
      "image/png": "[encoded data removed]",
      "text/plain": [
       "<Figure size 1440x288 with 2 Axes>"
      ]
     },
     "metadata": {
      "needs_background": "light"
     },
     "output_type": "display_data"
    }
   ],
   "source": [
    "print(history2.history.keys())\n",
    "coul = [\"blue\", \"lightblue\", \"orange\", \"red\"]\n",
    "\n",
    "fig = plt.figure(figsize=(20,4))\n",
    "_ = plt.subplot(1,2,1)\n",
    "for i in range(0,4,2):\n",
    "    print(i,coul[i], list(history2.history.values()))\n",
    "    #_ = plt.plot(list(history2.history.values())[i],'k-o', color=coul[i])\n",
    "    _ = plt.plot(list(history2.history.values())[0],'k-o', color=coul[i])\n",
    "_ = plt.subplot(1,2,2)\n",
    "for j in range(1,4,2):\n",
    "    _ = plt.plot(list(history2.history.values())[1],'k-o', color=coul[j])"
   ]
  },
  {
   "cell_type": "code",
   "execution_count": 104,
   "metadata": {
    "ExecuteTime": {
     "end_time": "2020-03-11T10:02:50.445397Z",
     "start_time": "2020-03-11T10:02:48.978462Z"
    },
    "slideshow": {
     "slide_type": "skip"
    }
   },
   "outputs": [
    {
     "name": "stdout",
     "output_type": "stream",
     "text": [
      "Test loss: 0.03751916438341141\n",
      "Test accuracy: 0.9905291199684143\n",
      "[0 0 0 0 0 0 0 0 0 0 0 0 0 0 0 0 0 0 0 0 0 0 0 0 0 0 0 0 0 0 0 0 0 0 0 0 0\n",
      " 0 0 0 0 0 0 0 0 0 0 0 0 0 0 0 0 0 0 0 0 0 0 0 0 0 0 0 0 0 0 0 0 0 0 0 1 0\n",
      " 0 0 0 0 0 0 0 0 0 0 0 0 0 0 0 0 0 0 0 0 0 0 0 0 0 0]\n",
      "(7919, 2) <class 'pandas.core.frame.DataFrame'>\n"
     ]
    },
    {
     "data": {
      "image/png": "[encoded data removed]",
      "text/plain": [
       "<Figure size 864x432 with 2 Axes>"
      ]
     },
     "metadata": {
      "needs_background": "light"
     },
     "output_type": "display_data"
    }
   ],
   "source": [
    "# RESULTATS\n",
    "\n",
    "if dim == 2:\n",
    "    score = model2.evaluate(test_data, test_labels, verbose=0, batch_size=batch_size)\n",
    "    classes = model2.predict(test_data, batch_size=batch_size)\n",
    "    predictions = model2.predict(test_data[:10])\n",
    "if dim == 4:\n",
    "    score = model2.evaluate(test_data, test_labels, verbose=0, steps=batch_size)\n",
    "    classes = model2.predict(test_data, steps=batch_size)\n",
    "    predictions = model2.predict(test_data[:100], steps=batch_size)\n",
    "    \n",
    "print('Test loss:', score[0])\n",
    "print('Test accuracy:', score[1])\n",
    "\n",
    "# predictions\n",
    " #predictions = model2.predict_classes(test_data[:10])\n",
    "print(np.argmax(predictions, axis=1))\n",
    "print(test_labels.shape, type(test_labels))\n",
    "\n",
    "######## TypeError: '(slice(None, 100, None), slice(0, 1, None))' is an invalid key\n",
    "#print(test_labels[:100,0:1])\n",
    "\n",
    "# PLOTS\n",
    "fig = plt.figure(figsize=(12,6))\n",
    "_ = plt.subplot(2,1,1)\n",
    "_ = plt.plot(history2.history['accuracy'])\n",
    "if dim == 2:\n",
    "    _ = plt.plot(history2.history['val_accuracy'])\n",
    "_ = plt.title('model accuracy')\n",
    "_ = plt.xlabel('epoch')\n",
    "_ = plt.ylabel('accuracy')\n",
    "_ = plt.legend(['train','test'], loc='lower right')\n",
    "\n",
    "_ = plt.subplot(2,1,2)\n",
    "_ = plt.plot(history2.history['loss'])\n",
    "if dim == 2:\n",
    "    _ = plt.plot(history2.history['val_loss'])\n",
    "_ = plt.title('model loss')\n",
    "_ = plt.xlabel('epoch')\n",
    "_ = plt.ylabel('loss')\n",
    "_ = plt.legend(['train','test'], loc='upper right')\n",
    "\n",
    "_ = plt.tight_layout()\n",
    "_ = fig"
   ]
  },
  {
   "cell_type": "markdown",
   "metadata": {
    "slideshow": {
     "slide_type": "skip"
    }
   },
   "source": [
    "### Matrice de confusion"
   ]
  },
  {
   "cell_type": "code",
   "execution_count": 96,
   "metadata": {
    "ExecuteTime": {
     "end_time": "2020-03-11T09:43:41.044185Z",
     "start_time": "2020-03-11T09:43:40.965915Z"
    },
    "slideshow": {
     "slide_type": "skip"
    }
   },
   "outputs": [
    {
     "name": "stdout",
     "output_type": "stream",
     "text": [
      "(31673, 10, 10, 2) (31673, 2) (31672, 2)\n"
     ]
    },
    {
     "data": {
      "text/html": [
       "<div>\n",
       "<style scoped>\n",
       "    .dataframe tbody tr th:only-of-type {\n",
       "        vertical-align: middle;\n",
       "    }\n",
       "\n",
       "    .dataframe tbody tr th {\n",
       "        vertical-align: top;\n",
       "    }\n",
       "\n",
       "    .dataframe thead th {\n",
       "        text-align: right;\n",
       "    }\n",
       "</style>\n",
       "<table border=\"1\" class=\"dataframe\">\n",
       "  <thead>\n",
       "    <tr style=\"text-align: right;\">\n",
       "      <th></th>\n",
       "      <th>0</th>\n",
       "      <th>1</th>\n",
       "    </tr>\n",
       "  </thead>\n",
       "  <tbody>\n",
       "    <tr>\n",
       "      <th>0</th>\n",
       "      <td>1.0</td>\n",
       "      <td>0.0</td>\n",
       "    </tr>\n",
       "    <tr>\n",
       "      <th>1</th>\n",
       "      <td>1.0</td>\n",
       "      <td>0.0</td>\n",
       "    </tr>\n",
       "    <tr>\n",
       "      <th>2</th>\n",
       "      <td>1.0</td>\n",
       "      <td>0.0</td>\n",
       "    </tr>\n",
       "    <tr>\n",
       "      <th>3</th>\n",
       "      <td>1.0</td>\n",
       "      <td>0.0</td>\n",
       "    </tr>\n",
       "    <tr>\n",
       "      <th>4</th>\n",
       "      <td>1.0</td>\n",
       "      <td>0.0</td>\n",
       "    </tr>\n",
       "    <tr>\n",
       "      <th>...</th>\n",
       "      <td>...</td>\n",
       "      <td>...</td>\n",
       "    </tr>\n",
       "    <tr>\n",
       "      <th>37481</th>\n",
       "      <td>0.0</td>\n",
       "      <td>1.0</td>\n",
       "    </tr>\n",
       "    <tr>\n",
       "      <th>37482</th>\n",
       "      <td>0.0</td>\n",
       "      <td>1.0</td>\n",
       "    </tr>\n",
       "    <tr>\n",
       "      <th>37483</th>\n",
       "      <td>0.0</td>\n",
       "      <td>1.0</td>\n",
       "    </tr>\n",
       "    <tr>\n",
       "      <th>37484</th>\n",
       "      <td>0.0</td>\n",
       "      <td>1.0</td>\n",
       "    </tr>\n",
       "    <tr>\n",
       "      <th>37485</th>\n",
       "      <td>0.0</td>\n",
       "      <td>1.0</td>\n",
       "    </tr>\n",
       "  </tbody>\n",
       "</table>\n",
       "<p>31673 rows × 2 columns</p>\n",
       "</div>"
      ],
      "text/plain": [
       "         0    1\n",
       "0      1.0  0.0\n",
       "1      1.0  0.0\n",
       "2      1.0  0.0\n",
       "3      1.0  0.0\n",
       "4      1.0  0.0\n",
       "...    ...  ...\n",
       "37481  0.0  1.0\n",
       "37482  0.0  1.0\n",
       "37483  0.0  1.0\n",
       "37484  0.0  1.0\n",
       "37485  0.0  1.0\n",
       "\n",
       "[31673 rows x 2 columns]"
      ]
     },
     "execution_count": 96,
     "metadata": {},
     "output_type": "execute_result"
    }
   ],
   "source": [
    "print(data_x0.shape, y0[:].shape, y0[1:].shape)\n",
    "y0[:]"
   ]
  },
  {
   "cell_type": "code",
   "execution_count": 97,
   "metadata": {
    "ExecuteTime": {
     "end_time": "2020-03-11T09:43:59.998926Z",
     "start_time": "2020-03-11T09:43:59.931523Z"
    },
    "slideshow": {
     "slide_type": "skip"
    }
   },
   "outputs": [
    {
     "name": "stdout",
     "output_type": "stream",
     "text": [
      "(7919, 10, 10, 2) (7919, 2)\n"
     ]
    }
   ],
   "source": [
    "print(test_data.shape, test_labels[:].shape)"
   ]
  },
  {
   "cell_type": "code",
   "execution_count": 105,
   "metadata": {
    "ExecuteTime": {
     "end_time": "2020-03-11T10:03:13.063491Z",
     "start_time": "2020-03-11T10:03:10.090424Z"
    },
    "slideshow": {
     "slide_type": "slide"
    }
   },
   "outputs": [
    {
     "name": "stdout",
     "output_type": "stream",
     "text": [
      "start tensor 4D\n",
      "Echantillon Train: (31673, 10, 10, 2) 31673 31673\n",
      "Echantillon Test: 7919 7919\n",
      "(31673,) (31673, 1) (7919,) (7919, 1)\n",
      "SOMME réelle:  8401.0 2129.0\n",
      "SOMME prédite: 8470.0 2191.0\n",
      "Pourcentages:\n",
      "Train: 100.82 %\n",
      "Test: 102.91 %\n"
     ]
    },
    {
     "data": {
      "image/png": "[encoded data removed]",
      "text/plain": [
       "<Figure size 360x360 with 2 Axes>"
      ]
     },
     "metadata": {
      "needs_background": "light"
     },
     "output_type": "display_data"
    }
   ],
   "source": [
    "from sklearn.metrics import confusion_matrix\n",
    "#       pip install scikit-plot\n",
    "import scikitplot as skplt\n",
    "\n",
    "# transforme les matrice en listes d'entiers binaires (0 ou 1)\n",
    "if dim == 2:\n",
    "    print(\"start matrice 2D\")\n",
    "    Y01 = pd.DataFrame(model2.predict(train_data, steps=batch_size)[:,1:])[0].round(0).tolist()\n",
    "    Y11 = pd.DataFrame(model2.predict(test_data, steps=batch_size)[:,1:])[0].round(0).tolist()\n",
    "    Y00 = pd.DataFrame(train_labels[:,1:])[0].tolist()\n",
    "    Y10 = pd.DataFrame(test_labels[:,1:])[0].tolist()\n",
    "    \n",
    "if dim == 4:\n",
    "    print(\"start tensor 4D\")\n",
    "    Y01 = model2.predict(train_data, steps=batch_size)[:].round(0).tolist()\n",
    "    Y11 = model2.predict(test_data, steps=batch_size)[:].round(0).tolist()\n",
    "    Y00 = train_labels[:]\n",
    "    Y10 = test_labels[:]\n",
    "#    Y10 = test_labels[1:].numpy().tolist()\n",
    "\n",
    "print(\"Echantillon Train:\", train_data.shape, len(Y00), len(Y01))\n",
    "#confusion_matrix(Y01, Y00)\n",
    "\n",
    "print(\"Echantillon Test:\", len(Y10), len(Y11))\n",
    "#confusion_matrix(Y11, Y10)\n",
    "if dim == 2:\n",
    "    y_reel = pd.Series(Y10, name='Reel_test')\n",
    "    y_pred = pd.Series(Y11, name='Prédit_test')\n",
    "if dim == 4:\n",
    "#    y_reel = test_labels[1:].numpy()\n",
    "    y_reel0 = train_labels[1]\n",
    "    y_pred0 = model2.predict(train_data, steps=batch_size).round(0)[:,1:]\n",
    "    y_reel = test_labels[1]\n",
    "    y_pred = model2.predict(test_data, steps=batch_size).round(0)[:,1:]\n",
    "\n",
    "if dim == 2:\n",
    "   #df_confusion = pd.crosstab(y_reel, y_pred, rownames=['Reel_test'], colnames=['Predit_test'], margins=True)\n",
    "   print(\"\\n\", df_confusion)\n",
    "\n",
    "print(y_reel0.shape, y_pred0.shape, y_reel.shape, y_pred.shape,)\n",
    "print(\"SOMME réelle: \", y_reel0.sum(), y_reel.sum())\n",
    "print(\"SOMME prédite:\", y_pred0.sum(), y_pred.sum())\n",
    "\n",
    "print(\"Pourcentages:\")\n",
    "print(\"Train:\", round(y_pred0.sum() / y_reel0.sum()* 100, 2),\"%\")\n",
    "print(\"Test:\", round(y_pred.sum() / y_reel.sum()* 100, 2),\"%\")\n",
    "#\n",
    "##################\n",
    "#fig, ax = matplotlib.pyplot.subplots(1)\n",
    "#ax.set_yticks([0, 1])\n",
    "#ax.set_yticklabels([\"0\", \"1\"])\n",
    "##################\n",
    "#scikitplot.metrics.plot_confusion_matrix(\n",
    "#y_true, y_pred, labels=None, true_labels=None, pred_labels=None, \n",
    "#title=None, normalize=False, hide_zeros=False, hide_counts=False, \n",
    "#x_tick_rotation=0, ax=None, figsize=None, cmap='Blues', \n",
    "#title_fontsize='large', text_fontsize='medium')\n",
    "ax = skplt.metrics.plot_confusion_matrix(y_reel, y_pred,\n",
    "            figsize=(5,5), hide_counts=False )\n",
    "\n",
    "ax.set(xlim=(-1, 2), ylim=(2, -1))\n",
    "#ax.set(xlim=(0, 1), ylim=(1,0))\n",
    "#ax.set_yticks([0, 1])\n",
    "#print(\"AXES:\", ax)\n",
    "plt.show()\n",
    "#\n",
    "#df_conf_norm = df_confusion / df_confusion.sum(axis=1)\n",
    "#print(\"\\n\", df_conf_norm)\n",
    "#df_conf_norm = df_confusion.div(df_confusion.sum(axis=1), axis=0)\n",
    "#print(\"\\n\", df_conf_norm)\n",
    "\n",
    "#skplt.metrics.plot_roc(y_test, y_pred)\n",
    "#plt.show()\n",
    "#_ = sns.heatmap(df_confusion, annot=True)\n",
    "#plt.show()\n",
    "#_ = sns.heatmap(df_conf_norm, annot=True)\n",
    "#plt.show()"
   ]
  },
  {
   "cell_type": "code",
   "execution_count": 99,
   "metadata": {
    "ExecuteTime": {
     "end_time": "2020-03-11T09:44:41.314223Z",
     "start_time": "2020-03-11T09:44:41.184830Z"
    },
    "slideshow": {
     "slide_type": "skip"
    }
   },
   "outputs": [
    {
     "name": "stdout",
     "output_type": "stream",
     "text": [
      "(31673,) (31673, 1) (7919,) (7919, 1)\n",
      "SOMME réelle:  8401.0 2129.0\n",
      "SOMME prédite: 3394.0 878.0\n",
      "Pourcentages:\n",
      "Train: 40.4 %\n",
      "Test: 41.24 %\n",
      "\n",
      " Pourcentages:\n",
      "Valeurs: 22678 5601 594 2800\n",
      "Train 0: 97.45 %\n",
      "Train 1:  33.33 %\n",
      "Pourcentages:\n",
      "Valeurs: 5622 1419 168 710\n",
      "Test 0: 97.1 %\n",
      "Test 1:  33.35 %\n"
     ]
    }
   ],
   "source": [
    "#print(y_reel)\n",
    "print(y_reel0.shape, y_pred0.shape, y_reel.shape, y_pred.shape,)\n",
    "print(\"SOMME réelle: \", y_reel0.sum(), y_reel.sum())\n",
    "print(\"SOMME prédite:\", y_pred0.sum(), y_pred.sum())\n",
    "\n",
    "print(\"Pourcentages:\")\n",
    "print(\"Train:\", round(y_pred0.sum() / y_reel0.sum()* 100, 2),\"%\")\n",
    "print(\"Test:\", round(y_pred.sum() / y_reel.sum()* 100, 2),\"%\")\n",
    "\n",
    "df_res0 = pd.DataFrame(y_reel0).reset_index().rename(columns={1: \"reel\"})\n",
    "df_res0['pred'] = pd.DataFrame(y_pred0)\n",
    "df_res0['diff'] = df_res0['pred'] - df_res0['reel']\n",
    "val0_00 = len(df_res0[(df_res0['pred'] == 0) & (df_res0['reel'] == 0)])\n",
    "val0_01 = len(df_res0[(df_res0['pred'] == 0) & (df_res0['reel'] == 1)])\n",
    "val0_10 = len(df_res0[(df_res0['pred'] == 1) & (df_res0['reel'] == 0)])\n",
    "val0_11 = len(df_res0[(df_res0['pred'] == 1) & (df_res0['reel'] == 1)])\n",
    "\n",
    "print(\"\\n Pourcentages:\")\n",
    "print('Valeurs:', val0_00, val0_01, val0_10, val0_11)\n",
    "print(\"Train 0:\", round(val0_00 / (val0_00+val0_10)* 100, 2),\"%\")\n",
    "print(\"Train 1: \", round(val0_11 / (val0_01+val0_11)* 100, 2),\"%\")\n",
    "\n",
    "df_res = pd.DataFrame(y_reel).reset_index().rename(columns={1: \"reel\"})\n",
    "df_res['pred'] = pd.DataFrame(y_pred)\n",
    "df_res['diff'] = df_res['pred'] - df_res['reel']\n",
    "val_00 = len(df_res[(df_res['pred'] == 0) & (df_res['reel'] == 0)])\n",
    "val_01 = len(df_res[(df_res['pred'] == 0) & (df_res['reel'] == 1)])\n",
    "val_10 = len(df_res[(df_res['pred'] == 1) & (df_res['reel'] == 0)])\n",
    "val_11 = len(df_res[(df_res['pred'] == 1) & (df_res['reel'] == 1)])\n",
    "\n",
    "print(\"Pourcentages:\")\n",
    "print('Valeurs:', val_00, val_01, val_10, val_11)\n",
    "print(\"Test 0:\", round(val_00 / (val_00+val_10)* 100, 2),\"%\")\n",
    "print(\"Test 1: \", round(val_11 / (val_01+val_11)* 100, 2),\"%\")"
   ]
  },
  {
   "cell_type": "code",
   "execution_count": null,
   "metadata": {
    "slideshow": {
     "slide_type": "skip"
    }
   },
   "outputs": [],
   "source": []
  },
  {
   "cell_type": "markdown",
   "metadata": {
    "slideshow": {
     "slide_type": "skip"
    }
   },
   "source": [
    "# KERAS hyperparametres"
   ]
  },
  {
   "cell_type": "code",
   "execution_count": 301,
   "metadata": {
    "ExecuteTime": {
     "end_time": "2020-03-02T15:53:14.554788Z",
     "start_time": "2020-03-02T15:53:14.542780Z"
    },
    "slideshow": {
     "slide_type": "skip"
    }
   },
   "outputs": [
    {
     "ename": "SyntaxError",
     "evalue": "invalid syntax (<ipython-input-301-ded477e1019e>, line 19)",
     "output_type": "error",
     "traceback": [
      "\u001b[1;36m  File \u001b[1;32m\"<ipython-input-301-ded477e1019e>\"\u001b[1;36m, line \u001b[1;32m19\u001b[0m\n\u001b[1;33m    dataset =\u001b[0m\n\u001b[1;37m              ^\u001b[0m\n\u001b[1;31mSyntaxError\u001b[0m\u001b[1;31m:\u001b[0m invalid syntax\n"
     ]
    }
   ],
   "source": [
    "from sklearn.model_selection import GridSearchCV\n",
    "\n",
    "from keras.wrappers.scikit_learn import KerasClassifier, KerasRegressor\n",
    "\n",
    "def create_model(neurons=1, optimizer='adam', dropout_rate=0.0, learn_rate=0.01, momentum=0, \n",
    "                 init_mode='uniform', activation='relu', dropout_rate=0.0, weight_constraint=0):\n",
    "    # create model\n",
    "    model = Sequential()\n",
    "    model.add(Dense(neurons, kernel_initializer=init_mode, input_dim=8, activation=activation)'))\n",
    "    model.add(Dropout(dropout_rate))\n",
    "    model.add(Dense(1, kernel_initializer=init_mode, activation='sigmoid'))\n",
    "    # Compile model\n",
    "    optimizer = SGD(lr=learn_rate, momentum=momentum)\n",
    "    model.compile(loss='binary_crossentropy', optimizer=optimizer, metrics=['accuracy'])\n",
    "    return model\n",
    "\n",
    "# fix random seed for reproducibility\n",
    "seed = 42\n",
    "numpy.random.seed(seed)\n",
    "# load dataset\n",
    "\n",
    "dataset = \n",
    "# split into input (X) and output (Y) variables\n",
    "X = dataset\n",
    "Y = dataset\n",
    "\n",
    "# create model\n",
    "model = KerasClassifier(build_fn=create_model, epochs=100, batch_size=10, dropout_rate=0.2, verbose=0)\n",
    "\n",
    "              \n",
    "# define the grid search parameters\n",
    "learn_rate = [0.001, 0.01, 0.1, 0.2, 0.3]\n",
    "momentum = [0.0, 0.2, 0.4, 0.6, 0.8, 0.9]\n",
    "batch_size = [10, 20, 40, 60, 80, 100]\n",
    "epochs = [10, 50, 100]\n",
    "optimizer = ['SGD', 'RMSprop', 'Adagrad', 'Adadelta', 'Adam', 'Adamax', 'Nadam']\n",
    "init_mode = ['uniform', 'lecun_uniform', 'normal', 'zero', 'glorot_normal', 'glorot_uniform', 'he_normal', 'he_uniform']\n",
    "activation = ['softmax', 'softplus', 'softsign', 'relu', 'tanh', 'sigmoid', 'hard_sigmoid', 'linear']\n",
    "weight_constraint = [i for i in range (1, 6, 1)]\n",
    "dropout_rate = [i/10 for i in range (0, 10, 1)]\n",
    "neurons = [1, 5, 10, 15, 20, 25, 30]\n",
    "\n",
    "param_grid = dict(neurons=neurons, learn_rate=learn_rate, momentum=momentum, optimizer=optimizer, \n",
    "                init_mode=init_mode, batch_size=batch_size, epochs=epochs, activation=activation,\n",
    "                dropout_rate=dropout_rate, weight_constraint=weight_constraint)\n",
    "#  score = ???\n",
    "grid = GridSearchCV(estimator=model, param_grid=param_grid, n_jobs=-1, cv=5)   # n_jobs=-1  parallisation\n",
    "grid_result = grid.fit(X, Y)\n",
    "\n",
    "# summarize results ==>  best_score et best_params_\n",
    "print(\"Best: %f using %s\" % (grid_result.best_score_, grid_result.best_params_))\n",
    "means = grid_result.cv_results_['mean_test_score']\n",
    "stds = grid_result.cv_results_['std_test_score']\n",
    "params = grid_result.cv_results_['params']\n",
    "for mean, stdev, param in zip(means, stds, params):\n",
    "    print(\"%f (%f) with: %r\" % (mean, stdev, param))"
   ]
  },
  {
   "cell_type": "code",
   "execution_count": null,
   "metadata": {
    "slideshow": {
     "slide_type": "skip"
    }
   },
   "outputs": [],
   "source": []
  },
  {
   "cell_type": "code",
   "execution_count": null,
   "metadata": {
    "slideshow": {
     "slide_type": "skip"
    }
   },
   "outputs": [],
   "source": []
  },
  {
   "cell_type": "code",
   "execution_count": null,
   "metadata": {
    "slideshow": {
     "slide_type": "skip"
    }
   },
   "outputs": [],
   "source": []
  }
 ],
 "metadata": {
  "anaconda-cloud": {},
  "celltoolbar": "Diaporama",
  "kernelspec": {
   "display_name": "Python 3",
   "language": "python",
   "name": "python3"
  },
  "language_info": {
   "codemirror_mode": {
    "name": "ipython",
    "version": 3
   },
   "file_extension": ".py",
   "mimetype": "text/x-python",
   "name": "python",
   "nbconvert_exporter": "python",
   "pygments_lexer": "ipython3",
   "version": "3.7.6"
  },
  "toc": {
   "base_numbering": 1,
   "nav_menu": {},
   "number_sections": true,
   "sideBar": true,
   "skip_h1_title": false,
   "title_cell": "Table of Contents",
   "title_sidebar": "Contents",
   "toc_cell": false,
   "toc_position": {
    "height": "calc(100% - 180px)",
    "left": "10px",
    "top": "150px",
    "width": "265.547px"
   },
   "toc_section_display": true,
   "toc_window_display": true
  },
  "varInspector": {
   "cols": {
    "lenName": 16,
    "lenType": 16,
    "lenVar": 40
   },
   "kernels_config": {
    "python": {
     "delete_cmd_postfix": "",
     "delete_cmd_prefix": "del ",
     "library": "var_list.py",
     "varRefreshCmd": "print(var_dic_list())"
    },
    "r": {
     "delete_cmd_postfix": ") ",
     "delete_cmd_prefix": "rm(",
     "library": "var_list.r",
     "varRefreshCmd": "cat(var_dic_list()) "
    }
   },
   "position": {
    "height": "543px",
    "left": "978px",
    "right": "20px",
    "top": "112px",
    "width": "479px"
   },
   "types_to_exclude": [
    "module",
    "function",
    "builtin_function_or_method",
    "instance",
    "_Feature"
   ],
   "window_display": false
  }
 },
 "nbformat": 4,
 "nbformat_minor": 2
}
