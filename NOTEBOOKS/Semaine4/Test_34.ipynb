{
 "cells": [
  {
   "cell_type": "markdown",
   "metadata": {
    "slideshow": {
     "slide_type": "slide"
    }
   },
   "source": [
    "# PREPARATION"
   ]
  },
  {
   "cell_type": "markdown",
   "metadata": {
    "cell_style": "split"
   },
   "source": [
    "## import librairies"
   ]
  },
  {
   "cell_type": "code",
   "execution_count": 3,
   "metadata": {
    "ExecuteTime": {
     "end_time": "2020-03-12T13:24:27.056435Z",
     "start_time": "2020-03-12T13:24:26.225173Z"
    },
    "slideshow": {
     "slide_type": "skip"
    }
   },
   "outputs": [
    {
     "name": "stdout",
     "output_type": "stream",
     "text": [
      "Panda version: 1.0.1\n",
      "Numpy version: 1.18.1\n",
      "SCIKIT LEARN version: 0.22.1\n",
      "SCIKIT PLOT version: 0.3.7\n",
      "posix \n",
      " Darwin \n",
      " 18.7.0\n",
      "MATPLOTLIB version: 3.1.3\n",
      "Seaborn version: 0.10.0\n"
     ]
    }
   ],
   "source": [
    "%load_ext autoreload\n",
    "%autoreload 2\n",
    "\n",
    "# Indispensables\n",
    "import pandas as pd\n",
    "import numpy as np\n",
    "#import math\n",
    "print('Panda version: %s' % pd.__version__)\n",
    "print('Numpy version: %s' % np.__version__)\n",
    "\n",
    "import sklearn\n",
    "print('SCIKIT LEARN version: %s' % sklearn.__version__)\n",
    "# pip install scikit-plot\n",
    "import scikitplot as skplt\n",
    "print('SCIKIT PLOT version: %s' % skplt.__version__)\n",
    "\n",
    "\n",
    "# general\n",
    "import os\n",
    "from os import listdir\n",
    "#from os.path import isfile, join\n",
    "#from os import walk\n",
    "import sys\n",
    "import io\n",
    "import glob\n",
    "import platform\n",
    "#\n",
    "print(os.name, \"\\n\", platform.system(), \"\\n\", platform.release())\n",
    "#\n",
    "import argparse\n",
    "#from datetime import datetime\n",
    "#import h5py\n",
    "#import importlib\n",
    "\n",
    "# VISU\n",
    "import seaborn as sns\n",
    "import matplotlib\n",
    "import matplotlib.pyplot as plt\n",
    "#import matplotlib.colors as mcolors\n",
    "#from matplotlib.colors import LogNorm\n",
    "\n",
    "# IMAGES\n",
    "#from IPython.display import Image, IFrame\n",
    "#from PIL import Image\n",
    "#import rasterio\n",
    "import imageio\n",
    "\n",
    "import colorsys\n",
    "\n",
    "print('MATPLOTLIB version: %s' % matplotlib.__version__)\n",
    "print('Seaborn version: %s' % sns.__version__)\n",
    "#print('Geo Panda version: %s' % gpd.__version__)\n",
    "\n",
    "%matplotlib inline\n"
   ]
  },
  {
   "cell_type": "code",
   "execution_count": 72,
   "metadata": {
    "ExecuteTime": {
     "end_time": "2020-03-12T15:15:36.565389Z",
     "start_time": "2020-03-12T15:15:36.428684Z"
    }
   },
   "outputs": [
    {
     "ename": "ImportError",
     "evalue": "dlopen(/Users/pierreleisy/Data_Science/anaconda3/envs/geo_env/lib/python3.7/site-packages/pcl/_pcl.cpython-37m-darwin.so, 2): Library not loaded: /usr/local/opt/pcl/lib/libpcl_keypoints.1.9.dylib\n  Referenced from: /Users/pierreleisy/Data_Science/anaconda3/envs/geo_env/lib/python3.7/site-packages/pcl/_pcl.cpython-37m-darwin.so\n  Reason: image not found",
     "output_type": "error",
     "traceback": [
      "\u001b[0;31m---------------------------------------------------------------------------\u001b[0m",
      "\u001b[0;31mImportError\u001b[0m                               Traceback (most recent call last)",
      "\u001b[0;32m<ipython-input-72-e4537ad5829b>\u001b[0m in \u001b[0;36m<module>\u001b[0;34m\u001b[0m\n\u001b[1;32m      1\u001b[0m \u001b[0;32mimport\u001b[0m \u001b[0mlaspy\u001b[0m\u001b[0;34m\u001b[0m\u001b[0;34m\u001b[0m\u001b[0m\n\u001b[0;32m----> 2\u001b[0;31m \u001b[0;32mimport\u001b[0m \u001b[0mpcl\u001b[0m\u001b[0;34m\u001b[0m\u001b[0;34m\u001b[0m\u001b[0m\n\u001b[0m\u001b[1;32m      3\u001b[0m \u001b[0;34m\u001b[0m\u001b[0m\n\u001b[1;32m      4\u001b[0m \u001b[0;31m#print('PCL version: %s' % pcl.__version__)\u001b[0m\u001b[0;34m\u001b[0m\u001b[0;34m\u001b[0m\u001b[0;34m\u001b[0m\u001b[0m\n\u001b[1;32m      5\u001b[0m \u001b[0mprint\u001b[0m\u001b[0;34m(\u001b[0m\u001b[0;34m'LASPY version: %s'\u001b[0m \u001b[0;34m%\u001b[0m \u001b[0mlaspy\u001b[0m\u001b[0;34m.\u001b[0m\u001b[0m__version__\u001b[0m\u001b[0;34m)\u001b[0m\u001b[0;34m\u001b[0m\u001b[0;34m\u001b[0m\u001b[0m\n",
      "\u001b[0;32m~/Data_Science/anaconda3/envs/geo_env/lib/python3.7/site-packages/pcl/__init__.py\u001b[0m in \u001b[0;36m<module>\u001b[0;34m\u001b[0m\n\u001b[1;32m      1\u001b[0m \u001b[0;31m# XXX do a more specific import!\u001b[0m\u001b[0;34m\u001b[0m\u001b[0;34m\u001b[0m\u001b[0;34m\u001b[0m\u001b[0m\n\u001b[0;32m----> 2\u001b[0;31m \u001b[0;32mfrom\u001b[0m \u001b[0;34m.\u001b[0m\u001b[0m_pcl\u001b[0m \u001b[0;32mimport\u001b[0m \u001b[0;34m*\u001b[0m\u001b[0;34m\u001b[0m\u001b[0;34m\u001b[0m\u001b[0m\n\u001b[0m\u001b[1;32m      3\u001b[0m \u001b[0;31m# from .pcl_visualization import *\u001b[0m\u001b[0;34m\u001b[0m\u001b[0;34m\u001b[0m\u001b[0;34m\u001b[0m\u001b[0m\n\u001b[1;32m      4\u001b[0m \u001b[0;31m# from .pcl_grabber import *\u001b[0m\u001b[0;34m\u001b[0m\u001b[0;34m\u001b[0m\u001b[0;34m\u001b[0m\u001b[0m\n\u001b[1;32m      5\u001b[0m \u001b[0;34m\u001b[0m\u001b[0m\n",
      "\u001b[0;31mImportError\u001b[0m: dlopen(/Users/pierreleisy/Data_Science/anaconda3/envs/geo_env/lib/python3.7/site-packages/pcl/_pcl.cpython-37m-darwin.so, 2): Library not loaded: /usr/local/opt/pcl/lib/libpcl_keypoints.1.9.dylib\n  Referenced from: /Users/pierreleisy/Data_Science/anaconda3/envs/geo_env/lib/python3.7/site-packages/pcl/_pcl.cpython-37m-darwin.so\n  Reason: image not found"
     ]
    }
   ],
   "source": [
    "import laspy\n",
    "import pcl\n",
    "\n",
    "#print('PCL version: %s' % pcl.__version__)\n",
    "print('LASPY version: %s' % laspy.__version__)\n"
   ]
  },
  {
   "cell_type": "code",
   "execution_count": null,
   "metadata": {
    "ExecuteTime": {
     "end_time": "2020-03-12T14:56:17.975434Z",
     "start_time": "2020-03-12T14:56:08.266Z"
    },
    "slideshow": {
     "slide_type": "subslide"
    }
   },
   "outputs": [],
   "source": [
    "from __future__ import print_function\n",
    "\n",
    "# Machine Lerning\n",
    "import tensorflow as tf\n",
    "import keras\n",
    "\n",
    "from keras.models import Sequential\n",
    "from keras.layers import Dense, Dropout, Flatten, Activation     #LSTM\n",
    "from keras.layers import Conv1D, Conv2D, MaxPooling1D, MaxPooling2D\n",
    "from keras import backend as K\n",
    "from keras.callbacks import History\n",
    "\n",
    "from keras.optimizers import SGD\n",
    "from keras.regularizers import l2\n",
    "\n",
    "print('TensorFlow: %s' % tf.__version__)\n",
    "print('Keras: %s' % keras.__version__)"
   ]
  },
  {
   "cell_type": "markdown",
   "metadata": {
    "slideshow": {
     "slide_type": "skip"
    }
   },
   "source": [
    "## Déclaration des directories et variables"
   ]
  },
  {
   "cell_type": "code",
   "execution_count": 220,
   "metadata": {
    "ExecuteTime": {
     "end_time": "2020-03-13T15:06:10.182823Z",
     "start_time": "2020-03-13T15:06:10.101286Z"
    },
    "slideshow": {
     "slide_type": "skip"
    }
   },
   "outputs": [
    {
     "name": "stdout",
     "output_type": "stream",
     "text": [
      "Working directory: /Users/pierreleisy/C-PYTHON/training-Python/NOTEBOOK\n",
      "Data ROOT directory: /Users/pierreleisy/Data_Science/NOTEBOOK/STAGE/DATA1/\n"
     ]
    },
    {
     "data": {
      "text/plain": [
       "['/Users/pierreleisy/C-PYTHON/training-Python/NOTEBOOK',\n",
       " '/Users/pierreleisy/Data_Science/anaconda3/envs/geo_env/lib/python37.zip',\n",
       " '/Users/pierreleisy/Data_Science/anaconda3/envs/geo_env/lib/python3.7',\n",
       " '/Users/pierreleisy/Data_Science/anaconda3/envs/geo_env/lib/python3.7/lib-dynload',\n",
       " '',\n",
       " '/Users/pierreleisy/.local/lib/python3.7/site-packages',\n",
       " '/Users/pierreleisy/Data_Science/anaconda3/envs/geo_env/lib/python3.7/site-packages',\n",
       " '/Users/pierreleisy/Data_Science/anaconda3/envs/geo_env/lib/python3.7/site-packages/IPython/extensions',\n",
       " '/Users/pierreleisy/.ipython',\n",
       " '/Users/pierreleisy/Data_Science/NOTEBOOK/STAGE/DATA1/',\n",
       " '/Users/pierreleisy/Data_Science/NOTEBOOK/STAGE/DATA1/DallesNumPoints5m\\\\',\n",
       " '/Users/pierreleisy/Data_Science/NOTEBOOK/STAGE/DATA1/',\n",
       " '/Users/pierreleisy/Data_Science/NOTEBOOK/STAGE/DATA1/DallesNumPoints5m\\\\',\n",
       " '/Users/pierreleisy/Data_Science/NOTEBOOK/STAGE/DATA1/',\n",
       " '/Users/pierreleisy/Data_Science/NOTEBOOK/STAGE/DATA1/DallesNumPoints5m\\\\']"
      ]
     },
     "execution_count": 220,
     "metadata": {},
     "output_type": "execute_result"
    }
   ],
   "source": [
    "BASE_DIR = os.getcwd()\n",
    "\n",
    "separe = \"/\"\n",
    "# Laptop\n",
    "if platform.system() == 'Darwin' and platform.release() == '18.7.0':\n",
    "    DATA_DIR  = \"/Users/pierreleisy/Data_Science/NOTEBOOK/STAGE/DATA1/\"\n",
    "    DATA_DIR2 = \"/Users/pierreleisy/Data_Science/NOTEBOOK/STAGE/DATA2/\"\n",
    "    DATA_DIR3 = \"/Users/pierreleisy/Data_Science/NOTEBOOK/STAGE/DATA3/\"\n",
    "    DATA_DIR9 = \"/Users/pierreleisy/Data_Science/NOTEBOOK/STAGE/\"\n",
    "# sur IMAC\n",
    "else:   #if platform.system() == 'Darwin' and platform.release() == '18.0.0':\n",
    "    DATA_DIR  = \"/Users/pl/Desktop/DATA_SCIENCE/NOTEBOOK/EMS/DATA1/\"\n",
    "    DATA_DIR2 = \"/Users/pl/Desktop/DATA_SCIENCE/NOTEBOOK/EMS/DATA2/\"\n",
    "    DATA_DIR9 = \"/Users/pl/Desktop/DATA_SCIENCE/NOTEBOOK/EMS/\"\n",
    "## Eurométropole\n",
    "if platform.system() == 'Windows':\n",
    "    DATA_DIR  = \"S:\\\\Commun\\\\SIG3D\\\\2020\\\\PROJETS_2020\\\\20039_MachineLearning\\\\DATA\\\\\"\n",
    "    DATA_DIR2 = \"S:\\\\Commun\\\\SIG3D\\\\2020\\\\PROJETS_2020\\\\20039_MachineLearning\\\\DATA2\\\\\"\n",
    "    DATA_DIR9 = \"C:\\\\Users\\\\STG3841\\\\Mes Documents (local)\\\\travail\\\\\"\n",
    "    separe = \"\\\\\"   \n",
    "    \n",
    "DALLE_NUM  = DATA_DIR  + \"DallesNumPoints5m\" + separe\n",
    "DALLE_ECA  = DATA_DIR  + \"DallesEcartZ5m\" + separe\n",
    "DALLE_POS  = DATA_DIR  + \"DallesPosition5m\" + separe\n",
    "DALLE_NUM2 = DATA_DIR2 + \"DallesNumPoints5m\" + separe\n",
    "DALLE_ECA2 = DATA_DIR2 + \"DallesEcartZ5m\" + separe\n",
    "DALLE_POS2 = DATA_DIR2 + \"DallesPosition5m\" + separe\n",
    "DALLE_NUM3 = DATA_DIR3 + \"DallesNumPoints5m\" + separe\n",
    "DALLE_ECA3 = DATA_DIR3 + \"DallesEcartZ5m\" + separe\n",
    "DALLE_POS3 = DATA_DIR3 + \"DallesPosition5m\" + separe\n",
    "print(\"Working directory:\",BASE_DIR)\n",
    "print(\"Data ROOT directory:\",DATA_DIR)\n",
    "\n",
    "sys.path.append(DATA_DIR)\n",
    "sys.path.append(os.path.join(DATA_DIR,'DallesNumPoints5m\\\\'))\n",
    "sys.path"
   ]
  },
  {
   "cell_type": "markdown",
   "metadata": {
    "slideshow": {
     "slide_type": "skip"
    }
   },
   "source": [
    "## création des listes d'images"
   ]
  },
  {
   "cell_type": "code",
   "execution_count": 221,
   "metadata": {
    "ExecuteTime": {
     "end_time": "2020-03-13T15:06:48.537200Z",
     "start_time": "2020-03-13T15:06:46.228237Z"
    },
    "slideshow": {
     "slide_type": "skip"
    }
   },
   "outputs": [
    {
     "name": "stdout",
     "output_type": "stream",
     "text": [
      "58775 29384 29384 29384\n",
      "58775 352 352 352\n",
      "58775 1056 1056 1056\n",
      "58775 58778 58768\n"
     ]
    }
   ],
   "source": [
    "#liste1 = [f for f in listdir(DALLE_NUM) if isfile(join(DALLE_NUM, f))]\n",
    "liste_11 = [f for f in glob.glob(DALLE_NUM  + separe + \"*.tif\", recursive=True)]#   #only first N for test\n",
    "liste_12 = [f for f in glob.glob(DALLE_ECA  + separe + \"*.tif\", recursive=True)]#\n",
    "liste_13 = [f for f in glob.glob(DALLE_POS  + separe + \"*.tif\", recursive=True)]#\n",
    "liste_21 = [f for f in glob.glob(DALLE_NUM2 + separe + \"*.tif\", recursive=True)]#   #only first N for test\n",
    "liste_22 = [f for f in glob.glob(DALLE_ECA2 + separe + \"*.tif\", recursive=True)]#\n",
    "liste_23 = [f for f in glob.glob(DALLE_POS2 + separe + \"*.tif\", recursive=True)]#\n",
    "liste_31 = [f for f in glob.glob(DALLE_NUM3 + separe + \"*.tif\", recursive=True)]#   #only first N for test\n",
    "liste_32 = [f for f in glob.glob(DALLE_ECA3 + separe + \"*.tif\", recursive=True)]#\n",
    "liste_33 = [f for f in glob.glob(DALLE_POS3 + separe + \"*.tif\", recursive=True)]#\n",
    "print(len(listdir(DALLE_NUM)), len(liste_11), len(liste_12), len(liste_13))\n",
    "print(len(listdir(DALLE_NUM)), len(liste_21), len(liste_22), len(liste_23))\n",
    "print(len(listdir(DALLE_NUM)), len(liste_31), len(liste_32), len(liste_33))\n",
    "\n",
    "liste_NUM = os.listdir(DALLE_NUM)\n",
    "liste_ECA = os.listdir(DALLE_ECA)\n",
    "liste_POS = os.listdir(DALLE_POS)\n",
    "print(len(liste_NUM), len(liste_ECA), len(liste_POS))"
   ]
  },
  {
   "cell_type": "code",
   "execution_count": null,
   "metadata": {},
   "outputs": [],
   "source": []
  },
  {
   "cell_type": "markdown",
   "metadata": {
    "slideshow": {
     "slide_type": "skip"
    }
   },
   "source": [
    "# DONNEES"
   ]
  },
  {
   "cell_type": "markdown",
   "metadata": {},
   "source": [
    "## LASPY ou autre librairies NUAGES de POINTS"
   ]
  },
  {
   "cell_type": "raw",
   "metadata": {},
   "source": [
    "https://towardsdatascience.com/point-cloud-data-simple-approach-f3855fdc08f5\n",
    "\n",
    "### enormous amount of RAM for the storage of really sparse data\n",
    "5030868^3 =  1,27 10e20"
   ]
  },
  {
   "cell_type": "code",
   "execution_count": 7,
   "metadata": {
    "ExecuteTime": {
     "end_time": "2020-03-12T13:24:53.907193Z",
     "start_time": "2020-03-12T13:24:53.529638Z"
    }
   },
   "outputs": [
    {
     "data": {
      "text/plain": [
       "(5030868, 3)"
      ]
     },
     "execution_count": 7,
     "metadata": {},
     "output_type": "execute_result"
    }
   ],
   "source": [
    "import laspy\n",
    "\n",
    "# Open a file in read mode:\n",
    "inFile = laspy.file.File(DATA_DIR9 + \"2043000_7272500_Lidar_15-16.las\")\n",
    "# Grab a numpy dataset of our clustering dimensions:\n",
    "dataset = np.vstack([inFile.x, inFile.y, inFile.z]).transpose()\n",
    "dataset.shape"
   ]
  },
  {
   "cell_type": "code",
   "execution_count": 150,
   "metadata": {
    "ExecuteTime": {
     "end_time": "2020-03-12T13:01:38.586033Z",
     "start_time": "2020-03-12T12:58:22.137797Z"
    }
   },
   "outputs": [
    {
     "name": "stdout",
     "output_type": "stream",
     "text": [
      "zfiltered = 3.0390000000000015\n",
      "dataset_Z_filtered shape (8115, 3)\n",
      "CPU times: user 3min 9s, sys: 3.63 s, total: 3min 13s\n",
      "Wall time: 3min 16s\n"
     ]
    }
   ],
   "source": [
    "%%time\n",
    "def frange(start, stop, step):\n",
    "    i = start\n",
    "    while i < stop:\n",
    "        yield i\n",
    "        i += step\n",
    "        \n",
    "#ground points grid filter\n",
    "n = 100 #grid step\n",
    "\n",
    "dataset_Z_filtered = dataset[[0]]\n",
    "\n",
    "zfiltered = (dataset[:, 2].max() - dataset[:, 2].min())/10 \n",
    "\n",
    "#setting height filtered from ground\n",
    "print('zfiltered =', zfiltered)\n",
    "xstep = (dataset[:, 0].max() - dataset[:, 0].min())/n\n",
    "ystep = (dataset[:, 1].max() - dataset[:, 1].min())/n\n",
    "\n",
    "for x in frange (dataset[:, 0].min(), dataset[:, 0].max(), xstep):\n",
    "    for y in frange (dataset[:, 1].min(), dataset[:, 1].max(), ystep):\n",
    "        datasetfiltered = dataset[(dataset[:,0] > x)\n",
    "                             &(dataset[:, 0] < x+xstep)\n",
    "                             &(dataset[:, 1] > y)\n",
    "                             &(dataset[:, 1] < y+ystep)]\n",
    "    if datasetfiltered.shape[0] > 0:\n",
    "        datasetfiltered = datasetfiltered[datasetfiltered[:, 2]\n",
    "                        >(datasetfiltered[:, 2].min()+ zfiltered)]\n",
    "        if datasetfiltered.shape[0] > 0:\n",
    "            dataset_Z_filtered = np.concatenate((dataset_Z_filtered,\n",
    "                                             datasetfiltered))\n",
    "print('dataset_Z_filtered shape', dataset_Z_filtered.shape)"
   ]
  },
  {
   "cell_type": "code",
   "execution_count": 157,
   "metadata": {
    "ExecuteTime": {
     "end_time": "2020-03-12T13:13:04.707408Z",
     "start_time": "2020-03-12T13:13:04.641995Z"
    }
   },
   "outputs": [
    {
     "name": "stdout",
     "output_type": "stream",
     "text": [
      "Examining Point Format: \n",
      "X\n",
      "Y\n",
      "Z\n",
      "intensity\n",
      "flag_byte\n",
      "raw_classification\n",
      "scan_angle_rank\n",
      "user_data\n",
      "pt_src_id\n",
      "gps_time\n",
      "red\n",
      "green\n",
      "blue\n"
     ]
    }
   ],
   "source": [
    "print(\"Examining Point Format: \")\n",
    "pointformat = inFile.point_format\n",
    "for spec in inFile.point_format:\n",
    "    print(spec.name)"
   ]
  },
  {
   "cell_type": "raw",
   "metadata": {},
   "source": [
    "During my experiments\n",
    "I try to use the 4D representation of data (X, Y, Z and intensity) but the results \n",
    "do not improve over 3D (X, Y, Z) so let’s stick to the latter subset of data"
   ]
  },
  {
   "cell_type": "code",
   "execution_count": 153,
   "metadata": {
    "ExecuteTime": {
     "end_time": "2020-03-12T13:05:12.105209Z",
     "start_time": "2020-03-12T13:05:11.991739Z"
    }
   },
   "outputs": [
    {
     "name": "stdout",
     "output_type": "stream",
     "text": [
      "Z range = 30.390000000000015\n",
      "Z max   = 173.93 Z min = 143.54\n",
      "Y range = 499.9900000002235\n",
      "Y max   = 7272999.99 Y min = 7272500.0\n",
      "X range = 499.9899999999907\n",
      "X max   = 2043499.99 X min = 2043000.0\n"
     ]
    }
   ],
   "source": [
    "print('Z range =', dataset[:, 2].max() - dataset[:, 2].min())\n",
    "print('Z max   =', dataset[:, 2].max(), 'Z min =', dataset[:, 2].min())\n",
    "print('Y range =', dataset[:, 1].max() - dataset[:, 1].min())\n",
    "print('Y max   =', dataset[:, 1].max(), 'Y min =', dataset[:, 1].min())\n",
    "print('X range =', dataset[:, 0].max() - dataset[:, 0].min())\n",
    "print('X max   =', dataset[:, 0].max(), 'X min =', dataset[:, 0].min())"
   ]
  },
  {
   "cell_type": "code",
   "execution_count": 1,
   "metadata": {
    "ExecuteTime": {
     "end_time": "2020-03-12T13:19:50.574567Z",
     "start_time": "2020-03-12T13:19:48.470125Z"
    }
   },
   "outputs": [
    {
     "ename": "NameError",
     "evalue": "name 'dataset' is not defined",
     "output_type": "error",
     "traceback": [
      "\u001b[0;31m---------------------------------------------------------------------------\u001b[0m",
      "\u001b[0;31mNameError\u001b[0m                                 Traceback (most recent call last)",
      "\u001b[0;32m<ipython-input-1-87e7e9818d91>\u001b[0m in \u001b[0;36m<module>\u001b[0;34m\u001b[0m\n\u001b[1;32m      5\u001b[0m \u001b[0;32mfrom\u001b[0m \u001b[0mmatplotlib\u001b[0m \u001b[0;32mimport\u001b[0m \u001b[0mpath\u001b[0m\u001b[0;34m\u001b[0m\u001b[0;34m\u001b[0m\u001b[0m\n\u001b[1;32m      6\u001b[0m \u001b[0;34m\u001b[0m\u001b[0m\n\u001b[0;32m----> 7\u001b[0;31m \u001b[0mdataset\u001b[0m \u001b[0;34m=\u001b[0m \u001b[0mpreprocessing\u001b[0m\u001b[0;34m.\u001b[0m\u001b[0mnormalize\u001b[0m\u001b[0;34m(\u001b[0m\u001b[0mdataset\u001b[0m\u001b[0;34m)\u001b[0m\u001b[0;34m\u001b[0m\u001b[0;34m\u001b[0m\u001b[0m\n\u001b[0m\u001b[1;32m      8\u001b[0m \u001b[0mdataset_Z_filtered\u001b[0m \u001b[0;34m=\u001b[0m \u001b[0mpreprocessing\u001b[0m\u001b[0;34m.\u001b[0m\u001b[0mnormalize\u001b[0m\u001b[0;34m(\u001b[0m\u001b[0mdataset_Z_filtered\u001b[0m\u001b[0;34m)\u001b[0m\u001b[0;34m\u001b[0m\u001b[0;34m\u001b[0m\u001b[0m\n",
      "\u001b[0;31mNameError\u001b[0m: name 'dataset' is not defined"
     ]
    }
   ],
   "source": [
    "from sklearn.cluster import DBSCAN\n",
    "from sklearn import metrics\n",
    "from sklearn import preprocessing\n",
    "from mpl_toolkits.mplot3d import Axes3D\n",
    "from matplotlib import path\n",
    "\n",
    "dataset = preprocessing.normalize(dataset)\n",
    "dataset_Z_filtered = preprocessing.normalize(dataset_Z_filtered)"
   ]
  },
  {
   "cell_type": "code",
   "execution_count": null,
   "metadata": {
    "ExecuteTime": {
     "start_time": "2020-03-12T13:16:14.919Z"
    }
   },
   "outputs": [],
   "source": [
    "clustering = DBSCAN(eps=2, min_samples=5, leaf_size=30).fit(dataset)\n",
    "#clustering = DBSCAN(eps=2, min_samples=5, leaf_size=30).fit(dataset_Z_filtered)\n"
   ]
  },
  {
   "cell_type": "code",
   "execution_count": 161,
   "metadata": {
    "ExecuteTime": {
     "end_time": "2020-03-12T13:15:54.722986Z",
     "start_time": "2020-03-12T13:15:54.648388Z"
    }
   },
   "outputs": [
    {
     "name": "stdout",
     "output_type": "stream",
     "text": [
      "Estimated number of clusters: 1\n",
      "Estimated number of noise points: 0\n"
     ]
    }
   ],
   "source": [
    "core_samples_mask = np.zeros_like(clustering.labels_, dtype=bool)\n",
    "core_samples_mask[clustering.core_sample_indices_] = True\n",
    "labels = clustering.labels_\n",
    "# Number of clusters in labels, ignoring noise if present.\n",
    "n_clusters_ = len(set(labels)) - (1 if -1 in labels else 0)\n",
    "n_noise_ = list(labels).count(-1)\n",
    "print('Estimated number of clusters: %d' % n_clusters_)\n",
    "print('Estimated number of noise points: %d' % n_noise_)"
   ]
  },
  {
   "cell_type": "code",
   "execution_count": null,
   "metadata": {},
   "outputs": [],
   "source": []
  },
  {
   "cell_type": "code",
   "execution_count": null,
   "metadata": {},
   "outputs": [],
   "source": [
    "# Black removed and is used for noise instead.\n",
    "fig = plt.figure(figsize=[100, 50])\n",
    "ax = fig.add_subplot(111, projection=’3d’)\n",
    "\n",
    "unique_labels = set(labels)\n",
    "colors = [plt.cm.Spectral(each)\n",
    "\n",
    "for each in np.linspace(0, 1, len(unique_labels))]\n",
    "    for k, col in zip(unique_labels, colors):\n",
    "        if k == -1:\n",
    "    # Black used for noise.\n",
    "            col = [0, 0, 0, 1]\n",
    "            class_member_mask = (labels == k)\n",
    "        xyz = dataset[class_member_mask & core_samples_mask]\n",
    "        ax.scatter(xyz[:, 0], xyz[:, 1], xyz[:, 2], c=col, marker=”.”)\n",
    "        \n",
    "plt.title(‘Estimated number of cluster: %d’ % n_clusters_)\n",
    "plt.show()"
   ]
  },
  {
   "cell_type": "code",
   "execution_count": null,
   "metadata": {},
   "outputs": [],
   "source": []
  },
  {
   "cell_type": "code",
   "execution_count": null,
   "metadata": {},
   "outputs": [],
   "source": []
  },
  {
   "cell_type": "markdown",
   "metadata": {
    "slideshow": {
     "slide_type": "skip"
    }
   },
   "source": [
    "## TEST:  Lecture autres fichiers"
   ]
  },
  {
   "cell_type": "code",
   "execution_count": 8,
   "metadata": {
    "ExecuteTime": {
     "end_time": "2020-03-12T13:25:04.907932Z",
     "start_time": "2020-03-12T13:25:04.611969Z"
    }
   },
   "outputs": [
    {
     "name": "stdout",
     "output_type": "stream",
     "text": [
      "(24848, 15)\n",
      "(10184, 15)\n"
     ]
    },
    {
     "data": {
      "text/html": [
       "<div>\n",
       "<style scoped>\n",
       "    .dataframe tbody tr th:only-of-type {\n",
       "        vertical-align: middle;\n",
       "    }\n",
       "\n",
       "    .dataframe tbody tr th {\n",
       "        vertical-align: top;\n",
       "    }\n",
       "\n",
       "    .dataframe thead th {\n",
       "        text-align: right;\n",
       "    }\n",
       "</style>\n",
       "<table border=\"1\" class=\"dataframe\">\n",
       "  <thead>\n",
       "    <tr style=\"text-align: right;\">\n",
       "      <th></th>\n",
       "      <th>gid</th>\n",
       "      <th>ident_gy</th>\n",
       "      <th>code_precision</th>\n",
       "      <th>date_leve</th>\n",
       "      <th>auteur</th>\n",
       "      <th>observ_autre</th>\n",
       "      <th>date_reco</th>\n",
       "      <th>date_modif</th>\n",
       "      <th>type_entite</th>\n",
       "      <th>z_sol</th>\n",
       "      <th>orientation</th>\n",
       "      <th>echelle_x</th>\n",
       "      <th>echelle_y</th>\n",
       "      <th>date_creation</th>\n",
       "      <th>date_maj</th>\n",
       "    </tr>\n",
       "  </thead>\n",
       "  <tbody>\n",
       "    <tr>\n",
       "      <th>0</th>\n",
       "      <td>40074</td>\n",
       "      <td>NaN</td>\n",
       "      <td>rattache</td>\n",
       "      <td>2018/11/17 00:00:00</td>\n",
       "      <td>Clauss</td>\n",
       "      <td>NaN</td>\n",
       "      <td>2018/10/01 00:00:00</td>\n",
       "      <td>NaN</td>\n",
       "      <td>banc_public</td>\n",
       "      <td>139.26</td>\n",
       "      <td>NaN</td>\n",
       "      <td>NaN</td>\n",
       "      <td>NaN</td>\n",
       "      <td>2018/11/30 09:34:12</td>\n",
       "      <td>2019/05/09 16:17:16</td>\n",
       "    </tr>\n",
       "    <tr>\n",
       "      <th>1</th>\n",
       "      <td>192</td>\n",
       "      <td>54449499.0</td>\n",
       "      <td>rattache</td>\n",
       "      <td>2011/12/02 00:00:00</td>\n",
       "      <td>Brundaller</td>\n",
       "      <td>NaN</td>\n",
       "      <td>2019/09/01 00:00:00</td>\n",
       "      <td>NaN</td>\n",
       "      <td>banc_public</td>\n",
       "      <td>147.25</td>\n",
       "      <td>NaN</td>\n",
       "      <td>NaN</td>\n",
       "      <td>NaN</td>\n",
       "      <td>2014/01/18 14:15:10</td>\n",
       "      <td>2020/02/20 10:24:48</td>\n",
       "    </tr>\n",
       "    <tr>\n",
       "      <th>4</th>\n",
       "      <td>31635</td>\n",
       "      <td>NaN</td>\n",
       "      <td>rattache</td>\n",
       "      <td>2016/05/05 00:00:00</td>\n",
       "      <td>Clauss</td>\n",
       "      <td>NaN</td>\n",
       "      <td>2019/05/07 00:00:00</td>\n",
       "      <td>NaN</td>\n",
       "      <td>banc_public</td>\n",
       "      <td>141.16</td>\n",
       "      <td>NaN</td>\n",
       "      <td>NaN</td>\n",
       "      <td>NaN</td>\n",
       "      <td>2016/11/15 10:57:00</td>\n",
       "      <td>2019/10/28 15:15:04</td>\n",
       "    </tr>\n",
       "  </tbody>\n",
       "</table>\n",
       "</div>"
      ],
      "text/plain": [
       "     gid    ident_gy code_precision            date_leve      auteur  \\\n",
       "0  40074         NaN       rattache  2018/11/17 00:00:00      Clauss   \n",
       "1    192  54449499.0       rattache  2011/12/02 00:00:00  Brundaller   \n",
       "4  31635         NaN       rattache  2016/05/05 00:00:00      Clauss   \n",
       "\n",
       "  observ_autre            date_reco date_modif  type_entite   z_sol  \\\n",
       "0          NaN  2018/10/01 00:00:00        NaN  banc_public  139.26   \n",
       "1          NaN  2019/09/01 00:00:00        NaN  banc_public  147.25   \n",
       "4          NaN  2019/05/07 00:00:00        NaN  banc_public  141.16   \n",
       "\n",
       "   orientation  echelle_x  echelle_y        date_creation             date_maj  \n",
       "0          NaN        NaN        NaN  2018/11/30 09:34:12  2019/05/09 16:17:16  \n",
       "1          NaN        NaN        NaN  2014/01/18 14:15:10  2020/02/20 10:24:48  \n",
       "4          NaN        NaN        NaN  2016/11/15 10:57:00  2019/10/28 15:15:04  "
      ]
     },
     "execution_count": 8,
     "metadata": {},
     "output_type": "execute_result"
    }
   ],
   "source": [
    "f_lamp = DATA_DIR  + \"lampadaires2.csv\"\n",
    "f_mobi = DATA_DIR  + \"mobilier_amenagement2.csv\"\n",
    "\n",
    "lampad = pd.read_csv(f_lamp, sep=\",\",header=0, encoding = \"utf-8\")\n",
    "#print(lampad.head(3))\n",
    "\n",
    "mobilier = pd.read_csv(f_mobi, sep=\",\", header=0, encoding = \"utf-8\")\n",
    "print(mobilier.shape)\n",
    "mobilier2 = mobilier[mobilier['type_entite'] == 'banc_public']\n",
    "print(mobilier2.shape)\n",
    "mobilier2.head(3)"
   ]
  },
  {
   "cell_type": "code",
   "execution_count": 9,
   "metadata": {
    "ExecuteTime": {
     "end_time": "2020-03-12T13:25:09.742941Z",
     "start_time": "2020-03-12T13:25:05.898804Z"
    }
   },
   "outputs": [
    {
     "data": {
      "text/html": [
       "<div>\n",
       "<style scoped>\n",
       "    .dataframe tbody tr th:only-of-type {\n",
       "        vertical-align: middle;\n",
       "    }\n",
       "\n",
       "    .dataframe tbody tr th {\n",
       "        vertical-align: top;\n",
       "    }\n",
       "\n",
       "    .dataframe thead th {\n",
       "        text-align: right;\n",
       "    }\n",
       "</style>\n",
       "<table border=\"1\" class=\"dataframe\">\n",
       "  <thead>\n",
       "    <tr style=\"text-align: right;\">\n",
       "      <th></th>\n",
       "      <th>gid</th>\n",
       "      <th>ident_gy</th>\n",
       "      <th>code_preci</th>\n",
       "      <th>date_leve</th>\n",
       "      <th>auteur</th>\n",
       "      <th>date_reco</th>\n",
       "      <th>angle_g</th>\n",
       "      <th>z_sol</th>\n",
       "      <th>date_creat</th>\n",
       "      <th>date_maj</th>\n",
       "      <th>geometry</th>\n",
       "    </tr>\n",
       "  </thead>\n",
       "  <tbody>\n",
       "    <tr>\n",
       "      <th>0</th>\n",
       "      <td>151</td>\n",
       "      <td>69204241.0</td>\n",
       "      <td>rattache</td>\n",
       "      <td>1998/09/01 00:00:00.000</td>\n",
       "      <td>Muller C</td>\n",
       "      <td>2017/10/23 00:00:00.000</td>\n",
       "      <td>-42.4</td>\n",
       "      <td>158.56</td>\n",
       "      <td>2014/01/18 13:58:37.000</td>\n",
       "      <td>2018/02/12 14:08:52.000</td>\n",
       "      <td>POINT (2046319.603 7283270.659)</td>\n",
       "    </tr>\n",
       "    <tr>\n",
       "      <th>1</th>\n",
       "      <td>152</td>\n",
       "      <td>69204199.0</td>\n",
       "      <td>rattache</td>\n",
       "      <td>1998/09/01 00:00:00.000</td>\n",
       "      <td>Muller C</td>\n",
       "      <td>2017/10/23 00:00:00.000</td>\n",
       "      <td>-57.6</td>\n",
       "      <td>157.94</td>\n",
       "      <td>2014/01/18 13:58:37.000</td>\n",
       "      <td>2018/02/12 14:09:00.000</td>\n",
       "      <td>POINT (2045855.457 7283330.024)</td>\n",
       "    </tr>\n",
       "    <tr>\n",
       "      <th>2</th>\n",
       "      <td>153</td>\n",
       "      <td>69204198.0</td>\n",
       "      <td>rattache</td>\n",
       "      <td>1998/09/01 00:00:00.000</td>\n",
       "      <td>Muller C</td>\n",
       "      <td>2017/10/23 00:00:00.000</td>\n",
       "      <td>0.0</td>\n",
       "      <td>160.34</td>\n",
       "      <td>2014/01/18 13:58:37.000</td>\n",
       "      <td>2018/02/12 14:09:00.000</td>\n",
       "      <td>POINT (2046065.952 7283614.279)</td>\n",
       "    </tr>\n",
       "    <tr>\n",
       "      <th>3</th>\n",
       "      <td>154</td>\n",
       "      <td>69204197.0</td>\n",
       "      <td>rattache</td>\n",
       "      <td>1998/09/01 00:00:00.000</td>\n",
       "      <td>Muller C</td>\n",
       "      <td>2017/10/23 00:00:00.000</td>\n",
       "      <td>-58.9</td>\n",
       "      <td>157.95</td>\n",
       "      <td>2014/01/18 13:58:37.000</td>\n",
       "      <td>2018/02/12 14:09:00.000</td>\n",
       "      <td>POINT (2046062.432 7283583.205)</td>\n",
       "    </tr>\n",
       "    <tr>\n",
       "      <th>4</th>\n",
       "      <td>155</td>\n",
       "      <td>69204071.0</td>\n",
       "      <td>rattache</td>\n",
       "      <td>1998/09/01 00:00:00.000</td>\n",
       "      <td>Muller C</td>\n",
       "      <td>2017/10/23 00:00:00.000</td>\n",
       "      <td>-163.4</td>\n",
       "      <td>149.73</td>\n",
       "      <td>2014/01/18 13:58:37.000</td>\n",
       "      <td>2018/02/12 14:09:24.000</td>\n",
       "      <td>POINT (2045854.604 7282886.637)</td>\n",
       "    </tr>\n",
       "  </tbody>\n",
       "</table>\n",
       "</div>"
      ],
      "text/plain": [
       "   gid    ident_gy code_preci                date_leve    auteur  \\\n",
       "0  151  69204241.0   rattache  1998/09/01 00:00:00.000  Muller C   \n",
       "1  152  69204199.0   rattache  1998/09/01 00:00:00.000  Muller C   \n",
       "2  153  69204198.0   rattache  1998/09/01 00:00:00.000  Muller C   \n",
       "3  154  69204197.0   rattache  1998/09/01 00:00:00.000  Muller C   \n",
       "4  155  69204071.0   rattache  1998/09/01 00:00:00.000  Muller C   \n",
       "\n",
       "                 date_reco  angle_g   z_sol               date_creat  \\\n",
       "0  2017/10/23 00:00:00.000    -42.4  158.56  2014/01/18 13:58:37.000   \n",
       "1  2017/10/23 00:00:00.000    -57.6  157.94  2014/01/18 13:58:37.000   \n",
       "2  2017/10/23 00:00:00.000      0.0  160.34  2014/01/18 13:58:37.000   \n",
       "3  2017/10/23 00:00:00.000    -58.9  157.95  2014/01/18 13:58:37.000   \n",
       "4  2017/10/23 00:00:00.000   -163.4  149.73  2014/01/18 13:58:37.000   \n",
       "\n",
       "                  date_maj                         geometry  \n",
       "0  2018/02/12 14:08:52.000  POINT (2046319.603 7283270.659)  \n",
       "1  2018/02/12 14:09:00.000  POINT (2045855.457 7283330.024)  \n",
       "2  2018/02/12 14:09:00.000  POINT (2046065.952 7283614.279)  \n",
       "3  2018/02/12 14:09:00.000  POINT (2046062.432 7283583.205)  \n",
       "4  2018/02/12 14:09:24.000  POINT (2045854.604 7282886.637)  "
      ]
     },
     "execution_count": 9,
     "metadata": {},
     "output_type": "execute_result"
    }
   ],
   "source": [
    "import geopandas as gpd\n",
    "\n",
    "gdf_lamp = gpd.read_file(DATA_DIR  + \"lampadaires.shp\")                           \n",
    "gdf_lamp.head()\n"
   ]
  },
  {
   "cell_type": "code",
   "execution_count": 10,
   "metadata": {
    "ExecuteTime": {
     "end_time": "2020-03-12T13:25:15.477170Z",
     "start_time": "2020-03-12T13:25:14.261712Z"
    }
   },
   "outputs": [],
   "source": [
    "from shapely.geometry import Point, LineString, MultiLineString\n",
    "\n",
    "#import geopandas as gpd\n",
    "\n",
    "gdf_mobi = gpd.read_file(DATA_DIR  + \"mobilier_amenagement.shp\")\n",
    "gdf_mobi2 = gdf_mobi[gdf_mobi['type_entit'] == 'banc_public']\n",
    "# Type MULTILINESTRING  gdf_mobi2.head(76)"
   ]
  },
  {
   "cell_type": "code",
   "execution_count": 11,
   "metadata": {
    "ExecuteTime": {
     "end_time": "2020-03-12T13:25:24.123616Z",
     "start_time": "2020-03-12T13:25:24.010433Z"
    }
   },
   "outputs": [
    {
     "name": "stdout",
     "output_type": "stream",
     "text": [
      "(10184, 16) (80, 16)\n",
      "Nombre maximum de points: 136  avec  2 MultiLineStrings\n",
      "(80, 18)\n"
     ]
    },
    {
     "name": "stderr",
     "output_type": "stream",
     "text": [
      "/Users/pierreleisy/Data_Science/anaconda3/envs/geo_env/lib/python3.7/site-packages/ipykernel_launcher.py:37: SettingWithCopyWarning: \n",
      "A value is trying to be set on a copy of a slice from a DataFrame.\n",
      "Try using .loc[row_indexer,col_indexer] = value instead\n",
      "\n",
      "See the caveats in the documentation: https://pandas.pydata.org/pandas-docs/stable/user_guide/indexing.html#returning-a-view-versus-a-copy\n",
      "/Users/pierreleisy/Data_Science/anaconda3/envs/geo_env/lib/python3.7/site-packages/ipykernel_launcher.py:38: SettingWithCopyWarning: \n",
      "A value is trying to be set on a copy of a slice from a DataFrame.\n",
      "Try using .loc[row_indexer,col_indexer] = value instead\n",
      "\n",
      "See the caveats in the documentation: https://pandas.pydata.org/pandas-docs/stable/user_guide/indexing.html#returning-a-view-versus-a-copy\n"
     ]
    },
    {
     "data": {
      "text/html": [
       "<div>\n",
       "<style scoped>\n",
       "    .dataframe tbody tr th:only-of-type {\n",
       "        vertical-align: middle;\n",
       "    }\n",
       "\n",
       "    .dataframe tbody tr th {\n",
       "        vertical-align: top;\n",
       "    }\n",
       "\n",
       "    .dataframe thead th {\n",
       "        text-align: right;\n",
       "    }\n",
       "</style>\n",
       "<table border=\"1\" class=\"dataframe\">\n",
       "  <thead>\n",
       "    <tr style=\"text-align: right;\">\n",
       "      <th></th>\n",
       "      <th>gid</th>\n",
       "      <th>ident_gy</th>\n",
       "      <th>code_preci</th>\n",
       "      <th>date_leve</th>\n",
       "      <th>auteur</th>\n",
       "      <th>observ_aut</th>\n",
       "      <th>date_reco</th>\n",
       "      <th>date_modif</th>\n",
       "      <th>type_entit</th>\n",
       "      <th>z_sol</th>\n",
       "      <th>orientatio</th>\n",
       "      <th>echelle_x</th>\n",
       "      <th>echelle_y</th>\n",
       "      <th>date_creat</th>\n",
       "      <th>date_maj</th>\n",
       "      <th>geometry</th>\n",
       "      <th>x</th>\n",
       "      <th>y</th>\n",
       "    </tr>\n",
       "  </thead>\n",
       "  <tbody>\n",
       "    <tr>\n",
       "      <th>211</th>\n",
       "      <td>60</td>\n",
       "      <td>-1.996483e+09</td>\n",
       "      <td>rattache</td>\n",
       "      <td>2013/10/14 00:00:00.000</td>\n",
       "      <td>Clauss</td>\n",
       "      <td>None</td>\n",
       "      <td>2019/05/07 00:00:00.000</td>\n",
       "      <td>None</td>\n",
       "      <td>banc_public</td>\n",
       "      <td>141.34</td>\n",
       "      <td>None</td>\n",
       "      <td>None</td>\n",
       "      <td>None</td>\n",
       "      <td>2014/01/18 14:15:10.000</td>\n",
       "      <td>2019/10/28 15:15:04.000</td>\n",
       "      <td>MULTILINESTRING ((2052210.294 7271182.357, 205...</td>\n",
       "      <td>2.052210e+06</td>\n",
       "      <td>7.271185e+06</td>\n",
       "    </tr>\n",
       "    <tr>\n",
       "      <th>212</th>\n",
       "      <td>61</td>\n",
       "      <td>-1.996483e+09</td>\n",
       "      <td>rattache</td>\n",
       "      <td>2013/10/14 00:00:00.000</td>\n",
       "      <td>Clauss</td>\n",
       "      <td>None</td>\n",
       "      <td>2019/05/07 00:00:00.000</td>\n",
       "      <td>None</td>\n",
       "      <td>banc_public</td>\n",
       "      <td>141.35</td>\n",
       "      <td>None</td>\n",
       "      <td>None</td>\n",
       "      <td>None</td>\n",
       "      <td>2014/01/18 14:15:10.000</td>\n",
       "      <td>2019/10/28 15:15:04.000</td>\n",
       "      <td>MULTILINESTRING ((2052227.674 7271165.949, 205...</td>\n",
       "      <td>2.052228e+06</td>\n",
       "      <td>7.271168e+06</td>\n",
       "    </tr>\n",
       "    <tr>\n",
       "      <th>213</th>\n",
       "      <td>40</td>\n",
       "      <td>5.450002e+07</td>\n",
       "      <td>rattache</td>\n",
       "      <td>2013/05/23 00:00:00.000</td>\n",
       "      <td>Muller C</td>\n",
       "      <td>None</td>\n",
       "      <td>2017/03/24 00:00:00.000</td>\n",
       "      <td>None</td>\n",
       "      <td>banc_public</td>\n",
       "      <td>146.25</td>\n",
       "      <td>None</td>\n",
       "      <td>None</td>\n",
       "      <td>None</td>\n",
       "      <td>2014/01/18 14:15:10.000</td>\n",
       "      <td>2017/06/29 10:08:12.000</td>\n",
       "      <td>LINESTRING (2046275.114 7277099.704, 2046275.2...</td>\n",
       "      <td>2.046275e+06</td>\n",
       "      <td>7.277101e+06</td>\n",
       "    </tr>\n",
       "    <tr>\n",
       "      <th>214</th>\n",
       "      <td>41</td>\n",
       "      <td>5.450000e+07</td>\n",
       "      <td>rattache</td>\n",
       "      <td>2013/05/23 00:00:00.000</td>\n",
       "      <td>Muller C</td>\n",
       "      <td>None</td>\n",
       "      <td>2017/03/24 00:00:00.000</td>\n",
       "      <td>None</td>\n",
       "      <td>banc_public</td>\n",
       "      <td>146.59</td>\n",
       "      <td>None</td>\n",
       "      <td>None</td>\n",
       "      <td>None</td>\n",
       "      <td>2014/01/18 14:15:10.000</td>\n",
       "      <td>2017/06/29 10:08:12.000</td>\n",
       "      <td>LINESTRING (2046307.896 7277038.217, 2046308.9...</td>\n",
       "      <td>2.046309e+06</td>\n",
       "      <td>7.277039e+06</td>\n",
       "    </tr>\n",
       "    <tr>\n",
       "      <th>215</th>\n",
       "      <td>33319</td>\n",
       "      <td>NaN</td>\n",
       "      <td>None</td>\n",
       "      <td>None</td>\n",
       "      <td>Muller C</td>\n",
       "      <td>None</td>\n",
       "      <td>None</td>\n",
       "      <td>None</td>\n",
       "      <td>banc_public</td>\n",
       "      <td>137.00</td>\n",
       "      <td>None</td>\n",
       "      <td>None</td>\n",
       "      <td>None</td>\n",
       "      <td>2017/04/11 08:39:12.000</td>\n",
       "      <td>2017/04/11 08:39:12.000</td>\n",
       "      <td>LINESTRING (2050369.780 7278163.252, 2050370.3...</td>\n",
       "      <td>2.050370e+06</td>\n",
       "      <td>7.278164e+06</td>\n",
       "    </tr>\n",
       "  </tbody>\n",
       "</table>\n",
       "</div>"
      ],
      "text/plain": [
       "       gid      ident_gy code_preci                date_leve    auteur  \\\n",
       "211     60 -1.996483e+09   rattache  2013/10/14 00:00:00.000    Clauss   \n",
       "212     61 -1.996483e+09   rattache  2013/10/14 00:00:00.000    Clauss   \n",
       "213     40  5.450002e+07   rattache  2013/05/23 00:00:00.000  Muller C   \n",
       "214     41  5.450000e+07   rattache  2013/05/23 00:00:00.000  Muller C   \n",
       "215  33319           NaN       None                     None  Muller C   \n",
       "\n",
       "    observ_aut                date_reco date_modif   type_entit   z_sol  \\\n",
       "211       None  2019/05/07 00:00:00.000       None  banc_public  141.34   \n",
       "212       None  2019/05/07 00:00:00.000       None  banc_public  141.35   \n",
       "213       None  2017/03/24 00:00:00.000       None  banc_public  146.25   \n",
       "214       None  2017/03/24 00:00:00.000       None  banc_public  146.59   \n",
       "215       None                     None       None  banc_public  137.00   \n",
       "\n",
       "    orientatio echelle_x echelle_y               date_creat  \\\n",
       "211       None      None      None  2014/01/18 14:15:10.000   \n",
       "212       None      None      None  2014/01/18 14:15:10.000   \n",
       "213       None      None      None  2014/01/18 14:15:10.000   \n",
       "214       None      None      None  2014/01/18 14:15:10.000   \n",
       "215       None      None      None  2017/04/11 08:39:12.000   \n",
       "\n",
       "                    date_maj  \\\n",
       "211  2019/10/28 15:15:04.000   \n",
       "212  2019/10/28 15:15:04.000   \n",
       "213  2017/06/29 10:08:12.000   \n",
       "214  2017/06/29 10:08:12.000   \n",
       "215  2017/04/11 08:39:12.000   \n",
       "\n",
       "                                              geometry             x  \\\n",
       "211  MULTILINESTRING ((2052210.294 7271182.357, 205...  2.052210e+06   \n",
       "212  MULTILINESTRING ((2052227.674 7271165.949, 205...  2.052228e+06   \n",
       "213  LINESTRING (2046275.114 7277099.704, 2046275.2...  2.046275e+06   \n",
       "214  LINESTRING (2046307.896 7277038.217, 2046308.9...  2.046309e+06   \n",
       "215  LINESTRING (2050369.780 7278163.252, 2050370.3...  2.050370e+06   \n",
       "\n",
       "                y  \n",
       "211  7.271185e+06  \n",
       "212  7.271168e+06  \n",
       "213  7.277101e+06  \n",
       "214  7.277039e+06  \n",
       "215  7.278164e+06  "
      ]
     },
     "execution_count": 11,
     "metadata": {},
     "output_type": "execute_result"
    }
   ],
   "source": [
    "#  Formes des fichiers des bancs publics\n",
    "#from shapely.geometry import shape\n",
    "\n",
    "gdf_mobi3 = gdf_mobi2.head(80)\n",
    "print(gdf_mobi2.shape, gdf_mobi3.shape)\n",
    "\n",
    "#for boundary in gdf_mobi3['geometry']:\n",
    "#    print(boundary.xy)\n",
    "\n",
    "maxi = 0\n",
    "nb = 0\n",
    "#for i, row in gdf_mobi2.iterrows():\n",
    "for i, row in gdf_mobi3.iterrows():\n",
    "    ligne = row['geometry']\n",
    "    nbre = 0\n",
    "    if ligne.geom_type == \"LineString\":\n",
    "        nbre = len(ligne.coords)\n",
    "        #x, y = ligne.centroid.x, ligne.centroid.y\n",
    "        #print(i, x, y)\n",
    "    elif ligne.geom_type == \"MultiLineString\":\n",
    "        nb += 1\n",
    "        for line in ligne:\n",
    "            nbre += len(line.coords)\n",
    "    #print(i, nbre, forme)\n",
    "    if nbre > maxi:\n",
    "        maxi = nbre\n",
    "    #for pt in list(row['geometry'].coords):\n",
    "        \n",
    "print(\"Nombre maximum de points:\", maxi, \" avec \", nb, \"MultiLineStrings\")\n",
    "\n",
    "\n",
    "#def getXY(pt):\n",
    "#    return (pt.x, pt.y)\n",
    "#centroidseries = zones['geometry'].centroid\n",
    "#x,y = [list(t) for t in zip(*map(getXY, centroidseries))]\n",
    "\n",
    "gdf_mobi3[\"x\"] = gdf_mobi3.centroid.x\n",
    "gdf_mobi3[\"y\"] = gdf_mobi3.centroid.y\n",
    "print(gdf_mobi3.shape)\n",
    "gdf_mobi3.tail()"
   ]
  },
  {
   "cell_type": "code",
   "execution_count": null,
   "metadata": {},
   "outputs": [],
   "source": []
  },
  {
   "cell_type": "code",
   "execution_count": null,
   "metadata": {},
   "outputs": [],
   "source": []
  },
  {
   "cell_type": "code",
   "execution_count": null,
   "metadata": {},
   "outputs": [],
   "source": []
  },
  {
   "cell_type": "code",
   "execution_count": 12,
   "metadata": {
    "ExecuteTime": {
     "end_time": "2020-03-12T13:25:32.348633Z",
     "start_time": "2020-03-12T13:25:32.232680Z"
    }
   },
   "outputs": [
    {
     "data": {
      "text/html": [
       "<div>\n",
       "<style scoped>\n",
       "    .dataframe tbody tr th:only-of-type {\n",
       "        vertical-align: middle;\n",
       "    }\n",
       "\n",
       "    .dataframe tbody tr th {\n",
       "        vertical-align: top;\n",
       "    }\n",
       "\n",
       "    .dataframe thead th {\n",
       "        text-align: right;\n",
       "    }\n",
       "</style>\n",
       "<table border=\"1\" class=\"dataframe\">\n",
       "  <thead>\n",
       "    <tr style=\"text-align: right;\">\n",
       "      <th></th>\n",
       "      <th>gid</th>\n",
       "      <th>ident_gy</th>\n",
       "      <th>code_preci</th>\n",
       "      <th>date_leve</th>\n",
       "      <th>auteur</th>\n",
       "      <th>observ_aut</th>\n",
       "      <th>date_reco</th>\n",
       "      <th>date_modif</th>\n",
       "      <th>type_entit</th>\n",
       "      <th>z_sol</th>\n",
       "      <th>orientatio</th>\n",
       "      <th>echelle_x</th>\n",
       "      <th>echelle_y</th>\n",
       "      <th>date_creat</th>\n",
       "      <th>date_maj</th>\n",
       "      <th>geometry</th>\n",
       "    </tr>\n",
       "  </thead>\n",
       "  <tbody>\n",
       "    <tr>\n",
       "      <th>0</th>\n",
       "      <td>40074</td>\n",
       "      <td>NaN</td>\n",
       "      <td>rattache</td>\n",
       "      <td>2018/11/17 00:00:00.000</td>\n",
       "      <td>Clauss</td>\n",
       "      <td>None</td>\n",
       "      <td>2018/10/01 00:00:00.000</td>\n",
       "      <td>None</td>\n",
       "      <td>banc_public</td>\n",
       "      <td>139.26</td>\n",
       "      <td>None</td>\n",
       "      <td>None</td>\n",
       "      <td>None</td>\n",
       "      <td>2018/11/30 09:34:12.000</td>\n",
       "      <td>2019/05/09 16:17:16.000</td>\n",
       "      <td>LINESTRING (2051288.423 7275080.683, 2051286.9...</td>\n",
       "    </tr>\n",
       "    <tr>\n",
       "      <th>1</th>\n",
       "      <td>192</td>\n",
       "      <td>54449499.0</td>\n",
       "      <td>rattache</td>\n",
       "      <td>2011/12/02 00:00:00.000</td>\n",
       "      <td>Brundaller</td>\n",
       "      <td>None</td>\n",
       "      <td>2019/09/01 00:00:00.000</td>\n",
       "      <td>None</td>\n",
       "      <td>banc_public</td>\n",
       "      <td>147.25</td>\n",
       "      <td>None</td>\n",
       "      <td>None</td>\n",
       "      <td>None</td>\n",
       "      <td>2014/01/18 14:15:10.000</td>\n",
       "      <td>2020/02/20 10:24:48.000</td>\n",
       "      <td>LINESTRING (2042622.445 7267568.482, 2042625.3...</td>\n",
       "    </tr>\n",
       "  </tbody>\n",
       "</table>\n",
       "</div>"
      ],
      "text/plain": [
       "     gid    ident_gy code_preci                date_leve      auteur  \\\n",
       "0  40074         NaN   rattache  2018/11/17 00:00:00.000      Clauss   \n",
       "1    192  54449499.0   rattache  2011/12/02 00:00:00.000  Brundaller   \n",
       "\n",
       "  observ_aut                date_reco date_modif   type_entit   z_sol  \\\n",
       "0       None  2018/10/01 00:00:00.000       None  banc_public  139.26   \n",
       "1       None  2019/09/01 00:00:00.000       None  banc_public  147.25   \n",
       "\n",
       "  orientatio echelle_x echelle_y               date_creat  \\\n",
       "0       None      None      None  2018/11/30 09:34:12.000   \n",
       "1       None      None      None  2014/01/18 14:15:10.000   \n",
       "\n",
       "                  date_maj                                           geometry  \n",
       "0  2019/05/09 16:17:16.000  LINESTRING (2051288.423 7275080.683, 2051286.9...  \n",
       "1  2020/02/20 10:24:48.000  LINESTRING (2042622.445 7267568.482, 2042625.3...  "
      ]
     },
     "execution_count": 12,
     "metadata": {},
     "output_type": "execute_result"
    }
   ],
   "source": [
    "gdf_mobi2.head(2)\n"
   ]
  },
  {
   "cell_type": "markdown",
   "metadata": {
    "slideshow": {
     "slide_type": "skip"
    }
   },
   "source": [
    "## lecture/creation fichier/dataframe lampes des lampadaires présents dans la dalle 1x1 km"
   ]
  },
  {
   "cell_type": "code",
   "execution_count": 13,
   "metadata": {
    "ExecuteTime": {
     "end_time": "2020-03-12T13:25:41.156236Z",
     "start_time": "2020-03-12T13:25:40.974447Z"
    },
    "slideshow": {
     "slide_type": "skip"
    }
   },
   "outputs": [
    {
     "name": "stdout",
     "output_type": "stream",
     "text": [
      "Bord inférieur gauche: 2042500 7272000 200 200 5\n",
      "0    3.0\n",
      "1    4.0\n",
      "2    6.0\n",
      "3    2.0\n",
      "4    1.0\n",
      "dtype: float64\n",
      "mean       1.79\n",
      "count    200.00\n",
      "sum      358.00\n",
      "dtype: float64\n",
      "(200, 200) (40000, 1) (355, 5)\n",
      "357.0\n"
     ]
    },
    {
     "data": {
      "text/html": [
       "<div>\n",
       "<style scoped>\n",
       "    .dataframe tbody tr th:only-of-type {\n",
       "        vertical-align: middle;\n",
       "    }\n",
       "\n",
       "    .dataframe tbody tr th {\n",
       "        vertical-align: top;\n",
       "    }\n",
       "\n",
       "    .dataframe thead th {\n",
       "        text-align: right;\n",
       "    }\n",
       "</style>\n",
       "<table border=\"1\" class=\"dataframe\">\n",
       "  <thead>\n",
       "    <tr style=\"text-align: right;\">\n",
       "      <th></th>\n",
       "      <th>_column</th>\n",
       "      <th>_row</th>\n",
       "      <th>_overlaps</th>\n",
       "      <th>posX</th>\n",
       "      <th>posY</th>\n",
       "    </tr>\n",
       "  </thead>\n",
       "  <tbody>\n",
       "    <tr>\n",
       "      <th>0</th>\n",
       "      <td>0</td>\n",
       "      <td>80</td>\n",
       "      <td>1</td>\n",
       "      <td>2042502</td>\n",
       "      <td>7272402</td>\n",
       "    </tr>\n",
       "    <tr>\n",
       "      <th>1</th>\n",
       "      <td>0</td>\n",
       "      <td>92</td>\n",
       "      <td>1</td>\n",
       "      <td>2042502</td>\n",
       "      <td>7272462</td>\n",
       "    </tr>\n",
       "    <tr>\n",
       "      <th>2</th>\n",
       "      <td>0</td>\n",
       "      <td>102</td>\n",
       "      <td>1</td>\n",
       "      <td>2042502</td>\n",
       "      <td>7272512</td>\n",
       "    </tr>\n",
       "    <tr>\n",
       "      <th>3</th>\n",
       "      <td>0</td>\n",
       "      <td>106</td>\n",
       "      <td>1</td>\n",
       "      <td>2042502</td>\n",
       "      <td>7272532</td>\n",
       "    </tr>\n",
       "    <tr>\n",
       "      <th>4</th>\n",
       "      <td>0</td>\n",
       "      <td>169</td>\n",
       "      <td>1</td>\n",
       "      <td>2042502</td>\n",
       "      <td>7272847</td>\n",
       "    </tr>\n",
       "  </tbody>\n",
       "</table>\n",
       "</div>"
      ],
      "text/plain": [
       "   _column  _row  _overlaps     posX     posY\n",
       "0        0    80          1  2042502  7272402\n",
       "1        0    92          1  2042502  7272462\n",
       "2        0   102          1  2042502  7272512\n",
       "3        0   106          1  2042502  7272532\n",
       "4        0   169          1  2042502  7272847"
      ]
     },
     "execution_count": 13,
     "metadata": {},
     "output_type": "execute_result"
    }
   ],
   "source": [
    "# Intialisation des variables de la dalle\n",
    "fich_lamp  = DATA_DIR  + \"LampadairePresence_0_1_5m.asc\"\n",
    "fich_lamp2 = DATA_DIR2 + \"listepositif.xlsx\"\n",
    "\n",
    "header = pd.read_csv(fich_lamp, sep=\" \", header=None, skiprows=0, nrows=5, names=[\"noms\",\"valeurs\"])\n",
    "n_row =  header['valeurs'][0]\n",
    "n_col =  header['valeurs'][1]\n",
    "xlow = header['valeurs'][2]\n",
    "ylow = header['valeurs'][3]\n",
    "cell_size = header['valeurs'][4]\n",
    "print(\"Bord inférieur gauche:\", xlow, ylow, n_row, n_col, cell_size)\n",
    "\n",
    "lampadaires = pd.read_csv(fich_lamp, sep=\" \", header=None, skiprows=6)\n",
    "print(lampadaires.sum().head(5))\n",
    "print(lampadaires.nunique().agg(['mean','count','sum']))\n",
    "##################################\n",
    "# reconstruit le tableau dans le bon schéma usuel\n",
    "# calcule la transposee\n",
    "lampadaires = lampadaires.T\n",
    "# inversion des colonnes (nombre pair de colonnes, mais pas nécessaire)\n",
    "lampadaires = lampadaires[lampadaires.columns[::-1]]\n",
    "##################################\n",
    "lampes0 = pd.DataFrame(np.reshape(lampadaires.to_numpy(), n_row*n_col))\n",
    "\n",
    "lampes2 = pd.read_excel(fich_lamp2, header=0, skiprows=0)\n",
    "print(lampadaires.shape, lampes0.shape, lampes2.shape)\n",
    "#print(lampadaires.describe())\n",
    "print(lampadaires.sum().sum())\n",
    "lampes2.head(5)"
   ]
  },
  {
   "cell_type": "markdown",
   "metadata": {
    "slideshow": {
     "slide_type": "skip"
    }
   },
   "source": [
    "## rempli le dataframe lampes0 et lampes1"
   ]
  },
  {
   "cell_type": "code",
   "execution_count": 14,
   "metadata": {
    "ExecuteTime": {
     "end_time": "2020-03-12T13:25:52.393522Z",
     "start_time": "2020-03-12T13:25:52.163392Z"
    },
    "slideshow": {
     "slide_type": "skip"
    }
   },
   "outputs": [
    {
     "name": "stdout",
     "output_type": "stream",
     "text": [
      "present     int8\n",
      "NumI       int32\n",
      "NumY       int32\n",
      "NumX       int32\n",
      "dtype: object\n",
      "Dalle: (40000, 9) Nbre lampadaires: (357, 9)\n"
     ]
    },
    {
     "data": {
      "text/html": [
       "<div>\n",
       "<style scoped>\n",
       "    .dataframe tbody tr th:only-of-type {\n",
       "        vertical-align: middle;\n",
       "    }\n",
       "\n",
       "    .dataframe tbody tr th {\n",
       "        vertical-align: top;\n",
       "    }\n",
       "\n",
       "    .dataframe thead th {\n",
       "        text-align: right;\n",
       "    }\n",
       "</style>\n",
       "<table border=\"1\" class=\"dataframe\">\n",
       "  <thead>\n",
       "    <tr style=\"text-align: right;\">\n",
       "      <th></th>\n",
       "      <th>present</th>\n",
       "      <th>NumI</th>\n",
       "      <th>NumY</th>\n",
       "      <th>NumX</th>\n",
       "      <th>X</th>\n",
       "      <th>Y</th>\n",
       "      <th>nom_NUM</th>\n",
       "      <th>nom_ECA</th>\n",
       "      <th>nom_POS</th>\n",
       "    </tr>\n",
       "  </thead>\n",
       "  <tbody>\n",
       "    <tr>\n",
       "      <th>0</th>\n",
       "      <td>0</td>\n",
       "      <td>0</td>\n",
       "      <td>0</td>\n",
       "      <td>0</td>\n",
       "      <td>2042500</td>\n",
       "      <td>7272000</td>\n",
       "      <td>2042500_7272000_NumPoints5m.tif</td>\n",
       "      <td>2042500_7272000_EcartZ5m.tif</td>\n",
       "      <td>2042500_7272000_Position5m.tif</td>\n",
       "    </tr>\n",
       "    <tr>\n",
       "      <th>1</th>\n",
       "      <td>0</td>\n",
       "      <td>1</td>\n",
       "      <td>1</td>\n",
       "      <td>0</td>\n",
       "      <td>2042500</td>\n",
       "      <td>7272005</td>\n",
       "      <td>2042500_7272005_NumPoints5m.tif</td>\n",
       "      <td>2042500_7272005_EcartZ5m.tif</td>\n",
       "      <td>2042500_7272005_Position5m.tif</td>\n",
       "    </tr>\n",
       "    <tr>\n",
       "      <th>2</th>\n",
       "      <td>0</td>\n",
       "      <td>2</td>\n",
       "      <td>2</td>\n",
       "      <td>0</td>\n",
       "      <td>2042500</td>\n",
       "      <td>7272010</td>\n",
       "      <td>2042500_7272010_NumPoints5m.tif</td>\n",
       "      <td>2042500_7272010_EcartZ5m.tif</td>\n",
       "      <td>2042500_7272010_Position5m.tif</td>\n",
       "    </tr>\n",
       "    <tr>\n",
       "      <th>3</th>\n",
       "      <td>0</td>\n",
       "      <td>3</td>\n",
       "      <td>3</td>\n",
       "      <td>0</td>\n",
       "      <td>2042500</td>\n",
       "      <td>7272015</td>\n",
       "      <td>2042500_7272015_NumPoints5m.tif</td>\n",
       "      <td>2042500_7272015_EcartZ5m.tif</td>\n",
       "      <td>2042500_7272015_Position5m.tif</td>\n",
       "    </tr>\n",
       "    <tr>\n",
       "      <th>4</th>\n",
       "      <td>0</td>\n",
       "      <td>4</td>\n",
       "      <td>4</td>\n",
       "      <td>0</td>\n",
       "      <td>2042500</td>\n",
       "      <td>7272020</td>\n",
       "      <td>2042500_7272020_NumPoints5m.tif</td>\n",
       "      <td>2042500_7272020_EcartZ5m.tif</td>\n",
       "      <td>2042500_7272020_Position5m.tif</td>\n",
       "    </tr>\n",
       "  </tbody>\n",
       "</table>\n",
       "</div>"
      ],
      "text/plain": [
       "   present  NumI  NumY  NumX        X        Y  \\\n",
       "0        0     0     0     0  2042500  7272000   \n",
       "1        0     1     1     0  2042500  7272005   \n",
       "2        0     2     2     0  2042500  7272010   \n",
       "3        0     3     3     0  2042500  7272015   \n",
       "4        0     4     4     0  2042500  7272020   \n",
       "\n",
       "                           nom_NUM                       nom_ECA  \\\n",
       "0  2042500_7272000_NumPoints5m.tif  2042500_7272000_EcartZ5m.tif   \n",
       "1  2042500_7272005_NumPoints5m.tif  2042500_7272005_EcartZ5m.tif   \n",
       "2  2042500_7272010_NumPoints5m.tif  2042500_7272010_EcartZ5m.tif   \n",
       "3  2042500_7272015_NumPoints5m.tif  2042500_7272015_EcartZ5m.tif   \n",
       "4  2042500_7272020_NumPoints5m.tif  2042500_7272020_EcartZ5m.tif   \n",
       "\n",
       "                          nom_POS  \n",
       "0  2042500_7272000_Position5m.tif  \n",
       "1  2042500_7272005_Position5m.tif  \n",
       "2  2042500_7272010_Position5m.tif  \n",
       "3  2042500_7272015_Position5m.tif  \n",
       "4  2042500_7272020_Position5m.tif  "
      ]
     },
     "execution_count": 14,
     "metadata": {},
     "output_type": "execute_result"
    }
   ],
   "source": [
    "lampes0['NumI'] = lampes0.index\n",
    "lampes0['NumY'] = lampes0['NumI'].mod(other=n_col)\n",
    "lampes0['NumX'] = ((lampes0['NumI'] - n_row + 1) / n_row).apply(np.ceil)\n",
    "#lampes = lampes.drop(['Num'], axis=1)\n",
    "lampes0.rename(columns={0: 'present'}, inplace=True)\n",
    "lampes0 = lampes0.astype({'present': 'int8'}, copy=False)\n",
    "lampes0 = lampes0.astype({'NumY': 'int32'}, copy=False)\n",
    "lampes0 = lampes0.astype({'NumI': 'int32'}, copy=False)\n",
    "lampes0 = lampes0.astype({'NumX': 'int32'}, copy=False)\n",
    "print(lampes0.dtypes)\n",
    "#print(lampes.describe(include='all'))\n",
    "lampes0['X'] = xlow + lampes0['NumX'] * cell_size\n",
    "lampes0['Y'] = ylow + lampes0['NumY'] * cell_size\n",
    "lampes0['nom_NUM'] = lampes0['X'].map(str) + \"_\" + lampes0['Y'].map(str) +  \"_NumPoints5m.tif\"\n",
    "lampes0['nom_ECA'] = lampes0['X'].map(str) + \"_\" + lampes0['Y'].map(str) + \"_EcartZ5m.tif\"\n",
    "lampes0['nom_POS'] = lampes0['X'].map(str) + \"_\" + lampes0['Y'].map(str) +  \"_Position5m.tif\"\n",
    "# extraction des lampadaires\n",
    "lampes1 = lampes0[lampes0['present'] > 0]\n",
    "print(\"Dalle:\", lampes0.shape, \"Nbre lampadaires:\", lampes1.shape)\n",
    "lampes0.head()"
   ]
  },
  {
   "cell_type": "code",
   "execution_count": 219,
   "metadata": {
    "ExecuteTime": {
     "end_time": "2020-03-13T08:41:45.889388Z",
     "start_time": "2020-03-13T08:41:45.589774Z"
    }
   },
   "outputs": [
    {
     "data": {
      "text/html": [
       "<div>\n",
       "<style scoped>\n",
       "    .dataframe tbody tr th:only-of-type {\n",
       "        vertical-align: middle;\n",
       "    }\n",
       "\n",
       "    .dataframe tbody tr th {\n",
       "        vertical-align: top;\n",
       "    }\n",
       "\n",
       "    .dataframe thead th {\n",
       "        text-align: right;\n",
       "    }\n",
       "</style>\n",
       "<table border=\"1\" class=\"dataframe\">\n",
       "  <thead>\n",
       "    <tr style=\"text-align: right;\">\n",
       "      <th></th>\n",
       "      <th>present</th>\n",
       "      <th>NumI</th>\n",
       "      <th>NumY</th>\n",
       "      <th>NumX</th>\n",
       "      <th>X</th>\n",
       "      <th>Y</th>\n",
       "      <th>nom_NUM</th>\n",
       "      <th>nom_ECA</th>\n",
       "      <th>nom_POS</th>\n",
       "    </tr>\n",
       "  </thead>\n",
       "  <tbody>\n",
       "    <tr>\n",
       "      <th>52</th>\n",
       "      <td>1</td>\n",
       "      <td>52</td>\n",
       "      <td>52</td>\n",
       "      <td>0</td>\n",
       "      <td>2042500</td>\n",
       "      <td>7272260</td>\n",
       "      <td>2042500_7272260_NumPoints5m.tif</td>\n",
       "      <td>2042500_7272260_EcartZ5m.tif</td>\n",
       "      <td>2042500_7272260_Position5m.tif</td>\n",
       "    </tr>\n",
       "    <tr>\n",
       "      <th>92</th>\n",
       "      <td>1</td>\n",
       "      <td>92</td>\n",
       "      <td>92</td>\n",
       "      <td>0</td>\n",
       "      <td>2042500</td>\n",
       "      <td>7272460</td>\n",
       "      <td>2042500_7272460_NumPoints5m.tif</td>\n",
       "      <td>2042500_7272460_EcartZ5m.tif</td>\n",
       "      <td>2042500_7272460_Position5m.tif</td>\n",
       "    </tr>\n",
       "    <tr>\n",
       "      <th>170</th>\n",
       "      <td>1</td>\n",
       "      <td>170</td>\n",
       "      <td>170</td>\n",
       "      <td>0</td>\n",
       "      <td>2042500</td>\n",
       "      <td>7272850</td>\n",
       "      <td>2042500_7272850_NumPoints5m.tif</td>\n",
       "      <td>2042500_7272850_EcartZ5m.tif</td>\n",
       "      <td>2042500_7272850_Position5m.tif</td>\n",
       "    </tr>\n",
       "    <tr>\n",
       "      <th>249</th>\n",
       "      <td>1</td>\n",
       "      <td>249</td>\n",
       "      <td>49</td>\n",
       "      <td>1</td>\n",
       "      <td>2042505</td>\n",
       "      <td>7272245</td>\n",
       "      <td>2042505_7272245_NumPoints5m.tif</td>\n",
       "      <td>2042505_7272245_EcartZ5m.tif</td>\n",
       "      <td>2042505_7272245_Position5m.tif</td>\n",
       "    </tr>\n",
       "    <tr>\n",
       "      <th>281</th>\n",
       "      <td>1</td>\n",
       "      <td>281</td>\n",
       "      <td>81</td>\n",
       "      <td>1</td>\n",
       "      <td>2042505</td>\n",
       "      <td>7272405</td>\n",
       "      <td>2042505_7272405_NumPoints5m.tif</td>\n",
       "      <td>2042505_7272405_EcartZ5m.tif</td>\n",
       "      <td>2042505_7272405_Position5m.tif</td>\n",
       "    </tr>\n",
       "    <tr>\n",
       "      <th>303</th>\n",
       "      <td>1</td>\n",
       "      <td>303</td>\n",
       "      <td>103</td>\n",
       "      <td>1</td>\n",
       "      <td>2042505</td>\n",
       "      <td>7272515</td>\n",
       "      <td>2042505_7272515_NumPoints5m.tif</td>\n",
       "      <td>2042505_7272515_EcartZ5m.tif</td>\n",
       "      <td>2042505_7272515_Position5m.tif</td>\n",
       "    </tr>\n",
       "    <tr>\n",
       "      <th>307</th>\n",
       "      <td>1</td>\n",
       "      <td>307</td>\n",
       "      <td>107</td>\n",
       "      <td>1</td>\n",
       "      <td>2042505</td>\n",
       "      <td>7272535</td>\n",
       "      <td>2042505_7272535_NumPoints5m.tif</td>\n",
       "      <td>2042505_7272535_EcartZ5m.tif</td>\n",
       "      <td>2042505_7272535_Position5m.tif</td>\n",
       "    </tr>\n",
       "    <tr>\n",
       "      <th>405</th>\n",
       "      <td>1</td>\n",
       "      <td>405</td>\n",
       "      <td>5</td>\n",
       "      <td>2</td>\n",
       "      <td>2042510</td>\n",
       "      <td>7272025</td>\n",
       "      <td>2042510_7272025_NumPoints5m.tif</td>\n",
       "      <td>2042510_7272025_EcartZ5m.tif</td>\n",
       "      <td>2042510_7272025_Position5m.tif</td>\n",
       "    </tr>\n",
       "  </tbody>\n",
       "</table>\n",
       "</div>"
      ],
      "text/plain": [
       "     present  NumI  NumY  NumX        X        Y  \\\n",
       "52         1    52    52     0  2042500  7272260   \n",
       "92         1    92    92     0  2042500  7272460   \n",
       "170        1   170   170     0  2042500  7272850   \n",
       "249        1   249    49     1  2042505  7272245   \n",
       "281        1   281    81     1  2042505  7272405   \n",
       "303        1   303   103     1  2042505  7272515   \n",
       "307        1   307   107     1  2042505  7272535   \n",
       "405        1   405     5     2  2042510  7272025   \n",
       "\n",
       "                             nom_NUM                       nom_ECA  \\\n",
       "52   2042500_7272260_NumPoints5m.tif  2042500_7272260_EcartZ5m.tif   \n",
       "92   2042500_7272460_NumPoints5m.tif  2042500_7272460_EcartZ5m.tif   \n",
       "170  2042500_7272850_NumPoints5m.tif  2042500_7272850_EcartZ5m.tif   \n",
       "249  2042505_7272245_NumPoints5m.tif  2042505_7272245_EcartZ5m.tif   \n",
       "281  2042505_7272405_NumPoints5m.tif  2042505_7272405_EcartZ5m.tif   \n",
       "303  2042505_7272515_NumPoints5m.tif  2042505_7272515_EcartZ5m.tif   \n",
       "307  2042505_7272535_NumPoints5m.tif  2042505_7272535_EcartZ5m.tif   \n",
       "405  2042510_7272025_NumPoints5m.tif  2042510_7272025_EcartZ5m.tif   \n",
       "\n",
       "                            nom_POS  \n",
       "52   2042500_7272260_Position5m.tif  \n",
       "92   2042500_7272460_Position5m.tif  \n",
       "170  2042500_7272850_Position5m.tif  \n",
       "249  2042505_7272245_Position5m.tif  \n",
       "281  2042505_7272405_Position5m.tif  \n",
       "303  2042505_7272515_Position5m.tif  \n",
       "307  2042505_7272535_Position5m.tif  \n",
       "405  2042510_7272025_Position5m.tif  "
      ]
     },
     "execution_count": 219,
     "metadata": {},
     "output_type": "execute_result"
    }
   ],
   "source": [
    "lampes1.head(8)"
   ]
  },
  {
   "cell_type": "code",
   "execution_count": 15,
   "metadata": {
    "ExecuteTime": {
     "end_time": "2020-03-12T13:26:00.869669Z",
     "start_time": "2020-03-12T13:26:00.785767Z"
    },
    "slideshow": {
     "slide_type": "skip"
    }
   },
   "outputs": [
    {
     "data": {
      "text/html": [
       "<div>\n",
       "<style scoped>\n",
       "    .dataframe tbody tr th:only-of-type {\n",
       "        vertical-align: middle;\n",
       "    }\n",
       "\n",
       "    .dataframe tbody tr th {\n",
       "        vertical-align: top;\n",
       "    }\n",
       "\n",
       "    .dataframe thead th {\n",
       "        text-align: right;\n",
       "    }\n",
       "</style>\n",
       "<table border=\"1\" class=\"dataframe\">\n",
       "  <thead>\n",
       "    <tr style=\"text-align: right;\">\n",
       "      <th></th>\n",
       "      <th>present</th>\n",
       "      <th>NumI</th>\n",
       "      <th>NumY</th>\n",
       "      <th>NumX</th>\n",
       "      <th>X</th>\n",
       "      <th>Y</th>\n",
       "      <th>nom_NUM</th>\n",
       "      <th>nom_ECA</th>\n",
       "      <th>nom_POS</th>\n",
       "    </tr>\n",
       "  </thead>\n",
       "  <tbody>\n",
       "    <tr>\n",
       "      <th>39336</th>\n",
       "      <td>1</td>\n",
       "      <td>39336</td>\n",
       "      <td>136</td>\n",
       "      <td>196</td>\n",
       "      <td>2043480</td>\n",
       "      <td>7272680</td>\n",
       "      <td>2043480_7272680_NumPoints5m.tif</td>\n",
       "      <td>2043480_7272680_EcartZ5m.tif</td>\n",
       "      <td>2043480_7272680_Position5m.tif</td>\n",
       "    </tr>\n",
       "    <tr>\n",
       "      <th>39384</th>\n",
       "      <td>1</td>\n",
       "      <td>39384</td>\n",
       "      <td>184</td>\n",
       "      <td>196</td>\n",
       "      <td>2043480</td>\n",
       "      <td>7272920</td>\n",
       "      <td>2043480_7272920_NumPoints5m.tif</td>\n",
       "      <td>2043480_7272920_EcartZ5m.tif</td>\n",
       "      <td>2043480_7272920_Position5m.tif</td>\n",
       "    </tr>\n",
       "    <tr>\n",
       "      <th>39520</th>\n",
       "      <td>1</td>\n",
       "      <td>39520</td>\n",
       "      <td>120</td>\n",
       "      <td>197</td>\n",
       "      <td>2043485</td>\n",
       "      <td>7272600</td>\n",
       "      <td>2043485_7272600_NumPoints5m.tif</td>\n",
       "      <td>2043485_7272600_EcartZ5m.tif</td>\n",
       "      <td>2043485_7272600_Position5m.tif</td>\n",
       "    </tr>\n",
       "    <tr>\n",
       "      <th>39570</th>\n",
       "      <td>1</td>\n",
       "      <td>39570</td>\n",
       "      <td>170</td>\n",
       "      <td>197</td>\n",
       "      <td>2043485</td>\n",
       "      <td>7272850</td>\n",
       "      <td>2043485_7272850_NumPoints5m.tif</td>\n",
       "      <td>2043485_7272850_EcartZ5m.tif</td>\n",
       "      <td>2043485_7272850_Position5m.tif</td>\n",
       "    </tr>\n",
       "    <tr>\n",
       "      <th>39577</th>\n",
       "      <td>1</td>\n",
       "      <td>39577</td>\n",
       "      <td>177</td>\n",
       "      <td>197</td>\n",
       "      <td>2043485</td>\n",
       "      <td>7272885</td>\n",
       "      <td>2043485_7272885_NumPoints5m.tif</td>\n",
       "      <td>2043485_7272885_EcartZ5m.tif</td>\n",
       "      <td>2043485_7272885_Position5m.tif</td>\n",
       "    </tr>\n",
       "    <tr>\n",
       "      <th>39685</th>\n",
       "      <td>1</td>\n",
       "      <td>39685</td>\n",
       "      <td>85</td>\n",
       "      <td>198</td>\n",
       "      <td>2043490</td>\n",
       "      <td>7272425</td>\n",
       "      <td>2043490_7272425_NumPoints5m.tif</td>\n",
       "      <td>2043490_7272425_EcartZ5m.tif</td>\n",
       "      <td>2043490_7272425_Position5m.tif</td>\n",
       "    </tr>\n",
       "    <tr>\n",
       "      <th>39756</th>\n",
       "      <td>1</td>\n",
       "      <td>39756</td>\n",
       "      <td>156</td>\n",
       "      <td>198</td>\n",
       "      <td>2043490</td>\n",
       "      <td>7272780</td>\n",
       "      <td>2043490_7272780_NumPoints5m.tif</td>\n",
       "      <td>2043490_7272780_EcartZ5m.tif</td>\n",
       "      <td>2043490_7272780_Position5m.tif</td>\n",
       "    </tr>\n",
       "    <tr>\n",
       "      <th>39763</th>\n",
       "      <td>1</td>\n",
       "      <td>39763</td>\n",
       "      <td>163</td>\n",
       "      <td>198</td>\n",
       "      <td>2043490</td>\n",
       "      <td>7272815</td>\n",
       "      <td>2043490_7272815_NumPoints5m.tif</td>\n",
       "      <td>2043490_7272815_EcartZ5m.tif</td>\n",
       "      <td>2043490_7272815_Position5m.tif</td>\n",
       "    </tr>\n",
       "  </tbody>\n",
       "</table>\n",
       "</div>"
      ],
      "text/plain": [
       "       present   NumI  NumY  NumX        X        Y  \\\n",
       "39336        1  39336   136   196  2043480  7272680   \n",
       "39384        1  39384   184   196  2043480  7272920   \n",
       "39520        1  39520   120   197  2043485  7272600   \n",
       "39570        1  39570   170   197  2043485  7272850   \n",
       "39577        1  39577   177   197  2043485  7272885   \n",
       "39685        1  39685    85   198  2043490  7272425   \n",
       "39756        1  39756   156   198  2043490  7272780   \n",
       "39763        1  39763   163   198  2043490  7272815   \n",
       "\n",
       "                               nom_NUM                       nom_ECA  \\\n",
       "39336  2043480_7272680_NumPoints5m.tif  2043480_7272680_EcartZ5m.tif   \n",
       "39384  2043480_7272920_NumPoints5m.tif  2043480_7272920_EcartZ5m.tif   \n",
       "39520  2043485_7272600_NumPoints5m.tif  2043485_7272600_EcartZ5m.tif   \n",
       "39570  2043485_7272850_NumPoints5m.tif  2043485_7272850_EcartZ5m.tif   \n",
       "39577  2043485_7272885_NumPoints5m.tif  2043485_7272885_EcartZ5m.tif   \n",
       "39685  2043490_7272425_NumPoints5m.tif  2043490_7272425_EcartZ5m.tif   \n",
       "39756  2043490_7272780_NumPoints5m.tif  2043490_7272780_EcartZ5m.tif   \n",
       "39763  2043490_7272815_NumPoints5m.tif  2043490_7272815_EcartZ5m.tif   \n",
       "\n",
       "                              nom_POS  \n",
       "39336  2043480_7272680_Position5m.tif  \n",
       "39384  2043480_7272920_Position5m.tif  \n",
       "39520  2043485_7272600_Position5m.tif  \n",
       "39570  2043485_7272850_Position5m.tif  \n",
       "39577  2043485_7272885_Position5m.tif  \n",
       "39685  2043490_7272425_Position5m.tif  \n",
       "39756  2043490_7272780_Position5m.tif  \n",
       "39763  2043490_7272815_Position5m.tif  "
      ]
     },
     "execution_count": 15,
     "metadata": {},
     "output_type": "execute_result"
    }
   ],
   "source": [
    "lampes1.tail(8)"
   ]
  },
  {
   "cell_type": "code",
   "execution_count": 16,
   "metadata": {
    "ExecuteTime": {
     "end_time": "2020-03-12T13:26:09.472666Z",
     "start_time": "2020-03-12T13:26:09.384867Z"
    },
    "slideshow": {
     "slide_type": "skip"
    }
   },
   "outputs": [
    {
     "name": "stdout",
     "output_type": "stream",
     "text": [
      "(357, 9) (40000, 9)\n"
     ]
    },
    {
     "data": {
      "text/html": [
       "<div>\n",
       "<style scoped>\n",
       "    .dataframe tbody tr th:only-of-type {\n",
       "        vertical-align: middle;\n",
       "    }\n",
       "\n",
       "    .dataframe tbody tr th {\n",
       "        vertical-align: top;\n",
       "    }\n",
       "\n",
       "    .dataframe thead th {\n",
       "        text-align: right;\n",
       "    }\n",
       "</style>\n",
       "<table border=\"1\" class=\"dataframe\">\n",
       "  <thead>\n",
       "    <tr style=\"text-align: right;\">\n",
       "      <th></th>\n",
       "      <th>present</th>\n",
       "      <th>NumI</th>\n",
       "      <th>NumY</th>\n",
       "      <th>NumX</th>\n",
       "      <th>X</th>\n",
       "      <th>Y</th>\n",
       "      <th>nom_NUM</th>\n",
       "      <th>nom_ECA</th>\n",
       "      <th>nom_POS</th>\n",
       "    </tr>\n",
       "  </thead>\n",
       "  <tbody>\n",
       "    <tr>\n",
       "      <th>27731</th>\n",
       "      <td>1</td>\n",
       "      <td>27731</td>\n",
       "      <td>131</td>\n",
       "      <td>138</td>\n",
       "      <td>2043190</td>\n",
       "      <td>7272655</td>\n",
       "      <td>2043190_7272655_NumPoints5m.tif</td>\n",
       "      <td>2043190_7272655_EcartZ5m.tif</td>\n",
       "      <td>2043190_7272655_Position5m.tif</td>\n",
       "    </tr>\n",
       "    <tr>\n",
       "      <th>27747</th>\n",
       "      <td>1</td>\n",
       "      <td>27747</td>\n",
       "      <td>147</td>\n",
       "      <td>138</td>\n",
       "      <td>2043190</td>\n",
       "      <td>7272735</td>\n",
       "      <td>2043190_7272735_NumPoints5m.tif</td>\n",
       "      <td>2043190_7272735_EcartZ5m.tif</td>\n",
       "      <td>2043190_7272735_Position5m.tif</td>\n",
       "    </tr>\n",
       "    <tr>\n",
       "      <th>28103</th>\n",
       "      <td>1</td>\n",
       "      <td>28103</td>\n",
       "      <td>103</td>\n",
       "      <td>140</td>\n",
       "      <td>2043200</td>\n",
       "      <td>7272515</td>\n",
       "      <td>2043200_7272515_NumPoints5m.tif</td>\n",
       "      <td>2043200_7272515_EcartZ5m.tif</td>\n",
       "      <td>2043200_7272515_Position5m.tif</td>\n",
       "    </tr>\n",
       "    <tr>\n",
       "      <th>28125</th>\n",
       "      <td>1</td>\n",
       "      <td>28125</td>\n",
       "      <td>125</td>\n",
       "      <td>140</td>\n",
       "      <td>2043200</td>\n",
       "      <td>7272625</td>\n",
       "      <td>2043200_7272625_NumPoints5m.tif</td>\n",
       "      <td>2043200_7272625_EcartZ5m.tif</td>\n",
       "      <td>2043200_7272625_Position5m.tif</td>\n",
       "    </tr>\n",
       "    <tr>\n",
       "      <th>28131</th>\n",
       "      <td>1</td>\n",
       "      <td>28131</td>\n",
       "      <td>131</td>\n",
       "      <td>140</td>\n",
       "      <td>2043200</td>\n",
       "      <td>7272655</td>\n",
       "      <td>2043200_7272655_NumPoints5m.tif</td>\n",
       "      <td>2043200_7272655_EcartZ5m.tif</td>\n",
       "      <td>2043200_7272655_Position5m.tif</td>\n",
       "    </tr>\n",
       "    <tr>\n",
       "      <th>28193</th>\n",
       "      <td>1</td>\n",
       "      <td>28193</td>\n",
       "      <td>193</td>\n",
       "      <td>140</td>\n",
       "      <td>2043200</td>\n",
       "      <td>7272965</td>\n",
       "      <td>2043200_7272965_NumPoints5m.tif</td>\n",
       "      <td>2043200_7272965_EcartZ5m.tif</td>\n",
       "      <td>2043200_7272965_Position5m.tif</td>\n",
       "    </tr>\n",
       "    <tr>\n",
       "      <th>28256</th>\n",
       "      <td>1</td>\n",
       "      <td>28256</td>\n",
       "      <td>56</td>\n",
       "      <td>141</td>\n",
       "      <td>2043205</td>\n",
       "      <td>7272280</td>\n",
       "      <td>2043205_7272280_NumPoints5m.tif</td>\n",
       "      <td>2043205_7272280_EcartZ5m.tif</td>\n",
       "      <td>2043205_7272280_Position5m.tif</td>\n",
       "    </tr>\n",
       "    <tr>\n",
       "      <th>28393</th>\n",
       "      <td>1</td>\n",
       "      <td>28393</td>\n",
       "      <td>193</td>\n",
       "      <td>141</td>\n",
       "      <td>2043205</td>\n",
       "      <td>7272965</td>\n",
       "      <td>2043205_7272965_NumPoints5m.tif</td>\n",
       "      <td>2043205_7272965_EcartZ5m.tif</td>\n",
       "      <td>2043205_7272965_Position5m.tif</td>\n",
       "    </tr>\n",
       "    <tr>\n",
       "      <th>28463</th>\n",
       "      <td>1</td>\n",
       "      <td>28463</td>\n",
       "      <td>63</td>\n",
       "      <td>142</td>\n",
       "      <td>2043210</td>\n",
       "      <td>7272315</td>\n",
       "      <td>2043210_7272315_NumPoints5m.tif</td>\n",
       "      <td>2043210_7272315_EcartZ5m.tif</td>\n",
       "      <td>2043210_7272315_Position5m.tif</td>\n",
       "    </tr>\n",
       "    <tr>\n",
       "      <th>28464</th>\n",
       "      <td>1</td>\n",
       "      <td>28464</td>\n",
       "      <td>64</td>\n",
       "      <td>142</td>\n",
       "      <td>2043210</td>\n",
       "      <td>7272320</td>\n",
       "      <td>2043210_7272320_NumPoints5m.tif</td>\n",
       "      <td>2043210_7272320_EcartZ5m.tif</td>\n",
       "      <td>2043210_7272320_Position5m.tif</td>\n",
       "    </tr>\n",
       "    <tr>\n",
       "      <th>28662</th>\n",
       "      <td>1</td>\n",
       "      <td>28662</td>\n",
       "      <td>62</td>\n",
       "      <td>143</td>\n",
       "      <td>2043215</td>\n",
       "      <td>7272310</td>\n",
       "      <td>2043215_7272310_NumPoints5m.tif</td>\n",
       "      <td>2043215_7272310_EcartZ5m.tif</td>\n",
       "      <td>2043215_7272310_Position5m.tif</td>\n",
       "    </tr>\n",
       "    <tr>\n",
       "      <th>28665</th>\n",
       "      <td>1</td>\n",
       "      <td>28665</td>\n",
       "      <td>65</td>\n",
       "      <td>143</td>\n",
       "      <td>2043215</td>\n",
       "      <td>7272325</td>\n",
       "      <td>2043215_7272325_NumPoints5m.tif</td>\n",
       "      <td>2043215_7272325_EcartZ5m.tif</td>\n",
       "      <td>2043215_7272325_Position5m.tif</td>\n",
       "    </tr>\n",
       "    <tr>\n",
       "      <th>28717</th>\n",
       "      <td>1</td>\n",
       "      <td>28717</td>\n",
       "      <td>117</td>\n",
       "      <td>143</td>\n",
       "      <td>2043215</td>\n",
       "      <td>7272585</td>\n",
       "      <td>2043215_7272585_NumPoints5m.tif</td>\n",
       "      <td>2043215_7272585_EcartZ5m.tif</td>\n",
       "      <td>2043215_7272585_Position5m.tif</td>\n",
       "    </tr>\n",
       "    <tr>\n",
       "      <th>28762</th>\n",
       "      <td>1</td>\n",
       "      <td>28762</td>\n",
       "      <td>162</td>\n",
       "      <td>143</td>\n",
       "      <td>2043215</td>\n",
       "      <td>7272810</td>\n",
       "      <td>2043215_7272810_NumPoints5m.tif</td>\n",
       "      <td>2043215_7272810_EcartZ5m.tif</td>\n",
       "      <td>2043215_7272810_Position5m.tif</td>\n",
       "    </tr>\n",
       "    <tr>\n",
       "      <th>28794</th>\n",
       "      <td>1</td>\n",
       "      <td>28794</td>\n",
       "      <td>194</td>\n",
       "      <td>143</td>\n",
       "      <td>2043215</td>\n",
       "      <td>7272970</td>\n",
       "      <td>2043215_7272970_NumPoints5m.tif</td>\n",
       "      <td>2043215_7272970_EcartZ5m.tif</td>\n",
       "      <td>2043215_7272970_Position5m.tif</td>\n",
       "    </tr>\n",
       "    <tr>\n",
       "      <th>28858</th>\n",
       "      <td>1</td>\n",
       "      <td>28858</td>\n",
       "      <td>58</td>\n",
       "      <td>144</td>\n",
       "      <td>2043220</td>\n",
       "      <td>7272290</td>\n",
       "      <td>2043220_7272290_NumPoints5m.tif</td>\n",
       "      <td>2043220_7272290_EcartZ5m.tif</td>\n",
       "      <td>2043220_7272290_Position5m.tif</td>\n",
       "    </tr>\n",
       "    <tr>\n",
       "      <th>28859</th>\n",
       "      <td>1</td>\n",
       "      <td>28859</td>\n",
       "      <td>59</td>\n",
       "      <td>144</td>\n",
       "      <td>2043220</td>\n",
       "      <td>7272295</td>\n",
       "      <td>2043220_7272295_NumPoints5m.tif</td>\n",
       "      <td>2043220_7272295_EcartZ5m.tif</td>\n",
       "      <td>2043220_7272295_Position5m.tif</td>\n",
       "    </tr>\n",
       "    <tr>\n",
       "      <th>28867</th>\n",
       "      <td>1</td>\n",
       "      <td>28867</td>\n",
       "      <td>67</td>\n",
       "      <td>144</td>\n",
       "      <td>2043220</td>\n",
       "      <td>7272335</td>\n",
       "      <td>2043220_7272335_NumPoints5m.tif</td>\n",
       "      <td>2043220_7272335_EcartZ5m.tif</td>\n",
       "      <td>2043220_7272335_Position5m.tif</td>\n",
       "    </tr>\n",
       "    <tr>\n",
       "      <th>28871</th>\n",
       "      <td>1</td>\n",
       "      <td>28871</td>\n",
       "      <td>71</td>\n",
       "      <td>144</td>\n",
       "      <td>2043220</td>\n",
       "      <td>7272355</td>\n",
       "      <td>2043220_7272355_NumPoints5m.tif</td>\n",
       "      <td>2043220_7272355_EcartZ5m.tif</td>\n",
       "      <td>2043220_7272355_Position5m.tif</td>\n",
       "    </tr>\n",
       "    <tr>\n",
       "      <th>28873</th>\n",
       "      <td>1</td>\n",
       "      <td>28873</td>\n",
       "      <td>73</td>\n",
       "      <td>144</td>\n",
       "      <td>2043220</td>\n",
       "      <td>7272365</td>\n",
       "      <td>2043220_7272365_NumPoints5m.tif</td>\n",
       "      <td>2043220_7272365_EcartZ5m.tif</td>\n",
       "      <td>2043220_7272365_Position5m.tif</td>\n",
       "    </tr>\n",
       "  </tbody>\n",
       "</table>\n",
       "</div>"
      ],
      "text/plain": [
       "       present   NumI  NumY  NumX        X        Y  \\\n",
       "27731        1  27731   131   138  2043190  7272655   \n",
       "27747        1  27747   147   138  2043190  7272735   \n",
       "28103        1  28103   103   140  2043200  7272515   \n",
       "28125        1  28125   125   140  2043200  7272625   \n",
       "28131        1  28131   131   140  2043200  7272655   \n",
       "28193        1  28193   193   140  2043200  7272965   \n",
       "28256        1  28256    56   141  2043205  7272280   \n",
       "28393        1  28393   193   141  2043205  7272965   \n",
       "28463        1  28463    63   142  2043210  7272315   \n",
       "28464        1  28464    64   142  2043210  7272320   \n",
       "28662        1  28662    62   143  2043215  7272310   \n",
       "28665        1  28665    65   143  2043215  7272325   \n",
       "28717        1  28717   117   143  2043215  7272585   \n",
       "28762        1  28762   162   143  2043215  7272810   \n",
       "28794        1  28794   194   143  2043215  7272970   \n",
       "28858        1  28858    58   144  2043220  7272290   \n",
       "28859        1  28859    59   144  2043220  7272295   \n",
       "28867        1  28867    67   144  2043220  7272335   \n",
       "28871        1  28871    71   144  2043220  7272355   \n",
       "28873        1  28873    73   144  2043220  7272365   \n",
       "\n",
       "                               nom_NUM                       nom_ECA  \\\n",
       "27731  2043190_7272655_NumPoints5m.tif  2043190_7272655_EcartZ5m.tif   \n",
       "27747  2043190_7272735_NumPoints5m.tif  2043190_7272735_EcartZ5m.tif   \n",
       "28103  2043200_7272515_NumPoints5m.tif  2043200_7272515_EcartZ5m.tif   \n",
       "28125  2043200_7272625_NumPoints5m.tif  2043200_7272625_EcartZ5m.tif   \n",
       "28131  2043200_7272655_NumPoints5m.tif  2043200_7272655_EcartZ5m.tif   \n",
       "28193  2043200_7272965_NumPoints5m.tif  2043200_7272965_EcartZ5m.tif   \n",
       "28256  2043205_7272280_NumPoints5m.tif  2043205_7272280_EcartZ5m.tif   \n",
       "28393  2043205_7272965_NumPoints5m.tif  2043205_7272965_EcartZ5m.tif   \n",
       "28463  2043210_7272315_NumPoints5m.tif  2043210_7272315_EcartZ5m.tif   \n",
       "28464  2043210_7272320_NumPoints5m.tif  2043210_7272320_EcartZ5m.tif   \n",
       "28662  2043215_7272310_NumPoints5m.tif  2043215_7272310_EcartZ5m.tif   \n",
       "28665  2043215_7272325_NumPoints5m.tif  2043215_7272325_EcartZ5m.tif   \n",
       "28717  2043215_7272585_NumPoints5m.tif  2043215_7272585_EcartZ5m.tif   \n",
       "28762  2043215_7272810_NumPoints5m.tif  2043215_7272810_EcartZ5m.tif   \n",
       "28794  2043215_7272970_NumPoints5m.tif  2043215_7272970_EcartZ5m.tif   \n",
       "28858  2043220_7272290_NumPoints5m.tif  2043220_7272290_EcartZ5m.tif   \n",
       "28859  2043220_7272295_NumPoints5m.tif  2043220_7272295_EcartZ5m.tif   \n",
       "28867  2043220_7272335_NumPoints5m.tif  2043220_7272335_EcartZ5m.tif   \n",
       "28871  2043220_7272355_NumPoints5m.tif  2043220_7272355_EcartZ5m.tif   \n",
       "28873  2043220_7272365_NumPoints5m.tif  2043220_7272365_EcartZ5m.tif   \n",
       "\n",
       "                              nom_POS  \n",
       "27731  2043190_7272655_Position5m.tif  \n",
       "27747  2043190_7272735_Position5m.tif  \n",
       "28103  2043200_7272515_Position5m.tif  \n",
       "28125  2043200_7272625_Position5m.tif  \n",
       "28131  2043200_7272655_Position5m.tif  \n",
       "28193  2043200_7272965_Position5m.tif  \n",
       "28256  2043205_7272280_Position5m.tif  \n",
       "28393  2043205_7272965_Position5m.tif  \n",
       "28463  2043210_7272315_Position5m.tif  \n",
       "28464  2043210_7272320_Position5m.tif  \n",
       "28662  2043215_7272310_Position5m.tif  \n",
       "28665  2043215_7272325_Position5m.tif  \n",
       "28717  2043215_7272585_Position5m.tif  \n",
       "28762  2043215_7272810_Position5m.tif  \n",
       "28794  2043215_7272970_Position5m.tif  \n",
       "28858  2043220_7272290_Position5m.tif  \n",
       "28859  2043220_7272295_Position5m.tif  \n",
       "28867  2043220_7272335_Position5m.tif  \n",
       "28871  2043220_7272355_Position5m.tif  \n",
       "28873  2043220_7272365_Position5m.tif  "
      ]
     },
     "execution_count": 16,
     "metadata": {},
     "output_type": "execute_result"
    }
   ],
   "source": [
    "print(lampes1.shape, lampes0.shape)\n",
    "lampes1.head(240).tail(20)\n"
   ]
  },
  {
   "cell_type": "markdown",
   "metadata": {
    "slideshow": {
     "slide_type": "skip"
    }
   },
   "source": [
    "## Extraction de(s) image(s) dans un dataframe unique (à partir de imageio)"
   ]
  },
  {
   "cell_type": "code",
   "execution_count": null,
   "metadata": {
    "slideshow": {
     "slide_type": "skip"
    }
   },
   "outputs": [],
   "source": []
  },
  {
   "cell_type": "code",
   "execution_count": 224,
   "metadata": {
    "ExecuteTime": {
     "end_time": "2020-03-13T15:12:14.817328Z",
     "start_time": "2020-03-13T15:12:14.697392Z"
    },
    "slideshow": {
     "slide_type": "skip"
    }
   },
   "outputs": [
    {
     "name": "stdout",
     "output_type": "stream",
     "text": [
      "Coef mutiplicateur devrait-être de: 87\n",
      "Coef mutiplicateur utilisé: 0\n",
      "M: 1\n",
      "357 352 29032 29384\n",
      "30792 1760 0 29032\n",
      "29032 0 29032\n",
      "M: 2\n",
      "357 352 29032 29384\n",
      "30792 1760 0 29032\n",
      "29032 0 29032\n",
      "M: 3\n",
      "357 352 29032 29384\n",
      "30792 1760 0 29032\n",
      "29032 0 29032\n"
     ]
    }
   ],
   "source": [
    "from keras.preprocessing.image import load_img, save_img\n",
    "from keras.preprocessing.image import img_to_array\n",
    "from keras.preprocessing.image import array_to_img\n",
    "\n",
    "off = 200000\n",
    "if off > 40000:\n",
    "    off = len(liste_11)\n",
    "NN = 0\n",
    "NM = NN + off\n",
    "\n",
    "dal11 = ['nom_NUM', 'nom_ECA', 'nom_POS']\n",
    "dal12 = [DALLE_NUM, DALLE_ECA, DALLE_POS]\n",
    "listes1 = [liste_11, liste_12, liste_13]\n",
    "listes2 = [liste_21, liste_22, liste_23]\n",
    "listes3 = [liste_31, liste_32, liste_33]\n",
    "\n",
    "data = ['data1', 'data2', 'data3']\n",
    "#### Pour eviter les fichiers manquants\n",
    "# Compare les deux SETS (impossible avec des listes)\n",
    "for m in range(1,4):\n",
    "    set_A = set(dal12[m-1] + lampes1[dal11[m-1]])\n",
    "    set_B1 = set(listes1[m-1])\n",
    "    set_B2 = set(listes2[m-1])\n",
    "    set_B3 = set(listes3[m-1])\n",
    "    set_C1 = set_A & set_B1\n",
    "    set_C2 = set_B1 - set_A\n",
    "    liste_C = list(set_C2)\n",
    "    liste_extraite0 = list(liste_C[NN:NM]) + list(set_C1) + list(set_B2) + list(set_B3)\n",
    "    liste_extraite  = list(liste_C[NN:NM]) + mult * (list(set_C1) + list(set_B2) + list(set_B3))\n",
    "    #liste_extraite = list(set(list(liste_11[NN:NM]) + list(set_C1)))\n",
    "    print(len(set_A), len(set_C1), len(set_C2), len(liste_11))\n",
    "    print(len(liste_extraite0), (len(liste_extraite0) - len(set_C2)), mult, len(liste_extraite))\n",
    "\n",
    "    # creation du tenseur resultant ... merge tous les fichiers images\n",
    "    fichier = DATA_DIR9 + \"data_LAS_\" + str(dal11[m-1]) + \"_\" + str(off) + \"_\" + str(mult) + \".npy\"\n",
    "    test = False\n",
    "    if not(os.path.exists(fichier)):\n",
    "    #if test:\n",
    "    #  Ne fonctionne pas np.array(load_img(fname)) for fname in list_lamp0\n",
    "        data[m-1] = np.array([np.array(imageio.imread(fname)) for fname in liste_extraite])\n",
    "        data[m-1].shape\n",
    "        np.save(fichier, data[m-1])\n",
    "\n",
    "    liste_y1 = [ 0 for x in range(len(liste_C[NN:NM]))]\n",
    "    liste_y2 = [ 1 for x in range(mult * len(list(set_C1)))]\n",
    "    liste_y = liste_y1 + liste_y2\n",
    "    print(len(liste_y1), len(liste_y2), len(liste_y))\n"
   ]
  },
  {
   "cell_type": "markdown",
   "metadata": {
    "slideshow": {
     "slide_type": "skip"
    }
   },
   "source": [
    "### Lecture de TOUS les fichiers\n",
    "5s pour 100 fichiers\n",
    "\n",
    "~45-60mn ? pour 40000 fichiers\n",
    "\n",
    "création de la table de 200-300 colonnes"
   ]
  },
  {
   "cell_type": "code",
   "execution_count": null,
   "metadata": {},
   "outputs": [],
   "source": []
  },
  {
   "cell_type": "code",
   "execution_count": 18,
   "metadata": {
    "ExecuteTime": {
     "end_time": "2020-03-12T13:35:01.153176Z",
     "start_time": "2020-03-12T13:26:26.532924Z"
    },
    "slideshow": {
     "slide_type": "skip"
    }
   },
   "outputs": [
    {
     "name": "stdout",
     "output_type": "stream",
     "text": [
      "40357 40357 40000 40000\n",
      "(0, 0)\n",
      "0 0\n",
      "500 389\n",
      "1000 808\n",
      "1225 1000 1000 1000 0\n",
      "1500 1228\n",
      "2000 1638\n",
      "2437 2000 2000 2000 0\n",
      "2500 2057\n",
      "3000 2424\n",
      "3500 2846\n",
      "3680 3000 3000 3000 0\n",
      "4000 3269\n",
      "4500 3700\n",
      "4868 4000 4000 4000 0\n",
      "5000 4113\n",
      "5500 4543\n",
      "6000 4972\n",
      "6041 5000 5000 5000 0\n",
      "6500 5414\n",
      "7000 5858\n",
      "7161 6000 6000 6000 0\n",
      "7500 6302\n",
      "8000 6750\n",
      "8265 7000 7000 7000 0\n",
      "8500 7219\n",
      "9000 7698\n",
      "9331 8000 8000 8000 0\n",
      "9500 8152\n",
      "10000 8611\n",
      "10443 9000 9000 9000 0\n",
      "10500 9056\n",
      "11000 9491\n",
      "11500 9898\n",
      "11635 10000 10000 10000 0\n",
      "12000 10310\n",
      "12500 10697\n",
      "12906 11000 11000 11000 0\n",
      "13000 11072\n",
      "13500 11480\n",
      "14000 11877\n",
      "14171 12000 12000 12000 0\n",
      "14500 12243\n",
      "15000 12596\n",
      "15500 12930\n",
      "15599 13000 13000 13000 0\n",
      "16000 13219\n",
      "16500 13550\n",
      "17000 13869\n",
      "17206 14000 14000 14000 0\n",
      "17500 14188\n",
      "18000 14491\n",
      "18500 14863\n",
      "18688 15000 15000 15000 0\n",
      "19000 15256\n",
      "19500 15665\n",
      "19935 16000 16000 16000 0\n",
      "20000 16037\n",
      "20500 16424\n",
      "21000 16778\n",
      "21297 17000 17000 17000 0\n",
      "21500 17144\n",
      "22000 17476\n",
      "22500 17780\n",
      "22865 18000 18000 18000 0\n",
      "23000 18086\n",
      "23500 18423\n",
      "24000 18732\n",
      "24421 19000 19000 19000 0\n",
      "24500 19057\n",
      "25000 19393\n",
      "25500 19733\n",
      "25903 20000 20000 20000 0\n",
      "26000 20053\n",
      "26500 20395\n",
      "27000 20753\n",
      "27322 21000 21000 21000 0\n",
      "27500 21151\n",
      "28000 21536\n",
      "28500 21913\n",
      "28611 22000 22000 22000 0\n",
      "29000 22303\n",
      "29500 22661\n",
      "30000 22991\n",
      "30009 23000 23000 23000 0\n",
      "30500 23333\n",
      "31000 23625\n",
      "31500 23866\n",
      "31783 24000 24000 24000 0\n",
      "32000 24122\n",
      "32500 24420\n",
      "33000 24727\n",
      "33427 25000 25000 25000 0\n",
      "33500 25040\n",
      "34000 25345\n",
      "34500 25709\n",
      "34890 26000 26000 26000 0\n",
      "35000 26069\n",
      "35500 26436\n",
      "36000 26764\n",
      "36337 27000 27000 27000 0\n",
      "36500 27111\n",
      "37000 27425\n",
      "37500 27755\n",
      "37878 28000 28000 28000 0\n",
      "38000 28072\n",
      "38500 28407\n",
      "39000 28728\n",
      "39416 29000 29000 29000 0\n",
      "39500 29059\n",
      "40000 29384\n",
      "40357 29736 29736 29736 10621 (29736, 201) 1.0\n"
     ]
    },
    {
     "data": {
      "text/html": [
       "<div>\n",
       "<style scoped>\n",
       "    .dataframe tbody tr th:only-of-type {\n",
       "        vertical-align: middle;\n",
       "    }\n",
       "\n",
       "    .dataframe tbody tr th {\n",
       "        vertical-align: top;\n",
       "    }\n",
       "\n",
       "    .dataframe thead th {\n",
       "        text-align: right;\n",
       "    }\n",
       "</style>\n",
       "<table border=\"1\" class=\"dataframe\">\n",
       "  <thead>\n",
       "    <tr style=\"text-align: right;\">\n",
       "      <th></th>\n",
       "      <th>0_num</th>\n",
       "      <th>1_num</th>\n",
       "      <th>2_num</th>\n",
       "      <th>3_num</th>\n",
       "      <th>4_num</th>\n",
       "      <th>5_num</th>\n",
       "      <th>6_num</th>\n",
       "      <th>7_num</th>\n",
       "      <th>8_num</th>\n",
       "      <th>9_num</th>\n",
       "      <th>...</th>\n",
       "      <th>91_h</th>\n",
       "      <th>92_h</th>\n",
       "      <th>93_h</th>\n",
       "      <th>94_h</th>\n",
       "      <th>95_h</th>\n",
       "      <th>96_h</th>\n",
       "      <th>97_h</th>\n",
       "      <th>98_h</th>\n",
       "      <th>99_h</th>\n",
       "      <th>label</th>\n",
       "    </tr>\n",
       "  </thead>\n",
       "  <tbody>\n",
       "    <tr>\n",
       "      <th>1</th>\n",
       "      <td>0</td>\n",
       "      <td>0</td>\n",
       "      <td>0</td>\n",
       "      <td>0</td>\n",
       "      <td>0</td>\n",
       "      <td>0</td>\n",
       "      <td>0</td>\n",
       "      <td>6</td>\n",
       "      <td>3</td>\n",
       "      <td>1</td>\n",
       "      <td>...</td>\n",
       "      <td>0.55</td>\n",
       "      <td>0.00</td>\n",
       "      <td>0.00</td>\n",
       "      <td>0.00</td>\n",
       "      <td>0.00</td>\n",
       "      <td>0.00</td>\n",
       "      <td>0.0</td>\n",
       "      <td>0.00</td>\n",
       "      <td>0.00</td>\n",
       "      <td>0</td>\n",
       "    </tr>\n",
       "    <tr>\n",
       "      <th>2</th>\n",
       "      <td>0</td>\n",
       "      <td>0</td>\n",
       "      <td>0</td>\n",
       "      <td>0</td>\n",
       "      <td>4</td>\n",
       "      <td>3</td>\n",
       "      <td>0</td>\n",
       "      <td>0</td>\n",
       "      <td>0</td>\n",
       "      <td>0</td>\n",
       "      <td>...</td>\n",
       "      <td>0.00</td>\n",
       "      <td>0.00</td>\n",
       "      <td>0.00</td>\n",
       "      <td>0.00</td>\n",
       "      <td>0.00</td>\n",
       "      <td>0.00</td>\n",
       "      <td>0.0</td>\n",
       "      <td>0.30</td>\n",
       "      <td>0.00</td>\n",
       "      <td>0</td>\n",
       "    </tr>\n",
       "    <tr>\n",
       "      <th>3</th>\n",
       "      <td>1</td>\n",
       "      <td>2</td>\n",
       "      <td>1</td>\n",
       "      <td>1</td>\n",
       "      <td>0</td>\n",
       "      <td>1</td>\n",
       "      <td>0</td>\n",
       "      <td>0</td>\n",
       "      <td>0</td>\n",
       "      <td>0</td>\n",
       "      <td>...</td>\n",
       "      <td>0.00</td>\n",
       "      <td>0.00</td>\n",
       "      <td>0.00</td>\n",
       "      <td>0.67</td>\n",
       "      <td>0.17</td>\n",
       "      <td>0.58</td>\n",
       "      <td>0.0</td>\n",
       "      <td>0.00</td>\n",
       "      <td>0.00</td>\n",
       "      <td>0</td>\n",
       "    </tr>\n",
       "    <tr>\n",
       "      <th>4</th>\n",
       "      <td>0</td>\n",
       "      <td>0</td>\n",
       "      <td>0</td>\n",
       "      <td>0</td>\n",
       "      <td>0</td>\n",
       "      <td>0</td>\n",
       "      <td>0</td>\n",
       "      <td>0</td>\n",
       "      <td>0</td>\n",
       "      <td>0</td>\n",
       "      <td>...</td>\n",
       "      <td>0.17</td>\n",
       "      <td>0.35</td>\n",
       "      <td>0.77</td>\n",
       "      <td>0.00</td>\n",
       "      <td>0.00</td>\n",
       "      <td>0.00</td>\n",
       "      <td>0.0</td>\n",
       "      <td>0.00</td>\n",
       "      <td>0.00</td>\n",
       "      <td>0</td>\n",
       "    </tr>\n",
       "    <tr>\n",
       "      <th>5</th>\n",
       "      <td>0</td>\n",
       "      <td>0</td>\n",
       "      <td>0</td>\n",
       "      <td>0</td>\n",
       "      <td>0</td>\n",
       "      <td>0</td>\n",
       "      <td>0</td>\n",
       "      <td>0</td>\n",
       "      <td>0</td>\n",
       "      <td>0</td>\n",
       "      <td>...</td>\n",
       "      <td>0.00</td>\n",
       "      <td>0.00</td>\n",
       "      <td>0.00</td>\n",
       "      <td>0.00</td>\n",
       "      <td>0.00</td>\n",
       "      <td>0.00</td>\n",
       "      <td>0.0</td>\n",
       "      <td>0.00</td>\n",
       "      <td>0.00</td>\n",
       "      <td>0</td>\n",
       "    </tr>\n",
       "    <tr>\n",
       "      <th>...</th>\n",
       "      <td>...</td>\n",
       "      <td>...</td>\n",
       "      <td>...</td>\n",
       "      <td>...</td>\n",
       "      <td>...</td>\n",
       "      <td>...</td>\n",
       "      <td>...</td>\n",
       "      <td>...</td>\n",
       "      <td>...</td>\n",
       "      <td>...</td>\n",
       "      <td>...</td>\n",
       "      <td>...</td>\n",
       "      <td>...</td>\n",
       "      <td>...</td>\n",
       "      <td>...</td>\n",
       "      <td>...</td>\n",
       "      <td>...</td>\n",
       "      <td>...</td>\n",
       "      <td>...</td>\n",
       "      <td>...</td>\n",
       "      <td>...</td>\n",
       "    </tr>\n",
       "    <tr>\n",
       "      <th>29732</th>\n",
       "      <td>1</td>\n",
       "      <td>2</td>\n",
       "      <td>1</td>\n",
       "      <td>1</td>\n",
       "      <td>0</td>\n",
       "      <td>0</td>\n",
       "      <td>0</td>\n",
       "      <td>0</td>\n",
       "      <td>0</td>\n",
       "      <td>1</td>\n",
       "      <td>...</td>\n",
       "      <td>0.00</td>\n",
       "      <td>0.00</td>\n",
       "      <td>0.00</td>\n",
       "      <td>0.00</td>\n",
       "      <td>0.00</td>\n",
       "      <td>0.00</td>\n",
       "      <td>0.0</td>\n",
       "      <td>0.00</td>\n",
       "      <td>0.00</td>\n",
       "      <td>1</td>\n",
       "    </tr>\n",
       "    <tr>\n",
       "      <th>29733</th>\n",
       "      <td>0</td>\n",
       "      <td>0</td>\n",
       "      <td>0</td>\n",
       "      <td>0</td>\n",
       "      <td>0</td>\n",
       "      <td>0</td>\n",
       "      <td>0</td>\n",
       "      <td>0</td>\n",
       "      <td>0</td>\n",
       "      <td>0</td>\n",
       "      <td>...</td>\n",
       "      <td>0.00</td>\n",
       "      <td>0.00</td>\n",
       "      <td>0.00</td>\n",
       "      <td>0.00</td>\n",
       "      <td>0.00</td>\n",
       "      <td>0.00</td>\n",
       "      <td>0.0</td>\n",
       "      <td>0.00</td>\n",
       "      <td>0.00</td>\n",
       "      <td>1</td>\n",
       "    </tr>\n",
       "    <tr>\n",
       "      <th>29734</th>\n",
       "      <td>5</td>\n",
       "      <td>4</td>\n",
       "      <td>3</td>\n",
       "      <td>8</td>\n",
       "      <td>0</td>\n",
       "      <td>0</td>\n",
       "      <td>0</td>\n",
       "      <td>0</td>\n",
       "      <td>0</td>\n",
       "      <td>3</td>\n",
       "      <td>...</td>\n",
       "      <td>0.71</td>\n",
       "      <td>0.00</td>\n",
       "      <td>0.05</td>\n",
       "      <td>0.27</td>\n",
       "      <td>0.00</td>\n",
       "      <td>0.00</td>\n",
       "      <td>0.0</td>\n",
       "      <td>0.07</td>\n",
       "      <td>0.03</td>\n",
       "      <td>1</td>\n",
       "    </tr>\n",
       "    <tr>\n",
       "      <th>29735</th>\n",
       "      <td>0</td>\n",
       "      <td>0</td>\n",
       "      <td>1</td>\n",
       "      <td>0</td>\n",
       "      <td>0</td>\n",
       "      <td>0</td>\n",
       "      <td>1</td>\n",
       "      <td>0</td>\n",
       "      <td>5</td>\n",
       "      <td>1</td>\n",
       "      <td>...</td>\n",
       "      <td>0.00</td>\n",
       "      <td>0.00</td>\n",
       "      <td>0.00</td>\n",
       "      <td>0.00</td>\n",
       "      <td>0.00</td>\n",
       "      <td>0.00</td>\n",
       "      <td>0.0</td>\n",
       "      <td>0.00</td>\n",
       "      <td>0.00</td>\n",
       "      <td>1</td>\n",
       "    </tr>\n",
       "    <tr>\n",
       "      <th>29736</th>\n",
       "      <td>0</td>\n",
       "      <td>0</td>\n",
       "      <td>0</td>\n",
       "      <td>0</td>\n",
       "      <td>0</td>\n",
       "      <td>0</td>\n",
       "      <td>0</td>\n",
       "      <td>0</td>\n",
       "      <td>0</td>\n",
       "      <td>0</td>\n",
       "      <td>...</td>\n",
       "      <td>0.00</td>\n",
       "      <td>0.00</td>\n",
       "      <td>0.00</td>\n",
       "      <td>0.00</td>\n",
       "      <td>0.00</td>\n",
       "      <td>0.00</td>\n",
       "      <td>0.0</td>\n",
       "      <td>0.00</td>\n",
       "      <td>0.01</td>\n",
       "      <td>1</td>\n",
       "    </tr>\n",
       "  </tbody>\n",
       "</table>\n",
       "<p>29736 rows × 201 columns</p>\n",
       "</div>"
      ],
      "text/plain": [
       "       0_num  1_num  2_num  3_num  4_num  5_num  6_num  7_num  8_num  9_num  \\\n",
       "1          0      0      0      0      0      0      0      6      3      1   \n",
       "2          0      0      0      0      4      3      0      0      0      0   \n",
       "3          1      2      1      1      0      1      0      0      0      0   \n",
       "4          0      0      0      0      0      0      0      0      0      0   \n",
       "5          0      0      0      0      0      0      0      0      0      0   \n",
       "...      ...    ...    ...    ...    ...    ...    ...    ...    ...    ...   \n",
       "29732      1      2      1      1      0      0      0      0      0      1   \n",
       "29733      0      0      0      0      0      0      0      0      0      0   \n",
       "29734      5      4      3      8      0      0      0      0      0      3   \n",
       "29735      0      0      1      0      0      0      1      0      5      1   \n",
       "29736      0      0      0      0      0      0      0      0      0      0   \n",
       "\n",
       "       ...  91_h  92_h  93_h  94_h  95_h  96_h  97_h  98_h  99_h  label  \n",
       "1      ...  0.55  0.00  0.00  0.00  0.00  0.00   0.0  0.00  0.00      0  \n",
       "2      ...  0.00  0.00  0.00  0.00  0.00  0.00   0.0  0.30  0.00      0  \n",
       "3      ...  0.00  0.00  0.00  0.67  0.17  0.58   0.0  0.00  0.00      0  \n",
       "4      ...  0.17  0.35  0.77  0.00  0.00  0.00   0.0  0.00  0.00      0  \n",
       "5      ...  0.00  0.00  0.00  0.00  0.00  0.00   0.0  0.00  0.00      0  \n",
       "...    ...   ...   ...   ...   ...   ...   ...   ...   ...   ...    ...  \n",
       "29732  ...  0.00  0.00  0.00  0.00  0.00  0.00   0.0  0.00  0.00      1  \n",
       "29733  ...  0.00  0.00  0.00  0.00  0.00  0.00   0.0  0.00  0.00      1  \n",
       "29734  ...  0.71  0.00  0.05  0.27  0.00  0.00   0.0  0.07  0.03      1  \n",
       "29735  ...  0.00  0.00  0.00  0.00  0.00  0.00   0.0  0.00  0.00      1  \n",
       "29736  ...  0.00  0.00  0.00  0.00  0.00  0.00   0.0  0.00  0.01      1  \n",
       "\n",
       "[29736 rows x 201 columns]"
      ]
     },
     "execution_count": 18,
     "metadata": {},
     "output_type": "execute_result"
    }
   ],
   "source": [
    "#  limitation à XXX valeurs\n",
    "\n",
    "NN = 0\n",
    "NM = NN + off\n",
    "\n",
    "n_row2 =  10   #TODO mettre le produit des dimension de la matrice image\n",
    "n_col2 =  10\n",
    "N2 = n_row2*n_col2  # N=100\n",
    "\n",
    "#################################################\n",
    "#################################################\n",
    "###   TODO ... regarder l'unicité des 2 listes\n",
    "#################################################\n",
    "#################################################\n",
    "\n",
    "### assemble 2 listes (lampadaires totale + NM * valeurs au hazard ... fichiers unique)\n",
    "#list_lamp0 = list(set(lampes0['nom_NUM'][NN:NM] + list(DALLE_NUM + list_lamp1)))\n",
    "list_lamp0 = list(DALLE_NUM + lampes0['nom_NUM']) + list(DALLE_NUM + lampes1['nom_NUM'])\n",
    "list_lamp1 = list(DALLE_NUM + lampes0['nom_POS'])\n",
    "list_lamp2 = list(DALLE_ECA + lampes0['nom_ECA'])\n",
    "list_lamp0b = list(lampes0['present']) + list(lampes1['present'])\n",
    "print(len(list_lamp0), len(list_lamp0b), len(list_lamp1), len(list_lamp2))\n",
    "\n",
    "\n",
    "# si df3 existe déjà  ... MAIS verifier si bon fichier \n",
    "df3 = pd.DataFrame()\n",
    "print(df3.shape)\n",
    "test = True\n",
    "if df3.shape[0] == off:\n",
    "        test = False\n",
    "if test:\n",
    "    (i, j, k) = (0,0,0)\n",
    "    for n,fich1 in enumerate(list_lamp0):\n",
    "        if n%500 == 0:\n",
    "            print(n, i)\n",
    "        fich2 = fich1.replace(\"NumPoints5m\", \"EcartZ5m\")\n",
    "        fich3 = fich1.replace(\"NumPoints5m\", \"Position5m\")\n",
    "        #fiche3 = DALLE_POS+fich3  \n",
    "# fichiers dalles manquantes ???? ... pourquoi ?????\n",
    "        if os.path.exists(fich2):    # \n",
    "            j += 1\n",
    "        if os.path.exists(fich3):    # \n",
    "            k += 1\n",
    "        if os.path.exists(fich1):    # Manque des fichiers sur les 40000\n",
    "            i += 1\n",
    "            if i%1000 == 0:\n",
    "                print(n+1, i, j, k, list_lamp0b[n])\n",
    "            data1 = np.reshape(imageio.imread(fich1), N2) #.flatten()\n",
    "            data1T = np.expand_dims(data1, axis=0)\n",
    "            data2 = np.reshape(imageio.imread(fich2), N2)\n",
    "            data2T = np.expand_dims(data2, axis=0)\n",
    "            #data3 = np.reshape(imageio.imread(fiche3), N2)\n",
    "            #data3T = np.expand_dims(data3, axis=0)\n",
    "            #print(i, data1T.shape, data2T.shape, data3T.shape)\n",
    "            df_int1 = pd.DataFrame(data1T, index=[i])  #, index=indices)\n",
    "            df_int2 = pd.DataFrame(data2T, index=[i])  \n",
    "            #df_int3 = pd.DataFrame(data3T, index=[i])\n",
    "            # MERGE \n",
    "            #df_inta = df_int1.merge(df_int2, left_index=True, right_index=True, suffixes=('_num', '_h'))\n",
    "            #df_int = df_inta.merge(df_int3, left_index=True, right_index=True)\n",
    "            df_int = df_int1.merge(df_int2, left_index=True, right_index=True, suffixes=('_num', '_h'))\n",
    "            df_int['label'] = list_lamp0b[n]    #\n",
    "            if i == 1:\n",
    "                #print(dataT)\n",
    "                df3 = df_int\n",
    "            else:\n",
    "                df3 = pd.concat([df3, df_int])\n",
    "        else:\n",
    "            pass     #print(fiche1, fich2)\n",
    "    if i > 0:\n",
    "        print(n+1, i,j,k, n+1-i, df3.shape, df3.shape[0]/i)\n",
    "    \n",
    "    # change pour des entiers et pas des nombres flottant \n",
    "    for n in range(0,N2):\n",
    "        df3 = df3.astype({str(n)+'_num': 'int8'}, copy=False)\n",
    "    #print(df3.dtypes)\n",
    "df3\n",
    "\n",
    "#  TODO rajouter une colonne de présence ( comparer avec SORTIE :  0 ou 1)\n",
    "#####################################################\n",
    "#  remplir une colonne de zéro\n",
    "#  puis boucler sur les N=357 valeurs pour indiquer la présence d'un lampadaire\n",
    "#####################################################\n",
    "#  puis faire 100 sorties 0-1 pour  les 100 positions"
   ]
  },
  {
   "cell_type": "code",
   "execution_count": 19,
   "metadata": {
    "ExecuteTime": {
     "end_time": "2020-03-12T13:35:10.761354Z",
     "start_time": "2020-03-12T13:35:10.155617Z"
    },
    "slideshow": {
     "slide_type": "skip"
    }
   },
   "outputs": [
    {
     "data": {
      "text/html": [
       "<div>\n",
       "<style scoped>\n",
       "    .dataframe tbody tr th:only-of-type {\n",
       "        vertical-align: middle;\n",
       "    }\n",
       "\n",
       "    .dataframe tbody tr th {\n",
       "        vertical-align: top;\n",
       "    }\n",
       "\n",
       "    .dataframe thead th {\n",
       "        text-align: right;\n",
       "    }\n",
       "</style>\n",
       "<table border=\"1\" class=\"dataframe\">\n",
       "  <thead>\n",
       "    <tr style=\"text-align: right;\">\n",
       "      <th></th>\n",
       "      <th>count</th>\n",
       "      <th>mean</th>\n",
       "      <th>std</th>\n",
       "      <th>val</th>\n",
       "    </tr>\n",
       "  </thead>\n",
       "  <tbody>\n",
       "    <tr>\n",
       "      <th>0_num</th>\n",
       "      <td>29736.0</td>\n",
       "      <td>0.875874</td>\n",
       "      <td>1.766939</td>\n",
       "      <td>26045.00</td>\n",
       "    </tr>\n",
       "    <tr>\n",
       "      <th>1_num</th>\n",
       "      <td>29736.0</td>\n",
       "      <td>0.875000</td>\n",
       "      <td>1.753925</td>\n",
       "      <td>26019.00</td>\n",
       "    </tr>\n",
       "    <tr>\n",
       "      <th>2_num</th>\n",
       "      <td>29736.0</td>\n",
       "      <td>0.862355</td>\n",
       "      <td>1.735122</td>\n",
       "      <td>25643.00</td>\n",
       "    </tr>\n",
       "    <tr>\n",
       "      <th>3_num</th>\n",
       "      <td>29736.0</td>\n",
       "      <td>0.868510</td>\n",
       "      <td>1.753690</td>\n",
       "      <td>25826.00</td>\n",
       "    </tr>\n",
       "    <tr>\n",
       "      <th>4_num</th>\n",
       "      <td>29736.0</td>\n",
       "      <td>0.863499</td>\n",
       "      <td>1.744741</td>\n",
       "      <td>25677.00</td>\n",
       "    </tr>\n",
       "    <tr>\n",
       "      <th>...</th>\n",
       "      <td>...</td>\n",
       "      <td>...</td>\n",
       "      <td>...</td>\n",
       "      <td>...</td>\n",
       "    </tr>\n",
       "    <tr>\n",
       "      <th>96_h</th>\n",
       "      <td>29736.0</td>\n",
       "      <td>0.127799</td>\n",
       "      <td>0.624246</td>\n",
       "      <td>3800.24</td>\n",
       "    </tr>\n",
       "    <tr>\n",
       "      <th>97_h</th>\n",
       "      <td>29736.0</td>\n",
       "      <td>0.129080</td>\n",
       "      <td>0.611349</td>\n",
       "      <td>3838.33</td>\n",
       "    </tr>\n",
       "    <tr>\n",
       "      <th>98_h</th>\n",
       "      <td>29736.0</td>\n",
       "      <td>0.130893</td>\n",
       "      <td>0.617141</td>\n",
       "      <td>3892.23</td>\n",
       "    </tr>\n",
       "    <tr>\n",
       "      <th>99_h</th>\n",
       "      <td>29736.0</td>\n",
       "      <td>0.124229</td>\n",
       "      <td>0.594682</td>\n",
       "      <td>3694.08</td>\n",
       "    </tr>\n",
       "    <tr>\n",
       "      <th>label</th>\n",
       "      <td>29736.0</td>\n",
       "      <td>0.023675</td>\n",
       "      <td>0.152037</td>\n",
       "      <td>704.00</td>\n",
       "    </tr>\n",
       "  </tbody>\n",
       "</table>\n",
       "<p>201 rows × 4 columns</p>\n",
       "</div>"
      ],
      "text/plain": [
       "         count      mean       std       val\n",
       "0_num  29736.0  0.875874  1.766939  26045.00\n",
       "1_num  29736.0  0.875000  1.753925  26019.00\n",
       "2_num  29736.0  0.862355  1.735122  25643.00\n",
       "3_num  29736.0  0.868510  1.753690  25826.00\n",
       "4_num  29736.0  0.863499  1.744741  25677.00\n",
       "...        ...       ...       ...       ...\n",
       "96_h   29736.0  0.127799  0.624246   3800.24\n",
       "97_h   29736.0  0.129080  0.611349   3838.33\n",
       "98_h   29736.0  0.130893  0.617141   3892.23\n",
       "99_h   29736.0  0.124229  0.594682   3694.08\n",
       "label  29736.0  0.023675  0.152037    704.00\n",
       "\n",
       "[201 rows x 4 columns]"
      ]
     },
     "execution_count": 19,
     "metadata": {},
     "output_type": "execute_result"
    }
   ],
   "source": [
    "df3_total = df3.copy()\n",
    "\n",
    "testD = df3_total.describe()[:3].T\n",
    "testD['val'] = (testD['count'] * testD['mean'])\n",
    "testD"
   ]
  },
  {
   "cell_type": "code",
   "execution_count": 20,
   "metadata": {
    "ExecuteTime": {
     "end_time": "2020-03-12T13:35:22.286755Z",
     "start_time": "2020-03-12T13:35:19.451867Z"
    },
    "slideshow": {
     "slide_type": "skip"
    }
   },
   "outputs": [
    {
     "name": "stdout",
     "output_type": "stream",
     "text": [
      "(29736, 201)\n"
     ]
    }
   ],
   "source": [
    "# Sauvegarde du fichier total \n",
    "test = True\n",
    "if test:\n",
    "    fileSAVE = DATA_DIR9 + \"donnees_LAS_1k_1k.csv\"\n",
    "    #fileSAVE = DATA_DIR9 + \"donnees_IMAC_LAS_1k_1k.csv\"\n",
    "    df3.to_csv(fileSAVE, index=False)\n",
    "print(df3_total.shape)"
   ]
  },
  {
   "cell_type": "code",
   "execution_count": null,
   "metadata": {
    "slideshow": {
     "slide_type": "skip"
    }
   },
   "outputs": [],
   "source": []
  },
  {
   "cell_type": "markdown",
   "metadata": {
    "slideshow": {
     "slide_type": "skip"
    }
   },
   "source": [
    "# KERAS - TENSORFLOW"
   ]
  },
  {
   "cell_type": "markdown",
   "metadata": {
    "slideshow": {
     "slide_type": "skip"
    }
   },
   "source": [
    "## Lecture du fichier de données"
   ]
  },
  {
   "cell_type": "code",
   "execution_count": 21,
   "metadata": {
    "ExecuteTime": {
     "end_time": "2020-03-12T13:38:30.599342Z",
     "start_time": "2020-03-12T13:38:30.051075Z"
    },
    "slideshow": {
     "slide_type": "skip"
    }
   },
   "outputs": [
    {
     "name": "stdout",
     "output_type": "stream",
     "text": [
      "<module 'tensorflow_core.keras.datasets' from '/Users/pierreleisy/Data_Science/anaconda3/envs/geo_env/lib/python3.7/site-packages/tensorflow_core/python/keras/api/_v2/keras/datasets/__init__.py'>\n"
     ]
    },
    {
     "data": {
      "text/html": [
       "<div>\n",
       "<style scoped>\n",
       "    .dataframe tbody tr th:only-of-type {\n",
       "        vertical-align: middle;\n",
       "    }\n",
       "\n",
       "    .dataframe tbody tr th {\n",
       "        vertical-align: top;\n",
       "    }\n",
       "\n",
       "    .dataframe thead th {\n",
       "        text-align: right;\n",
       "    }\n",
       "</style>\n",
       "<table border=\"1\" class=\"dataframe\">\n",
       "  <thead>\n",
       "    <tr style=\"text-align: right;\">\n",
       "      <th></th>\n",
       "      <th>0_num</th>\n",
       "      <th>1_num</th>\n",
       "      <th>2_num</th>\n",
       "      <th>3_num</th>\n",
       "      <th>4_num</th>\n",
       "      <th>5_num</th>\n",
       "      <th>6_num</th>\n",
       "      <th>7_num</th>\n",
       "      <th>8_num</th>\n",
       "      <th>9_num</th>\n",
       "      <th>...</th>\n",
       "      <th>91_h</th>\n",
       "      <th>92_h</th>\n",
       "      <th>93_h</th>\n",
       "      <th>94_h</th>\n",
       "      <th>95_h</th>\n",
       "      <th>96_h</th>\n",
       "      <th>97_h</th>\n",
       "      <th>98_h</th>\n",
       "      <th>99_h</th>\n",
       "      <th>label</th>\n",
       "    </tr>\n",
       "  </thead>\n",
       "  <tbody>\n",
       "    <tr>\n",
       "      <th>0</th>\n",
       "      <td>0</td>\n",
       "      <td>0</td>\n",
       "      <td>0</td>\n",
       "      <td>0</td>\n",
       "      <td>0</td>\n",
       "      <td>0</td>\n",
       "      <td>0</td>\n",
       "      <td>6</td>\n",
       "      <td>3</td>\n",
       "      <td>1</td>\n",
       "      <td>...</td>\n",
       "      <td>0.55</td>\n",
       "      <td>0.0</td>\n",
       "      <td>0.0</td>\n",
       "      <td>0.0</td>\n",
       "      <td>0.0</td>\n",
       "      <td>0.0</td>\n",
       "      <td>0.0</td>\n",
       "      <td>0.0</td>\n",
       "      <td>0.0</td>\n",
       "      <td>0</td>\n",
       "    </tr>\n",
       "    <tr>\n",
       "      <th>1</th>\n",
       "      <td>0</td>\n",
       "      <td>0</td>\n",
       "      <td>0</td>\n",
       "      <td>0</td>\n",
       "      <td>4</td>\n",
       "      <td>3</td>\n",
       "      <td>0</td>\n",
       "      <td>0</td>\n",
       "      <td>0</td>\n",
       "      <td>0</td>\n",
       "      <td>...</td>\n",
       "      <td>0.00</td>\n",
       "      <td>0.0</td>\n",
       "      <td>0.0</td>\n",
       "      <td>0.0</td>\n",
       "      <td>0.0</td>\n",
       "      <td>0.0</td>\n",
       "      <td>0.0</td>\n",
       "      <td>0.3</td>\n",
       "      <td>0.0</td>\n",
       "      <td>0</td>\n",
       "    </tr>\n",
       "  </tbody>\n",
       "</table>\n",
       "<p>2 rows × 201 columns</p>\n",
       "</div>"
      ],
      "text/plain": [
       "   0_num  1_num  2_num  3_num  4_num  5_num  6_num  7_num  8_num  9_num  ...  \\\n",
       "0      0      0      0      0      0      0      0      6      3      1  ...   \n",
       "1      0      0      0      0      4      3      0      0      0      0  ...   \n",
       "\n",
       "   91_h  92_h  93_h  94_h  95_h  96_h  97_h  98_h  99_h  label  \n",
       "0  0.55   0.0   0.0   0.0   0.0   0.0   0.0   0.0   0.0      0  \n",
       "1  0.00   0.0   0.0   0.0   0.0   0.0   0.0   0.3   0.0      0  \n",
       "\n",
       "[2 rows x 201 columns]"
      ]
     },
     "execution_count": 21,
     "metadata": {},
     "output_type": "execute_result"
    }
   ],
   "source": [
    "print(tf.keras.datasets)\n",
    "if platform.system() == 'Darwin' and platform.release() == '18.0.0':\n",
    "    df4 = pd.read_csv(DATA_DIR9 + \"donnees_IMAC_LAS_1k_1k.csv\")\n",
    "else:\n",
    "    df4 = pd.read_csv(DATA_DIR9 + \"donnees_LAS_1k_1k.csv\")\n",
    "df4.head(2)"
   ]
  },
  {
   "cell_type": "markdown",
   "metadata": {
    "slideshow": {
     "slide_type": "skip"
    }
   },
   "source": [
    "### Rajouter des lampadaires pour améliorer l'entrainement"
   ]
  },
  {
   "cell_type": "code",
   "execution_count": 22,
   "metadata": {
    "ExecuteTime": {
     "end_time": "2020-03-12T13:38:40.045141Z",
     "start_time": "2020-03-12T13:38:39.877345Z"
    },
    "slideshow": {
     "slide_type": "skip"
    }
   },
   "outputs": [
    {
     "name": "stdout",
     "output_type": "stream",
     "text": [
      "On rajoute:  0  fois 704  nombre de lampadaires ( 0 )\n",
      "(29736, 201) 29736 704 0\n",
      "(29736, 201)\n"
     ]
    },
    {
     "data": {
      "text/html": [
       "<div>\n",
       "<style scoped>\n",
       "    .dataframe tbody tr th:only-of-type {\n",
       "        vertical-align: middle;\n",
       "    }\n",
       "\n",
       "    .dataframe tbody tr th {\n",
       "        vertical-align: top;\n",
       "    }\n",
       "\n",
       "    .dataframe thead th {\n",
       "        text-align: right;\n",
       "    }\n",
       "</style>\n",
       "<table border=\"1\" class=\"dataframe\">\n",
       "  <thead>\n",
       "    <tr style=\"text-align: right;\">\n",
       "      <th></th>\n",
       "      <th>0_num</th>\n",
       "      <th>1_num</th>\n",
       "      <th>2_num</th>\n",
       "      <th>3_num</th>\n",
       "      <th>4_num</th>\n",
       "      <th>5_num</th>\n",
       "      <th>6_num</th>\n",
       "      <th>7_num</th>\n",
       "      <th>8_num</th>\n",
       "      <th>9_num</th>\n",
       "      <th>...</th>\n",
       "      <th>91_h</th>\n",
       "      <th>92_h</th>\n",
       "      <th>93_h</th>\n",
       "      <th>94_h</th>\n",
       "      <th>95_h</th>\n",
       "      <th>96_h</th>\n",
       "      <th>97_h</th>\n",
       "      <th>98_h</th>\n",
       "      <th>99_h</th>\n",
       "      <th>label</th>\n",
       "    </tr>\n",
       "  </thead>\n",
       "  <tbody>\n",
       "    <tr>\n",
       "      <th>0</th>\n",
       "      <td>0</td>\n",
       "      <td>0</td>\n",
       "      <td>0</td>\n",
       "      <td>0</td>\n",
       "      <td>0</td>\n",
       "      <td>0</td>\n",
       "      <td>0</td>\n",
       "      <td>6</td>\n",
       "      <td>3</td>\n",
       "      <td>1</td>\n",
       "      <td>...</td>\n",
       "      <td>0.55</td>\n",
       "      <td>0.0</td>\n",
       "      <td>0.0</td>\n",
       "      <td>0.0</td>\n",
       "      <td>0.0</td>\n",
       "      <td>0.00</td>\n",
       "      <td>0.00</td>\n",
       "      <td>0.00</td>\n",
       "      <td>0.0</td>\n",
       "      <td>0</td>\n",
       "    </tr>\n",
       "    <tr>\n",
       "      <th>1</th>\n",
       "      <td>0</td>\n",
       "      <td>0</td>\n",
       "      <td>0</td>\n",
       "      <td>0</td>\n",
       "      <td>0</td>\n",
       "      <td>0</td>\n",
       "      <td>0</td>\n",
       "      <td>0</td>\n",
       "      <td>0</td>\n",
       "      <td>0</td>\n",
       "      <td>...</td>\n",
       "      <td>0.00</td>\n",
       "      <td>0.0</td>\n",
       "      <td>0.0</td>\n",
       "      <td>0.0</td>\n",
       "      <td>0.0</td>\n",
       "      <td>0.00</td>\n",
       "      <td>0.00</td>\n",
       "      <td>0.00</td>\n",
       "      <td>0.0</td>\n",
       "      <td>0</td>\n",
       "    </tr>\n",
       "    <tr>\n",
       "      <th>2</th>\n",
       "      <td>0</td>\n",
       "      <td>0</td>\n",
       "      <td>0</td>\n",
       "      <td>0</td>\n",
       "      <td>0</td>\n",
       "      <td>3</td>\n",
       "      <td>4</td>\n",
       "      <td>8</td>\n",
       "      <td>11</td>\n",
       "      <td>1</td>\n",
       "      <td>...</td>\n",
       "      <td>0.00</td>\n",
       "      <td>0.0</td>\n",
       "      <td>0.0</td>\n",
       "      <td>0.0</td>\n",
       "      <td>0.0</td>\n",
       "      <td>6.33</td>\n",
       "      <td>0.41</td>\n",
       "      <td>0.14</td>\n",
       "      <td>0.0</td>\n",
       "      <td>0</td>\n",
       "    </tr>\n",
       "  </tbody>\n",
       "</table>\n",
       "<p>3 rows × 201 columns</p>\n",
       "</div>"
      ],
      "text/plain": [
       "   0_num  1_num  2_num  3_num  4_num  5_num  6_num  7_num  8_num  9_num  ...  \\\n",
       "0      0      0      0      0      0      0      0      6      3      1  ...   \n",
       "1      0      0      0      0      0      0      0      0      0      0  ...   \n",
       "2      0      0      0      0      0      3      4      8     11      1  ...   \n",
       "\n",
       "   91_h  92_h  93_h  94_h  95_h  96_h  97_h  98_h  99_h  label  \n",
       "0  0.55   0.0   0.0   0.0   0.0  0.00  0.00  0.00   0.0      0  \n",
       "1  0.00   0.0   0.0   0.0   0.0  0.00  0.00  0.00   0.0      0  \n",
       "2  0.00   0.0   0.0   0.0   0.0  6.33  0.41  0.14   0.0      0  \n",
       "\n",
       "[3 rows x 201 columns]"
      ]
     },
     "execution_count": 22,
     "metadata": {},
     "output_type": "execute_result"
    }
   ],
   "source": [
    "df4b = df4[df4['label'] != 0]\n",
    "\n",
    "mult2 = int(df4.shape[0] / df4b.shape[0])\n",
    "mult2 = 0\n",
    "\n",
    "print(\"On rajoute: \", mult2, \" fois\", df4b.shape[0], \" nombre de lampadaires (\", mult2*df4b.shape[0], \")\")\n",
    "print(df4.shape, df4.shape[0], df4b.shape[0], mult2)\n",
    "\n",
    "#df = pd.concat([df] * a + [df.iloc[[-1]]] * b).sort_values('col1').reset_index(drop=True)\n",
    "\n",
    "df5 = pd.concat([df4b] * mult2 + [df4]).sort_values('label').reset_index(drop=True)\n",
    "print(df5.shape)\n",
    "df5.head(3)"
   ]
  },
  {
   "cell_type": "markdown",
   "metadata": {
    "slideshow": {
     "slide_type": "skip"
    }
   },
   "source": [
    "### Changement de la classe en categorial"
   ]
  },
  {
   "cell_type": "code",
   "execution_count": 23,
   "metadata": {
    "ExecuteTime": {
     "end_time": "2020-03-12T13:38:49.846787Z",
     "start_time": "2020-03-12T13:38:49.743398Z"
    },
    "slideshow": {
     "slide_type": "skip"
    }
   },
   "outputs": [],
   "source": [
    "from sklearn.model_selection import train_test_split \n",
    "from keras.utils import to_categorical\n",
    "\n",
    "# Charge et split les données\n",
    "X = df5.iloc[:,:-1]\n",
    "y = df5.iloc[:,-1]\n",
    "y_binary = to_categorical(y)"
   ]
  },
  {
   "cell_type": "markdown",
   "metadata": {
    "slideshow": {
     "slide_type": "skip"
    }
   },
   "source": [
    "### Séparation Train - Test"
   ]
  },
  {
   "cell_type": "code",
   "execution_count": 24,
   "metadata": {
    "ExecuteTime": {
     "end_time": "2020-03-12T13:38:59.891119Z",
     "start_time": "2020-03-12T13:38:59.638690Z"
    },
    "slideshow": {
     "slide_type": "skip"
    }
   },
   "outputs": [
    {
     "name": "stdout",
     "output_type": "stream",
     "text": [
      "(23788, 200) (23788, 2) (5948, 200) (5948, 2) (29736, 2) (29736,)\n"
     ]
    }
   ],
   "source": [
    "train_data, test_data, train_labels, test_labels = train_test_split(\n",
    "    X, y_binary, test_size=0.2, random_state=42, stratify=y_binary)\n",
    "#    X, y, test_size=0.2, random_state=42, stratify=y)\n",
    "\n",
    "print(train_data.shape, train_labels.shape, test_data.shape, test_labels.shape, y_binary.shape, y.shape)"
   ]
  },
  {
   "cell_type": "code",
   "execution_count": null,
   "metadata": {},
   "outputs": [],
   "source": []
  },
  {
   "cell_type": "markdown",
   "metadata": {
    "ExecuteTime": {
     "end_time": "2020-02-27T11:18:54.716836Z",
     "start_time": "2020-02-27T11:18:54.653211Z"
    },
    "slideshow": {
     "slide_type": "skip"
    }
   },
   "source": [
    "## Création d'un Modèle Réseau de Neurone \"SIMPLE\""
   ]
  },
  {
   "cell_type": "raw",
   "metadata": {
    "ExecuteTime": {
     "end_time": "2020-03-03T08:46:00.479683Z",
     "start_time": "2020-03-03T08:45:24.419540Z"
    },
    "slideshow": {
     "slide_type": "skip"
    }
   },
   "source": [
    "Nomb_Input = 200\n",
    "\n",
    "M = 64    # 512-256-128-64-32 ? \n",
    "epochs = 20\n",
    "batch_size = 64\n",
    "num_class = 2\n",
    "\n",
    "# ou model = Sequential() + model.add(Dense(N)) + model.add(Dropout(0.5)) + model.add(Activation('softmax'))\n",
    "model0 = Sequential([\n",
    "    Dense(M, activation='relu', input_shape=(Nomb_Input,train_data.shape(1))),\n",
    "    Dropout(0.5),\n",
    "    Dense(M, activation='relu'),\n",
    "    Dense(M, activation='relu'), #model.add(Dropout(0.2))\n",
    "    Dropout(0.2),\n",
    "#    Dense(num_class, activation='softmax')   #  ou sigmoid\n",
    "    Dense(num_class, activation='sigmoid')  #, output_dim=1)\n",
    "])\n",
    "\n",
    "#    https://keras.io/losses \n",
    "#  loss fonctions: categorical_crossentropy, sparse_categorical_crossentropy, mean_squared_error ... etc\n",
    "#  optimizer: 'sgd', 'adam', keras.optimizers.SGD(lr=0.01, momentum=0.9, nesterov=True)\n",
    "\n",
    "model0.compile(loss=\"binary_crossentropy\", optimizer='adam',\n",
    " metrics=['msle', 'accuracy', 'mean_squared_error', 'binary_accuracy', 'categorical_accuracy'])\n",
    "# NOT loss=\"categorical_crossentropy\",'mean_squared_error'\n",
    "# NOT optimizer='sgd' \n",
    "# NOT metrics=['accuracy', 'mse', 'acc', 'categorical_accuracy',\n",
    "# 'sparse_categorical_accuracy', 'top_k_categorical_accuracy',\n",
    "# 'sparse_top_k_categorical_accuracy', 'cosine_proximity', 'clone_metric','clone_metrics']\n",
    "# ['binary_accuracy', 'fmeasure', 'precision', 'recall'])\n",
    "# Print with verbose=2 ???\n",
    "\n",
    "model0.summary()\n",
    "\n",
    "history0 = model0.fit(train_data, train_labels, validation_split=0.33, verbose=2, epochs=epochs, batch_size=batch_size)\n"
   ]
  },
  {
   "cell_type": "code",
   "execution_count": 25,
   "metadata": {
    "ExecuteTime": {
     "end_time": "2020-03-12T13:39:09.595164Z",
     "start_time": "2020-03-12T13:39:09.521639Z"
    },
    "slideshow": {
     "slide_type": "skip"
    }
   },
   "outputs": [
    {
     "name": "stdout",
     "output_type": "stream",
     "text": [
      "train (23788, 200) (5948, 200)\n",
      "(23788, 2)\n"
     ]
    }
   ],
   "source": [
    "print(\"train\", train_data.shape, test_data.shape)\n",
    "print(train_labels.shape)"
   ]
  },
  {
   "cell_type": "code",
   "execution_count": 26,
   "metadata": {
    "ExecuteTime": {
     "end_time": "2020-03-12T13:42:34.265188Z",
     "start_time": "2020-03-12T13:39:19.056197Z"
    },
    "slideshow": {
     "slide_type": ""
    }
   },
   "outputs": [
    {
     "name": "stdout",
     "output_type": "stream",
     "text": [
      "Model: \"sequential_1\"\n",
      "_________________________________________________________________\n",
      "Layer (type)                 Output Shape              Param #   \n",
      "=================================================================\n",
      "conv1d_1 (Conv1D)            (None, 198, 32)           128       \n",
      "_________________________________________________________________\n",
      "max_pooling1d_1 (MaxPooling1 (None, 99, 32)            0         \n",
      "_________________________________________________________________\n",
      "flatten_1 (Flatten)          (None, 3168)              0         \n",
      "_________________________________________________________________\n",
      "dense_1 (Dense)              (None, 50)                158450    \n",
      "_________________________________________________________________\n",
      "dense_2 (Dense)              (None, 2)                 102       \n",
      "=================================================================\n",
      "Total params: 158,680\n",
      "Trainable params: 158,680\n",
      "Non-trainable params: 0\n",
      "_________________________________________________________________\n",
      "Train on 15937 samples, validate on 7851 samples\n",
      "Epoch 1/25\n",
      " - 8s - loss: 0.1320 - accuracy: 0.9748 - val_loss: 0.1021 - val_accuracy: 0.9773\n",
      "Epoch 2/25\n",
      " - 8s - loss: 0.1050 - accuracy: 0.9758 - val_loss: 0.0999 - val_accuracy: 0.9773\n",
      "Epoch 3/25\n",
      " - 8s - loss: 0.0990 - accuracy: 0.9758 - val_loss: 0.0983 - val_accuracy: 0.9772\n",
      "Epoch 4/25\n",
      " - 9s - loss: 0.0908 - accuracy: 0.9763 - val_loss: 0.1005 - val_accuracy: 0.9777\n",
      "Epoch 5/25\n",
      " - 8s - loss: 0.0837 - accuracy: 0.9769 - val_loss: 0.0987 - val_accuracy: 0.9777\n",
      "Epoch 6/25\n",
      " - 7s - loss: 0.0761 - accuracy: 0.9781 - val_loss: 0.0958 - val_accuracy: 0.9786\n",
      "Epoch 7/25\n",
      " - 8s - loss: 0.0677 - accuracy: 0.9794 - val_loss: 0.0982 - val_accuracy: 0.9783\n",
      "Epoch 8/25\n",
      " - 8s - loss: 0.0598 - accuracy: 0.9808 - val_loss: 0.0948 - val_accuracy: 0.9785\n",
      "Epoch 9/25\n",
      " - 9s - loss: 0.0535 - accuracy: 0.9819 - val_loss: 0.0968 - val_accuracy: 0.9792\n",
      "Epoch 10/25\n",
      " - 8s - loss: 0.0468 - accuracy: 0.9839 - val_loss: 0.0990 - val_accuracy: 0.9795\n",
      "Epoch 11/25\n",
      " - 7s - loss: 0.0411 - accuracy: 0.9863 - val_loss: 0.1041 - val_accuracy: 0.9770\n",
      "Epoch 12/25\n",
      " - 7s - loss: 0.0360 - accuracy: 0.9881 - val_loss: 0.1055 - val_accuracy: 0.9797\n",
      "Epoch 13/25\n",
      " - 7s - loss: 0.0326 - accuracy: 0.9891 - val_loss: 0.1089 - val_accuracy: 0.9813\n",
      "Epoch 14/25\n",
      " - 8s - loss: 0.0287 - accuracy: 0.9906 - val_loss: 0.1124 - val_accuracy: 0.9797\n",
      "Epoch 15/25\n",
      " - 7s - loss: 0.0250 - accuracy: 0.9923 - val_loss: 0.1182 - val_accuracy: 0.9813\n",
      "Epoch 16/25\n",
      " - 8s - loss: 0.0224 - accuracy: 0.9936 - val_loss: 0.1262 - val_accuracy: 0.9834\n",
      "Epoch 17/25\n",
      " - 8s - loss: 0.0196 - accuracy: 0.9939 - val_loss: 0.1256 - val_accuracy: 0.9820\n",
      "Epoch 18/25\n",
      " - 8s - loss: 0.0166 - accuracy: 0.9960 - val_loss: 0.1379 - val_accuracy: 0.9827\n",
      "Epoch 19/25\n",
      " - 7s - loss: 0.0146 - accuracy: 0.9964 - val_loss: 0.1416 - val_accuracy: 0.9805\n",
      "Epoch 20/25\n",
      " - 8s - loss: 0.0144 - accuracy: 0.9964 - val_loss: 0.1448 - val_accuracy: 0.9827\n",
      "Epoch 21/25\n",
      " - 8s - loss: 0.0126 - accuracy: 0.9971 - val_loss: 0.1681 - val_accuracy: 0.9846\n",
      "Epoch 22/25\n",
      " - 7s - loss: 0.0106 - accuracy: 0.9979 - val_loss: 0.1594 - val_accuracy: 0.9821\n",
      "Epoch 23/25\n",
      " - 7s - loss: 0.0106 - accuracy: 0.9976 - val_loss: 0.1570 - val_accuracy: 0.9791\n",
      "Epoch 24/25\n",
      " - 8s - loss: 0.0090 - accuracy: 0.9981 - val_loss: 0.1728 - val_accuracy: 0.9816\n",
      "Epoch 25/25\n",
      " - 8s - loss: 0.0141 - accuracy: 0.9963 - val_loss: 0.1771 - val_accuracy: 0.9729\n"
     ]
    }
   ],
   "source": [
    "#Nomb_Input = 200\n",
    "#fil_M = 32    # 512-256-128-64-32 ?\n",
    "kernel = 3\n",
    "epochs = 25   #. 10-20-30-50\n",
    "batch_size = 32\n",
    "n_dens = 50  # 100 ou 200?\n",
    "\n",
    "num_class = 2   # ou ce\n",
    "\n",
    "# redimensionnement nécesaire pour la convolution\n",
    "train_data2 = np.expand_dims(train_data, axis=2)\n",
    "#   ou  ?  train_data.reshape(train_data.shape[0], train_data.shape[1], 1)  et input_shape=(train_data.shape[1], 1)\n",
    "test_data2 = np.expand_dims(test_data, axis=2)\n",
    "\n",
    "model0 = Sequential()\n",
    "model0.add(Conv1D(32, kernel, activation='relu', input_shape=(train_data2.shape[1],train_data2.shape[2])))\n",
    "#model0.add(Dropout(0.5))\n",
    "model0.add(MaxPooling1D(pool_size=(2)))\n",
    "###### PLUS\n",
    "#model0.add(Conv1D(64, kernel, activation='relu'))\n",
    "#model0.add(MaxPooling1D(pool_size=(2)))\n",
    "############\n",
    "# model0.add(BatchNormalization())\n",
    "model0.add(Flatten())        \n",
    "model0.add(Dense(n_dens, activation='relu'))\n",
    "model0.add(Dense(num_class, activation='sigmoid'))\n",
    "\n",
    "model0.compile(loss=\"binary_crossentropy\", optimizer='adam', metrics=['accuracy'])\n",
    "\n",
    "model0.summary()\n",
    "# model.save_weights('file.h5')\n",
    "# avec le model construit + les poids\n",
    "# model.load_weights('file.h5')\n",
    "\n",
    "history0 = model0.fit(train_data2, train_labels, validation_split=0.33, verbose=2, epochs=epochs, batch_size=batch_size)\n"
   ]
  },
  {
   "cell_type": "code",
   "execution_count": 27,
   "metadata": {
    "ExecuteTime": {
     "end_time": "2020-03-12T13:42:44.089659Z",
     "start_time": "2020-03-12T13:42:43.865208Z"
    },
    "slideshow": {
     "slide_type": "slide"
    }
   },
   "outputs": [
    {
     "data": {
      "image/png": "[encoded data removed]",
      "text/plain": [
       "<Figure size 432x288 with 1 Axes>"
      ]
     },
     "metadata": {
      "needs_background": "light"
     },
     "output_type": "display_data"
    }
   ],
   "source": [
    "#history0 = history0b\n",
    "#history0.history\n",
    "# plot metrics\n",
    "test = False\n",
    "if test:\n",
    "    _ = plt.plot(history0.history['msle'])\n",
    "    _ = plt.plot(history0.history['mean_squared_error'])\n",
    "    _ = plt.plot(history0.history['binary_accuracy'])\n",
    "    _ = plt.plot(history0.history['categorical_accuracy'])\n",
    "_ = plt.plot(history0.history['accuracy'])\n",
    "_ = plt.show()"
   ]
  },
  {
   "cell_type": "markdown",
   "metadata": {
    "slideshow": {
     "slide_type": "skip"
    }
   },
   "source": [
    "### Figures"
   ]
  },
  {
   "cell_type": "code",
   "execution_count": 28,
   "metadata": {
    "ExecuteTime": {
     "end_time": "2020-03-12T13:42:53.756391Z",
     "start_time": "2020-03-12T13:42:53.417179Z"
    },
    "slideshow": {
     "slide_type": "slide"
    }
   },
   "outputs": [
    {
     "name": "stdout",
     "output_type": "stream",
     "text": [
      "dict_keys(['val_loss', 'val_accuracy', 'loss', 'accuracy'])\n"
     ]
    },
    {
     "data": {
      "image/png": "[encoded data removed]",
      "text/plain": [
       "<Figure size 1440x288 with 2 Axes>"
      ]
     },
     "metadata": {
      "needs_background": "light"
     },
     "output_type": "display_data"
    }
   ],
   "source": [
    "print(history0.history.keys())\n",
    "#coul = [\"blue\", \"lightblue\", \"orange\", \"red\"]\n",
    "coul = [\"orange\", \"orange\", \"blue\", \"blue\"]\n",
    "\n",
    "fig = plt.figure(figsize=(20,4))\n",
    "_ = plt.subplot(1,2,1)\n",
    "for i in range(0,4,2):\n",
    "    _ = plt.plot(list(history0.history.values())[i],'k-o', color=coul[i])\n",
    "_ = plt.subplot(1,2,2)\n",
    "for j in range(1,4,2):\n",
    "    _ = plt.plot(list(history0.history.values())[j],'k-o', color=coul[j])"
   ]
  },
  {
   "cell_type": "code",
   "execution_count": 29,
   "metadata": {
    "ExecuteTime": {
     "end_time": "2020-03-12T13:43:03.181613Z",
     "start_time": "2020-03-12T13:43:03.105600Z"
    },
    "slideshow": {
     "slide_type": "skip"
    }
   },
   "outputs": [
    {
     "name": "stdout",
     "output_type": "stream",
     "text": [
      "dict_keys(['val_loss', 'val_accuracy', 'loss', 'accuracy'])\n",
      "0.9728696942329407\n",
      "0.99626654\n",
      "0.1770635727233544\n",
      "0.014076705318962778\n"
     ]
    }
   ],
   "source": [
    "print(history0.history.keys())\n",
    "print(history0.history['val_accuracy'][-1])\n",
    "print(history0.history['accuracy'][-1])\n",
    "print(history0.history['val_loss'][-1])\n",
    "print(history0.history['loss'][-1])\n"
   ]
  },
  {
   "cell_type": "code",
   "execution_count": 30,
   "metadata": {
    "ExecuteTime": {
     "end_time": "2020-03-12T13:43:14.994928Z",
     "start_time": "2020-03-12T13:43:12.525883Z"
    },
    "slideshow": {
     "slide_type": "slide"
    }
   },
   "outputs": [
    {
     "name": "stdout",
     "output_type": "stream",
     "text": [
      "Test loss: 0.19482776958422726\n",
      "Test accuracy: 0.9708305597305298\n",
      "[0 0 0 0 0 0 0 0 0 0]\n",
      "[0. 0. 0. 0. 0. 0. 0. 0. 0. 0.]\n"
     ]
    },
    {
     "data": {
      "image/png": "[encoded data removed]",
      "text/plain": [
       "<Figure size 864x432 with 2 Axes>"
      ]
     },
     "metadata": {
      "needs_background": "light"
     },
     "output_type": "display_data"
    }
   ],
   "source": [
    "# RESULTATS\n",
    "score = model0.evaluate(test_data2, test_labels, verbose=0, batch_size=batch_size)\n",
    "print('Test loss:', score[0])\n",
    "print('Test accuracy:', score[1])\n",
    "\n",
    "# predictions\n",
    "classes = model0.predict(test_data2, batch_size=batch_size)\n",
    "predictions = model0.predict(test_data2[:10])\n",
    "print(np.argmax(predictions, axis=1))\n",
    "print(test_labels[:10,1])\n",
    "\n",
    "# PLOTS\n",
    "fig = plt.figure(figsize=(12,6))\n",
    "_ = plt.subplot(2,1,1)\n",
    "_ = plt.plot(history0.history['accuracy'])\n",
    "_ = plt.plot(history0.history['val_accuracy'])\n",
    "_ = plt.title('model accuracy')\n",
    "_ = plt.xlabel('epoch')\n",
    "_ = plt.ylabel('accuracy')\n",
    "_ = plt.legend(['train','test'], loc='lower right')\n",
    "\n",
    "_ = plt.subplot(2,1,2)\n",
    "_ = plt.plot(history0.history['loss'])\n",
    "_ = plt.plot(history0.history['val_loss'])\n",
    "_ = plt.title('model loss')\n",
    "_ = plt.xlabel('epoch')\n",
    "_ = plt.ylabel('loss')\n",
    "_ = plt.legend(['train','test'], loc='upper right')\n",
    "\n",
    "_ = plt.tight_layout()\n",
    "_ = fig"
   ]
  },
  {
   "cell_type": "markdown",
   "metadata": {
    "slideshow": {
     "slide_type": "skip"
    }
   },
   "source": [
    "### Matrice de Confusion"
   ]
  },
  {
   "cell_type": "code",
   "execution_count": 31,
   "metadata": {
    "ExecuteTime": {
     "end_time": "2020-03-12T13:43:30.134034Z",
     "start_time": "2020-03-12T13:43:24.541268Z"
    },
    "slideshow": {
     "slide_type": "skip"
    }
   },
   "outputs": [
    {
     "name": "stdout",
     "output_type": "stream",
     "text": [
      "\n",
      " Echantillon Test: 5948\n",
      "[[5699   66]\n",
      " [ 108   75]]\n",
      "\n",
      " Echantillon Train: 23788\n",
      "[[23061    94]\n",
      " [  164   469]]\n",
      "\n",
      " Normalisé:\n",
      "Prédit       0.0       1.0\n",
      "Reel                      \n",
      "0.0     0.981402  0.765957\n",
      "1.0     0.011366  0.531915\n",
      "\n",
      " testing1:\n",
      "Predit   0.0  1.0   All\n",
      "Reel                   \n",
      "0.0     5699  108  5807\n",
      "1.0       66   75   141\n",
      "All     5765  183  5948\n"
     ]
    },
    {
     "data": {
      "image/png": "[encoded data removed]",
      "text/plain": [
       "<Figure size 432x288 with 2 Axes>"
      ]
     },
     "metadata": {
      "needs_background": "light"
     },
     "output_type": "display_data"
    },
    {
     "name": "stdout",
     "output_type": "stream",
     "text": [
      "\n",
      " testing2:\n",
      "Predit       0.0       1.0  All\n",
      "Reel                           \n",
      "0.0     0.490701  0.009299  0.5\n",
      "1.0     0.234043  0.265957  0.5\n",
      "All     0.484617  0.015383  0.5\n"
     ]
    },
    {
     "data": {
      "image/png": "[encoded data removed]",
      "text/plain": [
       "<Figure size 432x288 with 2 Axes>"
      ]
     },
     "metadata": {
      "needs_background": "light"
     },
     "output_type": "display_data"
    },
    {
     "data": {
      "text/plain": [
       "<matplotlib.axes._subplots.AxesSubplot at 0x1a5e908b50>"
      ]
     },
     "execution_count": 31,
     "metadata": {},
     "output_type": "execute_result"
    },
    {
     "data": {
      "image/png": "[encoded data removed]",
      "text/plain": [
       "<Figure size 360x360 with 2 Axes>"
      ]
     },
     "metadata": {
      "needs_background": "light"
     },
     "output_type": "display_data"
    }
   ],
   "source": [
    "from sklearn.metrics import confusion_matrix\n",
    "\n",
    "# transforme les matrice en listes d'entiers binaires (0 ou 1)\n",
    "Y11 = pd.DataFrame(model0.predict(test_data2)[:,1:])[0].round(0).tolist()\n",
    "Y10 = pd.DataFrame(test_labels[:,1:])[0].tolist()\n",
    "print(\"\\n Echantillon Test:\", len(Y11))\n",
    "print(confusion_matrix(Y11, Y10))\n",
    "\n",
    "Y01 = pd.DataFrame(model0.predict(train_data2)[:,1:])[0].round(0).tolist()\n",
    "Y00 = pd.DataFrame(train_labels[:,1:])[0].tolist()\n",
    "print(\"\\n Echantillon Train:\", len(Y01))\n",
    "print(confusion_matrix(Y01, Y00))\n",
    "\n",
    "y_reel = pd.Series(Y10, name='Reel')\n",
    "y_pred = pd.Series(Y11, name='Prédit')\n",
    "\n",
    "df_confusion = pd.crosstab(y_reel, y_pred)\n",
    "\n",
    "df_conf_norm = df_confusion / df_confusion.sum(axis=1)\n",
    "print(\"\\n Normalisé:\")\n",
    "print(df_conf_norm)\n",
    "print(\"\\n testing1:\")\n",
    "df_confusion = pd.crosstab(y_reel, y_pred, rownames=['Reel'], colnames=['Predit'], margins=True)\n",
    "print(df_confusion)\n",
    "_ = sns.heatmap(df_confusion, annot=True)\n",
    "plt.show()\n",
    "\n",
    "df_conf_norm = df_confusion.div(df_confusion.sum(axis=1), axis=0)\n",
    "print(\"\\n testing2:\")\n",
    "print(df_conf_norm)\n",
    "_ = sns.heatmap(df_conf_norm, annot=True)\n",
    "plt.show()\n",
    "\n",
    "######### NOT WORKING ???\n",
    "#from pandas_ml import ConfusionMatrix\n",
    "#confusion_matrix = ConfusionMatrix(y_reel, y_pred)\n",
    "#confusion_matrix.plot()\n",
    "#plt.show()\n",
    "#confusion_matrix.plot(normalized=True)\n",
    "#plt.show()\n",
    "\n",
    "#binary_confusion_matrix = ConfusionMatrix(y_true, y_pred)\n",
    "#print(\"Binary confusion matrix:\\n%s\" % binary_confusion_matrix)\n",
    "#print(binary_confusion_matrix.TP) # TN, FP, FN, ...\n",
    "#binary_confusion_matrix.plot(normalized=False)\n",
    "#binary_confusion_matrix.plot(normalized=True, backend='seaborn')\n",
    "#plt.show()\n",
    "#confusion_matrix.print_stats()\n",
    "#confusion_matrix.stats()\n",
    "##########\n",
    "\n",
    "\n",
    "skplt.metrics.plot_confusion_matrix(y_reel, y_pred, figsize=(5,5))"
   ]
  },
  {
   "cell_type": "code",
   "execution_count": 32,
   "metadata": {
    "ExecuteTime": {
     "end_time": "2020-03-12T13:43:44.995741Z",
     "start_time": "2020-03-12T13:43:39.938379Z"
    },
    "slideshow": {
     "slide_type": "slide"
    }
   },
   "outputs": [
    {
     "name": "stdout",
     "output_type": "stream",
     "text": [
      "(5948, 4) (23788, 4)\n",
      "(5807, 4) (141, 4) (23225, 4) (563, 4)\n",
      "\n",
      " ERREURS: 0_true     0.0\n",
      "0_pred     0.0\n",
      "0_pred2    0.0\n",
      "diff       0.0\n",
      "dtype: float64 0_true       0.000000\n",
      "0_pred      87.579198\n",
      "0_pred2    108.000000\n",
      "diff      -108.000000\n",
      "dtype: float64 0_true     0.0\n",
      "0_pred     0.0\n",
      "0_pred2    0.0\n",
      "diff       0.0\n",
      "dtype: float64 0_true      0.000000\n",
      "0_pred     60.591261\n",
      "0_pred2     0.000000\n",
      "diff        0.000000\n",
      "dtype: float64\n",
      "\n",
      " LOSS 0.02925353059852051\n"
     ]
    },
    {
     "data": {
      "image/png": "[encoded data removed]",
      "text/plain": [
       "<Figure size 288x288 with 2 Axes>"
      ]
     },
     "metadata": {
      "needs_background": "light"
     },
     "output_type": "display_data"
    },
    {
     "data": {
      "image/png": "[encoded data removed]",
      "text/plain": [
       "<Figure size 360x360 with 2 Axes>"
      ]
     },
     "metadata": {
      "needs_background": "light"
     },
     "output_type": "display_data"
    },
    {
     "data": {
      "image/png": "[encoded data removed]",
      "text/plain": [
       "<Figure size 432x288 with 2 Axes>"
      ]
     },
     "metadata": {
      "needs_background": "light"
     },
     "output_type": "display_data"
    }
   ],
   "source": [
    "def mse_loss(y_true, y_pred):\n",
    "    # y_true and y_pred are numpy arrays of the same length.\n",
    "    return ((y_true - y_pred) ** 2).mean()\n",
    "\n",
    "def tab_result(df_a, df_b):\n",
    "    # Extrait les matrices binaires en 1 seule colonne\n",
    "    y_pred = pd.DataFrame(model0.predict(df_b)[:,1:])\n",
    "    y_true = pd.DataFrame(df_a[:,1:])\n",
    "    # création de la table\n",
    "    dy = y_true.merge(y_pred, left_index=True, right_index=True, suffixes=('_true', '_pred'))\n",
    "    dy['0_true'] = dy['0_true'].astype(int)\n",
    "    dy['0_pred2'] = dy['0_pred'].round(0)   #arrondi à l'entier le + proche\n",
    "    dy['diff'] = dy['0_true'] - dy['0_pred2']\n",
    "    return dy\n",
    "\n",
    "def lampe_results(df1, df2):\n",
    "    df_10 = df1[df1['0_true'] == 0]\n",
    "    df_11 = dy1[dy1['0_true'] == 1]\n",
    "    df_20 = df2[df2['0_true'] == 0]\n",
    "    df_21 = dy2[dy2['0_true'] == 1]\n",
    "    return (df_10, df_11, df_20, df_21)\n",
    "\n",
    "dy1 = tab_result(test_labels, test_data2)\n",
    "dy2 = tab_result(train_labels, train_data2)\n",
    "dy1.head(2)\n",
    "dy2.head(2)\n",
    "df_test_1, df_test_0, df_train_1, df_train_0 = lampe_results(dy1, dy2)\n",
    "\n",
    "print(dy1.shape, dy2.shape)\n",
    "print(df_test_1.shape, df_test_0.shape, df_train_1.shape, df_train_0.shape)\n",
    "#print(df_test_0.describe())\n",
    "true_pos1 = df_test_1[(df_test_1['0_pred2'] == 1) & (df_test_1['0_true'] == 1)].sum()\n",
    "fals_pos1 = df_test_1[(df_test_1['0_pred2'] == 1) & (df_test_1['0_true'] == 0)].sum()\n",
    "fals_neg1 = df_test_1[(df_test_1['0_pred2'] == 0) & (df_test_1['0_true'] == 1)].sum()\n",
    "true_neg1 = df_test_1[(df_test_1['0_pred2'] == 0) & (df_test_1['0_true'] == 0)].sum()\n",
    "print(\"\\n ERREURS:\", true_pos1, fals_pos1, fals_neg1, true_neg1)\n",
    "#####################################\n",
    "# sensitivity-recall : TPR = TP/P = TP / (TP + FN)\n",
    "# specificity-select : TNR = TN/N = TN / (TN + FP)\n",
    "# balance : = (TPR + TNR) / 2\n",
    "# precision          : TP / (TP + FP)\n",
    "\n",
    "# accuracy    : ACC = (TP + TN) / total\n",
    "# FI score    :  2 * TP / (2 TP + FP + FN) == 2 / (1/precision + 1/recall)\n",
    "#####################################\n",
    "\n",
    "\n",
    "# calcul pour LOSS du Mean Squared Error\n",
    "print(\"\\n LOSS\", mse_loss(y_reel, y_pred))\n",
    "\n",
    "######################################################################\n",
    "#### Essai pour obtenir une belle matrice de confusion \n",
    "#cm_fig = interp.plot_confusion_matrix(return_fig=True)\n",
    "#ax = cm_fig.gca()\n",
    "#ax.set_ylim(interp.data.c - .5, - .5)\n",
    "######################################################################\n",
    "\n",
    "_ = skplt.metrics.plot_confusion_matrix(y_reel, y_pred, figsize=(4,4), normalize=True)\n",
    "plt.tight_layout()\n",
    "plt.show()\n",
    "_ = skplt.metrics.plot_confusion_matrix(y_reel, y_pred, figsize=(5,5))\n",
    "plt.show()\n",
    "\n",
    "confusion_matrix(dy1['0_true'], dy1['0_pred2'])\n",
    "sns.heatmap(df_confusion, annot=True)\n",
    "plt.tight_layout()\n",
    "plt.show()\n",
    "\n"
   ]
  },
  {
   "cell_type": "code",
   "execution_count": null,
   "metadata": {
    "slideshow": {
     "slide_type": "skip"
    }
   },
   "outputs": [],
   "source": []
  },
  {
   "cell_type": "markdown",
   "metadata": {
    "ExecuteTime": {
     "end_time": "2020-03-08T23:04:52.113364Z",
     "start_time": "2020-03-08T23:04:52.073265Z"
    },
    "slideshow": {
     "slide_type": "skip"
    }
   },
   "source": [
    "y_true2 = [x for x in test_labels if x != 0]\n",
    "y_pred2 = model0.predict(test_data)\n",
    "print(len(y_true2), len(y_pred2))\n",
    "print(mse_loss(y_true2, y_pred2))\n",
    "\n",
    "egaux = [(a,b) for a in np.ndarray.tolist(y_true2) for b in np.ndarray.tolist(y_pred2) if a == b]\n",
    "differents = [(a,b) for a in np.ndarray.tolist(y_true2) for b in np.ndarray.tolist(y_pred2) if a == b]\n",
    "print(len(y_true2), len(egaux), len(differents))\n",
    "\n",
    "from scipy import stats\n",
    "stats.describe(y_true2)"
   ]
  },
  {
   "cell_type": "code",
   "execution_count": null,
   "metadata": {
    "slideshow": {
     "slide_type": "skip"
    }
   },
   "outputs": [],
   "source": []
  },
  {
   "cell_type": "markdown",
   "metadata": {
    "slideshow": {
     "slide_type": "skip"
    }
   },
   "source": [
    "# KERAS :  images bi-dimensionelles"
   ]
  },
  {
   "cell_type": "markdown",
   "metadata": {
    "slideshow": {
     "slide_type": "skip"
    }
   },
   "source": [
    "### test séparation "
   ]
  },
  {
   "cell_type": "raw",
   "metadata": {
    "ExecuteTime": {
     "end_time": "2020-03-04T09:58:42.234733Z",
     "start_time": "2020-03-04T09:58:42.226727Z"
    },
    "slideshow": {
     "slide_type": "skip"
    }
   },
   "source": [
    "import torch\n",
    "from torch.utils.data import Dataset\n",
    "\n",
    "class MyDataset(Dataset):\n",
    "    \n",
    "    def __init__(self, x, y):\n",
    "        self.x = x\n",
    "        self.y = y\n",
    "    \n",
    "    def __getitem__(self, index):\n",
    "        sample = {\n",
    "            'feature': torch.tensor([self.x[index]], dtype=torch.float32), \n",
    "            'label': torch.tensor([self.y[index]], dtype=torch.long)}\n",
    "        return sample\n",
    "    \n",
    "    def __len__(self):\n",
    "        return len(self.x)"
   ]
  },
  {
   "cell_type": "raw",
   "metadata": {
    "ExecuteTime": {
     "end_time": "2020-03-03T16:30:08.035402Z",
     "start_time": "2020-03-03T16:30:07.964357Z"
    },
    "slideshow": {
     "slide_type": "skip"
    }
   },
   "source": [
    "dataset = MyDataset(data , data_y)\n",
    "sample = len(dataset)\n",
    "print('length: ', sample)\n",
    "pour = 75\n",
    "X1 = int(pour/100 * sample)\n",
    "X2 = sample - X1\n",
    "for i in range(len(dataset)):\n",
    "    #pp.pprint(dataset[i])\n",
    "    pass\n",
    "\n",
    "from torch.utils.data import random_split\n",
    "train, test = random_split(dataset, [X1, X2])\n",
    "\n",
    "x_train = np.empty((2, len(train)))\n",
    "y_train = np.empty((len(train)))\n",
    "for i in range(len(train)):\n",
    "    #pp.pprint(train[i])\n",
    "    x_train[:,i] = train[i]['feature'].numpy().reshape(2)\n",
    "    y_train[i] = train[i]['label'][0].numpy()\n",
    "\n",
    "print('test length: ', len(test))    \n",
    "x_test = np.empty((2, len(test)))\n",
    "y_test = np.empty((len(test)))\n",
    "for i in range(len(test)):\n",
    "    #pp.pprint(test[i])\n",
    "    x_test[:,i] = test[i]['feature'].numpy().reshape(2)\n",
    "    y_test[i] = test[i]['label'][0].numpy()\n",
    "    \n",
    "plt.scatter(x_train[0,:], x_train[1,:], c=y_train, cmap=cm.bwr, alpha=0.4)\n",
    "plt.scatter(x_test[0,:], x_test[1,:], c=y_test, cmap=cm.PiYG, alpha=0.4)\n",
    "plt.xlabel('$x_1$')\n",
    "plt.ylabel('$x_2$')\n",
    "plt.xlim(-3,10)\n",
    "plt.ylim(-3,10)"
   ]
  },
  {
   "cell_type": "markdown",
   "metadata": {
    "slideshow": {
     "slide_type": "skip"
    }
   },
   "source": [
    "### tests"
   ]
  },
  {
   "cell_type": "raw",
   "metadata": {
    "ExecuteTime": {
     "end_time": "2020-03-03T13:19:31.879677Z",
     "start_time": "2020-03-03T13:14:22.169214Z"
    },
    "slideshow": {
     "slide_type": "skip"
    }
   },
   "source": [
    "# TROP gourmant en ressources et trop lent \n",
    "\n",
    "print(data.shape)\n",
    "df = pd.DataFrame(tf.reshape(data, [data.shape[0],data.shape[1]*data.shape[2]]))\n",
    "#df = pd.DataFrame(tf.reshape(data, [552,200]))\n",
    "print(df.shape)\n",
    "# sns.pairplot(df)\n",
    "# sns.heatmap(df.coor(), annot=True)\n",
    "df.head()\n",
    "data[118:120,:2,0:]"
   ]
  },
  {
   "cell_type": "code",
   "execution_count": null,
   "metadata": {
    "slideshow": {
     "slide_type": "skip"
    }
   },
   "outputs": [],
   "source": []
  },
  {
   "cell_type": "markdown",
   "metadata": {
    "slideshow": {
     "slide_type": "skip"
    }
   },
   "source": [
    "## Lecture des 3 fichiers de données"
   ]
  },
  {
   "cell_type": "code",
   "execution_count": 225,
   "metadata": {
    "ExecuteTime": {
     "end_time": "2020-03-13T15:12:49.829659Z",
     "start_time": "2020-03-13T15:12:49.624309Z"
    },
    "slideshow": {
     "slide_type": "skip"
    }
   },
   "outputs": [
    {
     "name": "stdout",
     "output_type": "stream",
     "text": [
      "(29032, 10, 10)\n",
      "(29032, 10, 10, 1)\n",
      "(29032, 10, 10, 2) 29032\n",
      "\n",
      " Fichiers utilisés:\n",
      " /Users/pierreleisy/Data_Science/NOTEBOOK/STAGE/data_LAS_nom_NUM_29384_0.npy \n",
      " /Users/pierreleisy/Data_Science/NOTEBOOK/STAGE/data_LAS_nom_ECA_29384_0.npy \n",
      " /Users/pierreleisy/Data_Science/NOTEBOOK/STAGE/data_LAS_nom_POS_29384_0.npy\n",
      "Classification utiliseé:\n",
      " /Users/pierreleisy/Data_Science/NOTEBOOK/STAGE/data_LAS_nom_POS_29384_0.npy \n",
      "\n",
      "(29032, 10, 10, 2) (29032, 100)\n"
     ]
    }
   ],
   "source": [
    "fichier1  = DATA_DIR9 + \"data_LAS_nom_NUM_\" + str(off) + \"_\" + str(mult) + \".npy\"\n",
    "data1     = np.load(fichier1)\n",
    "fichier2  = DATA_DIR9 + \"data_LAS_nom_ECA_\" + str(off) + \"_\" + str(mult) + \".npy\"\n",
    "data2     = np.load(fichier2)\n",
    "fichierY  = DATA_DIR9 + \"data_LAS_nom_POS_\" + str(off) + \"_\" + str(mult) + \".npy\"\n",
    "data3     = np.load(fichierY)\n",
    "#print(type(data1), type(data2))\n",
    "if (data1.shape[0] - data2.shape[0] != 0):\n",
    "    print(data1.shape, data2.shape, data3.shape)\n",
    "else:\n",
    "    print(data1.shape)\n",
    "# concatenation de NUM et POS\n",
    "data14 = tf.expand_dims(data1, 3)\n",
    "data24 = tf.expand_dims(data2, 3)\n",
    "data34 = tf.expand_dims(data1, 3)\n",
    "print(data14.shape) #, data24.shape, data34.shape)\n",
    "\n",
    "data_x = tf.concat([data14, data24], 3)\n",
    "#data_x = tf.concat([data14, data24, data34], 3)\n",
    "#data_x = data1\n",
    "taille = data_x.shape[0]\n",
    "print(data_x.shape, taille)\n",
    "data_y   = np.load(fichierY).reshape(taille,100)\n",
    "Nomb_Input = data_x.shape\n",
    "\n",
    "print(\"\\n Fichiers utilisés:\\n\", fichier1, \"\\n\", fichier2, \"\\n\", fichierY)\n",
    "print(\"Classification utiliseé:\\n\", fichierY, \"\\n\")\n",
    "print(data_x.shape, data_y.shape)"
   ]
  },
  {
   "cell_type": "code",
   "execution_count": 226,
   "metadata": {
    "ExecuteTime": {
     "end_time": "2020-03-13T15:13:25.415841Z",
     "start_time": "2020-03-13T15:13:25.194743Z"
    },
    "slideshow": {
     "slide_type": "skip"
    }
   },
   "outputs": [
    {
     "name": "stdout",
     "output_type": "stream",
     "text": [
      "(29032, 102) 0.0\n",
      "Valeurs à:  0   1   ou plus)\n",
      "29032 29032 0 0\n",
      "Valeurs à: 0 ou 1)\n",
      "29032 29032 0 0\n"
     ]
    }
   ],
   "source": [
    "# somme sur toutes les rangées ou colonnes   \n",
    "# présence de valeurs SUPERIEURES A 1 (3 valeurs à 2 ! pourquoi ?????)\n",
    "df_Y = pd.DataFrame(data_y)\n",
    "df_Y['lamp'] = df_Y.sum(axis=1)\n",
    "df_Y['lamp2'] = df_Y[:-1].sum(axis=0)\n",
    "print(df_Y.shape, df_Y['lamp'].sum())\n",
    "print(\"Valeurs à:  0   1   ou plus)\")\n",
    "print(df_Y.shape[0], len(df_Y[df_Y['lamp'] == 0]), df_Y[df_Y['lamp'] == 1].shape[0], df_Y[df_Y['lamp'] > 1].shape[0])\n",
    "#  Ecrase les valeurs de 2  ... pour avoir des 0 ou des 1\n",
    "df_Y.loc[df_Y['lamp'] > 1] = 1\n",
    "print(\"Valeurs à: 0 ou 1)\")\n",
    "print(df_Y.shape[0], len(df_Y[df_Y['lamp'] == 0]), df_Y[df_Y['lamp'] == 1].shape[0], df_Y[df_Y['lamp'] > 1].shape[0])\n",
    "#df_Y[df_Y['lamp'] == 2]"
   ]
  },
  {
   "cell_type": "code",
   "execution_count": 227,
   "metadata": {
    "ExecuteTime": {
     "end_time": "2020-03-13T15:14:02.147986Z",
     "start_time": "2020-03-13T15:14:02.064406Z"
    }
   },
   "outputs": [
    {
     "data": {
      "text/html": [
       "<div>\n",
       "<style scoped>\n",
       "    .dataframe tbody tr th:only-of-type {\n",
       "        vertical-align: middle;\n",
       "    }\n",
       "\n",
       "    .dataframe tbody tr th {\n",
       "        vertical-align: top;\n",
       "    }\n",
       "\n",
       "    .dataframe thead th {\n",
       "        text-align: right;\n",
       "    }\n",
       "</style>\n",
       "<table border=\"1\" class=\"dataframe\">\n",
       "  <thead>\n",
       "    <tr style=\"text-align: right;\">\n",
       "      <th></th>\n",
       "      <th>0</th>\n",
       "      <th>1</th>\n",
       "      <th>2</th>\n",
       "      <th>3</th>\n",
       "      <th>4</th>\n",
       "      <th>5</th>\n",
       "      <th>6</th>\n",
       "      <th>7</th>\n",
       "      <th>8</th>\n",
       "      <th>9</th>\n",
       "      <th>...</th>\n",
       "      <th>92</th>\n",
       "      <th>93</th>\n",
       "      <th>94</th>\n",
       "      <th>95</th>\n",
       "      <th>96</th>\n",
       "      <th>97</th>\n",
       "      <th>98</th>\n",
       "      <th>99</th>\n",
       "      <th>lamp</th>\n",
       "      <th>lamp2</th>\n",
       "    </tr>\n",
       "  </thead>\n",
       "  <tbody>\n",
       "    <tr>\n",
       "      <th>0</th>\n",
       "      <td>0.0</td>\n",
       "      <td>0.0</td>\n",
       "      <td>0.0</td>\n",
       "      <td>0.0</td>\n",
       "      <td>0.0</td>\n",
       "      <td>0.0</td>\n",
       "      <td>0.0</td>\n",
       "      <td>0.0</td>\n",
       "      <td>0.0</td>\n",
       "      <td>0.0</td>\n",
       "      <td>...</td>\n",
       "      <td>0.0</td>\n",
       "      <td>0.0</td>\n",
       "      <td>0.0</td>\n",
       "      <td>0.0</td>\n",
       "      <td>0.0</td>\n",
       "      <td>0.0</td>\n",
       "      <td>0.0</td>\n",
       "      <td>0.0</td>\n",
       "      <td>0.0</td>\n",
       "      <td>0.0</td>\n",
       "    </tr>\n",
       "    <tr>\n",
       "      <th>1</th>\n",
       "      <td>0.0</td>\n",
       "      <td>0.0</td>\n",
       "      <td>0.0</td>\n",
       "      <td>0.0</td>\n",
       "      <td>0.0</td>\n",
       "      <td>0.0</td>\n",
       "      <td>0.0</td>\n",
       "      <td>0.0</td>\n",
       "      <td>0.0</td>\n",
       "      <td>0.0</td>\n",
       "      <td>...</td>\n",
       "      <td>0.0</td>\n",
       "      <td>0.0</td>\n",
       "      <td>0.0</td>\n",
       "      <td>0.0</td>\n",
       "      <td>0.0</td>\n",
       "      <td>0.0</td>\n",
       "      <td>0.0</td>\n",
       "      <td>0.0</td>\n",
       "      <td>0.0</td>\n",
       "      <td>0.0</td>\n",
       "    </tr>\n",
       "  </tbody>\n",
       "</table>\n",
       "<p>2 rows × 102 columns</p>\n",
       "</div>"
      ],
      "text/plain": [
       "     0    1    2    3    4    5    6    7    8    9  ...   92   93   94   95  \\\n",
       "0  0.0  0.0  0.0  0.0  0.0  0.0  0.0  0.0  0.0  0.0  ...  0.0  0.0  0.0  0.0   \n",
       "1  0.0  0.0  0.0  0.0  0.0  0.0  0.0  0.0  0.0  0.0  ...  0.0  0.0  0.0  0.0   \n",
       "\n",
       "    96   97   98   99  lamp  lamp2  \n",
       "0  0.0  0.0  0.0  0.0   0.0    0.0  \n",
       "1  0.0  0.0  0.0  0.0   0.0    0.0  \n",
       "\n",
       "[2 rows x 102 columns]"
      ]
     },
     "execution_count": 227,
     "metadata": {},
     "output_type": "execute_result"
    }
   ],
   "source": [
    "df_Y.head(2)\n"
   ]
  },
  {
   "cell_type": "code",
   "execution_count": 204,
   "metadata": {
    "ExecuteTime": {
     "end_time": "2020-03-12T20:58:50.592978Z",
     "start_time": "2020-03-12T20:58:50.520980Z"
    }
   },
   "outputs": [
    {
     "data": {
      "text/html": [
       "<div>\n",
       "<style scoped>\n",
       "    .dataframe tbody tr th:only-of-type {\n",
       "        vertical-align: middle;\n",
       "    }\n",
       "\n",
       "    .dataframe tbody tr th {\n",
       "        vertical-align: top;\n",
       "    }\n",
       "\n",
       "    .dataframe thead th {\n",
       "        text-align: right;\n",
       "    }\n",
       "</style>\n",
       "<table border=\"1\" class=\"dataframe\">\n",
       "  <thead>\n",
       "    <tr style=\"text-align: right;\">\n",
       "      <th></th>\n",
       "      <th>present</th>\n",
       "      <th>NumI</th>\n",
       "      <th>NumY</th>\n",
       "      <th>NumX</th>\n",
       "      <th>X</th>\n",
       "      <th>Y</th>\n",
       "      <th>nom_NUM</th>\n",
       "      <th>nom_ECA</th>\n",
       "      <th>nom_POS</th>\n",
       "    </tr>\n",
       "  </thead>\n",
       "  <tbody>\n",
       "    <tr>\n",
       "      <th>0</th>\n",
       "      <td>0</td>\n",
       "      <td>0</td>\n",
       "      <td>0</td>\n",
       "      <td>0</td>\n",
       "      <td>2042500</td>\n",
       "      <td>7272000</td>\n",
       "      <td>2042500_7272000_NumPoints5m.tif</td>\n",
       "      <td>2042500_7272000_EcartZ5m.tif</td>\n",
       "      <td>2042500_7272000_Position5m.tif</td>\n",
       "    </tr>\n",
       "    <tr>\n",
       "      <th>1</th>\n",
       "      <td>0</td>\n",
       "      <td>1</td>\n",
       "      <td>1</td>\n",
       "      <td>0</td>\n",
       "      <td>2042500</td>\n",
       "      <td>7272005</td>\n",
       "      <td>2042500_7272005_NumPoints5m.tif</td>\n",
       "      <td>2042500_7272005_EcartZ5m.tif</td>\n",
       "      <td>2042500_7272005_Position5m.tif</td>\n",
       "    </tr>\n",
       "  </tbody>\n",
       "</table>\n",
       "</div>"
      ],
      "text/plain": [
       "   present  NumI  NumY  NumX        X        Y  \\\n",
       "0        0     0     0     0  2042500  7272000   \n",
       "1        0     1     1     0  2042500  7272005   \n",
       "\n",
       "                           nom_NUM                       nom_ECA  \\\n",
       "0  2042500_7272000_NumPoints5m.tif  2042500_7272000_EcartZ5m.tif   \n",
       "1  2042500_7272005_NumPoints5m.tif  2042500_7272005_EcartZ5m.tif   \n",
       "\n",
       "                          nom_POS  \n",
       "0  2042500_7272000_Position5m.tif  \n",
       "1  2042500_7272005_Position5m.tif  "
      ]
     },
     "execution_count": 204,
     "metadata": {},
     "output_type": "execute_result"
    }
   ],
   "source": [
    "lampes0.head(2)"
   ]
  },
  {
   "cell_type": "code",
   "execution_count": 205,
   "metadata": {
    "ExecuteTime": {
     "end_time": "2020-03-12T20:59:06.096446Z",
     "start_time": "2020-03-12T20:59:05.753669Z"
    },
    "slideshow": {
     "slide_type": "skip"
    }
   },
   "outputs": [
    {
     "name": "stdout",
     "output_type": "stream",
     "text": [
      "(39592, 112) (40000, 9) (39592, 102)\n",
      "diff =  2: 0\n",
      "diff =  1: 240\n",
      "diff =  0: 28921\n",
      "diff = -1: 10431\n",
      "diff = -2: 0\n"
     ]
    },
    {
     "data": {
      "text/plain": [
       "count    39592.000000\n",
       "mean        -0.257400\n",
       "std          0.450859\n",
       "min         -1.000000\n",
       "25%         -1.000000\n",
       "50%          0.000000\n",
       "75%          0.000000\n",
       "max          1.000000\n",
       "Name: diff, dtype: float64"
      ]
     },
     "execution_count": 205,
     "metadata": {},
     "output_type": "execute_result"
    }
   ],
   "source": [
    "# lampes0 autre DataFrame avec les indice de présence des lampadaires ... CORRECTS ? ... pas cohérent\n",
    "df_tot = df_Y.merge(lampes0, left_index=True, right_index=True)\n",
    "df_tot['diff'] = df_tot['present'] - df_tot['lamp']\n",
    "print(df_tot.shape, lampes0.shape,df_Y.shape )\n",
    "test = True\n",
    "if test:\n",
    "    print(\"diff =  2:\", df_tot[df_tot['diff'] ==  2].count(axis=0)[0])\n",
    "    print(\"diff =  1:\", df_tot[df_tot['diff'] ==  1].count(axis=0)[0])\n",
    "    print(\"diff =  0:\", df_tot[df_tot['diff'] ==  0].count(axis=0)[0])\n",
    "    print(\"diff = -1:\", df_tot[df_tot['diff'] == -1].count(axis=0)[0])\n",
    "    print(\"diff = -2:\", df_tot[df_tot['diff'] == -2].count(axis=0)[0])\n",
    "df_tot['diff'].describe()\n"
   ]
  },
  {
   "cell_type": "code",
   "execution_count": 206,
   "metadata": {
    "ExecuteTime": {
     "end_time": "2020-03-12T20:59:21.448205Z",
     "start_time": "2020-03-12T20:59:21.347945Z"
    },
    "slideshow": {
     "slide_type": "skip"
    }
   },
   "outputs": [
    {
     "data": {
      "text/html": [
       "<div>\n",
       "<style scoped>\n",
       "    .dataframe tbody tr th:only-of-type {\n",
       "        vertical-align: middle;\n",
       "    }\n",
       "\n",
       "    .dataframe tbody tr th {\n",
       "        vertical-align: top;\n",
       "    }\n",
       "\n",
       "    .dataframe thead th {\n",
       "        text-align: right;\n",
       "    }\n",
       "</style>\n",
       "<table border=\"1\" class=\"dataframe\">\n",
       "  <thead>\n",
       "    <tr style=\"text-align: right;\">\n",
       "      <th></th>\n",
       "      <th>0</th>\n",
       "      <th>1</th>\n",
       "      <th>2</th>\n",
       "      <th>3</th>\n",
       "      <th>4</th>\n",
       "      <th>5</th>\n",
       "      <th>6</th>\n",
       "      <th>7</th>\n",
       "      <th>8</th>\n",
       "      <th>9</th>\n",
       "      <th>...</th>\n",
       "      <th>present</th>\n",
       "      <th>NumI</th>\n",
       "      <th>NumY</th>\n",
       "      <th>NumX</th>\n",
       "      <th>X</th>\n",
       "      <th>Y</th>\n",
       "      <th>nom_NUM</th>\n",
       "      <th>nom_ECA</th>\n",
       "      <th>nom_POS</th>\n",
       "      <th>diff</th>\n",
       "    </tr>\n",
       "  </thead>\n",
       "  <tbody>\n",
       "    <tr>\n",
       "      <th>29032</th>\n",
       "      <td>0.0</td>\n",
       "      <td>0.0</td>\n",
       "      <td>0.0</td>\n",
       "      <td>0.0</td>\n",
       "      <td>0.0</td>\n",
       "      <td>0.0</td>\n",
       "      <td>0.0</td>\n",
       "      <td>0.0</td>\n",
       "      <td>0.0</td>\n",
       "      <td>0.0</td>\n",
       "      <td>...</td>\n",
       "      <td>0</td>\n",
       "      <td>29032</td>\n",
       "      <td>32</td>\n",
       "      <td>145</td>\n",
       "      <td>2043225</td>\n",
       "      <td>7272160</td>\n",
       "      <td>2043225_7272160_NumPoints5m.tif</td>\n",
       "      <td>2043225_7272160_EcartZ5m.tif</td>\n",
       "      <td>2043225_7272160_Position5m.tif</td>\n",
       "      <td>-1.0</td>\n",
       "    </tr>\n",
       "    <tr>\n",
       "      <th>29033</th>\n",
       "      <td>0.0</td>\n",
       "      <td>0.0</td>\n",
       "      <td>0.0</td>\n",
       "      <td>0.0</td>\n",
       "      <td>0.0</td>\n",
       "      <td>0.0</td>\n",
       "      <td>0.0</td>\n",
       "      <td>0.0</td>\n",
       "      <td>0.0</td>\n",
       "      <td>0.0</td>\n",
       "      <td>...</td>\n",
       "      <td>0</td>\n",
       "      <td>29033</td>\n",
       "      <td>33</td>\n",
       "      <td>145</td>\n",
       "      <td>2043225</td>\n",
       "      <td>7272165</td>\n",
       "      <td>2043225_7272165_NumPoints5m.tif</td>\n",
       "      <td>2043225_7272165_EcartZ5m.tif</td>\n",
       "      <td>2043225_7272165_Position5m.tif</td>\n",
       "      <td>-1.0</td>\n",
       "    </tr>\n",
       "    <tr>\n",
       "      <th>29034</th>\n",
       "      <td>0.0</td>\n",
       "      <td>0.0</td>\n",
       "      <td>0.0</td>\n",
       "      <td>0.0</td>\n",
       "      <td>0.0</td>\n",
       "      <td>0.0</td>\n",
       "      <td>0.0</td>\n",
       "      <td>0.0</td>\n",
       "      <td>0.0</td>\n",
       "      <td>0.0</td>\n",
       "      <td>...</td>\n",
       "      <td>0</td>\n",
       "      <td>29034</td>\n",
       "      <td>34</td>\n",
       "      <td>145</td>\n",
       "      <td>2043225</td>\n",
       "      <td>7272170</td>\n",
       "      <td>2043225_7272170_NumPoints5m.tif</td>\n",
       "      <td>2043225_7272170_EcartZ5m.tif</td>\n",
       "      <td>2043225_7272170_Position5m.tif</td>\n",
       "      <td>-1.0</td>\n",
       "    </tr>\n",
       "    <tr>\n",
       "      <th>29035</th>\n",
       "      <td>0.0</td>\n",
       "      <td>0.0</td>\n",
       "      <td>0.0</td>\n",
       "      <td>0.0</td>\n",
       "      <td>0.0</td>\n",
       "      <td>0.0</td>\n",
       "      <td>0.0</td>\n",
       "      <td>0.0</td>\n",
       "      <td>0.0</td>\n",
       "      <td>0.0</td>\n",
       "      <td>...</td>\n",
       "      <td>0</td>\n",
       "      <td>29035</td>\n",
       "      <td>35</td>\n",
       "      <td>145</td>\n",
       "      <td>2043225</td>\n",
       "      <td>7272175</td>\n",
       "      <td>2043225_7272175_NumPoints5m.tif</td>\n",
       "      <td>2043225_7272175_EcartZ5m.tif</td>\n",
       "      <td>2043225_7272175_Position5m.tif</td>\n",
       "      <td>-1.0</td>\n",
       "    </tr>\n",
       "    <tr>\n",
       "      <th>29036</th>\n",
       "      <td>0.0</td>\n",
       "      <td>0.0</td>\n",
       "      <td>0.0</td>\n",
       "      <td>0.0</td>\n",
       "      <td>0.0</td>\n",
       "      <td>0.0</td>\n",
       "      <td>0.0</td>\n",
       "      <td>0.0</td>\n",
       "      <td>0.0</td>\n",
       "      <td>0.0</td>\n",
       "      <td>...</td>\n",
       "      <td>0</td>\n",
       "      <td>29036</td>\n",
       "      <td>36</td>\n",
       "      <td>145</td>\n",
       "      <td>2043225</td>\n",
       "      <td>7272180</td>\n",
       "      <td>2043225_7272180_NumPoints5m.tif</td>\n",
       "      <td>2043225_7272180_EcartZ5m.tif</td>\n",
       "      <td>2043225_7272180_Position5m.tif</td>\n",
       "      <td>-1.0</td>\n",
       "    </tr>\n",
       "    <tr>\n",
       "      <th>...</th>\n",
       "      <td>...</td>\n",
       "      <td>...</td>\n",
       "      <td>...</td>\n",
       "      <td>...</td>\n",
       "      <td>...</td>\n",
       "      <td>...</td>\n",
       "      <td>...</td>\n",
       "      <td>...</td>\n",
       "      <td>...</td>\n",
       "      <td>...</td>\n",
       "      <td>...</td>\n",
       "      <td>...</td>\n",
       "      <td>...</td>\n",
       "      <td>...</td>\n",
       "      <td>...</td>\n",
       "      <td>...</td>\n",
       "      <td>...</td>\n",
       "      <td>...</td>\n",
       "      <td>...</td>\n",
       "      <td>...</td>\n",
       "      <td>...</td>\n",
       "    </tr>\n",
       "    <tr>\n",
       "      <th>39587</th>\n",
       "      <td>0.0</td>\n",
       "      <td>0.0</td>\n",
       "      <td>0.0</td>\n",
       "      <td>0.0</td>\n",
       "      <td>0.0</td>\n",
       "      <td>0.0</td>\n",
       "      <td>0.0</td>\n",
       "      <td>0.0</td>\n",
       "      <td>0.0</td>\n",
       "      <td>0.0</td>\n",
       "      <td>...</td>\n",
       "      <td>0</td>\n",
       "      <td>39587</td>\n",
       "      <td>187</td>\n",
       "      <td>197</td>\n",
       "      <td>2043485</td>\n",
       "      <td>7272935</td>\n",
       "      <td>2043485_7272935_NumPoints5m.tif</td>\n",
       "      <td>2043485_7272935_EcartZ5m.tif</td>\n",
       "      <td>2043485_7272935_Position5m.tif</td>\n",
       "      <td>-1.0</td>\n",
       "    </tr>\n",
       "    <tr>\n",
       "      <th>39588</th>\n",
       "      <td>0.0</td>\n",
       "      <td>0.0</td>\n",
       "      <td>0.0</td>\n",
       "      <td>0.0</td>\n",
       "      <td>0.0</td>\n",
       "      <td>0.0</td>\n",
       "      <td>0.0</td>\n",
       "      <td>0.0</td>\n",
       "      <td>0.0</td>\n",
       "      <td>0.0</td>\n",
       "      <td>...</td>\n",
       "      <td>0</td>\n",
       "      <td>39588</td>\n",
       "      <td>188</td>\n",
       "      <td>197</td>\n",
       "      <td>2043485</td>\n",
       "      <td>7272940</td>\n",
       "      <td>2043485_7272940_NumPoints5m.tif</td>\n",
       "      <td>2043485_7272940_EcartZ5m.tif</td>\n",
       "      <td>2043485_7272940_Position5m.tif</td>\n",
       "      <td>-1.0</td>\n",
       "    </tr>\n",
       "    <tr>\n",
       "      <th>39589</th>\n",
       "      <td>0.0</td>\n",
       "      <td>0.0</td>\n",
       "      <td>0.0</td>\n",
       "      <td>0.0</td>\n",
       "      <td>0.0</td>\n",
       "      <td>0.0</td>\n",
       "      <td>0.0</td>\n",
       "      <td>0.0</td>\n",
       "      <td>0.0</td>\n",
       "      <td>0.0</td>\n",
       "      <td>...</td>\n",
       "      <td>0</td>\n",
       "      <td>39589</td>\n",
       "      <td>189</td>\n",
       "      <td>197</td>\n",
       "      <td>2043485</td>\n",
       "      <td>7272945</td>\n",
       "      <td>2043485_7272945_NumPoints5m.tif</td>\n",
       "      <td>2043485_7272945_EcartZ5m.tif</td>\n",
       "      <td>2043485_7272945_Position5m.tif</td>\n",
       "      <td>-1.0</td>\n",
       "    </tr>\n",
       "    <tr>\n",
       "      <th>39590</th>\n",
       "      <td>0.0</td>\n",
       "      <td>0.0</td>\n",
       "      <td>0.0</td>\n",
       "      <td>0.0</td>\n",
       "      <td>0.0</td>\n",
       "      <td>0.0</td>\n",
       "      <td>0.0</td>\n",
       "      <td>0.0</td>\n",
       "      <td>0.0</td>\n",
       "      <td>0.0</td>\n",
       "      <td>...</td>\n",
       "      <td>0</td>\n",
       "      <td>39590</td>\n",
       "      <td>190</td>\n",
       "      <td>197</td>\n",
       "      <td>2043485</td>\n",
       "      <td>7272950</td>\n",
       "      <td>2043485_7272950_NumPoints5m.tif</td>\n",
       "      <td>2043485_7272950_EcartZ5m.tif</td>\n",
       "      <td>2043485_7272950_Position5m.tif</td>\n",
       "      <td>-1.0</td>\n",
       "    </tr>\n",
       "    <tr>\n",
       "      <th>39591</th>\n",
       "      <td>0.0</td>\n",
       "      <td>0.0</td>\n",
       "      <td>0.0</td>\n",
       "      <td>0.0</td>\n",
       "      <td>0.0</td>\n",
       "      <td>0.0</td>\n",
       "      <td>0.0</td>\n",
       "      <td>0.0</td>\n",
       "      <td>0.0</td>\n",
       "      <td>0.0</td>\n",
       "      <td>...</td>\n",
       "      <td>0</td>\n",
       "      <td>39591</td>\n",
       "      <td>191</td>\n",
       "      <td>197</td>\n",
       "      <td>2043485</td>\n",
       "      <td>7272955</td>\n",
       "      <td>2043485_7272955_NumPoints5m.tif</td>\n",
       "      <td>2043485_7272955_EcartZ5m.tif</td>\n",
       "      <td>2043485_7272955_Position5m.tif</td>\n",
       "      <td>-1.0</td>\n",
       "    </tr>\n",
       "  </tbody>\n",
       "</table>\n",
       "<p>10431 rows × 112 columns</p>\n",
       "</div>"
      ],
      "text/plain": [
       "         0    1    2    3    4    5    6    7    8    9  ...  present   NumI  \\\n",
       "29032  0.0  0.0  0.0  0.0  0.0  0.0  0.0  0.0  0.0  0.0  ...        0  29032   \n",
       "29033  0.0  0.0  0.0  0.0  0.0  0.0  0.0  0.0  0.0  0.0  ...        0  29033   \n",
       "29034  0.0  0.0  0.0  0.0  0.0  0.0  0.0  0.0  0.0  0.0  ...        0  29034   \n",
       "29035  0.0  0.0  0.0  0.0  0.0  0.0  0.0  0.0  0.0  0.0  ...        0  29035   \n",
       "29036  0.0  0.0  0.0  0.0  0.0  0.0  0.0  0.0  0.0  0.0  ...        0  29036   \n",
       "...    ...  ...  ...  ...  ...  ...  ...  ...  ...  ...  ...      ...    ...   \n",
       "39587  0.0  0.0  0.0  0.0  0.0  0.0  0.0  0.0  0.0  0.0  ...        0  39587   \n",
       "39588  0.0  0.0  0.0  0.0  0.0  0.0  0.0  0.0  0.0  0.0  ...        0  39588   \n",
       "39589  0.0  0.0  0.0  0.0  0.0  0.0  0.0  0.0  0.0  0.0  ...        0  39589   \n",
       "39590  0.0  0.0  0.0  0.0  0.0  0.0  0.0  0.0  0.0  0.0  ...        0  39590   \n",
       "39591  0.0  0.0  0.0  0.0  0.0  0.0  0.0  0.0  0.0  0.0  ...        0  39591   \n",
       "\n",
       "       NumY  NumX        X        Y                          nom_NUM  \\\n",
       "29032    32   145  2043225  7272160  2043225_7272160_NumPoints5m.tif   \n",
       "29033    33   145  2043225  7272165  2043225_7272165_NumPoints5m.tif   \n",
       "29034    34   145  2043225  7272170  2043225_7272170_NumPoints5m.tif   \n",
       "29035    35   145  2043225  7272175  2043225_7272175_NumPoints5m.tif   \n",
       "29036    36   145  2043225  7272180  2043225_7272180_NumPoints5m.tif   \n",
       "...     ...   ...      ...      ...                              ...   \n",
       "39587   187   197  2043485  7272935  2043485_7272935_NumPoints5m.tif   \n",
       "39588   188   197  2043485  7272940  2043485_7272940_NumPoints5m.tif   \n",
       "39589   189   197  2043485  7272945  2043485_7272945_NumPoints5m.tif   \n",
       "39590   190   197  2043485  7272950  2043485_7272950_NumPoints5m.tif   \n",
       "39591   191   197  2043485  7272955  2043485_7272955_NumPoints5m.tif   \n",
       "\n",
       "                            nom_ECA                         nom_POS  diff  \n",
       "29032  2043225_7272160_EcartZ5m.tif  2043225_7272160_Position5m.tif  -1.0  \n",
       "29033  2043225_7272165_EcartZ5m.tif  2043225_7272165_Position5m.tif  -1.0  \n",
       "29034  2043225_7272170_EcartZ5m.tif  2043225_7272170_Position5m.tif  -1.0  \n",
       "29035  2043225_7272175_EcartZ5m.tif  2043225_7272175_Position5m.tif  -1.0  \n",
       "29036  2043225_7272180_EcartZ5m.tif  2043225_7272180_Position5m.tif  -1.0  \n",
       "...                             ...                             ...   ...  \n",
       "39587  2043485_7272935_EcartZ5m.tif  2043485_7272935_Position5m.tif  -1.0  \n",
       "39588  2043485_7272940_EcartZ5m.tif  2043485_7272940_Position5m.tif  -1.0  \n",
       "39589  2043485_7272945_EcartZ5m.tif  2043485_7272945_Position5m.tif  -1.0  \n",
       "39590  2043485_7272950_EcartZ5m.tif  2043485_7272950_Position5m.tif  -1.0  \n",
       "39591  2043485_7272955_EcartZ5m.tif  2043485_7272955_Position5m.tif  -1.0  \n",
       "\n",
       "[10431 rows x 112 columns]"
      ]
     },
     "execution_count": 206,
     "metadata": {},
     "output_type": "execute_result"
    }
   ],
   "source": [
    "df_tot[df_tot['diff'] == -1]\n"
   ]
  },
  {
   "cell_type": "code",
   "execution_count": 207,
   "metadata": {
    "ExecuteTime": {
     "end_time": "2020-03-12T20:59:37.700736Z",
     "start_time": "2020-03-12T20:59:37.132561Z"
    },
    "scrolled": true,
    "slideshow": {
     "slide_type": "skip"
    }
   },
   "outputs": [
    {
     "data": {
      "text/html": [
       "<div>\n",
       "<style scoped>\n",
       "    .dataframe tbody tr th:only-of-type {\n",
       "        vertical-align: middle;\n",
       "    }\n",
       "\n",
       "    .dataframe tbody tr th {\n",
       "        vertical-align: top;\n",
       "    }\n",
       "\n",
       "    .dataframe thead th {\n",
       "        text-align: right;\n",
       "    }\n",
       "</style>\n",
       "<table border=\"1\" class=\"dataframe\">\n",
       "  <thead>\n",
       "    <tr style=\"text-align: right;\">\n",
       "      <th></th>\n",
       "      <th>0</th>\n",
       "      <th>1</th>\n",
       "      <th>2</th>\n",
       "      <th>3</th>\n",
       "      <th>4</th>\n",
       "      <th>5</th>\n",
       "      <th>6</th>\n",
       "      <th>7</th>\n",
       "      <th>8</th>\n",
       "      <th>9</th>\n",
       "      <th>...</th>\n",
       "      <th>92</th>\n",
       "      <th>93</th>\n",
       "      <th>94</th>\n",
       "      <th>95</th>\n",
       "      <th>96</th>\n",
       "      <th>97</th>\n",
       "      <th>98</th>\n",
       "      <th>99</th>\n",
       "      <th>lamp</th>\n",
       "      <th>lamp2</th>\n",
       "    </tr>\n",
       "  </thead>\n",
       "  <tbody>\n",
       "    <tr>\n",
       "      <th>count</th>\n",
       "      <td>39592.000000</td>\n",
       "      <td>39592.000000</td>\n",
       "      <td>39592.000000</td>\n",
       "      <td>39592.000000</td>\n",
       "      <td>39592.000000</td>\n",
       "      <td>39592.000000</td>\n",
       "      <td>39592.000000</td>\n",
       "      <td>39592.000000</td>\n",
       "      <td>39592.000000</td>\n",
       "      <td>39592.000000</td>\n",
       "      <td>...</td>\n",
       "      <td>39592.000000</td>\n",
       "      <td>39592.000000</td>\n",
       "      <td>39592.00000</td>\n",
       "      <td>39592.000000</td>\n",
       "      <td>39592.000000</td>\n",
       "      <td>39592.000000</td>\n",
       "      <td>39592.000000</td>\n",
       "      <td>39592.000000</td>\n",
       "      <td>39592.000000</td>\n",
       "      <td>205.000000</td>\n",
       "    </tr>\n",
       "    <tr>\n",
       "      <th>mean</th>\n",
       "      <td>0.007577</td>\n",
       "      <td>0.006062</td>\n",
       "      <td>0.006441</td>\n",
       "      <td>0.004546</td>\n",
       "      <td>0.003789</td>\n",
       "      <td>0.003410</td>\n",
       "      <td>0.003789</td>\n",
       "      <td>0.006062</td>\n",
       "      <td>0.005683</td>\n",
       "      <td>0.007198</td>\n",
       "      <td>...</td>\n",
       "      <td>0.005304</td>\n",
       "      <td>0.005304</td>\n",
       "      <td>0.00682</td>\n",
       "      <td>0.004925</td>\n",
       "      <td>0.006062</td>\n",
       "      <td>0.004168</td>\n",
       "      <td>0.007198</td>\n",
       "      <td>0.005683</td>\n",
       "      <td>0.266342</td>\n",
       "      <td>52.458537</td>\n",
       "    </tr>\n",
       "    <tr>\n",
       "      <th>std</th>\n",
       "      <td>0.086718</td>\n",
       "      <td>0.077622</td>\n",
       "      <td>0.079996</td>\n",
       "      <td>0.067274</td>\n",
       "      <td>0.061436</td>\n",
       "      <td>0.058294</td>\n",
       "      <td>0.061436</td>\n",
       "      <td>0.077622</td>\n",
       "      <td>0.075172</td>\n",
       "      <td>0.084539</td>\n",
       "      <td>...</td>\n",
       "      <td>0.072637</td>\n",
       "      <td>0.072637</td>\n",
       "      <td>0.08230</td>\n",
       "      <td>0.070008</td>\n",
       "      <td>0.077622</td>\n",
       "      <td>0.064422</td>\n",
       "      <td>0.084539</td>\n",
       "      <td>0.075172</td>\n",
       "      <td>0.442051</td>\n",
       "      <td>60.696807</td>\n",
       "    </tr>\n",
       "    <tr>\n",
       "      <th>min</th>\n",
       "      <td>0.000000</td>\n",
       "      <td>0.000000</td>\n",
       "      <td>0.000000</td>\n",
       "      <td>0.000000</td>\n",
       "      <td>0.000000</td>\n",
       "      <td>0.000000</td>\n",
       "      <td>0.000000</td>\n",
       "      <td>0.000000</td>\n",
       "      <td>0.000000</td>\n",
       "      <td>0.000000</td>\n",
       "      <td>...</td>\n",
       "      <td>0.000000</td>\n",
       "      <td>0.000000</td>\n",
       "      <td>0.00000</td>\n",
       "      <td>0.000000</td>\n",
       "      <td>0.000000</td>\n",
       "      <td>0.000000</td>\n",
       "      <td>0.000000</td>\n",
       "      <td>0.000000</td>\n",
       "      <td>0.000000</td>\n",
       "      <td>1.000000</td>\n",
       "    </tr>\n",
       "    <tr>\n",
       "      <th>25%</th>\n",
       "      <td>0.000000</td>\n",
       "      <td>0.000000</td>\n",
       "      <td>0.000000</td>\n",
       "      <td>0.000000</td>\n",
       "      <td>0.000000</td>\n",
       "      <td>0.000000</td>\n",
       "      <td>0.000000</td>\n",
       "      <td>0.000000</td>\n",
       "      <td>0.000000</td>\n",
       "      <td>0.000000</td>\n",
       "      <td>...</td>\n",
       "      <td>0.000000</td>\n",
       "      <td>0.000000</td>\n",
       "      <td>0.00000</td>\n",
       "      <td>0.000000</td>\n",
       "      <td>0.000000</td>\n",
       "      <td>0.000000</td>\n",
       "      <td>0.000000</td>\n",
       "      <td>0.000000</td>\n",
       "      <td>0.000000</td>\n",
       "      <td>1.000000</td>\n",
       "    </tr>\n",
       "    <tr>\n",
       "      <th>50%</th>\n",
       "      <td>0.000000</td>\n",
       "      <td>0.000000</td>\n",
       "      <td>0.000000</td>\n",
       "      <td>0.000000</td>\n",
       "      <td>0.000000</td>\n",
       "      <td>0.000000</td>\n",
       "      <td>0.000000</td>\n",
       "      <td>0.000000</td>\n",
       "      <td>0.000000</td>\n",
       "      <td>0.000000</td>\n",
       "      <td>...</td>\n",
       "      <td>0.000000</td>\n",
       "      <td>0.000000</td>\n",
       "      <td>0.00000</td>\n",
       "      <td>0.000000</td>\n",
       "      <td>0.000000</td>\n",
       "      <td>0.000000</td>\n",
       "      <td>0.000000</td>\n",
       "      <td>0.000000</td>\n",
       "      <td>0.000000</td>\n",
       "      <td>1.000000</td>\n",
       "    </tr>\n",
       "    <tr>\n",
       "      <th>75%</th>\n",
       "      <td>0.000000</td>\n",
       "      <td>0.000000</td>\n",
       "      <td>0.000000</td>\n",
       "      <td>0.000000</td>\n",
       "      <td>0.000000</td>\n",
       "      <td>0.000000</td>\n",
       "      <td>0.000000</td>\n",
       "      <td>0.000000</td>\n",
       "      <td>0.000000</td>\n",
       "      <td>0.000000</td>\n",
       "      <td>...</td>\n",
       "      <td>0.000000</td>\n",
       "      <td>0.000000</td>\n",
       "      <td>0.00000</td>\n",
       "      <td>0.000000</td>\n",
       "      <td>0.000000</td>\n",
       "      <td>0.000000</td>\n",
       "      <td>0.000000</td>\n",
       "      <td>0.000000</td>\n",
       "      <td>1.000000</td>\n",
       "      <td>105.000000</td>\n",
       "    </tr>\n",
       "    <tr>\n",
       "      <th>max</th>\n",
       "      <td>1.000000</td>\n",
       "      <td>1.000000</td>\n",
       "      <td>1.000000</td>\n",
       "      <td>1.000000</td>\n",
       "      <td>1.000000</td>\n",
       "      <td>1.000000</td>\n",
       "      <td>1.000000</td>\n",
       "      <td>1.000000</td>\n",
       "      <td>1.000000</td>\n",
       "      <td>1.000000</td>\n",
       "      <td>...</td>\n",
       "      <td>1.000000</td>\n",
       "      <td>1.000000</td>\n",
       "      <td>1.00000</td>\n",
       "      <td>1.000000</td>\n",
       "      <td>1.000000</td>\n",
       "      <td>1.000000</td>\n",
       "      <td>1.000000</td>\n",
       "      <td>1.000000</td>\n",
       "      <td>1.000000</td>\n",
       "      <td>195.000000</td>\n",
       "    </tr>\n",
       "  </tbody>\n",
       "</table>\n",
       "<p>8 rows × 102 columns</p>\n",
       "</div>"
      ],
      "text/plain": [
       "                  0             1             2             3             4  \\\n",
       "count  39592.000000  39592.000000  39592.000000  39592.000000  39592.000000   \n",
       "mean       0.007577      0.006062      0.006441      0.004546      0.003789   \n",
       "std        0.086718      0.077622      0.079996      0.067274      0.061436   \n",
       "min        0.000000      0.000000      0.000000      0.000000      0.000000   \n",
       "25%        0.000000      0.000000      0.000000      0.000000      0.000000   \n",
       "50%        0.000000      0.000000      0.000000      0.000000      0.000000   \n",
       "75%        0.000000      0.000000      0.000000      0.000000      0.000000   \n",
       "max        1.000000      1.000000      1.000000      1.000000      1.000000   \n",
       "\n",
       "                  5             6             7             8             9  \\\n",
       "count  39592.000000  39592.000000  39592.000000  39592.000000  39592.000000   \n",
       "mean       0.003410      0.003789      0.006062      0.005683      0.007198   \n",
       "std        0.058294      0.061436      0.077622      0.075172      0.084539   \n",
       "min        0.000000      0.000000      0.000000      0.000000      0.000000   \n",
       "25%        0.000000      0.000000      0.000000      0.000000      0.000000   \n",
       "50%        0.000000      0.000000      0.000000      0.000000      0.000000   \n",
       "75%        0.000000      0.000000      0.000000      0.000000      0.000000   \n",
       "max        1.000000      1.000000      1.000000      1.000000      1.000000   \n",
       "\n",
       "       ...            92            93           94            95  \\\n",
       "count  ...  39592.000000  39592.000000  39592.00000  39592.000000   \n",
       "mean   ...      0.005304      0.005304      0.00682      0.004925   \n",
       "std    ...      0.072637      0.072637      0.08230      0.070008   \n",
       "min    ...      0.000000      0.000000      0.00000      0.000000   \n",
       "25%    ...      0.000000      0.000000      0.00000      0.000000   \n",
       "50%    ...      0.000000      0.000000      0.00000      0.000000   \n",
       "75%    ...      0.000000      0.000000      0.00000      0.000000   \n",
       "max    ...      1.000000      1.000000      1.00000      1.000000   \n",
       "\n",
       "                 96            97            98            99          lamp  \\\n",
       "count  39592.000000  39592.000000  39592.000000  39592.000000  39592.000000   \n",
       "mean       0.006062      0.004168      0.007198      0.005683      0.266342   \n",
       "std        0.077622      0.064422      0.084539      0.075172      0.442051   \n",
       "min        0.000000      0.000000      0.000000      0.000000      0.000000   \n",
       "25%        0.000000      0.000000      0.000000      0.000000      0.000000   \n",
       "50%        0.000000      0.000000      0.000000      0.000000      0.000000   \n",
       "75%        0.000000      0.000000      0.000000      0.000000      1.000000   \n",
       "max        1.000000      1.000000      1.000000      1.000000      1.000000   \n",
       "\n",
       "            lamp2  \n",
       "count  205.000000  \n",
       "mean    52.458537  \n",
       "std     60.696807  \n",
       "min      1.000000  \n",
       "25%      1.000000  \n",
       "50%      1.000000  \n",
       "75%    105.000000  \n",
       "max    195.000000  \n",
       "\n",
       "[8 rows x 102 columns]"
      ]
     },
     "execution_count": 207,
     "metadata": {},
     "output_type": "execute_result"
    }
   ],
   "source": [
    "df_Y.describe()\n"
   ]
  },
  {
   "cell_type": "code",
   "execution_count": null,
   "metadata": {
    "ExecuteTime": {
     "end_time": "2020-03-12T08:00:15.223954Z",
     "start_time": "2020-03-12T08:00:15.130219Z"
    },
    "slideshow": {
     "slide_type": "skip"
    }
   },
   "outputs": [],
   "source": [
    "\n"
   ]
  },
  {
   "cell_type": "markdown",
   "metadata": {
    "slideshow": {
     "slide_type": "skip"
    }
   },
   "source": [
    "### Séparation Train - Test "
   ]
  },
  {
   "cell_type": "code",
   "execution_count": 208,
   "metadata": {
    "ExecuteTime": {
     "end_time": "2020-03-12T20:59:52.669296Z",
     "start_time": "2020-03-12T20:59:52.556864Z"
    },
    "slideshow": {
     "slide_type": "skip"
    }
   },
   "outputs": [
    {
     "name": "stdout",
     "output_type": "stream",
     "text": [
      "29047 10545 (39592,) (39592, 2) (39592, 2)\n",
      "29047 37483 23237 8436 (31673, 2) (7919, 2)\n",
      "(23237, 10, 10, 2) (8436, 10, 10, 2) (5810, 10, 10, 2) (2109, 10, 10, 2)\n",
      "(31673, 10, 10, 2) (7919, 10, 10, 2)\n"
     ]
    }
   ],
   "source": [
    "y = df_Y[\"lamp\"]\n",
    "y_binary = to_categorical(y)\n",
    "\n",
    "len0 = df_Y[df_Y['lamp'] == 0].shape[0]\n",
    "len1 = df_Y.shape[0] - len0\n",
    "\n",
    "df_test = pd.DataFrame(y_binary)\n",
    "print(len0, len1, y.shape, y_binary.shape, df_test.shape)\n",
    "\n",
    "test1a = df_test.iloc[:int(len0*0.8),:]\n",
    "test1b = df_test.iloc[len0:len0+int(len1*0.8),:]\n",
    "test1  = pd.concat([test1a, test1b])\n",
    "test2a = df_test.iloc[int(len0*0.8):len0,:]   \n",
    "test2b = df_test.iloc[len0+int(len1*0.8):len0+len1,:]   \n",
    "test2  = pd.concat([test2a, test2b])\n",
    "\n",
    "print(len0, len0+int(len1*0.8), int(len0*0.8), int(len1*0.8), test1.shape, test2.shape)\n",
    "\n",
    "data_x0a = data_x[:int(len0*0.8)]\n",
    "data_x0b = data_x[len0:len0+int(len1*0.8)]\n",
    "data_x1a = data_x[int(len0*0.8):len0]\n",
    "data_x1b = data_x[len0+int(len1*0.8):]\n",
    "print(data_x0a.shape, data_x0b.shape,data_x1a.shape, data_x1b.shape)\n",
    "\n",
    "#data_x0 = np.concatenate(data_x0a, data_x0b, axis=1)\n",
    "data_x0 = tf.keras.backend.concatenate((data_x0a, data_x0b), axis=0)\n",
    "data_x1 = tf.keras.backend.concatenate((data_x1a, data_x1b), axis=0)\n",
    "print(data_x0.shape,data_x1.shape)"
   ]
  },
  {
   "cell_type": "code",
   "execution_count": 209,
   "metadata": {
    "ExecuteTime": {
     "end_time": "2020-03-12T21:00:23.234575Z",
     "start_time": "2020-03-12T21:00:23.125111Z"
    },
    "slideshow": {
     "slide_type": "skip"
    }
   },
   "outputs": [
    {
     "name": "stdout",
     "output_type": "stream",
     "text": [
      "(39592,) (31673, 2) (7919, 2)\n",
      "(23237, 10, 10, 2) (8436, 10, 10, 2) (5810, 10, 10, 2) (2109, 10, 10, 2)\n",
      "(31673, 10, 10, 2) (7919, 10, 10, 2)\n"
     ]
    }
   ],
   "source": [
    "#########   problemes d'arrondis   ????  #######\n",
    "#### pas le meme nombre de lignes pour les 2 manières différentes d'extraire les lignes  ????\n",
    "#y0 = df_testY.iloc[:int(len0*0.8),len0:len0+int(len1*0.8)]\n",
    "#y1 = df_testY.iloc[int(len0*0.8):len0,len0+int(len1*0.8):len0+len1]\n",
    "df_testY = pd.DataFrame(y_binary)\n",
    "y0a = df_test.iloc[:int(len0*0.8),:]\n",
    "y0b = df_test.iloc[len0:len0+int(len1*0.8),:]\n",
    "y0  = pd.concat([y0a, y0b])\n",
    "y1a = df_test.iloc[int(len0*0.8):len0,:]   \n",
    "y1b = df_test.iloc[len0+int(len1*0.8):len0+len1,:]   \n",
    "y1  = pd.concat([y1a, y1b])\n",
    "\n",
    "print(y.shape, y0.shape, y1.shape)\n",
    "\n",
    "data_x0a = data_x[:int(len0*0.8)]\n",
    "data_x0b = data_x[len0:len0+int(len1*0.8)]\n",
    "data_x1a = data_x[int(len0*0.8):len0]\n",
    "data_x1b = data_x[len0+int(len1*0.8):]\n",
    "print(data_x0a.shape, data_x0b.shape,data_x1a.shape, data_x1b.shape)\n",
    "\n",
    "#data_x0 = np.concatenate(data_x0a, data_x0b, axis=1)\n",
    "data_x0 = tf.keras.backend.concatenate((data_x0a, data_x0b), axis=0)\n",
    "data_x1 = tf.keras.backend.concatenate((data_x1a, data_x1b), axis=0)\n",
    "print(data_x0.shape,data_x1.shape)\n",
    "\n",
    "#X10, X11 = tf.split(X1, [:], 0)\n",
    "#Y10, Y11 = tf.split(y_binary, [[len0 * 0.8:len0,len0+len1*0.8:]], 0)\n",
    "\n",
    "#print(X10.shape, Y10.shape, X11.shape)"
   ]
  },
  {
   "cell_type": "code",
   "execution_count": 210,
   "metadata": {
    "ExecuteTime": {
     "end_time": "2020-03-12T21:00:39.095020Z",
     "start_time": "2020-03-12T21:00:38.974044Z"
    },
    "slideshow": {
     "slide_type": "slide"
    }
   },
   "outputs": [
    {
     "name": "stdout",
     "output_type": "stream",
     "text": [
      "Dimensions X: (39592, 10, 10, 2)\n",
      "Dimensions Y: (39592, 2) 39592 (31673, 2) (7919, 2)\n",
      "Train et Test: (31673, 10, 10, 2) 31673 (7919, 10, 10, 2) 7919\n",
      "(31673, 10, 10, 2) 31673 (7919, 10, 10, 2) 7919\n",
      "(31673, 2) (7919, 2)\n"
     ]
    }
   ],
   "source": [
    "from sklearn.model_selection import train_test_split \n",
    "from keras.utils import to_categorical\n",
    "\n",
    "# Charge et split les données\n",
    "###############   TODO      ###############\n",
    "####### fonctionne avec les 2 cubes/images \n",
    "X = data_x\n",
    "####### Si ne fonctionne pas avec les 2 cubes/images \n",
    "# X = data1\n",
    "print(\"Dimensions X:\", X.shape)\n",
    "##############################################\n",
    "#####   calcul de la position de la lampe dans le carré N\n",
    "###  Passage mode binaire à une liste de 100\n",
    "############\n",
    "# Manière 1 de \n",
    "y = liste_y\n",
    "# Manière 2 ... directe à partir des 3 mêmes fichiers 10x10\n",
    "y = df_Y['lamp']\n",
    "\n",
    "y_binary = to_categorical(y)\n",
    "print(\"Dimensions Y:\", y_binary.shape, len(y), y0.shape, y1.shape)\n",
    "#\n",
    "# y = data_y\n",
    "# print(y.shape)\n",
    "#############################\n",
    "\n",
    "# tfds   tensorflow dataset splitting\n",
    "# test_split, valid_split, train_split = tfds.Split.TRAIN.subsplit([10, 15, 75])\n",
    "# PYTORCH   torchtext.data.Dataset\n",
    "# split(split_ratio=0.7, stratified=False, strata_field='label', random_state=None\n",
    "\n",
    "methode = 'test3'\n",
    "#methode = 'SKLEARN'\n",
    "\n",
    "if methode == 'test':\n",
    "    all = tf.data.Dataset.from_tensor_slices(X).shuffle(10, reshuffle_each_iteration=False)\n",
    "    n_row = int(X.shape[0] * 0.8)\n",
    "    train_data, test_data     = X[:n_row,:,:,:], X[n_row:,:,:,:]\n",
    "    train_labels, test_labels = y_binary[:n_row,:], y_binary[n_row:,:]\n",
    "    \n",
    "if methode == 'test2':\n",
    "    len0 = df_Y[df_Y['lamp'] == 0].shape[0]\n",
    "    len1 = df_Y.shape[0] - len0\n",
    "    \n",
    "    train_data, test_data = tf.split(X, [n_row1, n_row2], 0)\n",
    "    train_labels, test_labels = tf.split(y_binary, [n_row1, n_row2], 0)\n",
    "    \n",
    "if methode == 'test3':\n",
    "    train_data, test_data     = (data_x0, data_x1)\n",
    "    train_labels, test_labels = (y0, y1)\n",
    "\n",
    "if methode == 'shuffle':\n",
    "    fraction = 20\n",
    "    #all = tf.data.Dataset.from_tensor_slices(list(range(1, 21))).shuffle(10, reshuffle_each_iteration=False)\n",
    "    #test_data = all.enumerate().filter(lambda x,y: x % int(100/fraction) == 0).map(lambda x,y: y)\n",
    "    \n",
    "# dim = len(keras.backend.int_shape(X))\n",
    "# if dim = 2:\n",
    "# Avec SKLEARN\n",
    "if methode == 'SKLEARN':\n",
    "    train_data, test_data, train_labels, test_labels = train_test_split(\n",
    "        X, y_binary, test_size=0.2, random_state=42, stratify=y_binary)\n",
    "#        X, y, test_size=0.2, random_state=42, stratify=y)\n",
    "\n",
    "#print(train_data.shape, train_labels.shape, test_data.shape, test_labels.shape)\n",
    "print(\"Train et Test:\", train_data.shape, len(train_labels), test_data.shape, len(test_labels))\n",
    "\n",
    "#train_data = np.expand_dims(train_data, axis=3)\n",
    "#test_data = np.expand_dims(test_data, axis=3)\n",
    "\n",
    "#### Ce n'est plus nécessaire si X est un Tenseur 4D\n",
    "#train_data = train_data.reshape(train_data.shape[0], 10, 10, 1)\n",
    "#test_data  = test_data.reshape(test_data.shape[0], 10, 10, 1)\n",
    "\n",
    "#print(train_data.shape, train_labels.shape, test_data.shape, test_labels.shape)\n",
    "print(train_data.shape, len(train_labels), test_data.shape, len(test_labels))\n",
    "print(y0.shape, y1.shape)"
   ]
  },
  {
   "cell_type": "markdown",
   "metadata": {
    "slideshow": {
     "slide_type": "skip"
    }
   },
   "source": [
    "## Modèles CNN 2D"
   ]
  },
  {
   "cell_type": "raw",
   "metadata": {
    "slideshow": {
     "slide_type": "skip"
    }
   },
   "source": [
    "keras.layers.Conv2D(\n",
    "    filters,               #  32\n",
    "    kernel_size,           # (3,3)\n",
    "    strides=(1, 1),        # nombre impair\n",
    "    padding='valid',       # or \"same\"\n",
    "    data_format=None, \n",
    "    dilation_rate=(1, 1),\n",
    "    activation=None,       # \"relu\"\n",
    "    activity_regularizer=None, kernel_regularizer=None , bias_regularizer=None\n",
    "    kernel_initializer='glorot_uniform', kernel_constraint=None,     #  ou 'he_normal'\n",
    "    use_bias=True, bias_initializer='zeros', bias_constraint=None)   "
   ]
  },
  {
   "cell_type": "raw",
   "metadata": {
    "ExecuteTime": {
     "end_time": "2020-03-02T14:53:59.729537Z",
     "start_time": "2020-03-02T14:52:55.448153Z"
    },
    "slideshow": {
     "slide_type": "skip"
    }
   },
   "source": [
    "# 0)Trains a simplet CONVNET on the MNIST dataset\n",
    "\n",
    "input_shape = (10, 10, 1)     #input_shape = (10, 10, 2)\n",
    "num_classes = 2\n",
    "epochs = 15\n",
    "batch_sise=len(test_labels)/10\n",
    "activ1  = \"relu\"\n",
    "activ2  = \"sigmoid\"\n",
    "activ2b = \"softmax\"\n",
    "\n",
    "from sklearn.utils import class_weight\n",
    "ratio = 401 / 70\n",
    "poids_class = {0: 1., 1: ratio}\n",
    "#poids_class = class_weight.compute_class_weight(np.unique(train_labels), train_labels, y=? [0,1])\n",
    "\n",
    "model2 = Sequential()\n",
    "model2.add(Conv2D(filters=32, kernel_size=(3, 3), padding=\"same\", strides=(1,1), \n",
    "                  activation=activ1, kernel_regularizer = \"l2\", input_shape=input_shape))\n",
    "model2.add(Conv2D(32, (3, 3), padding=\"same\", strides=(1,1), activation=activ1, kernel_regularizer = \"l2\"))\n",
    "# , kernel_regularizer = l2 (0.0005)\n",
    "\n",
    "#model2.add(MaxPooling2D(pool_size=(2, 2)))\n",
    "model2.add(Dropout(1/4))\n",
    "\n",
    "model2.add(Conv2D(64, (3, 3), padding=\"same\", strides=(1,1), activation=activ1, kernel_regularizer = \"l2\"))\n",
    "model2.add(Conv2D(64, (3, 3), padding=\"same\", strides=(1,1), activation=activ1, kernel_regularizer = \"l2\"))\n",
    "#model2.add(MaxPooling2D(pool_size=(2, 2)))\n",
    "model2.add(Dropout(1/4))\n",
    "\n",
    "model2.add(Flatten())\n",
    "model2.add(Dense(128, activation=activ1))\n",
    "model2.add(Dropout(0.5))\n",
    "model2.add(Dense(num_classes, activation=activ2))\n",
    "\n",
    "# optimizerA  sgd=SGD(lr=1e-5, decay=1e-6, momentum=0.9, nesterov=True)\n",
    "# optimizerB  adam=Adam(lr=1e-3, beta_1=0.9, beta_2=0.999, epsilon=1e-8, decay=0.0)\n",
    "#optim = keras.optimizers.Adadelta()\n",
    "optim = SGD(lr=1e-4, decay=1e-6, momentum=0.9, nesterov=True)\n",
    "# bianry or categorical\n",
    "\n",
    "model2.compile(loss=keras.losses.binary_crossentropy, optimizer=optim, metrics=['accuracy'])\n",
    "\n",
    "# poids_class, 'balanced', 'balanced_subsample'\n",
    "history2 = model2.fit(train_data, train_labels, batch_size=batch_size, epochs=epochs,\n",
    "            class_weight='balanced',\n",
    "            verbose=1, validation_data=(test_data, test_labels))\n",
    "\n",
    "score = model2.evaluate(test_data, test_labels, batch_size=batch_size, verbose=2)\n",
    "print('Test loss:', score[0])\n",
    "print('Test accuracy:', score[1])\n"
   ]
  },
  {
   "cell_type": "raw",
   "metadata": {
    "ExecuteTime": {
     "end_time": "2020-03-02T09:23:11.049089Z",
     "start_time": "2020-03-02T09:23:07.724793Z"
    },
    "slideshow": {
     "slide_type": "skip"
    }
   },
   "source": [
    "# 1) Trains a simplet CONVNET on the MNIST dataset\n",
    "\n",
    "input_shape = (10, 10, 1)     #input_shape = (10, 10, 2)\n",
    "\n",
    "epochs = 11\n",
    "batch_size = 64\n",
    "\n",
    "num_filters = 8\n",
    "filter_size = 3\n",
    "pool_size = 2\n",
    "\n",
    "num_classes = 2   #  1 ou 2\n",
    "\n",
    "model2 = Sequential([\n",
    "    Conv2D(num_filters, filter_size, padding=\"same\", strides=(1,1), input_shape=input_shape),\n",
    "    Conv2D(num_filters, filter_size, padding=\"same\", strides=(1,1)),\n",
    "    #Conv2D(num_filters, filter_size, padding=\"same\", strides=(1,1)),\n",
    "    #Conv2D(num_filters, filter_size),\n",
    "    #MaxPooling2D(pool_size=pool_size),\n",
    "    Flatten(),\n",
    "    Dense(num_classes, activation='softmax'),\n",
    "])\n",
    "\n",
    "#model2.compile(loss=keras.losses.categorical_crossentropy, optimizer=keras.optimizers.Adadelta(),\n",
    "#              metrics=['accuracy'])\n",
    "model2.compile(loss=keras.losses.binary_crossentropy, optimizer=keras.optimizers.Adadelta(),\n",
    "              metrics=['accuracy'])\n",
    "\n",
    "\n",
    "history2 = model2.fit(train_data, train_labels, batch_size=batch_size, epochs=epochs,\n",
    "          verbose=1, validation_data=(test_data, test_labels))\n",
    "\n",
    "score = model2.evaluate(test_data, test_labels, verbose=0)\n",
    "print('Test loss:', score[0])\n",
    "print('Test accuracy:', score[1])\n",
    "\n"
   ]
  },
  {
   "cell_type": "markdown",
   "metadata": {
    "slideshow": {
     "slide_type": "skip"
    }
   },
   "source": [
    "### tensorboard plot diagramme\n",
    "\n",
    "### ou tikz in latex"
   ]
  },
  {
   "cell_type": "code",
   "execution_count": 211,
   "metadata": {
    "ExecuteTime": {
     "end_time": "2020-03-12T21:15:31.016272Z",
     "start_time": "2020-03-12T21:01:40.910617Z"
    },
    "slideshow": {
     "slide_type": "slide"
    }
   },
   "outputs": [
    {
     "name": "stdout",
     "output_type": "stream",
     "text": [
      "(31673, 10, 10, 2) (31673, 2) (39592, 102) (39592, 2) 39592\n",
      "Epoch 1/200\n",
      "2/2 [==============================] - 6s 3s/step - loss: 0.7273 - accuracy: 0.5220\n",
      "Epoch 2/200\n",
      "2/2 [==============================] - 4s 2s/step - loss: 0.6692 - accuracy: 0.6480\n",
      "Epoch 3/200\n",
      "2/2 [==============================] - 4s 2s/step - loss: 0.6559 - accuracy: 0.6835\n",
      "Epoch 4/200\n",
      "2/2 [==============================] - 4s 2s/step - loss: 0.6471 - accuracy: 0.7000\n",
      "Epoch 5/200\n",
      "2/2 [==============================] - 4s 2s/step - loss: 0.6399 - accuracy: 0.7080\n",
      "Epoch 6/200\n",
      "2/2 [==============================] - 4s 2s/step - loss: 0.6322 - accuracy: 0.7164\n",
      "Epoch 7/200\n",
      "2/2 [==============================] - 4s 2s/step - loss: 0.6265 - accuracy: 0.7217\n",
      "Epoch 8/200\n",
      "2/2 [==============================] - 5s 2s/step - loss: 0.6203 - accuracy: 0.7253\n",
      "Epoch 9/200\n",
      "2/2 [==============================] - 4s 2s/step - loss: 0.6148 - accuracy: 0.7285\n",
      "Epoch 10/200\n",
      "2/2 [==============================] - 4s 2s/step - loss: 0.6079 - accuracy: 0.7311\n",
      "Epoch 11/200\n",
      "2/2 [==============================] - 4s 2s/step - loss: 0.6014 - accuracy: 0.7324\n",
      "Epoch 12/200\n",
      "2/2 [==============================] - 4s 2s/step - loss: 0.5937 - accuracy: 0.7341\n",
      "Epoch 13/200\n",
      "2/2 [==============================] - 4s 2s/step - loss: 0.5847 - accuracy: 0.7374\n",
      "Epoch 14/200\n",
      "2/2 [==============================] - 4s 2s/step - loss: 0.5780 - accuracy: 0.7372\n",
      "Epoch 15/200\n",
      "2/2 [==============================] - 4s 2s/step - loss: 0.5725 - accuracy: 0.7382\n",
      "Epoch 16/200\n",
      "2/2 [==============================] - 4s 2s/step - loss: 0.5721 - accuracy: 0.7383\n",
      "Epoch 17/200\n",
      "2/2 [==============================] - 4s 2s/step - loss: 0.5671 - accuracy: 0.7400\n",
      "Epoch 18/200\n",
      "2/2 [==============================] - 4s 2s/step - loss: 0.5604 - accuracy: 0.7404\n",
      "Epoch 19/200\n",
      "2/2 [==============================] - 4s 2s/step - loss: 0.5554 - accuracy: 0.7416\n",
      "Epoch 20/200\n",
      "2/2 [==============================] - 4s 2s/step - loss: 0.5519 - accuracy: 0.7410\n",
      "Epoch 21/200\n",
      "2/2 [==============================] - 4s 2s/step - loss: 0.5467 - accuracy: 0.7430\n",
      "Epoch 22/200\n",
      "2/2 [==============================] - 4s 2s/step - loss: 0.5431 - accuracy: 0.7435\n",
      "Epoch 23/200\n",
      "2/2 [==============================] - 4s 2s/step - loss: 0.5376 - accuracy: 0.7445\n",
      "Epoch 24/200\n",
      "2/2 [==============================] - 4s 2s/step - loss: 0.5322 - accuracy: 0.7460\n",
      "Epoch 25/200\n",
      "2/2 [==============================] - 4s 2s/step - loss: 0.5297 - accuracy: 0.7462\n",
      "Epoch 26/200\n",
      "2/2 [==============================] - 4s 2s/step - loss: 0.5263 - accuracy: 0.7465\n",
      "Epoch 27/200\n",
      "2/2 [==============================] - 4s 2s/step - loss: 0.5193 - accuracy: 0.7492\n",
      "Epoch 28/200\n",
      "2/2 [==============================] - 4s 2s/step - loss: 0.5150 - accuracy: 0.7507\n",
      "Epoch 29/200\n",
      "2/2 [==============================] - 4s 2s/step - loss: 0.5133 - accuracy: 0.7512\n",
      "Epoch 30/200\n",
      "2/2 [==============================] - 4s 2s/step - loss: 0.5141 - accuracy: 0.7516\n",
      "Epoch 31/200\n",
      "2/2 [==============================] - 4s 2s/step - loss: 0.5032 - accuracy: 0.7548\n",
      "Epoch 32/200\n",
      "2/2 [==============================] - 4s 2s/step - loss: 0.5008 - accuracy: 0.7559\n",
      "Epoch 33/200\n",
      "2/2 [==============================] - 4s 2s/step - loss: 0.5005 - accuracy: 0.7576\n",
      "Epoch 34/200\n",
      "2/2 [==============================] - 4s 2s/step - loss: 0.4997 - accuracy: 0.7593\n",
      "Epoch 35/200\n",
      "2/2 [==============================] - 4s 2s/step - loss: 0.4941 - accuracy: 0.7607\n",
      "Epoch 36/200\n",
      "2/2 [==============================] - 4s 2s/step - loss: 0.4893 - accuracy: 0.7643\n",
      "Epoch 37/200\n",
      "2/2 [==============================] - 4s 2s/step - loss: 0.4872 - accuracy: 0.7646\n",
      "Epoch 38/200\n",
      "2/2 [==============================] - 4s 2s/step - loss: 0.4839 - accuracy: 0.7670\n",
      "Epoch 39/200\n",
      "2/2 [==============================] - 4s 2s/step - loss: 0.4817 - accuracy: 0.7681\n",
      "Epoch 40/200\n",
      "2/2 [==============================] - 4s 2s/step - loss: 0.4812 - accuracy: 0.7696\n",
      "Epoch 41/200\n",
      "2/2 [==============================] - 4s 2s/step - loss: 0.4760 - accuracy: 0.7710\n",
      "Epoch 42/200\n",
      "2/2 [==============================] - 4s 2s/step - loss: 0.4733 - accuracy: 0.7730\n",
      "Epoch 43/200\n",
      "2/2 [==============================] - 5s 2s/step - loss: 0.4684 - accuracy: 0.7759\n",
      "Epoch 44/200\n",
      "2/2 [==============================] - 4s 2s/step - loss: 0.4696 - accuracy: 0.7770\n",
      "Epoch 45/200\n",
      "2/2 [==============================] - 4s 2s/step - loss: 0.4634 - accuracy: 0.7799\n",
      "Epoch 46/200\n",
      "2/2 [==============================] - 4s 2s/step - loss: 0.4618 - accuracy: 0.7813\n",
      "Epoch 47/200\n",
      "2/2 [==============================] - 4s 2s/step - loss: 0.4580 - accuracy: 0.7833\n",
      "Epoch 48/200\n",
      "2/2 [==============================] - 5s 2s/step - loss: 0.4546 - accuracy: 0.7835\n",
      "Epoch 49/200\n",
      "2/2 [==============================] - 4s 2s/step - loss: 0.4522 - accuracy: 0.7877\n",
      "Epoch 50/200\n",
      "2/2 [==============================] - 4s 2s/step - loss: 0.4502 - accuracy: 0.7871\n",
      "Epoch 51/200\n",
      "2/2 [==============================] - 4s 2s/step - loss: 0.4478 - accuracy: 0.7891\n",
      "Epoch 52/200\n",
      "2/2 [==============================] - 4s 2s/step - loss: 0.4448 - accuracy: 0.7925\n",
      "Epoch 53/200\n",
      "2/2 [==============================] - 4s 2s/step - loss: 0.4390 - accuracy: 0.7967\n",
      "Epoch 54/200\n",
      "2/2 [==============================] - 4s 2s/step - loss: 0.4384 - accuracy: 0.7956\n",
      "Epoch 55/200\n",
      "2/2 [==============================] - 4s 2s/step - loss: 0.4406 - accuracy: 0.7942\n",
      "Epoch 56/200\n",
      "2/2 [==============================] - 4s 2s/step - loss: 0.4349 - accuracy: 0.7971\n",
      "Epoch 57/200\n",
      "2/2 [==============================] - 4s 2s/step - loss: 0.4286 - accuracy: 0.8022\n",
      "Epoch 58/200\n",
      "2/2 [==============================] - 4s 2s/step - loss: 0.4244 - accuracy: 0.8033\n",
      "Epoch 59/200\n",
      "2/2 [==============================] - 4s 2s/step - loss: 0.4255 - accuracy: 0.8038\n",
      "Epoch 60/200\n",
      "2/2 [==============================] - 4s 2s/step - loss: 0.4259 - accuracy: 0.8048\n",
      "Epoch 61/200\n",
      "2/2 [==============================] - 4s 2s/step - loss: 0.4193 - accuracy: 0.8073\n",
      "Epoch 62/200\n",
      "2/2 [==============================] - 4s 2s/step - loss: 0.4169 - accuracy: 0.8088\n",
      "Epoch 63/200\n",
      "2/2 [==============================] - 4s 2s/step - loss: 0.4136 - accuracy: 0.8108\n",
      "Epoch 64/200\n",
      "2/2 [==============================] - 4s 2s/step - loss: 0.4146 - accuracy: 0.8103\n",
      "Epoch 65/200\n",
      "2/2 [==============================] - 4s 2s/step - loss: 0.4126 - accuracy: 0.8116\n",
      "Epoch 66/200\n",
      "2/2 [==============================] - 4s 2s/step - loss: 0.4100 - accuracy: 0.8127\n",
      "Epoch 67/200\n",
      "2/2 [==============================] - 4s 2s/step - loss: 0.4042 - accuracy: 0.8170\n",
      "Epoch 68/200\n",
      "2/2 [==============================] - 4s 2s/step - loss: 0.4022 - accuracy: 0.8178\n",
      "Epoch 69/200\n",
      "2/2 [==============================] - 4s 2s/step - loss: 0.4004 - accuracy: 0.8186\n",
      "Epoch 70/200\n",
      "2/2 [==============================] - 4s 2s/step - loss: 0.3975 - accuracy: 0.8206\n",
      "Epoch 71/200\n",
      "2/2 [==============================] - 4s 2s/step - loss: 0.3972 - accuracy: 0.8195\n",
      "Epoch 72/200\n",
      "2/2 [==============================] - 4s 2s/step - loss: 0.3953 - accuracy: 0.8215\n",
      "Epoch 73/200\n",
      "2/2 [==============================] - 4s 2s/step - loss: 0.3943 - accuracy: 0.8225\n",
      "Epoch 74/200\n",
      "2/2 [==============================] - 4s 2s/step - loss: 0.3891 - accuracy: 0.8270\n",
      "Epoch 75/200\n",
      "2/2 [==============================] - 4s 2s/step - loss: 0.3783 - accuracy: 0.8319\n",
      "Epoch 76/200\n",
      "2/2 [==============================] - 4s 2s/step - loss: 0.3838 - accuracy: 0.8241\n",
      "Epoch 77/200\n",
      "2/2 [==============================] - 4s 2s/step - loss: 0.3952 - accuracy: 0.8184\n",
      "Epoch 78/200\n",
      "2/2 [==============================] - 4s 2s/step - loss: 0.3761 - accuracy: 0.8296\n",
      "Epoch 79/200\n",
      "2/2 [==============================] - 4s 2s/step - loss: 0.3793 - accuracy: 0.8317\n",
      "Epoch 80/200\n",
      "2/2 [==============================] - 4s 2s/step - loss: 0.3973 - accuracy: 0.8286\n",
      "Epoch 81/200\n",
      "2/2 [==============================] - 4s 2s/step - loss: 0.3516 - accuracy: 0.8437\n",
      "Epoch 82/200\n",
      "2/2 [==============================] - 4s 2s/step - loss: 0.3559 - accuracy: 0.8418\n",
      "Epoch 83/200\n",
      "2/2 [==============================] - 4s 2s/step - loss: 0.4001 - accuracy: 0.8140\n",
      "Epoch 84/200\n"
     ]
    },
    {
     "name": "stdout",
     "output_type": "stream",
     "text": [
      "2/2 [==============================] - 4s 2s/step - loss: 0.3717 - accuracy: 0.8326\n",
      "Epoch 85/200\n",
      "2/2 [==============================] - 4s 2s/step - loss: 0.3628 - accuracy: 0.8393\n",
      "Epoch 86/200\n",
      "2/2 [==============================] - 4s 2s/step - loss: 0.3869 - accuracy: 0.8347\n",
      "Epoch 87/200\n",
      "2/2 [==============================] - 4s 2s/step - loss: 0.3377 - accuracy: 0.8516\n",
      "Epoch 88/200\n",
      "2/2 [==============================] - 4s 2s/step - loss: 0.3345 - accuracy: 0.8541\n",
      "Epoch 89/200\n",
      "2/2 [==============================] - 4s 2s/step - loss: 0.3667 - accuracy: 0.8342\n",
      "Epoch 90/200\n",
      "2/2 [==============================] - 4s 2s/step - loss: 0.3837 - accuracy: 0.8238\n",
      "Epoch 91/200\n",
      "2/2 [==============================] - 5s 2s/step - loss: 0.3629 - accuracy: 0.8383\n",
      "Epoch 92/200\n",
      "2/2 [==============================] - 4s 2s/step - loss: 0.3607 - accuracy: 0.8468\n",
      "Epoch 93/200\n",
      "2/2 [==============================] - 4s 2s/step - loss: 0.3229 - accuracy: 0.8597\n",
      "Epoch 94/200\n",
      "2/2 [==============================] - 4s 2s/step - loss: 0.3326 - accuracy: 0.8556\n",
      "Epoch 95/200\n",
      "2/2 [==============================] - 4s 2s/step - loss: 0.3729 - accuracy: 0.8290\n",
      "Epoch 96/200\n",
      "2/2 [==============================] - 4s 2s/step - loss: 0.3557 - accuracy: 0.8422\n",
      "Epoch 97/200\n",
      "2/2 [==============================] - 4s 2s/step - loss: 0.3580 - accuracy: 0.8402\n",
      "Epoch 98/200\n",
      "2/2 [==============================] - 4s 2s/step - loss: 0.3432 - accuracy: 0.8568\n",
      "Epoch 99/200\n",
      "2/2 [==============================] - 4s 2s/step - loss: 0.3085 - accuracy: 0.8671\n",
      "Epoch 100/200\n",
      "2/2 [==============================] - 4s 2s/step - loss: 0.3023 - accuracy: 0.8708\n",
      "Epoch 101/200\n",
      "2/2 [==============================] - 4s 2s/step - loss: 0.3274 - accuracy: 0.8565\n",
      "Epoch 102/200\n",
      "2/2 [==============================] - 4s 2s/step - loss: 0.4019 - accuracy: 0.8108\n",
      "Epoch 103/200\n",
      "2/2 [==============================] - 4s 2s/step - loss: 0.3429 - accuracy: 0.8496\n",
      "Epoch 104/200\n",
      "2/2 [==============================] - 4s 2s/step - loss: 0.3391 - accuracy: 0.8556\n",
      "Epoch 105/200\n",
      "2/2 [==============================] - 4s 2s/step - loss: 0.3128 - accuracy: 0.8688\n",
      "Epoch 106/200\n",
      "2/2 [==============================] - 4s 2s/step - loss: 0.2915 - accuracy: 0.8760\n",
      "Epoch 107/200\n",
      "2/2 [==============================] - 4s 2s/step - loss: 0.2854 - accuracy: 0.8803\n",
      "Epoch 108/200\n",
      "2/2 [==============================] - 4s 2s/step - loss: 0.2833 - accuracy: 0.8814\n",
      "Epoch 109/200\n",
      "2/2 [==============================] - 5s 2s/step - loss: 0.2858 - accuracy: 0.8800\n",
      "Epoch 110/200\n",
      "2/2 [==============================] - 4s 2s/step - loss: 0.3319 - accuracy: 0.8502\n",
      "Epoch 111/200\n",
      "2/2 [==============================] - 4s 2s/step - loss: 0.4212 - accuracy: 0.8033\n",
      "Epoch 112/200\n",
      "2/2 [==============================] - 4s 2s/step - loss: 0.3016 - accuracy: 0.8721\n",
      "Epoch 113/200\n",
      "2/2 [==============================] - 4s 2s/step - loss: 0.2965 - accuracy: 0.8755\n",
      "Epoch 114/200\n",
      "2/2 [==============================] - 4s 2s/step - loss: 0.3388 - accuracy: 0.8587\n",
      "Epoch 115/200\n",
      "2/2 [==============================] - 4s 2s/step - loss: 0.2829 - accuracy: 0.8812\n",
      "Epoch 116/200\n",
      "2/2 [==============================] - 4s 2s/step - loss: 0.2693 - accuracy: 0.8888\n",
      "Epoch 117/200\n",
      "2/2 [==============================] - 4s 2s/step - loss: 0.2743 - accuracy: 0.8876\n",
      "Epoch 118/200\n",
      "2/2 [==============================] - 4s 2s/step - loss: 0.3451 - accuracy: 0.8402\n",
      "Epoch 119/200\n",
      "2/2 [==============================] - 4s 2s/step - loss: 0.3468 - accuracy: 0.8424\n",
      "Epoch 120/200\n",
      "2/2 [==============================] - 4s 2s/step - loss: 0.3066 - accuracy: 0.8656\n",
      "Epoch 121/200\n",
      "2/2 [==============================] - 4s 2s/step - loss: 0.2977 - accuracy: 0.8794\n",
      "Epoch 122/200\n",
      "2/2 [==============================] - 4s 2s/step - loss: 0.2631 - accuracy: 0.8930\n",
      "Epoch 123/200\n",
      "2/2 [==============================] - 4s 2s/step - loss: 0.2688 - accuracy: 0.8881\n",
      "Epoch 124/200\n",
      "2/2 [==============================] - 4s 2s/step - loss: 0.3097 - accuracy: 0.8616\n",
      "Epoch 125/200\n",
      "2/2 [==============================] - 4s 2s/step - loss: 0.3159 - accuracy: 0.8584\n",
      "Epoch 126/200\n",
      "2/2 [==============================] - 4s 2s/step - loss: 0.2909 - accuracy: 0.8730\n",
      "Epoch 127/200\n",
      "2/2 [==============================] - 4s 2s/step - loss: 0.2910 - accuracy: 0.8777\n",
      "Epoch 128/200\n",
      "2/2 [==============================] - 4s 2s/step - loss: 0.2545 - accuracy: 0.8951\n",
      "Epoch 129/200\n",
      "2/2 [==============================] - 4s 2s/step - loss: 0.2622 - accuracy: 0.8912\n",
      "Epoch 130/200\n",
      "2/2 [==============================] - 4s 2s/step - loss: 0.3049 - accuracy: 0.8637\n",
      "Epoch 131/200\n",
      "2/2 [==============================] - 4s 2s/step - loss: 0.2994 - accuracy: 0.8664\n",
      "Epoch 132/200\n",
      "2/2 [==============================] - 4s 2s/step - loss: 0.2865 - accuracy: 0.8758\n",
      "Epoch 133/200\n",
      "2/2 [==============================] - 4s 2s/step - loss: 0.2767 - accuracy: 0.8859\n",
      "Epoch 134/200\n",
      "2/2 [==============================] - 4s 2s/step - loss: 0.2530 - accuracy: 0.8958\n",
      "Epoch 135/200\n",
      "2/2 [==============================] - 4s 2s/step - loss: 0.2764 - accuracy: 0.8803\n",
      "Epoch 136/200\n",
      "2/2 [==============================] - 4s 2s/step - loss: 0.3057 - accuracy: 0.8614\n",
      "Epoch 137/200\n",
      "2/2 [==============================] - 4s 2s/step - loss: 0.2663 - accuracy: 0.8850\n",
      "Epoch 138/200\n",
      "2/2 [==============================] - 4s 2s/step - loss: 0.2746 - accuracy: 0.8819\n",
      "Epoch 139/200\n",
      "2/2 [==============================] - 4s 2s/step - loss: 0.2706 - accuracy: 0.8907\n",
      "Epoch 140/200\n",
      "2/2 [==============================] - 4s 2s/step - loss: 0.2404 - accuracy: 0.9024\n",
      "Epoch 141/200\n",
      "2/2 [==============================] - 4s 2s/step - loss: 0.2826 - accuracy: 0.8763\n",
      "Epoch 142/200\n",
      "2/2 [==============================] - 4s 2s/step - loss: 0.3024 - accuracy: 0.8621\n",
      "Epoch 143/200\n",
      "2/2 [==============================] - 4s 2s/step - loss: 0.2512 - accuracy: 0.8947\n",
      "Epoch 144/200\n",
      "2/2 [==============================] - 4s 2s/step - loss: 0.2536 - accuracy: 0.8942\n",
      "Epoch 145/200\n",
      "2/2 [==============================] - 4s 2s/step - loss: 0.2536 - accuracy: 0.8958\n",
      "Epoch 146/200\n",
      "2/2 [==============================] - 4s 2s/step - loss: 0.2218 - accuracy: 0.9120\n",
      "Epoch 147/200\n",
      "2/2 [==============================] - 4s 2s/step - loss: 0.2394 - accuracy: 0.9006\n",
      "Epoch 148/200\n",
      "2/2 [==============================] - 4s 2s/step - loss: 0.3059 - accuracy: 0.8596\n",
      "Epoch 149/200\n",
      "2/2 [==============================] - 4s 2s/step - loss: 0.2816 - accuracy: 0.8743\n",
      "Epoch 150/200\n",
      "2/2 [==============================] - 4s 2s/step - loss: 0.2691 - accuracy: 0.8840\n",
      "Epoch 151/200\n",
      "2/2 [==============================] - 4s 2s/step - loss: 0.2416 - accuracy: 0.9042\n",
      "Epoch 152/200\n",
      "2/2 [==============================] - 4s 2s/step - loss: 0.2118 - accuracy: 0.9185\n",
      "Epoch 153/200\n",
      "2/2 [==============================] - 4s 2s/step - loss: 0.2199 - accuracy: 0.9139\n",
      "Epoch 154/200\n",
      "2/2 [==============================] - 4s 2s/step - loss: 0.2620 - accuracy: 0.8862\n",
      "Epoch 155/200\n",
      "2/2 [==============================] - 4s 2s/step - loss: 0.2870 - accuracy: 0.8694\n",
      "Epoch 156/200\n",
      "2/2 [==============================] - 4s 2s/step - loss: 0.2477 - accuracy: 0.8948\n",
      "Epoch 157/200\n",
      "2/2 [==============================] - 4s 2s/step - loss: 0.2316 - accuracy: 0.9047\n",
      "Epoch 158/200\n",
      "2/2 [==============================] - 4s 2s/step - loss: 0.2167 - accuracy: 0.9141\n",
      "Epoch 159/200\n",
      "2/2 [==============================] - 4s 2s/step - loss: 0.2070 - accuracy: 0.9181\n",
      "Epoch 160/200\n",
      "2/2 [==============================] - 4s 2s/step - loss: 0.2240 - accuracy: 0.9076\n",
      "Epoch 161/200\n",
      "2/2 [==============================] - 4s 2s/step - loss: 0.2570 - accuracy: 0.8883\n",
      "Epoch 162/200\n",
      "2/2 [==============================] - 4s 2s/step - loss: 0.2551 - accuracy: 0.8875\n",
      "Epoch 163/200\n",
      "2/2 [==============================] - 4s 2s/step - loss: 0.2387 - accuracy: 0.8988\n",
      "Epoch 164/200\n",
      "2/2 [==============================] - 4s 2s/step - loss: 0.2241 - accuracy: 0.9091\n",
      "Epoch 165/200\n",
      "2/2 [==============================] - 4s 2s/step - loss: 0.1956 - accuracy: 0.9243\n",
      "Epoch 166/200\n",
      "2/2 [==============================] - 4s 2s/step - loss: 0.2085 - accuracy: 0.9165\n",
      "Epoch 167/200\n"
     ]
    },
    {
     "name": "stdout",
     "output_type": "stream",
     "text": [
      "2/2 [==============================] - 4s 2s/step - loss: 0.2512 - accuracy: 0.8904\n",
      "Epoch 168/200\n",
      "2/2 [==============================] - 4s 2s/step - loss: 0.2490 - accuracy: 0.8915\n",
      "Epoch 169/200\n",
      "2/2 [==============================] - 4s 2s/step - loss: 0.2270 - accuracy: 0.9042\n",
      "Epoch 170/200\n",
      "2/2 [==============================] - 4s 2s/step - loss: 0.2569 - accuracy: 0.8935\n",
      "Epoch 171/200\n",
      "2/2 [==============================] - 4s 2s/step - loss: 0.2100 - accuracy: 0.9175\n",
      "Epoch 172/200\n",
      "2/2 [==============================] - 4s 2s/step - loss: 0.1892 - accuracy: 0.9279\n",
      "Epoch 173/200\n",
      "2/2 [==============================] - 4s 2s/step - loss: 0.2015 - accuracy: 0.9176\n",
      "Epoch 174/200\n",
      "2/2 [==============================] - 4s 2s/step - loss: 0.2465 - accuracy: 0.8913\n",
      "Epoch 175/200\n",
      "2/2 [==============================] - 4s 2s/step - loss: 0.2554 - accuracy: 0.8878\n",
      "Epoch 176/200\n",
      "2/2 [==============================] - 4s 2s/step - loss: 0.2155 - accuracy: 0.9117\n",
      "Epoch 177/200\n",
      "2/2 [==============================] - 4s 2s/step - loss: 0.2086 - accuracy: 0.9178\n",
      "Epoch 178/200\n",
      "2/2 [==============================] - 4s 2s/step - loss: 0.1821 - accuracy: 0.9325\n",
      "Epoch 179/200\n",
      "2/2 [==============================] - 4s 2s/step - loss: 0.1782 - accuracy: 0.9335\n",
      "Epoch 180/200\n",
      "2/2 [==============================] - 4s 2s/step - loss: 0.1925 - accuracy: 0.9230\n",
      "Epoch 181/200\n",
      "2/2 [==============================] - 4s 2s/step - loss: 0.2299 - accuracy: 0.9010\n",
      "Epoch 182/200\n",
      "2/2 [==============================] - 4s 2s/step - loss: 0.2452 - accuracy: 0.8920\n",
      "Epoch 183/200\n",
      "2/2 [==============================] - 4s 2s/step - loss: 0.2080 - accuracy: 0.9163\n",
      "Epoch 184/200\n",
      "2/2 [==============================] - 4s 2s/step - loss: 0.1989 - accuracy: 0.9214\n",
      "Epoch 185/200\n",
      "2/2 [==============================] - 4s 2s/step - loss: 0.1766 - accuracy: 0.9342\n",
      "Epoch 186/200\n",
      "2/2 [==============================] - 4s 2s/step - loss: 0.1722 - accuracy: 0.9358\n",
      "Epoch 187/200\n",
      "2/2 [==============================] - 4s 2s/step - loss: 0.1891 - accuracy: 0.9245\n",
      "Epoch 188/200\n",
      "2/2 [==============================] - 4s 2s/step - loss: 0.2224 - accuracy: 0.9042\n",
      "Epoch 189/200\n",
      "2/2 [==============================] - 4s 2s/step - loss: 0.2233 - accuracy: 0.9035\n",
      "Epoch 190/200\n",
      "2/2 [==============================] - 4s 2s/step - loss: 0.2038 - accuracy: 0.9174\n",
      "Epoch 191/200\n",
      "2/2 [==============================] - 4s 2s/step - loss: 0.2028 - accuracy: 0.9182\n",
      "Epoch 192/200\n",
      "2/2 [==============================] - 4s 2s/step - loss: 0.1682 - accuracy: 0.9393\n",
      "Epoch 193/200\n",
      "2/2 [==============================] - 4s 2s/step - loss: 0.1576 - accuracy: 0.9430\n",
      "Epoch 194/200\n",
      "2/2 [==============================] - 4s 2s/step - loss: 0.1617 - accuracy: 0.9388\n",
      "Epoch 195/200\n",
      "2/2 [==============================] - 4s 2s/step - loss: 0.1898 - accuracy: 0.9228\n",
      "Epoch 196/200\n",
      "2/2 [==============================] - 4s 2s/step - loss: 0.2408 - accuracy: 0.8935\n",
      "Epoch 197/200\n",
      "2/2 [==============================] - 4s 2s/step - loss: 0.2074 - accuracy: 0.9136\n",
      "Epoch 198/200\n",
      "2/2 [==============================] - 4s 2s/step - loss: 0.2001 - accuracy: 0.9207\n",
      "Epoch 199/200\n",
      "2/2 [==============================] - 4s 2s/step - loss: 0.2012 - accuracy: 0.9212\n",
      "Epoch 200/200\n",
      "2/2 [==============================] - 4s 2s/step - loss: 0.1613 - accuracy: 0.9434\n",
      "Test loss: 0.044093375404675804\n",
      "Test accuracy: 2.878014922142029\n"
     ]
    }
   ],
   "source": [
    "print(train_data.shape, train_labels.shape, df_Y.shape, y_binary.shape, len(y))\n",
    "\n",
    "# 2) Train CONVNET on the MNIST dataset\n",
    "dim = len(keras.backend.int_shape(train_data))\n",
    "\n",
    "epochs = 200   # 30 à 50 ou 120-150-200 ???\n",
    "#  steps PROBLEMES si différent de 1 pour les derniers plots\n",
    "batch_size = 1    # 64 \n",
    "#ratio = 10 * 401 / 70\n",
    "ratio = 10 * 20000 / 70\n",
    "poids_class = {0: 1., 1: ratio}\n",
    "if dim == 2:\n",
    "    input_shape = (10, 10)\n",
    "if dim == 4:\n",
    "    input_shape = (10, 10, 2)\n",
    "    #input_shape = (10, 10, 1)\n",
    "\n",
    "filters = (5,5)\n",
    "strides=(1,1)\n",
    "pool_size=(2,2)\n",
    "\n",
    "model2 = Sequential([\n",
    "    Conv2D(6, filters, padding=\"same\", strides=strides, input_shape=input_shape),\n",
    "    MaxPooling2D(pool_size=pool_size),\n",
    "    Conv2D(16, filters, padding=\"same\", strides=strides),\n",
    "    MaxPooling2D(pool_size=pool_size),\n",
    "    Flatten(),\n",
    "    Dense(120, activation='relu'),\n",
    "    Dropout(0.5),\n",
    "    Dense(100, activation='relu'),\n",
    "    Dropout(0.5),\n",
    "    Dense(2, activation='sigmoid')   #  'softmax'\n",
    "    #Dense(2, activation='softmax')\n",
    "])\n",
    "\n",
    "#model2.compile(loss=keras.losses.categorical_crossentropy, optimizer=keras.optimizers.Adadelta(),\n",
    "#              metrics=['accuracy'])\n",
    "model2.compile(loss=keras.losses.binary_crossentropy, optimizer=keras.optimizers.Adadelta(),\n",
    "#model2.compile(loss=keras.losses.mse, optimizer=keras.optimizers.Adadelta(),\n",
    "              metrics=['accuracy'])\n",
    "\n",
    "#  si TENSOR = 2D\n",
    "if dim == 2:\n",
    "    history2 = model2.fit(train_data, train_labels, batch_size=batch_size, epochs=epochs, \n",
    "                          class_weight=poids_class,  # ou   'balanced'\n",
    "          verbose=1, validation_data=(test_data, test_labels))\n",
    "    score = model2.evaluate(test_data, test_labels, verbose=0)\n",
    "elif dim == 4:\n",
    "#    history2 = model2.fit_generator(train_data, train_labels, verbose=1)      \n",
    "    history2 = model2.fit(train_data, train_labels, epochs=epochs, verbose=1, \n",
    "#                          # class_weight=poids_class,   #  ValueError:  NOT supported for 3+ dimensional targets\n",
    "                        validation_freq=.33, steps_per_epoch=2)\n",
    "    score = model2.evaluate(test_data, test_labels, steps=3, verbose=0)\n",
    "else:\n",
    "    print(\"WRONG tensor dimension inputs ....\")\n",
    "\n",
    "print('Test loss:', score[0])\n",
    "print('Test accuracy:', score[1])"
   ]
  },
  {
   "cell_type": "markdown",
   "metadata": {
    "slideshow": {
     "slide_type": "skip"
    }
   },
   "source": [
    "### Sommaire"
   ]
  },
  {
   "cell_type": "code",
   "execution_count": 100,
   "metadata": {
    "ExecuteTime": {
     "end_time": "2020-03-12T16:05:37.918132Z",
     "start_time": "2020-03-12T16:05:37.839181Z"
    },
    "slideshow": {
     "slide_type": "slide"
    }
   },
   "outputs": [
    {
     "name": "stdout",
     "output_type": "stream",
     "text": [
      "Model: \"sequential_2\"\n",
      "_________________________________________________________________\n",
      "Layer (type)                 Output Shape              Param #   \n",
      "=================================================================\n",
      "conv2d_1 (Conv2D)            (None, 10, 10, 6)         306       \n",
      "_________________________________________________________________\n",
      "max_pooling2d_1 (MaxPooling2 (None, 5, 5, 6)           0         \n",
      "_________________________________________________________________\n",
      "conv2d_2 (Conv2D)            (None, 5, 5, 16)          2416      \n",
      "_________________________________________________________________\n",
      "max_pooling2d_2 (MaxPooling2 (None, 2, 2, 16)          0         \n",
      "_________________________________________________________________\n",
      "flatten_2 (Flatten)          (None, 64)                0         \n",
      "_________________________________________________________________\n",
      "dense_3 (Dense)              (None, 120)               7800      \n",
      "_________________________________________________________________\n",
      "dropout_1 (Dropout)          (None, 120)               0         \n",
      "_________________________________________________________________\n",
      "dense_4 (Dense)              (None, 100)               12100     \n",
      "_________________________________________________________________\n",
      "dropout_2 (Dropout)          (None, 100)               0         \n",
      "_________________________________________________________________\n",
      "dense_5 (Dense)              (None, 2)                 202       \n",
      "=================================================================\n",
      "Total params: 22,824\n",
      "Trainable params: 22,824\n",
      "Non-trainable params: 0\n",
      "_________________________________________________________________\n"
     ]
    }
   ],
   "source": [
    "model2.summary()\n",
    "\n",
    "# model.save_weights('file.h5')\n",
    "# avec le model construit + les poids\n",
    "# model.load_weights('file.h5')"
   ]
  },
  {
   "cell_type": "markdown",
   "metadata": {
    "slideshow": {
     "slide_type": "skip"
    }
   },
   "source": [
    "### Figures"
   ]
  },
  {
   "cell_type": "code",
   "execution_count": 212,
   "metadata": {
    "ExecuteTime": {
     "end_time": "2020-03-12T21:15:46.861382Z",
     "start_time": "2020-03-12T21:15:46.670731Z"
    },
    "slideshow": {
     "slide_type": "skip"
    }
   },
   "outputs": [
    {
     "data": {
      "image/png": "[encoded data removed]",
      "text/plain": [
       "<Figure size 432x288 with 1 Axes>"
      ]
     },
     "metadata": {
      "needs_background": "light"
     },
     "output_type": "display_data"
    }
   ],
   "source": [
    "#history0.history\n",
    "# plot metrics\n",
    "#_ = plt.plot(history2.history['binary_accuracy'])\n",
    "_ = plt.plot(history2.history['accuracy'])\n",
    "_ = plt.show()\n"
   ]
  },
  {
   "cell_type": "code",
   "execution_count": 213,
   "metadata": {
    "ExecuteTime": {
     "end_time": "2020-03-12T21:16:02.527810Z",
     "start_time": "2020-03-12T21:16:02.182656Z"
    },
    "slideshow": {
     "slide_type": "slide"
    }
   },
   "outputs": [
    {
     "name": "stdout",
     "output_type": "stream",
     "text": [
      "dict_keys(['loss', 'accuracy'])\n",
      "0 blue [[0.7273275256156921, 0.6692314147949219, 0.6559347808361053, 0.6470852494239807, 0.6399151384830475, 0.6321963965892792, 0.6265157759189606, 0.620256096124649, 0.6148008704185486, 0.6079209744930267, 0.6013526022434235, 0.5936937034130096, 0.584732711315155, 0.5779654681682587, 0.5725230872631073, 0.5721116960048676, 0.5670521855354309, 0.5603864192962646, 0.555412620306015, 0.551945835351944, 0.5467217862606049, 0.5430938601493835, 0.5375773310661316, 0.5321544706821442, 0.5296571850776672, 0.5263238251209259, 0.5193204581737518, 0.515046626329422, 0.5133166313171387, 0.5141187310218811, 0.5031861662864685, 0.5007932484149933, 0.5004803091287613, 0.49969787895679474, 0.49412426352500916, 0.48926274478435516, 0.48721860349178314, 0.48394304513931274, 0.4817347824573517, 0.48115305602550507, 0.4760419577360153, 0.47329163551330566, 0.46840983629226685, 0.46955670416355133, 0.463433176279068, 0.46181541681289673, 0.4579727500677109, 0.454633891582489, 0.45218339562416077, 0.4502483755350113, 0.4477798193693161, 0.44480466842651367, 0.4389628767967224, 0.4383741170167923, 0.44055263698101044, 0.43485158681869507, 0.4286283850669861, 0.42437511682510376, 0.4254692941904068, 0.4258749634027481, 0.41928546130657196, 0.41686658561229706, 0.4135853350162506, 0.41457895934581757, 0.41257065534591675, 0.4100293815135956, 0.4041765034198761, 0.4022373557090759, 0.40036533772945404, 0.3974508047103882, 0.3972321152687073, 0.3953101485967636, 0.39427417516708374, 0.38909362256526947, 0.3782665580511093, 0.38377098739147186, 0.39518584311008453, 0.3761104345321655, 0.37933656573295593, 0.3972533196210861, 0.35163551568984985, 0.3559420555830002, 0.40008674561977386, 0.37169262766838074, 0.3627563714981079, 0.3868560642004013, 0.33772070705890656, 0.33450792729854584, 0.36671824753284454, 0.38371117413043976, 0.3629215955734253, 0.3607069402933121, 0.3228698670864105, 0.33261825144290924, 0.37294457852840424, 0.3557378798723221, 0.35801129043102264, 0.34320345520973206, 0.3085133284330368, 0.3022529184818268, 0.3273686170578003, 0.40194256603717804, 0.34291908144950867, 0.3390558212995529, 0.3127812594175339, 0.2915087044239044, 0.2853723168373108, 0.2833494395017624, 0.2858399748802185, 0.33193694055080414, 0.42123857140541077, 0.3015592098236084, 0.2964816689491272, 0.33877019584178925, 0.28285181522369385, 0.2693258821964264, 0.274254247546196, 0.3451419919729233, 0.3467591553926468, 0.30660368502140045, 0.2977406233549118, 0.26314087212085724, 0.26883773505687714, 0.3096538335084915, 0.3158523142337799, 0.2908998727798462, 0.2909921407699585, 0.2544616013765335, 0.2622029483318329, 0.3049369156360626, 0.2994486838579178, 0.2865106463432312, 0.27670396864414215, 0.25303418934345245, 0.276362881064415, 0.3056594729423523, 0.26632019877433777, 0.27455802261829376, 0.2705734223127365, 0.24043788760900497, 0.282640278339386, 0.3023950755596161, 0.251220166683197, 0.25363000482320786, 0.25363700091838837, 0.2217676043510437, 0.23935063928365707, 0.3059459924697876, 0.28159163892269135, 0.26914650946855545, 0.24163200706243515, 0.21175789088010788, 0.219908244907856, 0.2619546204805374, 0.2869674265384674, 0.24770057946443558, 0.23163098096847534, 0.21670785546302795, 0.20701876282691956, 0.22397097945213318, 0.2570001929998398, 0.25513819605112076, 0.23870482295751572, 0.22408660501241684, 0.19563504308462143, 0.20854788273572922, 0.25116414576768875, 0.2490316703915596, 0.22695288062095642, 0.2569293901324272, 0.21000854671001434, 0.18916983157396317, 0.20151323825120926, 0.24653970450162888, 0.255369208753109, 0.21548668295145035, 0.20857764035463333, 0.1821381002664566, 0.1782066971063614, 0.19246075302362442, 0.22994741797447205, 0.24522589147090912, 0.20798739790916443, 0.1989346668124199, 0.17655989527702332, 0.17222782969474792, 0.1890513002872467, 0.22238779067993164, 0.2232762947678566, 0.20381933450698853, 0.20284520834684372, 0.16824544966220856, 0.15755559504032135, 0.16165441274642944, 0.18979626893997192, 0.24075838178396225, 0.20740081369876862, 0.20013674348592758, 0.20122569054365158, 0.16126926243305206], [0.5219509, 0.6480283, 0.6834844, 0.69997317, 0.7080242, 0.71636724, 0.72167933, 0.72525495, 0.7285306, 0.731088, 0.73241407, 0.7340716, 0.73737884, 0.73724467, 0.7381524, 0.73828655, 0.739952, 0.74037033, 0.7416017, 0.7409939, 0.7430461, 0.74346447, 0.7444511, 0.7459745, 0.7461797, 0.746527, 0.74915546, 0.75072616, 0.7512155, 0.7516497, 0.75482273, 0.75591195, 0.7575774, 0.75932974, 0.7607347, 0.7642629, 0.7646497, 0.7670413, 0.7681227, 0.76957506, 0.7709958, 0.77300066, 0.7758896, 0.77704984, 0.7799151, 0.7812569, 0.7832776, 0.78349066, 0.7876898, 0.7871452, 0.78910273, 0.7925441, 0.7966564, 0.79563034, 0.7942096, 0.79708266, 0.8022211, 0.8032946, 0.8037761, 0.80484164, 0.807328, 0.80875665, 0.8108405, 0.8103432, 0.8116298, 0.8126954, 0.81698924, 0.81780225, 0.8185521, 0.82063586, 0.8194598, 0.8215199, 0.82252234, 0.8270056, 0.8318994, 0.82410884, 0.8184179, 0.8295788, 0.8317258, 0.8285606, 0.8436681, 0.84178954, 0.8139583, 0.83264136, 0.8393348, 0.83473307, 0.8516323, 0.8540634, 0.83418053, 0.82381684, 0.8382534, 0.8467859, 0.8597228, 0.85560256, 0.82896316, 0.8421684, 0.8401951, 0.85680234, 0.8671029, 0.8707732, 0.8565261, 0.81080097, 0.84959584, 0.85561836, 0.86877626, 0.87595904, 0.88032395, 0.88144475, 0.8799924, 0.8502352, 0.8032788, 0.8721151, 0.87546176, 0.8586809, 0.8812001, 0.8887933, 0.88756984, 0.8401635, 0.84236574, 0.865619, 0.8794083, 0.89300036, 0.88805133, 0.8615619, 0.8584283, 0.8729991, 0.8777113, 0.89514726, 0.891177, 0.86368513, 0.86636096, 0.87578535, 0.8859044, 0.89578664, 0.8802687, 0.8614435, 0.88502824, 0.8818552, 0.8906798, 0.90236163, 0.87625897, 0.86209863, 0.8946658, 0.8942238, 0.89575505, 0.9119755, 0.9006251, 0.8595728, 0.8742699, 0.88395476, 0.9042402, 0.91846365, 0.91385406, 0.8862359, 0.8693761, 0.8947526, 0.9047217, 0.9140514, 0.91807693, 0.90757114, 0.88825655, 0.8875304, 0.8988492, 0.90914184, 0.9242888, 0.9164825, 0.89037985, 0.89146906, 0.90419286, 0.8935292, 0.91746914, 0.92791176, 0.9176033, 0.8913112, 0.88779086, 0.9116519, 0.9177533, 0.93254507, 0.93352383, 0.92303383, 0.90096456, 0.8920374, 0.9162931, 0.9214473, 0.93421054, 0.9358444, 0.9245493, 0.9041534, 0.90352196, 0.91735077, 0.9181953, 0.93934107, 0.9429956, 0.93876487, 0.9227812, 0.89348185, 0.91364884, 0.9207448, 0.9211868, 0.9434455]]\n",
      "2 orange [[0.7273275256156921, 0.6692314147949219, 0.6559347808361053, 0.6470852494239807, 0.6399151384830475, 0.6321963965892792, 0.6265157759189606, 0.620256096124649, 0.6148008704185486, 0.6079209744930267, 0.6013526022434235, 0.5936937034130096, 0.584732711315155, 0.5779654681682587, 0.5725230872631073, 0.5721116960048676, 0.5670521855354309, 0.5603864192962646, 0.555412620306015, 0.551945835351944, 0.5467217862606049, 0.5430938601493835, 0.5375773310661316, 0.5321544706821442, 0.5296571850776672, 0.5263238251209259, 0.5193204581737518, 0.515046626329422, 0.5133166313171387, 0.5141187310218811, 0.5031861662864685, 0.5007932484149933, 0.5004803091287613, 0.49969787895679474, 0.49412426352500916, 0.48926274478435516, 0.48721860349178314, 0.48394304513931274, 0.4817347824573517, 0.48115305602550507, 0.4760419577360153, 0.47329163551330566, 0.46840983629226685, 0.46955670416355133, 0.463433176279068, 0.46181541681289673, 0.4579727500677109, 0.454633891582489, 0.45218339562416077, 0.4502483755350113, 0.4477798193693161, 0.44480466842651367, 0.4389628767967224, 0.4383741170167923, 0.44055263698101044, 0.43485158681869507, 0.4286283850669861, 0.42437511682510376, 0.4254692941904068, 0.4258749634027481, 0.41928546130657196, 0.41686658561229706, 0.4135853350162506, 0.41457895934581757, 0.41257065534591675, 0.4100293815135956, 0.4041765034198761, 0.4022373557090759, 0.40036533772945404, 0.3974508047103882, 0.3972321152687073, 0.3953101485967636, 0.39427417516708374, 0.38909362256526947, 0.3782665580511093, 0.38377098739147186, 0.39518584311008453, 0.3761104345321655, 0.37933656573295593, 0.3972533196210861, 0.35163551568984985, 0.3559420555830002, 0.40008674561977386, 0.37169262766838074, 0.3627563714981079, 0.3868560642004013, 0.33772070705890656, 0.33450792729854584, 0.36671824753284454, 0.38371117413043976, 0.3629215955734253, 0.3607069402933121, 0.3228698670864105, 0.33261825144290924, 0.37294457852840424, 0.3557378798723221, 0.35801129043102264, 0.34320345520973206, 0.3085133284330368, 0.3022529184818268, 0.3273686170578003, 0.40194256603717804, 0.34291908144950867, 0.3390558212995529, 0.3127812594175339, 0.2915087044239044, 0.2853723168373108, 0.2833494395017624, 0.2858399748802185, 0.33193694055080414, 0.42123857140541077, 0.3015592098236084, 0.2964816689491272, 0.33877019584178925, 0.28285181522369385, 0.2693258821964264, 0.274254247546196, 0.3451419919729233, 0.3467591553926468, 0.30660368502140045, 0.2977406233549118, 0.26314087212085724, 0.26883773505687714, 0.3096538335084915, 0.3158523142337799, 0.2908998727798462, 0.2909921407699585, 0.2544616013765335, 0.2622029483318329, 0.3049369156360626, 0.2994486838579178, 0.2865106463432312, 0.27670396864414215, 0.25303418934345245, 0.276362881064415, 0.3056594729423523, 0.26632019877433777, 0.27455802261829376, 0.2705734223127365, 0.24043788760900497, 0.282640278339386, 0.3023950755596161, 0.251220166683197, 0.25363000482320786, 0.25363700091838837, 0.2217676043510437, 0.23935063928365707, 0.3059459924697876, 0.28159163892269135, 0.26914650946855545, 0.24163200706243515, 0.21175789088010788, 0.219908244907856, 0.2619546204805374, 0.2869674265384674, 0.24770057946443558, 0.23163098096847534, 0.21670785546302795, 0.20701876282691956, 0.22397097945213318, 0.2570001929998398, 0.25513819605112076, 0.23870482295751572, 0.22408660501241684, 0.19563504308462143, 0.20854788273572922, 0.25116414576768875, 0.2490316703915596, 0.22695288062095642, 0.2569293901324272, 0.21000854671001434, 0.18916983157396317, 0.20151323825120926, 0.24653970450162888, 0.255369208753109, 0.21548668295145035, 0.20857764035463333, 0.1821381002664566, 0.1782066971063614, 0.19246075302362442, 0.22994741797447205, 0.24522589147090912, 0.20798739790916443, 0.1989346668124199, 0.17655989527702332, 0.17222782969474792, 0.1890513002872467, 0.22238779067993164, 0.2232762947678566, 0.20381933450698853, 0.20284520834684372, 0.16824544966220856, 0.15755559504032135, 0.16165441274642944, 0.18979626893997192, 0.24075838178396225, 0.20740081369876862, 0.20013674348592758, 0.20122569054365158, 0.16126926243305206], [0.5219509, 0.6480283, 0.6834844, 0.69997317, 0.7080242, 0.71636724, 0.72167933, 0.72525495, 0.7285306, 0.731088, 0.73241407, 0.7340716, 0.73737884, 0.73724467, 0.7381524, 0.73828655, 0.739952, 0.74037033, 0.7416017, 0.7409939, 0.7430461, 0.74346447, 0.7444511, 0.7459745, 0.7461797, 0.746527, 0.74915546, 0.75072616, 0.7512155, 0.7516497, 0.75482273, 0.75591195, 0.7575774, 0.75932974, 0.7607347, 0.7642629, 0.7646497, 0.7670413, 0.7681227, 0.76957506, 0.7709958, 0.77300066, 0.7758896, 0.77704984, 0.7799151, 0.7812569, 0.7832776, 0.78349066, 0.7876898, 0.7871452, 0.78910273, 0.7925441, 0.7966564, 0.79563034, 0.7942096, 0.79708266, 0.8022211, 0.8032946, 0.8037761, 0.80484164, 0.807328, 0.80875665, 0.8108405, 0.8103432, 0.8116298, 0.8126954, 0.81698924, 0.81780225, 0.8185521, 0.82063586, 0.8194598, 0.8215199, 0.82252234, 0.8270056, 0.8318994, 0.82410884, 0.8184179, 0.8295788, 0.8317258, 0.8285606, 0.8436681, 0.84178954, 0.8139583, 0.83264136, 0.8393348, 0.83473307, 0.8516323, 0.8540634, 0.83418053, 0.82381684, 0.8382534, 0.8467859, 0.8597228, 0.85560256, 0.82896316, 0.8421684, 0.8401951, 0.85680234, 0.8671029, 0.8707732, 0.8565261, 0.81080097, 0.84959584, 0.85561836, 0.86877626, 0.87595904, 0.88032395, 0.88144475, 0.8799924, 0.8502352, 0.8032788, 0.8721151, 0.87546176, 0.8586809, 0.8812001, 0.8887933, 0.88756984, 0.8401635, 0.84236574, 0.865619, 0.8794083, 0.89300036, 0.88805133, 0.8615619, 0.8584283, 0.8729991, 0.8777113, 0.89514726, 0.891177, 0.86368513, 0.86636096, 0.87578535, 0.8859044, 0.89578664, 0.8802687, 0.8614435, 0.88502824, 0.8818552, 0.8906798, 0.90236163, 0.87625897, 0.86209863, 0.8946658, 0.8942238, 0.89575505, 0.9119755, 0.9006251, 0.8595728, 0.8742699, 0.88395476, 0.9042402, 0.91846365, 0.91385406, 0.8862359, 0.8693761, 0.8947526, 0.9047217, 0.9140514, 0.91807693, 0.90757114, 0.88825655, 0.8875304, 0.8988492, 0.90914184, 0.9242888, 0.9164825, 0.89037985, 0.89146906, 0.90419286, 0.8935292, 0.91746914, 0.92791176, 0.9176033, 0.8913112, 0.88779086, 0.9116519, 0.9177533, 0.93254507, 0.93352383, 0.92303383, 0.90096456, 0.8920374, 0.9162931, 0.9214473, 0.93421054, 0.9358444, 0.9245493, 0.9041534, 0.90352196, 0.91735077, 0.9181953, 0.93934107, 0.9429956, 0.93876487, 0.9227812, 0.89348185, 0.91364884, 0.9207448, 0.9211868, 0.9434455]]\n"
     ]
    },
    {
     "data": {
      "image/png": "[encoded data removed]",
      "text/plain": [
       "<Figure size 1440x288 with 2 Axes>"
      ]
     },
     "metadata": {
      "needs_background": "light"
     },
     "output_type": "display_data"
    }
   ],
   "source": [
    "print(history2.history.keys())\n",
    "coul = [\"blue\", \"lightblue\", \"orange\", \"red\"]\n",
    "\n",
    "fig = plt.figure(figsize=(20,4))\n",
    "_ = plt.subplot(1,2,1)\n",
    "for i in range(0,4,2):\n",
    "    print(i,coul[i], list(history2.history.values()))\n",
    "    #_ = plt.plot(list(history2.history.values())[i],'k-o', color=coul[i])\n",
    "    _ = plt.plot(list(history2.history.values())[0],'k-o', color=coul[i])\n",
    "_ = plt.subplot(1,2,2)\n",
    "for j in range(1,4,2):\n",
    "    _ = plt.plot(list(history2.history.values())[1],'k-o', color=coul[j])\n",
    "    "
   ]
  },
  {
   "cell_type": "code",
   "execution_count": 214,
   "metadata": {
    "ExecuteTime": {
     "end_time": "2020-03-12T21:16:20.474309Z",
     "start_time": "2020-03-12T21:16:19.388979Z"
    },
    "slideshow": {
     "slide_type": "skip"
    }
   },
   "outputs": [
    {
     "name": "stdout",
     "output_type": "stream",
     "text": [
      "Test loss: 0.1322801262140274\n",
      "Test accuracy: 0.9593383073806763\n",
      "[0 0 0 0 0 0 0 0 0 0 1 0 0 0 0 0 0 0 1 0 0 0 0 0 0 0 0 0 0 0 0 0 0 0 0 0 0\n",
      " 0 0 0 0 0 0 0 0 0 0 0 0 0 0 1 0 0 0 0 0 0 0 0 0 0 0 0 0 0 0 0 0 0 0 0 0 0\n",
      " 0 0 1 0 0 0 0 0 0 0 0 0 0 0 0 0 0 0 0 0 0 0 0 0 0 0]\n",
      "(7919, 2) <class 'pandas.core.frame.DataFrame'>\n"
     ]
    },
    {
     "data": {
      "image/png": "[encoded data removed]",
      "text/plain": [
       "<Figure size 864x432 with 2 Axes>"
      ]
     },
     "metadata": {
      "needs_background": "light"
     },
     "output_type": "display_data"
    }
   ],
   "source": [
    "# RESULTATS\n",
    "\n",
    "if dim == 2:\n",
    "    score = model2.evaluate(test_data, test_labels, verbose=0, batch_size=batch_size)\n",
    "    classes = model2.predict(test_data, batch_size=batch_size)\n",
    "    predictions = model2.predict(test_data[:10])\n",
    "if dim == 4:\n",
    "    score = model2.evaluate(test_data, test_labels, verbose=0, steps=batch_size)\n",
    "    classes = model2.predict(test_data, steps=batch_size)\n",
    "    predictions = model2.predict(test_data[:100], steps=batch_size)\n",
    "    \n",
    "print('Test loss:', score[0])\n",
    "print('Test accuracy:', score[1])\n",
    "\n",
    "# predictions\n",
    " #predictions = model2.predict_classes(test_data[:10])\n",
    "print(np.argmax(predictions, axis=1))\n",
    "print(test_labels.shape, type(test_labels))\n",
    "\n",
    "######## TypeError: '(slice(None, 100, None), slice(0, 1, None))' is an invalid key\n",
    "#print(test_labels[:100,0:1])\n",
    "\n",
    "# PLOTS\n",
    "fig = plt.figure(figsize=(12,6))\n",
    "_ = plt.subplot(2,1,1)\n",
    "_ = plt.plot(history2.history['accuracy'])\n",
    "if dim == 2:\n",
    "    _ = plt.plot(history2.history['val_accuracy'])\n",
    "_ = plt.title('model accuracy')\n",
    "_ = plt.xlabel('epoch')\n",
    "_ = plt.ylabel('accuracy')\n",
    "_ = plt.legend(['train','test'], loc='lower right')\n",
    "\n",
    "_ = plt.subplot(2,1,2)\n",
    "_ = plt.plot(history2.history['loss'])\n",
    "if dim == 2:\n",
    "    _ = plt.plot(history2.history['val_loss'])\n",
    "_ = plt.title('model loss')\n",
    "_ = plt.xlabel('epoch')\n",
    "_ = plt.ylabel('loss')\n",
    "_ = plt.legend(['train','test'], loc='upper right')\n",
    "\n",
    "_ = plt.tight_layout()\n",
    "_ = fig\n"
   ]
  },
  {
   "cell_type": "markdown",
   "metadata": {
    "slideshow": {
     "slide_type": "skip"
    }
   },
   "source": [
    "### Matrice de confusion"
   ]
  },
  {
   "cell_type": "code",
   "execution_count": 215,
   "metadata": {
    "ExecuteTime": {
     "end_time": "2020-03-12T21:16:35.973768Z",
     "start_time": "2020-03-12T21:16:35.874614Z"
    },
    "slideshow": {
     "slide_type": "skip"
    }
   },
   "outputs": [
    {
     "name": "stdout",
     "output_type": "stream",
     "text": [
      "(31673, 10, 10, 2) (31673, 2) (31672, 2)\n"
     ]
    },
    {
     "data": {
      "text/html": [
       "<div>\n",
       "<style scoped>\n",
       "    .dataframe tbody tr th:only-of-type {\n",
       "        vertical-align: middle;\n",
       "    }\n",
       "\n",
       "    .dataframe tbody tr th {\n",
       "        vertical-align: top;\n",
       "    }\n",
       "\n",
       "    .dataframe thead th {\n",
       "        text-align: right;\n",
       "    }\n",
       "</style>\n",
       "<table border=\"1\" class=\"dataframe\">\n",
       "  <thead>\n",
       "    <tr style=\"text-align: right;\">\n",
       "      <th></th>\n",
       "      <th>0</th>\n",
       "      <th>1</th>\n",
       "    </tr>\n",
       "  </thead>\n",
       "  <tbody>\n",
       "    <tr>\n",
       "      <th>0</th>\n",
       "      <td>1.0</td>\n",
       "      <td>0.0</td>\n",
       "    </tr>\n",
       "    <tr>\n",
       "      <th>1</th>\n",
       "      <td>1.0</td>\n",
       "      <td>0.0</td>\n",
       "    </tr>\n",
       "    <tr>\n",
       "      <th>2</th>\n",
       "      <td>1.0</td>\n",
       "      <td>0.0</td>\n",
       "    </tr>\n",
       "    <tr>\n",
       "      <th>3</th>\n",
       "      <td>1.0</td>\n",
       "      <td>0.0</td>\n",
       "    </tr>\n",
       "    <tr>\n",
       "      <th>4</th>\n",
       "      <td>1.0</td>\n",
       "      <td>0.0</td>\n",
       "    </tr>\n",
       "    <tr>\n",
       "      <th>...</th>\n",
       "      <td>...</td>\n",
       "      <td>...</td>\n",
       "    </tr>\n",
       "    <tr>\n",
       "      <th>37478</th>\n",
       "      <td>0.0</td>\n",
       "      <td>1.0</td>\n",
       "    </tr>\n",
       "    <tr>\n",
       "      <th>37479</th>\n",
       "      <td>0.0</td>\n",
       "      <td>1.0</td>\n",
       "    </tr>\n",
       "    <tr>\n",
       "      <th>37480</th>\n",
       "      <td>0.0</td>\n",
       "      <td>1.0</td>\n",
       "    </tr>\n",
       "    <tr>\n",
       "      <th>37481</th>\n",
       "      <td>0.0</td>\n",
       "      <td>1.0</td>\n",
       "    </tr>\n",
       "    <tr>\n",
       "      <th>37482</th>\n",
       "      <td>0.0</td>\n",
       "      <td>1.0</td>\n",
       "    </tr>\n",
       "  </tbody>\n",
       "</table>\n",
       "<p>31673 rows × 2 columns</p>\n",
       "</div>"
      ],
      "text/plain": [
       "         0    1\n",
       "0      1.0  0.0\n",
       "1      1.0  0.0\n",
       "2      1.0  0.0\n",
       "3      1.0  0.0\n",
       "4      1.0  0.0\n",
       "...    ...  ...\n",
       "37478  0.0  1.0\n",
       "37479  0.0  1.0\n",
       "37480  0.0  1.0\n",
       "37481  0.0  1.0\n",
       "37482  0.0  1.0\n",
       "\n",
       "[31673 rows x 2 columns]"
      ]
     },
     "execution_count": 215,
     "metadata": {},
     "output_type": "execute_result"
    }
   ],
   "source": [
    "print(data_x0.shape, y0[:].shape, y0[1:].shape)\n",
    "y0[:]\n"
   ]
  },
  {
   "cell_type": "code",
   "execution_count": 216,
   "metadata": {
    "ExecuteTime": {
     "end_time": "2020-03-12T21:16:51.154059Z",
     "start_time": "2020-03-12T21:16:51.074694Z"
    },
    "slideshow": {
     "slide_type": "skip"
    }
   },
   "outputs": [
    {
     "name": "stdout",
     "output_type": "stream",
     "text": [
      "(7919, 10, 10, 2) (7919, 2)\n"
     ]
    }
   ],
   "source": [
    "print(test_data.shape, test_labels[:].shape)\n"
   ]
  },
  {
   "cell_type": "code",
   "execution_count": 217,
   "metadata": {
    "ExecuteTime": {
     "end_time": "2020-03-12T21:18:04.167417Z",
     "start_time": "2020-03-12T21:18:01.525095Z"
    },
    "slideshow": {
     "slide_type": "slide"
    }
   },
   "outputs": [
    {
     "name": "stdout",
     "output_type": "stream",
     "text": [
      "start tensor 4D\n",
      "Echantillon Train: (31673, 10, 10, 2) 31673 31673\n",
      "Echantillon Test: 7919 7919\n",
      "(31673,) (31673, 1) (7919,) (7919, 1)\n",
      "SOMME réelle:  8424.0 2121.0\n",
      "SOMME prédite: 8625.0 2192.0\n",
      "Pourcentages:\n",
      "Train: 102.39 %\n",
      "Test: 103.35 %\n"
     ]
    },
    {
     "data": {
      "image/png": "[encoded data removed]",
      "text/plain": [
       "<Figure size 360x360 with 2 Axes>"
      ]
     },
     "metadata": {
      "needs_background": "light"
     },
     "output_type": "display_data"
    }
   ],
   "source": [
    "from sklearn.metrics import confusion_matrix\n",
    "#       pip install scikit-plot\n",
    "import scikitplot as skplt\n",
    "\n",
    "# transforme les matrice en listes d'entiers binaires (0 ou 1)\n",
    "if dim == 2:\n",
    "    print(\"start matrice 2D\")\n",
    "    Y01 = pd.DataFrame(model2.predict(train_data, steps=batch_size)[:,1:])[0].round(0).tolist()\n",
    "    Y11 = pd.DataFrame(model2.predict(test_data, steps=batch_size)[:,1:])[0].round(0).tolist()\n",
    "    Y00 = pd.DataFrame(train_labels[:,1:])[0].tolist()\n",
    "    Y10 = pd.DataFrame(test_labels[:,1:])[0].tolist()\n",
    "    \n",
    "if dim == 4:\n",
    "    print(\"start tensor 4D\")\n",
    "    Y01 = model2.predict(train_data, steps=batch_size)[:].round(0).tolist()\n",
    "    Y11 = model2.predict(test_data, steps=batch_size)[:].round(0).tolist()\n",
    "    Y00 = train_labels[:]\n",
    "    Y10 = test_labels[:]\n",
    "#    Y10 = test_labels[1:].numpy().tolist()\n",
    "\n",
    "print(\"Echantillon Train:\", train_data.shape, len(Y00), len(Y01))\n",
    "#confusion_matrix(Y01, Y00)\n",
    "\n",
    "print(\"Echantillon Test:\", len(Y10), len(Y11))\n",
    "#confusion_matrix(Y11, Y10)\n",
    "if dim == 2:\n",
    "    y_reel = pd.Series(Y10, name='Reel_test')\n",
    "    y_pred = pd.Series(Y11, name='Prédit_test')\n",
    "if dim == 4:\n",
    "#    y_reel = test_labels[1:].numpy()\n",
    "    y_reel0 = train_labels[1]\n",
    "    y_pred0 = model2.predict(train_data, steps=batch_size).round(0)[:,1:]\n",
    "    y_reel = test_labels[1]\n",
    "    y_pred = model2.predict(test_data, steps=batch_size).round(0)[:,1:]\n",
    "\n",
    "if dim == 2:\n",
    "   #df_confusion = pd.crosstab(y_reel, y_pred, rownames=['Reel_test'], colnames=['Predit_test'], margins=True)\n",
    "   print(\"\\n\", df_confusion)\n",
    "\n",
    "print(y_reel0.shape, y_pred0.shape, y_reel.shape, y_pred.shape,)\n",
    "print(\"SOMME réelle: \", y_reel0.sum(), y_reel.sum())\n",
    "print(\"SOMME prédite:\", y_pred0.sum(), y_pred.sum())\n",
    "\n",
    "print(\"Pourcentages:\")\n",
    "print(\"Train:\", round(y_pred0.sum() / y_reel0.sum()* 100, 2),\"%\")\n",
    "print(\"Test:\", round(y_pred.sum() / y_reel.sum()* 100, 2),\"%\")\n",
    "#\n",
    "##################\n",
    "#fig, ax = matplotlib.pyplot.subplots(1)\n",
    "#ax.set_yticks([0, 1])\n",
    "#ax.set_yticklabels([\"0\", \"1\"])\n",
    "##################\n",
    "#scikitplot.metrics.plot_confusion_matrix(\n",
    "#y_true, y_pred, labels=None, true_labels=None, pred_labels=None, \n",
    "#title=None, normalize=False, hide_zeros=False, hide_counts=False, \n",
    "#x_tick_rotation=0, ax=None, figsize=None, cmap='Blues', \n",
    "#title_fontsize='large', text_fontsize='medium')\n",
    "ax = skplt.metrics.plot_confusion_matrix(y_reel, y_pred,\n",
    "            figsize=(5,5), hide_counts=False )\n",
    "\n",
    "ax.set(xlim=(-1, 2), ylim=(2, -1))\n",
    "#ax.set(xlim=(0, 1), ylim=(1,0))\n",
    "#ax.set_yticks([0, 1])\n",
    "#print(\"AXES:\", ax)\n",
    "plt.show()\n",
    "#\n",
    "#df_conf_norm = df_confusion / df_confusion.sum(axis=1)\n",
    "#print(\"\\n\", df_conf_norm)\n",
    "#df_conf_norm = df_confusion.div(df_confusion.sum(axis=1), axis=0)\n",
    "#print(\"\\n\", df_conf_norm)\n",
    "\n",
    "#skplt.metrics.plot_roc(y_test, y_pred)\n",
    "#plt.show()\n",
    "#_ = sns.heatmap(df_confusion, annot=True)\n",
    "#plt.show()\n",
    "#_ = sns.heatmap(df_conf_norm, annot=True)\n",
    "#plt.show()"
   ]
  },
  {
   "cell_type": "code",
   "execution_count": 218,
   "metadata": {
    "ExecuteTime": {
     "end_time": "2020-03-12T21:21:51.660653Z",
     "start_time": "2020-03-12T21:21:51.521339Z"
    },
    "slideshow": {
     "slide_type": "skip"
    }
   },
   "outputs": [
    {
     "name": "stdout",
     "output_type": "stream",
     "text": [
      "(31673,) (31673, 1) (7919,) (7919, 1)\n",
      "SOMME réelle:  8424.0 2121.0\n",
      "SOMME prédite: 8625.0 2192.0\n",
      "Pourcentages:\n",
      "Train: 102.39 %\n",
      "Test: 103.35 %\n",
      "\n",
      " Pourcentages:\n",
      "Valeurs: 22557 491 692 7933\n",
      "Train 0: 97.02 %\n",
      "Train 1:  94.17 %\n",
      "Pourcentages:\n",
      "Valeurs: 5603 124 195 1997\n",
      "Test 0: 96.64 %\n",
      "Test 1:  94.15 %\n"
     ]
    }
   ],
   "source": [
    "#print(y_reel)\n",
    "print(y_reel0.shape, y_pred0.shape, y_reel.shape, y_pred.shape,)\n",
    "print(\"SOMME réelle: \", y_reel0.sum(), y_reel.sum())\n",
    "print(\"SOMME prédite:\", y_pred0.sum(), y_pred.sum())\n",
    "\n",
    "print(\"Pourcentages:\")\n",
    "print(\"Train:\", round(y_pred0.sum() / y_reel0.sum()* 100, 2),\"%\")\n",
    "print(\"Test:\", round(y_pred.sum() / y_reel.sum()* 100, 2),\"%\")\n",
    "\n",
    "df_res0 = pd.DataFrame(y_reel0).reset_index().rename(columns={1: \"reel\"})\n",
    "df_res0['pred'] = pd.DataFrame(y_pred0)\n",
    "df_res0['diff'] = df_res0['pred'] - df_res0['reel']\n",
    "val0_00 = len(df_res0[(df_res0['pred'] == 0) & (df_res0['reel'] == 0)])\n",
    "val0_01 = len(df_res0[(df_res0['pred'] == 0) & (df_res0['reel'] == 1)])\n",
    "val0_10 = len(df_res0[(df_res0['pred'] == 1) & (df_res0['reel'] == 0)])\n",
    "val0_11 = len(df_res0[(df_res0['pred'] == 1) & (df_res0['reel'] == 1)])\n",
    "\n",
    "print(\"\\n Pourcentages:\")\n",
    "print('Valeurs:', val0_00, val0_01, val0_10, val0_11)\n",
    "print(\"Train 0:\", round(val0_00 / (val0_00+val0_10)* 100, 2),\"%\")\n",
    "print(\"Train 1: \", round(val0_11 / (val0_01+val0_11)* 100, 2),\"%\")\n",
    "\n",
    "df_res = pd.DataFrame(y_reel).reset_index().rename(columns={1: \"reel\"})\n",
    "df_res['pred'] = pd.DataFrame(y_pred)\n",
    "df_res['diff'] = df_res['pred'] - df_res['reel']\n",
    "val_00 = len(df_res[(df_res['pred'] == 0) & (df_res['reel'] == 0)])\n",
    "val_01 = len(df_res[(df_res['pred'] == 0) & (df_res['reel'] == 1)])\n",
    "val_10 = len(df_res[(df_res['pred'] == 1) & (df_res['reel'] == 0)])\n",
    "val_11 = len(df_res[(df_res['pred'] == 1) & (df_res['reel'] == 1)])\n",
    "\n",
    "print(\"Pourcentages:\")\n",
    "print('Valeurs:', val_00, val_01, val_10, val_11)\n",
    "print(\"Test 0:\", round(val_00 / (val_00+val_10)* 100, 2),\"%\")\n",
    "print(\"Test 1: \", round(val_11 / (val_01+val_11)* 100, 2),\"%\")"
   ]
  },
  {
   "cell_type": "code",
   "execution_count": null,
   "metadata": {
    "slideshow": {
     "slide_type": "skip"
    }
   },
   "outputs": [],
   "source": []
  },
  {
   "cell_type": "markdown",
   "metadata": {
    "slideshow": {
     "slide_type": "skip"
    }
   },
   "source": [
    "# KERAS hyperparametres"
   ]
  },
  {
   "cell_type": "code",
   "execution_count": 301,
   "metadata": {
    "ExecuteTime": {
     "end_time": "2020-03-02T15:53:14.554788Z",
     "start_time": "2020-03-02T15:53:14.542780Z"
    },
    "slideshow": {
     "slide_type": "skip"
    }
   },
   "outputs": [
    {
     "ename": "SyntaxError",
     "evalue": "invalid syntax (<ipython-input-301-ded477e1019e>, line 19)",
     "output_type": "error",
     "traceback": [
      "\u001b[1;36m  File \u001b[1;32m\"<ipython-input-301-ded477e1019e>\"\u001b[1;36m, line \u001b[1;32m19\u001b[0m\n\u001b[1;33m    dataset =\u001b[0m\n\u001b[1;37m              ^\u001b[0m\n\u001b[1;31mSyntaxError\u001b[0m\u001b[1;31m:\u001b[0m invalid syntax\n"
     ]
    }
   ],
   "source": [
    "from sklearn.model_selection import GridSearchCV\n",
    "\n",
    "from keras.wrappers.scikit_learn import KerasClassifier, KerasRegressor\n",
    "\n",
    "def create_model(neurons=1, optimizer='adam', dropout_rate=0.0, learn_rate=0.01, momentum=0, \n",
    "                 init_mode='uniform', activation='relu', dropout_rate=0.0, weight_constraint=0):\n",
    "    # create model\n",
    "    model = Sequential()\n",
    "    model.add(Dense(neurons, kernel_initializer=init_mode, input_dim=8, activation=activation)'))\n",
    "    model.add(Dropout(dropout_rate))\n",
    "    model.add(Dense(1, kernel_initializer=init_mode, activation='sigmoid'))\n",
    "    # Compile model\n",
    "    optimizer = SGD(lr=learn_rate, momentum=momentum)\n",
    "    model.compile(loss='binary_crossentropy', optimizer=optimizer, metrics=['accuracy'])\n",
    "    return model\n",
    "\n",
    "# fix random seed for reproducibility\n",
    "seed = 42\n",
    "numpy.random.seed(seed)\n",
    "# load dataset\n",
    "\n",
    "dataset = \n",
    "# split into input (X) and output (Y) variables\n",
    "X = dataset\n",
    "Y = dataset\n",
    "\n",
    "# create model\n",
    "model = KerasClassifier(build_fn=create_model, epochs=100, batch_size=10, dropout_rate=0.2, verbose=0)\n",
    "\n",
    "              \n",
    "# define the grid search parameters\n",
    "learn_rate = [0.001, 0.01, 0.1, 0.2, 0.3]\n",
    "momentum = [0.0, 0.2, 0.4, 0.6, 0.8, 0.9]\n",
    "batch_size = [10, 20, 40, 60, 80, 100]\n",
    "epochs = [10, 50, 100]\n",
    "optimizer = ['SGD', 'RMSprop', 'Adagrad', 'Adadelta', 'Adam', 'Adamax', 'Nadam']\n",
    "init_mode = ['uniform', 'lecun_uniform', 'normal', 'zero', 'glorot_normal', 'glorot_uniform', 'he_normal', 'he_uniform']\n",
    "activation = ['softmax', 'softplus', 'softsign', 'relu', 'tanh', 'sigmoid', 'hard_sigmoid', 'linear']\n",
    "weight_constraint = [i for i in range (1, 6, 1)]\n",
    "dropout_rate = [i/10 for i in range (0, 10, 1)]\n",
    "neurons = [1, 5, 10, 15, 20, 25, 30]\n",
    "\n",
    "param_grid = dict(neurons=neurons, learn_rate=learn_rate, momentum=momentum, optimizer=optimizer, \n",
    "                init_mode=init_mode, batch_size=batch_size, epochs=epochs, activation=activation,\n",
    "                dropout_rate=dropout_rate, weight_constraint=weight_constraint)\n",
    "#  score = ???\n",
    "grid = GridSearchCV(estimator=model, param_grid=param_grid, n_jobs=-1, cv=5)   # n_jobs=-1  parallisation\n",
    "grid_result = grid.fit(X, Y)\n",
    "\n",
    "# summarize results ==>  best_score et best_params_\n",
    "print(\"Best: %f using %s\" % (grid_result.best_score_, grid_result.best_params_))\n",
    "means = grid_result.cv_results_['mean_test_score']\n",
    "stds = grid_result.cv_results_['std_test_score']\n",
    "params = grid_result.cv_results_['params']\n",
    "for mean, stdev, param in zip(means, stds, params):\n",
    "    print(\"%f (%f) with: %r\" % (mean, stdev, param))"
   ]
  },
  {
   "cell_type": "code",
   "execution_count": null,
   "metadata": {
    "slideshow": {
     "slide_type": "skip"
    }
   },
   "outputs": [],
   "source": []
  },
  {
   "cell_type": "code",
   "execution_count": null,
   "metadata": {
    "slideshow": {
     "slide_type": "skip"
    }
   },
   "outputs": [],
   "source": []
  },
  {
   "cell_type": "code",
   "execution_count": null,
   "metadata": {
    "slideshow": {
     "slide_type": "skip"
    }
   },
   "outputs": [],
   "source": []
  }
 ],
 "metadata": {
  "anaconda-cloud": {},
  "celltoolbar": "Diaporama",
  "kernelspec": {
   "display_name": "Python 3",
   "language": "python",
   "name": "python3"
  },
  "language_info": {
   "codemirror_mode": {
    "name": "ipython",
    "version": 3
   },
   "file_extension": ".py",
   "mimetype": "text/x-python",
   "name": "python",
   "nbconvert_exporter": "python",
   "pygments_lexer": "ipython3",
   "version": "3.7.6"
  },
  "toc": {
   "base_numbering": 1,
   "nav_menu": {},
   "number_sections": true,
   "sideBar": true,
   "skip_h1_title": false,
   "title_cell": "Table of Contents",
   "title_sidebar": "Contents",
   "toc_cell": false,
   "toc_position": {
    "height": "calc(100% - 180px)",
    "left": "10px",
    "top": "150px",
    "width": "265.547px"
   },
   "toc_section_display": true,
   "toc_window_display": true
  },
  "varInspector": {
   "cols": {
    "lenName": 16,
    "lenType": 16,
    "lenVar": 40
   },
   "kernels_config": {
    "python": {
     "delete_cmd_postfix": "",
     "delete_cmd_prefix": "del ",
     "library": "var_list.py",
     "varRefreshCmd": "print(var_dic_list())"
    },
    "r": {
     "delete_cmd_postfix": ") ",
     "delete_cmd_prefix": "rm(",
     "library": "var_list.r",
     "varRefreshCmd": "cat(var_dic_list()) "
    }
   },
   "position": {
    "height": "543px",
    "left": "673px",
    "right": "20px",
    "top": "122px",
    "width": "479px"
   },
   "types_to_exclude": [
    "module",
    "function",
    "builtin_function_or_method",
    "instance",
    "_Feature"
   ],
   "window_display": false
  }
 },
 "nbformat": 4,
 "nbformat_minor": 2
}
