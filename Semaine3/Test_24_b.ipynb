{
 "cells": [
  {
   "cell_type": "markdown",
   "metadata": {},
   "source": [
    "# PREPARATION"
   ]
  },
  {
   "cell_type": "markdown",
   "metadata": {
    "cell_style": "split"
   },
   "source": [
    "## import librairies"
   ]
  },
  {
   "cell_type": "code",
   "execution_count": 1,
   "metadata": {
    "ExecuteTime": {
     "end_time": "2020-03-02T07:27:58.056010Z",
     "start_time": "2020-03-02T07:27:54.226060Z"
    }
   },
   "outputs": [
    {
     "name": "stdout",
     "output_type": "stream",
     "text": [
      "nt \n",
      " Windows \n",
      " 8.1\n",
      "Panda version: 0.25.1\n",
      "Numpy version: 1.16.5\n"
     ]
    }
   ],
   "source": [
    "# Indispensables\n",
    "import pandas as pd\n",
    "import numpy as np\n",
    "#import geopandas as gpd\n",
    "#import math\n",
    "\n",
    "# general\n",
    "import os\n",
    "from os import listdir\n",
    "#from os.path import isfile, join\n",
    "#from os import walk\n",
    "import sys\n",
    "import io\n",
    "import glob\n",
    "import platform\n",
    "#\n",
    "print(os.name, \"\\n\", platform.system(), \"\\n\", platform.release())\n",
    "#\n",
    "import argparse\n",
    "#from datetime import datetime\n",
    "#import h5py\n",
    "#import importlib\n",
    "\n",
    "# VISU\n",
    "import seaborn as sns\n",
    "import matplotlib.pyplot as plt\n",
    "#import matplotlib.colors as mcolors\n",
    "#from matplotlib.colors import LogNorm\n",
    "\n",
    "# IMAGES\n",
    "#from IPython.display import Image, IFrame\n",
    "#from PIL import Image\n",
    "#import rasterio\n",
    "import imageio\n",
    "\n",
    "import colorsys\n",
    "\n",
    "print('Panda version: %s' % pd.__version__)\n",
    "print('Numpy version: %s' % np.__version__)\n",
    "#print('Geo Panda version: %s' % gpd.__version__)\n",
    "\n",
    "%matplotlib inline"
   ]
  },
  {
   "cell_type": "code",
   "execution_count": 317,
   "metadata": {
    "ExecuteTime": {
     "end_time": "2020-03-03T08:30:21.012520Z",
     "start_time": "2020-03-03T08:30:21.003514Z"
    }
   },
   "outputs": [
    {
     "name": "stdout",
     "output_type": "stream",
     "text": [
      "TensorFlow: 2.0.0\n",
      "Keras: 2.3.1\n"
     ]
    }
   ],
   "source": [
    "from __future__ import print_function\n",
    "\n",
    "# Machine Lerning\n",
    "import tensorflow as tf\n",
    "import keras\n",
    "\n",
    "from keras.models import Sequential\n",
    "from keras.layers import Dense, Dropout, Flatten, Activation     #LSTM\n",
    "from keras.layers import Conv1D, Conv2D, MaxPooling1D, MaxPooling2D\n",
    "from keras import backend as K\n",
    "from keras.callbacks import History\n",
    "\n",
    "from keras.optimizers import SGD\n",
    "from keras.regularizers import l2\n",
    "\n",
    "print('TensorFlow: %s' % tf.__version__)\n",
    "print('Keras: %s' % keras.__version__)"
   ]
  },
  {
   "cell_type": "markdown",
   "metadata": {},
   "source": [
    "## Déclaration des directories et variables"
   ]
  },
  {
   "cell_type": "code",
   "execution_count": 5,
   "metadata": {
    "ExecuteTime": {
     "end_time": "2020-03-02T07:28:24.062682Z",
     "start_time": "2020-03-02T07:28:24.051675Z"
    }
   },
   "outputs": [
    {
     "name": "stdout",
     "output_type": "stream",
     "text": [
      "Working directory: C:\\Users\\STG3841\\Mes Documents (local)\\travail\n",
      "Data ROOT directory: S:\\Commun\\SIG3D\\2020\\PROJETS_2020\\20039_MachineLearning\\DATA\\\n"
     ]
    },
    {
     "data": {
      "text/plain": [
       "['C:\\\\Users\\\\STG3841\\\\Mes Documents (local)\\\\travail',\n",
       " 'C:\\\\Users\\\\STG3841\\\\AppData\\\\Local\\\\Continuum\\\\anaconda3\\\\python37.zip',\n",
       " 'C:\\\\Users\\\\STG3841\\\\AppData\\\\Local\\\\Continuum\\\\anaconda3\\\\DLLs',\n",
       " 'C:\\\\Users\\\\STG3841\\\\AppData\\\\Local\\\\Continuum\\\\anaconda3\\\\lib',\n",
       " 'C:\\\\Users\\\\STG3841\\\\AppData\\\\Local\\\\Continuum\\\\anaconda3',\n",
       " '',\n",
       " 'C:\\\\Users\\\\STG3841\\\\AppData\\\\Local\\\\Continuum\\\\anaconda3\\\\lib\\\\site-packages',\n",
       " 'C:\\\\Users\\\\STG3841\\\\AppData\\\\Local\\\\Continuum\\\\anaconda3\\\\lib\\\\site-packages\\\\win32',\n",
       " 'C:\\\\Users\\\\STG3841\\\\AppData\\\\Local\\\\Continuum\\\\anaconda3\\\\lib\\\\site-packages\\\\win32\\\\lib',\n",
       " 'C:\\\\Users\\\\STG3841\\\\AppData\\\\Local\\\\Continuum\\\\anaconda3\\\\lib\\\\site-packages\\\\Pythonwin',\n",
       " 'C:\\\\Users\\\\STG3841\\\\AppData\\\\Local\\\\Continuum\\\\anaconda3\\\\lib\\\\site-packages\\\\IPython\\\\extensions',\n",
       " 'C:\\\\Users\\\\STG3841\\\\.ipython',\n",
       " 'S:\\\\Commun\\\\SIG3D\\\\2020\\\\PROJETS_2020\\\\20039_MachineLearning\\\\DATA\\\\',\n",
       " 'S:\\\\Commun\\\\SIG3D\\\\2020\\\\PROJETS_2020\\\\20039_MachineLearning\\\\DATA\\\\DallesNumPoints5m\\\\']"
      ]
     },
     "execution_count": 5,
     "metadata": {},
     "output_type": "execute_result"
    }
   ],
   "source": [
    "BASE_DIR = os.getcwd()\n",
    "\n",
    "separe = \"/\"\n",
    "# Laptop\n",
    "if platform.system() == 'Darwin' and platform.release() == '18.7.0':\n",
    "    DATA_DIR  = \"/Users/pierreleisy/Data_Science/NOTEBOOK/STAGE/DATA1/\"\n",
    "    DATA_DIR2 = \"/Users/pierreleisy/Data_Science/NOTEBOOK/STAGE/DATA2/\"\n",
    "    DATA_DIR3 = \"/Users/pierreleisy/Data_Science/NOTEBOOK/STAGE/\"\n",
    "# sur IMAC\n",
    "else:   #if platform.system() == 'Darwin' and platform.release() == '18.0.0':\n",
    "    DATA_DIR  = \"/Users/pl/Desktop/DATA_SCIENCE/NOTEBOOK/EMS/DATA1/\"\n",
    "    DATA_DIR2 = \"/Users/pl/Desktop/DATA_SCIENCE/NOTEBOOK/EMS/DATA2/\"\n",
    "    DATA_DIR3 = \"/Users/pl/Desktop/DATA_SCIENCE/NOTEBOOK/EMS/\"\n",
    "## Eurométropole\n",
    "if platform.system() == 'Windows':\n",
    "    DATA_DIR  = \"S:\\\\Commun\\\\SIG3D\\\\2020\\\\PROJETS_2020\\\\20039_MachineLearning\\\\DATA\\\\\"\n",
    "    DATA_DIR2 = \"S:\\\\Commun\\\\SIG3D\\\\2020\\\\PROJETS_2020\\\\20039_MachineLearning\\\\DATA2\\\\\"\n",
    "    DATA_DIR3 = \"C:\\\\Users\\\\STG3841\\\\Mes Documents (local)\\\\travail\\\\\"\n",
    "    separe = \"\\\\\"   \n",
    "    \n",
    "DALLE_NUM = DATA_DIR + \"DallesNumPoints5m\" + separe\n",
    "DALLE_ECA = DATA_DIR + \"DallesEcartZ5m\" + separe\n",
    "DALLE_POS = DATA_DIR + \"DallesPosition5m\" + separe\n",
    "print(\"Working directory:\",BASE_DIR)\n",
    "print(\"Data ROOT directory:\",DATA_DIR)\n",
    "\n",
    "sys.path.append(DATA_DIR)\n",
    "sys.path.append(os.path.join(DATA_DIR,'DallesNumPoints5m\\\\'))\n",
    "sys.path"
   ]
  },
  {
   "cell_type": "markdown",
   "metadata": {},
   "source": [
    "## création des listes d'images"
   ]
  },
  {
   "cell_type": "code",
   "execution_count": 6,
   "metadata": {
    "ExecuteTime": {
     "end_time": "2020-03-02T07:28:50.637847Z",
     "start_time": "2020-03-02T07:28:27.098674Z"
    }
   },
   "outputs": [
    {
     "name": "stdout",
     "output_type": "stream",
     "text": [
      "58776 29384 29384 29384\n",
      "58776 58775 58768\n"
     ]
    }
   ],
   "source": [
    "#liste1 = [f for f in listdir(DALLE_NUM) if isfile(join(DALLE_NUM, f))]\n",
    "liste_1 = [f for f in glob.glob(DALLE_NUM + separe + \"*.tif\", recursive=True)]#   #only first N for test\n",
    "liste_2 = [f for f in glob.glob(DALLE_ECA + separe + \"*.tif\", recursive=True)]#\n",
    "liste_3 = [f for f in glob.glob(DALLE_POS + separe + \"*.tif\", recursive=True)]#\n",
    "print(len(listdir(DALLE_NUM)), len(liste_1), len(liste_2), len(liste_3))\n",
    "\n",
    "liste_NUM = os.listdir(DALLE_NUM)\n",
    "liste_ECA = os.listdir(DALLE_ECA)\n",
    "liste_POS = os.listdir(DALLE_POS)\n",
    "print(len(liste_NUM), len(liste_ECA), len(liste_POS))"
   ]
  },
  {
   "cell_type": "markdown",
   "metadata": {},
   "source": [
    "# DONNEES"
   ]
  },
  {
   "cell_type": "markdown",
   "metadata": {},
   "source": [
    "## TEST:  Lecture des images"
   ]
  },
  {
   "cell_type": "markdown",
   "metadata": {},
   "source": [
    "## lecture/creation fichier/dataframe lampes des lampadaires présents dans la dalle 1x1 km"
   ]
  },
  {
   "cell_type": "code",
   "execution_count": 7,
   "metadata": {
    "ExecuteTime": {
     "end_time": "2020-03-02T07:38:44.987654Z",
     "start_time": "2020-03-02T07:38:41.662773Z"
    }
   },
   "outputs": [
    {
     "name": "stdout",
     "output_type": "stream",
     "text": [
      "Bord inférieur gauche: 2042500 7272000 200 200 5\n",
      "0    3.0\n",
      "1    4.0\n",
      "2    6.0\n",
      "3    2.0\n",
      "4    1.0\n",
      "dtype: float64\n",
      "mean       1.79\n",
      "count    200.00\n",
      "sum      358.00\n",
      "dtype: float64\n",
      "(200, 200) (40000, 1) (355, 5)\n",
      "357.0\n"
     ]
    },
    {
     "data": {
      "text/html": [
       "<div>\n",
       "<style scoped>\n",
       "    .dataframe tbody tr th:only-of-type {\n",
       "        vertical-align: middle;\n",
       "    }\n",
       "\n",
       "    .dataframe tbody tr th {\n",
       "        vertical-align: top;\n",
       "    }\n",
       "\n",
       "    .dataframe thead th {\n",
       "        text-align: right;\n",
       "    }\n",
       "</style>\n",
       "<table border=\"1\" class=\"dataframe\">\n",
       "  <thead>\n",
       "    <tr style=\"text-align: right;\">\n",
       "      <th></th>\n",
       "      <th>_column</th>\n",
       "      <th>_row</th>\n",
       "      <th>_overlaps</th>\n",
       "      <th>posX</th>\n",
       "      <th>posY</th>\n",
       "    </tr>\n",
       "  </thead>\n",
       "  <tbody>\n",
       "    <tr>\n",
       "      <td>0</td>\n",
       "      <td>0</td>\n",
       "      <td>80</td>\n",
       "      <td>1</td>\n",
       "      <td>2042502</td>\n",
       "      <td>7272402</td>\n",
       "    </tr>\n",
       "    <tr>\n",
       "      <td>1</td>\n",
       "      <td>0</td>\n",
       "      <td>92</td>\n",
       "      <td>1</td>\n",
       "      <td>2042502</td>\n",
       "      <td>7272462</td>\n",
       "    </tr>\n",
       "    <tr>\n",
       "      <td>2</td>\n",
       "      <td>0</td>\n",
       "      <td>102</td>\n",
       "      <td>1</td>\n",
       "      <td>2042502</td>\n",
       "      <td>7272512</td>\n",
       "    </tr>\n",
       "    <tr>\n",
       "      <td>3</td>\n",
       "      <td>0</td>\n",
       "      <td>106</td>\n",
       "      <td>1</td>\n",
       "      <td>2042502</td>\n",
       "      <td>7272532</td>\n",
       "    </tr>\n",
       "    <tr>\n",
       "      <td>4</td>\n",
       "      <td>0</td>\n",
       "      <td>169</td>\n",
       "      <td>1</td>\n",
       "      <td>2042502</td>\n",
       "      <td>7272847</td>\n",
       "    </tr>\n",
       "  </tbody>\n",
       "</table>\n",
       "</div>"
      ],
      "text/plain": [
       "   _column  _row  _overlaps     posX     posY\n",
       "0        0    80          1  2042502  7272402\n",
       "1        0    92          1  2042502  7272462\n",
       "2        0   102          1  2042502  7272512\n",
       "3        0   106          1  2042502  7272532\n",
       "4        0   169          1  2042502  7272847"
      ]
     },
     "execution_count": 7,
     "metadata": {},
     "output_type": "execute_result"
    }
   ],
   "source": [
    "# Intialisation des variables de la dalle\n",
    "fich_lamp  = DATA_DIR  + \"LampadairePresence_0_1_5m.asc\"\n",
    "fich_lamp2 = DATA_DIR2 + \"listepositif.xlsx\"\n",
    "\n",
    "header = pd.read_csv(fich_lamp, sep=\" \", header=None, skiprows=0, nrows=5, names=[\"noms\",\"valeurs\"])\n",
    "n_row =  header['valeurs'][0]\n",
    "n_col =  header['valeurs'][1]\n",
    "xlow = header['valeurs'][2]\n",
    "ylow = header['valeurs'][3]\n",
    "cell_size = header['valeurs'][4]\n",
    "print(\"Bord inférieur gauche:\", xlow, ylow, n_row, n_col, cell_size)\n",
    "\n",
    "lampadaires = pd.read_csv(fich_lamp, sep=\" \", header=None, skiprows=6)\n",
    "print(lampadaires.sum().head(5))\n",
    "print(lampadaires.nunique().agg(['mean','count','sum']))\n",
    "##################################\n",
    "# reconstruit le tableau dans le bon schéma usuel\n",
    "# calcule la transposee\n",
    "lampadaires = lampadaires.T\n",
    "# inversion des colonnes (nombre pair de colonnes, mais pas nécessaire)\n",
    "lampadaires = lampadaires[lampadaires.columns[::-1]]\n",
    "##################################\n",
    "lampes0 = pd.DataFrame(np.reshape(lampadaires.to_numpy(), n_row*n_col))\n",
    "\n",
    "lampes2 = pd.read_excel(fich_lamp2, header=0, skiprows=0)\n",
    "print(lampadaires.shape, lampes0.shape, lampes2.shape)\n",
    "#print(lampadaires.describe())\n",
    "print(lampadaires.sum().sum())\n",
    "lampes2.head(5)"
   ]
  },
  {
   "cell_type": "markdown",
   "metadata": {},
   "source": [
    "## rempli le dataframe lampes0 et lampes1"
   ]
  },
  {
   "cell_type": "code",
   "execution_count": 8,
   "metadata": {
    "ExecuteTime": {
     "end_time": "2020-03-02T07:38:45.477000Z",
     "start_time": "2020-03-02T07:38:45.288862Z"
    }
   },
   "outputs": [
    {
     "name": "stdout",
     "output_type": "stream",
     "text": [
      "present     int8\n",
      "NumI       int32\n",
      "NumY       int32\n",
      "NumX       int32\n",
      "dtype: object\n",
      "Dalle: (40000, 9) Nbre lampadaires: (357, 9)\n"
     ]
    },
    {
     "data": {
      "text/html": [
       "<div>\n",
       "<style scoped>\n",
       "    .dataframe tbody tr th:only-of-type {\n",
       "        vertical-align: middle;\n",
       "    }\n",
       "\n",
       "    .dataframe tbody tr th {\n",
       "        vertical-align: top;\n",
       "    }\n",
       "\n",
       "    .dataframe thead th {\n",
       "        text-align: right;\n",
       "    }\n",
       "</style>\n",
       "<table border=\"1\" class=\"dataframe\">\n",
       "  <thead>\n",
       "    <tr style=\"text-align: right;\">\n",
       "      <th></th>\n",
       "      <th>present</th>\n",
       "      <th>NumI</th>\n",
       "      <th>NumY</th>\n",
       "      <th>NumX</th>\n",
       "      <th>X</th>\n",
       "      <th>Y</th>\n",
       "      <th>nom_NUM</th>\n",
       "      <th>nom_ECA</th>\n",
       "      <th>nom_POS</th>\n",
       "    </tr>\n",
       "  </thead>\n",
       "  <tbody>\n",
       "    <tr>\n",
       "      <td>0</td>\n",
       "      <td>0</td>\n",
       "      <td>0</td>\n",
       "      <td>0</td>\n",
       "      <td>0</td>\n",
       "      <td>2042500</td>\n",
       "      <td>7272000</td>\n",
       "      <td>2042500_7272000_NumPoints5m.tif</td>\n",
       "      <td>2042500_7272000_EcartZ5m.tif</td>\n",
       "      <td>2042500_7272000_Position5m.tif</td>\n",
       "    </tr>\n",
       "    <tr>\n",
       "      <td>1</td>\n",
       "      <td>0</td>\n",
       "      <td>1</td>\n",
       "      <td>1</td>\n",
       "      <td>0</td>\n",
       "      <td>2042500</td>\n",
       "      <td>7272005</td>\n",
       "      <td>2042500_7272005_NumPoints5m.tif</td>\n",
       "      <td>2042500_7272005_EcartZ5m.tif</td>\n",
       "      <td>2042500_7272005_Position5m.tif</td>\n",
       "    </tr>\n",
       "    <tr>\n",
       "      <td>2</td>\n",
       "      <td>0</td>\n",
       "      <td>2</td>\n",
       "      <td>2</td>\n",
       "      <td>0</td>\n",
       "      <td>2042500</td>\n",
       "      <td>7272010</td>\n",
       "      <td>2042500_7272010_NumPoints5m.tif</td>\n",
       "      <td>2042500_7272010_EcartZ5m.tif</td>\n",
       "      <td>2042500_7272010_Position5m.tif</td>\n",
       "    </tr>\n",
       "    <tr>\n",
       "      <td>3</td>\n",
       "      <td>0</td>\n",
       "      <td>3</td>\n",
       "      <td>3</td>\n",
       "      <td>0</td>\n",
       "      <td>2042500</td>\n",
       "      <td>7272015</td>\n",
       "      <td>2042500_7272015_NumPoints5m.tif</td>\n",
       "      <td>2042500_7272015_EcartZ5m.tif</td>\n",
       "      <td>2042500_7272015_Position5m.tif</td>\n",
       "    </tr>\n",
       "    <tr>\n",
       "      <td>4</td>\n",
       "      <td>0</td>\n",
       "      <td>4</td>\n",
       "      <td>4</td>\n",
       "      <td>0</td>\n",
       "      <td>2042500</td>\n",
       "      <td>7272020</td>\n",
       "      <td>2042500_7272020_NumPoints5m.tif</td>\n",
       "      <td>2042500_7272020_EcartZ5m.tif</td>\n",
       "      <td>2042500_7272020_Position5m.tif</td>\n",
       "    </tr>\n",
       "  </tbody>\n",
       "</table>\n",
       "</div>"
      ],
      "text/plain": [
       "   present  NumI  NumY  NumX        X        Y  \\\n",
       "0        0     0     0     0  2042500  7272000   \n",
       "1        0     1     1     0  2042500  7272005   \n",
       "2        0     2     2     0  2042500  7272010   \n",
       "3        0     3     3     0  2042500  7272015   \n",
       "4        0     4     4     0  2042500  7272020   \n",
       "\n",
       "                           nom_NUM                       nom_ECA  \\\n",
       "0  2042500_7272000_NumPoints5m.tif  2042500_7272000_EcartZ5m.tif   \n",
       "1  2042500_7272005_NumPoints5m.tif  2042500_7272005_EcartZ5m.tif   \n",
       "2  2042500_7272010_NumPoints5m.tif  2042500_7272010_EcartZ5m.tif   \n",
       "3  2042500_7272015_NumPoints5m.tif  2042500_7272015_EcartZ5m.tif   \n",
       "4  2042500_7272020_NumPoints5m.tif  2042500_7272020_EcartZ5m.tif   \n",
       "\n",
       "                          nom_POS  \n",
       "0  2042500_7272000_Position5m.tif  \n",
       "1  2042500_7272005_Position5m.tif  \n",
       "2  2042500_7272010_Position5m.tif  \n",
       "3  2042500_7272015_Position5m.tif  \n",
       "4  2042500_7272020_Position5m.tif  "
      ]
     },
     "execution_count": 8,
     "metadata": {},
     "output_type": "execute_result"
    }
   ],
   "source": [
    "lampes0['NumI'] = lampes0.index\n",
    "lampes0['NumY'] = lampes0['NumI'].mod(other=n_col)\n",
    "lampes0['NumX'] = ((lampes0['NumI'] - n_row + 1) / n_row).apply(np.ceil)\n",
    "#lampes = lampes.drop(['Num'], axis=1)\n",
    "lampes0.rename(columns={0: 'present'}, inplace=True)\n",
    "lampes0 = lampes0.astype({'present': 'int8'}, copy=False)\n",
    "lampes0 = lampes0.astype({'NumY': 'int32'}, copy=False)\n",
    "lampes0 = lampes0.astype({'NumI': 'int32'}, copy=False)\n",
    "lampes0 = lampes0.astype({'NumX': 'int32'}, copy=False)\n",
    "print(lampes0.dtypes)\n",
    "#print(lampes.describe(include='all'))\n",
    "lampes0['X'] = xlow + lampes0['NumX'] * cell_size\n",
    "lampes0['Y'] = ylow + lampes0['NumY'] * cell_size\n",
    "lampes0['nom_NUM'] = lampes0['X'].map(str) + \"_\" + lampes0['Y'].map(str) +  \"_NumPoints5m.tif\"\n",
    "lampes0['nom_ECA'] = lampes0['X'].map(str) + \"_\" + lampes0['Y'].map(str) + \"_EcartZ5m.tif\"\n",
    "lampes0['nom_POS'] = lampes0['X'].map(str) + \"_\" + lampes0['Y'].map(str) +  \"_Position5m.tif\"\n",
    "# extraction des lampadaires\n",
    "lampes1 = lampes0[lampes0['present'] > 0]\n",
    "print(\"Dalle:\", lampes0.shape, \"Nbre lampadaires:\", lampes1.shape)\n",
    "lampes0.head()"
   ]
  },
  {
   "cell_type": "code",
   "execution_count": 9,
   "metadata": {
    "ExecuteTime": {
     "end_time": "2020-03-02T07:38:46.392665Z",
     "start_time": "2020-03-02T07:38:46.381659Z"
    }
   },
   "outputs": [
    {
     "data": {
      "text/html": [
       "<div>\n",
       "<style scoped>\n",
       "    .dataframe tbody tr th:only-of-type {\n",
       "        vertical-align: middle;\n",
       "    }\n",
       "\n",
       "    .dataframe tbody tr th {\n",
       "        vertical-align: top;\n",
       "    }\n",
       "\n",
       "    .dataframe thead th {\n",
       "        text-align: right;\n",
       "    }\n",
       "</style>\n",
       "<table border=\"1\" class=\"dataframe\">\n",
       "  <thead>\n",
       "    <tr style=\"text-align: right;\">\n",
       "      <th></th>\n",
       "      <th>present</th>\n",
       "      <th>NumI</th>\n",
       "      <th>NumY</th>\n",
       "      <th>NumX</th>\n",
       "      <th>X</th>\n",
       "      <th>Y</th>\n",
       "      <th>nom_NUM</th>\n",
       "      <th>nom_ECA</th>\n",
       "      <th>nom_POS</th>\n",
       "    </tr>\n",
       "  </thead>\n",
       "  <tbody>\n",
       "    <tr>\n",
       "      <td>39336</td>\n",
       "      <td>1</td>\n",
       "      <td>39336</td>\n",
       "      <td>136</td>\n",
       "      <td>196</td>\n",
       "      <td>2043480</td>\n",
       "      <td>7272680</td>\n",
       "      <td>2043480_7272680_NumPoints5m.tif</td>\n",
       "      <td>2043480_7272680_EcartZ5m.tif</td>\n",
       "      <td>2043480_7272680_Position5m.tif</td>\n",
       "    </tr>\n",
       "    <tr>\n",
       "      <td>39384</td>\n",
       "      <td>1</td>\n",
       "      <td>39384</td>\n",
       "      <td>184</td>\n",
       "      <td>196</td>\n",
       "      <td>2043480</td>\n",
       "      <td>7272920</td>\n",
       "      <td>2043480_7272920_NumPoints5m.tif</td>\n",
       "      <td>2043480_7272920_EcartZ5m.tif</td>\n",
       "      <td>2043480_7272920_Position5m.tif</td>\n",
       "    </tr>\n",
       "    <tr>\n",
       "      <td>39520</td>\n",
       "      <td>1</td>\n",
       "      <td>39520</td>\n",
       "      <td>120</td>\n",
       "      <td>197</td>\n",
       "      <td>2043485</td>\n",
       "      <td>7272600</td>\n",
       "      <td>2043485_7272600_NumPoints5m.tif</td>\n",
       "      <td>2043485_7272600_EcartZ5m.tif</td>\n",
       "      <td>2043485_7272600_Position5m.tif</td>\n",
       "    </tr>\n",
       "    <tr>\n",
       "      <td>39570</td>\n",
       "      <td>1</td>\n",
       "      <td>39570</td>\n",
       "      <td>170</td>\n",
       "      <td>197</td>\n",
       "      <td>2043485</td>\n",
       "      <td>7272850</td>\n",
       "      <td>2043485_7272850_NumPoints5m.tif</td>\n",
       "      <td>2043485_7272850_EcartZ5m.tif</td>\n",
       "      <td>2043485_7272850_Position5m.tif</td>\n",
       "    </tr>\n",
       "    <tr>\n",
       "      <td>39577</td>\n",
       "      <td>1</td>\n",
       "      <td>39577</td>\n",
       "      <td>177</td>\n",
       "      <td>197</td>\n",
       "      <td>2043485</td>\n",
       "      <td>7272885</td>\n",
       "      <td>2043485_7272885_NumPoints5m.tif</td>\n",
       "      <td>2043485_7272885_EcartZ5m.tif</td>\n",
       "      <td>2043485_7272885_Position5m.tif</td>\n",
       "    </tr>\n",
       "    <tr>\n",
       "      <td>39685</td>\n",
       "      <td>1</td>\n",
       "      <td>39685</td>\n",
       "      <td>85</td>\n",
       "      <td>198</td>\n",
       "      <td>2043490</td>\n",
       "      <td>7272425</td>\n",
       "      <td>2043490_7272425_NumPoints5m.tif</td>\n",
       "      <td>2043490_7272425_EcartZ5m.tif</td>\n",
       "      <td>2043490_7272425_Position5m.tif</td>\n",
       "    </tr>\n",
       "    <tr>\n",
       "      <td>39756</td>\n",
       "      <td>1</td>\n",
       "      <td>39756</td>\n",
       "      <td>156</td>\n",
       "      <td>198</td>\n",
       "      <td>2043490</td>\n",
       "      <td>7272780</td>\n",
       "      <td>2043490_7272780_NumPoints5m.tif</td>\n",
       "      <td>2043490_7272780_EcartZ5m.tif</td>\n",
       "      <td>2043490_7272780_Position5m.tif</td>\n",
       "    </tr>\n",
       "    <tr>\n",
       "      <td>39763</td>\n",
       "      <td>1</td>\n",
       "      <td>39763</td>\n",
       "      <td>163</td>\n",
       "      <td>198</td>\n",
       "      <td>2043490</td>\n",
       "      <td>7272815</td>\n",
       "      <td>2043490_7272815_NumPoints5m.tif</td>\n",
       "      <td>2043490_7272815_EcartZ5m.tif</td>\n",
       "      <td>2043490_7272815_Position5m.tif</td>\n",
       "    </tr>\n",
       "  </tbody>\n",
       "</table>\n",
       "</div>"
      ],
      "text/plain": [
       "       present   NumI  NumY  NumX        X        Y  \\\n",
       "39336        1  39336   136   196  2043480  7272680   \n",
       "39384        1  39384   184   196  2043480  7272920   \n",
       "39520        1  39520   120   197  2043485  7272600   \n",
       "39570        1  39570   170   197  2043485  7272850   \n",
       "39577        1  39577   177   197  2043485  7272885   \n",
       "39685        1  39685    85   198  2043490  7272425   \n",
       "39756        1  39756   156   198  2043490  7272780   \n",
       "39763        1  39763   163   198  2043490  7272815   \n",
       "\n",
       "                               nom_NUM                       nom_ECA  \\\n",
       "39336  2043480_7272680_NumPoints5m.tif  2043480_7272680_EcartZ5m.tif   \n",
       "39384  2043480_7272920_NumPoints5m.tif  2043480_7272920_EcartZ5m.tif   \n",
       "39520  2043485_7272600_NumPoints5m.tif  2043485_7272600_EcartZ5m.tif   \n",
       "39570  2043485_7272850_NumPoints5m.tif  2043485_7272850_EcartZ5m.tif   \n",
       "39577  2043485_7272885_NumPoints5m.tif  2043485_7272885_EcartZ5m.tif   \n",
       "39685  2043490_7272425_NumPoints5m.tif  2043490_7272425_EcartZ5m.tif   \n",
       "39756  2043490_7272780_NumPoints5m.tif  2043490_7272780_EcartZ5m.tif   \n",
       "39763  2043490_7272815_NumPoints5m.tif  2043490_7272815_EcartZ5m.tif   \n",
       "\n",
       "                              nom_POS  \n",
       "39336  2043480_7272680_Position5m.tif  \n",
       "39384  2043480_7272920_Position5m.tif  \n",
       "39520  2043485_7272600_Position5m.tif  \n",
       "39570  2043485_7272850_Position5m.tif  \n",
       "39577  2043485_7272885_Position5m.tif  \n",
       "39685  2043490_7272425_Position5m.tif  \n",
       "39756  2043490_7272780_Position5m.tif  \n",
       "39763  2043490_7272815_Position5m.tif  "
      ]
     },
     "execution_count": 9,
     "metadata": {},
     "output_type": "execute_result"
    }
   ],
   "source": [
    "lampes1.tail(8)"
   ]
  },
  {
   "cell_type": "code",
   "execution_count": 10,
   "metadata": {
    "ExecuteTime": {
     "end_time": "2020-03-02T07:38:47.447010Z",
     "start_time": "2020-03-02T07:38:47.430998Z"
    }
   },
   "outputs": [
    {
     "name": "stdout",
     "output_type": "stream",
     "text": [
      "(357, 9) (40000, 9)\n"
     ]
    },
    {
     "data": {
      "text/html": [
       "<div>\n",
       "<style scoped>\n",
       "    .dataframe tbody tr th:only-of-type {\n",
       "        vertical-align: middle;\n",
       "    }\n",
       "\n",
       "    .dataframe tbody tr th {\n",
       "        vertical-align: top;\n",
       "    }\n",
       "\n",
       "    .dataframe thead th {\n",
       "        text-align: right;\n",
       "    }\n",
       "</style>\n",
       "<table border=\"1\" class=\"dataframe\">\n",
       "  <thead>\n",
       "    <tr style=\"text-align: right;\">\n",
       "      <th></th>\n",
       "      <th>present</th>\n",
       "      <th>NumI</th>\n",
       "      <th>NumY</th>\n",
       "      <th>NumX</th>\n",
       "      <th>X</th>\n",
       "      <th>Y</th>\n",
       "      <th>nom_NUM</th>\n",
       "      <th>nom_ECA</th>\n",
       "      <th>nom_POS</th>\n",
       "    </tr>\n",
       "  </thead>\n",
       "  <tbody>\n",
       "    <tr>\n",
       "      <td>27731</td>\n",
       "      <td>1</td>\n",
       "      <td>27731</td>\n",
       "      <td>131</td>\n",
       "      <td>138</td>\n",
       "      <td>2043190</td>\n",
       "      <td>7272655</td>\n",
       "      <td>2043190_7272655_NumPoints5m.tif</td>\n",
       "      <td>2043190_7272655_EcartZ5m.tif</td>\n",
       "      <td>2043190_7272655_Position5m.tif</td>\n",
       "    </tr>\n",
       "    <tr>\n",
       "      <td>27747</td>\n",
       "      <td>1</td>\n",
       "      <td>27747</td>\n",
       "      <td>147</td>\n",
       "      <td>138</td>\n",
       "      <td>2043190</td>\n",
       "      <td>7272735</td>\n",
       "      <td>2043190_7272735_NumPoints5m.tif</td>\n",
       "      <td>2043190_7272735_EcartZ5m.tif</td>\n",
       "      <td>2043190_7272735_Position5m.tif</td>\n",
       "    </tr>\n",
       "    <tr>\n",
       "      <td>28103</td>\n",
       "      <td>1</td>\n",
       "      <td>28103</td>\n",
       "      <td>103</td>\n",
       "      <td>140</td>\n",
       "      <td>2043200</td>\n",
       "      <td>7272515</td>\n",
       "      <td>2043200_7272515_NumPoints5m.tif</td>\n",
       "      <td>2043200_7272515_EcartZ5m.tif</td>\n",
       "      <td>2043200_7272515_Position5m.tif</td>\n",
       "    </tr>\n",
       "    <tr>\n",
       "      <td>28125</td>\n",
       "      <td>1</td>\n",
       "      <td>28125</td>\n",
       "      <td>125</td>\n",
       "      <td>140</td>\n",
       "      <td>2043200</td>\n",
       "      <td>7272625</td>\n",
       "      <td>2043200_7272625_NumPoints5m.tif</td>\n",
       "      <td>2043200_7272625_EcartZ5m.tif</td>\n",
       "      <td>2043200_7272625_Position5m.tif</td>\n",
       "    </tr>\n",
       "    <tr>\n",
       "      <td>28131</td>\n",
       "      <td>1</td>\n",
       "      <td>28131</td>\n",
       "      <td>131</td>\n",
       "      <td>140</td>\n",
       "      <td>2043200</td>\n",
       "      <td>7272655</td>\n",
       "      <td>2043200_7272655_NumPoints5m.tif</td>\n",
       "      <td>2043200_7272655_EcartZ5m.tif</td>\n",
       "      <td>2043200_7272655_Position5m.tif</td>\n",
       "    </tr>\n",
       "    <tr>\n",
       "      <td>28193</td>\n",
       "      <td>1</td>\n",
       "      <td>28193</td>\n",
       "      <td>193</td>\n",
       "      <td>140</td>\n",
       "      <td>2043200</td>\n",
       "      <td>7272965</td>\n",
       "      <td>2043200_7272965_NumPoints5m.tif</td>\n",
       "      <td>2043200_7272965_EcartZ5m.tif</td>\n",
       "      <td>2043200_7272965_Position5m.tif</td>\n",
       "    </tr>\n",
       "    <tr>\n",
       "      <td>28256</td>\n",
       "      <td>1</td>\n",
       "      <td>28256</td>\n",
       "      <td>56</td>\n",
       "      <td>141</td>\n",
       "      <td>2043205</td>\n",
       "      <td>7272280</td>\n",
       "      <td>2043205_7272280_NumPoints5m.tif</td>\n",
       "      <td>2043205_7272280_EcartZ5m.tif</td>\n",
       "      <td>2043205_7272280_Position5m.tif</td>\n",
       "    </tr>\n",
       "    <tr>\n",
       "      <td>28393</td>\n",
       "      <td>1</td>\n",
       "      <td>28393</td>\n",
       "      <td>193</td>\n",
       "      <td>141</td>\n",
       "      <td>2043205</td>\n",
       "      <td>7272965</td>\n",
       "      <td>2043205_7272965_NumPoints5m.tif</td>\n",
       "      <td>2043205_7272965_EcartZ5m.tif</td>\n",
       "      <td>2043205_7272965_Position5m.tif</td>\n",
       "    </tr>\n",
       "    <tr>\n",
       "      <td>28463</td>\n",
       "      <td>1</td>\n",
       "      <td>28463</td>\n",
       "      <td>63</td>\n",
       "      <td>142</td>\n",
       "      <td>2043210</td>\n",
       "      <td>7272315</td>\n",
       "      <td>2043210_7272315_NumPoints5m.tif</td>\n",
       "      <td>2043210_7272315_EcartZ5m.tif</td>\n",
       "      <td>2043210_7272315_Position5m.tif</td>\n",
       "    </tr>\n",
       "    <tr>\n",
       "      <td>28464</td>\n",
       "      <td>1</td>\n",
       "      <td>28464</td>\n",
       "      <td>64</td>\n",
       "      <td>142</td>\n",
       "      <td>2043210</td>\n",
       "      <td>7272320</td>\n",
       "      <td>2043210_7272320_NumPoints5m.tif</td>\n",
       "      <td>2043210_7272320_EcartZ5m.tif</td>\n",
       "      <td>2043210_7272320_Position5m.tif</td>\n",
       "    </tr>\n",
       "    <tr>\n",
       "      <td>28662</td>\n",
       "      <td>1</td>\n",
       "      <td>28662</td>\n",
       "      <td>62</td>\n",
       "      <td>143</td>\n",
       "      <td>2043215</td>\n",
       "      <td>7272310</td>\n",
       "      <td>2043215_7272310_NumPoints5m.tif</td>\n",
       "      <td>2043215_7272310_EcartZ5m.tif</td>\n",
       "      <td>2043215_7272310_Position5m.tif</td>\n",
       "    </tr>\n",
       "    <tr>\n",
       "      <td>28665</td>\n",
       "      <td>1</td>\n",
       "      <td>28665</td>\n",
       "      <td>65</td>\n",
       "      <td>143</td>\n",
       "      <td>2043215</td>\n",
       "      <td>7272325</td>\n",
       "      <td>2043215_7272325_NumPoints5m.tif</td>\n",
       "      <td>2043215_7272325_EcartZ5m.tif</td>\n",
       "      <td>2043215_7272325_Position5m.tif</td>\n",
       "    </tr>\n",
       "    <tr>\n",
       "      <td>28717</td>\n",
       "      <td>1</td>\n",
       "      <td>28717</td>\n",
       "      <td>117</td>\n",
       "      <td>143</td>\n",
       "      <td>2043215</td>\n",
       "      <td>7272585</td>\n",
       "      <td>2043215_7272585_NumPoints5m.tif</td>\n",
       "      <td>2043215_7272585_EcartZ5m.tif</td>\n",
       "      <td>2043215_7272585_Position5m.tif</td>\n",
       "    </tr>\n",
       "    <tr>\n",
       "      <td>28762</td>\n",
       "      <td>1</td>\n",
       "      <td>28762</td>\n",
       "      <td>162</td>\n",
       "      <td>143</td>\n",
       "      <td>2043215</td>\n",
       "      <td>7272810</td>\n",
       "      <td>2043215_7272810_NumPoints5m.tif</td>\n",
       "      <td>2043215_7272810_EcartZ5m.tif</td>\n",
       "      <td>2043215_7272810_Position5m.tif</td>\n",
       "    </tr>\n",
       "    <tr>\n",
       "      <td>28794</td>\n",
       "      <td>1</td>\n",
       "      <td>28794</td>\n",
       "      <td>194</td>\n",
       "      <td>143</td>\n",
       "      <td>2043215</td>\n",
       "      <td>7272970</td>\n",
       "      <td>2043215_7272970_NumPoints5m.tif</td>\n",
       "      <td>2043215_7272970_EcartZ5m.tif</td>\n",
       "      <td>2043215_7272970_Position5m.tif</td>\n",
       "    </tr>\n",
       "    <tr>\n",
       "      <td>28858</td>\n",
       "      <td>1</td>\n",
       "      <td>28858</td>\n",
       "      <td>58</td>\n",
       "      <td>144</td>\n",
       "      <td>2043220</td>\n",
       "      <td>7272290</td>\n",
       "      <td>2043220_7272290_NumPoints5m.tif</td>\n",
       "      <td>2043220_7272290_EcartZ5m.tif</td>\n",
       "      <td>2043220_7272290_Position5m.tif</td>\n",
       "    </tr>\n",
       "    <tr>\n",
       "      <td>28859</td>\n",
       "      <td>1</td>\n",
       "      <td>28859</td>\n",
       "      <td>59</td>\n",
       "      <td>144</td>\n",
       "      <td>2043220</td>\n",
       "      <td>7272295</td>\n",
       "      <td>2043220_7272295_NumPoints5m.tif</td>\n",
       "      <td>2043220_7272295_EcartZ5m.tif</td>\n",
       "      <td>2043220_7272295_Position5m.tif</td>\n",
       "    </tr>\n",
       "    <tr>\n",
       "      <td>28867</td>\n",
       "      <td>1</td>\n",
       "      <td>28867</td>\n",
       "      <td>67</td>\n",
       "      <td>144</td>\n",
       "      <td>2043220</td>\n",
       "      <td>7272335</td>\n",
       "      <td>2043220_7272335_NumPoints5m.tif</td>\n",
       "      <td>2043220_7272335_EcartZ5m.tif</td>\n",
       "      <td>2043220_7272335_Position5m.tif</td>\n",
       "    </tr>\n",
       "    <tr>\n",
       "      <td>28871</td>\n",
       "      <td>1</td>\n",
       "      <td>28871</td>\n",
       "      <td>71</td>\n",
       "      <td>144</td>\n",
       "      <td>2043220</td>\n",
       "      <td>7272355</td>\n",
       "      <td>2043220_7272355_NumPoints5m.tif</td>\n",
       "      <td>2043220_7272355_EcartZ5m.tif</td>\n",
       "      <td>2043220_7272355_Position5m.tif</td>\n",
       "    </tr>\n",
       "    <tr>\n",
       "      <td>28873</td>\n",
       "      <td>1</td>\n",
       "      <td>28873</td>\n",
       "      <td>73</td>\n",
       "      <td>144</td>\n",
       "      <td>2043220</td>\n",
       "      <td>7272365</td>\n",
       "      <td>2043220_7272365_NumPoints5m.tif</td>\n",
       "      <td>2043220_7272365_EcartZ5m.tif</td>\n",
       "      <td>2043220_7272365_Position5m.tif</td>\n",
       "    </tr>\n",
       "  </tbody>\n",
       "</table>\n",
       "</div>"
      ],
      "text/plain": [
       "       present   NumI  NumY  NumX        X        Y  \\\n",
       "27731        1  27731   131   138  2043190  7272655   \n",
       "27747        1  27747   147   138  2043190  7272735   \n",
       "28103        1  28103   103   140  2043200  7272515   \n",
       "28125        1  28125   125   140  2043200  7272625   \n",
       "28131        1  28131   131   140  2043200  7272655   \n",
       "28193        1  28193   193   140  2043200  7272965   \n",
       "28256        1  28256    56   141  2043205  7272280   \n",
       "28393        1  28393   193   141  2043205  7272965   \n",
       "28463        1  28463    63   142  2043210  7272315   \n",
       "28464        1  28464    64   142  2043210  7272320   \n",
       "28662        1  28662    62   143  2043215  7272310   \n",
       "28665        1  28665    65   143  2043215  7272325   \n",
       "28717        1  28717   117   143  2043215  7272585   \n",
       "28762        1  28762   162   143  2043215  7272810   \n",
       "28794        1  28794   194   143  2043215  7272970   \n",
       "28858        1  28858    58   144  2043220  7272290   \n",
       "28859        1  28859    59   144  2043220  7272295   \n",
       "28867        1  28867    67   144  2043220  7272335   \n",
       "28871        1  28871    71   144  2043220  7272355   \n",
       "28873        1  28873    73   144  2043220  7272365   \n",
       "\n",
       "                               nom_NUM                       nom_ECA  \\\n",
       "27731  2043190_7272655_NumPoints5m.tif  2043190_7272655_EcartZ5m.tif   \n",
       "27747  2043190_7272735_NumPoints5m.tif  2043190_7272735_EcartZ5m.tif   \n",
       "28103  2043200_7272515_NumPoints5m.tif  2043200_7272515_EcartZ5m.tif   \n",
       "28125  2043200_7272625_NumPoints5m.tif  2043200_7272625_EcartZ5m.tif   \n",
       "28131  2043200_7272655_NumPoints5m.tif  2043200_7272655_EcartZ5m.tif   \n",
       "28193  2043200_7272965_NumPoints5m.tif  2043200_7272965_EcartZ5m.tif   \n",
       "28256  2043205_7272280_NumPoints5m.tif  2043205_7272280_EcartZ5m.tif   \n",
       "28393  2043205_7272965_NumPoints5m.tif  2043205_7272965_EcartZ5m.tif   \n",
       "28463  2043210_7272315_NumPoints5m.tif  2043210_7272315_EcartZ5m.tif   \n",
       "28464  2043210_7272320_NumPoints5m.tif  2043210_7272320_EcartZ5m.tif   \n",
       "28662  2043215_7272310_NumPoints5m.tif  2043215_7272310_EcartZ5m.tif   \n",
       "28665  2043215_7272325_NumPoints5m.tif  2043215_7272325_EcartZ5m.tif   \n",
       "28717  2043215_7272585_NumPoints5m.tif  2043215_7272585_EcartZ5m.tif   \n",
       "28762  2043215_7272810_NumPoints5m.tif  2043215_7272810_EcartZ5m.tif   \n",
       "28794  2043215_7272970_NumPoints5m.tif  2043215_7272970_EcartZ5m.tif   \n",
       "28858  2043220_7272290_NumPoints5m.tif  2043220_7272290_EcartZ5m.tif   \n",
       "28859  2043220_7272295_NumPoints5m.tif  2043220_7272295_EcartZ5m.tif   \n",
       "28867  2043220_7272335_NumPoints5m.tif  2043220_7272335_EcartZ5m.tif   \n",
       "28871  2043220_7272355_NumPoints5m.tif  2043220_7272355_EcartZ5m.tif   \n",
       "28873  2043220_7272365_NumPoints5m.tif  2043220_7272365_EcartZ5m.tif   \n",
       "\n",
       "                              nom_POS  \n",
       "27731  2043190_7272655_Position5m.tif  \n",
       "27747  2043190_7272735_Position5m.tif  \n",
       "28103  2043200_7272515_Position5m.tif  \n",
       "28125  2043200_7272625_Position5m.tif  \n",
       "28131  2043200_7272655_Position5m.tif  \n",
       "28193  2043200_7272965_Position5m.tif  \n",
       "28256  2043205_7272280_Position5m.tif  \n",
       "28393  2043205_7272965_Position5m.tif  \n",
       "28463  2043210_7272315_Position5m.tif  \n",
       "28464  2043210_7272320_Position5m.tif  \n",
       "28662  2043215_7272310_Position5m.tif  \n",
       "28665  2043215_7272325_Position5m.tif  \n",
       "28717  2043215_7272585_Position5m.tif  \n",
       "28762  2043215_7272810_Position5m.tif  \n",
       "28794  2043215_7272970_Position5m.tif  \n",
       "28858  2043220_7272290_Position5m.tif  \n",
       "28859  2043220_7272295_Position5m.tif  \n",
       "28867  2043220_7272335_Position5m.tif  \n",
       "28871  2043220_7272355_Position5m.tif  \n",
       "28873  2043220_7272365_Position5m.tif  "
      ]
     },
     "execution_count": 10,
     "metadata": {},
     "output_type": "execute_result"
    }
   ],
   "source": [
    "print(lampes1.shape, lampes0.shape)\n",
    "lampes1.head(240).tail(20)\n"
   ]
  },
  {
   "cell_type": "markdown",
   "metadata": {},
   "source": [
    "## Extraction de(s) image(s) dans un dataframe unique (à partir de imageio)"
   ]
  },
  {
   "cell_type": "code",
   "execution_count": null,
   "metadata": {},
   "outputs": [],
   "source": []
  },
  {
   "cell_type": "code",
   "execution_count": 837,
   "metadata": {
    "ExecuteTime": {
     "end_time": "2020-03-05T08:50:51.173072Z",
     "start_time": "2020-03-05T08:50:51.060997Z"
    }
   },
   "outputs": [
    {
     "name": "stdout",
     "output_type": "stream",
     "text": [
      "M: 1\n",
      "29384 357 352 29032 29384 29384\n",
      "29032 352 29384\n",
      "M: 2\n",
      "29384 357 352 29032 29384 29384\n",
      "29032 352 29384\n",
      "M: 3\n",
      "29384 357 352 29032 29384 29384\n",
      "29032 352 29384\n"
     ]
    }
   ],
   "source": [
    "from keras.preprocessing.image import load_img, save_img\n",
    "from keras.preprocessing.image import img_to_array\n",
    "from keras.preprocessing.image import array_to_img\n",
    "\n",
    "off = 200000\n",
    "if off > 40000:\n",
    "    off = len(liste_1)\n",
    "NN = 0\n",
    "NM = NN + off\n",
    "\n",
    "dal1 = ['nom_NUM', 'nom_ECA', 'nom_POS']\n",
    "dal2 = [DALLE_NUM, DALLE_ECA, DALLE_POS]\n",
    "listes = [liste_1, liste_2, liste_3]\n",
    "data = ['data1', 'data12', 'data3']\n",
    "#### Pour eviter les fichiers manquants\n",
    "# Compare les deux SETS (impossible avec des listes)\n",
    "for m in range(1,4):\n",
    "    print(\"M:\", m)\n",
    "    set_A = set(dal2[m-1] + lampes1[dal1[m-1]])\n",
    "    set_B = set(listes[m-1])\n",
    "    set_C1 = set_A & set_B\n",
    "    set_C2 = set_B - set_A\n",
    "    liste_C = list(set_C2)\n",
    "    liste_extraite = list(liste_C[NN:NM]) + list(set_C1)\n",
    "    #liste_extraite = list(set(list(liste_1[NN:NM]) + list(set_C1)))\n",
    "    print(len(set_B), len(set_A), len(set_C1), len(set_C2), len(liste_1), len(liste_extraite))\n",
    "\n",
    "    test = False\n",
    "    # creation du tenseur resultant ... merge tous les fichiers images\n",
    "    if test:\n",
    "    #  Ne fonctionne pas np.array(load_img(fname)) for fname in list_lamp0\n",
    "        data[m-1] = np.array([np.array(imageio.imread(fname)) for fname in liste_extraite])\n",
    "        data[m-1].shape\n",
    "        fichier = DATA_DIR3 + \"data_LAS_\" + str(dal1[m-1]) + \"_\" + str(off) + \".npy\"\n",
    "        np.save(fichier, data[m-1])\n",
    "\n",
    "    liste_y1 = [ 0 for x in range(len(liste_C[NN:NM]))]\n",
    "    liste_y2 = [ 1 for x in range(len(list(set_C1)))]\n",
    "    liste_y = liste_y1 + liste_y2\n",
    "    print(len(liste_y1), len(liste_y2),len(liste_y))\n"
   ]
  },
  {
   "cell_type": "markdown",
   "metadata": {},
   "source": [
    "### Lecture de TOUS les fichiers\n",
    "5s pour 100 fichiers\n",
    "\n",
    "~45mn ???    pour 40000 fichiers"
   ]
  },
  {
   "cell_type": "markdown",
   "metadata": {},
   "source": [
    "### création de la table de 200-300 colonnes"
   ]
  },
  {
   "cell_type": "code",
   "execution_count": null,
   "metadata": {},
   "outputs": [],
   "source": [
    "#  limitation à XXX valeurs\n",
    "\n",
    "NN = 0\n",
    "NM = NN + off\n",
    "\n",
    "n_row2 =  10   #TODO mettre le produit des dimension de la matrice image\n",
    "n_col2 =  10\n",
    "N2 = n_row2*n_col2  # N=100\n",
    "\n",
    "#################################################\n",
    "#################################################\n",
    "###   TODO ... regarder l'unicité des 2 listes\n",
    "#################################################\n",
    "#################################################\n",
    "\n",
    "### assemble 2 listes (lampadaires totale + NM * valeurs au hazard ... fichiers unique)\n",
    "#list_lamp0 = list(set(lampes0['nom_NUM'][NN:NM] + list(DALLE_NUM + list_lamp1)))\n",
    "list_lamp0 = list(DALLE_NUM + lampes0['nom_NUM'][NN:NM]) + list(DALLE_NUM + lampes1['nom_NUM'])\n",
    "list_lamp0b = list(lampes0['present'][NN:NM]) + list(lampes1['present'])\n",
    "#lamp0 = np.array(list_lamp0b)\n",
    "list_lamp1 = list(DALLE_NUM + lampes1['nom_NUM'])\n",
    "list_lamp2 = list(DALLE_ECA + lampes1['nom_ECA'])\n",
    "print(list_lamp0[:2])\n",
    "print(list_lamp0b[:2])\n",
    "#print(list_lamp1[:2])\n",
    "#print(list_lamp2[:2])\n",
    "print(len(list_lamp0), len(list_lamp0b), len(list_lamp1), len(list_lamp2))\n",
    "\n",
    "i=0\n",
    "for n,fich1 in enumerate(list_lamp0):\n",
    "    if n%500 == 0:\n",
    "        print(n, list_lamp0b[n])\n",
    "    fich2 = fich1.replace(\"NumPoints5m\", \"EcartZ5m\")\n",
    "    #fich3 = fich1.replace(\"NumPoints5m\", \"Position5m\")\n",
    "    #fiche3 = DALLE_POS+fich3\n",
    "    \n",
    "# fichiers dalles manquantes ???? ... pourquoi ?????\n",
    "    if os.path.exists(fich1) and os.path.exists(fich2):    # Manque des fichiers sur les 40000\n",
    "        i += 1\n",
    "        if i%1000 == 0:\n",
    "            print(n, i, list_lamp0b[n])\n",
    "        data1 = np.reshape(imageio.imread(fich1), N2) #.flatten()\n",
    "        data1T = np.expand_dims(data1, axis=0)\n",
    "        data2 = np.reshape(imageio.imread(fich2), N2)\n",
    "        data2T = np.expand_dims(data2, axis=0)\n",
    "        #data3 = np.reshape(imageio.imread(fiche3), N2)\n",
    "        #data3T = np.expand_dims(data3, axis=0)\n",
    "        #print(i, data1T.shape, data2T.shape, data3T.shape)\n",
    "        df_int1 = pd.DataFrame(data1T, index=[i])  #, index=indices)\n",
    "        df_int2 = pd.DataFrame(data2T, index=[i])  \n",
    "        #df_int3 = pd.DataFrame(data3T, index=[i])\n",
    "        # MERGE \n",
    "        #df_inta = df_int1.merge(df_int2, left_index=True, right_index=True, suffixes=('_num', '_h'))\n",
    "        #df_int = df_inta.merge(df_int3, left_index=True, right_index=True)\n",
    "        df_int = df_int1.merge(df_int2, left_index=True, right_index=True, suffixes=('_num', '_h'))\n",
    "        df_int['label'] = list_lamp0b[n]    #\n",
    "        if i == 1:\n",
    "            #print(dataT)\n",
    "            df3 = df_int\n",
    "        else:\n",
    "            df3 = pd.concat([df3, df_int])\n",
    "    else:\n",
    "        pass     #print(fiche1, fich2)\n",
    "if i > 0:\n",
    "    print(n+1, i, n+1-i, df3.shape, df3.shape[0]/i)\n",
    "\n",
    "# change pour des entiers et pas des nombres flottant \n",
    "for n in range(0,N2):\n",
    "    df3 = df3.astype({str(n)+'_num': 'int8'}, copy=False)\n",
    "#print(df3.dtypes)\n",
    "df3\n",
    "\n",
    "#  TODO rajouter une colonne de présence ( comparer avec SORTIE :  0 ou 1)\n",
    "#####################################################\n",
    "#  remplir une colonne de zéro\n",
    "#  puis boucler sur les N=357 valeurs pour indiquer la présence d'un lampadaire\n",
    "#####################################################\n",
    "#  puis faire 100 sorties 0-1 pour  les 100 positions"
   ]
  },
  {
   "cell_type": "code",
   "execution_count": null,
   "metadata": {},
   "outputs": [],
   "source": [
    "df3_total = df3.copy()\n",
    "\n",
    "test = df3_total.describe()[:3].T\n",
    "test['val'] = (test['count'] * test['mean'])\n",
    "test"
   ]
  },
  {
   "cell_type": "code",
   "execution_count": null,
   "metadata": {},
   "outputs": [],
   "source": [
    "test = False\n",
    "# Sauvegarde du fichier total \n",
    "\n",
    "if test:\n",
    "    fileSAVE = DATA_DIR3 + \"donnees_LAS_1k_1k.csv\"\n",
    "    #fileSAVE = DATA_DIR3 + \"donnees_IMAC_LAS_1k_1k.csv\"\n",
    "    df3.to_csv(fileSAVE, index=False)\n",
    "\n",
    "print(df3_total.shape)"
   ]
  },
  {
   "cell_type": "code",
   "execution_count": null,
   "metadata": {},
   "outputs": [],
   "source": []
  },
  {
   "cell_type": "markdown",
   "metadata": {},
   "source": [
    "# KERAS - TENSORFLOW"
   ]
  },
  {
   "cell_type": "markdown",
   "metadata": {},
   "source": [
    "## Lecture du fichier de données"
   ]
  },
  {
   "cell_type": "code",
   "execution_count": 311,
   "metadata": {
    "ExecuteTime": {
     "end_time": "2020-03-03T08:28:53.094812Z",
     "start_time": "2020-03-03T08:28:52.273162Z"
    }
   },
   "outputs": [
    {
     "name": "stdout",
     "output_type": "stream",
     "text": [
      "<module 'tensorflow_core.keras.datasets' from 'C:\\\\Users\\\\STG3841\\\\AppData\\\\Local\\\\Continuum\\\\anaconda3\\\\lib\\\\site-packages\\\\tensorflow_core\\\\python\\\\keras\\\\api\\\\_v2\\\\keras\\\\datasets\\\\__init__.py'>\n",
      "(29736, 201)\n"
     ]
    },
    {
     "data": {
      "text/html": [
       "<div>\n",
       "<style scoped>\n",
       "    .dataframe tbody tr th:only-of-type {\n",
       "        vertical-align: middle;\n",
       "    }\n",
       "\n",
       "    .dataframe tbody tr th {\n",
       "        vertical-align: top;\n",
       "    }\n",
       "\n",
       "    .dataframe thead th {\n",
       "        text-align: right;\n",
       "    }\n",
       "</style>\n",
       "<table border=\"1\" class=\"dataframe\">\n",
       "  <thead>\n",
       "    <tr style=\"text-align: right;\">\n",
       "      <th></th>\n",
       "      <th>0_num</th>\n",
       "      <th>1_num</th>\n",
       "      <th>2_num</th>\n",
       "      <th>3_num</th>\n",
       "      <th>4_num</th>\n",
       "      <th>5_num</th>\n",
       "      <th>6_num</th>\n",
       "      <th>7_num</th>\n",
       "      <th>8_num</th>\n",
       "      <th>9_num</th>\n",
       "      <th>...</th>\n",
       "      <th>91_h</th>\n",
       "      <th>92_h</th>\n",
       "      <th>93_h</th>\n",
       "      <th>94_h</th>\n",
       "      <th>95_h</th>\n",
       "      <th>96_h</th>\n",
       "      <th>97_h</th>\n",
       "      <th>98_h</th>\n",
       "      <th>99_h</th>\n",
       "      <th>label</th>\n",
       "    </tr>\n",
       "  </thead>\n",
       "  <tbody>\n",
       "    <tr>\n",
       "      <td>0</td>\n",
       "      <td>0</td>\n",
       "      <td>0</td>\n",
       "      <td>0</td>\n",
       "      <td>0</td>\n",
       "      <td>0</td>\n",
       "      <td>0</td>\n",
       "      <td>0</td>\n",
       "      <td>6</td>\n",
       "      <td>3</td>\n",
       "      <td>1</td>\n",
       "      <td>...</td>\n",
       "      <td>0.55</td>\n",
       "      <td>0.00</td>\n",
       "      <td>0.00</td>\n",
       "      <td>0.00</td>\n",
       "      <td>0.00</td>\n",
       "      <td>0.00</td>\n",
       "      <td>0.0</td>\n",
       "      <td>0.0</td>\n",
       "      <td>0.0</td>\n",
       "      <td>0</td>\n",
       "    </tr>\n",
       "    <tr>\n",
       "      <td>1</td>\n",
       "      <td>0</td>\n",
       "      <td>0</td>\n",
       "      <td>0</td>\n",
       "      <td>0</td>\n",
       "      <td>4</td>\n",
       "      <td>3</td>\n",
       "      <td>0</td>\n",
       "      <td>0</td>\n",
       "      <td>0</td>\n",
       "      <td>0</td>\n",
       "      <td>...</td>\n",
       "      <td>0.00</td>\n",
       "      <td>0.00</td>\n",
       "      <td>0.00</td>\n",
       "      <td>0.00</td>\n",
       "      <td>0.00</td>\n",
       "      <td>0.00</td>\n",
       "      <td>0.0</td>\n",
       "      <td>0.3</td>\n",
       "      <td>0.0</td>\n",
       "      <td>0</td>\n",
       "    </tr>\n",
       "    <tr>\n",
       "      <td>2</td>\n",
       "      <td>1</td>\n",
       "      <td>2</td>\n",
       "      <td>1</td>\n",
       "      <td>1</td>\n",
       "      <td>0</td>\n",
       "      <td>1</td>\n",
       "      <td>0</td>\n",
       "      <td>0</td>\n",
       "      <td>0</td>\n",
       "      <td>0</td>\n",
       "      <td>...</td>\n",
       "      <td>0.00</td>\n",
       "      <td>0.00</td>\n",
       "      <td>0.00</td>\n",
       "      <td>0.67</td>\n",
       "      <td>0.17</td>\n",
       "      <td>0.58</td>\n",
       "      <td>0.0</td>\n",
       "      <td>0.0</td>\n",
       "      <td>0.0</td>\n",
       "      <td>0</td>\n",
       "    </tr>\n",
       "    <tr>\n",
       "      <td>3</td>\n",
       "      <td>0</td>\n",
       "      <td>0</td>\n",
       "      <td>0</td>\n",
       "      <td>0</td>\n",
       "      <td>0</td>\n",
       "      <td>0</td>\n",
       "      <td>0</td>\n",
       "      <td>0</td>\n",
       "      <td>0</td>\n",
       "      <td>0</td>\n",
       "      <td>...</td>\n",
       "      <td>0.17</td>\n",
       "      <td>0.35</td>\n",
       "      <td>0.77</td>\n",
       "      <td>0.00</td>\n",
       "      <td>0.00</td>\n",
       "      <td>0.00</td>\n",
       "      <td>0.0</td>\n",
       "      <td>0.0</td>\n",
       "      <td>0.0</td>\n",
       "      <td>0</td>\n",
       "    </tr>\n",
       "    <tr>\n",
       "      <td>4</td>\n",
       "      <td>0</td>\n",
       "      <td>0</td>\n",
       "      <td>0</td>\n",
       "      <td>0</td>\n",
       "      <td>0</td>\n",
       "      <td>0</td>\n",
       "      <td>0</td>\n",
       "      <td>0</td>\n",
       "      <td>0</td>\n",
       "      <td>0</td>\n",
       "      <td>...</td>\n",
       "      <td>0.00</td>\n",
       "      <td>0.00</td>\n",
       "      <td>0.00</td>\n",
       "      <td>0.00</td>\n",
       "      <td>0.00</td>\n",
       "      <td>0.00</td>\n",
       "      <td>0.0</td>\n",
       "      <td>0.0</td>\n",
       "      <td>0.0</td>\n",
       "      <td>0</td>\n",
       "    </tr>\n",
       "  </tbody>\n",
       "</table>\n",
       "<p>5 rows × 201 columns</p>\n",
       "</div>"
      ],
      "text/plain": [
       "   0_num  1_num  2_num  3_num  4_num  5_num  6_num  7_num  8_num  9_num  ...  \\\n",
       "0      0      0      0      0      0      0      0      6      3      1  ...   \n",
       "1      0      0      0      0      4      3      0      0      0      0  ...   \n",
       "2      1      2      1      1      0      1      0      0      0      0  ...   \n",
       "3      0      0      0      0      0      0      0      0      0      0  ...   \n",
       "4      0      0      0      0      0      0      0      0      0      0  ...   \n",
       "\n",
       "   91_h  92_h  93_h  94_h  95_h  96_h  97_h  98_h  99_h  label  \n",
       "0  0.55  0.00  0.00  0.00  0.00  0.00   0.0   0.0   0.0      0  \n",
       "1  0.00  0.00  0.00  0.00  0.00  0.00   0.0   0.3   0.0      0  \n",
       "2  0.00  0.00  0.00  0.67  0.17  0.58   0.0   0.0   0.0      0  \n",
       "3  0.17  0.35  0.77  0.00  0.00  0.00   0.0   0.0   0.0      0  \n",
       "4  0.00  0.00  0.00  0.00  0.00  0.00   0.0   0.0   0.0      0  \n",
       "\n",
       "[5 rows x 201 columns]"
      ]
     },
     "execution_count": 311,
     "metadata": {},
     "output_type": "execute_result"
    }
   ],
   "source": [
    "print(tf.keras.datasets)\n",
    "if platform.system() == 'Darwin' and platform.release() == '18.0.0':\n",
    "    df4 = pd.read_csv(DATA_DIR3 + \"donnees_IMAC_LAS_1k_1k.csv\")\n",
    "else:\n",
    "    df4 = pd.read_csv(DATA_DIR3 + \"donnees_LAS_1k_1k.csv\")\n",
    "print(df4.shape)\n",
    "df4.head()"
   ]
  },
  {
   "cell_type": "raw",
   "metadata": {},
   "source": [
    "###########################################\n",
    "### exemple chargement d'un jeu de données\n",
    "###########################################\n",
    "\n",
    "def load_data(path='boston_housing.npz', test_split=0.2, seed=113):\n",
    "  \"\"\"Loads the Boston Housing dataset.\n",
    "\n",
    "  Arguments:\n",
    "      path: path where to cache the dataset locally   (relative to ~/.keras/datasets).\n",
    "      test_split: fraction of the data to reserve as test set.\n",
    "      seed: Random seed for shuffling the data before computing the test split.\n",
    "\n",
    "  Returns:\n",
    "      Tuple of Numpy arrays: `(x_train, y_train), (x_test, y_test)`.\n",
    "  \"\"\"\n",
    "  assert 0 <= test_split < 1\n",
    "  origin_folder = 'https://storage.googleapis.com/tensorflow/tf-keras-datasets/'\n",
    "  path = get_file(path, origin=origin_folder + 'boston_housing.npz',\n",
    "      file_hash='f553886a1f8d56431e820c5b82552d9d95cfcb96d1e678153f8839538947dff5')\n",
    "  with np.load(path) as f:\n",
    "    x = f['x']\n",
    "    y = f['y']\n",
    "\n",
    "  np.random.seed(seed)\n",
    "  indices = np.arange(len(x))\n",
    "  np.random.shuffle(indices)\n",
    "  x = x[indices]\n",
    "  y = y[indices]\n",
    "\n",
    "  x_train = np.array(x[:int(len(x) * (1 - test_split))])\n",
    "  y_train = np.array(y[:int(len(x) * (1 - test_split))])\n",
    "  x_test = np.array(x[int(len(x) * (1 - test_split)):])\n",
    "  y_test = np.array(y[int(len(x) * (1 - test_split)):])\n",
    "  return (x_train, y_train), (x_test, y_test)\n",
    "  \n",
    "  \n",
    "  maxi = 10.  # 255 for RGB ?? densité ou hauteur ??\n",
    "X_train /= maxi\n",
    "X_test /= maxi\n"
   ]
  },
  {
   "cell_type": "markdown",
   "metadata": {},
   "source": [
    "### Changement de la classe en categorial"
   ]
  },
  {
   "cell_type": "code",
   "execution_count": 380,
   "metadata": {
    "ExecuteTime": {
     "end_time": "2020-03-03T09:35:04.757499Z",
     "start_time": "2020-03-03T09:35:04.566915Z"
    }
   },
   "outputs": [],
   "source": [
    "from sklearn.model_selection import train_test_split \n",
    "from keras.utils import to_categorical\n",
    "\n",
    "# Charge et split les données\n",
    "X = df4.iloc[:,:-1]\n",
    "y = df4.iloc[:,-1]\n",
    "y_binary = to_categorical(y)"
   ]
  },
  {
   "cell_type": "markdown",
   "metadata": {},
   "source": [
    "### Séparation Train - Test"
   ]
  },
  {
   "cell_type": "code",
   "execution_count": 425,
   "metadata": {
    "ExecuteTime": {
     "end_time": "2020-03-03T09:55:06.076173Z",
     "start_time": "2020-03-03T09:55:05.569541Z"
    }
   },
   "outputs": [
    {
     "name": "stdout",
     "output_type": "stream",
     "text": [
      "(23788, 200) (23788, 2) (5948, 200) (5948, 2) (29736, 2) (29736,)\n"
     ]
    }
   ],
   "source": [
    "train_data, test_data, train_labels, test_labels = train_test_split(\n",
    "    X, y_binary, test_size=0.2, random_state=42, stratify=y_binary)\n",
    "#    X, y, test_size=0.2, random_state=42, stratify=y)\n",
    "\n",
    "print(train_data.shape, train_labels.shape, test_data.shape, test_labels.shape, y_binary.shape, y.shape)"
   ]
  },
  {
   "cell_type": "markdown",
   "metadata": {
    "ExecuteTime": {
     "end_time": "2020-02-27T11:18:54.716836Z",
     "start_time": "2020-02-27T11:18:54.653211Z"
    }
   },
   "source": [
    "## Création d'un Modèle Réseau de Neurone \"SIMPLE\""
   ]
  },
  {
   "cell_type": "raw",
   "metadata": {
    "ExecuteTime": {
     "end_time": "2020-03-03T08:46:00.479683Z",
     "start_time": "2020-03-03T08:45:24.419540Z"
    }
   },
   "source": [
    "Nomb_Input = 200\n",
    "\n",
    "M = 64    # 512-256-128-64-32 ? \n",
    "epochs = 20\n",
    "batch_size = 64\n",
    "num_class = 2\n",
    "\n",
    "# ou model = Sequential() + model.add(Dense(N)) + model.add(Dropout(0.5)) + model.add(Activation('softmax'))\n",
    "model0 = Sequential([\n",
    "    Dense(M, activation='relu', input_shape=(Nomb_Input,train_data.shape(1))),\n",
    "    Dropout(0.5),\n",
    "    Dense(M, activation='relu'),\n",
    "    Dense(M, activation='relu'), #model.add(Dropout(0.2))\n",
    "    Dropout(0.2),\n",
    "#    Dense(num_class, activation='softmax')   #  ou sigmoid\n",
    "    Dense(num_class, activation='sigmoid')  #, output_dim=1)\n",
    "])\n",
    "\n",
    "#    https://keras.io/losses \n",
    "#  loss fonctions: categorical_crossentropy, sparse_categorical_crossentropy, mean_squared_error ... etc\n",
    "#  optimizer: 'sgd', 'adam', keras.optimizers.SGD(lr=0.01, momentum=0.9, nesterov=True)\n",
    "\n",
    "model0.compile(loss=\"binary_crossentropy\", optimizer='adam',\n",
    " metrics=['msle', 'accuracy', 'mean_squared_error', 'binary_accuracy', 'categorical_accuracy'])\n",
    "# NOT loss=\"categorical_crossentropy\",'mean_squared_error'\n",
    "# NOT optimizer='sgd' \n",
    "# NOT metrics=['accuracy', 'mse', 'acc', 'categorical_accuracy',\n",
    "# 'sparse_categorical_accuracy', 'top_k_categorical_accuracy',\n",
    "# 'sparse_top_k_categorical_accuracy', 'cosine_proximity', 'clone_metric','clone_metrics']\n",
    "# ['binary_accuracy', 'fmeasure', 'precision', 'recall'])\n",
    "# Print with verbose=2 ???\n",
    "\n",
    "model0.summary()\n",
    "\n",
    "history0 = model0.fit(train_data, train_labels, validation_split=0.33, verbose=2, epochs=epochs, batch_size=batch_size)\n"
   ]
  },
  {
   "cell_type": "code",
   "execution_count": 414,
   "metadata": {
    "ExecuteTime": {
     "end_time": "2020-03-03T09:43:11.313003Z",
     "start_time": "2020-03-03T09:43:11.307001Z"
    }
   },
   "outputs": [
    {
     "name": "stdout",
     "output_type": "stream",
     "text": [
      "train (23788, 200) (5948, 200)\n",
      "(23788, 2)\n"
     ]
    }
   ],
   "source": [
    "print(\"train\", train_data.shape, test_data.shape)\n",
    "print(train_labels.shape)"
   ]
  },
  {
   "cell_type": "code",
   "execution_count": 426,
   "metadata": {
    "ExecuteTime": {
     "end_time": "2020-03-03T09:56:47.101963Z",
     "start_time": "2020-03-03T09:55:42.347540Z"
    }
   },
   "outputs": [
    {
     "name": "stdout",
     "output_type": "stream",
     "text": [
      "Model: \"sequential_89\"\n",
      "_________________________________________________________________\n",
      "Layer (type)                 Output Shape              Param #   \n",
      "=================================================================\n",
      "conv1d_43 (Conv1D)           (None, 198, 32)           128       \n",
      "_________________________________________________________________\n",
      "max_pooling1d_27 (MaxPooling (None, 99, 32)            0         \n",
      "_________________________________________________________________\n",
      "flatten_74 (Flatten)         (None, 3168)              0         \n",
      "_________________________________________________________________\n",
      "dense_162 (Dense)            (None, 50)                158450    \n",
      "_________________________________________________________________\n",
      "dense_163 (Dense)            (None, 2)                 102       \n",
      "=================================================================\n",
      "Total params: 158,680\n",
      "Trainable params: 158,680\n",
      "Non-trainable params: 0\n",
      "_________________________________________________________________\n",
      "Train on 15937 samples, validate on 7851 samples\n",
      "Epoch 1/10\n",
      " - 7s - loss: 0.1266 - accuracy: 0.9752 - val_loss: 0.1055 - val_accuracy: 0.9773\n",
      "Epoch 2/10\n",
      " - 6s - loss: 0.1035 - accuracy: 0.9759 - val_loss: 0.1021 - val_accuracy: 0.9776\n",
      "Epoch 3/10\n",
      " - 6s - loss: 0.0945 - accuracy: 0.9766 - val_loss: 0.1001 - val_accuracy: 0.9778\n",
      "Epoch 4/10\n",
      " - 6s - loss: 0.0869 - accuracy: 0.9776 - val_loss: 0.0978 - val_accuracy: 0.9783\n",
      "Epoch 5/10\n",
      " - 6s - loss: 0.0780 - accuracy: 0.9789 - val_loss: 0.0978 - val_accuracy: 0.9783\n",
      "Epoch 6/10\n",
      " - 6s - loss: 0.0697 - accuracy: 0.9802 - val_loss: 0.0967 - val_accuracy: 0.9787\n",
      "Epoch 7/10\n",
      " - 6s - loss: 0.0618 - accuracy: 0.9814 - val_loss: 0.0939 - val_accuracy: 0.9801\n",
      "Epoch 8/10\n",
      " - 6s - loss: 0.0539 - accuracy: 0.9823 - val_loss: 0.1009 - val_accuracy: 0.9797\n",
      "Epoch 9/10\n",
      " - 6s - loss: 0.0480 - accuracy: 0.9840 - val_loss: 0.1029 - val_accuracy: 0.9782\n",
      "Epoch 10/10\n",
      " - 6s - loss: 0.0404 - accuracy: 0.9853 - val_loss: 0.1081 - val_accuracy: 0.9806\n"
     ]
    }
   ],
   "source": [
    "#Nomb_Input = 200\n",
    "fil_M = 32    # 512-256-128-64-32 ?\n",
    "kernel = 3\n",
    "epochs = 10\n",
    "batch_size = 32\n",
    "n_dens = 50  # 100 ou 200?\n",
    "\n",
    "num_class = 2   # ou ce\n",
    "\n",
    "# redimensionnement nécesaire pour la convolution\n",
    "train_data = np.expand_dims(train_data, axis=2)\n",
    "#   ou  ?  train_data.reshape(train_data.shape[0], train_data.shape[1], 1)  et input_shape=(train_data.shape[1], 1)\n",
    "test_data = np.expand_dims(test_data, axis=2)\n",
    "\n",
    "model0 = Sequential()\n",
    "model0.add(Conv1D(fil_M, kernel, activation='relu', input_shape=(train_data.shape[1],train_data.shape[2])))\n",
    "#model0.add(Conv1D(fil_M, kernel, activation='relu'))\n",
    "#model0.add(Dropout(0.5))\n",
    "model0.add(MaxPooling1D(pool_size=(2)))\n",
    "# model0.add(BatchNormalization())\n",
    "model0.add(Flatten())        \n",
    "model0.add(Dense(n_dens, activation='relu'))\n",
    "model0.add(Dense(num_class, activation='sigmoid'))\n",
    "\n",
    "model0.compile(loss=\"binary_crossentropy\", optimizer='adam', metrics=['accuracy'])\n",
    "\n",
    "model0.summary()\n",
    "\n",
    "history0 = model0.fit(train_data, train_labels, validation_split=0.33, verbose=2, epochs=epochs, batch_size=batch_size)\n"
   ]
  },
  {
   "cell_type": "code",
   "execution_count": 427,
   "metadata": {
    "ExecuteTime": {
     "end_time": "2020-03-03T09:56:48.657553Z",
     "start_time": "2020-03-03T09:56:48.515638Z"
    }
   },
   "outputs": [
    {
     "data": {
      "image/png": "[encoded data removed]",
      "text/plain": [
       "<Figure size 432x288 with 1 Axes>"
      ]
     },
     "metadata": {
      "needs_background": "light"
     },
     "output_type": "display_data"
    }
   ],
   "source": [
    "history0 = history0b\n",
    "#history0.history\n",
    "# plot metrics\n",
    "test = False\n",
    "if test:\n",
    "    _ = plt.plot(history0.history['msle'])\n",
    "    _ = plt.plot(history0.history['mean_squared_error'])\n",
    "    _ = plt.plot(history0.history['binary_accuracy'])\n",
    "    _ = plt.plot(history0.history['categorical_accuracy'])\n",
    "_ = plt.plot(history0.history['accuracy'])\n",
    "_ = plt.show()"
   ]
  },
  {
   "cell_type": "code",
   "execution_count": 428,
   "metadata": {
    "ExecuteTime": {
     "end_time": "2020-03-03T09:56:50.054730Z",
     "start_time": "2020-03-03T09:56:50.046237Z"
    }
   },
   "outputs": [
    {
     "name": "stdout",
     "output_type": "stream",
     "text": [
      "Model: \"sequential_89\"\n",
      "_________________________________________________________________\n",
      "Layer (type)                 Output Shape              Param #   \n",
      "=================================================================\n",
      "conv1d_43 (Conv1D)           (None, 198, 32)           128       \n",
      "_________________________________________________________________\n",
      "max_pooling1d_27 (MaxPooling (None, 99, 32)            0         \n",
      "_________________________________________________________________\n",
      "flatten_74 (Flatten)         (None, 3168)              0         \n",
      "_________________________________________________________________\n",
      "dense_162 (Dense)            (None, 50)                158450    \n",
      "_________________________________________________________________\n",
      "dense_163 (Dense)            (None, 2)                 102       \n",
      "=================================================================\n",
      "Total params: 158,680\n",
      "Trainable params: 158,680\n",
      "Non-trainable params: 0\n",
      "_________________________________________________________________\n"
     ]
    }
   ],
   "source": [
    "model0.summary()\n",
    "\n",
    "# model.save_weights('file.h5')\n",
    "\n",
    "# avec le model construit + les poids\n",
    "# model.load_weights('file.h5')\n"
   ]
  },
  {
   "cell_type": "markdown",
   "metadata": {},
   "source": [
    "### Figures"
   ]
  },
  {
   "cell_type": "code",
   "execution_count": 429,
   "metadata": {
    "ExecuteTime": {
     "end_time": "2020-03-03T09:56:51.782049Z",
     "start_time": "2020-03-03T09:56:51.460931Z"
    }
   },
   "outputs": [
    {
     "name": "stdout",
     "output_type": "stream",
     "text": [
      "dict_keys(['val_loss', 'val_accuracy', 'loss', 'accuracy'])\n"
     ]
    },
    {
     "data": {
      "image/png": "[encoded data removed]",
      "text/plain": [
       "<Figure size 1440x288 with 2 Axes>"
      ]
     },
     "metadata": {
      "needs_background": "light"
     },
     "output_type": "display_data"
    }
   ],
   "source": [
    "print(history0.history.keys())\n",
    "coul = [\"blue\", \"lightblue\", \"orange\", \"red\"]\n",
    "\n",
    "fig = plt.figure(figsize=(20,4))\n",
    "_ = plt.subplot(1,2,1)\n",
    "for i in range(0,4,2):\n",
    "    _ = plt.plot(list(history0.history.values())[i],'k-o', color=coul[i])\n",
    "_ = plt.subplot(1,2,2)\n",
    "for j in range(1,4,2):\n",
    "    _ = plt.plot(list(history0.history.values())[j],'k-o', color=coul[j])"
   ]
  },
  {
   "cell_type": "code",
   "execution_count": 430,
   "metadata": {
    "ExecuteTime": {
     "end_time": "2020-03-03T09:56:53.203004Z",
     "start_time": "2020-03-03T09:56:53.194472Z"
    }
   },
   "outputs": [
    {
     "name": "stdout",
     "output_type": "stream",
     "text": [
      "dict_keys(['val_loss', 'val_accuracy', 'loss', 'accuracy'])\n",
      "0.9812125563621521\n",
      "0.98666626\n",
      "0.11107659498861892\n",
      "0.0358407639080684\n"
     ]
    }
   ],
   "source": [
    "print(history0.history.keys())\n",
    "print(history0.history['val_accuracy'][-1])\n",
    "print(history0.history['accuracy'][-1])\n",
    "print(history0.history['val_loss'][-1])\n",
    "print(history0.history['loss'][-1])\n"
   ]
  },
  {
   "cell_type": "code",
   "execution_count": 431,
   "metadata": {
    "ExecuteTime": {
     "end_time": "2020-03-03T09:56:56.859133Z",
     "start_time": "2020-03-03T09:56:54.587581Z"
    }
   },
   "outputs": [
    {
     "name": "stdout",
     "output_type": "stream",
     "text": [
      "Test loss: 0.10286678752198655\n",
      "Test accuracy: 0.9783120155334473\n",
      "[0 0 0 0 0 0 0 0 0 0]\n",
      "[0. 0. 0. 0. 0. 0. 0. 0. 0. 0.]\n"
     ]
    },
    {
     "data": {
      "image/png": "[encoded data removed]",
      "text/plain": [
       "<Figure size 864x432 with 2 Axes>"
      ]
     },
     "metadata": {
      "needs_background": "light"
     },
     "output_type": "display_data"
    }
   ],
   "source": [
    "# RESULTATS\n",
    "score = model0.evaluate(test_data, test_labels, verbose=0, batch_size=batch_size)\n",
    "print('Test loss:', score[0])\n",
    "print('Test accuracy:', score[1])\n",
    "\n",
    "# predictions\n",
    "classes = model0.predict(test_data, batch_size=batch_size)\n",
    "predictions = model0.predict(test_data[:10])\n",
    "print(np.argmax(predictions, axis=1))\n",
    "print(test_labels[:10,1])\n",
    "\n",
    "# PLOTS\n",
    "fig = plt.figure(figsize=(12,6))\n",
    "_ = plt.subplot(2,1,1)\n",
    "_ = plt.plot(history0.history['accuracy'])\n",
    "_ = plt.plot(history0.history['val_accuracy'])\n",
    "_ = plt.title('model accuracy')\n",
    "_ = plt.xlabel('epoch')\n",
    "_ = plt.ylabel('accuracy')\n",
    "_ = plt.legend(['train','test'], loc='lower right')\n",
    "\n",
    "_ = plt.subplot(2,1,2)\n",
    "_ = plt.plot(history0.history['loss'])\n",
    "_ = plt.plot(history0.history['val_loss'])\n",
    "_ = plt.title('model loss')\n",
    "_ = plt.xlabel('epoch')\n",
    "_ = plt.ylabel('loss')\n",
    "_ = plt.legend(['train','test'], loc='upper right')\n",
    "\n",
    "_ = plt.tight_layout()\n",
    "_ = fig"
   ]
  },
  {
   "cell_type": "markdown",
   "metadata": {},
   "source": [
    "### Matrice de Confusion"
   ]
  },
  {
   "cell_type": "code",
   "execution_count": 432,
   "metadata": {
    "ExecuteTime": {
     "end_time": "2020-03-03T09:57:03.157966Z",
     "start_time": "2020-03-03T09:56:58.261876Z"
    }
   },
   "outputs": [
    {
     "name": "stdout",
     "output_type": "stream",
     "text": [
      "Echantillon Test: 5948\n",
      "Echantillon Train: 23788\n",
      "Prédit       0.0       1.0\n",
      "Reel                      \n",
      "0.0     0.996556  0.141844\n",
      "1.0     0.018770  0.226950\n",
      "Predit   0.0  1.0   All\n",
      "Reel                   \n",
      "0.0     5787   20  5807\n",
      "1.0      109   32   141\n",
      "All     5896   52  5948\n"
     ]
    },
    {
     "data": {
      "image/png": "[encoded data removed]",
      "text/plain": [
       "<Figure size 432x288 with 2 Axes>"
      ]
     },
     "metadata": {
      "needs_background": "light"
     },
     "output_type": "display_data"
    },
    {
     "name": "stdout",
     "output_type": "stream",
     "text": [
      "Predit       0.0       1.0  All\n",
      "Reel                           \n",
      "0.0     0.498278  0.001722  0.5\n",
      "1.0     0.386525  0.113475  0.5\n",
      "All     0.495629  0.004371  0.5\n"
     ]
    },
    {
     "data": {
      "image/png": "[encoded data removed]",
      "text/plain": [
       "<Figure size 432x288 with 2 Axes>"
      ]
     },
     "metadata": {
      "needs_background": "light"
     },
     "output_type": "display_data"
    },
    {
     "data": {
      "text/plain": [
       "<matplotlib.axes._subplots.AxesSubplot at 0x8545af9a88>"
      ]
     },
     "execution_count": 432,
     "metadata": {},
     "output_type": "execute_result"
    },
    {
     "data": {
      "image/png": "[encoded data removed]",
      "text/plain": [
       "<Figure size 360x360 with 2 Axes>"
      ]
     },
     "metadata": {
      "needs_background": "light"
     },
     "output_type": "display_data"
    }
   ],
   "source": [
    "from sklearn.metrics import confusion_matrix\n",
    "#       pip install scikit-plot\n",
    "import scikitplot as skplt\n",
    "\n",
    "# transforme les matrice en listes d'entiers binaires (0 ou 1)\n",
    "Y11 = pd.DataFrame(model0.predict(test_data)[:,1:])[0].round(0).tolist()\n",
    "Y10 = pd.DataFrame(test_labels[:,1:])[0].tolist()\n",
    "print(\"Echantillon Test:\", len(Y11))\n",
    "confusion_matrix(Y11, Y10)\n",
    "\n",
    "Y01 = pd.DataFrame(model0.predict(train_data)[:,1:])[0].round(0).tolist()\n",
    "Y00 = pd.DataFrame(train_labels[:,1:])[0].tolist()\n",
    "print(\"Echantillon Train:\", len(Y01))\n",
    "confusion_matrix(Y01, Y00)\n",
    "\n",
    "y_reel = pd.Series(Y10, name='Reel')\n",
    "y_pred = pd.Series(Y11, name='Prédit')\n",
    "\n",
    "df_confusion = pd.crosstab(y_reel, y_pred)\n",
    "\n",
    "df_conf_norm = df_confusion / df_confusion.sum(axis=1)\n",
    "print(df_conf_norm)\n",
    "\n",
    "df_confusion = pd.crosstab(y_reel, y_pred, rownames=['Reel'], colnames=['Predit'], margins=True)\n",
    "print(df_confusion)\n",
    "_ = sns.heatmap(df_confusion, annot=True)\n",
    "plt.show()\n",
    "\n",
    "df_conf_norm = df_confusion.div(df_confusion.sum(axis=1), axis=0)\n",
    "print(df_conf_norm)\n",
    "_ = sns.heatmap(df_conf_norm, annot=True)\n",
    "plt.show()\n",
    "\n",
    "######### NOT WORKING ???\n",
    "#from pandas_ml import ConfusionMatrix\n",
    "#confusion_matrix = ConfusionMatrix(y_reel, y_pred)\n",
    "#confusion_matrix.plot()\n",
    "#plt.show()\n",
    "#confusion_matrix.plot(normalized=True)\n",
    "#plt.show()\n",
    "\n",
    "#binary_confusion_matrix = ConfusionMatrix(y_true, y_pred)\n",
    "#print(\"Binary confusion matrix:\\n%s\" % binary_confusion_matrix)\n",
    "#print(binary_confusion_matrix.TP) # TN, FP, FN, ...\n",
    "#binary_confusion_matrix.plot(normalized=False)\n",
    "#binary_confusion_matrix.plot(normalized=True, backend='seaborn')\n",
    "#plt.show()\n",
    "#confusion_matrix.print_stats()\n",
    "#confusion_matrix.stats()\n",
    "##########\n",
    "\n",
    "\n",
    "skplt.metrics.plot_confusion_matrix(y_reel, y_pred, figsize=(5,5))"
   ]
  },
  {
   "cell_type": "code",
   "execution_count": 433,
   "metadata": {
    "ExecuteTime": {
     "end_time": "2020-03-03T09:57:09.611516Z",
     "start_time": "2020-03-03T09:57:04.593820Z"
    }
   },
   "outputs": [
    {
     "name": "stdout",
     "output_type": "stream",
     "text": [
      "(5948, 4) (23788, 4)\n",
      "(5807, 4) (141, 4) (23225, 4) (563, 4)\n",
      "\n",
      " ERREURS: 0_true     0.0\n",
      "0_pred     0.0\n",
      "0_pred2    0.0\n",
      "diff       0.0\n",
      "dtype: float64 0_true      0.000000\n",
      "0_pred     14.764087\n",
      "0_pred2    20.000000\n",
      "diff      -20.000000\n",
      "dtype: float64 0_true     0.0\n",
      "0_pred     0.0\n",
      "0_pred2    0.0\n",
      "diff       0.0\n",
      "dtype: float64 0_true      0.000000\n",
      "0_pred     56.550104\n",
      "0_pred2     0.000000\n",
      "diff        0.000000\n",
      "dtype: float64\n",
      "\n",
      " LOSS 0.021687962340282446\n"
     ]
    },
    {
     "data": {
      "image/png": "[encoded data removed]",
      "text/plain": [
       "<Figure size 360x360 with 2 Axes>"
      ]
     },
     "metadata": {
      "needs_background": "light"
     },
     "output_type": "display_data"
    },
    {
     "data": {
      "image/png": "[encoded data removed]",
      "text/plain": [
       "<Figure size 432x288 with 2 Axes>"
      ]
     },
     "metadata": {
      "needs_background": "light"
     },
     "output_type": "display_data"
    }
   ],
   "source": [
    "import scikitplot as skplt\n",
    "\n",
    "def mse_loss(y_true, y_pred):\n",
    "    # y_true and y_pred are numpy arrays of the same length.\n",
    "    return ((y_true - y_pred) ** 2).mean()\n",
    "\n",
    "def tab_result(df_a, df_b):\n",
    "    # Extrait les matrices binaires en 1 seule colonne\n",
    "    y_pred = pd.DataFrame(model0.predict(df_b)[:,1:])\n",
    "    y_true = pd.DataFrame(df_a[:,1:])\n",
    "    # création de la table\n",
    "    dy = y_true.merge(y_pred, left_index=True, right_index=True, suffixes=('_true', '_pred'))\n",
    "    dy['0_true'] = dy['0_true'].astype(int)\n",
    "    dy['0_pred2'] = dy['0_pred'].round(0)   #arrondi à l'entier le + proche\n",
    "    dy['diff'] = dy['0_true'] - dy['0_pred2']\n",
    "    return dy\n",
    "\n",
    "def lampe_results(df1, df2):\n",
    "    df_10 = df1[df1['0_true'] == 0]\n",
    "    df_11 = dy1[dy1['0_true'] == 1]\n",
    "    df_20 = df2[df2['0_true'] == 0]\n",
    "    df_21 = dy2[dy2['0_true'] == 1]\n",
    "    return (df_10, df_11, df_20, df_21)\n",
    "\n",
    "dy1 = tab_result(test_labels, test_data)\n",
    "dy2 = tab_result(train_labels, train_data)\n",
    "dy1.head(2)\n",
    "dy2.head(2)\n",
    "df_test_1, df_test_0, df_train_1, df_train_0 = lampe_results(dy1, dy2)\n",
    "\n",
    "print(dy1.shape, dy2.shape)\n",
    "print(df_test_1.shape, df_test_0.shape, df_train_1.shape, df_train_0.shape)\n",
    "#print(df_test_0.describe())\n",
    "true_pos1 = df_test_1[(df_test_1['0_pred2'] == 1) & (df_test_1['0_true'] == 1)].sum()\n",
    "fals_pos1 = df_test_1[(df_test_1['0_pred2'] == 1) & (df_test_1['0_true'] == 0)].sum()\n",
    "fals_neg1 = df_test_1[(df_test_1['0_pred2'] == 0) & (df_test_1['0_true'] == 1)].sum()\n",
    "true_neg1 = df_test_1[(df_test_1['0_pred2'] == 0) & (df_test_1['0_true'] == 0)].sum()\n",
    "print(\"\\n ERREURS:\", true_pos1, fals_pos1, fals_neg1, true_neg1)\n",
    "#####################################\n",
    "# sensitivity-recall : TPR = TP/P = TP / (TP + FN)\n",
    "# specificity-select : TNR = TN/N = TN / (TN + FP)\n",
    "# balance : = (TPR + TNR) / 2\n",
    "# precision          : TP / (TP + FP)\n",
    "\n",
    "# accuracy    : ACC = (TP + TN) / total\n",
    "# FI score    :  2 * TP / (2 TP + FP + FN) == 2 / (1/precision + 1/recall)\n",
    "#####################################\n",
    "\n",
    "\n",
    "# calcul pour LOSS du Mean Squared Error\n",
    "print(\"\\n LOSS\", mse_loss(y_reel, y_pred))\n",
    "\n",
    "_ = skplt.metrics.plot_confusion_matrix(y_reel, y_pred, figsize=(5,5))\n",
    "plt.show()\n",
    "\n",
    "confusion_matrix(dy1['0_true'], dy1['0_pred2'])\n",
    "sns.heatmap(df_confusion, annot=True)\n",
    "plt.show()"
   ]
  },
  {
   "cell_type": "code",
   "execution_count": null,
   "metadata": {},
   "outputs": [],
   "source": []
  },
  {
   "cell_type": "raw",
   "metadata": {
    "ExecuteTime": {
     "end_time": "2020-03-01T17:20:31.996953Z",
     "start_time": "2020-03-01T17:20:31.897149Z"
    }
   },
   "source": [
    "y_true2 = [x for x in test_labels if x != 0]\n",
    "y_pred2 = model0.predict(test_data)\n",
    "print(len(y_true2), len(y_pred2))\n",
    "print(mse_loss(y_true2, y_pred2))\n",
    "\n",
    "egaux = [(a,b) for a in np.ndarray.tolist(y_true2) for b in np.ndarray.tolist(y_pred2) if a == b]\n",
    "differents = [(a,b) for a in np.ndarray.tolist(y_true2) for b in np.ndarray.tolist(y_pred2) if a == b]\n",
    "print(len(y_true2), len(egaux), len(differents))\n",
    "\n",
    "from scipy import stats\n",
    "stats.describe(y_true2)"
   ]
  },
  {
   "cell_type": "code",
   "execution_count": null,
   "metadata": {},
   "outputs": [],
   "source": []
  },
  {
   "cell_type": "markdown",
   "metadata": {},
   "source": [
    "# KERAS :  images bi-dimensionelles"
   ]
  },
  {
   "cell_type": "markdown",
   "metadata": {},
   "source": [
    "### test séparation "
   ]
  },
  {
   "cell_type": "raw",
   "metadata": {
    "ExecuteTime": {
     "end_time": "2020-03-04T09:58:42.234733Z",
     "start_time": "2020-03-04T09:58:42.226727Z"
    }
   },
   "source": [
    "import torch\n",
    "from torch.utils.data import Dataset\n",
    "\n",
    "class MyDataset(Dataset):\n",
    "    \n",
    "    def __init__(self, x, y):\n",
    "        self.x = x\n",
    "        self.y = y\n",
    "    \n",
    "    def __getitem__(self, index):\n",
    "        sample = {\n",
    "            'feature': torch.tensor([self.x[index]], dtype=torch.float32), \n",
    "            'label': torch.tensor([self.y[index]], dtype=torch.long)}\n",
    "        return sample\n",
    "    \n",
    "    def __len__(self):\n",
    "        return len(self.x)"
   ]
  },
  {
   "cell_type": "raw",
   "metadata": {
    "ExecuteTime": {
     "end_time": "2020-03-03T16:30:08.035402Z",
     "start_time": "2020-03-03T16:30:07.964357Z"
    }
   },
   "source": [
    "dataset = MyDataset(data , data_y)\n",
    "sample = len(dataset)\n",
    "print('length: ', sample)\n",
    "pour = 75\n",
    "X1 = int(pour/100 * sample)\n",
    "X2 = sample - X1\n",
    "for i in range(len(dataset)):\n",
    "    #pp.pprint(dataset[i])\n",
    "    pass\n",
    "\n",
    "from torch.utils.data import random_split\n",
    "train, test = random_split(dataset, [X1, X2])\n",
    "\n",
    "x_train = np.empty((2, len(train)))\n",
    "y_train = np.empty((len(train)))\n",
    "for i in range(len(train)):\n",
    "    #pp.pprint(train[i])\n",
    "    x_train[:,i] = train[i]['feature'].numpy().reshape(2)\n",
    "    y_train[i] = train[i]['label'][0].numpy()\n",
    "\n",
    "print('test length: ', len(test))    \n",
    "x_test = np.empty((2, len(test)))\n",
    "y_test = np.empty((len(test)))\n",
    "for i in range(len(test)):\n",
    "    #pp.pprint(test[i])\n",
    "    x_test[:,i] = test[i]['feature'].numpy().reshape(2)\n",
    "    y_test[i] = test[i]['label'][0].numpy()\n",
    "    \n",
    "plt.scatter(x_train[0,:], x_train[1,:], c=y_train, cmap=cm.bwr, alpha=0.4)\n",
    "plt.scatter(x_test[0,:], x_test[1,:], c=y_test, cmap=cm.PiYG, alpha=0.4)\n",
    "plt.xlabel('$x_1$')\n",
    "plt.ylabel('$x_2$')\n",
    "plt.xlim(-3,10)\n",
    "plt.ylim(-3,10)"
   ]
  },
  {
   "cell_type": "markdown",
   "metadata": {},
   "source": [
    "### tests"
   ]
  },
  {
   "cell_type": "raw",
   "metadata": {
    "ExecuteTime": {
     "end_time": "2020-03-03T13:19:31.879677Z",
     "start_time": "2020-03-03T13:14:22.169214Z"
    }
   },
   "source": [
    "# TROP gourmant en ressources et trop lent \n",
    "\n",
    "print(data.shape)\n",
    "df = pd.DataFrame(tf.reshape(data, [data.shape[0],data.shape[1]*data.shape[2]]))\n",
    "#df = pd.DataFrame(tf.reshape(data, [552,200]))\n",
    "print(df.shape)\n",
    "# sns.pairplot(df)\n",
    "# sns.heatmap(df.coor(), annot=True)\n",
    "df.head()\n",
    "data[118:120,:2,0:]"
   ]
  },
  {
   "cell_type": "code",
   "execution_count": null,
   "metadata": {},
   "outputs": [],
   "source": []
  },
  {
   "cell_type": "markdown",
   "metadata": {},
   "source": [
    "## Lecture des 3 fichiers de données"
   ]
  },
  {
   "cell_type": "code",
   "execution_count": 867,
   "metadata": {
    "ExecuteTime": {
     "end_time": "2020-03-05T09:41:33.758258Z",
     "start_time": "2020-03-05T09:41:33.627168Z"
    }
   },
   "outputs": [
    {
     "name": "stdout",
     "output_type": "stream",
     "text": [
      "(29384, 10, 10) (29384, 10, 10) (29384, 10, 10)\n",
      "(29384, 10, 10, 1) (29384, 10, 10, 1) (29384, 10, 10, 1)\n",
      "(29384, 10, 10, 3)\n",
      "29384\n",
      "Fichiers utilisés:\n",
      " C:\\Users\\STG3841\\Mes Documents (local)\\travail\\data_LAS_nom_NUM_29384.npy  et\n",
      " C:\\Users\\STG3841\\Mes Documents (local)\\travail\\data_LAS_nom_ECA_29384.npy \n",
      " (29384, 10, 10, 3)\n",
      "Classification utiliseé:\n",
      " C:\\Users\\STG3841\\Mes Documents (local)\\travail\\data_LAS_nom_POS_29384.npy \n",
      " (29384, 100)\n"
     ]
    }
   ],
   "source": [
    "fichier1  = DATA_DIR3 + \"data_LAS_nom_NUM_\" + str(off) + \".npy\"\n",
    "data1     = np.load(fichier1)\n",
    "fichier2  = DATA_DIR3 + \"data_LAS_nom_ECA_\" + str(off) + \".npy\"\n",
    "data2     = np.load(fichier2)\n",
    "fichierY = DATA_DIR3 + \"data_LAS_nom_POS_\" + str(off) + \".npy\"\n",
    "data3    = np.load(fichierY)\n",
    "#print(type(data1), type(data2))\n",
    "print(data1.shape, data2.shape, data3.shape)\n",
    "\n",
    "# concatenation de NUM et POS\n",
    "data14 = tf.expand_dims(data1, 3)\n",
    "data24 = tf.expand_dims(data2, 3)\n",
    "data34 = tf.expand_dims(data1, 3)\n",
    "print(data14.shape, data24.shape, data34.shape)\n",
    "\n",
    "#data = tf.concat([data14, data24], 3)\n",
    "data = tf.concat([data14, data24, data34], 3)\n",
    "print(data.shape)\n",
    "\n",
    "#data = data1\n",
    "taille = data.shape[0]\n",
    "print(taille)\n",
    "data_y   = np.load(fichierY).reshape(taille,100)\n",
    "\n",
    "print(\"Fichiers utilisés:\\n\", fichier1, \" et\\n\", fichier2, \"\\n\", data.shape)\n",
    "print(\"Classification utiliseé:\\n\", fichierY, \"\\n\", data_y.shape)\n",
    "\n",
    "Nomb_Input = data.shape"
   ]
  },
  {
   "cell_type": "code",
   "execution_count": 870,
   "metadata": {
    "ExecuteTime": {
     "end_time": "2020-03-05T09:57:55.255443Z",
     "start_time": "2020-03-05T09:57:55.070318Z"
    }
   },
   "outputs": [
    {
     "name": "stdout",
     "output_type": "stream",
     "text": [
      "(29384, 102) 354.0\n",
      "29384 29033 348 3\n"
     ]
    },
    {
     "data": {
      "text/html": [
       "<div>\n",
       "<style scoped>\n",
       "    .dataframe tbody tr th:only-of-type {\n",
       "        vertical-align: middle;\n",
       "    }\n",
       "\n",
       "    .dataframe tbody tr th {\n",
       "        vertical-align: top;\n",
       "    }\n",
       "\n",
       "    .dataframe thead th {\n",
       "        text-align: right;\n",
       "    }\n",
       "</style>\n",
       "<table border=\"1\" class=\"dataframe\">\n",
       "  <thead>\n",
       "    <tr style=\"text-align: right;\">\n",
       "      <th></th>\n",
       "      <th>0</th>\n",
       "      <th>1</th>\n",
       "      <th>2</th>\n",
       "      <th>3</th>\n",
       "      <th>4</th>\n",
       "      <th>5</th>\n",
       "      <th>6</th>\n",
       "      <th>7</th>\n",
       "      <th>8</th>\n",
       "      <th>9</th>\n",
       "      <th>...</th>\n",
       "      <th>92</th>\n",
       "      <th>93</th>\n",
       "      <th>94</th>\n",
       "      <th>95</th>\n",
       "      <th>96</th>\n",
       "      <th>97</th>\n",
       "      <th>98</th>\n",
       "      <th>99</th>\n",
       "      <th>lamp</th>\n",
       "      <th>lamp2</th>\n",
       "    </tr>\n",
       "  </thead>\n",
       "  <tbody>\n",
       "    <tr>\n",
       "      <td>29064</td>\n",
       "      <td>0.0</td>\n",
       "      <td>0.0</td>\n",
       "      <td>0.0</td>\n",
       "      <td>0.0</td>\n",
       "      <td>0.0</td>\n",
       "      <td>0.0</td>\n",
       "      <td>0.0</td>\n",
       "      <td>0.0</td>\n",
       "      <td>0.0</td>\n",
       "      <td>0.0</td>\n",
       "      <td>...</td>\n",
       "      <td>0.0</td>\n",
       "      <td>0.0</td>\n",
       "      <td>0.0</td>\n",
       "      <td>0.0</td>\n",
       "      <td>0.0</td>\n",
       "      <td>0.0</td>\n",
       "      <td>0.0</td>\n",
       "      <td>0.0</td>\n",
       "      <td>2.0</td>\n",
       "      <td>NaN</td>\n",
       "    </tr>\n",
       "    <tr>\n",
       "      <td>29089</td>\n",
       "      <td>0.0</td>\n",
       "      <td>0.0</td>\n",
       "      <td>0.0</td>\n",
       "      <td>0.0</td>\n",
       "      <td>1.0</td>\n",
       "      <td>0.0</td>\n",
       "      <td>0.0</td>\n",
       "      <td>0.0</td>\n",
       "      <td>0.0</td>\n",
       "      <td>0.0</td>\n",
       "      <td>...</td>\n",
       "      <td>0.0</td>\n",
       "      <td>0.0</td>\n",
       "      <td>0.0</td>\n",
       "      <td>0.0</td>\n",
       "      <td>0.0</td>\n",
       "      <td>0.0</td>\n",
       "      <td>0.0</td>\n",
       "      <td>0.0</td>\n",
       "      <td>2.0</td>\n",
       "      <td>NaN</td>\n",
       "    </tr>\n",
       "    <tr>\n",
       "      <td>29265</td>\n",
       "      <td>0.0</td>\n",
       "      <td>0.0</td>\n",
       "      <td>0.0</td>\n",
       "      <td>0.0</td>\n",
       "      <td>0.0</td>\n",
       "      <td>0.0</td>\n",
       "      <td>0.0</td>\n",
       "      <td>0.0</td>\n",
       "      <td>0.0</td>\n",
       "      <td>0.0</td>\n",
       "      <td>...</td>\n",
       "      <td>0.0</td>\n",
       "      <td>0.0</td>\n",
       "      <td>0.0</td>\n",
       "      <td>0.0</td>\n",
       "      <td>0.0</td>\n",
       "      <td>0.0</td>\n",
       "      <td>0.0</td>\n",
       "      <td>0.0</td>\n",
       "      <td>2.0</td>\n",
       "      <td>NaN</td>\n",
       "    </tr>\n",
       "  </tbody>\n",
       "</table>\n",
       "<p>3 rows × 102 columns</p>\n",
       "</div>"
      ],
      "text/plain": [
       "         0    1    2    3    4    5    6    7    8    9  ...   92   93   94  \\\n",
       "29064  0.0  0.0  0.0  0.0  0.0  0.0  0.0  0.0  0.0  0.0  ...  0.0  0.0  0.0   \n",
       "29089  0.0  0.0  0.0  0.0  1.0  0.0  0.0  0.0  0.0  0.0  ...  0.0  0.0  0.0   \n",
       "29265  0.0  0.0  0.0  0.0  0.0  0.0  0.0  0.0  0.0  0.0  ...  0.0  0.0  0.0   \n",
       "\n",
       "        95   96   97   98   99  lamp  lamp2  \n",
       "29064  0.0  0.0  0.0  0.0  0.0   2.0    NaN  \n",
       "29089  0.0  0.0  0.0  0.0  0.0   2.0    NaN  \n",
       "29265  0.0  0.0  0.0  0.0  0.0   2.0    NaN  \n",
       "\n",
       "[3 rows x 102 columns]"
      ]
     },
     "execution_count": 870,
     "metadata": {},
     "output_type": "execute_result"
    }
   ],
   "source": [
    "# somme sur toutes les rangées ou colonnes   présence de valeurs SUPERIEURES A 1 (3x à 2 !!!)\n",
    "df_Y = pd.DataFrame(data_y)\n",
    "df_Y['lamp'] = df_Y.sum(axis=1)\n",
    "df_Y['lamp2'] = df_Y[:-1].sum(axis=0)\n",
    "print(df_Y.shape, df_Y['lamp'].sum())\n",
    "print(df_Y.shape[0], len(df_Y[df_Y['lamp'] == 0]), df_Y[df_Y['lamp'] == 1].shape[0], df_Y[df_Y['lamp'] > 1].shape[0])\n",
    "df_Y[df_Y['lamp'] == 2]"
   ]
  },
  {
   "cell_type": "code",
   "execution_count": 866,
   "metadata": {
    "ExecuteTime": {
     "end_time": "2020-03-05T09:40:29.702052Z",
     "start_time": "2020-03-05T09:40:29.571963Z"
    }
   },
   "outputs": [
    {
     "name": "stdout",
     "output_type": "stream",
     "text": [
      "(29384, 112) (40000, 9) (29384, 102)\n",
      "0          0\n",
      "1          0\n",
      "2          0\n",
      "3          0\n",
      "4          0\n",
      "          ..\n",
      "Y          0\n",
      "nom_NUM    0\n",
      "nom_ECA    0\n",
      "nom_POS    0\n",
      "diff       0\n",
      "Length: 112, dtype: int64\n",
      "0          240\n",
      "1          240\n",
      "2          240\n",
      "3          240\n",
      "4          240\n",
      "          ... \n",
      "Y          240\n",
      "nom_NUM    240\n",
      "nom_ECA    240\n",
      "nom_POS    240\n",
      "diff       240\n",
      "Length: 112, dtype: int64\n",
      "0          28801\n",
      "1          28801\n",
      "2          28801\n",
      "3          28801\n",
      "4          28801\n",
      "           ...  \n",
      "Y          28801\n",
      "nom_NUM    28801\n",
      "nom_ECA    28801\n",
      "nom_POS    28801\n",
      "diff       28801\n",
      "Length: 112, dtype: int64\n",
      "0          340\n",
      "1          340\n",
      "2          340\n",
      "3          340\n",
      "4          340\n",
      "          ... \n",
      "Y          340\n",
      "nom_NUM    340\n",
      "nom_ECA    340\n",
      "nom_POS    340\n",
      "diff       340\n",
      "Length: 112, dtype: int64\n",
      "0          3\n",
      "1          3\n",
      "2          3\n",
      "3          3\n",
      "4          3\n",
      "          ..\n",
      "Y          3\n",
      "nom_NUM    3\n",
      "nom_ECA    3\n",
      "nom_POS    3\n",
      "diff       3\n",
      "Length: 112, dtype: int64\n"
     ]
    },
    {
     "data": {
      "text/plain": [
       "count    29384.000000\n",
       "mean        -0.003607\n",
       "std          0.141897\n",
       "min         -2.000000\n",
       "25%          0.000000\n",
       "50%          0.000000\n",
       "75%          0.000000\n",
       "max          1.000000\n",
       "Name: diff, dtype: float64"
      ]
     },
     "execution_count": 866,
     "metadata": {},
     "output_type": "execute_result"
    }
   ],
   "source": [
    "# lampes0 autre DataFrame avec les indice de présence des lampadaires ... CORRECTS ? ... pas cohérent\n",
    "df_tot = df_Y.merge(lampes0, left_index=True, right_index=True)\n",
    "df_tot['diff'] = df_tot['present'] - df_tot['lamp']\n",
    "print(df_tot.shape, lampes0.shape,df_Y.shape )\n",
    "\n",
    "print(df_tot[df_tot['diff'] == 2].count(axis=0))\n",
    "print(df_tot[df_tot['diff'] == 1].count(axis=0))\n",
    "print(df_tot[df_tot['diff'] == 0].count(axis=0))\n",
    "print(df_tot[df_tot['diff'] == -1].count(axis=0))\n",
    "print(df_tot[df_tot['diff'] == -2].count(axis=0))\n",
    "df_tot['diff'].describe()\n"
   ]
  },
  {
   "cell_type": "code",
   "execution_count": 865,
   "metadata": {
    "ExecuteTime": {
     "end_time": "2020-03-05T09:40:26.664407Z",
     "start_time": "2020-03-05T09:40:26.631384Z"
    }
   },
   "outputs": [
    {
     "data": {
      "text/html": [
       "<div>\n",
       "<style scoped>\n",
       "    .dataframe tbody tr th:only-of-type {\n",
       "        vertical-align: middle;\n",
       "    }\n",
       "\n",
       "    .dataframe tbody tr th {\n",
       "        vertical-align: top;\n",
       "    }\n",
       "\n",
       "    .dataframe thead th {\n",
       "        text-align: right;\n",
       "    }\n",
       "</style>\n",
       "<table border=\"1\" class=\"dataframe\">\n",
       "  <thead>\n",
       "    <tr style=\"text-align: right;\">\n",
       "      <th></th>\n",
       "      <th>0</th>\n",
       "      <th>1</th>\n",
       "      <th>2</th>\n",
       "      <th>3</th>\n",
       "      <th>4</th>\n",
       "      <th>5</th>\n",
       "      <th>6</th>\n",
       "      <th>7</th>\n",
       "      <th>8</th>\n",
       "      <th>9</th>\n",
       "      <th>...</th>\n",
       "      <th>present</th>\n",
       "      <th>NumI</th>\n",
       "      <th>NumY</th>\n",
       "      <th>NumX</th>\n",
       "      <th>X</th>\n",
       "      <th>Y</th>\n",
       "      <th>nom_NUM</th>\n",
       "      <th>nom_ECA</th>\n",
       "      <th>nom_POS</th>\n",
       "      <th>diff</th>\n",
       "    </tr>\n",
       "  </thead>\n",
       "  <tbody>\n",
       "    <tr>\n",
       "      <td>52</td>\n",
       "      <td>0.0</td>\n",
       "      <td>0.0</td>\n",
       "      <td>0.0</td>\n",
       "      <td>0.0</td>\n",
       "      <td>0.0</td>\n",
       "      <td>0.0</td>\n",
       "      <td>0.0</td>\n",
       "      <td>0.0</td>\n",
       "      <td>0.0</td>\n",
       "      <td>0.0</td>\n",
       "      <td>...</td>\n",
       "      <td>1</td>\n",
       "      <td>52</td>\n",
       "      <td>52</td>\n",
       "      <td>0</td>\n",
       "      <td>2042500</td>\n",
       "      <td>7272260</td>\n",
       "      <td>2042500_7272260_NumPoints5m.tif</td>\n",
       "      <td>2042500_7272260_EcartZ5m.tif</td>\n",
       "      <td>2042500_7272260_Position5m.tif</td>\n",
       "      <td>1.0</td>\n",
       "    </tr>\n",
       "    <tr>\n",
       "      <td>92</td>\n",
       "      <td>0.0</td>\n",
       "      <td>0.0</td>\n",
       "      <td>0.0</td>\n",
       "      <td>0.0</td>\n",
       "      <td>0.0</td>\n",
       "      <td>0.0</td>\n",
       "      <td>0.0</td>\n",
       "      <td>0.0</td>\n",
       "      <td>0.0</td>\n",
       "      <td>0.0</td>\n",
       "      <td>...</td>\n",
       "      <td>1</td>\n",
       "      <td>92</td>\n",
       "      <td>92</td>\n",
       "      <td>0</td>\n",
       "      <td>2042500</td>\n",
       "      <td>7272460</td>\n",
       "      <td>2042500_7272460_NumPoints5m.tif</td>\n",
       "      <td>2042500_7272460_EcartZ5m.tif</td>\n",
       "      <td>2042500_7272460_Position5m.tif</td>\n",
       "      <td>1.0</td>\n",
       "    </tr>\n",
       "    <tr>\n",
       "      <td>170</td>\n",
       "      <td>0.0</td>\n",
       "      <td>0.0</td>\n",
       "      <td>0.0</td>\n",
       "      <td>0.0</td>\n",
       "      <td>0.0</td>\n",
       "      <td>0.0</td>\n",
       "      <td>0.0</td>\n",
       "      <td>0.0</td>\n",
       "      <td>0.0</td>\n",
       "      <td>0.0</td>\n",
       "      <td>...</td>\n",
       "      <td>1</td>\n",
       "      <td>170</td>\n",
       "      <td>170</td>\n",
       "      <td>0</td>\n",
       "      <td>2042500</td>\n",
       "      <td>7272850</td>\n",
       "      <td>2042500_7272850_NumPoints5m.tif</td>\n",
       "      <td>2042500_7272850_EcartZ5m.tif</td>\n",
       "      <td>2042500_7272850_Position5m.tif</td>\n",
       "      <td>1.0</td>\n",
       "    </tr>\n",
       "    <tr>\n",
       "      <td>249</td>\n",
       "      <td>0.0</td>\n",
       "      <td>0.0</td>\n",
       "      <td>0.0</td>\n",
       "      <td>0.0</td>\n",
       "      <td>0.0</td>\n",
       "      <td>0.0</td>\n",
       "      <td>0.0</td>\n",
       "      <td>0.0</td>\n",
       "      <td>0.0</td>\n",
       "      <td>0.0</td>\n",
       "      <td>...</td>\n",
       "      <td>1</td>\n",
       "      <td>249</td>\n",
       "      <td>49</td>\n",
       "      <td>1</td>\n",
       "      <td>2042505</td>\n",
       "      <td>7272245</td>\n",
       "      <td>2042505_7272245_NumPoints5m.tif</td>\n",
       "      <td>2042505_7272245_EcartZ5m.tif</td>\n",
       "      <td>2042505_7272245_Position5m.tif</td>\n",
       "      <td>1.0</td>\n",
       "    </tr>\n",
       "    <tr>\n",
       "      <td>281</td>\n",
       "      <td>0.0</td>\n",
       "      <td>0.0</td>\n",
       "      <td>0.0</td>\n",
       "      <td>0.0</td>\n",
       "      <td>0.0</td>\n",
       "      <td>0.0</td>\n",
       "      <td>0.0</td>\n",
       "      <td>0.0</td>\n",
       "      <td>0.0</td>\n",
       "      <td>0.0</td>\n",
       "      <td>...</td>\n",
       "      <td>1</td>\n",
       "      <td>281</td>\n",
       "      <td>81</td>\n",
       "      <td>1</td>\n",
       "      <td>2042505</td>\n",
       "      <td>7272405</td>\n",
       "      <td>2042505_7272405_NumPoints5m.tif</td>\n",
       "      <td>2042505_7272405_EcartZ5m.tif</td>\n",
       "      <td>2042505_7272405_Position5m.tif</td>\n",
       "      <td>1.0</td>\n",
       "    </tr>\n",
       "    <tr>\n",
       "      <td>...</td>\n",
       "      <td>...</td>\n",
       "      <td>...</td>\n",
       "      <td>...</td>\n",
       "      <td>...</td>\n",
       "      <td>...</td>\n",
       "      <td>...</td>\n",
       "      <td>...</td>\n",
       "      <td>...</td>\n",
       "      <td>...</td>\n",
       "      <td>...</td>\n",
       "      <td>...</td>\n",
       "      <td>...</td>\n",
       "      <td>...</td>\n",
       "      <td>...</td>\n",
       "      <td>...</td>\n",
       "      <td>...</td>\n",
       "      <td>...</td>\n",
       "      <td>...</td>\n",
       "      <td>...</td>\n",
       "      <td>...</td>\n",
       "      <td>...</td>\n",
       "    </tr>\n",
       "    <tr>\n",
       "      <td>28858</td>\n",
       "      <td>0.0</td>\n",
       "      <td>0.0</td>\n",
       "      <td>0.0</td>\n",
       "      <td>0.0</td>\n",
       "      <td>0.0</td>\n",
       "      <td>0.0</td>\n",
       "      <td>0.0</td>\n",
       "      <td>0.0</td>\n",
       "      <td>0.0</td>\n",
       "      <td>0.0</td>\n",
       "      <td>...</td>\n",
       "      <td>1</td>\n",
       "      <td>28858</td>\n",
       "      <td>58</td>\n",
       "      <td>144</td>\n",
       "      <td>2043220</td>\n",
       "      <td>7272290</td>\n",
       "      <td>2043220_7272290_NumPoints5m.tif</td>\n",
       "      <td>2043220_7272290_EcartZ5m.tif</td>\n",
       "      <td>2043220_7272290_Position5m.tif</td>\n",
       "      <td>1.0</td>\n",
       "    </tr>\n",
       "    <tr>\n",
       "      <td>28859</td>\n",
       "      <td>0.0</td>\n",
       "      <td>0.0</td>\n",
       "      <td>0.0</td>\n",
       "      <td>0.0</td>\n",
       "      <td>0.0</td>\n",
       "      <td>0.0</td>\n",
       "      <td>0.0</td>\n",
       "      <td>0.0</td>\n",
       "      <td>0.0</td>\n",
       "      <td>0.0</td>\n",
       "      <td>...</td>\n",
       "      <td>1</td>\n",
       "      <td>28859</td>\n",
       "      <td>59</td>\n",
       "      <td>144</td>\n",
       "      <td>2043220</td>\n",
       "      <td>7272295</td>\n",
       "      <td>2043220_7272295_NumPoints5m.tif</td>\n",
       "      <td>2043220_7272295_EcartZ5m.tif</td>\n",
       "      <td>2043220_7272295_Position5m.tif</td>\n",
       "      <td>1.0</td>\n",
       "    </tr>\n",
       "    <tr>\n",
       "      <td>28867</td>\n",
       "      <td>0.0</td>\n",
       "      <td>0.0</td>\n",
       "      <td>0.0</td>\n",
       "      <td>0.0</td>\n",
       "      <td>0.0</td>\n",
       "      <td>0.0</td>\n",
       "      <td>0.0</td>\n",
       "      <td>0.0</td>\n",
       "      <td>0.0</td>\n",
       "      <td>0.0</td>\n",
       "      <td>...</td>\n",
       "      <td>1</td>\n",
       "      <td>28867</td>\n",
       "      <td>67</td>\n",
       "      <td>144</td>\n",
       "      <td>2043220</td>\n",
       "      <td>7272335</td>\n",
       "      <td>2043220_7272335_NumPoints5m.tif</td>\n",
       "      <td>2043220_7272335_EcartZ5m.tif</td>\n",
       "      <td>2043220_7272335_Position5m.tif</td>\n",
       "      <td>1.0</td>\n",
       "    </tr>\n",
       "    <tr>\n",
       "      <td>28871</td>\n",
       "      <td>0.0</td>\n",
       "      <td>0.0</td>\n",
       "      <td>0.0</td>\n",
       "      <td>0.0</td>\n",
       "      <td>0.0</td>\n",
       "      <td>0.0</td>\n",
       "      <td>0.0</td>\n",
       "      <td>0.0</td>\n",
       "      <td>0.0</td>\n",
       "      <td>0.0</td>\n",
       "      <td>...</td>\n",
       "      <td>1</td>\n",
       "      <td>28871</td>\n",
       "      <td>71</td>\n",
       "      <td>144</td>\n",
       "      <td>2043220</td>\n",
       "      <td>7272355</td>\n",
       "      <td>2043220_7272355_NumPoints5m.tif</td>\n",
       "      <td>2043220_7272355_EcartZ5m.tif</td>\n",
       "      <td>2043220_7272355_Position5m.tif</td>\n",
       "      <td>1.0</td>\n",
       "    </tr>\n",
       "    <tr>\n",
       "      <td>28873</td>\n",
       "      <td>0.0</td>\n",
       "      <td>0.0</td>\n",
       "      <td>0.0</td>\n",
       "      <td>0.0</td>\n",
       "      <td>0.0</td>\n",
       "      <td>0.0</td>\n",
       "      <td>0.0</td>\n",
       "      <td>0.0</td>\n",
       "      <td>0.0</td>\n",
       "      <td>0.0</td>\n",
       "      <td>...</td>\n",
       "      <td>1</td>\n",
       "      <td>28873</td>\n",
       "      <td>73</td>\n",
       "      <td>144</td>\n",
       "      <td>2043220</td>\n",
       "      <td>7272365</td>\n",
       "      <td>2043220_7272365_NumPoints5m.tif</td>\n",
       "      <td>2043220_7272365_EcartZ5m.tif</td>\n",
       "      <td>2043220_7272365_Position5m.tif</td>\n",
       "      <td>1.0</td>\n",
       "    </tr>\n",
       "  </tbody>\n",
       "</table>\n",
       "<p>240 rows × 112 columns</p>\n",
       "</div>"
      ],
      "text/plain": [
       "         0    1    2    3    4    5    6    7    8    9  ...  present   NumI  \\\n",
       "52     0.0  0.0  0.0  0.0  0.0  0.0  0.0  0.0  0.0  0.0  ...        1     52   \n",
       "92     0.0  0.0  0.0  0.0  0.0  0.0  0.0  0.0  0.0  0.0  ...        1     92   \n",
       "170    0.0  0.0  0.0  0.0  0.0  0.0  0.0  0.0  0.0  0.0  ...        1    170   \n",
       "249    0.0  0.0  0.0  0.0  0.0  0.0  0.0  0.0  0.0  0.0  ...        1    249   \n",
       "281    0.0  0.0  0.0  0.0  0.0  0.0  0.0  0.0  0.0  0.0  ...        1    281   \n",
       "...    ...  ...  ...  ...  ...  ...  ...  ...  ...  ...  ...      ...    ...   \n",
       "28858  0.0  0.0  0.0  0.0  0.0  0.0  0.0  0.0  0.0  0.0  ...        1  28858   \n",
       "28859  0.0  0.0  0.0  0.0  0.0  0.0  0.0  0.0  0.0  0.0  ...        1  28859   \n",
       "28867  0.0  0.0  0.0  0.0  0.0  0.0  0.0  0.0  0.0  0.0  ...        1  28867   \n",
       "28871  0.0  0.0  0.0  0.0  0.0  0.0  0.0  0.0  0.0  0.0  ...        1  28871   \n",
       "28873  0.0  0.0  0.0  0.0  0.0  0.0  0.0  0.0  0.0  0.0  ...        1  28873   \n",
       "\n",
       "       NumY  NumX        X        Y                          nom_NUM  \\\n",
       "52       52     0  2042500  7272260  2042500_7272260_NumPoints5m.tif   \n",
       "92       92     0  2042500  7272460  2042500_7272460_NumPoints5m.tif   \n",
       "170     170     0  2042500  7272850  2042500_7272850_NumPoints5m.tif   \n",
       "249      49     1  2042505  7272245  2042505_7272245_NumPoints5m.tif   \n",
       "281      81     1  2042505  7272405  2042505_7272405_NumPoints5m.tif   \n",
       "...     ...   ...      ...      ...                              ...   \n",
       "28858    58   144  2043220  7272290  2043220_7272290_NumPoints5m.tif   \n",
       "28859    59   144  2043220  7272295  2043220_7272295_NumPoints5m.tif   \n",
       "28867    67   144  2043220  7272335  2043220_7272335_NumPoints5m.tif   \n",
       "28871    71   144  2043220  7272355  2043220_7272355_NumPoints5m.tif   \n",
       "28873    73   144  2043220  7272365  2043220_7272365_NumPoints5m.tif   \n",
       "\n",
       "                            nom_ECA                         nom_POS  diff  \n",
       "52     2042500_7272260_EcartZ5m.tif  2042500_7272260_Position5m.tif   1.0  \n",
       "92     2042500_7272460_EcartZ5m.tif  2042500_7272460_Position5m.tif   1.0  \n",
       "170    2042500_7272850_EcartZ5m.tif  2042500_7272850_Position5m.tif   1.0  \n",
       "249    2042505_7272245_EcartZ5m.tif  2042505_7272245_Position5m.tif   1.0  \n",
       "281    2042505_7272405_EcartZ5m.tif  2042505_7272405_Position5m.tif   1.0  \n",
       "...                             ...                             ...   ...  \n",
       "28858  2043220_7272290_EcartZ5m.tif  2043220_7272290_Position5m.tif   1.0  \n",
       "28859  2043220_7272295_EcartZ5m.tif  2043220_7272295_Position5m.tif   1.0  \n",
       "28867  2043220_7272335_EcartZ5m.tif  2043220_7272335_Position5m.tif   1.0  \n",
       "28871  2043220_7272355_EcartZ5m.tif  2043220_7272355_Position5m.tif   1.0  \n",
       "28873  2043220_7272365_EcartZ5m.tif  2043220_7272365_Position5m.tif   1.0  \n",
       "\n",
       "[240 rows x 112 columns]"
      ]
     },
     "execution_count": 865,
     "metadata": {},
     "output_type": "execute_result"
    }
   ],
   "source": [
    "df_tot[df_tot['diff'] == 1]"
   ]
  },
  {
   "cell_type": "code",
   "execution_count": null,
   "metadata": {},
   "outputs": [],
   "source": []
  },
  {
   "cell_type": "code",
   "execution_count": 861,
   "metadata": {
    "ExecuteTime": {
     "end_time": "2020-03-05T09:38:20.612382Z",
     "start_time": "2020-03-05T09:38:20.278383Z"
    }
   },
   "outputs": [
    {
     "data": {
      "text/html": [
       "<div>\n",
       "<style scoped>\n",
       "    .dataframe tbody tr th:only-of-type {\n",
       "        vertical-align: middle;\n",
       "    }\n",
       "\n",
       "    .dataframe tbody tr th {\n",
       "        vertical-align: top;\n",
       "    }\n",
       "\n",
       "    .dataframe thead th {\n",
       "        text-align: right;\n",
       "    }\n",
       "</style>\n",
       "<table border=\"1\" class=\"dataframe\">\n",
       "  <thead>\n",
       "    <tr style=\"text-align: right;\">\n",
       "      <th></th>\n",
       "      <th>0</th>\n",
       "      <th>1</th>\n",
       "      <th>2</th>\n",
       "      <th>3</th>\n",
       "      <th>4</th>\n",
       "      <th>5</th>\n",
       "      <th>6</th>\n",
       "      <th>7</th>\n",
       "      <th>8</th>\n",
       "      <th>9</th>\n",
       "      <th>...</th>\n",
       "      <th>92</th>\n",
       "      <th>93</th>\n",
       "      <th>94</th>\n",
       "      <th>95</th>\n",
       "      <th>96</th>\n",
       "      <th>97</th>\n",
       "      <th>98</th>\n",
       "      <th>99</th>\n",
       "      <th>lamp</th>\n",
       "      <th>lamp2</th>\n",
       "    </tr>\n",
       "  </thead>\n",
       "  <tbody>\n",
       "    <tr>\n",
       "      <td>count</td>\n",
       "      <td>29384.000000</td>\n",
       "      <td>29384.000000</td>\n",
       "      <td>29384.000000</td>\n",
       "      <td>29384.000000</td>\n",
       "      <td>29384.000000</td>\n",
       "      <td>29384.000000</td>\n",
       "      <td>29384.000000</td>\n",
       "      <td>29384.000000</td>\n",
       "      <td>29384.000000</td>\n",
       "      <td>29384.000000</td>\n",
       "      <td>...</td>\n",
       "      <td>29384.000000</td>\n",
       "      <td>29384.000000</td>\n",
       "      <td>29384.000000</td>\n",
       "      <td>29384.000000</td>\n",
       "      <td>29384.000000</td>\n",
       "      <td>29384.000000</td>\n",
       "      <td>29384.000000</td>\n",
       "      <td>29384.000000</td>\n",
       "      <td>29384.000000</td>\n",
       "      <td>100.000000</td>\n",
       "    </tr>\n",
       "    <tr>\n",
       "      <td>mean</td>\n",
       "      <td>0.000238</td>\n",
       "      <td>0.000102</td>\n",
       "      <td>0.000204</td>\n",
       "      <td>0.000102</td>\n",
       "      <td>0.000034</td>\n",
       "      <td>0.000034</td>\n",
       "      <td>0.000068</td>\n",
       "      <td>0.000170</td>\n",
       "      <td>0.000204</td>\n",
       "      <td>0.000204</td>\n",
       "      <td>...</td>\n",
       "      <td>0.000136</td>\n",
       "      <td>0.000136</td>\n",
       "      <td>0.000204</td>\n",
       "      <td>0.000068</td>\n",
       "      <td>0.000204</td>\n",
       "      <td>0.000102</td>\n",
       "      <td>0.000204</td>\n",
       "      <td>0.000034</td>\n",
       "      <td>0.012047</td>\n",
       "      <td>3.530000</td>\n",
       "    </tr>\n",
       "    <tr>\n",
       "      <td>std</td>\n",
       "      <td>0.015433</td>\n",
       "      <td>0.010104</td>\n",
       "      <td>0.014288</td>\n",
       "      <td>0.010104</td>\n",
       "      <td>0.005834</td>\n",
       "      <td>0.005834</td>\n",
       "      <td>0.008250</td>\n",
       "      <td>0.013044</td>\n",
       "      <td>0.014288</td>\n",
       "      <td>0.014288</td>\n",
       "      <td>...</td>\n",
       "      <td>0.011667</td>\n",
       "      <td>0.011667</td>\n",
       "      <td>0.014288</td>\n",
       "      <td>0.008250</td>\n",
       "      <td>0.014288</td>\n",
       "      <td>0.010104</td>\n",
       "      <td>0.014288</td>\n",
       "      <td>0.005834</td>\n",
       "      <td>0.110031</td>\n",
       "      <td>1.914617</td>\n",
       "    </tr>\n",
       "    <tr>\n",
       "      <td>min</td>\n",
       "      <td>0.000000</td>\n",
       "      <td>0.000000</td>\n",
       "      <td>0.000000</td>\n",
       "      <td>0.000000</td>\n",
       "      <td>0.000000</td>\n",
       "      <td>0.000000</td>\n",
       "      <td>0.000000</td>\n",
       "      <td>0.000000</td>\n",
       "      <td>0.000000</td>\n",
       "      <td>0.000000</td>\n",
       "      <td>...</td>\n",
       "      <td>0.000000</td>\n",
       "      <td>0.000000</td>\n",
       "      <td>0.000000</td>\n",
       "      <td>0.000000</td>\n",
       "      <td>0.000000</td>\n",
       "      <td>0.000000</td>\n",
       "      <td>0.000000</td>\n",
       "      <td>0.000000</td>\n",
       "      <td>0.000000</td>\n",
       "      <td>0.000000</td>\n",
       "    </tr>\n",
       "    <tr>\n",
       "      <td>25%</td>\n",
       "      <td>0.000000</td>\n",
       "      <td>0.000000</td>\n",
       "      <td>0.000000</td>\n",
       "      <td>0.000000</td>\n",
       "      <td>0.000000</td>\n",
       "      <td>0.000000</td>\n",
       "      <td>0.000000</td>\n",
       "      <td>0.000000</td>\n",
       "      <td>0.000000</td>\n",
       "      <td>0.000000</td>\n",
       "      <td>...</td>\n",
       "      <td>0.000000</td>\n",
       "      <td>0.000000</td>\n",
       "      <td>0.000000</td>\n",
       "      <td>0.000000</td>\n",
       "      <td>0.000000</td>\n",
       "      <td>0.000000</td>\n",
       "      <td>0.000000</td>\n",
       "      <td>0.000000</td>\n",
       "      <td>0.000000</td>\n",
       "      <td>2.000000</td>\n",
       "    </tr>\n",
       "    <tr>\n",
       "      <td>50%</td>\n",
       "      <td>0.000000</td>\n",
       "      <td>0.000000</td>\n",
       "      <td>0.000000</td>\n",
       "      <td>0.000000</td>\n",
       "      <td>0.000000</td>\n",
       "      <td>0.000000</td>\n",
       "      <td>0.000000</td>\n",
       "      <td>0.000000</td>\n",
       "      <td>0.000000</td>\n",
       "      <td>0.000000</td>\n",
       "      <td>...</td>\n",
       "      <td>0.000000</td>\n",
       "      <td>0.000000</td>\n",
       "      <td>0.000000</td>\n",
       "      <td>0.000000</td>\n",
       "      <td>0.000000</td>\n",
       "      <td>0.000000</td>\n",
       "      <td>0.000000</td>\n",
       "      <td>0.000000</td>\n",
       "      <td>0.000000</td>\n",
       "      <td>3.000000</td>\n",
       "    </tr>\n",
       "    <tr>\n",
       "      <td>75%</td>\n",
       "      <td>0.000000</td>\n",
       "      <td>0.000000</td>\n",
       "      <td>0.000000</td>\n",
       "      <td>0.000000</td>\n",
       "      <td>0.000000</td>\n",
       "      <td>0.000000</td>\n",
       "      <td>0.000000</td>\n",
       "      <td>0.000000</td>\n",
       "      <td>0.000000</td>\n",
       "      <td>0.000000</td>\n",
       "      <td>...</td>\n",
       "      <td>0.000000</td>\n",
       "      <td>0.000000</td>\n",
       "      <td>0.000000</td>\n",
       "      <td>0.000000</td>\n",
       "      <td>0.000000</td>\n",
       "      <td>0.000000</td>\n",
       "      <td>0.000000</td>\n",
       "      <td>0.000000</td>\n",
       "      <td>0.000000</td>\n",
       "      <td>5.000000</td>\n",
       "    </tr>\n",
       "    <tr>\n",
       "      <td>max</td>\n",
       "      <td>1.000000</td>\n",
       "      <td>1.000000</td>\n",
       "      <td>1.000000</td>\n",
       "      <td>1.000000</td>\n",
       "      <td>1.000000</td>\n",
       "      <td>1.000000</td>\n",
       "      <td>1.000000</td>\n",
       "      <td>1.000000</td>\n",
       "      <td>1.000000</td>\n",
       "      <td>1.000000</td>\n",
       "      <td>...</td>\n",
       "      <td>1.000000</td>\n",
       "      <td>1.000000</td>\n",
       "      <td>1.000000</td>\n",
       "      <td>1.000000</td>\n",
       "      <td>1.000000</td>\n",
       "      <td>1.000000</td>\n",
       "      <td>1.000000</td>\n",
       "      <td>1.000000</td>\n",
       "      <td>2.000000</td>\n",
       "      <td>8.000000</td>\n",
       "    </tr>\n",
       "  </tbody>\n",
       "</table>\n",
       "<p>8 rows × 102 columns</p>\n",
       "</div>"
      ],
      "text/plain": [
       "                  0             1             2             3             4  \\\n",
       "count  29384.000000  29384.000000  29384.000000  29384.000000  29384.000000   \n",
       "mean       0.000238      0.000102      0.000204      0.000102      0.000034   \n",
       "std        0.015433      0.010104      0.014288      0.010104      0.005834   \n",
       "min        0.000000      0.000000      0.000000      0.000000      0.000000   \n",
       "25%        0.000000      0.000000      0.000000      0.000000      0.000000   \n",
       "50%        0.000000      0.000000      0.000000      0.000000      0.000000   \n",
       "75%        0.000000      0.000000      0.000000      0.000000      0.000000   \n",
       "max        1.000000      1.000000      1.000000      1.000000      1.000000   \n",
       "\n",
       "                  5             6             7             8             9  \\\n",
       "count  29384.000000  29384.000000  29384.000000  29384.000000  29384.000000   \n",
       "mean       0.000034      0.000068      0.000170      0.000204      0.000204   \n",
       "std        0.005834      0.008250      0.013044      0.014288      0.014288   \n",
       "min        0.000000      0.000000      0.000000      0.000000      0.000000   \n",
       "25%        0.000000      0.000000      0.000000      0.000000      0.000000   \n",
       "50%        0.000000      0.000000      0.000000      0.000000      0.000000   \n",
       "75%        0.000000      0.000000      0.000000      0.000000      0.000000   \n",
       "max        1.000000      1.000000      1.000000      1.000000      1.000000   \n",
       "\n",
       "       ...            92            93            94            95  \\\n",
       "count  ...  29384.000000  29384.000000  29384.000000  29384.000000   \n",
       "mean   ...      0.000136      0.000136      0.000204      0.000068   \n",
       "std    ...      0.011667      0.011667      0.014288      0.008250   \n",
       "min    ...      0.000000      0.000000      0.000000      0.000000   \n",
       "25%    ...      0.000000      0.000000      0.000000      0.000000   \n",
       "50%    ...      0.000000      0.000000      0.000000      0.000000   \n",
       "75%    ...      0.000000      0.000000      0.000000      0.000000   \n",
       "max    ...      1.000000      1.000000      1.000000      1.000000   \n",
       "\n",
       "                 96            97            98            99          lamp  \\\n",
       "count  29384.000000  29384.000000  29384.000000  29384.000000  29384.000000   \n",
       "mean       0.000204      0.000102      0.000204      0.000034      0.012047   \n",
       "std        0.014288      0.010104      0.014288      0.005834      0.110031   \n",
       "min        0.000000      0.000000      0.000000      0.000000      0.000000   \n",
       "25%        0.000000      0.000000      0.000000      0.000000      0.000000   \n",
       "50%        0.000000      0.000000      0.000000      0.000000      0.000000   \n",
       "75%        0.000000      0.000000      0.000000      0.000000      0.000000   \n",
       "max        1.000000      1.000000      1.000000      1.000000      2.000000   \n",
       "\n",
       "            lamp2  \n",
       "count  100.000000  \n",
       "mean     3.530000  \n",
       "std      1.914617  \n",
       "min      0.000000  \n",
       "25%      2.000000  \n",
       "50%      3.000000  \n",
       "75%      5.000000  \n",
       "max      8.000000  \n",
       "\n",
       "[8 rows x 102 columns]"
      ]
     },
     "execution_count": 861,
     "metadata": {},
     "output_type": "execute_result"
    }
   ],
   "source": [
    "df_Y.describe()"
   ]
  },
  {
   "cell_type": "code",
   "execution_count": null,
   "metadata": {},
   "outputs": [],
   "source": []
  },
  {
   "cell_type": "markdown",
   "metadata": {},
   "source": [
    "### Séparation Train - Test "
   ]
  },
  {
   "cell_type": "code",
   "execution_count": 871,
   "metadata": {
    "ExecuteTime": {
     "end_time": "2020-03-05T10:02:26.173233Z",
     "start_time": "2020-03-05T10:02:26.042143Z"
    }
   },
   "outputs": [
    {
     "name": "stdout",
     "output_type": "stream",
     "text": [
      "Dimensions X: (29384, 10, 10, 3)\n",
      "Dimensions Y: (29384, 3) 29384\n",
      "Train et Test: (23507, 10, 10, 3) 23507 (5877, 10, 10, 3) 5877\n",
      "(23507, 10, 10, 3) 23507 (5877, 10, 10, 3) 5877\n"
     ]
    }
   ],
   "source": [
    "from sklearn.model_selection import train_test_split \n",
    "from keras.utils import to_categorical\n",
    "\n",
    "# Charge et split les données\n",
    "###############   TODO      ###############\n",
    "####### fonctionne avec les 2 cubes/images \n",
    "X = data\n",
    "####### Si Ne fonctionne pas avec les 2 cubes/images \n",
    "# X = data1\n",
    "print(\"Dimensions X:\", X.shape)\n",
    "##############################################\n",
    "#####   calcul de la position de la lampe dans le carré N\n",
    "###  Passage mode binaire à une liste de 100\n",
    "############\n",
    "# Manière 1 de \n",
    "y = liste_y\n",
    "# Manière 2 ... directe à partir des 3 mêmes fichiers 10x10\n",
    "y = df_Y['lamp']\n",
    "\n",
    "y_binary = to_categorical(y)\n",
    "print(\"Dimensions Y:\", y_binary.shape, len(y))\n",
    "#\n",
    "# y = data_y\n",
    "# print(y.shape)\n",
    "#############################\n",
    "\n",
    "# tfds   tensorflow dataset splitting\n",
    "# test_split, valid_split, train_split = tfds.Split.TRAIN.subsplit([10, 15, 75])\n",
    "# PYTORCH   torchtext.data.Dataset\n",
    "# split(split_ratio=0.7, stratified=False, strata_field='label', random_state=None\n",
    "\n",
    "methode = 'test2'\n",
    "#methode = 'SKLEARN'\n",
    "\n",
    "if methode == 'test':\n",
    "    all = tf.data.Dataset.from_tensor_slices(X).shuffle(10, reshuffle_each_iteration=False)\n",
    "    n_row = int(X.shape[0] * 0.8)\n",
    "    train_data, test_data     = X[:n_row,:,:,:], X[n_row:,:,:,:]\n",
    "    train_labels, test_labels = y_binary[:n_row,:], y_binary[n_row:,:]\n",
    "    \n",
    "if methode == 'test2':\n",
    "    n_row1 = int(X.shape[0] * 0.8)\n",
    "    n_row2 = X.shape[0] - n_row1\n",
    "    train_data, test_data = tf.split(X, [n_row1, n_row2], 0)\n",
    "    train_labels, test_labels = tf.split(X, [n_row1, n_row2], 0)\n",
    "    \n",
    "if methode == 'shuffle':\n",
    "    fraction = 20\n",
    "    #all = tf.data.Dataset.from_tensor_slices(list(range(1, 21))).shuffle(10, reshuffle_each_iteration=False)\n",
    "    #test_data = all.enumerate().filter(lambda x,y: x % int(100/fraction) == 0).map(lambda x,y: y)\n",
    "    \n",
    "# Avec SKLEARN\n",
    "if methode == 'SKLEARN':\n",
    "    train_data, test_data, train_labels, test_labels = train_test_split(\n",
    "        X, y_binary, test_size=0.2, random_state=42, stratify=y_binary)\n",
    "#        X, y, test_size=0.2, random_state=42, stratify=y)\n",
    "\n",
    "#print(train_data.shape, train_labels.shape, test_data.shape, test_labels.shape)\n",
    "print(\"Train et Test:\", train_data.shape, len(train_labels), test_data.shape, len(test_labels))\n",
    "\n",
    "#train_data = np.expand_dims(train_data, axis=3)\n",
    "#test_data = np.expand_dims(test_data, axis=3)\n",
    "\n",
    "#### Ce n'est plus nécessaire si X est un Tenseur 4D\n",
    "#train_data = train_data.reshape(train_data.shape[0], 10, 10, 1)\n",
    "#test_data  = test_data.reshape(test_data.shape[0], 10, 10, 1)\n",
    "\n",
    "#print(train_data.shape, train_labels.shape, test_data.shape, test_labels.shape)\n",
    "print(train_data.shape, len(train_labels), test_data.shape, len(test_labels))\n"
   ]
  },
  {
   "cell_type": "code",
   "execution_count": null,
   "metadata": {
    "ExecuteTime": {
     "start_time": "2020-03-05T10:02:42.976Z"
    }
   },
   "outputs": [],
   "source": [
    "print(pd.DataFrame(train_labels).describe())\n",
    "print(pd.DataFrame(test_labels).describe())"
   ]
  },
  {
   "cell_type": "markdown",
   "metadata": {},
   "source": [
    "## Modèles CNN 2D"
   ]
  },
  {
   "cell_type": "raw",
   "metadata": {},
   "source": [
    "keras.layers.Conv2D(\n",
    "    filters,               #  32\n",
    "    kernel_size,           # (3,3)\n",
    "    strides=(1, 1),        # nombre impair\n",
    "    padding='valid',       # or \"same\"\n",
    "    data_format=None, \n",
    "    dilation_rate=(1, 1),\n",
    "    activation=None,       # \"relu\"\n",
    "    activity_regularizer=None, kernel_regularizer=None , bias_regularizer=None\n",
    "    kernel_initializer='glorot_uniform', kernel_constraint=None,     #  ou 'he_normal'\n",
    "    use_bias=True, bias_initializer='zeros', bias_constraint=None)   "
   ]
  },
  {
   "cell_type": "raw",
   "metadata": {
    "ExecuteTime": {
     "end_time": "2020-03-02T14:53:59.729537Z",
     "start_time": "2020-03-02T14:52:55.448153Z"
    }
   },
   "source": [
    "# 0)Trains a simplet CONVNET on the MNIST dataset\n",
    "\n",
    "input_shape = (10, 10, 1)     #input_shape = (10, 10, 2)\n",
    "num_classes = 2\n",
    "epochs = 15\n",
    "batch_sise=len(test_labels)/10\n",
    "activ1  = \"relu\"\n",
    "activ2  = \"sigmoid\"\n",
    "activ2b = \"softmax\"\n",
    "\n",
    "from sklearn.utils import class_weight\n",
    "ratio = 401 / 70\n",
    "poids_class = {0: 1., 1: ratio}\n",
    "#poids_class = class_weight.compute_class_weight(np.unique(train_labels), train_labels, y=? [0,1])\n",
    "\n",
    "model2 = Sequential()\n",
    "model2.add(Conv2D(filters=32, kernel_size=(3, 3), padding=\"same\", strides=(1,1), \n",
    "                  activation=activ1, kernel_regularizer = \"l2\", input_shape=input_shape))\n",
    "model2.add(Conv2D(32, (3, 3), padding=\"same\", strides=(1,1), activation=activ1, kernel_regularizer = \"l2\"))\n",
    "# , kernel_regularizer = l2 (0.0005)\n",
    "\n",
    "#model2.add(MaxPooling2D(pool_size=(2, 2)))\n",
    "model2.add(Dropout(1/4))\n",
    "\n",
    "model2.add(Conv2D(64, (3, 3), padding=\"same\", strides=(1,1), activation=activ1, kernel_regularizer = \"l2\"))\n",
    "model2.add(Conv2D(64, (3, 3), padding=\"same\", strides=(1,1), activation=activ1, kernel_regularizer = \"l2\"))\n",
    "#model2.add(MaxPooling2D(pool_size=(2, 2)))\n",
    "model2.add(Dropout(1/4))\n",
    "\n",
    "model2.add(Flatten())\n",
    "model2.add(Dense(128, activation=activ1))\n",
    "model2.add(Dropout(0.5))\n",
    "model2.add(Dense(num_classes, activation=activ2))\n",
    "\n",
    "# optimizerA  sgd=SGD(lr=1e-5, decay=1e-6, momentum=0.9, nesterov=True)\n",
    "# optimizerB  adam=Adam(lr=1e-3, beta_1=0.9, beta_2=0.999, epsilon=1e-8, decay=0.0)\n",
    "#optim = keras.optimizers.Adadelta()\n",
    "optim = SGD(lr=1e-4, decay=1e-6, momentum=0.9, nesterov=True)\n",
    "# bianry or categorical\n",
    "\n",
    "model2.compile(loss=keras.losses.binary_crossentropy, optimizer=optim, metrics=['accuracy'])\n",
    "\n",
    "# poids_class, 'balanced', 'balanced_subsample'\n",
    "history2 = model2.fit(train_data, train_labels, batch_size=batch_size, epochs=epochs,\n",
    "            class_weight='balanced',\n",
    "            verbose=1, validation_data=(test_data, test_labels))\n",
    "\n",
    "score = model2.evaluate(test_data, test_labels, batch_size=batch_size, verbose=2)\n",
    "print('Test loss:', score[0])\n",
    "print('Test accuracy:', score[1])\n"
   ]
  },
  {
   "cell_type": "raw",
   "metadata": {
    "ExecuteTime": {
     "end_time": "2020-03-02T09:23:11.049089Z",
     "start_time": "2020-03-02T09:23:07.724793Z"
    }
   },
   "source": [
    "# 1) Trains a simplet CONVNET on the MNIST dataset\n",
    "\n",
    "input_shape = (10, 10, 1)     #input_shape = (10, 10, 2)\n",
    "\n",
    "epochs = 11\n",
    "batch_size = 64\n",
    "\n",
    "num_filters = 8\n",
    "filter_size = 3\n",
    "pool_size = 2\n",
    "\n",
    "num_classes = 2   #  1 ou 2\n",
    "\n",
    "model2 = Sequential([\n",
    "    Conv2D(num_filters, filter_size, padding=\"same\", strides=(1,1), input_shape=input_shape),\n",
    "    Conv2D(num_filters, filter_size, padding=\"same\", strides=(1,1)),\n",
    "    #Conv2D(num_filters, filter_size, padding=\"same\", strides=(1,1)),\n",
    "    #Conv2D(num_filters, filter_size),\n",
    "    #MaxPooling2D(pool_size=pool_size),\n",
    "    Flatten(),\n",
    "    Dense(num_classes, activation='softmax'),\n",
    "])\n",
    "\n",
    "#model2.compile(loss=keras.losses.categorical_crossentropy, optimizer=keras.optimizers.Adadelta(),\n",
    "#              metrics=['accuracy'])\n",
    "model2.compile(loss=keras.losses.binary_crossentropy, optimizer=keras.optimizers.Adadelta(),\n",
    "              metrics=['accuracy'])\n",
    "\n",
    "\n",
    "history2 = model2.fit(train_data, train_labels, batch_size=batch_size, epochs=epochs,\n",
    "          verbose=1, validation_data=(test_data, test_labels))\n",
    "\n",
    "score = model2.evaluate(test_data, test_labels, verbose=0)\n",
    "print('Test loss:', score[0])\n",
    "print('Test accuracy:', score[1])\n",
    "\n"
   ]
  },
  {
   "cell_type": "code",
   "execution_count": null,
   "metadata": {},
   "outputs": [],
   "source": []
  },
  {
   "cell_type": "code",
   "execution_count": 768,
   "metadata": {
    "ExecuteTime": {
     "end_time": "2020-03-04T13:46:14.278658Z",
     "start_time": "2020-03-04T13:46:01.449320Z"
    }
   },
   "outputs": [
    {
     "name": "stdout",
     "output_type": "stream",
     "text": [
      "Epoch 1/10\n",
      "5/5 [==============================] - ETA: 3s - loss: 0.6565 - accuracy: 0.62 - ETA: 1s - loss: 0.5573 - accuracy: 0.81 - ETA: 0s - loss: 0.4815 - accuracy: 0.87 - ETA: 0s - loss: 0.4196 - accuracy: 0.90 - 2s 366ms/step - loss: 0.3691 - accuracy: 0.9256\n",
      "Epoch 2/10\n",
      "5/5 [==============================] - ETA: 0s - loss: 0.1233 - accuracy: 1.00 - ETA: 0s - loss: 0.1088 - accuracy: 1.00 - ETA: 0s - loss: 0.0973 - accuracy: 1.00 - ETA: 0s - loss: 0.0879 - accuracy: 1.00 - 1s 215ms/step - loss: 0.0800 - accuracy: 1.0000\n",
      "Epoch 3/10\n",
      "5/5 [==============================] - ETA: 0s - loss: 0.0403 - accuracy: 1.00 - ETA: 0s - loss: 0.0370 - accuracy: 1.00 - ETA: 0s - loss: 0.0343 - accuracy: 1.00 - ETA: 0s - loss: 0.0318 - accuracy: 1.00 - 1s 211ms/step - loss: 0.0297 - accuracy: 1.0000\n",
      "Epoch 4/10\n",
      "5/5 [==============================] - ETA: 0s - loss: 0.0186 - accuracy: 1.00 - ETA: 0s - loss: 0.0175 - accuracy: 1.00 - ETA: 0s - loss: 0.0165 - accuracy: 1.00 - ETA: 0s - loss: 0.0156 - accuracy: 1.00 - 1s 212ms/step - loss: 0.0148 - accuracy: 1.0000\n",
      "Epoch 5/10\n",
      "5/5 [==============================] - ETA: 0s - loss: 0.0104 - accuracy: 1.00 - ETA: 0s - loss: 0.0099 - accuracy: 1.00 - ETA: 0s - loss: 0.0095 - accuracy: 1.00 - ETA: 0s - loss: 0.0090 - accuracy: 1.00 - 1s 212ms/step - loss: 0.0087 - accuracy: 1.0000\n",
      "Epoch 6/10\n",
      "5/5 [==============================] - ETA: 0s - loss: 0.0066 - accuracy: 1.00 - ETA: 0s - loss: 0.0063 - accuracy: 1.00 - ETA: 0s - loss: 0.0061 - accuracy: 1.00 - ETA: 0s - loss: 0.0059 - accuracy: 1.00 - 1s 211ms/step - loss: 0.0056 - accuracy: 1.0000\n",
      "Epoch 7/10\n",
      "5/5 [==============================] - ETA: 0s - loss: 0.0045 - accuracy: 1.00 - ETA: 0s - loss: 0.0043 - accuracy: 1.00 - ETA: 0s - loss: 0.0042 - accuracy: 1.00 - ETA: 0s - loss: 0.0041 - accuracy: 1.00 - 1s 211ms/step - loss: 0.0040 - accuracy: 1.0000\n",
      "Epoch 8/10\n",
      "5/5 [==============================] - ETA: 0s - loss: 0.0033 - accuracy: 1.00 - ETA: 0s - loss: 0.0032 - accuracy: 1.00 - ETA: 0s - loss: 0.0031 - accuracy: 1.00 - ETA: 0s - loss: 0.0030 - accuracy: 1.00 - 1s 211ms/step - loss: 0.0029 - accuracy: 1.0000\n",
      "Epoch 9/10\n",
      "5/5 [==============================] - ETA: 0s - loss: 0.0025 - accuracy: 1.00 - ETA: 0s - loss: 0.0024 - accuracy: 1.00 - ETA: 0s - loss: 0.0023 - accuracy: 1.00 - ETA: 0s - loss: 0.0023 - accuracy: 1.00 - 1s 217ms/step - loss: 0.0022 - accuracy: 1.0000\n",
      "Epoch 10/10\n",
      "5/5 [==============================] - ETA: 0s - loss: 0.0019 - accuracy: 1.00 - ETA: 0s - loss: 0.0019 - accuracy: 1.00 - ETA: 0s - loss: 0.0018 - accuracy: 1.00 - ETA: 0s - loss: 0.0018 - accuracy: 1.00 - 1s 218ms/step - loss: 0.0018 - accuracy: 1.0000\n",
      "Test loss: 2.1827306747436523\n",
      "Test accuracy: 1.2632696330547333\n"
     ]
    }
   ],
   "source": [
    "# 2) Train CONVNET on the MNIST dataset\n",
    "dim = len(keras.backend.int_shape(train_data))\n",
    "\n",
    "epochs = 10\n",
    "#  steps PROBLEMES si différent de 1 pour les derniers plots\n",
    "batch_size = 1   \n",
    "ratio = 10 * 401 / 70\n",
    "poids_class = {0: 1., 1: ratio}\n",
    "if dim == 2:\n",
    "    input_shape = (10, 10)\n",
    "if dim == 4:\n",
    "    input_shape = (10, 10, 2)\n",
    "\n",
    "\n",
    "filters = (5,5)\n",
    "strides=(1,1)\n",
    "pool_size=(2,2)\n",
    "\n",
    "model2 = Sequential([\n",
    "    Conv2D(16, filters, padding=\"same\", strides=strides, input_shape=input_shape),\n",
    "    MaxPooling2D(pool_size=pool_size),\n",
    "    Conv2D(16, filters, padding=\"same\", strides=strides),\n",
    "    MaxPooling2D(pool_size=pool_size),\n",
    "    Flatten(),\n",
    "    Dense(120, activation='relu'),\n",
    "    #Dropout(0.1),\n",
    "    Dense(100, activation='relu'),\n",
    "    #Dropout(0.1),\n",
    "    Dense(2, activation='softmax')\n",
    "])\n",
    "\n",
    "#model2.compile(loss=keras.losses.categorical_crossentropy, optimizer=keras.optimizers.Adadelta(),\n",
    "#              metrics=['accuracy'])\n",
    "model2.compile(loss=keras.losses.binary_crossentropy, optimizer=keras.optimizers.Adadelta(),\n",
    "              metrics=['accuracy'])\n",
    "\n",
    "#  si TENSOR = 2D\n",
    "if dim == 2:\n",
    "    history2 = model2.fit(train_data, train_labels, batch_size=batch_size, epochs=epochs, \n",
    "                          class_weight=poids_class,  #class_weight='balanced',\n",
    "          verbose=1, validation_data=(test_data, test_labels))\n",
    "    score = model2.evaluate(test_data, test_labels, verbose=0)\n",
    "elif dim == 4:\n",
    "    history2 = model2.fit(train_data, train_labels, epochs=epochs, class_weight=poids_class, verbose=1,\n",
    "                        validation_freq=.33, steps_per_epoch=5)\n",
    "    score = model2.evaluate(test_data, test_labels, steps=5, verbose=0)\n",
    "else:\n",
    "    print(\"WRONG tensor dimension inputs ....\")\n",
    "\n",
    "\n",
    "\n",
    "print('Test loss:', score[0])\n",
    "print('Test accuracy:', score[1])\n"
   ]
  },
  {
   "cell_type": "markdown",
   "metadata": {},
   "source": [
    "### Sommaire"
   ]
  },
  {
   "cell_type": "code",
   "execution_count": 769,
   "metadata": {
    "ExecuteTime": {
     "end_time": "2020-03-04T13:46:16.356125Z",
     "start_time": "2020-03-04T13:46:16.311094Z"
    }
   },
   "outputs": [
    {
     "name": "stdout",
     "output_type": "stream",
     "text": [
      "Model: \"sequential_135\"\n",
      "_________________________________________________________________\n",
      "Layer (type)                 Output Shape              Param #   \n",
      "=================================================================\n",
      "conv2d_265 (Conv2D)          (None, 10, 10, 16)        816       \n",
      "_________________________________________________________________\n",
      "max_pooling2d_125 (MaxPoolin (None, 5, 5, 16)          0         \n",
      "_________________________________________________________________\n",
      "conv2d_266 (Conv2D)          (None, 5, 5, 16)          6416      \n",
      "_________________________________________________________________\n",
      "max_pooling2d_126 (MaxPoolin (None, 2, 2, 16)          0         \n",
      "_________________________________________________________________\n",
      "flatten_120 (Flatten)        (None, 64)                0         \n",
      "_________________________________________________________________\n",
      "dense_296 (Dense)            (None, 120)               7800      \n",
      "_________________________________________________________________\n",
      "dense_297 (Dense)            (None, 100)               12100     \n",
      "_________________________________________________________________\n",
      "dense_298 (Dense)            (None, 2)                 202       \n",
      "=================================================================\n",
      "Total params: 27,334\n",
      "Trainable params: 27,334\n",
      "Non-trainable params: 0\n",
      "_________________________________________________________________\n"
     ]
    }
   ],
   "source": [
    "model2.summary()\n",
    "\n",
    "# model.save_weights('file.h5')\n",
    "# avec le model construit + les poids\n",
    "# model.load_weights('file.h5')"
   ]
  },
  {
   "cell_type": "markdown",
   "metadata": {},
   "source": [
    "### Figures"
   ]
  },
  {
   "cell_type": "code",
   "execution_count": 770,
   "metadata": {
    "ExecuteTime": {
     "end_time": "2020-03-04T13:46:19.036707Z",
     "start_time": "2020-03-04T13:46:18.902616Z"
    }
   },
   "outputs": [
    {
     "data": {
      "image/png": "[encoded data removed]",
      "text/plain": [
       "<Figure size 432x288 with 1 Axes>"
      ]
     },
     "metadata": {
      "needs_background": "light"
     },
     "output_type": "display_data"
    }
   ],
   "source": [
    "#history0.history\n",
    "# plot metrics\n",
    "#_ = plt.plot(history2.history['binary_accuracy'])\n",
    "_ = plt.plot(history2.history['accuracy'])\n",
    "_ = plt.show()"
   ]
  },
  {
   "cell_type": "code",
   "execution_count": 771,
   "metadata": {
    "ExecuteTime": {
     "end_time": "2020-03-04T13:46:21.308856Z",
     "start_time": "2020-03-04T13:46:21.118554Z"
    }
   },
   "outputs": [
    {
     "name": "stdout",
     "output_type": "stream",
     "text": [
      "dict_keys(['loss', 'accuracy'])\n"
     ]
    },
    {
     "ename": "IndexError",
     "evalue": "list index out of range",
     "output_type": "error",
     "traceback": [
      "\u001b[1;31m---------------------------------------------------------------------------\u001b[0m",
      "\u001b[1;31mIndexError\u001b[0m                                Traceback (most recent call last)",
      "\u001b[1;32m<ipython-input-771-b3263bd6f507>\u001b[0m in \u001b[0;36m<module>\u001b[1;34m\u001b[0m\n\u001b[0;32m      5\u001b[0m \u001b[0m_\u001b[0m \u001b[1;33m=\u001b[0m \u001b[0mplt\u001b[0m\u001b[1;33m.\u001b[0m\u001b[0msubplot\u001b[0m\u001b[1;33m(\u001b[0m\u001b[1;36m1\u001b[0m\u001b[1;33m,\u001b[0m\u001b[1;36m2\u001b[0m\u001b[1;33m,\u001b[0m\u001b[1;36m1\u001b[0m\u001b[1;33m)\u001b[0m\u001b[1;33m\u001b[0m\u001b[1;33m\u001b[0m\u001b[0m\n\u001b[0;32m      6\u001b[0m \u001b[1;32mfor\u001b[0m \u001b[0mi\u001b[0m \u001b[1;32min\u001b[0m \u001b[0mrange\u001b[0m\u001b[1;33m(\u001b[0m\u001b[1;36m0\u001b[0m\u001b[1;33m,\u001b[0m\u001b[1;36m4\u001b[0m\u001b[1;33m,\u001b[0m\u001b[1;36m2\u001b[0m\u001b[1;33m)\u001b[0m\u001b[1;33m:\u001b[0m\u001b[1;33m\u001b[0m\u001b[1;33m\u001b[0m\u001b[0m\n\u001b[1;32m----> 7\u001b[1;33m     \u001b[0m_\u001b[0m \u001b[1;33m=\u001b[0m \u001b[0mplt\u001b[0m\u001b[1;33m.\u001b[0m\u001b[0mplot\u001b[0m\u001b[1;33m(\u001b[0m\u001b[0mlist\u001b[0m\u001b[1;33m(\u001b[0m\u001b[0mhistory2\u001b[0m\u001b[1;33m.\u001b[0m\u001b[0mhistory\u001b[0m\u001b[1;33m.\u001b[0m\u001b[0mvalues\u001b[0m\u001b[1;33m(\u001b[0m\u001b[1;33m)\u001b[0m\u001b[1;33m)\u001b[0m\u001b[1;33m[\u001b[0m\u001b[0mi\u001b[0m\u001b[1;33m]\u001b[0m\u001b[1;33m,\u001b[0m\u001b[1;34m'k-o'\u001b[0m\u001b[1;33m,\u001b[0m \u001b[0mcolor\u001b[0m\u001b[1;33m=\u001b[0m\u001b[0mcoul\u001b[0m\u001b[1;33m[\u001b[0m\u001b[0mi\u001b[0m\u001b[1;33m]\u001b[0m\u001b[1;33m)\u001b[0m\u001b[1;33m\u001b[0m\u001b[1;33m\u001b[0m\u001b[0m\n\u001b[0m\u001b[0;32m      8\u001b[0m \u001b[0m_\u001b[0m \u001b[1;33m=\u001b[0m \u001b[0mplt\u001b[0m\u001b[1;33m.\u001b[0m\u001b[0msubplot\u001b[0m\u001b[1;33m(\u001b[0m\u001b[1;36m1\u001b[0m\u001b[1;33m,\u001b[0m\u001b[1;36m2\u001b[0m\u001b[1;33m,\u001b[0m\u001b[1;36m2\u001b[0m\u001b[1;33m)\u001b[0m\u001b[1;33m\u001b[0m\u001b[1;33m\u001b[0m\u001b[0m\n\u001b[0;32m      9\u001b[0m \u001b[1;32mfor\u001b[0m \u001b[0mj\u001b[0m \u001b[1;32min\u001b[0m \u001b[0mrange\u001b[0m\u001b[1;33m(\u001b[0m\u001b[1;36m1\u001b[0m\u001b[1;33m,\u001b[0m\u001b[1;36m4\u001b[0m\u001b[1;33m,\u001b[0m\u001b[1;36m2\u001b[0m\u001b[1;33m)\u001b[0m\u001b[1;33m:\u001b[0m\u001b[1;33m\u001b[0m\u001b[1;33m\u001b[0m\u001b[0m\n",
      "\u001b[1;31mIndexError\u001b[0m: list index out of range"
     ]
    },
    {
     "data": {
      "image/png": "[encoded data removed]",
      "text/plain": [
       "<Figure size 1440x288 with 1 Axes>"
      ]
     },
     "metadata": {
      "needs_background": "light"
     },
     "output_type": "display_data"
    }
   ],
   "source": [
    "print(history2.history.keys())\n",
    "coul = [\"blue\", \"lightblue\", \"orange\", \"red\"]\n",
    "\n",
    "fig = plt.figure(figsize=(20,4))\n",
    "_ = plt.subplot(1,2,1)\n",
    "for i in range(0,4,2):\n",
    "    _ = plt.plot(list(history2.history.values())[i],'k-o', color=coul[i])\n",
    "_ = plt.subplot(1,2,2)\n",
    "for j in range(1,4,2):\n",
    "    _ = plt.plot(list(history2.history.values())[j],'k-o', color=coul[j])"
   ]
  },
  {
   "cell_type": "code",
   "execution_count": 772,
   "metadata": {
    "ExecuteTime": {
     "end_time": "2020-03-04T13:46:22.297559Z",
     "start_time": "2020-03-04T13:46:21.415600Z"
    }
   },
   "outputs": [
    {
     "name": "stdout",
     "output_type": "stream",
     "text": [
      "Test loss: 1.0913653373718262\n",
      "Test accuracy: 2.5265392661094666\n",
      "[0 0 0 0 0 0 0 0 0 0 0 0 0 0 0 0 0 0 0 0 0 0 0 0 0 0 0 0 0 0 0 0 0 0 0 0 0\n",
      " 0 0 0 0 0 0 0 0 0 0 0 0 0 0 0 0 0 0 0 0 0 0 0 0 0 0 0 0 0 0 0 0 0 0 0 0 0\n",
      " 0 0 0 0 0 0 0 0 0 0 0 0 0 0 0 0 0 0 0 0 0 0 0 0 0 0]\n",
      "[1. 1. 1. 1. 1. 1. 1. 1. 1. 1.]\n"
     ]
    },
    {
     "data": {
      "image/png": "[encoded data removed]",
      "text/plain": [
       "<Figure size 864x432 with 2 Axes>"
      ]
     },
     "metadata": {
      "needs_background": "light"
     },
     "output_type": "display_data"
    }
   ],
   "source": [
    "# RESULTATS\n",
    "\n",
    "if dim == 2:\n",
    "    score = model2.evaluate(test_data, test_labels, verbose=0, batch_size=batch_size)\n",
    "    classes = model2.predict(test_data, batch_size=batch_size)\n",
    "    predictions = model2.predict(test_data[:10])\n",
    "if dim == 4:\n",
    "    score = model2.evaluate(test_data, test_labels, verbose=0, steps=batch_size)\n",
    "    classes = model2.predict(test_data, steps=batch_size)\n",
    "    predictions = model2.predict(test_data[:10], steps=batch_size)\n",
    "    \n",
    "print('Test loss:', score[0])\n",
    "print('Test accuracy:', score[1])\n",
    "\n",
    "# predictions\n",
    " #predictions = model2.predict_classes(test_data[:10])\n",
    "print(np.argmax(predictions, axis=1))\n",
    "print(test_labels[:10,0])\n",
    "\n",
    "# PLOTS\n",
    "fig = plt.figure(figsize=(12,6))\n",
    "_ = plt.subplot(2,1,1)\n",
    "_ = plt.plot(history2.history['accuracy'])\n",
    "if dim == 2:\n",
    "    _ = plt.plot(history2.history['val_accuracy'])\n",
    "_ = plt.title('model accuracy')\n",
    "_ = plt.xlabel('epoch')\n",
    "_ = plt.ylabel('accuracy')\n",
    "_ = plt.legend(['train','test'], loc='lower right')\n",
    "\n",
    "_ = plt.subplot(2,1,2)\n",
    "_ = plt.plot(history2.history['loss'])\n",
    "if dim == 2:\n",
    "    _ = plt.plot(history2.history['val_loss'])\n",
    "_ = plt.title('model loss')\n",
    "_ = plt.xlabel('epoch')\n",
    "_ = plt.ylabel('loss')\n",
    "_ = plt.legend(['train','test'], loc='upper right')\n",
    "\n",
    "_ = plt.tight_layout()\n",
    "_ = fig"
   ]
  },
  {
   "cell_type": "markdown",
   "metadata": {},
   "source": [
    "### Matrice de confusion"
   ]
  },
  {
   "cell_type": "code",
   "execution_count": 773,
   "metadata": {
    "ExecuteTime": {
     "end_time": "2020-03-04T13:46:24.957767Z",
     "start_time": "2020-03-04T13:46:24.950763Z"
    }
   },
   "outputs": [
    {
     "name": "stdout",
     "output_type": "stream",
     "text": [
      "(471, 10, 10, 2)\n"
     ]
    }
   ],
   "source": [
    "print(test_data.shape)"
   ]
  },
  {
   "cell_type": "code",
   "execution_count": null,
   "metadata": {},
   "outputs": [],
   "source": []
  },
  {
   "cell_type": "code",
   "execution_count": 774,
   "metadata": {
    "ExecuteTime": {
     "end_time": "2020-03-04T13:46:28.245364Z",
     "start_time": "2020-03-04T13:46:27.041746Z"
    }
   },
   "outputs": [
    {
     "name": "stdout",
     "output_type": "stream",
     "text": [
      "Echantillon Train: (1881, 10, 10, 2) 1881 18810\n",
      "Echantillon Test: 471 4710\n",
      "\n",
      " Predit_test  0.0  All\n",
      "Reel_test            \n",
      "0.0          119  119\n",
      "1.0          352  352\n",
      "All          471  471\n"
     ]
    },
    {
     "ename": "ValueError",
     "evalue": "Found input variables with inconsistent numbers of samples: [471, 4710]",
     "output_type": "error",
     "traceback": [
      "\u001b[1;31m---------------------------------------------------------------------------\u001b[0m",
      "\u001b[1;31mValueError\u001b[0m                                Traceback (most recent call last)",
      "\u001b[1;32m<ipython-input-774-875653a57f63>\u001b[0m in \u001b[0;36m<module>\u001b[1;34m\u001b[0m\n\u001b[0;32m     26\u001b[0m \u001b[0mprint\u001b[0m\u001b[1;33m(\u001b[0m\u001b[1;34m\"\\n\"\u001b[0m\u001b[1;33m,\u001b[0m \u001b[0mdf_confusion\u001b[0m\u001b[1;33m)\u001b[0m\u001b[1;33m\u001b[0m\u001b[1;33m\u001b[0m\u001b[0m\n\u001b[0;32m     27\u001b[0m \u001b[1;31m#\u001b[0m\u001b[1;33m\u001b[0m\u001b[1;33m\u001b[0m\u001b[1;33m\u001b[0m\u001b[0m\n\u001b[1;32m---> 28\u001b[1;33m \u001b[0mskplt\u001b[0m\u001b[1;33m.\u001b[0m\u001b[0mmetrics\u001b[0m\u001b[1;33m.\u001b[0m\u001b[0mplot_confusion_matrix\u001b[0m\u001b[1;33m(\u001b[0m\u001b[0my_reel\u001b[0m\u001b[1;33m,\u001b[0m \u001b[0my_pred\u001b[0m\u001b[1;33m,\u001b[0m \u001b[0mfigsize\u001b[0m\u001b[1;33m=\u001b[0m\u001b[1;33m(\u001b[0m\u001b[1;36m5\u001b[0m\u001b[1;33m,\u001b[0m\u001b[1;36m5\u001b[0m\u001b[1;33m)\u001b[0m\u001b[1;33m)\u001b[0m\u001b[1;33m\u001b[0m\u001b[1;33m\u001b[0m\u001b[0m\n\u001b[0m\u001b[0;32m     29\u001b[0m \u001b[0mplt\u001b[0m\u001b[1;33m.\u001b[0m\u001b[0mshow\u001b[0m\u001b[1;33m(\u001b[0m\u001b[1;33m)\u001b[0m\u001b[1;33m\u001b[0m\u001b[1;33m\u001b[0m\u001b[0m\n\u001b[0;32m     30\u001b[0m \u001b[1;31m#\u001b[0m\u001b[1;33m\u001b[0m\u001b[1;33m\u001b[0m\u001b[1;33m\u001b[0m\u001b[0m\n",
      "\u001b[1;32m~\\AppData\\Local\\Continuum\\anaconda3\\lib\\site-packages\\scikitplot\\metrics.py\u001b[0m in \u001b[0;36mplot_confusion_matrix\u001b[1;34m(y_true, y_pred, labels, true_labels, pred_labels, title, normalize, hide_zeros, hide_counts, x_tick_rotation, ax, figsize, cmap, title_fontsize, text_fontsize)\u001b[0m\n\u001b[0;32m    115\u001b[0m         \u001b[0mfig\u001b[0m\u001b[1;33m,\u001b[0m \u001b[0max\u001b[0m \u001b[1;33m=\u001b[0m \u001b[0mplt\u001b[0m\u001b[1;33m.\u001b[0m\u001b[0msubplots\u001b[0m\u001b[1;33m(\u001b[0m\u001b[1;36m1\u001b[0m\u001b[1;33m,\u001b[0m \u001b[1;36m1\u001b[0m\u001b[1;33m,\u001b[0m \u001b[0mfigsize\u001b[0m\u001b[1;33m=\u001b[0m\u001b[0mfigsize\u001b[0m\u001b[1;33m)\u001b[0m\u001b[1;33m\u001b[0m\u001b[1;33m\u001b[0m\u001b[0m\n\u001b[0;32m    116\u001b[0m \u001b[1;33m\u001b[0m\u001b[0m\n\u001b[1;32m--> 117\u001b[1;33m     \u001b[0mcm\u001b[0m \u001b[1;33m=\u001b[0m \u001b[0mconfusion_matrix\u001b[0m\u001b[1;33m(\u001b[0m\u001b[0my_true\u001b[0m\u001b[1;33m,\u001b[0m \u001b[0my_pred\u001b[0m\u001b[1;33m,\u001b[0m \u001b[0mlabels\u001b[0m\u001b[1;33m=\u001b[0m\u001b[0mlabels\u001b[0m\u001b[1;33m)\u001b[0m\u001b[1;33m\u001b[0m\u001b[1;33m\u001b[0m\u001b[0m\n\u001b[0m\u001b[0;32m    118\u001b[0m     \u001b[1;32mif\u001b[0m \u001b[0mlabels\u001b[0m \u001b[1;32mis\u001b[0m \u001b[1;32mNone\u001b[0m\u001b[1;33m:\u001b[0m\u001b[1;33m\u001b[0m\u001b[1;33m\u001b[0m\u001b[0m\n\u001b[0;32m    119\u001b[0m         \u001b[0mclasses\u001b[0m \u001b[1;33m=\u001b[0m \u001b[0munique_labels\u001b[0m\u001b[1;33m(\u001b[0m\u001b[0my_true\u001b[0m\u001b[1;33m,\u001b[0m \u001b[0my_pred\u001b[0m\u001b[1;33m)\u001b[0m\u001b[1;33m\u001b[0m\u001b[1;33m\u001b[0m\u001b[0m\n",
      "\u001b[1;32m~\\AppData\\Local\\Continuum\\anaconda3\\lib\\site-packages\\sklearn\\metrics\\classification.py\u001b[0m in \u001b[0;36mconfusion_matrix\u001b[1;34m(y_true, y_pred, labels, sample_weight)\u001b[0m\n\u001b[0;32m    251\u001b[0m \u001b[1;33m\u001b[0m\u001b[0m\n\u001b[0;32m    252\u001b[0m     \"\"\"\n\u001b[1;32m--> 253\u001b[1;33m     \u001b[0my_type\u001b[0m\u001b[1;33m,\u001b[0m \u001b[0my_true\u001b[0m\u001b[1;33m,\u001b[0m \u001b[0my_pred\u001b[0m \u001b[1;33m=\u001b[0m \u001b[0m_check_targets\u001b[0m\u001b[1;33m(\u001b[0m\u001b[0my_true\u001b[0m\u001b[1;33m,\u001b[0m \u001b[0my_pred\u001b[0m\u001b[1;33m)\u001b[0m\u001b[1;33m\u001b[0m\u001b[1;33m\u001b[0m\u001b[0m\n\u001b[0m\u001b[0;32m    254\u001b[0m     \u001b[1;32mif\u001b[0m \u001b[0my_type\u001b[0m \u001b[1;32mnot\u001b[0m \u001b[1;32min\u001b[0m \u001b[1;33m(\u001b[0m\u001b[1;34m\"binary\"\u001b[0m\u001b[1;33m,\u001b[0m \u001b[1;34m\"multiclass\"\u001b[0m\u001b[1;33m)\u001b[0m\u001b[1;33m:\u001b[0m\u001b[1;33m\u001b[0m\u001b[1;33m\u001b[0m\u001b[0m\n\u001b[0;32m    255\u001b[0m         \u001b[1;32mraise\u001b[0m \u001b[0mValueError\u001b[0m\u001b[1;33m(\u001b[0m\u001b[1;34m\"%s is not supported\"\u001b[0m \u001b[1;33m%\u001b[0m \u001b[0my_type\u001b[0m\u001b[1;33m)\u001b[0m\u001b[1;33m\u001b[0m\u001b[1;33m\u001b[0m\u001b[0m\n",
      "\u001b[1;32m~\\AppData\\Local\\Continuum\\anaconda3\\lib\\site-packages\\sklearn\\metrics\\classification.py\u001b[0m in \u001b[0;36m_check_targets\u001b[1;34m(y_true, y_pred)\u001b[0m\n\u001b[0;32m     69\u001b[0m     \u001b[0my_pred\u001b[0m \u001b[1;33m:\u001b[0m \u001b[0marray\u001b[0m \u001b[1;32mor\u001b[0m \u001b[0mindicator\u001b[0m \u001b[0mmatrix\u001b[0m\u001b[1;33m\u001b[0m\u001b[1;33m\u001b[0m\u001b[0m\n\u001b[0;32m     70\u001b[0m     \"\"\"\n\u001b[1;32m---> 71\u001b[1;33m     \u001b[0mcheck_consistent_length\u001b[0m\u001b[1;33m(\u001b[0m\u001b[0my_true\u001b[0m\u001b[1;33m,\u001b[0m \u001b[0my_pred\u001b[0m\u001b[1;33m)\u001b[0m\u001b[1;33m\u001b[0m\u001b[1;33m\u001b[0m\u001b[0m\n\u001b[0m\u001b[0;32m     72\u001b[0m     \u001b[0mtype_true\u001b[0m \u001b[1;33m=\u001b[0m \u001b[0mtype_of_target\u001b[0m\u001b[1;33m(\u001b[0m\u001b[0my_true\u001b[0m\u001b[1;33m)\u001b[0m\u001b[1;33m\u001b[0m\u001b[1;33m\u001b[0m\u001b[0m\n\u001b[0;32m     73\u001b[0m     \u001b[0mtype_pred\u001b[0m \u001b[1;33m=\u001b[0m \u001b[0mtype_of_target\u001b[0m\u001b[1;33m(\u001b[0m\u001b[0my_pred\u001b[0m\u001b[1;33m)\u001b[0m\u001b[1;33m\u001b[0m\u001b[1;33m\u001b[0m\u001b[0m\n",
      "\u001b[1;32m~\\AppData\\Local\\Continuum\\anaconda3\\lib\\site-packages\\sklearn\\utils\\validation.py\u001b[0m in \u001b[0;36mcheck_consistent_length\u001b[1;34m(*arrays)\u001b[0m\n\u001b[0;32m    203\u001b[0m     \u001b[1;32mif\u001b[0m \u001b[0mlen\u001b[0m\u001b[1;33m(\u001b[0m\u001b[0muniques\u001b[0m\u001b[1;33m)\u001b[0m \u001b[1;33m>\u001b[0m \u001b[1;36m1\u001b[0m\u001b[1;33m:\u001b[0m\u001b[1;33m\u001b[0m\u001b[1;33m\u001b[0m\u001b[0m\n\u001b[0;32m    204\u001b[0m         raise ValueError(\"Found input variables with inconsistent numbers of\"\n\u001b[1;32m--> 205\u001b[1;33m                          \" samples: %r\" % [int(l) for l in lengths])\n\u001b[0m\u001b[0;32m    206\u001b[0m \u001b[1;33m\u001b[0m\u001b[0m\n\u001b[0;32m    207\u001b[0m \u001b[1;33m\u001b[0m\u001b[0m\n",
      "\u001b[1;31mValueError\u001b[0m: Found input variables with inconsistent numbers of samples: [471, 4710]"
     ]
    },
    {
     "data": {
      "image/png": "[encoded data removed]",
      "text/plain": [
       "<Figure size 360x360 with 1 Axes>"
      ]
     },
     "metadata": {
      "needs_background": "light"
     },
     "output_type": "display_data"
    }
   ],
   "source": [
    "from sklearn.metrics import confusion_matrix\n",
    "#       pip install scikit-plot\n",
    "import scikitplot as skplt\n",
    "\n",
    "# transforme les matrice en listes d'entiers binaires (0 ou 1)\n",
    "if dim == 2:\n",
    "    Y01 = pd.DataFrame(model2.predict(train_data, steps=batch_size)[:,1:])[0].round(0).tolist()\n",
    "    Y00 = pd.DataFrame(train_labels[:,1:])[0].tolist()\n",
    "    Y11 = pd.DataFrame(model2.predict(test_data, steps=batch_size)[:,1:])[0].round(0).tolist()\n",
    "    Y10 = pd.DataFrame(test_labels[:,1:])[0].tolist()\n",
    "if dim == 4:\n",
    "    Y01 = pd.DataFrame(model2.predict(train_data, steps=batch_size)[:,1:2])[0].round(0).tolist()\n",
    "    Y00 = pd.DataFrame(train_labels[:,1:])[0].tolist()\n",
    "    Y11 = pd.DataFrame(model2.predict(test_data, steps=batch_size)[:,1:2])[0].round(0).tolist()\n",
    "    Y10 = pd.DataFrame(test_labels[:,1:])[0].tolist()\n",
    "\n",
    "print(\"Echantillon Train:\", train_data.shape, len(Y00), len(Y01))\n",
    "#confusion_matrix(Y01, Y00)\n",
    "\n",
    "print(\"Echantillon Test:\", len(Y10), len(Y11))\n",
    "#confusion_matrix(Y11, Y10)\n",
    "\n",
    "y_reel = pd.Series(Y10, name='Reel_test')\n",
    "y_pred = pd.Series(Y11, name='Prédit_test')\n",
    "df_confusion = pd.crosstab(y_reel, y_pred, rownames=['Reel_test'], colnames=['Predit_test'], margins=True)\n",
    "print(\"\\n\", df_confusion)\n",
    "#\n",
    "skplt.metrics.plot_confusion_matrix(y_reel, y_pred, figsize=(5,5))\n",
    "plt.show()\n",
    "#\n",
    "df_conf_norm = df_confusion / df_confusion.sum(axis=1)\n",
    "print(\"\\n\", df_conf_norm)\n",
    "df_conf_norm = df_confusion.div(df_confusion.sum(axis=1), axis=0)\n",
    "print(\"\\n\", df_conf_norm)\n",
    "\n",
    "_ = sns.heatmap(df_confusion, annot=True)\n",
    "plt.show()\n",
    "_ = sns.heatmap(df_conf_norm, annot=True)\n",
    "plt.show()"
   ]
  },
  {
   "cell_type": "code",
   "execution_count": null,
   "metadata": {},
   "outputs": [],
   "source": []
  },
  {
   "cell_type": "code",
   "execution_count": null,
   "metadata": {},
   "outputs": [],
   "source": []
  },
  {
   "cell_type": "markdown",
   "metadata": {},
   "source": [
    "# KERAS hyperparametres"
   ]
  },
  {
   "cell_type": "code",
   "execution_count": 301,
   "metadata": {
    "ExecuteTime": {
     "end_time": "2020-03-02T15:53:14.554788Z",
     "start_time": "2020-03-02T15:53:14.542780Z"
    }
   },
   "outputs": [
    {
     "ename": "SyntaxError",
     "evalue": "invalid syntax (<ipython-input-301-ded477e1019e>, line 19)",
     "output_type": "error",
     "traceback": [
      "\u001b[1;36m  File \u001b[1;32m\"<ipython-input-301-ded477e1019e>\"\u001b[1;36m, line \u001b[1;32m19\u001b[0m\n\u001b[1;33m    dataset =\u001b[0m\n\u001b[1;37m              ^\u001b[0m\n\u001b[1;31mSyntaxError\u001b[0m\u001b[1;31m:\u001b[0m invalid syntax\n"
     ]
    }
   ],
   "source": [
    "from sklearn.model_selection import GridSearchCV\n",
    "\n",
    "from keras.wrappers.scikit_learn import KerasClassifier, KerasRegressor\n",
    "\n",
    "def create_model(neurons=1, optimizer='adam', dropout_rate=0.0, learn_rate=0.01, momentum=0, \n",
    "                 init_mode='uniform', activation='relu', dropout_rate=0.0, weight_constraint=0):\n",
    "    # create model\n",
    "    model = Sequential()\n",
    "    model.add(Dense(neurons, kernel_initializer=init_mode, input_dim=8, activation=activation)'))\n",
    "    model.add(Dropout(dropout_rate))\n",
    "    model.add(Dense(1, kernel_initializer=init_mode, activation='sigmoid'))\n",
    "    # Compile model\n",
    "    optimizer = SGD(lr=learn_rate, momentum=momentum)\n",
    "    model.compile(loss='binary_crossentropy', optimizer=optimizer, metrics=['accuracy'])\n",
    "    return model\n",
    "\n",
    "# fix random seed for reproducibility\n",
    "seed = 42\n",
    "numpy.random.seed(seed)\n",
    "# load dataset\n",
    "\n",
    "dataset = \n",
    "# split into input (X) and output (Y) variables\n",
    "X = dataset\n",
    "Y = dataset\n",
    "\n",
    "# create model\n",
    "model = KerasClassifier(build_fn=create_model, epochs=100, batch_size=10, dropout_rate=0.2, verbose=0)\n",
    "\n",
    "              \n",
    "# define the grid search parameters\n",
    "learn_rate = [0.001, 0.01, 0.1, 0.2, 0.3]\n",
    "momentum = [0.0, 0.2, 0.4, 0.6, 0.8, 0.9]\n",
    "batch_size = [10, 20, 40, 60, 80, 100]\n",
    "epochs = [10, 50, 100]\n",
    "optimizer = ['SGD', 'RMSprop', 'Adagrad', 'Adadelta', 'Adam', 'Adamax', 'Nadam']\n",
    "init_mode = ['uniform', 'lecun_uniform', 'normal', 'zero', 'glorot_normal', 'glorot_uniform', 'he_normal', 'he_uniform']\n",
    "activation = ['softmax', 'softplus', 'softsign', 'relu', 'tanh', 'sigmoid', 'hard_sigmoid', 'linear']\n",
    "weight_constraint = [i for i in range (1, 6, 1)]\n",
    "dropout_rate = [i/10 for i in range (0, 10, 1)]\n",
    "neurons = [1, 5, 10, 15, 20, 25, 30]\n",
    "\n",
    "param_grid = dict(neurons=neurons, learn_rate=learn_rate, momentum=momentum, optimizer=optimizer, \n",
    "                init_mode=init_mode, batch_size=batch_size, epochs=epochs, activation=activation,\n",
    "                dropout_rate=dropout_rate, weight_constraint=weight_constraint)\n",
    "#  score = ???\n",
    "grid = GridSearchCV(estimator=model, param_grid=param_grid, n_jobs=-1, cv=5)   # n_jobs=-1  parallisation\n",
    "grid_result = grid.fit(X, Y)\n",
    "\n",
    "# summarize results ==>  best_score et best_params_\n",
    "print(\"Best: %f using %s\" % (grid_result.best_score_, grid_result.best_params_))\n",
    "means = grid_result.cv_results_['mean_test_score']\n",
    "stds = grid_result.cv_results_['std_test_score']\n",
    "params = grid_result.cv_results_['params']\n",
    "for mean, stdev, param in zip(means, stds, params):\n",
    "    print(\"%f (%f) with: %r\" % (mean, stdev, param))"
   ]
  },
  {
   "cell_type": "code",
   "execution_count": null,
   "metadata": {},
   "outputs": [],
   "source": []
  },
  {
   "cell_type": "code",
   "execution_count": null,
   "metadata": {},
   "outputs": [],
   "source": []
  },
  {
   "cell_type": "code",
   "execution_count": null,
   "metadata": {},
   "outputs": [],
   "source": []
  }
 ],
 "metadata": {
  "anaconda-cloud": {},
  "kernelspec": {
   "display_name": "Python 3",
   "language": "python",
   "name": "python3"
  },
  "language_info": {
   "codemirror_mode": {
    "name": "ipython",
    "version": 3
   },
   "file_extension": ".py",
   "mimetype": "text/x-python",
   "name": "python",
   "nbconvert_exporter": "python",
   "pygments_lexer": "ipython3",
   "version": "3.7.3"
  },
  "toc": {
   "base_numbering": 1,
   "nav_menu": {},
   "number_sections": true,
   "sideBar": true,
   "skip_h1_title": false,
   "title_cell": "Table of Contents",
   "title_sidebar": "Contents",
   "toc_cell": false,
   "toc_position": {
    "height": "calc(100% - 180px)",
    "left": "10px",
    "top": "150px",
    "width": "302.5833435058594px"
   },
   "toc_section_display": true,
   "toc_window_display": true
  },
  "varInspector": {
   "cols": {
    "lenName": 16,
    "lenType": 16,
    "lenVar": 40
   },
   "kernels_config": {
    "python": {
     "delete_cmd_postfix": "",
     "delete_cmd_prefix": "del ",
     "library": "var_list.py",
     "varRefreshCmd": "print(var_dic_list())"
    },
    "r": {
     "delete_cmd_postfix": ") ",
     "delete_cmd_prefix": "rm(",
     "library": "var_list.r",
     "varRefreshCmd": "cat(var_dic_list()) "
    }
   },
   "position": {
    "height": "543px",
    "left": "978px",
    "right": "20px",
    "top": "112px",
    "width": "479px"
   },
   "types_to_exclude": [
    "module",
    "function",
    "builtin_function_or_method",
    "instance",
    "_Feature"
   ],
   "window_display": false
  }
 },
 "nbformat": 4,
 "nbformat_minor": 2
}
