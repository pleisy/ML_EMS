{
 "cells": [
  {
   "cell_type": "markdown",
   "metadata": {
    "slideshow": {
     "slide_type": "slide"
    }
   },
   "source": [
    "# PREPARATION"
   ]
  },
  {
   "cell_type": "markdown",
   "metadata": {
    "cell_style": "split"
   },
   "source": [
    "## import librairies"
   ]
  },
  {
   "cell_type": "code",
   "execution_count": 2,
   "metadata": {
    "ExecuteTime": {
     "end_time": "2020-03-19T08:37:12.369893Z",
     "start_time": "2020-03-19T08:37:10.459036Z"
    },
    "slideshow": {
     "slide_type": "skip"
    }
   },
   "outputs": [
    {
     "name": "stdout",
     "output_type": "stream",
     "text": [
      "Panda version: 1.0.1\n",
      "Numpy version: 1.18.1\n",
      "SCIKIT LEARN version: 0.22.1\n",
      "SCIKIT PLOT version: 0.3.7\n",
      "posix \n",
      " Darwin \n",
      " 18.7.0\n",
      "MATPLOTLIB version: 3.1.3\n",
      "Seaborn version: 0.10.0\n",
      "Geo Panda version: 0.6.1\n"
     ]
    }
   ],
   "source": [
    "%load_ext autoreload\n",
    "%autoreload 2\n",
    "\n",
    "# Indispensables\n",
    "import pandas as pd\n",
    "import numpy as np\n",
    "#import math\n",
    "print('Panda version: %s' % pd.__version__)\n",
    "print('Numpy version: %s' % np.__version__)\n",
    "\n",
    "import sklearn\n",
    "print('SCIKIT LEARN version: %s' % sklearn.__version__)\n",
    "# pip install scikit-plot\n",
    "import scikitplot as skplt\n",
    "print('SCIKIT PLOT version: %s' % skplt.__version__)\n",
    "\n",
    "\n",
    "# general\n",
    "import os\n",
    "from os import listdir\n",
    "#from os.path import isfile, join\n",
    "#from os import walk\n",
    "import sys\n",
    "import io\n",
    "import glob\n",
    "import platform\n",
    "#\n",
    "print(os.name, \"\\n\", platform.system(), \"\\n\", platform.release())\n",
    "#\n",
    "import argparse\n",
    "#from datetime import datetime\n",
    "#import h5py\n",
    "#import importlib\n",
    "\n",
    "# VISU\n",
    "import seaborn as sns\n",
    "import matplotlib\n",
    "import matplotlib.pyplot as plt\n",
    "#import matplotlib.colors as mcolors\n",
    "#from matplotlib.colors import LogNorm\n",
    "\n",
    "# IMAGES\n",
    "#from IPython.display import Image, IFrame\n",
    "#from PIL import Image\n",
    "#import rasterio\n",
    "import imageio\n",
    "\n",
    "import colorsys\n",
    "\n",
    "print('MATPLOTLIB version: %s' % matplotlib.__version__)\n",
    "print('Seaborn version: %s' % sns.__version__)\n",
    "\n",
    "import geopandas as gpd\n",
    "print('Geo Panda version: %s' % gpd.__version__)\n",
    "\n",
    "%matplotlib inline\n"
   ]
  },
  {
   "cell_type": "code",
   "execution_count": 4,
   "metadata": {
    "ExecuteTime": {
     "end_time": "2020-03-19T08:37:32.947150Z",
     "start_time": "2020-03-19T08:37:32.907898Z"
    }
   },
   "outputs": [
    {
     "name": "stdout",
     "output_type": "stream",
     "text": [
      "LASPY version: 1.6.0\n"
     ]
    }
   ],
   "source": [
    "import laspy\n",
    "#import pcl\n",
    "\n",
    "#print('PCL version: %s' % pcl.__version__)\n",
    "print('LASPY version: %s' % laspy.__version__)\n"
   ]
  },
  {
   "cell_type": "code",
   "execution_count": 5,
   "metadata": {
    "ExecuteTime": {
     "end_time": "2020-03-19T08:37:40.830228Z",
     "start_time": "2020-03-19T08:37:36.404018Z"
    },
    "slideshow": {
     "slide_type": "subslide"
    }
   },
   "outputs": [
    {
     "name": "stderr",
     "output_type": "stream",
     "text": [
      "Using TensorFlow backend.\n"
     ]
    },
    {
     "name": "stdout",
     "output_type": "stream",
     "text": [
      "TensorFlow: 1.15.0\n",
      "Keras: 2.3.1\n"
     ]
    }
   ],
   "source": [
    "from __future__ import print_function\n",
    "\n",
    "# Machine Lerning\n",
    "from sklearn.model_selection import train_test_split \n",
    "from sklearn.metrics import confusion_matrix\n",
    "# pip install scikit-plot\n",
    "import scikitplot as skplt\n",
    "\n",
    "import tensorflow as tf\n",
    "\n",
    "import keras\n",
    "from keras.utils import to_categorical\n",
    "from keras.models import Sequential\n",
    "from keras.layers import Dense, Dropout, Flatten, Activation     #LSTM\n",
    "from keras.layers import Conv1D, Conv2D, MaxPooling1D, MaxPooling2D\n",
    "from keras import backend as K\n",
    "from keras.callbacks import History\n",
    "#\n",
    "from keras.preprocessing.image import load_img, save_img\n",
    "from keras.preprocessing.image import img_to_array\n",
    "from keras.preprocessing.image import array_to_img\n",
    "#\n",
    "from keras.optimizers import SGD\n",
    "from keras.regularizers import l2\n",
    "\n",
    "print('TensorFlow: %s' % tf.__version__)\n",
    "print('Keras: %s' % keras.__version__)"
   ]
  },
  {
   "cell_type": "markdown",
   "metadata": {
    "slideshow": {
     "slide_type": "skip"
    }
   },
   "source": [
    "## Déclaration des directories et variables"
   ]
  },
  {
   "cell_type": "code",
   "execution_count": 6,
   "metadata": {
    "ExecuteTime": {
     "end_time": "2020-03-19T08:37:45.775096Z",
     "start_time": "2020-03-19T08:37:45.648655Z"
    },
    "slideshow": {
     "slide_type": "skip"
    }
   },
   "outputs": [
    {
     "name": "stdout",
     "output_type": "stream",
     "text": [
      "Working directory: /Users/pierreleisy/C-PYTHON/training-Python/NOTEBOOK\n",
      "Data ROOT directory: /Users/pierreleisy/Data_Science/NOTEBOOK/STAGE/DATA1/\n"
     ]
    },
    {
     "data": {
      "text/plain": [
       "['/Users/pierreleisy/C-PYTHON/training-Python/NOTEBOOK',\n",
       " '/Users/pierreleisy/Data_Science/anaconda3/lib/python37.zip',\n",
       " '/Users/pierreleisy/Data_Science/anaconda3/lib/python3.7',\n",
       " '/Users/pierreleisy/Data_Science/anaconda3/lib/python3.7/lib-dynload',\n",
       " '',\n",
       " '/Users/pierreleisy/.local/lib/python3.7/site-packages',\n",
       " '/Users/pierreleisy/Data_Science/anaconda3/lib/python3.7/site-packages',\n",
       " '/Users/pierreleisy/Data_Science/anaconda3/lib/python3.7/site-packages/aeosa',\n",
       " '/Users/pierreleisy/Data_Science/anaconda3/lib/python3.7/site-packages/IPython/extensions',\n",
       " '/Users/pierreleisy/.ipython',\n",
       " '/Users/pierreleisy/Data_Science/NOTEBOOK/STAGE/DATA1/',\n",
       " '/Users/pierreleisy/Data_Science/NOTEBOOK/STAGE/DATA1/DallesNumPoints5m\\\\']"
      ]
     },
     "execution_count": 6,
     "metadata": {},
     "output_type": "execute_result"
    }
   ],
   "source": [
    "BASE_DIR = os.getcwd()\n",
    "\n",
    "separe = \"/\"\n",
    "# Laptop\n",
    "if platform.system() == 'Darwin' and platform.release() == '18.7.0':\n",
    "    DATA_DIR  = \"/Users/pierreleisy/Data_Science/NOTEBOOK/STAGE/DATA1/\"\n",
    "    DATA_DIR2 = \"/Users/pierreleisy/Data_Science/NOTEBOOK/STAGE/DATA2/\"\n",
    "    DATA_DIR3 = \"/Users/pierreleisy/Data_Science/NOTEBOOK/STAGE/DATA3/\"\n",
    "    DATA_DIR9 = \"/Users/pierreleisy/Data_Science/NOTEBOOK/STAGE/\"\n",
    "# sur IMAC\n",
    "else:   #if platform.system() == 'Darwin' and platform.release() == '18.0.0':\n",
    "    DATA_DIR  = \"/Users/pl/Desktop/DATA_SCIENCE/NOTEBOOK/EMS/DATA1/\"\n",
    "    DATA_DIR2 = \"/Users/pl/Desktop/DATA_SCIENCE/NOTEBOOK/EMS/DATA2/\"\n",
    "    DATA_DIR3 = \"/Users/pl/Desktop/DATA_SCIENCE/NOTEBOOK/EMS/DATA3/\"\n",
    "    DATA_DIR9 = \"/Users/pl/Desktop/DATA_SCIENCE/NOTEBOOK/EMS/\"\n",
    "## Eurométropole\n",
    "if platform.system() == 'Windows':\n",
    "    DATA_DIR  = \"S:\\\\Commun\\\\SIG3D\\\\2020\\\\PROJETS_2020\\\\20039_MachineLearning\\\\DATA\\\\\"\n",
    "    DATA_DIR2 = \"S:\\\\Commun\\\\SIG3D\\\\2020\\\\PROJETS_2020\\\\20039_MachineLearning\\\\DATA2\\\\\"\n",
    "    DATA_DIR3 = \"S:\\\\Commun\\\\SIG3D\\\\2020\\\\PROJETS_2020\\\\20039_MachineLearning\\\\DATA3\\\\\"\n",
    "    DATA_DIR9 = \"C:\\\\Users\\\\STG3841\\\\Mes Documents (local)\\\\travail\\\\\"\n",
    "    separe = \"\\\\\"   \n",
    " #   \n",
    "DALLE_NUM  = DATA_DIR  + \"DallesNumPoints5m\" + separe\n",
    "DALLE_ECA  = DATA_DIR  + \"DallesEcartZ5m\" + separe\n",
    "DALLE_POS  = DATA_DIR  + \"DallesPosition5m\" + separe\n",
    "#\n",
    "DALLE_NUM2 = DATA_DIR2 + \"DallesNumPoints5m\" + separe\n",
    "DALLE_ECA2 = DATA_DIR2 + \"DallesEcartZ5m\" + separe\n",
    "DALLE_POS2 = DATA_DIR2 + \"DallesPosition5m\" + separe\n",
    "#\n",
    "DALLE_NUM3 = DATA_DIR3 + \"DallesNumPoints5m\" + separe\n",
    "DALLE_ECA3 = DATA_DIR3 + \"DallesEcartZ5m\" + separe\n",
    "DALLE_POS3 = DATA_DIR3 + \"DallesPosition5m\" + separe\n",
    "print(\"Working directory:\",BASE_DIR)\n",
    "print(\"Data ROOT directory:\",DATA_DIR)\n",
    "\n",
    "sys.path.append(DATA_DIR)\n",
    "sys.path.append(os.path.join(DATA_DIR,'DallesNumPoints5m\\\\'))\n",
    "sys.path"
   ]
  },
  {
   "cell_type": "markdown",
   "metadata": {
    "slideshow": {
     "slide_type": "skip"
    }
   },
   "source": [
    "## création des listes d'images"
   ]
  },
  {
   "cell_type": "code",
   "execution_count": 7,
   "metadata": {
    "ExecuteTime": {
     "end_time": "2020-03-19T08:37:51.254563Z",
     "start_time": "2020-03-19T08:37:50.325790Z"
    },
    "slideshow": {
     "slide_type": "skip"
    }
   },
   "outputs": [
    {
     "name": "stdout",
     "output_type": "stream",
     "text": [
      "58775 29384 29384 29384\n",
      "58775 1408 1408 1408\n",
      "58775 0 0 0\n",
      "58775 58778 58768\n"
     ]
    }
   ],
   "source": [
    "#liste1 = [f for f in listdir(DALLE_NUM) if isfile(join(DALLE_NUM, f))]\n",
    "liste_11 = [f for f in glob.glob(DALLE_NUM  + separe + \"*.tif\", recursive=True)]#   #only first N for test\n",
    "liste_12 = [f for f in glob.glob(DALLE_ECA  + separe + \"*.tif\", recursive=True)]#\n",
    "liste_13 = [f for f in glob.glob(DALLE_POS  + separe + \"*.tif\", recursive=True)]#\n",
    "\n",
    "liste_21 = [f for f in glob.glob(DALLE_NUM2 + separe + \"*.tif\", recursive=True)]#   #only first N for test\n",
    "liste_22 = [f for f in glob.glob(DALLE_ECA2 + separe + \"*.tif\", recursive=True)]#\n",
    "liste_23 = [f for f in glob.glob(DALLE_POS2 + separe + \"*.tif\", recursive=True)]#\n",
    "\n",
    "liste_31 = [f for f in glob.glob(DALLE_NUM3 + separe + \"*.tif\", recursive=True)]#   #only first N for test\n",
    "liste_32 = [f for f in glob.glob(DALLE_ECA3 + separe + \"*.tif\", recursive=True)]#\n",
    "liste_33 = [f for f in glob.glob(DALLE_POS3 + separe + \"*.tif\", recursive=True)]#\n",
    "\n",
    "print(len(listdir(DALLE_NUM)), len(liste_11), len(liste_12), len(liste_13))\n",
    "print(len(listdir(DALLE_NUM)), len(liste_21), len(liste_22), len(liste_23))\n",
    "print(len(listdir(DALLE_NUM)), len(liste_31), len(liste_32), len(liste_33))\n",
    "\n",
    "liste_NUM = os.listdir(DALLE_NUM)\n",
    "liste_ECA = os.listdir(DALLE_ECA)\n",
    "liste_POS = os.listdir(DALLE_POS)\n",
    "print(len(liste_NUM), len(liste_ECA), len(liste_POS))"
   ]
  },
  {
   "cell_type": "code",
   "execution_count": null,
   "metadata": {},
   "outputs": [],
   "source": []
  },
  {
   "cell_type": "markdown",
   "metadata": {
    "slideshow": {
     "slide_type": "skip"
    }
   },
   "source": [
    "# DONNEES"
   ]
  },
  {
   "cell_type": "markdown",
   "metadata": {},
   "source": [
    "## LASPY ou autre librairies NUAGES de POINTS"
   ]
  },
  {
   "cell_type": "raw",
   "metadata": {},
   "source": [
    "https://towardsdatascience.com/point-cloud-data-simple-approach-f3855fdc08f5\n",
    "\n",
    "### enormous amount of RAM for the storage of really sparse data\n",
    "5030868^3 =  1,27 10e20"
   ]
  },
  {
   "cell_type": "code",
   "execution_count": 8,
   "metadata": {
    "ExecuteTime": {
     "end_time": "2020-03-19T08:38:08.987472Z",
     "start_time": "2020-03-19T08:38:08.648542Z"
    }
   },
   "outputs": [
    {
     "data": {
      "text/plain": [
       "(5030868, 3)"
      ]
     },
     "execution_count": 8,
     "metadata": {},
     "output_type": "execute_result"
    }
   ],
   "source": [
    "import laspy\n",
    "\n",
    "# Open a file in read mode:\n",
    "inFile = laspy.file.File(DATA_DIR9 + \"2043000_7272500_Lidar_15-16.las\")\n",
    "# Grab a numpy dataset of our clustering dimensions:\n",
    "dataset = np.vstack([inFile.x, inFile.y, inFile.z]).transpose()\n",
    "dataset.shape"
   ]
  },
  {
   "cell_type": "code",
   "execution_count": 8,
   "metadata": {
    "ExecuteTime": {
     "end_time": "2020-03-16T10:03:47.105826Z",
     "start_time": "2020-03-16T09:59:56.331349Z"
    }
   },
   "outputs": [
    {
     "name": "stdout",
     "output_type": "stream",
     "text": [
      "zfiltered = 3.0390000000000015\n",
      "dataset_Z_filtered shape (8115, 3)\n",
      "CPU times: user 3min 49s, sys: 352 ms, total: 3min 50s\n",
      "Wall time: 3min 50s\n"
     ]
    }
   ],
   "source": [
    "%%time\n",
    "def frange(start, stop, step):\n",
    "    i = start\n",
    "    while i < stop:\n",
    "        yield i\n",
    "        i += step\n",
    "        \n",
    "#ground points grid filter\n",
    "n = 100 #grid step\n",
    "\n",
    "dataset_Z_filtered = dataset[[0]]\n",
    "\n",
    "zfiltered = (dataset[:, 2].max() - dataset[:, 2].min())/10 \n",
    "\n",
    "#setting height filtered from ground\n",
    "print('zfiltered =', zfiltered)\n",
    "xstep = (dataset[:, 0].max() - dataset[:, 0].min())/n\n",
    "ystep = (dataset[:, 1].max() - dataset[:, 1].min())/n\n",
    "\n",
    "for x in frange (dataset[:, 0].min(), dataset[:, 0].max(), xstep):\n",
    "    for y in frange (dataset[:, 1].min(), dataset[:, 1].max(), ystep):\n",
    "        datasetfiltered = dataset[(dataset[:,0] > x)\n",
    "                             &(dataset[:, 0] < x+xstep)\n",
    "                             &(dataset[:, 1] > y)\n",
    "                             &(dataset[:, 1] < y+ystep)]\n",
    "    if datasetfiltered.shape[0] > 0:\n",
    "        datasetfiltered = datasetfiltered[datasetfiltered[:, 2]\n",
    "                        >(datasetfiltered[:, 2].min()+ zfiltered)]\n",
    "        if datasetfiltered.shape[0] > 0:\n",
    "            dataset_Z_filtered = np.concatenate((dataset_Z_filtered,\n",
    "                                             datasetfiltered))\n",
    "print('dataset_Z_filtered shape', dataset_Z_filtered.shape)"
   ]
  },
  {
   "cell_type": "code",
   "execution_count": 9,
   "metadata": {
    "ExecuteTime": {
     "end_time": "2020-03-16T10:07:09.709966Z",
     "start_time": "2020-03-16T10:07:09.635400Z"
    }
   },
   "outputs": [
    {
     "name": "stdout",
     "output_type": "stream",
     "text": [
      "Examining Point Format: \n",
      "X\n",
      "Y\n",
      "Z\n",
      "intensity\n",
      "flag_byte\n",
      "raw_classification\n",
      "scan_angle_rank\n",
      "user_data\n",
      "pt_src_id\n",
      "gps_time\n",
      "red\n",
      "green\n",
      "blue\n"
     ]
    }
   ],
   "source": [
    "print(\"Examining Point Format: \")\n",
    "pointformat = inFile.point_format\n",
    "for spec in inFile.point_format:\n",
    "    print(spec.name)"
   ]
  },
  {
   "cell_type": "raw",
   "metadata": {},
   "source": [
    "During my experiments\n",
    "I try to use the 4D representation of data (X, Y, Z and intensity) but the results \n",
    "do not improve over 3D (X, Y, Z) so let’s stick to the latter subset of data"
   ]
  },
  {
   "cell_type": "code",
   "execution_count": 10,
   "metadata": {
    "ExecuteTime": {
     "end_time": "2020-03-16T10:07:27.432365Z",
     "start_time": "2020-03-16T10:07:27.328474Z"
    }
   },
   "outputs": [
    {
     "name": "stdout",
     "output_type": "stream",
     "text": [
      "Z range = 30.390000000000015\n",
      "Z max   = 173.93 Z min = 143.54\n",
      "Y range = 499.9900000002235\n",
      "Y max   = 7272999.99 Y min = 7272500.0\n",
      "X range = 499.9899999999907\n",
      "X max   = 2043499.99 X min = 2043000.0\n"
     ]
    }
   ],
   "source": [
    "print('Z range =', dataset[:, 2].max() - dataset[:, 2].min())\n",
    "print('Z max   =', dataset[:, 2].max(), 'Z min =', dataset[:, 2].min())\n",
    "print('Y range =', dataset[:, 1].max() - dataset[:, 1].min())\n",
    "print('Y max   =', dataset[:, 1].max(), 'Y min =', dataset[:, 1].min())\n",
    "print('X range =', dataset[:, 0].max() - dataset[:, 0].min())\n",
    "print('X max   =', dataset[:, 0].max(), 'X min =', dataset[:, 0].min())"
   ]
  },
  {
   "cell_type": "code",
   "execution_count": 11,
   "metadata": {
    "ExecuteTime": {
     "end_time": "2020-03-16T10:07:47.460178Z",
     "start_time": "2020-03-16T10:07:46.476771Z"
    }
   },
   "outputs": [],
   "source": [
    "from sklearn.cluster import DBSCAN\n",
    "from sklearn import metrics\n",
    "from sklearn import preprocessing\n",
    "from mpl_toolkits.mplot3d import Axes3D\n",
    "from matplotlib import path\n",
    "\n",
    "dataset = preprocessing.normalize(dataset)\n",
    "dataset_Z_filtered = preprocessing.normalize(dataset_Z_filtered)"
   ]
  },
  {
   "cell_type": "code",
   "execution_count": null,
   "metadata": {
    "ExecuteTime": {
     "start_time": "2020-03-16T10:08:09.087Z"
    }
   },
   "outputs": [],
   "source": [
    "clustering = DBSCAN(eps=2, min_samples=5, leaf_size=30).fit(dataset)\n",
    "#clustering = DBSCAN(eps=2, min_samples=5, leaf_size=30).fit(dataset_Z_filtered)\n"
   ]
  },
  {
   "cell_type": "code",
   "execution_count": null,
   "metadata": {
    "ExecuteTime": {
     "start_time": "2020-03-16T10:10:07.118Z"
    }
   },
   "outputs": [],
   "source": [
    "core_samples_mask = np.zeros_like(clustering.labels_, dtype=bool)\n",
    "core_samples_mask[clustering.core_sample_indices_] = True\n",
    "labels = clustering.labels_\n",
    "# Number of clusters in labels, ignoring noise if present.\n",
    "n_clusters_ = len(set(labels)) - (1 if -1 in labels else 0)\n",
    "n_noise_ = list(labels).count(-1)\n",
    "print('Estimated number of clusters: %d' % n_clusters_)\n",
    "print('Estimated number of noise points: %d' % n_noise_)"
   ]
  },
  {
   "cell_type": "code",
   "execution_count": null,
   "metadata": {},
   "outputs": [],
   "source": []
  },
  {
   "cell_type": "code",
   "execution_count": null,
   "metadata": {
    "ExecuteTime": {
     "start_time": "2020-03-16T10:12:24.284Z"
    }
   },
   "outputs": [],
   "source": [
    "# Black removed and is used for noise instead.\n",
    "fig = plt.figure(figsize=[100, 50])\n",
    "ax = fig.add_subplot(111, projection=’3d’)\n",
    "\n",
    "unique_labels = set(labels)\n",
    "colors = [plt.cm.Spectral(each)\n",
    "\n",
    "for each in np.linspace(0, 1, len(unique_labels))]\n",
    "    for k, col in zip(unique_labels, colors):\n",
    "        if k == -1:\n",
    "    # Black used for noise.\n",
    "            col = [0, 0, 0, 1]\n",
    "            class_member_mask = (labels == k)\n",
    "        xyz = dataset[class_member_mask & core_samples_mask]\n",
    "        ax.scatter(xyz[:, 0], xyz[:, 1], xyz[:, 2], c=col, marker=”.”)\n",
    "        \n",
    "plt.title(‘Estimated number of cluster: %d’ % n_clusters_)\n",
    "plt.show()"
   ]
  },
  {
   "cell_type": "code",
   "execution_count": null,
   "metadata": {},
   "outputs": [],
   "source": []
  },
  {
   "cell_type": "markdown",
   "metadata": {
    "slideshow": {
     "slide_type": "skip"
    }
   },
   "source": [
    "## TEST:  Lecture autres fichiers"
   ]
  },
  {
   "cell_type": "code",
   "execution_count": 9,
   "metadata": {
    "ExecuteTime": {
     "end_time": "2020-03-19T08:38:28.599566Z",
     "start_time": "2020-03-19T08:38:28.093959Z"
    }
   },
   "outputs": [
    {
     "name": "stdout",
     "output_type": "stream",
     "text": [
      "(24848, 15)\n",
      "(10184, 15)\n"
     ]
    },
    {
     "data": {
      "text/html": [
       "<div>\n",
       "<style scoped>\n",
       "    .dataframe tbody tr th:only-of-type {\n",
       "        vertical-align: middle;\n",
       "    }\n",
       "\n",
       "    .dataframe tbody tr th {\n",
       "        vertical-align: top;\n",
       "    }\n",
       "\n",
       "    .dataframe thead th {\n",
       "        text-align: right;\n",
       "    }\n",
       "</style>\n",
       "<table border=\"1\" class=\"dataframe\">\n",
       "  <thead>\n",
       "    <tr style=\"text-align: right;\">\n",
       "      <th></th>\n",
       "      <th>gid</th>\n",
       "      <th>ident_gy</th>\n",
       "      <th>code_precision</th>\n",
       "      <th>date_leve</th>\n",
       "      <th>auteur</th>\n",
       "      <th>observ_autre</th>\n",
       "      <th>date_reco</th>\n",
       "      <th>date_modif</th>\n",
       "      <th>type_entite</th>\n",
       "      <th>z_sol</th>\n",
       "      <th>orientation</th>\n",
       "      <th>echelle_x</th>\n",
       "      <th>echelle_y</th>\n",
       "      <th>date_creation</th>\n",
       "      <th>date_maj</th>\n",
       "    </tr>\n",
       "  </thead>\n",
       "  <tbody>\n",
       "    <tr>\n",
       "      <th>0</th>\n",
       "      <td>40074</td>\n",
       "      <td>NaN</td>\n",
       "      <td>rattache</td>\n",
       "      <td>2018/11/17 00:00:00</td>\n",
       "      <td>Clauss</td>\n",
       "      <td>NaN</td>\n",
       "      <td>2018/10/01 00:00:00</td>\n",
       "      <td>NaN</td>\n",
       "      <td>banc_public</td>\n",
       "      <td>139.26</td>\n",
       "      <td>NaN</td>\n",
       "      <td>NaN</td>\n",
       "      <td>NaN</td>\n",
       "      <td>2018/11/30 09:34:12</td>\n",
       "      <td>2019/05/09 16:17:16</td>\n",
       "    </tr>\n",
       "    <tr>\n",
       "      <th>1</th>\n",
       "      <td>192</td>\n",
       "      <td>54449499.0</td>\n",
       "      <td>rattache</td>\n",
       "      <td>2011/12/02 00:00:00</td>\n",
       "      <td>Brundaller</td>\n",
       "      <td>NaN</td>\n",
       "      <td>2019/09/01 00:00:00</td>\n",
       "      <td>NaN</td>\n",
       "      <td>banc_public</td>\n",
       "      <td>147.25</td>\n",
       "      <td>NaN</td>\n",
       "      <td>NaN</td>\n",
       "      <td>NaN</td>\n",
       "      <td>2014/01/18 14:15:10</td>\n",
       "      <td>2020/02/20 10:24:48</td>\n",
       "    </tr>\n",
       "    <tr>\n",
       "      <th>4</th>\n",
       "      <td>31635</td>\n",
       "      <td>NaN</td>\n",
       "      <td>rattache</td>\n",
       "      <td>2016/05/05 00:00:00</td>\n",
       "      <td>Clauss</td>\n",
       "      <td>NaN</td>\n",
       "      <td>2019/05/07 00:00:00</td>\n",
       "      <td>NaN</td>\n",
       "      <td>banc_public</td>\n",
       "      <td>141.16</td>\n",
       "      <td>NaN</td>\n",
       "      <td>NaN</td>\n",
       "      <td>NaN</td>\n",
       "      <td>2016/11/15 10:57:00</td>\n",
       "      <td>2019/10/28 15:15:04</td>\n",
       "    </tr>\n",
       "  </tbody>\n",
       "</table>\n",
       "</div>"
      ],
      "text/plain": [
       "     gid    ident_gy code_precision            date_leve      auteur  \\\n",
       "0  40074         NaN       rattache  2018/11/17 00:00:00      Clauss   \n",
       "1    192  54449499.0       rattache  2011/12/02 00:00:00  Brundaller   \n",
       "4  31635         NaN       rattache  2016/05/05 00:00:00      Clauss   \n",
       "\n",
       "  observ_autre            date_reco date_modif  type_entite   z_sol  \\\n",
       "0          NaN  2018/10/01 00:00:00        NaN  banc_public  139.26   \n",
       "1          NaN  2019/09/01 00:00:00        NaN  banc_public  147.25   \n",
       "4          NaN  2019/05/07 00:00:00        NaN  banc_public  141.16   \n",
       "\n",
       "   orientation  echelle_x  echelle_y        date_creation             date_maj  \n",
       "0          NaN        NaN        NaN  2018/11/30 09:34:12  2019/05/09 16:17:16  \n",
       "1          NaN        NaN        NaN  2014/01/18 14:15:10  2020/02/20 10:24:48  \n",
       "4          NaN        NaN        NaN  2016/11/15 10:57:00  2019/10/28 15:15:04  "
      ]
     },
     "execution_count": 9,
     "metadata": {},
     "output_type": "execute_result"
    }
   ],
   "source": [
    "f_lamp = DATA_DIR  + \"lampadaires2.csv\"\n",
    "f_mobi = DATA_DIR  + \"mobilier_amenagement2.csv\"\n",
    "\n",
    "lampad = pd.read_csv(f_lamp, sep=\",\",header=0, encoding = \"utf-8\")\n",
    "#print(lampad.head(3))\n",
    "\n",
    "mobilier = pd.read_csv(f_mobi, sep=\",\", header=0, encoding = \"utf-8\")\n",
    "print(mobilier.shape)\n",
    "mobilier2 = mobilier[mobilier['type_entite'] == 'banc_public']\n",
    "print(mobilier2.shape)\n",
    "mobilier2.head(3)"
   ]
  },
  {
   "cell_type": "code",
   "execution_count": 10,
   "metadata": {
    "ExecuteTime": {
     "end_time": "2020-03-19T08:38:34.675650Z",
     "start_time": "2020-03-19T08:38:31.916948Z"
    }
   },
   "outputs": [
    {
     "data": {
      "text/html": [
       "<div>\n",
       "<style scoped>\n",
       "    .dataframe tbody tr th:only-of-type {\n",
       "        vertical-align: middle;\n",
       "    }\n",
       "\n",
       "    .dataframe tbody tr th {\n",
       "        vertical-align: top;\n",
       "    }\n",
       "\n",
       "    .dataframe thead th {\n",
       "        text-align: right;\n",
       "    }\n",
       "</style>\n",
       "<table border=\"1\" class=\"dataframe\">\n",
       "  <thead>\n",
       "    <tr style=\"text-align: right;\">\n",
       "      <th></th>\n",
       "      <th>gid</th>\n",
       "      <th>ident_gy</th>\n",
       "      <th>code_preci</th>\n",
       "      <th>date_leve</th>\n",
       "      <th>auteur</th>\n",
       "      <th>date_reco</th>\n",
       "      <th>angle_g</th>\n",
       "      <th>z_sol</th>\n",
       "      <th>date_creat</th>\n",
       "      <th>date_maj</th>\n",
       "      <th>geometry</th>\n",
       "    </tr>\n",
       "  </thead>\n",
       "  <tbody>\n",
       "    <tr>\n",
       "      <th>0</th>\n",
       "      <td>151</td>\n",
       "      <td>69204241.0</td>\n",
       "      <td>rattache</td>\n",
       "      <td>1998/09/01 00:00:00.000</td>\n",
       "      <td>Muller C</td>\n",
       "      <td>2017/10/23 00:00:00.000</td>\n",
       "      <td>-42.4</td>\n",
       "      <td>158.56</td>\n",
       "      <td>2014/01/18 13:58:37.000</td>\n",
       "      <td>2018/02/12 14:08:52.000</td>\n",
       "      <td>POINT (2046319.603 7283270.659)</td>\n",
       "    </tr>\n",
       "    <tr>\n",
       "      <th>1</th>\n",
       "      <td>152</td>\n",
       "      <td>69204199.0</td>\n",
       "      <td>rattache</td>\n",
       "      <td>1998/09/01 00:00:00.000</td>\n",
       "      <td>Muller C</td>\n",
       "      <td>2017/10/23 00:00:00.000</td>\n",
       "      <td>-57.6</td>\n",
       "      <td>157.94</td>\n",
       "      <td>2014/01/18 13:58:37.000</td>\n",
       "      <td>2018/02/12 14:09:00.000</td>\n",
       "      <td>POINT (2045855.457 7283330.024)</td>\n",
       "    </tr>\n",
       "    <tr>\n",
       "      <th>2</th>\n",
       "      <td>153</td>\n",
       "      <td>69204198.0</td>\n",
       "      <td>rattache</td>\n",
       "      <td>1998/09/01 00:00:00.000</td>\n",
       "      <td>Muller C</td>\n",
       "      <td>2017/10/23 00:00:00.000</td>\n",
       "      <td>0.0</td>\n",
       "      <td>160.34</td>\n",
       "      <td>2014/01/18 13:58:37.000</td>\n",
       "      <td>2018/02/12 14:09:00.000</td>\n",
       "      <td>POINT (2046065.952 7283614.279)</td>\n",
       "    </tr>\n",
       "    <tr>\n",
       "      <th>3</th>\n",
       "      <td>154</td>\n",
       "      <td>69204197.0</td>\n",
       "      <td>rattache</td>\n",
       "      <td>1998/09/01 00:00:00.000</td>\n",
       "      <td>Muller C</td>\n",
       "      <td>2017/10/23 00:00:00.000</td>\n",
       "      <td>-58.9</td>\n",
       "      <td>157.95</td>\n",
       "      <td>2014/01/18 13:58:37.000</td>\n",
       "      <td>2018/02/12 14:09:00.000</td>\n",
       "      <td>POINT (2046062.432 7283583.205)</td>\n",
       "    </tr>\n",
       "    <tr>\n",
       "      <th>4</th>\n",
       "      <td>155</td>\n",
       "      <td>69204071.0</td>\n",
       "      <td>rattache</td>\n",
       "      <td>1998/09/01 00:00:00.000</td>\n",
       "      <td>Muller C</td>\n",
       "      <td>2017/10/23 00:00:00.000</td>\n",
       "      <td>-163.4</td>\n",
       "      <td>149.73</td>\n",
       "      <td>2014/01/18 13:58:37.000</td>\n",
       "      <td>2018/02/12 14:09:24.000</td>\n",
       "      <td>POINT (2045854.604 7282886.637)</td>\n",
       "    </tr>\n",
       "  </tbody>\n",
       "</table>\n",
       "</div>"
      ],
      "text/plain": [
       "   gid    ident_gy code_preci                date_leve    auteur  \\\n",
       "0  151  69204241.0   rattache  1998/09/01 00:00:00.000  Muller C   \n",
       "1  152  69204199.0   rattache  1998/09/01 00:00:00.000  Muller C   \n",
       "2  153  69204198.0   rattache  1998/09/01 00:00:00.000  Muller C   \n",
       "3  154  69204197.0   rattache  1998/09/01 00:00:00.000  Muller C   \n",
       "4  155  69204071.0   rattache  1998/09/01 00:00:00.000  Muller C   \n",
       "\n",
       "                 date_reco  angle_g   z_sol               date_creat  \\\n",
       "0  2017/10/23 00:00:00.000    -42.4  158.56  2014/01/18 13:58:37.000   \n",
       "1  2017/10/23 00:00:00.000    -57.6  157.94  2014/01/18 13:58:37.000   \n",
       "2  2017/10/23 00:00:00.000      0.0  160.34  2014/01/18 13:58:37.000   \n",
       "3  2017/10/23 00:00:00.000    -58.9  157.95  2014/01/18 13:58:37.000   \n",
       "4  2017/10/23 00:00:00.000   -163.4  149.73  2014/01/18 13:58:37.000   \n",
       "\n",
       "                  date_maj                         geometry  \n",
       "0  2018/02/12 14:08:52.000  POINT (2046319.603 7283270.659)  \n",
       "1  2018/02/12 14:09:00.000  POINT (2045855.457 7283330.024)  \n",
       "2  2018/02/12 14:09:00.000  POINT (2046065.952 7283614.279)  \n",
       "3  2018/02/12 14:09:00.000  POINT (2046062.432 7283583.205)  \n",
       "4  2018/02/12 14:09:24.000  POINT (2045854.604 7282886.637)  "
      ]
     },
     "execution_count": 10,
     "metadata": {},
     "output_type": "execute_result"
    }
   ],
   "source": [
    "#import geopandas as gpd\n",
    "\n",
    "gdf_lamp = gpd.read_file(DATA_DIR  + \"lampadaires.shp\")                           \n",
    "gdf_lamp.head()\n"
   ]
  },
  {
   "cell_type": "code",
   "execution_count": 11,
   "metadata": {
    "ExecuteTime": {
     "end_time": "2020-03-19T08:38:37.884684Z",
     "start_time": "2020-03-19T08:38:36.690624Z"
    }
   },
   "outputs": [],
   "source": [
    "from shapely.geometry import Point, LineString, MultiLineString\n",
    "\n",
    "gdf_mobi = gpd.read_file(DATA_DIR  + \"mobilier_amenagement.shp\")\n",
    "gdf_mobi2 = gdf_mobi[gdf_mobi['type_entit'] == 'banc_public']\n",
    "# Type MULTILINESTRING  gdf_mobi2.head(76)"
   ]
  },
  {
   "cell_type": "code",
   "execution_count": 12,
   "metadata": {
    "ExecuteTime": {
     "end_time": "2020-03-19T08:38:44.071448Z",
     "start_time": "2020-03-19T08:38:43.931279Z"
    }
   },
   "outputs": [
    {
     "name": "stdout",
     "output_type": "stream",
     "text": [
      "(10184, 16) (80, 16)\n",
      "Nombre maximum de points: 136  avec  2 MultiLineStrings\n",
      "(80, 18)\n"
     ]
    },
    {
     "name": "stderr",
     "output_type": "stream",
     "text": [
      "/Users/pierreleisy/Data_Science/anaconda3/lib/python3.7/site-packages/ipykernel_launcher.py:37: SettingWithCopyWarning: \n",
      "A value is trying to be set on a copy of a slice from a DataFrame.\n",
      "Try using .loc[row_indexer,col_indexer] = value instead\n",
      "\n",
      "See the caveats in the documentation: https://pandas.pydata.org/pandas-docs/stable/user_guide/indexing.html#returning-a-view-versus-a-copy\n",
      "/Users/pierreleisy/Data_Science/anaconda3/lib/python3.7/site-packages/ipykernel_launcher.py:38: SettingWithCopyWarning: \n",
      "A value is trying to be set on a copy of a slice from a DataFrame.\n",
      "Try using .loc[row_indexer,col_indexer] = value instead\n",
      "\n",
      "See the caveats in the documentation: https://pandas.pydata.org/pandas-docs/stable/user_guide/indexing.html#returning-a-view-versus-a-copy\n"
     ]
    },
    {
     "data": {
      "text/html": [
       "<div>\n",
       "<style scoped>\n",
       "    .dataframe tbody tr th:only-of-type {\n",
       "        vertical-align: middle;\n",
       "    }\n",
       "\n",
       "    .dataframe tbody tr th {\n",
       "        vertical-align: top;\n",
       "    }\n",
       "\n",
       "    .dataframe thead th {\n",
       "        text-align: right;\n",
       "    }\n",
       "</style>\n",
       "<table border=\"1\" class=\"dataframe\">\n",
       "  <thead>\n",
       "    <tr style=\"text-align: right;\">\n",
       "      <th></th>\n",
       "      <th>gid</th>\n",
       "      <th>ident_gy</th>\n",
       "      <th>code_preci</th>\n",
       "      <th>date_leve</th>\n",
       "      <th>auteur</th>\n",
       "      <th>observ_aut</th>\n",
       "      <th>date_reco</th>\n",
       "      <th>date_modif</th>\n",
       "      <th>type_entit</th>\n",
       "      <th>z_sol</th>\n",
       "      <th>orientatio</th>\n",
       "      <th>echelle_x</th>\n",
       "      <th>echelle_y</th>\n",
       "      <th>date_creat</th>\n",
       "      <th>date_maj</th>\n",
       "      <th>geometry</th>\n",
       "      <th>x</th>\n",
       "      <th>y</th>\n",
       "    </tr>\n",
       "  </thead>\n",
       "  <tbody>\n",
       "    <tr>\n",
       "      <th>211</th>\n",
       "      <td>60</td>\n",
       "      <td>-1.996483e+09</td>\n",
       "      <td>rattache</td>\n",
       "      <td>2013/10/14 00:00:00.000</td>\n",
       "      <td>Clauss</td>\n",
       "      <td>None</td>\n",
       "      <td>2019/05/07 00:00:00.000</td>\n",
       "      <td>None</td>\n",
       "      <td>banc_public</td>\n",
       "      <td>141.34</td>\n",
       "      <td>None</td>\n",
       "      <td>None</td>\n",
       "      <td>None</td>\n",
       "      <td>2014/01/18 14:15:10.000</td>\n",
       "      <td>2019/10/28 15:15:04.000</td>\n",
       "      <td>MULTILINESTRING ((2052210.294 7271182.357, 205...</td>\n",
       "      <td>2.052210e+06</td>\n",
       "      <td>7.271185e+06</td>\n",
       "    </tr>\n",
       "    <tr>\n",
       "      <th>212</th>\n",
       "      <td>61</td>\n",
       "      <td>-1.996483e+09</td>\n",
       "      <td>rattache</td>\n",
       "      <td>2013/10/14 00:00:00.000</td>\n",
       "      <td>Clauss</td>\n",
       "      <td>None</td>\n",
       "      <td>2019/05/07 00:00:00.000</td>\n",
       "      <td>None</td>\n",
       "      <td>banc_public</td>\n",
       "      <td>141.35</td>\n",
       "      <td>None</td>\n",
       "      <td>None</td>\n",
       "      <td>None</td>\n",
       "      <td>2014/01/18 14:15:10.000</td>\n",
       "      <td>2019/10/28 15:15:04.000</td>\n",
       "      <td>MULTILINESTRING ((2052227.674 7271165.949, 205...</td>\n",
       "      <td>2.052228e+06</td>\n",
       "      <td>7.271168e+06</td>\n",
       "    </tr>\n",
       "    <tr>\n",
       "      <th>213</th>\n",
       "      <td>40</td>\n",
       "      <td>5.450002e+07</td>\n",
       "      <td>rattache</td>\n",
       "      <td>2013/05/23 00:00:00.000</td>\n",
       "      <td>Muller C</td>\n",
       "      <td>None</td>\n",
       "      <td>2017/03/24 00:00:00.000</td>\n",
       "      <td>None</td>\n",
       "      <td>banc_public</td>\n",
       "      <td>146.25</td>\n",
       "      <td>None</td>\n",
       "      <td>None</td>\n",
       "      <td>None</td>\n",
       "      <td>2014/01/18 14:15:10.000</td>\n",
       "      <td>2017/06/29 10:08:12.000</td>\n",
       "      <td>LINESTRING (2046275.114 7277099.704, 2046275.2...</td>\n",
       "      <td>2.046275e+06</td>\n",
       "      <td>7.277101e+06</td>\n",
       "    </tr>\n",
       "    <tr>\n",
       "      <th>214</th>\n",
       "      <td>41</td>\n",
       "      <td>5.450000e+07</td>\n",
       "      <td>rattache</td>\n",
       "      <td>2013/05/23 00:00:00.000</td>\n",
       "      <td>Muller C</td>\n",
       "      <td>None</td>\n",
       "      <td>2017/03/24 00:00:00.000</td>\n",
       "      <td>None</td>\n",
       "      <td>banc_public</td>\n",
       "      <td>146.59</td>\n",
       "      <td>None</td>\n",
       "      <td>None</td>\n",
       "      <td>None</td>\n",
       "      <td>2014/01/18 14:15:10.000</td>\n",
       "      <td>2017/06/29 10:08:12.000</td>\n",
       "      <td>LINESTRING (2046307.896 7277038.217, 2046308.9...</td>\n",
       "      <td>2.046309e+06</td>\n",
       "      <td>7.277039e+06</td>\n",
       "    </tr>\n",
       "    <tr>\n",
       "      <th>215</th>\n",
       "      <td>33319</td>\n",
       "      <td>NaN</td>\n",
       "      <td>None</td>\n",
       "      <td>None</td>\n",
       "      <td>Muller C</td>\n",
       "      <td>None</td>\n",
       "      <td>None</td>\n",
       "      <td>None</td>\n",
       "      <td>banc_public</td>\n",
       "      <td>137.00</td>\n",
       "      <td>None</td>\n",
       "      <td>None</td>\n",
       "      <td>None</td>\n",
       "      <td>2017/04/11 08:39:12.000</td>\n",
       "      <td>2017/04/11 08:39:12.000</td>\n",
       "      <td>LINESTRING (2050369.780 7278163.252, 2050370.3...</td>\n",
       "      <td>2.050370e+06</td>\n",
       "      <td>7.278164e+06</td>\n",
       "    </tr>\n",
       "  </tbody>\n",
       "</table>\n",
       "</div>"
      ],
      "text/plain": [
       "       gid      ident_gy code_preci                date_leve    auteur  \\\n",
       "211     60 -1.996483e+09   rattache  2013/10/14 00:00:00.000    Clauss   \n",
       "212     61 -1.996483e+09   rattache  2013/10/14 00:00:00.000    Clauss   \n",
       "213     40  5.450002e+07   rattache  2013/05/23 00:00:00.000  Muller C   \n",
       "214     41  5.450000e+07   rattache  2013/05/23 00:00:00.000  Muller C   \n",
       "215  33319           NaN       None                     None  Muller C   \n",
       "\n",
       "    observ_aut                date_reco date_modif   type_entit   z_sol  \\\n",
       "211       None  2019/05/07 00:00:00.000       None  banc_public  141.34   \n",
       "212       None  2019/05/07 00:00:00.000       None  banc_public  141.35   \n",
       "213       None  2017/03/24 00:00:00.000       None  banc_public  146.25   \n",
       "214       None  2017/03/24 00:00:00.000       None  banc_public  146.59   \n",
       "215       None                     None       None  banc_public  137.00   \n",
       "\n",
       "    orientatio echelle_x echelle_y               date_creat  \\\n",
       "211       None      None      None  2014/01/18 14:15:10.000   \n",
       "212       None      None      None  2014/01/18 14:15:10.000   \n",
       "213       None      None      None  2014/01/18 14:15:10.000   \n",
       "214       None      None      None  2014/01/18 14:15:10.000   \n",
       "215       None      None      None  2017/04/11 08:39:12.000   \n",
       "\n",
       "                    date_maj  \\\n",
       "211  2019/10/28 15:15:04.000   \n",
       "212  2019/10/28 15:15:04.000   \n",
       "213  2017/06/29 10:08:12.000   \n",
       "214  2017/06/29 10:08:12.000   \n",
       "215  2017/04/11 08:39:12.000   \n",
       "\n",
       "                                              geometry             x  \\\n",
       "211  MULTILINESTRING ((2052210.294 7271182.357, 205...  2.052210e+06   \n",
       "212  MULTILINESTRING ((2052227.674 7271165.949, 205...  2.052228e+06   \n",
       "213  LINESTRING (2046275.114 7277099.704, 2046275.2...  2.046275e+06   \n",
       "214  LINESTRING (2046307.896 7277038.217, 2046308.9...  2.046309e+06   \n",
       "215  LINESTRING (2050369.780 7278163.252, 2050370.3...  2.050370e+06   \n",
       "\n",
       "                y  \n",
       "211  7.271185e+06  \n",
       "212  7.271168e+06  \n",
       "213  7.277101e+06  \n",
       "214  7.277039e+06  \n",
       "215  7.278164e+06  "
      ]
     },
     "execution_count": 12,
     "metadata": {},
     "output_type": "execute_result"
    }
   ],
   "source": [
    "#  Formes des fichiers des bancs publics\n",
    "#from shapely.geometry import shape\n",
    "\n",
    "gdf_mobi3 = gdf_mobi2.head(80)\n",
    "print(gdf_mobi2.shape, gdf_mobi3.shape)\n",
    "\n",
    "#for boundary in gdf_mobi3['geometry']:\n",
    "#    print(boundary.xy)\n",
    "\n",
    "maxi = 0\n",
    "nb = 0\n",
    "#for i, row in gdf_mobi2.iterrows():\n",
    "for i, row in gdf_mobi3.iterrows():\n",
    "    ligne = row['geometry']\n",
    "    nbre = 0\n",
    "    if ligne.geom_type == \"LineString\":\n",
    "        nbre = len(ligne.coords)\n",
    "        #x, y = ligne.centroid.x, ligne.centroid.y\n",
    "        #print(i, x, y)\n",
    "    elif ligne.geom_type == \"MultiLineString\":\n",
    "        nb += 1\n",
    "        for line in ligne:\n",
    "            nbre += len(line.coords)\n",
    "    #print(i, nbre, forme)\n",
    "    if nbre > maxi:\n",
    "        maxi = nbre\n",
    "    #for pt in list(row['geometry'].coords):\n",
    "        \n",
    "print(\"Nombre maximum de points:\", maxi, \" avec \", nb, \"MultiLineStrings\")\n",
    "\n",
    "\n",
    "#def getXY(pt):\n",
    "#    return (pt.x, pt.y)\n",
    "#centroidseries = zones['geometry'].centroid\n",
    "#x,y = [list(t) for t in zip(*map(getXY, centroidseries))]\n",
    "\n",
    "gdf_mobi3[\"x\"] = gdf_mobi3.centroid.x\n",
    "gdf_mobi3[\"y\"] = gdf_mobi3.centroid.y\n",
    "print(gdf_mobi3.shape)\n",
    "gdf_mobi3.tail()"
   ]
  },
  {
   "cell_type": "code",
   "execution_count": 13,
   "metadata": {
    "ExecuteTime": {
     "end_time": "2020-03-19T08:38:48.175822Z",
     "start_time": "2020-03-19T08:38:48.094773Z"
    }
   },
   "outputs": [
    {
     "data": {
      "text/html": [
       "<div>\n",
       "<style scoped>\n",
       "    .dataframe tbody tr th:only-of-type {\n",
       "        vertical-align: middle;\n",
       "    }\n",
       "\n",
       "    .dataframe tbody tr th {\n",
       "        vertical-align: top;\n",
       "    }\n",
       "\n",
       "    .dataframe thead th {\n",
       "        text-align: right;\n",
       "    }\n",
       "</style>\n",
       "<table border=\"1\" class=\"dataframe\">\n",
       "  <thead>\n",
       "    <tr style=\"text-align: right;\">\n",
       "      <th></th>\n",
       "      <th>gid</th>\n",
       "      <th>ident_gy</th>\n",
       "      <th>code_preci</th>\n",
       "      <th>date_leve</th>\n",
       "      <th>auteur</th>\n",
       "      <th>observ_aut</th>\n",
       "      <th>date_reco</th>\n",
       "      <th>date_modif</th>\n",
       "      <th>type_entit</th>\n",
       "      <th>z_sol</th>\n",
       "      <th>orientatio</th>\n",
       "      <th>echelle_x</th>\n",
       "      <th>echelle_y</th>\n",
       "      <th>date_creat</th>\n",
       "      <th>date_maj</th>\n",
       "      <th>geometry</th>\n",
       "    </tr>\n",
       "  </thead>\n",
       "  <tbody>\n",
       "    <tr>\n",
       "      <th>0</th>\n",
       "      <td>40074</td>\n",
       "      <td>NaN</td>\n",
       "      <td>rattache</td>\n",
       "      <td>2018/11/17 00:00:00.000</td>\n",
       "      <td>Clauss</td>\n",
       "      <td>None</td>\n",
       "      <td>2018/10/01 00:00:00.000</td>\n",
       "      <td>None</td>\n",
       "      <td>banc_public</td>\n",
       "      <td>139.26</td>\n",
       "      <td>None</td>\n",
       "      <td>None</td>\n",
       "      <td>None</td>\n",
       "      <td>2018/11/30 09:34:12.000</td>\n",
       "      <td>2019/05/09 16:17:16.000</td>\n",
       "      <td>LINESTRING (2051288.423 7275080.683, 2051286.9...</td>\n",
       "    </tr>\n",
       "    <tr>\n",
       "      <th>1</th>\n",
       "      <td>192</td>\n",
       "      <td>54449499.0</td>\n",
       "      <td>rattache</td>\n",
       "      <td>2011/12/02 00:00:00.000</td>\n",
       "      <td>Brundaller</td>\n",
       "      <td>None</td>\n",
       "      <td>2019/09/01 00:00:00.000</td>\n",
       "      <td>None</td>\n",
       "      <td>banc_public</td>\n",
       "      <td>147.25</td>\n",
       "      <td>None</td>\n",
       "      <td>None</td>\n",
       "      <td>None</td>\n",
       "      <td>2014/01/18 14:15:10.000</td>\n",
       "      <td>2020/02/20 10:24:48.000</td>\n",
       "      <td>LINESTRING (2042622.445 7267568.482, 2042625.3...</td>\n",
       "    </tr>\n",
       "  </tbody>\n",
       "</table>\n",
       "</div>"
      ],
      "text/plain": [
       "     gid    ident_gy code_preci                date_leve      auteur  \\\n",
       "0  40074         NaN   rattache  2018/11/17 00:00:00.000      Clauss   \n",
       "1    192  54449499.0   rattache  2011/12/02 00:00:00.000  Brundaller   \n",
       "\n",
       "  observ_aut                date_reco date_modif   type_entit   z_sol  \\\n",
       "0       None  2018/10/01 00:00:00.000       None  banc_public  139.26   \n",
       "1       None  2019/09/01 00:00:00.000       None  banc_public  147.25   \n",
       "\n",
       "  orientatio echelle_x echelle_y               date_creat  \\\n",
       "0       None      None      None  2018/11/30 09:34:12.000   \n",
       "1       None      None      None  2014/01/18 14:15:10.000   \n",
       "\n",
       "                  date_maj                                           geometry  \n",
       "0  2019/05/09 16:17:16.000  LINESTRING (2051288.423 7275080.683, 2051286.9...  \n",
       "1  2020/02/20 10:24:48.000  LINESTRING (2042622.445 7267568.482, 2042625.3...  "
      ]
     },
     "execution_count": 13,
     "metadata": {},
     "output_type": "execute_result"
    }
   ],
   "source": [
    "gdf_mobi2.head(2)\n"
   ]
  },
  {
   "cell_type": "markdown",
   "metadata": {
    "slideshow": {
     "slide_type": "skip"
    }
   },
   "source": [
    "## lecture/creation fichier/dataframe lampes des lampadaires présents dans la dalle 1x1 km"
   ]
  },
  {
   "cell_type": "code",
   "execution_count": 14,
   "metadata": {
    "ExecuteTime": {
     "end_time": "2020-03-19T08:38:52.752632Z",
     "start_time": "2020-03-19T08:38:52.564286Z"
    },
    "slideshow": {
     "slide_type": "skip"
    }
   },
   "outputs": [
    {
     "name": "stdout",
     "output_type": "stream",
     "text": [
      "Bord inférieur gauche: 2042500 7272000 200 200 5\n",
      "0    3.0\n",
      "1    4.0\n",
      "2    6.0\n",
      "3    2.0\n",
      "4    1.0\n",
      "dtype: float64\n",
      "mean       1.79\n",
      "count    200.00\n",
      "sum      358.00\n",
      "dtype: float64\n",
      "(200, 200) (40000, 1) (355, 5)\n",
      "357.0\n"
     ]
    },
    {
     "data": {
      "text/html": [
       "<div>\n",
       "<style scoped>\n",
       "    .dataframe tbody tr th:only-of-type {\n",
       "        vertical-align: middle;\n",
       "    }\n",
       "\n",
       "    .dataframe tbody tr th {\n",
       "        vertical-align: top;\n",
       "    }\n",
       "\n",
       "    .dataframe thead th {\n",
       "        text-align: right;\n",
       "    }\n",
       "</style>\n",
       "<table border=\"1\" class=\"dataframe\">\n",
       "  <thead>\n",
       "    <tr style=\"text-align: right;\">\n",
       "      <th></th>\n",
       "      <th>_column</th>\n",
       "      <th>_row</th>\n",
       "      <th>_overlaps</th>\n",
       "      <th>posX</th>\n",
       "      <th>posY</th>\n",
       "    </tr>\n",
       "  </thead>\n",
       "  <tbody>\n",
       "    <tr>\n",
       "      <th>0</th>\n",
       "      <td>0</td>\n",
       "      <td>80</td>\n",
       "      <td>1</td>\n",
       "      <td>2042502</td>\n",
       "      <td>7272402</td>\n",
       "    </tr>\n",
       "    <tr>\n",
       "      <th>1</th>\n",
       "      <td>0</td>\n",
       "      <td>92</td>\n",
       "      <td>1</td>\n",
       "      <td>2042502</td>\n",
       "      <td>7272462</td>\n",
       "    </tr>\n",
       "    <tr>\n",
       "      <th>2</th>\n",
       "      <td>0</td>\n",
       "      <td>102</td>\n",
       "      <td>1</td>\n",
       "      <td>2042502</td>\n",
       "      <td>7272512</td>\n",
       "    </tr>\n",
       "    <tr>\n",
       "      <th>3</th>\n",
       "      <td>0</td>\n",
       "      <td>106</td>\n",
       "      <td>1</td>\n",
       "      <td>2042502</td>\n",
       "      <td>7272532</td>\n",
       "    </tr>\n",
       "    <tr>\n",
       "      <th>4</th>\n",
       "      <td>0</td>\n",
       "      <td>169</td>\n",
       "      <td>1</td>\n",
       "      <td>2042502</td>\n",
       "      <td>7272847</td>\n",
       "    </tr>\n",
       "  </tbody>\n",
       "</table>\n",
       "</div>"
      ],
      "text/plain": [
       "   _column  _row  _overlaps     posX     posY\n",
       "0        0    80          1  2042502  7272402\n",
       "1        0    92          1  2042502  7272462\n",
       "2        0   102          1  2042502  7272512\n",
       "3        0   106          1  2042502  7272532\n",
       "4        0   169          1  2042502  7272847"
      ]
     },
     "execution_count": 14,
     "metadata": {},
     "output_type": "execute_result"
    }
   ],
   "source": [
    "# Intialisation des variables de la dalle\n",
    "fich_lamp  = DATA_DIR  + \"LampadairePresence_0_1_5m.asc\"\n",
    "fich_lamp2 = DATA_DIR2 + \"listepositif.xlsx\"\n",
    "\n",
    "header = pd.read_csv(fich_lamp, sep=\" \", header=None, skiprows=0, nrows=5, names=[\"noms\",\"valeurs\"])\n",
    "n_row =  header['valeurs'][0]\n",
    "n_col =  header['valeurs'][1]\n",
    "xlow = header['valeurs'][2]\n",
    "ylow = header['valeurs'][3]\n",
    "cell_size = header['valeurs'][4]\n",
    "print(\"Bord inférieur gauche:\", xlow, ylow, n_row, n_col, cell_size)\n",
    "\n",
    "lampadaires = pd.read_csv(fich_lamp, sep=\" \", header=None, skiprows=6)\n",
    "print(lampadaires.sum().head(5))\n",
    "print(lampadaires.nunique().agg(['mean','count','sum']))\n",
    "##################################\n",
    "# reconstruit le tableau dans le bon schéma usuel\n",
    "# calcule la transposee\n",
    "lampadaires = lampadaires.T\n",
    "# inversion des colonnes (nombre pair de colonnes, mais pas nécessaire)\n",
    "lampadaires = lampadaires[lampadaires.columns[::-1]]\n",
    "##################################\n",
    "lampes0 = pd.DataFrame(np.reshape(lampadaires.to_numpy(), n_row*n_col))\n",
    "\n",
    "lampes2 = pd.read_excel(fich_lamp2, header=0, skiprows=0)\n",
    "print(lampadaires.shape, lampes0.shape, lampes2.shape)\n",
    "#print(lampadaires.describe())\n",
    "print(lampadaires.sum().sum())\n",
    "lampes2.head(5)"
   ]
  },
  {
   "cell_type": "markdown",
   "metadata": {
    "slideshow": {
     "slide_type": "skip"
    }
   },
   "source": [
    "## rempli le dataframe lampes0 et lampes1"
   ]
  },
  {
   "cell_type": "code",
   "execution_count": 15,
   "metadata": {
    "ExecuteTime": {
     "end_time": "2020-03-19T08:38:56.778074Z",
     "start_time": "2020-03-19T08:38:56.582221Z"
    },
    "slideshow": {
     "slide_type": "skip"
    }
   },
   "outputs": [
    {
     "name": "stdout",
     "output_type": "stream",
     "text": [
      "present     int8\n",
      "NumI       int32\n",
      "NumY       int32\n",
      "NumX       int32\n",
      "dtype: object\n",
      "Dalle: (40000, 9) Nbre lampadaires: (357, 9)\n"
     ]
    },
    {
     "data": {
      "text/html": [
       "<div>\n",
       "<style scoped>\n",
       "    .dataframe tbody tr th:only-of-type {\n",
       "        vertical-align: middle;\n",
       "    }\n",
       "\n",
       "    .dataframe tbody tr th {\n",
       "        vertical-align: top;\n",
       "    }\n",
       "\n",
       "    .dataframe thead th {\n",
       "        text-align: right;\n",
       "    }\n",
       "</style>\n",
       "<table border=\"1\" class=\"dataframe\">\n",
       "  <thead>\n",
       "    <tr style=\"text-align: right;\">\n",
       "      <th></th>\n",
       "      <th>present</th>\n",
       "      <th>NumI</th>\n",
       "      <th>NumY</th>\n",
       "      <th>NumX</th>\n",
       "      <th>X</th>\n",
       "      <th>Y</th>\n",
       "      <th>nom_NUM</th>\n",
       "      <th>nom_ECA</th>\n",
       "      <th>nom_POS</th>\n",
       "    </tr>\n",
       "  </thead>\n",
       "  <tbody>\n",
       "    <tr>\n",
       "      <th>0</th>\n",
       "      <td>0</td>\n",
       "      <td>0</td>\n",
       "      <td>0</td>\n",
       "      <td>0</td>\n",
       "      <td>2042500</td>\n",
       "      <td>7272000</td>\n",
       "      <td>2042500_7272000_NumPoints5m.tif</td>\n",
       "      <td>2042500_7272000_EcartZ5m.tif</td>\n",
       "      <td>2042500_7272000_Position5m.tif</td>\n",
       "    </tr>\n",
       "    <tr>\n",
       "      <th>1</th>\n",
       "      <td>0</td>\n",
       "      <td>1</td>\n",
       "      <td>1</td>\n",
       "      <td>0</td>\n",
       "      <td>2042500</td>\n",
       "      <td>7272005</td>\n",
       "      <td>2042500_7272005_NumPoints5m.tif</td>\n",
       "      <td>2042500_7272005_EcartZ5m.tif</td>\n",
       "      <td>2042500_7272005_Position5m.tif</td>\n",
       "    </tr>\n",
       "    <tr>\n",
       "      <th>2</th>\n",
       "      <td>0</td>\n",
       "      <td>2</td>\n",
       "      <td>2</td>\n",
       "      <td>0</td>\n",
       "      <td>2042500</td>\n",
       "      <td>7272010</td>\n",
       "      <td>2042500_7272010_NumPoints5m.tif</td>\n",
       "      <td>2042500_7272010_EcartZ5m.tif</td>\n",
       "      <td>2042500_7272010_Position5m.tif</td>\n",
       "    </tr>\n",
       "    <tr>\n",
       "      <th>3</th>\n",
       "      <td>0</td>\n",
       "      <td>3</td>\n",
       "      <td>3</td>\n",
       "      <td>0</td>\n",
       "      <td>2042500</td>\n",
       "      <td>7272015</td>\n",
       "      <td>2042500_7272015_NumPoints5m.tif</td>\n",
       "      <td>2042500_7272015_EcartZ5m.tif</td>\n",
       "      <td>2042500_7272015_Position5m.tif</td>\n",
       "    </tr>\n",
       "    <tr>\n",
       "      <th>4</th>\n",
       "      <td>0</td>\n",
       "      <td>4</td>\n",
       "      <td>4</td>\n",
       "      <td>0</td>\n",
       "      <td>2042500</td>\n",
       "      <td>7272020</td>\n",
       "      <td>2042500_7272020_NumPoints5m.tif</td>\n",
       "      <td>2042500_7272020_EcartZ5m.tif</td>\n",
       "      <td>2042500_7272020_Position5m.tif</td>\n",
       "    </tr>\n",
       "  </tbody>\n",
       "</table>\n",
       "</div>"
      ],
      "text/plain": [
       "   present  NumI  NumY  NumX        X        Y  \\\n",
       "0        0     0     0     0  2042500  7272000   \n",
       "1        0     1     1     0  2042500  7272005   \n",
       "2        0     2     2     0  2042500  7272010   \n",
       "3        0     3     3     0  2042500  7272015   \n",
       "4        0     4     4     0  2042500  7272020   \n",
       "\n",
       "                           nom_NUM                       nom_ECA  \\\n",
       "0  2042500_7272000_NumPoints5m.tif  2042500_7272000_EcartZ5m.tif   \n",
       "1  2042500_7272005_NumPoints5m.tif  2042500_7272005_EcartZ5m.tif   \n",
       "2  2042500_7272010_NumPoints5m.tif  2042500_7272010_EcartZ5m.tif   \n",
       "3  2042500_7272015_NumPoints5m.tif  2042500_7272015_EcartZ5m.tif   \n",
       "4  2042500_7272020_NumPoints5m.tif  2042500_7272020_EcartZ5m.tif   \n",
       "\n",
       "                          nom_POS  \n",
       "0  2042500_7272000_Position5m.tif  \n",
       "1  2042500_7272005_Position5m.tif  \n",
       "2  2042500_7272010_Position5m.tif  \n",
       "3  2042500_7272015_Position5m.tif  \n",
       "4  2042500_7272020_Position5m.tif  "
      ]
     },
     "execution_count": 15,
     "metadata": {},
     "output_type": "execute_result"
    }
   ],
   "source": [
    "lampes0['NumI'] = lampes0.index\n",
    "lampes0['NumY'] = lampes0['NumI'].mod(other=n_col)\n",
    "lampes0['NumX'] = ((lampes0['NumI'] - n_row + 1) / n_row).apply(np.ceil)\n",
    "#lampes = lampes.drop(['Num'], axis=1)\n",
    "lampes0.rename(columns={0: 'present'}, inplace=True)\n",
    "lampes0 = lampes0.astype({'present': 'int8'}, copy=False)\n",
    "lampes0 = lampes0.astype({'NumY': 'int32'}, copy=False)\n",
    "lampes0 = lampes0.astype({'NumI': 'int32'}, copy=False)\n",
    "lampes0 = lampes0.astype({'NumX': 'int32'}, copy=False)\n",
    "print(lampes0.dtypes)\n",
    "#print(lampes.describe(include='all'))\n",
    "lampes0['X'] = xlow + lampes0['NumX'] * cell_size\n",
    "lampes0['Y'] = ylow + lampes0['NumY'] * cell_size\n",
    "lampes0['nom_NUM'] = lampes0['X'].map(str) + \"_\" + lampes0['Y'].map(str) +  \"_NumPoints5m.tif\"\n",
    "lampes0['nom_ECA'] = lampes0['X'].map(str) + \"_\" + lampes0['Y'].map(str) + \"_EcartZ5m.tif\"\n",
    "lampes0['nom_POS'] = lampes0['X'].map(str) + \"_\" + lampes0['Y'].map(str) +  \"_Position5m.tif\"\n",
    "# extraction des lampadaires\n",
    "lampes1 = lampes0[lampes0['present'] > 0]\n",
    "print(\"Dalle:\", lampes0.shape, \"Nbre lampadaires:\", lampes1.shape)\n",
    "lampes0.head()"
   ]
  },
  {
   "cell_type": "code",
   "execution_count": 16,
   "metadata": {
    "ExecuteTime": {
     "end_time": "2020-03-19T08:39:11.461683Z",
     "start_time": "2020-03-19T08:39:11.373024Z"
    }
   },
   "outputs": [
    {
     "data": {
      "text/html": [
       "<div>\n",
       "<style scoped>\n",
       "    .dataframe tbody tr th:only-of-type {\n",
       "        vertical-align: middle;\n",
       "    }\n",
       "\n",
       "    .dataframe tbody tr th {\n",
       "        vertical-align: top;\n",
       "    }\n",
       "\n",
       "    .dataframe thead th {\n",
       "        text-align: right;\n",
       "    }\n",
       "</style>\n",
       "<table border=\"1\" class=\"dataframe\">\n",
       "  <thead>\n",
       "    <tr style=\"text-align: right;\">\n",
       "      <th></th>\n",
       "      <th>present</th>\n",
       "      <th>NumI</th>\n",
       "      <th>NumY</th>\n",
       "      <th>NumX</th>\n",
       "      <th>X</th>\n",
       "      <th>Y</th>\n",
       "      <th>nom_NUM</th>\n",
       "      <th>nom_ECA</th>\n",
       "      <th>nom_POS</th>\n",
       "    </tr>\n",
       "  </thead>\n",
       "  <tbody>\n",
       "    <tr>\n",
       "      <th>52</th>\n",
       "      <td>1</td>\n",
       "      <td>52</td>\n",
       "      <td>52</td>\n",
       "      <td>0</td>\n",
       "      <td>2042500</td>\n",
       "      <td>7272260</td>\n",
       "      <td>2042500_7272260_NumPoints5m.tif</td>\n",
       "      <td>2042500_7272260_EcartZ5m.tif</td>\n",
       "      <td>2042500_7272260_Position5m.tif</td>\n",
       "    </tr>\n",
       "    <tr>\n",
       "      <th>92</th>\n",
       "      <td>1</td>\n",
       "      <td>92</td>\n",
       "      <td>92</td>\n",
       "      <td>0</td>\n",
       "      <td>2042500</td>\n",
       "      <td>7272460</td>\n",
       "      <td>2042500_7272460_NumPoints5m.tif</td>\n",
       "      <td>2042500_7272460_EcartZ5m.tif</td>\n",
       "      <td>2042500_7272460_Position5m.tif</td>\n",
       "    </tr>\n",
       "    <tr>\n",
       "      <th>170</th>\n",
       "      <td>1</td>\n",
       "      <td>170</td>\n",
       "      <td>170</td>\n",
       "      <td>0</td>\n",
       "      <td>2042500</td>\n",
       "      <td>7272850</td>\n",
       "      <td>2042500_7272850_NumPoints5m.tif</td>\n",
       "      <td>2042500_7272850_EcartZ5m.tif</td>\n",
       "      <td>2042500_7272850_Position5m.tif</td>\n",
       "    </tr>\n",
       "    <tr>\n",
       "      <th>249</th>\n",
       "      <td>1</td>\n",
       "      <td>249</td>\n",
       "      <td>49</td>\n",
       "      <td>1</td>\n",
       "      <td>2042505</td>\n",
       "      <td>7272245</td>\n",
       "      <td>2042505_7272245_NumPoints5m.tif</td>\n",
       "      <td>2042505_7272245_EcartZ5m.tif</td>\n",
       "      <td>2042505_7272245_Position5m.tif</td>\n",
       "    </tr>\n",
       "    <tr>\n",
       "      <th>281</th>\n",
       "      <td>1</td>\n",
       "      <td>281</td>\n",
       "      <td>81</td>\n",
       "      <td>1</td>\n",
       "      <td>2042505</td>\n",
       "      <td>7272405</td>\n",
       "      <td>2042505_7272405_NumPoints5m.tif</td>\n",
       "      <td>2042505_7272405_EcartZ5m.tif</td>\n",
       "      <td>2042505_7272405_Position5m.tif</td>\n",
       "    </tr>\n",
       "    <tr>\n",
       "      <th>303</th>\n",
       "      <td>1</td>\n",
       "      <td>303</td>\n",
       "      <td>103</td>\n",
       "      <td>1</td>\n",
       "      <td>2042505</td>\n",
       "      <td>7272515</td>\n",
       "      <td>2042505_7272515_NumPoints5m.tif</td>\n",
       "      <td>2042505_7272515_EcartZ5m.tif</td>\n",
       "      <td>2042505_7272515_Position5m.tif</td>\n",
       "    </tr>\n",
       "    <tr>\n",
       "      <th>307</th>\n",
       "      <td>1</td>\n",
       "      <td>307</td>\n",
       "      <td>107</td>\n",
       "      <td>1</td>\n",
       "      <td>2042505</td>\n",
       "      <td>7272535</td>\n",
       "      <td>2042505_7272535_NumPoints5m.tif</td>\n",
       "      <td>2042505_7272535_EcartZ5m.tif</td>\n",
       "      <td>2042505_7272535_Position5m.tif</td>\n",
       "    </tr>\n",
       "    <tr>\n",
       "      <th>405</th>\n",
       "      <td>1</td>\n",
       "      <td>405</td>\n",
       "      <td>5</td>\n",
       "      <td>2</td>\n",
       "      <td>2042510</td>\n",
       "      <td>7272025</td>\n",
       "      <td>2042510_7272025_NumPoints5m.tif</td>\n",
       "      <td>2042510_7272025_EcartZ5m.tif</td>\n",
       "      <td>2042510_7272025_Position5m.tif</td>\n",
       "    </tr>\n",
       "  </tbody>\n",
       "</table>\n",
       "</div>"
      ],
      "text/plain": [
       "     present  NumI  NumY  NumX        X        Y  \\\n",
       "52         1    52    52     0  2042500  7272260   \n",
       "92         1    92    92     0  2042500  7272460   \n",
       "170        1   170   170     0  2042500  7272850   \n",
       "249        1   249    49     1  2042505  7272245   \n",
       "281        1   281    81     1  2042505  7272405   \n",
       "303        1   303   103     1  2042505  7272515   \n",
       "307        1   307   107     1  2042505  7272535   \n",
       "405        1   405     5     2  2042510  7272025   \n",
       "\n",
       "                             nom_NUM                       nom_ECA  \\\n",
       "52   2042500_7272260_NumPoints5m.tif  2042500_7272260_EcartZ5m.tif   \n",
       "92   2042500_7272460_NumPoints5m.tif  2042500_7272460_EcartZ5m.tif   \n",
       "170  2042500_7272850_NumPoints5m.tif  2042500_7272850_EcartZ5m.tif   \n",
       "249  2042505_7272245_NumPoints5m.tif  2042505_7272245_EcartZ5m.tif   \n",
       "281  2042505_7272405_NumPoints5m.tif  2042505_7272405_EcartZ5m.tif   \n",
       "303  2042505_7272515_NumPoints5m.tif  2042505_7272515_EcartZ5m.tif   \n",
       "307  2042505_7272535_NumPoints5m.tif  2042505_7272535_EcartZ5m.tif   \n",
       "405  2042510_7272025_NumPoints5m.tif  2042510_7272025_EcartZ5m.tif   \n",
       "\n",
       "                            nom_POS  \n",
       "52   2042500_7272260_Position5m.tif  \n",
       "92   2042500_7272460_Position5m.tif  \n",
       "170  2042500_7272850_Position5m.tif  \n",
       "249  2042505_7272245_Position5m.tif  \n",
       "281  2042505_7272405_Position5m.tif  \n",
       "303  2042505_7272515_Position5m.tif  \n",
       "307  2042505_7272535_Position5m.tif  \n",
       "405  2042510_7272025_Position5m.tif  "
      ]
     },
     "execution_count": 16,
     "metadata": {},
     "output_type": "execute_result"
    }
   ],
   "source": [
    "lampes1.head(8)"
   ]
  },
  {
   "cell_type": "code",
   "execution_count": 17,
   "metadata": {
    "ExecuteTime": {
     "end_time": "2020-03-19T08:39:15.460372Z",
     "start_time": "2020-03-19T08:39:15.375663Z"
    },
    "slideshow": {
     "slide_type": "skip"
    }
   },
   "outputs": [
    {
     "name": "stdout",
     "output_type": "stream",
     "text": [
      "(357, 9) (40000, 9)\n"
     ]
    },
    {
     "data": {
      "text/html": [
       "<div>\n",
       "<style scoped>\n",
       "    .dataframe tbody tr th:only-of-type {\n",
       "        vertical-align: middle;\n",
       "    }\n",
       "\n",
       "    .dataframe tbody tr th {\n",
       "        vertical-align: top;\n",
       "    }\n",
       "\n",
       "    .dataframe thead th {\n",
       "        text-align: right;\n",
       "    }\n",
       "</style>\n",
       "<table border=\"1\" class=\"dataframe\">\n",
       "  <thead>\n",
       "    <tr style=\"text-align: right;\">\n",
       "      <th></th>\n",
       "      <th>present</th>\n",
       "      <th>NumI</th>\n",
       "      <th>NumY</th>\n",
       "      <th>NumX</th>\n",
       "      <th>X</th>\n",
       "      <th>Y</th>\n",
       "      <th>nom_NUM</th>\n",
       "      <th>nom_ECA</th>\n",
       "      <th>nom_POS</th>\n",
       "    </tr>\n",
       "  </thead>\n",
       "  <tbody>\n",
       "    <tr>\n",
       "      <th>27731</th>\n",
       "      <td>1</td>\n",
       "      <td>27731</td>\n",
       "      <td>131</td>\n",
       "      <td>138</td>\n",
       "      <td>2043190</td>\n",
       "      <td>7272655</td>\n",
       "      <td>2043190_7272655_NumPoints5m.tif</td>\n",
       "      <td>2043190_7272655_EcartZ5m.tif</td>\n",
       "      <td>2043190_7272655_Position5m.tif</td>\n",
       "    </tr>\n",
       "    <tr>\n",
       "      <th>27747</th>\n",
       "      <td>1</td>\n",
       "      <td>27747</td>\n",
       "      <td>147</td>\n",
       "      <td>138</td>\n",
       "      <td>2043190</td>\n",
       "      <td>7272735</td>\n",
       "      <td>2043190_7272735_NumPoints5m.tif</td>\n",
       "      <td>2043190_7272735_EcartZ5m.tif</td>\n",
       "      <td>2043190_7272735_Position5m.tif</td>\n",
       "    </tr>\n",
       "    <tr>\n",
       "      <th>28103</th>\n",
       "      <td>1</td>\n",
       "      <td>28103</td>\n",
       "      <td>103</td>\n",
       "      <td>140</td>\n",
       "      <td>2043200</td>\n",
       "      <td>7272515</td>\n",
       "      <td>2043200_7272515_NumPoints5m.tif</td>\n",
       "      <td>2043200_7272515_EcartZ5m.tif</td>\n",
       "      <td>2043200_7272515_Position5m.tif</td>\n",
       "    </tr>\n",
       "    <tr>\n",
       "      <th>28125</th>\n",
       "      <td>1</td>\n",
       "      <td>28125</td>\n",
       "      <td>125</td>\n",
       "      <td>140</td>\n",
       "      <td>2043200</td>\n",
       "      <td>7272625</td>\n",
       "      <td>2043200_7272625_NumPoints5m.tif</td>\n",
       "      <td>2043200_7272625_EcartZ5m.tif</td>\n",
       "      <td>2043200_7272625_Position5m.tif</td>\n",
       "    </tr>\n",
       "    <tr>\n",
       "      <th>28131</th>\n",
       "      <td>1</td>\n",
       "      <td>28131</td>\n",
       "      <td>131</td>\n",
       "      <td>140</td>\n",
       "      <td>2043200</td>\n",
       "      <td>7272655</td>\n",
       "      <td>2043200_7272655_NumPoints5m.tif</td>\n",
       "      <td>2043200_7272655_EcartZ5m.tif</td>\n",
       "      <td>2043200_7272655_Position5m.tif</td>\n",
       "    </tr>\n",
       "    <tr>\n",
       "      <th>28193</th>\n",
       "      <td>1</td>\n",
       "      <td>28193</td>\n",
       "      <td>193</td>\n",
       "      <td>140</td>\n",
       "      <td>2043200</td>\n",
       "      <td>7272965</td>\n",
       "      <td>2043200_7272965_NumPoints5m.tif</td>\n",
       "      <td>2043200_7272965_EcartZ5m.tif</td>\n",
       "      <td>2043200_7272965_Position5m.tif</td>\n",
       "    </tr>\n",
       "    <tr>\n",
       "      <th>28256</th>\n",
       "      <td>1</td>\n",
       "      <td>28256</td>\n",
       "      <td>56</td>\n",
       "      <td>141</td>\n",
       "      <td>2043205</td>\n",
       "      <td>7272280</td>\n",
       "      <td>2043205_7272280_NumPoints5m.tif</td>\n",
       "      <td>2043205_7272280_EcartZ5m.tif</td>\n",
       "      <td>2043205_7272280_Position5m.tif</td>\n",
       "    </tr>\n",
       "    <tr>\n",
       "      <th>28393</th>\n",
       "      <td>1</td>\n",
       "      <td>28393</td>\n",
       "      <td>193</td>\n",
       "      <td>141</td>\n",
       "      <td>2043205</td>\n",
       "      <td>7272965</td>\n",
       "      <td>2043205_7272965_NumPoints5m.tif</td>\n",
       "      <td>2043205_7272965_EcartZ5m.tif</td>\n",
       "      <td>2043205_7272965_Position5m.tif</td>\n",
       "    </tr>\n",
       "    <tr>\n",
       "      <th>28463</th>\n",
       "      <td>1</td>\n",
       "      <td>28463</td>\n",
       "      <td>63</td>\n",
       "      <td>142</td>\n",
       "      <td>2043210</td>\n",
       "      <td>7272315</td>\n",
       "      <td>2043210_7272315_NumPoints5m.tif</td>\n",
       "      <td>2043210_7272315_EcartZ5m.tif</td>\n",
       "      <td>2043210_7272315_Position5m.tif</td>\n",
       "    </tr>\n",
       "    <tr>\n",
       "      <th>28464</th>\n",
       "      <td>1</td>\n",
       "      <td>28464</td>\n",
       "      <td>64</td>\n",
       "      <td>142</td>\n",
       "      <td>2043210</td>\n",
       "      <td>7272320</td>\n",
       "      <td>2043210_7272320_NumPoints5m.tif</td>\n",
       "      <td>2043210_7272320_EcartZ5m.tif</td>\n",
       "      <td>2043210_7272320_Position5m.tif</td>\n",
       "    </tr>\n",
       "    <tr>\n",
       "      <th>28662</th>\n",
       "      <td>1</td>\n",
       "      <td>28662</td>\n",
       "      <td>62</td>\n",
       "      <td>143</td>\n",
       "      <td>2043215</td>\n",
       "      <td>7272310</td>\n",
       "      <td>2043215_7272310_NumPoints5m.tif</td>\n",
       "      <td>2043215_7272310_EcartZ5m.tif</td>\n",
       "      <td>2043215_7272310_Position5m.tif</td>\n",
       "    </tr>\n",
       "    <tr>\n",
       "      <th>28665</th>\n",
       "      <td>1</td>\n",
       "      <td>28665</td>\n",
       "      <td>65</td>\n",
       "      <td>143</td>\n",
       "      <td>2043215</td>\n",
       "      <td>7272325</td>\n",
       "      <td>2043215_7272325_NumPoints5m.tif</td>\n",
       "      <td>2043215_7272325_EcartZ5m.tif</td>\n",
       "      <td>2043215_7272325_Position5m.tif</td>\n",
       "    </tr>\n",
       "    <tr>\n",
       "      <th>28717</th>\n",
       "      <td>1</td>\n",
       "      <td>28717</td>\n",
       "      <td>117</td>\n",
       "      <td>143</td>\n",
       "      <td>2043215</td>\n",
       "      <td>7272585</td>\n",
       "      <td>2043215_7272585_NumPoints5m.tif</td>\n",
       "      <td>2043215_7272585_EcartZ5m.tif</td>\n",
       "      <td>2043215_7272585_Position5m.tif</td>\n",
       "    </tr>\n",
       "    <tr>\n",
       "      <th>28762</th>\n",
       "      <td>1</td>\n",
       "      <td>28762</td>\n",
       "      <td>162</td>\n",
       "      <td>143</td>\n",
       "      <td>2043215</td>\n",
       "      <td>7272810</td>\n",
       "      <td>2043215_7272810_NumPoints5m.tif</td>\n",
       "      <td>2043215_7272810_EcartZ5m.tif</td>\n",
       "      <td>2043215_7272810_Position5m.tif</td>\n",
       "    </tr>\n",
       "    <tr>\n",
       "      <th>28794</th>\n",
       "      <td>1</td>\n",
       "      <td>28794</td>\n",
       "      <td>194</td>\n",
       "      <td>143</td>\n",
       "      <td>2043215</td>\n",
       "      <td>7272970</td>\n",
       "      <td>2043215_7272970_NumPoints5m.tif</td>\n",
       "      <td>2043215_7272970_EcartZ5m.tif</td>\n",
       "      <td>2043215_7272970_Position5m.tif</td>\n",
       "    </tr>\n",
       "    <tr>\n",
       "      <th>28858</th>\n",
       "      <td>1</td>\n",
       "      <td>28858</td>\n",
       "      <td>58</td>\n",
       "      <td>144</td>\n",
       "      <td>2043220</td>\n",
       "      <td>7272290</td>\n",
       "      <td>2043220_7272290_NumPoints5m.tif</td>\n",
       "      <td>2043220_7272290_EcartZ5m.tif</td>\n",
       "      <td>2043220_7272290_Position5m.tif</td>\n",
       "    </tr>\n",
       "    <tr>\n",
       "      <th>28859</th>\n",
       "      <td>1</td>\n",
       "      <td>28859</td>\n",
       "      <td>59</td>\n",
       "      <td>144</td>\n",
       "      <td>2043220</td>\n",
       "      <td>7272295</td>\n",
       "      <td>2043220_7272295_NumPoints5m.tif</td>\n",
       "      <td>2043220_7272295_EcartZ5m.tif</td>\n",
       "      <td>2043220_7272295_Position5m.tif</td>\n",
       "    </tr>\n",
       "    <tr>\n",
       "      <th>28867</th>\n",
       "      <td>1</td>\n",
       "      <td>28867</td>\n",
       "      <td>67</td>\n",
       "      <td>144</td>\n",
       "      <td>2043220</td>\n",
       "      <td>7272335</td>\n",
       "      <td>2043220_7272335_NumPoints5m.tif</td>\n",
       "      <td>2043220_7272335_EcartZ5m.tif</td>\n",
       "      <td>2043220_7272335_Position5m.tif</td>\n",
       "    </tr>\n",
       "    <tr>\n",
       "      <th>28871</th>\n",
       "      <td>1</td>\n",
       "      <td>28871</td>\n",
       "      <td>71</td>\n",
       "      <td>144</td>\n",
       "      <td>2043220</td>\n",
       "      <td>7272355</td>\n",
       "      <td>2043220_7272355_NumPoints5m.tif</td>\n",
       "      <td>2043220_7272355_EcartZ5m.tif</td>\n",
       "      <td>2043220_7272355_Position5m.tif</td>\n",
       "    </tr>\n",
       "    <tr>\n",
       "      <th>28873</th>\n",
       "      <td>1</td>\n",
       "      <td>28873</td>\n",
       "      <td>73</td>\n",
       "      <td>144</td>\n",
       "      <td>2043220</td>\n",
       "      <td>7272365</td>\n",
       "      <td>2043220_7272365_NumPoints5m.tif</td>\n",
       "      <td>2043220_7272365_EcartZ5m.tif</td>\n",
       "      <td>2043220_7272365_Position5m.tif</td>\n",
       "    </tr>\n",
       "  </tbody>\n",
       "</table>\n",
       "</div>"
      ],
      "text/plain": [
       "       present   NumI  NumY  NumX        X        Y  \\\n",
       "27731        1  27731   131   138  2043190  7272655   \n",
       "27747        1  27747   147   138  2043190  7272735   \n",
       "28103        1  28103   103   140  2043200  7272515   \n",
       "28125        1  28125   125   140  2043200  7272625   \n",
       "28131        1  28131   131   140  2043200  7272655   \n",
       "28193        1  28193   193   140  2043200  7272965   \n",
       "28256        1  28256    56   141  2043205  7272280   \n",
       "28393        1  28393   193   141  2043205  7272965   \n",
       "28463        1  28463    63   142  2043210  7272315   \n",
       "28464        1  28464    64   142  2043210  7272320   \n",
       "28662        1  28662    62   143  2043215  7272310   \n",
       "28665        1  28665    65   143  2043215  7272325   \n",
       "28717        1  28717   117   143  2043215  7272585   \n",
       "28762        1  28762   162   143  2043215  7272810   \n",
       "28794        1  28794   194   143  2043215  7272970   \n",
       "28858        1  28858    58   144  2043220  7272290   \n",
       "28859        1  28859    59   144  2043220  7272295   \n",
       "28867        1  28867    67   144  2043220  7272335   \n",
       "28871        1  28871    71   144  2043220  7272355   \n",
       "28873        1  28873    73   144  2043220  7272365   \n",
       "\n",
       "                               nom_NUM                       nom_ECA  \\\n",
       "27731  2043190_7272655_NumPoints5m.tif  2043190_7272655_EcartZ5m.tif   \n",
       "27747  2043190_7272735_NumPoints5m.tif  2043190_7272735_EcartZ5m.tif   \n",
       "28103  2043200_7272515_NumPoints5m.tif  2043200_7272515_EcartZ5m.tif   \n",
       "28125  2043200_7272625_NumPoints5m.tif  2043200_7272625_EcartZ5m.tif   \n",
       "28131  2043200_7272655_NumPoints5m.tif  2043200_7272655_EcartZ5m.tif   \n",
       "28193  2043200_7272965_NumPoints5m.tif  2043200_7272965_EcartZ5m.tif   \n",
       "28256  2043205_7272280_NumPoints5m.tif  2043205_7272280_EcartZ5m.tif   \n",
       "28393  2043205_7272965_NumPoints5m.tif  2043205_7272965_EcartZ5m.tif   \n",
       "28463  2043210_7272315_NumPoints5m.tif  2043210_7272315_EcartZ5m.tif   \n",
       "28464  2043210_7272320_NumPoints5m.tif  2043210_7272320_EcartZ5m.tif   \n",
       "28662  2043215_7272310_NumPoints5m.tif  2043215_7272310_EcartZ5m.tif   \n",
       "28665  2043215_7272325_NumPoints5m.tif  2043215_7272325_EcartZ5m.tif   \n",
       "28717  2043215_7272585_NumPoints5m.tif  2043215_7272585_EcartZ5m.tif   \n",
       "28762  2043215_7272810_NumPoints5m.tif  2043215_7272810_EcartZ5m.tif   \n",
       "28794  2043215_7272970_NumPoints5m.tif  2043215_7272970_EcartZ5m.tif   \n",
       "28858  2043220_7272290_NumPoints5m.tif  2043220_7272290_EcartZ5m.tif   \n",
       "28859  2043220_7272295_NumPoints5m.tif  2043220_7272295_EcartZ5m.tif   \n",
       "28867  2043220_7272335_NumPoints5m.tif  2043220_7272335_EcartZ5m.tif   \n",
       "28871  2043220_7272355_NumPoints5m.tif  2043220_7272355_EcartZ5m.tif   \n",
       "28873  2043220_7272365_NumPoints5m.tif  2043220_7272365_EcartZ5m.tif   \n",
       "\n",
       "                              nom_POS  \n",
       "27731  2043190_7272655_Position5m.tif  \n",
       "27747  2043190_7272735_Position5m.tif  \n",
       "28103  2043200_7272515_Position5m.tif  \n",
       "28125  2043200_7272625_Position5m.tif  \n",
       "28131  2043200_7272655_Position5m.tif  \n",
       "28193  2043200_7272965_Position5m.tif  \n",
       "28256  2043205_7272280_Position5m.tif  \n",
       "28393  2043205_7272965_Position5m.tif  \n",
       "28463  2043210_7272315_Position5m.tif  \n",
       "28464  2043210_7272320_Position5m.tif  \n",
       "28662  2043215_7272310_Position5m.tif  \n",
       "28665  2043215_7272325_Position5m.tif  \n",
       "28717  2043215_7272585_Position5m.tif  \n",
       "28762  2043215_7272810_Position5m.tif  \n",
       "28794  2043215_7272970_Position5m.tif  \n",
       "28858  2043220_7272290_Position5m.tif  \n",
       "28859  2043220_7272295_Position5m.tif  \n",
       "28867  2043220_7272335_Position5m.tif  \n",
       "28871  2043220_7272355_Position5m.tif  \n",
       "28873  2043220_7272365_Position5m.tif  "
      ]
     },
     "execution_count": 17,
     "metadata": {},
     "output_type": "execute_result"
    }
   ],
   "source": [
    "print(lampes1.shape, lampes0.shape)\n",
    "lampes1.head(240).tail(20)\n"
   ]
  },
  {
   "cell_type": "markdown",
   "metadata": {
    "slideshow": {
     "slide_type": "skip"
    }
   },
   "source": [
    "## Extraction de(s) image(s) dans un dataframe unique (à partir de imageio)"
   ]
  },
  {
   "cell_type": "code",
   "execution_count": 97,
   "metadata": {
    "ExecuteTime": {
     "end_time": "2020-03-19T15:53:30.857590Z",
     "start_time": "2020-03-19T15:51:44.570957Z"
    },
    "slideshow": {
     "slide_type": "skip"
    }
   },
   "outputs": [
    {
     "name": "stdout",
     "output_type": "stream",
     "text": [
      "Coef mutiplicateur devrait-être de: 16\n",
      "Coef mutiplicateur utilisé: 4\n",
      "M: 1\n",
      "29384 1408 0 357 29032 352\n",
      "30792 1760 4 36072\n",
      "Utilisera le fichier: /Users/pierreleisy/Data_Science/NOTEBOOK/STAGE/data_LAS_nom_NUM_29384_4.npy\n",
      "29032 1760 36072\n",
      "M: 2\n",
      "29384 1408 0 357 29032 352\n",
      "30792 1760 4 36072\n",
      "Utilisera le fichier: /Users/pierreleisy/Data_Science/NOTEBOOK/STAGE/data_LAS_nom_ECA_29384_4.npy\n",
      "M: 3\n",
      "29384 1408 0 357 29032 352\n",
      "30792 1760 4 36072\n",
      "Utilisera le fichier: /Users/pierreleisy/Data_Science/NOTEBOOK/STAGE/data_LAS_nom_POS_29384_4.npy\n",
      "0 1760 7040\n"
     ]
    }
   ],
   "source": [
    "\n",
    "off = 200000\n",
    "if off > 40000:\n",
    "    off = len(liste_11)\n",
    "NN = 0\n",
    "NM = NN + off\n",
    "\n",
    "dal11 = ['nom_NUM', 'nom_ECA', 'nom_POS']\n",
    "dal12 = [DALLE_NUM, DALLE_ECA, DALLE_POS]\n",
    "listes1 = [liste_11, liste_12, liste_13]\n",
    "listes2 = [liste_21, liste_22, liste_23]\n",
    "listes3 = [liste_31, liste_32, liste_33]\n",
    "\n",
    "data = ['data1', 'data2', 'data3']\n",
    "#### Pour eviter les fichiers manquants et ordonner tous les NON au début du fichier ... puis les OUI\n",
    "# Compare les deux SETS (impossible avec des listes)\n",
    "for m in range(1,4):\n",
    "    set_A = set(dal12[m-1] + lampes1[dal11[m-1]])\n",
    "    set_B1 = set(listes1[m-1])\n",
    "    set_B2 = set(listes2[m-1])\n",
    "    set_B3 = set(listes3[m-1])\n",
    "    set_C1 = set_A & set_B1\n",
    "    set_C2 = set_B1 - set_A\n",
    "    liste_C = list(set_C2)\n",
    "    liste_extraite0 = liste_C[NN:NM] + list(set_C1) + list(set_B2) + list(set_B3)\n",
    "    if m == 1:\n",
    "        mult = int(len(set_C2) / (len(liste_extraite0) - len(set_C2)))\n",
    "        print(\"Coef mutiplicateur devrait-être de:\", mult)\n",
    "        mult = 4    # pas mettre mult = 0   ==> utiliser     liste_extraite0\n",
    "        print(\"Coef mutiplicateur utilisé:\", mult)\n",
    "    liste_extraite  = list(liste_C[NN:NM]) + mult * (list(set_C1) + list(set_B2) + list(set_B3))\n",
    "    #liste_extraite = list(set(list(liste_11[NN:NM]) + list(set_C1)))\n",
    "    print(\"M:\", m)\n",
    "    print(len(set_B1), len(set_B2), len(set_B3), len(set_A), len(set_C2), len(set_C1))\n",
    "    print(len(liste_extraite0), (len(liste_extraite0) - len(set_C2)), mult, len(liste_extraite))\n",
    "\n",
    "    # creation du tenseur resultant ... merge tous les fichiers images\n",
    "    fichier = DATA_DIR9 + \"data_LAS_\" + str(dal11[m-1]) + \"_\" + str(off) + \"_\" + str(mult) + \".npy\"\n",
    "    #test = False\n",
    "    print(\"Utilisera le fichier:\", fichier)\n",
    "    if not(os.path.exists(fichier)):\n",
    "    #if test:\n",
    "    #  Ne fonctionne pas np.array(load_img(fname)) for fname in list_lamp0\n",
    "        data[m-1] = np.array([np.array(imageio.imread(fname)) for fname in liste_extraite])\n",
    "        data[m-1].shape\n",
    "        np.save(fichier, data[m-1])\n",
    "    if m == 1:\n",
    "        liste_y1 = [ 0 for x in range(len(liste_C[NN:NM]))]\n",
    "        # liste_y2 = [ 1 for x in range(mult * len(list(set_C1)))]\n",
    "        liste_y2 = [ 1 for x in range(len(list(set_C1) + list(set_B2) + list(set_B3)))]\n",
    "        liste_y = liste_y1 + mult * liste_y2\n",
    "        print(len(liste_y1), len(liste_y2), len(liste_y))\n",
    "    \n",
    "print(sum(liste_y1),sum(liste_y2),sum(liste_y))"
   ]
  },
  {
   "cell_type": "code",
   "execution_count": null,
   "metadata": {
    "ExecuteTime": {
     "end_time": "2020-03-19T10:37:17.694983Z",
     "start_time": "2020-03-19T10:37:17.594167Z"
    }
   },
   "outputs": [],
   "source": []
  },
  {
   "cell_type": "markdown",
   "metadata": {
    "slideshow": {
     "slide_type": "skip"
    }
   },
   "source": [
    "# KERAS :  images bi-dimensionelles"
   ]
  },
  {
   "cell_type": "code",
   "execution_count": 85,
   "metadata": {
    "ExecuteTime": {
     "end_time": "2020-03-19T15:19:47.510707Z",
     "start_time": "2020-03-19T15:19:47.427380Z"
    }
   },
   "outputs": [],
   "source": [
    "\n",
    "def mse_loss(y_true, y_pred):\n",
    "    # y_true and y_pred are numpy arrays of the same length.\n",
    "    return ((y_true - y_pred) ** 2).mean()\n",
    "\n",
    "def tab_result(df_a, df_b):\n",
    "    # Extrait les matrices binaires en 1 seule colonne\n",
    "    y_pred = pd.DataFrame(model0.predict(df_b)[:,1:])\n",
    "    y_true = pd.DataFrame(df_a[:,1:])\n",
    "    # création de la table\n",
    "    dy = y_true.merge(y_pred, left_index=True, right_index=True, suffixes=('_true', '_pred'))\n",
    "    dy['0_true'] = dy['0_true'].astype(int)\n",
    "    dy['0_pred2'] = dy['0_pred'].round(0)   #arrondi à l'entier le + proche\n",
    "    dy['diff'] = dy['0_true'] - dy['0_pred2']\n",
    "    return dy\n",
    "\n",
    "def lampe_results(df1, df2):\n",
    "    df_10 = df1[df1['0_true'] == 0]\n",
    "    df_11 = dy1[dy1['0_true'] == 1]\n",
    "    df_20 = df2[df2['0_true'] == 0]\n",
    "    df_21 = dy2[dy2['0_true'] == 1]\n",
    "    return (df_10, df_11, df_20, df_21)"
   ]
  },
  {
   "cell_type": "markdown",
   "metadata": {
    "slideshow": {
     "slide_type": "skip"
    }
   },
   "source": [
    "## Lecture des 3 fichiers de données"
   ]
  },
  {
   "cell_type": "code",
   "execution_count": 86,
   "metadata": {
    "ExecuteTime": {
     "end_time": "2020-03-19T15:19:52.133033Z",
     "start_time": "2020-03-19T15:19:51.725822Z"
    },
    "slideshow": {
     "slide_type": "skip"
    }
   },
   "outputs": [
    {
     "name": "stdout",
     "output_type": "stream",
     "text": [
      "(30792, 10, 10)\n",
      "(30792, 10, 10, 1)\n",
      "(30792, 10, 10, 2) 30792\n",
      "\n",
      " Fichiers utilisés:\n",
      " /Users/pierreleisy/Data_Science/NOTEBOOK/STAGE/data_LAS_nom_NUM_29384_1.npy \n",
      " /Users/pierreleisy/Data_Science/NOTEBOOK/STAGE/data_LAS_nom_ECA_29384_1.npy\n",
      "Classification utiliseé:\n",
      " /Users/pierreleisy/Data_Science/NOTEBOOK/STAGE/data_LAS_nom_POS_29384_1.npy \n",
      "\n",
      "(30792, 10, 10, 2) (30792, 100)\n"
     ]
    }
   ],
   "source": [
    "# mult = 1  # 0 ou autres ???\n",
    "fichier1  = DATA_DIR9 + \"data_LAS_nom_NUM_\" + str(off) + \"_\" + str(mult) + \".npy\"\n",
    "data1     = np.load(fichier1)\n",
    "fichier2  = DATA_DIR9 + \"data_LAS_nom_ECA_\" + str(off) + \"_\" + str(mult) + \".npy\"\n",
    "data2     = np.load(fichier2)\n",
    "#print(type(data1), type(data2))\n",
    "if (data1.shape[0] - data2.shape[0] != 0):\n",
    "    print(data1.shape, data2.shape, data9.shape)\n",
    "else:\n",
    "    print(data1.shape)\n",
    "# concatenation de NUM et POS\n",
    "data14 = tf.expand_dims(data1, 3)\n",
    "data24 = tf.expand_dims(data2, 3)\n",
    "data34 = tf.expand_dims(data9, 3)\n",
    "print(data14.shape) #, data24.shape, data34.shape)\n",
    "\n",
    "data_x = tf.concat([data14, data24], 3)\n",
    "#data_x = tf.concat([data14, data24, data34], 3)\n",
    "taille = data_x.shape[0]\n",
    "print(data_x.shape, taille)\n",
    "\n",
    "# TRANSFORM a tensor to numpy array and to DataFrame\n",
    "# df_X = pd.DataFrame(tf.Session().run(data_x[:,:,0,0]))\n",
    "\n",
    "fichierY  = DATA_DIR9 + \"data_LAS_nom_POS_\" + str(off) + \"_\" + str(mult) + \".npy\"\n",
    "data_y   = np.load(fichierY).reshape(taille,100)\n",
    "Nomb_Input = data_x.shape\n",
    "\n",
    "print(\"\\n Fichiers utilisés:\\n\", fichier1, \"\\n\", fichier2)\n",
    "print(\"Classification utiliseé:\\n\", fichierY, \"\\n\")\n",
    "print(data_x.shape, data_y.shape)"
   ]
  },
  {
   "cell_type": "code",
   "execution_count": 87,
   "metadata": {
    "ExecuteTime": {
     "end_time": "2020-03-19T15:19:56.699768Z",
     "start_time": "2020-03-19T15:19:56.496050Z"
    },
    "slideshow": {
     "slide_type": "skip"
    }
   },
   "outputs": [
    {
     "name": "stdout",
     "output_type": "stream",
     "text": [
      "(30792, 102) 1778.0\n",
      "Valeurs à:  0   1   ou plus)\n",
      "30792 29033 1740 19\n",
      "Valeurs à: 0 ou 1)\n",
      "30792 29033 1759 0\n"
     ]
    }
   ],
   "source": [
    "# somme sur toutes les rangées ou colonnes   \n",
    "# présence de valeurs SUPERIEURES A 1 (3 valeurs à 2 ! pourquoi ?????)\n",
    "df_Y = pd.DataFrame(data_y)\n",
    "df_Y['lamp'] = df_Y.sum(axis=1)\n",
    "df_Y['lamp2'] = df_Y[:-1].sum(axis=0)\n",
    "zeros = df_Y[df_Y['lamp'] == 0]\n",
    "uns   = df_Y[df_Y['lamp'] == 1]\n",
    "plus  = df_Y[df_Y['lamp'] > 1]\n",
    "print(df_Y.shape, df_Y['lamp'].sum())\n",
    "print(\"Valeurs à:  0   1   ou plus)\")\n",
    "print(df_Y.shape[0], len(zeros), len(uns), len(plus))\n",
    "#  Ecrase les valeurs de 2  ... pour avoir des 0 ou des 1\n",
    "df_Y.loc[df_Y['lamp'] > 1] = 1\n",
    "uns2   = df_Y[df_Y['lamp'] == 1]\n",
    "plus2  = df_Y[df_Y['lamp'] > 1]\n",
    "print(\"Valeurs à: 0 ou 1)\")\n",
    "print(df_Y.shape[0], len(zeros), len(uns2), len(plus2))\n",
    "#df_Y[df_Y['lamp'] == 2]"
   ]
  },
  {
   "cell_type": "code",
   "execution_count": 88,
   "metadata": {
    "ExecuteTime": {
     "end_time": "2020-03-19T15:20:00.919350Z",
     "start_time": "2020-03-19T15:20:00.829051Z"
    }
   },
   "outputs": [
    {
     "name": "stdout",
     "output_type": "stream",
     "text": [
      "(30792, 102)\n"
     ]
    },
    {
     "data": {
      "text/html": [
       "<div>\n",
       "<style scoped>\n",
       "    .dataframe tbody tr th:only-of-type {\n",
       "        vertical-align: middle;\n",
       "    }\n",
       "\n",
       "    .dataframe tbody tr th {\n",
       "        vertical-align: top;\n",
       "    }\n",
       "\n",
       "    .dataframe thead th {\n",
       "        text-align: right;\n",
       "    }\n",
       "</style>\n",
       "<table border=\"1\" class=\"dataframe\">\n",
       "  <thead>\n",
       "    <tr style=\"text-align: right;\">\n",
       "      <th></th>\n",
       "      <th>0</th>\n",
       "      <th>1</th>\n",
       "      <th>2</th>\n",
       "      <th>3</th>\n",
       "      <th>4</th>\n",
       "      <th>5</th>\n",
       "      <th>6</th>\n",
       "      <th>7</th>\n",
       "      <th>8</th>\n",
       "      <th>9</th>\n",
       "      <th>...</th>\n",
       "      <th>92</th>\n",
       "      <th>93</th>\n",
       "      <th>94</th>\n",
       "      <th>95</th>\n",
       "      <th>96</th>\n",
       "      <th>97</th>\n",
       "      <th>98</th>\n",
       "      <th>99</th>\n",
       "      <th>lamp</th>\n",
       "      <th>lamp2</th>\n",
       "    </tr>\n",
       "  </thead>\n",
       "  <tbody>\n",
       "    <tr>\n",
       "      <th>0</th>\n",
       "      <td>0.0</td>\n",
       "      <td>0.0</td>\n",
       "      <td>0.0</td>\n",
       "      <td>0.0</td>\n",
       "      <td>0.0</td>\n",
       "      <td>0.0</td>\n",
       "      <td>0.0</td>\n",
       "      <td>0.0</td>\n",
       "      <td>0.0</td>\n",
       "      <td>0.0</td>\n",
       "      <td>...</td>\n",
       "      <td>0.0</td>\n",
       "      <td>0.0</td>\n",
       "      <td>0.0</td>\n",
       "      <td>0.0</td>\n",
       "      <td>0.0</td>\n",
       "      <td>0.0</td>\n",
       "      <td>0.0</td>\n",
       "      <td>0.0</td>\n",
       "      <td>0.0</td>\n",
       "      <td>34.0</td>\n",
       "    </tr>\n",
       "  </tbody>\n",
       "</table>\n",
       "<p>1 rows × 102 columns</p>\n",
       "</div>"
      ],
      "text/plain": [
       "     0    1    2    3    4    5    6    7    8    9  ...   92   93   94   95  \\\n",
       "0  0.0  0.0  0.0  0.0  0.0  0.0  0.0  0.0  0.0  0.0  ...  0.0  0.0  0.0  0.0   \n",
       "\n",
       "    96   97   98   99  lamp  lamp2  \n",
       "0  0.0  0.0  0.0  0.0   0.0   34.0  \n",
       "\n",
       "[1 rows x 102 columns]"
      ]
     },
     "execution_count": 88,
     "metadata": {},
     "output_type": "execute_result"
    }
   ],
   "source": [
    "print(df_Y.shape)\n",
    "df_Y.head(1)\n"
   ]
  },
  {
   "cell_type": "code",
   "execution_count": 89,
   "metadata": {
    "ExecuteTime": {
     "end_time": "2020-03-19T15:20:05.225591Z",
     "start_time": "2020-03-19T15:20:05.146822Z"
    }
   },
   "outputs": [
    {
     "name": "stdout",
     "output_type": "stream",
     "text": [
      "(40000, 9)\n"
     ]
    },
    {
     "data": {
      "text/html": [
       "<div>\n",
       "<style scoped>\n",
       "    .dataframe tbody tr th:only-of-type {\n",
       "        vertical-align: middle;\n",
       "    }\n",
       "\n",
       "    .dataframe tbody tr th {\n",
       "        vertical-align: top;\n",
       "    }\n",
       "\n",
       "    .dataframe thead th {\n",
       "        text-align: right;\n",
       "    }\n",
       "</style>\n",
       "<table border=\"1\" class=\"dataframe\">\n",
       "  <thead>\n",
       "    <tr style=\"text-align: right;\">\n",
       "      <th></th>\n",
       "      <th>present</th>\n",
       "      <th>NumI</th>\n",
       "      <th>NumY</th>\n",
       "      <th>NumX</th>\n",
       "      <th>X</th>\n",
       "      <th>Y</th>\n",
       "      <th>nom_NUM</th>\n",
       "      <th>nom_ECA</th>\n",
       "      <th>nom_POS</th>\n",
       "    </tr>\n",
       "  </thead>\n",
       "  <tbody>\n",
       "    <tr>\n",
       "      <th>52</th>\n",
       "      <td>1</td>\n",
       "      <td>52</td>\n",
       "      <td>52</td>\n",
       "      <td>0</td>\n",
       "      <td>2042500</td>\n",
       "      <td>7272260</td>\n",
       "      <td>2042500_7272260_NumPoints5m.tif</td>\n",
       "      <td>2042500_7272260_EcartZ5m.tif</td>\n",
       "      <td>2042500_7272260_Position5m.tif</td>\n",
       "    </tr>\n",
       "  </tbody>\n",
       "</table>\n",
       "</div>"
      ],
      "text/plain": [
       "    present  NumI  NumY  NumX        X        Y  \\\n",
       "52        1    52    52     0  2042500  7272260   \n",
       "\n",
       "                            nom_NUM                       nom_ECA  \\\n",
       "52  2042500_7272260_NumPoints5m.tif  2042500_7272260_EcartZ5m.tif   \n",
       "\n",
       "                           nom_POS  \n",
       "52  2042500_7272260_Position5m.tif  "
      ]
     },
     "execution_count": 89,
     "metadata": {},
     "output_type": "execute_result"
    }
   ],
   "source": [
    "print(lampes0.shape)\n",
    "lampes1.head(1)"
   ]
  },
  {
   "cell_type": "code",
   "execution_count": 90,
   "metadata": {
    "ExecuteTime": {
     "end_time": "2020-03-19T15:20:09.433230Z",
     "start_time": "2020-03-19T15:20:09.295113Z"
    },
    "slideshow": {
     "slide_type": "skip"
    }
   },
   "outputs": [
    {
     "name": "stdout",
     "output_type": "stream",
     "text": [
      "(30792, 112) (40000, 9) (30792, 102)\n",
      "diff =  2: 0\n",
      "diff =  1: 1727\n",
      "diff =  0: 28825\n",
      "diff = -1: 240\n",
      "diff = -2: 0\n"
     ]
    },
    {
     "data": {
      "text/plain": [
       "count    30792.000000\n",
       "mean         0.048292\n",
       "std          0.248093\n",
       "min         -1.000000\n",
       "25%          0.000000\n",
       "50%          0.000000\n",
       "75%          0.000000\n",
       "max          1.000000\n",
       "Name: diff, dtype: float64"
      ]
     },
     "execution_count": 90,
     "metadata": {},
     "output_type": "execute_result"
    }
   ],
   "source": [
    "# PAS LE MEME INDEXAGE (sur 40000 et 29384 + )\n",
    "# lampes0 autre DataFrame avec les indice de présence des lampadaires ... CORRECTS ? ... pas cohérent\n",
    "df_tot = df_Y.merge(lampes0, left_index=True, right_index=True)\n",
    "df_tot['diff'] = df_tot['lamp'] - df_tot['present']\n",
    "print(df_tot.shape, lampes0.shape,df_Y.shape )\n",
    "test = True\n",
    "if test:\n",
    "    print(\"diff =  2:\", df_tot[df_tot['diff'] ==  2].count(axis=0)[0])\n",
    "    print(\"diff =  1:\", df_tot[df_tot['diff'] ==  1].count(axis=0)[0])\n",
    "    print(\"diff =  0:\", df_tot[df_tot['diff'] ==  0].count(axis=0)[0])\n",
    "    print(\"diff = -1:\", df_tot[df_tot['diff'] == -1].count(axis=0)[0])\n",
    "    print(\"diff = -2:\", df_tot[df_tot['diff'] == -2].count(axis=0)[0])\n",
    "df_tot['diff'].describe()\n"
   ]
  },
  {
   "cell_type": "code",
   "execution_count": 91,
   "metadata": {
    "ExecuteTime": {
     "end_time": "2020-03-19T15:20:13.649574Z",
     "start_time": "2020-03-19T15:20:13.541223Z"
    },
    "slideshow": {
     "slide_type": "skip"
    }
   },
   "outputs": [
    {
     "data": {
      "text/html": [
       "<div>\n",
       "<style scoped>\n",
       "    .dataframe tbody tr th:only-of-type {\n",
       "        vertical-align: middle;\n",
       "    }\n",
       "\n",
       "    .dataframe tbody tr th {\n",
       "        vertical-align: top;\n",
       "    }\n",
       "\n",
       "    .dataframe thead th {\n",
       "        text-align: right;\n",
       "    }\n",
       "</style>\n",
       "<table border=\"1\" class=\"dataframe\">\n",
       "  <thead>\n",
       "    <tr style=\"text-align: right;\">\n",
       "      <th></th>\n",
       "      <th>0</th>\n",
       "      <th>1</th>\n",
       "      <th>2</th>\n",
       "      <th>3</th>\n",
       "      <th>4</th>\n",
       "      <th>5</th>\n",
       "      <th>6</th>\n",
       "      <th>7</th>\n",
       "      <th>8</th>\n",
       "      <th>9</th>\n",
       "      <th>...</th>\n",
       "      <th>present</th>\n",
       "      <th>NumI</th>\n",
       "      <th>NumY</th>\n",
       "      <th>NumX</th>\n",
       "      <th>X</th>\n",
       "      <th>Y</th>\n",
       "      <th>nom_NUM</th>\n",
       "      <th>nom_ECA</th>\n",
       "      <th>nom_POS</th>\n",
       "      <th>diff</th>\n",
       "    </tr>\n",
       "  </thead>\n",
       "  <tbody>\n",
       "    <tr>\n",
       "      <th>29032</th>\n",
       "      <td>0.0</td>\n",
       "      <td>0.0</td>\n",
       "      <td>0.0</td>\n",
       "      <td>0.0</td>\n",
       "      <td>0.0</td>\n",
       "      <td>0.0</td>\n",
       "      <td>0.0</td>\n",
       "      <td>0.0</td>\n",
       "      <td>0.0</td>\n",
       "      <td>0.0</td>\n",
       "      <td>...</td>\n",
       "      <td>0</td>\n",
       "      <td>29032</td>\n",
       "      <td>32</td>\n",
       "      <td>145</td>\n",
       "      <td>2043225</td>\n",
       "      <td>7272160</td>\n",
       "      <td>2043225_7272160_NumPoints5m.tif</td>\n",
       "      <td>2043225_7272160_EcartZ5m.tif</td>\n",
       "      <td>2043225_7272160_Position5m.tif</td>\n",
       "      <td>1.0</td>\n",
       "    </tr>\n",
       "    <tr>\n",
       "      <th>29033</th>\n",
       "      <td>0.0</td>\n",
       "      <td>0.0</td>\n",
       "      <td>1.0</td>\n",
       "      <td>0.0</td>\n",
       "      <td>0.0</td>\n",
       "      <td>0.0</td>\n",
       "      <td>0.0</td>\n",
       "      <td>0.0</td>\n",
       "      <td>0.0</td>\n",
       "      <td>0.0</td>\n",
       "      <td>...</td>\n",
       "      <td>0</td>\n",
       "      <td>29033</td>\n",
       "      <td>33</td>\n",
       "      <td>145</td>\n",
       "      <td>2043225</td>\n",
       "      <td>7272165</td>\n",
       "      <td>2043225_7272165_NumPoints5m.tif</td>\n",
       "      <td>2043225_7272165_EcartZ5m.tif</td>\n",
       "      <td>2043225_7272165_Position5m.tif</td>\n",
       "      <td>1.0</td>\n",
       "    </tr>\n",
       "    <tr>\n",
       "      <th>29034</th>\n",
       "      <td>0.0</td>\n",
       "      <td>0.0</td>\n",
       "      <td>0.0</td>\n",
       "      <td>0.0</td>\n",
       "      <td>0.0</td>\n",
       "      <td>0.0</td>\n",
       "      <td>0.0</td>\n",
       "      <td>0.0</td>\n",
       "      <td>0.0</td>\n",
       "      <td>0.0</td>\n",
       "      <td>...</td>\n",
       "      <td>0</td>\n",
       "      <td>29034</td>\n",
       "      <td>34</td>\n",
       "      <td>145</td>\n",
       "      <td>2043225</td>\n",
       "      <td>7272170</td>\n",
       "      <td>2043225_7272170_NumPoints5m.tif</td>\n",
       "      <td>2043225_7272170_EcartZ5m.tif</td>\n",
       "      <td>2043225_7272170_Position5m.tif</td>\n",
       "      <td>1.0</td>\n",
       "    </tr>\n",
       "    <tr>\n",
       "      <th>29035</th>\n",
       "      <td>0.0</td>\n",
       "      <td>0.0</td>\n",
       "      <td>0.0</td>\n",
       "      <td>0.0</td>\n",
       "      <td>0.0</td>\n",
       "      <td>0.0</td>\n",
       "      <td>0.0</td>\n",
       "      <td>0.0</td>\n",
       "      <td>0.0</td>\n",
       "      <td>0.0</td>\n",
       "      <td>...</td>\n",
       "      <td>0</td>\n",
       "      <td>29035</td>\n",
       "      <td>35</td>\n",
       "      <td>145</td>\n",
       "      <td>2043225</td>\n",
       "      <td>7272175</td>\n",
       "      <td>2043225_7272175_NumPoints5m.tif</td>\n",
       "      <td>2043225_7272175_EcartZ5m.tif</td>\n",
       "      <td>2043225_7272175_Position5m.tif</td>\n",
       "      <td>1.0</td>\n",
       "    </tr>\n",
       "    <tr>\n",
       "      <th>29036</th>\n",
       "      <td>0.0</td>\n",
       "      <td>0.0</td>\n",
       "      <td>0.0</td>\n",
       "      <td>0.0</td>\n",
       "      <td>0.0</td>\n",
       "      <td>0.0</td>\n",
       "      <td>0.0</td>\n",
       "      <td>0.0</td>\n",
       "      <td>0.0</td>\n",
       "      <td>0.0</td>\n",
       "      <td>...</td>\n",
       "      <td>0</td>\n",
       "      <td>29036</td>\n",
       "      <td>36</td>\n",
       "      <td>145</td>\n",
       "      <td>2043225</td>\n",
       "      <td>7272180</td>\n",
       "      <td>2043225_7272180_NumPoints5m.tif</td>\n",
       "      <td>2043225_7272180_EcartZ5m.tif</td>\n",
       "      <td>2043225_7272180_Position5m.tif</td>\n",
       "      <td>1.0</td>\n",
       "    </tr>\n",
       "    <tr>\n",
       "      <th>...</th>\n",
       "      <td>...</td>\n",
       "      <td>...</td>\n",
       "      <td>...</td>\n",
       "      <td>...</td>\n",
       "      <td>...</td>\n",
       "      <td>...</td>\n",
       "      <td>...</td>\n",
       "      <td>...</td>\n",
       "      <td>...</td>\n",
       "      <td>...</td>\n",
       "      <td>...</td>\n",
       "      <td>...</td>\n",
       "      <td>...</td>\n",
       "      <td>...</td>\n",
       "      <td>...</td>\n",
       "      <td>...</td>\n",
       "      <td>...</td>\n",
       "      <td>...</td>\n",
       "      <td>...</td>\n",
       "      <td>...</td>\n",
       "      <td>...</td>\n",
       "    </tr>\n",
       "    <tr>\n",
       "      <th>30787</th>\n",
       "      <td>0.0</td>\n",
       "      <td>0.0</td>\n",
       "      <td>0.0</td>\n",
       "      <td>0.0</td>\n",
       "      <td>0.0</td>\n",
       "      <td>0.0</td>\n",
       "      <td>0.0</td>\n",
       "      <td>0.0</td>\n",
       "      <td>0.0</td>\n",
       "      <td>0.0</td>\n",
       "      <td>...</td>\n",
       "      <td>0</td>\n",
       "      <td>30787</td>\n",
       "      <td>187</td>\n",
       "      <td>153</td>\n",
       "      <td>2043265</td>\n",
       "      <td>7272935</td>\n",
       "      <td>2043265_7272935_NumPoints5m.tif</td>\n",
       "      <td>2043265_7272935_EcartZ5m.tif</td>\n",
       "      <td>2043265_7272935_Position5m.tif</td>\n",
       "      <td>1.0</td>\n",
       "    </tr>\n",
       "    <tr>\n",
       "      <th>30788</th>\n",
       "      <td>0.0</td>\n",
       "      <td>0.0</td>\n",
       "      <td>0.0</td>\n",
       "      <td>0.0</td>\n",
       "      <td>0.0</td>\n",
       "      <td>0.0</td>\n",
       "      <td>0.0</td>\n",
       "      <td>0.0</td>\n",
       "      <td>0.0</td>\n",
       "      <td>0.0</td>\n",
       "      <td>...</td>\n",
       "      <td>0</td>\n",
       "      <td>30788</td>\n",
       "      <td>188</td>\n",
       "      <td>153</td>\n",
       "      <td>2043265</td>\n",
       "      <td>7272940</td>\n",
       "      <td>2043265_7272940_NumPoints5m.tif</td>\n",
       "      <td>2043265_7272940_EcartZ5m.tif</td>\n",
       "      <td>2043265_7272940_Position5m.tif</td>\n",
       "      <td>1.0</td>\n",
       "    </tr>\n",
       "    <tr>\n",
       "      <th>30789</th>\n",
       "      <td>0.0</td>\n",
       "      <td>0.0</td>\n",
       "      <td>0.0</td>\n",
       "      <td>0.0</td>\n",
       "      <td>0.0</td>\n",
       "      <td>0.0</td>\n",
       "      <td>0.0</td>\n",
       "      <td>0.0</td>\n",
       "      <td>0.0</td>\n",
       "      <td>0.0</td>\n",
       "      <td>...</td>\n",
       "      <td>0</td>\n",
       "      <td>30789</td>\n",
       "      <td>189</td>\n",
       "      <td>153</td>\n",
       "      <td>2043265</td>\n",
       "      <td>7272945</td>\n",
       "      <td>2043265_7272945_NumPoints5m.tif</td>\n",
       "      <td>2043265_7272945_EcartZ5m.tif</td>\n",
       "      <td>2043265_7272945_Position5m.tif</td>\n",
       "      <td>1.0</td>\n",
       "    </tr>\n",
       "    <tr>\n",
       "      <th>30790</th>\n",
       "      <td>0.0</td>\n",
       "      <td>0.0</td>\n",
       "      <td>0.0</td>\n",
       "      <td>0.0</td>\n",
       "      <td>0.0</td>\n",
       "      <td>0.0</td>\n",
       "      <td>0.0</td>\n",
       "      <td>0.0</td>\n",
       "      <td>0.0</td>\n",
       "      <td>0.0</td>\n",
       "      <td>...</td>\n",
       "      <td>0</td>\n",
       "      <td>30790</td>\n",
       "      <td>190</td>\n",
       "      <td>153</td>\n",
       "      <td>2043265</td>\n",
       "      <td>7272950</td>\n",
       "      <td>2043265_7272950_NumPoints5m.tif</td>\n",
       "      <td>2043265_7272950_EcartZ5m.tif</td>\n",
       "      <td>2043265_7272950_Position5m.tif</td>\n",
       "      <td>1.0</td>\n",
       "    </tr>\n",
       "    <tr>\n",
       "      <th>30791</th>\n",
       "      <td>0.0</td>\n",
       "      <td>0.0</td>\n",
       "      <td>0.0</td>\n",
       "      <td>0.0</td>\n",
       "      <td>0.0</td>\n",
       "      <td>0.0</td>\n",
       "      <td>0.0</td>\n",
       "      <td>0.0</td>\n",
       "      <td>0.0</td>\n",
       "      <td>0.0</td>\n",
       "      <td>...</td>\n",
       "      <td>0</td>\n",
       "      <td>30791</td>\n",
       "      <td>191</td>\n",
       "      <td>153</td>\n",
       "      <td>2043265</td>\n",
       "      <td>7272955</td>\n",
       "      <td>2043265_7272955_NumPoints5m.tif</td>\n",
       "      <td>2043265_7272955_EcartZ5m.tif</td>\n",
       "      <td>2043265_7272955_Position5m.tif</td>\n",
       "      <td>1.0</td>\n",
       "    </tr>\n",
       "  </tbody>\n",
       "</table>\n",
       "<p>1727 rows × 112 columns</p>\n",
       "</div>"
      ],
      "text/plain": [
       "         0    1    2    3    4    5    6    7    8    9  ...  present   NumI  \\\n",
       "29032  0.0  0.0  0.0  0.0  0.0  0.0  0.0  0.0  0.0  0.0  ...        0  29032   \n",
       "29033  0.0  0.0  1.0  0.0  0.0  0.0  0.0  0.0  0.0  0.0  ...        0  29033   \n",
       "29034  0.0  0.0  0.0  0.0  0.0  0.0  0.0  0.0  0.0  0.0  ...        0  29034   \n",
       "29035  0.0  0.0  0.0  0.0  0.0  0.0  0.0  0.0  0.0  0.0  ...        0  29035   \n",
       "29036  0.0  0.0  0.0  0.0  0.0  0.0  0.0  0.0  0.0  0.0  ...        0  29036   \n",
       "...    ...  ...  ...  ...  ...  ...  ...  ...  ...  ...  ...      ...    ...   \n",
       "30787  0.0  0.0  0.0  0.0  0.0  0.0  0.0  0.0  0.0  0.0  ...        0  30787   \n",
       "30788  0.0  0.0  0.0  0.0  0.0  0.0  0.0  0.0  0.0  0.0  ...        0  30788   \n",
       "30789  0.0  0.0  0.0  0.0  0.0  0.0  0.0  0.0  0.0  0.0  ...        0  30789   \n",
       "30790  0.0  0.0  0.0  0.0  0.0  0.0  0.0  0.0  0.0  0.0  ...        0  30790   \n",
       "30791  0.0  0.0  0.0  0.0  0.0  0.0  0.0  0.0  0.0  0.0  ...        0  30791   \n",
       "\n",
       "       NumY  NumX        X        Y                          nom_NUM  \\\n",
       "29032    32   145  2043225  7272160  2043225_7272160_NumPoints5m.tif   \n",
       "29033    33   145  2043225  7272165  2043225_7272165_NumPoints5m.tif   \n",
       "29034    34   145  2043225  7272170  2043225_7272170_NumPoints5m.tif   \n",
       "29035    35   145  2043225  7272175  2043225_7272175_NumPoints5m.tif   \n",
       "29036    36   145  2043225  7272180  2043225_7272180_NumPoints5m.tif   \n",
       "...     ...   ...      ...      ...                              ...   \n",
       "30787   187   153  2043265  7272935  2043265_7272935_NumPoints5m.tif   \n",
       "30788   188   153  2043265  7272940  2043265_7272940_NumPoints5m.tif   \n",
       "30789   189   153  2043265  7272945  2043265_7272945_NumPoints5m.tif   \n",
       "30790   190   153  2043265  7272950  2043265_7272950_NumPoints5m.tif   \n",
       "30791   191   153  2043265  7272955  2043265_7272955_NumPoints5m.tif   \n",
       "\n",
       "                            nom_ECA                         nom_POS  diff  \n",
       "29032  2043225_7272160_EcartZ5m.tif  2043225_7272160_Position5m.tif   1.0  \n",
       "29033  2043225_7272165_EcartZ5m.tif  2043225_7272165_Position5m.tif   1.0  \n",
       "29034  2043225_7272170_EcartZ5m.tif  2043225_7272170_Position5m.tif   1.0  \n",
       "29035  2043225_7272175_EcartZ5m.tif  2043225_7272175_Position5m.tif   1.0  \n",
       "29036  2043225_7272180_EcartZ5m.tif  2043225_7272180_Position5m.tif   1.0  \n",
       "...                             ...                             ...   ...  \n",
       "30787  2043265_7272935_EcartZ5m.tif  2043265_7272935_Position5m.tif   1.0  \n",
       "30788  2043265_7272940_EcartZ5m.tif  2043265_7272940_Position5m.tif   1.0  \n",
       "30789  2043265_7272945_EcartZ5m.tif  2043265_7272945_Position5m.tif   1.0  \n",
       "30790  2043265_7272950_EcartZ5m.tif  2043265_7272950_Position5m.tif   1.0  \n",
       "30791  2043265_7272955_EcartZ5m.tif  2043265_7272955_Position5m.tif   1.0  \n",
       "\n",
       "[1727 rows x 112 columns]"
      ]
     },
     "execution_count": 91,
     "metadata": {},
     "output_type": "execute_result"
    }
   ],
   "source": [
    "df_tot[(df_tot['diff'] >= 1)]"
   ]
  },
  {
   "cell_type": "code",
   "execution_count": 92,
   "metadata": {
    "ExecuteTime": {
     "end_time": "2020-03-19T15:20:18.479262Z",
     "start_time": "2020-03-19T15:20:18.169010Z"
    },
    "scrolled": true,
    "slideshow": {
     "slide_type": "skip"
    }
   },
   "outputs": [
    {
     "data": {
      "text/html": [
       "<div>\n",
       "<style scoped>\n",
       "    .dataframe tbody tr th:only-of-type {\n",
       "        vertical-align: middle;\n",
       "    }\n",
       "\n",
       "    .dataframe tbody tr th {\n",
       "        vertical-align: top;\n",
       "    }\n",
       "\n",
       "    .dataframe thead th {\n",
       "        text-align: right;\n",
       "    }\n",
       "</style>\n",
       "<table border=\"1\" class=\"dataframe\">\n",
       "  <thead>\n",
       "    <tr style=\"text-align: right;\">\n",
       "      <th></th>\n",
       "      <th>0</th>\n",
       "      <th>1</th>\n",
       "      <th>2</th>\n",
       "      <th>3</th>\n",
       "      <th>4</th>\n",
       "      <th>5</th>\n",
       "      <th>6</th>\n",
       "      <th>7</th>\n",
       "      <th>8</th>\n",
       "      <th>9</th>\n",
       "      <th>...</th>\n",
       "      <th>92</th>\n",
       "      <th>93</th>\n",
       "      <th>94</th>\n",
       "      <th>95</th>\n",
       "      <th>96</th>\n",
       "      <th>97</th>\n",
       "      <th>98</th>\n",
       "      <th>99</th>\n",
       "      <th>lamp</th>\n",
       "      <th>lamp2</th>\n",
       "    </tr>\n",
       "  </thead>\n",
       "  <tbody>\n",
       "    <tr>\n",
       "      <th>count</th>\n",
       "      <td>30792.000000</td>\n",
       "      <td>30792.000000</td>\n",
       "      <td>30792.000000</td>\n",
       "      <td>30792.000000</td>\n",
       "      <td>30792.000000</td>\n",
       "      <td>30792.000000</td>\n",
       "      <td>30792.000000</td>\n",
       "      <td>30792.000000</td>\n",
       "      <td>30792.000000</td>\n",
       "      <td>30792.000000</td>\n",
       "      <td>...</td>\n",
       "      <td>30792.000000</td>\n",
       "      <td>30792.000000</td>\n",
       "      <td>30792.000000</td>\n",
       "      <td>30792.000000</td>\n",
       "      <td>30792.000000</td>\n",
       "      <td>30792.000000</td>\n",
       "      <td>30792.000000</td>\n",
       "      <td>30792.000000</td>\n",
       "      <td>30792.000000</td>\n",
       "      <td>119.000000</td>\n",
       "    </tr>\n",
       "    <tr>\n",
       "      <th>mean</th>\n",
       "      <td>0.001689</td>\n",
       "      <td>0.001461</td>\n",
       "      <td>0.001137</td>\n",
       "      <td>0.001072</td>\n",
       "      <td>0.000974</td>\n",
       "      <td>0.000909</td>\n",
       "      <td>0.001137</td>\n",
       "      <td>0.001169</td>\n",
       "      <td>0.001039</td>\n",
       "      <td>0.001656</td>\n",
       "      <td>...</td>\n",
       "      <td>0.001137</td>\n",
       "      <td>0.001202</td>\n",
       "      <td>0.001072</td>\n",
       "      <td>0.001039</td>\n",
       "      <td>0.001169</td>\n",
       "      <td>0.001039</td>\n",
       "      <td>0.001559</td>\n",
       "      <td>0.001494</td>\n",
       "      <td>0.057125</td>\n",
       "      <td>15.092437</td>\n",
       "    </tr>\n",
       "    <tr>\n",
       "      <th>std</th>\n",
       "      <td>0.041060</td>\n",
       "      <td>0.038201</td>\n",
       "      <td>0.033696</td>\n",
       "      <td>0.032720</td>\n",
       "      <td>0.031199</td>\n",
       "      <td>0.030142</td>\n",
       "      <td>0.033696</td>\n",
       "      <td>0.034173</td>\n",
       "      <td>0.032221</td>\n",
       "      <td>0.040664</td>\n",
       "      <td>...</td>\n",
       "      <td>0.033696</td>\n",
       "      <td>0.034644</td>\n",
       "      <td>0.032720</td>\n",
       "      <td>0.032221</td>\n",
       "      <td>0.034173</td>\n",
       "      <td>0.032221</td>\n",
       "      <td>0.039452</td>\n",
       "      <td>0.038623</td>\n",
       "      <td>0.232086</td>\n",
       "      <td>7.867539</td>\n",
       "    </tr>\n",
       "    <tr>\n",
       "      <th>min</th>\n",
       "      <td>0.000000</td>\n",
       "      <td>0.000000</td>\n",
       "      <td>0.000000</td>\n",
       "      <td>0.000000</td>\n",
       "      <td>0.000000</td>\n",
       "      <td>0.000000</td>\n",
       "      <td>0.000000</td>\n",
       "      <td>0.000000</td>\n",
       "      <td>0.000000</td>\n",
       "      <td>0.000000</td>\n",
       "      <td>...</td>\n",
       "      <td>0.000000</td>\n",
       "      <td>0.000000</td>\n",
       "      <td>0.000000</td>\n",
       "      <td>0.000000</td>\n",
       "      <td>0.000000</td>\n",
       "      <td>0.000000</td>\n",
       "      <td>0.000000</td>\n",
       "      <td>0.000000</td>\n",
       "      <td>0.000000</td>\n",
       "      <td>1.000000</td>\n",
       "    </tr>\n",
       "    <tr>\n",
       "      <th>25%</th>\n",
       "      <td>0.000000</td>\n",
       "      <td>0.000000</td>\n",
       "      <td>0.000000</td>\n",
       "      <td>0.000000</td>\n",
       "      <td>0.000000</td>\n",
       "      <td>0.000000</td>\n",
       "      <td>0.000000</td>\n",
       "      <td>0.000000</td>\n",
       "      <td>0.000000</td>\n",
       "      <td>0.000000</td>\n",
       "      <td>...</td>\n",
       "      <td>0.000000</td>\n",
       "      <td>0.000000</td>\n",
       "      <td>0.000000</td>\n",
       "      <td>0.000000</td>\n",
       "      <td>0.000000</td>\n",
       "      <td>0.000000</td>\n",
       "      <td>0.000000</td>\n",
       "      <td>0.000000</td>\n",
       "      <td>0.000000</td>\n",
       "      <td>12.500000</td>\n",
       "    </tr>\n",
       "    <tr>\n",
       "      <th>50%</th>\n",
       "      <td>0.000000</td>\n",
       "      <td>0.000000</td>\n",
       "      <td>0.000000</td>\n",
       "      <td>0.000000</td>\n",
       "      <td>0.000000</td>\n",
       "      <td>0.000000</td>\n",
       "      <td>0.000000</td>\n",
       "      <td>0.000000</td>\n",
       "      <td>0.000000</td>\n",
       "      <td>0.000000</td>\n",
       "      <td>...</td>\n",
       "      <td>0.000000</td>\n",
       "      <td>0.000000</td>\n",
       "      <td>0.000000</td>\n",
       "      <td>0.000000</td>\n",
       "      <td>0.000000</td>\n",
       "      <td>0.000000</td>\n",
       "      <td>0.000000</td>\n",
       "      <td>0.000000</td>\n",
       "      <td>0.000000</td>\n",
       "      <td>16.000000</td>\n",
       "    </tr>\n",
       "    <tr>\n",
       "      <th>75%</th>\n",
       "      <td>0.000000</td>\n",
       "      <td>0.000000</td>\n",
       "      <td>0.000000</td>\n",
       "      <td>0.000000</td>\n",
       "      <td>0.000000</td>\n",
       "      <td>0.000000</td>\n",
       "      <td>0.000000</td>\n",
       "      <td>0.000000</td>\n",
       "      <td>0.000000</td>\n",
       "      <td>0.000000</td>\n",
       "      <td>...</td>\n",
       "      <td>0.000000</td>\n",
       "      <td>0.000000</td>\n",
       "      <td>0.000000</td>\n",
       "      <td>0.000000</td>\n",
       "      <td>0.000000</td>\n",
       "      <td>0.000000</td>\n",
       "      <td>0.000000</td>\n",
       "      <td>0.000000</td>\n",
       "      <td>0.000000</td>\n",
       "      <td>19.500000</td>\n",
       "    </tr>\n",
       "    <tr>\n",
       "      <th>max</th>\n",
       "      <td>1.000000</td>\n",
       "      <td>1.000000</td>\n",
       "      <td>1.000000</td>\n",
       "      <td>1.000000</td>\n",
       "      <td>1.000000</td>\n",
       "      <td>1.000000</td>\n",
       "      <td>1.000000</td>\n",
       "      <td>1.000000</td>\n",
       "      <td>1.000000</td>\n",
       "      <td>1.000000</td>\n",
       "      <td>...</td>\n",
       "      <td>1.000000</td>\n",
       "      <td>1.000000</td>\n",
       "      <td>1.000000</td>\n",
       "      <td>1.000000</td>\n",
       "      <td>1.000000</td>\n",
       "      <td>1.000000</td>\n",
       "      <td>1.000000</td>\n",
       "      <td>1.000000</td>\n",
       "      <td>1.000000</td>\n",
       "      <td>34.000000</td>\n",
       "    </tr>\n",
       "  </tbody>\n",
       "</table>\n",
       "<p>8 rows × 102 columns</p>\n",
       "</div>"
      ],
      "text/plain": [
       "                  0             1             2             3             4  \\\n",
       "count  30792.000000  30792.000000  30792.000000  30792.000000  30792.000000   \n",
       "mean       0.001689      0.001461      0.001137      0.001072      0.000974   \n",
       "std        0.041060      0.038201      0.033696      0.032720      0.031199   \n",
       "min        0.000000      0.000000      0.000000      0.000000      0.000000   \n",
       "25%        0.000000      0.000000      0.000000      0.000000      0.000000   \n",
       "50%        0.000000      0.000000      0.000000      0.000000      0.000000   \n",
       "75%        0.000000      0.000000      0.000000      0.000000      0.000000   \n",
       "max        1.000000      1.000000      1.000000      1.000000      1.000000   \n",
       "\n",
       "                  5             6             7             8             9  \\\n",
       "count  30792.000000  30792.000000  30792.000000  30792.000000  30792.000000   \n",
       "mean       0.000909      0.001137      0.001169      0.001039      0.001656   \n",
       "std        0.030142      0.033696      0.034173      0.032221      0.040664   \n",
       "min        0.000000      0.000000      0.000000      0.000000      0.000000   \n",
       "25%        0.000000      0.000000      0.000000      0.000000      0.000000   \n",
       "50%        0.000000      0.000000      0.000000      0.000000      0.000000   \n",
       "75%        0.000000      0.000000      0.000000      0.000000      0.000000   \n",
       "max        1.000000      1.000000      1.000000      1.000000      1.000000   \n",
       "\n",
       "       ...            92            93            94            95  \\\n",
       "count  ...  30792.000000  30792.000000  30792.000000  30792.000000   \n",
       "mean   ...      0.001137      0.001202      0.001072      0.001039   \n",
       "std    ...      0.033696      0.034644      0.032720      0.032221   \n",
       "min    ...      0.000000      0.000000      0.000000      0.000000   \n",
       "25%    ...      0.000000      0.000000      0.000000      0.000000   \n",
       "50%    ...      0.000000      0.000000      0.000000      0.000000   \n",
       "75%    ...      0.000000      0.000000      0.000000      0.000000   \n",
       "max    ...      1.000000      1.000000      1.000000      1.000000   \n",
       "\n",
       "                 96            97            98            99          lamp  \\\n",
       "count  30792.000000  30792.000000  30792.000000  30792.000000  30792.000000   \n",
       "mean       0.001169      0.001039      0.001559      0.001494      0.057125   \n",
       "std        0.034173      0.032221      0.039452      0.038623      0.232086   \n",
       "min        0.000000      0.000000      0.000000      0.000000      0.000000   \n",
       "25%        0.000000      0.000000      0.000000      0.000000      0.000000   \n",
       "50%        0.000000      0.000000      0.000000      0.000000      0.000000   \n",
       "75%        0.000000      0.000000      0.000000      0.000000      0.000000   \n",
       "max        1.000000      1.000000      1.000000      1.000000      1.000000   \n",
       "\n",
       "            lamp2  \n",
       "count  119.000000  \n",
       "mean    15.092437  \n",
       "std      7.867539  \n",
       "min      1.000000  \n",
       "25%     12.500000  \n",
       "50%     16.000000  \n",
       "75%     19.500000  \n",
       "max     34.000000  \n",
       "\n",
       "[8 rows x 102 columns]"
      ]
     },
     "execution_count": 92,
     "metadata": {},
     "output_type": "execute_result"
    }
   ],
   "source": [
    "df_Y.describe()\n"
   ]
  },
  {
   "cell_type": "code",
   "execution_count": null,
   "metadata": {
    "ExecuteTime": {
     "end_time": "2020-03-16T15:53:28.913732Z",
     "start_time": "2020-03-16T15:53:28.834835Z"
    },
    "slideshow": {
     "slide_type": "skip"
    }
   },
   "outputs": [],
   "source": [
    "\n"
   ]
  },
  {
   "cell_type": "markdown",
   "metadata": {
    "slideshow": {
     "slide_type": "skip"
    }
   },
   "source": [
    "### Séparation Train - Test "
   ]
  },
  {
   "cell_type": "code",
   "execution_count": 93,
   "metadata": {
    "ExecuteTime": {
     "end_time": "2020-03-19T15:20:22.697023Z",
     "start_time": "2020-03-19T15:20:22.608045Z"
    },
    "slideshow": {
     "slide_type": "skip"
    }
   },
   "outputs": [
    {
     "name": "stdout",
     "output_type": "stream",
     "text": [
      "29033 1759 (30792, 1) (30792, 2) (30792, 2)\n",
      "29033 30440 23226 1407\n"
     ]
    }
   ],
   "source": [
    "y = df_Y[[\"lamp\"]]\n",
    "y_binary = to_categorical(y)\n",
    "\n",
    "len0 = df_Y[df_Y['lamp'] == 0].shape[0]\n",
    "len1 = df_Y.shape[0] - len0\n",
    "\n",
    "df_test = pd.DataFrame(y_binary)\n",
    "print(len0, len1, y.shape, y_binary.shape, df_test.shape)\n",
    "\n",
    "print(len0, len0+int(len1*0.8), int(len0*0.8), int(len1*0.8))\n"
   ]
  },
  {
   "cell_type": "code",
   "execution_count": 94,
   "metadata": {
    "ExecuteTime": {
     "end_time": "2020-03-19T15:20:26.911863Z",
     "start_time": "2020-03-19T15:20:26.823093Z"
    },
    "slideshow": {
     "slide_type": "skip"
    }
   },
   "outputs": [
    {
     "name": "stdout",
     "output_type": "stream",
     "text": [
      "(30792, 1) (24633, 2) (6159, 2)\n",
      "24633 6159\n",
      "(23226, 10, 10, 2) (1407, 10, 10, 2) (5807, 10, 10, 2) (352, 10, 10, 2)\n",
      "(24633, 10, 10, 2) (6159, 10, 10, 2)\n"
     ]
    }
   ],
   "source": [
    "#########   problemes d'arrondis   ????  #######\n",
    "#### pas le meme nombre de lignes pour les 2 manières différentes d'extraire les lignes  ????\n",
    "#y0 = df_testY.iloc[:int(len0*0.8),len0:len0+int(len1*0.8)]\n",
    "#y1 = df_testY.iloc[int(len0*0.8):len0,len0+int(len1*0.8):len0+len1]\n",
    "df_testY = pd.DataFrame(y_binary)\n",
    "y0a = df_test.iloc[:int(len0*0.8),:]\n",
    "y0b = df_test.iloc[len0:len0+int(len1*0.8),:]\n",
    "#y0  = pd.concat(y0a, y0b)\n",
    "y0  = pd.concat([y0a, y0b])  # Dimension 3\n",
    "y1a = df_test.iloc[int(len0*0.8):len0,:]   \n",
    "y1b = df_test.iloc[len0+int(len1*0.8):len0+len1,:]   \n",
    "#y1  = pd.concat(y1a, y1b)\n",
    "y1  = pd.concat([y1a, y1b])  # Dimension 3\n",
    "\n",
    "# Probleme de dimensions des Y à prédire\n",
    "print(y.shape, y0.shape, y1.shape)\n",
    "#y0 = to_categorical(y0)\n",
    "#y1 = to_categorical(y1)\n",
    "print(len(y0[1]), len(y1[1]))\n",
    "\n",
    "data_x0a = data_x[:int(len0*0.8)]\n",
    "data_x0b = data_x[len0:len0+int(len1*0.8)]\n",
    "data_x1a = data_x[int(len0*0.8):len0]\n",
    "data_x1b = data_x[len0+int(len1*0.8):]\n",
    "print(data_x0a.shape, data_x0b.shape,data_x1a.shape, data_x1b.shape)\n",
    "\n",
    "#data_x0 = np.concatenate(data_x0a, data_x0b, axis=1)\n",
    "data_x0 = tf.keras.backend.concatenate((data_x0a, data_x0b), axis=0)\n",
    "data_x1 = tf.keras.backend.concatenate((data_x1a, data_x1b), axis=0)\n",
    "print(data_x0.shape,data_x1.shape)\n"
   ]
  },
  {
   "cell_type": "code",
   "execution_count": 95,
   "metadata": {
    "ExecuteTime": {
     "end_time": "2020-03-19T15:20:31.100108Z",
     "start_time": "2020-03-19T15:20:31.028457Z"
    }
   },
   "outputs": [
    {
     "name": "stdout",
     "output_type": "stream",
     "text": [
      "Dimensions X: (30792, 10, 10, 2)\n",
      "Dimensions Y: (30792, 2) 30792 (24633, 2) (6159, 2)\n"
     ]
    }
   ],
   "source": [
    "# Charge et split les données\n",
    "###############   TODO      ###############\n",
    "####### fonctionne avec les 2 cubes/images \n",
    "X = data_x\n",
    "####### Si ne fonctionne pas avec les 2 cubes/images \n",
    "# X = data1\n",
    "print(\"Dimensions X:\", X.shape)\n",
    "##############################################\n",
    "#####   calcul de la position de la lampe dans le carré N\n",
    "###  Passage mode binaire à une liste de 100\n",
    "############\n",
    "# Manière 1 de \n",
    "y = liste_y\n",
    "# Manière 2 ... directe à partir des 3 mêmes fichiers 10x10\n",
    "y = df_Y[[\"lamp\"]]\n",
    "\n",
    "y_binary = to_categorical(y, dtype='int')\n",
    "#y_binary = to_categorical(y, num_classes=2, dtype='int')\n",
    "\n",
    "\n",
    "print(\"Dimensions Y:\", y_binary.shape, len(y), y0.shape, y1.shape)\n",
    "#\n",
    "# y = data_y\n",
    "# print(y.shape)\n",
    "#############################\n",
    "\n",
    "#y_binary"
   ]
  },
  {
   "cell_type": "code",
   "execution_count": null,
   "metadata": {
    "ExecuteTime": {
     "start_time": "2020-03-16T16:17:43.355Z"
    }
   },
   "outputs": [],
   "source": []
  },
  {
   "cell_type": "code",
   "execution_count": 161,
   "metadata": {
    "ExecuteTime": {
     "end_time": "2020-03-18T12:36:26.214797Z",
     "start_time": "2020-03-18T12:36:26.131576Z"
    },
    "slideshow": {
     "slide_type": "slide"
    }
   },
   "outputs": [
    {
     "name": "stdout",
     "output_type": "stream",
     "text": [
      "Train et Test: (24633, 10, 10, 2) 24633 (6159, 10, 10, 2) 6159\n",
      "(24633, 10, 10, 2) 24633 (6159, 10, 10, 2) 6159\n",
      "(24633, 2) (6159, 2)\n"
     ]
    }
   ],
   "source": [
    "\n",
    "\n",
    "# tfds   tensorflow dataset splitting\n",
    "# test_split, valid_split, train_split = tfds.Split.TRAIN.subsplit([10, 15, 75])\n",
    "# PYTORCH   torchtext.data.Dataset\n",
    "# split(split_ratio=0.7, stratified=False, strata_field='label', random_state=None\n",
    "\n",
    "methode = 'test3'\n",
    "#methode = 'SKLEARN'\n",
    "\n",
    "if methode == 'test':\n",
    "    all = tf.data.Dataset.from_tensor_slices(X).shuffle(10, reshuffle_each_iteration=False)\n",
    "    n_row = int(X.shape[0] * 0.8)\n",
    "    train_data, test_data     = X[:n_row,:,:,:], X[n_row:,:,:,:]\n",
    "    train_labels, test_labels = y_binary[:n_row,:], y_binary[n_row:,:]\n",
    "    \n",
    "if methode == 'test2':\n",
    "    len0 = df_Y[df_Y['lamp'] == 0].shape[0]\n",
    "    len1 = df_Y.shape[0] - len0\n",
    "    \n",
    "    train_data, test_data = tf.split(X, [n_row1, n_row2], 0)\n",
    "    train_labels, test_labels = tf.split(y_binary, [n_row1, n_row2], 0)\n",
    "    \n",
    "if methode == 'test3':\n",
    "    train_data, test_data     = (data_x0, data_x1)\n",
    "    train_labels, test_labels = (y0, y1)\n",
    "\n",
    "if methode == 'shuffle':\n",
    "    fraction = 20\n",
    "    #all = tf.data.Dataset.from_tensor_slices(list(range(1, 21))).shuffle(10, reshuffle_each_iteration=False)\n",
    "    #test_data = all.enumerate().filter(lambda x,y: x % int(100/fraction) == 0).map(lambda x,y: y)\n",
    "    \n",
    "# dim = len(keras.backend.int_shape(X))\n",
    "# if dim = 2:\n",
    "# Avec SKLEARN\n",
    "if methode == 'SKLEARN':\n",
    "    train_data, test_data, train_labels, test_labels = train_test_split(\n",
    "        X, y_binary, test_size=0.2, random_state=42, stratify=y_binary)\n",
    "#        X, y, test_size=0.2, random_state=42, stratify=y)\n",
    "\n",
    "#print(train_data.shape, train_labels.shape, test_data.shape, test_labels.shape)\n",
    "print(\"Train et Test:\", train_data.shape, len(train_labels), test_data.shape, len(test_labels))\n",
    "\n",
    "#train_data = np.expand_dims(train_data, axis=3)\n",
    "#test_data = np.expand_dims(test_data, axis=3)\n",
    "\n",
    "#### Ce n'est plus nécessaire si X est un Tenseur 4D\n",
    "#train_data = train_data.reshape(train_data.shape[0], 10, 10, 1)\n",
    "#test_data  = test_data.reshape(test_data.shape[0], 10, 10, 1)\n",
    "\n",
    "#print(train_data.shape, train_labels.shape, test_data.shape, test_labels.shape)\n",
    "print(train_data.shape, len(train_labels), test_data.shape, len(test_labels))\n",
    "print(y0.shape, y1.shape)"
   ]
  },
  {
   "cell_type": "markdown",
   "metadata": {
    "slideshow": {
     "slide_type": "skip"
    }
   },
   "source": [
    "## Modèles CNN 2D"
   ]
  },
  {
   "cell_type": "markdown",
   "metadata": {
    "slideshow": {
     "slide_type": "skip"
    }
   },
   "source": [
    "### tensorboard plot diagramme\n",
    "\n",
    "### ou tikz in latex"
   ]
  },
  {
   "cell_type": "code",
   "execution_count": 162,
   "metadata": {
    "ExecuteTime": {
     "end_time": "2020-03-18T12:43:51.260333Z",
     "start_time": "2020-03-18T12:36:37.179978Z"
    },
    "slideshow": {
     "slide_type": "slide"
    }
   },
   "outputs": [
    {
     "name": "stdout",
     "output_type": "stream",
     "text": [
      "(24633, 10, 10, 2) (24633, 2) (30792, 102) (30792, 2) 30792\n",
      "Dimension: 4\n",
      "Epoch 1/200\n",
      "2/2 [==============================] - 6s 3s/step - loss: 0.5246 - accuracy: 0.8451\n",
      "Epoch 2/200\n",
      "2/2 [==============================] - 2s 963ms/step - loss: 0.3992 - accuracy: 0.9374\n",
      "Epoch 3/200\n",
      "2/2 [==============================] - 3s 1s/step - loss: 0.3668 - accuracy: 0.9420\n",
      "Epoch 4/200\n",
      "2/2 [==============================] - 4s 2s/step - loss: 0.3551 - accuracy: 0.9426\n",
      "Epoch 5/200\n",
      "2/2 [==============================] - 3s 2s/step - loss: 0.3518 - accuracy: 0.9428\n",
      "Epoch 6/200\n",
      "2/2 [==============================] - 2s 989ms/step - loss: 0.3462 - accuracy: 0.9428\n",
      "Epoch 7/200\n",
      "2/2 [==============================] - 2s 1s/step - loss: 0.3419 - accuracy: 0.9429\n",
      "Epoch 8/200\n",
      "2/2 [==============================] - 2s 962ms/step - loss: 0.3344 - accuracy: 0.9429\n",
      "Epoch 9/200\n",
      "2/2 [==============================] - 2s 979ms/step - loss: 0.3307 - accuracy: 0.9429\n",
      "Epoch 10/200\n",
      "2/2 [==============================] - 2s 964ms/step - loss: 0.3258 - accuracy: 0.9429\n",
      "Epoch 11/200\n",
      "2/2 [==============================] - 2s 997ms/step - loss: 0.3212 - accuracy: 0.9429\n",
      "Epoch 12/200\n",
      "2/2 [==============================] - 2s 1s/step - loss: 0.3149 - accuracy: 0.9429\n",
      "Epoch 13/200\n",
      "2/2 [==============================] - 2s 965ms/step - loss: 0.3121 - accuracy: 0.9429\n",
      "Epoch 14/200\n",
      "2/2 [==============================] - 2s 1s/step - loss: 0.3056 - accuracy: 0.9429\n",
      "Epoch 15/200\n",
      "2/2 [==============================] - 2s 957ms/step - loss: 0.2999 - accuracy: 0.9429\n",
      "Epoch 16/200\n",
      "2/2 [==============================] - 2s 998ms/step - loss: 0.2939 - accuracy: 0.9429\n",
      "Epoch 17/200\n",
      "2/2 [==============================] - 2s 972ms/step - loss: 0.2889 - accuracy: 0.9429\n",
      "Epoch 18/200\n",
      "2/2 [==============================] - 2s 973ms/step - loss: 0.2842 - accuracy: 0.9429\n",
      "Epoch 19/200\n",
      "2/2 [==============================] - 2s 966ms/step - loss: 0.2775 - accuracy: 0.9429\n",
      "Epoch 20/200\n",
      "2/2 [==============================] - 2s 962ms/step - loss: 0.2723 - accuracy: 0.9429\n",
      "Epoch 21/200\n",
      "2/2 [==============================] - 2s 982ms/step - loss: 0.2672 - accuracy: 0.9429\n",
      "Epoch 22/200\n",
      "2/2 [==============================] - 2s 969ms/step - loss: 0.2618 - accuracy: 0.9429\n",
      "Epoch 23/200\n",
      "2/2 [==============================] - 2s 969ms/step - loss: 0.2569 - accuracy: 0.9429\n",
      "Epoch 24/200\n",
      "2/2 [==============================] - 2s 965ms/step - loss: 0.2526 - accuracy: 0.9429\n",
      "Epoch 25/200\n",
      "2/2 [==============================] - 2s 965ms/step - loss: 0.2478 - accuracy: 0.9429\n",
      "Epoch 26/200\n",
      "2/2 [==============================] - 2s 970ms/step - loss: 0.2468 - accuracy: 0.9429\n",
      "Epoch 27/200\n",
      "2/2 [==============================] - 2s 992ms/step - loss: 0.2440 - accuracy: 0.9429\n",
      "Epoch 28/200\n",
      "2/2 [==============================] - 2s 964ms/step - loss: 0.2443 - accuracy: 0.9429\n",
      "Epoch 29/200\n",
      "2/2 [==============================] - 2s 970ms/step - loss: 0.2424 - accuracy: 0.9429\n",
      "Epoch 30/200\n",
      "2/2 [==============================] - 2s 980ms/step - loss: 0.2406 - accuracy: 0.9429\n",
      "Epoch 31/200\n",
      "2/2 [==============================] - 2s 968ms/step - loss: 0.2378 - accuracy: 0.9429\n",
      "Epoch 32/200\n",
      "2/2 [==============================] - 2s 960ms/step - loss: 0.2370 - accuracy: 0.9429\n",
      "Epoch 33/200\n",
      "2/2 [==============================] - 2s 965ms/step - loss: 0.2360 - accuracy: 0.9429\n",
      "Epoch 34/200\n",
      "2/2 [==============================] - 2s 972ms/step - loss: 0.2341 - accuracy: 0.9429\n",
      "Epoch 35/200\n",
      "2/2 [==============================] - 2s 1s/step - loss: 0.2333 - accuracy: 0.9429\n",
      "Epoch 36/200\n",
      "2/2 [==============================] - 2s 982ms/step - loss: 0.2304 - accuracy: 0.9429\n",
      "Epoch 37/200\n",
      "2/2 [==============================] - 2s 972ms/step - loss: 0.2279 - accuracy: 0.9429\n",
      "Epoch 38/200\n",
      "2/2 [==============================] - 2s 1s/step - loss: 0.2270 - accuracy: 0.9429\n",
      "Epoch 39/200\n",
      "2/2 [==============================] - 2s 1s/step - loss: 0.2280 - accuracy: 0.9429\n",
      "Epoch 40/200\n",
      "2/2 [==============================] - 2s 1s/step - loss: 0.2272 - accuracy: 0.9429\n",
      "Epoch 41/200\n",
      "2/2 [==============================] - 2s 1s/step - loss: 0.2252 - accuracy: 0.9429\n",
      "Epoch 42/200\n",
      "2/2 [==============================] - 2s 1s/step - loss: 0.2229 - accuracy: 0.9429\n",
      "Epoch 43/200\n",
      "2/2 [==============================] - 2s 1s/step - loss: 0.2208 - accuracy: 0.9429\n",
      "Epoch 44/200\n",
      "2/2 [==============================] - 2s 1s/step - loss: 0.2202 - accuracy: 0.9429\n",
      "Epoch 45/200\n",
      "2/2 [==============================] - 2s 1s/step - loss: 0.2198 - accuracy: 0.9429\n",
      "Epoch 46/200\n",
      "2/2 [==============================] - 2s 1s/step - loss: 0.2195 - accuracy: 0.9429\n",
      "Epoch 47/200\n",
      "2/2 [==============================] - 2s 976ms/step - loss: 0.2210 - accuracy: 0.9429\n",
      "Epoch 48/200\n",
      "2/2 [==============================] - 2s 1s/step - loss: 0.2177 - accuracy: 0.9429\n",
      "Epoch 49/200\n",
      "2/2 [==============================] - 2s 983ms/step - loss: 0.2167 - accuracy: 0.9429\n",
      "Epoch 50/200\n",
      "2/2 [==============================] - 2s 1s/step - loss: 0.2150 - accuracy: 0.9429\n",
      "Epoch 51/200\n",
      "2/2 [==============================] - 2s 1s/step - loss: 0.2149 - accuracy: 0.9429\n",
      "Epoch 52/200\n",
      "2/2 [==============================] - 2s 1s/step - loss: 0.2143 - accuracy: 0.9429\n",
      "Epoch 53/200\n",
      "2/2 [==============================] - 2s 995ms/step - loss: 0.2128 - accuracy: 0.9429\n",
      "Epoch 54/200\n",
      "2/2 [==============================] - 2s 1s/step - loss: 0.2120 - accuracy: 0.9429\n",
      "Epoch 55/200\n",
      "2/2 [==============================] - 2s 1s/step - loss: 0.2119 - accuracy: 0.9429\n",
      "Epoch 56/200\n",
      "2/2 [==============================] - 2s 994ms/step - loss: 0.2127 - accuracy: 0.9429\n",
      "Epoch 57/200\n",
      "2/2 [==============================] - 2s 1s/step - loss: 0.2130 - accuracy: 0.9429\n",
      "Epoch 58/200\n",
      "2/2 [==============================] - 2s 1s/step - loss: 0.2115 - accuracy: 0.9429\n",
      "Epoch 59/200\n",
      "2/2 [==============================] - 2s 992ms/step - loss: 0.2080 - accuracy: 0.9429\n",
      "Epoch 60/200\n",
      "2/2 [==============================] - 2s 987ms/step - loss: 0.2082 - accuracy: 0.9429\n",
      "Epoch 61/200\n",
      "2/2 [==============================] - 2s 1s/step - loss: 0.2073 - accuracy: 0.9429\n",
      "Epoch 62/200\n",
      "2/2 [==============================] - 2s 1s/step - loss: 0.2069 - accuracy: 0.9429\n",
      "Epoch 63/200\n",
      "2/2 [==============================] - 3s 1s/step - loss: 0.2074 - accuracy: 0.9429\n",
      "Epoch 64/200\n",
      "2/2 [==============================] - 2s 1s/step - loss: 0.2071 - accuracy: 0.9429\n",
      "Epoch 65/200\n",
      "2/2 [==============================] - 2s 1s/step - loss: 0.2063 - accuracy: 0.9429\n",
      "Epoch 66/200\n",
      "2/2 [==============================] - 2s 1s/step - loss: 0.2046 - accuracy: 0.9429\n",
      "Epoch 67/200\n",
      "2/2 [==============================] - 2s 1s/step - loss: 0.2035 - accuracy: 0.9429\n",
      "Epoch 68/200\n",
      "2/2 [==============================] - 2s 1s/step - loss: 0.2038 - accuracy: 0.9429\n",
      "Epoch 69/200\n",
      "2/2 [==============================] - 2s 1s/step - loss: 0.2027 - accuracy: 0.9429\n",
      "Epoch 70/200\n",
      "2/2 [==============================] - 2s 1s/step - loss: 0.2036 - accuracy: 0.9429\n",
      "Epoch 71/200\n",
      "2/2 [==============================] - 2s 963ms/step - loss: 0.2033 - accuracy: 0.9429\n",
      "Epoch 72/200\n",
      "2/2 [==============================] - 2s 1s/step - loss: 0.2024 - accuracy: 0.9429\n",
      "Epoch 73/200\n",
      "2/2 [==============================] - 2s 1s/step - loss: 0.2005 - accuracy: 0.9429\n",
      "Epoch 74/200\n",
      "2/2 [==============================] - 2s 983ms/step - loss: 0.2000 - accuracy: 0.9429\n",
      "Epoch 75/200\n",
      "2/2 [==============================] - 2s 1s/step - loss: 0.1991 - accuracy: 0.9429\n",
      "Epoch 76/200\n",
      "2/2 [==============================] - 2s 1s/step - loss: 0.1985 - accuracy: 0.9429\n",
      "Epoch 77/200\n",
      "2/2 [==============================] - 2s 973ms/step - loss: 0.1975 - accuracy: 0.9429\n",
      "Epoch 78/200\n",
      "2/2 [==============================] - 2s 1s/step - loss: 0.1984 - accuracy: 0.9429\n",
      "Epoch 79/200\n",
      "2/2 [==============================] - 2s 1s/step - loss: 0.1994 - accuracy: 0.9429\n",
      "Epoch 80/200\n",
      "2/2 [==============================] - 3s 1s/step - loss: 0.1977 - accuracy: 0.9429\n",
      "Epoch 81/200\n",
      "2/2 [==============================] - 2s 1s/step - loss: 0.1968 - accuracy: 0.9429\n",
      "Epoch 82/200\n",
      "2/2 [==============================] - 2s 1s/step - loss: 0.1950 - accuracy: 0.9429\n",
      "Epoch 83/200\n",
      "2/2 [==============================] - 2s 1s/step - loss: 0.1938 - accuracy: 0.9429\n",
      "Epoch 84/200\n",
      "2/2 [==============================] - 2s 1s/step - loss: 0.1942 - accuracy: 0.9429\n",
      "Epoch 85/200\n",
      "2/2 [==============================] - 2s 1s/step - loss: 0.1945 - accuracy: 0.9429\n",
      "Epoch 86/200\n",
      "2/2 [==============================] - 2s 1s/step - loss: 0.1969 - accuracy: 0.9429\n",
      "Epoch 87/200\n",
      "2/2 [==============================] - 2s 992ms/step - loss: 0.1972 - accuracy: 0.9429\n",
      "Epoch 88/200\n",
      "2/2 [==============================] - 2s 980ms/step - loss: 0.1938 - accuracy: 0.9429\n",
      "Epoch 89/200\n",
      "2/2 [==============================] - 2s 976ms/step - loss: 0.1911 - accuracy: 0.9429\n",
      "Epoch 90/200\n",
      "2/2 [==============================] - 2s 1s/step - loss: 0.1904 - accuracy: 0.9429\n",
      "Epoch 91/200\n",
      "2/2 [==============================] - 2s 987ms/step - loss: 0.1900 - accuracy: 0.9429\n",
      "Epoch 92/200\n",
      "2/2 [==============================] - 2s 975ms/step - loss: 0.1903 - accuracy: 0.9429\n",
      "Epoch 93/200\n",
      "2/2 [==============================] - 2s 983ms/step - loss: 0.1929 - accuracy: 0.9429\n",
      "Epoch 94/200\n",
      "2/2 [==============================] - 2s 964ms/step - loss: 0.1910 - accuracy: 0.9430\n",
      "Epoch 95/200\n",
      "2/2 [==============================] - 2s 1s/step - loss: 0.1894 - accuracy: 0.9429\n",
      "Epoch 96/200\n",
      "2/2 [==============================] - 2s 1s/step - loss: 0.1884 - accuracy: 0.9429\n",
      "Epoch 97/200\n",
      "2/2 [==============================] - 3s 1s/step - loss: 0.1881 - accuracy: 0.9430\n",
      "Epoch 98/200\n",
      "2/2 [==============================] - 2s 1s/step - loss: 0.1885 - accuracy: 0.9429\n",
      "Epoch 99/200\n",
      "2/2 [==============================] - 2s 1s/step - loss: 0.1889 - accuracy: 0.9429\n",
      "Epoch 100/200\n",
      "2/2 [==============================] - 2s 1s/step - loss: 0.1873 - accuracy: 0.9429\n",
      "Epoch 101/200\n",
      "2/2 [==============================] - 2s 1s/step - loss: 0.1864 - accuracy: 0.9429\n",
      "Epoch 102/200\n",
      "2/2 [==============================] - 2s 1s/step - loss: 0.1855 - accuracy: 0.9429\n",
      "Epoch 103/200\n",
      "2/2 [==============================] - 2s 1s/step - loss: 0.1856 - accuracy: 0.9429\n",
      "Epoch 104/200\n",
      "2/2 [==============================] - 3s 1s/step - loss: 0.1860 - accuracy: 0.9429\n",
      "Epoch 105/200\n",
      "2/2 [==============================] - 2s 1s/step - loss: 0.1852 - accuracy: 0.9430\n",
      "Epoch 106/200\n",
      "2/2 [==============================] - 2s 1s/step - loss: 0.1854 - accuracy: 0.9429\n",
      "Epoch 107/200\n",
      "2/2 [==============================] - 2s 1s/step - loss: 0.1850 - accuracy: 0.9429\n",
      "Epoch 108/200\n",
      "2/2 [==============================] - 2s 966ms/step - loss: 0.1846 - accuracy: 0.9429\n",
      "Epoch 109/200\n",
      "2/2 [==============================] - 2s 964ms/step - loss: 0.1842 - accuracy: 0.9429\n",
      "Epoch 110/200\n",
      "2/2 [==============================] - 2s 956ms/step - loss: 0.1827 - accuracy: 0.9430\n",
      "Epoch 111/200\n",
      "2/2 [==============================] - 2s 993ms/step - loss: 0.1819 - accuracy: 0.9429\n",
      "Epoch 112/200\n",
      "2/2 [==============================] - 2s 956ms/step - loss: 0.1821 - accuracy: 0.9430\n",
      "Epoch 113/200\n",
      "2/2 [==============================] - 2s 954ms/step - loss: 0.1820 - accuracy: 0.9430\n",
      "Epoch 114/200\n",
      "2/2 [==============================] - 2s 1s/step - loss: 0.1809 - accuracy: 0.9429\n",
      "Epoch 115/200\n",
      "2/2 [==============================] - 2s 1s/step - loss: 0.1798 - accuracy: 0.9430\n",
      "Epoch 116/200\n",
      "2/2 [==============================] - 2s 1s/step - loss: 0.1794 - accuracy: 0.9429\n",
      "Epoch 117/200\n",
      "2/2 [==============================] - 2s 1s/step - loss: 0.1799 - accuracy: 0.9429\n",
      "Epoch 118/200\n",
      "2/2 [==============================] - 2s 1s/step - loss: 0.1800 - accuracy: 0.9429\n",
      "Epoch 119/200\n",
      "2/2 [==============================] - 2s 1s/step - loss: 0.1791 - accuracy: 0.9429\n",
      "Epoch 120/200\n",
      "2/2 [==============================] - 2s 1s/step - loss: 0.1788 - accuracy: 0.9430\n",
      "Epoch 121/200\n",
      "2/2 [==============================] - 2s 1s/step - loss: 0.1801 - accuracy: 0.9430\n",
      "Epoch 122/200\n",
      "2/2 [==============================] - 2s 1s/step - loss: 0.1792 - accuracy: 0.9430\n",
      "Epoch 123/200\n",
      "2/2 [==============================] - 2s 972ms/step - loss: 0.1779 - accuracy: 0.9431\n",
      "Epoch 124/200\n",
      "2/2 [==============================] - 2s 992ms/step - loss: 0.1780 - accuracy: 0.9431\n",
      "Epoch 125/200\n",
      "2/2 [==============================] - 2s 996ms/step - loss: 0.1763 - accuracy: 0.9429\n",
      "Epoch 126/200\n",
      "2/2 [==============================] - 2s 1s/step - loss: 0.1752 - accuracy: 0.9430\n",
      "Epoch 127/200\n",
      "2/2 [==============================] - 2s 1s/step - loss: 0.1755 - accuracy: 0.9430\n",
      "Epoch 128/200\n",
      "2/2 [==============================] - 2s 1s/step - loss: 0.1746 - accuracy: 0.9429\n",
      "Epoch 129/200\n",
      "2/2 [==============================] - 2s 978ms/step - loss: 0.1757 - accuracy: 0.9429\n",
      "Epoch 130/200\n",
      "2/2 [==============================] - 2s 970ms/step - loss: 0.1747 - accuracy: 0.9430\n",
      "Epoch 131/200\n",
      "2/2 [==============================] - 2s 973ms/step - loss: 0.1760 - accuracy: 0.9431\n",
      "Epoch 132/200\n",
      "2/2 [==============================] - 2s 982ms/step - loss: 0.1750 - accuracy: 0.9429\n",
      "Epoch 133/200\n",
      "2/2 [==============================] - 2s 977ms/step - loss: 0.1733 - accuracy: 0.9432\n",
      "Epoch 134/200\n",
      "2/2 [==============================] - 2s 979ms/step - loss: 0.1725 - accuracy: 0.9430\n",
      "Epoch 135/200\n",
      "2/2 [==============================] - 2s 974ms/step - loss: 0.1722 - accuracy: 0.9430\n",
      "Epoch 136/200\n",
      "2/2 [==============================] - 2s 994ms/step - loss: 0.1718 - accuracy: 0.9431\n",
      "Epoch 137/200\n",
      "2/2 [==============================] - 2s 974ms/step - loss: 0.1721 - accuracy: 0.9431\n",
      "Epoch 138/200\n",
      "2/2 [==============================] - 2s 962ms/step - loss: 0.1733 - accuracy: 0.9432\n",
      "Epoch 139/200\n",
      "2/2 [==============================] - 2s 973ms/step - loss: 0.1732 - accuracy: 0.9431\n",
      "Epoch 140/200\n",
      "2/2 [==============================] - 2s 994ms/step - loss: 0.1719 - accuracy: 0.9432\n",
      "Epoch 141/200\n",
      "2/2 [==============================] - 2s 992ms/step - loss: 0.1708 - accuracy: 0.9432\n",
      "Epoch 142/200\n",
      "2/2 [==============================] - 2s 979ms/step - loss: 0.1709 - accuracy: 0.9432\n",
      "Epoch 143/200\n",
      "2/2 [==============================] - 2s 971ms/step - loss: 0.1695 - accuracy: 0.9432\n",
      "Epoch 144/200\n",
      "2/2 [==============================] - 2s 970ms/step - loss: 0.1693 - accuracy: 0.9435\n",
      "Epoch 145/200\n",
      "2/2 [==============================] - 2s 982ms/step - loss: 0.1697 - accuracy: 0.9434\n",
      "Epoch 146/200\n",
      "2/2 [==============================] - 2s 972ms/step - loss: 0.1695 - accuracy: 0.9433\n",
      "Epoch 147/200\n",
      "2/2 [==============================] - 2s 963ms/step - loss: 0.1694 - accuracy: 0.9433\n",
      "Epoch 148/200\n",
      "2/2 [==============================] - 2s 966ms/step - loss: 0.1692 - accuracy: 0.9436\n",
      "Epoch 149/200\n",
      "2/2 [==============================] - 2s 977ms/step - loss: 0.1677 - accuracy: 0.9438\n",
      "Epoch 150/200\n",
      "2/2 [==============================] - 2s 1s/step - loss: 0.1684 - accuracy: 0.9435\n",
      "Epoch 151/200\n",
      "2/2 [==============================] - 2s 1s/step - loss: 0.1673 - accuracy: 0.9435\n",
      "Epoch 152/200\n",
      "2/2 [==============================] - 2s 997ms/step - loss: 0.1671 - accuracy: 0.9437\n",
      "Epoch 153/200\n",
      "2/2 [==============================] - 2s 1s/step - loss: 0.1682 - accuracy: 0.9435\n",
      "Epoch 154/200\n",
      "2/2 [==============================] - 2s 978ms/step - loss: 0.1671 - accuracy: 0.9437\n",
      "Epoch 155/200\n",
      "2/2 [==============================] - 2s 976ms/step - loss: 0.1671 - accuracy: 0.9441\n",
      "Epoch 156/200\n",
      "2/2 [==============================] - 2s 996ms/step - loss: 0.1654 - accuracy: 0.9435\n",
      "Epoch 157/200\n",
      "2/2 [==============================] - 2s 973ms/step - loss: 0.1646 - accuracy: 0.9437\n",
      "Epoch 158/200\n",
      "2/2 [==============================] - 2s 970ms/step - loss: 0.1635 - accuracy: 0.9443\n",
      "Epoch 159/200\n",
      "2/2 [==============================] - 2s 968ms/step - loss: 0.1635 - accuracy: 0.9443\n",
      "Epoch 160/200\n",
      "2/2 [==============================] - 2s 967ms/step - loss: 0.1634 - accuracy: 0.9439\n",
      "Epoch 161/200\n",
      "2/2 [==============================] - 2s 961ms/step - loss: 0.1640 - accuracy: 0.9441\n",
      "Epoch 162/200\n",
      "2/2 [==============================] - 2s 988ms/step - loss: 0.1647 - accuracy: 0.9442\n",
      "Epoch 163/200\n",
      "2/2 [==============================] - 2s 1s/step - loss: 0.1647 - accuracy: 0.9441\n",
      "Epoch 164/200\n",
      "2/2 [==============================] - 2s 975ms/step - loss: 0.1657 - accuracy: 0.9443\n",
      "Epoch 165/200\n"
     ]
    },
    {
     "name": "stdout",
     "output_type": "stream",
     "text": [
      "2/2 [==============================] - 2s 1s/step - loss: 0.1650 - accuracy: 0.9443\n",
      "Epoch 166/200\n",
      "2/2 [==============================] - 2s 984ms/step - loss: 0.1640 - accuracy: 0.9441\n",
      "Epoch 167/200\n",
      "2/2 [==============================] - 2s 1s/step - loss: 0.1626 - accuracy: 0.9441\n",
      "Epoch 168/200\n",
      "2/2 [==============================] - 2s 1s/step - loss: 0.1635 - accuracy: 0.9438\n",
      "Epoch 169/200\n",
      "2/2 [==============================] - 2s 1s/step - loss: 0.1629 - accuracy: 0.9444\n",
      "Epoch 170/200\n",
      "2/2 [==============================] - 2s 1s/step - loss: 0.1629 - accuracy: 0.9443\n",
      "Epoch 171/200\n",
      "2/2 [==============================] - 2s 1s/step - loss: 0.1613 - accuracy: 0.9446\n",
      "Epoch 172/200\n",
      "2/2 [==============================] - 2s 1s/step - loss: 0.1614 - accuracy: 0.9446\n",
      "Epoch 173/200\n",
      "2/2 [==============================] - 2s 1s/step - loss: 0.1615 - accuracy: 0.9445\n",
      "Epoch 174/200\n",
      "2/2 [==============================] - 2s 1s/step - loss: 0.1621 - accuracy: 0.9448\n",
      "Epoch 175/200\n",
      "2/2 [==============================] - 2s 1s/step - loss: 0.1621 - accuracy: 0.9446\n",
      "Epoch 176/200\n",
      "2/2 [==============================] - 2s 1s/step - loss: 0.1605 - accuracy: 0.9449\n",
      "Epoch 177/200\n",
      "2/2 [==============================] - 2s 1s/step - loss: 0.1595 - accuracy: 0.9450\n",
      "Epoch 178/200\n",
      "2/2 [==============================] - 2s 1s/step - loss: 0.1591 - accuracy: 0.9450\n",
      "Epoch 179/200\n",
      "2/2 [==============================] - 2s 1s/step - loss: 0.1593 - accuracy: 0.9450\n",
      "Epoch 180/200\n",
      "2/2 [==============================] - 2s 1s/step - loss: 0.1589 - accuracy: 0.9449\n",
      "Epoch 181/200\n",
      "2/2 [==============================] - 2s 1s/step - loss: 0.1592 - accuracy: 0.9446\n",
      "Epoch 182/200\n",
      "2/2 [==============================] - 2s 1s/step - loss: 0.1594 - accuracy: 0.9450\n",
      "Epoch 183/200\n",
      "2/2 [==============================] - 2s 1s/step - loss: 0.1592 - accuracy: 0.9454\n",
      "Epoch 184/200\n",
      "2/2 [==============================] - 2s 1s/step - loss: 0.1606 - accuracy: 0.9455\n",
      "Epoch 185/200\n",
      "2/2 [==============================] - 2s 1s/step - loss: 0.1589 - accuracy: 0.9458\n",
      "Epoch 186/200\n",
      "2/2 [==============================] - 2s 999ms/step - loss: 0.1566 - accuracy: 0.9454\n",
      "Epoch 187/200\n",
      "2/2 [==============================] - 2s 1s/step - loss: 0.1563 - accuracy: 0.9452\n",
      "Epoch 188/200\n",
      "2/2 [==============================] - 2s 1s/step - loss: 0.1554 - accuracy: 0.9459\n",
      "Epoch 189/200\n",
      "2/2 [==============================] - 2s 1s/step - loss: 0.1583 - accuracy: 0.9456\n",
      "Epoch 190/200\n",
      "2/2 [==============================] - 2s 1s/step - loss: 0.1597 - accuracy: 0.9456\n",
      "Epoch 191/200\n",
      "2/2 [==============================] - 2s 1s/step - loss: 0.1582 - accuracy: 0.9454\n",
      "Epoch 192/200\n",
      "2/2 [==============================] - 2s 1s/step - loss: 0.1575 - accuracy: 0.9452\n",
      "Epoch 193/200\n",
      "2/2 [==============================] - 2s 1s/step - loss: 0.1573 - accuracy: 0.9453\n",
      "Epoch 194/200\n",
      "2/2 [==============================] - 2s 995ms/step - loss: 0.1572 - accuracy: 0.9455\n",
      "Epoch 195/200\n",
      "2/2 [==============================] - 2s 1s/step - loss: 0.1573 - accuracy: 0.9461\n",
      "Epoch 196/200\n",
      "2/2 [==============================] - 2s 1s/step - loss: 0.1563 - accuracy: 0.9462\n",
      "Epoch 197/200\n",
      "2/2 [==============================] - 2s 1s/step - loss: 0.1547 - accuracy: 0.9460\n",
      "Epoch 198/200\n",
      "2/2 [==============================] - 2s 1s/step - loss: 0.1539 - accuracy: 0.9464\n",
      "Epoch 199/200\n",
      "2/2 [==============================] - 2s 1s/step - loss: 0.1532 - accuracy: 0.9461\n",
      "Epoch 200/200\n",
      "2/2 [==============================] - 2s 1s/step - loss: 0.1531 - accuracy: 0.9467\n",
      "Test loss: 0.05496264497439066\n",
      "Test accuracy: 2.8451047539711\n"
     ]
    }
   ],
   "source": [
    "print(train_data.shape, train_labels.shape, df_Y.shape, y_binary.shape, len(y))\n",
    "\n",
    "# 2) Train CONVNET on the MNIST dataset\n",
    "dim = len(keras.backend.int_shape(train_data))\n",
    "print(\"Dimension:\", dim)\n",
    "\n",
    "epochs = 200   # 30 à 50 ou 120-150-200 ???\n",
    "#  steps PROBLEMES si différent de 1 pour les derniers plots\n",
    "batch_size = 1    # 64 \n",
    "#ratio = 10 * 401 / 70\n",
    "ratio = 10 * 20000 / 70\n",
    "poids_class = {0: 1., 1: ratio}\n",
    "if dim == 2:\n",
    "    input_shape = (10, 10)\n",
    "if dim == 4:\n",
    "    input_shape = (10, 10, 2)\n",
    "    #input_shape = (10, 10, 1)\n",
    "\n",
    "filters = (5,5)\n",
    "strides=(1,1)\n",
    "pool_size=(2,2)\n",
    "\n",
    "model2 = Sequential([\n",
    "    Conv2D(6, filters, padding=\"same\", strides=strides, input_shape=input_shape),\n",
    "    MaxPooling2D(pool_size=pool_size),\n",
    "    Conv2D(16, filters, padding=\"same\", strides=strides),\n",
    "    MaxPooling2D(pool_size=pool_size),\n",
    "    Flatten(),\n",
    "    Dense(120, activation='relu'),\n",
    "    #Dropout(0.1),\n",
    "    Dropout(0.5),\n",
    "    Dense(100, activation='relu'),\n",
    "    Dropout(0.1),\n",
    "    #Dropout(0.5),\n",
    "    Dense(2, activation='sigmoid')   #  'softmax'\n",
    "    #Dense(2, activation='softmax')\n",
    "])\n",
    "\n",
    "#model2.compile(loss=keras.losses.categorical_crossentropy, optimizer=keras.optimizers.Adadelta(),\n",
    "#              metrics=['accuracy'])\n",
    "model2.compile(loss=keras.losses.binary_crossentropy, optimizer=keras.optimizers.Adadelta(),\n",
    "#model2.compile(loss=keras.losses.mse, optimizer=keras.optimizers.Adadelta(),\n",
    "              metrics=['accuracy'])\n",
    "\n",
    "#  si TENSOR = 2D\n",
    "if dim == 2:\n",
    "    history2 = model2.fit(train_data, train_labels, batch_size=batch_size, epochs=epochs, \n",
    "                          class_weight=poids_class,  # ou   'balanced'\n",
    "          verbose=1, validation_data=(test_data, test_labels))\n",
    "    score = model2.evaluate(test_data, test_labels, verbose=0)\n",
    "elif dim == 4:\n",
    "#    history2 = model2.fit_generator(train_data, train_labels, verbose=1)      \n",
    "    history2 = model2.fit(train_data, train_labels, epochs=epochs, verbose=1, \n",
    "#                          # class_weight=poids_class,   #  ValueError:  NOT supported for 3+ dimensional targets\n",
    "                        validation_freq=.33, steps_per_epoch=2)\n",
    "    score = model2.evaluate(test_data, test_labels, steps=3, verbose=0)\n",
    "else:\n",
    "    print(\"WRONG tensor dimension inputs ....\")\n",
    "\n",
    "print('Test loss:', score[0])\n",
    "print('Test accuracy:', score[1])"
   ]
  },
  {
   "cell_type": "markdown",
   "metadata": {
    "slideshow": {
     "slide_type": "skip"
    }
   },
   "source": [
    "### Sommaire"
   ]
  },
  {
   "cell_type": "code",
   "execution_count": 122,
   "metadata": {
    "ExecuteTime": {
     "end_time": "2020-03-17T19:57:08.674887Z",
     "start_time": "2020-03-17T19:57:08.599103Z"
    },
    "slideshow": {
     "slide_type": "slide"
    }
   },
   "outputs": [
    {
     "name": "stdout",
     "output_type": "stream",
     "text": [
      "Model: \"sequential_9\"\n",
      "_________________________________________________________________\n",
      "Layer (type)                 Output Shape              Param #   \n",
      "=================================================================\n",
      "conv2d_17 (Conv2D)           (None, 10, 10, 6)         306       \n",
      "_________________________________________________________________\n",
      "max_pooling2d_17 (MaxPooling (None, 5, 5, 6)           0         \n",
      "_________________________________________________________________\n",
      "conv2d_18 (Conv2D)           (None, 5, 5, 16)          2416      \n",
      "_________________________________________________________________\n",
      "max_pooling2d_18 (MaxPooling (None, 2, 2, 16)          0         \n",
      "_________________________________________________________________\n",
      "flatten_9 (Flatten)          (None, 64)                0         \n",
      "_________________________________________________________________\n",
      "dense_25 (Dense)             (None, 120)               7800      \n",
      "_________________________________________________________________\n",
      "dropout_17 (Dropout)         (None, 120)               0         \n",
      "_________________________________________________________________\n",
      "dense_26 (Dense)             (None, 100)               12100     \n",
      "_________________________________________________________________\n",
      "dropout_18 (Dropout)         (None, 100)               0         \n",
      "_________________________________________________________________\n",
      "dense_27 (Dense)             (None, 2)                 202       \n",
      "=================================================================\n",
      "Total params: 22,824\n",
      "Trainable params: 22,824\n",
      "Non-trainable params: 0\n",
      "_________________________________________________________________\n"
     ]
    }
   ],
   "source": [
    "model2.summary()\n",
    "\n",
    "# model.save_weights('file.h5')\n",
    "# avec le model construit + les poids\n",
    "# model.load_weights('file.h5')"
   ]
  },
  {
   "cell_type": "markdown",
   "metadata": {
    "slideshow": {
     "slide_type": "skip"
    }
   },
   "source": [
    "### Figures"
   ]
  },
  {
   "cell_type": "code",
   "execution_count": 163,
   "metadata": {
    "ExecuteTime": {
     "end_time": "2020-03-18T12:44:05.931416Z",
     "start_time": "2020-03-18T12:44:05.736129Z"
    },
    "slideshow": {
     "slide_type": "skip"
    }
   },
   "outputs": [
    {
     "data": {
      "image/png": "[encoded data removed]",
      "text/plain": [
       "<Figure size 432x288 with 1 Axes>"
      ]
     },
     "metadata": {
      "needs_background": "light"
     },
     "output_type": "display_data"
    }
   ],
   "source": [
    "#history0.history\n",
    "# plot metrics\n",
    "#_ = plt.plot(history2.history['binary_accuracy'])\n",
    "_ = plt.plot(history2.history['accuracy'])\n",
    "_ = plt.show()\n"
   ]
  },
  {
   "cell_type": "code",
   "execution_count": 164,
   "metadata": {
    "ExecuteTime": {
     "end_time": "2020-03-18T12:44:11.159913Z",
     "start_time": "2020-03-18T12:44:10.800566Z"
    },
    "slideshow": {
     "slide_type": "slide"
    }
   },
   "outputs": [
    {
     "name": "stdout",
     "output_type": "stream",
     "text": [
      "dict_keys(['loss', 'accuracy'])\n",
      "0 blue [[0.5245528519153595, 0.3991781026124954, 0.3668197691440582, 0.3551277220249176, 0.3518206626176834, 0.34616488218307495, 0.3419492840766907, 0.33443284034729004, 0.33066555857658386, 0.32583506405353546, 0.32122446596622467, 0.3148536682128906, 0.31213386356830597, 0.30558422207832336, 0.2998656630516052, 0.29390233755111694, 0.2889121174812317, 0.28418979048728943, 0.2775009423494339, 0.2723364382982254, 0.26720118522644043, 0.2618085741996765, 0.25693927705287933, 0.25264136493206024, 0.2478051632642746, 0.24684765934944153, 0.24395425617694855, 0.2443295642733574, 0.242353655397892, 0.24055206775665283, 0.23777073621749878, 0.2369808927178383, 0.23596765100955963, 0.2341436967253685, 0.23334506154060364, 0.23043818771839142, 0.2278892919421196, 0.22696417570114136, 0.22795014083385468, 0.22717375308275223, 0.2252131626009941, 0.2228567823767662, 0.22077424824237823, 0.22015471756458282, 0.21983082592487335, 0.21953565627336502, 0.22095190733671188, 0.2177240028977394, 0.21668117493391037, 0.215008445084095, 0.2148965448141098, 0.2143370658159256, 0.21277309954166412, 0.2119785100221634, 0.2119281068444252, 0.21267523616552353, 0.21302533894777298, 0.21147917956113815, 0.20803534984588623, 0.20816531032323837, 0.20725170522928238, 0.2069452553987503, 0.20736335963010788, 0.20708758383989334, 0.20625613629817963, 0.2046499252319336, 0.20352254062891006, 0.2037736475467682, 0.20270715653896332, 0.20359132438898087, 0.2033260464668274, 0.20244204252958298, 0.20049282163381577, 0.20002180337905884, 0.1991373673081398, 0.1984582394361496, 0.19752296060323715, 0.1984158456325531, 0.19938018918037415, 0.19770221412181854, 0.196808859705925, 0.19503875076770782, 0.19380933791399002, 0.19422317296266556, 0.1945165991783142, 0.19694095104932785, 0.1972077637910843, 0.19384179264307022, 0.19107471406459808, 0.19043001532554626, 0.18995361775159836, 0.1902754157781601, 0.19289061427116394, 0.19100697338581085, 0.1894259825348854, 0.18839339911937714, 0.1881348043680191, 0.1885232776403427, 0.1888570934534073, 0.18732650578022003, 0.18635104596614838, 0.18549448251724243, 0.18561089038848877, 0.1859908178448677, 0.18521376699209213, 0.18539198487997055, 0.184969000518322, 0.18464624136686325, 0.18418709188699722, 0.1827462762594223, 0.18189025670289993, 0.18210439383983612, 0.18203570693731308, 0.18092190474271774, 0.17981144785881042, 0.17939786612987518, 0.17991343140602112, 0.17997293919324875, 0.17908452451229095, 0.17881816625595093, 0.18010305613279343, 0.17924928665161133, 0.17794012278318405, 0.1780107244849205, 0.17631929367780685, 0.17524325847625732, 0.17545617371797562, 0.17462820559740067, 0.17568408697843552, 0.17468325793743134, 0.17599695175886154, 0.1750457063317299, 0.1732962429523468, 0.17245878279209137, 0.1721971407532692, 0.17175693064928055, 0.17208201438188553, 0.1733197495341301, 0.1732301563024521, 0.17190199345350266, 0.17078910768032074, 0.17086723446846008, 0.16950944066047668, 0.16933035105466843, 0.16965963691473007, 0.16949815303087234, 0.16943535208702087, 0.16916358470916748, 0.16767369210720062, 0.1684328243136406, 0.16728729009628296, 0.1671305075287819, 0.16823770850896835, 0.16709833592176437, 0.16711345314979553, 0.1654246598482132, 0.16455432027578354, 0.16348180919885635, 0.16347433626651764, 0.16343311220407486, 0.16401411592960358, 0.16472487151622772, 0.16473103314638138, 0.16571179777383804, 0.16498122364282608, 0.1639525592327118, 0.16257868707180023, 0.163532555103302, 0.16289208829402924, 0.162947379052639, 0.1612931787967682, 0.1613948941230774, 0.16145914793014526, 0.16208288073539734, 0.16211622953414917, 0.1605205088853836, 0.15949007123708725, 0.15913483500480652, 0.1592903807759285, 0.1588992327451706, 0.1591918095946312, 0.15942344069480896, 0.1592438817024231, 0.16064782440662384, 0.15887562185525894, 0.15655485540628433, 0.15633509308099747, 0.15542129427194595, 0.158346988260746, 0.15970581024885178, 0.15816748142242432, 0.15753895044326782, 0.15731947124004364, 0.1571573168039322, 0.15725607424974442, 0.15625450760126114, 0.1547093763947487, 0.1539181023836136, 0.1532157137989998, 0.1531120240688324], [0.8451163, 0.9373503, 0.9419884, 0.9426379, 0.9427699, 0.9427597, 0.9428612, 0.9429018, 0.9428815, 0.9429119, 0.9429018, 0.9429119, 0.9429221, 0.9429221, 0.9429119, 0.9429221, 0.9429221, 0.9429119, 0.94293225, 0.9429221, 0.9429221, 0.9429221, 0.9429221, 0.9429119, 0.9429018, 0.9429119, 0.9429018, 0.94289166, 0.9429119, 0.9429018, 0.94293225, 0.9429221, 0.9429119, 0.9429119, 0.94293225, 0.9429119, 0.94293225, 0.9429018, 0.9429221, 0.9429018, 0.9429119, 0.9429221, 0.9429018, 0.9429119, 0.94289166, 0.9429018, 0.9429119, 0.9429018, 0.9429119, 0.9429221, 0.9429221, 0.9428815, 0.9429119, 0.9429119, 0.9429119, 0.9429119, 0.9428815, 0.94293225, 0.9429018, 0.9429221, 0.94293225, 0.9429221, 0.9429119, 0.9429119, 0.9429221, 0.9429119, 0.94289166, 0.9429119, 0.9429119, 0.94293225, 0.9429018, 0.9428815, 0.94293225, 0.94287133, 0.94289166, 0.9429018, 0.9429119, 0.94289166, 0.94289166, 0.94293225, 0.9429018, 0.94289166, 0.9429119, 0.94287133, 0.9429018, 0.94289166, 0.94293225, 0.9429424, 0.9429221, 0.9428612, 0.9429018, 0.9429018, 0.9429018, 0.9429525, 0.9429119, 0.9429424, 0.94297284, 0.94293225, 0.9429018, 0.94293225, 0.94289166, 0.9429424, 0.9428815, 0.94287133, 0.9429525, 0.9429424, 0.9429424, 0.9429221, 0.94289166, 0.9429525, 0.94293225, 0.942983, 0.9429627, 0.9429221, 0.942983, 0.94293225, 0.9429221, 0.9429424, 0.94285107, 0.94303375, 0.9430033, 0.9430134, 0.94306415, 0.94306415, 0.9429424, 0.94302356, 0.94303375, 0.94293225, 0.94289166, 0.94299316, 0.9431048, 0.9429119, 0.9431555, 0.9430439, 0.9429525, 0.94312507, 0.9430845, 0.94321644, 0.9431352, 0.94320625, 0.9431961, 0.9431961, 0.94321644, 0.9434701, 0.94340926, 0.9432976, 0.94328743, 0.9435615, 0.9437949, 0.9435209, 0.9435209, 0.9436528, 0.94354117, 0.943734, 0.9440791, 0.94353104, 0.94368327, 0.9442516, 0.9442922, 0.9438862, 0.9441095, 0.94424146, 0.9440588, 0.9442922, 0.9443328, 0.94408923, 0.9440791, 0.9438456, 0.9443531, 0.94428205, 0.9445764, 0.94460684, 0.94451547, 0.9447692, 0.94464743, 0.94493157, 0.94502294, 0.9449519, 0.9449519, 0.94492143, 0.94455606, 0.9450432, 0.9453781, 0.9455304, 0.9457537, 0.94535786, 0.9452259, 0.9459262, 0.94563186, 0.94564205, 0.9454086, 0.9451853, 0.9453274, 0.94545937, 0.9460784, 0.9461596, 0.9460277, 0.9463525, 0.94613934, 0.946728]]\n",
      "2 orange [[0.5245528519153595, 0.3991781026124954, 0.3668197691440582, 0.3551277220249176, 0.3518206626176834, 0.34616488218307495, 0.3419492840766907, 0.33443284034729004, 0.33066555857658386, 0.32583506405353546, 0.32122446596622467, 0.3148536682128906, 0.31213386356830597, 0.30558422207832336, 0.2998656630516052, 0.29390233755111694, 0.2889121174812317, 0.28418979048728943, 0.2775009423494339, 0.2723364382982254, 0.26720118522644043, 0.2618085741996765, 0.25693927705287933, 0.25264136493206024, 0.2478051632642746, 0.24684765934944153, 0.24395425617694855, 0.2443295642733574, 0.242353655397892, 0.24055206775665283, 0.23777073621749878, 0.2369808927178383, 0.23596765100955963, 0.2341436967253685, 0.23334506154060364, 0.23043818771839142, 0.2278892919421196, 0.22696417570114136, 0.22795014083385468, 0.22717375308275223, 0.2252131626009941, 0.2228567823767662, 0.22077424824237823, 0.22015471756458282, 0.21983082592487335, 0.21953565627336502, 0.22095190733671188, 0.2177240028977394, 0.21668117493391037, 0.215008445084095, 0.2148965448141098, 0.2143370658159256, 0.21277309954166412, 0.2119785100221634, 0.2119281068444252, 0.21267523616552353, 0.21302533894777298, 0.21147917956113815, 0.20803534984588623, 0.20816531032323837, 0.20725170522928238, 0.2069452553987503, 0.20736335963010788, 0.20708758383989334, 0.20625613629817963, 0.2046499252319336, 0.20352254062891006, 0.2037736475467682, 0.20270715653896332, 0.20359132438898087, 0.2033260464668274, 0.20244204252958298, 0.20049282163381577, 0.20002180337905884, 0.1991373673081398, 0.1984582394361496, 0.19752296060323715, 0.1984158456325531, 0.19938018918037415, 0.19770221412181854, 0.196808859705925, 0.19503875076770782, 0.19380933791399002, 0.19422317296266556, 0.1945165991783142, 0.19694095104932785, 0.1972077637910843, 0.19384179264307022, 0.19107471406459808, 0.19043001532554626, 0.18995361775159836, 0.1902754157781601, 0.19289061427116394, 0.19100697338581085, 0.1894259825348854, 0.18839339911937714, 0.1881348043680191, 0.1885232776403427, 0.1888570934534073, 0.18732650578022003, 0.18635104596614838, 0.18549448251724243, 0.18561089038848877, 0.1859908178448677, 0.18521376699209213, 0.18539198487997055, 0.184969000518322, 0.18464624136686325, 0.18418709188699722, 0.1827462762594223, 0.18189025670289993, 0.18210439383983612, 0.18203570693731308, 0.18092190474271774, 0.17981144785881042, 0.17939786612987518, 0.17991343140602112, 0.17997293919324875, 0.17908452451229095, 0.17881816625595093, 0.18010305613279343, 0.17924928665161133, 0.17794012278318405, 0.1780107244849205, 0.17631929367780685, 0.17524325847625732, 0.17545617371797562, 0.17462820559740067, 0.17568408697843552, 0.17468325793743134, 0.17599695175886154, 0.1750457063317299, 0.1732962429523468, 0.17245878279209137, 0.1721971407532692, 0.17175693064928055, 0.17208201438188553, 0.1733197495341301, 0.1732301563024521, 0.17190199345350266, 0.17078910768032074, 0.17086723446846008, 0.16950944066047668, 0.16933035105466843, 0.16965963691473007, 0.16949815303087234, 0.16943535208702087, 0.16916358470916748, 0.16767369210720062, 0.1684328243136406, 0.16728729009628296, 0.1671305075287819, 0.16823770850896835, 0.16709833592176437, 0.16711345314979553, 0.1654246598482132, 0.16455432027578354, 0.16348180919885635, 0.16347433626651764, 0.16343311220407486, 0.16401411592960358, 0.16472487151622772, 0.16473103314638138, 0.16571179777383804, 0.16498122364282608, 0.1639525592327118, 0.16257868707180023, 0.163532555103302, 0.16289208829402924, 0.162947379052639, 0.1612931787967682, 0.1613948941230774, 0.16145914793014526, 0.16208288073539734, 0.16211622953414917, 0.1605205088853836, 0.15949007123708725, 0.15913483500480652, 0.1592903807759285, 0.1588992327451706, 0.1591918095946312, 0.15942344069480896, 0.1592438817024231, 0.16064782440662384, 0.15887562185525894, 0.15655485540628433, 0.15633509308099747, 0.15542129427194595, 0.158346988260746, 0.15970581024885178, 0.15816748142242432, 0.15753895044326782, 0.15731947124004364, 0.1571573168039322, 0.15725607424974442, 0.15625450760126114, 0.1547093763947487, 0.1539181023836136, 0.1532157137989998, 0.1531120240688324], [0.8451163, 0.9373503, 0.9419884, 0.9426379, 0.9427699, 0.9427597, 0.9428612, 0.9429018, 0.9428815, 0.9429119, 0.9429018, 0.9429119, 0.9429221, 0.9429221, 0.9429119, 0.9429221, 0.9429221, 0.9429119, 0.94293225, 0.9429221, 0.9429221, 0.9429221, 0.9429221, 0.9429119, 0.9429018, 0.9429119, 0.9429018, 0.94289166, 0.9429119, 0.9429018, 0.94293225, 0.9429221, 0.9429119, 0.9429119, 0.94293225, 0.9429119, 0.94293225, 0.9429018, 0.9429221, 0.9429018, 0.9429119, 0.9429221, 0.9429018, 0.9429119, 0.94289166, 0.9429018, 0.9429119, 0.9429018, 0.9429119, 0.9429221, 0.9429221, 0.9428815, 0.9429119, 0.9429119, 0.9429119, 0.9429119, 0.9428815, 0.94293225, 0.9429018, 0.9429221, 0.94293225, 0.9429221, 0.9429119, 0.9429119, 0.9429221, 0.9429119, 0.94289166, 0.9429119, 0.9429119, 0.94293225, 0.9429018, 0.9428815, 0.94293225, 0.94287133, 0.94289166, 0.9429018, 0.9429119, 0.94289166, 0.94289166, 0.94293225, 0.9429018, 0.94289166, 0.9429119, 0.94287133, 0.9429018, 0.94289166, 0.94293225, 0.9429424, 0.9429221, 0.9428612, 0.9429018, 0.9429018, 0.9429018, 0.9429525, 0.9429119, 0.9429424, 0.94297284, 0.94293225, 0.9429018, 0.94293225, 0.94289166, 0.9429424, 0.9428815, 0.94287133, 0.9429525, 0.9429424, 0.9429424, 0.9429221, 0.94289166, 0.9429525, 0.94293225, 0.942983, 0.9429627, 0.9429221, 0.942983, 0.94293225, 0.9429221, 0.9429424, 0.94285107, 0.94303375, 0.9430033, 0.9430134, 0.94306415, 0.94306415, 0.9429424, 0.94302356, 0.94303375, 0.94293225, 0.94289166, 0.94299316, 0.9431048, 0.9429119, 0.9431555, 0.9430439, 0.9429525, 0.94312507, 0.9430845, 0.94321644, 0.9431352, 0.94320625, 0.9431961, 0.9431961, 0.94321644, 0.9434701, 0.94340926, 0.9432976, 0.94328743, 0.9435615, 0.9437949, 0.9435209, 0.9435209, 0.9436528, 0.94354117, 0.943734, 0.9440791, 0.94353104, 0.94368327, 0.9442516, 0.9442922, 0.9438862, 0.9441095, 0.94424146, 0.9440588, 0.9442922, 0.9443328, 0.94408923, 0.9440791, 0.9438456, 0.9443531, 0.94428205, 0.9445764, 0.94460684, 0.94451547, 0.9447692, 0.94464743, 0.94493157, 0.94502294, 0.9449519, 0.9449519, 0.94492143, 0.94455606, 0.9450432, 0.9453781, 0.9455304, 0.9457537, 0.94535786, 0.9452259, 0.9459262, 0.94563186, 0.94564205, 0.9454086, 0.9451853, 0.9453274, 0.94545937, 0.9460784, 0.9461596, 0.9460277, 0.9463525, 0.94613934, 0.946728]]\n"
     ]
    },
    {
     "data": {
      "image/png": "[encoded data removed]",
      "text/plain": [
       "<Figure size 1440x288 with 2 Axes>"
      ]
     },
     "metadata": {
      "needs_background": "light"
     },
     "output_type": "display_data"
    }
   ],
   "source": [
    "print(history2.history.keys())\n",
    "coul = [\"blue\", \"lightblue\", \"orange\", \"red\"]\n",
    "\n",
    "fig = plt.figure(figsize=(20,4))\n",
    "_ = plt.subplot(1,2,1)\n",
    "for i in range(0,4,2):\n",
    "    print(i,coul[i], list(history2.history.values()))\n",
    "    #_ = plt.plot(list(history2.history.values())[i],'k-o', color=coul[i])\n",
    "    _ = plt.plot(list(history2.history.values())[0],'k-o', color=coul[i])\n",
    "_ = plt.subplot(1,2,2)\n",
    "for j in range(1,4,2):\n",
    "    _ = plt.plot(list(history2.history.values())[1],'k-o', color=coul[j])\n",
    "    "
   ]
  },
  {
   "cell_type": "code",
   "execution_count": 165,
   "metadata": {
    "ExecuteTime": {
     "end_time": "2020-03-18T12:44:20.257581Z",
     "start_time": "2020-03-18T12:44:13.505873Z"
    },
    "slideshow": {
     "slide_type": "skip"
    }
   },
   "outputs": [
    {
     "name": "stdout",
     "output_type": "stream",
     "text": [
      "Test loss: 0.164887934923172\n",
      "Test accuracy: 0.9483682513237\n",
      "[0 0 0 0 0 0 0 0 0 0 0 0 0 0 0 0 0 0 0 0 0 0 0 0 0 0 0 0 0 0 0 0 0 0 0 0 0\n",
      " 0 0 0 0 0 0 0 0 0 0 0 0 0 0 0 0 0 0 0 0 0 0 0 0 0 0 0 0 0 0 0 0 0 0 0 0 0\n",
      " 0 0 0 0 0 0 0 0 0 0 0 0 0 0 0 0 0 0 0 0 0 0 0 0 0 0]\n",
      "(6159, 2) <class 'pandas.core.frame.DataFrame'>\n"
     ]
    },
    {
     "data": {
      "image/png": "[encoded data removed]",
      "text/plain": [
       "<Figure size 864x432 with 2 Axes>"
      ]
     },
     "metadata": {
      "needs_background": "light"
     },
     "output_type": "display_data"
    }
   ],
   "source": [
    "# RESULTATS\n",
    "\n",
    "if dim == 2:\n",
    "    score = model2.evaluate(test_data, test_labels, verbose=0, batch_size=batch_size)\n",
    "    classes = model2.predict(test_data, batch_size=batch_size)\n",
    "    predictions = model2.predict(test_data[:10])\n",
    "if dim == 4:\n",
    "    score = model2.evaluate(test_data, test_labels, verbose=0, steps=batch_size)\n",
    "    classes = model2.predict(test_data, steps=batch_size)\n",
    "    predictions = model2.predict(test_data[:100], steps=batch_size)\n",
    "    \n",
    "print('Test loss:', score[0])\n",
    "print('Test accuracy:', score[1])\n",
    "\n",
    "# predictions\n",
    " #predictions = model2.predict_classes(test_data[:10])\n",
    "print(np.argmax(predictions, axis=1))\n",
    "print(test_labels.shape, type(test_labels))\n",
    "\n",
    "######## TypeError: '(slice(None, 100, None), slice(0, 1, None))' is an invalid key\n",
    "#print(test_labels[:100,0:1])\n",
    "\n",
    "# PLOTS\n",
    "fig = plt.figure(figsize=(12,6))\n",
    "_ = plt.subplot(2,1,1)\n",
    "_ = plt.plot(history2.history['accuracy'])\n",
    "if dim == 2:\n",
    "    _ = plt.plot(history2.history['val_accuracy'])\n",
    "_ = plt.title('model accuracy')\n",
    "_ = plt.xlabel('epoch')\n",
    "_ = plt.ylabel('accuracy')\n",
    "_ = plt.legend(['train','test'], loc='lower right')\n",
    "\n",
    "_ = plt.subplot(2,1,2)\n",
    "_ = plt.plot(history2.history['loss'])\n",
    "if dim == 2:\n",
    "    _ = plt.plot(history2.history['val_loss'])\n",
    "_ = plt.title('model loss')\n",
    "_ = plt.xlabel('epoch')\n",
    "_ = plt.ylabel('loss')\n",
    "_ = plt.legend(['train','test'], loc='upper right')\n",
    "\n",
    "_ = plt.tight_layout()\n",
    "_ = fig\n"
   ]
  },
  {
   "cell_type": "markdown",
   "metadata": {
    "slideshow": {
     "slide_type": "skip"
    }
   },
   "source": [
    "### Matrice de confusion"
   ]
  },
  {
   "cell_type": "code",
   "execution_count": 166,
   "metadata": {
    "ExecuteTime": {
     "end_time": "2020-03-18T12:44:22.833889Z",
     "start_time": "2020-03-18T12:44:22.753521Z"
    },
    "slideshow": {
     "slide_type": "skip"
    }
   },
   "outputs": [
    {
     "name": "stdout",
     "output_type": "stream",
     "text": [
      "(24633, 10, 10, 2) (24633, 2) (24632, 2)\n"
     ]
    },
    {
     "data": {
      "text/html": [
       "<div>\n",
       "<style scoped>\n",
       "    .dataframe tbody tr th:only-of-type {\n",
       "        vertical-align: middle;\n",
       "    }\n",
       "\n",
       "    .dataframe tbody tr th {\n",
       "        vertical-align: top;\n",
       "    }\n",
       "\n",
       "    .dataframe thead th {\n",
       "        text-align: right;\n",
       "    }\n",
       "</style>\n",
       "<table border=\"1\" class=\"dataframe\">\n",
       "  <thead>\n",
       "    <tr style=\"text-align: right;\">\n",
       "      <th></th>\n",
       "      <th>0</th>\n",
       "      <th>1</th>\n",
       "    </tr>\n",
       "  </thead>\n",
       "  <tbody>\n",
       "    <tr>\n",
       "      <th>0</th>\n",
       "      <td>1.0</td>\n",
       "      <td>0.0</td>\n",
       "    </tr>\n",
       "    <tr>\n",
       "      <th>1</th>\n",
       "      <td>1.0</td>\n",
       "      <td>0.0</td>\n",
       "    </tr>\n",
       "    <tr>\n",
       "      <th>2</th>\n",
       "      <td>1.0</td>\n",
       "      <td>0.0</td>\n",
       "    </tr>\n",
       "    <tr>\n",
       "      <th>3</th>\n",
       "      <td>1.0</td>\n",
       "      <td>0.0</td>\n",
       "    </tr>\n",
       "    <tr>\n",
       "      <th>4</th>\n",
       "      <td>1.0</td>\n",
       "      <td>0.0</td>\n",
       "    </tr>\n",
       "    <tr>\n",
       "      <th>...</th>\n",
       "      <td>...</td>\n",
       "      <td>...</td>\n",
       "    </tr>\n",
       "    <tr>\n",
       "      <th>30435</th>\n",
       "      <td>0.0</td>\n",
       "      <td>1.0</td>\n",
       "    </tr>\n",
       "    <tr>\n",
       "      <th>30436</th>\n",
       "      <td>0.0</td>\n",
       "      <td>1.0</td>\n",
       "    </tr>\n",
       "    <tr>\n",
       "      <th>30437</th>\n",
       "      <td>0.0</td>\n",
       "      <td>1.0</td>\n",
       "    </tr>\n",
       "    <tr>\n",
       "      <th>30438</th>\n",
       "      <td>0.0</td>\n",
       "      <td>1.0</td>\n",
       "    </tr>\n",
       "    <tr>\n",
       "      <th>30439</th>\n",
       "      <td>0.0</td>\n",
       "      <td>1.0</td>\n",
       "    </tr>\n",
       "  </tbody>\n",
       "</table>\n",
       "<p>24633 rows × 2 columns</p>\n",
       "</div>"
      ],
      "text/plain": [
       "         0    1\n",
       "0      1.0  0.0\n",
       "1      1.0  0.0\n",
       "2      1.0  0.0\n",
       "3      1.0  0.0\n",
       "4      1.0  0.0\n",
       "...    ...  ...\n",
       "30435  0.0  1.0\n",
       "30436  0.0  1.0\n",
       "30437  0.0  1.0\n",
       "30438  0.0  1.0\n",
       "30439  0.0  1.0\n",
       "\n",
       "[24633 rows x 2 columns]"
      ]
     },
     "execution_count": 166,
     "metadata": {},
     "output_type": "execute_result"
    }
   ],
   "source": [
    "print(data_x0.shape, y0[:].shape, y0[1:].shape)\n",
    "y0[:]\n"
   ]
  },
  {
   "cell_type": "code",
   "execution_count": 167,
   "metadata": {
    "ExecuteTime": {
     "end_time": "2020-03-18T12:44:25.258317Z",
     "start_time": "2020-03-18T12:44:25.188091Z"
    },
    "slideshow": {
     "slide_type": "skip"
    }
   },
   "outputs": [
    {
     "name": "stdout",
     "output_type": "stream",
     "text": [
      "(6159, 10, 10, 2) (6159, 2)\n"
     ]
    }
   ],
   "source": [
    "print(test_data.shape, test_labels[:].shape)\n"
   ]
  },
  {
   "cell_type": "code",
   "execution_count": 168,
   "metadata": {
    "ExecuteTime": {
     "end_time": "2020-03-18T12:44:41.584121Z",
     "start_time": "2020-03-18T12:44:27.688856Z"
    },
    "slideshow": {
     "slide_type": "slide"
    }
   },
   "outputs": [
    {
     "name": "stdout",
     "output_type": "stream",
     "text": [
      "start tensor 4D\n",
      "Echantillon Train: (24633, 10, 10, 2) 24633 24633\n",
      "Echantillon Test: 6159 6159\n",
      "(24633,) (24633, 1) (6159,) (6159, 1)\n",
      "SOMME réelle:  1406.0 353.0\n",
      "SOMME prédite: 296.0 61.0\n",
      "Pourcentages:\n",
      "Train: 21.05 %\n",
      "Test: 17.28 %\n"
     ]
    },
    {
     "data": {
      "text/plain": [
       "[(2.0, -1.0), (-1.0, 2.0)]"
      ]
     },
     "execution_count": 168,
     "metadata": {},
     "output_type": "execute_result"
    },
    {
     "data": {
      "image/png": "[encoded data removed]",
      "text/plain": [
       "<Figure size 360x360 with 2 Axes>"
      ]
     },
     "metadata": {
      "needs_background": "light"
     },
     "output_type": "display_data"
    }
   ],
   "source": [
    "\n",
    "# transforme les matrice en listes d'entiers binaires (0 ou 1)\n",
    "if dim == 2:\n",
    "    print(\"start matrice 2D\")\n",
    "    Y01 = pd.DataFrame(model2.predict(train_data, steps=batch_size)[:,1:])[0].round(0).tolist()\n",
    "    Y11 = pd.DataFrame(model2.predict(test_data, steps=batch_size)[:,1:])[0].round(0).tolist()\n",
    "    Y00 = pd.DataFrame(train_labels[:,1:])[0].tolist()\n",
    "    Y10 = pd.DataFrame(test_labels[:,1:])[0].tolist()\n",
    "    \n",
    "if dim == 4:\n",
    "    print(\"start tensor 4D\")\n",
    "    Y01 = model2.predict(train_data, steps=batch_size)[:].round(0).tolist()\n",
    "    Y11 = model2.predict(test_data, steps=batch_size)[:].round(0).tolist()\n",
    "    Y00 = train_labels[:]\n",
    "    Y10 = test_labels[:]\n",
    "#    Y10 = test_labels[1:].numpy().tolist()\n",
    "\n",
    "print(\"Echantillon Train:\", train_data.shape, len(Y00), len(Y01))\n",
    "#confusion_matrix(Y01, Y00)\n",
    "\n",
    "print(\"Echantillon Test:\", len(Y10), len(Y11))\n",
    "#confusion_matrix(Y11, Y10)\n",
    "if dim == 2:\n",
    "    y_reel = pd.Series(Y10, name='Reel_test')\n",
    "    y_pred = pd.Series(Y11, name='Prédit_test')\n",
    "if dim == 4:\n",
    "#    y_reel = test_labels[1:].numpy()\n",
    "    y_reel0 = train_labels[1]\n",
    "    y_pred0 = model2.predict(train_data, steps=batch_size).round(0)[:,1:]\n",
    "    y_reel = test_labels[1]\n",
    "    y_pred = model2.predict(test_data, steps=batch_size).round(0)[:,1:]\n",
    "\n",
    "if dim == 2:\n",
    "   #df_confusion = pd.crosstab(y_reel, y_pred, rownames=['Reel_test'], colnames=['Predit_test'], margins=True)\n",
    "   print(\"\\n\", df_confusion)\n",
    "\n",
    "print(y_reel0.shape, y_pred0.shape, y_reel.shape, y_pred.shape,)\n",
    "print(\"SOMME réelle: \", y_reel0.sum(), y_reel.sum())\n",
    "print(\"SOMME prédite:\", y_pred0.sum(), y_pred.sum())\n",
    "\n",
    "print(\"Pourcentages:\")\n",
    "print(\"Train:\", round(y_pred0.sum() / y_reel0.sum()* 100, 2),\"%\")\n",
    "print(\"Test:\", round(y_pred.sum() / y_reel.sum()* 100, 2),\"%\")\n",
    "#\n",
    "##################\n",
    "#fig, ax = matplotlib.pyplot.subplots(1)\n",
    "#ax.set_yticks([0, 1])\n",
    "#ax.set_yticklabels([\"0\", \"1\"])\n",
    "##################\n",
    "#scikitplot.metrics.plot_confusion_matrix(\n",
    "#y_true, y_pred, labels=None, true_labels=None, pred_labels=None, \n",
    "#title=None, normalize=False, hide_zeros=False, hide_counts=False, \n",
    "#x_tick_rotation=0, ax=None, figsize=None, cmap='Blues', \n",
    "#title_fontsize='large', text_fontsize='medium')\n",
    "ax = skplt.metrics.plot_confusion_matrix(y_reel, y_pred,\n",
    "            figsize=(5,5), hide_counts=False )\n",
    "\n",
    "ax.set(xlim=(-1, 2), ylim=(2, -1))\n",
    "#ax.set(xlim=(0, 1), ylim=(1,0))\n",
    "#ax.set_yticks([0, 1])\n",
    "#print(\"AXES:\", ax)\n",
    "plt.show()\n",
    "#\n",
    "#df_conf_norm = df_confusion / df_confusion.sum(axis=1)\n",
    "#print(\"\\n\", df_conf_norm)\n",
    "#df_conf_norm = df_confusion.div(df_confusion.sum(axis=1), axis=0)\n",
    "#print(\"\\n\", df_conf_norm)\n",
    "\n",
    "#skplt.metrics.plot_roc(y_test, y_pred)\n",
    "#plt.show()\n",
    "#_ = sns.heatmap(df_confusion, annot=True)\n",
    "#plt.show()\n",
    "#_ = sns.heatmap(df_conf_norm, annot=True)\n",
    "#plt.show()"
   ]
  },
  {
   "cell_type": "code",
   "execution_count": 169,
   "metadata": {
    "ExecuteTime": {
     "end_time": "2020-03-18T12:45:06.249928Z",
     "start_time": "2020-03-18T12:45:06.140586Z"
    },
    "slideshow": {
     "slide_type": "skip"
    }
   },
   "outputs": [
    {
     "name": "stdout",
     "output_type": "stream",
     "text": [
      "(24633,) (24633, 1) (6159,) (6159, 1)\n",
      "SOMME réelle:  1406.0 353.0\n",
      "SOMME prédite: 296.0 61.0\n",
      "Pourcentages:\n",
      "Train: 21.05 %\n",
      "Test: 17.28 %\n",
      "\n",
      " Pourcentages:\n",
      "Valeurs: 23141 1196 86 210\n",
      "Train 0: 99.63 %\n",
      "Train 1:  14.94 %\n",
      "Pourcentages:\n",
      "Valeurs: 5792 306 14 47\n",
      "Test 0: 99.76 %\n",
      "Test 1:  13.31 %\n"
     ]
    }
   ],
   "source": [
    "#print(y_reel)\n",
    "print(y_reel0.shape, y_pred0.shape, y_reel.shape, y_pred.shape,)\n",
    "print(\"SOMME réelle: \", y_reel0.sum(), y_reel.sum())\n",
    "print(\"SOMME prédite:\", y_pred0.sum(), y_pred.sum())\n",
    "\n",
    "print(\"Pourcentages:\")\n",
    "print(\"Train:\", round(y_pred0.sum() / y_reel0.sum()* 100, 2),\"%\")\n",
    "print(\"Test:\", round(y_pred.sum() / y_reel.sum()* 100, 2),\"%\")\n",
    "\n",
    "df_res0 = pd.DataFrame(y_reel0).reset_index().rename(columns={1: \"reel\"})\n",
    "df_res0['pred'] = pd.DataFrame(y_pred0)\n",
    "df_res0['diff'] = df_res0['pred'] - df_res0['reel']\n",
    "val0_00 = len(df_res0[(df_res0['pred'] == 0) & (df_res0['reel'] == 0)])\n",
    "val0_01 = len(df_res0[(df_res0['pred'] == 0) & (df_res0['reel'] == 1)])\n",
    "val0_10 = len(df_res0[(df_res0['pred'] == 1) & (df_res0['reel'] == 0)])\n",
    "val0_11 = len(df_res0[(df_res0['pred'] == 1) & (df_res0['reel'] == 1)])\n",
    "\n",
    "print(\"\\n Pourcentages:\")\n",
    "print('Valeurs:', val0_00, val0_01, val0_10, val0_11)\n",
    "print(\"Train 0:\", round(val0_00 / (val0_00+val0_10)* 100, 2),\"%\")\n",
    "print(\"Train 1: \", round(val0_11 / (val0_01+val0_11)* 100, 2),\"%\")\n",
    "\n",
    "df_res = pd.DataFrame(y_reel).reset_index().rename(columns={1: \"reel\"})\n",
    "df_res['pred'] = pd.DataFrame(y_pred)\n",
    "df_res['diff'] = df_res['pred'] - df_res['reel']\n",
    "val_00 = len(df_res[(df_res['pred'] == 0) & (df_res['reel'] == 0)])\n",
    "val_01 = len(df_res[(df_res['pred'] == 0) & (df_res['reel'] == 1)])\n",
    "val_10 = len(df_res[(df_res['pred'] == 1) & (df_res['reel'] == 0)])\n",
    "val_11 = len(df_res[(df_res['pred'] == 1) & (df_res['reel'] == 1)])\n",
    "\n",
    "print(\"Pourcentages:\")\n",
    "print('Valeurs:', val_00, val_01, val_10, val_11)\n",
    "print(\"Test 0:\", round(val_00 / (val_00+val_10)* 100, 2),\"%\")\n",
    "print(\"Test 1: \", round(val_11 / (val_01+val_11)* 100, 2),\"%\")"
   ]
  },
  {
   "cell_type": "code",
   "execution_count": null,
   "metadata": {
    "slideshow": {
     "slide_type": "skip"
    }
   },
   "outputs": [],
   "source": []
  },
  {
   "cell_type": "markdown",
   "metadata": {
    "slideshow": {
     "slide_type": "skip"
    }
   },
   "source": [
    "# KERAS hyperparametres"
   ]
  },
  {
   "cell_type": "code",
   "execution_count": 301,
   "metadata": {
    "ExecuteTime": {
     "end_time": "2020-03-02T15:53:14.554788Z",
     "start_time": "2020-03-02T15:53:14.542780Z"
    },
    "slideshow": {
     "slide_type": "skip"
    }
   },
   "outputs": [
    {
     "ename": "SyntaxError",
     "evalue": "invalid syntax (<ipython-input-301-ded477e1019e>, line 19)",
     "output_type": "error",
     "traceback": [
      "\u001b[1;36m  File \u001b[1;32m\"<ipython-input-301-ded477e1019e>\"\u001b[1;36m, line \u001b[1;32m19\u001b[0m\n\u001b[1;33m    dataset =\u001b[0m\n\u001b[1;37m              ^\u001b[0m\n\u001b[1;31mSyntaxError\u001b[0m\u001b[1;31m:\u001b[0m invalid syntax\n"
     ]
    }
   ],
   "source": [
    "from sklearn.model_selection import GridSearchCV\n",
    "\n",
    "from keras.wrappers.scikit_learn import KerasClassifier, KerasRegressor\n",
    "\n",
    "def create_model(neurons=1, optimizer='adam', dropout_rate=0.0, learn_rate=0.01, momentum=0, \n",
    "                 init_mode='uniform', activation='relu', dropout_rate=0.0, weight_constraint=0):\n",
    "    # create model\n",
    "    model = Sequential()\n",
    "    model.add(Dense(neurons, kernel_initializer=init_mode, input_dim=8, activation=activation)'))\n",
    "    model.add(Dropout(dropout_rate))\n",
    "    model.add(Dense(1, kernel_initializer=init_mode, activation='sigmoid'))\n",
    "    # Compile model\n",
    "    optimizer = SGD(lr=learn_rate, momentum=momentum)\n",
    "    model.compile(loss='binary_crossentropy', optimizer=optimizer, metrics=['accuracy'])\n",
    "    return model\n",
    "\n",
    "# fix random seed for reproducibility\n",
    "seed = 42\n",
    "numpy.random.seed(seed)\n",
    "# load dataset\n",
    "\n",
    "dataset = \n",
    "# split into input (X) and output (Y) variables\n",
    "X = dataset\n",
    "Y = dataset\n",
    "\n",
    "# create model\n",
    "model = KerasClassifier(build_fn=create_model, epochs=100, batch_size=10, dropout_rate=0.2, verbose=0)\n",
    "\n",
    "              \n",
    "# define the grid search parameters\n",
    "learn_rate = [0.001, 0.01, 0.1, 0.2, 0.3]\n",
    "momentum = [0.0, 0.2, 0.4, 0.6, 0.8, 0.9]\n",
    "batch_size = [10, 20, 40, 60, 80, 100]\n",
    "epochs = [10, 50, 100]\n",
    "optimizer = ['SGD', 'RMSprop', 'Adagrad', 'Adadelta', 'Adam', 'Adamax', 'Nadam']\n",
    "init_mode = ['uniform', 'lecun_uniform', 'normal', 'zero', 'glorot_normal', 'glorot_uniform', 'he_normal', 'he_uniform']\n",
    "activation = ['softmax', 'softplus', 'softsign', 'relu', 'tanh', 'sigmoid', 'hard_sigmoid', 'linear']\n",
    "weight_constraint = [i for i in range (1, 6, 1)]\n",
    "dropout_rate = [i/10 for i in range (0, 10, 1)]\n",
    "neurons = [1, 5, 10, 15, 20, 25, 30]\n",
    "\n",
    "param_grid = dict(neurons=neurons, learn_rate=learn_rate, momentum=momentum, optimizer=optimizer, \n",
    "                init_mode=init_mode, batch_size=batch_size, epochs=epochs, activation=activation,\n",
    "                dropout_rate=dropout_rate, weight_constraint=weight_constraint)\n",
    "#  score = ???\n",
    "grid = GridSearchCV(estimator=model, param_grid=param_grid, n_jobs=-1, cv=5)   # n_jobs=-1  parallisation\n",
    "grid_result = grid.fit(X, Y)\n",
    "\n",
    "# summarize results ==>  best_score et best_params_\n",
    "print(\"Best: %f using %s\" % (grid_result.best_score_, grid_result.best_params_))\n",
    "means = grid_result.cv_results_['mean_test_score']\n",
    "stds = grid_result.cv_results_['std_test_score']\n",
    "params = grid_result.cv_results_['params']\n",
    "for mean, stdev, param in zip(means, stds, params):\n",
    "    print(\"%f (%f) with: %r\" % (mean, stdev, param))"
   ]
  },
  {
   "cell_type": "code",
   "execution_count": null,
   "metadata": {
    "slideshow": {
     "slide_type": "skip"
    }
   },
   "outputs": [],
   "source": []
  },
  {
   "cell_type": "code",
   "execution_count": null,
   "metadata": {
    "slideshow": {
     "slide_type": "skip"
    }
   },
   "outputs": [],
   "source": []
  },
  {
   "cell_type": "code",
   "execution_count": null,
   "metadata": {
    "slideshow": {
     "slide_type": "skip"
    }
   },
   "outputs": [],
   "source": []
  }
 ],
 "metadata": {
  "anaconda-cloud": {},
  "celltoolbar": "Diaporama",
  "kernelspec": {
   "display_name": "Python 3",
   "language": "python",
   "name": "python3"
  },
  "language_info": {
   "codemirror_mode": {
    "name": "ipython",
    "version": 3
   },
   "file_extension": ".py",
   "mimetype": "text/x-python",
   "name": "python",
   "nbconvert_exporter": "python",
   "pygments_lexer": "ipython3",
   "version": "3.7.6"
  },
  "toc": {
   "base_numbering": 1,
   "nav_menu": {},
   "number_sections": true,
   "sideBar": true,
   "skip_h1_title": false,
   "title_cell": "Table of Contents",
   "title_sidebar": "Contents",
   "toc_cell": false,
   "toc_position": {
    "height": "calc(100% - 180px)",
    "left": "10px",
    "top": "150px",
    "width": "183.8541717529297px"
   },
   "toc_section_display": true,
   "toc_window_display": false
  },
  "varInspector": {
   "cols": {
    "lenName": 16,
    "lenType": 16,
    "lenVar": 40
   },
   "kernels_config": {
    "python": {
     "delete_cmd_postfix": "",
     "delete_cmd_prefix": "del ",
     "library": "var_list.py",
     "varRefreshCmd": "print(var_dic_list())"
    },
    "r": {
     "delete_cmd_postfix": ") ",
     "delete_cmd_prefix": "rm(",
     "library": "var_list.r",
     "varRefreshCmd": "cat(var_dic_list()) "
    }
   },
   "position": {
    "height": "543px",
    "left": "673px",
    "right": "20px",
    "top": "122px",
    "width": "479px"
   },
   "types_to_exclude": [
    "module",
    "function",
    "builtin_function_or_method",
    "instance",
    "_Feature"
   ],
   "window_display": false
  }
 },
 "nbformat": 4,
 "nbformat_minor": 2
}
